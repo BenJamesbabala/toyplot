{
 "cells": [
  {
   "cell_type": "markdown",
   "metadata": {},
   "source": [
    ".. _text:\n",
    "\n",
    "# Text"
   ]
  },
  {
   "cell_type": "markdown",
   "metadata": {},
   "source": [
    "## Alignment\n",
    "\n",
    "By default, text in Toyplot is centered vertically and horizontally around its *anchor*.  To illustrate this, the following figures display the anchor as a small black dot:"
   ]
  },
  {
   "cell_type": "code",
   "execution_count": 1,
   "metadata": {
    "collapsed": false
   },
   "outputs": [
    {
     "data": {
      "text/html": [
       "<div align=\"center\" class=\"toyplot\" id=\"t76e2055c964a4f2bbf77761f497ee20e\"><svg class=\"toyplot-canvas-Canvas\" height=\"150.0px\" id=\"t298b9ea40ba849fa937d25a1a8a3d467\" preserveAspectRatio=\"xMidYMid meet\" style=\"background-color:transparent;fill:rgb(16.1%,15.3%,14.1%);fill-opacity:1.0;font-family:Helvetica;font-size:12px;opacity:1.0;stroke:rgb(16.1%,15.3%,14.1%);stroke-opacity:1.0;stroke-width:1.0\" viewBox=\"0 0 500.0 150.0\" width=\"500.0px\" xmlns=\"http://www.w3.org/2000/svg\" xmlns:toyplot=\"http://www.sandia.gov/toyplot\" xmlns:xlink=\"http://www.w3.org/1999/xlink\"><g class=\"toyplot-coordinates-Cartesian\" id=\"t82cfc251e3a24579891d0b70fddebccd\"><clipPath id=\"t3ec44d1e7ad744be9246f2bb488c5cfe\"><rect height=\"70.0\" width=\"420.0\" x=\"40.0\" y=\"40.0\"></rect></clipPath><g clip-path=\"url(#t3ec44d1e7ad744be9246f2bb488c5cfe)\"><g class=\"toyplot-mark-Text\" id=\"t3fb1a56cf1a843b89de790c6780cfda0\" style=\"alignment-baseline:middle;font-size:24px;font-weight:normal;stroke:none;text-anchor:middle\"><g class=\"toyplot-Series\"><text class=\"toyplot-Datum\" style=\"fill:rgb(40%,76.1%,64.7%);fill-opacity:1.0;font-size:24px;font-weight:normal;opacity:1.0;stroke:none;text-anchor:middle\" transform=\"translate(250.0,75.0)translate(0,6.0)\"><tspan style=\"\">Text!</tspan></text></g></g><g class=\"toyplot-mark-Scatterplot\" id=\"te4fe5a6c9cef4299a918d389f418aab2\" style=\"\"><g class=\"toyplot-Series\"><g class=\"toyplot-Datum\" style=\"fill:rgb(0%,0%,0%);fill-opacity:1.0;opacity:1.0;stroke:rgb(0%,0%,0%);stroke-opacity:1.0\"><circle cx=\"250.0\" cy=\"75.0\" r=\"1.5\"></circle></g></g></g></g></g></svg><div class=\"toyplot-interactive\"><ul class=\"toyplot-mark-popup\" onmouseleave=\"this.style.visibility='hidden'\" style=\"background:rgba(0%,0%,0%,0.75);border:0;border-radius:6px;color:white;cursor:default;list-style:none;margin:0;padding:5px;position:fixed;visibility:hidden\">\n",
       "            <li class=\"toyplot-mark-popup-title\" style=\"color:lightgray;cursor:default;padding:5px;list-style:none;margin:0\"></li>\n",
       "            <li class=\"toyplot-mark-popup-save-csv\" onmouseout=\"this.style.color='white';this.style.background='steelblue'\" onmouseover=\"this.style.color='steelblue';this.style.background='white'\" style=\"border-radius:3px;padding:5px;list-style:none;margin:0\">\n",
       "                Save as .csv\n",
       "            </li>\n",
       "        </ul><script>\n",
       "        (function()\n",
       "        {\n",
       "          var data_tables = [{\"title\": \"Scatterplot Data\", \"names\": [\"x\", \"y0\"], \"id\": \"te4fe5a6c9cef4299a918d389f418aab2\", \"columns\": [[0.0], [0.0]], \"filename\": \"toyplot\"}];\n",
       "\n",
       "          function save_csv(data_table)\n",
       "          {\n",
       "            var uri = \"data:text/csv;charset=utf-8,\";\n",
       "            uri += data_table.names.join(\",\") + \"\\n\";\n",
       "            for(var i = 0; i != data_table.columns[0].length; ++i)\n",
       "            {\n",
       "              for(var j = 0; j != data_table.columns.length; ++j)\n",
       "              {\n",
       "                if(j)\n",
       "                  uri += \",\";\n",
       "                uri += data_table.columns[j][i];\n",
       "              }\n",
       "              uri += \"\\n\";\n",
       "            }\n",
       "            uri = encodeURI(uri);\n",
       "\n",
       "            var link = document.createElement(\"a\");\n",
       "            if(typeof link.download != \"undefined\")\n",
       "            {\n",
       "              link.href = uri;\n",
       "              link.style = \"visibility:hidden\";\n",
       "              link.download = data_table.filename + \".csv\";\n",
       "\n",
       "              document.body.appendChild(link);\n",
       "              link.click();\n",
       "              document.body.removeChild(link);\n",
       "            }\n",
       "            else\n",
       "            {\n",
       "              window.open(uri);\n",
       "            }\n",
       "          }\n",
       "\n",
       "          function open_popup(data_table)\n",
       "          {\n",
       "            return function(e)\n",
       "            {\n",
       "              var popup = document.querySelector(\"#t76e2055c964a4f2bbf77761f497ee20e .toyplot-mark-popup\");\n",
       "              popup.querySelector(\".toyplot-mark-popup-title\").innerHTML = data_table.title;\n",
       "              popup.querySelector(\".toyplot-mark-popup-save-csv\").onclick = function() { popup.style.visibility = \"hidden\"; save_csv(data_table); }\n",
       "              popup.style.left = (e.clientX - 50) + \"px\";\n",
       "              popup.style.top = (e.clientY - 20) + \"px\";\n",
       "              popup.style.visibility = \"visible\";\n",
       "              e.stopPropagation();\n",
       "              e.preventDefault();\n",
       "            }\n",
       "\n",
       "          }\n",
       "\n",
       "          for(var i = 0; i != data_tables.length; ++i)\n",
       "          {\n",
       "            var data_table = data_tables[i];\n",
       "            var event_target = document.querySelector(\"#\" + data_table.id);\n",
       "            event_target.oncontextmenu = open_popup(data_table);\n",
       "          }\n",
       "        })();\n",
       "        </script></div></div>"
      ]
     },
     "metadata": {},
     "output_type": "display_data"
    }
   ],
   "source": [
    "import toyplot\n",
    "\n",
    "canvas = toyplot.Canvas(width=500, height=150)\n",
    "axes = canvas.cartesian(show=False)\n",
    "axes.text(0, 0, \"Text!\", style={\"font-size\":\"24px\"})\n",
    "axes.scatterplot(0, 0, color=\"black\", size=3);"
   ]
  },
  {
   "cell_type": "markdown",
   "metadata": {},
   "source": [
    "To control horizontal alignment, use the CSS `text-anchor` attribute to change the position of the text along its baseline, relative to the anchor:"
   ]
  },
  {
   "cell_type": "code",
   "execution_count": 2,
   "metadata": {
    "collapsed": false
   },
   "outputs": [
    {
     "data": {
      "text/html": [
       "<div align=\"center\" class=\"toyplot\" id=\"t985ad4405e96415698cc2b3f80485c24\"><svg class=\"toyplot-canvas-Canvas\" height=\"300.0px\" id=\"td252a25e8e3640abbbce51e8a4a518fd\" preserveAspectRatio=\"xMidYMid meet\" style=\"background-color:transparent;fill:rgb(16.1%,15.3%,14.1%);fill-opacity:1.0;font-family:Helvetica;font-size:12px;opacity:1.0;stroke:rgb(16.1%,15.3%,14.1%);stroke-opacity:1.0;stroke-width:1.0\" viewBox=\"0 0 500.0 300.0\" width=\"500.0px\" xmlns=\"http://www.w3.org/2000/svg\" xmlns:toyplot=\"http://www.sandia.gov/toyplot\" xmlns:xlink=\"http://www.w3.org/1999/xlink\"><g class=\"toyplot-coordinates-Cartesian\" id=\"td6d9bea8281149cb8533aae1ce84b01e\"><clipPath id=\"t953f545efce84148a74e38106cf62210\"><rect height=\"220.0\" width=\"420.0\" x=\"40.0\" y=\"40.0\"></rect></clipPath><g clip-path=\"url(#t953f545efce84148a74e38106cf62210)\"><g class=\"toyplot-mark-AxisLines\" id=\"tc9bfd3200fa74b3fb44ad0f67e7e8a0f\" style=\"\"><g class=\"toyplot-Series\"><line class=\"toyplot-Datum\" style=\"opacity:1.0;stroke:rgb(82.7%,82.7%,82.7%);stroke-opacity:1.0\" x1=\"256.89655172413791\" x2=\"256.89655172413791\" y1=\"50.0\" y2=\"250.0\"></line></g></g><g class=\"toyplot-mark-Text\" id=\"t193301b18bc4426fbfe958e21bf8f7a6\" style=\"alignment-baseline:middle;font-size:24px;font-weight:normal;stroke:none;text-anchor:middle\"><g class=\"toyplot-Series\"><text class=\"toyplot-Datum\" style=\"fill:rgb(40%,76.1%,64.7%);fill-opacity:1.0;font-size:24px;font-weight:normal;opacity:1.0;stroke:none;text-anchor:middle\" transform=\"translate(256.89655172413791,83.333333333333329)translate(0,6.0)\"><tspan style=\"\">Centered</tspan></text></g></g><g class=\"toyplot-mark-Scatterplot\" id=\"t4179cc5ac707411c9b4ac0c5530bd9ce\" style=\"\"><g class=\"toyplot-Series\"><g class=\"toyplot-Datum\" style=\"fill:rgb(0%,0%,0%);fill-opacity:1.0;opacity:1.0;stroke:rgb(0%,0%,0%);stroke-opacity:1.0\"><circle cx=\"256.89655172413791\" cy=\"83.333333333333329\" r=\"1.5\"></circle></g></g></g><g class=\"toyplot-mark-Text\" id=\"t575b3758f9e54fd384d0e51702a49e18\" style=\"alignment-baseline:middle;font-size:24px;font-weight:normal;stroke:none;text-anchor:start\"><g class=\"toyplot-Series\"><text class=\"toyplot-Datum\" style=\"fill:rgb(98.8%,55.3%,38.4%);fill-opacity:1.0;font-size:24px;font-weight:normal;opacity:1.0;stroke:none;text-anchor:start\" transform=\"translate(256.89655172413791,150.0)translate(0,6.0)\"><tspan style=\"\">Left Justified</tspan></text></g></g><g class=\"toyplot-mark-Scatterplot\" id=\"t73e587e3d2a94ecba1e9029f59a84d1a\" style=\"\"><g class=\"toyplot-Series\"><g class=\"toyplot-Datum\" style=\"fill:rgb(0%,0%,0%);fill-opacity:1.0;opacity:1.0;stroke:rgb(0%,0%,0%);stroke-opacity:1.0\"><circle cx=\"256.89655172413791\" cy=\"150.0\" r=\"1.5\"></circle></g></g></g><g class=\"toyplot-mark-Text\" id=\"t29fabc4f02d34fb3b49613a3d39171d7\" style=\"alignment-baseline:middle;font-size:24px;font-weight:normal;stroke:none;text-anchor:end\"><g class=\"toyplot-Series\"><text class=\"toyplot-Datum\" style=\"fill:rgb(55.3%,62.7%,79.6%);fill-opacity:1.0;font-size:24px;font-weight:normal;opacity:1.0;stroke:none;text-anchor:end\" transform=\"translate(256.89655172413791,216.66666666666669)translate(0,6.0)\"><tspan style=\"\">Right Justified</tspan></text></g></g><g class=\"toyplot-mark-Scatterplot\" id=\"tff874e7d49784707af92063789a20d7e\" style=\"\"><g class=\"toyplot-Series\"><g class=\"toyplot-Datum\" style=\"fill:rgb(0%,0%,0%);fill-opacity:1.0;opacity:1.0;stroke:rgb(0%,0%,0%);stroke-opacity:1.0\"><circle cx=\"256.89655172413791\" cy=\"216.66666666666669\" r=\"1.5\"></circle></g></g></g></g></g></svg><div class=\"toyplot-interactive\"><ul class=\"toyplot-mark-popup\" onmouseleave=\"this.style.visibility='hidden'\" style=\"background:rgba(0%,0%,0%,0.75);border:0;border-radius:6px;color:white;cursor:default;list-style:none;margin:0;padding:5px;position:fixed;visibility:hidden\">\n",
       "            <li class=\"toyplot-mark-popup-title\" style=\"color:lightgray;cursor:default;padding:5px;list-style:none;margin:0\"></li>\n",
       "            <li class=\"toyplot-mark-popup-save-csv\" onmouseout=\"this.style.color='white';this.style.background='steelblue'\" onmouseover=\"this.style.color='steelblue';this.style.background='white'\" style=\"border-radius:3px;padding:5px;list-style:none;margin:0\">\n",
       "                Save as .csv\n",
       "            </li>\n",
       "        </ul><script>\n",
       "        (function()\n",
       "        {\n",
       "          var data_tables = [{\"title\": \"Scatterplot Data\", \"names\": [\"x\", \"y0\"], \"id\": \"t4179cc5ac707411c9b4ac0c5530bd9ce\", \"columns\": [[0.0], [1.0]], \"filename\": \"toyplot\"}, {\"title\": \"Scatterplot Data\", \"names\": [\"x\", \"y0\"], \"id\": \"t73e587e3d2a94ecba1e9029f59a84d1a\", \"columns\": [[0.0], [0.0]], \"filename\": \"toyplot\"}, {\"title\": \"Scatterplot Data\", \"names\": [\"x\", \"y0\"], \"id\": \"tff874e7d49784707af92063789a20d7e\", \"columns\": [[0.0], [-1.0]], \"filename\": \"toyplot\"}];\n",
       "\n",
       "          function save_csv(data_table)\n",
       "          {\n",
       "            var uri = \"data:text/csv;charset=utf-8,\";\n",
       "            uri += data_table.names.join(\",\") + \"\\n\";\n",
       "            for(var i = 0; i != data_table.columns[0].length; ++i)\n",
       "            {\n",
       "              for(var j = 0; j != data_table.columns.length; ++j)\n",
       "              {\n",
       "                if(j)\n",
       "                  uri += \",\";\n",
       "                uri += data_table.columns[j][i];\n",
       "              }\n",
       "              uri += \"\\n\";\n",
       "            }\n",
       "            uri = encodeURI(uri);\n",
       "\n",
       "            var link = document.createElement(\"a\");\n",
       "            if(typeof link.download != \"undefined\")\n",
       "            {\n",
       "              link.href = uri;\n",
       "              link.style = \"visibility:hidden\";\n",
       "              link.download = data_table.filename + \".csv\";\n",
       "\n",
       "              document.body.appendChild(link);\n",
       "              link.click();\n",
       "              document.body.removeChild(link);\n",
       "            }\n",
       "            else\n",
       "            {\n",
       "              window.open(uri);\n",
       "            }\n",
       "          }\n",
       "\n",
       "          function open_popup(data_table)\n",
       "          {\n",
       "            return function(e)\n",
       "            {\n",
       "              var popup = document.querySelector(\"#t985ad4405e96415698cc2b3f80485c24 .toyplot-mark-popup\");\n",
       "              popup.querySelector(\".toyplot-mark-popup-title\").innerHTML = data_table.title;\n",
       "              popup.querySelector(\".toyplot-mark-popup-save-csv\").onclick = function() { popup.style.visibility = \"hidden\"; save_csv(data_table); }\n",
       "              popup.style.left = (e.clientX - 50) + \"px\";\n",
       "              popup.style.top = (e.clientY - 20) + \"px\";\n",
       "              popup.style.visibility = \"visible\";\n",
       "              e.stopPropagation();\n",
       "              e.preventDefault();\n",
       "            }\n",
       "\n",
       "          }\n",
       "\n",
       "          for(var i = 0; i != data_tables.length; ++i)\n",
       "          {\n",
       "            var data_table = data_tables[i];\n",
       "            var event_target = document.querySelector(\"#\" + data_table.id);\n",
       "            event_target.oncontextmenu = open_popup(data_table);\n",
       "          }\n",
       "        })();\n",
       "        </script></div></div>"
      ]
     },
     "metadata": {},
     "output_type": "display_data"
    }
   ],
   "source": [
    "canvas = toyplot.Canvas(width=500, height=300)\n",
    "axes = canvas.cartesian(show=False, ymin=-1.5, ymax=1.5)\n",
    "\n",
    "axes.vlines(0, color=\"lightgray\")\n",
    "\n",
    "axes.text(0, 1, \"Centered\", style={\"text-anchor\":\"middle\", \"font-size\":\"24px\"})\n",
    "axes.scatterplot(0, 1, color=\"black\", size=3)\n",
    "\n",
    "axes.text(0, 0, \"Left Justified\", style={\"text-anchor\":\"start\", \"font-size\":\"24px\"})\n",
    "axes.scatterplot(0, 0, color=\"black\", size=3)\n",
    "\n",
    "axes.text(0, -1, \"Right Justified\", style={\"text-anchor\":\"end\", \"font-size\":\"24px\"})\n",
    "axes.scatterplot(0, -1, color=\"black\", size=3);"
   ]
  },
  {
   "cell_type": "markdown",
   "metadata": {},
   "source": [
    "In addition, the text can be shifted along its baseline in arbitrary amounts, using the `-toyplot-anchor-shift` attribute (note that this is non-standard CSS, provided by Toyplot for symmetry with the standard `baseline-shift` attribute which we will explore below):"
   ]
  },
  {
   "cell_type": "code",
   "execution_count": 3,
   "metadata": {
    "collapsed": false
   },
   "outputs": [
    {
     "data": {
      "text/html": [
       "<div align=\"center\" class=\"toyplot\" id=\"ta3da846fd9c44cbcba0ba678bc7e01d8\"><svg class=\"toyplot-canvas-Canvas\" height=\"300.0px\" id=\"tb2657b9b8a3345d0bdc773b448c4f75e\" preserveAspectRatio=\"xMidYMid meet\" style=\"background-color:transparent;fill:rgb(16.1%,15.3%,14.1%);fill-opacity:1.0;font-family:Helvetica;font-size:12px;opacity:1.0;stroke:rgb(16.1%,15.3%,14.1%);stroke-opacity:1.0;stroke-width:1.0\" viewBox=\"0 0 500.0 300.0\" width=\"500.0px\" xmlns=\"http://www.w3.org/2000/svg\" xmlns:toyplot=\"http://www.sandia.gov/toyplot\" xmlns:xlink=\"http://www.w3.org/1999/xlink\"><g class=\"toyplot-coordinates-Cartesian\" id=\"t27a93271263d4114bb5cb54f8429d798\"><clipPath id=\"t3a4280220efe478aa910b4b6eed6c99c\"><rect height=\"220.0\" width=\"420.0\" x=\"40.0\" y=\"40.0\"></rect></clipPath><g clip-path=\"url(#t3a4280220efe478aa910b4b6eed6c99c)\"><g class=\"toyplot-mark-AxisLines\" id=\"t10b4ae5edcae41dcac70f477f7c785f9\" style=\"\"><g class=\"toyplot-Series\"><line class=\"toyplot-Datum\" style=\"opacity:1.0;stroke:rgb(82.7%,82.7%,82.7%);stroke-opacity:1.0\" x1=\"194.92753623188409\" x2=\"194.92753623188409\" y1=\"50.0\" y2=\"250.0\"></line></g></g><g class=\"toyplot-mark-Text\" id=\"td94af6a61b0e487ab21fcf5a79072e81\" style=\"-toyplot-anchor-shift:0;alignment-baseline:middle;font-size:24px;font-weight:normal;stroke:none;text-anchor:start\"><g class=\"toyplot-Series\"><text class=\"toyplot-Datum\" style=\"fill:rgb(40%,76.1%,64.7%);fill-opacity:1.0;font-size:24px;font-weight:normal;opacity:1.0;stroke:none;text-anchor:start\" transform=\"translate(194.92753623188409,75.0)translate(0,6.0)\"><tspan style=\"\">Shifted +0px</tspan></text></g></g><g class=\"toyplot-mark-Scatterplot\" id=\"t522503fa38fa48e5a31633d5cb9c2d14\" style=\"\"><g class=\"toyplot-Series\"><g class=\"toyplot-Datum\" style=\"fill:rgb(0%,0%,0%);fill-opacity:1.0;opacity:1.0;stroke:rgb(0%,0%,0%);stroke-opacity:1.0\"><circle cx=\"194.92753623188409\" cy=\"75.0\" r=\"1.5\"></circle></g></g></g><g class=\"toyplot-mark-Text\" id=\"t89a683f639d34ff586663611811bc761\" style=\"-toyplot-anchor-shift:20px;alignment-baseline:middle;font-size:24px;font-weight:normal;stroke:none;text-anchor:start\"><g class=\"toyplot-Series\"><text class=\"toyplot-Datum\" style=\"fill:rgb(98.8%,55.3%,38.4%);fill-opacity:1.0;font-size:24px;font-weight:normal;opacity:1.0;stroke:none;text-anchor:start\" transform=\"translate(194.92753623188409,125.0)translate(20.0,6.0)\"><tspan style=\"\">Shifted +20px</tspan></text></g></g><g class=\"toyplot-mark-Scatterplot\" id=\"t4d59b41f9d144e97942e491cacd27bc4\" style=\"\"><g class=\"toyplot-Series\"><g class=\"toyplot-Datum\" style=\"fill:rgb(0%,0%,0%);fill-opacity:1.0;opacity:1.0;stroke:rgb(0%,0%,0%);stroke-opacity:1.0\"><circle cx=\"194.92753623188409\" cy=\"125.0\" r=\"1.5\"></circle></g></g></g><g class=\"toyplot-mark-Text\" id=\"t3b81e67cd48e4d8d9c760bc00f68212d\" style=\"-toyplot-anchor-shift:40px;alignment-baseline:middle;font-size:24px;font-weight:normal;stroke:none;text-anchor:start\"><g class=\"toyplot-Series\"><text class=\"toyplot-Datum\" style=\"fill:rgb(55.3%,62.7%,79.6%);fill-opacity:1.0;font-size:24px;font-weight:normal;opacity:1.0;stroke:none;text-anchor:start\" transform=\"translate(194.92753623188409,175.0)translate(40.0,6.0)\"><tspan style=\"\">Shifted +40px</tspan></text></g></g><g class=\"toyplot-mark-Scatterplot\" id=\"t0b24f882c01d4a898b5c7a2f26d6d36d\" style=\"\"><g class=\"toyplot-Series\"><g class=\"toyplot-Datum\" style=\"fill:rgb(0%,0%,0%);fill-opacity:1.0;opacity:1.0;stroke:rgb(0%,0%,0%);stroke-opacity:1.0\"><circle cx=\"194.92753623188409\" cy=\"175.0\" r=\"1.5\"></circle></g></g></g><g class=\"toyplot-mark-Text\" id=\"td76f493737604e49a08257b3f5baab93\" style=\"-toyplot-anchor-shift:-20px;alignment-baseline:middle;font-size:24px;font-weight:normal;stroke:none;text-anchor:start\"><g class=\"toyplot-Series\"><text class=\"toyplot-Datum\" style=\"fill:rgb(90.6%,54.1%,76.5%);fill-opacity:1.0;font-size:24px;font-weight:normal;opacity:1.0;stroke:none;text-anchor:start\" transform=\"translate(194.92753623188409,225.0)translate(-20.0,6.0)\"><tspan style=\"\">Shifted -20px</tspan></text></g></g><g class=\"toyplot-mark-Scatterplot\" id=\"t6470d153ae2245f784fe385c960ef4e2\" style=\"\"><g class=\"toyplot-Series\"><g class=\"toyplot-Datum\" style=\"fill:rgb(0%,0%,0%);fill-opacity:1.0;opacity:1.0;stroke:rgb(0%,0%,0%);stroke-opacity:1.0\"><circle cx=\"194.92753623188409\" cy=\"225.0\" r=\"1.5\"></circle></g></g></g></g></g></svg><div class=\"toyplot-interactive\"><ul class=\"toyplot-mark-popup\" onmouseleave=\"this.style.visibility='hidden'\" style=\"background:rgba(0%,0%,0%,0.75);border:0;border-radius:6px;color:white;cursor:default;list-style:none;margin:0;padding:5px;position:fixed;visibility:hidden\">\n",
       "            <li class=\"toyplot-mark-popup-title\" style=\"color:lightgray;cursor:default;padding:5px;list-style:none;margin:0\"></li>\n",
       "            <li class=\"toyplot-mark-popup-save-csv\" onmouseout=\"this.style.color='white';this.style.background='steelblue'\" onmouseover=\"this.style.color='steelblue';this.style.background='white'\" style=\"border-radius:3px;padding:5px;list-style:none;margin:0\">\n",
       "                Save as .csv\n",
       "            </li>\n",
       "        </ul><script>\n",
       "        (function()\n",
       "        {\n",
       "          var data_tables = [{\"title\": \"Scatterplot Data\", \"names\": [\"x\", \"y0\"], \"id\": \"t522503fa38fa48e5a31633d5cb9c2d14\", \"columns\": [[0.0], [1.0]], \"filename\": \"toyplot\"}, {\"title\": \"Scatterplot Data\", \"names\": [\"x\", \"y0\"], \"id\": \"t4d59b41f9d144e97942e491cacd27bc4\", \"columns\": [[0.0], [0.0]], \"filename\": \"toyplot\"}, {\"title\": \"Scatterplot Data\", \"names\": [\"x\", \"y0\"], \"id\": \"t0b24f882c01d4a898b5c7a2f26d6d36d\", \"columns\": [[0.0], [-1.0]], \"filename\": \"toyplot\"}, {\"title\": \"Scatterplot Data\", \"names\": [\"x\", \"y0\"], \"id\": \"t6470d153ae2245f784fe385c960ef4e2\", \"columns\": [[0.0], [-2.0]], \"filename\": \"toyplot\"}];\n",
       "\n",
       "          function save_csv(data_table)\n",
       "          {\n",
       "            var uri = \"data:text/csv;charset=utf-8,\";\n",
       "            uri += data_table.names.join(\",\") + \"\\n\";\n",
       "            for(var i = 0; i != data_table.columns[0].length; ++i)\n",
       "            {\n",
       "              for(var j = 0; j != data_table.columns.length; ++j)\n",
       "              {\n",
       "                if(j)\n",
       "                  uri += \",\";\n",
       "                uri += data_table.columns[j][i];\n",
       "              }\n",
       "              uri += \"\\n\";\n",
       "            }\n",
       "            uri = encodeURI(uri);\n",
       "\n",
       "            var link = document.createElement(\"a\");\n",
       "            if(typeof link.download != \"undefined\")\n",
       "            {\n",
       "              link.href = uri;\n",
       "              link.style = \"visibility:hidden\";\n",
       "              link.download = data_table.filename + \".csv\";\n",
       "\n",
       "              document.body.appendChild(link);\n",
       "              link.click();\n",
       "              document.body.removeChild(link);\n",
       "            }\n",
       "            else\n",
       "            {\n",
       "              window.open(uri);\n",
       "            }\n",
       "          }\n",
       "\n",
       "          function open_popup(data_table)\n",
       "          {\n",
       "            return function(e)\n",
       "            {\n",
       "              var popup = document.querySelector(\"#ta3da846fd9c44cbcba0ba678bc7e01d8 .toyplot-mark-popup\");\n",
       "              popup.querySelector(\".toyplot-mark-popup-title\").innerHTML = data_table.title;\n",
       "              popup.querySelector(\".toyplot-mark-popup-save-csv\").onclick = function() { popup.style.visibility = \"hidden\"; save_csv(data_table); }\n",
       "              popup.style.left = (e.clientX - 50) + \"px\";\n",
       "              popup.style.top = (e.clientY - 20) + \"px\";\n",
       "              popup.style.visibility = \"visible\";\n",
       "              e.stopPropagation();\n",
       "              e.preventDefault();\n",
       "            }\n",
       "\n",
       "          }\n",
       "\n",
       "          for(var i = 0; i != data_tables.length; ++i)\n",
       "          {\n",
       "            var data_table = data_tables[i];\n",
       "            var event_target = document.querySelector(\"#\" + data_table.id);\n",
       "            event_target.oncontextmenu = open_popup(data_table);\n",
       "          }\n",
       "        })();\n",
       "        </script></div></div>"
      ]
     },
     "metadata": {},
     "output_type": "display_data"
    }
   ],
   "source": [
    "canvas = toyplot.Canvas(width=500, height=300)\n",
    "axes = canvas.cartesian(show=False, ymin=-2.5, ymax=1.5)\n",
    "\n",
    "axes.vlines(0, color=\"lightgray\")\n",
    "\n",
    "axes.text(0, 1, \"Shifted +0px\", style={\"-toyplot-anchor-shift\":\"0\", \"text-anchor\":\"start\", \"font-size\":\"24px\"})\n",
    "axes.scatterplot(0, 1, color=\"black\", size=3)\n",
    "\n",
    "axes.text(0, 0, \"Shifted +20px\", style={\"-toyplot-anchor-shift\":\"20px\", \"text-anchor\":\"start\", \"font-size\":\"24px\"})\n",
    "axes.scatterplot(0, 0, color=\"black\", size=3)\n",
    "\n",
    "axes.text(0, -1, \"Shifted +40px\", style={\"-toyplot-anchor-shift\":\"40px\", \"text-anchor\":\"start\", \"font-size\":\"24px\"})\n",
    "axes.scatterplot(0, -1, color=\"black\", size=3);\n",
    "\n",
    "axes.text(0, -2, \"Shifted -20px\", style={\"-toyplot-anchor-shift\":\"-20px\", \"text-anchor\":\"start\", \"font-size\":\"24px\"})\n",
    "axes.scatterplot(0, -2, color=\"black\", size=3);\n"
   ]
  },
  {
   "cell_type": "markdown",
   "metadata": {},
   "source": [
    "Vertically, the text baseline always passes through its anchor point - so to alter the vertical alongment of text, you change the baseline using the CSS `alignment-baseline` attribute.  Note that CSS typography is a complex topic and there are many different types of baseline to accomodate different writing modes and fonts.  The following baselines are the most useful for Western scripts.  Note the subtle difference between the \"central\" and \"middle\" baselines - the former centers upper-case letters in Western scripts while the latter centers lower-case letters, and is the Toyplot default:"
   ]
  },
  {
   "cell_type": "code",
   "execution_count": 4,
   "metadata": {
    "collapsed": false
   },
   "outputs": [
    {
     "data": {
      "text/html": [
       "<div align=\"center\" class=\"toyplot\" id=\"td6a6c5edebf8470c8c8a56ac49016d62\"><svg class=\"toyplot-canvas-Canvas\" height=\"300.0px\" id=\"t77ccefa2463d4182b137b7059459c646\" preserveAspectRatio=\"xMidYMid meet\" style=\"background-color:transparent;fill:rgb(16.1%,15.3%,14.1%);fill-opacity:1.0;font-family:Helvetica;font-size:12px;opacity:1.0;stroke:rgb(16.1%,15.3%,14.1%);stroke-opacity:1.0;stroke-width:1.0\" viewBox=\"0 0 600.0 300.0\" width=\"600.0px\" xmlns=\"http://www.w3.org/2000/svg\" xmlns:toyplot=\"http://www.sandia.gov/toyplot\" xmlns:xlink=\"http://www.w3.org/1999/xlink\"><g class=\"toyplot-coordinates-Cartesian\" id=\"t12d908abb3224c83a2f08834829d03b5\"><clipPath id=\"te9b65490831d44b8b7473a3500fce06e\"><rect height=\"220.0\" width=\"520.0\" x=\"40.0\" y=\"40.0\"></rect></clipPath><g clip-path=\"url(#te9b65490831d44b8b7473a3500fce06e)\"><g class=\"toyplot-mark-AxisLines\" id=\"tbccc16fb7676495abcdfd314d10fc276\" style=\"\"><g class=\"toyplot-Series\"><line class=\"toyplot-Datum\" style=\"opacity:1.0;stroke:rgb(82.7%,82.7%,82.7%);stroke-opacity:1.0\" x1=\"50.0\" x2=\"550.0\" y1=\"150.0\" y2=\"150.0\"></line></g></g><g class=\"toyplot-mark-Text\" id=\"t2c9fbe9aed3b4a079906dec1659ef844\" style=\"alignment-baseline:hanging;font-size:24px;font-weight:normal;stroke:none;text-anchor:middle\"><g class=\"toyplot-Series\"><text class=\"toyplot-Datum\" style=\"fill:rgb(40%,76.1%,64.7%);fill-opacity:1.0;font-size:24px;font-weight:normal;opacity:1.0;stroke:none;text-anchor:middle\" transform=\"translate(115.21739130434783,150.0)translate(0,18.0)\"><tspan style=\"\">Hanging</tspan></text></g></g><g class=\"toyplot-mark-Scatterplot\" id=\"t27c6afd09714476b8b198908703be5b7\" style=\"\"><g class=\"toyplot-Series\"><g class=\"toyplot-Datum\" style=\"fill:rgb(0%,0%,0%);fill-opacity:1.0;opacity:1.0;stroke:rgb(0%,0%,0%);stroke-opacity:1.0\"><circle cx=\"115.21739130434783\" cy=\"150.0\" r=\"1.5\"></circle></g></g></g><g class=\"toyplot-mark-Text\" id=\"te441699602064a4fa51f784530641476\" style=\"alignment-baseline:central;font-size:24px;font-weight:normal;stroke:none;text-anchor:middle\"><g class=\"toyplot-Series\"><text class=\"toyplot-Datum\" style=\"fill:rgb(98.8%,55.3%,38.4%);fill-opacity:1.0;font-size:24px;font-weight:normal;opacity:1.0;stroke:none;text-anchor:middle\" transform=\"translate(244.61697722567285,150.0)translate(0,8.399999999999999)\"><tspan style=\"\">Central</tspan></text></g></g><g class=\"toyplot-mark-Scatterplot\" id=\"t10f0c5db9d924a19b80f9fb6094b6870\" style=\"\"><g class=\"toyplot-Series\"><g class=\"toyplot-Datum\" style=\"fill:rgb(0%,0%,0%);fill-opacity:1.0;opacity:1.0;stroke:rgb(0%,0%,0%);stroke-opacity:1.0\"><circle cx=\"244.61697722567285\" cy=\"150.0\" r=\"1.5\"></circle></g></g></g><g class=\"toyplot-mark-Text\" id=\"t0780410e08ff4eecae1ad97e6e5090a1\" style=\"alignment-baseline:middle;font-size:24px;font-weight:normal;stroke:none;text-anchor:middle\"><g class=\"toyplot-Series\"><text class=\"toyplot-Datum\" style=\"fill:rgb(55.3%,62.7%,79.6%);fill-opacity:1.0;font-size:24px;font-weight:normal;opacity:1.0;stroke:none;text-anchor:middle\" transform=\"translate(374.0165631469979,150.0)translate(0,6.0)\"><tspan style=\"\">Middle</tspan></text></g></g><g class=\"toyplot-mark-Scatterplot\" id=\"t02de8fdc00774adcb25356f1850b7ce4\" style=\"\"><g class=\"toyplot-Series\"><g class=\"toyplot-Datum\" style=\"fill:rgb(0%,0%,0%);fill-opacity:1.0;opacity:1.0;stroke:rgb(0%,0%,0%);stroke-opacity:1.0\"><circle cx=\"374.0165631469979\" cy=\"150.0\" r=\"1.5\"></circle></g></g></g><g class=\"toyplot-mark-Text\" id=\"t160001b74a904c8497b6e367b077f3b3\" style=\"alignment-baseline:alphabetic;font-size:24px;font-weight:normal;stroke:none;text-anchor:middle\"><g class=\"toyplot-Series\"><text class=\"toyplot-Datum\" style=\"fill:rgb(90.6%,54.1%,76.5%);fill-opacity:1.0;font-size:24px;font-weight:normal;opacity:1.0;stroke:none;text-anchor:middle\" transform=\"translate(503.41614906832291,150.0)\"><tspan style=\"\">Alpha</tspan></text></g></g><g class=\"toyplot-mark-Scatterplot\" id=\"tf9b753dabe54479bb2513b090d12873f\" style=\"\"><g class=\"toyplot-Series\"><g class=\"toyplot-Datum\" style=\"fill:rgb(0%,0%,0%);fill-opacity:1.0;opacity:1.0;stroke:rgb(0%,0%,0%);stroke-opacity:1.0\"><circle cx=\"503.41614906832291\" cy=\"150.0\" r=\"1.5\"></circle></g></g></g></g></g></svg><div class=\"toyplot-interactive\"><ul class=\"toyplot-mark-popup\" onmouseleave=\"this.style.visibility='hidden'\" style=\"background:rgba(0%,0%,0%,0.75);border:0;border-radius:6px;color:white;cursor:default;list-style:none;margin:0;padding:5px;position:fixed;visibility:hidden\">\n",
       "            <li class=\"toyplot-mark-popup-title\" style=\"color:lightgray;cursor:default;padding:5px;list-style:none;margin:0\"></li>\n",
       "            <li class=\"toyplot-mark-popup-save-csv\" onmouseout=\"this.style.color='white';this.style.background='steelblue'\" onmouseover=\"this.style.color='steelblue';this.style.background='white'\" style=\"border-radius:3px;padding:5px;list-style:none;margin:0\">\n",
       "                Save as .csv\n",
       "            </li>\n",
       "        </ul><script>\n",
       "        (function()\n",
       "        {\n",
       "          var data_tables = [{\"title\": \"Scatterplot Data\", \"names\": [\"x\", \"y0\"], \"id\": \"t27c6afd09714476b8b198908703be5b7\", \"columns\": [[-1.0], [0.0]], \"filename\": \"toyplot\"}, {\"title\": \"Scatterplot Data\", \"names\": [\"x\", \"y0\"], \"id\": \"t10f0c5db9d924a19b80f9fb6094b6870\", \"columns\": [[0.0], [0.0]], \"filename\": \"toyplot\"}, {\"title\": \"Scatterplot Data\", \"names\": [\"x\", \"y0\"], \"id\": \"t02de8fdc00774adcb25356f1850b7ce4\", \"columns\": [[1.0], [0.0]], \"filename\": \"toyplot\"}, {\"title\": \"Scatterplot Data\", \"names\": [\"x\", \"y0\"], \"id\": \"tf9b753dabe54479bb2513b090d12873f\", \"columns\": [[2.0], [0.0]], \"filename\": \"toyplot\"}];\n",
       "\n",
       "          function save_csv(data_table)\n",
       "          {\n",
       "            var uri = \"data:text/csv;charset=utf-8,\";\n",
       "            uri += data_table.names.join(\",\") + \"\\n\";\n",
       "            for(var i = 0; i != data_table.columns[0].length; ++i)\n",
       "            {\n",
       "              for(var j = 0; j != data_table.columns.length; ++j)\n",
       "              {\n",
       "                if(j)\n",
       "                  uri += \",\";\n",
       "                uri += data_table.columns[j][i];\n",
       "              }\n",
       "              uri += \"\\n\";\n",
       "            }\n",
       "            uri = encodeURI(uri);\n",
       "\n",
       "            var link = document.createElement(\"a\");\n",
       "            if(typeof link.download != \"undefined\")\n",
       "            {\n",
       "              link.href = uri;\n",
       "              link.style = \"visibility:hidden\";\n",
       "              link.download = data_table.filename + \".csv\";\n",
       "\n",
       "              document.body.appendChild(link);\n",
       "              link.click();\n",
       "              document.body.removeChild(link);\n",
       "            }\n",
       "            else\n",
       "            {\n",
       "              window.open(uri);\n",
       "            }\n",
       "          }\n",
       "\n",
       "          function open_popup(data_table)\n",
       "          {\n",
       "            return function(e)\n",
       "            {\n",
       "              var popup = document.querySelector(\"#td6a6c5edebf8470c8c8a56ac49016d62 .toyplot-mark-popup\");\n",
       "              popup.querySelector(\".toyplot-mark-popup-title\").innerHTML = data_table.title;\n",
       "              popup.querySelector(\".toyplot-mark-popup-save-csv\").onclick = function() { popup.style.visibility = \"hidden\"; save_csv(data_table); }\n",
       "              popup.style.left = (e.clientX - 50) + \"px\";\n",
       "              popup.style.top = (e.clientY - 20) + \"px\";\n",
       "              popup.style.visibility = \"visible\";\n",
       "              e.stopPropagation();\n",
       "              e.preventDefault();\n",
       "            }\n",
       "\n",
       "          }\n",
       "\n",
       "          for(var i = 0; i != data_tables.length; ++i)\n",
       "          {\n",
       "            var data_table = data_tables[i];\n",
       "            var event_target = document.querySelector(\"#\" + data_table.id);\n",
       "            event_target.oncontextmenu = open_popup(data_table);\n",
       "          }\n",
       "        })();\n",
       "        </script></div></div>"
      ]
     },
     "metadata": {},
     "output_type": "display_data"
    }
   ],
   "source": [
    "canvas = toyplot.Canvas(width=600, height=300)\n",
    "axes = canvas.cartesian(show=False)\n",
    "\n",
    "axes.hlines(0, color=\"lightgray\")\n",
    "\n",
    "axes.text(-1, 0, \"Hanging\", style={\"alignment-baseline\":\"hanging\", \"font-size\":\"24px\"})\n",
    "axes.scatterplot(-1, 0, color=\"black\", size=3)\n",
    "\n",
    "axes.text(0, 0, \"Central\", style={\"alignment-baseline\":\"central\", \"font-size\":\"24px\"})\n",
    "axes.scatterplot(0, 0, color=\"black\", size=3)\n",
    "\n",
    "axes.text(1, 0, \"Middle\", style={\"alignment-baseline\":\"middle\", \"font-size\":\"24px\"})\n",
    "axes.scatterplot(1, 0, color=\"black\", size=3)\n",
    "\n",
    "axes.text(2, 0, \"Alpha\", style={\"alignment-baseline\":\"alphabetic\", \"font-size\":\"24px\"})\n",
    "axes.scatterplot(2, 0, color=\"black\", size=3);\n"
   ]
  },
  {
   "cell_type": "markdown",
   "metadata": {},
   "source": [
    "As you might expect, you can also shift text perpendicular to its baseline by arbitrary amounts, using `baseline-shift`.  While you are free to use any of Toyplot's supported CSS length units for the shift, percentages are especially useful, because they represent a distance relative to the font height:"
   ]
  },
  {
   "cell_type": "code",
   "execution_count": 5,
   "metadata": {
    "collapsed": false
   },
   "outputs": [
    {
     "data": {
      "text/html": [
       "<div align=\"center\" class=\"toyplot\" id=\"t4dfd69f1f24e4c10a6a0cc92842ad820\"><svg class=\"toyplot-canvas-Canvas\" height=\"300.0px\" id=\"t6bffe6a4bbea4fdf9b473669d5a43097\" preserveAspectRatio=\"xMidYMid meet\" style=\"background-color:transparent;fill:rgb(16.1%,15.3%,14.1%);fill-opacity:1.0;font-family:Helvetica;font-size:12px;opacity:1.0;stroke:rgb(16.1%,15.3%,14.1%);stroke-opacity:1.0;stroke-width:1.0\" viewBox=\"0 0 700.0 300.0\" width=\"700.0px\" xmlns=\"http://www.w3.org/2000/svg\" xmlns:toyplot=\"http://www.sandia.gov/toyplot\" xmlns:xlink=\"http://www.w3.org/1999/xlink\"><g class=\"toyplot-coordinates-Cartesian\" id=\"tb4c88fe3a8de4d678b0238289f9cb2f8\"><clipPath id=\"t8ac1e60697e547d0bd83e4fe6788b6ff\"><rect height=\"220.0\" width=\"620.0\" x=\"40.0\" y=\"40.0\"></rect></clipPath><g clip-path=\"url(#t8ac1e60697e547d0bd83e4fe6788b6ff)\"><g class=\"toyplot-mark-AxisLines\" id=\"t948207003ce840b99a1de5b6cb7d5766\" style=\"\"><g class=\"toyplot-Series\"><line class=\"toyplot-Datum\" style=\"opacity:1.0;stroke:rgb(82.7%,82.7%,82.7%);stroke-opacity:1.0\" x1=\"50.0\" x2=\"650.0\" y1=\"150.0\" y2=\"150.0\"></line></g></g><g class=\"toyplot-mark-Text\" id=\"t615961f2960b409fa7dbf046c5acb7f8\" style=\"alignment-baseline:middle;baseline-shift:-100%;font-size:24px;font-weight:normal;stroke:none;text-anchor:middle\"><g class=\"toyplot-Series\"><text class=\"toyplot-Datum\" style=\"fill:rgb(40%,76.1%,64.7%);fill-opacity:1.0;font-size:24px;font-weight:normal;opacity:1.0;stroke:none;text-anchor:middle\" transform=\"translate(142.95774647887322,150.0)translate(0,30.0)\"><tspan style=\"\">Shift -100%</tspan></text></g></g><g class=\"toyplot-mark-Scatterplot\" id=\"tbd4c2ead456248d88d3bef30d65908f5\" style=\"\"><g class=\"toyplot-Series\"><g class=\"toyplot-Datum\" style=\"fill:rgb(0%,0%,0%);fill-opacity:1.0;opacity:1.0;stroke:rgb(0%,0%,0%);stroke-opacity:1.0\"><circle cx=\"142.95774647887322\" cy=\"150.0\" r=\"1.5\"></circle></g></g></g><g class=\"toyplot-mark-Text\" id=\"t04e35b6a3a204567a5d1c25aa197232a\" style=\"alignment-baseline:middle;baseline-shift:0;font-size:24px;font-weight:normal;stroke:none;text-anchor:middle\"><g class=\"toyplot-Series\"><text class=\"toyplot-Datum\" style=\"fill:rgb(98.8%,55.3%,38.4%);fill-opacity:1.0;font-size:24px;font-weight:normal;opacity:1.0;stroke:none;text-anchor:middle\" transform=\"translate(283.80281690140845,150.0)translate(0,6.0)\"><tspan style=\"\">Shift 0%</tspan></text></g></g><g class=\"toyplot-mark-Scatterplot\" id=\"t03112f73bfea4ff9b9848f446526c8b0\" style=\"\"><g class=\"toyplot-Series\"><g class=\"toyplot-Datum\" style=\"fill:rgb(0%,0%,0%);fill-opacity:1.0;opacity:1.0;stroke:rgb(0%,0%,0%);stroke-opacity:1.0\"><circle cx=\"283.80281690140845\" cy=\"150.0\" r=\"1.5\"></circle></g></g></g><g class=\"toyplot-mark-Text\" id=\"tc75f8d02f6734f8f96ceec0cb0584b47\" style=\"alignment-baseline:middle;baseline-shift:66%;font-size:24px;font-weight:normal;stroke:none;text-anchor:middle\"><g class=\"toyplot-Series\"><text class=\"toyplot-Datum\" style=\"fill:rgb(55.3%,62.7%,79.6%);fill-opacity:1.0;font-size:24px;font-weight:normal;opacity:1.0;stroke:none;text-anchor:middle\" transform=\"translate(424.64788732394368,150.0)translate(0,-9.84)\"><tspan style=\"\">Shift 66%</tspan></text></g></g><g class=\"toyplot-mark-Scatterplot\" id=\"t079f16785c9240698da54cc4ca992f84\" style=\"\"><g class=\"toyplot-Series\"><g class=\"toyplot-Datum\" style=\"fill:rgb(0%,0%,0%);fill-opacity:1.0;opacity:1.0;stroke:rgb(0%,0%,0%);stroke-opacity:1.0\"><circle cx=\"424.64788732394368\" cy=\"150.0\" r=\"1.5\"></circle></g></g></g><g class=\"toyplot-mark-Text\" id=\"tb7af8591e9534eeca0db6c228b39d56b\" style=\"alignment-baseline:middle;baseline-shift:100%;font-size:24px;font-weight:normal;stroke:none;text-anchor:middle\"><g class=\"toyplot-Series\"><text class=\"toyplot-Datum\" style=\"fill:rgb(90.6%,54.1%,76.5%);fill-opacity:1.0;font-size:24px;font-weight:normal;opacity:1.0;stroke:none;text-anchor:middle\" transform=\"translate(565.49295774647896,150.0)translate(0,-18.0)\"><tspan style=\"\">Shift 100%</tspan></text></g></g><g class=\"toyplot-mark-Scatterplot\" id=\"t9fed8124f5cc4c04b6aba68d00e727eb\" style=\"\"><g class=\"toyplot-Series\"><g class=\"toyplot-Datum\" style=\"fill:rgb(0%,0%,0%);fill-opacity:1.0;opacity:1.0;stroke:rgb(0%,0%,0%);stroke-opacity:1.0\"><circle cx=\"565.49295774647896\" cy=\"150.0\" r=\"1.5\"></circle></g></g></g></g></g></svg><div class=\"toyplot-interactive\"><ul class=\"toyplot-mark-popup\" onmouseleave=\"this.style.visibility='hidden'\" style=\"background:rgba(0%,0%,0%,0.75);border:0;border-radius:6px;color:white;cursor:default;list-style:none;margin:0;padding:5px;position:fixed;visibility:hidden\">\n",
       "            <li class=\"toyplot-mark-popup-title\" style=\"color:lightgray;cursor:default;padding:5px;list-style:none;margin:0\"></li>\n",
       "            <li class=\"toyplot-mark-popup-save-csv\" onmouseout=\"this.style.color='white';this.style.background='steelblue'\" onmouseover=\"this.style.color='steelblue';this.style.background='white'\" style=\"border-radius:3px;padding:5px;list-style:none;margin:0\">\n",
       "                Save as .csv\n",
       "            </li>\n",
       "        </ul><script>\n",
       "        (function()\n",
       "        {\n",
       "          var data_tables = [{\"title\": \"Scatterplot Data\", \"names\": [\"x\", \"y0\"], \"id\": \"tbd4c2ead456248d88d3bef30d65908f5\", \"columns\": [[-1.0], [0.0]], \"filename\": \"toyplot\"}, {\"title\": \"Scatterplot Data\", \"names\": [\"x\", \"y0\"], \"id\": \"t03112f73bfea4ff9b9848f446526c8b0\", \"columns\": [[0.0], [0.0]], \"filename\": \"toyplot\"}, {\"title\": \"Scatterplot Data\", \"names\": [\"x\", \"y0\"], \"id\": \"t079f16785c9240698da54cc4ca992f84\", \"columns\": [[1.0], [0.0]], \"filename\": \"toyplot\"}, {\"title\": \"Scatterplot Data\", \"names\": [\"x\", \"y0\"], \"id\": \"t9fed8124f5cc4c04b6aba68d00e727eb\", \"columns\": [[2.0], [0.0]], \"filename\": \"toyplot\"}];\n",
       "\n",
       "          function save_csv(data_table)\n",
       "          {\n",
       "            var uri = \"data:text/csv;charset=utf-8,\";\n",
       "            uri += data_table.names.join(\",\") + \"\\n\";\n",
       "            for(var i = 0; i != data_table.columns[0].length; ++i)\n",
       "            {\n",
       "              for(var j = 0; j != data_table.columns.length; ++j)\n",
       "              {\n",
       "                if(j)\n",
       "                  uri += \",\";\n",
       "                uri += data_table.columns[j][i];\n",
       "              }\n",
       "              uri += \"\\n\";\n",
       "            }\n",
       "            uri = encodeURI(uri);\n",
       "\n",
       "            var link = document.createElement(\"a\");\n",
       "            if(typeof link.download != \"undefined\")\n",
       "            {\n",
       "              link.href = uri;\n",
       "              link.style = \"visibility:hidden\";\n",
       "              link.download = data_table.filename + \".csv\";\n",
       "\n",
       "              document.body.appendChild(link);\n",
       "              link.click();\n",
       "              document.body.removeChild(link);\n",
       "            }\n",
       "            else\n",
       "            {\n",
       "              window.open(uri);\n",
       "            }\n",
       "          }\n",
       "\n",
       "          function open_popup(data_table)\n",
       "          {\n",
       "            return function(e)\n",
       "            {\n",
       "              var popup = document.querySelector(\"#t4dfd69f1f24e4c10a6a0cc92842ad820 .toyplot-mark-popup\");\n",
       "              popup.querySelector(\".toyplot-mark-popup-title\").innerHTML = data_table.title;\n",
       "              popup.querySelector(\".toyplot-mark-popup-save-csv\").onclick = function() { popup.style.visibility = \"hidden\"; save_csv(data_table); }\n",
       "              popup.style.left = (e.clientX - 50) + \"px\";\n",
       "              popup.style.top = (e.clientY - 20) + \"px\";\n",
       "              popup.style.visibility = \"visible\";\n",
       "              e.stopPropagation();\n",
       "              e.preventDefault();\n",
       "            }\n",
       "\n",
       "          }\n",
       "\n",
       "          for(var i = 0; i != data_tables.length; ++i)\n",
       "          {\n",
       "            var data_table = data_tables[i];\n",
       "            var event_target = document.querySelector(\"#\" + data_table.id);\n",
       "            event_target.oncontextmenu = open_popup(data_table);\n",
       "          }\n",
       "        })();\n",
       "        </script></div></div>"
      ]
     },
     "metadata": {},
     "output_type": "display_data"
    }
   ],
   "source": [
    "canvas = toyplot.Canvas(width=700, height=300)\n",
    "axes = canvas.cartesian(show=False)\n",
    "\n",
    "axes.hlines(0, color=\"lightgray\")\n",
    "\n",
    "axes.text(-1, 0, \"Shift -100%\", style={\"baseline-shift\":\"-100%\", \"font-size\":\"24px\"})\n",
    "axes.scatterplot(-1, 0, color=\"black\", size=3)\n",
    "\n",
    "axes.text(0, 0, \"Shift 0%\", style={\"baseline-shift\":\"0\", \"font-size\":\"24px\"})\n",
    "axes.scatterplot(0, 0, color=\"black\", size=3)\n",
    "\n",
    "axes.text(1, 0, \"Shift 66%\", style={\"baseline-shift\":\"66%\", \"font-size\":\"24px\"})\n",
    "axes.scatterplot(1, 0, color=\"black\", size=3)\n",
    "\n",
    "axes.text(2, 0, \"Shift 100%\", style={\"baseline-shift\":\"100%\", \"font-size\":\"24px\"})\n",
    "axes.scatterplot(2, 0, color=\"black\", size=3);\n"
   ]
  },
  {
   "cell_type": "markdown",
   "metadata": {},
   "source": [
    "Of course, you're free to combine all four styles in any way that you like.\n",
    "\n",
    "One final thing to keep in mind is that `-toyplot-anchor-shift` and `baseline-shift` move the text relative to its baseline, not the canvas.  This is important because it affects their behavior when text is rotated.  In the following example, look carefully and note that the text with `-toyplot-anchor-shift` is shifted *along its rotated baseline*, not simply moved left or right on the canvas.  Similarly, the `baseline-shift` text is shifted *perpendicular to its rotated baseline*, not merely up or down:"
   ]
  },
  {
   "cell_type": "code",
   "execution_count": 6,
   "metadata": {
    "collapsed": false
   },
   "outputs": [
    {
     "data": {
      "text/html": [
       "<div align=\"center\" class=\"toyplot\" id=\"t4c797016a5c84018bc20ab452c0980f1\"><svg class=\"toyplot-canvas-Canvas\" height=\"300.0px\" id=\"t5d97fc32f5ca4890bfceafd0e6e3734f\" preserveAspectRatio=\"xMidYMid meet\" style=\"background-color:transparent;fill:rgb(16.1%,15.3%,14.1%);fill-opacity:1.0;font-family:Helvetica;font-size:12px;opacity:1.0;stroke:rgb(16.1%,15.3%,14.1%);stroke-opacity:1.0;stroke-width:1.0\" viewBox=\"0 0 500.0 300.0\" width=\"500.0px\" xmlns=\"http://www.w3.org/2000/svg\" xmlns:toyplot=\"http://www.sandia.gov/toyplot\" xmlns:xlink=\"http://www.w3.org/1999/xlink\"><g class=\"toyplot-coordinates-Cartesian\" id=\"ta540bc218f034d1d9a980d9b19c5ad65\"><clipPath id=\"t0d53d4985dc349068005368f18dff391\"><rect height=\"220.0\" width=\"86.66666666666666\" x=\"40.0\" y=\"40.0\"></rect></clipPath><g clip-path=\"url(#t0d53d4985dc349068005368f18dff391)\"><g class=\"toyplot-mark-AxisLines\" id=\"tdb9e88be3c2e4819bb27296a02b2e54f\" style=\"\"><g class=\"toyplot-Series\"><line class=\"toyplot-Datum\" style=\"opacity:1.0;stroke:rgb(82.7%,82.7%,82.7%);stroke-opacity:1.0\" x1=\"83.333333333333329\" x2=\"83.333333333333329\" y1=\"50.0\" y2=\"250.0\"></line></g></g><g class=\"toyplot-mark-Text\" id=\"t9a0e2567b2d64de0a0a6fa3a6e106464\" style=\"alignment-baseline:middle;font-size:24px;font-weight:normal;stroke:none;text-anchor:middle\"><g class=\"toyplot-Series\"><text class=\"toyplot-Datum\" style=\"fill:rgb(40%,76.1%,64.7%);fill-opacity:1.0;font-size:24px;font-weight:normal;opacity:1.0;stroke:none;text-anchor:middle\" transform=\"translate(83.333333333333329,150.0)rotate(-45.0)translate(0,6.0)\"><tspan style=\"\">a + b</tspan></text></g></g><g class=\"toyplot-mark-Scatterplot\" id=\"t477b52f8175f42909d7562f4e03fd5a1\" style=\"\"><g class=\"toyplot-Series\"><g class=\"toyplot-Datum\" style=\"fill:rgb(0%,0%,0%);fill-opacity:1.0;opacity:1.0;stroke:rgb(0%,0%,0%);stroke-opacity:1.0\"><circle cx=\"83.333333333333329\" cy=\"150.0\" r=\"1.5\"></circle></g></g></g></g><text style=\"font-size:14px;font-weight:bold;stroke:none;text-anchor:middle\" transform=\"translate(83.33333333333333,50.0)translate(0,-10.5)\"><tspan style=\"\">default</tspan></text></g><g class=\"toyplot-coordinates-Cartesian\" id=\"t64807baea36c4bda9147e161d1d68189\"><clipPath id=\"tdcdb57a6a43345fbb47bdfbd96b2b31a\"><rect height=\"220.0\" width=\"86.66666666666666\" x=\"206.66666666666666\" y=\"40.0\"></rect></clipPath><g clip-path=\"url(#tdcdb57a6a43345fbb47bdfbd96b2b31a)\"><g class=\"toyplot-mark-AxisLines\" id=\"t09665017f0dd47f5b7594ea96e696f85\" style=\"\"><g class=\"toyplot-Series\"><line class=\"toyplot-Datum\" style=\"opacity:1.0;stroke:rgb(82.7%,82.7%,82.7%);stroke-opacity:1.0\" x1=\"240.7407407407407\" x2=\"240.7407407407407\" y1=\"50.0\" y2=\"250.0\"></line></g></g><g class=\"toyplot-mark-Text\" id=\"tfb87554f094e4d2b8884625663e3a171\" style=\"-toyplot-anchor-shift:20px;alignment-baseline:middle;font-size:24px;font-weight:normal;stroke:none;text-anchor:middle\"><g class=\"toyplot-Series\"><text class=\"toyplot-Datum\" style=\"fill:rgb(40%,76.1%,64.7%);fill-opacity:1.0;font-size:24px;font-weight:normal;opacity:1.0;stroke:none;text-anchor:middle\" transform=\"translate(240.7407407407407,150.0)rotate(-45.0)translate(20.0,6.0)\"><tspan style=\"\">a + b</tspan></text></g></g><g class=\"toyplot-mark-Scatterplot\" id=\"t701c87e3e48c419b9194b2a629feb884\" style=\"\"><g class=\"toyplot-Series\"><g class=\"toyplot-Datum\" style=\"fill:rgb(0%,0%,0%);fill-opacity:1.0;opacity:1.0;stroke:rgb(0%,0%,0%);stroke-opacity:1.0\"><circle cx=\"240.7407407407407\" cy=\"150.0\" r=\"1.5\"></circle></g></g></g></g><text style=\"font-size:14px;font-weight:bold;stroke:none;text-anchor:middle\" transform=\"translate(250.0,50.0)translate(0,-10.5)\"><tspan style=\"\">-toyplot-anchor-shift</tspan></text></g><g class=\"toyplot-coordinates-Cartesian\" id=\"tb3533b6de271494eaf220832ec991e66\"><clipPath id=\"tcd14a996ce3644279c20980c3b18c880\"><rect height=\"220.0\" width=\"86.66666666666669\" x=\"373.3333333333333\" y=\"40.0\"></rect></clipPath><g clip-path=\"url(#tcd14a996ce3644279c20980c3b18c880)\"><g class=\"toyplot-mark-AxisLines\" id=\"t7e9353c37b954f05a6a657ab27aace05\" style=\"\"><g class=\"toyplot-Series\"><line class=\"toyplot-Datum\" style=\"opacity:1.0;stroke:rgb(82.7%,82.7%,82.7%);stroke-opacity:1.0\" x1=\"407.40740740740739\" x2=\"407.40740740740739\" y1=\"50.0\" y2=\"250.0\"></line></g></g><g class=\"toyplot-mark-Text\" id=\"taadacec7acfa4e37957568a1aeda8467\" style=\"alignment-baseline:middle;baseline-shift:-20px;font-size:24px;font-weight:normal;stroke:none;text-anchor:middle\"><g class=\"toyplot-Series\"><text class=\"toyplot-Datum\" style=\"fill:rgb(40%,76.1%,64.7%);fill-opacity:1.0;font-size:24px;font-weight:normal;opacity:1.0;stroke:none;text-anchor:middle\" transform=\"translate(407.40740740740739,150.0)rotate(-45.0)translate(0,26.0)\"><tspan style=\"\">a + b</tspan></text></g></g><g class=\"toyplot-mark-Scatterplot\" id=\"t2e15e9a3b1e0429ba94abe688e1afa50\" style=\"\"><g class=\"toyplot-Series\"><g class=\"toyplot-Datum\" style=\"fill:rgb(0%,0%,0%);fill-opacity:1.0;opacity:1.0;stroke:rgb(0%,0%,0%);stroke-opacity:1.0\"><circle cx=\"407.40740740740739\" cy=\"150.0\" r=\"1.5\"></circle></g></g></g></g><text style=\"font-size:14px;font-weight:bold;stroke:none;text-anchor:middle\" transform=\"translate(416.66666666666663,50.0)translate(0,-10.5)\"><tspan style=\"\">baseline-shift</tspan></text></g></svg><div class=\"toyplot-interactive\"><ul class=\"toyplot-mark-popup\" onmouseleave=\"this.style.visibility='hidden'\" style=\"background:rgba(0%,0%,0%,0.75);border:0;border-radius:6px;color:white;cursor:default;list-style:none;margin:0;padding:5px;position:fixed;visibility:hidden\">\n",
       "            <li class=\"toyplot-mark-popup-title\" style=\"color:lightgray;cursor:default;padding:5px;list-style:none;margin:0\"></li>\n",
       "            <li class=\"toyplot-mark-popup-save-csv\" onmouseout=\"this.style.color='white';this.style.background='steelblue'\" onmouseover=\"this.style.color='steelblue';this.style.background='white'\" style=\"border-radius:3px;padding:5px;list-style:none;margin:0\">\n",
       "                Save as .csv\n",
       "            </li>\n",
       "        </ul><script>\n",
       "        (function()\n",
       "        {\n",
       "          var data_tables = [{\"title\": \"Scatterplot Data\", \"names\": [\"x\", \"y0\"], \"id\": \"t477b52f8175f42909d7562f4e03fd5a1\", \"columns\": [[0.0], [0.0]], \"filename\": \"toyplot\"}, {\"title\": \"Scatterplot Data\", \"names\": [\"x\", \"y0\"], \"id\": \"t701c87e3e48c419b9194b2a629feb884\", \"columns\": [[0.0], [0.0]], \"filename\": \"toyplot\"}, {\"title\": \"Scatterplot Data\", \"names\": [\"x\", \"y0\"], \"id\": \"t2e15e9a3b1e0429ba94abe688e1afa50\", \"columns\": [[0.0], [0.0]], \"filename\": \"toyplot\"}];\n",
       "\n",
       "          function save_csv(data_table)\n",
       "          {\n",
       "            var uri = \"data:text/csv;charset=utf-8,\";\n",
       "            uri += data_table.names.join(\",\") + \"\\n\";\n",
       "            for(var i = 0; i != data_table.columns[0].length; ++i)\n",
       "            {\n",
       "              for(var j = 0; j != data_table.columns.length; ++j)\n",
       "              {\n",
       "                if(j)\n",
       "                  uri += \",\";\n",
       "                uri += data_table.columns[j][i];\n",
       "              }\n",
       "              uri += \"\\n\";\n",
       "            }\n",
       "            uri = encodeURI(uri);\n",
       "\n",
       "            var link = document.createElement(\"a\");\n",
       "            if(typeof link.download != \"undefined\")\n",
       "            {\n",
       "              link.href = uri;\n",
       "              link.style = \"visibility:hidden\";\n",
       "              link.download = data_table.filename + \".csv\";\n",
       "\n",
       "              document.body.appendChild(link);\n",
       "              link.click();\n",
       "              document.body.removeChild(link);\n",
       "            }\n",
       "            else\n",
       "            {\n",
       "              window.open(uri);\n",
       "            }\n",
       "          }\n",
       "\n",
       "          function open_popup(data_table)\n",
       "          {\n",
       "            return function(e)\n",
       "            {\n",
       "              var popup = document.querySelector(\"#t4c797016a5c84018bc20ab452c0980f1 .toyplot-mark-popup\");\n",
       "              popup.querySelector(\".toyplot-mark-popup-title\").innerHTML = data_table.title;\n",
       "              popup.querySelector(\".toyplot-mark-popup-save-csv\").onclick = function() { popup.style.visibility = \"hidden\"; save_csv(data_table); }\n",
       "              popup.style.left = (e.clientX - 50) + \"px\";\n",
       "              popup.style.top = (e.clientY - 20) + \"px\";\n",
       "              popup.style.visibility = \"visible\";\n",
       "              e.stopPropagation();\n",
       "              e.preventDefault();\n",
       "            }\n",
       "\n",
       "          }\n",
       "\n",
       "          for(var i = 0; i != data_tables.length; ++i)\n",
       "          {\n",
       "            var data_table = data_tables[i];\n",
       "            var event_target = document.querySelector(\"#\" + data_table.id);\n",
       "            event_target.oncontextmenu = open_popup(data_table);\n",
       "          }\n",
       "        })();\n",
       "        </script></div></div>"
      ]
     },
     "metadata": {},
     "output_type": "display_data"
    }
   ],
   "source": [
    "canvas = toyplot.Canvas(width=500, height=300)\n",
    "\n",
    "axes = canvas.cartesian(grid=(1,3,0), xshow=False, yshow=False, label=\"default\")\n",
    "axes.vlines(0, color=\"lightgray\")\n",
    "axes.text(0, 0, \"a + b\", angle=45, style={\"font-size\":\"24px\"})\n",
    "axes.scatterplot(0, 0, color=\"black\", size=3)\n",
    "\n",
    "axes = canvas.cartesian(grid=(1,3,1), xshow=False, yshow=False, label=\"-toyplot-anchor-shift\")\n",
    "axes.vlines(0, color=\"lightgray\")\n",
    "axes.text(0, 0, \"a + b\", angle=45, style={\"-toyplot-anchor-shift\":\"20px\", \"font-size\":\"24px\"})\n",
    "axes.scatterplot(0, 0, color=\"black\", size=3)\n",
    "\n",
    "axes = canvas.cartesian(grid=(1,3,2), xshow=False, yshow=False, label=\"baseline-shift\")\n",
    "axes.vlines(0, color=\"lightgray\")\n",
    "axes.text(0, 0, \"a + b\", angle=45, style={\"baseline-shift\":\"-20px\", \"font-size\":\"24px\"})\n",
    "axes.scatterplot(0, 0, color=\"black\", size=3);\n"
   ]
  },
  {
   "cell_type": "markdown",
   "metadata": {},
   "source": [
    "## Rich Text\n",
    "\n",
    "In addition to positioning text using styles, you can use (a limited subset of) HTML markup to format your text.  For example, you can create text with superscripts and subscripts: "
   ]
  },
  {
   "cell_type": "code",
   "execution_count": 7,
   "metadata": {
    "collapsed": false
   },
   "outputs": [
    {
     "data": {
      "text/html": [
       "<div align=\"center\" class=\"toyplot\" id=\"t6c83e6b64e89442dbeff8fe4735afdea\"><svg class=\"toyplot-canvas-Canvas\" height=\"150.0px\" id=\"t0efca4fd2bce495486099d4c79c49549\" preserveAspectRatio=\"xMidYMid meet\" style=\"background-color:transparent;fill:rgb(16.1%,15.3%,14.1%);fill-opacity:1.0;font-family:Helvetica;font-size:12px;opacity:1.0;stroke:rgb(16.1%,15.3%,14.1%);stroke-opacity:1.0;stroke-width:1.0\" viewBox=\"0 0 600.0 150.0\" width=\"600.0px\" xmlns=\"http://www.w3.org/2000/svg\" xmlns:toyplot=\"http://www.sandia.gov/toyplot\" xmlns:xlink=\"http://www.w3.org/1999/xlink\"><g class=\"toyplot-mark-Text\" id=\"t1fe90e41c9404e66bc6a3a82eb0f598f\" style=\"alignment-baseline:middle;font-size:32px;font-weight:normal;stroke:none;text-anchor:middle\"><g class=\"toyplot-Series\"><text class=\"toyplot-Datum\" style=\"fill:rgb(16.1%,15.3%,14.1%);fill-opacity:1.0;font-size:32px;font-weight:normal;opacity:1.0;stroke:none;text-anchor:middle\" transform=\"translate(300.0,100.0)translate(0,8.0)\"><tspan style=\"\">100</tspan><tspan dy=\"-9.6\" style=\"font-size:22.4px\">-53</tspan></text></g></g></svg><div class=\"toyplot-interactive\"></div></div>"
      ]
     },
     "metadata": {},
     "output_type": "display_data"
    }
   ],
   "source": [
    "canvas = toyplot.Canvas(width=600, height=150)\n",
    "canvas.text(300, 100, \"100<sup>-53</sup>\", style={\"font-size\":\"32px\"});"
   ]
  },
  {
   "cell_type": "code",
   "execution_count": 8,
   "metadata": {
    "collapsed": false
   },
   "outputs": [
    {
     "data": {
      "text/html": [
       "<div align=\"center\" class=\"toyplot\" id=\"t5bf1f579bf3f42be8acb012c24b238ef\"><svg class=\"toyplot-canvas-Canvas\" height=\"150.0px\" id=\"tcc26ea2d3a2f44ca84e800b552878f75\" preserveAspectRatio=\"xMidYMid meet\" style=\"background-color:transparent;fill:rgb(16.1%,15.3%,14.1%);fill-opacity:1.0;font-family:Helvetica;font-size:12px;opacity:1.0;stroke:rgb(16.1%,15.3%,14.1%);stroke-opacity:1.0;stroke-width:1.0\" viewBox=\"0 0 600.0 150.0\" width=\"600.0px\" xmlns=\"http://www.w3.org/2000/svg\" xmlns:toyplot=\"http://www.sandia.gov/toyplot\" xmlns:xlink=\"http://www.w3.org/1999/xlink\"><g class=\"toyplot-mark-Text\" id=\"t75a99b43cfec446580db5f2deb7fca7d\" style=\"alignment-baseline:middle;font-size:32px;font-weight:normal;stroke:none;text-anchor:middle\"><g class=\"toyplot-Series\"><text class=\"toyplot-Datum\" style=\"fill:rgb(16.1%,15.3%,14.1%);fill-opacity:1.0;font-size:32px;font-weight:normal;opacity:1.0;stroke:none;text-anchor:middle\" transform=\"translate(300.0,100.0)translate(0,8.0)\"><tspan style=\"\">H</tspan><tspan dy=\"6.4\" style=\"font-size:22.4px\">2</tspan><tspan dy=\"-6.4\" style=\"\">O</tspan></text></g></g></svg><div class=\"toyplot-interactive\"></div></div>"
      ]
     },
     "metadata": {},
     "output_type": "display_data"
    }
   ],
   "source": [
    "canvas = toyplot.Canvas(width=600, height=150)\n",
    "canvas.text(300, 100, \"H<sub>2</sub>O\", style={\"font-size\":\"32px\"});"
   ]
  },
  {
   "cell_type": "markdown",
   "metadata": {},
   "source": [
    "Note that you are free to nest superscripts and subscripts:"
   ]
  },
  {
   "cell_type": "code",
   "execution_count": 9,
   "metadata": {
    "collapsed": false
   },
   "outputs": [
    {
     "data": {
      "text/html": [
       "<div align=\"center\" class=\"toyplot\" id=\"tf457d747056f44b7808ac3e84fae7d78\"><svg class=\"toyplot-canvas-Canvas\" height=\"150.0px\" id=\"tabe37bb64b264f41b5b637b9558615c4\" preserveAspectRatio=\"xMidYMid meet\" style=\"background-color:transparent;fill:rgb(16.1%,15.3%,14.1%);fill-opacity:1.0;font-family:Helvetica;font-size:12px;opacity:1.0;stroke:rgb(16.1%,15.3%,14.1%);stroke-opacity:1.0;stroke-width:1.0\" viewBox=\"0 0 600.0 150.0\" width=\"600.0px\" xmlns=\"http://www.w3.org/2000/svg\" xmlns:toyplot=\"http://www.sandia.gov/toyplot\" xmlns:xlink=\"http://www.w3.org/1999/xlink\"><g class=\"toyplot-mark-Text\" id=\"t4c2907a596784c82b451af3763b120ee\" style=\"alignment-baseline:middle;font-size:32px;font-weight:normal;stroke:none;text-anchor:middle\"><g class=\"toyplot-Series\"><text class=\"toyplot-Datum\" style=\"fill:rgb(16.1%,15.3%,14.1%);fill-opacity:1.0;font-size:32px;font-weight:normal;opacity:1.0;stroke:none;text-anchor:middle\" transform=\"translate(300.0,100.0)translate(0,8.0)\"><tspan style=\"\">W</tspan><tspan dy=\"-9.6\" style=\"font-size:22.4px\">X</tspan><tspan dy=\"4.48\" style=\"font-size:15.68px\">Y</tspan><tspan dy=\"-11.2\" style=\"font-size:15.68px\">Z</tspan></text></g></g></svg><div class=\"toyplot-interactive\"></div></div>"
      ]
     },
     "metadata": {},
     "output_type": "display_data"
    }
   ],
   "source": [
    "canvas = toyplot.Canvas(width=600, height=150)\n",
    "canvas.text(300, 100, \"W<sup>X<sub>Y</sub><sup>Z</sup></sup>\", style={\"font-size\":\"32px\"});"
   ]
  },
  {
   "cell_type": "markdown",
   "metadata": {},
   "source": [
    "There are a variety of tags to alter the inline appearance of text:"
   ]
  },
  {
   "cell_type": "code",
   "execution_count": 10,
   "metadata": {
    "collapsed": false
   },
   "outputs": [
    {
     "data": {
      "text/html": [
       "<div align=\"center\" class=\"toyplot\" id=\"tfefb001f886c4507af8db9ffd782d064\"><svg class=\"toyplot-canvas-Canvas\" height=\"150.0px\" id=\"tbb369ed86b6c4eefa1029004e0008821\" preserveAspectRatio=\"xMidYMid meet\" style=\"background-color:transparent;fill:rgb(16.1%,15.3%,14.1%);fill-opacity:1.0;font-family:Helvetica;font-size:12px;opacity:1.0;stroke:rgb(16.1%,15.3%,14.1%);stroke-opacity:1.0;stroke-width:1.0\" viewBox=\"0 0 600.0 150.0\" width=\"600.0px\" xmlns=\"http://www.w3.org/2000/svg\" xmlns:toyplot=\"http://www.sandia.gov/toyplot\" xmlns:xlink=\"http://www.w3.org/1999/xlink\"><g class=\"toyplot-mark-Text\" id=\"t9cebea9f76e3481aae5819f138b40cc9\" style=\"alignment-baseline:middle;font-size:24px;font-weight:normal;stroke:none;text-anchor:middle\"><g class=\"toyplot-Series\"><text class=\"toyplot-Datum\" style=\"fill:rgb(16.1%,15.3%,14.1%);fill-opacity:1.0;font-size:24px;font-weight:normal;opacity:1.0;stroke:none;text-anchor:middle\" transform=\"translate(300.0,100.0)translate(0,6.0)\"><tspan style=\"\">normal </tspan><tspan style=\"font-weight:bold\">bold</tspan><tspan style=\"\"> </tspan><tspan style=\"font-style:italic\">italic</tspan><tspan style=\"\"> </tspan><tspan style=\"font-weight:bold\">strong</tspan><tspan style=\"\"> </tspan><tspan style=\"font-style:italic\">emphasis</tspan><tspan style=\"\"> </tspan><tspan style=\"font-size:19.2px\">small</tspan><tspan style=\"\"> </tspan><tspan style=\"font-family:monospace\">code</tspan></text></g></g></svg><div class=\"toyplot-interactive\"></div></div>"
      ]
     },
     "metadata": {},
     "output_type": "display_data"
    }
   ],
   "source": [
    "canvas = toyplot.Canvas(width=600, height=150)\n",
    "canvas.text(\n",
    "    300,\n",
    "    100,\n",
    "    \"normal <b>bold</b> <i>italic</i> <strong>strong</strong> <em>emphasis</em> <small>small</small> <code>code</code>\",\n",
    "    style={\"font-size\":\"24px\"});"
   ]
  },
  {
   "cell_type": "markdown",
   "metadata": {},
   "source": [
    "And these tags can be nested as well:"
   ]
  },
  {
   "cell_type": "code",
   "execution_count": 11,
   "metadata": {
    "collapsed": false
   },
   "outputs": [
    {
     "data": {
      "text/html": [
       "<div align=\"center\" class=\"toyplot\" id=\"t08875c89ff0d4528855abe35f926bceb\"><svg class=\"toyplot-canvas-Canvas\" height=\"150.0px\" id=\"t28192c5072e74659a167c034b5b5fdb7\" preserveAspectRatio=\"xMidYMid meet\" style=\"background-color:transparent;fill:rgb(16.1%,15.3%,14.1%);fill-opacity:1.0;font-family:Helvetica;font-size:12px;opacity:1.0;stroke:rgb(16.1%,15.3%,14.1%);stroke-opacity:1.0;stroke-width:1.0\" viewBox=\"0 0 600.0 150.0\" width=\"600.0px\" xmlns=\"http://www.w3.org/2000/svg\" xmlns:toyplot=\"http://www.sandia.gov/toyplot\" xmlns:xlink=\"http://www.w3.org/1999/xlink\"><g class=\"toyplot-mark-Text\" id=\"t57bf4cc6b0b04cf084dd64a5bbda35c0\" style=\"alignment-baseline:middle;font-size:32px;font-weight:normal;stroke:none;text-anchor:middle\"><g class=\"toyplot-Series\"><text class=\"toyplot-Datum\" style=\"fill:rgb(16.1%,15.3%,14.1%);fill-opacity:1.0;font-size:32px;font-weight:normal;opacity:1.0;stroke:none;text-anchor:middle\" transform=\"translate(300.0,100.0)translate(0,8.0)\"><tspan style=\"\">foo </tspan><tspan style=\"font-weight:bold\">bar </tspan><tspan style=\"font-style:italic;font-weight:bold\">baz </tspan><tspan style=\"font-family:monospace;font-style:italic;font-weight:bold\">blah</tspan></text></g></g></svg><div class=\"toyplot-interactive\"></div></div>"
      ]
     },
     "metadata": {},
     "output_type": "display_data"
    }
   ],
   "source": [
    "canvas = toyplot.Canvas(width=600, height=150)\n",
    "canvas.text(300, 100, \"foo <b>bar <i>baz <code>blah</code></i></b>\", style={\"font-size\":\"32px\"});"
   ]
  },
  {
   "cell_type": "markdown",
   "metadata": {},
   "source": [
    "Finally, you can insert line breaks into your text using the &lt;br&gt; tag:"
   ]
  },
  {
   "cell_type": "code",
   "execution_count": 12,
   "metadata": {
    "collapsed": false
   },
   "outputs": [
    {
     "data": {
      "text/html": [
       "<div align=\"center\" class=\"toyplot\" id=\"te6a66867049b4b8c855dc0baf18fa664\"><svg class=\"toyplot-canvas-Canvas\" height=\"200.0px\" id=\"t66b5c7b4caff40e48f0b6cc71a0da809\" preserveAspectRatio=\"xMidYMid meet\" style=\"background-color:transparent;fill:rgb(16.1%,15.3%,14.1%);fill-opacity:1.0;font-family:Helvetica;font-size:12px;opacity:1.0;stroke:rgb(16.1%,15.3%,14.1%);stroke-opacity:1.0;stroke-width:1.0\" viewBox=\"0 0 600.0 200.0\" width=\"600.0px\" xmlns=\"http://www.w3.org/2000/svg\" xmlns:toyplot=\"http://www.sandia.gov/toyplot\" xmlns:xlink=\"http://www.w3.org/1999/xlink\"><g class=\"toyplot-mark-Text\" id=\"tcda1b45c02da46adbeeada68c70f6d9f\" style=\"alignment-baseline:middle;font-size:16px;font-weight:normal;stroke:none;text-anchor:middle\"><g class=\"toyplot-Series\"><text class=\"toyplot-Datum\" style=\"fill:rgb(16.1%,15.3%,14.1%);fill-opacity:1.0;font-size:16px;font-weight:normal;opacity:1.0;stroke:none;text-anchor:middle\" transform=\"translate(300.0,100.0)translate(0,4.0)\"><tspan style=\"\">0.567832</tspan><tspan dy=\"19.2\" style=\"font-size:12.8px\" x=\"0\">(243, 128, 19)</tspan></text></g></g></svg><div class=\"toyplot-interactive\"></div></div>"
      ]
     },
     "metadata": {},
     "output_type": "display_data"
    }
   ],
   "source": [
    "canvas = toyplot.Canvas(width=600, height=200)\n",
    "canvas.text(300, 100, \"0.567832<br><small>(243, 128, 19)</small>\", style={\"font-size\":\"16px\"});"
   ]
  },
  {
   "cell_type": "markdown",
   "metadata": {},
   "source": [
    "Note that additional tags and style attributes currently aren't allowed in rich-text.  We expect that the set of tags and attributes will expand in the future."
   ]
  },
  {
   "cell_type": "markdown",
   "metadata": {},
   "source": [
    "Keep in mind that you can use rich text formatting anywhere that text is displayed, including table cells, axis labels and tick labels.  You can also use rich text in format strings for tick locators - as an example, the :class:`toyplot.locator.Log` locator uses superscript tags to format tick labels for :ref:`log-scales`."
   ]
  },
  {
   "cell_type": "markdown",
   "metadata": {
    "collapsed": true
   },
   "source": [
    "## Coordinate System Text\n",
    "\n",
    "In addition to all the above, :ref:`cartesian-coordinates` and :ref:`numberline-coordinates` provide additional parameters that affect text layout and alignment.\n",
    "\n",
    "First, ticks and labels have a parameter `location` that controls whether they appear above or below an axis:"
   ]
  },
  {
   "cell_type": "code",
   "execution_count": 13,
   "metadata": {
    "collapsed": false
   },
   "outputs": [
    {
     "data": {
      "text/html": [
       "<div align=\"center\" class=\"toyplot\" id=\"tc5d5310f9b4441acbd82fe56a0aa50d0\"><svg class=\"toyplot-canvas-Canvas\" height=\"200.0px\" id=\"t4d296f2124424889be9350724463756f\" preserveAspectRatio=\"xMidYMid meet\" style=\"background-color:transparent;fill:rgb(16.1%,15.3%,14.1%);fill-opacity:1.0;font-family:Helvetica;font-size:12px;opacity:1.0;stroke:rgb(16.1%,15.3%,14.1%);stroke-opacity:1.0;stroke-width:1.0\" viewBox=\"0 0 600.0 200.0\" width=\"600.0px\" xmlns=\"http://www.w3.org/2000/svg\" xmlns:toyplot=\"http://www.sandia.gov/toyplot\" xmlns:xlink=\"http://www.w3.org/1999/xlink\"><g class=\"toyplot-coordinates-Numberline\" id=\"tbac6de0b4b5740788c63544bd7baea2f\"><clipPath id=\"tf68cf6171dc44bb4b4e671adb6eade17\"><rect height=\"40.0\" width=\"500.0\" x=\"0\" y=\"-20.0\"></rect></clipPath><g clip-path=\"url(#tf68cf6171dc44bb4b4e671adb6eade17)\" transform=\"translate(50.0,50.0)\"></g><g class=\"toyplot-coordinates-Axis\" id=\"t1808243c9376459eabb543f80fabe0ad\" transform=\"translate(50.0,50.0)translate(0,20.0)\"><line style=\"\" x1=\"0\" x2=\"500.0\" y1=\"0\" y2=\"0\"></line><g><text style=\"font-size:10px;font-weight:normal;stroke:none;text-anchor:middle\" transform=\"translate(0.0,-6)\"><tspan style=\"\">-0.5</tspan></text><text style=\"font-size:10px;font-weight:normal;stroke:none;text-anchor:middle\" transform=\"translate(250.0,-6)\"><tspan style=\"\">0.0</tspan></text><text style=\"font-size:10px;font-weight:normal;stroke:none;text-anchor:middle\" transform=\"translate(500.0,-6)\"><tspan style=\"\">0.5</tspan></text></g><g class=\"toyplot-coordinates-Axis-coordinates\" style=\"visibility:hidden\" transform=\"\"><line style=\"stroke:rgb(43.9%,50.2%,56.5%);stroke-opacity:1.0;stroke-width:1.0\" x1=\"0\" x2=\"0\" y1=\"3.0\" y2=\"-4.5\"></line><text style=\"alignment-baseline:hanging;fill:rgb(43.9%,50.2%,56.5%);fill-opacity:1.0;font-size:10px;font-weight:normal;stroke:none;text-anchor:middle\" x=\"0\" y=\"6\"></text></g></g></g><g class=\"toyplot-coordinates-Numberline\" id=\"t6110ee660b1b48a3bcdcc1115bff41bc\"><clipPath id=\"t0b00d52dcc644d2fb8c815e48e157f86\"><rect height=\"40.0\" width=\"500.0\" x=\"0\" y=\"-20.0\"></rect></clipPath><g clip-path=\"url(#t0b00d52dcc644d2fb8c815e48e157f86)\" transform=\"translate(50.0,150.0)\"></g><g class=\"toyplot-coordinates-Axis\" id=\"t23fc3e74e9334895883f4667a5528e93\" transform=\"translate(50.0,150.0)translate(0,20.0)\"><line style=\"\" x1=\"0\" x2=\"500.0\" y1=\"0\" y2=\"0\"></line><g><text style=\"font-size:10px;font-weight:normal;stroke:none;text-anchor:middle\" transform=\"translate(0.0,6)translate(0,7.5)\"><tspan style=\"\">-0.5</tspan></text><text style=\"font-size:10px;font-weight:normal;stroke:none;text-anchor:middle\" transform=\"translate(250.0,6)translate(0,7.5)\"><tspan style=\"\">0.0</tspan></text><text style=\"font-size:10px;font-weight:normal;stroke:none;text-anchor:middle\" transform=\"translate(500.0,6)translate(0,7.5)\"><tspan style=\"\">0.5</tspan></text></g><g class=\"toyplot-coordinates-Axis-coordinates\" style=\"visibility:hidden\" transform=\"\"><line style=\"stroke:rgb(43.9%,50.2%,56.5%);stroke-opacity:1.0;stroke-width:1.0\" x1=\"0\" x2=\"0\" y1=\"-3.0\" y2=\"4.5\"></line><text style=\"alignment-baseline:alphabetic;fill:rgb(43.9%,50.2%,56.5%);fill-opacity:1.0;font-size:10px;font-weight:normal;stroke:none;text-anchor:middle\" x=\"0\" y=\"-6\"></text></g></g></g></svg><div class=\"toyplot-interactive\"><script>\n",
       "        (function()\n",
       "        {\n",
       "            function _sign(x)\n",
       "            {\n",
       "                return x < 0 ? -1 : x > 0 ? 1 : 0;\n",
       "            }\n",
       "\n",
       "            function _mix(a, b, amount)\n",
       "            {\n",
       "                return ((1.0 - amount) * a) + (amount * b);\n",
       "            }\n",
       "\n",
       "            function _log(x, base)\n",
       "            {\n",
       "                return Math.log(Math.abs(x)) / Math.log(base);\n",
       "            }\n",
       "\n",
       "            function _in_range(a, x, b)\n",
       "            {\n",
       "                var left = Math.min(a, b);\n",
       "                var right = Math.max(a, b);\n",
       "                return left <= x && x <= right;\n",
       "            }\n",
       "\n",
       "            function inside(range, projection)\n",
       "            {\n",
       "                for(var i = 0; i != projection.length; ++i)\n",
       "                {\n",
       "                    var segment = projection[i];\n",
       "                    if(_in_range(segment.range.min, range, segment.range.max))\n",
       "                        return true;\n",
       "                }\n",
       "                return false;\n",
       "            }\n",
       "\n",
       "            function to_domain(range, projection)\n",
       "            {\n",
       "                for(var i = 0; i != projection.length; ++i)\n",
       "                {\n",
       "                    var segment = projection[i];\n",
       "                    if(_in_range(segment.range.bounds.min, range, segment.range.bounds.max))\n",
       "                    {\n",
       "                        if(segment.scale == \"linear\")\n",
       "                        {\n",
       "                            var amount = (range - segment.range.min) / (segment.range.max - segment.range.min);\n",
       "                            return _mix(segment.domain.min, segment.domain.max, amount)\n",
       "                        }\n",
       "                        else if(segment.scale[0] == \"log\")\n",
       "                        {\n",
       "                            var amount = (range - segment.range.min) / (segment.range.max - segment.range.min);\n",
       "                            var base = segment.scale[1];\n",
       "                            return _sign(segment.domain.min) * Math.pow(base, _mix(_log(segment.domain.min, base), _log(segment.domain.max, base), amount));\n",
       "                        }\n",
       "                    }\n",
       "                }\n",
       "            }\n",
       "\n",
       "            function display_coordinates(e)\n",
       "            {\n",
       "                var current = svg.createSVGPoint();\n",
       "                current.x = e.clientX;\n",
       "                current.y = e.clientY;\n",
       "\n",
       "                for(var axis_id in axes)\n",
       "                {\n",
       "                    var axis = document.querySelector(\"#\" + axis_id);\n",
       "                    var coordinates = axis.querySelector(\".toyplot-coordinates-Axis-coordinates\");\n",
       "                    if(coordinates)\n",
       "                    {\n",
       "                        var projection = axes[axis_id];\n",
       "                        var local = current.matrixTransform(axis.getScreenCTM().inverse());\n",
       "                        if(inside(local.x, projection))\n",
       "                        {\n",
       "                            var domain = to_domain(local.x, projection);\n",
       "                            coordinates.style.visibility = \"visible\";\n",
       "                            coordinates.setAttribute(\"transform\", \"translate(\" + local.x + \")\");\n",
       "                            var text = coordinates.querySelector(\"text\");\n",
       "                            text.textContent = domain.toFixed(2);\n",
       "                        }\n",
       "                        else\n",
       "                        {\n",
       "                            coordinates.style.visibility= \"hidden\";\n",
       "                        }\n",
       "                    }\n",
       "                }\n",
       "            }\n",
       "\n",
       "            var root_id = \"tc5d5310f9b4441acbd82fe56a0aa50d0\";\n",
       "            var axes = {\"t1808243c9376459eabb543f80fabe0ad\": [{\"domain\": {\"bounds\": {\"max\": Infinity, \"min\": -Infinity}, \"max\": 0.5, \"min\": -0.5}, \"range\": {\"bounds\": {\"max\": Infinity, \"min\": -Infinity}, \"max\": 500.0, \"min\": 0.0}, \"scale\": \"linear\"}], \"t23fc3e74e9334895883f4667a5528e93\": [{\"domain\": {\"bounds\": {\"max\": Infinity, \"min\": -Infinity}, \"max\": 0.5, \"min\": -0.5}, \"range\": {\"bounds\": {\"max\": Infinity, \"min\": -Infinity}, \"max\": 500.0, \"min\": 0.0}, \"scale\": \"linear\"}]};\n",
       "\n",
       "            var svg = document.querySelector(\"#\" + root_id + \" svg\");\n",
       "            svg.addEventListener(\"click\", display_coordinates);\n",
       "        })();\n",
       "        </script></div></div>"
      ]
     },
     "metadata": {},
     "output_type": "display_data"
    }
   ],
   "source": [
    "canvas = toyplot.Canvas(width=600, height=200)\n",
    "\n",
    "numberline1 = canvas.numberline(grid=(2, 1, 0))\n",
    "numberline1.axis.ticks.location=\"above\"\n",
    "\n",
    "numberline2 = canvas.numberline(grid=(2, 1, 1))\n",
    "numberline2.axis.ticks.location=\"below\""
   ]
  },
  {
   "cell_type": "markdown",
   "metadata": {},
   "source": [
    "Note that although the location can be specified explicitly, in most cases the defaults should just work ... note how the location of the Y axis ticks and labels automatically changes from \"above\" to \"below\" when the Y axis spine is repositioned in the following example:"
   ]
  },
  {
   "cell_type": "code",
   "execution_count": 14,
   "metadata": {
    "collapsed": false
   },
   "outputs": [
    {
     "data": {
      "text/html": [
       "<div align=\"center\" class=\"toyplot\" id=\"t9bc0d3ff973e49bdab525f15528f3343\"><svg class=\"toyplot-canvas-Canvas\" height=\"300.0px\" id=\"t56ab7265f2f14244bff8893b4130227f\" preserveAspectRatio=\"xMidYMid meet\" style=\"background-color:transparent;fill:rgb(16.1%,15.3%,14.1%);fill-opacity:1.0;font-family:Helvetica;font-size:12px;opacity:1.0;stroke:rgb(16.1%,15.3%,14.1%);stroke-opacity:1.0;stroke-width:1.0\" viewBox=\"0 0 600.0 300.0\" width=\"600.0px\" xmlns=\"http://www.w3.org/2000/svg\" xmlns:toyplot=\"http://www.sandia.gov/toyplot\" xmlns:xlink=\"http://www.w3.org/1999/xlink\"><g class=\"toyplot-coordinates-Cartesian\" id=\"tfc48649c66ff45ca8455920d84749299\"><clipPath id=\"t94e71ffd43e74ac1a956319989407f31\"><rect height=\"220.0\" width=\"220.0\" x=\"40.0\" y=\"40.0\"></rect></clipPath><g clip-path=\"url(#t94e71ffd43e74ac1a956319989407f31)\"></g><g class=\"toyplot-coordinates-Axis\" id=\"tbbccf6b616bf497a9f0b498684a84c40\" transform=\"translate(50.0,250.0)translate(0,10.0)\"><line style=\"\" x1=\"0\" x2=\"200.0\" y1=\"0\" y2=\"0\"></line><g><text style=\"font-size:10px;font-weight:normal;stroke:none;text-anchor:middle\" transform=\"translate(0.0,6)translate(0,7.5)\"><tspan style=\"\">-0.5</tspan></text><text style=\"font-size:10px;font-weight:normal;stroke:none;text-anchor:middle\" transform=\"translate(100.0,6)translate(0,7.5)\"><tspan style=\"\">0.0</tspan></text><text style=\"font-size:10px;font-weight:normal;stroke:none;text-anchor:middle\" transform=\"translate(200.0,6)translate(0,7.5)\"><tspan style=\"\">0.5</tspan></text></g><g class=\"toyplot-coordinates-Axis-coordinates\" style=\"visibility:hidden\" transform=\"\"><line style=\"stroke:rgb(43.9%,50.2%,56.5%);stroke-opacity:1.0;stroke-width:1.0\" x1=\"0\" x2=\"0\" y1=\"-3.0\" y2=\"4.5\"></line><text style=\"alignment-baseline:alphabetic;fill:rgb(43.9%,50.2%,56.5%);fill-opacity:1.0;font-size:10px;font-weight:normal;stroke:none;text-anchor:middle\" x=\"0\" y=\"-6\"></text></g></g><g class=\"toyplot-coordinates-Axis\" id=\"t47e05260a16c412583900024b5cad881\" transform=\"translate(50.0,250.0)rotate(-90.0)translate(0,-10.0)\"><line style=\"\" x1=\"0\" x2=\"200.0\" y1=\"0\" y2=\"0\"></line><g><text style=\"font-size:10px;font-weight:normal;stroke:none;text-anchor:middle\" transform=\"translate(0.0,-6)\"><tspan style=\"\">-0.5</tspan></text><text style=\"font-size:10px;font-weight:normal;stroke:none;text-anchor:middle\" transform=\"translate(100.0,-6)\"><tspan style=\"\">0.0</tspan></text><text style=\"font-size:10px;font-weight:normal;stroke:none;text-anchor:middle\" transform=\"translate(200.0,-6)\"><tspan style=\"\">0.5</tspan></text></g><g class=\"toyplot-coordinates-Axis-coordinates\" style=\"visibility:hidden\" transform=\"\"><line style=\"stroke:rgb(43.9%,50.2%,56.5%);stroke-opacity:1.0;stroke-width:1.0\" x1=\"0\" x2=\"0\" y1=\"3.0\" y2=\"-4.5\"></line><text style=\"alignment-baseline:hanging;fill:rgb(43.9%,50.2%,56.5%);fill-opacity:1.0;font-size:10px;font-weight:normal;stroke:none;text-anchor:middle\" x=\"0\" y=\"6\"></text></g></g></g><g class=\"toyplot-coordinates-Cartesian\" id=\"t50deedb41ac542069a59c8ea537173de\"><clipPath id=\"taea8f24383cf467f81534da626eb859c\"><rect height=\"220.0\" width=\"220.0\" x=\"340.0\" y=\"40.0\"></rect></clipPath><g clip-path=\"url(#taea8f24383cf467f81534da626eb859c)\"></g><g class=\"toyplot-coordinates-Axis\" id=\"td318ccb179204e04be8bbcf4c3832058\" transform=\"translate(350.0,250.0)translate(0,10.0)\"><line style=\"\" x1=\"0\" x2=\"200.0\" y1=\"0\" y2=\"0\"></line><g><text style=\"font-size:10px;font-weight:normal;stroke:none;text-anchor:middle\" transform=\"translate(0.0,6)translate(0,7.5)\"><tspan style=\"\">-0.5</tspan></text><text style=\"font-size:10px;font-weight:normal;stroke:none;text-anchor:middle\" transform=\"translate(100.0,6)translate(0,7.5)\"><tspan style=\"\">0.0</tspan></text><text style=\"font-size:10px;font-weight:normal;stroke:none;text-anchor:middle\" transform=\"translate(200.0,6)translate(0,7.5)\"><tspan style=\"\">0.5</tspan></text></g><g class=\"toyplot-coordinates-Axis-coordinates\" style=\"visibility:hidden\" transform=\"\"><line style=\"stroke:rgb(43.9%,50.2%,56.5%);stroke-opacity:1.0;stroke-width:1.0\" x1=\"0\" x2=\"0\" y1=\"-3.0\" y2=\"4.5\"></line><text style=\"alignment-baseline:alphabetic;fill:rgb(43.9%,50.2%,56.5%);fill-opacity:1.0;font-size:10px;font-weight:normal;stroke:none;text-anchor:middle\" x=\"0\" y=\"-6\"></text></g></g><g class=\"toyplot-coordinates-Axis\" id=\"t9adddbe102a34fe28ae2325b8e8ef6dd\" transform=\"translate(550.0,250.0)rotate(-90.0)translate(0,10.0)\"><line style=\"\" x1=\"0\" x2=\"200.0\" y1=\"0\" y2=\"0\"></line><g><text style=\"font-size:10px;font-weight:normal;stroke:none;text-anchor:middle\" transform=\"translate(0.0,6)translate(0,7.5)\"><tspan style=\"\">-0.5</tspan></text><text style=\"font-size:10px;font-weight:normal;stroke:none;text-anchor:middle\" transform=\"translate(100.0,6)translate(0,7.5)\"><tspan style=\"\">0.0</tspan></text><text style=\"font-size:10px;font-weight:normal;stroke:none;text-anchor:middle\" transform=\"translate(200.0,6)translate(0,7.5)\"><tspan style=\"\">0.5</tspan></text></g><g class=\"toyplot-coordinates-Axis-coordinates\" style=\"visibility:hidden\" transform=\"\"><line style=\"stroke:rgb(43.9%,50.2%,56.5%);stroke-opacity:1.0;stroke-width:1.0\" x1=\"0\" x2=\"0\" y1=\"-3.0\" y2=\"4.5\"></line><text style=\"alignment-baseline:alphabetic;fill:rgb(43.9%,50.2%,56.5%);fill-opacity:1.0;font-size:10px;font-weight:normal;stroke:none;text-anchor:middle\" x=\"0\" y=\"-6\"></text></g></g></g></svg><div class=\"toyplot-interactive\"><script>\n",
       "        (function()\n",
       "        {\n",
       "            function _sign(x)\n",
       "            {\n",
       "                return x < 0 ? -1 : x > 0 ? 1 : 0;\n",
       "            }\n",
       "\n",
       "            function _mix(a, b, amount)\n",
       "            {\n",
       "                return ((1.0 - amount) * a) + (amount * b);\n",
       "            }\n",
       "\n",
       "            function _log(x, base)\n",
       "            {\n",
       "                return Math.log(Math.abs(x)) / Math.log(base);\n",
       "            }\n",
       "\n",
       "            function _in_range(a, x, b)\n",
       "            {\n",
       "                var left = Math.min(a, b);\n",
       "                var right = Math.max(a, b);\n",
       "                return left <= x && x <= right;\n",
       "            }\n",
       "\n",
       "            function inside(range, projection)\n",
       "            {\n",
       "                for(var i = 0; i != projection.length; ++i)\n",
       "                {\n",
       "                    var segment = projection[i];\n",
       "                    if(_in_range(segment.range.min, range, segment.range.max))\n",
       "                        return true;\n",
       "                }\n",
       "                return false;\n",
       "            }\n",
       "\n",
       "            function to_domain(range, projection)\n",
       "            {\n",
       "                for(var i = 0; i != projection.length; ++i)\n",
       "                {\n",
       "                    var segment = projection[i];\n",
       "                    if(_in_range(segment.range.bounds.min, range, segment.range.bounds.max))\n",
       "                    {\n",
       "                        if(segment.scale == \"linear\")\n",
       "                        {\n",
       "                            var amount = (range - segment.range.min) / (segment.range.max - segment.range.min);\n",
       "                            return _mix(segment.domain.min, segment.domain.max, amount)\n",
       "                        }\n",
       "                        else if(segment.scale[0] == \"log\")\n",
       "                        {\n",
       "                            var amount = (range - segment.range.min) / (segment.range.max - segment.range.min);\n",
       "                            var base = segment.scale[1];\n",
       "                            return _sign(segment.domain.min) * Math.pow(base, _mix(_log(segment.domain.min, base), _log(segment.domain.max, base), amount));\n",
       "                        }\n",
       "                    }\n",
       "                }\n",
       "            }\n",
       "\n",
       "            function display_coordinates(e)\n",
       "            {\n",
       "                var current = svg.createSVGPoint();\n",
       "                current.x = e.clientX;\n",
       "                current.y = e.clientY;\n",
       "\n",
       "                for(var axis_id in axes)\n",
       "                {\n",
       "                    var axis = document.querySelector(\"#\" + axis_id);\n",
       "                    var coordinates = axis.querySelector(\".toyplot-coordinates-Axis-coordinates\");\n",
       "                    if(coordinates)\n",
       "                    {\n",
       "                        var projection = axes[axis_id];\n",
       "                        var local = current.matrixTransform(axis.getScreenCTM().inverse());\n",
       "                        if(inside(local.x, projection))\n",
       "                        {\n",
       "                            var domain = to_domain(local.x, projection);\n",
       "                            coordinates.style.visibility = \"visible\";\n",
       "                            coordinates.setAttribute(\"transform\", \"translate(\" + local.x + \")\");\n",
       "                            var text = coordinates.querySelector(\"text\");\n",
       "                            text.textContent = domain.toFixed(2);\n",
       "                        }\n",
       "                        else\n",
       "                        {\n",
       "                            coordinates.style.visibility= \"hidden\";\n",
       "                        }\n",
       "                    }\n",
       "                }\n",
       "            }\n",
       "\n",
       "            var root_id = \"t9bc0d3ff973e49bdab525f15528f3343\";\n",
       "            var axes = {\"t47e05260a16c412583900024b5cad881\": [{\"domain\": {\"bounds\": {\"max\": Infinity, \"min\": -Infinity}, \"max\": 0.5, \"min\": -0.5}, \"range\": {\"bounds\": {\"max\": Infinity, \"min\": -Infinity}, \"max\": 200.0, \"min\": 0.0}, \"scale\": \"linear\"}], \"t9adddbe102a34fe28ae2325b8e8ef6dd\": [{\"domain\": {\"bounds\": {\"max\": Infinity, \"min\": -Infinity}, \"max\": 0.5, \"min\": -0.5}, \"range\": {\"bounds\": {\"max\": Infinity, \"min\": -Infinity}, \"max\": 200.0, \"min\": 0.0}, \"scale\": \"linear\"}], \"tbbccf6b616bf497a9f0b498684a84c40\": [{\"domain\": {\"bounds\": {\"max\": Infinity, \"min\": -Infinity}, \"max\": 0.5, \"min\": -0.5}, \"range\": {\"bounds\": {\"max\": Infinity, \"min\": -Infinity}, \"max\": 200.0, \"min\": 0.0}, \"scale\": \"linear\"}], \"td318ccb179204e04be8bbcf4c3832058\": [{\"domain\": {\"bounds\": {\"max\": Infinity, \"min\": -Infinity}, \"max\": 0.5, \"min\": -0.5}, \"range\": {\"bounds\": {\"max\": Infinity, \"min\": -Infinity}, \"max\": 200.0, \"min\": 0.0}, \"scale\": \"linear\"}]};\n",
       "\n",
       "            var svg = document.querySelector(\"#\" + root_id + \" svg\");\n",
       "            svg.addEventListener(\"click\", display_coordinates);\n",
       "        })();\n",
       "        </script></div></div>"
      ]
     },
     "metadata": {},
     "output_type": "display_data"
    }
   ],
   "source": [
    "canvas = toyplot.Canvas(width=600, height=300)\n",
    "\n",
    "axis1 = canvas.cartesian(grid=(1, 2, 0))\n",
    "\n",
    "axis2 = canvas.cartesian(grid=(1, 2, 1))\n",
    "axis2.y.spine.position=\"high\""
   ]
  },
  {
   "cell_type": "markdown",
   "metadata": {},
   "source": [
    "In addition to positioning tick labels above or below an axis, you can also adjust their `offset` - the distance from the axis spine to the text anchor.  The `offset` parameter is specified so that increasing values move text further from the axis, whether its location is above or below - in the following example, note that both offsets are positive:  "
   ]
  },
  {
   "cell_type": "code",
   "execution_count": 15,
   "metadata": {
    "collapsed": false
   },
   "outputs": [
    {
     "data": {
      "text/html": [
       "<div align=\"center\" class=\"toyplot\" id=\"t0ff65d1d519e414bbd8e0f28c82069d3\"><svg class=\"toyplot-canvas-Canvas\" height=\"300.0px\" id=\"tb80c1c72613f4ceb8b5f6608fcc01f01\" preserveAspectRatio=\"xMidYMid meet\" style=\"background-color:transparent;fill:rgb(16.1%,15.3%,14.1%);fill-opacity:1.0;font-family:Helvetica;font-size:12px;opacity:1.0;stroke:rgb(16.1%,15.3%,14.1%);stroke-opacity:1.0;stroke-width:1.0\" viewBox=\"0 0 600.0 300.0\" width=\"600.0px\" xmlns=\"http://www.w3.org/2000/svg\" xmlns:toyplot=\"http://www.sandia.gov/toyplot\" xmlns:xlink=\"http://www.w3.org/1999/xlink\"><g class=\"toyplot-coordinates-Cartesian\" id=\"tecaecd95e794401f8669ec9f5bc2491c\"><clipPath id=\"t1c467f73d09f4bb3bf6822ec447a68fc\"><rect height=\"220.0\" width=\"220.0\" x=\"40.0\" y=\"40.0\"></rect></clipPath><g clip-path=\"url(#t1c467f73d09f4bb3bf6822ec447a68fc)\"></g><g class=\"toyplot-coordinates-Axis\" id=\"t017c21ece65048d885beab2419a9cb34\" transform=\"translate(50.0,250.0)translate(0,10.0)\"><line style=\"\" x1=\"0\" x2=\"200.0\" y1=\"0\" y2=\"0\"></line><g><text style=\"font-size:10px;font-weight:normal;stroke:none;text-anchor:middle\" transform=\"translate(0.0,6)translate(0,7.5)\"><tspan style=\"\">-0.5</tspan></text><text style=\"font-size:10px;font-weight:normal;stroke:none;text-anchor:middle\" transform=\"translate(100.0,6)translate(0,7.5)\"><tspan style=\"\">0.0</tspan></text><text style=\"font-size:10px;font-weight:normal;stroke:none;text-anchor:middle\" transform=\"translate(200.0,6)translate(0,7.5)\"><tspan style=\"\">0.5</tspan></text></g><g class=\"toyplot-coordinates-Axis-coordinates\" style=\"visibility:hidden\" transform=\"\"><line style=\"stroke:rgb(43.9%,50.2%,56.5%);stroke-opacity:1.0;stroke-width:1.0\" x1=\"0\" x2=\"0\" y1=\"-3.0\" y2=\"4.5\"></line><text style=\"alignment-baseline:alphabetic;fill:rgb(43.9%,50.2%,56.5%);fill-opacity:1.0;font-size:10px;font-weight:normal;stroke:none;text-anchor:middle\" x=\"0\" y=\"-6\"></text></g></g><g class=\"toyplot-coordinates-Axis\" id=\"t16add76fa5b04ff29312c408ce8b6d22\" transform=\"translate(50.0,250.0)rotate(-90.0)translate(0,-10.0)\"><line style=\"\" x1=\"0\" x2=\"200.0\" y1=\"0\" y2=\"0\"></line><g><text style=\"font-size:10px;font-weight:normal;stroke:none;text-anchor:middle\" transform=\"translate(0.0,-30.0)\"><tspan style=\"\">-0.5</tspan></text><text style=\"font-size:10px;font-weight:normal;stroke:none;text-anchor:middle\" transform=\"translate(100.0,-30.0)\"><tspan style=\"\">0.0</tspan></text><text style=\"font-size:10px;font-weight:normal;stroke:none;text-anchor:middle\" transform=\"translate(200.0,-30.0)\"><tspan style=\"\">0.5</tspan></text></g><g class=\"toyplot-coordinates-Axis-coordinates\" style=\"visibility:hidden\" transform=\"\"><line style=\"stroke:rgb(43.9%,50.2%,56.5%);stroke-opacity:1.0;stroke-width:1.0\" x1=\"0\" x2=\"0\" y1=\"15.0\" y2=\"-22.5\"></line><text style=\"alignment-baseline:hanging;fill:rgb(43.9%,50.2%,56.5%);fill-opacity:1.0;font-size:10px;font-weight:normal;stroke:none;text-anchor:middle\" x=\"0\" y=\"30.0\"></text></g></g></g><g class=\"toyplot-coordinates-Cartesian\" id=\"t03f11342f1924a2385a582f20fb071db\"><clipPath id=\"t9b24e25c877b443eaf01aafc2eff2e53\"><rect height=\"220.0\" width=\"220.0\" x=\"340.0\" y=\"40.0\"></rect></clipPath><g clip-path=\"url(#t9b24e25c877b443eaf01aafc2eff2e53)\"></g><g class=\"toyplot-coordinates-Axis\" id=\"t22f70071ca674e41adeb09bce0edce68\" transform=\"translate(350.0,250.0)translate(0,10.0)\"><line style=\"\" x1=\"0\" x2=\"200.0\" y1=\"0\" y2=\"0\"></line><g><text style=\"font-size:10px;font-weight:normal;stroke:none;text-anchor:middle\" transform=\"translate(0.0,6)translate(0,7.5)\"><tspan style=\"\">-0.5</tspan></text><text style=\"font-size:10px;font-weight:normal;stroke:none;text-anchor:middle\" transform=\"translate(100.0,6)translate(0,7.5)\"><tspan style=\"\">0.0</tspan></text><text style=\"font-size:10px;font-weight:normal;stroke:none;text-anchor:middle\" transform=\"translate(200.0,6)translate(0,7.5)\"><tspan style=\"\">0.5</tspan></text></g><g class=\"toyplot-coordinates-Axis-coordinates\" style=\"visibility:hidden\" transform=\"\"><line style=\"stroke:rgb(43.9%,50.2%,56.5%);stroke-opacity:1.0;stroke-width:1.0\" x1=\"0\" x2=\"0\" y1=\"-3.0\" y2=\"4.5\"></line><text style=\"alignment-baseline:alphabetic;fill:rgb(43.9%,50.2%,56.5%);fill-opacity:1.0;font-size:10px;font-weight:normal;stroke:none;text-anchor:middle\" x=\"0\" y=\"-6\"></text></g></g><g class=\"toyplot-coordinates-Axis\" id=\"tcdff49f0e0e4454c8594e80e22d6dff8\" transform=\"translate(550.0,250.0)rotate(-90.0)translate(0,10.0)\"><line style=\"\" x1=\"0\" x2=\"200.0\" y1=\"0\" y2=\"0\"></line><g><text style=\"font-size:10px;font-weight:normal;stroke:none;text-anchor:middle\" transform=\"translate(0.0,30.0)translate(0,7.5)\"><tspan style=\"\">-0.5</tspan></text><text style=\"font-size:10px;font-weight:normal;stroke:none;text-anchor:middle\" transform=\"translate(100.0,30.0)translate(0,7.5)\"><tspan style=\"\">0.0</tspan></text><text style=\"font-size:10px;font-weight:normal;stroke:none;text-anchor:middle\" transform=\"translate(200.0,30.0)translate(0,7.5)\"><tspan style=\"\">0.5</tspan></text></g><g class=\"toyplot-coordinates-Axis-coordinates\" style=\"visibility:hidden\" transform=\"\"><line style=\"stroke:rgb(43.9%,50.2%,56.5%);stroke-opacity:1.0;stroke-width:1.0\" x1=\"0\" x2=\"0\" y1=\"-15.0\" y2=\"22.5\"></line><text style=\"alignment-baseline:alphabetic;fill:rgb(43.9%,50.2%,56.5%);fill-opacity:1.0;font-size:10px;font-weight:normal;stroke:none;text-anchor:middle\" x=\"0\" y=\"-30.0\"></text></g></g></g></svg><div class=\"toyplot-interactive\"><script>\n",
       "        (function()\n",
       "        {\n",
       "            function _sign(x)\n",
       "            {\n",
       "                return x < 0 ? -1 : x > 0 ? 1 : 0;\n",
       "            }\n",
       "\n",
       "            function _mix(a, b, amount)\n",
       "            {\n",
       "                return ((1.0 - amount) * a) + (amount * b);\n",
       "            }\n",
       "\n",
       "            function _log(x, base)\n",
       "            {\n",
       "                return Math.log(Math.abs(x)) / Math.log(base);\n",
       "            }\n",
       "\n",
       "            function _in_range(a, x, b)\n",
       "            {\n",
       "                var left = Math.min(a, b);\n",
       "                var right = Math.max(a, b);\n",
       "                return left <= x && x <= right;\n",
       "            }\n",
       "\n",
       "            function inside(range, projection)\n",
       "            {\n",
       "                for(var i = 0; i != projection.length; ++i)\n",
       "                {\n",
       "                    var segment = projection[i];\n",
       "                    if(_in_range(segment.range.min, range, segment.range.max))\n",
       "                        return true;\n",
       "                }\n",
       "                return false;\n",
       "            }\n",
       "\n",
       "            function to_domain(range, projection)\n",
       "            {\n",
       "                for(var i = 0; i != projection.length; ++i)\n",
       "                {\n",
       "                    var segment = projection[i];\n",
       "                    if(_in_range(segment.range.bounds.min, range, segment.range.bounds.max))\n",
       "                    {\n",
       "                        if(segment.scale == \"linear\")\n",
       "                        {\n",
       "                            var amount = (range - segment.range.min) / (segment.range.max - segment.range.min);\n",
       "                            return _mix(segment.domain.min, segment.domain.max, amount)\n",
       "                        }\n",
       "                        else if(segment.scale[0] == \"log\")\n",
       "                        {\n",
       "                            var amount = (range - segment.range.min) / (segment.range.max - segment.range.min);\n",
       "                            var base = segment.scale[1];\n",
       "                            return _sign(segment.domain.min) * Math.pow(base, _mix(_log(segment.domain.min, base), _log(segment.domain.max, base), amount));\n",
       "                        }\n",
       "                    }\n",
       "                }\n",
       "            }\n",
       "\n",
       "            function display_coordinates(e)\n",
       "            {\n",
       "                var current = svg.createSVGPoint();\n",
       "                current.x = e.clientX;\n",
       "                current.y = e.clientY;\n",
       "\n",
       "                for(var axis_id in axes)\n",
       "                {\n",
       "                    var axis = document.querySelector(\"#\" + axis_id);\n",
       "                    var coordinates = axis.querySelector(\".toyplot-coordinates-Axis-coordinates\");\n",
       "                    if(coordinates)\n",
       "                    {\n",
       "                        var projection = axes[axis_id];\n",
       "                        var local = current.matrixTransform(axis.getScreenCTM().inverse());\n",
       "                        if(inside(local.x, projection))\n",
       "                        {\n",
       "                            var domain = to_domain(local.x, projection);\n",
       "                            coordinates.style.visibility = \"visible\";\n",
       "                            coordinates.setAttribute(\"transform\", \"translate(\" + local.x + \")\");\n",
       "                            var text = coordinates.querySelector(\"text\");\n",
       "                            text.textContent = domain.toFixed(2);\n",
       "                        }\n",
       "                        else\n",
       "                        {\n",
       "                            coordinates.style.visibility= \"hidden\";\n",
       "                        }\n",
       "                    }\n",
       "                }\n",
       "            }\n",
       "\n",
       "            var root_id = \"t0ff65d1d519e414bbd8e0f28c82069d3\";\n",
       "            var axes = {\"t017c21ece65048d885beab2419a9cb34\": [{\"domain\": {\"bounds\": {\"max\": Infinity, \"min\": -Infinity}, \"max\": 0.5, \"min\": -0.5}, \"range\": {\"bounds\": {\"max\": Infinity, \"min\": -Infinity}, \"max\": 200.0, \"min\": 0.0}, \"scale\": \"linear\"}], \"t16add76fa5b04ff29312c408ce8b6d22\": [{\"domain\": {\"bounds\": {\"max\": Infinity, \"min\": -Infinity}, \"max\": 0.5, \"min\": -0.5}, \"range\": {\"bounds\": {\"max\": Infinity, \"min\": -Infinity}, \"max\": 200.0, \"min\": 0.0}, \"scale\": \"linear\"}], \"t22f70071ca674e41adeb09bce0edce68\": [{\"domain\": {\"bounds\": {\"max\": Infinity, \"min\": -Infinity}, \"max\": 0.5, \"min\": -0.5}, \"range\": {\"bounds\": {\"max\": Infinity, \"min\": -Infinity}, \"max\": 200.0, \"min\": 0.0}, \"scale\": \"linear\"}], \"tcdff49f0e0e4454c8594e80e22d6dff8\": [{\"domain\": {\"bounds\": {\"max\": Infinity, \"min\": -Infinity}, \"max\": 0.5, \"min\": -0.5}, \"range\": {\"bounds\": {\"max\": Infinity, \"min\": -Infinity}, \"max\": 200.0, \"min\": 0.0}, \"scale\": \"linear\"}]};\n",
       "\n",
       "            var svg = document.querySelector(\"#\" + root_id + \" svg\");\n",
       "            svg.addEventListener(\"click\", display_coordinates);\n",
       "        })();\n",
       "        </script></div></div>"
      ]
     },
     "metadata": {},
     "output_type": "display_data"
    }
   ],
   "source": [
    "canvas = toyplot.Canvas(width=600, height=300)\n",
    "\n",
    "axis1 = canvas.cartesian(grid=(1, 2, 0))\n",
    "axis1.y.ticks.labels.offset=30\n",
    "\n",
    "axis2 = canvas.cartesian(grid=(1, 2, 1))\n",
    "axis2.y.spine.position=\"high\"\n",
    "axis2.y.ticks.labels.offset=30"
   ]
  },
  {
   "cell_type": "markdown",
   "metadata": {},
   "source": [
    "The default text alignment parameters have been carefully chosen to provide good quality layout even if you change the label font size, and regardless of label location:"
   ]
  },
  {
   "cell_type": "code",
   "execution_count": 16,
   "metadata": {
    "collapsed": false
   },
   "outputs": [
    {
     "data": {
      "text/html": [
       "<div align=\"center\" class=\"toyplot\" id=\"te82fdae49cfb4cefa81b52764f8bed7c\"><svg class=\"toyplot-canvas-Canvas\" height=\"400.0px\" id=\"tb7d55af3d2134af1aae152f90e409e2d\" preserveAspectRatio=\"xMidYMid meet\" style=\"background-color:transparent;fill:rgb(16.1%,15.3%,14.1%);fill-opacity:1.0;font-family:Helvetica;font-size:12px;opacity:1.0;stroke:rgb(16.1%,15.3%,14.1%);stroke-opacity:1.0;stroke-width:1.0\" viewBox=\"0 0 600.0 400.0\" width=\"600.0px\" xmlns=\"http://www.w3.org/2000/svg\" xmlns:toyplot=\"http://www.sandia.gov/toyplot\" xmlns:xlink=\"http://www.w3.org/1999/xlink\"><g class=\"toyplot-coordinates-Numberline\" id=\"t9e7312c0c21d46e39a00b5b0f893c035\"><clipPath id=\"t692064511e304fcbaa993e5cd4081ac1\"><rect height=\"40.0\" width=\"500.0\" x=\"0\" y=\"-20.0\"></rect></clipPath><g clip-path=\"url(#t692064511e304fcbaa993e5cd4081ac1)\" transform=\"translate(50.0,50.0)\"></g><g class=\"toyplot-coordinates-Axis\" id=\"t9ce8828ec0d149f6ac6b18968d6df7fc\" transform=\"translate(50.0,50.0)translate(0,20.0)\"><line style=\"\" x1=\"0\" x2=\"500.0\" y1=\"0\" y2=\"0\"></line><g><text style=\"font-size:10px;font-weight:normal;stroke:none;text-anchor:middle\" transform=\"translate(0.0,-6)\"><tspan style=\"\">-0.5</tspan></text><text style=\"font-size:10px;font-weight:normal;stroke:none;text-anchor:middle\" transform=\"translate(250.0,-6)\"><tspan style=\"\">0.0</tspan></text><text style=\"font-size:10px;font-weight:normal;stroke:none;text-anchor:middle\" transform=\"translate(500.0,-6)\"><tspan style=\"\">0.5</tspan></text></g><g class=\"toyplot-coordinates-Axis-coordinates\" style=\"visibility:hidden\" transform=\"\"><line style=\"stroke:rgb(43.9%,50.2%,56.5%);stroke-opacity:1.0;stroke-width:1.0\" x1=\"0\" x2=\"0\" y1=\"3.0\" y2=\"-4.5\"></line><text style=\"alignment-baseline:hanging;fill:rgb(43.9%,50.2%,56.5%);fill-opacity:1.0;font-size:10px;font-weight:normal;stroke:none;text-anchor:middle\" x=\"0\" y=\"6\"></text></g></g></g><g class=\"toyplot-coordinates-Numberline\" id=\"t778fc2fadfd14f2daccb40ecca03a395\"><clipPath id=\"t5b7ba38d6c564e9a8dc79f0b7371d2f0\"><rect height=\"40.0\" width=\"500.0\" x=\"0\" y=\"-20.0\"></rect></clipPath><g clip-path=\"url(#t5b7ba38d6c564e9a8dc79f0b7371d2f0)\" transform=\"translate(50.0,150.0)\"></g><g class=\"toyplot-coordinates-Axis\" id=\"t4da8c5cbe14b45e2a61580ec9bb9faf3\" transform=\"translate(50.0,150.0)translate(0,20.0)\"><line style=\"\" x1=\"0\" x2=\"500.0\" y1=\"0\" y2=\"0\"></line><g><text style=\"font-size:16px;font-weight:normal;stroke:none;text-anchor:middle\" transform=\"translate(0.0,-6)\"><tspan style=\"\">-0.5</tspan></text><text style=\"font-size:16px;font-weight:normal;stroke:none;text-anchor:middle\" transform=\"translate(250.0,-6)\"><tspan style=\"\">0.0</tspan></text><text style=\"font-size:16px;font-weight:normal;stroke:none;text-anchor:middle\" transform=\"translate(500.0,-6)\"><tspan style=\"\">0.5</tspan></text></g><g class=\"toyplot-coordinates-Axis-coordinates\" style=\"visibility:hidden\" transform=\"\"><line style=\"stroke:rgb(43.9%,50.2%,56.5%);stroke-opacity:1.0;stroke-width:1.0\" x1=\"0\" x2=\"0\" y1=\"3.0\" y2=\"-4.5\"></line><text style=\"alignment-baseline:hanging;fill:rgb(43.9%,50.2%,56.5%);fill-opacity:1.0;font-size:10px;font-weight:normal;stroke:none;text-anchor:middle\" x=\"0\" y=\"6\"></text></g></g></g><g class=\"toyplot-coordinates-Numberline\" id=\"ted0e8813be3b4d2f84eb3f71438a0ccb\"><clipPath id=\"ta9c575838016410884df49303470df66\"><rect height=\"40.0\" width=\"500.0\" x=\"0\" y=\"-20.0\"></rect></clipPath><g clip-path=\"url(#ta9c575838016410884df49303470df66)\" transform=\"translate(50.0,250.0)\"></g><g class=\"toyplot-coordinates-Axis\" id=\"tbf4da120e1cf4edd91ba09dc182e84b8\" transform=\"translate(50.0,250.0)translate(0,20.0)\"><line style=\"\" x1=\"0\" x2=\"500.0\" y1=\"0\" y2=\"0\"></line><g><text style=\"font-size:10px;font-weight:normal;stroke:none;text-anchor:middle\" transform=\"translate(0.0,6)translate(0,7.5)\"><tspan style=\"\">-0.5</tspan></text><text style=\"font-size:10px;font-weight:normal;stroke:none;text-anchor:middle\" transform=\"translate(250.0,6)translate(0,7.5)\"><tspan style=\"\">0.0</tspan></text><text style=\"font-size:10px;font-weight:normal;stroke:none;text-anchor:middle\" transform=\"translate(500.0,6)translate(0,7.5)\"><tspan style=\"\">0.5</tspan></text></g><g class=\"toyplot-coordinates-Axis-coordinates\" style=\"visibility:hidden\" transform=\"\"><line style=\"stroke:rgb(43.9%,50.2%,56.5%);stroke-opacity:1.0;stroke-width:1.0\" x1=\"0\" x2=\"0\" y1=\"-3.0\" y2=\"4.5\"></line><text style=\"alignment-baseline:alphabetic;fill:rgb(43.9%,50.2%,56.5%);fill-opacity:1.0;font-size:10px;font-weight:normal;stroke:none;text-anchor:middle\" x=\"0\" y=\"-6\"></text></g></g></g><g class=\"toyplot-coordinates-Numberline\" id=\"t776bf7f122984ca1b4fc7925aa88c164\"><clipPath id=\"t518d4455fcb949fe9d215b90d45d6c07\"><rect height=\"40.0\" width=\"500.0\" x=\"0\" y=\"-20.0\"></rect></clipPath><g clip-path=\"url(#t518d4455fcb949fe9d215b90d45d6c07)\" transform=\"translate(50.0,350.0)\"></g><g class=\"toyplot-coordinates-Axis\" id=\"t524b8d184eed4c44aab242156972c1c3\" transform=\"translate(50.0,350.0)translate(0,20.0)\"><line style=\"\" x1=\"0\" x2=\"500.0\" y1=\"0\" y2=\"0\"></line><g><text style=\"font-size:16px;font-weight:normal;stroke:none;text-anchor:middle\" transform=\"translate(0.0,6)translate(0,12.0)\"><tspan style=\"\">-0.5</tspan></text><text style=\"font-size:16px;font-weight:normal;stroke:none;text-anchor:middle\" transform=\"translate(250.0,6)translate(0,12.0)\"><tspan style=\"\">0.0</tspan></text><text style=\"font-size:16px;font-weight:normal;stroke:none;text-anchor:middle\" transform=\"translate(500.0,6)translate(0,12.0)\"><tspan style=\"\">0.5</tspan></text></g><g class=\"toyplot-coordinates-Axis-coordinates\" style=\"visibility:hidden\" transform=\"\"><line style=\"stroke:rgb(43.9%,50.2%,56.5%);stroke-opacity:1.0;stroke-width:1.0\" x1=\"0\" x2=\"0\" y1=\"-3.0\" y2=\"4.5\"></line><text style=\"alignment-baseline:alphabetic;fill:rgb(43.9%,50.2%,56.5%);fill-opacity:1.0;font-size:10px;font-weight:normal;stroke:none;text-anchor:middle\" x=\"0\" y=\"-6\"></text></g></g></g></svg><div class=\"toyplot-interactive\"><script>\n",
       "        (function()\n",
       "        {\n",
       "            function _sign(x)\n",
       "            {\n",
       "                return x < 0 ? -1 : x > 0 ? 1 : 0;\n",
       "            }\n",
       "\n",
       "            function _mix(a, b, amount)\n",
       "            {\n",
       "                return ((1.0 - amount) * a) + (amount * b);\n",
       "            }\n",
       "\n",
       "            function _log(x, base)\n",
       "            {\n",
       "                return Math.log(Math.abs(x)) / Math.log(base);\n",
       "            }\n",
       "\n",
       "            function _in_range(a, x, b)\n",
       "            {\n",
       "                var left = Math.min(a, b);\n",
       "                var right = Math.max(a, b);\n",
       "                return left <= x && x <= right;\n",
       "            }\n",
       "\n",
       "            function inside(range, projection)\n",
       "            {\n",
       "                for(var i = 0; i != projection.length; ++i)\n",
       "                {\n",
       "                    var segment = projection[i];\n",
       "                    if(_in_range(segment.range.min, range, segment.range.max))\n",
       "                        return true;\n",
       "                }\n",
       "                return false;\n",
       "            }\n",
       "\n",
       "            function to_domain(range, projection)\n",
       "            {\n",
       "                for(var i = 0; i != projection.length; ++i)\n",
       "                {\n",
       "                    var segment = projection[i];\n",
       "                    if(_in_range(segment.range.bounds.min, range, segment.range.bounds.max))\n",
       "                    {\n",
       "                        if(segment.scale == \"linear\")\n",
       "                        {\n",
       "                            var amount = (range - segment.range.min) / (segment.range.max - segment.range.min);\n",
       "                            return _mix(segment.domain.min, segment.domain.max, amount)\n",
       "                        }\n",
       "                        else if(segment.scale[0] == \"log\")\n",
       "                        {\n",
       "                            var amount = (range - segment.range.min) / (segment.range.max - segment.range.min);\n",
       "                            var base = segment.scale[1];\n",
       "                            return _sign(segment.domain.min) * Math.pow(base, _mix(_log(segment.domain.min, base), _log(segment.domain.max, base), amount));\n",
       "                        }\n",
       "                    }\n",
       "                }\n",
       "            }\n",
       "\n",
       "            function display_coordinates(e)\n",
       "            {\n",
       "                var current = svg.createSVGPoint();\n",
       "                current.x = e.clientX;\n",
       "                current.y = e.clientY;\n",
       "\n",
       "                for(var axis_id in axes)\n",
       "                {\n",
       "                    var axis = document.querySelector(\"#\" + axis_id);\n",
       "                    var coordinates = axis.querySelector(\".toyplot-coordinates-Axis-coordinates\");\n",
       "                    if(coordinates)\n",
       "                    {\n",
       "                        var projection = axes[axis_id];\n",
       "                        var local = current.matrixTransform(axis.getScreenCTM().inverse());\n",
       "                        if(inside(local.x, projection))\n",
       "                        {\n",
       "                            var domain = to_domain(local.x, projection);\n",
       "                            coordinates.style.visibility = \"visible\";\n",
       "                            coordinates.setAttribute(\"transform\", \"translate(\" + local.x + \")\");\n",
       "                            var text = coordinates.querySelector(\"text\");\n",
       "                            text.textContent = domain.toFixed(2);\n",
       "                        }\n",
       "                        else\n",
       "                        {\n",
       "                            coordinates.style.visibility= \"hidden\";\n",
       "                        }\n",
       "                    }\n",
       "                }\n",
       "            }\n",
       "\n",
       "            var root_id = \"te82fdae49cfb4cefa81b52764f8bed7c\";\n",
       "            var axes = {\"t4da8c5cbe14b45e2a61580ec9bb9faf3\": [{\"domain\": {\"bounds\": {\"max\": Infinity, \"min\": -Infinity}, \"max\": 0.5, \"min\": -0.5}, \"range\": {\"bounds\": {\"max\": Infinity, \"min\": -Infinity}, \"max\": 500.0, \"min\": 0.0}, \"scale\": \"linear\"}], \"t524b8d184eed4c44aab242156972c1c3\": [{\"domain\": {\"bounds\": {\"max\": Infinity, \"min\": -Infinity}, \"max\": 0.5, \"min\": -0.5}, \"range\": {\"bounds\": {\"max\": Infinity, \"min\": -Infinity}, \"max\": 500.0, \"min\": 0.0}, \"scale\": \"linear\"}], \"t9ce8828ec0d149f6ac6b18968d6df7fc\": [{\"domain\": {\"bounds\": {\"max\": Infinity, \"min\": -Infinity}, \"max\": 0.5, \"min\": -0.5}, \"range\": {\"bounds\": {\"max\": Infinity, \"min\": -Infinity}, \"max\": 500.0, \"min\": 0.0}, \"scale\": \"linear\"}], \"tbf4da120e1cf4edd91ba09dc182e84b8\": [{\"domain\": {\"bounds\": {\"max\": Infinity, \"min\": -Infinity}, \"max\": 0.5, \"min\": -0.5}, \"range\": {\"bounds\": {\"max\": Infinity, \"min\": -Infinity}, \"max\": 500.0, \"min\": 0.0}, \"scale\": \"linear\"}]};\n",
       "\n",
       "            var svg = document.querySelector(\"#\" + root_id + \" svg\");\n",
       "            svg.addEventListener(\"click\", display_coordinates);\n",
       "        })();\n",
       "        </script></div></div>"
      ]
     },
     "metadata": {},
     "output_type": "display_data"
    }
   ],
   "source": [
    "canvas = toyplot.Canvas(width=600, height=400)\n",
    "\n",
    "numberline1 = canvas.numberline(grid=(4, 1, 0))\n",
    "numberline1.axis.ticks.location=\"above\"\n",
    "\n",
    "numberline2 = canvas.numberline(grid=(4, 1, 1))\n",
    "numberline2.axis.ticks.location=\"above\"\n",
    "numberline2.axis.ticks.labels.style = {\"font-size\":\"16px\"}\n",
    "\n",
    "numberline3 = canvas.numberline(grid=(4, 1, 2))\n",
    "numberline3.axis.ticks.location=\"below\"\n",
    "\n",
    "numberline4 = canvas.numberline(grid=(4, 1, 3))\n",
    "numberline4.axis.ticks.location=\"below\"\n",
    "numberline4.axis.ticks.labels.style = {\"font-size\":\"16px\"}"
   ]
  },
  {
   "cell_type": "markdown",
   "metadata": {},
   "source": [
    "Similarly, alignment parameters are automatically adjusted when you rotate tick labels, adjusting the anchor and baseline to provide good results:"
   ]
  },
  {
   "cell_type": "code",
   "execution_count": 17,
   "metadata": {
    "collapsed": false
   },
   "outputs": [
    {
     "data": {
      "text/html": [
       "<div align=\"center\" class=\"toyplot\" id=\"ta42259f2cdd44a31b58ff2bd47e4aefe\"><svg class=\"toyplot-canvas-Canvas\" height=\"600px\" id=\"teed24703b919490d8eb1a4212fc68eb6\" preserveAspectRatio=\"xMidYMid meet\" style=\"background-color:transparent;fill:rgb(16.1%,15.3%,14.1%);fill-opacity:1.0;font-family:Helvetica;font-size:12px;opacity:1.0;stroke:rgb(16.1%,15.3%,14.1%);stroke-opacity:1.0;stroke-width:1.0\" viewBox=\"0 0 600 600\" width=\"600px\" xmlns=\"http://www.w3.org/2000/svg\" xmlns:toyplot=\"http://www.sandia.gov/toyplot\" xmlns:xlink=\"http://www.w3.org/1999/xlink\"><g class=\"toyplot-coordinates-Numberline\" id=\"t4dca6bbc374f4e78a99fd1fa970b936c\"><clipPath id=\"t786d3164d3374f2abcd89ccfc2e5e561\"><rect height=\"20.0\" width=\"480.0\" x=\"0\" y=\"-10.0\"></rect></clipPath><g clip-path=\"url(#t786d3164d3374f2abcd89ccfc2e5e561)\" transform=\"translate(300.0,540.0)rotate(-90.0)\"><g class=\"toyplot-color-Map\" id=\"t38009f61bf19412b984a1136925ac4f7\"><defs><linearGradient gradientUnits=\"userSpaceOnUse\" id=\"t72c3bb2b0b434c7b99d2702a23bd31fe\" x1=\"0.0\" x2=\"480.0\" y1=\"0\" y2=\"0\"><stop offset=\"0.0\" stop-color=\"rgb(1.96%,18.8%,38%)\" stop-opacity=\"1.0\"></stop><stop offset=\"0.015873015873\" stop-color=\"rgb(3.7%,22.2%,42.7%)\" stop-opacity=\"1.0\"></stop><stop offset=\"0.031746031746\" stop-color=\"rgb(5.45%,25.5%,47.4%)\" stop-opacity=\"1.0\"></stop><stop offset=\"0.047619047619\" stop-color=\"rgb(7.19%,28.9%,52%)\" stop-opacity=\"1.0\"></stop><stop offset=\"0.0634920634921\" stop-color=\"rgb(8.93%,32.3%,56.7%)\" stop-opacity=\"1.0\"></stop><stop offset=\"0.0793650793651\" stop-color=\"rgb(10.7%,35.6%,61.4%)\" stop-opacity=\"1.0\"></stop><stop offset=\"0.0952380952381\" stop-color=\"rgb(12.4%,39%,66.1%)\" stop-opacity=\"1.0\"></stop><stop offset=\"0.111111111111\" stop-color=\"rgb(14.4%,42%,68.5%)\" stop-opacity=\"1.0\"></stop><stop offset=\"0.126984126984\" stop-color=\"rgb(16.5%,44.8%,69.9%)\" stop-opacity=\"1.0\"></stop><stop offset=\"0.142857142857\" stop-color=\"rgb(18.7%,47.6%,71.3%)\" stop-opacity=\"1.0\"></stop><stop offset=\"0.15873015873\" stop-color=\"rgb(20.8%,50.4%,72.7%)\" stop-opacity=\"1.0\"></stop><stop offset=\"0.174603174603\" stop-color=\"rgb(22.9%,53.2%,74.2%)\" stop-opacity=\"1.0\"></stop><stop offset=\"0.190476190476\" stop-color=\"rgb(25%,56%,75.6%)\" stop-opacity=\"1.0\"></stop><stop offset=\"0.206349206349\" stop-color=\"rgb(28.2%,58.9%,77.1%)\" stop-opacity=\"1.0\"></stop><stop offset=\"0.222222222222\" stop-color=\"rgb(33.2%,62%,78.8%)\" stop-opacity=\"1.0\"></stop><stop offset=\"0.238095238095\" stop-color=\"rgb(38.1%,65.1%,80.5%)\" stop-opacity=\"1.0\"></stop><stop offset=\"0.253968253968\" stop-color=\"rgb(43%,68.2%,82.2%)\" stop-opacity=\"1.0\"></stop><stop offset=\"0.269841269841\" stop-color=\"rgb(47.9%,71.3%,83.9%)\" stop-opacity=\"1.0\"></stop><stop offset=\"0.285714285714\" stop-color=\"rgb(52.8%,74.5%,85.5%)\" stop-opacity=\"1.0\"></stop><stop offset=\"0.301587301587\" stop-color=\"rgb(57.6%,77.5%,87.2%)\" stop-opacity=\"1.0\"></stop><stop offset=\"0.31746031746\" stop-color=\"rgb(61.6%,79.4%,88.3%)\" stop-opacity=\"1.0\"></stop><stop offset=\"0.333333333333\" stop-color=\"rgb(65.5%,81.4%,89.4%)\" stop-opacity=\"1.0\"></stop><stop offset=\"0.349206349206\" stop-color=\"rgb(69.4%,83.4%,90.5%)\" stop-opacity=\"1.0\"></stop><stop offset=\"0.365079365079\" stop-color=\"rgb(73.3%,85.4%,91.7%)\" stop-opacity=\"1.0\"></stop><stop offset=\"0.380952380952\" stop-color=\"rgb(77.3%,87.4%,92.8%)\" stop-opacity=\"1.0\"></stop><stop offset=\"0.396825396825\" stop-color=\"rgb(81.2%,89.4%,93.9%)\" stop-opacity=\"1.0\"></stop><stop offset=\"0.412698412698\" stop-color=\"rgb(83.9%,90.7%,94.5%)\" stop-opacity=\"1.0\"></stop><stop offset=\"0.428571428571\" stop-color=\"rgb(86.2%,91.8%,94.9%)\" stop-opacity=\"1.0\"></stop><stop offset=\"0.444444444444\" stop-color=\"rgb(88.6%,92.9%,95.3%)\" stop-opacity=\"1.0\"></stop><stop offset=\"0.460317460317\" stop-color=\"rgb(90.9%,94.1%,95.8%)\" stop-opacity=\"1.0\"></stop><stop offset=\"0.47619047619\" stop-color=\"rgb(93.3%,95.2%,96.2%)\" stop-opacity=\"1.0\"></stop><stop offset=\"0.492063492063\" stop-color=\"rgb(95.7%,96.3%,96.6%)\" stop-opacity=\"1.0\"></stop><stop offset=\"0.507936507937\" stop-color=\"rgb(97%,96%,95.4%)\" stop-opacity=\"1.0\"></stop><stop offset=\"0.52380952381\" stop-color=\"rgb(97.4%,94.2%,92.4%)\" stop-opacity=\"1.0\"></stop><stop offset=\"0.539682539683\" stop-color=\"rgb(97.8%,92.5%,89.4%)\" stop-opacity=\"1.0\"></stop><stop offset=\"0.555555555556\" stop-color=\"rgb(98.2%,90.8%,86.4%)\" stop-opacity=\"1.0\"></stop><stop offset=\"0.571428571429\" stop-color=\"rgb(98.5%,89%,83.4%)\" stop-opacity=\"1.0\"></stop><stop offset=\"0.587301587302\" stop-color=\"rgb(98.9%,87.3%,80.4%)\" stop-opacity=\"1.0\"></stop><stop offset=\"0.603174603175\" stop-color=\"rgb(99.1%,85.2%,77.2%)\" stop-opacity=\"1.0\"></stop><stop offset=\"0.619047619048\" stop-color=\"rgb(98.5%,81.8%,72.9%)\" stop-opacity=\"1.0\"></stop><stop offset=\"0.634920634921\" stop-color=\"rgb(98%,78.5%,68.6%)\" stop-opacity=\"1.0\"></stop><stop offset=\"0.650793650794\" stop-color=\"rgb(97.4%,75.1%,64.3%)\" stop-opacity=\"1.0\"></stop><stop offset=\"0.666666666667\" stop-color=\"rgb(96.9%,71.8%,60%)\" stop-opacity=\"1.0\"></stop><stop offset=\"0.68253968254\" stop-color=\"rgb(96.3%,68.4%,55.7%)\" stop-opacity=\"1.0\"></stop><stop offset=\"0.698412698413\" stop-color=\"rgb(95.7%,65%,51.4%)\" stop-opacity=\"1.0\"></stop><stop offset=\"0.714285714286\" stop-color=\"rgb(94%,60.8%,48%)\" stop-opacity=\"1.0\"></stop><stop offset=\"0.730158730159\" stop-color=\"rgb(92.1%,56.5%,44.7%)\" stop-opacity=\"1.0\"></stop><stop offset=\"0.746031746032\" stop-color=\"rgb(90.3%,52.3%,41.4%)\" stop-opacity=\"1.0\"></stop><stop offset=\"0.761904761905\" stop-color=\"rgb(88.4%,48%,38.1%)\" stop-opacity=\"1.0\"></stop><stop offset=\"0.777777777778\" stop-color=\"rgb(86.5%,43.7%,34.8%)\" stop-opacity=\"1.0\"></stop><stop offset=\"0.793650793651\" stop-color=\"rgb(84.7%,39.4%,31.5%)\" stop-opacity=\"1.0\"></stop><stop offset=\"0.809523809524\" stop-color=\"rgb(82.6%,35%,28.9%)\" stop-opacity=\"1.0\"></stop><stop offset=\"0.825396825397\" stop-color=\"rgb(80.3%,30.5%,26.8%)\" stop-opacity=\"1.0\"></stop><stop offset=\"0.84126984127\" stop-color=\"rgb(78.1%,26%,24.7%)\" stop-opacity=\"1.0\"></stop><stop offset=\"0.857142857143\" stop-color=\"rgb(75.9%,21.5%,22.6%)\" stop-opacity=\"1.0\"></stop><stop offset=\"0.873015873016\" stop-color=\"rgb(73.6%,17%,20.5%)\" stop-opacity=\"1.0\"></stop><stop offset=\"0.888888888889\" stop-color=\"rgb(71.4%,12.5%,18.3%)\" stop-opacity=\"1.0\"></stop><stop offset=\"0.904761904762\" stop-color=\"rgb(68.4%,8.96%,16.6%)\" stop-opacity=\"1.0\"></stop><stop offset=\"0.920634920635\" stop-color=\"rgb(63.7%,7.47%,15.9%)\" stop-opacity=\"1.0\"></stop><stop offset=\"0.936507936508\" stop-color=\"rgb(59.1%,5.98%,15.1%)\" stop-opacity=\"1.0\"></stop><stop offset=\"0.952380952381\" stop-color=\"rgb(54.4%,4.48%,14.4%)\" stop-opacity=\"1.0\"></stop><stop offset=\"0.968253968254\" stop-color=\"rgb(49.7%,2.99%,13.7%)\" stop-opacity=\"1.0\"></stop><stop offset=\"0.984126984127\" stop-color=\"rgb(45.1%,1.49%,12.9%)\" stop-opacity=\"1.0\"></stop><stop offset=\"1.0\" stop-color=\"rgb(40.4%,0%,12.2%)\" stop-opacity=\"1.0\"></stop></linearGradient></defs><rect height=\"10\" style=\"fill:url(#t72c3bb2b0b434c7b99d2702a23bd31fe);stroke:none;stroke-width:1.0\" width=\"480.0\" x=\"0.0\" y=\"-5.0\"></rect></g></g><g class=\"toyplot-coordinates-Axis\" id=\"t8344fa79f9e34cdca53c00010fbb56f2\" transform=\"translate(300.0,540.0)rotate(-90.0)translate(0,10.0)\"><line style=\"\" x1=\"0\" x2=\"480.0\" y1=\"0\" y2=\"0\"></line><g><line style=\"\" x1=\"0.0\" x2=\"0.0\" y1=\"3\" y2=\"-3\"></line><line style=\"\" x1=\"240.0\" x2=\"240.0\" y1=\"3\" y2=\"-3\"></line><line style=\"\" x1=\"480.0\" x2=\"480.0\" y1=\"3\" y2=\"-3\"></line></g><g><text style=\"font-size:10px;font-weight:normal;stroke:none;text-anchor:start\" transform=\"translate(0.0,6)rotate(90)translate(0,3.5)\"><tspan style=\"\">0.0</tspan></text><text style=\"font-size:10px;font-weight:normal;stroke:none;text-anchor:start\" transform=\"translate(240.0,6)rotate(90)translate(0,3.5)\"><tspan style=\"\">0.5</tspan></text><text style=\"font-size:10px;font-weight:normal;stroke:none;text-anchor:start\" transform=\"translate(480.0,6)rotate(90)translate(0,3.5)\"><tspan style=\"\">1.0</tspan></text></g><g class=\"toyplot-coordinates-Axis-coordinates\" style=\"visibility:hidden\" transform=\"\"><line style=\"stroke:rgb(43.9%,50.2%,56.5%);stroke-opacity:1.0;stroke-width:1.0\" x1=\"0\" x2=\"0\" y1=\"-3.0\" y2=\"4.5\"></line><text style=\"alignment-baseline:alphabetic;fill:rgb(43.9%,50.2%,56.5%);fill-opacity:1.0;font-size:10px;font-weight:normal;stroke:none;text-anchor:middle\" x=\"0\" y=\"-6\"></text></g></g></g></svg><div class=\"toyplot-interactive\"><script>\n",
       "        (function()\n",
       "        {\n",
       "            function _sign(x)\n",
       "            {\n",
       "                return x < 0 ? -1 : x > 0 ? 1 : 0;\n",
       "            }\n",
       "\n",
       "            function _mix(a, b, amount)\n",
       "            {\n",
       "                return ((1.0 - amount) * a) + (amount * b);\n",
       "            }\n",
       "\n",
       "            function _log(x, base)\n",
       "            {\n",
       "                return Math.log(Math.abs(x)) / Math.log(base);\n",
       "            }\n",
       "\n",
       "            function _in_range(a, x, b)\n",
       "            {\n",
       "                var left = Math.min(a, b);\n",
       "                var right = Math.max(a, b);\n",
       "                return left <= x && x <= right;\n",
       "            }\n",
       "\n",
       "            function inside(range, projection)\n",
       "            {\n",
       "                for(var i = 0; i != projection.length; ++i)\n",
       "                {\n",
       "                    var segment = projection[i];\n",
       "                    if(_in_range(segment.range.min, range, segment.range.max))\n",
       "                        return true;\n",
       "                }\n",
       "                return false;\n",
       "            }\n",
       "\n",
       "            function to_domain(range, projection)\n",
       "            {\n",
       "                for(var i = 0; i != projection.length; ++i)\n",
       "                {\n",
       "                    var segment = projection[i];\n",
       "                    if(_in_range(segment.range.bounds.min, range, segment.range.bounds.max))\n",
       "                    {\n",
       "                        if(segment.scale == \"linear\")\n",
       "                        {\n",
       "                            var amount = (range - segment.range.min) / (segment.range.max - segment.range.min);\n",
       "                            return _mix(segment.domain.min, segment.domain.max, amount)\n",
       "                        }\n",
       "                        else if(segment.scale[0] == \"log\")\n",
       "                        {\n",
       "                            var amount = (range - segment.range.min) / (segment.range.max - segment.range.min);\n",
       "                            var base = segment.scale[1];\n",
       "                            return _sign(segment.domain.min) * Math.pow(base, _mix(_log(segment.domain.min, base), _log(segment.domain.max, base), amount));\n",
       "                        }\n",
       "                    }\n",
       "                }\n",
       "            }\n",
       "\n",
       "            function display_coordinates(e)\n",
       "            {\n",
       "                var current = svg.createSVGPoint();\n",
       "                current.x = e.clientX;\n",
       "                current.y = e.clientY;\n",
       "\n",
       "                for(var axis_id in axes)\n",
       "                {\n",
       "                    var axis = document.querySelector(\"#\" + axis_id);\n",
       "                    var coordinates = axis.querySelector(\".toyplot-coordinates-Axis-coordinates\");\n",
       "                    if(coordinates)\n",
       "                    {\n",
       "                        var projection = axes[axis_id];\n",
       "                        var local = current.matrixTransform(axis.getScreenCTM().inverse());\n",
       "                        if(inside(local.x, projection))\n",
       "                        {\n",
       "                            var domain = to_domain(local.x, projection);\n",
       "                            coordinates.style.visibility = \"visible\";\n",
       "                            coordinates.setAttribute(\"transform\", \"translate(\" + local.x + \")\");\n",
       "                            var text = coordinates.querySelector(\"text\");\n",
       "                            text.textContent = domain.toFixed(2);\n",
       "                        }\n",
       "                        else\n",
       "                        {\n",
       "                            coordinates.style.visibility= \"hidden\";\n",
       "                        }\n",
       "                    }\n",
       "                }\n",
       "            }\n",
       "\n",
       "            var root_id = \"ta42259f2cdd44a31b58ff2bd47e4aefe\";\n",
       "            var axes = {\"t8344fa79f9e34cdca53c00010fbb56f2\": [{\"domain\": {\"bounds\": {\"max\": Infinity, \"min\": -Infinity}, \"max\": 1.0, \"min\": 0.0}, \"range\": {\"bounds\": {\"max\": Infinity, \"min\": -Infinity}, \"max\": 480.0, \"min\": 0.0}, \"scale\": \"linear\"}]};\n",
       "\n",
       "            var svg = document.querySelector(\"#\" + root_id + \" svg\");\n",
       "            svg.addEventListener(\"click\", display_coordinates);\n",
       "        })();\n",
       "        </script></div></div>"
      ]
     },
     "metadata": {},
     "output_type": "display_data"
    }
   ],
   "source": [
    "import numpy\n",
    "\n",
    "colormap = toyplot.color.brewer.map(\"BlueRed\", domain_min=0, domain_max=1)\n",
    "\n",
    "canvas = toyplot.Canvas()\n",
    "numberline = canvas.color_scale(x1=\"50%\", x2=\"50%\", y1=\"-10%\", y2=\"10%\", colormap=colormap)\n",
    "numberline.axis.ticks.show = True\n",
    "numberline.axis.ticks.labels.angle=-90"
   ]
  },
  {
   "cell_type": "markdown",
   "metadata": {},
   "source": [
    "Of-course, you are free to override any of these behaviors.  For example, suppose we use rich text to add multi-line tick labels to the preceding example:"
   ]
  },
  {
   "cell_type": "code",
   "execution_count": 18,
   "metadata": {
    "collapsed": true
   },
   "outputs": [],
   "source": [
    "def format_color(color):\n",
    "    return \"(%.2f, %.2f, %.2f)\" % (color[\"r\"], color[\"g\"], color[\"b\"])\n",
    "\n",
    "values = numpy.linspace(colormap.domain.min, colormap.domain.max, 4)\n",
    "labels = [\"%.4f<br><small>%s</small>\" % (value, format_color(colormap.color(value))) for value in values]\n",
    "locator = toyplot.locator.Explicit(values, labels)"
   ]
  },
  {
   "cell_type": "code",
   "execution_count": 19,
   "metadata": {
    "collapsed": false
   },
   "outputs": [
    {
     "data": {
      "text/html": [
       "<div align=\"center\" class=\"toyplot\" id=\"t20b3ee295fa349eaba18d60f1dd85122\"><svg class=\"toyplot-canvas-Canvas\" height=\"600px\" id=\"tba76e8987f664cea887aa2968713142a\" preserveAspectRatio=\"xMidYMid meet\" style=\"background-color:transparent;fill:rgb(16.1%,15.3%,14.1%);fill-opacity:1.0;font-family:Helvetica;font-size:12px;opacity:1.0;stroke:rgb(16.1%,15.3%,14.1%);stroke-opacity:1.0;stroke-width:1.0\" viewBox=\"0 0 600 600\" width=\"600px\" xmlns=\"http://www.w3.org/2000/svg\" xmlns:toyplot=\"http://www.sandia.gov/toyplot\" xmlns:xlink=\"http://www.w3.org/1999/xlink\"><g class=\"toyplot-coordinates-Numberline\" id=\"t8aefc818f3ba4878adc1d4e40c12059d\"><clipPath id=\"tee212a88ca464b96a1039d573ad25a0f\"><rect height=\"20.0\" width=\"480.0\" x=\"0\" y=\"-10.0\"></rect></clipPath><g clip-path=\"url(#tee212a88ca464b96a1039d573ad25a0f)\" transform=\"translate(300.0,540.0)rotate(-90.0)\"><g class=\"toyplot-color-Map\" id=\"tb9321ac21cab4045acc48f4d1818e29b\"><defs><linearGradient gradientUnits=\"userSpaceOnUse\" id=\"tc3c4f863491e4d4d9daea258f474478f\" x1=\"0.0\" x2=\"480.0\" y1=\"0\" y2=\"0\"><stop offset=\"0.0\" stop-color=\"rgb(1.96%,18.8%,38%)\" stop-opacity=\"1.0\"></stop><stop offset=\"0.015873015873\" stop-color=\"rgb(3.7%,22.2%,42.7%)\" stop-opacity=\"1.0\"></stop><stop offset=\"0.031746031746\" stop-color=\"rgb(5.45%,25.5%,47.4%)\" stop-opacity=\"1.0\"></stop><stop offset=\"0.047619047619\" stop-color=\"rgb(7.19%,28.9%,52%)\" stop-opacity=\"1.0\"></stop><stop offset=\"0.0634920634921\" stop-color=\"rgb(8.93%,32.3%,56.7%)\" stop-opacity=\"1.0\"></stop><stop offset=\"0.0793650793651\" stop-color=\"rgb(10.7%,35.6%,61.4%)\" stop-opacity=\"1.0\"></stop><stop offset=\"0.0952380952381\" stop-color=\"rgb(12.4%,39%,66.1%)\" stop-opacity=\"1.0\"></stop><stop offset=\"0.111111111111\" stop-color=\"rgb(14.4%,42%,68.5%)\" stop-opacity=\"1.0\"></stop><stop offset=\"0.126984126984\" stop-color=\"rgb(16.5%,44.8%,69.9%)\" stop-opacity=\"1.0\"></stop><stop offset=\"0.142857142857\" stop-color=\"rgb(18.7%,47.6%,71.3%)\" stop-opacity=\"1.0\"></stop><stop offset=\"0.15873015873\" stop-color=\"rgb(20.8%,50.4%,72.7%)\" stop-opacity=\"1.0\"></stop><stop offset=\"0.174603174603\" stop-color=\"rgb(22.9%,53.2%,74.2%)\" stop-opacity=\"1.0\"></stop><stop offset=\"0.190476190476\" stop-color=\"rgb(25%,56%,75.6%)\" stop-opacity=\"1.0\"></stop><stop offset=\"0.206349206349\" stop-color=\"rgb(28.2%,58.9%,77.1%)\" stop-opacity=\"1.0\"></stop><stop offset=\"0.222222222222\" stop-color=\"rgb(33.2%,62%,78.8%)\" stop-opacity=\"1.0\"></stop><stop offset=\"0.238095238095\" stop-color=\"rgb(38.1%,65.1%,80.5%)\" stop-opacity=\"1.0\"></stop><stop offset=\"0.253968253968\" stop-color=\"rgb(43%,68.2%,82.2%)\" stop-opacity=\"1.0\"></stop><stop offset=\"0.269841269841\" stop-color=\"rgb(47.9%,71.3%,83.9%)\" stop-opacity=\"1.0\"></stop><stop offset=\"0.285714285714\" stop-color=\"rgb(52.8%,74.5%,85.5%)\" stop-opacity=\"1.0\"></stop><stop offset=\"0.301587301587\" stop-color=\"rgb(57.6%,77.5%,87.2%)\" stop-opacity=\"1.0\"></stop><stop offset=\"0.31746031746\" stop-color=\"rgb(61.6%,79.4%,88.3%)\" stop-opacity=\"1.0\"></stop><stop offset=\"0.333333333333\" stop-color=\"rgb(65.5%,81.4%,89.4%)\" stop-opacity=\"1.0\"></stop><stop offset=\"0.349206349206\" stop-color=\"rgb(69.4%,83.4%,90.5%)\" stop-opacity=\"1.0\"></stop><stop offset=\"0.365079365079\" stop-color=\"rgb(73.3%,85.4%,91.7%)\" stop-opacity=\"1.0\"></stop><stop offset=\"0.380952380952\" stop-color=\"rgb(77.3%,87.4%,92.8%)\" stop-opacity=\"1.0\"></stop><stop offset=\"0.396825396825\" stop-color=\"rgb(81.2%,89.4%,93.9%)\" stop-opacity=\"1.0\"></stop><stop offset=\"0.412698412698\" stop-color=\"rgb(83.9%,90.7%,94.5%)\" stop-opacity=\"1.0\"></stop><stop offset=\"0.428571428571\" stop-color=\"rgb(86.2%,91.8%,94.9%)\" stop-opacity=\"1.0\"></stop><stop offset=\"0.444444444444\" stop-color=\"rgb(88.6%,92.9%,95.3%)\" stop-opacity=\"1.0\"></stop><stop offset=\"0.460317460317\" stop-color=\"rgb(90.9%,94.1%,95.8%)\" stop-opacity=\"1.0\"></stop><stop offset=\"0.47619047619\" stop-color=\"rgb(93.3%,95.2%,96.2%)\" stop-opacity=\"1.0\"></stop><stop offset=\"0.492063492063\" stop-color=\"rgb(95.7%,96.3%,96.6%)\" stop-opacity=\"1.0\"></stop><stop offset=\"0.507936507937\" stop-color=\"rgb(97%,96%,95.4%)\" stop-opacity=\"1.0\"></stop><stop offset=\"0.52380952381\" stop-color=\"rgb(97.4%,94.2%,92.4%)\" stop-opacity=\"1.0\"></stop><stop offset=\"0.539682539683\" stop-color=\"rgb(97.8%,92.5%,89.4%)\" stop-opacity=\"1.0\"></stop><stop offset=\"0.555555555556\" stop-color=\"rgb(98.2%,90.8%,86.4%)\" stop-opacity=\"1.0\"></stop><stop offset=\"0.571428571429\" stop-color=\"rgb(98.5%,89%,83.4%)\" stop-opacity=\"1.0\"></stop><stop offset=\"0.587301587302\" stop-color=\"rgb(98.9%,87.3%,80.4%)\" stop-opacity=\"1.0\"></stop><stop offset=\"0.603174603175\" stop-color=\"rgb(99.1%,85.2%,77.2%)\" stop-opacity=\"1.0\"></stop><stop offset=\"0.619047619048\" stop-color=\"rgb(98.5%,81.8%,72.9%)\" stop-opacity=\"1.0\"></stop><stop offset=\"0.634920634921\" stop-color=\"rgb(98%,78.5%,68.6%)\" stop-opacity=\"1.0\"></stop><stop offset=\"0.650793650794\" stop-color=\"rgb(97.4%,75.1%,64.3%)\" stop-opacity=\"1.0\"></stop><stop offset=\"0.666666666667\" stop-color=\"rgb(96.9%,71.8%,60%)\" stop-opacity=\"1.0\"></stop><stop offset=\"0.68253968254\" stop-color=\"rgb(96.3%,68.4%,55.7%)\" stop-opacity=\"1.0\"></stop><stop offset=\"0.698412698413\" stop-color=\"rgb(95.7%,65%,51.4%)\" stop-opacity=\"1.0\"></stop><stop offset=\"0.714285714286\" stop-color=\"rgb(94%,60.8%,48%)\" stop-opacity=\"1.0\"></stop><stop offset=\"0.730158730159\" stop-color=\"rgb(92.1%,56.5%,44.7%)\" stop-opacity=\"1.0\"></stop><stop offset=\"0.746031746032\" stop-color=\"rgb(90.3%,52.3%,41.4%)\" stop-opacity=\"1.0\"></stop><stop offset=\"0.761904761905\" stop-color=\"rgb(88.4%,48%,38.1%)\" stop-opacity=\"1.0\"></stop><stop offset=\"0.777777777778\" stop-color=\"rgb(86.5%,43.7%,34.8%)\" stop-opacity=\"1.0\"></stop><stop offset=\"0.793650793651\" stop-color=\"rgb(84.7%,39.4%,31.5%)\" stop-opacity=\"1.0\"></stop><stop offset=\"0.809523809524\" stop-color=\"rgb(82.6%,35%,28.9%)\" stop-opacity=\"1.0\"></stop><stop offset=\"0.825396825397\" stop-color=\"rgb(80.3%,30.5%,26.8%)\" stop-opacity=\"1.0\"></stop><stop offset=\"0.84126984127\" stop-color=\"rgb(78.1%,26%,24.7%)\" stop-opacity=\"1.0\"></stop><stop offset=\"0.857142857143\" stop-color=\"rgb(75.9%,21.5%,22.6%)\" stop-opacity=\"1.0\"></stop><stop offset=\"0.873015873016\" stop-color=\"rgb(73.6%,17%,20.5%)\" stop-opacity=\"1.0\"></stop><stop offset=\"0.888888888889\" stop-color=\"rgb(71.4%,12.5%,18.3%)\" stop-opacity=\"1.0\"></stop><stop offset=\"0.904761904762\" stop-color=\"rgb(68.4%,8.96%,16.6%)\" stop-opacity=\"1.0\"></stop><stop offset=\"0.920634920635\" stop-color=\"rgb(63.7%,7.47%,15.9%)\" stop-opacity=\"1.0\"></stop><stop offset=\"0.936507936508\" stop-color=\"rgb(59.1%,5.98%,15.1%)\" stop-opacity=\"1.0\"></stop><stop offset=\"0.952380952381\" stop-color=\"rgb(54.4%,4.48%,14.4%)\" stop-opacity=\"1.0\"></stop><stop offset=\"0.968253968254\" stop-color=\"rgb(49.7%,2.99%,13.7%)\" stop-opacity=\"1.0\"></stop><stop offset=\"0.984126984127\" stop-color=\"rgb(45.1%,1.49%,12.9%)\" stop-opacity=\"1.0\"></stop><stop offset=\"1.0\" stop-color=\"rgb(40.4%,0%,12.2%)\" stop-opacity=\"1.0\"></stop></linearGradient></defs><rect height=\"10\" style=\"fill:url(#tc3c4f863491e4d4d9daea258f474478f);stroke:none;stroke-width:1.0\" width=\"480.0\" x=\"0.0\" y=\"-5.0\"></rect></g></g><g class=\"toyplot-coordinates-Axis\" id=\"t957f0a4e5fdb4f51b897460d3f1bbb7c\" transform=\"translate(300.0,540.0)rotate(-90.0)translate(0,10.0)\"><line style=\"\" x1=\"0\" x2=\"480.0\" y1=\"0\" y2=\"0\"></line><g><line style=\"\" x1=\"0.0\" x2=\"0.0\" y1=\"3\" y2=\"-3\"></line><line style=\"\" x1=\"160.0\" x2=\"160.0\" y1=\"3\" y2=\"-3\"></line><line style=\"\" x1=\"320.0\" x2=\"320.0\" y1=\"3\" y2=\"-3\"></line><line style=\"\" x1=\"480.0\" x2=\"480.0\" y1=\"3\" y2=\"-3\"></line></g><g><text style=\"font-size:16px;font-weight:normal;stroke:none;text-anchor:start\" transform=\"translate(0.0,6)rotate(90)translate(0,5.6)\"><tspan style=\"\">0.0000</tspan><tspan dy=\"19.2\" style=\"font-size:12.8px\" x=\"0\">(0.02, 0.19, 0.38)</tspan></text><text style=\"font-size:16px;font-weight:normal;stroke:none;text-anchor:start\" transform=\"translate(160.0,6)rotate(90)translate(0,5.6)\"><tspan style=\"\">0.3333</tspan><tspan dy=\"19.2\" style=\"font-size:12.8px\" x=\"0\">(0.65, 0.81, 0.89)</tspan></text><text style=\"font-size:16px;font-weight:normal;stroke:none;text-anchor:start\" transform=\"translate(320.0,6)rotate(90)translate(0,5.6)\"><tspan style=\"\">0.6667</tspan><tspan dy=\"19.2\" style=\"font-size:12.8px\" x=\"0\">(0.97, 0.72, 0.60)</tspan></text><text style=\"font-size:16px;font-weight:normal;stroke:none;text-anchor:start\" transform=\"translate(480.0,6)rotate(90)translate(0,5.6)\"><tspan style=\"\">1.0000</tspan><tspan dy=\"19.2\" style=\"font-size:12.8px\" x=\"0\">(0.40, 0.00, 0.12)</tspan></text></g><g class=\"toyplot-coordinates-Axis-coordinates\" style=\"visibility:hidden\" transform=\"\"><line style=\"stroke:rgb(43.9%,50.2%,56.5%);stroke-opacity:1.0;stroke-width:1.0\" x1=\"0\" x2=\"0\" y1=\"-3.0\" y2=\"4.5\"></line><text style=\"alignment-baseline:alphabetic;fill:rgb(43.9%,50.2%,56.5%);fill-opacity:1.0;font-size:10px;font-weight:normal;stroke:none;text-anchor:middle\" x=\"0\" y=\"-6\"></text></g></g></g></svg><div class=\"toyplot-interactive\"><script>\n",
       "        (function()\n",
       "        {\n",
       "            function _sign(x)\n",
       "            {\n",
       "                return x < 0 ? -1 : x > 0 ? 1 : 0;\n",
       "            }\n",
       "\n",
       "            function _mix(a, b, amount)\n",
       "            {\n",
       "                return ((1.0 - amount) * a) + (amount * b);\n",
       "            }\n",
       "\n",
       "            function _log(x, base)\n",
       "            {\n",
       "                return Math.log(Math.abs(x)) / Math.log(base);\n",
       "            }\n",
       "\n",
       "            function _in_range(a, x, b)\n",
       "            {\n",
       "                var left = Math.min(a, b);\n",
       "                var right = Math.max(a, b);\n",
       "                return left <= x && x <= right;\n",
       "            }\n",
       "\n",
       "            function inside(range, projection)\n",
       "            {\n",
       "                for(var i = 0; i != projection.length; ++i)\n",
       "                {\n",
       "                    var segment = projection[i];\n",
       "                    if(_in_range(segment.range.min, range, segment.range.max))\n",
       "                        return true;\n",
       "                }\n",
       "                return false;\n",
       "            }\n",
       "\n",
       "            function to_domain(range, projection)\n",
       "            {\n",
       "                for(var i = 0; i != projection.length; ++i)\n",
       "                {\n",
       "                    var segment = projection[i];\n",
       "                    if(_in_range(segment.range.bounds.min, range, segment.range.bounds.max))\n",
       "                    {\n",
       "                        if(segment.scale == \"linear\")\n",
       "                        {\n",
       "                            var amount = (range - segment.range.min) / (segment.range.max - segment.range.min);\n",
       "                            return _mix(segment.domain.min, segment.domain.max, amount)\n",
       "                        }\n",
       "                        else if(segment.scale[0] == \"log\")\n",
       "                        {\n",
       "                            var amount = (range - segment.range.min) / (segment.range.max - segment.range.min);\n",
       "                            var base = segment.scale[1];\n",
       "                            return _sign(segment.domain.min) * Math.pow(base, _mix(_log(segment.domain.min, base), _log(segment.domain.max, base), amount));\n",
       "                        }\n",
       "                    }\n",
       "                }\n",
       "            }\n",
       "\n",
       "            function display_coordinates(e)\n",
       "            {\n",
       "                var current = svg.createSVGPoint();\n",
       "                current.x = e.clientX;\n",
       "                current.y = e.clientY;\n",
       "\n",
       "                for(var axis_id in axes)\n",
       "                {\n",
       "                    var axis = document.querySelector(\"#\" + axis_id);\n",
       "                    var coordinates = axis.querySelector(\".toyplot-coordinates-Axis-coordinates\");\n",
       "                    if(coordinates)\n",
       "                    {\n",
       "                        var projection = axes[axis_id];\n",
       "                        var local = current.matrixTransform(axis.getScreenCTM().inverse());\n",
       "                        if(inside(local.x, projection))\n",
       "                        {\n",
       "                            var domain = to_domain(local.x, projection);\n",
       "                            coordinates.style.visibility = \"visible\";\n",
       "                            coordinates.setAttribute(\"transform\", \"translate(\" + local.x + \")\");\n",
       "                            var text = coordinates.querySelector(\"text\");\n",
       "                            text.textContent = domain.toFixed(2);\n",
       "                        }\n",
       "                        else\n",
       "                        {\n",
       "                            coordinates.style.visibility= \"hidden\";\n",
       "                        }\n",
       "                    }\n",
       "                }\n",
       "            }\n",
       "\n",
       "            var root_id = \"t20b3ee295fa349eaba18d60f1dd85122\";\n",
       "            var axes = {\"t957f0a4e5fdb4f51b897460d3f1bbb7c\": [{\"domain\": {\"bounds\": {\"max\": Infinity, \"min\": -Infinity}, \"max\": 1.0, \"min\": 0.0}, \"range\": {\"bounds\": {\"max\": Infinity, \"min\": -Infinity}, \"max\": 480.0, \"min\": 0.0}, \"scale\": \"linear\"}]};\n",
       "\n",
       "            var svg = document.querySelector(\"#\" + root_id + \" svg\");\n",
       "            svg.addEventListener(\"click\", display_coordinates);\n",
       "        })();\n",
       "        </script></div></div>"
      ]
     },
     "metadata": {},
     "output_type": "display_data"
    }
   ],
   "source": [
    "canvas = toyplot.Canvas()\n",
    "numberline = canvas.color_scale(x1=\"50%\", x2=\"50%\", y1=\"-10%\", y2=\"10%\", colormap=colormap)\n",
    "numberline.axis.ticks.show = True\n",
    "numberline.axis.ticks.labels.angle=-90\n",
    "\n",
    "numberline.axis.ticks.locator = locator\n",
    "numberline.axis.ticks.labels.style = {\"font-size\":\"16px\"}"
   ]
  },
  {
   "cell_type": "markdown",
   "metadata": {},
   "source": [
    "We might choose to center the labels horizontally and vertically, overriding the defaults:"
   ]
  },
  {
   "cell_type": "code",
   "execution_count": 20,
   "metadata": {
    "collapsed": false
   },
   "outputs": [
    {
     "data": {
      "text/html": [
       "<div align=\"center\" class=\"toyplot\" id=\"tdaaa31c63fab4541af3c8b5efa07226a\"><svg class=\"toyplot-canvas-Canvas\" height=\"600px\" id=\"t14dd4379406e4844a7eac979555c5fb3\" preserveAspectRatio=\"xMidYMid meet\" style=\"background-color:transparent;fill:rgb(16.1%,15.3%,14.1%);fill-opacity:1.0;font-family:Helvetica;font-size:12px;opacity:1.0;stroke:rgb(16.1%,15.3%,14.1%);stroke-opacity:1.0;stroke-width:1.0\" viewBox=\"0 0 600 600\" width=\"600px\" xmlns=\"http://www.w3.org/2000/svg\" xmlns:toyplot=\"http://www.sandia.gov/toyplot\" xmlns:xlink=\"http://www.w3.org/1999/xlink\"><g class=\"toyplot-coordinates-Numberline\" id=\"ted92d8dcbb7245198ab4875e041d0c0b\"><clipPath id=\"t6869394ebe2443ffb24dfdbe3369463c\"><rect height=\"20.0\" width=\"480.0\" x=\"0\" y=\"-10.0\"></rect></clipPath><g clip-path=\"url(#t6869394ebe2443ffb24dfdbe3369463c)\" transform=\"translate(300.0,540.0)rotate(-90.0)\"><g class=\"toyplot-color-Map\" id=\"t614cdc4179964c7689dca9b2c51aa9e3\"><defs><linearGradient gradientUnits=\"userSpaceOnUse\" id=\"t1deb7b908f1342e9975cb60729516c80\" x1=\"0.0\" x2=\"480.0\" y1=\"0\" y2=\"0\"><stop offset=\"0.0\" stop-color=\"rgb(1.96%,18.8%,38%)\" stop-opacity=\"1.0\"></stop><stop offset=\"0.015873015873\" stop-color=\"rgb(3.7%,22.2%,42.7%)\" stop-opacity=\"1.0\"></stop><stop offset=\"0.031746031746\" stop-color=\"rgb(5.45%,25.5%,47.4%)\" stop-opacity=\"1.0\"></stop><stop offset=\"0.047619047619\" stop-color=\"rgb(7.19%,28.9%,52%)\" stop-opacity=\"1.0\"></stop><stop offset=\"0.0634920634921\" stop-color=\"rgb(8.93%,32.3%,56.7%)\" stop-opacity=\"1.0\"></stop><stop offset=\"0.0793650793651\" stop-color=\"rgb(10.7%,35.6%,61.4%)\" stop-opacity=\"1.0\"></stop><stop offset=\"0.0952380952381\" stop-color=\"rgb(12.4%,39%,66.1%)\" stop-opacity=\"1.0\"></stop><stop offset=\"0.111111111111\" stop-color=\"rgb(14.4%,42%,68.5%)\" stop-opacity=\"1.0\"></stop><stop offset=\"0.126984126984\" stop-color=\"rgb(16.5%,44.8%,69.9%)\" stop-opacity=\"1.0\"></stop><stop offset=\"0.142857142857\" stop-color=\"rgb(18.7%,47.6%,71.3%)\" stop-opacity=\"1.0\"></stop><stop offset=\"0.15873015873\" stop-color=\"rgb(20.8%,50.4%,72.7%)\" stop-opacity=\"1.0\"></stop><stop offset=\"0.174603174603\" stop-color=\"rgb(22.9%,53.2%,74.2%)\" stop-opacity=\"1.0\"></stop><stop offset=\"0.190476190476\" stop-color=\"rgb(25%,56%,75.6%)\" stop-opacity=\"1.0\"></stop><stop offset=\"0.206349206349\" stop-color=\"rgb(28.2%,58.9%,77.1%)\" stop-opacity=\"1.0\"></stop><stop offset=\"0.222222222222\" stop-color=\"rgb(33.2%,62%,78.8%)\" stop-opacity=\"1.0\"></stop><stop offset=\"0.238095238095\" stop-color=\"rgb(38.1%,65.1%,80.5%)\" stop-opacity=\"1.0\"></stop><stop offset=\"0.253968253968\" stop-color=\"rgb(43%,68.2%,82.2%)\" stop-opacity=\"1.0\"></stop><stop offset=\"0.269841269841\" stop-color=\"rgb(47.9%,71.3%,83.9%)\" stop-opacity=\"1.0\"></stop><stop offset=\"0.285714285714\" stop-color=\"rgb(52.8%,74.5%,85.5%)\" stop-opacity=\"1.0\"></stop><stop offset=\"0.301587301587\" stop-color=\"rgb(57.6%,77.5%,87.2%)\" stop-opacity=\"1.0\"></stop><stop offset=\"0.31746031746\" stop-color=\"rgb(61.6%,79.4%,88.3%)\" stop-opacity=\"1.0\"></stop><stop offset=\"0.333333333333\" stop-color=\"rgb(65.5%,81.4%,89.4%)\" stop-opacity=\"1.0\"></stop><stop offset=\"0.349206349206\" stop-color=\"rgb(69.4%,83.4%,90.5%)\" stop-opacity=\"1.0\"></stop><stop offset=\"0.365079365079\" stop-color=\"rgb(73.3%,85.4%,91.7%)\" stop-opacity=\"1.0\"></stop><stop offset=\"0.380952380952\" stop-color=\"rgb(77.3%,87.4%,92.8%)\" stop-opacity=\"1.0\"></stop><stop offset=\"0.396825396825\" stop-color=\"rgb(81.2%,89.4%,93.9%)\" stop-opacity=\"1.0\"></stop><stop offset=\"0.412698412698\" stop-color=\"rgb(83.9%,90.7%,94.5%)\" stop-opacity=\"1.0\"></stop><stop offset=\"0.428571428571\" stop-color=\"rgb(86.2%,91.8%,94.9%)\" stop-opacity=\"1.0\"></stop><stop offset=\"0.444444444444\" stop-color=\"rgb(88.6%,92.9%,95.3%)\" stop-opacity=\"1.0\"></stop><stop offset=\"0.460317460317\" stop-color=\"rgb(90.9%,94.1%,95.8%)\" stop-opacity=\"1.0\"></stop><stop offset=\"0.47619047619\" stop-color=\"rgb(93.3%,95.2%,96.2%)\" stop-opacity=\"1.0\"></stop><stop offset=\"0.492063492063\" stop-color=\"rgb(95.7%,96.3%,96.6%)\" stop-opacity=\"1.0\"></stop><stop offset=\"0.507936507937\" stop-color=\"rgb(97%,96%,95.4%)\" stop-opacity=\"1.0\"></stop><stop offset=\"0.52380952381\" stop-color=\"rgb(97.4%,94.2%,92.4%)\" stop-opacity=\"1.0\"></stop><stop offset=\"0.539682539683\" stop-color=\"rgb(97.8%,92.5%,89.4%)\" stop-opacity=\"1.0\"></stop><stop offset=\"0.555555555556\" stop-color=\"rgb(98.2%,90.8%,86.4%)\" stop-opacity=\"1.0\"></stop><stop offset=\"0.571428571429\" stop-color=\"rgb(98.5%,89%,83.4%)\" stop-opacity=\"1.0\"></stop><stop offset=\"0.587301587302\" stop-color=\"rgb(98.9%,87.3%,80.4%)\" stop-opacity=\"1.0\"></stop><stop offset=\"0.603174603175\" stop-color=\"rgb(99.1%,85.2%,77.2%)\" stop-opacity=\"1.0\"></stop><stop offset=\"0.619047619048\" stop-color=\"rgb(98.5%,81.8%,72.9%)\" stop-opacity=\"1.0\"></stop><stop offset=\"0.634920634921\" stop-color=\"rgb(98%,78.5%,68.6%)\" stop-opacity=\"1.0\"></stop><stop offset=\"0.650793650794\" stop-color=\"rgb(97.4%,75.1%,64.3%)\" stop-opacity=\"1.0\"></stop><stop offset=\"0.666666666667\" stop-color=\"rgb(96.9%,71.8%,60%)\" stop-opacity=\"1.0\"></stop><stop offset=\"0.68253968254\" stop-color=\"rgb(96.3%,68.4%,55.7%)\" stop-opacity=\"1.0\"></stop><stop offset=\"0.698412698413\" stop-color=\"rgb(95.7%,65%,51.4%)\" stop-opacity=\"1.0\"></stop><stop offset=\"0.714285714286\" stop-color=\"rgb(94%,60.8%,48%)\" stop-opacity=\"1.0\"></stop><stop offset=\"0.730158730159\" stop-color=\"rgb(92.1%,56.5%,44.7%)\" stop-opacity=\"1.0\"></stop><stop offset=\"0.746031746032\" stop-color=\"rgb(90.3%,52.3%,41.4%)\" stop-opacity=\"1.0\"></stop><stop offset=\"0.761904761905\" stop-color=\"rgb(88.4%,48%,38.1%)\" stop-opacity=\"1.0\"></stop><stop offset=\"0.777777777778\" stop-color=\"rgb(86.5%,43.7%,34.8%)\" stop-opacity=\"1.0\"></stop><stop offset=\"0.793650793651\" stop-color=\"rgb(84.7%,39.4%,31.5%)\" stop-opacity=\"1.0\"></stop><stop offset=\"0.809523809524\" stop-color=\"rgb(82.6%,35%,28.9%)\" stop-opacity=\"1.0\"></stop><stop offset=\"0.825396825397\" stop-color=\"rgb(80.3%,30.5%,26.8%)\" stop-opacity=\"1.0\"></stop><stop offset=\"0.84126984127\" stop-color=\"rgb(78.1%,26%,24.7%)\" stop-opacity=\"1.0\"></stop><stop offset=\"0.857142857143\" stop-color=\"rgb(75.9%,21.5%,22.6%)\" stop-opacity=\"1.0\"></stop><stop offset=\"0.873015873016\" stop-color=\"rgb(73.6%,17%,20.5%)\" stop-opacity=\"1.0\"></stop><stop offset=\"0.888888888889\" stop-color=\"rgb(71.4%,12.5%,18.3%)\" stop-opacity=\"1.0\"></stop><stop offset=\"0.904761904762\" stop-color=\"rgb(68.4%,8.96%,16.6%)\" stop-opacity=\"1.0\"></stop><stop offset=\"0.920634920635\" stop-color=\"rgb(63.7%,7.47%,15.9%)\" stop-opacity=\"1.0\"></stop><stop offset=\"0.936507936508\" stop-color=\"rgb(59.1%,5.98%,15.1%)\" stop-opacity=\"1.0\"></stop><stop offset=\"0.952380952381\" stop-color=\"rgb(54.4%,4.48%,14.4%)\" stop-opacity=\"1.0\"></stop><stop offset=\"0.968253968254\" stop-color=\"rgb(49.7%,2.99%,13.7%)\" stop-opacity=\"1.0\"></stop><stop offset=\"0.984126984127\" stop-color=\"rgb(45.1%,1.49%,12.9%)\" stop-opacity=\"1.0\"></stop><stop offset=\"1.0\" stop-color=\"rgb(40.4%,0%,12.2%)\" stop-opacity=\"1.0\"></stop></linearGradient></defs><rect height=\"10\" style=\"fill:url(#t1deb7b908f1342e9975cb60729516c80);stroke:none;stroke-width:1.0\" width=\"480.0\" x=\"0.0\" y=\"-5.0\"></rect></g></g><g class=\"toyplot-coordinates-Axis\" id=\"t35df7f84bdc949308617c18e97ae217d\" transform=\"translate(300.0,540.0)rotate(-90.0)translate(0,10.0)\"><line style=\"\" x1=\"0\" x2=\"480.0\" y1=\"0\" y2=\"0\"></line><g><line style=\"\" x1=\"0.0\" x2=\"0.0\" y1=\"3\" y2=\"-3\"></line><line style=\"\" x1=\"160.0\" x2=\"160.0\" y1=\"3\" y2=\"-3\"></line><line style=\"\" x1=\"320.0\" x2=\"320.0\" y1=\"3\" y2=\"-3\"></line><line style=\"\" x1=\"480.0\" x2=\"480.0\" y1=\"3\" y2=\"-3\"></line></g><g><text style=\"font-size:16px;font-weight:normal;stroke:none;text-anchor:middle\" transform=\"translate(0.0,60.0)rotate(90)translate(0,-4.4)\"><tspan style=\"\">0.0000</tspan><tspan dy=\"19.2\" style=\"font-size:12.8px\" x=\"0\">(0.02, 0.19, 0.38)</tspan></text><text style=\"font-size:16px;font-weight:normal;stroke:none;text-anchor:middle\" transform=\"translate(160.0,60.0)rotate(90)translate(0,-4.4)\"><tspan style=\"\">0.3333</tspan><tspan dy=\"19.2\" style=\"font-size:12.8px\" x=\"0\">(0.65, 0.81, 0.89)</tspan></text><text style=\"font-size:16px;font-weight:normal;stroke:none;text-anchor:middle\" transform=\"translate(320.0,60.0)rotate(90)translate(0,-4.4)\"><tspan style=\"\">0.6667</tspan><tspan dy=\"19.2\" style=\"font-size:12.8px\" x=\"0\">(0.97, 0.72, 0.60)</tspan></text><text style=\"font-size:16px;font-weight:normal;stroke:none;text-anchor:middle\" transform=\"translate(480.0,60.0)rotate(90)translate(0,-4.4)\"><tspan style=\"\">1.0000</tspan><tspan dy=\"19.2\" style=\"font-size:12.8px\" x=\"0\">(0.40, 0.00, 0.12)</tspan></text></g><g class=\"toyplot-coordinates-Axis-coordinates\" style=\"visibility:hidden\" transform=\"\"><line style=\"stroke:rgb(43.9%,50.2%,56.5%);stroke-opacity:1.0;stroke-width:1.0\" x1=\"0\" x2=\"0\" y1=\"-30.0\" y2=\"45.0\"></line><text style=\"alignment-baseline:alphabetic;fill:rgb(43.9%,50.2%,56.5%);fill-opacity:1.0;font-size:10px;font-weight:normal;stroke:none;text-anchor:middle\" x=\"0\" y=\"-60.0\"></text></g></g></g></svg><div class=\"toyplot-interactive\"><script>\n",
       "        (function()\n",
       "        {\n",
       "            function _sign(x)\n",
       "            {\n",
       "                return x < 0 ? -1 : x > 0 ? 1 : 0;\n",
       "            }\n",
       "\n",
       "            function _mix(a, b, amount)\n",
       "            {\n",
       "                return ((1.0 - amount) * a) + (amount * b);\n",
       "            }\n",
       "\n",
       "            function _log(x, base)\n",
       "            {\n",
       "                return Math.log(Math.abs(x)) / Math.log(base);\n",
       "            }\n",
       "\n",
       "            function _in_range(a, x, b)\n",
       "            {\n",
       "                var left = Math.min(a, b);\n",
       "                var right = Math.max(a, b);\n",
       "                return left <= x && x <= right;\n",
       "            }\n",
       "\n",
       "            function inside(range, projection)\n",
       "            {\n",
       "                for(var i = 0; i != projection.length; ++i)\n",
       "                {\n",
       "                    var segment = projection[i];\n",
       "                    if(_in_range(segment.range.min, range, segment.range.max))\n",
       "                        return true;\n",
       "                }\n",
       "                return false;\n",
       "            }\n",
       "\n",
       "            function to_domain(range, projection)\n",
       "            {\n",
       "                for(var i = 0; i != projection.length; ++i)\n",
       "                {\n",
       "                    var segment = projection[i];\n",
       "                    if(_in_range(segment.range.bounds.min, range, segment.range.bounds.max))\n",
       "                    {\n",
       "                        if(segment.scale == \"linear\")\n",
       "                        {\n",
       "                            var amount = (range - segment.range.min) / (segment.range.max - segment.range.min);\n",
       "                            return _mix(segment.domain.min, segment.domain.max, amount)\n",
       "                        }\n",
       "                        else if(segment.scale[0] == \"log\")\n",
       "                        {\n",
       "                            var amount = (range - segment.range.min) / (segment.range.max - segment.range.min);\n",
       "                            var base = segment.scale[1];\n",
       "                            return _sign(segment.domain.min) * Math.pow(base, _mix(_log(segment.domain.min, base), _log(segment.domain.max, base), amount));\n",
       "                        }\n",
       "                    }\n",
       "                }\n",
       "            }\n",
       "\n",
       "            function display_coordinates(e)\n",
       "            {\n",
       "                var current = svg.createSVGPoint();\n",
       "                current.x = e.clientX;\n",
       "                current.y = e.clientY;\n",
       "\n",
       "                for(var axis_id in axes)\n",
       "                {\n",
       "                    var axis = document.querySelector(\"#\" + axis_id);\n",
       "                    var coordinates = axis.querySelector(\".toyplot-coordinates-Axis-coordinates\");\n",
       "                    if(coordinates)\n",
       "                    {\n",
       "                        var projection = axes[axis_id];\n",
       "                        var local = current.matrixTransform(axis.getScreenCTM().inverse());\n",
       "                        if(inside(local.x, projection))\n",
       "                        {\n",
       "                            var domain = to_domain(local.x, projection);\n",
       "                            coordinates.style.visibility = \"visible\";\n",
       "                            coordinates.setAttribute(\"transform\", \"translate(\" + local.x + \")\");\n",
       "                            var text = coordinates.querySelector(\"text\");\n",
       "                            text.textContent = domain.toFixed(2);\n",
       "                        }\n",
       "                        else\n",
       "                        {\n",
       "                            coordinates.style.visibility= \"hidden\";\n",
       "                        }\n",
       "                    }\n",
       "                }\n",
       "            }\n",
       "\n",
       "            var root_id = \"tdaaa31c63fab4541af3c8b5efa07226a\";\n",
       "            var axes = {\"t35df7f84bdc949308617c18e97ae217d\": [{\"domain\": {\"bounds\": {\"max\": Infinity, \"min\": -Infinity}, \"max\": 1.0, \"min\": 0.0}, \"range\": {\"bounds\": {\"max\": Infinity, \"min\": -Infinity}, \"max\": 480.0, \"min\": 0.0}, \"scale\": \"linear\"}]};\n",
       "\n",
       "            var svg = document.querySelector(\"#\" + root_id + \" svg\");\n",
       "            svg.addEventListener(\"click\", display_coordinates);\n",
       "        })();\n",
       "        </script></div></div>"
      ]
     },
     "metadata": {},
     "output_type": "display_data"
    }
   ],
   "source": [
    "canvas = toyplot.Canvas()\n",
    "numberline = canvas.color_scale(x1=\"50%\", x2=\"50%\", y1=\"-10%\", y2=\"10%\", colormap=colormap)\n",
    "numberline.axis.ticks.labels.angle=-90\n",
    "numberline.axis.ticks.show = True\n",
    "numberline.axis.ticks.locator = locator\n",
    "numberline.axis.ticks.labels.style = {\"font-size\":\"16px\"}\n",
    "\n",
    "numberline.axis.ticks.labels.style = {\"baseline-shift\":\"10px\"}\n",
    "numberline.axis.ticks.labels.style = {\"text-anchor\":\"middle\"}\n",
    "numberline.axis.ticks.labels.offset = 60"
   ]
  }
 ],
 "metadata": {
  "kernelspec": {
   "display_name": "Python 2",
   "language": "python",
   "name": "python2"
  },
  "language_info": {
   "codemirror_mode": {
    "name": "ipython",
    "version": 2
   },
   "file_extension": ".py",
   "mimetype": "text/x-python",
   "name": "python",
   "nbconvert_exporter": "python",
   "pygments_lexer": "ipython2",
   "version": "2.7.12"
  }
 },
 "nbformat": 4,
 "nbformat_minor": 0
}

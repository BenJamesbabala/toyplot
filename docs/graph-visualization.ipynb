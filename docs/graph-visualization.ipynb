{
 "cells": [
  {
   "cell_type": "markdown",
   "metadata": {},
   "source": [
    ".. _graph-visualization:\n",
    "\n",
    "# Graph Visualization\n",
    "\n",
    "## Overview\n",
    "\n",
    "Toyplot now includes support for visualizing graphs - in the mathematical sense of vertices connected by edges - using the :meth:`toyplot.canvas.Canvas.graph` and :func:`toyplot.graph` functions.  As we will see, graph visualizations combine many of the aspects and properties of line plots (for drawing the edges), scatterplots (for drawing the vertices), and text (for drawing labels)."
   ]
  },
  {
   "cell_type": "markdown",
   "metadata": {},
   "source": [
    "At a minimum, a graph can be specified as a collection of edges.  For example, consider a trivial social network:"
   ]
  },
  {
   "cell_type": "code",
   "execution_count": 1,
   "metadata": {
    "collapsed": true
   },
   "outputs": [],
   "source": [
    "sources = [\"Tim\", \"Tim\", \"Fred\", \"Janet\"]\n",
    "targets = [\"Fred\", \"Janet\", \"Janet\", \"Pam\"]"
   ]
  },
  {
   "cell_type": "markdown",
   "metadata": {},
   "source": [
    "... here, we have specified a sequence of source (start) vertices and target (end) vertices for each edge in the graph, which we can pass directly to Toyplot for rendering:"
   ]
  },
  {
   "cell_type": "code",
   "execution_count": 2,
   "metadata": {
    "collapsed": false
   },
   "outputs": [
    {
     "data": {
      "text/html": [
       "<div align=\"center\" class=\"toyplot\" id=\"t63ac9b7083e5494a99d5e3e470f363f5\"><svg height=\"300.0px\" id=\"td1ee2e0f521a48fc9ba132b889c4adea\" preserveAspectRatio=\"xMidYMid meet\" style=\"background-color:transparent;fill:rgb(16.1%,15.3%,14.1%);fill-opacity:1.0;font-family:Helvetica;font-size:12px;opacity:1.0;stroke:rgb(16.1%,15.3%,14.1%);stroke-opacity:1.0;stroke-width:1.0\" viewBox=\"0 0 300.0 300.0\" width=\"300.0px\" xmlns=\"http://www.w3.org/2000/svg\" xmlns:toyplot=\"http://www.sandia.gov/toyplot\"><g class=\"toyplot-axes-Cartesian\" id=\"tffb92b73aa87465c83472b32f5ce9fc3\"><clipPath id=\"te00c4ac6374e4d748eaa5241308ba82f\"><rect height=\"240.0\" width=\"240.0\" x=\"30.0\" y=\"30.0\"></rect></clipPath><g class=\"toyplot-coordinate-events\" clip-path=\"url(#te00c4ac6374e4d748eaa5241308ba82f)\" style=\"cursor:crosshair\"><rect height=\"240.0\" style=\"pointer-events:all;visibility:hidden\" width=\"240.0\" x=\"30.0\" y=\"30.0\"></rect><g class=\"toyplot-mark-Graph\" id=\"t49d54dd264c145d5bfb0fa6312b595db\"><g class=\"toyplot-Edges\"><path d=\"M 100.05418841 74.4927639832 L 50.0 139.983031773\" style=\"fill:none;stroke:rgb(40%,76.1%,64.7%);stroke-opacity:1.0;stroke-width:1.0\"></path><path d=\"M 100.05418841 74.4927639832 L 151.843314374 157.297286753\" style=\"fill:none;stroke:rgb(40%,76.1%,64.7%);stroke-opacity:1.0;stroke-width:1.0\"></path><path d=\"M 50.0 139.983031773 L 151.843314374 157.297286753\" style=\"fill:none;stroke:rgb(40%,76.1%,64.7%);stroke-opacity:1.0;stroke-width:1.0\"></path><path d=\"M 151.843314374 157.297286753 L 245.87745869 218.577192308\" style=\"fill:none;stroke:rgb(40%,76.1%,64.7%);stroke-opacity:1.0;stroke-width:1.0\"></path></g><g class=\"toyplot-Vertices\"><g class=\"toyplot-Datum\" style=\"fill:rgb(40%,76.1%,64.7%);fill-opacity:1.0;opacity:1.0;stroke:rgb(40%,76.1%,64.7%);stroke-opacity:1.0\"><circle cx=\"50.0\" cy=\"139.98303177344994\" r=\"2.0\"></circle></g><g class=\"toyplot-Datum\" style=\"fill:rgb(40%,76.1%,64.7%);fill-opacity:1.0;opacity:1.0;stroke:rgb(40%,76.1%,64.7%);stroke-opacity:1.0\"><circle cx=\"151.84331437387584\" cy=\"157.29728675328977\" r=\"2.0\"></circle></g><g class=\"toyplot-Datum\" style=\"fill:rgb(40%,76.1%,64.7%);fill-opacity:1.0;opacity:1.0;stroke:rgb(40%,76.1%,64.7%);stroke-opacity:1.0\"><circle cx=\"245.87745869046307\" cy=\"218.57719230842898\" r=\"2.0\"></circle></g><g class=\"toyplot-Datum\" style=\"fill:rgb(40%,76.1%,64.7%);fill-opacity:1.0;opacity:1.0;stroke:rgb(40%,76.1%,64.7%);stroke-opacity:1.0\"><circle cx=\"100.05418841029831\" cy=\"74.492763983202948\" r=\"2.0\"></circle></g></g><g class=\"toyplot-Labels\"><text class=\"toyplot-Datum\" style=\"dominant-baseline:middle;font-size:12px;font-weight:normal;stroke:none;text-anchor:middle\" transform=\"translate(50.0,139.98303177344994)\"><tspan style=\"dominant-baseline:inherit\">Fred</tspan></text><text class=\"toyplot-Datum\" style=\"dominant-baseline:middle;font-size:12px;font-weight:normal;stroke:none;text-anchor:middle\" transform=\"translate(151.84331437387584,157.29728675328977)\"><tspan style=\"dominant-baseline:inherit\">Janet</tspan></text><text class=\"toyplot-Datum\" style=\"dominant-baseline:middle;font-size:12px;font-weight:normal;stroke:none;text-anchor:middle\" transform=\"translate(245.87745869046307,218.57719230842898)\"><tspan style=\"dominant-baseline:inherit\">Pam</tspan></text><text class=\"toyplot-Datum\" style=\"dominant-baseline:middle;font-size:12px;font-weight:normal;stroke:none;text-anchor:middle\" transform=\"translate(100.05418841029831,74.492763983202948)\"><tspan style=\"dominant-baseline:inherit\">Tim</tspan></text></g></g></g><g class=\"toyplot-coordinates\" style=\"visibility:hidden\"><rect height=\"14.0\" style=\"fill:rgb(100%,100%,100%);fill-opacity:1.0;opacity:0.75;stroke:none\" width=\"90.0\" x=\"150.0\" y=\"60.0\"></rect><text style=\"alignment-baseline:middle;font-size:10px;font-weight:normal;stroke:none;text-anchor:middle\" x=\"195.0\" y=\"67.0\"></text></g></g></svg><div class=\"toyplot-controls\"><ul class=\"toyplot-mark-popup\" onmouseleave=\"this.style.visibility='hidden'\" style=\"background:rgba(0%,0%,0%,0.75);border:0;border-radius:6px;color:white;cursor:default;list-style:none;margin:0;padding:5px;position:fixed;visibility:hidden\"><li class=\"toyplot-mark-popup-title\" style=\"color:lightgray;cursor:default;padding:5px;list-style:none;margin:0;\"></li><li class=\"toyplot-mark-popup-save-csv\" onmouseout=\"this.style.color='white';this.style.background='steelblue'\" onmouseover=\"this.style.color='steelblue';this.style.background='white'\" style=\"border-radius:3px;padding:5px;list-style:none;margin:0;\">Save as .csv</li></ul><script>\n",
       "(function()\n",
       "{\n",
       "  var axes = {\"tffb92b73aa87465c83472b32f5ce9fc3\": {\"x\": [{\"domain\": {\"bounds\": {\"max\": Infinity, \"min\": -Infinity}, \"max\": 0.5, \"min\": -0.60806645552998795}, \"range\": {\"bounds\": {\"max\": Infinity, \"min\": -Infinity}, \"max\": 250.0, \"min\": 50.0}, \"scale\": \"linear\"}], \"y\": [{\"domain\": {\"bounds\": {\"max\": Infinity, \"min\": -Infinity}, \"max\": 0.90000000000000013, \"min\": -0.30000000000000004}, \"range\": {\"bounds\": {\"max\": -Infinity, \"min\": Infinity}, \"max\": 50.0, \"min\": 250.0}, \"scale\": \"linear\"}]}};\n",
       "\n",
       "  function sign(x)\n",
       "  {\n",
       "    return x < 0 ? -1 : x > 0 ? 1 : 0;\n",
       "  }\n",
       "\n",
       "  function _mix(a, b, amount)\n",
       "  {\n",
       "    return ((1.0 - amount) * a) + (amount * b);\n",
       "  }\n",
       "\n",
       "  function _log(x, base)\n",
       "  {\n",
       "    return Math.log(Math.abs(x)) / Math.log(base);\n",
       "  }\n",
       "\n",
       "  function _in_range(a, x, b)\n",
       "  {\n",
       "    var left = Math.min(a, b);\n",
       "    var right = Math.max(a, b);\n",
       "    return left <= x && x <= right;\n",
       "  }\n",
       "\n",
       "  function to_domain(projection, range)\n",
       "  {\n",
       "    for(var i = 0; i != projection.length; ++i)\n",
       "    {\n",
       "      var segment = projection[i];\n",
       "      if(_in_range(segment.range.bounds.min, range, segment.range.bounds.max))\n",
       "      {\n",
       "        if(segment.scale == \"linear\")\n",
       "        {\n",
       "          var amount = (range - segment.range.min) / (segment.range.max - segment.range.min);\n",
       "          return _mix(segment.domain.min, segment.domain.max, amount)\n",
       "        }\n",
       "        else if(segment.scale[0] == \"log\")\n",
       "        {\n",
       "          var amount = (range - segment.range.min) / (segment.range.max - segment.range.min);\n",
       "          var base = segment.scale[1];\n",
       "          return sign(segment.domain.min) * Math.pow(base, _mix(_log(segment.domain.min, base), _log(segment.domain.max, base), amount));\n",
       "        }\n",
       "      }\n",
       "    }\n",
       "  }\n",
       "\n",
       "  // Compute mouse coordinates relative to a DOM object, with thanks to d3js.org, where this code originated.\n",
       "  function d3_mousePoint(container, e)\n",
       "  {\n",
       "    if (e.changedTouches) e = e.changedTouches[0];\n",
       "    var svg = container.ownerSVGElement || container;\n",
       "    if (svg.createSVGPoint) {\n",
       "      var point = svg.createSVGPoint();\n",
       "      point.x = e.clientX, point.y = e.clientY;\n",
       "      point = point.matrixTransform(container.getScreenCTM().inverse());\n",
       "      return [point.x, point.y];\n",
       "    }\n",
       "    var rect = container.getBoundingClientRect();\n",
       "    return [e.clientX - rect.left - container.clientLeft, e.clientY - rect.top - container.clientTop];\n",
       "  };\n",
       "\n",
       "  function display_coordinates(e)\n",
       "  {\n",
       "    var dom_axes = e.currentTarget.parentElement;\n",
       "    var data = axes[dom_axes.id];\n",
       "\n",
       "    point = d3_mousePoint(e.target, e);\n",
       "    var x = Number(to_domain(data[\"x\"], point[0])).toFixed(2);\n",
       "    var y = Number(to_domain(data[\"y\"], point[1])).toFixed(2);\n",
       "\n",
       "    var coordinates = dom_axes.querySelectorAll(\".toyplot-coordinates\");\n",
       "    for(var i = 0; i != coordinates.length; ++i)\n",
       "    {\n",
       "      coordinates[i].style.visibility = \"visible\";\n",
       "      coordinates[i].querySelector(\"text\").textContent = \"x=\" + x + \" y=\" + y;\n",
       "    }\n",
       "  }\n",
       "\n",
       "  function clear_coordinates(e)\n",
       "  {\n",
       "    var dom_axes = e.currentTarget.parentElement;\n",
       "    var coordinates = dom_axes.querySelectorAll(\".toyplot-coordinates\");\n",
       "    for(var i = 0; i != coordinates.length; ++i)\n",
       "      coordinates[i].style.visibility = \"hidden\";\n",
       "  }\n",
       "\n",
       "  for(var axes_id in axes)\n",
       "  {\n",
       "    var event_target = document.querySelector(\"#\" + axes_id + \" .toyplot-coordinate-events\");\n",
       "    event_target.onmousemove = display_coordinates;\n",
       "    event_target.onmouseout = clear_coordinates;\n",
       "  }\n",
       "})();\n",
       "</script></div></div>"
      ]
     },
     "metadata": {},
     "output_type": "display_data"
    }
   ],
   "source": [
    "import toyplot\n",
    "toyplot.graph(sources, targets, width=300);"
   ]
  },
  {
   "cell_type": "markdown",
   "metadata": {},
   "source": [
    "Simple as it is, Toyplot had to perform many steps to arrive at this figure:\n",
    "\n",
    "* We specified a set of edges as input, and Toyplot *induced* a set of unique vertices from them.\n",
    "* Used a *layout algorithm* to calculate coordinates for each vertex.\n",
    "* Rendered the *vertices*.\n",
    "* Rendered a set of *vertex labels*.\n",
    "* Rendered an *edge* (line) between each pair of connected vertices.\n",
    "\n",
    "We will examine each of these concepts in depth over the course of this guide."
   ]
  },
  {
   "cell_type": "markdown",
   "metadata": {},
   "source": [
    "## Inputs"
   ]
  },
  {
   "cell_type": "markdown",
   "metadata": {},
   "source": [
    "## Layout Algorithms"
   ]
  },
  {
   "cell_type": "markdown",
   "metadata": {},
   "source": [
    "## Vertex Rendering"
   ]
  },
  {
   "cell_type": "markdown",
   "metadata": {},
   "source": [
    "## Vertex Labels"
   ]
  },
  {
   "cell_type": "markdown",
   "metadata": {},
   "source": [
    "## Edge Rendering"
   ]
  }
 ],
 "metadata": {
  "kernelspec": {
   "display_name": "Python 2",
   "language": "python",
   "name": "python2"
  },
  "language_info": {
   "codemirror_mode": {
    "name": "ipython",
    "version": 2
   },
   "file_extension": ".py",
   "mimetype": "text/x-python",
   "name": "python",
   "nbconvert_exporter": "python",
   "pygments_lexer": "ipython2",
   "version": "2.7.10"
  }
 },
 "nbformat": 4,
 "nbformat_minor": 0
}

{
 "cells": [
  {
   "cell_type": "markdown",
   "metadata": {},
   "source": [
    "**Context Menu TODO**\n",
    "\n",
    "* Convert the old context menus to the new system.\n",
    "* Make the new context menu behave more like system menus.\n",
    "    * RMB click open + RMB click on item.\n",
    "    * RMB click + any click outside menu closes menu.\n",
    "    * Close menu with ESC.\n",
    "    * Position menu so it never goes offscreen."
   ]
  },
  {
   "cell_type": "code",
   "execution_count": null,
   "metadata": {
    "collapsed": true
   },
   "outputs": [],
   "source": [
    "import xml.etree.ElementTree as xml\n",
    "\n",
    "import numpy\n",
    "\n",
    "import toyplot.html\n",
    "import toyplot.mark\n",
    "\n",
    "import logging\n",
    "logging.basicConfig(level=logging.DEBUG)\n",
    "\n",
    "toyplot.log.setLevel(logging.DEBUG)"
   ]
  },
  {
   "cell_type": "code",
   "execution_count": null,
   "metadata": {
    "collapsed": true
   },
   "outputs": [],
   "source": [
    "# Custom marks must derive from toyplot.mark.Mark\n",
    "class Circle(toyplot.mark.Mark):\n",
    "    def __init__(self, x, y, radius):\n",
    "        super(Circle, self).__init__()\n",
    "        self._coordinates = {\n",
    "            \"x\": x,\n",
    "            \"y\": y,\n",
    "        }\n",
    "        self._radius = radius\n",
    "        \n",
    "    # Marks should return their domain (their minimum and maximum values along a given axis).\n",
    "    def domain(self, axis):\n",
    "        return numpy.array(self._coordinates[axis]), numpy.array(self._coordinates[axis])\n",
    "    \n",
    "    # Marks should return their extents, which are a combination of domain coordinates and\n",
    "    # range extents relative to those coordinates.  This is so the domain and range of an axis can\n",
    "    # be adjusted to account for the size of the mark (in range coordinates)\n",
    "    def extents(self, axes):\n",
    "        coordinates = tuple([numpy.array([self._coordinates[axis]]) for axis in axes])\n",
    "        extents = (\n",
    "            numpy.array([-self._radius]),\n",
    "            numpy.array([self._radius]),\n",
    "            numpy.array([-self._radius]),\n",
    "            numpy.array([self._radius]),\n",
    "            )\n",
    "        return coordinates, extents\n",
    "\n",
    "# Custom marks must define a _render() function and register it using dispatch() so it can be\n",
    "# called at render time.  Note that _render() is registered for a given combination of coordinate\n",
    "# system and mark.  This allows marks to adapt their visual representation to the coordinate\n",
    "# system (for example, a scatterplot mark would be rendered using lines if it was part of a\n",
    "# hypothetical parallel coordinate system).\n",
    "@toyplot.html.dispatch(toyplot.coordinates.Cartesian, Circle, toyplot.html.RenderContext)\n",
    "def _render(axes, mark, context):\n",
    "    x = axes.project(\"x\", mark._coordinates[\"x\"])\n",
    "    y = axes.project(\"y\", mark._coordinates[\"y\"])\n",
    "    xml.SubElement(\n",
    "        context.parent,\n",
    "        \"circle\",\n",
    "        id=context.get_id(mark),\n",
    "        cx=repr(x),\n",
    "        cy=repr(y),\n",
    "        r=str(mark._radius),\n",
    "        stroke=\"black\",\n",
    "        fill=\"lightgray\",\n",
    "        )\n",
    "    \n",
    "    circle_ml = \"<circle x=%s y=%s radius=%s></circle>\" % (mark._coordinates[\"x\"], mark._coordinates[\"y\"], mark._radius)\n",
    "    \n",
    "    context.require([\"toyplot/menu/context\", \"toyplot/file\"], \"\"\"function(contextmenu, file, mark_id, document) {\n",
    "        function show_item(e)\n",
    "        {\n",
    "            return e.target.id == mark_id;\n",
    "        }\n",
    "        \n",
    "        function choose_item()\n",
    "        {\n",
    "            file.save(\"text/xml+cml\", \"utf-8\", document, \"test.cml\");\n",
    "        }\n",
    "        contextmenu.add_item(\"Save circle as CSV\", show_item, choose_item);\n",
    "        contextmenu.add_item(\"Save circle as CircleML\", show_item, choose_item);\n",
    "        contextmenu.add_item(\"Save docoument as PNG\", show_item, choose_item);\n",
    "        }\"\"\", arguments=[context.get_id(mark), circle_ml])"
   ]
  },
  {
   "cell_type": "code",
   "execution_count": null,
   "metadata": {},
   "outputs": [],
   "source": [
    "canvas = toyplot.Canvas()\n",
    "axes = canvas.cartesian()\n",
    "axes.add_mark(Circle(2, 3, 20))\n",
    "axes.add_mark(Circle(3, 2, 50));"
   ]
  }
 ],
 "metadata": {
  "kernelspec": {
   "display_name": "Python 2",
   "language": "python",
   "name": "python2"
  },
  "language_info": {
   "codemirror_mode": {
    "name": "ipython",
    "version": 2
   },
   "file_extension": ".py",
   "mimetype": "text/x-python",
   "name": "python",
   "nbconvert_exporter": "python",
   "pygments_lexer": "ipython2",
   "version": "2.7.13"
  }
 },
 "nbformat": 4,
 "nbformat_minor": 2
}

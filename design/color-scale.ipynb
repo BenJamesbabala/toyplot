{
 "cells": [
  {
   "cell_type": "code",
   "execution_count": 1,
   "metadata": {
    "collapsed": false
   },
   "outputs": [],
   "source": [
    "import numpy\n",
    "import toyplot"
   ]
  },
  {
   "cell_type": "code",
   "execution_count": 2,
   "metadata": {
    "collapsed": false
   },
   "outputs": [
    {
     "data": {
      "text/html": [
       "<div align=\"center\" class=\"toyplot\" id=\"t3d8279ddc1cd42ae87d15722f5805db4\"><svg height=\"100.0px\" id=\"t25184a8c42c1472cb20575316cc6f6c4\" preserveAspectRatio=\"xMidYMid meet\" style=\"background-color:transparent;fill:rgb(16.1%,15.3%,14.1%);fill-opacity:1.0;font-family:Helvetica;font-size:12px;opacity:1.0;stroke:rgb(16.1%,15.3%,14.1%);stroke-opacity:1.0;stroke-width:1.0\" viewBox=\"0 0 400.0 100.0\" width=\"400.0px\" xmlns=\"http://www.w3.org/2000/svg\" xmlns:toyplot=\"http://www.sandia.gov/toyplot\"><g class=\"toyplot-axes-NumberLine\" id=\"t7fe70c890be34b88a3b7d2cb7520c1e8\"><g class=\"toyplot-coordinate-events\"><g class=\"toyplot-color-Map\" id=\"tecad1052bf5a4878bdd6a27217869e15\" transform=\"translate(50.0,50.0) rotate(0.0) translate(0,0)\"><defs><linearGradient gradientUnits=\"userSpaceOnUse\" id=\"te32000209c1c4d69b7d4b3b6f2c091a7\" x1=\"0.0\" x2=\"300.0\" y1=\"0\" y2=\"0\"><stop offset=\"0.0\" stop-color=\"rgb(40%,76.1%,64.7%)\" stop-opacity=\"1.0\"></stop><stop offset=\"0.015873015873\" stop-color=\"rgb(46.5%,73.8%,61.8%)\" stop-opacity=\"1.0\"></stop><stop offset=\"0.031746031746\" stop-color=\"rgb(53.1%,71.5%,58.9%)\" stop-opacity=\"1.0\"></stop><stop offset=\"0.047619047619\" stop-color=\"rgb(59.6%,69.2%,55.9%)\" stop-opacity=\"1.0\"></stop><stop offset=\"0.0634920634921\" stop-color=\"rgb(66.1%,66.8%,53%)\" stop-opacity=\"1.0\"></stop><stop offset=\"0.0793650793651\" stop-color=\"rgb(72.7%,64.5%,50.1%)\" stop-opacity=\"1.0\"></stop><stop offset=\"0.0952380952381\" stop-color=\"rgb(79.2%,62.2%,47.2%)\" stop-opacity=\"1.0\"></stop><stop offset=\"0.111111111111\" stop-color=\"rgb(85.8%,59.9%,44.3%)\" stop-opacity=\"1.0\"></stop><stop offset=\"0.126984126984\" stop-color=\"rgb(92.3%,57.6%,41.4%)\" stop-opacity=\"1.0\"></stop><stop offset=\"0.142857142857\" stop-color=\"rgb(98.8%,55.3%,38.4%)\" stop-opacity=\"1.0\"></stop><stop offset=\"0.15873015873\" stop-color=\"rgb(94%,56.1%,43%)\" stop-opacity=\"1.0\"></stop><stop offset=\"0.174603174603\" stop-color=\"rgb(89.2%,56.9%,47.6%)\" stop-opacity=\"1.0\"></stop><stop offset=\"0.190476190476\" stop-color=\"rgb(84.3%,57.8%,52.2%)\" stop-opacity=\"1.0\"></stop><stop offset=\"0.206349206349\" stop-color=\"rgb(79.5%,58.6%,56.7%)\" stop-opacity=\"1.0\"></stop><stop offset=\"0.222222222222\" stop-color=\"rgb(74.6%,59.4%,61.3%)\" stop-opacity=\"1.0\"></stop><stop offset=\"0.238095238095\" stop-color=\"rgb(69.8%,60.3%,65.9%)\" stop-opacity=\"1.0\"></stop><stop offset=\"0.253968253968\" stop-color=\"rgb(65%,61.1%,70.5%)\" stop-opacity=\"1.0\"></stop><stop offset=\"0.269841269841\" stop-color=\"rgb(60.1%,61.9%,75%)\" stop-opacity=\"1.0\"></stop><stop offset=\"0.285714285714\" stop-color=\"rgb(55.3%,62.7%,79.6%)\" stop-opacity=\"1.0\"></stop><stop offset=\"0.301587301587\" stop-color=\"rgb(59.2%,61.8%,79.3%)\" stop-opacity=\"1.0\"></stop><stop offset=\"0.31746031746\" stop-color=\"rgb(63.1%,60.8%,78.9%)\" stop-opacity=\"1.0\"></stop><stop offset=\"0.333333333333\" stop-color=\"rgb(67.1%,59.9%,78.6%)\" stop-opacity=\"1.0\"></stop><stop offset=\"0.349206349206\" stop-color=\"rgb(71%,58.9%,78.2%)\" stop-opacity=\"1.0\"></stop><stop offset=\"0.365079365079\" stop-color=\"rgb(74.9%,58%,77.9%)\" stop-opacity=\"1.0\"></stop><stop offset=\"0.380952380952\" stop-color=\"rgb(78.8%,57%,77.5%)\" stop-opacity=\"1.0\"></stop><stop offset=\"0.396825396825\" stop-color=\"rgb(82.7%,56%,77.2%)\" stop-opacity=\"1.0\"></stop><stop offset=\"0.412698412698\" stop-color=\"rgb(86.7%,55.1%,76.8%)\" stop-opacity=\"1.0\"></stop><stop offset=\"0.428571428571\" stop-color=\"rgb(90.6%,54.1%,76.5%)\" stop-opacity=\"1.0\"></stop><stop offset=\"0.444444444444\" stop-color=\"rgb(87.8%,57.5%,71.6%)\" stop-opacity=\"1.0\"></stop><stop offset=\"0.460317460317\" stop-color=\"rgb(84.9%,60.9%,66.8%)\" stop-opacity=\"1.0\"></stop><stop offset=\"0.47619047619\" stop-color=\"rgb(82.1%,64.3%,62%)\" stop-opacity=\"1.0\"></stop><stop offset=\"0.492063492063\" stop-color=\"rgb(79.3%,67.7%,57.1%)\" stop-opacity=\"1.0\"></stop><stop offset=\"0.507936507937\" stop-color=\"rgb(76.4%,71.1%,52.3%)\" stop-opacity=\"1.0\"></stop><stop offset=\"0.52380952381\" stop-color=\"rgb(73.6%,74.5%,47.5%)\" stop-opacity=\"1.0\"></stop><stop offset=\"0.539682539683\" stop-color=\"rgb(70.8%,77.9%,42.6%)\" stop-opacity=\"1.0\"></stop><stop offset=\"0.555555555556\" stop-color=\"rgb(67.9%,81.3%,37.8%)\" stop-opacity=\"1.0\"></stop><stop offset=\"0.571428571429\" stop-color=\"rgb(65.1%,84.7%,32.9%)\" stop-opacity=\"1.0\"></stop><stop offset=\"0.587301587302\" stop-color=\"rgb(69%,84.7%,31.3%)\" stop-opacity=\"1.0\"></stop><stop offset=\"0.603174603175\" stop-color=\"rgb(72.9%,84.8%,29.7%)\" stop-opacity=\"1.0\"></stop><stop offset=\"0.619047619048\" stop-color=\"rgb(76.7%,84.8%,28.1%)\" stop-opacity=\"1.0\"></stop><stop offset=\"0.634920634921\" stop-color=\"rgb(80.6%,84.9%,26.5%)\" stop-opacity=\"1.0\"></stop><stop offset=\"0.650793650794\" stop-color=\"rgb(84.5%,84.9%,24.9%)\" stop-opacity=\"1.0\"></stop><stop offset=\"0.666666666667\" stop-color=\"rgb(88.4%,85%,23.3%)\" stop-opacity=\"1.0\"></stop><stop offset=\"0.68253968254\" stop-color=\"rgb(92.2%,85%,21.7%)\" stop-opacity=\"1.0\"></stop><stop offset=\"0.698412698413\" stop-color=\"rgb(96.1%,85.1%,20%)\" stop-opacity=\"1.0\"></stop><stop offset=\"0.714285714286\" stop-color=\"rgb(100%,85.1%,18.4%)\" stop-opacity=\"1.0\"></stop><stop offset=\"0.730158730159\" stop-color=\"rgb(98.9%,84.2%,22.8%)\" stop-opacity=\"1.0\"></stop><stop offset=\"0.746031746032\" stop-color=\"rgb(97.7%,83.3%,27.2%)\" stop-opacity=\"1.0\"></stop><stop offset=\"0.761904761905\" stop-color=\"rgb(96.6%,82.4%,31.6%)\" stop-opacity=\"1.0\"></stop><stop offset=\"0.777777777778\" stop-color=\"rgb(95.5%,81.4%,36%)\" stop-opacity=\"1.0\"></stop><stop offset=\"0.793650793651\" stop-color=\"rgb(94.3%,80.5%,40.4%)\" stop-opacity=\"1.0\"></stop><stop offset=\"0.809523809524\" stop-color=\"rgb(93.2%,79.6%,44.8%)\" stop-opacity=\"1.0\"></stop><stop offset=\"0.825396825397\" stop-color=\"rgb(92.1%,78.7%,49.2%)\" stop-opacity=\"1.0\"></stop><stop offset=\"0.84126984127\" stop-color=\"rgb(90.9%,77.8%,53.6%)\" stop-opacity=\"1.0\"></stop><stop offset=\"0.857142857143\" stop-color=\"rgb(89.8%,76.9%,58%)\" stop-opacity=\"1.0\"></stop><stop offset=\"0.873015873016\" stop-color=\"rgb(87.6%,76.1%,59.4%)\" stop-opacity=\"1.0\"></stop><stop offset=\"0.888888888889\" stop-color=\"rgb(85.4%,75.4%,60.7%)\" stop-opacity=\"1.0\"></stop><stop offset=\"0.904761904762\" stop-color=\"rgb(83.3%,74.6%,62.1%)\" stop-opacity=\"1.0\"></stop><stop offset=\"0.920634920635\" stop-color=\"rgb(81.1%,73.9%,63.4%)\" stop-opacity=\"1.0\"></stop><stop offset=\"0.936507936508\" stop-color=\"rgb(78.9%,73.2%,64.8%)\" stop-opacity=\"1.0\"></stop><stop offset=\"0.952380952381\" stop-color=\"rgb(76.7%,72.4%,66.1%)\" stop-opacity=\"1.0\"></stop><stop offset=\"0.968253968254\" stop-color=\"rgb(74.6%,71.7%,67.5%)\" stop-opacity=\"1.0\"></stop><stop offset=\"0.984126984127\" stop-color=\"rgb(72.4%,70.9%,68.8%)\" stop-opacity=\"1.0\"></stop><stop offset=\"1.0\" stop-color=\"rgb(70.2%,70.2%,70.2%)\" stop-opacity=\"1.0\"></stop></linearGradient></defs><rect height=\"10\" style=\"fill:url(#te32000209c1c4d69b7d4b3b6f2c091a7);stroke:none\" width=\"300.0\" x=\"0.0\" y=\"-5.0\"></rect></g></g><g class=\"toyplot-axes-Axis\" id=\"t28b58a7deb494c7ba7d9d5c9a8e5ad25\" transform=\"translate(50.0,50.0) rotate(0.0) translate(0,10)\"><line style=\"\" x1=\"0\" x2=\"300.0\" y1=\"0\" y2=\"0\"></line><g><text style=\"alignment-baseline:middle;baseline-shift:-100%;font-size:10px;font-weight:normal;stroke:none;text-anchor:middle\" transform=\"translate(0.0,0) rotate(0)\" x=\"0\" y=\"0\">0.0</text><text style=\"alignment-baseline:middle;baseline-shift:-100%;font-size:10px;font-weight:normal;stroke:none;text-anchor:middle\" transform=\"translate(150.0,0) rotate(0)\" x=\"0\" y=\"0\">0.5</text><text style=\"alignment-baseline:middle;baseline-shift:-100%;font-size:10px;font-weight:normal;stroke:none;text-anchor:middle\" transform=\"translate(300.0,0) rotate(0)\" x=\"0\" y=\"0\">1.0</text></g><text style=\"alignment-baseline:middle;baseline-shift:-200%;font-weight:bold;stroke:none;text-anchor:middle\" x=\"150.0\" y=\"0\">Color Scale</text></g></g></svg><div class=\"toyplot-controls\"><ul class=\"toyplot-mark-popup\" onmouseleave=\"this.style.visibility='hidden'\" style=\"background:rgba(0%,0%,0%,0.75);border:0;border-radius:6px;color:white;cursor:default;list-style:none;margin:0;padding:5px;position:fixed;visibility:hidden\"><li class=\"toyplot-mark-popup-title\" style=\"color:lightgray;cursor:default;padding:5px;list-style:none;margin:0;\"></li><li class=\"toyplot-mark-popup-save-csv\" onmouseout=\"this.style.color='white';this.style.background='steelblue'\" onmouseover=\"this.style.color='steelblue';this.style.background='white'\" style=\"border-radius:3px;padding:5px;list-style:none;margin:0;\">Save as .csv</li></ul><script>\n",
       "(function()\n",
       "{\n",
       "  if(window.CSS !== undefined && window.CSS.supports !== undefined)\n",
       "  {\n",
       "    if(!window.CSS.supports(\"alignment-baseline\", \"middle\"))\n",
       "    {\n",
       "      var re = /\\s*alignment-baseline\\s*:\\s*([^;\\s]*)\\s*/;\n",
       "      var text = document.querySelectorAll(\"#t3d8279ddc1cd42ae87d15722f5805db4 text\");\n",
       "      for(var i = 0; i != text.length; ++i)\n",
       "      {\n",
       "        var match = re.exec(text[i].attributes.style.value);\n",
       "        if(match)\n",
       "        {\n",
       "          if(match[1] == \"middle\")\n",
       "          {\n",
       "            var style = getComputedStyle(text[i]);\n",
       "            var font_size = style.fontSize.substr(0, style.fontSize.length - 2);\n",
       "            var dy = text[i].dy.baseVal.length ? text[i].dy.baseVal[0].value : 0;\n",
       "            dy += 0.4 * font_size;\n",
       "            text[i].setAttribute(\"dy\", dy);\n",
       "          }\n",
       "        }\n",
       "      }\n",
       "    }\n",
       "    if(!window.CSS.supports(\"baseline-shift\", \"0\"))\n",
       "    {\n",
       "      var re = /\\s*baseline-shift\\s*:\\s*([^;\\s]*)\\s*/;\n",
       "      var text = document.querySelectorAll(\"#t3d8279ddc1cd42ae87d15722f5805db4 text\");\n",
       "      for(var i = 0; i != text.length; ++i)\n",
       "      {\n",
       "        var match = re.exec(text[i].attributes.style.value);\n",
       "        if(match)\n",
       "        {\n",
       "          var style = getComputedStyle(text[i]);\n",
       "          var font_size = style.fontSize.substr(0, style.fontSize.length - 2);\n",
       "          var percent = 0.01 * match[1].substr(0, match[1].length-1);\n",
       "          var dy = text[i].dy.baseVal.length ? text[i].dy.baseVal[0].value : 0;\n",
       "          dy -= percent * font_size\n",
       "          text[i].setAttribute(\"dy\", dy);\n",
       "        }\n",
       "      }\n",
       "    }\n",
       "  }\n",
       "})();\n",
       "</script></div></div>"
      ],
      "text/plain": [
       "<toyplot.canvas.Canvas at 0x1095bfdd0>"
      ]
     },
     "metadata": {},
     "output_type": "display_data"
    }
   ],
   "source": [
    "colormap = toyplot.color.LinearMap(toyplot.color.Palette(), domain_min=0, domain_max=1)\n",
    "canvas = toyplot.Canvas(width=400, height=100)\n",
    "axis = canvas.color_scale(colormap, label=\"Color Scale\", scale=\"linear\")"
   ]
  },
  {
   "cell_type": "code",
   "execution_count": 3,
   "metadata": {
    "collapsed": false
   },
   "outputs": [
    {
     "data": {
      "text/html": [
       "<div align=\"center\" class=\"toyplot\" id=\"t44184c34900349938a1f49c76273cfc7\"><svg height=\"100.0px\" id=\"tcf88fc366aae4fec89a11d58e64cfe21\" preserveAspectRatio=\"xMidYMid meet\" style=\"background-color:transparent;fill:rgb(16.1%,15.3%,14.1%);fill-opacity:1.0;font-family:Helvetica;font-size:12px;opacity:1.0;stroke:rgb(16.1%,15.3%,14.1%);stroke-opacity:1.0;stroke-width:1.0\" viewBox=\"0 0 400.0 100.0\" width=\"400.0px\" xmlns=\"http://www.w3.org/2000/svg\" xmlns:toyplot=\"http://www.sandia.gov/toyplot\"><g class=\"toyplot-axes-NumberLine\" id=\"ta893d4fb11f34d39bf9743ad6325d7e1\"><g class=\"toyplot-coordinate-events\"><g class=\"toyplot-color-Map\" id=\"t36afc8450a764369a52cae150c58a5f1\" transform=\"translate(50.0,50.0) rotate(0.0) translate(0,0)\"><defs><linearGradient gradientUnits=\"userSpaceOnUse\" id=\"t4cbac0e5be4249b2aa16d82c99ed3ced\" x1=\"0.0\" x2=\"300.0\" y1=\"0\" y2=\"0\"><stop offset=\"0.0\" stop-color=\"rgb(40%,76.1%,64.7%)\" stop-opacity=\"1.0\"></stop><stop offset=\"0.015873015873\" stop-color=\"rgb(46.5%,73.8%,61.8%)\" stop-opacity=\"1.0\"></stop><stop offset=\"0.031746031746\" stop-color=\"rgb(53.1%,71.5%,58.9%)\" stop-opacity=\"1.0\"></stop><stop offset=\"0.047619047619\" stop-color=\"rgb(59.6%,69.2%,55.9%)\" stop-opacity=\"1.0\"></stop><stop offset=\"0.0634920634921\" stop-color=\"rgb(66.1%,66.8%,53%)\" stop-opacity=\"1.0\"></stop><stop offset=\"0.0793650793651\" stop-color=\"rgb(72.7%,64.5%,50.1%)\" stop-opacity=\"1.0\"></stop><stop offset=\"0.0952380952381\" stop-color=\"rgb(79.2%,62.2%,47.2%)\" stop-opacity=\"1.0\"></stop><stop offset=\"0.111111111111\" stop-color=\"rgb(85.8%,59.9%,44.3%)\" stop-opacity=\"1.0\"></stop><stop offset=\"0.126984126984\" stop-color=\"rgb(92.3%,57.6%,41.4%)\" stop-opacity=\"1.0\"></stop><stop offset=\"0.142857142857\" stop-color=\"rgb(98.8%,55.3%,38.4%)\" stop-opacity=\"1.0\"></stop><stop offset=\"0.15873015873\" stop-color=\"rgb(94%,56.1%,43%)\" stop-opacity=\"1.0\"></stop><stop offset=\"0.174603174603\" stop-color=\"rgb(89.2%,56.9%,47.6%)\" stop-opacity=\"1.0\"></stop><stop offset=\"0.190476190476\" stop-color=\"rgb(84.3%,57.8%,52.2%)\" stop-opacity=\"1.0\"></stop><stop offset=\"0.206349206349\" stop-color=\"rgb(79.5%,58.6%,56.7%)\" stop-opacity=\"1.0\"></stop><stop offset=\"0.222222222222\" stop-color=\"rgb(74.6%,59.4%,61.3%)\" stop-opacity=\"1.0\"></stop><stop offset=\"0.238095238095\" stop-color=\"rgb(69.8%,60.3%,65.9%)\" stop-opacity=\"1.0\"></stop><stop offset=\"0.253968253968\" stop-color=\"rgb(65%,61.1%,70.5%)\" stop-opacity=\"1.0\"></stop><stop offset=\"0.269841269841\" stop-color=\"rgb(60.1%,61.9%,75%)\" stop-opacity=\"1.0\"></stop><stop offset=\"0.285714285714\" stop-color=\"rgb(55.3%,62.7%,79.6%)\" stop-opacity=\"1.0\"></stop><stop offset=\"0.301587301587\" stop-color=\"rgb(59.2%,61.8%,79.3%)\" stop-opacity=\"1.0\"></stop><stop offset=\"0.31746031746\" stop-color=\"rgb(63.1%,60.8%,78.9%)\" stop-opacity=\"1.0\"></stop><stop offset=\"0.333333333333\" stop-color=\"rgb(67.1%,59.9%,78.6%)\" stop-opacity=\"1.0\"></stop><stop offset=\"0.349206349206\" stop-color=\"rgb(71%,58.9%,78.2%)\" stop-opacity=\"1.0\"></stop><stop offset=\"0.365079365079\" stop-color=\"rgb(74.9%,58%,77.9%)\" stop-opacity=\"1.0\"></stop><stop offset=\"0.380952380952\" stop-color=\"rgb(78.8%,57%,77.5%)\" stop-opacity=\"1.0\"></stop><stop offset=\"0.396825396825\" stop-color=\"rgb(82.7%,56%,77.2%)\" stop-opacity=\"1.0\"></stop><stop offset=\"0.412698412698\" stop-color=\"rgb(86.7%,55.1%,76.8%)\" stop-opacity=\"1.0\"></stop><stop offset=\"0.428571428571\" stop-color=\"rgb(90.6%,54.1%,76.5%)\" stop-opacity=\"1.0\"></stop><stop offset=\"0.444444444444\" stop-color=\"rgb(87.8%,57.5%,71.6%)\" stop-opacity=\"1.0\"></stop><stop offset=\"0.460317460317\" stop-color=\"rgb(84.9%,60.9%,66.8%)\" stop-opacity=\"1.0\"></stop><stop offset=\"0.47619047619\" stop-color=\"rgb(82.1%,64.3%,62%)\" stop-opacity=\"1.0\"></stop><stop offset=\"0.492063492063\" stop-color=\"rgb(79.3%,67.7%,57.1%)\" stop-opacity=\"1.0\"></stop><stop offset=\"0.507936507937\" stop-color=\"rgb(76.4%,71.1%,52.3%)\" stop-opacity=\"1.0\"></stop><stop offset=\"0.52380952381\" stop-color=\"rgb(73.6%,74.5%,47.5%)\" stop-opacity=\"1.0\"></stop><stop offset=\"0.539682539683\" stop-color=\"rgb(70.8%,77.9%,42.6%)\" stop-opacity=\"1.0\"></stop><stop offset=\"0.555555555556\" stop-color=\"rgb(67.9%,81.3%,37.8%)\" stop-opacity=\"1.0\"></stop><stop offset=\"0.571428571429\" stop-color=\"rgb(65.1%,84.7%,32.9%)\" stop-opacity=\"1.0\"></stop><stop offset=\"0.587301587302\" stop-color=\"rgb(69%,84.7%,31.3%)\" stop-opacity=\"1.0\"></stop><stop offset=\"0.603174603175\" stop-color=\"rgb(72.9%,84.8%,29.7%)\" stop-opacity=\"1.0\"></stop><stop offset=\"0.619047619048\" stop-color=\"rgb(76.7%,84.8%,28.1%)\" stop-opacity=\"1.0\"></stop><stop offset=\"0.634920634921\" stop-color=\"rgb(80.6%,84.9%,26.5%)\" stop-opacity=\"1.0\"></stop><stop offset=\"0.650793650794\" stop-color=\"rgb(84.5%,84.9%,24.9%)\" stop-opacity=\"1.0\"></stop><stop offset=\"0.666666666667\" stop-color=\"rgb(88.4%,85%,23.3%)\" stop-opacity=\"1.0\"></stop><stop offset=\"0.68253968254\" stop-color=\"rgb(92.2%,85%,21.7%)\" stop-opacity=\"1.0\"></stop><stop offset=\"0.698412698413\" stop-color=\"rgb(96.1%,85.1%,20%)\" stop-opacity=\"1.0\"></stop><stop offset=\"0.714285714286\" stop-color=\"rgb(100%,85.1%,18.4%)\" stop-opacity=\"1.0\"></stop><stop offset=\"0.730158730159\" stop-color=\"rgb(98.9%,84.2%,22.8%)\" stop-opacity=\"1.0\"></stop><stop offset=\"0.746031746032\" stop-color=\"rgb(97.7%,83.3%,27.2%)\" stop-opacity=\"1.0\"></stop><stop offset=\"0.761904761905\" stop-color=\"rgb(96.6%,82.4%,31.6%)\" stop-opacity=\"1.0\"></stop><stop offset=\"0.777777777778\" stop-color=\"rgb(95.5%,81.4%,36%)\" stop-opacity=\"1.0\"></stop><stop offset=\"0.793650793651\" stop-color=\"rgb(94.3%,80.5%,40.4%)\" stop-opacity=\"1.0\"></stop><stop offset=\"0.809523809524\" stop-color=\"rgb(93.2%,79.6%,44.8%)\" stop-opacity=\"1.0\"></stop><stop offset=\"0.825396825397\" stop-color=\"rgb(92.1%,78.7%,49.2%)\" stop-opacity=\"1.0\"></stop><stop offset=\"0.84126984127\" stop-color=\"rgb(90.9%,77.8%,53.6%)\" stop-opacity=\"1.0\"></stop><stop offset=\"0.857142857143\" stop-color=\"rgb(89.8%,76.9%,58%)\" stop-opacity=\"1.0\"></stop><stop offset=\"0.873015873016\" stop-color=\"rgb(87.6%,76.1%,59.4%)\" stop-opacity=\"1.0\"></stop><stop offset=\"0.888888888889\" stop-color=\"rgb(85.4%,75.4%,60.7%)\" stop-opacity=\"1.0\"></stop><stop offset=\"0.904761904762\" stop-color=\"rgb(83.3%,74.6%,62.1%)\" stop-opacity=\"1.0\"></stop><stop offset=\"0.920634920635\" stop-color=\"rgb(81.1%,73.9%,63.4%)\" stop-opacity=\"1.0\"></stop><stop offset=\"0.936507936508\" stop-color=\"rgb(78.9%,73.2%,64.8%)\" stop-opacity=\"1.0\"></stop><stop offset=\"0.952380952381\" stop-color=\"rgb(76.7%,72.4%,66.1%)\" stop-opacity=\"1.0\"></stop><stop offset=\"0.968253968254\" stop-color=\"rgb(74.6%,71.7%,67.5%)\" stop-opacity=\"1.0\"></stop><stop offset=\"0.984126984127\" stop-color=\"rgb(72.4%,70.9%,68.8%)\" stop-opacity=\"1.0\"></stop><stop offset=\"1.0\" stop-color=\"rgb(70.2%,70.2%,70.2%)\" stop-opacity=\"1.0\"></stop></linearGradient></defs><rect height=\"10\" style=\"fill:url(#t4cbac0e5be4249b2aa16d82c99ed3ced);stroke:none\" width=\"300.0\" x=\"0.0\" y=\"-5.0\"></rect></g></g><g class=\"toyplot-axes-Axis\" id=\"tf92ce2650a494b39a7004bcd0670e5fd\" transform=\"translate(50.0,50.0) rotate(0.0) translate(0,10)\"><line style=\"\" x1=\"0\" x2=\"300.0\" y1=\"0\" y2=\"0\"></line><g><text style=\"alignment-baseline:middle;baseline-shift:-100%;font-size:10px;font-weight:normal;stroke:none;text-anchor:middle\" transform=\"translate(0.0,0) rotate(0)\" x=\"0\" y=\"0\">0.0</text><text style=\"alignment-baseline:middle;baseline-shift:-100%;font-size:10px;font-weight:normal;stroke:none;text-anchor:middle\" transform=\"translate(75.0,0) rotate(0)\" x=\"0\" y=\"0\">0.5</text><text style=\"alignment-baseline:middle;baseline-shift:-100%;font-size:10px;font-weight:normal;stroke:none;text-anchor:middle\" transform=\"translate(150.0,0) rotate(0)\" x=\"0\" y=\"0\">1.0</text><text style=\"alignment-baseline:middle;baseline-shift:-100%;font-size:10px;font-weight:normal;stroke:none;text-anchor:middle\" transform=\"translate(225.0,0) rotate(0)\" x=\"0\" y=\"0\">1.5</text><text style=\"alignment-baseline:middle;baseline-shift:-100%;font-size:10px;font-weight:normal;stroke:none;text-anchor:middle\" transform=\"translate(300.0,0) rotate(0)\" x=\"0\" y=\"0\">2.0</text></g><text style=\"alignment-baseline:middle;baseline-shift:-200%;font-weight:bold;stroke:none;text-anchor:middle\" x=\"150.0\" y=\"0\">Color Scale</text></g></g></svg><div class=\"toyplot-controls\"><ul class=\"toyplot-mark-popup\" onmouseleave=\"this.style.visibility='hidden'\" style=\"background:rgba(0%,0%,0%,0.75);border:0;border-radius:6px;color:white;cursor:default;list-style:none;margin:0;padding:5px;position:fixed;visibility:hidden\"><li class=\"toyplot-mark-popup-title\" style=\"color:lightgray;cursor:default;padding:5px;list-style:none;margin:0;\"></li><li class=\"toyplot-mark-popup-save-csv\" onmouseout=\"this.style.color='white';this.style.background='steelblue'\" onmouseover=\"this.style.color='steelblue';this.style.background='white'\" style=\"border-radius:3px;padding:5px;list-style:none;margin:0;\">Save as .csv</li></ul><script>\n",
       "(function()\n",
       "{\n",
       "  if(window.CSS !== undefined && window.CSS.supports !== undefined)\n",
       "  {\n",
       "    if(!window.CSS.supports(\"alignment-baseline\", \"middle\"))\n",
       "    {\n",
       "      var re = /\\s*alignment-baseline\\s*:\\s*([^;\\s]*)\\s*/;\n",
       "      var text = document.querySelectorAll(\"#t44184c34900349938a1f49c76273cfc7 text\");\n",
       "      for(var i = 0; i != text.length; ++i)\n",
       "      {\n",
       "        var match = re.exec(text[i].attributes.style.value);\n",
       "        if(match)\n",
       "        {\n",
       "          if(match[1] == \"middle\")\n",
       "          {\n",
       "            var style = getComputedStyle(text[i]);\n",
       "            var font_size = style.fontSize.substr(0, style.fontSize.length - 2);\n",
       "            var dy = text[i].dy.baseVal.length ? text[i].dy.baseVal[0].value : 0;\n",
       "            dy += 0.4 * font_size;\n",
       "            text[i].setAttribute(\"dy\", dy);\n",
       "          }\n",
       "        }\n",
       "      }\n",
       "    }\n",
       "    if(!window.CSS.supports(\"baseline-shift\", \"0\"))\n",
       "    {\n",
       "      var re = /\\s*baseline-shift\\s*:\\s*([^;\\s]*)\\s*/;\n",
       "      var text = document.querySelectorAll(\"#t44184c34900349938a1f49c76273cfc7 text\");\n",
       "      for(var i = 0; i != text.length; ++i)\n",
       "      {\n",
       "        var match = re.exec(text[i].attributes.style.value);\n",
       "        if(match)\n",
       "        {\n",
       "          var style = getComputedStyle(text[i]);\n",
       "          var font_size = style.fontSize.substr(0, style.fontSize.length - 2);\n",
       "          var percent = 0.01 * match[1].substr(0, match[1].length-1);\n",
       "          var dy = text[i].dy.baseVal.length ? text[i].dy.baseVal[0].value : 0;\n",
       "          dy -= percent * font_size\n",
       "          text[i].setAttribute(\"dy\", dy);\n",
       "        }\n",
       "      }\n",
       "    }\n",
       "  }\n",
       "})();\n",
       "</script></div></div>"
      ],
      "text/plain": [
       "<toyplot.canvas.Canvas at 0x109608110>"
      ]
     },
     "metadata": {},
     "output_type": "display_data"
    }
   ],
   "source": [
    "colormap = toyplot.color.LinearMap(toyplot.color.Palette(), domain_min=0, domain_max=2)\n",
    "canvas = toyplot.Canvas(width=400, height=100)\n",
    "axis = canvas.color_scale(colormap, label=\"Color Scale\", scale=\"linear\")"
   ]
  },
  {
   "cell_type": "code",
   "execution_count": 4,
   "metadata": {
    "collapsed": false
   },
   "outputs": [
    {
     "data": {
      "text/html": [
       "<div align=\"center\" class=\"toyplot\" id=\"t379446e8f6c9475daca8a8d213c7006a\"><svg height=\"100.0px\" id=\"ta10209941cc5416993cd184505f4e3a9\" preserveAspectRatio=\"xMidYMid meet\" style=\"background-color:transparent;fill:rgb(16.1%,15.3%,14.1%);fill-opacity:1.0;font-family:Helvetica;font-size:12px;opacity:1.0;stroke:rgb(16.1%,15.3%,14.1%);stroke-opacity:1.0;stroke-width:1.0\" viewBox=\"0 0 400.0 100.0\" width=\"400.0px\" xmlns=\"http://www.w3.org/2000/svg\" xmlns:toyplot=\"http://www.sandia.gov/toyplot\"><g class=\"toyplot-axes-NumberLine\" id=\"t61636d247c4147b8bf530366c6a8cc3c\"><g class=\"toyplot-coordinate-events\"><g class=\"toyplot-color-Map\" id=\"taacd9cab1aad4fefbf4b1250e5772209\" transform=\"translate(50.0,50.0) rotate(0.0) translate(0,0)\"><defs><linearGradient gradientUnits=\"userSpaceOnUse\" id=\"t842b31a94cd74f57a146309ddce3ca37\" x1=\"0.0\" x2=\"300.0\" y1=\"0\" y2=\"0\"><stop offset=\"0.0\" stop-color=\"rgb(40%,76.1%,64.7%)\" stop-opacity=\"1.0\"></stop><stop offset=\"0.280263780219\" stop-color=\"rgb(46.5%,73.8%,61.8%)\" stop-opacity=\"1.0\"></stop><stop offset=\"0.400675778484\" stop-color=\"rgb(53.1%,71.5%,58.9%)\" stop-opacity=\"1.0\"></stop><stop offset=\"0.471112282106\" stop-color=\"rgb(59.6%,69.2%,55.9%)\" stop-opacity=\"1.0\"></stop><stop offset=\"0.52108777675\" stop-color=\"rgb(66.1%,66.8%,53%)\" stop-opacity=\"1.0\"></stop><stop offset=\"0.559851781953\" stop-color=\"rgb(72.7%,64.5%,50.1%)\" stop-opacity=\"1.0\"></stop><stop offset=\"0.591524280372\" stop-color=\"rgb(79.2%,62.2%,47.2%)\" stop-opacity=\"1.0\"></stop><stop offset=\"0.618302996224\" stop-color=\"rgb(85.8%,59.9%,44.3%)\" stop-opacity=\"1.0\"></stop><stop offset=\"0.641499775015\" stop-color=\"rgb(92.3%,57.6%,41.4%)\" stop-opacity=\"1.0\"></stop><stop offset=\"0.661960783994\" stop-color=\"rgb(98.8%,55.3%,38.4%)\" stop-opacity=\"1.0\"></stop><stop offset=\"0.680263780219\" stop-color=\"rgb(94%,56.1%,43%)\" stop-opacity=\"1.0\"></stop><stop offset=\"0.696820854282\" stop-color=\"rgb(89.2%,56.9%,47.6%)\" stop-opacity=\"1.0\"></stop><stop offset=\"0.711936278638\" stop-color=\"rgb(84.3%,57.8%,52.2%)\" stop-opacity=\"1.0\"></stop><stop offset=\"0.725841121141\" stop-color=\"rgb(79.5%,58.6%,56.7%)\" stop-opacity=\"1.0\"></stop><stop offset=\"0.73871499449\" stop-color=\"rgb(74.6%,59.4%,61.3%)\" stop-opacity=\"1.0\"></stop><stop offset=\"0.750700283841\" stop-color=\"rgb(69.8%,60.3%,65.9%)\" stop-opacity=\"1.0\"></stop><stop offset=\"0.761911773281\" stop-color=\"rgb(65%,61.1%,70.5%)\" stop-opacity=\"1.0\"></stop><stop offset=\"0.77244334877\" stop-color=\"rgb(60.1%,61.9%,75%)\" stop-opacity=\"1.0\"></stop><stop offset=\"0.78237278226\" stop-color=\"rgb(55.3%,62.7%,79.6%)\" stop-opacity=\"1.0\"></stop><stop offset=\"0.7917652206\" stop-color=\"rgb(59.2%,61.8%,79.3%)\" stop-opacity=\"1.0\"></stop><stop offset=\"0.800675778484\" stop-color=\"rgb(63.1%,60.8%,78.9%)\" stop-opacity=\"1.0\"></stop><stop offset=\"0.809151498112\" stop-color=\"rgb(67.1%,59.9%,78.6%)\" stop-opacity=\"1.0\"></stop><stop offset=\"0.817232852547\" stop-color=\"rgb(71%,58.9%,78.2%)\" stop-opacity=\"1.0\"></stop><stop offset=\"0.824954914626\" stop-color=\"rgb(74.9%,58%,77.9%)\" stop-opacity=\"1.0\"></stop><stop offset=\"0.832348276903\" stop-color=\"rgb(78.8%,57%,77.5%)\" stop-opacity=\"1.0\"></stop><stop offset=\"0.839439783687\" stop-color=\"rgb(82.7%,56%,77.2%)\" stop-opacity=\"1.0\"></stop><stop offset=\"0.846253119407\" stop-color=\"rgb(86.7%,55.1%,76.8%)\" stop-opacity=\"1.0\"></stop><stop offset=\"0.852809285882\" stop-color=\"rgb(90.6%,54.1%,76.5%)\" stop-opacity=\"1.0\"></stop><stop offset=\"0.859126992755\" stop-color=\"rgb(87.8%,57.5%,71.6%)\" stop-opacity=\"1.0\"></stop><stop offset=\"0.865222979378\" stop-color=\"rgb(84.9%,60.9%,66.8%)\" stop-opacity=\"1.0\"></stop><stop offset=\"0.871112282106\" stop-color=\"rgb(82.1%,64.3%,62%)\" stop-opacity=\"1.0\"></stop><stop offset=\"0.876808457752\" stop-color=\"rgb(79.3%,67.7%,57.1%)\" stop-opacity=\"1.0\"></stop><stop offset=\"0.882323771547\" stop-color=\"rgb(76.4%,71.1%,52.3%)\" stop-opacity=\"1.0\"></stop><stop offset=\"0.88766935617\" stop-color=\"rgb(73.6%,74.5%,47.5%)\" stop-opacity=\"1.0\"></stop><stop offset=\"0.892855347035\" stop-color=\"rgb(70.8%,77.9%,42.6%)\" stop-opacity=\"1.0\"></stop><stop offset=\"0.897890997959\" stop-color=\"rgb(67.9%,81.3%,37.8%)\" stop-opacity=\"1.0\"></stop><stop offset=\"0.902784780525\" stop-color=\"rgb(65.1%,84.7%,32.9%)\" stop-opacity=\"1.0\"></stop><stop offset=\"0.907544469845\" stop-color=\"rgb(69%,84.7%,31.3%)\" stop-opacity=\"1.0\"></stop><stop offset=\"0.912177218865\" stop-color=\"rgb(72.9%,84.8%,29.7%)\" stop-opacity=\"1.0\"></stop><stop offset=\"0.916689623029\" stop-color=\"rgb(76.7%,84.8%,28.1%)\" stop-opacity=\"1.0\"></stop><stop offset=\"0.92108777675\" stop-color=\"rgb(80.6%,84.9%,26.5%)\" stop-opacity=\"1.0\"></stop><stop offset=\"0.925377322906\" stop-color=\"rgb(84.5%,84.9%,24.9%)\" stop-opacity=\"1.0\"></stop><stop offset=\"0.929563496378\" stop-color=\"rgb(88.4%,85%,23.3%)\" stop-opacity=\"1.0\"></stop><stop offset=\"0.93365116245\" stop-color=\"rgb(92.2%,85%,21.7%)\" stop-opacity=\"1.0\"></stop><stop offset=\"0.937644850813\" stop-color=\"rgb(96.1%,85.1%,20%)\" stop-opacity=\"1.0\"></stop><stop offset=\"0.941548785729\" stop-color=\"rgb(100%,85.1%,18.4%)\" stop-opacity=\"1.0\"></stop><stop offset=\"0.945366912891\" stop-color=\"rgb(98.9%,84.2%,22.8%)\" stop-opacity=\"1.0\"></stop><stop offset=\"0.949102923393\" stop-color=\"rgb(97.7%,83.3%,27.2%)\" stop-opacity=\"1.0\"></stop><stop offset=\"0.952760275169\" stop-color=\"rgb(96.6%,82.4%,31.6%)\" stop-opacity=\"1.0\"></stop><stop offset=\"0.95634221223\" stop-color=\"rgb(95.5%,81.4%,36%)\" stop-opacity=\"1.0\"></stop><stop offset=\"0.959851781953\" stop-color=\"rgb(94.3%,80.5%,40.4%)\" stop-opacity=\"1.0\"></stop><stop offset=\"0.963291850658\" stop-color=\"rgb(93.2%,79.6%,44.8%)\" stop-opacity=\"1.0\"></stop><stop offset=\"0.966665117672\" stop-color=\"rgb(92.1%,78.7%,49.2%)\" stop-opacity=\"1.0\"></stop><stop offset=\"0.969974128059\" stop-color=\"rgb(90.9%,77.8%,53.6%)\" stop-opacity=\"1.0\"></stop><stop offset=\"0.973221284148\" stop-color=\"rgb(89.8%,76.9%,58%)\" stop-opacity=\"1.0\"></stop><stop offset=\"0.976408856016\" stop-color=\"rgb(87.6%,76.1%,59.4%)\" stop-opacity=\"1.0\"></stop><stop offset=\"0.979538991021\" stop-color=\"rgb(85.4%,75.4%,60.7%)\" stop-opacity=\"1.0\"></stop><stop offset=\"0.982613722488\" stop-color=\"rgb(83.3%,74.6%,62.1%)\" stop-opacity=\"1.0\"></stop><stop offset=\"0.985634977644\" stop-color=\"rgb(81.1%,73.9%,63.4%)\" stop-opacity=\"1.0\"></stop><stop offset=\"0.988604584875\" stop-color=\"rgb(78.9%,73.2%,64.8%)\" stop-opacity=\"1.0\"></stop><stop offset=\"0.991524280372\" stop-color=\"rgb(76.7%,72.4%,66.1%)\" stop-opacity=\"1.0\"></stop><stop offset=\"0.994395714223\" stop-color=\"rgb(74.6%,71.7%,67.5%)\" stop-opacity=\"1.0\"></stop><stop offset=\"0.997220456018\" stop-color=\"rgb(72.4%,70.9%,68.8%)\" stop-opacity=\"1.0\"></stop><stop offset=\"1.0\" stop-color=\"rgb(70.2%,70.2%,70.2%)\" stop-opacity=\"1.0\"></stop></linearGradient></defs><rect height=\"10\" style=\"fill:url(#t842b31a94cd74f57a146309ddce3ca37);stroke:none\" width=\"300.0\" x=\"0.0\" y=\"-5.0\"></rect></g></g><g class=\"toyplot-axes-Axis\" id=\"tfffac03ec9224ab2930b53a4ff81c317\" transform=\"translate(50.0,50.0) rotate(0.0) translate(0,10)\"><line style=\"\" x1=\"0\" x2=\"300.0\" y1=\"0\" y2=\"0\"></line><g><text style=\"alignment-baseline:middle;baseline-shift:-100%;font-size:10px;font-weight:normal;stroke:none;text-anchor:middle\" transform=\"translate(0.0,0) rotate(0)\" x=\"0\" y=\"0\">0</text><text style=\"alignment-baseline:middle;baseline-shift:-100%;font-size:10px;font-weight:normal;stroke:none;text-anchor:middle\" transform=\"translate(60.0,0) rotate(0)\" x=\"0\" y=\"0\">10 ⁰</text><text style=\"alignment-baseline:middle;baseline-shift:-100%;font-size:10px;font-weight:normal;stroke:none;text-anchor:middle\" transform=\"translate(180.0,0) rotate(0)\" x=\"0\" y=\"0\">10 ¹</text><text style=\"alignment-baseline:middle;baseline-shift:-100%;font-size:10px;font-weight:normal;stroke:none;text-anchor:middle\" transform=\"translate(300.0,0) rotate(0)\" x=\"0\" y=\"0\">10 ²</text></g><text style=\"alignment-baseline:middle;baseline-shift:-200%;font-weight:bold;stroke:none;text-anchor:middle\" x=\"150.0\" y=\"0\">Color Scale</text></g></g></svg><div class=\"toyplot-controls\"><ul class=\"toyplot-mark-popup\" onmouseleave=\"this.style.visibility='hidden'\" style=\"background:rgba(0%,0%,0%,0.75);border:0;border-radius:6px;color:white;cursor:default;list-style:none;margin:0;padding:5px;position:fixed;visibility:hidden\"><li class=\"toyplot-mark-popup-title\" style=\"color:lightgray;cursor:default;padding:5px;list-style:none;margin:0;\"></li><li class=\"toyplot-mark-popup-save-csv\" onmouseout=\"this.style.color='white';this.style.background='steelblue'\" onmouseover=\"this.style.color='steelblue';this.style.background='white'\" style=\"border-radius:3px;padding:5px;list-style:none;margin:0;\">Save as .csv</li></ul><script>\n",
       "(function()\n",
       "{\n",
       "  if(window.CSS !== undefined && window.CSS.supports !== undefined)\n",
       "  {\n",
       "    if(!window.CSS.supports(\"alignment-baseline\", \"middle\"))\n",
       "    {\n",
       "      var re = /\\s*alignment-baseline\\s*:\\s*([^;\\s]*)\\s*/;\n",
       "      var text = document.querySelectorAll(\"#t379446e8f6c9475daca8a8d213c7006a text\");\n",
       "      for(var i = 0; i != text.length; ++i)\n",
       "      {\n",
       "        var match = re.exec(text[i].attributes.style.value);\n",
       "        if(match)\n",
       "        {\n",
       "          if(match[1] == \"middle\")\n",
       "          {\n",
       "            var style = getComputedStyle(text[i]);\n",
       "            var font_size = style.fontSize.substr(0, style.fontSize.length - 2);\n",
       "            var dy = text[i].dy.baseVal.length ? text[i].dy.baseVal[0].value : 0;\n",
       "            dy += 0.4 * font_size;\n",
       "            text[i].setAttribute(\"dy\", dy);\n",
       "          }\n",
       "        }\n",
       "      }\n",
       "    }\n",
       "    if(!window.CSS.supports(\"baseline-shift\", \"0\"))\n",
       "    {\n",
       "      var re = /\\s*baseline-shift\\s*:\\s*([^;\\s]*)\\s*/;\n",
       "      var text = document.querySelectorAll(\"#t379446e8f6c9475daca8a8d213c7006a text\");\n",
       "      for(var i = 0; i != text.length; ++i)\n",
       "      {\n",
       "        var match = re.exec(text[i].attributes.style.value);\n",
       "        if(match)\n",
       "        {\n",
       "          var style = getComputedStyle(text[i]);\n",
       "          var font_size = style.fontSize.substr(0, style.fontSize.length - 2);\n",
       "          var percent = 0.01 * match[1].substr(0, match[1].length-1);\n",
       "          var dy = text[i].dy.baseVal.length ? text[i].dy.baseVal[0].value : 0;\n",
       "          dy -= percent * font_size\n",
       "          text[i].setAttribute(\"dy\", dy);\n",
       "        }\n",
       "      }\n",
       "    }\n",
       "  }\n",
       "})();\n",
       "</script></div></div>"
      ],
      "text/plain": [
       "<toyplot.canvas.Canvas at 0x1096153d0>"
      ]
     },
     "metadata": {},
     "output_type": "display_data"
    }
   ],
   "source": [
    "colormap = toyplot.color.LinearMap(toyplot.color.Palette(), domain_min=0, domain_max=100)\n",
    "canvas = toyplot.Canvas(width=400, height=100)\n",
    "axis = canvas.color_scale(colormap, label=\"Color Scale\", scale=\"log\")"
   ]
  },
  {
   "cell_type": "code",
   "execution_count": 5,
   "metadata": {
    "collapsed": false
   },
   "outputs": [
    {
     "data": {
      "text/html": [
       "<div align=\"center\" class=\"toyplot\" id=\"tca9228fb1b25433da3c895a6ee4b93f1\"><svg height=\"100.0px\" id=\"tee79181c00d749d1bae255281b388a27\" preserveAspectRatio=\"xMidYMid meet\" style=\"background-color:transparent;fill:rgb(16.1%,15.3%,14.1%);fill-opacity:1.0;font-family:Helvetica;font-size:12px;opacity:1.0;stroke:rgb(16.1%,15.3%,14.1%);stroke-opacity:1.0;stroke-width:1.0\" viewBox=\"0 0 400.0 100.0\" width=\"400.0px\" xmlns=\"http://www.w3.org/2000/svg\" xmlns:toyplot=\"http://www.sandia.gov/toyplot\"><g class=\"toyplot-axes-NumberLine\" id=\"t3ea4c50719a04a26927daafa241d6386\"><g class=\"toyplot-coordinate-events\"><g class=\"toyplot-color-CategoricalMap\" id=\"t9000c7cb79f04a5db8f0f528e46e2bf8\" transform=\"translate(50.0,50.0) rotate(0.0) translate(0,0)\"><rect height=\"10\" style=\"fill:rgb(40%,76.1%,64.7%);fill-opacity:1.0;stroke:none\" width=\"42.857142857142854\" x=\"0.0\" y=\"-5.0\"></rect><rect height=\"10\" style=\"fill:rgb(98.8%,55.3%,38.4%);fill-opacity:1.0;stroke:none\" width=\"42.857142857142854\" x=\"42.857142857142854\" y=\"-5.0\"></rect><rect height=\"10\" style=\"fill:rgb(55.3%,62.7%,79.6%);fill-opacity:1.0;stroke:none\" width=\"42.857142857142847\" x=\"85.714285714285708\" y=\"-5.0\"></rect><rect height=\"10\" style=\"fill:rgb(90.6%,54.1%,76.5%);fill-opacity:1.0;stroke:none\" width=\"42.857142857142861\" x=\"128.57142857142856\" y=\"-5.0\"></rect><rect height=\"10\" style=\"fill:rgb(65.1%,84.7%,32.9%);fill-opacity:1.0;stroke:none\" width=\"42.857142857142833\" x=\"171.42857142857142\" y=\"-5.0\"></rect><rect height=\"10\" style=\"fill:rgb(100%,85.1%,18.4%);fill-opacity:1.0;stroke:none\" width=\"42.857142857142861\" x=\"214.28571428571425\" y=\"-5.0\"></rect><rect height=\"10\" style=\"fill:rgb(89.8%,76.9%,58%);fill-opacity:1.0;stroke:none\" width=\"42.85714285714289\" x=\"257.14285714285711\" y=\"-5.0\"></rect></g></g><g class=\"toyplot-axes-Axis\" id=\"t4f6336100c7d46e884fd0ae647c381ba\" transform=\"translate(50.0,50.0) rotate(0.0) translate(0,10)\"><line style=\"\" x1=\"0\" x2=\"300.0\" y1=\"0\" y2=\"0\"></line><g><text style=\"alignment-baseline:middle;baseline-shift:-100%;font-size:10px;font-weight:normal;stroke:none;text-anchor:middle\" transform=\"translate(0.0,0) rotate(0)\" x=\"0\" y=\"0\">0</text><text style=\"alignment-baseline:middle;baseline-shift:-100%;font-size:10px;font-weight:normal;stroke:none;text-anchor:middle\" transform=\"translate(93.75,0) rotate(0)\" x=\"0\" y=\"0\">2</text><text style=\"alignment-baseline:middle;baseline-shift:-100%;font-size:10px;font-weight:normal;stroke:none;text-anchor:middle\" transform=\"translate(187.5,0) rotate(0)\" x=\"0\" y=\"0\">5</text><text style=\"alignment-baseline:middle;baseline-shift:-100%;font-size:10px;font-weight:normal;stroke:none;text-anchor:middle\" transform=\"translate(281.25,0) rotate(0)\" x=\"0\" y=\"0\">8</text></g><text style=\"alignment-baseline:middle;baseline-shift:-200%;font-weight:bold;stroke:none;text-anchor:middle\" x=\"150.0\" y=\"0\">Color Scale</text></g></g></svg><div class=\"toyplot-controls\"><ul class=\"toyplot-mark-popup\" onmouseleave=\"this.style.visibility='hidden'\" style=\"background:rgba(0%,0%,0%,0.75);border:0;border-radius:6px;color:white;cursor:default;list-style:none;margin:0;padding:5px;position:fixed;visibility:hidden\"><li class=\"toyplot-mark-popup-title\" style=\"color:lightgray;cursor:default;padding:5px;list-style:none;margin:0;\"></li><li class=\"toyplot-mark-popup-save-csv\" onmouseout=\"this.style.color='white';this.style.background='steelblue'\" onmouseover=\"this.style.color='steelblue';this.style.background='white'\" style=\"border-radius:3px;padding:5px;list-style:none;margin:0;\">Save as .csv</li></ul><script>\n",
       "(function()\n",
       "{\n",
       "  if(window.CSS !== undefined && window.CSS.supports !== undefined)\n",
       "  {\n",
       "    if(!window.CSS.supports(\"alignment-baseline\", \"middle\"))\n",
       "    {\n",
       "      var re = /\\s*alignment-baseline\\s*:\\s*([^;\\s]*)\\s*/;\n",
       "      var text = document.querySelectorAll(\"#tca9228fb1b25433da3c895a6ee4b93f1 text\");\n",
       "      for(var i = 0; i != text.length; ++i)\n",
       "      {\n",
       "        var match = re.exec(text[i].attributes.style.value);\n",
       "        if(match)\n",
       "        {\n",
       "          if(match[1] == \"middle\")\n",
       "          {\n",
       "            var style = getComputedStyle(text[i]);\n",
       "            var font_size = style.fontSize.substr(0, style.fontSize.length - 2);\n",
       "            var dy = text[i].dy.baseVal.length ? text[i].dy.baseVal[0].value : 0;\n",
       "            dy += 0.4 * font_size;\n",
       "            text[i].setAttribute(\"dy\", dy);\n",
       "          }\n",
       "        }\n",
       "      }\n",
       "    }\n",
       "    if(!window.CSS.supports(\"baseline-shift\", \"0\"))\n",
       "    {\n",
       "      var re = /\\s*baseline-shift\\s*:\\s*([^;\\s]*)\\s*/;\n",
       "      var text = document.querySelectorAll(\"#tca9228fb1b25433da3c895a6ee4b93f1 text\");\n",
       "      for(var i = 0; i != text.length; ++i)\n",
       "      {\n",
       "        var match = re.exec(text[i].attributes.style.value);\n",
       "        if(match)\n",
       "        {\n",
       "          var style = getComputedStyle(text[i]);\n",
       "          var font_size = style.fontSize.substr(0, style.fontSize.length - 2);\n",
       "          var percent = 0.01 * match[1].substr(0, match[1].length-1);\n",
       "          var dy = text[i].dy.baseVal.length ? text[i].dy.baseVal[0].value : 0;\n",
       "          dy -= percent * font_size\n",
       "          text[i].setAttribute(\"dy\", dy);\n",
       "        }\n",
       "      }\n",
       "    }\n",
       "  }\n",
       "})();\n",
       "</script></div></div>"
      ],
      "text/plain": [
       "<toyplot.canvas.Canvas at 0x1095bf710>"
      ]
     },
     "metadata": {},
     "output_type": "display_data"
    }
   ],
   "source": [
    "palette = toyplot.color.Palette()\n",
    "colormap = toyplot.color.CategoricalMap(palette)\n",
    "canvas = toyplot.Canvas(width=400, height=100)\n",
    "axis = canvas.color_scale(colormap, label=\"Color Scale\", scale=\"linear\")"
   ]
  },
  {
   "cell_type": "code",
   "execution_count": 6,
   "metadata": {
    "collapsed": false
   },
   "outputs": [
    {
     "data": {
      "text/html": [
       "<div align=\"center\" class=\"toyplot\" id=\"t2065011c0711418aa7a27ae41872ec0f\"><svg height=\"100.0px\" id=\"t28f613edfa6148d6a0669eff8a558bce\" preserveAspectRatio=\"xMidYMid meet\" style=\"background-color:transparent;fill:rgb(16.1%,15.3%,14.1%);fill-opacity:1.0;font-family:Helvetica;font-size:12px;opacity:1.0;stroke:rgb(16.1%,15.3%,14.1%);stroke-opacity:1.0;stroke-width:1.0\" viewBox=\"0 0 400.0 100.0\" width=\"400.0px\" xmlns=\"http://www.w3.org/2000/svg\" xmlns:toyplot=\"http://www.sandia.gov/toyplot\"><g class=\"toyplot-axes-NumberLine\" id=\"t4b857ac262d44cc3ae4a17b0b5551add\"><g class=\"toyplot-coordinate-events\"><g class=\"toyplot-color-CategoricalMap\" id=\"t2cd2bce26a684db7b51f8d6b1fefef73\" transform=\"translate(50.0,50.0) rotate(0.0) translate(0,0)\"><rect height=\"10\" style=\"fill:rgb(40%,76.1%,64.7%);fill-opacity:1.0;stroke:none\" width=\"73.918067274644812\" x=\"0.0\" y=\"-5.0\"></rect><rect height=\"10\" style=\"fill:rgb(98.8%,55.3%,38.4%);fill-opacity:1.0;stroke:none\" width=\"72.247198959355472\" x=\"73.918067274644812\" y=\"-5.0\"></rect><rect height=\"10\" style=\"fill:rgb(55.3%,62.7%,79.6%);fill-opacity:1.0;stroke:none\" width=\"42.261902173363524\" x=\"146.16526623400028\" y=\"-5.0\"></rect><rect height=\"10\" style=\"fill:rgb(90.6%,54.1%,76.5%);fill-opacity:1.0;stroke:none\" width=\"29.985296785991977\" x=\"188.42716840736381\" y=\"-5.0\"></rect><rect height=\"10\" style=\"fill:rgb(65.1%,84.7%,32.9%);fill-opacity:1.0;stroke:none\" width=\"23.258403121933526\" x=\"218.41246519335579\" y=\"-5.0\"></rect><rect height=\"10\" style=\"fill:rgb(100%,85.1%,18.4%);fill-opacity:1.0;stroke:none\" width=\"19.003499051429941\" x=\"241.67086831528931\" y=\"-5.0\"></rect><rect height=\"10\" style=\"fill:rgb(89.8%,76.9%,58%);fill-opacity:1.0;stroke:none\" width=\"16.067229511347193\" x=\"260.67436736671925\" y=\"-5.0\"></rect></g></g><g class=\"toyplot-axes-Axis\" id=\"tfba36b12974940aba36e4bd34227fad9\" transform=\"translate(50.0,50.0) rotate(0.0) translate(0,10)\"><line style=\"\" x1=\"0\" x2=\"300.0\" y1=\"0\" y2=\"0\"></line><g><text style=\"alignment-baseline:middle;baseline-shift:-100%;font-size:10px;font-weight:normal;stroke:none;text-anchor:middle\" transform=\"translate(0.0,0) rotate(0)\" x=\"0\" y=\"0\">0</text><text style=\"alignment-baseline:middle;baseline-shift:-100%;font-size:10px;font-weight:normal;stroke:none;text-anchor:middle\" transform=\"translate(60.0,0) rotate(0)\" x=\"0\" y=\"0\">10 ⁰</text><text style=\"alignment-baseline:middle;baseline-shift:-100%;font-size:10px;font-weight:normal;stroke:none;text-anchor:middle\" transform=\"translate(300.0,0) rotate(0)\" x=\"0\" y=\"0\">10 ¹</text></g><text style=\"alignment-baseline:middle;baseline-shift:-200%;font-weight:bold;stroke:none;text-anchor:middle\" x=\"150.0\" y=\"0\">Color Scale</text></g></g></svg><div class=\"toyplot-controls\"><ul class=\"toyplot-mark-popup\" onmouseleave=\"this.style.visibility='hidden'\" style=\"background:rgba(0%,0%,0%,0.75);border:0;border-radius:6px;color:white;cursor:default;list-style:none;margin:0;padding:5px;position:fixed;visibility:hidden\"><li class=\"toyplot-mark-popup-title\" style=\"color:lightgray;cursor:default;padding:5px;list-style:none;margin:0;\"></li><li class=\"toyplot-mark-popup-save-csv\" onmouseout=\"this.style.color='white';this.style.background='steelblue'\" onmouseover=\"this.style.color='steelblue';this.style.background='white'\" style=\"border-radius:3px;padding:5px;list-style:none;margin:0;\">Save as .csv</li></ul><script>\n",
       "(function()\n",
       "{\n",
       "  if(window.CSS !== undefined && window.CSS.supports !== undefined)\n",
       "  {\n",
       "    if(!window.CSS.supports(\"alignment-baseline\", \"middle\"))\n",
       "    {\n",
       "      var re = /\\s*alignment-baseline\\s*:\\s*([^;\\s]*)\\s*/;\n",
       "      var text = document.querySelectorAll(\"#t2065011c0711418aa7a27ae41872ec0f text\");\n",
       "      for(var i = 0; i != text.length; ++i)\n",
       "      {\n",
       "        var match = re.exec(text[i].attributes.style.value);\n",
       "        if(match)\n",
       "        {\n",
       "          if(match[1] == \"middle\")\n",
       "          {\n",
       "            var style = getComputedStyle(text[i]);\n",
       "            var font_size = style.fontSize.substr(0, style.fontSize.length - 2);\n",
       "            var dy = text[i].dy.baseVal.length ? text[i].dy.baseVal[0].value : 0;\n",
       "            dy += 0.4 * font_size;\n",
       "            text[i].setAttribute(\"dy\", dy);\n",
       "          }\n",
       "        }\n",
       "      }\n",
       "    }\n",
       "    if(!window.CSS.supports(\"baseline-shift\", \"0\"))\n",
       "    {\n",
       "      var re = /\\s*baseline-shift\\s*:\\s*([^;\\s]*)\\s*/;\n",
       "      var text = document.querySelectorAll(\"#t2065011c0711418aa7a27ae41872ec0f text\");\n",
       "      for(var i = 0; i != text.length; ++i)\n",
       "      {\n",
       "        var match = re.exec(text[i].attributes.style.value);\n",
       "        if(match)\n",
       "        {\n",
       "          var style = getComputedStyle(text[i]);\n",
       "          var font_size = style.fontSize.substr(0, style.fontSize.length - 2);\n",
       "          var percent = 0.01 * match[1].substr(0, match[1].length-1);\n",
       "          var dy = text[i].dy.baseVal.length ? text[i].dy.baseVal[0].value : 0;\n",
       "          dy -= percent * font_size\n",
       "          text[i].setAttribute(\"dy\", dy);\n",
       "        }\n",
       "      }\n",
       "    }\n",
       "  }\n",
       "})();\n",
       "</script></div></div>"
      ],
      "text/plain": [
       "<toyplot.canvas.Canvas at 0x10960c550>"
      ]
     },
     "metadata": {},
     "output_type": "display_data"
    }
   ],
   "source": [
    "palette = toyplot.color.Palette()\n",
    "colormap = toyplot.color.CategoricalMap(palette)\n",
    "canvas = toyplot.Canvas(width=400, height=100)\n",
    "axis = canvas.color_scale(colormap, label=\"Color Scale\", scale=\"log\")"
   ]
  },
  {
   "cell_type": "code",
   "execution_count": 7,
   "metadata": {
    "collapsed": false
   },
   "outputs": [
    {
     "data": {
      "text/html": [
       "<div align=\"center\" class=\"toyplot\" id=\"t718b63db9fc244f4aed3db0453daca2f\"><svg height=\"100.0px\" id=\"tb9ec71f8d58f4658a7b3c4a1ef80257c\" preserveAspectRatio=\"xMidYMid meet\" style=\"background-color:transparent;fill:rgb(16.1%,15.3%,14.1%);fill-opacity:1.0;font-family:Helvetica;font-size:12px;opacity:1.0;stroke:rgb(16.1%,15.3%,14.1%);stroke-opacity:1.0;stroke-width:1.0\" viewBox=\"0 0 400.0 100.0\" width=\"400.0px\" xmlns=\"http://www.w3.org/2000/svg\" xmlns:toyplot=\"http://www.sandia.gov/toyplot\"><g class=\"toyplot-axes-NumberLine\" id=\"t9d599732fdba425290ad90296c8d1276\"><g class=\"toyplot-coordinate-events\"><g class=\"toyplot-color-Map\" id=\"t2e597c0fe4f94fb49762bbb00de13dea\" transform=\"translate(50.0,50.0) rotate(0.0) translate(0,0)\"><defs><linearGradient gradientUnits=\"userSpaceOnUse\" id=\"ta469a5c0008f4a5bae3e1dffc0de162a\" x1=\"100.0\" x2=\"300.0\" y1=\"0\" y2=\"0\"><stop offset=\"0.0\" stop-color=\"rgb(40%,76.1%,64.7%)\" stop-opacity=\"1.0\"></stop><stop offset=\"0.015873015873\" stop-color=\"rgb(46.5%,73.8%,61.8%)\" stop-opacity=\"1.0\"></stop><stop offset=\"0.031746031746\" stop-color=\"rgb(53.1%,71.5%,58.9%)\" stop-opacity=\"1.0\"></stop><stop offset=\"0.047619047619\" stop-color=\"rgb(59.6%,69.2%,55.9%)\" stop-opacity=\"1.0\"></stop><stop offset=\"0.0634920634921\" stop-color=\"rgb(66.1%,66.8%,53%)\" stop-opacity=\"1.0\"></stop><stop offset=\"0.0793650793651\" stop-color=\"rgb(72.7%,64.5%,50.1%)\" stop-opacity=\"1.0\"></stop><stop offset=\"0.0952380952381\" stop-color=\"rgb(79.2%,62.2%,47.2%)\" stop-opacity=\"1.0\"></stop><stop offset=\"0.111111111111\" stop-color=\"rgb(85.8%,59.9%,44.3%)\" stop-opacity=\"1.0\"></stop><stop offset=\"0.126984126984\" stop-color=\"rgb(92.3%,57.6%,41.4%)\" stop-opacity=\"1.0\"></stop><stop offset=\"0.142857142857\" stop-color=\"rgb(98.8%,55.3%,38.4%)\" stop-opacity=\"1.0\"></stop><stop offset=\"0.15873015873\" stop-color=\"rgb(94%,56.1%,43%)\" stop-opacity=\"1.0\"></stop><stop offset=\"0.174603174603\" stop-color=\"rgb(89.2%,56.9%,47.6%)\" stop-opacity=\"1.0\"></stop><stop offset=\"0.190476190476\" stop-color=\"rgb(84.3%,57.8%,52.2%)\" stop-opacity=\"1.0\"></stop><stop offset=\"0.206349206349\" stop-color=\"rgb(79.5%,58.6%,56.7%)\" stop-opacity=\"1.0\"></stop><stop offset=\"0.222222222222\" stop-color=\"rgb(74.6%,59.4%,61.3%)\" stop-opacity=\"1.0\"></stop><stop offset=\"0.238095238095\" stop-color=\"rgb(69.8%,60.3%,65.9%)\" stop-opacity=\"1.0\"></stop><stop offset=\"0.253968253968\" stop-color=\"rgb(65%,61.1%,70.5%)\" stop-opacity=\"1.0\"></stop><stop offset=\"0.269841269841\" stop-color=\"rgb(60.1%,61.9%,75%)\" stop-opacity=\"1.0\"></stop><stop offset=\"0.285714285714\" stop-color=\"rgb(55.3%,62.7%,79.6%)\" stop-opacity=\"1.0\"></stop><stop offset=\"0.301587301587\" stop-color=\"rgb(59.2%,61.8%,79.3%)\" stop-opacity=\"1.0\"></stop><stop offset=\"0.31746031746\" stop-color=\"rgb(63.1%,60.8%,78.9%)\" stop-opacity=\"1.0\"></stop><stop offset=\"0.333333333333\" stop-color=\"rgb(67.1%,59.9%,78.6%)\" stop-opacity=\"1.0\"></stop><stop offset=\"0.349206349206\" stop-color=\"rgb(71%,58.9%,78.2%)\" stop-opacity=\"1.0\"></stop><stop offset=\"0.365079365079\" stop-color=\"rgb(74.9%,58%,77.9%)\" stop-opacity=\"1.0\"></stop><stop offset=\"0.380952380952\" stop-color=\"rgb(78.8%,57%,77.5%)\" stop-opacity=\"1.0\"></stop><stop offset=\"0.396825396825\" stop-color=\"rgb(82.7%,56%,77.2%)\" stop-opacity=\"1.0\"></stop><stop offset=\"0.412698412698\" stop-color=\"rgb(86.7%,55.1%,76.8%)\" stop-opacity=\"1.0\"></stop><stop offset=\"0.428571428571\" stop-color=\"rgb(90.6%,54.1%,76.5%)\" stop-opacity=\"1.0\"></stop><stop offset=\"0.444444444444\" stop-color=\"rgb(87.8%,57.5%,71.6%)\" stop-opacity=\"1.0\"></stop><stop offset=\"0.460317460317\" stop-color=\"rgb(84.9%,60.9%,66.8%)\" stop-opacity=\"1.0\"></stop><stop offset=\"0.47619047619\" stop-color=\"rgb(82.1%,64.3%,62%)\" stop-opacity=\"1.0\"></stop><stop offset=\"0.492063492063\" stop-color=\"rgb(79.3%,67.7%,57.1%)\" stop-opacity=\"1.0\"></stop><stop offset=\"0.507936507937\" stop-color=\"rgb(76.4%,71.1%,52.3%)\" stop-opacity=\"1.0\"></stop><stop offset=\"0.52380952381\" stop-color=\"rgb(73.6%,74.5%,47.5%)\" stop-opacity=\"1.0\"></stop><stop offset=\"0.539682539683\" stop-color=\"rgb(70.8%,77.9%,42.6%)\" stop-opacity=\"1.0\"></stop><stop offset=\"0.555555555556\" stop-color=\"rgb(67.9%,81.3%,37.8%)\" stop-opacity=\"1.0\"></stop><stop offset=\"0.571428571429\" stop-color=\"rgb(65.1%,84.7%,32.9%)\" stop-opacity=\"1.0\"></stop><stop offset=\"0.587301587302\" stop-color=\"rgb(69%,84.7%,31.3%)\" stop-opacity=\"1.0\"></stop><stop offset=\"0.603174603175\" stop-color=\"rgb(72.9%,84.8%,29.7%)\" stop-opacity=\"1.0\"></stop><stop offset=\"0.619047619048\" stop-color=\"rgb(76.7%,84.8%,28.1%)\" stop-opacity=\"1.0\"></stop><stop offset=\"0.634920634921\" stop-color=\"rgb(80.6%,84.9%,26.5%)\" stop-opacity=\"1.0\"></stop><stop offset=\"0.650793650794\" stop-color=\"rgb(84.5%,84.9%,24.9%)\" stop-opacity=\"1.0\"></stop><stop offset=\"0.666666666667\" stop-color=\"rgb(88.4%,85%,23.3%)\" stop-opacity=\"1.0\"></stop><stop offset=\"0.68253968254\" stop-color=\"rgb(92.2%,85%,21.7%)\" stop-opacity=\"1.0\"></stop><stop offset=\"0.698412698413\" stop-color=\"rgb(96.1%,85.1%,20%)\" stop-opacity=\"1.0\"></stop><stop offset=\"0.714285714286\" stop-color=\"rgb(100%,85.1%,18.4%)\" stop-opacity=\"1.0\"></stop><stop offset=\"0.730158730159\" stop-color=\"rgb(98.9%,84.2%,22.8%)\" stop-opacity=\"1.0\"></stop><stop offset=\"0.746031746032\" stop-color=\"rgb(97.7%,83.3%,27.2%)\" stop-opacity=\"1.0\"></stop><stop offset=\"0.761904761905\" stop-color=\"rgb(96.6%,82.4%,31.6%)\" stop-opacity=\"1.0\"></stop><stop offset=\"0.777777777778\" stop-color=\"rgb(95.5%,81.4%,36%)\" stop-opacity=\"1.0\"></stop><stop offset=\"0.793650793651\" stop-color=\"rgb(94.3%,80.5%,40.4%)\" stop-opacity=\"1.0\"></stop><stop offset=\"0.809523809524\" stop-color=\"rgb(93.2%,79.6%,44.8%)\" stop-opacity=\"1.0\"></stop><stop offset=\"0.825396825397\" stop-color=\"rgb(92.1%,78.7%,49.2%)\" stop-opacity=\"1.0\"></stop><stop offset=\"0.84126984127\" stop-color=\"rgb(90.9%,77.8%,53.6%)\" stop-opacity=\"1.0\"></stop><stop offset=\"0.857142857143\" stop-color=\"rgb(89.8%,76.9%,58%)\" stop-opacity=\"1.0\"></stop><stop offset=\"0.873015873016\" stop-color=\"rgb(87.6%,76.1%,59.4%)\" stop-opacity=\"1.0\"></stop><stop offset=\"0.888888888889\" stop-color=\"rgb(85.4%,75.4%,60.7%)\" stop-opacity=\"1.0\"></stop><stop offset=\"0.904761904762\" stop-color=\"rgb(83.3%,74.6%,62.1%)\" stop-opacity=\"1.0\"></stop><stop offset=\"0.920634920635\" stop-color=\"rgb(81.1%,73.9%,63.4%)\" stop-opacity=\"1.0\"></stop><stop offset=\"0.936507936508\" stop-color=\"rgb(78.9%,73.2%,64.8%)\" stop-opacity=\"1.0\"></stop><stop offset=\"0.952380952381\" stop-color=\"rgb(76.7%,72.4%,66.1%)\" stop-opacity=\"1.0\"></stop><stop offset=\"0.968253968254\" stop-color=\"rgb(74.6%,71.7%,67.5%)\" stop-opacity=\"1.0\"></stop><stop offset=\"0.984126984127\" stop-color=\"rgb(72.4%,70.9%,68.8%)\" stop-opacity=\"1.0\"></stop><stop offset=\"1.0\" stop-color=\"rgb(70.2%,70.2%,70.2%)\" stop-opacity=\"1.0\"></stop></linearGradient></defs><rect height=\"10\" style=\"fill:url(#ta469a5c0008f4a5bae3e1dffc0de162a);stroke:none\" width=\"200.0\" x=\"100.0\" y=\"-5.0\"></rect></g></g><g class=\"toyplot-axes-Axis\" id=\"t143504ba30b24af89b5e81a7643ad3c7\" transform=\"translate(50.0,50.0) rotate(0.0) translate(0,10)\"><line style=\"\" x1=\"0\" x2=\"300.0\" y1=\"0\" y2=\"0\"></line><g><text style=\"alignment-baseline:middle;baseline-shift:-100%;font-size:10px;font-weight:normal;stroke:none;text-anchor:middle\" transform=\"translate(0.0,0) rotate(0)\" x=\"0\" y=\"0\">-0.5</text><text style=\"alignment-baseline:middle;baseline-shift:-100%;font-size:10px;font-weight:normal;stroke:none;text-anchor:middle\" transform=\"translate(100.0,0) rotate(0)\" x=\"0\" y=\"0\">0.0</text><text style=\"alignment-baseline:middle;baseline-shift:-100%;font-size:10px;font-weight:normal;stroke:none;text-anchor:middle\" transform=\"translate(200.0,0) rotate(0)\" x=\"0\" y=\"0\">0.5</text><text style=\"alignment-baseline:middle;baseline-shift:-100%;font-size:10px;font-weight:normal;stroke:none;text-anchor:middle\" transform=\"translate(300.0,0) rotate(0)\" x=\"0\" y=\"0\">1.0</text></g><text style=\"alignment-baseline:middle;baseline-shift:-200%;font-weight:bold;stroke:none;text-anchor:middle\" x=\"150.0\" y=\"0\">Color Scale</text></g></g></svg><div class=\"toyplot-controls\"><ul class=\"toyplot-mark-popup\" onmouseleave=\"this.style.visibility='hidden'\" style=\"background:rgba(0%,0%,0%,0.75);border:0;border-radius:6px;color:white;cursor:default;list-style:none;margin:0;padding:5px;position:fixed;visibility:hidden\"><li class=\"toyplot-mark-popup-title\" style=\"color:lightgray;cursor:default;padding:5px;list-style:none;margin:0;\"></li><li class=\"toyplot-mark-popup-save-csv\" onmouseout=\"this.style.color='white';this.style.background='steelblue'\" onmouseover=\"this.style.color='steelblue';this.style.background='white'\" style=\"border-radius:3px;padding:5px;list-style:none;margin:0;\">Save as .csv</li></ul><script>\n",
       "(function()\n",
       "{\n",
       "  if(window.CSS !== undefined && window.CSS.supports !== undefined)\n",
       "  {\n",
       "    if(!window.CSS.supports(\"alignment-baseline\", \"middle\"))\n",
       "    {\n",
       "      var re = /\\s*alignment-baseline\\s*:\\s*([^;\\s]*)\\s*/;\n",
       "      var text = document.querySelectorAll(\"#t718b63db9fc244f4aed3db0453daca2f text\");\n",
       "      for(var i = 0; i != text.length; ++i)\n",
       "      {\n",
       "        var match = re.exec(text[i].attributes.style.value);\n",
       "        if(match)\n",
       "        {\n",
       "          if(match[1] == \"middle\")\n",
       "          {\n",
       "            var style = getComputedStyle(text[i]);\n",
       "            var font_size = style.fontSize.substr(0, style.fontSize.length - 2);\n",
       "            var dy = text[i].dy.baseVal.length ? text[i].dy.baseVal[0].value : 0;\n",
       "            dy += 0.4 * font_size;\n",
       "            text[i].setAttribute(\"dy\", dy);\n",
       "          }\n",
       "        }\n",
       "      }\n",
       "    }\n",
       "    if(!window.CSS.supports(\"baseline-shift\", \"0\"))\n",
       "    {\n",
       "      var re = /\\s*baseline-shift\\s*:\\s*([^;\\s]*)\\s*/;\n",
       "      var text = document.querySelectorAll(\"#t718b63db9fc244f4aed3db0453daca2f text\");\n",
       "      for(var i = 0; i != text.length; ++i)\n",
       "      {\n",
       "        var match = re.exec(text[i].attributes.style.value);\n",
       "        if(match)\n",
       "        {\n",
       "          var style = getComputedStyle(text[i]);\n",
       "          var font_size = style.fontSize.substr(0, style.fontSize.length - 2);\n",
       "          var percent = 0.01 * match[1].substr(0, match[1].length-1);\n",
       "          var dy = text[i].dy.baseVal.length ? text[i].dy.baseVal[0].value : 0;\n",
       "          dy -= percent * font_size\n",
       "          text[i].setAttribute(\"dy\", dy);\n",
       "        }\n",
       "      }\n",
       "    }\n",
       "  }\n",
       "})();\n",
       "</script></div></div>"
      ],
      "text/plain": [
       "<toyplot.canvas.Canvas at 0x109629590>"
      ]
     },
     "metadata": {},
     "output_type": "display_data"
    }
   ],
   "source": [
    "colormap = toyplot.color.LinearMap(toyplot.color.Palette(), domain_min=0, domain_max=1)\n",
    "canvas = toyplot.Canvas(width=400, height=100)\n",
    "axis = canvas.color_scale(colormap, label=\"Color Scale\", scale=\"linear\")\n",
    "axis.axis.domain.min = -0.5"
   ]
  },
  {
   "cell_type": "code",
   "execution_count": 8,
   "metadata": {
    "collapsed": false
   },
   "outputs": [
    {
     "data": {
      "text/html": [
       "<div align=\"center\" class=\"toyplot\" id=\"taea4cab84dd144a6976fd85929011769\"><svg height=\"100.0px\" id=\"tb98eeb2d63ff4a56969a44c948941e6d\" preserveAspectRatio=\"xMidYMid meet\" style=\"background-color:transparent;fill:rgb(16.1%,15.3%,14.1%);fill-opacity:1.0;font-family:Helvetica;font-size:12px;opacity:1.0;stroke:rgb(16.1%,15.3%,14.1%);stroke-opacity:1.0;stroke-width:1.0\" viewBox=\"0 0 400.0 100.0\" width=\"400.0px\" xmlns=\"http://www.w3.org/2000/svg\" xmlns:toyplot=\"http://www.sandia.gov/toyplot\"><g class=\"toyplot-axes-NumberLine\" id=\"tf9e1b2f002aa4af989d3d765d3ff071d\"><g class=\"toyplot-coordinate-events\"><g class=\"toyplot-color-Map\" id=\"te0479d57613e4c63a2205deb9bd3c3b2\" transform=\"translate(50.0,50.0) rotate(0.0) translate(0,0)\"><defs><linearGradient gradientUnits=\"userSpaceOnUse\" id=\"tb37c8fab173b432a823f7bec2739987a\" x1=\"150.0\" x2=\"300.0\" y1=\"0\" y2=\"0\"><stop offset=\"0.0\" stop-color=\"rgb(40%,76.1%,64.7%)\" stop-opacity=\"1.0\"></stop><stop offset=\"0.015873015873\" stop-color=\"rgb(46.5%,73.8%,61.8%)\" stop-opacity=\"1.0\"></stop><stop offset=\"0.031746031746\" stop-color=\"rgb(53.1%,71.5%,58.9%)\" stop-opacity=\"1.0\"></stop><stop offset=\"0.047619047619\" stop-color=\"rgb(59.6%,69.2%,55.9%)\" stop-opacity=\"1.0\"></stop><stop offset=\"0.0634920634921\" stop-color=\"rgb(66.1%,66.8%,53%)\" stop-opacity=\"1.0\"></stop><stop offset=\"0.0793650793651\" stop-color=\"rgb(72.7%,64.5%,50.1%)\" stop-opacity=\"1.0\"></stop><stop offset=\"0.0952380952381\" stop-color=\"rgb(79.2%,62.2%,47.2%)\" stop-opacity=\"1.0\"></stop><stop offset=\"0.111111111111\" stop-color=\"rgb(85.8%,59.9%,44.3%)\" stop-opacity=\"1.0\"></stop><stop offset=\"0.126984126984\" stop-color=\"rgb(92.3%,57.6%,41.4%)\" stop-opacity=\"1.0\"></stop><stop offset=\"0.142857142857\" stop-color=\"rgb(98.8%,55.3%,38.4%)\" stop-opacity=\"1.0\"></stop><stop offset=\"0.15873015873\" stop-color=\"rgb(94%,56.1%,43%)\" stop-opacity=\"1.0\"></stop><stop offset=\"0.174603174603\" stop-color=\"rgb(89.2%,56.9%,47.6%)\" stop-opacity=\"1.0\"></stop><stop offset=\"0.190476190476\" stop-color=\"rgb(84.3%,57.8%,52.2%)\" stop-opacity=\"1.0\"></stop><stop offset=\"0.206349206349\" stop-color=\"rgb(79.5%,58.6%,56.7%)\" stop-opacity=\"1.0\"></stop><stop offset=\"0.222222222222\" stop-color=\"rgb(74.6%,59.4%,61.3%)\" stop-opacity=\"1.0\"></stop><stop offset=\"0.238095238095\" stop-color=\"rgb(69.8%,60.3%,65.9%)\" stop-opacity=\"1.0\"></stop><stop offset=\"0.253968253968\" stop-color=\"rgb(65%,61.1%,70.5%)\" stop-opacity=\"1.0\"></stop><stop offset=\"0.269841269841\" stop-color=\"rgb(60.1%,61.9%,75%)\" stop-opacity=\"1.0\"></stop><stop offset=\"0.285714285714\" stop-color=\"rgb(55.3%,62.7%,79.6%)\" stop-opacity=\"1.0\"></stop><stop offset=\"0.301587301587\" stop-color=\"rgb(59.2%,61.8%,79.3%)\" stop-opacity=\"1.0\"></stop><stop offset=\"0.31746031746\" stop-color=\"rgb(63.1%,60.8%,78.9%)\" stop-opacity=\"1.0\"></stop><stop offset=\"0.333333333333\" stop-color=\"rgb(67.1%,59.9%,78.6%)\" stop-opacity=\"1.0\"></stop><stop offset=\"0.349206349206\" stop-color=\"rgb(71%,58.9%,78.2%)\" stop-opacity=\"1.0\"></stop><stop offset=\"0.365079365079\" stop-color=\"rgb(74.9%,58%,77.9%)\" stop-opacity=\"1.0\"></stop><stop offset=\"0.380952380952\" stop-color=\"rgb(78.8%,57%,77.5%)\" stop-opacity=\"1.0\"></stop><stop offset=\"0.396825396825\" stop-color=\"rgb(82.7%,56%,77.2%)\" stop-opacity=\"1.0\"></stop><stop offset=\"0.412698412698\" stop-color=\"rgb(86.7%,55.1%,76.8%)\" stop-opacity=\"1.0\"></stop><stop offset=\"0.428571428571\" stop-color=\"rgb(90.6%,54.1%,76.5%)\" stop-opacity=\"1.0\"></stop><stop offset=\"0.444444444444\" stop-color=\"rgb(87.8%,57.5%,71.6%)\" stop-opacity=\"1.0\"></stop><stop offset=\"0.460317460317\" stop-color=\"rgb(84.9%,60.9%,66.8%)\" stop-opacity=\"1.0\"></stop><stop offset=\"0.47619047619\" stop-color=\"rgb(82.1%,64.3%,62%)\" stop-opacity=\"1.0\"></stop><stop offset=\"0.492063492063\" stop-color=\"rgb(79.3%,67.7%,57.1%)\" stop-opacity=\"1.0\"></stop><stop offset=\"0.507936507937\" stop-color=\"rgb(76.4%,71.1%,52.3%)\" stop-opacity=\"1.0\"></stop><stop offset=\"0.52380952381\" stop-color=\"rgb(73.6%,74.5%,47.5%)\" stop-opacity=\"1.0\"></stop><stop offset=\"0.539682539683\" stop-color=\"rgb(70.8%,77.9%,42.6%)\" stop-opacity=\"1.0\"></stop><stop offset=\"0.555555555556\" stop-color=\"rgb(67.9%,81.3%,37.8%)\" stop-opacity=\"1.0\"></stop><stop offset=\"0.571428571429\" stop-color=\"rgb(65.1%,84.7%,32.9%)\" stop-opacity=\"1.0\"></stop><stop offset=\"0.587301587302\" stop-color=\"rgb(69%,84.7%,31.3%)\" stop-opacity=\"1.0\"></stop><stop offset=\"0.603174603175\" stop-color=\"rgb(72.9%,84.8%,29.7%)\" stop-opacity=\"1.0\"></stop><stop offset=\"0.619047619048\" stop-color=\"rgb(76.7%,84.8%,28.1%)\" stop-opacity=\"1.0\"></stop><stop offset=\"0.634920634921\" stop-color=\"rgb(80.6%,84.9%,26.5%)\" stop-opacity=\"1.0\"></stop><stop offset=\"0.650793650794\" stop-color=\"rgb(84.5%,84.9%,24.9%)\" stop-opacity=\"1.0\"></stop><stop offset=\"0.666666666667\" stop-color=\"rgb(88.4%,85%,23.3%)\" stop-opacity=\"1.0\"></stop><stop offset=\"0.68253968254\" stop-color=\"rgb(92.2%,85%,21.7%)\" stop-opacity=\"1.0\"></stop><stop offset=\"0.698412698413\" stop-color=\"rgb(96.1%,85.1%,20%)\" stop-opacity=\"1.0\"></stop><stop offset=\"0.714285714286\" stop-color=\"rgb(100%,85.1%,18.4%)\" stop-opacity=\"1.0\"></stop><stop offset=\"0.730158730159\" stop-color=\"rgb(98.9%,84.2%,22.8%)\" stop-opacity=\"1.0\"></stop><stop offset=\"0.746031746032\" stop-color=\"rgb(97.7%,83.3%,27.2%)\" stop-opacity=\"1.0\"></stop><stop offset=\"0.761904761905\" stop-color=\"rgb(96.6%,82.4%,31.6%)\" stop-opacity=\"1.0\"></stop><stop offset=\"0.777777777778\" stop-color=\"rgb(95.5%,81.4%,36%)\" stop-opacity=\"1.0\"></stop><stop offset=\"0.793650793651\" stop-color=\"rgb(94.3%,80.5%,40.4%)\" stop-opacity=\"1.0\"></stop><stop offset=\"0.809523809524\" stop-color=\"rgb(93.2%,79.6%,44.8%)\" stop-opacity=\"1.0\"></stop><stop offset=\"0.825396825397\" stop-color=\"rgb(92.1%,78.7%,49.2%)\" stop-opacity=\"1.0\"></stop><stop offset=\"0.84126984127\" stop-color=\"rgb(90.9%,77.8%,53.6%)\" stop-opacity=\"1.0\"></stop><stop offset=\"0.857142857143\" stop-color=\"rgb(89.8%,76.9%,58%)\" stop-opacity=\"1.0\"></stop><stop offset=\"0.873015873016\" stop-color=\"rgb(87.6%,76.1%,59.4%)\" stop-opacity=\"1.0\"></stop><stop offset=\"0.888888888889\" stop-color=\"rgb(85.4%,75.4%,60.7%)\" stop-opacity=\"1.0\"></stop><stop offset=\"0.904761904762\" stop-color=\"rgb(83.3%,74.6%,62.1%)\" stop-opacity=\"1.0\"></stop><stop offset=\"0.920634920635\" stop-color=\"rgb(81.1%,73.9%,63.4%)\" stop-opacity=\"1.0\"></stop><stop offset=\"0.936507936508\" stop-color=\"rgb(78.9%,73.2%,64.8%)\" stop-opacity=\"1.0\"></stop><stop offset=\"0.952380952381\" stop-color=\"rgb(76.7%,72.4%,66.1%)\" stop-opacity=\"1.0\"></stop><stop offset=\"0.968253968254\" stop-color=\"rgb(74.6%,71.7%,67.5%)\" stop-opacity=\"1.0\"></stop><stop offset=\"0.984126984127\" stop-color=\"rgb(72.4%,70.9%,68.8%)\" stop-opacity=\"1.0\"></stop><stop offset=\"1.0\" stop-color=\"rgb(70.2%,70.2%,70.2%)\" stop-opacity=\"1.0\"></stop></linearGradient></defs><rect height=\"10\" style=\"fill:url(#tb37c8fab173b432a823f7bec2739987a);stroke:none\" width=\"150.0\" x=\"150.0\" y=\"-5.0\"></rect></g><g class=\"toyplot-color-Map\" id=\"t3d925cffb5b641f280a314583d5aef70\" transform=\"translate(50.0,50.0) rotate(0.0) translate(0,-20)\"><defs><linearGradient gradientUnits=\"userSpaceOnUse\" id=\"t9801d47a176e4368a45e6a0b47bf867a\" x1=\"0.0\" x2=\"225.0\" y1=\"0\" y2=\"0\"><stop offset=\"0.0\" stop-color=\"rgb(1.96%,18.8%,38%)\" stop-opacity=\"1.0\"></stop><stop offset=\"0.015873015873\" stop-color=\"rgb(3.7%,22.2%,42.7%)\" stop-opacity=\"1.0\"></stop><stop offset=\"0.031746031746\" stop-color=\"rgb(5.45%,25.5%,47.4%)\" stop-opacity=\"1.0\"></stop><stop offset=\"0.047619047619\" stop-color=\"rgb(7.19%,28.9%,52%)\" stop-opacity=\"1.0\"></stop><stop offset=\"0.0634920634921\" stop-color=\"rgb(8.93%,32.3%,56.7%)\" stop-opacity=\"1.0\"></stop><stop offset=\"0.0793650793651\" stop-color=\"rgb(10.7%,35.6%,61.4%)\" stop-opacity=\"1.0\"></stop><stop offset=\"0.0952380952381\" stop-color=\"rgb(12.4%,39%,66.1%)\" stop-opacity=\"1.0\"></stop><stop offset=\"0.111111111111\" stop-color=\"rgb(14.4%,42%,68.5%)\" stop-opacity=\"1.0\"></stop><stop offset=\"0.126984126984\" stop-color=\"rgb(16.5%,44.8%,69.9%)\" stop-opacity=\"1.0\"></stop><stop offset=\"0.142857142857\" stop-color=\"rgb(18.7%,47.6%,71.3%)\" stop-opacity=\"1.0\"></stop><stop offset=\"0.15873015873\" stop-color=\"rgb(20.8%,50.4%,72.7%)\" stop-opacity=\"1.0\"></stop><stop offset=\"0.174603174603\" stop-color=\"rgb(22.9%,53.2%,74.2%)\" stop-opacity=\"1.0\"></stop><stop offset=\"0.190476190476\" stop-color=\"rgb(25%,56%,75.6%)\" stop-opacity=\"1.0\"></stop><stop offset=\"0.206349206349\" stop-color=\"rgb(28.2%,58.9%,77.1%)\" stop-opacity=\"1.0\"></stop><stop offset=\"0.222222222222\" stop-color=\"rgb(33.2%,62%,78.8%)\" stop-opacity=\"1.0\"></stop><stop offset=\"0.238095238095\" stop-color=\"rgb(38.1%,65.1%,80.5%)\" stop-opacity=\"1.0\"></stop><stop offset=\"0.253968253968\" stop-color=\"rgb(43%,68.2%,82.2%)\" stop-opacity=\"1.0\"></stop><stop offset=\"0.269841269841\" stop-color=\"rgb(47.9%,71.3%,83.9%)\" stop-opacity=\"1.0\"></stop><stop offset=\"0.285714285714\" stop-color=\"rgb(52.8%,74.5%,85.5%)\" stop-opacity=\"1.0\"></stop><stop offset=\"0.301587301587\" stop-color=\"rgb(57.6%,77.5%,87.2%)\" stop-opacity=\"1.0\"></stop><stop offset=\"0.31746031746\" stop-color=\"rgb(61.6%,79.4%,88.3%)\" stop-opacity=\"1.0\"></stop><stop offset=\"0.333333333333\" stop-color=\"rgb(65.5%,81.4%,89.4%)\" stop-opacity=\"1.0\"></stop><stop offset=\"0.349206349206\" stop-color=\"rgb(69.4%,83.4%,90.5%)\" stop-opacity=\"1.0\"></stop><stop offset=\"0.365079365079\" stop-color=\"rgb(73.3%,85.4%,91.7%)\" stop-opacity=\"1.0\"></stop><stop offset=\"0.380952380952\" stop-color=\"rgb(77.3%,87.4%,92.8%)\" stop-opacity=\"1.0\"></stop><stop offset=\"0.396825396825\" stop-color=\"rgb(81.2%,89.4%,93.9%)\" stop-opacity=\"1.0\"></stop><stop offset=\"0.412698412698\" stop-color=\"rgb(83.9%,90.7%,94.5%)\" stop-opacity=\"1.0\"></stop><stop offset=\"0.428571428571\" stop-color=\"rgb(86.2%,91.8%,94.9%)\" stop-opacity=\"1.0\"></stop><stop offset=\"0.444444444444\" stop-color=\"rgb(88.6%,92.9%,95.3%)\" stop-opacity=\"1.0\"></stop><stop offset=\"0.460317460317\" stop-color=\"rgb(90.9%,94.1%,95.8%)\" stop-opacity=\"1.0\"></stop><stop offset=\"0.47619047619\" stop-color=\"rgb(93.3%,95.2%,96.2%)\" stop-opacity=\"1.0\"></stop><stop offset=\"0.492063492063\" stop-color=\"rgb(95.7%,96.3%,96.6%)\" stop-opacity=\"1.0\"></stop><stop offset=\"0.507936507937\" stop-color=\"rgb(97%,96%,95.4%)\" stop-opacity=\"1.0\"></stop><stop offset=\"0.52380952381\" stop-color=\"rgb(97.4%,94.2%,92.4%)\" stop-opacity=\"1.0\"></stop><stop offset=\"0.539682539683\" stop-color=\"rgb(97.8%,92.5%,89.4%)\" stop-opacity=\"1.0\"></stop><stop offset=\"0.555555555556\" stop-color=\"rgb(98.2%,90.8%,86.4%)\" stop-opacity=\"1.0\"></stop><stop offset=\"0.571428571429\" stop-color=\"rgb(98.5%,89%,83.4%)\" stop-opacity=\"1.0\"></stop><stop offset=\"0.587301587302\" stop-color=\"rgb(98.9%,87.3%,80.4%)\" stop-opacity=\"1.0\"></stop><stop offset=\"0.603174603175\" stop-color=\"rgb(99.1%,85.2%,77.2%)\" stop-opacity=\"1.0\"></stop><stop offset=\"0.619047619048\" stop-color=\"rgb(98.5%,81.8%,72.9%)\" stop-opacity=\"1.0\"></stop><stop offset=\"0.634920634921\" stop-color=\"rgb(98%,78.5%,68.6%)\" stop-opacity=\"1.0\"></stop><stop offset=\"0.650793650794\" stop-color=\"rgb(97.4%,75.1%,64.3%)\" stop-opacity=\"1.0\"></stop><stop offset=\"0.666666666667\" stop-color=\"rgb(96.9%,71.8%,60%)\" stop-opacity=\"1.0\"></stop><stop offset=\"0.68253968254\" stop-color=\"rgb(96.3%,68.4%,55.7%)\" stop-opacity=\"1.0\"></stop><stop offset=\"0.698412698413\" stop-color=\"rgb(95.7%,65%,51.4%)\" stop-opacity=\"1.0\"></stop><stop offset=\"0.714285714286\" stop-color=\"rgb(94%,60.8%,48%)\" stop-opacity=\"1.0\"></stop><stop offset=\"0.730158730159\" stop-color=\"rgb(92.1%,56.5%,44.7%)\" stop-opacity=\"1.0\"></stop><stop offset=\"0.746031746032\" stop-color=\"rgb(90.3%,52.3%,41.4%)\" stop-opacity=\"1.0\"></stop><stop offset=\"0.761904761905\" stop-color=\"rgb(88.4%,48%,38.1%)\" stop-opacity=\"1.0\"></stop><stop offset=\"0.777777777778\" stop-color=\"rgb(86.5%,43.7%,34.8%)\" stop-opacity=\"1.0\"></stop><stop offset=\"0.793650793651\" stop-color=\"rgb(84.7%,39.4%,31.5%)\" stop-opacity=\"1.0\"></stop><stop offset=\"0.809523809524\" stop-color=\"rgb(82.6%,35%,28.9%)\" stop-opacity=\"1.0\"></stop><stop offset=\"0.825396825397\" stop-color=\"rgb(80.3%,30.5%,26.8%)\" stop-opacity=\"1.0\"></stop><stop offset=\"0.84126984127\" stop-color=\"rgb(78.1%,26%,24.7%)\" stop-opacity=\"1.0\"></stop><stop offset=\"0.857142857143\" stop-color=\"rgb(75.9%,21.5%,22.6%)\" stop-opacity=\"1.0\"></stop><stop offset=\"0.873015873016\" stop-color=\"rgb(73.6%,17%,20.5%)\" stop-opacity=\"1.0\"></stop><stop offset=\"0.888888888889\" stop-color=\"rgb(71.4%,12.5%,18.3%)\" stop-opacity=\"1.0\"></stop><stop offset=\"0.904761904762\" stop-color=\"rgb(68.4%,8.96%,16.6%)\" stop-opacity=\"1.0\"></stop><stop offset=\"0.920634920635\" stop-color=\"rgb(63.7%,7.47%,15.9%)\" stop-opacity=\"1.0\"></stop><stop offset=\"0.936507936508\" stop-color=\"rgb(59.1%,5.98%,15.1%)\" stop-opacity=\"1.0\"></stop><stop offset=\"0.952380952381\" stop-color=\"rgb(54.4%,4.48%,14.4%)\" stop-opacity=\"1.0\"></stop><stop offset=\"0.968253968254\" stop-color=\"rgb(49.7%,2.99%,13.7%)\" stop-opacity=\"1.0\"></stop><stop offset=\"0.984126984127\" stop-color=\"rgb(45.1%,1.49%,12.9%)\" stop-opacity=\"1.0\"></stop><stop offset=\"1.0\" stop-color=\"rgb(40.4%,0%,12.2%)\" stop-opacity=\"1.0\"></stop></linearGradient></defs><rect height=\"10\" style=\"fill:url(#t9801d47a176e4368a45e6a0b47bf867a);stroke:none\" width=\"225.0\" x=\"0.0\" y=\"-5.0\"></rect></g></g><g class=\"toyplot-axes-Axis\" id=\"t31b47baf56f84e278ebf59f5ca3509d9\" transform=\"translate(50.0,50.0) rotate(0.0) translate(0,10)\"><line style=\"\" x1=\"0\" x2=\"300.0\" y1=\"0\" y2=\"0\"></line><g><text style=\"alignment-baseline:middle;baseline-shift:-100%;font-size:10px;font-weight:normal;stroke:none;text-anchor:middle\" transform=\"translate(0.0,0) rotate(0)\" x=\"0\" y=\"0\">-1.0</text><text style=\"alignment-baseline:middle;baseline-shift:-100%;font-size:10px;font-weight:normal;stroke:none;text-anchor:middle\" transform=\"translate(75.0,0) rotate(0)\" x=\"0\" y=\"0\">-0.5</text><text style=\"alignment-baseline:middle;baseline-shift:-100%;font-size:10px;font-weight:normal;stroke:none;text-anchor:middle\" transform=\"translate(150.0,0) rotate(0)\" x=\"0\" y=\"0\">0.0</text><text style=\"alignment-baseline:middle;baseline-shift:-100%;font-size:10px;font-weight:normal;stroke:none;text-anchor:middle\" transform=\"translate(225.0,0) rotate(0)\" x=\"0\" y=\"0\">0.5</text><text style=\"alignment-baseline:middle;baseline-shift:-100%;font-size:10px;font-weight:normal;stroke:none;text-anchor:middle\" transform=\"translate(300.0,0) rotate(0)\" x=\"0\" y=\"0\">1.0</text></g><text style=\"alignment-baseline:middle;baseline-shift:-200%;font-weight:bold;stroke:none;text-anchor:middle\" x=\"150.0\" y=\"0\">Color Scale</text></g></g></svg><div class=\"toyplot-controls\"><ul class=\"toyplot-mark-popup\" onmouseleave=\"this.style.visibility='hidden'\" style=\"background:rgba(0%,0%,0%,0.75);border:0;border-radius:6px;color:white;cursor:default;list-style:none;margin:0;padding:5px;position:fixed;visibility:hidden\"><li class=\"toyplot-mark-popup-title\" style=\"color:lightgray;cursor:default;padding:5px;list-style:none;margin:0;\"></li><li class=\"toyplot-mark-popup-save-csv\" onmouseout=\"this.style.color='white';this.style.background='steelblue'\" onmouseover=\"this.style.color='steelblue';this.style.background='white'\" style=\"border-radius:3px;padding:5px;list-style:none;margin:0;\">Save as .csv</li></ul><script>\n",
       "(function()\n",
       "{\n",
       "  if(window.CSS !== undefined && window.CSS.supports !== undefined)\n",
       "  {\n",
       "    if(!window.CSS.supports(\"alignment-baseline\", \"middle\"))\n",
       "    {\n",
       "      var re = /\\s*alignment-baseline\\s*:\\s*([^;\\s]*)\\s*/;\n",
       "      var text = document.querySelectorAll(\"#taea4cab84dd144a6976fd85929011769 text\");\n",
       "      for(var i = 0; i != text.length; ++i)\n",
       "      {\n",
       "        var match = re.exec(text[i].attributes.style.value);\n",
       "        if(match)\n",
       "        {\n",
       "          if(match[1] == \"middle\")\n",
       "          {\n",
       "            var style = getComputedStyle(text[i]);\n",
       "            var font_size = style.fontSize.substr(0, style.fontSize.length - 2);\n",
       "            var dy = text[i].dy.baseVal.length ? text[i].dy.baseVal[0].value : 0;\n",
       "            dy += 0.4 * font_size;\n",
       "            text[i].setAttribute(\"dy\", dy);\n",
       "          }\n",
       "        }\n",
       "      }\n",
       "    }\n",
       "    if(!window.CSS.supports(\"baseline-shift\", \"0\"))\n",
       "    {\n",
       "      var re = /\\s*baseline-shift\\s*:\\s*([^;\\s]*)\\s*/;\n",
       "      var text = document.querySelectorAll(\"#taea4cab84dd144a6976fd85929011769 text\");\n",
       "      for(var i = 0; i != text.length; ++i)\n",
       "      {\n",
       "        var match = re.exec(text[i].attributes.style.value);\n",
       "        if(match)\n",
       "        {\n",
       "          var style = getComputedStyle(text[i]);\n",
       "          var font_size = style.fontSize.substr(0, style.fontSize.length - 2);\n",
       "          var percent = 0.01 * match[1].substr(0, match[1].length-1);\n",
       "          var dy = text[i].dy.baseVal.length ? text[i].dy.baseVal[0].value : 0;\n",
       "          dy -= percent * font_size\n",
       "          text[i].setAttribute(\"dy\", dy);\n",
       "        }\n",
       "      }\n",
       "    }\n",
       "  }\n",
       "})();\n",
       "</script></div></div>"
      ],
      "text/plain": [
       "<toyplot.canvas.Canvas at 0x1095bf550>"
      ]
     },
     "metadata": {},
     "output_type": "display_data"
    }
   ],
   "source": [
    "colormap1 = toyplot.color.LinearMap(toyplot.color.Palette(), domain_min=0, domain_max=1)\n",
    "colormap2 = toyplot.color.LinearMap(toyplot.color.brewer(\"BlueRed\"), domain_min=-1, domain_max=0.5)\n",
    "canvas = toyplot.Canvas(width=400, height=100)\n",
    "axis = canvas.number_line(label=\"Color Scale\")\n",
    "axis.add_colormap(colormap1)\n",
    "axis.add_colormap(colormap2)"
   ]
  },
  {
   "cell_type": "code",
   "execution_count": 9,
   "metadata": {
    "collapsed": false
   },
   "outputs": [
    {
     "data": {
      "text/html": [
       "<div align=\"center\" class=\"toyplot\" id=\"t26e62be0e7ad44b1ac8a15eee7f0a9b0\"><svg height=\"400.0px\" id=\"t5d98829a06b246f08c57b4aa57271de0\" preserveAspectRatio=\"xMidYMid meet\" style=\"background-color:transparent;fill:rgb(16.1%,15.3%,14.1%);fill-opacity:1.0;font-family:Helvetica;font-size:12px;opacity:1.0;stroke:rgb(16.1%,15.3%,14.1%);stroke-opacity:1.0;stroke-width:1.0\" viewBox=\"0 0 400.0 400.0\" width=\"400.0px\" xmlns=\"http://www.w3.org/2000/svg\" xmlns:toyplot=\"http://www.sandia.gov/toyplot\"><g class=\"toyplot-axes-NumberLine\" id=\"tc661ff72526144bb887566474c048cef\"><g class=\"toyplot-coordinate-events\"><g class=\"toyplot-color-Map\" id=\"tb1b78539e5014761aee1bcdf73f623ff\" transform=\"translate(100.0,300.0) rotate(-45.0) translate(0,0)\"><defs><linearGradient gradientUnits=\"userSpaceOnUse\" id=\"t186004de89e84d019ffc2c92285a340d\" x1=\"0.0\" x2=\"282.84271247461902\" y1=\"0\" y2=\"0\"><stop offset=\"0.0\" stop-color=\"rgb(40%,76.1%,64.7%)\" stop-opacity=\"1.0\"></stop><stop offset=\"0.015873015873\" stop-color=\"rgb(46.5%,73.8%,61.8%)\" stop-opacity=\"1.0\"></stop><stop offset=\"0.031746031746\" stop-color=\"rgb(53.1%,71.5%,58.9%)\" stop-opacity=\"1.0\"></stop><stop offset=\"0.047619047619\" stop-color=\"rgb(59.6%,69.2%,55.9%)\" stop-opacity=\"1.0\"></stop><stop offset=\"0.0634920634921\" stop-color=\"rgb(66.1%,66.8%,53%)\" stop-opacity=\"1.0\"></stop><stop offset=\"0.0793650793651\" stop-color=\"rgb(72.7%,64.5%,50.1%)\" stop-opacity=\"1.0\"></stop><stop offset=\"0.0952380952381\" stop-color=\"rgb(79.2%,62.2%,47.2%)\" stop-opacity=\"1.0\"></stop><stop offset=\"0.111111111111\" stop-color=\"rgb(85.8%,59.9%,44.3%)\" stop-opacity=\"1.0\"></stop><stop offset=\"0.126984126984\" stop-color=\"rgb(92.3%,57.6%,41.4%)\" stop-opacity=\"1.0\"></stop><stop offset=\"0.142857142857\" stop-color=\"rgb(98.8%,55.3%,38.4%)\" stop-opacity=\"1.0\"></stop><stop offset=\"0.15873015873\" stop-color=\"rgb(94%,56.1%,43%)\" stop-opacity=\"1.0\"></stop><stop offset=\"0.174603174603\" stop-color=\"rgb(89.2%,56.9%,47.6%)\" stop-opacity=\"1.0\"></stop><stop offset=\"0.190476190476\" stop-color=\"rgb(84.3%,57.8%,52.2%)\" stop-opacity=\"1.0\"></stop><stop offset=\"0.206349206349\" stop-color=\"rgb(79.5%,58.6%,56.7%)\" stop-opacity=\"1.0\"></stop><stop offset=\"0.222222222222\" stop-color=\"rgb(74.6%,59.4%,61.3%)\" stop-opacity=\"1.0\"></stop><stop offset=\"0.238095238095\" stop-color=\"rgb(69.8%,60.3%,65.9%)\" stop-opacity=\"1.0\"></stop><stop offset=\"0.253968253968\" stop-color=\"rgb(65%,61.1%,70.5%)\" stop-opacity=\"1.0\"></stop><stop offset=\"0.269841269841\" stop-color=\"rgb(60.1%,61.9%,75%)\" stop-opacity=\"1.0\"></stop><stop offset=\"0.285714285714\" stop-color=\"rgb(55.3%,62.7%,79.6%)\" stop-opacity=\"1.0\"></stop><stop offset=\"0.301587301587\" stop-color=\"rgb(59.2%,61.8%,79.3%)\" stop-opacity=\"1.0\"></stop><stop offset=\"0.31746031746\" stop-color=\"rgb(63.1%,60.8%,78.9%)\" stop-opacity=\"1.0\"></stop><stop offset=\"0.333333333333\" stop-color=\"rgb(67.1%,59.9%,78.6%)\" stop-opacity=\"1.0\"></stop><stop offset=\"0.349206349206\" stop-color=\"rgb(71%,58.9%,78.2%)\" stop-opacity=\"1.0\"></stop><stop offset=\"0.365079365079\" stop-color=\"rgb(74.9%,58%,77.9%)\" stop-opacity=\"1.0\"></stop><stop offset=\"0.380952380952\" stop-color=\"rgb(78.8%,57%,77.5%)\" stop-opacity=\"1.0\"></stop><stop offset=\"0.396825396825\" stop-color=\"rgb(82.7%,56%,77.2%)\" stop-opacity=\"1.0\"></stop><stop offset=\"0.412698412698\" stop-color=\"rgb(86.7%,55.1%,76.8%)\" stop-opacity=\"1.0\"></stop><stop offset=\"0.428571428571\" stop-color=\"rgb(90.6%,54.1%,76.5%)\" stop-opacity=\"1.0\"></stop><stop offset=\"0.444444444444\" stop-color=\"rgb(87.8%,57.5%,71.6%)\" stop-opacity=\"1.0\"></stop><stop offset=\"0.460317460317\" stop-color=\"rgb(84.9%,60.9%,66.8%)\" stop-opacity=\"1.0\"></stop><stop offset=\"0.47619047619\" stop-color=\"rgb(82.1%,64.3%,62%)\" stop-opacity=\"1.0\"></stop><stop offset=\"0.492063492063\" stop-color=\"rgb(79.3%,67.7%,57.1%)\" stop-opacity=\"1.0\"></stop><stop offset=\"0.507936507937\" stop-color=\"rgb(76.4%,71.1%,52.3%)\" stop-opacity=\"1.0\"></stop><stop offset=\"0.52380952381\" stop-color=\"rgb(73.6%,74.5%,47.5%)\" stop-opacity=\"1.0\"></stop><stop offset=\"0.539682539683\" stop-color=\"rgb(70.8%,77.9%,42.6%)\" stop-opacity=\"1.0\"></stop><stop offset=\"0.555555555556\" stop-color=\"rgb(67.9%,81.3%,37.8%)\" stop-opacity=\"1.0\"></stop><stop offset=\"0.571428571429\" stop-color=\"rgb(65.1%,84.7%,32.9%)\" stop-opacity=\"1.0\"></stop><stop offset=\"0.587301587302\" stop-color=\"rgb(69%,84.7%,31.3%)\" stop-opacity=\"1.0\"></stop><stop offset=\"0.603174603175\" stop-color=\"rgb(72.9%,84.8%,29.7%)\" stop-opacity=\"1.0\"></stop><stop offset=\"0.619047619048\" stop-color=\"rgb(76.7%,84.8%,28.1%)\" stop-opacity=\"1.0\"></stop><stop offset=\"0.634920634921\" stop-color=\"rgb(80.6%,84.9%,26.5%)\" stop-opacity=\"1.0\"></stop><stop offset=\"0.650793650794\" stop-color=\"rgb(84.5%,84.9%,24.9%)\" stop-opacity=\"1.0\"></stop><stop offset=\"0.666666666667\" stop-color=\"rgb(88.4%,85%,23.3%)\" stop-opacity=\"1.0\"></stop><stop offset=\"0.68253968254\" stop-color=\"rgb(92.2%,85%,21.7%)\" stop-opacity=\"1.0\"></stop><stop offset=\"0.698412698413\" stop-color=\"rgb(96.1%,85.1%,20%)\" stop-opacity=\"1.0\"></stop><stop offset=\"0.714285714286\" stop-color=\"rgb(100%,85.1%,18.4%)\" stop-opacity=\"1.0\"></stop><stop offset=\"0.730158730159\" stop-color=\"rgb(98.9%,84.2%,22.8%)\" stop-opacity=\"1.0\"></stop><stop offset=\"0.746031746032\" stop-color=\"rgb(97.7%,83.3%,27.2%)\" stop-opacity=\"1.0\"></stop><stop offset=\"0.761904761905\" stop-color=\"rgb(96.6%,82.4%,31.6%)\" stop-opacity=\"1.0\"></stop><stop offset=\"0.777777777778\" stop-color=\"rgb(95.5%,81.4%,36%)\" stop-opacity=\"1.0\"></stop><stop offset=\"0.793650793651\" stop-color=\"rgb(94.3%,80.5%,40.4%)\" stop-opacity=\"1.0\"></stop><stop offset=\"0.809523809524\" stop-color=\"rgb(93.2%,79.6%,44.8%)\" stop-opacity=\"1.0\"></stop><stop offset=\"0.825396825397\" stop-color=\"rgb(92.1%,78.7%,49.2%)\" stop-opacity=\"1.0\"></stop><stop offset=\"0.84126984127\" stop-color=\"rgb(90.9%,77.8%,53.6%)\" stop-opacity=\"1.0\"></stop><stop offset=\"0.857142857143\" stop-color=\"rgb(89.8%,76.9%,58%)\" stop-opacity=\"1.0\"></stop><stop offset=\"0.873015873016\" stop-color=\"rgb(87.6%,76.1%,59.4%)\" stop-opacity=\"1.0\"></stop><stop offset=\"0.888888888889\" stop-color=\"rgb(85.4%,75.4%,60.7%)\" stop-opacity=\"1.0\"></stop><stop offset=\"0.904761904762\" stop-color=\"rgb(83.3%,74.6%,62.1%)\" stop-opacity=\"1.0\"></stop><stop offset=\"0.920634920635\" stop-color=\"rgb(81.1%,73.9%,63.4%)\" stop-opacity=\"1.0\"></stop><stop offset=\"0.936507936508\" stop-color=\"rgb(78.9%,73.2%,64.8%)\" stop-opacity=\"1.0\"></stop><stop offset=\"0.952380952381\" stop-color=\"rgb(76.7%,72.4%,66.1%)\" stop-opacity=\"1.0\"></stop><stop offset=\"0.968253968254\" stop-color=\"rgb(74.6%,71.7%,67.5%)\" stop-opacity=\"1.0\"></stop><stop offset=\"0.984126984127\" stop-color=\"rgb(72.4%,70.9%,68.8%)\" stop-opacity=\"1.0\"></stop><stop offset=\"1.0\" stop-color=\"rgb(70.2%,70.2%,70.2%)\" stop-opacity=\"1.0\"></stop></linearGradient></defs><rect height=\"10\" style=\"fill:url(#t186004de89e84d019ffc2c92285a340d);stroke:none\" width=\"282.84271247461902\" x=\"0.0\" y=\"-5.0\"></rect></g></g><g class=\"toyplot-axes-Axis\" id=\"t17bc520918764ad69047b2ffc1b21e1e\" transform=\"translate(100.0,300.0) rotate(-45.0) translate(0,10)\"><line style=\"\" x1=\"0\" x2=\"282.84271247461902\" y1=\"0\" y2=\"0\"></line><g><line style=\"\" x1=\"0.0\" x2=\"0.0\" y1=\"-3\" y2=\"3\"></line><line style=\"\" x1=\"141.4213562373095\" x2=\"141.4213562373095\" y1=\"-3\" y2=\"3\"></line><line style=\"\" x1=\"282.842712474619\" x2=\"282.842712474619\" y1=\"-3\" y2=\"3\"></line></g><g><text style=\"alignment-baseline:middle;baseline-shift:-100%;font-size:10px;font-weight:normal;stroke:none;text-anchor:middle\" transform=\"translate(0.0,0) rotate(0)\" x=\"0\" y=\"0\">0.0</text><text style=\"alignment-baseline:middle;baseline-shift:-100%;font-size:10px;font-weight:normal;stroke:none;text-anchor:middle\" transform=\"translate(141.4213562373095,0) rotate(0)\" x=\"0\" y=\"0\">0.5</text><text style=\"alignment-baseline:middle;baseline-shift:-100%;font-size:10px;font-weight:normal;stroke:none;text-anchor:middle\" transform=\"translate(282.842712474619,0) rotate(0)\" x=\"0\" y=\"0\">1.0</text></g><text style=\"alignment-baseline:middle;baseline-shift:-200%;font-weight:bold;stroke:none;text-anchor:middle\" x=\"141.42135623730951\" y=\"0\">Color Scale</text></g></g></svg><div class=\"toyplot-controls\"><ul class=\"toyplot-mark-popup\" onmouseleave=\"this.style.visibility='hidden'\" style=\"background:rgba(0%,0%,0%,0.75);border:0;border-radius:6px;color:white;cursor:default;list-style:none;margin:0;padding:5px;position:fixed;visibility:hidden\"><li class=\"toyplot-mark-popup-title\" style=\"color:lightgray;cursor:default;padding:5px;list-style:none;margin:0;\"></li><li class=\"toyplot-mark-popup-save-csv\" onmouseout=\"this.style.color='white';this.style.background='steelblue'\" onmouseover=\"this.style.color='steelblue';this.style.background='white'\" style=\"border-radius:3px;padding:5px;list-style:none;margin:0;\">Save as .csv</li></ul><script>\n",
       "(function()\n",
       "{\n",
       "  if(window.CSS !== undefined && window.CSS.supports !== undefined)\n",
       "  {\n",
       "    if(!window.CSS.supports(\"alignment-baseline\", \"middle\"))\n",
       "    {\n",
       "      var re = /\\s*alignment-baseline\\s*:\\s*([^;\\s]*)\\s*/;\n",
       "      var text = document.querySelectorAll(\"#t26e62be0e7ad44b1ac8a15eee7f0a9b0 text\");\n",
       "      for(var i = 0; i != text.length; ++i)\n",
       "      {\n",
       "        var match = re.exec(text[i].attributes.style.value);\n",
       "        if(match)\n",
       "        {\n",
       "          if(match[1] == \"middle\")\n",
       "          {\n",
       "            var style = getComputedStyle(text[i]);\n",
       "            var font_size = style.fontSize.substr(0, style.fontSize.length - 2);\n",
       "            var dy = text[i].dy.baseVal.length ? text[i].dy.baseVal[0].value : 0;\n",
       "            dy += 0.4 * font_size;\n",
       "            text[i].setAttribute(\"dy\", dy);\n",
       "          }\n",
       "        }\n",
       "      }\n",
       "    }\n",
       "    if(!window.CSS.supports(\"baseline-shift\", \"0\"))\n",
       "    {\n",
       "      var re = /\\s*baseline-shift\\s*:\\s*([^;\\s]*)\\s*/;\n",
       "      var text = document.querySelectorAll(\"#t26e62be0e7ad44b1ac8a15eee7f0a9b0 text\");\n",
       "      for(var i = 0; i != text.length; ++i)\n",
       "      {\n",
       "        var match = re.exec(text[i].attributes.style.value);\n",
       "        if(match)\n",
       "        {\n",
       "          var style = getComputedStyle(text[i]);\n",
       "          var font_size = style.fontSize.substr(0, style.fontSize.length - 2);\n",
       "          var percent = 0.01 * match[1].substr(0, match[1].length-1);\n",
       "          var dy = text[i].dy.baseVal.length ? text[i].dy.baseVal[0].value : 0;\n",
       "          dy -= percent * font_size\n",
       "          text[i].setAttribute(\"dy\", dy);\n",
       "        }\n",
       "      }\n",
       "    }\n",
       "  }\n",
       "})();\n",
       "</script></div></div>"
      ],
      "text/plain": [
       "<toyplot.canvas.Canvas at 0x10962a3d0>"
      ]
     },
     "metadata": {},
     "output_type": "display_data"
    }
   ],
   "source": [
    "colormap = toyplot.color.LinearMap(toyplot.color.Palette(), domain_min=0, domain_max=1)\n",
    "canvas = toyplot.Canvas(width=400)\n",
    "axis = canvas.color_scale(colormap, x1=100, y1=300, x2=300, y2=100, label=\"Color Scale\", scale=\"linear\")\n",
    "axis.axis.ticks.show = True"
   ]
  }
 ],
 "metadata": {
  "kernelspec": {
   "display_name": "Python 2",
   "language": "python",
   "name": "python2"
  },
  "language_info": {
   "codemirror_mode": {
    "name": "ipython",
    "version": 2
   },
   "file_extension": ".py",
   "mimetype": "text/x-python",
   "name": "python",
   "nbconvert_exporter": "python",
   "pygments_lexer": "ipython2",
   "version": "2.7.10"
  }
 },
 "nbformat": 4,
 "nbformat_minor": 0
}

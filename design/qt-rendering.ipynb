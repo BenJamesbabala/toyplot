{
 "cells": [
  {
   "cell_type": "code",
   "execution_count": 1,
   "metadata": {
    "collapsed": true
   },
   "outputs": [],
   "source": [
    "from PyQt5.QtGui import *\n",
    "from PyQt5.QtSvg import *\n",
    "from PyQt5.QtCore import *\n",
    "from PyQt5.QtWidgets import *\n",
    "from PyQt5.QtWebKitWidgets import *\n",
    "from PyQt5.QtPrintSupport import *\n",
    "\n",
    "import numpy\n",
    "import sys\n",
    "import toyplot.svg\n",
    "import toyplot.units\n",
    "import xml.etree.ElementTree as xml"
   ]
  },
  {
   "cell_type": "code",
   "execution_count": 2,
   "metadata": {
    "collapsed": false
   },
   "outputs": [],
   "source": [
    "canvas = toyplot.Canvas(width=\"4in\")\n",
    "axes = canvas.axes(label=\"Foo\", xlabel=\"Bar\", ylabel=u\"L\\u0302\")\n",
    "mark = axes.plot(numpy.linspace(0, 1)**2)\n",
    "svg = toyplot.svg.render(canvas)"
   ]
  },
  {
   "cell_type": "code",
   "execution_count": 3,
   "metadata": {
    "collapsed": false
   },
   "outputs": [],
   "source": [
    "application = QApplication(sys.argv)"
   ]
  },
  {
   "cell_type": "markdown",
   "metadata": {},
   "source": [
    "Using QSvgRenderer to generate a PNG:"
   ]
  },
  {
   "cell_type": "code",
   "execution_count": 4,
   "metadata": {
    "collapsed": false
   },
   "outputs": [
    {
     "data": {
      "text/plain": [
       "True"
      ]
     },
     "execution_count": 4,
     "metadata": {},
     "output_type": "execute_result"
    }
   ],
   "source": [
    "renderer = QSvgRenderer()\n",
    "renderer.load(QByteArray(xml.tostring(svg)))\n",
    "image = QImage(renderer.defaultSize(), QImage.Format_ARGB32)\n",
    "image.fill(QColor(\"white\"))\n",
    "painter = QPainter(image)\n",
    "renderer.render(painter)\n",
    "painter.end()\n",
    "image.save(\"test-qt-svg-renderer.png\")"
   ]
  },
  {
   "cell_type": "markdown",
   "metadata": {
    "collapsed": true
   },
   "source": [
    "Using WebKit to generate a PNG:"
   ]
  },
  {
   "cell_type": "code",
   "execution_count": 5,
   "metadata": {
    "collapsed": false
   },
   "outputs": [
    {
     "data": {
      "text/plain": [
       "True"
      ]
     },
     "execution_count": 5,
     "metadata": {},
     "output_type": "execute_result"
    }
   ],
   "source": [
    "page = QWebPage()\n",
    "page.mainFrame().setContent(xml.tostring(toyplot.svg.render(canvas)), \"image/svg+xml\")\n",
    "page.setViewportSize(page.mainFrame().contentsSize())\n",
    "image = QImage(page.viewportSize(), QImage.Format_ARGB32)\n",
    "painter = QPainter(image)\n",
    "page.mainFrame().render(painter)\n",
    "painter.end()\n",
    "image.save(\"test-qt-webkit-renderer.png\")"
   ]
  },
  {
   "cell_type": "markdown",
   "metadata": {},
   "source": [
    "Using WebKit to generate a PDF:"
   ]
  },
  {
   "cell_type": "code",
   "execution_count": 6,
   "metadata": {
    "collapsed": false
   },
   "outputs": [],
   "source": [
    "page_size = QPageSize(QSizeF(\n",
    "    toyplot.units.convert((canvas._width, \"px\"), \"pt\"),\n",
    "    toyplot.units.convert((canvas._height, \"px\"), \"pt\")), QPageSize.Point, matchPolicy=QPageSize.ExactMatch)"
   ]
  },
  {
   "cell_type": "code",
   "execution_count": 7,
   "metadata": {
    "collapsed": false
   },
   "outputs": [],
   "source": [
    "printer = QPrinter()\n",
    "printer.setPageSize(page_size)\n",
    "printer.setOutputFormat(QPrinter.PdfFormat)\n",
    "printer.setOutputFileName(\"test-qt-webkit-renderer.pdf\")\n",
    "page.mainFrame().print_(printer)\n"
   ]
  }
 ],
 "metadata": {
  "kernelspec": {
   "display_name": "Python 2",
   "language": "python",
   "name": "python2"
  },
  "language_info": {
   "codemirror_mode": {
    "name": "ipython",
    "version": 2
   },
   "file_extension": ".py",
   "mimetype": "text/x-python",
   "name": "python",
   "nbconvert_exporter": "python",
   "pygments_lexer": "ipython2",
   "version": "2.7.10"
  }
 },
 "nbformat": 4,
 "nbformat_minor": 0
}

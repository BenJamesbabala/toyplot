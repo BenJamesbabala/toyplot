{
 "cells": [
  {
   "cell_type": "code",
   "execution_count": 1,
   "metadata": {
    "collapsed": true
   },
   "outputs": [],
   "source": [
    "import toyplot"
   ]
  },
  {
   "cell_type": "code",
   "execution_count": 2,
   "metadata": {
    "collapsed": false
   },
   "outputs": [
    {
     "data": {
      "text/html": [
       "<div align=\"center\" class=\"toyplot\" id=\"tf9507dd5d22c43a99cb7804d8f3eca27\"><svg height=\"600px\" id=\"t600cb2ddf7a743c897d77de1b015f549\" style=\"background-color:transparent;fill:#292724;fill-opacity:1.0;font-family:helvetica;font-size:12px;opacity:1.0;stroke:#292724;stroke-opacity:1.0;stroke-width:1.0\" width=\"600px\" xmlns=\"http://www.w3.org/2000/svg\" xmlns:toyplot=\"http://www.sandia.gov/toyplot\"><g class=\"toyplot-axes-Table\" id=\"t2121674ecc71442c9f4be29a86840917\"><rect height=\"62.5\" style=\"fill:#f88;stroke:none\" width=\"62.5\" x=\"175.0\" y=\"50.0\"></rect><rect height=\"62.5\" style=\"fill:#f88;stroke:none\" width=\"62.5\" x=\"237.5\" y=\"50.0\"></rect><rect height=\"62.5\" style=\"fill:#f88;stroke:none\" width=\"62.5\" x=\"300.0\" y=\"50.0\"></rect><rect height=\"62.5\" style=\"fill:#f88;stroke:none\" width=\"62.5\" x=\"362.5\" y=\"50.0\"></rect><rect height=\"62.5\" style=\"fill:#f88;stroke:none\" width=\"62.5\" x=\"175.0\" y=\"112.5\"></rect><rect height=\"62.5\" style=\"fill:#f88;stroke:none\" width=\"62.5\" x=\"237.5\" y=\"112.5\"></rect><rect height=\"62.5\" style=\"fill:#f88;stroke:none\" width=\"62.5\" x=\"300.0\" y=\"112.5\"></rect><rect height=\"62.5\" style=\"fill:#f88;stroke:none\" width=\"62.5\" x=\"362.5\" y=\"112.5\"></rect><rect height=\"62.5\" style=\"fill:#ff8;stroke:none\" width=\"62.5\" x=\"50.0\" y=\"175.0\"></rect><rect height=\"62.5\" style=\"fill:#ff8;stroke:none\" width=\"62.5\" x=\"112.5\" y=\"175.0\"></rect><rect height=\"62.5\" style=\"fill:#8f8;stroke:none\" width=\"62.5\" x=\"425.0\" y=\"175.0\"></rect><rect height=\"62.5\" style=\"fill:#8f8;stroke:none\" width=\"62.5\" x=\"487.5\" y=\"175.0\"></rect><rect height=\"62.5\" style=\"fill:#ff8;stroke:none\" width=\"62.5\" x=\"50.0\" y=\"237.5\"></rect><rect height=\"62.5\" style=\"fill:#ff8;stroke:none\" width=\"62.5\" x=\"112.5\" y=\"237.5\"></rect><rect height=\"62.5\" style=\"fill:#8f8;stroke:none\" width=\"62.5\" x=\"425.0\" y=\"237.5\"></rect><rect height=\"62.5\" style=\"fill:#8f8;stroke:none\" width=\"62.5\" x=\"487.5\" y=\"237.5\"></rect><rect height=\"62.5\" style=\"fill:#ff8;stroke:none\" width=\"62.5\" x=\"50.0\" y=\"300.0\"></rect><rect height=\"62.5\" style=\"fill:#ff8;stroke:none\" width=\"62.5\" x=\"112.5\" y=\"300.0\"></rect><rect height=\"62.5\" style=\"fill:#8f8;stroke:none\" width=\"62.5\" x=\"425.0\" y=\"300.0\"></rect><rect height=\"62.5\" style=\"fill:#8f8;stroke:none\" width=\"62.5\" x=\"487.5\" y=\"300.0\"></rect><rect height=\"62.5\" style=\"fill:#ff8;stroke:none\" width=\"62.5\" x=\"50.0\" y=\"362.5\"></rect><rect height=\"62.5\" style=\"fill:#ff8;stroke:none\" width=\"62.5\" x=\"112.5\" y=\"362.5\"></rect><rect height=\"62.5\" style=\"fill:#8f8;stroke:none\" width=\"62.5\" x=\"425.0\" y=\"362.5\"></rect><rect height=\"62.5\" style=\"fill:#8f8;stroke:none\" width=\"62.5\" x=\"487.5\" y=\"362.5\"></rect><rect height=\"62.5\" style=\"fill:#88f;stroke:none\" width=\"62.5\" x=\"175.0\" y=\"425.0\"></rect><rect height=\"62.5\" style=\"fill:#88f;stroke:none\" width=\"62.5\" x=\"237.5\" y=\"425.0\"></rect><rect height=\"62.5\" style=\"fill:#88f;stroke:none\" width=\"62.5\" x=\"300.0\" y=\"425.0\"></rect><rect height=\"62.5\" style=\"fill:#88f;stroke:none\" width=\"62.5\" x=\"362.5\" y=\"425.0\"></rect><rect height=\"62.5\" style=\"fill:#88f;stroke:none\" width=\"62.5\" x=\"175.0\" y=\"487.5\"></rect><rect height=\"62.5\" style=\"fill:#88f;stroke:none\" width=\"62.5\" x=\"237.5\" y=\"487.5\"></rect><rect height=\"62.5\" style=\"fill:#88f;stroke:none\" width=\"62.5\" x=\"300.0\" y=\"487.5\"></rect><rect height=\"62.5\" style=\"fill:#88f;stroke:none\" width=\"62.5\" x=\"362.5\" y=\"487.5\"></rect><line style=\"stroke:#292724;stroke-width:0.5\" x1=\"175.0\" x2=\"425.0\" y1=\"50.0\" y2=\"50.0\"></line><line style=\"stroke:#292724;stroke-width:0.5\" x1=\"175.0\" x2=\"425.0\" y1=\"112.5\" y2=\"112.5\"></line><line style=\"stroke:#292724;stroke-width:0.5\" x1=\"50.0\" x2=\"550.0\" y1=\"175.0\" y2=\"175.0\"></line><line style=\"stroke:#292724;stroke-width:0.5\" x1=\"50.0\" x2=\"175.0\" y1=\"237.5\" y2=\"237.5\"></line><line style=\"stroke:#292724;stroke-width:0.5\" x1=\"425.0\" x2=\"550.0\" y1=\"237.5\" y2=\"237.5\"></line><line style=\"stroke:#292724;stroke-width:0.5\" x1=\"50.0\" x2=\"175.0\" y1=\"300.0\" y2=\"300.0\"></line><line style=\"stroke:#292724;stroke-width:0.5\" x1=\"425.0\" x2=\"550.0\" y1=\"300.0\" y2=\"300.0\"></line><line style=\"stroke:#292724;stroke-width:0.5\" x1=\"50.0\" x2=\"175.0\" y1=\"362.5\" y2=\"362.5\"></line><line style=\"stroke:#292724;stroke-width:0.5\" x1=\"425.0\" x2=\"550.0\" y1=\"362.5\" y2=\"362.5\"></line><line style=\"stroke:#292724;stroke-width:0.5\" x1=\"50.0\" x2=\"550.0\" y1=\"425.0\" y2=\"425.0\"></line><line style=\"stroke:#292724;stroke-width:0.5\" x1=\"175.0\" x2=\"425.0\" y1=\"487.5\" y2=\"487.5\"></line><line style=\"stroke:#292724;stroke-width:0.5\" x1=\"175.0\" x2=\"425.0\" y1=\"550.0\" y2=\"550.0\"></line><line style=\"stroke:#292724;stroke-width:0.5\" x1=\"50.0\" x2=\"50.0\" y1=\"175.0\" y2=\"425.0\"></line><line style=\"stroke:#292724;stroke-width:0.5\" x1=\"112.5\" x2=\"112.5\" y1=\"175.0\" y2=\"425.0\"></line><line style=\"stroke:#292724;stroke-width:0.5\" x1=\"175.0\" x2=\"175.0\" y1=\"50.0\" y2=\"550.0\"></line><line style=\"stroke:#292724;stroke-width:0.5\" x1=\"237.5\" x2=\"237.5\" y1=\"50.0\" y2=\"175.0\"></line><line style=\"stroke:#292724;stroke-width:0.5\" x1=\"237.5\" x2=\"237.5\" y1=\"425.0\" y2=\"550.0\"></line><line style=\"stroke:#292724;stroke-width:0.5\" x1=\"300.0\" x2=\"300.0\" y1=\"50.0\" y2=\"175.0\"></line><line style=\"stroke:#292724;stroke-width:0.5\" x1=\"300.0\" x2=\"300.0\" y1=\"425.0\" y2=\"550.0\"></line><line style=\"stroke:#292724;stroke-width:0.5\" x1=\"362.5\" x2=\"362.5\" y1=\"50.0\" y2=\"175.0\"></line><line style=\"stroke:#292724;stroke-width:0.5\" x1=\"362.5\" x2=\"362.5\" y1=\"425.0\" y2=\"550.0\"></line><line style=\"stroke:#292724;stroke-width:0.5\" x1=\"425.0\" x2=\"425.0\" y1=\"50.0\" y2=\"550.0\"></line><line style=\"stroke:#292724;stroke-width:0.5\" x1=\"487.5\" x2=\"487.5\" y1=\"175.0\" y2=\"425.0\"></line><line style=\"stroke:#292724;stroke-width:0.5\" x1=\"550.0\" x2=\"550.0\" y1=\"175.0\" y2=\"425.0\"></line></g></svg><div class=\"toyplot-controls\"><ul class=\"toyplot-mark-popup\" onmouseleave=\"this.style.visibility='hidden'\" style=\"background:rgba(0%,0%,0%,0.75);border:0;border-radius:6px;color:white;cursor:default;list-style:none;margin:0;padding:5px;position:fixed;visibility:hidden\"><li class=\"toyplot-mark-popup-title\" style=\"color:lightgray;cursor:default;padding:5px;list-style:none;margin:0;\"></li><li class=\"toyplot-mark-popup-save-csv\" onmouseout=\"this.style.color='white';this.style.background='steelblue'\" onmouseover=\"this.style.color='steelblue';this.style.background='white'\" style=\"border-radius:3px;padding:5px;list-style:none;margin:0;\">Save as .csv</li></ul></div></div>"
      ],
      "text/plain": [
       "<toyplot.canvas.Canvas at 0x1051b3910>"
      ]
     },
     "metadata": {},
     "output_type": "display_data"
    }
   ],
   "source": [
    "canvas = toyplot.Canvas()\n",
    "table = canvas.table(rows=4, columns=4, hrows=2, brows=2, lcols=2, rcols=2)\n",
    "\n",
    "table.grid.hlines[...] = False\n",
    "table.grid.vlines[...] = False\n",
    "\n",
    "table.top.cells.bstyle = {\"fill\":\"#f88\", \"stroke\":\"none\"}\n",
    "table.top.grid.hlines[...] = \"single\"\n",
    "table.top.grid.vlines[...] = \"single\"\n",
    "\n",
    "table.right.cells.bstyle = {\"fill\":\"#8f8\", \"stroke\":\"none\"}\n",
    "table.right.grid.hlines[...] = \"single\"\n",
    "table.right.grid.vlines[...] = \"single\"\n",
    "\n",
    "table.bottom.cells.bstyle = {\"fill\":\"#88f\", \"stroke\":\"none\"}\n",
    "table.bottom.grid.hlines[...] = \"single\"\n",
    "table.bottom.grid.vlines[...] = \"single\"\n",
    "\n",
    "table.left.cells.bstyle = {\"fill\":\"#ff8\", \"stroke\":\"none\"}\n",
    "table.left.grid.hlines[...] = \"single\"\n",
    "table.left.grid.vlines[...] = \"single\"\n",
    "\n"
   ]
  },
  {
   "cell_type": "code",
   "execution_count": 3,
   "metadata": {
    "collapsed": false
   },
   "outputs": [
    {
     "data": {
      "text/html": [
       "<div align=\"center\" class=\"toyplot\" id=\"ta3f2c4d3a67a44189368c6d408ec0650\"><svg height=\"600px\" id=\"tbdde9464cbe44ef6971f080a26380e43\" style=\"background-color:transparent;fill:#292724;fill-opacity:1.0;font-family:helvetica;font-size:12px;opacity:1.0;stroke:#292724;stroke-opacity:1.0;stroke-width:1.0\" width=\"600px\" xmlns=\"http://www.w3.org/2000/svg\" xmlns:toyplot=\"http://www.sandia.gov/toyplot\"><g class=\"toyplot-axes-Table\" id=\"t20cbbad56146449791cb3519cd39f084\"><rect height=\"62.5\" style=\"fill:#f88;stroke:none\" width=\"62.5\" x=\"50.0\" y=\"50.0\"></rect><rect height=\"62.5\" style=\"fill:#f88;stroke:none\" width=\"62.5\" x=\"112.5\" y=\"50.0\"></rect><rect height=\"62.5\" style=\"fill:#8f8;stroke:none\" width=\"62.5\" x=\"425.0\" y=\"50.0\"></rect><rect height=\"62.5\" style=\"fill:#8f8;stroke:none\" width=\"62.5\" x=\"487.5\" y=\"50.0\"></rect><rect height=\"62.5\" style=\"fill:#f88;stroke:none\" width=\"62.5\" x=\"50.0\" y=\"112.5\"></rect><rect height=\"62.5\" style=\"fill:#f88;stroke:none\" width=\"62.5\" x=\"112.5\" y=\"112.5\"></rect><rect height=\"62.5\" style=\"fill:#8f8;stroke:none\" width=\"62.5\" x=\"425.0\" y=\"112.5\"></rect><rect height=\"62.5\" style=\"fill:#8f8;stroke:none\" width=\"62.5\" x=\"487.5\" y=\"112.5\"></rect><rect height=\"62.5\" style=\"fill:#ff8;stroke:none\" width=\"62.5\" x=\"50.0\" y=\"425.0\"></rect><rect height=\"62.5\" style=\"fill:#ff8;stroke:none\" width=\"62.5\" x=\"112.5\" y=\"425.0\"></rect><rect height=\"62.5\" style=\"fill:#88f;stroke:none\" width=\"62.5\" x=\"425.0\" y=\"425.0\"></rect><rect height=\"62.5\" style=\"fill:#88f;stroke:none\" width=\"62.5\" x=\"487.5\" y=\"425.0\"></rect><rect height=\"62.5\" style=\"fill:#ff8;stroke:none\" width=\"62.5\" x=\"50.0\" y=\"487.5\"></rect><rect height=\"62.5\" style=\"fill:#ff8;stroke:none\" width=\"62.5\" x=\"112.5\" y=\"487.5\"></rect><rect height=\"62.5\" style=\"fill:#88f;stroke:none\" width=\"62.5\" x=\"425.0\" y=\"487.5\"></rect><rect height=\"62.5\" style=\"fill:#88f;stroke:none\" width=\"62.5\" x=\"487.5\" y=\"487.5\"></rect><line style=\"stroke:#292724;stroke-width:0.5\" x1=\"50.0\" x2=\"175.0\" y1=\"50.0\" y2=\"50.0\"></line><line style=\"stroke:#292724;stroke-width:0.5\" x1=\"425.0\" x2=\"550.0\" y1=\"50.0\" y2=\"50.0\"></line><line style=\"stroke:#292724;stroke-width:0.5\" x1=\"50.0\" x2=\"175.0\" y1=\"112.5\" y2=\"112.5\"></line><line style=\"stroke:#292724;stroke-width:0.5\" x1=\"425.0\" x2=\"550.0\" y1=\"112.5\" y2=\"112.5\"></line><line style=\"stroke:#292724;stroke-width:0.5\" x1=\"50.0\" x2=\"175.0\" y1=\"175.0\" y2=\"175.0\"></line><line style=\"stroke:#292724;stroke-width:0.5\" x1=\"425.0\" x2=\"550.0\" y1=\"175.0\" y2=\"175.0\"></line><line style=\"stroke:#292724;stroke-width:0.5\" x1=\"50.0\" x2=\"175.0\" y1=\"425.0\" y2=\"425.0\"></line><line style=\"stroke:#292724;stroke-width:0.5\" x1=\"425.0\" x2=\"550.0\" y1=\"425.0\" y2=\"425.0\"></line><line style=\"stroke:#292724;stroke-width:0.5\" x1=\"50.0\" x2=\"175.0\" y1=\"487.5\" y2=\"487.5\"></line><line style=\"stroke:#292724;stroke-width:0.5\" x1=\"425.0\" x2=\"550.0\" y1=\"487.5\" y2=\"487.5\"></line><line style=\"stroke:#292724;stroke-width:0.5\" x1=\"50.0\" x2=\"175.0\" y1=\"550.0\" y2=\"550.0\"></line><line style=\"stroke:#292724;stroke-width:0.5\" x1=\"425.0\" x2=\"550.0\" y1=\"550.0\" y2=\"550.0\"></line><line style=\"stroke:#292724;stroke-width:0.5\" x1=\"50.0\" x2=\"50.0\" y1=\"50.0\" y2=\"175.0\"></line><line style=\"stroke:#292724;stroke-width:0.5\" x1=\"50.0\" x2=\"50.0\" y1=\"425.0\" y2=\"550.0\"></line><line style=\"stroke:#292724;stroke-width:0.5\" x1=\"112.5\" x2=\"112.5\" y1=\"50.0\" y2=\"175.0\"></line><line style=\"stroke:#292724;stroke-width:0.5\" x1=\"112.5\" x2=\"112.5\" y1=\"425.0\" y2=\"550.0\"></line><line style=\"stroke:#292724;stroke-width:0.5\" x1=\"175.0\" x2=\"175.0\" y1=\"50.0\" y2=\"175.0\"></line><line style=\"stroke:#292724;stroke-width:0.5\" x1=\"175.0\" x2=\"175.0\" y1=\"425.0\" y2=\"550.0\"></line><line style=\"stroke:#292724;stroke-width:0.5\" x1=\"425.0\" x2=\"425.0\" y1=\"50.0\" y2=\"175.0\"></line><line style=\"stroke:#292724;stroke-width:0.5\" x1=\"425.0\" x2=\"425.0\" y1=\"425.0\" y2=\"550.0\"></line><line style=\"stroke:#292724;stroke-width:0.5\" x1=\"487.5\" x2=\"487.5\" y1=\"50.0\" y2=\"175.0\"></line><line style=\"stroke:#292724;stroke-width:0.5\" x1=\"487.5\" x2=\"487.5\" y1=\"425.0\" y2=\"550.0\"></line><line style=\"stroke:#292724;stroke-width:0.5\" x1=\"550.0\" x2=\"550.0\" y1=\"50.0\" y2=\"175.0\"></line><line style=\"stroke:#292724;stroke-width:0.5\" x1=\"550.0\" x2=\"550.0\" y1=\"425.0\" y2=\"550.0\"></line></g></svg><div class=\"toyplot-controls\"><ul class=\"toyplot-mark-popup\" onmouseleave=\"this.style.visibility='hidden'\" style=\"background:rgba(0%,0%,0%,0.75);border:0;border-radius:6px;color:white;cursor:default;list-style:none;margin:0;padding:5px;position:fixed;visibility:hidden\"><li class=\"toyplot-mark-popup-title\" style=\"color:lightgray;cursor:default;padding:5px;list-style:none;margin:0;\"></li><li class=\"toyplot-mark-popup-save-csv\" onmouseout=\"this.style.color='white';this.style.background='steelblue'\" onmouseover=\"this.style.color='steelblue';this.style.background='white'\" style=\"border-radius:3px;padding:5px;list-style:none;margin:0;\">Save as .csv</li></ul></div></div>"
      ],
      "text/plain": [
       "<toyplot.canvas.Canvas at 0x1051b38d0>"
      ]
     },
     "metadata": {},
     "output_type": "display_data"
    }
   ],
   "source": [
    "canvas = toyplot.Canvas()\n",
    "table = canvas.table(rows=4, columns=4, hrows=2, brows=2, lcols=2, rcols=2)\n",
    "\n",
    "table.grid.hlines[...] = False\n",
    "table.grid.vlines[...] = False\n",
    "\n",
    "table.top.left.cells.bstyle = {\"fill\":\"#f88\", \"stroke\":\"none\"}\n",
    "table.top.left.grid.hlines[...] = \"single\"\n",
    "table.top.left.grid.vlines[...] = \"single\"\n",
    "\n",
    "table.top.right.cells.bstyle = {\"fill\":\"#8f8\", \"stroke\":\"none\"}\n",
    "table.top.right.grid.hlines[...] = \"single\"\n",
    "table.top.right.grid.vlines[...] = \"single\"\n",
    "\n",
    "table.bottom.right.cells.bstyle = {\"fill\":\"#88f\", \"stroke\":\"none\"}\n",
    "table.bottom.right.grid.hlines[...] = \"single\"\n",
    "table.bottom.right.grid.vlines[...] = \"single\"\n",
    "\n",
    "table.bottom.left.cells.bstyle = {\"fill\":\"#ff8\", \"stroke\":\"none\"}\n",
    "table.bottom.left.grid.hlines[...] = \"single\"\n",
    "table.bottom.left.grid.vlines[...] = \"single\""
   ]
  },
  {
   "cell_type": "code",
   "execution_count": 4,
   "metadata": {
    "collapsed": false
   },
   "outputs": [
    {
     "data": {
      "text/html": [
       "<div align=\"center\" class=\"toyplot\" id=\"t6d4c3e55241540fa9bedd9dc64bfe7cb\"><svg height=\"600px\" id=\"t7af9b982d45443c7b73a90ba26f79dc7\" style=\"background-color:transparent;fill:#292724;fill-opacity:1.0;font-family:helvetica;font-size:12px;opacity:1.0;stroke:#292724;stroke-opacity:1.0;stroke-width:1.0\" width=\"600px\" xmlns=\"http://www.w3.org/2000/svg\" xmlns:toyplot=\"http://www.sandia.gov/toyplot\"><g class=\"toyplot-axes-Table\" id=\"tf652360686a34194aad01f82a8dfec2c\"><rect height=\"62.5\" style=\"fill:#f88;stroke:none\" width=\"62.5\" x=\"175.0\" y=\"50.0\"></rect><rect height=\"62.5\" style=\"fill:#f88;stroke:none\" width=\"62.5\" x=\"237.5\" y=\"50.0\"></rect><rect height=\"62.5\" style=\"fill:#f88;stroke:none\" width=\"62.5\" x=\"300.0\" y=\"50.0\"></rect><rect height=\"62.5\" style=\"fill:#f88;stroke:none\" width=\"62.5\" x=\"362.5\" y=\"50.0\"></rect><rect height=\"62.5\" style=\"fill:#f88;stroke:none\" width=\"62.5\" x=\"175.0\" y=\"112.5\"></rect><rect height=\"62.5\" style=\"fill:#f88;stroke:none\" width=\"62.5\" x=\"237.5\" y=\"112.5\"></rect><rect height=\"62.5\" style=\"fill:#f88;stroke:none\" width=\"62.5\" x=\"300.0\" y=\"112.5\"></rect><rect height=\"62.5\" style=\"fill:#f88;stroke:none\" width=\"62.5\" x=\"362.5\" y=\"112.5\"></rect><rect height=\"62.5\" style=\"fill:#ff8;stroke:none\" width=\"62.5\" x=\"50.0\" y=\"175.0\"></rect><rect height=\"62.5\" style=\"fill:#ff8;stroke:none\" width=\"62.5\" x=\"112.5\" y=\"175.0\"></rect><rect height=\"62.5\" style=\"fill:#8f8;stroke:none\" width=\"62.5\" x=\"425.0\" y=\"175.0\"></rect><rect height=\"62.5\" style=\"fill:#8f8;stroke:none\" width=\"62.5\" x=\"487.5\" y=\"175.0\"></rect><rect height=\"62.5\" style=\"fill:#ff8;stroke:none\" width=\"62.5\" x=\"50.0\" y=\"237.5\"></rect><rect height=\"62.5\" style=\"fill:#ff8;stroke:none\" width=\"62.5\" x=\"112.5\" y=\"237.5\"></rect><rect height=\"62.5\" style=\"fill:#8f8;stroke:none\" width=\"62.5\" x=\"425.0\" y=\"237.5\"></rect><rect height=\"62.5\" style=\"fill:#8f8;stroke:none\" width=\"62.5\" x=\"487.5\" y=\"237.5\"></rect><rect height=\"62.5\" style=\"fill:#ff8;stroke:none\" width=\"62.5\" x=\"50.0\" y=\"300.0\"></rect><rect height=\"62.5\" style=\"fill:#ff8;stroke:none\" width=\"62.5\" x=\"112.5\" y=\"300.0\"></rect><rect height=\"62.5\" style=\"fill:#8f8;stroke:none\" width=\"62.5\" x=\"425.0\" y=\"300.0\"></rect><rect height=\"62.5\" style=\"fill:#8f8;stroke:none\" width=\"62.5\" x=\"487.5\" y=\"300.0\"></rect><rect height=\"62.5\" style=\"fill:#ff8;stroke:none\" width=\"62.5\" x=\"50.0\" y=\"362.5\"></rect><rect height=\"62.5\" style=\"fill:#ff8;stroke:none\" width=\"62.5\" x=\"112.5\" y=\"362.5\"></rect><rect height=\"62.5\" style=\"fill:#8f8;stroke:none\" width=\"62.5\" x=\"425.0\" y=\"362.5\"></rect><rect height=\"62.5\" style=\"fill:#8f8;stroke:none\" width=\"62.5\" x=\"487.5\" y=\"362.5\"></rect><rect height=\"62.5\" style=\"fill:#88f;stroke:none\" width=\"62.5\" x=\"175.0\" y=\"425.0\"></rect><rect height=\"62.5\" style=\"fill:#88f;stroke:none\" width=\"62.5\" x=\"237.5\" y=\"425.0\"></rect><rect height=\"62.5\" style=\"fill:#88f;stroke:none\" width=\"62.5\" x=\"300.0\" y=\"425.0\"></rect><rect height=\"62.5\" style=\"fill:#88f;stroke:none\" width=\"62.5\" x=\"362.5\" y=\"425.0\"></rect><rect height=\"62.5\" style=\"fill:#88f;stroke:none\" width=\"62.5\" x=\"175.0\" y=\"487.5\"></rect><rect height=\"62.5\" style=\"fill:#88f;stroke:none\" width=\"62.5\" x=\"237.5\" y=\"487.5\"></rect><rect height=\"62.5\" style=\"fill:#88f;stroke:none\" width=\"62.5\" x=\"300.0\" y=\"487.5\"></rect><rect height=\"62.5\" style=\"fill:#88f;stroke:none\" width=\"62.5\" x=\"362.5\" y=\"487.5\"></rect><line style=\"stroke:#292724;stroke-width:0.5\" x1=\"175.0\" x2=\"425.0\" y1=\"175.0\" y2=\"175.0\"></line><line style=\"stroke:#292724;stroke-width:0.5\" x1=\"175.0\" x2=\"425.0\" y1=\"237.5\" y2=\"237.5\"></line><line style=\"stroke:#292724;stroke-width:0.5\" x1=\"175.0\" x2=\"425.0\" y1=\"300.0\" y2=\"300.0\"></line><line style=\"stroke:#292724;stroke-width:0.5\" x1=\"175.0\" x2=\"425.0\" y1=\"362.5\" y2=\"362.5\"></line><line style=\"stroke:#292724;stroke-width:0.5\" x1=\"175.0\" x2=\"425.0\" y1=\"425.0\" y2=\"425.0\"></line><line style=\"stroke:#292724;stroke-width:0.5\" x1=\"175.0\" x2=\"175.0\" y1=\"175.0\" y2=\"425.0\"></line><line style=\"stroke:#292724;stroke-width:0.5\" x1=\"237.5\" x2=\"237.5\" y1=\"175.0\" y2=\"425.0\"></line><line style=\"stroke:#292724;stroke-width:0.5\" x1=\"300.0\" x2=\"300.0\" y1=\"175.0\" y2=\"425.0\"></line><line style=\"stroke:#292724;stroke-width:0.5\" x1=\"362.5\" x2=\"362.5\" y1=\"175.0\" y2=\"425.0\"></line><line style=\"stroke:#292724;stroke-width:0.5\" x1=\"425.0\" x2=\"425.0\" y1=\"175.0\" y2=\"425.0\"></line></g></svg><div class=\"toyplot-controls\"><ul class=\"toyplot-mark-popup\" onmouseleave=\"this.style.visibility='hidden'\" style=\"background:rgba(0%,0%,0%,0.75);border:0;border-radius:6px;color:white;cursor:default;list-style:none;margin:0;padding:5px;position:fixed;visibility:hidden\"><li class=\"toyplot-mark-popup-title\" style=\"color:lightgray;cursor:default;padding:5px;list-style:none;margin:0;\"></li><li class=\"toyplot-mark-popup-save-csv\" onmouseout=\"this.style.color='white';this.style.background='steelblue'\" onmouseover=\"this.style.color='steelblue';this.style.background='white'\" style=\"border-radius:3px;padding:5px;list-style:none;margin:0;\">Save as .csv</li></ul></div></div>"
      ],
      "text/plain": [
       "<toyplot.canvas.Canvas at 0x10441a090>"
      ]
     },
     "metadata": {},
     "output_type": "display_data"
    }
   ],
   "source": [
    "canvas = toyplot.Canvas()\n",
    "table = canvas.table(rows=4, columns=4, hrows=2, brows=2, lcols=2, rcols=2)\n",
    "\n",
    "table.grid.hlines[...] = False\n",
    "table.grid.vlines[...] = False\n",
    "\n",
    "table.top.cells.bstyle = {\"fill\":\"#f88\", \"stroke\":\"none\"}\n",
    "table.right.cells.bstyle = {\"fill\":\"#8f8\", \"stroke\":\"none\"}\n",
    "table.bottom.cells.bstyle = {\"fill\":\"#88f\", \"stroke\":\"none\"}\n",
    "table.left.cells.bstyle = {\"fill\":\"#ff8\", \"stroke\":\"none\"}\n",
    "\n",
    "table.body.grid.hlines[...] = \"single\"\n",
    "table.body.grid.vlines[...] = \"single\"\n",
    "\n",
    "\n"
   ]
  },
  {
   "cell_type": "code",
   "execution_count": null,
   "metadata": {
    "collapsed": true
   },
   "outputs": [],
   "source": []
  }
 ],
 "metadata": {
  "kernelspec": {
   "display_name": "Python 2",
   "language": "python",
   "name": "python2"
  },
  "language_info": {
   "codemirror_mode": {
    "name": "ipython",
    "version": 2
   },
   "file_extension": ".py",
   "mimetype": "text/x-python",
   "name": "python",
   "nbconvert_exporter": "python",
   "pygments_lexer": "ipython2",
   "version": "2.7.9"
  }
 },
 "nbformat": 4,
 "nbformat_minor": 0
}

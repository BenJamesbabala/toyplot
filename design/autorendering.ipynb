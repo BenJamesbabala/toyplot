{
 "metadata": {
  "name": "",
  "signature": "sha256:5c2238714c3a95f1d4560c29073c1e7cd94d990ef799834f2e6214583b7e2097"
 },
 "nbformat": 3,
 "nbformat_minor": 0,
 "worksheets": [
  {
   "cells": [
    {
     "cell_type": "code",
     "collapsed": false,
     "input": [
      "import toyplot.png\n",
      "import IPython.display"
     ],
     "language": "python",
     "metadata": {},
     "outputs": [],
     "prompt_number": 1
    },
    {
     "cell_type": "code",
     "collapsed": false,
     "input": [
      "canvas = toyplot.Canvas(width=200, height=200, style={\"background-color\":\"ivory\"})"
     ],
     "language": "python",
     "metadata": {},
     "outputs": [
      {
       "html": [
        "<div align=\"center\" class=\"toyplot\" id=\"t8a16a65c729c417394e2035e0ec32bc8\"><svg height=\"200px\" id=\"t66dcee0ecc6d4c25b4f1a4f26748f396\" style=\"opacity:1.0;font-size:12px;font-family:helvetica;stroke-opacity:1.0;fill-opacity:1.0;stroke:#343434;stroke-width:1.0;background-color:ivory;fill:#343434;\" width=\"200px\" xmlns=\"http://www.w3.org/2000/svg\" xmlns:toyplot=\"http://www.sandia.gov/toyplot\"></svg><div class=\"toyplot-controls\"><ul class=\"toyplot-mark-popup\" onmouseleave=\"this.style.visibility='hidden'\" style=\"border-radius:6px;padding:5px;color:white;border:0;list-style:none;visibility:hidden;cursor:default;background:rgba(0%,0%,0%,0.75);position:fixed;margin:0;\"><li class=\"toyplot-mark-popup-title\" style=\"color:lightgray;cursor:default;padding:5px;list-style:none;margin:0;\"></li><li class=\"toyplot-mark-popup-save-csv\" onmouseout=\"this.style.color='white';this.style.background='steelblue'\" onmouseover=\"this.style.color='steelblue';this.style.background='white'\" style=\"border-radius:3px;padding:5px;list-style:none;margin:0;\">Save as .csv</li></ul></div></div>"
       ],
       "metadata": {},
       "output_type": "display_data",
       "png": "[encoded data removed]",
       "svg": [
        "<svg height=\"200px\" id=\"t698736571a9b439fb882e5ead71ed35e\" style=\"opacity:1.0;font-size:12px;font-family:helvetica;stroke-opacity:1.0;fill-opacity:1.0;stroke:#343434;stroke-width:1.0;background-color:ivory;fill:#343434;\" width=\"200px\" xmlns=\"http://www.w3.org/2000/svg\" xmlns:toyplot=\"http://www.sandia.gov/toyplot\" />"
       ],
       "text": [
        "<toyplot.Canvas at 0x10531a190>"
       ]
      }
     ],
     "prompt_number": 2
    },
    {
     "cell_type": "code",
     "collapsed": false,
     "input": [
      "canvas = toyplot.Canvas(width=200, height=200, style={\"background-color\":\"ivory\"}, autorender=False)\n",
      "canvas"
     ],
     "language": "python",
     "metadata": {},
     "outputs": [
      {
       "html": [
        "<div align=\"center\" class=\"toyplot\" id=\"t36db5ae751ad4bde97fa9d414ceae4ad\"><svg height=\"200px\" id=\"tf0cfecb7fa1b43a9bfb6123ace874578\" style=\"opacity:1.0;font-size:12px;font-family:helvetica;stroke-opacity:1.0;fill-opacity:1.0;stroke:#343434;stroke-width:1.0;background-color:ivory;fill:#343434;\" width=\"200px\" xmlns=\"http://www.w3.org/2000/svg\" xmlns:toyplot=\"http://www.sandia.gov/toyplot\"></svg><div class=\"toyplot-controls\"><ul class=\"toyplot-mark-popup\" onmouseleave=\"this.style.visibility='hidden'\" style=\"border-radius:6px;padding:5px;color:white;border:0;list-style:none;visibility:hidden;cursor:default;background:rgba(0%,0%,0%,0.75);position:fixed;margin:0;\"><li class=\"toyplot-mark-popup-title\" style=\"color:lightgray;cursor:default;padding:5px;list-style:none;margin:0;\"></li><li class=\"toyplot-mark-popup-save-csv\" onmouseout=\"this.style.color='white';this.style.background='steelblue'\" onmouseover=\"this.style.color='steelblue';this.style.background='white'\" style=\"border-radius:3px;padding:5px;list-style:none;margin:0;\">Save as .csv</li></ul></div></div>"
       ],
       "metadata": {},
       "output_type": "pyout",
       "png": "[encoded data removed]",
       "prompt_number": 3,
       "svg": [
        "<svg height=\"200px\" id=\"t5e33c2d7dfc0440f899e02f6ef8c8db4\" style=\"opacity:1.0;font-size:12px;font-family:helvetica;stroke-opacity:1.0;fill-opacity:1.0;stroke:#343434;stroke-width:1.0;background-color:ivory;fill:#343434;\" width=\"200px\" xmlns=\"http://www.w3.org/2000/svg\" xmlns:toyplot=\"http://www.sandia.gov/toyplot\" />"
       ],
       "text": [
        "<toyplot.Canvas at 0x10531a710>"
       ]
      }
     ],
     "prompt_number": 3
    },
    {
     "cell_type": "code",
     "collapsed": false,
     "input": [
      "canvas = toyplot.Canvas(width=200, height=200, style={\"background-color\":\"ivory\"})\n",
      "canvas"
     ],
     "language": "python",
     "metadata": {},
     "outputs": [
      {
       "html": [
        "<div align=\"center\" class=\"toyplot\" id=\"t36701661eaac456687d10b2be362e6e7\"><svg height=\"200px\" id=\"t2e6de24a671446629c631acf13a11d3c\" style=\"opacity:1.0;font-size:12px;font-family:helvetica;stroke-opacity:1.0;fill-opacity:1.0;stroke:#343434;stroke-width:1.0;background-color:ivory;fill:#343434;\" width=\"200px\" xmlns=\"http://www.w3.org/2000/svg\" xmlns:toyplot=\"http://www.sandia.gov/toyplot\"></svg><div class=\"toyplot-controls\"><ul class=\"toyplot-mark-popup\" onmouseleave=\"this.style.visibility='hidden'\" style=\"border-radius:6px;padding:5px;color:white;border:0;list-style:none;visibility:hidden;cursor:default;background:rgba(0%,0%,0%,0.75);position:fixed;margin:0;\"><li class=\"toyplot-mark-popup-title\" style=\"color:lightgray;cursor:default;padding:5px;list-style:none;margin:0;\"></li><li class=\"toyplot-mark-popup-save-csv\" onmouseout=\"this.style.color='white';this.style.background='steelblue'\" onmouseover=\"this.style.color='steelblue';this.style.background='white'\" style=\"border-radius:3px;padding:5px;list-style:none;margin:0;\">Save as .csv</li></ul></div></div>"
       ],
       "metadata": {},
       "output_type": "pyout",
       "png": "[encoded data removed]",
       "prompt_number": 4,
       "svg": [
        "<svg height=\"200px\" id=\"t37a6e982dca64c1a99189c883e0b44d5\" style=\"opacity:1.0;font-size:12px;font-family:helvetica;stroke-opacity:1.0;fill-opacity:1.0;stroke:#343434;stroke-width:1.0;background-color:ivory;fill:#343434;\" width=\"200px\" xmlns=\"http://www.w3.org/2000/svg\" xmlns:toyplot=\"http://www.sandia.gov/toyplot\" />"
       ],
       "text": [
        "<toyplot.Canvas at 0x10531aa10>"
       ]
      }
     ],
     "prompt_number": 4
    },
    {
     "cell_type": "code",
     "collapsed": false,
     "input": [
      "canvas = toyplot.Canvas(width=200, height=200, style={\"background-color\":\"ivory\"}, autorender=False)\n",
      "IPython.display.Image(data=toyplot.png.render(canvas))"
     ],
     "language": "python",
     "metadata": {},
     "outputs": [
      {
       "metadata": {},
       "output_type": "pyout",
       "png": "[encoded data removed]",
       "prompt_number": 5,
       "text": [
        "<IPython.core.display.Image at 0x105304f10>"
       ]
      }
     ],
     "prompt_number": 5
    },
    {
     "cell_type": "code",
     "collapsed": false,
     "input": [],
     "language": "python",
     "metadata": {},
     "outputs": [],
     "prompt_number": 5
    }
   ],
   "metadata": {}
  }
 ]
}
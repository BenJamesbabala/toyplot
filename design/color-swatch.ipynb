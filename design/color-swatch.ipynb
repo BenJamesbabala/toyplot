{
 "cells": [
  {
   "cell_type": "code",
   "execution_count": 1,
   "metadata": {
    "collapsed": true
   },
   "outputs": [],
   "source": [
    "import IPython.display\n",
    "import numpy\n",
    "import toyplot.color"
   ]
  },
  {
   "cell_type": "code",
   "execution_count": 2,
   "metadata": {
    "collapsed": false
   },
   "outputs": [
    {
     "data": {
      "text/html": [
       "<div class=\"toyplot-color-Swatch\" style=\"overflow:hidden; height:auto\"><div style=\"float:left;width:20px;height:20px;background-color:rgba(100%,0%,0%,1)\"></div></div>"
      ],
      "text/plain": [
       "array((1.0, 0.0, 0.0, 1.0), \n",
       "      dtype=[('r', '<f8'), ('g', '<f8'), ('b', '<f8'), ('a', '<f8')])"
      ]
     },
     "execution_count": 2,
     "metadata": {},
     "output_type": "execute_result"
    }
   ],
   "source": [
    "toyplot.color.rgb(1, 0, 0)"
   ]
  },
  {
   "cell_type": "code",
   "execution_count": 3,
   "metadata": {
    "collapsed": false
   },
   "outputs": [
    {
     "data": {
      "text/html": [
       "<div class=\"toyplot-color-Swatch\" style=\"overflow:hidden; height:auto\"><div style=\"float:left;width:20px;height:20px;background-color:rgba(0%,0%,100%,0.5)\"></div></div>"
      ],
      "text/plain": [
       "array((0.0, 0.0, 1.0, 0.5), \n",
       "      dtype=[('r', '<f8'), ('g', '<f8'), ('b', '<f8'), ('a', '<f8')])"
      ]
     },
     "execution_count": 3,
     "metadata": {},
     "output_type": "execute_result"
    }
   ],
   "source": [
    "toyplot.color.rgba(0, 0, 1, 0.5)"
   ]
  },
  {
   "cell_type": "code",
   "execution_count": 4,
   "metadata": {
    "collapsed": false
   },
   "outputs": [
    {
     "data": {
      "text/html": [
       "<div class=\"toyplot-color-Swatch\" style=\"overflow:hidden; height:auto\"><div style=\"float:left;width:20px;height:20px;background-color:rgba(27.5%,51%,70.6%,1)\"></div></div>"
      ],
      "text/plain": [
       "array((0.27450980392156865, 0.5098039215686274, 0.7058823529411765, 1.0), \n",
       "      dtype=[('r', '<f8'), ('g', '<f8'), ('b', '<f8'), ('a', '<f8')])"
      ]
     },
     "execution_count": 4,
     "metadata": {},
     "output_type": "execute_result"
    }
   ],
   "source": [
    "toyplot.color.css(\"steelblue\")"
   ]
  },
  {
   "cell_type": "code",
   "execution_count": 5,
   "metadata": {
    "collapsed": false
   },
   "outputs": [
    {
     "data": {
      "text/html": [
       "<div class=\"toyplot-color-Swatch\" style=\"overflow:hidden; height:auto\"><div style=\"float:left;width:20px;height:20px;background-color:rgba(0%,50.2%,0%,1)\"></div></div>"
      ],
      "text/plain": [
       "array((0.0, 0.5019607843137255, 0.0, 1.0), \n",
       "      dtype=[('r', '<f8'), ('g', '<f8'), ('b', '<f8'), ('a', '<f8')])"
      ]
     },
     "execution_count": 5,
     "metadata": {},
     "output_type": "execute_result"
    }
   ],
   "source": [
    "toyplot.color.Palette([\"red\", \"green\", \"blue\"])[1]"
   ]
  },
  {
   "cell_type": "code",
   "execution_count": 6,
   "metadata": {
    "collapsed": false
   },
   "outputs": [
    {
     "data": {
      "text/html": [
       "<div class=\"toyplot-color-Swatch\" style=\"overflow:hidden; height:auto\"><div style=\"float:left;width:20px;height:20px;background-color:rgba(100%,0%,0%,1)\"></div></div>"
      ],
      "text/plain": [
       "array((1.0, 0.0, 0.0, 1.0), \n",
       "      dtype=[('r', '<f8'), ('g', '<f8'), ('b', '<f8'), ('a', '<f8')])"
      ]
     },
     "metadata": {},
     "output_type": "display_data"
    },
    {
     "data": {
      "text/html": [
       "<div class=\"toyplot-color-Swatch\" style=\"overflow:hidden; height:auto\"><div style=\"float:left;width:20px;height:20px;background-color:rgba(0%,50.2%,0%,1)\"></div></div>"
      ],
      "text/plain": [
       "array((0.0, 0.5019607843137255, 0.0, 1.0), \n",
       "      dtype=[('r', '<f8'), ('g', '<f8'), ('b', '<f8'), ('a', '<f8')])"
      ]
     },
     "metadata": {},
     "output_type": "display_data"
    },
    {
     "data": {
      "text/html": [
       "<div class=\"toyplot-color-Swatch\" style=\"overflow:hidden; height:auto\"><div style=\"float:left;width:20px;height:20px;background-color:rgba(0%,0%,100%,1)\"></div></div>"
      ],
      "text/plain": [
       "array((0.0, 0.0, 1.0, 1.0), \n",
       "      dtype=[('r', '<f8'), ('g', '<f8'), ('b', '<f8'), ('a', '<f8')])"
      ]
     },
     "metadata": {},
     "output_type": "display_data"
    }
   ],
   "source": [
    "for color in toyplot.color.Palette([\"red\", \"green\", \"blue\"]):\n",
    "    IPython.display.display(color)"
   ]
  },
  {
   "cell_type": "code",
   "execution_count": 7,
   "metadata": {
    "collapsed": false
   },
   "outputs": [
    {
     "data": {
      "text/html": [
       "<div class=\"toyplot-color-Palette\" style=\"overflow:hidden; height:auto\"><div style=\"float:left;width:20px;height:20px;background-color:rgba(40%,76.1%,64.7%,1)\"></div><div style=\"float:left;width:20px;height:20px;background-color:rgba(98.8%,55.3%,38.4%,1)\"></div><div style=\"float:left;width:20px;height:20px;background-color:rgba(55.3%,62.7%,79.6%,1)\"></div><div style=\"float:left;width:20px;height:20px;background-color:rgba(90.6%,54.1%,76.5%,1)\"></div><div style=\"float:left;width:20px;height:20px;background-color:rgba(65.1%,84.7%,32.9%,1)\"></div><div style=\"float:left;width:20px;height:20px;background-color:rgba(100%,85.1%,18.4%,1)\"></div><div style=\"float:left;width:20px;height:20px;background-color:rgba(89.8%,76.9%,58%,1)\"></div><div style=\"float:left;width:20px;height:20px;background-color:rgba(70.2%,70.2%,70.2%,1)\"></div></div>"
      ],
      "text/plain": [
       "<toyplot.color.Palette at 0x105c39a50>"
      ]
     },
     "execution_count": 7,
     "metadata": {},
     "output_type": "execute_result"
    }
   ],
   "source": [
    "toyplot.color.Palette()"
   ]
  },
  {
   "cell_type": "code",
   "execution_count": 8,
   "metadata": {
    "collapsed": false
   },
   "outputs": [
    {
     "data": {
      "text/html": [
       "<div class=\"toyplot-color-Swatch\" style=\"overflow:hidden; height:auto\"><div style=\"float:left;width:20px;height:20px;background-color:rgba(98.8%,55.3%,38.4%,1)\"></div></div>"
      ],
      "text/plain": [
       "array((0.9882352941176471, 0.5529411764705883, 0.3843137254901961, 1.0), \n",
       "      dtype=[('r', '<f8'), ('g', '<f8'), ('b', '<f8'), ('a', '<f8')])"
      ]
     },
     "execution_count": 8,
     "metadata": {},
     "output_type": "execute_result"
    }
   ],
   "source": [
    "toyplot.color.Palette()[1]"
   ]
  },
  {
   "cell_type": "code",
   "execution_count": 9,
   "metadata": {
    "collapsed": false
   },
   "outputs": [
    {
     "data": {
      "text/html": [
       "<div class=\"toyplot-color-Swatch\" style=\"overflow:hidden; height:auto\"><div style=\"float:left;width:20px;height:20px;background-color:rgba(40%,76.1%,64.7%,1)\"></div></div>"
      ],
      "text/plain": [
       "array((0.4, 0.7607843137254902, 0.6470588235294118, 1.0), \n",
       "      dtype=[('r', '<f8'), ('g', '<f8'), ('b', '<f8'), ('a', '<f8')])"
      ]
     },
     "metadata": {},
     "output_type": "display_data"
    },
    {
     "data": {
      "text/html": [
       "<div class=\"toyplot-color-Swatch\" style=\"overflow:hidden; height:auto\"><div style=\"float:left;width:20px;height:20px;background-color:rgba(98.8%,55.3%,38.4%,1)\"></div></div>"
      ],
      "text/plain": [
       "array((0.9882352941176471, 0.5529411764705883, 0.3843137254901961, 1.0), \n",
       "      dtype=[('r', '<f8'), ('g', '<f8'), ('b', '<f8'), ('a', '<f8')])"
      ]
     },
     "metadata": {},
     "output_type": "display_data"
    },
    {
     "data": {
      "text/html": [
       "<div class=\"toyplot-color-Swatch\" style=\"overflow:hidden; height:auto\"><div style=\"float:left;width:20px;height:20px;background-color:rgba(55.3%,62.7%,79.6%,1)\"></div></div>"
      ],
      "text/plain": [
       "array((0.5529411764705883, 0.6274509803921569, 0.796078431372549, 1.0), \n",
       "      dtype=[('r', '<f8'), ('g', '<f8'), ('b', '<f8'), ('a', '<f8')])"
      ]
     },
     "metadata": {},
     "output_type": "display_data"
    },
    {
     "data": {
      "text/html": [
       "<div class=\"toyplot-color-Swatch\" style=\"overflow:hidden; height:auto\"><div style=\"float:left;width:20px;height:20px;background-color:rgba(90.6%,54.1%,76.5%,1)\"></div></div>"
      ],
      "text/plain": [
       "array((0.9058823529411765, 0.5411764705882353, 0.7647058823529411, 1.0), \n",
       "      dtype=[('r', '<f8'), ('g', '<f8'), ('b', '<f8'), ('a', '<f8')])"
      ]
     },
     "metadata": {},
     "output_type": "display_data"
    },
    {
     "data": {
      "text/html": [
       "<div class=\"toyplot-color-Swatch\" style=\"overflow:hidden; height:auto\"><div style=\"float:left;width:20px;height:20px;background-color:rgba(65.1%,84.7%,32.9%,1)\"></div></div>"
      ],
      "text/plain": [
       "array((0.6509803921568628, 0.8470588235294118, 0.32941176470588235, 1.0), \n",
       "      dtype=[('r', '<f8'), ('g', '<f8'), ('b', '<f8'), ('a', '<f8')])"
      ]
     },
     "metadata": {},
     "output_type": "display_data"
    },
    {
     "data": {
      "text/html": [
       "<div class=\"toyplot-color-Swatch\" style=\"overflow:hidden; height:auto\"><div style=\"float:left;width:20px;height:20px;background-color:rgba(100%,85.1%,18.4%,1)\"></div></div>"
      ],
      "text/plain": [
       "array((1.0, 0.8509803921568627, 0.1843137254901961, 1.0), \n",
       "      dtype=[('r', '<f8'), ('g', '<f8'), ('b', '<f8'), ('a', '<f8')])"
      ]
     },
     "metadata": {},
     "output_type": "display_data"
    },
    {
     "data": {
      "text/html": [
       "<div class=\"toyplot-color-Swatch\" style=\"overflow:hidden; height:auto\"><div style=\"float:left;width:20px;height:20px;background-color:rgba(89.8%,76.9%,58%,1)\"></div></div>"
      ],
      "text/plain": [
       "array((0.8980392156862745, 0.7686274509803922, 0.5803921568627451, 1.0), \n",
       "      dtype=[('r', '<f8'), ('g', '<f8'), ('b', '<f8'), ('a', '<f8')])"
      ]
     },
     "metadata": {},
     "output_type": "display_data"
    },
    {
     "data": {
      "text/html": [
       "<div class=\"toyplot-color-Swatch\" style=\"overflow:hidden; height:auto\"><div style=\"float:left;width:20px;height:20px;background-color:rgba(70.2%,70.2%,70.2%,1)\"></div></div>"
      ],
      "text/plain": [
       "array((0.7019607843137254, 0.7019607843137254, 0.7019607843137254, 1.0), \n",
       "      dtype=[('r', '<f8'), ('g', '<f8'), ('b', '<f8'), ('a', '<f8')])"
      ]
     },
     "metadata": {},
     "output_type": "display_data"
    }
   ],
   "source": [
    "for color in toyplot.color.Palette():\n",
    "    IPython.display.display(color)"
   ]
  }
 ],
 "metadata": {
  "kernelspec": {
   "display_name": "Python 2",
   "language": "python",
   "name": "python2"
  },
  "language_info": {
   "codemirror_mode": {
    "name": "ipython",
    "version": 2
   },
   "file_extension": ".py",
   "mimetype": "text/x-python",
   "name": "python",
   "nbconvert_exporter": "python",
   "pygments_lexer": "ipython2",
   "version": "2.7.10"
  }
 },
 "nbformat": 4,
 "nbformat_minor": 0
}

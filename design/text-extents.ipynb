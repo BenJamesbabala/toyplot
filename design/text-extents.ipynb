{
 "cells": [
  {
   "cell_type": "code",
   "execution_count": 1,
   "metadata": {
    "collapsed": false
   },
   "outputs": [
    {
     "name": "stdout",
     "output_type": "stream",
     "text": [
      "[ 0.] [ 48.] [ 0.] [ 12.]\n"
     ]
    }
   ],
   "source": [
    "import numpy\n",
    "import toyplot.text\n",
    "\n",
    "x = 0\n",
    "y = 0\n",
    "text = \"text\"\n",
    "style = {\n",
    "    \"font-size\":\"12px\",\n",
    "    \"-toyplot-anchor-shift\":\"0\",\n",
    "    \"text-anchor\":\"start\",\n",
    "    \"alignment-baseline\":\"middle\",\n",
    "    \"baseline-shift\":\"-50%\",\n",
    "}\n",
    "\n",
    "left, right, top, bottom = toyplot.text.extents(x, y, text, style)\n",
    "print left, right, top, bottom"
   ]
  }
 ],
 "metadata": {
  "kernelspec": {
   "display_name": "Python 2",
   "language": "python",
   "name": "python2"
  },
  "language_info": {
   "codemirror_mode": {
    "name": "ipython",
    "version": 2
   },
   "file_extension": ".py",
   "mimetype": "text/x-python",
   "name": "python",
   "nbconvert_exporter": "python",
   "pygments_lexer": "ipython2",
   "version": "2.7.9"
  }
 },
 "nbformat": 4,
 "nbformat_minor": 0
}

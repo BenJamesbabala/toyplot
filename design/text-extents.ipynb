{
 "cells": [
  {
   "cell_type": "code",
   "execution_count": 1,
   "metadata": {
    "collapsed": false
   },
   "outputs": [],
   "source": [
    "from PIL import Image, ImageDraw\n",
    "\n",
    "import toyplot.font\n",
    "import toyplot.text\n",
    "\n",
    "import IPython.display\n",
    "\n",
    "import xml.etree.ElementTree as xml\n",
    "import sys\n",
    "import logging\n",
    "logging.basicConfig(level=logging.DEBUG)\n",
    "toyplot.log.setLevel(logging.DEBUG)"
   ]
  },
  {
   "cell_type": "code",
   "execution_count": 2,
   "metadata": {
    "collapsed": false
   },
   "outputs": [],
   "source": [
    "#text = \"\"\"This is <i>italic</i>, <b>bold</b>,<br/><code>monospace</code>, <small>small</small>, <span style=\"font-size:24px\">large</span>,<br/><sup>superscript</sup> and <sub>subscript</sub> text<br/>for your <span style=\"fill:red\">amusement!</span>\"\"\"\n",
    "#text = \"\"\"<span style=\"alignment-baseline:hanging\">Hanging</span><span style=\"alignment-baseline:central\">Central</span><span style=\"alignment-baseline:middle\">Middle</span><span style=\"alignment-baseline:alphabetic\">Alpha</span>\"\"\"\n",
    "text = \"\"\"Hello, <small>World!</small>\"\"\"\n",
    "style = {\"font-family\":\"helvetica\", \"font-size\":\"16px\"}\n",
    "fonts = toyplot.font.ReportlabLibrary()\n",
    "\n",
    "layout = toyplot.text.layout(text=text, style=style, fonts=fonts)"
   ]
  },
  {
   "cell_type": "code",
   "execution_count": 8,
   "metadata": {
    "collapsed": false
   },
   "outputs": [
    {
     "data": {
      "image/svg+xml": [
       "<svg height=\"246\" style=\"border: 1px solid #f0f0f0\" width=\"246\"><g transform=\"translate(123.4848 123.4848)rotate(32)\"><line stroke=\"royalblue\" x1=\"-41.1616\" x2=\"41.1616\" y1=\"0.0\" y2=\"0.0\"/><line stroke=\"crimson\" x1=\"-41.1616\" x2=\"4.1824\" y1=\"4.0208\" y2=\"4.0208\"/><text style=\"font-family:helvetica;font-size:16.0;line-height:19.2;vertical-align:baseline;white-space:pre\" x=\"-41.1616\" y=\"4.0208\">Hello, </text><line stroke=\"crimson\" x1=\"4.1824\" x2=\"41.1616\" y1=\"3.21664\" y2=\"3.21664\"/><text style=\"font-family:helvetica;font-size:12.8;line-height:15.36;vertical-align:baseline;white-space:pre\" x=\"4.1824\" y=\"3.21664\">World!</text><circle cx=\"0\" cy=\"0\" fill=\"white\" r=\"5\" stroke=\"seagreen\"/><rect fill=\"none\" height=\"19.2\" stroke=\"seagreen\" width=\"82.3232\" x=\"-41.1616\" y=\"-9.6672\"/></g><rect fill=\"none\" height=\"59.9071730195\" stroke=\"purple\" transform=\"translate(123.4848 123.4848)\" width=\"79.9884829028\" x=\"-40.0298520259\" y=\"-30.0105753418\"/></svg>"
      ],
      "text/plain": [
       "<IPython.core.display.SVG object>"
      ]
     },
     "execution_count": 8,
     "metadata": {},
     "output_type": "execute_result"
    }
   ],
   "source": [
    "def draw(layout, show_layout_box=True, show_anchor=True, show_line_baseline=True, show_text_baseline=True, angle=0, show_extent=True):\n",
    "    size = max(layout.width, layout.height)\n",
    "    \n",
    "    svg = xml.Element(\n",
    "        \"svg\",\n",
    "        width=str(int(size*3)),\n",
    "        height=str(int(size*3)),\n",
    "        style=\"border: 1px solid #f0f0f0\",\n",
    "    )\n",
    "    group = xml.SubElement(\n",
    "        svg,\n",
    "        \"g\",\n",
    "        transform=\"translate(%s %s)rotate(%s)\" % (size*1.5, size*1.5, -angle),\n",
    "    )\n",
    "\n",
    "    for line in layout.children:\n",
    "        if show_line_baseline:\n",
    "            xml.SubElement(\n",
    "                group,\n",
    "                \"line\",\n",
    "                x1=str(line.left),\n",
    "                y1=str(line.baseline),\n",
    "                x2=str(line.right),\n",
    "                y2=str(line.baseline),\n",
    "                stroke=\"royalblue\")\n",
    "\n",
    "        for box in line.children:\n",
    "            if isinstance(box, toyplot.text.TextBox):\n",
    "                if show_text_baseline:\n",
    "                    xml.SubElement(\n",
    "                        group,\n",
    "                        \"line\",\n",
    "                        x1=str(box.left),\n",
    "                        y1=str(box.baseline),\n",
    "                        x2=str(box.right),\n",
    "                        y2=str(box.baseline),\n",
    "                        stroke=\"crimson\")\n",
    "\n",
    "                xml.SubElement(\n",
    "                    group,\n",
    "                    \"text\",\n",
    "                    x=str(box.left),\n",
    "                    y=str(box.baseline),\n",
    "                    style=toyplot.style.to_css(box.style),\n",
    "                ).text = box.text\n",
    "\n",
    "    if show_anchor:\n",
    "        xml.SubElement(\n",
    "            group,\n",
    "            \"circle\",\n",
    "            cx=\"0\",\n",
    "            cy=\"0\",\n",
    "            r=\"5\",\n",
    "            fill=\"white\",\n",
    "            stroke=\"seagreen\",\n",
    "        )\n",
    "        \n",
    "    if show_layout_box:\n",
    "        xml.SubElement(\n",
    "            group,\n",
    "            \"rect\",\n",
    "            x=str(layout.left),\n",
    "            y=str(layout.top),\n",
    "            width=str(layout.width),\n",
    "            height=str(layout.height),\n",
    "            fill=\"none\",\n",
    "            stroke=\"seagreen\",\n",
    "            )\n",
    "        \n",
    "    if show_extent:\n",
    "        left, right, top, bottom = toyplot.text.extent(layout, angle)\n",
    "        xml.SubElement(\n",
    "            svg,\n",
    "            \"rect\",\n",
    "            x=str(left),\n",
    "            y=str(top),\n",
    "            width=str(right - left),\n",
    "            height=str(bottom - top),\n",
    "            fill=\"none\",\n",
    "            stroke=\"purple\",\n",
    "            transform=\"translate(%s %s)\" % (size*1.5, size*1.5),\n",
    "        )\n",
    "\n",
    "    return svg\n",
    "\n",
    "IPython.display.SVG(xml.tostring(draw(layout, angle=-32)))"
   ]
  }
 ],
 "metadata": {
  "anaconda-cloud": {},
  "kernelspec": {
   "display_name": "Python [default]",
   "language": "python",
   "name": "python2"
  },
  "language_info": {
   "codemirror_mode": {
    "name": "ipython",
    "version": 2
   },
   "file_extension": ".py",
   "mimetype": "text/x-python",
   "name": "python",
   "nbconvert_exporter": "python",
   "pygments_lexer": "ipython2",
   "version": "2.7.13"
  }
 },
 "nbformat": 4,
 "nbformat_minor": 1
}

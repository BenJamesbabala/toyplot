{
 "cells": [
  {
   "cell_type": "code",
   "execution_count": 3,
   "metadata": {
    "collapsed": false
   },
   "outputs": [
    {
     "name": "stdout",
     "output_type": "stream",
     "text": [
      "[-24.] [ 24.] [-6.] [ 6.]\n"
     ]
    }
   ],
   "source": [
    "import numpy\n",
    "import toyplot.text\n",
    "\n",
    "text = \"text\"\n",
    "style = {\n",
    "    \"font-size\":\"12px\",\n",
    "    \"-toyplot-anchor-shift\":\"0\",\n",
    "    \"text-anchor\":\"middle\",\n",
    "    \"alignment-baseline\":\"middle\",\n",
    "    \"baseline-shift\":\"0%\",\n",
    "}\n",
    "\n",
    "left, right, top, bottom = toyplot.text.extents(text, style)\n",
    "print left, right, top, bottom"
   ]
  },
  {
   "cell_type": "code",
   "execution_count": null,
   "metadata": {
    "collapsed": true
   },
   "outputs": [],
   "source": []
  }
 ],
 "metadata": {
  "kernelspec": {
   "display_name": "Python 2",
   "language": "python",
   "name": "python2"
  },
  "language_info": {
   "codemirror_mode": {
    "name": "ipython",
    "version": 2
   },
   "file_extension": ".py",
   "mimetype": "text/x-python",
   "name": "python",
   "nbconvert_exporter": "python",
   "pygments_lexer": "ipython2",
   "version": "2.7.9"
  }
 },
 "nbformat": 4,
 "nbformat_minor": 0
}

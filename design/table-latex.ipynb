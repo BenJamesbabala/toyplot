{
 "metadata": {
  "name": "",
  "signature": "sha256:08736eabfea291914e887fcfd53b9b958c80b6a6d7b428b03de61aaed111447a"
 },
 "nbformat": 3,
 "nbformat_minor": 0,
 "worksheets": [
  {
   "cells": [
    {
     "cell_type": "code",
     "collapsed": false,
     "input": [
      "import numpy\n",
      "import toyplot.data\n",
      "import toyplot.latex"
     ],
     "language": "python",
     "metadata": {},
     "outputs": [],
     "prompt_number": 1
    },
    {
     "cell_type": "code",
     "collapsed": false,
     "input": [
      "table = toyplot.data.Table()\n",
      "table[\"foo\"] = numpy.arange(10)\n",
      "table[\"bar\"] = numpy.random.random(10)\n",
      "table"
     ],
     "language": "python",
     "metadata": {},
     "outputs": [
      {
       "html": [
        "<table style=\"border-collapse:collapse; border:none; color: #292724\"><tr style=\"border:none;border-bottom:1px solid #292724\"><th style=\"text-align:center;border:none\">foo</th><th style=\"text-align:center;border:none\">bar</th></tr><tr style=\"border:none\"><td style=\"border:none\">0</td><td style=\"border:none\">0.802589597834</td></tr><tr style=\"border:none\"><td style=\"border:none\">1</td><td style=\"border:none\">0.0273852946132</td></tr><tr style=\"border:none\"><td style=\"border:none\">2</td><td style=\"border:none\">0.652818016665</td></tr><tr style=\"border:none\"><td style=\"border:none\">3</td><td style=\"border:none\">0.110846451222</td></tr><tr style=\"border:none\"><td style=\"border:none\">4</td><td style=\"border:none\">0.203306451424</td></tr><tr style=\"border:none\"><td style=\"border:none\">5</td><td style=\"border:none\">0.0655968515346</td></tr><tr style=\"border:none\"><td style=\"border:none\">6</td><td style=\"border:none\">0.289034016263</td></tr><tr style=\"border:none\"><td style=\"border:none\">7</td><td style=\"border:none\">0.724791388718</td></tr><tr style=\"border:none\"><td style=\"border:none\">8</td><td style=\"border:none\">0.883642454457</td></tr><tr style=\"border:none\"><td style=\"border:none\">9</td><td style=\"border:none\">0.758782255468</td></tr></table>"
       ],
       "metadata": {},
       "output_type": "pyout",
       "prompt_number": 2,
       "text": [
        "<toyplot.data.Table at 0x106290610>"
       ]
      }
     ],
     "prompt_number": 2
    },
    {
     "cell_type": "code",
     "collapsed": false,
     "input": [
      "print toyplot.latex.render(table)"
     ],
     "language": "python",
     "metadata": {},
     "outputs": [
      {
       "output_type": "stream",
       "stream": "stdout",
       "text": [
        "\\begin{tabular}{l l}\n",
        "foo & bar \\\\\n",
        "\\hline\n",
        "0 & 0.803 \\\\\n",
        "1 & 0.0274 \\\\\n",
        "2 & 0.653 \\\\\n",
        "3 & 0.111 \\\\\n",
        "4 & 0.203 \\\\\n",
        "5 & 0.0656 \\\\\n",
        "6 & 0.289 \\\\\n",
        "7 & 0.725 \\\\\n",
        "8 & 0.884 \\\\\n",
        "9 & 0.759 \\\\\n",
        "\\end{tabular}\n",
        "\n"
       ]
      }
     ],
     "prompt_number": 5
    },
    {
     "cell_type": "code",
     "collapsed": false,
     "input": [],
     "language": "python",
     "metadata": {},
     "outputs": []
    }
   ],
   "metadata": {}
  }
 ]
}
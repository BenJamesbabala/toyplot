{
 "metadata": {
  "name": "",
  "signature": "sha256:ea8aa4da5a2afb3e1b275301270fb6c26004c31addc98c5bf1696d0fcf8649c7"
 },
 "nbformat": 3,
 "nbformat_minor": 0,
 "worksheets": [
  {
   "cells": [
    {
     "cell_type": "code",
     "collapsed": false,
     "input": [
      "import numpy\n",
      "import toyplot.data\n",
      "import toyplot.latex"
     ],
     "language": "python",
     "metadata": {},
     "outputs": [],
     "prompt_number": 1
    },
    {
     "cell_type": "code",
     "collapsed": false,
     "input": [
      "table = toyplot.data.Table()\n",
      "table[\"foo\"] = numpy.arange(10)\n",
      "table[\"bar\"] = numpy.random.random(10)\n",
      "table"
     ],
     "language": "python",
     "metadata": {},
     "outputs": [
      {
       "html": [
        "<table style=\"border-collapse:collapse; border:none; color: #292724\"><tr style=\"border:none;border-bottom:1px solid #292724\"><th style=\"text-align:center;border:none\">foo</th><th style=\"text-align:center;border:none\">bar</th></tr><tr style=\"border:none\"><td style=\"border:none\">0</td><td style=\"border:none\">0.11705763549</td></tr><tr style=\"border:none\"><td style=\"border:none\">1</td><td style=\"border:none\">0.612580807885</td></tr><tr style=\"border:none\"><td style=\"border:none\">2</td><td style=\"border:none\">0.290372418923</td></tr><tr style=\"border:none\"><td style=\"border:none\">3</td><td style=\"border:none\">0.768553269118</td></tr><tr style=\"border:none\"><td style=\"border:none\">4</td><td style=\"border:none\">0.933960371565</td></tr><tr style=\"border:none\"><td style=\"border:none\">5</td><td style=\"border:none\">0.270217644788</td></tr><tr style=\"border:none\"><td style=\"border:none\">6</td><td style=\"border:none\">0.469570486359</td></tr><tr style=\"border:none\"><td style=\"border:none\">7</td><td style=\"border:none\">0.676171165247</td></tr><tr style=\"border:none\"><td style=\"border:none\">8</td><td style=\"border:none\">0.856277859086</td></tr><tr style=\"border:none\"><td style=\"border:none\">9</td><td style=\"border:none\">0.0095417181182</td></tr></table>"
       ],
       "metadata": {},
       "output_type": "pyout",
       "prompt_number": 2,
       "text": [
        "<toyplot.data.Table at 0x10eecf550>"
       ]
      }
     ],
     "prompt_number": 2
    },
    {
     "cell_type": "code",
     "collapsed": false,
     "input": [
      "print toyplot.latex.render(table)"
     ],
     "language": "python",
     "metadata": {},
     "outputs": [
      {
       "output_type": "stream",
       "stream": "stdout",
       "text": [
        "\\begin{tabular}{l l}\n",
        "foo & bar \\\\\n",
        "\\hline\n",
        "0 & 0.117 \\\\\n",
        "1 & 0.613 \\\\\n",
        "2 & 0.29 \\\\\n",
        "3 & 0.769 \\\\\n",
        "4 & 0.934 \\\\\n",
        "5 & 0.27 \\\\\n",
        "6 & 0.47 \\\\\n",
        "7 & 0.676 \\\\\n",
        "8 & 0.856 \\\\\n",
        "9 & 0.00954 \\\\\n",
        "\\end{tabular}\n",
        "\n"
       ]
      }
     ],
     "prompt_number": 3
    },
    {
     "cell_type": "code",
     "collapsed": false,
     "input": [],
     "language": "python",
     "metadata": {},
     "outputs": [],
     "prompt_number": 3
    }
   ],
   "metadata": {}
  }
 ]
}
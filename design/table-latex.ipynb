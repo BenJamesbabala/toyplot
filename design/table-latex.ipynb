{
 "metadata": {
  "name": "",
  "signature": "sha256:5ddf201a203f571d4cd8a8641ed43924afd352d37be0f6fb9b9e1095d61c0785"
 },
 "nbformat": 3,
 "nbformat_minor": 0,
 "worksheets": [
  {
   "cells": [
    {
     "cell_type": "code",
     "collapsed": false,
     "input": [
      "import numpy\n",
      "import toyplot.data\n",
      "import toyplot.latex"
     ],
     "language": "python",
     "metadata": {},
     "outputs": [],
     "prompt_number": 1
    },
    {
     "cell_type": "code",
     "collapsed": false,
     "input": [
      "table = toyplot.data.Table()\n",
      "table[\"foo\"] = numpy.arange(10)\n",
      "table[\"bar\"] = numpy.random.random(10)\n",
      "table"
     ],
     "language": "python",
     "metadata": {},
     "outputs": [
      {
       "html": [
        "<table style=\"border-collapse:collapse; border:none; color: #292724\"><tr style=\"border:none;border-bottom:1px solid #292724\"><th style=\"text-align:center;border:none\">foo</th><th style=\"text-align:center;border:none\">bar</th></tr><tr style=\"border:none\"><td style=\"border:none\">0</td><td style=\"border:none\">0.145514458773</td></tr><tr style=\"border:none\"><td style=\"border:none\">1</td><td style=\"border:none\">0.179543844484</td></tr><tr style=\"border:none\"><td style=\"border:none\">2</td><td style=\"border:none\">0.0430433122214</td></tr><tr style=\"border:none\"><td style=\"border:none\">3</td><td style=\"border:none\">0.00162950258567</td></tr><tr style=\"border:none\"><td style=\"border:none\">4</td><td style=\"border:none\">0.607346905559</td></tr><tr style=\"border:none\"><td style=\"border:none\">5</td><td style=\"border:none\">0.402266106805</td></tr><tr style=\"border:none\"><td style=\"border:none\">6</td><td style=\"border:none\">0.813945061175</td></tr><tr style=\"border:none\"><td style=\"border:none\">7</td><td style=\"border:none\">0.631542117225</td></tr><tr style=\"border:none\"><td style=\"border:none\">8</td><td style=\"border:none\">0.384560733343</td></tr><tr style=\"border:none\"><td style=\"border:none\">9</td><td style=\"border:none\">0.887277180405</td></tr></table>"
       ],
       "metadata": {},
       "output_type": "pyout",
       "prompt_number": 2,
       "text": [
        "<toyplot.data.Table at 0x10894a790>"
       ]
      }
     ],
     "prompt_number": 2
    },
    {
     "cell_type": "code",
     "collapsed": false,
     "input": [
      "print toyplot.latex.render(table)"
     ],
     "language": "python",
     "metadata": {},
     "outputs": [
      {
       "output_type": "stream",
       "stream": "stdout",
       "text": [
        "\\begin{tabular}{l l}\n",
        "foo & bar \\\\\n",
        "\\hline\n",
        "0 & 0.146 \\\\\n",
        "1 & 0.18 \\\\\n",
        "2 & 0.043 \\\\\n",
        "3 & 0.00163 \\\\\n",
        "4 & 0.607 \\\\\n",
        "5 & 0.402 \\\\\n",
        "6 & 0.814 \\\\\n",
        "7 & 0.632 \\\\\n",
        "8 & 0.385 \\\\\n",
        "9 & 0.887 \\\\\n",
        "\\end{tabular}\n",
        "\n"
       ]
      }
     ],
     "prompt_number": 3
    },
    {
     "cell_type": "code",
     "collapsed": false,
     "input": [],
     "language": "python",
     "metadata": {},
     "outputs": [],
     "prompt_number": 3
    }
   ],
   "metadata": {}
  }
 ]
}
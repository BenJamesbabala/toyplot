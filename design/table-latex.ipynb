{
 "metadata": {
  "name": "",
  "signature": "sha256:3db692a24024472bca916d2793ab110a400730bcda3a6619c373f5b13008a3de"
 },
 "nbformat": 3,
 "nbformat_minor": 0,
 "worksheets": [
  {
   "cells": [
    {
     "cell_type": "code",
     "collapsed": false,
     "input": [
      "import numpy\n",
      "import toyplot.data\n",
      "import toyplot.latex"
     ],
     "language": "python",
     "metadata": {},
     "outputs": [],
     "prompt_number": 1
    },
    {
     "cell_type": "code",
     "collapsed": false,
     "input": [
      "table = toyplot.data.Table()\n",
      "table[\"foo\"] = numpy.arange(10)\n",
      "table[\"bar\"] = numpy.random.random(10)\n",
      "table"
     ],
     "language": "python",
     "metadata": {},
     "outputs": [
      {
       "html": [
        "<table style=\"border-collapse:collapse; border:none; color: #292724\"><tr style=\"border:none;border-bottom:1px solid #292724\"><th style=\"text-align:center;border:none\">foo</th><th style=\"text-align:center;border:none\">bar</th></tr><tr style=\"border:none\"><td style=\"border:none\">0</td><td style=\"border:none\">0.661317748756</td></tr><tr style=\"border:none\"><td style=\"border:none\">1</td><td style=\"border:none\">0.760547823416</td></tr><tr style=\"border:none\"><td style=\"border:none\">2</td><td style=\"border:none\">0.0353585468785</td></tr><tr style=\"border:none\"><td style=\"border:none\">3</td><td style=\"border:none\">0.70256152832</td></tr><tr style=\"border:none\"><td style=\"border:none\">4</td><td style=\"border:none\">0.798829977239</td></tr><tr style=\"border:none\"><td style=\"border:none\">5</td><td style=\"border:none\">0.204840679479</td></tr><tr style=\"border:none\"><td style=\"border:none\">6</td><td style=\"border:none\">0.955116835896</td></tr><tr style=\"border:none\"><td style=\"border:none\">7</td><td style=\"border:none\">0.396054924224</td></tr><tr style=\"border:none\"><td style=\"border:none\">8</td><td style=\"border:none\">0.293402483355</td></tr><tr style=\"border:none\"><td style=\"border:none\">9</td><td style=\"border:none\">0.901596675063</td></tr></table>"
       ],
       "metadata": {},
       "output_type": "pyout",
       "prompt_number": 2,
       "text": [
        "<toyplot.data.Table at 0x1052bb5d0>"
       ]
      }
     ],
     "prompt_number": 2
    },
    {
     "cell_type": "code",
     "collapsed": false,
     "input": [
      "print toyplot.latex.render(table, \"table.tex\")"
     ],
     "language": "python",
     "metadata": {},
     "outputs": [
      {
       "output_type": "stream",
       "stream": "stdout",
       "text": [
        "None\n"
       ]
      }
     ],
     "prompt_number": 3
    },
    {
     "cell_type": "code",
     "collapsed": false,
     "input": [],
     "language": "python",
     "metadata": {},
     "outputs": [],
     "prompt_number": 3
    }
   ],
   "metadata": {}
  }
 ]
}
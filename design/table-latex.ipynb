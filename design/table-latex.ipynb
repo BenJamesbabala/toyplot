{
 "metadata": {
  "name": "",
  "signature": "sha256:a41af647a3ad96466f00f08da2fee394f898fd05706a75ba5a057eb4637721cb"
 },
 "nbformat": 3,
 "nbformat_minor": 0,
 "worksheets": [
  {
   "cells": [
    {
     "cell_type": "code",
     "collapsed": false,
     "input": [
      "import numpy\n",
      "import toyplot.data\n",
      "import toyplot.latex"
     ],
     "language": "python",
     "metadata": {},
     "outputs": [],
     "prompt_number": 1
    },
    {
     "cell_type": "code",
     "collapsed": false,
     "input": [
      "numpy.random.seed(1234)\n",
      "table = toyplot.data.Table()\n",
      "table[\"foo\"] = numpy.arange(10)\n",
      "table[\"bar\"] = numpy.random.random(10)\n",
      "table[\"baz\"] = numpy.random.choice([\"red\", \"green\", \"blue\"], size=10)\n",
      "table"
     ],
     "language": "python",
     "metadata": {},
     "outputs": [
      {
       "html": [
        "<table style=\"border-collapse:collapse; border:none; color: #292724\"><tr style=\"border:none;border-bottom:1px solid #292724\"><th style=\"text-align:left;border:none\">foo</th><th style=\"text-align:left;border:none\">bar</th><th style=\"text-align:left;border:none\">baz</th></tr><tr style=\"border:none\"><td style=\"border:none\">0</td><td style=\"border:none\">0.191519450379</td><td style=\"border:none\">blue</td></tr><tr style=\"border:none\"><td style=\"border:none\">1</td><td style=\"border:none\">0.62210877104</td><td style=\"border:none\">red</td></tr><tr style=\"border:none\"><td style=\"border:none\">2</td><td style=\"border:none\">0.437727739007</td><td style=\"border:none\">red</td></tr><tr style=\"border:none\"><td style=\"border:none\">3</td><td style=\"border:none\">0.785358583714</td><td style=\"border:none\">red</td></tr><tr style=\"border:none\"><td style=\"border:none\">4</td><td style=\"border:none\">0.779975808119</td><td style=\"border:none\">green</td></tr><tr style=\"border:none\"><td style=\"border:none\">5</td><td style=\"border:none\">0.272592605283</td><td style=\"border:none\">red</td></tr><tr style=\"border:none\"><td style=\"border:none\">6</td><td style=\"border:none\">0.276464255143</td><td style=\"border:none\">green</td></tr><tr style=\"border:none\"><td style=\"border:none\">7</td><td style=\"border:none\">0.801872177535</td><td style=\"border:none\">blue</td></tr><tr style=\"border:none\"><td style=\"border:none\">8</td><td style=\"border:none\">0.958139353684</td><td style=\"border:none\">blue</td></tr><tr style=\"border:none\"><td style=\"border:none\">9</td><td style=\"border:none\">0.875932634742</td><td style=\"border:none\">blue</td></tr></table>"
       ],
       "metadata": {},
       "output_type": "pyout",
       "prompt_number": 2,
       "text": [
        "<toyplot.data.Table at 0x10dd34bd0>"
       ]
      }
     ],
     "prompt_number": 2
    },
    {
     "cell_type": "code",
     "collapsed": false,
     "input": [
      "print toyplot.latex.render(table)"
     ],
     "language": "python",
     "metadata": {},
     "outputs": [
      {
       "output_type": "stream",
       "stream": "stdout",
       "text": [
        "\\begin{tabular}{l l l}\n",
        "foo & bar & baz \\\\\n",
        "\\hline\n",
        "0 & 0.192 & blue \\\\\n",
        "1 & 0.622 & red \\\\\n",
        "2 & 0.438 & red \\\\\n",
        "3 & 0.785 & red \\\\\n",
        "4 & 0.78 & green \\\\\n",
        "5 & 0.273 & red \\\\\n",
        "6 & 0.276 & green \\\\\n",
        "7 & 0.802 & blue \\\\\n",
        "8 & 0.958 & blue \\\\\n",
        "9 & 0.876 & blue \\\\\n",
        "\\end{tabular}\n",
        "\n"
       ]
      }
     ],
     "prompt_number": 3
    },
    {
     "cell_type": "code",
     "collapsed": false,
     "input": [
      "print table._repr_html_()"
     ],
     "language": "python",
     "metadata": {},
     "outputs": [
      {
       "output_type": "stream",
       "stream": "stdout",
       "text": [
        "<table style=\"border-collapse:collapse; border:none; color: #292724\"><tr style=\"border:none;border-bottom:1px solid #292724\"><th style=\"text-align:left;border:none\">foo</th><th style=\"text-align:left;border:none\">bar</th><th style=\"text-align:left;border:none\">baz</th></tr><tr style=\"border:none\"><td style=\"border:none\">0</td><td style=\"border:none\">0.191519450379</td><td style=\"border:none\">blue</td></tr><tr style=\"border:none\"><td style=\"border:none\">1</td><td style=\"border:none\">0.62210877104</td><td style=\"border:none\">red</td></tr><tr style=\"border:none\"><td style=\"border:none\">2</td><td style=\"border:none\">0.437727739007</td><td style=\"border:none\">red</td></tr><tr style=\"border:none\"><td style=\"border:none\">3</td><td style=\"border:none\">0.785358583714</td><td style=\"border:none\">red</td></tr><tr style=\"border:none\"><td style=\"border:none\">4</td><td style=\"border:none\">0.779975808119</td><td style=\"border:none\">green</td></tr><tr style=\"border:none\"><td style=\"border:none\">5</td><td style=\"border:none\">0.272592605283</td><td style=\"border:none\">red</td></tr><tr style=\"border:none\"><td style=\"border:none\">6</td><td style=\"border:none\">0.276464255143</td><td style=\"border:none\">green</td></tr><tr style=\"border:none\"><td style=\"border:none\">7</td><td style=\"border:none\">0.801872177535</td><td style=\"border:none\">blue</td></tr><tr style=\"border:none\"><td style=\"border:none\">8</td><td style=\"border:none\">0.958139353684</td><td style=\"border:none\">blue</td></tr><tr style=\"border:none\"><td style=\"border:none\">9</td><td style=\"border:none\">0.875932634742</td><td style=\"border:none\">blue</td></tr></table>\n"
       ]
      }
     ],
     "prompt_number": 4
    },
    {
     "cell_type": "code",
     "collapsed": false,
     "input": [],
     "language": "python",
     "metadata": {},
     "outputs": [],
     "prompt_number": 4
    }
   ],
   "metadata": {}
  }
 ]
}
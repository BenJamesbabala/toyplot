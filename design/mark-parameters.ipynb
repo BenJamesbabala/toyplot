{
 "cells": [
  {
   "cell_type": "markdown",
   "metadata": {},
   "source": [
    "##Mark Parameters\n",
    "\n",
    "* &#x2713; bars -> color, opacity, title\n",
    "* &#x2713; fill -> color, opacity, title\n",
    "* graph -> vcolor, ecolor\n",
    "    * TODO: vopacity, vtitle, vfill, vstroke, vlfill, vlstroke, etitle, eopacity, elfill, elstroke\n",
    "* &#x2713; hlines -> color, opacity, title\n",
    "* &#x2713; plot -> color, stroke_width, opacity, title, mfill, mtitle\n",
    "    * TODO: mopacity, mstroke, mlfill, mlstroke\n",
    "* &#x2713; rects -> color, opacity, title\n",
    "    * TODO: stroke\n",
    "* &#x2713; scatterplot -> color, opacity, title\n",
    "    * TODO: mstroke, mlfill, mlstroke\n",
    "* &#x2713; text -> color, opacity, title\n",
    "    * TODO: stroke\n",
    "* &#x2713; vlines -> color, opacity, title"
   ]
  },
  {
   "cell_type": "code",
   "execution_count": null,
   "metadata": {
    "collapsed": true
   },
   "outputs": [],
   "source": []
  }
 ],
 "metadata": {
  "kernelspec": {
   "display_name": "Python 2",
   "language": "python",
   "name": "python2"
  },
  "language_info": {
   "codemirror_mode": {
    "name": "ipython",
    "version": 2
   },
   "file_extension": ".py",
   "mimetype": "text/x-python",
   "name": "python",
   "nbconvert_exporter": "python",
   "pygments_lexer": "ipython2",
   "version": "2.7.10"
  }
 },
 "nbformat": 4,
 "nbformat_minor": 0
}

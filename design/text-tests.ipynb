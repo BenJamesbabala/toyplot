{
 "cells": [
  {
   "cell_type": "markdown",
   "metadata": {},
   "source": [
    ".. _text:\n",
    "\n",
    "# Text"
   ]
  },
  {
   "cell_type": "markdown",
   "metadata": {},
   "source": [
    "## Alignment\n",
    "\n",
    "By default, text in Toyplot is centered vertically and horizontally around its *anchor*.  To illustrate this, the following figures display the anchor as a small black dot:"
   ]
  },
  {
   "cell_type": "code",
   "execution_count": 1,
   "metadata": {
    "collapsed": false
   },
   "outputs": [
    {
     "name": "stderr",
     "output_type": "stream",
     "text": [
      "DEBUG:toyplot:{'attrib': {'style': {'font-size': '24.0px'}, 'dy': 0}, 'tag': 'root', 'type': 'start'}\n",
      "DEBUG:toyplot:{'text': 'Text!', 'type': 'text'}\n",
      "DEBUG:toyplot:{'tag': 'root', 'type': 'end'}\n"
     ]
    },
    {
     "data": {
      "text/html": [
       "<div align=\"center\" class=\"toyplot\" id=\"t6bda3e1d55794308a602139e8935eacb\"><svg class=\"toyplot-canvas-Canvas\" height=\"150.0px\" id=\"t34183b2b0f0642ada143bcf7aff53de6\" preserveAspectRatio=\"xMidYMid meet\" style=\"background-color:transparent;fill:rgb(16.1%,15.3%,14.1%);fill-opacity:1.0;font-family:Helvetica;font-size:12px;opacity:1.0;stroke:rgb(16.1%,15.3%,14.1%);stroke-opacity:1.0;stroke-width:1.0\" viewBox=\"0 0 500.0 150.0\" width=\"500.0px\" xmlns=\"http://www.w3.org/2000/svg\" xmlns:toyplot=\"http://www.sandia.gov/toyplot\" xmlns:xlink=\"http://www.w3.org/1999/xlink\"><g class=\"toyplot-coordinates-Cartesian\" id=\"t2969c48ce6c64315897b85cc7f9aab56\"><clipPath id=\"t2c7e8a33182a4d34b6537ba0c461162f\"><rect height=\"70.0\" width=\"420.0\" x=\"40.0\" y=\"40.0\"></rect></clipPath><g clip-path=\"url(#t2c7e8a33182a4d34b6537ba0c461162f)\"><g class=\"toyplot-mark-Text\" id=\"t56ad231fe0f74b6d8d00f11f2cecf7b7\" style=\"alignment-baseline:middle;font-size:24px;font-weight:normal;stroke:none;text-anchor:middle\"><g class=\"toyplot-Series\"><text class=\"toyplot-Datum\" style=\"fill:rgb(40%,76.1%,64.7%);fill-opacity:1.0;font-size:24px;font-weight:normal;opacity:1.0;stroke:none;text-anchor:middle\" transform=\"translate(250.0,75.0)translate(0,6.75)\"><tspan style=\"font-size:24.0px\">Text!</tspan></text></g></g><g class=\"toyplot-mark-Scatterplot\" id=\"te05c2025174e40948d797359b83bb1e6\" style=\"\"><g class=\"toyplot-Series\"><g class=\"toyplot-Datum\" style=\"fill:rgb(0%,0%,0%);fill-opacity:1.0;opacity:1.0;stroke:rgb(0%,0%,0%);stroke-opacity:1.0\"><circle cx=\"250.0\" cy=\"75.0\" r=\"1.5\"></circle></g></g></g></g></g></svg><div class=\"toyplot-interactive\"><ul class=\"toyplot-mark-popup\" onmouseleave=\"this.style.visibility='hidden'\" style=\"background:rgba(0%,0%,0%,0.75);border:0;border-radius:6px;color:white;cursor:default;list-style:none;margin:0;padding:5px;position:fixed;visibility:hidden\">\n",
       "            <li class=\"toyplot-mark-popup-title\" style=\"color:lightgray;cursor:default;padding:5px;list-style:none;margin:0\"></li>\n",
       "            <li class=\"toyplot-mark-popup-save-csv\" onmouseout=\"this.style.color='white';this.style.background='steelblue'\" onmouseover=\"this.style.color='steelblue';this.style.background='white'\" style=\"border-radius:3px;padding:5px;list-style:none;margin:0\">\n",
       "                Save as .csv\n",
       "            </li>\n",
       "        </ul><script>\n",
       "        (function()\n",
       "        {\n",
       "          var data_tables = [{\"title\": \"Scatterplot Data\", \"names\": [\"x\", \"y0\"], \"id\": \"te05c2025174e40948d797359b83bb1e6\", \"columns\": [[0.0], [0.0]], \"filename\": \"toyplot\"}];\n",
       "\n",
       "          function save_csv(data_table)\n",
       "          {\n",
       "            var uri = \"data:text/csv;charset=utf-8,\";\n",
       "            uri += data_table.names.join(\",\") + \"\\n\";\n",
       "            for(var i = 0; i != data_table.columns[0].length; ++i)\n",
       "            {\n",
       "              for(var j = 0; j != data_table.columns.length; ++j)\n",
       "              {\n",
       "                if(j)\n",
       "                  uri += \",\";\n",
       "                uri += data_table.columns[j][i];\n",
       "              }\n",
       "              uri += \"\\n\";\n",
       "            }\n",
       "            uri = encodeURI(uri);\n",
       "\n",
       "            var link = document.createElement(\"a\");\n",
       "            if(typeof link.download != \"undefined\")\n",
       "            {\n",
       "              link.href = uri;\n",
       "              link.style = \"visibility:hidden\";\n",
       "              link.download = data_table.filename + \".csv\";\n",
       "\n",
       "              document.body.appendChild(link);\n",
       "              link.click();\n",
       "              document.body.removeChild(link);\n",
       "            }\n",
       "            else\n",
       "            {\n",
       "              window.open(uri);\n",
       "            }\n",
       "          }\n",
       "\n",
       "          function open_popup(data_table)\n",
       "          {\n",
       "            return function(e)\n",
       "            {\n",
       "              var popup = document.querySelector(\"#t6bda3e1d55794308a602139e8935eacb .toyplot-mark-popup\");\n",
       "              popup.querySelector(\".toyplot-mark-popup-title\").innerHTML = data_table.title;\n",
       "              popup.querySelector(\".toyplot-mark-popup-save-csv\").onclick = function() { popup.style.visibility = \"hidden\"; save_csv(data_table); }\n",
       "              popup.style.left = (e.clientX - 50) + \"px\";\n",
       "              popup.style.top = (e.clientY - 20) + \"px\";\n",
       "              popup.style.visibility = \"visible\";\n",
       "              e.stopPropagation();\n",
       "              e.preventDefault();\n",
       "            }\n",
       "\n",
       "          }\n",
       "\n",
       "          for(var i = 0; i != data_tables.length; ++i)\n",
       "          {\n",
       "            var data_table = data_tables[i];\n",
       "            var event_target = document.querySelector(\"#\" + data_table.id);\n",
       "            event_target.oncontextmenu = open_popup(data_table);\n",
       "          }\n",
       "        })();\n",
       "        </script></div></div>"
      ]
     },
     "metadata": {},
     "output_type": "display_data"
    }
   ],
   "source": [
    "import toyplot\n",
    "import logging\n",
    "toyplot.log.setLevel(logging.DEBUG)\n",
    "\n",
    "canvas = toyplot.Canvas(width=500, height=150)\n",
    "axes = canvas.cartesian(show=False)\n",
    "axes.text(0, 0, \"Text!\", style={\"font-size\":\"24px\"})\n",
    "axes.scatterplot(0, 0, color=\"black\", size=3);"
   ]
  },
  {
   "cell_type": "markdown",
   "metadata": {},
   "source": [
    "To control horizontal alignment, use the CSS `text-anchor` attribute to change the position of the text along its baseline, relative to the anchor:"
   ]
  },
  {
   "cell_type": "code",
   "execution_count": 2,
   "metadata": {
    "collapsed": false
   },
   "outputs": [
    {
     "name": "stderr",
     "output_type": "stream",
     "text": [
      "DEBUG:toyplot:{'attrib': {'style': {'font-size': '24.0px'}, 'dy': 0}, 'tag': 'root', 'type': 'start'}\n",
      "DEBUG:toyplot:{'text': 'Centered', 'type': 'text'}\n",
      "DEBUG:toyplot:{'tag': 'root', 'type': 'end'}\n",
      "DEBUG:toyplot:{'attrib': {'style': {'font-size': '24.0px'}, 'dy': 0}, 'tag': 'root', 'type': 'start'}\n",
      "DEBUG:toyplot:{'text': 'Left Justified', 'type': 'text'}\n",
      "DEBUG:toyplot:{'tag': 'root', 'type': 'end'}\n",
      "DEBUG:toyplot:{'attrib': {'style': {'font-size': '24.0px'}, 'dy': 0}, 'tag': 'root', 'type': 'start'}\n",
      "DEBUG:toyplot:{'text': 'Right Justified', 'type': 'text'}\n",
      "DEBUG:toyplot:{'tag': 'root', 'type': 'end'}\n"
     ]
    },
    {
     "data": {
      "text/html": [
       "<div align=\"center\" class=\"toyplot\" id=\"t84a3705e68a6412bbe7a252bc62ceac3\"><svg class=\"toyplot-canvas-Canvas\" height=\"300.0px\" id=\"t8fbb1ea4fb8746f0a3ce477b13358ebd\" preserveAspectRatio=\"xMidYMid meet\" style=\"background-color:transparent;fill:rgb(16.1%,15.3%,14.1%);fill-opacity:1.0;font-family:Helvetica;font-size:12px;opacity:1.0;stroke:rgb(16.1%,15.3%,14.1%);stroke-opacity:1.0;stroke-width:1.0\" viewBox=\"0 0 500.0 300.0\" width=\"500.0px\" xmlns=\"http://www.w3.org/2000/svg\" xmlns:toyplot=\"http://www.sandia.gov/toyplot\" xmlns:xlink=\"http://www.w3.org/1999/xlink\"><g class=\"toyplot-coordinates-Cartesian\" id=\"t24e7eafb53f443a99b0536aa5a7eb124\"><clipPath id=\"tb76431cf67284eaeb36a03c6e1353aad\"><rect height=\"220.0\" width=\"420.0\" x=\"40.0\" y=\"40.0\"></rect></clipPath><g clip-path=\"url(#tb76431cf67284eaeb36a03c6e1353aad)\"><g class=\"toyplot-mark-AxisLines\" id=\"tef48673b662740f5b0f48c73d3fed82a\" style=\"\"><g class=\"toyplot-Series\"><line class=\"toyplot-Datum\" style=\"opacity:1.0;stroke:rgb(82.7%,82.7%,82.7%);stroke-opacity:1.0\" x1=\"256.89655172413791\" x2=\"256.89655172413791\" y1=\"50.0\" y2=\"250.0\"></line></g></g><g class=\"toyplot-mark-Text\" id=\"t42d3fac06fd54b21a1a84c86cbeea07b\" style=\"alignment-baseline:middle;font-size:24px;font-weight:normal;stroke:none;text-anchor:middle\"><g class=\"toyplot-Series\"><text class=\"toyplot-Datum\" style=\"fill:rgb(40%,76.1%,64.7%);fill-opacity:1.0;font-size:24px;font-weight:normal;opacity:1.0;stroke:none;text-anchor:middle\" transform=\"translate(256.89655172413791,83.333333333333329)translate(0,6.75)\"><tspan style=\"font-size:24.0px\">Centered</tspan></text></g></g><g class=\"toyplot-mark-Scatterplot\" id=\"t49d6249fcc4f41b68129468b52d0d99a\" style=\"\"><g class=\"toyplot-Series\"><g class=\"toyplot-Datum\" style=\"fill:rgb(0%,0%,0%);fill-opacity:1.0;opacity:1.0;stroke:rgb(0%,0%,0%);stroke-opacity:1.0\"><circle cx=\"256.89655172413791\" cy=\"83.333333333333329\" r=\"1.5\"></circle></g></g></g><g class=\"toyplot-mark-Text\" id=\"td17ebded69fc497596ae80a1e6f1241e\" style=\"alignment-baseline:middle;font-size:24px;font-weight:normal;stroke:none;text-anchor:start\"><g class=\"toyplot-Series\"><text class=\"toyplot-Datum\" style=\"fill:rgb(98.8%,55.3%,38.4%);fill-opacity:1.0;font-size:24px;font-weight:normal;opacity:1.0;stroke:none;text-anchor:start\" transform=\"translate(256.89655172413791,150.0)translate(0,6.75)\"><tspan style=\"font-size:24.0px\">Left Justified</tspan></text></g></g><g class=\"toyplot-mark-Scatterplot\" id=\"td8a49bb573ee4311bc3ca086e0fc18be\" style=\"\"><g class=\"toyplot-Series\"><g class=\"toyplot-Datum\" style=\"fill:rgb(0%,0%,0%);fill-opacity:1.0;opacity:1.0;stroke:rgb(0%,0%,0%);stroke-opacity:1.0\"><circle cx=\"256.89655172413791\" cy=\"150.0\" r=\"1.5\"></circle></g></g></g><g class=\"toyplot-mark-Text\" id=\"ta6507fd9151e4970abadc803d8279228\" style=\"alignment-baseline:middle;font-size:24px;font-weight:normal;stroke:none;text-anchor:end\"><g class=\"toyplot-Series\"><text class=\"toyplot-Datum\" style=\"fill:rgb(55.3%,62.7%,79.6%);fill-opacity:1.0;font-size:24px;font-weight:normal;opacity:1.0;stroke:none;text-anchor:end\" transform=\"translate(256.89655172413791,216.66666666666669)translate(0,6.75)\"><tspan style=\"font-size:24.0px\">Right Justified</tspan></text></g></g><g class=\"toyplot-mark-Scatterplot\" id=\"t13c01bd3cc1a4956b2036de2a5ffab70\" style=\"\"><g class=\"toyplot-Series\"><g class=\"toyplot-Datum\" style=\"fill:rgb(0%,0%,0%);fill-opacity:1.0;opacity:1.0;stroke:rgb(0%,0%,0%);stroke-opacity:1.0\"><circle cx=\"256.89655172413791\" cy=\"216.66666666666669\" r=\"1.5\"></circle></g></g></g></g></g></svg><div class=\"toyplot-interactive\"><ul class=\"toyplot-mark-popup\" onmouseleave=\"this.style.visibility='hidden'\" style=\"background:rgba(0%,0%,0%,0.75);border:0;border-radius:6px;color:white;cursor:default;list-style:none;margin:0;padding:5px;position:fixed;visibility:hidden\">\n",
       "            <li class=\"toyplot-mark-popup-title\" style=\"color:lightgray;cursor:default;padding:5px;list-style:none;margin:0\"></li>\n",
       "            <li class=\"toyplot-mark-popup-save-csv\" onmouseout=\"this.style.color='white';this.style.background='steelblue'\" onmouseover=\"this.style.color='steelblue';this.style.background='white'\" style=\"border-radius:3px;padding:5px;list-style:none;margin:0\">\n",
       "                Save as .csv\n",
       "            </li>\n",
       "        </ul><script>\n",
       "        (function()\n",
       "        {\n",
       "          var data_tables = [{\"title\": \"Scatterplot Data\", \"names\": [\"x\", \"y0\"], \"id\": \"t49d6249fcc4f41b68129468b52d0d99a\", \"columns\": [[0.0], [1.0]], \"filename\": \"toyplot\"}, {\"title\": \"Scatterplot Data\", \"names\": [\"x\", \"y0\"], \"id\": \"td8a49bb573ee4311bc3ca086e0fc18be\", \"columns\": [[0.0], [0.0]], \"filename\": \"toyplot\"}, {\"title\": \"Scatterplot Data\", \"names\": [\"x\", \"y0\"], \"id\": \"t13c01bd3cc1a4956b2036de2a5ffab70\", \"columns\": [[0.0], [-1.0]], \"filename\": \"toyplot\"}];\n",
       "\n",
       "          function save_csv(data_table)\n",
       "          {\n",
       "            var uri = \"data:text/csv;charset=utf-8,\";\n",
       "            uri += data_table.names.join(\",\") + \"\\n\";\n",
       "            for(var i = 0; i != data_table.columns[0].length; ++i)\n",
       "            {\n",
       "              for(var j = 0; j != data_table.columns.length; ++j)\n",
       "              {\n",
       "                if(j)\n",
       "                  uri += \",\";\n",
       "                uri += data_table.columns[j][i];\n",
       "              }\n",
       "              uri += \"\\n\";\n",
       "            }\n",
       "            uri = encodeURI(uri);\n",
       "\n",
       "            var link = document.createElement(\"a\");\n",
       "            if(typeof link.download != \"undefined\")\n",
       "            {\n",
       "              link.href = uri;\n",
       "              link.style = \"visibility:hidden\";\n",
       "              link.download = data_table.filename + \".csv\";\n",
       "\n",
       "              document.body.appendChild(link);\n",
       "              link.click();\n",
       "              document.body.removeChild(link);\n",
       "            }\n",
       "            else\n",
       "            {\n",
       "              window.open(uri);\n",
       "            }\n",
       "          }\n",
       "\n",
       "          function open_popup(data_table)\n",
       "          {\n",
       "            return function(e)\n",
       "            {\n",
       "              var popup = document.querySelector(\"#t84a3705e68a6412bbe7a252bc62ceac3 .toyplot-mark-popup\");\n",
       "              popup.querySelector(\".toyplot-mark-popup-title\").innerHTML = data_table.title;\n",
       "              popup.querySelector(\".toyplot-mark-popup-save-csv\").onclick = function() { popup.style.visibility = \"hidden\"; save_csv(data_table); }\n",
       "              popup.style.left = (e.clientX - 50) + \"px\";\n",
       "              popup.style.top = (e.clientY - 20) + \"px\";\n",
       "              popup.style.visibility = \"visible\";\n",
       "              e.stopPropagation();\n",
       "              e.preventDefault();\n",
       "            }\n",
       "\n",
       "          }\n",
       "\n",
       "          for(var i = 0; i != data_tables.length; ++i)\n",
       "          {\n",
       "            var data_table = data_tables[i];\n",
       "            var event_target = document.querySelector(\"#\" + data_table.id);\n",
       "            event_target.oncontextmenu = open_popup(data_table);\n",
       "          }\n",
       "        })();\n",
       "        </script></div></div>"
      ]
     },
     "metadata": {},
     "output_type": "display_data"
    }
   ],
   "source": [
    "canvas = toyplot.Canvas(width=500, height=300)\n",
    "axes = canvas.cartesian(show=False, ymin=-1.5, ymax=1.5)\n",
    "\n",
    "axes.vlines(0, color=\"lightgray\")\n",
    "\n",
    "axes.text(0, 1, \"Centered\", style={\"text-anchor\":\"middle\", \"font-size\":\"24px\"})\n",
    "axes.scatterplot(0, 1, color=\"black\", size=3)\n",
    "\n",
    "axes.text(0, 0, \"Left Justified\", style={\"text-anchor\":\"start\", \"font-size\":\"24px\"})\n",
    "axes.scatterplot(0, 0, color=\"black\", size=3)\n",
    "\n",
    "axes.text(0, -1, \"Right Justified\", style={\"text-anchor\":\"end\", \"font-size\":\"24px\"})\n",
    "axes.scatterplot(0, -1, color=\"black\", size=3);"
   ]
  },
  {
   "cell_type": "markdown",
   "metadata": {},
   "source": [
    "In addition, the text can be shifted along its baseline in arbitrary amounts, using the `-toyplot-anchor-shift` attribute (note that this is non-standard CSS, provided by Toyplot for symmetry with the standard `baseline-shift` attribute which we will explore below):"
   ]
  },
  {
   "cell_type": "code",
   "execution_count": 3,
   "metadata": {
    "collapsed": false
   },
   "outputs": [
    {
     "name": "stderr",
     "output_type": "stream",
     "text": [
      "DEBUG:toyplot:{'attrib': {'style': {'font-size': '24.0px'}, 'dy': 0}, 'tag': 'root', 'type': 'start'}\n",
      "DEBUG:toyplot:{'text': 'Shifted +0px', 'type': 'text'}\n",
      "DEBUG:toyplot:{'tag': 'root', 'type': 'end'}\n",
      "DEBUG:toyplot:{'attrib': {'style': {'font-size': '24.0px'}, 'dy': 0}, 'tag': 'root', 'type': 'start'}\n",
      "DEBUG:toyplot:{'text': 'Shifted +20px', 'type': 'text'}\n",
      "DEBUG:toyplot:{'tag': 'root', 'type': 'end'}\n",
      "DEBUG:toyplot:{'attrib': {'style': {'font-size': '24.0px'}, 'dy': 0}, 'tag': 'root', 'type': 'start'}\n",
      "DEBUG:toyplot:{'text': 'Shifted +40px', 'type': 'text'}\n",
      "DEBUG:toyplot:{'tag': 'root', 'type': 'end'}\n",
      "DEBUG:toyplot:{'attrib': {'style': {'font-size': '24.0px'}, 'dy': 0}, 'tag': 'root', 'type': 'start'}\n",
      "DEBUG:toyplot:{'text': 'Shifted -20px', 'type': 'text'}\n",
      "DEBUG:toyplot:{'tag': 'root', 'type': 'end'}\n"
     ]
    },
    {
     "data": {
      "text/html": [
       "<div align=\"center\" class=\"toyplot\" id=\"t1b5089603f744a07815ace6239a22ccf\"><svg class=\"toyplot-canvas-Canvas\" height=\"300.0px\" id=\"td725cfa13ca74395a043e3ff20789797\" preserveAspectRatio=\"xMidYMid meet\" style=\"background-color:transparent;fill:rgb(16.1%,15.3%,14.1%);fill-opacity:1.0;font-family:Helvetica;font-size:12px;opacity:1.0;stroke:rgb(16.1%,15.3%,14.1%);stroke-opacity:1.0;stroke-width:1.0\" viewBox=\"0 0 500.0 300.0\" width=\"500.0px\" xmlns=\"http://www.w3.org/2000/svg\" xmlns:toyplot=\"http://www.sandia.gov/toyplot\" xmlns:xlink=\"http://www.w3.org/1999/xlink\"><g class=\"toyplot-coordinates-Cartesian\" id=\"t2a4546c781ba46678587c75b89ee9050\"><clipPath id=\"tc3652bfa21ba4dcdba41dff24266fdfb\"><rect height=\"220.0\" width=\"420.0\" x=\"40.0\" y=\"40.0\"></rect></clipPath><g clip-path=\"url(#tc3652bfa21ba4dcdba41dff24266fdfb)\"><g class=\"toyplot-mark-AxisLines\" id=\"t40b520c3c29942aebf0a11594a701edd\" style=\"\"><g class=\"toyplot-Series\"><line class=\"toyplot-Datum\" style=\"opacity:1.0;stroke:rgb(82.7%,82.7%,82.7%);stroke-opacity:1.0\" x1=\"194.92753623188409\" x2=\"194.92753623188409\" y1=\"50.0\" y2=\"250.0\"></line></g></g><g class=\"toyplot-mark-Text\" id=\"ta3dc2a2904864e9a88312c022eab995f\" style=\"-toyplot-anchor-shift:0;alignment-baseline:middle;font-size:24px;font-weight:normal;stroke:none;text-anchor:start\"><g class=\"toyplot-Series\"><text class=\"toyplot-Datum\" style=\"fill:rgb(40%,76.1%,64.7%);fill-opacity:1.0;font-size:24px;font-weight:normal;opacity:1.0;stroke:none;text-anchor:start\" transform=\"translate(194.92753623188409,75.0)translate(0,6.75)\"><tspan style=\"font-size:24.0px\">Shifted +0px</tspan></text></g></g><g class=\"toyplot-mark-Scatterplot\" id=\"t856ddf7cfd094d3089c2a68390f1b623\" style=\"\"><g class=\"toyplot-Series\"><g class=\"toyplot-Datum\" style=\"fill:rgb(0%,0%,0%);fill-opacity:1.0;opacity:1.0;stroke:rgb(0%,0%,0%);stroke-opacity:1.0\"><circle cx=\"194.92753623188409\" cy=\"75.0\" r=\"1.5\"></circle></g></g></g><g class=\"toyplot-mark-Text\" id=\"tbecf7c3ac51e47a2a64154f3c2da58ec\" style=\"-toyplot-anchor-shift:20px;alignment-baseline:middle;font-size:24px;font-weight:normal;stroke:none;text-anchor:start\"><g class=\"toyplot-Series\"><text class=\"toyplot-Datum\" style=\"fill:rgb(98.8%,55.3%,38.4%);fill-opacity:1.0;font-size:24px;font-weight:normal;opacity:1.0;stroke:none;text-anchor:start\" transform=\"translate(194.92753623188409,125.0)translate(20.0,6.75)\"><tspan style=\"font-size:24.0px\">Shifted +20px</tspan></text></g></g><g class=\"toyplot-mark-Scatterplot\" id=\"t5a0b3fce81bb445fbfe54415a60943e4\" style=\"\"><g class=\"toyplot-Series\"><g class=\"toyplot-Datum\" style=\"fill:rgb(0%,0%,0%);fill-opacity:1.0;opacity:1.0;stroke:rgb(0%,0%,0%);stroke-opacity:1.0\"><circle cx=\"194.92753623188409\" cy=\"125.0\" r=\"1.5\"></circle></g></g></g><g class=\"toyplot-mark-Text\" id=\"te7d84ad795884d46837abdc7405057e9\" style=\"-toyplot-anchor-shift:40px;alignment-baseline:middle;font-size:24px;font-weight:normal;stroke:none;text-anchor:start\"><g class=\"toyplot-Series\"><text class=\"toyplot-Datum\" style=\"fill:rgb(55.3%,62.7%,79.6%);fill-opacity:1.0;font-size:24px;font-weight:normal;opacity:1.0;stroke:none;text-anchor:start\" transform=\"translate(194.92753623188409,175.0)translate(40.0,6.75)\"><tspan style=\"font-size:24.0px\">Shifted +40px</tspan></text></g></g><g class=\"toyplot-mark-Scatterplot\" id=\"t91322a48f415431a879cc93f0fff4f07\" style=\"\"><g class=\"toyplot-Series\"><g class=\"toyplot-Datum\" style=\"fill:rgb(0%,0%,0%);fill-opacity:1.0;opacity:1.0;stroke:rgb(0%,0%,0%);stroke-opacity:1.0\"><circle cx=\"194.92753623188409\" cy=\"175.0\" r=\"1.5\"></circle></g></g></g><g class=\"toyplot-mark-Text\" id=\"tb85f055dd9b04f848c91bc3c47f6cd6a\" style=\"-toyplot-anchor-shift:-20px;alignment-baseline:middle;font-size:24px;font-weight:normal;stroke:none;text-anchor:start\"><g class=\"toyplot-Series\"><text class=\"toyplot-Datum\" style=\"fill:rgb(90.6%,54.1%,76.5%);fill-opacity:1.0;font-size:24px;font-weight:normal;opacity:1.0;stroke:none;text-anchor:start\" transform=\"translate(194.92753623188409,225.0)translate(-20.0,6.75)\"><tspan style=\"font-size:24.0px\">Shifted -20px</tspan></text></g></g><g class=\"toyplot-mark-Scatterplot\" id=\"t6ce4052859f74749bc1da9afc3cfb9d9\" style=\"\"><g class=\"toyplot-Series\"><g class=\"toyplot-Datum\" style=\"fill:rgb(0%,0%,0%);fill-opacity:1.0;opacity:1.0;stroke:rgb(0%,0%,0%);stroke-opacity:1.0\"><circle cx=\"194.92753623188409\" cy=\"225.0\" r=\"1.5\"></circle></g></g></g></g></g></svg><div class=\"toyplot-interactive\"><ul class=\"toyplot-mark-popup\" onmouseleave=\"this.style.visibility='hidden'\" style=\"background:rgba(0%,0%,0%,0.75);border:0;border-radius:6px;color:white;cursor:default;list-style:none;margin:0;padding:5px;position:fixed;visibility:hidden\">\n",
       "            <li class=\"toyplot-mark-popup-title\" style=\"color:lightgray;cursor:default;padding:5px;list-style:none;margin:0\"></li>\n",
       "            <li class=\"toyplot-mark-popup-save-csv\" onmouseout=\"this.style.color='white';this.style.background='steelblue'\" onmouseover=\"this.style.color='steelblue';this.style.background='white'\" style=\"border-radius:3px;padding:5px;list-style:none;margin:0\">\n",
       "                Save as .csv\n",
       "            </li>\n",
       "        </ul><script>\n",
       "        (function()\n",
       "        {\n",
       "          var data_tables = [{\"title\": \"Scatterplot Data\", \"names\": [\"x\", \"y0\"], \"id\": \"t856ddf7cfd094d3089c2a68390f1b623\", \"columns\": [[0.0], [1.0]], \"filename\": \"toyplot\"}, {\"title\": \"Scatterplot Data\", \"names\": [\"x\", \"y0\"], \"id\": \"t5a0b3fce81bb445fbfe54415a60943e4\", \"columns\": [[0.0], [0.0]], \"filename\": \"toyplot\"}, {\"title\": \"Scatterplot Data\", \"names\": [\"x\", \"y0\"], \"id\": \"t91322a48f415431a879cc93f0fff4f07\", \"columns\": [[0.0], [-1.0]], \"filename\": \"toyplot\"}, {\"title\": \"Scatterplot Data\", \"names\": [\"x\", \"y0\"], \"id\": \"t6ce4052859f74749bc1da9afc3cfb9d9\", \"columns\": [[0.0], [-2.0]], \"filename\": \"toyplot\"}];\n",
       "\n",
       "          function save_csv(data_table)\n",
       "          {\n",
       "            var uri = \"data:text/csv;charset=utf-8,\";\n",
       "            uri += data_table.names.join(\",\") + \"\\n\";\n",
       "            for(var i = 0; i != data_table.columns[0].length; ++i)\n",
       "            {\n",
       "              for(var j = 0; j != data_table.columns.length; ++j)\n",
       "              {\n",
       "                if(j)\n",
       "                  uri += \",\";\n",
       "                uri += data_table.columns[j][i];\n",
       "              }\n",
       "              uri += \"\\n\";\n",
       "            }\n",
       "            uri = encodeURI(uri);\n",
       "\n",
       "            var link = document.createElement(\"a\");\n",
       "            if(typeof link.download != \"undefined\")\n",
       "            {\n",
       "              link.href = uri;\n",
       "              link.style = \"visibility:hidden\";\n",
       "              link.download = data_table.filename + \".csv\";\n",
       "\n",
       "              document.body.appendChild(link);\n",
       "              link.click();\n",
       "              document.body.removeChild(link);\n",
       "            }\n",
       "            else\n",
       "            {\n",
       "              window.open(uri);\n",
       "            }\n",
       "          }\n",
       "\n",
       "          function open_popup(data_table)\n",
       "          {\n",
       "            return function(e)\n",
       "            {\n",
       "              var popup = document.querySelector(\"#t1b5089603f744a07815ace6239a22ccf .toyplot-mark-popup\");\n",
       "              popup.querySelector(\".toyplot-mark-popup-title\").innerHTML = data_table.title;\n",
       "              popup.querySelector(\".toyplot-mark-popup-save-csv\").onclick = function() { popup.style.visibility = \"hidden\"; save_csv(data_table); }\n",
       "              popup.style.left = (e.clientX - 50) + \"px\";\n",
       "              popup.style.top = (e.clientY - 20) + \"px\";\n",
       "              popup.style.visibility = \"visible\";\n",
       "              e.stopPropagation();\n",
       "              e.preventDefault();\n",
       "            }\n",
       "\n",
       "          }\n",
       "\n",
       "          for(var i = 0; i != data_tables.length; ++i)\n",
       "          {\n",
       "            var data_table = data_tables[i];\n",
       "            var event_target = document.querySelector(\"#\" + data_table.id);\n",
       "            event_target.oncontextmenu = open_popup(data_table);\n",
       "          }\n",
       "        })();\n",
       "        </script></div></div>"
      ]
     },
     "metadata": {},
     "output_type": "display_data"
    }
   ],
   "source": [
    "canvas = toyplot.Canvas(width=500, height=300)\n",
    "axes = canvas.cartesian(show=False, ymin=-2.5, ymax=1.5)\n",
    "\n",
    "axes.vlines(0, color=\"lightgray\")\n",
    "\n",
    "axes.text(0, 1, \"Shifted +0px\", style={\"-toyplot-anchor-shift\":\"0\", \"text-anchor\":\"start\", \"font-size\":\"24px\"})\n",
    "axes.scatterplot(0, 1, color=\"black\", size=3)\n",
    "\n",
    "axes.text(0, 0, \"Shifted +20px\", style={\"-toyplot-anchor-shift\":\"20px\", \"text-anchor\":\"start\", \"font-size\":\"24px\"})\n",
    "axes.scatterplot(0, 0, color=\"black\", size=3)\n",
    "\n",
    "axes.text(0, -1, \"Shifted +40px\", style={\"-toyplot-anchor-shift\":\"40px\", \"text-anchor\":\"start\", \"font-size\":\"24px\"})\n",
    "axes.scatterplot(0, -1, color=\"black\", size=3);\n",
    "\n",
    "axes.text(0, -2, \"Shifted -20px\", style={\"-toyplot-anchor-shift\":\"-20px\", \"text-anchor\":\"start\", \"font-size\":\"24px\"})\n",
    "axes.scatterplot(0, -2, color=\"black\", size=3);\n"
   ]
  },
  {
   "cell_type": "markdown",
   "metadata": {},
   "source": [
    "Vertically, the text baseline always passes through its anchor point - so to alter the vertical alongment of text, you change the baseline using the CSS `alignment-baseline` attribute.  Note that CSS typography is a complex topic and there are many different types of baseline to accomodate different writing modes and fonts.  The following baselines are the most useful for Western scripts.  Note the subtle difference between the \"central\" and \"middle\" baselines - the former centers upper-case letters in Western scripts while the latter centers lower-case letters, and is the Toyplot default:"
   ]
  },
  {
   "cell_type": "code",
   "execution_count": 4,
   "metadata": {
    "collapsed": false
   },
   "outputs": [
    {
     "name": "stderr",
     "output_type": "stream",
     "text": [
      "DEBUG:toyplot:{'attrib': {'style': {'font-size': '24.0px'}, 'dy': 0}, 'tag': 'root', 'type': 'start'}\n",
      "DEBUG:toyplot:{'text': 'Hanging', 'type': 'text'}\n",
      "DEBUG:toyplot:{'tag': 'root', 'type': 'end'}\n",
      "DEBUG:toyplot:{'attrib': {'style': {'font-size': '24.0px'}, 'dy': 0}, 'tag': 'root', 'type': 'start'}\n",
      "DEBUG:toyplot:{'text': 'Central', 'type': 'text'}\n",
      "DEBUG:toyplot:{'tag': 'root', 'type': 'end'}\n",
      "DEBUG:toyplot:{'attrib': {'style': {'font-size': '24.0px'}, 'dy': 0}, 'tag': 'root', 'type': 'start'}\n",
      "DEBUG:toyplot:{'text': 'Middle', 'type': 'text'}\n",
      "DEBUG:toyplot:{'tag': 'root', 'type': 'end'}\n",
      "DEBUG:toyplot:{'attrib': {'style': {'font-size': '24.0px'}, 'dy': 0}, 'tag': 'root', 'type': 'start'}\n",
      "DEBUG:toyplot:{'text': 'Alpha', 'type': 'text'}\n",
      "DEBUG:toyplot:{'tag': 'root', 'type': 'end'}\n"
     ]
    },
    {
     "data": {
      "text/html": [
       "<div align=\"center\" class=\"toyplot\" id=\"t1e8b9746bbe74278add1da7b92607d28\"><svg class=\"toyplot-canvas-Canvas\" height=\"300.0px\" id=\"te5c973fd32a74e2da64e7ceaf2580ea2\" preserveAspectRatio=\"xMidYMid meet\" style=\"background-color:transparent;fill:rgb(16.1%,15.3%,14.1%);fill-opacity:1.0;font-family:Helvetica;font-size:12px;opacity:1.0;stroke:rgb(16.1%,15.3%,14.1%);stroke-opacity:1.0;stroke-width:1.0\" viewBox=\"0 0 600.0 300.0\" width=\"600.0px\" xmlns=\"http://www.w3.org/2000/svg\" xmlns:toyplot=\"http://www.sandia.gov/toyplot\" xmlns:xlink=\"http://www.w3.org/1999/xlink\"><g class=\"toyplot-coordinates-Cartesian\" id=\"tf51ce0a0b8334038b50353da577fd2ef\"><clipPath id=\"t4943b1b156a94eccb37354dc99a21091\"><rect height=\"220.0\" width=\"520.0\" x=\"40.0\" y=\"40.0\"></rect></clipPath><g clip-path=\"url(#t4943b1b156a94eccb37354dc99a21091)\"><g class=\"toyplot-mark-AxisLines\" id=\"te5e1ad04b83a4e20aaeedd4fd7ad025a\" style=\"\"><g class=\"toyplot-Series\"><line class=\"toyplot-Datum\" style=\"opacity:1.0;stroke:rgb(82.7%,82.7%,82.7%);stroke-opacity:1.0\" x1=\"50.0\" x2=\"550.0\" y1=\"150.0\" y2=\"150.0\"></line></g></g><g class=\"toyplot-mark-Text\" id=\"t8e7724ba4ce2418cb0d94a6eedb278c1\" style=\"alignment-baseline:hanging;font-size:24px;font-weight:normal;stroke:none;text-anchor:middle\"><g class=\"toyplot-Series\"><text class=\"toyplot-Datum\" style=\"fill:rgb(40%,76.1%,64.7%);fill-opacity:1.0;font-size:24px;font-weight:normal;opacity:1.0;stroke:none;text-anchor:middle\" transform=\"translate(115.21739130434783,150.0)translate(0,18.0)\"><tspan style=\"font-size:24.0px\">Hanging</tspan></text></g></g><g class=\"toyplot-mark-Scatterplot\" id=\"te9d295aadc094d74bf308c61718d203f\" style=\"\"><g class=\"toyplot-Series\"><g class=\"toyplot-Datum\" style=\"fill:rgb(0%,0%,0%);fill-opacity:1.0;opacity:1.0;stroke:rgb(0%,0%,0%);stroke-opacity:1.0\"><circle cx=\"115.21739130434783\" cy=\"150.0\" r=\"1.5\"></circle></g></g></g><g class=\"toyplot-mark-Text\" id=\"tad508580b27849b496649f7b2253ad4d\" style=\"alignment-baseline:central;font-size:24px;font-weight:normal;stroke:none;text-anchor:middle\"><g class=\"toyplot-Series\"><text class=\"toyplot-Datum\" style=\"fill:rgb(98.8%,55.3%,38.4%);fill-opacity:1.0;font-size:24px;font-weight:normal;opacity:1.0;stroke:none;text-anchor:middle\" transform=\"translate(244.61697722567285,150.0)translate(0,9.0)\"><tspan style=\"font-size:24.0px\">Central</tspan></text></g></g><g class=\"toyplot-mark-Scatterplot\" id=\"t2c0db6a2790541ab906e4148a436d6de\" style=\"\"><g class=\"toyplot-Series\"><g class=\"toyplot-Datum\" style=\"fill:rgb(0%,0%,0%);fill-opacity:1.0;opacity:1.0;stroke:rgb(0%,0%,0%);stroke-opacity:1.0\"><circle cx=\"244.61697722567285\" cy=\"150.0\" r=\"1.5\"></circle></g></g></g><g class=\"toyplot-mark-Text\" id=\"t655359e6993c4c499e90e0d930788ae5\" style=\"alignment-baseline:middle;font-size:24px;font-weight:normal;stroke:none;text-anchor:middle\"><g class=\"toyplot-Series\"><text class=\"toyplot-Datum\" style=\"fill:rgb(55.3%,62.7%,79.6%);fill-opacity:1.0;font-size:24px;font-weight:normal;opacity:1.0;stroke:none;text-anchor:middle\" transform=\"translate(374.0165631469979,150.0)translate(0,6.75)\"><tspan style=\"font-size:24.0px\">Middle</tspan></text></g></g><g class=\"toyplot-mark-Scatterplot\" id=\"t4e7ef6af88414570a2fc2eaf604f5b3e\" style=\"\"><g class=\"toyplot-Series\"><g class=\"toyplot-Datum\" style=\"fill:rgb(0%,0%,0%);fill-opacity:1.0;opacity:1.0;stroke:rgb(0%,0%,0%);stroke-opacity:1.0\"><circle cx=\"374.0165631469979\" cy=\"150.0\" r=\"1.5\"></circle></g></g></g><g class=\"toyplot-mark-Text\" id=\"t5e257daf20a048e1b517f06eaca0da00\" style=\"alignment-baseline:alphabetic;font-size:24px;font-weight:normal;stroke:none;text-anchor:middle\"><g class=\"toyplot-Series\"><text class=\"toyplot-Datum\" style=\"fill:rgb(90.6%,54.1%,76.5%);fill-opacity:1.0;font-size:24px;font-weight:normal;opacity:1.0;stroke:none;text-anchor:middle\" transform=\"translate(503.41614906832291,150.0)\"><tspan style=\"font-size:24.0px\">Alpha</tspan></text></g></g><g class=\"toyplot-mark-Scatterplot\" id=\"t035d17ebd7b241a7827709d6d075c342\" style=\"\"><g class=\"toyplot-Series\"><g class=\"toyplot-Datum\" style=\"fill:rgb(0%,0%,0%);fill-opacity:1.0;opacity:1.0;stroke:rgb(0%,0%,0%);stroke-opacity:1.0\"><circle cx=\"503.41614906832291\" cy=\"150.0\" r=\"1.5\"></circle></g></g></g></g></g></svg><div class=\"toyplot-interactive\"><ul class=\"toyplot-mark-popup\" onmouseleave=\"this.style.visibility='hidden'\" style=\"background:rgba(0%,0%,0%,0.75);border:0;border-radius:6px;color:white;cursor:default;list-style:none;margin:0;padding:5px;position:fixed;visibility:hidden\">\n",
       "            <li class=\"toyplot-mark-popup-title\" style=\"color:lightgray;cursor:default;padding:5px;list-style:none;margin:0\"></li>\n",
       "            <li class=\"toyplot-mark-popup-save-csv\" onmouseout=\"this.style.color='white';this.style.background='steelblue'\" onmouseover=\"this.style.color='steelblue';this.style.background='white'\" style=\"border-radius:3px;padding:5px;list-style:none;margin:0\">\n",
       "                Save as .csv\n",
       "            </li>\n",
       "        </ul><script>\n",
       "        (function()\n",
       "        {\n",
       "          var data_tables = [{\"title\": \"Scatterplot Data\", \"names\": [\"x\", \"y0\"], \"id\": \"te9d295aadc094d74bf308c61718d203f\", \"columns\": [[-1.0], [0.0]], \"filename\": \"toyplot\"}, {\"title\": \"Scatterplot Data\", \"names\": [\"x\", \"y0\"], \"id\": \"t2c0db6a2790541ab906e4148a436d6de\", \"columns\": [[0.0], [0.0]], \"filename\": \"toyplot\"}, {\"title\": \"Scatterplot Data\", \"names\": [\"x\", \"y0\"], \"id\": \"t4e7ef6af88414570a2fc2eaf604f5b3e\", \"columns\": [[1.0], [0.0]], \"filename\": \"toyplot\"}, {\"title\": \"Scatterplot Data\", \"names\": [\"x\", \"y0\"], \"id\": \"t035d17ebd7b241a7827709d6d075c342\", \"columns\": [[2.0], [0.0]], \"filename\": \"toyplot\"}];\n",
       "\n",
       "          function save_csv(data_table)\n",
       "          {\n",
       "            var uri = \"data:text/csv;charset=utf-8,\";\n",
       "            uri += data_table.names.join(\",\") + \"\\n\";\n",
       "            for(var i = 0; i != data_table.columns[0].length; ++i)\n",
       "            {\n",
       "              for(var j = 0; j != data_table.columns.length; ++j)\n",
       "              {\n",
       "                if(j)\n",
       "                  uri += \",\";\n",
       "                uri += data_table.columns[j][i];\n",
       "              }\n",
       "              uri += \"\\n\";\n",
       "            }\n",
       "            uri = encodeURI(uri);\n",
       "\n",
       "            var link = document.createElement(\"a\");\n",
       "            if(typeof link.download != \"undefined\")\n",
       "            {\n",
       "              link.href = uri;\n",
       "              link.style = \"visibility:hidden\";\n",
       "              link.download = data_table.filename + \".csv\";\n",
       "\n",
       "              document.body.appendChild(link);\n",
       "              link.click();\n",
       "              document.body.removeChild(link);\n",
       "            }\n",
       "            else\n",
       "            {\n",
       "              window.open(uri);\n",
       "            }\n",
       "          }\n",
       "\n",
       "          function open_popup(data_table)\n",
       "          {\n",
       "            return function(e)\n",
       "            {\n",
       "              var popup = document.querySelector(\"#t1e8b9746bbe74278add1da7b92607d28 .toyplot-mark-popup\");\n",
       "              popup.querySelector(\".toyplot-mark-popup-title\").innerHTML = data_table.title;\n",
       "              popup.querySelector(\".toyplot-mark-popup-save-csv\").onclick = function() { popup.style.visibility = \"hidden\"; save_csv(data_table); }\n",
       "              popup.style.left = (e.clientX - 50) + \"px\";\n",
       "              popup.style.top = (e.clientY - 20) + \"px\";\n",
       "              popup.style.visibility = \"visible\";\n",
       "              e.stopPropagation();\n",
       "              e.preventDefault();\n",
       "            }\n",
       "\n",
       "          }\n",
       "\n",
       "          for(var i = 0; i != data_tables.length; ++i)\n",
       "          {\n",
       "            var data_table = data_tables[i];\n",
       "            var event_target = document.querySelector(\"#\" + data_table.id);\n",
       "            event_target.oncontextmenu = open_popup(data_table);\n",
       "          }\n",
       "        })();\n",
       "        </script></div></div>"
      ]
     },
     "metadata": {},
     "output_type": "display_data"
    }
   ],
   "source": [
    "canvas = toyplot.Canvas(width=600, height=300)\n",
    "axes = canvas.cartesian(show=False)\n",
    "\n",
    "axes.hlines(0, color=\"lightgray\")\n",
    "\n",
    "axes.text(-1, 0, \"Hanging\", style={\"alignment-baseline\":\"hanging\", \"font-size\":\"24px\"})\n",
    "axes.scatterplot(-1, 0, color=\"black\", size=3)\n",
    "\n",
    "axes.text(0, 0, \"Central\", style={\"alignment-baseline\":\"central\", \"font-size\":\"24px\"})\n",
    "axes.scatterplot(0, 0, color=\"black\", size=3)\n",
    "\n",
    "axes.text(1, 0, \"Middle\", style={\"alignment-baseline\":\"middle\", \"font-size\":\"24px\"})\n",
    "axes.scatterplot(1, 0, color=\"black\", size=3)\n",
    "\n",
    "axes.text(2, 0, \"Alpha\", style={\"alignment-baseline\":\"alphabetic\", \"font-size\":\"24px\"})\n",
    "axes.scatterplot(2, 0, color=\"black\", size=3);\n"
   ]
  },
  {
   "cell_type": "markdown",
   "metadata": {},
   "source": [
    "As you might expect, you can also shift text perpendicular to its baseline by arbitrary amounts, using `baseline-shift`.  While you are free to use any of Toyplot's supported CSS length units for the shift, percentages are especially useful, because they represent a distance relative to the font height:"
   ]
  },
  {
   "cell_type": "code",
   "execution_count": 5,
   "metadata": {
    "collapsed": false
   },
   "outputs": [
    {
     "name": "stderr",
     "output_type": "stream",
     "text": [
      "DEBUG:toyplot:{'attrib': {'style': {'font-size': '24.0px'}, 'dy': 0}, 'tag': 'root', 'type': 'start'}\n",
      "DEBUG:toyplot:{'text': 'Shift -100%', 'type': 'text'}\n",
      "DEBUG:toyplot:{'tag': 'root', 'type': 'end'}\n",
      "DEBUG:toyplot:{'attrib': {'style': {'font-size': '24.0px'}, 'dy': 0}, 'tag': 'root', 'type': 'start'}\n",
      "DEBUG:toyplot:{'text': 'Shift 0%', 'type': 'text'}\n",
      "DEBUG:toyplot:{'tag': 'root', 'type': 'end'}\n",
      "DEBUG:toyplot:{'attrib': {'style': {'font-size': '24.0px'}, 'dy': 0}, 'tag': 'root', 'type': 'start'}\n",
      "DEBUG:toyplot:{'text': 'Shift 66%', 'type': 'text'}\n",
      "DEBUG:toyplot:{'tag': 'root', 'type': 'end'}\n",
      "DEBUG:toyplot:{'attrib': {'style': {'font-size': '24.0px'}, 'dy': 0}, 'tag': 'root', 'type': 'start'}\n",
      "DEBUG:toyplot:{'text': 'Shift 100%', 'type': 'text'}\n",
      "DEBUG:toyplot:{'tag': 'root', 'type': 'end'}\n"
     ]
    },
    {
     "data": {
      "text/html": [
       "<div align=\"center\" class=\"toyplot\" id=\"t8015517516024f33aa92db08d39be066\"><svg class=\"toyplot-canvas-Canvas\" height=\"300.0px\" id=\"tf29a6a2c4d6c43e58aba1f78d2a85bb8\" preserveAspectRatio=\"xMidYMid meet\" style=\"background-color:transparent;fill:rgb(16.1%,15.3%,14.1%);fill-opacity:1.0;font-family:Helvetica;font-size:12px;opacity:1.0;stroke:rgb(16.1%,15.3%,14.1%);stroke-opacity:1.0;stroke-width:1.0\" viewBox=\"0 0 700.0 300.0\" width=\"700.0px\" xmlns=\"http://www.w3.org/2000/svg\" xmlns:toyplot=\"http://www.sandia.gov/toyplot\" xmlns:xlink=\"http://www.w3.org/1999/xlink\"><g class=\"toyplot-coordinates-Cartesian\" id=\"tf8f28f86139d4f349289f9b18fe4ab34\"><clipPath id=\"tda0249b88328402dbfdd42a7d4e2c30b\"><rect height=\"220.0\" width=\"620.0\" x=\"40.0\" y=\"40.0\"></rect></clipPath><g clip-path=\"url(#tda0249b88328402dbfdd42a7d4e2c30b)\"><g class=\"toyplot-mark-AxisLines\" id=\"t12c0dc769cac486baced21ca604756e7\" style=\"\"><g class=\"toyplot-Series\"><line class=\"toyplot-Datum\" style=\"opacity:1.0;stroke:rgb(82.7%,82.7%,82.7%);stroke-opacity:1.0\" x1=\"50.0\" x2=\"650.0\" y1=\"150.0\" y2=\"150.0\"></line></g></g><g class=\"toyplot-mark-Text\" id=\"td0bd04a30b144602ab7887b0d896a7f3\" style=\"alignment-baseline:middle;baseline-shift:-100%;font-size:24px;font-weight:normal;stroke:none;text-anchor:middle\"><g class=\"toyplot-Series\"><text class=\"toyplot-Datum\" style=\"fill:rgb(40%,76.1%,64.7%);fill-opacity:1.0;font-size:24px;font-weight:normal;opacity:1.0;stroke:none;text-anchor:middle\" transform=\"translate(142.95774647887322,150.0)translate(0,30.75)\"><tspan style=\"font-size:24.0px\">Shift -100%</tspan></text></g></g><g class=\"toyplot-mark-Scatterplot\" id=\"t153e4a39ba7d4aafbad6b9fda2675887\" style=\"\"><g class=\"toyplot-Series\"><g class=\"toyplot-Datum\" style=\"fill:rgb(0%,0%,0%);fill-opacity:1.0;opacity:1.0;stroke:rgb(0%,0%,0%);stroke-opacity:1.0\"><circle cx=\"142.95774647887322\" cy=\"150.0\" r=\"1.5\"></circle></g></g></g><g class=\"toyplot-mark-Text\" id=\"tc7e47be8c7e44ca98f4e04e52d6c7c2e\" style=\"alignment-baseline:middle;baseline-shift:0;font-size:24px;font-weight:normal;stroke:none;text-anchor:middle\"><g class=\"toyplot-Series\"><text class=\"toyplot-Datum\" style=\"fill:rgb(98.8%,55.3%,38.4%);fill-opacity:1.0;font-size:24px;font-weight:normal;opacity:1.0;stroke:none;text-anchor:middle\" transform=\"translate(283.80281690140845,150.0)translate(0,6.75)\"><tspan style=\"font-size:24.0px\">Shift 0%</tspan></text></g></g><g class=\"toyplot-mark-Scatterplot\" id=\"t5b20bda97c0943ebb0cdffd59e4ec539\" style=\"\"><g class=\"toyplot-Series\"><g class=\"toyplot-Datum\" style=\"fill:rgb(0%,0%,0%);fill-opacity:1.0;opacity:1.0;stroke:rgb(0%,0%,0%);stroke-opacity:1.0\"><circle cx=\"283.80281690140845\" cy=\"150.0\" r=\"1.5\"></circle></g></g></g><g class=\"toyplot-mark-Text\" id=\"ta937791af7a246c19f1540b2033bc182\" style=\"alignment-baseline:middle;baseline-shift:66%;font-size:24px;font-weight:normal;stroke:none;text-anchor:middle\"><g class=\"toyplot-Series\"><text class=\"toyplot-Datum\" style=\"fill:rgb(55.3%,62.7%,79.6%);fill-opacity:1.0;font-size:24px;font-weight:normal;opacity:1.0;stroke:none;text-anchor:middle\" transform=\"translate(424.64788732394368,150.0)translate(0,-9.09)\"><tspan style=\"font-size:24.0px\">Shift 66%</tspan></text></g></g><g class=\"toyplot-mark-Scatterplot\" id=\"t727f39887948447d992552a9a03c8584\" style=\"\"><g class=\"toyplot-Series\"><g class=\"toyplot-Datum\" style=\"fill:rgb(0%,0%,0%);fill-opacity:1.0;opacity:1.0;stroke:rgb(0%,0%,0%);stroke-opacity:1.0\"><circle cx=\"424.64788732394368\" cy=\"150.0\" r=\"1.5\"></circle></g></g></g><g class=\"toyplot-mark-Text\" id=\"t3633a6d16a3e4deda45cbbed22835d39\" style=\"alignment-baseline:middle;baseline-shift:100%;font-size:24px;font-weight:normal;stroke:none;text-anchor:middle\"><g class=\"toyplot-Series\"><text class=\"toyplot-Datum\" style=\"fill:rgb(90.6%,54.1%,76.5%);fill-opacity:1.0;font-size:24px;font-weight:normal;opacity:1.0;stroke:none;text-anchor:middle\" transform=\"translate(565.49295774647896,150.0)translate(0,-17.25)\"><tspan style=\"font-size:24.0px\">Shift 100%</tspan></text></g></g><g class=\"toyplot-mark-Scatterplot\" id=\"t342d906720f44c7b955b6421c0165869\" style=\"\"><g class=\"toyplot-Series\"><g class=\"toyplot-Datum\" style=\"fill:rgb(0%,0%,0%);fill-opacity:1.0;opacity:1.0;stroke:rgb(0%,0%,0%);stroke-opacity:1.0\"><circle cx=\"565.49295774647896\" cy=\"150.0\" r=\"1.5\"></circle></g></g></g></g></g></svg><div class=\"toyplot-interactive\"><ul class=\"toyplot-mark-popup\" onmouseleave=\"this.style.visibility='hidden'\" style=\"background:rgba(0%,0%,0%,0.75);border:0;border-radius:6px;color:white;cursor:default;list-style:none;margin:0;padding:5px;position:fixed;visibility:hidden\">\n",
       "            <li class=\"toyplot-mark-popup-title\" style=\"color:lightgray;cursor:default;padding:5px;list-style:none;margin:0\"></li>\n",
       "            <li class=\"toyplot-mark-popup-save-csv\" onmouseout=\"this.style.color='white';this.style.background='steelblue'\" onmouseover=\"this.style.color='steelblue';this.style.background='white'\" style=\"border-radius:3px;padding:5px;list-style:none;margin:0\">\n",
       "                Save as .csv\n",
       "            </li>\n",
       "        </ul><script>\n",
       "        (function()\n",
       "        {\n",
       "          var data_tables = [{\"title\": \"Scatterplot Data\", \"names\": [\"x\", \"y0\"], \"id\": \"t153e4a39ba7d4aafbad6b9fda2675887\", \"columns\": [[-1.0], [0.0]], \"filename\": \"toyplot\"}, {\"title\": \"Scatterplot Data\", \"names\": [\"x\", \"y0\"], \"id\": \"t5b20bda97c0943ebb0cdffd59e4ec539\", \"columns\": [[0.0], [0.0]], \"filename\": \"toyplot\"}, {\"title\": \"Scatterplot Data\", \"names\": [\"x\", \"y0\"], \"id\": \"t727f39887948447d992552a9a03c8584\", \"columns\": [[1.0], [0.0]], \"filename\": \"toyplot\"}, {\"title\": \"Scatterplot Data\", \"names\": [\"x\", \"y0\"], \"id\": \"t342d906720f44c7b955b6421c0165869\", \"columns\": [[2.0], [0.0]], \"filename\": \"toyplot\"}];\n",
       "\n",
       "          function save_csv(data_table)\n",
       "          {\n",
       "            var uri = \"data:text/csv;charset=utf-8,\";\n",
       "            uri += data_table.names.join(\",\") + \"\\n\";\n",
       "            for(var i = 0; i != data_table.columns[0].length; ++i)\n",
       "            {\n",
       "              for(var j = 0; j != data_table.columns.length; ++j)\n",
       "              {\n",
       "                if(j)\n",
       "                  uri += \",\";\n",
       "                uri += data_table.columns[j][i];\n",
       "              }\n",
       "              uri += \"\\n\";\n",
       "            }\n",
       "            uri = encodeURI(uri);\n",
       "\n",
       "            var link = document.createElement(\"a\");\n",
       "            if(typeof link.download != \"undefined\")\n",
       "            {\n",
       "              link.href = uri;\n",
       "              link.style = \"visibility:hidden\";\n",
       "              link.download = data_table.filename + \".csv\";\n",
       "\n",
       "              document.body.appendChild(link);\n",
       "              link.click();\n",
       "              document.body.removeChild(link);\n",
       "            }\n",
       "            else\n",
       "            {\n",
       "              window.open(uri);\n",
       "            }\n",
       "          }\n",
       "\n",
       "          function open_popup(data_table)\n",
       "          {\n",
       "            return function(e)\n",
       "            {\n",
       "              var popup = document.querySelector(\"#t8015517516024f33aa92db08d39be066 .toyplot-mark-popup\");\n",
       "              popup.querySelector(\".toyplot-mark-popup-title\").innerHTML = data_table.title;\n",
       "              popup.querySelector(\".toyplot-mark-popup-save-csv\").onclick = function() { popup.style.visibility = \"hidden\"; save_csv(data_table); }\n",
       "              popup.style.left = (e.clientX - 50) + \"px\";\n",
       "              popup.style.top = (e.clientY - 20) + \"px\";\n",
       "              popup.style.visibility = \"visible\";\n",
       "              e.stopPropagation();\n",
       "              e.preventDefault();\n",
       "            }\n",
       "\n",
       "          }\n",
       "\n",
       "          for(var i = 0; i != data_tables.length; ++i)\n",
       "          {\n",
       "            var data_table = data_tables[i];\n",
       "            var event_target = document.querySelector(\"#\" + data_table.id);\n",
       "            event_target.oncontextmenu = open_popup(data_table);\n",
       "          }\n",
       "        })();\n",
       "        </script></div></div>"
      ]
     },
     "metadata": {},
     "output_type": "display_data"
    }
   ],
   "source": [
    "canvas = toyplot.Canvas(width=700, height=300)\n",
    "axes = canvas.cartesian(show=False)\n",
    "\n",
    "axes.hlines(0, color=\"lightgray\")\n",
    "\n",
    "axes.text(-1, 0, \"Shift -100%\", style={\"baseline-shift\":\"-100%\", \"font-size\":\"24px\"})\n",
    "axes.scatterplot(-1, 0, color=\"black\", size=3)\n",
    "\n",
    "axes.text(0, 0, \"Shift 0%\", style={\"baseline-shift\":\"0\", \"font-size\":\"24px\"})\n",
    "axes.scatterplot(0, 0, color=\"black\", size=3)\n",
    "\n",
    "axes.text(1, 0, \"Shift 66%\", style={\"baseline-shift\":\"66%\", \"font-size\":\"24px\"})\n",
    "axes.scatterplot(1, 0, color=\"black\", size=3)\n",
    "\n",
    "axes.text(2, 0, \"Shift 100%\", style={\"baseline-shift\":\"100%\", \"font-size\":\"24px\"})\n",
    "axes.scatterplot(2, 0, color=\"black\", size=3);\n"
   ]
  },
  {
   "cell_type": "markdown",
   "metadata": {},
   "source": [
    "Of course, you're free to combine all four styles in any way that you like.\n",
    "\n",
    "One final thing to keep in mind is that `-toyplot-anchor-shift` and `baseline-shift` move the text relative to its baseline, not the canvas.  This is important because it affects their behavior when text is rotated.  In the following example, look carefully and note that the text with `-toyplot-anchor-shift` is shifted *along its rotated baseline*, not simply moved left or right on the canvas.  Similarly, the `baseline-shift` text is shifted *perpendicular to its rotated baseline*, not merely up or down:"
   ]
  },
  {
   "cell_type": "code",
   "execution_count": 6,
   "metadata": {
    "collapsed": false
   },
   "outputs": [
    {
     "name": "stderr",
     "output_type": "stream",
     "text": [
      "DEBUG:toyplot:{'attrib': {'style': {'font-size': '24.0px'}, 'dy': 0}, 'tag': 'root', 'type': 'start'}\n",
      "DEBUG:toyplot:{'text': 'a + b', 'type': 'text'}\n",
      "DEBUG:toyplot:{'tag': 'root', 'type': 'end'}\n",
      "DEBUG:toyplot:{'attrib': {'style': {'font-size': '14.0px'}, 'dy': 0}, 'tag': 'root', 'type': 'start'}\n",
      "DEBUG:toyplot:{'text': 'default', 'type': 'text'}\n",
      "DEBUG:toyplot:{'tag': 'root', 'type': 'end'}\n",
      "DEBUG:toyplot:{'attrib': {'style': {'font-size': '24.0px'}, 'dy': 0}, 'tag': 'root', 'type': 'start'}\n",
      "DEBUG:toyplot:{'text': 'a + b', 'type': 'text'}\n",
      "DEBUG:toyplot:{'tag': 'root', 'type': 'end'}\n",
      "DEBUG:toyplot:{'attrib': {'style': {'font-size': '14.0px'}, 'dy': 0}, 'tag': 'root', 'type': 'start'}\n",
      "DEBUG:toyplot:{'text': '-toyplot-anchor-shift', 'type': 'text'}\n",
      "DEBUG:toyplot:{'tag': 'root', 'type': 'end'}\n",
      "DEBUG:toyplot:{'attrib': {'style': {'font-size': '24.0px'}, 'dy': 0}, 'tag': 'root', 'type': 'start'}\n",
      "DEBUG:toyplot:{'text': 'a + b', 'type': 'text'}\n",
      "DEBUG:toyplot:{'tag': 'root', 'type': 'end'}\n",
      "DEBUG:toyplot:{'attrib': {'style': {'font-size': '14.0px'}, 'dy': 0}, 'tag': 'root', 'type': 'start'}\n",
      "DEBUG:toyplot:{'text': 'baseline-shift', 'type': 'text'}\n",
      "DEBUG:toyplot:{'tag': 'root', 'type': 'end'}\n"
     ]
    },
    {
     "data": {
      "text/html": [
       "<div align=\"center\" class=\"toyplot\" id=\"tb7fbb67d2b71413c851e90d6ce120f97\"><svg class=\"toyplot-canvas-Canvas\" height=\"300.0px\" id=\"t259c4a21301a4d6395feabe9b1ab9b8d\" preserveAspectRatio=\"xMidYMid meet\" style=\"background-color:transparent;fill:rgb(16.1%,15.3%,14.1%);fill-opacity:1.0;font-family:Helvetica;font-size:12px;opacity:1.0;stroke:rgb(16.1%,15.3%,14.1%);stroke-opacity:1.0;stroke-width:1.0\" viewBox=\"0 0 500.0 300.0\" width=\"500.0px\" xmlns=\"http://www.w3.org/2000/svg\" xmlns:toyplot=\"http://www.sandia.gov/toyplot\" xmlns:xlink=\"http://www.w3.org/1999/xlink\"><g class=\"toyplot-coordinates-Cartesian\" id=\"ta96d829a72214424a03c1cdb284b0a2a\"><clipPath id=\"t3de923550af747e0b5e2c912f8d2c7cd\"><rect height=\"220.0\" width=\"86.66666666666666\" x=\"40.0\" y=\"40.0\"></rect></clipPath><g clip-path=\"url(#t3de923550af747e0b5e2c912f8d2c7cd)\"><g class=\"toyplot-mark-AxisLines\" id=\"t29efc21e6d6a4edfaabcb45e1e427c28\" style=\"\"><g class=\"toyplot-Series\"><line class=\"toyplot-Datum\" style=\"opacity:1.0;stroke:rgb(82.7%,82.7%,82.7%);stroke-opacity:1.0\" x1=\"83.333333333333329\" x2=\"83.333333333333329\" y1=\"50.0\" y2=\"250.0\"></line></g></g><g class=\"toyplot-mark-Text\" id=\"t359a787899564129b5a5ed5202cc8183\" style=\"alignment-baseline:middle;font-size:24px;font-weight:normal;stroke:none;text-anchor:middle\"><g class=\"toyplot-Series\"><text class=\"toyplot-Datum\" style=\"fill:rgb(40%,76.1%,64.7%);fill-opacity:1.0;font-size:24px;font-weight:normal;opacity:1.0;stroke:none;text-anchor:middle\" transform=\"translate(83.333333333333329,150.0)rotate(-45.0)translate(0,6.75)\"><tspan style=\"font-size:24.0px\">a + b</tspan></text></g></g><g class=\"toyplot-mark-Scatterplot\" id=\"tf58ba823724c4614a5bf8bd19f509cf0\" style=\"\"><g class=\"toyplot-Series\"><g class=\"toyplot-Datum\" style=\"fill:rgb(0%,0%,0%);fill-opacity:1.0;opacity:1.0;stroke:rgb(0%,0%,0%);stroke-opacity:1.0\"><circle cx=\"83.333333333333329\" cy=\"150.0\" r=\"1.5\"></circle></g></g></g></g><text style=\"font-size:14px;font-weight:bold;stroke:none;text-anchor:middle\" transform=\"translate(83.33333333333333,50.0)translate(0,-10.0625)\"><tspan style=\"font-size:14.0px\">default</tspan></text></g><g class=\"toyplot-coordinates-Cartesian\" id=\"t11ff6abd12124848921e3bd9d66d1323\"><clipPath id=\"t88781c21fbe2401d8579f0fbb775dac6\"><rect height=\"220.0\" width=\"86.66666666666666\" x=\"206.66666666666666\" y=\"40.0\"></rect></clipPath><g clip-path=\"url(#t88781c21fbe2401d8579f0fbb775dac6)\"><g class=\"toyplot-mark-AxisLines\" id=\"t909b2283412648609ad2d3e427dac582\" style=\"\"><g class=\"toyplot-Series\"><line class=\"toyplot-Datum\" style=\"opacity:1.0;stroke:rgb(82.7%,82.7%,82.7%);stroke-opacity:1.0\" x1=\"240.7407407407407\" x2=\"240.7407407407407\" y1=\"50.0\" y2=\"250.0\"></line></g></g><g class=\"toyplot-mark-Text\" id=\"t6f7a7135eb8d4601810c3b913a701065\" style=\"-toyplot-anchor-shift:20px;alignment-baseline:middle;font-size:24px;font-weight:normal;stroke:none;text-anchor:middle\"><g class=\"toyplot-Series\"><text class=\"toyplot-Datum\" style=\"fill:rgb(40%,76.1%,64.7%);fill-opacity:1.0;font-size:24px;font-weight:normal;opacity:1.0;stroke:none;text-anchor:middle\" transform=\"translate(240.7407407407407,150.0)rotate(-45.0)translate(20.0,6.75)\"><tspan style=\"font-size:24.0px\">a + b</tspan></text></g></g><g class=\"toyplot-mark-Scatterplot\" id=\"tc5aecec3eb714afdac148769eea10852\" style=\"\"><g class=\"toyplot-Series\"><g class=\"toyplot-Datum\" style=\"fill:rgb(0%,0%,0%);fill-opacity:1.0;opacity:1.0;stroke:rgb(0%,0%,0%);stroke-opacity:1.0\"><circle cx=\"240.7407407407407\" cy=\"150.0\" r=\"1.5\"></circle></g></g></g></g><text style=\"font-size:14px;font-weight:bold;stroke:none;text-anchor:middle\" transform=\"translate(250.0,50.0)translate(0,-10.0625)\"><tspan style=\"font-size:14.0px\">-toyplot-anchor-shift</tspan></text></g><g class=\"toyplot-coordinates-Cartesian\" id=\"t6aac1e9cdb22415898c1ebec30c7a3c2\"><clipPath id=\"t1ca660dd58984ca7991838bdbe7ffa46\"><rect height=\"220.0\" width=\"86.66666666666669\" x=\"373.3333333333333\" y=\"40.0\"></rect></clipPath><g clip-path=\"url(#t1ca660dd58984ca7991838bdbe7ffa46)\"><g class=\"toyplot-mark-AxisLines\" id=\"td9da077eca4c452ba78938ef02ac424d\" style=\"\"><g class=\"toyplot-Series\"><line class=\"toyplot-Datum\" style=\"opacity:1.0;stroke:rgb(82.7%,82.7%,82.7%);stroke-opacity:1.0\" x1=\"407.40740740740739\" x2=\"407.40740740740739\" y1=\"50.0\" y2=\"250.0\"></line></g></g><g class=\"toyplot-mark-Text\" id=\"tbb7b0df9b8c34ba0871662beb7f11e4c\" style=\"alignment-baseline:middle;baseline-shift:-20px;font-size:24px;font-weight:normal;stroke:none;text-anchor:middle\"><g class=\"toyplot-Series\"><text class=\"toyplot-Datum\" style=\"fill:rgb(40%,76.1%,64.7%);fill-opacity:1.0;font-size:24px;font-weight:normal;opacity:1.0;stroke:none;text-anchor:middle\" transform=\"translate(407.40740740740739,150.0)rotate(-45.0)translate(0,26.75)\"><tspan style=\"font-size:24.0px\">a + b</tspan></text></g></g><g class=\"toyplot-mark-Scatterplot\" id=\"t77ee5096bbeb4051afeb1470ebb2635b\" style=\"\"><g class=\"toyplot-Series\"><g class=\"toyplot-Datum\" style=\"fill:rgb(0%,0%,0%);fill-opacity:1.0;opacity:1.0;stroke:rgb(0%,0%,0%);stroke-opacity:1.0\"><circle cx=\"407.40740740740739\" cy=\"150.0\" r=\"1.5\"></circle></g></g></g></g><text style=\"font-size:14px;font-weight:bold;stroke:none;text-anchor:middle\" transform=\"translate(416.66666666666663,50.0)translate(0,-10.0625)\"><tspan style=\"font-size:14.0px\">baseline-shift</tspan></text></g></svg><div class=\"toyplot-interactive\"><ul class=\"toyplot-mark-popup\" onmouseleave=\"this.style.visibility='hidden'\" style=\"background:rgba(0%,0%,0%,0.75);border:0;border-radius:6px;color:white;cursor:default;list-style:none;margin:0;padding:5px;position:fixed;visibility:hidden\">\n",
       "            <li class=\"toyplot-mark-popup-title\" style=\"color:lightgray;cursor:default;padding:5px;list-style:none;margin:0\"></li>\n",
       "            <li class=\"toyplot-mark-popup-save-csv\" onmouseout=\"this.style.color='white';this.style.background='steelblue'\" onmouseover=\"this.style.color='steelblue';this.style.background='white'\" style=\"border-radius:3px;padding:5px;list-style:none;margin:0\">\n",
       "                Save as .csv\n",
       "            </li>\n",
       "        </ul><script>\n",
       "        (function()\n",
       "        {\n",
       "          var data_tables = [{\"title\": \"Scatterplot Data\", \"names\": [\"x\", \"y0\"], \"id\": \"tf58ba823724c4614a5bf8bd19f509cf0\", \"columns\": [[0.0], [0.0]], \"filename\": \"toyplot\"}, {\"title\": \"Scatterplot Data\", \"names\": [\"x\", \"y0\"], \"id\": \"tc5aecec3eb714afdac148769eea10852\", \"columns\": [[0.0], [0.0]], \"filename\": \"toyplot\"}, {\"title\": \"Scatterplot Data\", \"names\": [\"x\", \"y0\"], \"id\": \"t77ee5096bbeb4051afeb1470ebb2635b\", \"columns\": [[0.0], [0.0]], \"filename\": \"toyplot\"}];\n",
       "\n",
       "          function save_csv(data_table)\n",
       "          {\n",
       "            var uri = \"data:text/csv;charset=utf-8,\";\n",
       "            uri += data_table.names.join(\",\") + \"\\n\";\n",
       "            for(var i = 0; i != data_table.columns[0].length; ++i)\n",
       "            {\n",
       "              for(var j = 0; j != data_table.columns.length; ++j)\n",
       "              {\n",
       "                if(j)\n",
       "                  uri += \",\";\n",
       "                uri += data_table.columns[j][i];\n",
       "              }\n",
       "              uri += \"\\n\";\n",
       "            }\n",
       "            uri = encodeURI(uri);\n",
       "\n",
       "            var link = document.createElement(\"a\");\n",
       "            if(typeof link.download != \"undefined\")\n",
       "            {\n",
       "              link.href = uri;\n",
       "              link.style = \"visibility:hidden\";\n",
       "              link.download = data_table.filename + \".csv\";\n",
       "\n",
       "              document.body.appendChild(link);\n",
       "              link.click();\n",
       "              document.body.removeChild(link);\n",
       "            }\n",
       "            else\n",
       "            {\n",
       "              window.open(uri);\n",
       "            }\n",
       "          }\n",
       "\n",
       "          function open_popup(data_table)\n",
       "          {\n",
       "            return function(e)\n",
       "            {\n",
       "              var popup = document.querySelector(\"#tb7fbb67d2b71413c851e90d6ce120f97 .toyplot-mark-popup\");\n",
       "              popup.querySelector(\".toyplot-mark-popup-title\").innerHTML = data_table.title;\n",
       "              popup.querySelector(\".toyplot-mark-popup-save-csv\").onclick = function() { popup.style.visibility = \"hidden\"; save_csv(data_table); }\n",
       "              popup.style.left = (e.clientX - 50) + \"px\";\n",
       "              popup.style.top = (e.clientY - 20) + \"px\";\n",
       "              popup.style.visibility = \"visible\";\n",
       "              e.stopPropagation();\n",
       "              e.preventDefault();\n",
       "            }\n",
       "\n",
       "          }\n",
       "\n",
       "          for(var i = 0; i != data_tables.length; ++i)\n",
       "          {\n",
       "            var data_table = data_tables[i];\n",
       "            var event_target = document.querySelector(\"#\" + data_table.id);\n",
       "            event_target.oncontextmenu = open_popup(data_table);\n",
       "          }\n",
       "        })();\n",
       "        </script></div></div>"
      ]
     },
     "metadata": {},
     "output_type": "display_data"
    }
   ],
   "source": [
    "canvas = toyplot.Canvas(width=500, height=300)\n",
    "\n",
    "axes = canvas.cartesian(grid=(1,3,0), xshow=False, yshow=False, label=\"default\")\n",
    "axes.vlines(0, color=\"lightgray\")\n",
    "axes.text(0, 0, \"a + b\", angle=45, style={\"font-size\":\"24px\"})\n",
    "axes.scatterplot(0, 0, color=\"black\", size=3)\n",
    "\n",
    "axes = canvas.cartesian(grid=(1,3,1), xshow=False, yshow=False, label=\"-toyplot-anchor-shift\")\n",
    "axes.vlines(0, color=\"lightgray\")\n",
    "axes.text(0, 0, \"a + b\", angle=45, style={\"-toyplot-anchor-shift\":\"20px\", \"font-size\":\"24px\"})\n",
    "axes.scatterplot(0, 0, color=\"black\", size=3)\n",
    "\n",
    "axes = canvas.cartesian(grid=(1,3,2), xshow=False, yshow=False, label=\"baseline-shift\")\n",
    "axes.vlines(0, color=\"lightgray\")\n",
    "axes.text(0, 0, \"a + b\", angle=45, style={\"baseline-shift\":\"-20px\", \"font-size\":\"24px\"})\n",
    "axes.scatterplot(0, 0, color=\"black\", size=3);\n"
   ]
  },
  {
   "cell_type": "markdown",
   "metadata": {},
   "source": [
    "## Rich Text\n",
    "\n",
    "In addition to positioning text using styles, you can use (a limited subset of) HTML markup to format your text.  For example, you can create text with superscripts and subscripts: "
   ]
  },
  {
   "cell_type": "code",
   "execution_count": 7,
   "metadata": {
    "collapsed": false
   },
   "outputs": [
    {
     "name": "stderr",
     "output_type": "stream",
     "text": [
      "DEBUG:toyplot:{'attrib': {'style': {'font-size': '32.0px'}, 'dy': 0}, 'tag': 'root', 'type': 'start'}\n",
      "DEBUG:toyplot:{'text': '100', 'type': 'text'}\n",
      "DEBUG:toyplot:{'attrib': {'style': {'font-size': '22.4px'}, 'dy': -9.6}, 'tag': 'sup', 'type': 'start'}\n",
      "DEBUG:toyplot:{'text': '-53', 'type': 'text'}\n",
      "DEBUG:toyplot:{'tag': 'sup', 'type': 'end'}\n",
      "DEBUG:toyplot:{'tag': 'root', 'type': 'end'}\n"
     ]
    },
    {
     "data": {
      "text/html": [
       "<div align=\"center\" class=\"toyplot\" id=\"t1b8ba4c2ddd84e0a8d187d05dab03b35\"><svg class=\"toyplot-canvas-Canvas\" height=\"150.0px\" id=\"tf805308ebce5411d88578fce03177c70\" preserveAspectRatio=\"xMidYMid meet\" style=\"background-color:transparent;fill:rgb(16.1%,15.3%,14.1%);fill-opacity:1.0;font-family:Helvetica;font-size:12px;opacity:1.0;stroke:rgb(16.1%,15.3%,14.1%);stroke-opacity:1.0;stroke-width:1.0\" viewBox=\"0 0 600.0 150.0\" width=\"600.0px\" xmlns=\"http://www.w3.org/2000/svg\" xmlns:toyplot=\"http://www.sandia.gov/toyplot\" xmlns:xlink=\"http://www.w3.org/1999/xlink\"><g class=\"toyplot-mark-Text\" id=\"t980071ebeaad4956a0d452ce5e620573\" style=\"alignment-baseline:middle;font-size:32px;font-weight:normal;stroke:none;text-anchor:middle\"><g class=\"toyplot-Series\"><text class=\"toyplot-Datum\" style=\"fill:rgb(16.1%,15.3%,14.1%);fill-opacity:1.0;font-size:32px;font-weight:normal;opacity:1.0;stroke:none;text-anchor:middle\" transform=\"translate(300.0,100.0)translate(0,9.0)\"><tspan style=\"font-size:32.0px\">100</tspan><tspan dy=\"-9.6\" style=\"font-size:22.4px\">-53</tspan></text></g></g></svg><div class=\"toyplot-interactive\"></div></div>"
      ]
     },
     "metadata": {},
     "output_type": "display_data"
    }
   ],
   "source": [
    "canvas = toyplot.Canvas(width=600, height=150)\n",
    "canvas.text(300, 100, \"100<sup>-53</sup>\", style={\"font-size\":\"32px\"});"
   ]
  },
  {
   "cell_type": "code",
   "execution_count": 8,
   "metadata": {
    "collapsed": false
   },
   "outputs": [
    {
     "name": "stderr",
     "output_type": "stream",
     "text": [
      "DEBUG:toyplot:{'attrib': {'style': {'font-size': '32.0px'}, 'dy': 0}, 'tag': 'root', 'type': 'start'}\n",
      "DEBUG:toyplot:{'text': 'H', 'type': 'text'}\n",
      "DEBUG:toyplot:{'attrib': {'style': {'font-size': '22.4px'}, 'dy': 6.4}, 'tag': 'sub', 'type': 'start'}\n",
      "DEBUG:toyplot:{'text': '2', 'type': 'text'}\n",
      "DEBUG:toyplot:{'tag': 'sub', 'type': 'end'}\n",
      "DEBUG:toyplot:{'text': 'O', 'type': 'text'}\n",
      "DEBUG:toyplot:{'tag': 'root', 'type': 'end'}\n"
     ]
    },
    {
     "data": {
      "text/html": [
       "<div align=\"center\" class=\"toyplot\" id=\"tef2c5975833645ee8e36c49ab2ed5292\"><svg class=\"toyplot-canvas-Canvas\" height=\"150.0px\" id=\"t1bf5c60a20984bb299b8e27fb46196f4\" preserveAspectRatio=\"xMidYMid meet\" style=\"background-color:transparent;fill:rgb(16.1%,15.3%,14.1%);fill-opacity:1.0;font-family:Helvetica;font-size:12px;opacity:1.0;stroke:rgb(16.1%,15.3%,14.1%);stroke-opacity:1.0;stroke-width:1.0\" viewBox=\"0 0 600.0 150.0\" width=\"600.0px\" xmlns=\"http://www.w3.org/2000/svg\" xmlns:toyplot=\"http://www.sandia.gov/toyplot\" xmlns:xlink=\"http://www.w3.org/1999/xlink\"><g class=\"toyplot-mark-Text\" id=\"t02f6b2e60af048128ca289eaab483d60\" style=\"alignment-baseline:middle;font-size:32px;font-weight:normal;stroke:none;text-anchor:middle\"><g class=\"toyplot-Series\"><text class=\"toyplot-Datum\" style=\"fill:rgb(16.1%,15.3%,14.1%);fill-opacity:1.0;font-size:32px;font-weight:normal;opacity:1.0;stroke:none;text-anchor:middle\" transform=\"translate(300.0,100.0)translate(0,9.0)\"><tspan style=\"font-size:32.0px\">H</tspan><tspan dy=\"6.4\" style=\"font-size:22.4px\">2</tspan><tspan dy=\"-6.4\" style=\"font-size:32.0px\">O</tspan></text></g></g></svg><div class=\"toyplot-interactive\"></div></div>"
      ]
     },
     "metadata": {},
     "output_type": "display_data"
    }
   ],
   "source": [
    "canvas = toyplot.Canvas(width=600, height=150)\n",
    "canvas.text(300, 100, \"H<sub>2</sub>O\", style={\"font-size\":\"32px\"});"
   ]
  },
  {
   "cell_type": "markdown",
   "metadata": {},
   "source": [
    "Note that you are free to nest superscripts and subscripts:"
   ]
  },
  {
   "cell_type": "code",
   "execution_count": 9,
   "metadata": {
    "collapsed": false
   },
   "outputs": [
    {
     "name": "stderr",
     "output_type": "stream",
     "text": [
      "DEBUG:toyplot:{'attrib': {'style': {'font-size': '32.0px'}, 'dy': 0}, 'tag': 'root', 'type': 'start'}\n",
      "DEBUG:toyplot:{'text': 'W', 'type': 'text'}\n",
      "DEBUG:toyplot:{'attrib': {'style': {'font-size': '22.4px'}, 'dy': -9.6}, 'tag': 'sup', 'type': 'start'}\n",
      "DEBUG:toyplot:{'text': 'X', 'type': 'text'}\n",
      "DEBUG:toyplot:{'attrib': {'style': {'font-size': '15.68px'}, 'dy': 4.4799999999999995}, 'tag': 'sub', 'type': 'start'}\n",
      "DEBUG:toyplot:{'text': 'Y', 'type': 'text'}\n",
      "DEBUG:toyplot:{'tag': 'sub', 'type': 'end'}\n",
      "DEBUG:toyplot:{'attrib': {'style': {'font-size': '15.68px'}, 'dy': -6.72}, 'tag': 'sup', 'type': 'start'}\n",
      "DEBUG:toyplot:{'text': 'Z', 'type': 'text'}\n",
      "DEBUG:toyplot:{'tag': 'sup', 'type': 'end'}\n",
      "DEBUG:toyplot:{'tag': 'sup', 'type': 'end'}\n",
      "DEBUG:toyplot:{'tag': 'root', 'type': 'end'}\n"
     ]
    },
    {
     "data": {
      "text/html": [
       "<div align=\"center\" class=\"toyplot\" id=\"t89bc0f3e19164d0594e8054fb0c26a37\"><svg class=\"toyplot-canvas-Canvas\" height=\"150.0px\" id=\"t9e98a97b7f054625a5686eedeae2c61d\" preserveAspectRatio=\"xMidYMid meet\" style=\"background-color:transparent;fill:rgb(16.1%,15.3%,14.1%);fill-opacity:1.0;font-family:Helvetica;font-size:12px;opacity:1.0;stroke:rgb(16.1%,15.3%,14.1%);stroke-opacity:1.0;stroke-width:1.0\" viewBox=\"0 0 600.0 150.0\" width=\"600.0px\" xmlns=\"http://www.w3.org/2000/svg\" xmlns:toyplot=\"http://www.sandia.gov/toyplot\" xmlns:xlink=\"http://www.w3.org/1999/xlink\"><g class=\"toyplot-mark-Text\" id=\"t772fcdb6a0644a2ab1a652d157d432a3\" style=\"alignment-baseline:middle;font-size:32px;font-weight:normal;stroke:none;text-anchor:middle\"><g class=\"toyplot-Series\"><text class=\"toyplot-Datum\" style=\"fill:rgb(16.1%,15.3%,14.1%);fill-opacity:1.0;font-size:32px;font-weight:normal;opacity:1.0;stroke:none;text-anchor:middle\" transform=\"translate(300.0,100.0)translate(0,9.0)\"><tspan style=\"font-size:32.0px\">W</tspan><tspan dy=\"-9.6\" style=\"font-size:22.4px\">X</tspan><tspan dy=\"4.48\" style=\"font-size:15.68px\">Y</tspan><tspan dy=\"-11.2\" style=\"font-size:15.68px\">Z</tspan></text></g></g></svg><div class=\"toyplot-interactive\"></div></div>"
      ]
     },
     "metadata": {},
     "output_type": "display_data"
    }
   ],
   "source": [
    "canvas = toyplot.Canvas(width=600, height=150)\n",
    "canvas.text(300, 100, \"W<sup>X<sub>Y</sub><sup>Z</sup></sup>\", style={\"font-size\":\"32px\"});"
   ]
  },
  {
   "cell_type": "markdown",
   "metadata": {},
   "source": [
    "There are a variety of tags to alter the inline appearance of text:"
   ]
  },
  {
   "cell_type": "code",
   "execution_count": 10,
   "metadata": {
    "collapsed": false
   },
   "outputs": [
    {
     "name": "stderr",
     "output_type": "stream",
     "text": [
      "DEBUG:toyplot:{'attrib': {'style': {'font-size': '24.0px'}, 'dy': 0}, 'tag': 'root', 'type': 'start'}\n",
      "DEBUG:toyplot:{'text': 'normal ', 'type': 'text'}\n",
      "DEBUG:toyplot:{'attrib': {'style': {'font-size': '24.0px', 'font-weight': 'bold'}, 'dy': 0}, 'tag': 'b', 'type': 'start'}\n",
      "DEBUG:toyplot:{'text': 'bold', 'type': 'text'}\n",
      "DEBUG:toyplot:{'tag': 'b', 'type': 'end'}\n",
      "DEBUG:toyplot:{'text': ' ', 'type': 'text'}\n",
      "DEBUG:toyplot:{'attrib': {'style': {'font-size': '24.0px', 'font-style': 'italic'}, 'dy': 0}, 'tag': 'i', 'type': 'start'}\n",
      "DEBUG:toyplot:{'text': 'italic', 'type': 'text'}\n",
      "DEBUG:toyplot:{'tag': 'i', 'type': 'end'}\n",
      "DEBUG:toyplot:{'text': ' ', 'type': 'text'}\n",
      "DEBUG:toyplot:{'attrib': {'style': {'font-size': '24.0px', 'font-weight': 'bold'}, 'dy': 0}, 'tag': 'strong', 'type': 'start'}\n",
      "DEBUG:toyplot:{'text': 'strong', 'type': 'text'}\n",
      "DEBUG:toyplot:{'tag': 'strong', 'type': 'end'}\n",
      "DEBUG:toyplot:{'text': ' ', 'type': 'text'}\n",
      "DEBUG:toyplot:{'attrib': {'style': {'font-size': '24.0px', 'font-style': 'italic'}, 'dy': 0}, 'tag': 'em', 'type': 'start'}\n",
      "DEBUG:toyplot:{'text': 'emphasis', 'type': 'text'}\n",
      "DEBUG:toyplot:{'tag': 'em', 'type': 'end'}\n",
      "DEBUG:toyplot:{'text': ' ', 'type': 'text'}\n",
      "DEBUG:toyplot:{'attrib': {'style': {'font-size': '19.2px'}, 'dy': 0}, 'tag': 'small', 'type': 'start'}\n",
      "DEBUG:toyplot:{'text': 'small', 'type': 'text'}\n",
      "DEBUG:toyplot:{'tag': 'small', 'type': 'end'}\n",
      "DEBUG:toyplot:{'text': ' ', 'type': 'text'}\n",
      "DEBUG:toyplot:{'attrib': {'style': {'font-size': '24.0px', 'font-family': 'monospace'}, 'dy': 0}, 'tag': 'code', 'type': 'start'}\n",
      "DEBUG:toyplot:{'text': 'code', 'type': 'text'}\n",
      "DEBUG:toyplot:{'tag': 'code', 'type': 'end'}\n",
      "DEBUG:toyplot:{'tag': 'root', 'type': 'end'}\n"
     ]
    },
    {
     "data": {
      "text/html": [
       "<div align=\"center\" class=\"toyplot\" id=\"t0f12d03a72734e79a057d690e09ef370\"><svg class=\"toyplot-canvas-Canvas\" height=\"150.0px\" id=\"t37e1af35787f482b8f08dca03b7d8c17\" preserveAspectRatio=\"xMidYMid meet\" style=\"background-color:transparent;fill:rgb(16.1%,15.3%,14.1%);fill-opacity:1.0;font-family:Helvetica;font-size:12px;opacity:1.0;stroke:rgb(16.1%,15.3%,14.1%);stroke-opacity:1.0;stroke-width:1.0\" viewBox=\"0 0 600.0 150.0\" width=\"600.0px\" xmlns=\"http://www.w3.org/2000/svg\" xmlns:toyplot=\"http://www.sandia.gov/toyplot\" xmlns:xlink=\"http://www.w3.org/1999/xlink\"><g class=\"toyplot-mark-Text\" id=\"t25c99293420e4cf38da7d456c4d82125\" style=\"alignment-baseline:middle;font-size:24px;font-weight:normal;stroke:none;text-anchor:middle\"><g class=\"toyplot-Series\"><text class=\"toyplot-Datum\" style=\"fill:rgb(16.1%,15.3%,14.1%);fill-opacity:1.0;font-size:24px;font-weight:normal;opacity:1.0;stroke:none;text-anchor:middle\" transform=\"translate(300.0,100.0)translate(0,6.75)\"><tspan style=\"font-size:24.0px\">normal </tspan><tspan style=\"font-size:24.0px;font-weight:bold\">bold</tspan><tspan style=\"font-size:24.0px\"> </tspan><tspan style=\"font-size:24.0px;font-style:italic\">italic</tspan><tspan style=\"font-size:24.0px\"> </tspan><tspan style=\"font-size:24.0px;font-weight:bold\">strong</tspan><tspan style=\"font-size:24.0px\"> </tspan><tspan style=\"font-size:24.0px;font-style:italic\">emphasis</tspan><tspan style=\"font-size:24.0px\"> </tspan><tspan style=\"font-size:19.2px\">small</tspan><tspan style=\"font-size:24.0px\"> </tspan><tspan style=\"font-family:monospace;font-size:24.0px\">code</tspan></text></g></g></svg><div class=\"toyplot-interactive\"></div></div>"
      ]
     },
     "metadata": {},
     "output_type": "display_data"
    }
   ],
   "source": [
    "canvas = toyplot.Canvas(width=600, height=150)\n",
    "canvas.text(\n",
    "    300,\n",
    "    100,\n",
    "    \"normal <b>bold</b> <i>italic</i> <strong>strong</strong> <em>emphasis</em> <small>small</small> <code>code</code>\",\n",
    "    style={\"font-size\":\"24px\"});"
   ]
  },
  {
   "cell_type": "markdown",
   "metadata": {},
   "source": [
    "And these tags can be nested as well:"
   ]
  },
  {
   "cell_type": "code",
   "execution_count": 11,
   "metadata": {
    "collapsed": false
   },
   "outputs": [
    {
     "name": "stderr",
     "output_type": "stream",
     "text": [
      "DEBUG:toyplot:{'attrib': {'style': {'font-size': '32.0px'}, 'dy': 0}, 'tag': 'root', 'type': 'start'}\n",
      "DEBUG:toyplot:{'text': 'foo ', 'type': 'text'}\n",
      "DEBUG:toyplot:{'attrib': {'style': {'font-size': '32.0px', 'font-weight': 'bold'}, 'dy': 0}, 'tag': 'b', 'type': 'start'}\n",
      "DEBUG:toyplot:{'text': 'bar ', 'type': 'text'}\n",
      "DEBUG:toyplot:{'attrib': {'style': {'font-size': '32.0px', 'font-style': 'italic'}, 'dy': 0}, 'tag': 'i', 'type': 'start'}\n",
      "DEBUG:toyplot:{'text': 'baz ', 'type': 'text'}\n",
      "DEBUG:toyplot:{'attrib': {'style': {'font-size': '32.0px', 'font-family': 'monospace'}, 'dy': 0}, 'tag': 'code', 'type': 'start'}\n",
      "DEBUG:toyplot:{'text': 'blah', 'type': 'text'}\n",
      "DEBUG:toyplot:{'tag': 'code', 'type': 'end'}\n",
      "DEBUG:toyplot:{'tag': 'i', 'type': 'end'}\n",
      "DEBUG:toyplot:{'tag': 'b', 'type': 'end'}\n",
      "DEBUG:toyplot:{'tag': 'root', 'type': 'end'}\n"
     ]
    },
    {
     "data": {
      "text/html": [
       "<div align=\"center\" class=\"toyplot\" id=\"t33e275193daa41b6a50456d37d97a0cc\"><svg class=\"toyplot-canvas-Canvas\" height=\"150.0px\" id=\"tcfbe166145374ea5a887f533e02f5867\" preserveAspectRatio=\"xMidYMid meet\" style=\"background-color:transparent;fill:rgb(16.1%,15.3%,14.1%);fill-opacity:1.0;font-family:Helvetica;font-size:12px;opacity:1.0;stroke:rgb(16.1%,15.3%,14.1%);stroke-opacity:1.0;stroke-width:1.0\" viewBox=\"0 0 600.0 150.0\" width=\"600.0px\" xmlns=\"http://www.w3.org/2000/svg\" xmlns:toyplot=\"http://www.sandia.gov/toyplot\" xmlns:xlink=\"http://www.w3.org/1999/xlink\"><g class=\"toyplot-mark-Text\" id=\"t3a7c42d9002a498fadb7d027c2aa92df\" style=\"alignment-baseline:middle;font-size:32px;font-weight:normal;stroke:none;text-anchor:middle\"><g class=\"toyplot-Series\"><text class=\"toyplot-Datum\" style=\"fill:rgb(16.1%,15.3%,14.1%);fill-opacity:1.0;font-size:32px;font-weight:normal;opacity:1.0;stroke:none;text-anchor:middle\" transform=\"translate(300.0,100.0)translate(0,9.0)\"><tspan style=\"font-size:32.0px\">foo </tspan><tspan style=\"font-size:32.0px;font-weight:bold\">bar </tspan><tspan style=\"font-size:32.0px;font-style:italic;font-weight:bold\">baz </tspan><tspan style=\"font-family:monospace;font-size:32.0px;font-style:italic;font-weight:bold\">blah</tspan></text></g></g></svg><div class=\"toyplot-interactive\"></div></div>"
      ]
     },
     "metadata": {},
     "output_type": "display_data"
    }
   ],
   "source": [
    "canvas = toyplot.Canvas(width=600, height=150)\n",
    "canvas.text(300, 100, \"foo <b>bar <i>baz <code>blah</code></i></b>\", style={\"font-size\":\"32px\"});"
   ]
  },
  {
   "cell_type": "markdown",
   "metadata": {},
   "source": [
    "Finally, you can insert line breaks into your text using the &lt;br/&gt; tag:"
   ]
  },
  {
   "cell_type": "code",
   "execution_count": 12,
   "metadata": {
    "collapsed": false
   },
   "outputs": [
    {
     "name": "stderr",
     "output_type": "stream",
     "text": [
      "DEBUG:toyplot:{'attrib': {'style': {'font-size': '16.0px'}, 'dy': 0}, 'tag': 'root', 'type': 'start'}\n",
      "DEBUG:toyplot:{'text': '0.567832', 'type': 'text'}\n",
      "DEBUG:toyplot:{'attrib': {'style': {'font-size': '16.0px'}, 'dy': 0}, 'tag': 'br', 'type': 'start'}\n",
      "DEBUG:toyplot:{'tag': 'br', 'type': 'end'}\n",
      "DEBUG:toyplot:{'attrib': {'style': {'font-size': '12.8px'}, 'dy': 0}, 'tag': 'small', 'type': 'start'}\n",
      "DEBUG:toyplot:{'text': '(243, 128, 19)', 'type': 'text'}\n",
      "DEBUG:toyplot:{'tag': 'small', 'type': 'end'}\n",
      "DEBUG:toyplot:{'tag': 'root', 'type': 'end'}\n"
     ]
    },
    {
     "data": {
      "text/html": [
       "<div align=\"center\" class=\"toyplot\" id=\"ta662d56e5e8b40a69556d36f87f85b14\"><svg class=\"toyplot-canvas-Canvas\" height=\"200.0px\" id=\"t21f495b4151f470d98a71f39bc397b5f\" preserveAspectRatio=\"xMidYMid meet\" style=\"background-color:transparent;fill:rgb(16.1%,15.3%,14.1%);fill-opacity:1.0;font-family:Helvetica;font-size:12px;opacity:1.0;stroke:rgb(16.1%,15.3%,14.1%);stroke-opacity:1.0;stroke-width:1.0\" viewBox=\"0 0 600.0 200.0\" width=\"600.0px\" xmlns=\"http://www.w3.org/2000/svg\" xmlns:toyplot=\"http://www.sandia.gov/toyplot\" xmlns:xlink=\"http://www.w3.org/1999/xlink\"><g class=\"toyplot-mark-Text\" id=\"t474be5f6f24e40fa80b36cd0f0611fcc\" style=\"alignment-baseline:middle;font-size:16px;font-weight:normal;stroke:none;text-anchor:middle\"><g class=\"toyplot-Series\"><text class=\"toyplot-Datum\" style=\"fill:rgb(16.1%,15.3%,14.1%);fill-opacity:1.0;font-size:16px;font-weight:normal;opacity:1.0;stroke:none;text-anchor:middle\" transform=\"translate(300.0,100.0)translate(0,4.5)\"><tspan style=\"font-size:16.0px\">0.567832</tspan><tspan dy=\"19.2\" style=\"font-size:12.8px\" x=\"0\">(243, 128, 19)</tspan></text></g></g></svg><div class=\"toyplot-interactive\"></div></div>"
      ]
     },
     "metadata": {},
     "output_type": "display_data"
    }
   ],
   "source": [
    "canvas = toyplot.Canvas(width=600, height=200)\n",
    "canvas.text(300, 100, \"0.567832<br/><small>(243, 128, 19)</small>\", style={\"font-size\":\"16px\"});"
   ]
  },
  {
   "cell_type": "code",
   "execution_count": 13,
   "metadata": {
    "collapsed": false
   },
   "outputs": [
    {
     "name": "stderr",
     "output_type": "stream",
     "text": [
      "DEBUG:toyplot:{'attrib': {'style': {'font-size': '16.0px'}, 'dy': 0}, 'tag': 'root', 'type': 'start'}\n",
      "DEBUG:toyplot:{'text': 'This is a ', 'type': 'text'}\n",
      "DEBUG:toyplot:{'attrib': {'style': {'font-size': '24.0px', 'fill': 'red'}, 'dy': 0}, 'tag': 'span', 'type': 'start'}\n",
      "DEBUG:toyplot:{'text': 'special', 'type': 'text'}\n",
      "DEBUG:toyplot:{'tag': 'span', 'type': 'end'}\n",
      "DEBUG:toyplot:{'text': ' word.', 'type': 'text'}\n",
      "DEBUG:toyplot:{'tag': 'root', 'type': 'end'}\n"
     ]
    },
    {
     "data": {
      "text/html": [
       "<div align=\"center\" class=\"toyplot\" id=\"t6bb6bef5f59e4eecaea5b987f488ea9e\"><svg class=\"toyplot-canvas-Canvas\" height=\"200.0px\" id=\"t99d007632c24476f837470ec960f9e9c\" preserveAspectRatio=\"xMidYMid meet\" style=\"background-color:transparent;fill:rgb(16.1%,15.3%,14.1%);fill-opacity:1.0;font-family:Helvetica;font-size:12px;opacity:1.0;stroke:rgb(16.1%,15.3%,14.1%);stroke-opacity:1.0;stroke-width:1.0\" viewBox=\"0 0 600.0 200.0\" width=\"600.0px\" xmlns=\"http://www.w3.org/2000/svg\" xmlns:toyplot=\"http://www.sandia.gov/toyplot\" xmlns:xlink=\"http://www.w3.org/1999/xlink\"><g class=\"toyplot-mark-Text\" id=\"t13ebbc2bb9d145ca9178a9ebd57d9088\" style=\"alignment-baseline:middle;font-size:16px;font-weight:normal;stroke:none;text-anchor:middle\"><g class=\"toyplot-Series\"><text class=\"toyplot-Datum\" style=\"fill:rgb(16.1%,15.3%,14.1%);fill-opacity:1.0;font-size:16px;font-weight:normal;opacity:1.0;stroke:none;text-anchor:middle\" transform=\"translate(300.0,100.0)translate(0,4.5)\"><tspan style=\"font-size:16.0px\">This is a </tspan><tspan style=\"fill:rgb(100%,0%,0%);fill-opacity:1.0;font-size:24.0px\">special</tspan><tspan style=\"font-size:16.0px\"> word.</tspan></text></g></g></svg><div class=\"toyplot-interactive\"></div></div>"
      ]
     },
     "metadata": {},
     "output_type": "display_data"
    }
   ],
   "source": [
    "canvas = toyplot.Canvas(width=600, height=200)\n",
    "canvas.text(300, 100, \"This is a <span style='fill:red;font-size:150%'>special</span> word.\", style={\"font-size\":\"16px\"});"
   ]
  },
  {
   "cell_type": "markdown",
   "metadata": {},
   "source": [
    "Note that additional tags and style attributes currently aren't allowed in rich-text.  We expect that the set of tags and attributes will expand in the future."
   ]
  },
  {
   "cell_type": "markdown",
   "metadata": {},
   "source": [
    "Keep in mind that you can use rich text formatting anywhere that text is displayed, including table cells, axis labels and tick labels.  You can also use rich text in format strings for tick locators - as an example, the :class:`toyplot.locator.Log` locator uses superscript tags to format tick labels for :ref:`log-scales`."
   ]
  },
  {
   "cell_type": "markdown",
   "metadata": {
    "collapsed": true
   },
   "source": [
    "## Coordinate System Text\n",
    "\n",
    "In addition to all the above, :ref:`cartesian-coordinates` and :ref:`numberline-coordinates` provide additional parameters that affect text layout and alignment.\n",
    "\n",
    "First, ticks and labels have a parameter `location` that controls whether they appear above or below an axis:"
   ]
  },
  {
   "cell_type": "code",
   "execution_count": 14,
   "metadata": {
    "collapsed": false
   },
   "outputs": [
    {
     "name": "stderr",
     "output_type": "stream",
     "text": [
      "DEBUG:toyplot:{'attrib': {'style': {'font-size': '10.0px'}, 'dy': 0}, 'tag': 'root', 'type': 'start'}\n",
      "DEBUG:toyplot:{'text': '-0.5', 'type': 'text'}\n",
      "DEBUG:toyplot:{'tag': 'root', 'type': 'end'}\n",
      "DEBUG:toyplot:{'attrib': {'style': {'font-size': '10.0px'}, 'dy': 0}, 'tag': 'root', 'type': 'start'}\n",
      "DEBUG:toyplot:{'text': '0.0', 'type': 'text'}\n",
      "DEBUG:toyplot:{'tag': 'root', 'type': 'end'}\n",
      "DEBUG:toyplot:{'attrib': {'style': {'font-size': '10.0px'}, 'dy': 0}, 'tag': 'root', 'type': 'start'}\n",
      "DEBUG:toyplot:{'text': '0.5', 'type': 'text'}\n",
      "DEBUG:toyplot:{'tag': 'root', 'type': 'end'}\n",
      "DEBUG:toyplot:{'attrib': {'style': {'font-size': '10.0px'}, 'dy': 0}, 'tag': 'root', 'type': 'start'}\n",
      "DEBUG:toyplot:{'text': '-0.5', 'type': 'text'}\n",
      "DEBUG:toyplot:{'tag': 'root', 'type': 'end'}\n",
      "DEBUG:toyplot:{'attrib': {'style': {'font-size': '10.0px'}, 'dy': 0}, 'tag': 'root', 'type': 'start'}\n",
      "DEBUG:toyplot:{'text': '0.0', 'type': 'text'}\n",
      "DEBUG:toyplot:{'tag': 'root', 'type': 'end'}\n",
      "DEBUG:toyplot:{'attrib': {'style': {'font-size': '10.0px'}, 'dy': 0}, 'tag': 'root', 'type': 'start'}\n",
      "DEBUG:toyplot:{'text': '0.5', 'type': 'text'}\n",
      "DEBUG:toyplot:{'tag': 'root', 'type': 'end'}\n"
     ]
    },
    {
     "data": {
      "text/html": [
       "<div align=\"center\" class=\"toyplot\" id=\"te5bb6594e7974ebea73b05f18259d957\"><svg class=\"toyplot-canvas-Canvas\" height=\"200.0px\" id=\"t1e263a01045d4c27b0600f490cfe25aa\" preserveAspectRatio=\"xMidYMid meet\" style=\"background-color:transparent;fill:rgb(16.1%,15.3%,14.1%);fill-opacity:1.0;font-family:Helvetica;font-size:12px;opacity:1.0;stroke:rgb(16.1%,15.3%,14.1%);stroke-opacity:1.0;stroke-width:1.0\" viewBox=\"0 0 600.0 200.0\" width=\"600.0px\" xmlns=\"http://www.w3.org/2000/svg\" xmlns:toyplot=\"http://www.sandia.gov/toyplot\" xmlns:xlink=\"http://www.w3.org/1999/xlink\"><g class=\"toyplot-coordinates-Numberline\" id=\"t5776aa7cb1634a51840e52111aa0c636\"><clipPath id=\"t48fc4c2742d445c4955a30f27c315ac3\"><rect height=\"40.0\" width=\"500.0\" x=\"0\" y=\"-20.0\"></rect></clipPath><g clip-path=\"url(#t48fc4c2742d445c4955a30f27c315ac3)\" transform=\"translate(50.0,50.0)\"></g><g class=\"toyplot-coordinates-Axis\" id=\"t575d3c30ce444492a5881ede681710b0\" transform=\"translate(50.0,50.0)translate(0,20.0)\"><line style=\"\" x1=\"0\" x2=\"500.0\" y1=\"0\" y2=\"0\"></line><g><text style=\"font-size:10px;font-weight:normal;stroke:none;text-anchor:middle\" transform=\"translate(0.0,-6)\"><tspan style=\"font-size:10.0px\">-0.5</tspan></text><text style=\"font-size:10px;font-weight:normal;stroke:none;text-anchor:middle\" transform=\"translate(250.0,-6)\"><tspan style=\"font-size:10.0px\">0.0</tspan></text><text style=\"font-size:10px;font-weight:normal;stroke:none;text-anchor:middle\" transform=\"translate(500.0,-6)\"><tspan style=\"font-size:10.0px\">0.5</tspan></text></g><g class=\"toyplot-coordinates-Axis-coordinates\" style=\"visibility:hidden\" transform=\"\"><line style=\"stroke:rgb(43.9%,50.2%,56.5%);stroke-opacity:1.0;stroke-width:1.0\" x1=\"0\" x2=\"0\" y1=\"3.0\" y2=\"-4.5\"></line><text style=\"alignment-baseline:hanging;fill:rgb(43.9%,50.2%,56.5%);fill-opacity:1.0;font-size:10px;font-weight:normal;stroke:none;text-anchor:middle\" x=\"0\" y=\"6\"></text></g></g></g><g class=\"toyplot-coordinates-Numberline\" id=\"tae065632374e4837b64d6ea20329da2a\"><clipPath id=\"t6dcd3695805b4a7591c219bb82adadff\"><rect height=\"40.0\" width=\"500.0\" x=\"0\" y=\"-20.0\"></rect></clipPath><g clip-path=\"url(#t6dcd3695805b4a7591c219bb82adadff)\" transform=\"translate(50.0,150.0)\"></g><g class=\"toyplot-coordinates-Axis\" id=\"t8420ee9334904459962e598b8ea4d24f\" transform=\"translate(50.0,150.0)translate(0,20.0)\"><line style=\"\" x1=\"0\" x2=\"500.0\" y1=\"0\" y2=\"0\"></line><g><text style=\"font-size:10px;font-weight:normal;stroke:none;text-anchor:middle\" transform=\"translate(0.0,6)translate(0,7.5)\"><tspan style=\"font-size:10.0px\">-0.5</tspan></text><text style=\"font-size:10px;font-weight:normal;stroke:none;text-anchor:middle\" transform=\"translate(250.0,6)translate(0,7.5)\"><tspan style=\"font-size:10.0px\">0.0</tspan></text><text style=\"font-size:10px;font-weight:normal;stroke:none;text-anchor:middle\" transform=\"translate(500.0,6)translate(0,7.5)\"><tspan style=\"font-size:10.0px\">0.5</tspan></text></g><g class=\"toyplot-coordinates-Axis-coordinates\" style=\"visibility:hidden\" transform=\"\"><line style=\"stroke:rgb(43.9%,50.2%,56.5%);stroke-opacity:1.0;stroke-width:1.0\" x1=\"0\" x2=\"0\" y1=\"-3.0\" y2=\"4.5\"></line><text style=\"alignment-baseline:alphabetic;fill:rgb(43.9%,50.2%,56.5%);fill-opacity:1.0;font-size:10px;font-weight:normal;stroke:none;text-anchor:middle\" x=\"0\" y=\"-6\"></text></g></g></g></svg><div class=\"toyplot-interactive\"><script>\n",
       "        (function()\n",
       "        {\n",
       "            function _sign(x)\n",
       "            {\n",
       "                return x < 0 ? -1 : x > 0 ? 1 : 0;\n",
       "            }\n",
       "\n",
       "            function _mix(a, b, amount)\n",
       "            {\n",
       "                return ((1.0 - amount) * a) + (amount * b);\n",
       "            }\n",
       "\n",
       "            function _log(x, base)\n",
       "            {\n",
       "                return Math.log(Math.abs(x)) / Math.log(base);\n",
       "            }\n",
       "\n",
       "            function _in_range(a, x, b)\n",
       "            {\n",
       "                var left = Math.min(a, b);\n",
       "                var right = Math.max(a, b);\n",
       "                return left <= x && x <= right;\n",
       "            }\n",
       "\n",
       "            function inside(range, projection)\n",
       "            {\n",
       "                for(var i = 0; i != projection.length; ++i)\n",
       "                {\n",
       "                    var segment = projection[i];\n",
       "                    if(_in_range(segment.range.min, range, segment.range.max))\n",
       "                        return true;\n",
       "                }\n",
       "                return false;\n",
       "            }\n",
       "\n",
       "            function to_domain(range, projection)\n",
       "            {\n",
       "                for(var i = 0; i != projection.length; ++i)\n",
       "                {\n",
       "                    var segment = projection[i];\n",
       "                    if(_in_range(segment.range.bounds.min, range, segment.range.bounds.max))\n",
       "                    {\n",
       "                        if(segment.scale == \"linear\")\n",
       "                        {\n",
       "                            var amount = (range - segment.range.min) / (segment.range.max - segment.range.min);\n",
       "                            return _mix(segment.domain.min, segment.domain.max, amount)\n",
       "                        }\n",
       "                        else if(segment.scale[0] == \"log\")\n",
       "                        {\n",
       "                            var amount = (range - segment.range.min) / (segment.range.max - segment.range.min);\n",
       "                            var base = segment.scale[1];\n",
       "                            return _sign(segment.domain.min) * Math.pow(base, _mix(_log(segment.domain.min, base), _log(segment.domain.max, base), amount));\n",
       "                        }\n",
       "                    }\n",
       "                }\n",
       "            }\n",
       "\n",
       "            function display_coordinates(e)\n",
       "            {\n",
       "                var current = svg.createSVGPoint();\n",
       "                current.x = e.clientX;\n",
       "                current.y = e.clientY;\n",
       "\n",
       "                for(var axis_id in axes)\n",
       "                {\n",
       "                    var axis = document.querySelector(\"#\" + axis_id);\n",
       "                    var coordinates = axis.querySelector(\".toyplot-coordinates-Axis-coordinates\");\n",
       "                    if(coordinates)\n",
       "                    {\n",
       "                        var projection = axes[axis_id];\n",
       "                        var local = current.matrixTransform(axis.getScreenCTM().inverse());\n",
       "                        if(inside(local.x, projection))\n",
       "                        {\n",
       "                            var domain = to_domain(local.x, projection);\n",
       "                            coordinates.style.visibility = \"visible\";\n",
       "                            coordinates.setAttribute(\"transform\", \"translate(\" + local.x + \")\");\n",
       "                            var text = coordinates.querySelector(\"text\");\n",
       "                            text.textContent = domain.toFixed(2);\n",
       "                        }\n",
       "                        else\n",
       "                        {\n",
       "                            coordinates.style.visibility= \"hidden\";\n",
       "                        }\n",
       "                    }\n",
       "                }\n",
       "            }\n",
       "\n",
       "            var root_id = \"te5bb6594e7974ebea73b05f18259d957\";\n",
       "            var axes = {\"t575d3c30ce444492a5881ede681710b0\": [{\"domain\": {\"bounds\": {\"max\": Infinity, \"min\": -Infinity}, \"max\": 0.5, \"min\": -0.5}, \"range\": {\"bounds\": {\"max\": Infinity, \"min\": -Infinity}, \"max\": 500.0, \"min\": 0.0}, \"scale\": \"linear\"}], \"t8420ee9334904459962e598b8ea4d24f\": [{\"domain\": {\"bounds\": {\"max\": Infinity, \"min\": -Infinity}, \"max\": 0.5, \"min\": -0.5}, \"range\": {\"bounds\": {\"max\": Infinity, \"min\": -Infinity}, \"max\": 500.0, \"min\": 0.0}, \"scale\": \"linear\"}]};\n",
       "\n",
       "            var svg = document.querySelector(\"#\" + root_id + \" svg\");\n",
       "            svg.addEventListener(\"click\", display_coordinates);\n",
       "        })();\n",
       "        </script></div></div>"
      ]
     },
     "metadata": {},
     "output_type": "display_data"
    }
   ],
   "source": [
    "canvas = toyplot.Canvas(width=600, height=200)\n",
    "\n",
    "numberline1 = canvas.numberline(grid=(2, 1, 0))\n",
    "numberline1.axis.ticks.location=\"above\"\n",
    "\n",
    "numberline2 = canvas.numberline(grid=(2, 1, 1))\n",
    "numberline2.axis.ticks.location=\"below\""
   ]
  },
  {
   "cell_type": "markdown",
   "metadata": {},
   "source": [
    "Note that although the location can be specified explicitly, in most cases the defaults should just work ... note how the location of the Y axis ticks and labels automatically changes from \"above\" to \"below\" when the Y axis spine is repositioned in the following example:"
   ]
  },
  {
   "cell_type": "code",
   "execution_count": 15,
   "metadata": {
    "collapsed": false
   },
   "outputs": [
    {
     "name": "stderr",
     "output_type": "stream",
     "text": [
      "DEBUG:toyplot:{'attrib': {'style': {'font-size': '10.0px'}, 'dy': 0}, 'tag': 'root', 'type': 'start'}\n",
      "DEBUG:toyplot:{'text': '-0.5', 'type': 'text'}\n",
      "DEBUG:toyplot:{'tag': 'root', 'type': 'end'}\n",
      "DEBUG:toyplot:{'attrib': {'style': {'font-size': '10.0px'}, 'dy': 0}, 'tag': 'root', 'type': 'start'}\n",
      "DEBUG:toyplot:{'text': '0.0', 'type': 'text'}\n",
      "DEBUG:toyplot:{'tag': 'root', 'type': 'end'}\n",
      "DEBUG:toyplot:{'attrib': {'style': {'font-size': '10.0px'}, 'dy': 0}, 'tag': 'root', 'type': 'start'}\n",
      "DEBUG:toyplot:{'text': '0.5', 'type': 'text'}\n",
      "DEBUG:toyplot:{'tag': 'root', 'type': 'end'}\n",
      "DEBUG:toyplot:{'attrib': {'style': {'font-size': '10.0px'}, 'dy': 0}, 'tag': 'root', 'type': 'start'}\n",
      "DEBUG:toyplot:{'text': '-0.5', 'type': 'text'}\n",
      "DEBUG:toyplot:{'tag': 'root', 'type': 'end'}\n",
      "DEBUG:toyplot:{'attrib': {'style': {'font-size': '10.0px'}, 'dy': 0}, 'tag': 'root', 'type': 'start'}\n",
      "DEBUG:toyplot:{'text': '0.0', 'type': 'text'}\n",
      "DEBUG:toyplot:{'tag': 'root', 'type': 'end'}\n",
      "DEBUG:toyplot:{'attrib': {'style': {'font-size': '10.0px'}, 'dy': 0}, 'tag': 'root', 'type': 'start'}\n",
      "DEBUG:toyplot:{'text': '0.5', 'type': 'text'}\n",
      "DEBUG:toyplot:{'tag': 'root', 'type': 'end'}\n",
      "DEBUG:toyplot:{'attrib': {'style': {'font-size': '10.0px'}, 'dy': 0}, 'tag': 'root', 'type': 'start'}\n",
      "DEBUG:toyplot:{'text': '-0.5', 'type': 'text'}\n",
      "DEBUG:toyplot:{'tag': 'root', 'type': 'end'}\n",
      "DEBUG:toyplot:{'attrib': {'style': {'font-size': '10.0px'}, 'dy': 0}, 'tag': 'root', 'type': 'start'}\n",
      "DEBUG:toyplot:{'text': '0.0', 'type': 'text'}\n",
      "DEBUG:toyplot:{'tag': 'root', 'type': 'end'}\n",
      "DEBUG:toyplot:{'attrib': {'style': {'font-size': '10.0px'}, 'dy': 0}, 'tag': 'root', 'type': 'start'}\n",
      "DEBUG:toyplot:{'text': '0.5', 'type': 'text'}\n",
      "DEBUG:toyplot:{'tag': 'root', 'type': 'end'}\n",
      "DEBUG:toyplot:{'attrib': {'style': {'font-size': '10.0px'}, 'dy': 0}, 'tag': 'root', 'type': 'start'}\n",
      "DEBUG:toyplot:{'text': '-0.5', 'type': 'text'}\n",
      "DEBUG:toyplot:{'tag': 'root', 'type': 'end'}\n",
      "DEBUG:toyplot:{'attrib': {'style': {'font-size': '10.0px'}, 'dy': 0}, 'tag': 'root', 'type': 'start'}\n",
      "DEBUG:toyplot:{'text': '0.0', 'type': 'text'}\n",
      "DEBUG:toyplot:{'tag': 'root', 'type': 'end'}\n",
      "DEBUG:toyplot:{'attrib': {'style': {'font-size': '10.0px'}, 'dy': 0}, 'tag': 'root', 'type': 'start'}\n",
      "DEBUG:toyplot:{'text': '0.5', 'type': 'text'}\n",
      "DEBUG:toyplot:{'tag': 'root', 'type': 'end'}\n"
     ]
    },
    {
     "data": {
      "text/html": [
       "<div align=\"center\" class=\"toyplot\" id=\"t94919d9ffd81469ebb94f5b43e7ab5be\"><svg class=\"toyplot-canvas-Canvas\" height=\"300.0px\" id=\"tcc226dd60db84d97884e5861a86a4807\" preserveAspectRatio=\"xMidYMid meet\" style=\"background-color:transparent;fill:rgb(16.1%,15.3%,14.1%);fill-opacity:1.0;font-family:Helvetica;font-size:12px;opacity:1.0;stroke:rgb(16.1%,15.3%,14.1%);stroke-opacity:1.0;stroke-width:1.0\" viewBox=\"0 0 600.0 300.0\" width=\"600.0px\" xmlns=\"http://www.w3.org/2000/svg\" xmlns:toyplot=\"http://www.sandia.gov/toyplot\" xmlns:xlink=\"http://www.w3.org/1999/xlink\"><g class=\"toyplot-coordinates-Cartesian\" id=\"tae21c08e9d7d456eaf5fc9ab3ffc38b7\"><clipPath id=\"t057f2275a4554a0c87549db4f3ba585a\"><rect height=\"220.0\" width=\"220.0\" x=\"40.0\" y=\"40.0\"></rect></clipPath><g clip-path=\"url(#t057f2275a4554a0c87549db4f3ba585a)\"></g><g class=\"toyplot-coordinates-Axis\" id=\"t903f0f88ce714bb4942f734636451ba3\" transform=\"translate(50.0,250.0)translate(0,10.0)\"><line style=\"\" x1=\"0\" x2=\"200.0\" y1=\"0\" y2=\"0\"></line><g><text style=\"font-size:10px;font-weight:normal;stroke:none;text-anchor:middle\" transform=\"translate(0.0,6)translate(0,7.5)\"><tspan style=\"font-size:10.0px\">-0.5</tspan></text><text style=\"font-size:10px;font-weight:normal;stroke:none;text-anchor:middle\" transform=\"translate(100.0,6)translate(0,7.5)\"><tspan style=\"font-size:10.0px\">0.0</tspan></text><text style=\"font-size:10px;font-weight:normal;stroke:none;text-anchor:middle\" transform=\"translate(200.0,6)translate(0,7.5)\"><tspan style=\"font-size:10.0px\">0.5</tspan></text></g><g class=\"toyplot-coordinates-Axis-coordinates\" style=\"visibility:hidden\" transform=\"\"><line style=\"stroke:rgb(43.9%,50.2%,56.5%);stroke-opacity:1.0;stroke-width:1.0\" x1=\"0\" x2=\"0\" y1=\"-3.0\" y2=\"4.5\"></line><text style=\"alignment-baseline:alphabetic;fill:rgb(43.9%,50.2%,56.5%);fill-opacity:1.0;font-size:10px;font-weight:normal;stroke:none;text-anchor:middle\" x=\"0\" y=\"-6\"></text></g></g><g class=\"toyplot-coordinates-Axis\" id=\"t3243995d32154587965ff54fb2dda252\" transform=\"translate(50.0,250.0)rotate(-90.0)translate(0,-10.0)\"><line style=\"\" x1=\"0\" x2=\"200.0\" y1=\"0\" y2=\"0\"></line><g><text style=\"font-size:10px;font-weight:normal;stroke:none;text-anchor:middle\" transform=\"translate(0.0,-6)\"><tspan style=\"font-size:10.0px\">-0.5</tspan></text><text style=\"font-size:10px;font-weight:normal;stroke:none;text-anchor:middle\" transform=\"translate(100.0,-6)\"><tspan style=\"font-size:10.0px\">0.0</tspan></text><text style=\"font-size:10px;font-weight:normal;stroke:none;text-anchor:middle\" transform=\"translate(200.0,-6)\"><tspan style=\"font-size:10.0px\">0.5</tspan></text></g><g class=\"toyplot-coordinates-Axis-coordinates\" style=\"visibility:hidden\" transform=\"\"><line style=\"stroke:rgb(43.9%,50.2%,56.5%);stroke-opacity:1.0;stroke-width:1.0\" x1=\"0\" x2=\"0\" y1=\"3.0\" y2=\"-4.5\"></line><text style=\"alignment-baseline:hanging;fill:rgb(43.9%,50.2%,56.5%);fill-opacity:1.0;font-size:10px;font-weight:normal;stroke:none;text-anchor:middle\" x=\"0\" y=\"6\"></text></g></g></g><g class=\"toyplot-coordinates-Cartesian\" id=\"tab5dd367fb1d4b1c80c4df3f1c25c652\"><clipPath id=\"t515f890e172e455aa3ae3b0a0b94c942\"><rect height=\"220.0\" width=\"220.0\" x=\"340.0\" y=\"40.0\"></rect></clipPath><g clip-path=\"url(#t515f890e172e455aa3ae3b0a0b94c942)\"></g><g class=\"toyplot-coordinates-Axis\" id=\"t055ecc4dce62438caff1820bf7069250\" transform=\"translate(350.0,250.0)translate(0,10.0)\"><line style=\"\" x1=\"0\" x2=\"200.0\" y1=\"0\" y2=\"0\"></line><g><text style=\"font-size:10px;font-weight:normal;stroke:none;text-anchor:middle\" transform=\"translate(0.0,6)translate(0,7.5)\"><tspan style=\"font-size:10.0px\">-0.5</tspan></text><text style=\"font-size:10px;font-weight:normal;stroke:none;text-anchor:middle\" transform=\"translate(100.0,6)translate(0,7.5)\"><tspan style=\"font-size:10.0px\">0.0</tspan></text><text style=\"font-size:10px;font-weight:normal;stroke:none;text-anchor:middle\" transform=\"translate(200.0,6)translate(0,7.5)\"><tspan style=\"font-size:10.0px\">0.5</tspan></text></g><g class=\"toyplot-coordinates-Axis-coordinates\" style=\"visibility:hidden\" transform=\"\"><line style=\"stroke:rgb(43.9%,50.2%,56.5%);stroke-opacity:1.0;stroke-width:1.0\" x1=\"0\" x2=\"0\" y1=\"-3.0\" y2=\"4.5\"></line><text style=\"alignment-baseline:alphabetic;fill:rgb(43.9%,50.2%,56.5%);fill-opacity:1.0;font-size:10px;font-weight:normal;stroke:none;text-anchor:middle\" x=\"0\" y=\"-6\"></text></g></g><g class=\"toyplot-coordinates-Axis\" id=\"tfb900cf33c6a439792c1443f9deea417\" transform=\"translate(550.0,250.0)rotate(-90.0)translate(0,10.0)\"><line style=\"\" x1=\"0\" x2=\"200.0\" y1=\"0\" y2=\"0\"></line><g><text style=\"font-size:10px;font-weight:normal;stroke:none;text-anchor:middle\" transform=\"translate(0.0,6)translate(0,7.5)\"><tspan style=\"font-size:10.0px\">-0.5</tspan></text><text style=\"font-size:10px;font-weight:normal;stroke:none;text-anchor:middle\" transform=\"translate(100.0,6)translate(0,7.5)\"><tspan style=\"font-size:10.0px\">0.0</tspan></text><text style=\"font-size:10px;font-weight:normal;stroke:none;text-anchor:middle\" transform=\"translate(200.0,6)translate(0,7.5)\"><tspan style=\"font-size:10.0px\">0.5</tspan></text></g><g class=\"toyplot-coordinates-Axis-coordinates\" style=\"visibility:hidden\" transform=\"\"><line style=\"stroke:rgb(43.9%,50.2%,56.5%);stroke-opacity:1.0;stroke-width:1.0\" x1=\"0\" x2=\"0\" y1=\"-3.0\" y2=\"4.5\"></line><text style=\"alignment-baseline:alphabetic;fill:rgb(43.9%,50.2%,56.5%);fill-opacity:1.0;font-size:10px;font-weight:normal;stroke:none;text-anchor:middle\" x=\"0\" y=\"-6\"></text></g></g></g></svg><div class=\"toyplot-interactive\"><script>\n",
       "        (function()\n",
       "        {\n",
       "            function _sign(x)\n",
       "            {\n",
       "                return x < 0 ? -1 : x > 0 ? 1 : 0;\n",
       "            }\n",
       "\n",
       "            function _mix(a, b, amount)\n",
       "            {\n",
       "                return ((1.0 - amount) * a) + (amount * b);\n",
       "            }\n",
       "\n",
       "            function _log(x, base)\n",
       "            {\n",
       "                return Math.log(Math.abs(x)) / Math.log(base);\n",
       "            }\n",
       "\n",
       "            function _in_range(a, x, b)\n",
       "            {\n",
       "                var left = Math.min(a, b);\n",
       "                var right = Math.max(a, b);\n",
       "                return left <= x && x <= right;\n",
       "            }\n",
       "\n",
       "            function inside(range, projection)\n",
       "            {\n",
       "                for(var i = 0; i != projection.length; ++i)\n",
       "                {\n",
       "                    var segment = projection[i];\n",
       "                    if(_in_range(segment.range.min, range, segment.range.max))\n",
       "                        return true;\n",
       "                }\n",
       "                return false;\n",
       "            }\n",
       "\n",
       "            function to_domain(range, projection)\n",
       "            {\n",
       "                for(var i = 0; i != projection.length; ++i)\n",
       "                {\n",
       "                    var segment = projection[i];\n",
       "                    if(_in_range(segment.range.bounds.min, range, segment.range.bounds.max))\n",
       "                    {\n",
       "                        if(segment.scale == \"linear\")\n",
       "                        {\n",
       "                            var amount = (range - segment.range.min) / (segment.range.max - segment.range.min);\n",
       "                            return _mix(segment.domain.min, segment.domain.max, amount)\n",
       "                        }\n",
       "                        else if(segment.scale[0] == \"log\")\n",
       "                        {\n",
       "                            var amount = (range - segment.range.min) / (segment.range.max - segment.range.min);\n",
       "                            var base = segment.scale[1];\n",
       "                            return _sign(segment.domain.min) * Math.pow(base, _mix(_log(segment.domain.min, base), _log(segment.domain.max, base), amount));\n",
       "                        }\n",
       "                    }\n",
       "                }\n",
       "            }\n",
       "\n",
       "            function display_coordinates(e)\n",
       "            {\n",
       "                var current = svg.createSVGPoint();\n",
       "                current.x = e.clientX;\n",
       "                current.y = e.clientY;\n",
       "\n",
       "                for(var axis_id in axes)\n",
       "                {\n",
       "                    var axis = document.querySelector(\"#\" + axis_id);\n",
       "                    var coordinates = axis.querySelector(\".toyplot-coordinates-Axis-coordinates\");\n",
       "                    if(coordinates)\n",
       "                    {\n",
       "                        var projection = axes[axis_id];\n",
       "                        var local = current.matrixTransform(axis.getScreenCTM().inverse());\n",
       "                        if(inside(local.x, projection))\n",
       "                        {\n",
       "                            var domain = to_domain(local.x, projection);\n",
       "                            coordinates.style.visibility = \"visible\";\n",
       "                            coordinates.setAttribute(\"transform\", \"translate(\" + local.x + \")\");\n",
       "                            var text = coordinates.querySelector(\"text\");\n",
       "                            text.textContent = domain.toFixed(2);\n",
       "                        }\n",
       "                        else\n",
       "                        {\n",
       "                            coordinates.style.visibility= \"hidden\";\n",
       "                        }\n",
       "                    }\n",
       "                }\n",
       "            }\n",
       "\n",
       "            var root_id = \"t94919d9ffd81469ebb94f5b43e7ab5be\";\n",
       "            var axes = {\"t055ecc4dce62438caff1820bf7069250\": [{\"domain\": {\"bounds\": {\"max\": Infinity, \"min\": -Infinity}, \"max\": 0.5, \"min\": -0.5}, \"range\": {\"bounds\": {\"max\": Infinity, \"min\": -Infinity}, \"max\": 200.0, \"min\": 0.0}, \"scale\": \"linear\"}], \"t3243995d32154587965ff54fb2dda252\": [{\"domain\": {\"bounds\": {\"max\": Infinity, \"min\": -Infinity}, \"max\": 0.5, \"min\": -0.5}, \"range\": {\"bounds\": {\"max\": Infinity, \"min\": -Infinity}, \"max\": 200.0, \"min\": 0.0}, \"scale\": \"linear\"}], \"t903f0f88ce714bb4942f734636451ba3\": [{\"domain\": {\"bounds\": {\"max\": Infinity, \"min\": -Infinity}, \"max\": 0.5, \"min\": -0.5}, \"range\": {\"bounds\": {\"max\": Infinity, \"min\": -Infinity}, \"max\": 200.0, \"min\": 0.0}, \"scale\": \"linear\"}], \"tfb900cf33c6a439792c1443f9deea417\": [{\"domain\": {\"bounds\": {\"max\": Infinity, \"min\": -Infinity}, \"max\": 0.5, \"min\": -0.5}, \"range\": {\"bounds\": {\"max\": Infinity, \"min\": -Infinity}, \"max\": 200.0, \"min\": 0.0}, \"scale\": \"linear\"}]};\n",
       "\n",
       "            var svg = document.querySelector(\"#\" + root_id + \" svg\");\n",
       "            svg.addEventListener(\"click\", display_coordinates);\n",
       "        })();\n",
       "        </script></div></div>"
      ]
     },
     "metadata": {},
     "output_type": "display_data"
    }
   ],
   "source": [
    "canvas = toyplot.Canvas(width=600, height=300)\n",
    "\n",
    "axis1 = canvas.cartesian(grid=(1, 2, 0))\n",
    "\n",
    "axis2 = canvas.cartesian(grid=(1, 2, 1))\n",
    "axis2.y.spine.position=\"high\""
   ]
  },
  {
   "cell_type": "markdown",
   "metadata": {},
   "source": [
    "In addition to positioning tick labels above or below an axis, you can also adjust their `offset` - the distance from the axis spine to the text anchor.  The `offset` parameter is specified so that increasing values move text further from the axis, whether its location is above or below - in the following example, note that both offsets are positive:  "
   ]
  },
  {
   "cell_type": "code",
   "execution_count": 16,
   "metadata": {
    "collapsed": false
   },
   "outputs": [
    {
     "name": "stderr",
     "output_type": "stream",
     "text": [
      "DEBUG:toyplot:{'attrib': {'style': {'font-size': '10.0px'}, 'dy': 0}, 'tag': 'root', 'type': 'start'}\n",
      "DEBUG:toyplot:{'text': '-0.5', 'type': 'text'}\n",
      "DEBUG:toyplot:{'tag': 'root', 'type': 'end'}\n",
      "DEBUG:toyplot:{'attrib': {'style': {'font-size': '10.0px'}, 'dy': 0}, 'tag': 'root', 'type': 'start'}\n",
      "DEBUG:toyplot:{'text': '0.0', 'type': 'text'}\n",
      "DEBUG:toyplot:{'tag': 'root', 'type': 'end'}\n",
      "DEBUG:toyplot:{'attrib': {'style': {'font-size': '10.0px'}, 'dy': 0}, 'tag': 'root', 'type': 'start'}\n",
      "DEBUG:toyplot:{'text': '0.5', 'type': 'text'}\n",
      "DEBUG:toyplot:{'tag': 'root', 'type': 'end'}\n",
      "DEBUG:toyplot:{'attrib': {'style': {'font-size': '10.0px'}, 'dy': 0}, 'tag': 'root', 'type': 'start'}\n",
      "DEBUG:toyplot:{'text': '-0.5', 'type': 'text'}\n",
      "DEBUG:toyplot:{'tag': 'root', 'type': 'end'}\n",
      "DEBUG:toyplot:{'attrib': {'style': {'font-size': '10.0px'}, 'dy': 0}, 'tag': 'root', 'type': 'start'}\n",
      "DEBUG:toyplot:{'text': '0.0', 'type': 'text'}\n",
      "DEBUG:toyplot:{'tag': 'root', 'type': 'end'}\n",
      "DEBUG:toyplot:{'attrib': {'style': {'font-size': '10.0px'}, 'dy': 0}, 'tag': 'root', 'type': 'start'}\n",
      "DEBUG:toyplot:{'text': '0.5', 'type': 'text'}\n",
      "DEBUG:toyplot:{'tag': 'root', 'type': 'end'}\n",
      "DEBUG:toyplot:{'attrib': {'style': {'font-size': '10.0px'}, 'dy': 0}, 'tag': 'root', 'type': 'start'}\n",
      "DEBUG:toyplot:{'text': '-0.5', 'type': 'text'}\n",
      "DEBUG:toyplot:{'tag': 'root', 'type': 'end'}\n",
      "DEBUG:toyplot:{'attrib': {'style': {'font-size': '10.0px'}, 'dy': 0}, 'tag': 'root', 'type': 'start'}\n",
      "DEBUG:toyplot:{'text': '0.0', 'type': 'text'}\n",
      "DEBUG:toyplot:{'tag': 'root', 'type': 'end'}\n",
      "DEBUG:toyplot:{'attrib': {'style': {'font-size': '10.0px'}, 'dy': 0}, 'tag': 'root', 'type': 'start'}\n",
      "DEBUG:toyplot:{'text': '0.5', 'type': 'text'}\n",
      "DEBUG:toyplot:{'tag': 'root', 'type': 'end'}\n",
      "DEBUG:toyplot:{'attrib': {'style': {'font-size': '10.0px'}, 'dy': 0}, 'tag': 'root', 'type': 'start'}\n",
      "DEBUG:toyplot:{'text': '-0.5', 'type': 'text'}\n",
      "DEBUG:toyplot:{'tag': 'root', 'type': 'end'}\n",
      "DEBUG:toyplot:{'attrib': {'style': {'font-size': '10.0px'}, 'dy': 0}, 'tag': 'root', 'type': 'start'}\n",
      "DEBUG:toyplot:{'text': '0.0', 'type': 'text'}\n",
      "DEBUG:toyplot:{'tag': 'root', 'type': 'end'}\n",
      "DEBUG:toyplot:{'attrib': {'style': {'font-size': '10.0px'}, 'dy': 0}, 'tag': 'root', 'type': 'start'}\n",
      "DEBUG:toyplot:{'text': '0.5', 'type': 'text'}\n",
      "DEBUG:toyplot:{'tag': 'root', 'type': 'end'}\n"
     ]
    },
    {
     "data": {
      "text/html": [
       "<div align=\"center\" class=\"toyplot\" id=\"tf933580c29d744c8855a3af1b8716505\"><svg class=\"toyplot-canvas-Canvas\" height=\"300.0px\" id=\"tf9e78d78c51f4550bdef06a505319532\" preserveAspectRatio=\"xMidYMid meet\" style=\"background-color:transparent;fill:rgb(16.1%,15.3%,14.1%);fill-opacity:1.0;font-family:Helvetica;font-size:12px;opacity:1.0;stroke:rgb(16.1%,15.3%,14.1%);stroke-opacity:1.0;stroke-width:1.0\" viewBox=\"0 0 600.0 300.0\" width=\"600.0px\" xmlns=\"http://www.w3.org/2000/svg\" xmlns:toyplot=\"http://www.sandia.gov/toyplot\" xmlns:xlink=\"http://www.w3.org/1999/xlink\"><g class=\"toyplot-coordinates-Cartesian\" id=\"t6c42aa9efcb647c78194df406e4ccf70\"><clipPath id=\"ta0d08f5185a64665b7d9b8ec344f900e\"><rect height=\"220.0\" width=\"220.0\" x=\"40.0\" y=\"40.0\"></rect></clipPath><g clip-path=\"url(#ta0d08f5185a64665b7d9b8ec344f900e)\"></g><g class=\"toyplot-coordinates-Axis\" id=\"te6655282385141fcb051994193e27965\" transform=\"translate(50.0,250.0)translate(0,10.0)\"><line style=\"\" x1=\"0\" x2=\"200.0\" y1=\"0\" y2=\"0\"></line><g><text style=\"font-size:10px;font-weight:normal;stroke:none;text-anchor:middle\" transform=\"translate(0.0,6)translate(0,7.5)\"><tspan style=\"font-size:10.0px\">-0.5</tspan></text><text style=\"font-size:10px;font-weight:normal;stroke:none;text-anchor:middle\" transform=\"translate(100.0,6)translate(0,7.5)\"><tspan style=\"font-size:10.0px\">0.0</tspan></text><text style=\"font-size:10px;font-weight:normal;stroke:none;text-anchor:middle\" transform=\"translate(200.0,6)translate(0,7.5)\"><tspan style=\"font-size:10.0px\">0.5</tspan></text></g><g class=\"toyplot-coordinates-Axis-coordinates\" style=\"visibility:hidden\" transform=\"\"><line style=\"stroke:rgb(43.9%,50.2%,56.5%);stroke-opacity:1.0;stroke-width:1.0\" x1=\"0\" x2=\"0\" y1=\"-3.0\" y2=\"4.5\"></line><text style=\"alignment-baseline:alphabetic;fill:rgb(43.9%,50.2%,56.5%);fill-opacity:1.0;font-size:10px;font-weight:normal;stroke:none;text-anchor:middle\" x=\"0\" y=\"-6\"></text></g></g><g class=\"toyplot-coordinates-Axis\" id=\"tb9f304df5acd4dfd8f68075fe3d63790\" transform=\"translate(50.0,250.0)rotate(-90.0)translate(0,-10.0)\"><line style=\"\" x1=\"0\" x2=\"200.0\" y1=\"0\" y2=\"0\"></line><g><text style=\"font-size:10px;font-weight:normal;stroke:none;text-anchor:middle\" transform=\"translate(0.0,-30.0)\"><tspan style=\"font-size:10.0px\">-0.5</tspan></text><text style=\"font-size:10px;font-weight:normal;stroke:none;text-anchor:middle\" transform=\"translate(100.0,-30.0)\"><tspan style=\"font-size:10.0px\">0.0</tspan></text><text style=\"font-size:10px;font-weight:normal;stroke:none;text-anchor:middle\" transform=\"translate(200.0,-30.0)\"><tspan style=\"font-size:10.0px\">0.5</tspan></text></g><g class=\"toyplot-coordinates-Axis-coordinates\" style=\"visibility:hidden\" transform=\"\"><line style=\"stroke:rgb(43.9%,50.2%,56.5%);stroke-opacity:1.0;stroke-width:1.0\" x1=\"0\" x2=\"0\" y1=\"15.0\" y2=\"-22.5\"></line><text style=\"alignment-baseline:hanging;fill:rgb(43.9%,50.2%,56.5%);fill-opacity:1.0;font-size:10px;font-weight:normal;stroke:none;text-anchor:middle\" x=\"0\" y=\"30.0\"></text></g></g></g><g class=\"toyplot-coordinates-Cartesian\" id=\"tf3f3a6723e734ea5ab26dc9537b11fd6\"><clipPath id=\"t48bfe42762c24b6d98a2ac5724bcebf3\"><rect height=\"220.0\" width=\"220.0\" x=\"340.0\" y=\"40.0\"></rect></clipPath><g clip-path=\"url(#t48bfe42762c24b6d98a2ac5724bcebf3)\"></g><g class=\"toyplot-coordinates-Axis\" id=\"t75f3ba7361034e91990ab84f8d3af83f\" transform=\"translate(350.0,250.0)translate(0,10.0)\"><line style=\"\" x1=\"0\" x2=\"200.0\" y1=\"0\" y2=\"0\"></line><g><text style=\"font-size:10px;font-weight:normal;stroke:none;text-anchor:middle\" transform=\"translate(0.0,6)translate(0,7.5)\"><tspan style=\"font-size:10.0px\">-0.5</tspan></text><text style=\"font-size:10px;font-weight:normal;stroke:none;text-anchor:middle\" transform=\"translate(100.0,6)translate(0,7.5)\"><tspan style=\"font-size:10.0px\">0.0</tspan></text><text style=\"font-size:10px;font-weight:normal;stroke:none;text-anchor:middle\" transform=\"translate(200.0,6)translate(0,7.5)\"><tspan style=\"font-size:10.0px\">0.5</tspan></text></g><g class=\"toyplot-coordinates-Axis-coordinates\" style=\"visibility:hidden\" transform=\"\"><line style=\"stroke:rgb(43.9%,50.2%,56.5%);stroke-opacity:1.0;stroke-width:1.0\" x1=\"0\" x2=\"0\" y1=\"-3.0\" y2=\"4.5\"></line><text style=\"alignment-baseline:alphabetic;fill:rgb(43.9%,50.2%,56.5%);fill-opacity:1.0;font-size:10px;font-weight:normal;stroke:none;text-anchor:middle\" x=\"0\" y=\"-6\"></text></g></g><g class=\"toyplot-coordinates-Axis\" id=\"t081e095f8fb14253aee21dd27edf7e8d\" transform=\"translate(550.0,250.0)rotate(-90.0)translate(0,10.0)\"><line style=\"\" x1=\"0\" x2=\"200.0\" y1=\"0\" y2=\"0\"></line><g><text style=\"font-size:10px;font-weight:normal;stroke:none;text-anchor:middle\" transform=\"translate(0.0,30.0)translate(0,7.5)\"><tspan style=\"font-size:10.0px\">-0.5</tspan></text><text style=\"font-size:10px;font-weight:normal;stroke:none;text-anchor:middle\" transform=\"translate(100.0,30.0)translate(0,7.5)\"><tspan style=\"font-size:10.0px\">0.0</tspan></text><text style=\"font-size:10px;font-weight:normal;stroke:none;text-anchor:middle\" transform=\"translate(200.0,30.0)translate(0,7.5)\"><tspan style=\"font-size:10.0px\">0.5</tspan></text></g><g class=\"toyplot-coordinates-Axis-coordinates\" style=\"visibility:hidden\" transform=\"\"><line style=\"stroke:rgb(43.9%,50.2%,56.5%);stroke-opacity:1.0;stroke-width:1.0\" x1=\"0\" x2=\"0\" y1=\"-15.0\" y2=\"22.5\"></line><text style=\"alignment-baseline:alphabetic;fill:rgb(43.9%,50.2%,56.5%);fill-opacity:1.0;font-size:10px;font-weight:normal;stroke:none;text-anchor:middle\" x=\"0\" y=\"-30.0\"></text></g></g></g></svg><div class=\"toyplot-interactive\"><script>\n",
       "        (function()\n",
       "        {\n",
       "            function _sign(x)\n",
       "            {\n",
       "                return x < 0 ? -1 : x > 0 ? 1 : 0;\n",
       "            }\n",
       "\n",
       "            function _mix(a, b, amount)\n",
       "            {\n",
       "                return ((1.0 - amount) * a) + (amount * b);\n",
       "            }\n",
       "\n",
       "            function _log(x, base)\n",
       "            {\n",
       "                return Math.log(Math.abs(x)) / Math.log(base);\n",
       "            }\n",
       "\n",
       "            function _in_range(a, x, b)\n",
       "            {\n",
       "                var left = Math.min(a, b);\n",
       "                var right = Math.max(a, b);\n",
       "                return left <= x && x <= right;\n",
       "            }\n",
       "\n",
       "            function inside(range, projection)\n",
       "            {\n",
       "                for(var i = 0; i != projection.length; ++i)\n",
       "                {\n",
       "                    var segment = projection[i];\n",
       "                    if(_in_range(segment.range.min, range, segment.range.max))\n",
       "                        return true;\n",
       "                }\n",
       "                return false;\n",
       "            }\n",
       "\n",
       "            function to_domain(range, projection)\n",
       "            {\n",
       "                for(var i = 0; i != projection.length; ++i)\n",
       "                {\n",
       "                    var segment = projection[i];\n",
       "                    if(_in_range(segment.range.bounds.min, range, segment.range.bounds.max))\n",
       "                    {\n",
       "                        if(segment.scale == \"linear\")\n",
       "                        {\n",
       "                            var amount = (range - segment.range.min) / (segment.range.max - segment.range.min);\n",
       "                            return _mix(segment.domain.min, segment.domain.max, amount)\n",
       "                        }\n",
       "                        else if(segment.scale[0] == \"log\")\n",
       "                        {\n",
       "                            var amount = (range - segment.range.min) / (segment.range.max - segment.range.min);\n",
       "                            var base = segment.scale[1];\n",
       "                            return _sign(segment.domain.min) * Math.pow(base, _mix(_log(segment.domain.min, base), _log(segment.domain.max, base), amount));\n",
       "                        }\n",
       "                    }\n",
       "                }\n",
       "            }\n",
       "\n",
       "            function display_coordinates(e)\n",
       "            {\n",
       "                var current = svg.createSVGPoint();\n",
       "                current.x = e.clientX;\n",
       "                current.y = e.clientY;\n",
       "\n",
       "                for(var axis_id in axes)\n",
       "                {\n",
       "                    var axis = document.querySelector(\"#\" + axis_id);\n",
       "                    var coordinates = axis.querySelector(\".toyplot-coordinates-Axis-coordinates\");\n",
       "                    if(coordinates)\n",
       "                    {\n",
       "                        var projection = axes[axis_id];\n",
       "                        var local = current.matrixTransform(axis.getScreenCTM().inverse());\n",
       "                        if(inside(local.x, projection))\n",
       "                        {\n",
       "                            var domain = to_domain(local.x, projection);\n",
       "                            coordinates.style.visibility = \"visible\";\n",
       "                            coordinates.setAttribute(\"transform\", \"translate(\" + local.x + \")\");\n",
       "                            var text = coordinates.querySelector(\"text\");\n",
       "                            text.textContent = domain.toFixed(2);\n",
       "                        }\n",
       "                        else\n",
       "                        {\n",
       "                            coordinates.style.visibility= \"hidden\";\n",
       "                        }\n",
       "                    }\n",
       "                }\n",
       "            }\n",
       "\n",
       "            var root_id = \"tf933580c29d744c8855a3af1b8716505\";\n",
       "            var axes = {\"t081e095f8fb14253aee21dd27edf7e8d\": [{\"domain\": {\"bounds\": {\"max\": Infinity, \"min\": -Infinity}, \"max\": 0.5, \"min\": -0.5}, \"range\": {\"bounds\": {\"max\": Infinity, \"min\": -Infinity}, \"max\": 200.0, \"min\": 0.0}, \"scale\": \"linear\"}], \"t75f3ba7361034e91990ab84f8d3af83f\": [{\"domain\": {\"bounds\": {\"max\": Infinity, \"min\": -Infinity}, \"max\": 0.5, \"min\": -0.5}, \"range\": {\"bounds\": {\"max\": Infinity, \"min\": -Infinity}, \"max\": 200.0, \"min\": 0.0}, \"scale\": \"linear\"}], \"tb9f304df5acd4dfd8f68075fe3d63790\": [{\"domain\": {\"bounds\": {\"max\": Infinity, \"min\": -Infinity}, \"max\": 0.5, \"min\": -0.5}, \"range\": {\"bounds\": {\"max\": Infinity, \"min\": -Infinity}, \"max\": 200.0, \"min\": 0.0}, \"scale\": \"linear\"}], \"te6655282385141fcb051994193e27965\": [{\"domain\": {\"bounds\": {\"max\": Infinity, \"min\": -Infinity}, \"max\": 0.5, \"min\": -0.5}, \"range\": {\"bounds\": {\"max\": Infinity, \"min\": -Infinity}, \"max\": 200.0, \"min\": 0.0}, \"scale\": \"linear\"}]};\n",
       "\n",
       "            var svg = document.querySelector(\"#\" + root_id + \" svg\");\n",
       "            svg.addEventListener(\"click\", display_coordinates);\n",
       "        })();\n",
       "        </script></div></div>"
      ]
     },
     "metadata": {},
     "output_type": "display_data"
    }
   ],
   "source": [
    "canvas = toyplot.Canvas(width=600, height=300)\n",
    "\n",
    "axis1 = canvas.cartesian(grid=(1, 2, 0))\n",
    "axis1.y.ticks.labels.offset=30\n",
    "\n",
    "axis2 = canvas.cartesian(grid=(1, 2, 1))\n",
    "axis2.y.spine.position=\"high\"\n",
    "axis2.y.ticks.labels.offset=30"
   ]
  },
  {
   "cell_type": "markdown",
   "metadata": {},
   "source": [
    "The default text alignment parameters have been carefully chosen to provide good quality layout even if you change the label font size, and regardless of label location:"
   ]
  },
  {
   "cell_type": "code",
   "execution_count": 17,
   "metadata": {
    "collapsed": false
   },
   "outputs": [
    {
     "name": "stderr",
     "output_type": "stream",
     "text": [
      "DEBUG:toyplot:{'attrib': {'style': {'font-size': '10.0px'}, 'dy': 0}, 'tag': 'root', 'type': 'start'}\n",
      "DEBUG:toyplot:{'text': '-0.5', 'type': 'text'}\n",
      "DEBUG:toyplot:{'tag': 'root', 'type': 'end'}\n",
      "DEBUG:toyplot:{'attrib': {'style': {'font-size': '10.0px'}, 'dy': 0}, 'tag': 'root', 'type': 'start'}\n",
      "DEBUG:toyplot:{'text': '0.0', 'type': 'text'}\n",
      "DEBUG:toyplot:{'tag': 'root', 'type': 'end'}\n",
      "DEBUG:toyplot:{'attrib': {'style': {'font-size': '10.0px'}, 'dy': 0}, 'tag': 'root', 'type': 'start'}\n",
      "DEBUG:toyplot:{'text': '0.5', 'type': 'text'}\n",
      "DEBUG:toyplot:{'tag': 'root', 'type': 'end'}\n",
      "DEBUG:toyplot:{'attrib': {'style': {'font-size': '16.0px'}, 'dy': 0}, 'tag': 'root', 'type': 'start'}\n",
      "DEBUG:toyplot:{'text': '-0.5', 'type': 'text'}\n",
      "DEBUG:toyplot:{'tag': 'root', 'type': 'end'}\n",
      "DEBUG:toyplot:{'attrib': {'style': {'font-size': '16.0px'}, 'dy': 0}, 'tag': 'root', 'type': 'start'}\n",
      "DEBUG:toyplot:{'text': '0.0', 'type': 'text'}\n",
      "DEBUG:toyplot:{'tag': 'root', 'type': 'end'}\n",
      "DEBUG:toyplot:{'attrib': {'style': {'font-size': '16.0px'}, 'dy': 0}, 'tag': 'root', 'type': 'start'}\n",
      "DEBUG:toyplot:{'text': '0.5', 'type': 'text'}\n",
      "DEBUG:toyplot:{'tag': 'root', 'type': 'end'}\n",
      "DEBUG:toyplot:{'attrib': {'style': {'font-size': '10.0px'}, 'dy': 0}, 'tag': 'root', 'type': 'start'}\n",
      "DEBUG:toyplot:{'text': '-0.5', 'type': 'text'}\n",
      "DEBUG:toyplot:{'tag': 'root', 'type': 'end'}\n",
      "DEBUG:toyplot:{'attrib': {'style': {'font-size': '10.0px'}, 'dy': 0}, 'tag': 'root', 'type': 'start'}\n",
      "DEBUG:toyplot:{'text': '0.0', 'type': 'text'}\n",
      "DEBUG:toyplot:{'tag': 'root', 'type': 'end'}\n",
      "DEBUG:toyplot:{'attrib': {'style': {'font-size': '10.0px'}, 'dy': 0}, 'tag': 'root', 'type': 'start'}\n",
      "DEBUG:toyplot:{'text': '0.5', 'type': 'text'}\n",
      "DEBUG:toyplot:{'tag': 'root', 'type': 'end'}\n",
      "DEBUG:toyplot:{'attrib': {'style': {'font-size': '16.0px'}, 'dy': 0}, 'tag': 'root', 'type': 'start'}\n",
      "DEBUG:toyplot:{'text': '-0.5', 'type': 'text'}\n",
      "DEBUG:toyplot:{'tag': 'root', 'type': 'end'}\n",
      "DEBUG:toyplot:{'attrib': {'style': {'font-size': '16.0px'}, 'dy': 0}, 'tag': 'root', 'type': 'start'}\n",
      "DEBUG:toyplot:{'text': '0.0', 'type': 'text'}\n",
      "DEBUG:toyplot:{'tag': 'root', 'type': 'end'}\n",
      "DEBUG:toyplot:{'attrib': {'style': {'font-size': '16.0px'}, 'dy': 0}, 'tag': 'root', 'type': 'start'}\n",
      "DEBUG:toyplot:{'text': '0.5', 'type': 'text'}\n",
      "DEBUG:toyplot:{'tag': 'root', 'type': 'end'}\n"
     ]
    },
    {
     "data": {
      "text/html": [
       "<div align=\"center\" class=\"toyplot\" id=\"t09384c611a3d4521aaad8ee2b29febc8\"><svg class=\"toyplot-canvas-Canvas\" height=\"400.0px\" id=\"t9b604a53d8d54cc59a3e0cc95499f2e1\" preserveAspectRatio=\"xMidYMid meet\" style=\"background-color:transparent;fill:rgb(16.1%,15.3%,14.1%);fill-opacity:1.0;font-family:Helvetica;font-size:12px;opacity:1.0;stroke:rgb(16.1%,15.3%,14.1%);stroke-opacity:1.0;stroke-width:1.0\" viewBox=\"0 0 600.0 400.0\" width=\"600.0px\" xmlns=\"http://www.w3.org/2000/svg\" xmlns:toyplot=\"http://www.sandia.gov/toyplot\" xmlns:xlink=\"http://www.w3.org/1999/xlink\"><g class=\"toyplot-coordinates-Numberline\" id=\"t4de03fe7b9d1432fa32ae28baab1ef81\"><clipPath id=\"t3d230ec83c134d4aab63dab14e4e757f\"><rect height=\"40.0\" width=\"500.0\" x=\"0\" y=\"-20.0\"></rect></clipPath><g clip-path=\"url(#t3d230ec83c134d4aab63dab14e4e757f)\" transform=\"translate(50.0,50.0)\"></g><g class=\"toyplot-coordinates-Axis\" id=\"tc23e85b0b2e4402cac2adbb934eb78ff\" transform=\"translate(50.0,50.0)translate(0,20.0)\"><line style=\"\" x1=\"0\" x2=\"500.0\" y1=\"0\" y2=\"0\"></line><g><text style=\"font-size:10px;font-weight:normal;stroke:none;text-anchor:middle\" transform=\"translate(0.0,-6)\"><tspan style=\"font-size:10.0px\">-0.5</tspan></text><text style=\"font-size:10px;font-weight:normal;stroke:none;text-anchor:middle\" transform=\"translate(250.0,-6)\"><tspan style=\"font-size:10.0px\">0.0</tspan></text><text style=\"font-size:10px;font-weight:normal;stroke:none;text-anchor:middle\" transform=\"translate(500.0,-6)\"><tspan style=\"font-size:10.0px\">0.5</tspan></text></g><g class=\"toyplot-coordinates-Axis-coordinates\" style=\"visibility:hidden\" transform=\"\"><line style=\"stroke:rgb(43.9%,50.2%,56.5%);stroke-opacity:1.0;stroke-width:1.0\" x1=\"0\" x2=\"0\" y1=\"3.0\" y2=\"-4.5\"></line><text style=\"alignment-baseline:hanging;fill:rgb(43.9%,50.2%,56.5%);fill-opacity:1.0;font-size:10px;font-weight:normal;stroke:none;text-anchor:middle\" x=\"0\" y=\"6\"></text></g></g></g><g class=\"toyplot-coordinates-Numberline\" id=\"tcf658c30393747359e1b1d0e5c33806f\"><clipPath id=\"t1b0899734d6c47bbacda909892b2251b\"><rect height=\"40.0\" width=\"500.0\" x=\"0\" y=\"-20.0\"></rect></clipPath><g clip-path=\"url(#t1b0899734d6c47bbacda909892b2251b)\" transform=\"translate(50.0,150.0)\"></g><g class=\"toyplot-coordinates-Axis\" id=\"t02487b0603e4453a8138ae01800dfa79\" transform=\"translate(50.0,150.0)translate(0,20.0)\"><line style=\"\" x1=\"0\" x2=\"500.0\" y1=\"0\" y2=\"0\"></line><g><text style=\"font-size:16px;font-weight:normal;stroke:none;text-anchor:middle\" transform=\"translate(0.0,-6)\"><tspan style=\"font-size:16.0px\">-0.5</tspan></text><text style=\"font-size:16px;font-weight:normal;stroke:none;text-anchor:middle\" transform=\"translate(250.0,-6)\"><tspan style=\"font-size:16.0px\">0.0</tspan></text><text style=\"font-size:16px;font-weight:normal;stroke:none;text-anchor:middle\" transform=\"translate(500.0,-6)\"><tspan style=\"font-size:16.0px\">0.5</tspan></text></g><g class=\"toyplot-coordinates-Axis-coordinates\" style=\"visibility:hidden\" transform=\"\"><line style=\"stroke:rgb(43.9%,50.2%,56.5%);stroke-opacity:1.0;stroke-width:1.0\" x1=\"0\" x2=\"0\" y1=\"3.0\" y2=\"-4.5\"></line><text style=\"alignment-baseline:hanging;fill:rgb(43.9%,50.2%,56.5%);fill-opacity:1.0;font-size:10px;font-weight:normal;stroke:none;text-anchor:middle\" x=\"0\" y=\"6\"></text></g></g></g><g class=\"toyplot-coordinates-Numberline\" id=\"t4eeebdcb7da74fb9b9c2159335274643\"><clipPath id=\"ta551c2842c774718ac1b70766c828065\"><rect height=\"40.0\" width=\"500.0\" x=\"0\" y=\"-20.0\"></rect></clipPath><g clip-path=\"url(#ta551c2842c774718ac1b70766c828065)\" transform=\"translate(50.0,250.0)\"></g><g class=\"toyplot-coordinates-Axis\" id=\"t752549a2467f4e73b6d403573184dd23\" transform=\"translate(50.0,250.0)translate(0,20.0)\"><line style=\"\" x1=\"0\" x2=\"500.0\" y1=\"0\" y2=\"0\"></line><g><text style=\"font-size:10px;font-weight:normal;stroke:none;text-anchor:middle\" transform=\"translate(0.0,6)translate(0,7.5)\"><tspan style=\"font-size:10.0px\">-0.5</tspan></text><text style=\"font-size:10px;font-weight:normal;stroke:none;text-anchor:middle\" transform=\"translate(250.0,6)translate(0,7.5)\"><tspan style=\"font-size:10.0px\">0.0</tspan></text><text style=\"font-size:10px;font-weight:normal;stroke:none;text-anchor:middle\" transform=\"translate(500.0,6)translate(0,7.5)\"><tspan style=\"font-size:10.0px\">0.5</tspan></text></g><g class=\"toyplot-coordinates-Axis-coordinates\" style=\"visibility:hidden\" transform=\"\"><line style=\"stroke:rgb(43.9%,50.2%,56.5%);stroke-opacity:1.0;stroke-width:1.0\" x1=\"0\" x2=\"0\" y1=\"-3.0\" y2=\"4.5\"></line><text style=\"alignment-baseline:alphabetic;fill:rgb(43.9%,50.2%,56.5%);fill-opacity:1.0;font-size:10px;font-weight:normal;stroke:none;text-anchor:middle\" x=\"0\" y=\"-6\"></text></g></g></g><g class=\"toyplot-coordinates-Numberline\" id=\"tf4490ee6469247cca5b296baa95fa584\"><clipPath id=\"t206b4c4472344bb994eb4e87402de387\"><rect height=\"40.0\" width=\"500.0\" x=\"0\" y=\"-20.0\"></rect></clipPath><g clip-path=\"url(#t206b4c4472344bb994eb4e87402de387)\" transform=\"translate(50.0,350.0)\"></g><g class=\"toyplot-coordinates-Axis\" id=\"tcbd0ace9e80440ee89fc75e20522273e\" transform=\"translate(50.0,350.0)translate(0,20.0)\"><line style=\"\" x1=\"0\" x2=\"500.0\" y1=\"0\" y2=\"0\"></line><g><text style=\"font-size:16px;font-weight:normal;stroke:none;text-anchor:middle\" transform=\"translate(0.0,6)translate(0,12.0)\"><tspan style=\"font-size:16.0px\">-0.5</tspan></text><text style=\"font-size:16px;font-weight:normal;stroke:none;text-anchor:middle\" transform=\"translate(250.0,6)translate(0,12.0)\"><tspan style=\"font-size:16.0px\">0.0</tspan></text><text style=\"font-size:16px;font-weight:normal;stroke:none;text-anchor:middle\" transform=\"translate(500.0,6)translate(0,12.0)\"><tspan style=\"font-size:16.0px\">0.5</tspan></text></g><g class=\"toyplot-coordinates-Axis-coordinates\" style=\"visibility:hidden\" transform=\"\"><line style=\"stroke:rgb(43.9%,50.2%,56.5%);stroke-opacity:1.0;stroke-width:1.0\" x1=\"0\" x2=\"0\" y1=\"-3.0\" y2=\"4.5\"></line><text style=\"alignment-baseline:alphabetic;fill:rgb(43.9%,50.2%,56.5%);fill-opacity:1.0;font-size:10px;font-weight:normal;stroke:none;text-anchor:middle\" x=\"0\" y=\"-6\"></text></g></g></g></svg><div class=\"toyplot-interactive\"><script>\n",
       "        (function()\n",
       "        {\n",
       "            function _sign(x)\n",
       "            {\n",
       "                return x < 0 ? -1 : x > 0 ? 1 : 0;\n",
       "            }\n",
       "\n",
       "            function _mix(a, b, amount)\n",
       "            {\n",
       "                return ((1.0 - amount) * a) + (amount * b);\n",
       "            }\n",
       "\n",
       "            function _log(x, base)\n",
       "            {\n",
       "                return Math.log(Math.abs(x)) / Math.log(base);\n",
       "            }\n",
       "\n",
       "            function _in_range(a, x, b)\n",
       "            {\n",
       "                var left = Math.min(a, b);\n",
       "                var right = Math.max(a, b);\n",
       "                return left <= x && x <= right;\n",
       "            }\n",
       "\n",
       "            function inside(range, projection)\n",
       "            {\n",
       "                for(var i = 0; i != projection.length; ++i)\n",
       "                {\n",
       "                    var segment = projection[i];\n",
       "                    if(_in_range(segment.range.min, range, segment.range.max))\n",
       "                        return true;\n",
       "                }\n",
       "                return false;\n",
       "            }\n",
       "\n",
       "            function to_domain(range, projection)\n",
       "            {\n",
       "                for(var i = 0; i != projection.length; ++i)\n",
       "                {\n",
       "                    var segment = projection[i];\n",
       "                    if(_in_range(segment.range.bounds.min, range, segment.range.bounds.max))\n",
       "                    {\n",
       "                        if(segment.scale == \"linear\")\n",
       "                        {\n",
       "                            var amount = (range - segment.range.min) / (segment.range.max - segment.range.min);\n",
       "                            return _mix(segment.domain.min, segment.domain.max, amount)\n",
       "                        }\n",
       "                        else if(segment.scale[0] == \"log\")\n",
       "                        {\n",
       "                            var amount = (range - segment.range.min) / (segment.range.max - segment.range.min);\n",
       "                            var base = segment.scale[1];\n",
       "                            return _sign(segment.domain.min) * Math.pow(base, _mix(_log(segment.domain.min, base), _log(segment.domain.max, base), amount));\n",
       "                        }\n",
       "                    }\n",
       "                }\n",
       "            }\n",
       "\n",
       "            function display_coordinates(e)\n",
       "            {\n",
       "                var current = svg.createSVGPoint();\n",
       "                current.x = e.clientX;\n",
       "                current.y = e.clientY;\n",
       "\n",
       "                for(var axis_id in axes)\n",
       "                {\n",
       "                    var axis = document.querySelector(\"#\" + axis_id);\n",
       "                    var coordinates = axis.querySelector(\".toyplot-coordinates-Axis-coordinates\");\n",
       "                    if(coordinates)\n",
       "                    {\n",
       "                        var projection = axes[axis_id];\n",
       "                        var local = current.matrixTransform(axis.getScreenCTM().inverse());\n",
       "                        if(inside(local.x, projection))\n",
       "                        {\n",
       "                            var domain = to_domain(local.x, projection);\n",
       "                            coordinates.style.visibility = \"visible\";\n",
       "                            coordinates.setAttribute(\"transform\", \"translate(\" + local.x + \")\");\n",
       "                            var text = coordinates.querySelector(\"text\");\n",
       "                            text.textContent = domain.toFixed(2);\n",
       "                        }\n",
       "                        else\n",
       "                        {\n",
       "                            coordinates.style.visibility= \"hidden\";\n",
       "                        }\n",
       "                    }\n",
       "                }\n",
       "            }\n",
       "\n",
       "            var root_id = \"t09384c611a3d4521aaad8ee2b29febc8\";\n",
       "            var axes = {\"t02487b0603e4453a8138ae01800dfa79\": [{\"domain\": {\"bounds\": {\"max\": Infinity, \"min\": -Infinity}, \"max\": 0.5, \"min\": -0.5}, \"range\": {\"bounds\": {\"max\": Infinity, \"min\": -Infinity}, \"max\": 500.0, \"min\": 0.0}, \"scale\": \"linear\"}], \"t752549a2467f4e73b6d403573184dd23\": [{\"domain\": {\"bounds\": {\"max\": Infinity, \"min\": -Infinity}, \"max\": 0.5, \"min\": -0.5}, \"range\": {\"bounds\": {\"max\": Infinity, \"min\": -Infinity}, \"max\": 500.0, \"min\": 0.0}, \"scale\": \"linear\"}], \"tc23e85b0b2e4402cac2adbb934eb78ff\": [{\"domain\": {\"bounds\": {\"max\": Infinity, \"min\": -Infinity}, \"max\": 0.5, \"min\": -0.5}, \"range\": {\"bounds\": {\"max\": Infinity, \"min\": -Infinity}, \"max\": 500.0, \"min\": 0.0}, \"scale\": \"linear\"}], \"tcbd0ace9e80440ee89fc75e20522273e\": [{\"domain\": {\"bounds\": {\"max\": Infinity, \"min\": -Infinity}, \"max\": 0.5, \"min\": -0.5}, \"range\": {\"bounds\": {\"max\": Infinity, \"min\": -Infinity}, \"max\": 500.0, \"min\": 0.0}, \"scale\": \"linear\"}]};\n",
       "\n",
       "            var svg = document.querySelector(\"#\" + root_id + \" svg\");\n",
       "            svg.addEventListener(\"click\", display_coordinates);\n",
       "        })();\n",
       "        </script></div></div>"
      ]
     },
     "metadata": {},
     "output_type": "display_data"
    }
   ],
   "source": [
    "canvas = toyplot.Canvas(width=600, height=400)\n",
    "\n",
    "numberline1 = canvas.numberline(grid=(4, 1, 0))\n",
    "numberline1.axis.ticks.location=\"above\"\n",
    "\n",
    "numberline2 = canvas.numberline(grid=(4, 1, 1))\n",
    "numberline2.axis.ticks.location=\"above\"\n",
    "numberline2.axis.ticks.labels.style = {\"font-size\":\"16px\"}\n",
    "\n",
    "numberline3 = canvas.numberline(grid=(4, 1, 2))\n",
    "numberline3.axis.ticks.location=\"below\"\n",
    "\n",
    "numberline4 = canvas.numberline(grid=(4, 1, 3))\n",
    "numberline4.axis.ticks.location=\"below\"\n",
    "numberline4.axis.ticks.labels.style = {\"font-size\":\"16px\"}"
   ]
  },
  {
   "cell_type": "markdown",
   "metadata": {},
   "source": [
    "Similarly, alignment parameters are automatically adjusted when you rotate tick labels, adjusting the anchor and baseline to provide good results:"
   ]
  },
  {
   "cell_type": "code",
   "execution_count": 18,
   "metadata": {
    "collapsed": false
   },
   "outputs": [
    {
     "name": "stderr",
     "output_type": "stream",
     "text": [
      "DEBUG:toyplot:{'attrib': {'style': {'font-size': '10.0px'}, 'dy': 0}, 'tag': 'root', 'type': 'start'}\n",
      "DEBUG:toyplot:{'text': '0.0', 'type': 'text'}\n",
      "DEBUG:toyplot:{'tag': 'root', 'type': 'end'}\n",
      "DEBUG:toyplot:{'attrib': {'style': {'font-size': '10.0px'}, 'dy': 0}, 'tag': 'root', 'type': 'start'}\n",
      "DEBUG:toyplot:{'text': '0.5', 'type': 'text'}\n",
      "DEBUG:toyplot:{'tag': 'root', 'type': 'end'}\n",
      "DEBUG:toyplot:{'attrib': {'style': {'font-size': '10.0px'}, 'dy': 0}, 'tag': 'root', 'type': 'start'}\n",
      "DEBUG:toyplot:{'text': '1.0', 'type': 'text'}\n",
      "DEBUG:toyplot:{'tag': 'root', 'type': 'end'}\n"
     ]
    },
    {
     "data": {
      "text/html": [
       "<div align=\"center\" class=\"toyplot\" id=\"tf2262198ed5f4dd480da229482e33c5c\"><svg class=\"toyplot-canvas-Canvas\" height=\"600px\" id=\"t689cb5103d8c4c2692a536e97ad62b37\" preserveAspectRatio=\"xMidYMid meet\" style=\"background-color:transparent;fill:rgb(16.1%,15.3%,14.1%);fill-opacity:1.0;font-family:Helvetica;font-size:12px;opacity:1.0;stroke:rgb(16.1%,15.3%,14.1%);stroke-opacity:1.0;stroke-width:1.0\" viewBox=\"0 0 600 600\" width=\"600px\" xmlns=\"http://www.w3.org/2000/svg\" xmlns:toyplot=\"http://www.sandia.gov/toyplot\" xmlns:xlink=\"http://www.w3.org/1999/xlink\"><g class=\"toyplot-coordinates-Numberline\" id=\"t015621939f1e4c1588cc7afe26cdce0d\"><clipPath id=\"tb21b944c8e7b4ee7a0e28de36e99551e\"><rect height=\"20.0\" width=\"480.0\" x=\"0\" y=\"-10.0\"></rect></clipPath><g clip-path=\"url(#tb21b944c8e7b4ee7a0e28de36e99551e)\" transform=\"translate(300.0,540.0)rotate(-90.0)\"><g class=\"toyplot-color-Map\" id=\"ta6019a4915ac4ebcb00e19d6b42284d2\"><defs><linearGradient gradientUnits=\"userSpaceOnUse\" id=\"tc8d098f85d6549929eab8aa846122603\" x1=\"0.0\" x2=\"480.0\" y1=\"0\" y2=\"0\"><stop offset=\"0.0\" stop-color=\"rgb(1.96%,18.8%,38%)\" stop-opacity=\"1.0\"></stop><stop offset=\"0.015873015873\" stop-color=\"rgb(3.7%,22.2%,42.7%)\" stop-opacity=\"1.0\"></stop><stop offset=\"0.031746031746\" stop-color=\"rgb(5.45%,25.5%,47.4%)\" stop-opacity=\"1.0\"></stop><stop offset=\"0.047619047619\" stop-color=\"rgb(7.19%,28.9%,52%)\" stop-opacity=\"1.0\"></stop><stop offset=\"0.0634920634921\" stop-color=\"rgb(8.93%,32.3%,56.7%)\" stop-opacity=\"1.0\"></stop><stop offset=\"0.0793650793651\" stop-color=\"rgb(10.7%,35.6%,61.4%)\" stop-opacity=\"1.0\"></stop><stop offset=\"0.0952380952381\" stop-color=\"rgb(12.4%,39%,66.1%)\" stop-opacity=\"1.0\"></stop><stop offset=\"0.111111111111\" stop-color=\"rgb(14.4%,42%,68.5%)\" stop-opacity=\"1.0\"></stop><stop offset=\"0.126984126984\" stop-color=\"rgb(16.5%,44.8%,69.9%)\" stop-opacity=\"1.0\"></stop><stop offset=\"0.142857142857\" stop-color=\"rgb(18.7%,47.6%,71.3%)\" stop-opacity=\"1.0\"></stop><stop offset=\"0.15873015873\" stop-color=\"rgb(20.8%,50.4%,72.7%)\" stop-opacity=\"1.0\"></stop><stop offset=\"0.174603174603\" stop-color=\"rgb(22.9%,53.2%,74.2%)\" stop-opacity=\"1.0\"></stop><stop offset=\"0.190476190476\" stop-color=\"rgb(25%,56%,75.6%)\" stop-opacity=\"1.0\"></stop><stop offset=\"0.206349206349\" stop-color=\"rgb(28.2%,58.9%,77.1%)\" stop-opacity=\"1.0\"></stop><stop offset=\"0.222222222222\" stop-color=\"rgb(33.2%,62%,78.8%)\" stop-opacity=\"1.0\"></stop><stop offset=\"0.238095238095\" stop-color=\"rgb(38.1%,65.1%,80.5%)\" stop-opacity=\"1.0\"></stop><stop offset=\"0.253968253968\" stop-color=\"rgb(43%,68.2%,82.2%)\" stop-opacity=\"1.0\"></stop><stop offset=\"0.269841269841\" stop-color=\"rgb(47.9%,71.3%,83.9%)\" stop-opacity=\"1.0\"></stop><stop offset=\"0.285714285714\" stop-color=\"rgb(52.8%,74.5%,85.5%)\" stop-opacity=\"1.0\"></stop><stop offset=\"0.301587301587\" stop-color=\"rgb(57.6%,77.5%,87.2%)\" stop-opacity=\"1.0\"></stop><stop offset=\"0.31746031746\" stop-color=\"rgb(61.6%,79.4%,88.3%)\" stop-opacity=\"1.0\"></stop><stop offset=\"0.333333333333\" stop-color=\"rgb(65.5%,81.4%,89.4%)\" stop-opacity=\"1.0\"></stop><stop offset=\"0.349206349206\" stop-color=\"rgb(69.4%,83.4%,90.5%)\" stop-opacity=\"1.0\"></stop><stop offset=\"0.365079365079\" stop-color=\"rgb(73.3%,85.4%,91.7%)\" stop-opacity=\"1.0\"></stop><stop offset=\"0.380952380952\" stop-color=\"rgb(77.3%,87.4%,92.8%)\" stop-opacity=\"1.0\"></stop><stop offset=\"0.396825396825\" stop-color=\"rgb(81.2%,89.4%,93.9%)\" stop-opacity=\"1.0\"></stop><stop offset=\"0.412698412698\" stop-color=\"rgb(83.9%,90.7%,94.5%)\" stop-opacity=\"1.0\"></stop><stop offset=\"0.428571428571\" stop-color=\"rgb(86.2%,91.8%,94.9%)\" stop-opacity=\"1.0\"></stop><stop offset=\"0.444444444444\" stop-color=\"rgb(88.6%,92.9%,95.3%)\" stop-opacity=\"1.0\"></stop><stop offset=\"0.460317460317\" stop-color=\"rgb(90.9%,94.1%,95.8%)\" stop-opacity=\"1.0\"></stop><stop offset=\"0.47619047619\" stop-color=\"rgb(93.3%,95.2%,96.2%)\" stop-opacity=\"1.0\"></stop><stop offset=\"0.492063492063\" stop-color=\"rgb(95.7%,96.3%,96.6%)\" stop-opacity=\"1.0\"></stop><stop offset=\"0.507936507937\" stop-color=\"rgb(97%,96%,95.4%)\" stop-opacity=\"1.0\"></stop><stop offset=\"0.52380952381\" stop-color=\"rgb(97.4%,94.2%,92.4%)\" stop-opacity=\"1.0\"></stop><stop offset=\"0.539682539683\" stop-color=\"rgb(97.8%,92.5%,89.4%)\" stop-opacity=\"1.0\"></stop><stop offset=\"0.555555555556\" stop-color=\"rgb(98.2%,90.8%,86.4%)\" stop-opacity=\"1.0\"></stop><stop offset=\"0.571428571429\" stop-color=\"rgb(98.5%,89%,83.4%)\" stop-opacity=\"1.0\"></stop><stop offset=\"0.587301587302\" stop-color=\"rgb(98.9%,87.3%,80.4%)\" stop-opacity=\"1.0\"></stop><stop offset=\"0.603174603175\" stop-color=\"rgb(99.1%,85.2%,77.2%)\" stop-opacity=\"1.0\"></stop><stop offset=\"0.619047619048\" stop-color=\"rgb(98.5%,81.8%,72.9%)\" stop-opacity=\"1.0\"></stop><stop offset=\"0.634920634921\" stop-color=\"rgb(98%,78.5%,68.6%)\" stop-opacity=\"1.0\"></stop><stop offset=\"0.650793650794\" stop-color=\"rgb(97.4%,75.1%,64.3%)\" stop-opacity=\"1.0\"></stop><stop offset=\"0.666666666667\" stop-color=\"rgb(96.9%,71.8%,60%)\" stop-opacity=\"1.0\"></stop><stop offset=\"0.68253968254\" stop-color=\"rgb(96.3%,68.4%,55.7%)\" stop-opacity=\"1.0\"></stop><stop offset=\"0.698412698413\" stop-color=\"rgb(95.7%,65%,51.4%)\" stop-opacity=\"1.0\"></stop><stop offset=\"0.714285714286\" stop-color=\"rgb(94%,60.8%,48%)\" stop-opacity=\"1.0\"></stop><stop offset=\"0.730158730159\" stop-color=\"rgb(92.1%,56.5%,44.7%)\" stop-opacity=\"1.0\"></stop><stop offset=\"0.746031746032\" stop-color=\"rgb(90.3%,52.3%,41.4%)\" stop-opacity=\"1.0\"></stop><stop offset=\"0.761904761905\" stop-color=\"rgb(88.4%,48%,38.1%)\" stop-opacity=\"1.0\"></stop><stop offset=\"0.777777777778\" stop-color=\"rgb(86.5%,43.7%,34.8%)\" stop-opacity=\"1.0\"></stop><stop offset=\"0.793650793651\" stop-color=\"rgb(84.7%,39.4%,31.5%)\" stop-opacity=\"1.0\"></stop><stop offset=\"0.809523809524\" stop-color=\"rgb(82.6%,35%,28.9%)\" stop-opacity=\"1.0\"></stop><stop offset=\"0.825396825397\" stop-color=\"rgb(80.3%,30.5%,26.8%)\" stop-opacity=\"1.0\"></stop><stop offset=\"0.84126984127\" stop-color=\"rgb(78.1%,26%,24.7%)\" stop-opacity=\"1.0\"></stop><stop offset=\"0.857142857143\" stop-color=\"rgb(75.9%,21.5%,22.6%)\" stop-opacity=\"1.0\"></stop><stop offset=\"0.873015873016\" stop-color=\"rgb(73.6%,17%,20.5%)\" stop-opacity=\"1.0\"></stop><stop offset=\"0.888888888889\" stop-color=\"rgb(71.4%,12.5%,18.3%)\" stop-opacity=\"1.0\"></stop><stop offset=\"0.904761904762\" stop-color=\"rgb(68.4%,8.96%,16.6%)\" stop-opacity=\"1.0\"></stop><stop offset=\"0.920634920635\" stop-color=\"rgb(63.7%,7.47%,15.9%)\" stop-opacity=\"1.0\"></stop><stop offset=\"0.936507936508\" stop-color=\"rgb(59.1%,5.98%,15.1%)\" stop-opacity=\"1.0\"></stop><stop offset=\"0.952380952381\" stop-color=\"rgb(54.4%,4.48%,14.4%)\" stop-opacity=\"1.0\"></stop><stop offset=\"0.968253968254\" stop-color=\"rgb(49.7%,2.99%,13.7%)\" stop-opacity=\"1.0\"></stop><stop offset=\"0.984126984127\" stop-color=\"rgb(45.1%,1.49%,12.9%)\" stop-opacity=\"1.0\"></stop><stop offset=\"1.0\" stop-color=\"rgb(40.4%,0%,12.2%)\" stop-opacity=\"1.0\"></stop></linearGradient></defs><rect height=\"10\" style=\"fill:url(#tc8d098f85d6549929eab8aa846122603);stroke:none;stroke-width:1.0\" width=\"480.0\" x=\"0.0\" y=\"-5.0\"></rect></g></g><g class=\"toyplot-coordinates-Axis\" id=\"t53fa98756fa54c2bb1759e22009dd82a\" transform=\"translate(300.0,540.0)rotate(-90.0)translate(0,10.0)\"><line style=\"\" x1=\"0\" x2=\"480.0\" y1=\"0\" y2=\"0\"></line><g><line style=\"\" x1=\"0.0\" x2=\"0.0\" y1=\"3\" y2=\"-3\"></line><line style=\"\" x1=\"240.0\" x2=\"240.0\" y1=\"3\" y2=\"-3\"></line><line style=\"\" x1=\"480.0\" x2=\"480.0\" y1=\"3\" y2=\"-3\"></line></g><g><text style=\"font-size:10px;font-weight:normal;stroke:none;text-anchor:start\" transform=\"translate(0.0,6)rotate(90)translate(0,3.75)\"><tspan style=\"font-size:10.0px\">0.0</tspan></text><text style=\"font-size:10px;font-weight:normal;stroke:none;text-anchor:start\" transform=\"translate(240.0,6)rotate(90)translate(0,3.75)\"><tspan style=\"font-size:10.0px\">0.5</tspan></text><text style=\"font-size:10px;font-weight:normal;stroke:none;text-anchor:start\" transform=\"translate(480.0,6)rotate(90)translate(0,3.75)\"><tspan style=\"font-size:10.0px\">1.0</tspan></text></g><g class=\"toyplot-coordinates-Axis-coordinates\" style=\"visibility:hidden\" transform=\"\"><line style=\"stroke:rgb(43.9%,50.2%,56.5%);stroke-opacity:1.0;stroke-width:1.0\" x1=\"0\" x2=\"0\" y1=\"-3.0\" y2=\"4.5\"></line><text style=\"alignment-baseline:alphabetic;fill:rgb(43.9%,50.2%,56.5%);fill-opacity:1.0;font-size:10px;font-weight:normal;stroke:none;text-anchor:middle\" x=\"0\" y=\"-6\"></text></g></g></g></svg><div class=\"toyplot-interactive\"><script>\n",
       "        (function()\n",
       "        {\n",
       "            function _sign(x)\n",
       "            {\n",
       "                return x < 0 ? -1 : x > 0 ? 1 : 0;\n",
       "            }\n",
       "\n",
       "            function _mix(a, b, amount)\n",
       "            {\n",
       "                return ((1.0 - amount) * a) + (amount * b);\n",
       "            }\n",
       "\n",
       "            function _log(x, base)\n",
       "            {\n",
       "                return Math.log(Math.abs(x)) / Math.log(base);\n",
       "            }\n",
       "\n",
       "            function _in_range(a, x, b)\n",
       "            {\n",
       "                var left = Math.min(a, b);\n",
       "                var right = Math.max(a, b);\n",
       "                return left <= x && x <= right;\n",
       "            }\n",
       "\n",
       "            function inside(range, projection)\n",
       "            {\n",
       "                for(var i = 0; i != projection.length; ++i)\n",
       "                {\n",
       "                    var segment = projection[i];\n",
       "                    if(_in_range(segment.range.min, range, segment.range.max))\n",
       "                        return true;\n",
       "                }\n",
       "                return false;\n",
       "            }\n",
       "\n",
       "            function to_domain(range, projection)\n",
       "            {\n",
       "                for(var i = 0; i != projection.length; ++i)\n",
       "                {\n",
       "                    var segment = projection[i];\n",
       "                    if(_in_range(segment.range.bounds.min, range, segment.range.bounds.max))\n",
       "                    {\n",
       "                        if(segment.scale == \"linear\")\n",
       "                        {\n",
       "                            var amount = (range - segment.range.min) / (segment.range.max - segment.range.min);\n",
       "                            return _mix(segment.domain.min, segment.domain.max, amount)\n",
       "                        }\n",
       "                        else if(segment.scale[0] == \"log\")\n",
       "                        {\n",
       "                            var amount = (range - segment.range.min) / (segment.range.max - segment.range.min);\n",
       "                            var base = segment.scale[1];\n",
       "                            return _sign(segment.domain.min) * Math.pow(base, _mix(_log(segment.domain.min, base), _log(segment.domain.max, base), amount));\n",
       "                        }\n",
       "                    }\n",
       "                }\n",
       "            }\n",
       "\n",
       "            function display_coordinates(e)\n",
       "            {\n",
       "                var current = svg.createSVGPoint();\n",
       "                current.x = e.clientX;\n",
       "                current.y = e.clientY;\n",
       "\n",
       "                for(var axis_id in axes)\n",
       "                {\n",
       "                    var axis = document.querySelector(\"#\" + axis_id);\n",
       "                    var coordinates = axis.querySelector(\".toyplot-coordinates-Axis-coordinates\");\n",
       "                    if(coordinates)\n",
       "                    {\n",
       "                        var projection = axes[axis_id];\n",
       "                        var local = current.matrixTransform(axis.getScreenCTM().inverse());\n",
       "                        if(inside(local.x, projection))\n",
       "                        {\n",
       "                            var domain = to_domain(local.x, projection);\n",
       "                            coordinates.style.visibility = \"visible\";\n",
       "                            coordinates.setAttribute(\"transform\", \"translate(\" + local.x + \")\");\n",
       "                            var text = coordinates.querySelector(\"text\");\n",
       "                            text.textContent = domain.toFixed(2);\n",
       "                        }\n",
       "                        else\n",
       "                        {\n",
       "                            coordinates.style.visibility= \"hidden\";\n",
       "                        }\n",
       "                    }\n",
       "                }\n",
       "            }\n",
       "\n",
       "            var root_id = \"tf2262198ed5f4dd480da229482e33c5c\";\n",
       "            var axes = {\"t53fa98756fa54c2bb1759e22009dd82a\": [{\"domain\": {\"bounds\": {\"max\": Infinity, \"min\": -Infinity}, \"max\": 1.0, \"min\": 0.0}, \"range\": {\"bounds\": {\"max\": Infinity, \"min\": -Infinity}, \"max\": 480.0, \"min\": 0.0}, \"scale\": \"linear\"}]};\n",
       "\n",
       "            var svg = document.querySelector(\"#\" + root_id + \" svg\");\n",
       "            svg.addEventListener(\"click\", display_coordinates);\n",
       "        })();\n",
       "        </script></div></div>"
      ]
     },
     "metadata": {},
     "output_type": "display_data"
    }
   ],
   "source": [
    "import numpy\n",
    "\n",
    "colormap = toyplot.color.brewer.map(\"BlueRed\", domain_min=0, domain_max=1)\n",
    "\n",
    "canvas = toyplot.Canvas()\n",
    "numberline = canvas.color_scale(x1=\"50%\", x2=\"50%\", y1=\"-10%\", y2=\"10%\", colormap=colormap)\n",
    "numberline.axis.ticks.show = True\n",
    "numberline.axis.ticks.labels.angle=-90"
   ]
  },
  {
   "cell_type": "markdown",
   "metadata": {},
   "source": [
    "Of-course, you are free to override any of these behaviors.  For example, suppose we use rich text to add multi-line tick labels to the preceding example:"
   ]
  },
  {
   "cell_type": "code",
   "execution_count": 19,
   "metadata": {
    "collapsed": true
   },
   "outputs": [],
   "source": [
    "def format_color(color):\n",
    "    return \"(%.2f, %.2f, %.2f)\" % (color[\"r\"], color[\"g\"], color[\"b\"])\n",
    "\n",
    "values = numpy.linspace(colormap.domain.min, colormap.domain.max, 4)\n",
    "labels = [\"%.4f<br/><small>%s</small>\" % (value, format_color(colormap.color(value))) for value in values]\n",
    "locator = toyplot.locator.Explicit(values, labels)"
   ]
  },
  {
   "cell_type": "code",
   "execution_count": 20,
   "metadata": {
    "collapsed": false
   },
   "outputs": [
    {
     "name": "stderr",
     "output_type": "stream",
     "text": [
      "DEBUG:toyplot:{'attrib': {'style': {'font-size': '16.0px'}, 'dy': 0}, 'tag': 'root', 'type': 'start'}\n",
      "DEBUG:toyplot:{'text': '0.0000', 'type': 'text'}\n",
      "DEBUG:toyplot:{'attrib': {'style': {'font-size': '16.0px'}, 'dy': 0}, 'tag': 'br', 'type': 'start'}\n",
      "DEBUG:toyplot:{'tag': 'br', 'type': 'end'}\n",
      "DEBUG:toyplot:{'attrib': {'style': {'font-size': '12.8px'}, 'dy': 0}, 'tag': 'small', 'type': 'start'}\n",
      "DEBUG:toyplot:{'text': '(0.02, 0.19, 0.38)', 'type': 'text'}\n",
      "DEBUG:toyplot:{'tag': 'small', 'type': 'end'}\n",
      "DEBUG:toyplot:{'tag': 'root', 'type': 'end'}\n",
      "DEBUG:toyplot:{'attrib': {'style': {'font-size': '16.0px'}, 'dy': 0}, 'tag': 'root', 'type': 'start'}\n",
      "DEBUG:toyplot:{'text': '0.3333', 'type': 'text'}\n",
      "DEBUG:toyplot:{'attrib': {'style': {'font-size': '16.0px'}, 'dy': 0}, 'tag': 'br', 'type': 'start'}\n",
      "DEBUG:toyplot:{'tag': 'br', 'type': 'end'}\n",
      "DEBUG:toyplot:{'attrib': {'style': {'font-size': '12.8px'}, 'dy': 0}, 'tag': 'small', 'type': 'start'}\n",
      "DEBUG:toyplot:{'text': '(0.65, 0.81, 0.89)', 'type': 'text'}\n",
      "DEBUG:toyplot:{'tag': 'small', 'type': 'end'}\n",
      "DEBUG:toyplot:{'tag': 'root', 'type': 'end'}\n",
      "DEBUG:toyplot:{'attrib': {'style': {'font-size': '16.0px'}, 'dy': 0}, 'tag': 'root', 'type': 'start'}\n",
      "DEBUG:toyplot:{'text': '0.6667', 'type': 'text'}\n",
      "DEBUG:toyplot:{'attrib': {'style': {'font-size': '16.0px'}, 'dy': 0}, 'tag': 'br', 'type': 'start'}\n",
      "DEBUG:toyplot:{'tag': 'br', 'type': 'end'}\n",
      "DEBUG:toyplot:{'attrib': {'style': {'font-size': '12.8px'}, 'dy': 0}, 'tag': 'small', 'type': 'start'}\n",
      "DEBUG:toyplot:{'text': '(0.97, 0.72, 0.60)', 'type': 'text'}\n",
      "DEBUG:toyplot:{'tag': 'small', 'type': 'end'}\n",
      "DEBUG:toyplot:{'tag': 'root', 'type': 'end'}\n",
      "DEBUG:toyplot:{'attrib': {'style': {'font-size': '16.0px'}, 'dy': 0}, 'tag': 'root', 'type': 'start'}\n",
      "DEBUG:toyplot:{'text': '1.0000', 'type': 'text'}\n",
      "DEBUG:toyplot:{'attrib': {'style': {'font-size': '16.0px'}, 'dy': 0}, 'tag': 'br', 'type': 'start'}\n",
      "DEBUG:toyplot:{'tag': 'br', 'type': 'end'}\n",
      "DEBUG:toyplot:{'attrib': {'style': {'font-size': '12.8px'}, 'dy': 0}, 'tag': 'small', 'type': 'start'}\n",
      "DEBUG:toyplot:{'text': '(0.40, 0.00, 0.12)', 'type': 'text'}\n",
      "DEBUG:toyplot:{'tag': 'small', 'type': 'end'}\n",
      "DEBUG:toyplot:{'tag': 'root', 'type': 'end'}\n"
     ]
    },
    {
     "data": {
      "text/html": [
       "<div align=\"center\" class=\"toyplot\" id=\"t7edd1791df81485ab8205d4b0aef3019\"><svg class=\"toyplot-canvas-Canvas\" height=\"600px\" id=\"teaf4ffba3c9f4f26ba54cd31ffb5b5ae\" preserveAspectRatio=\"xMidYMid meet\" style=\"background-color:transparent;fill:rgb(16.1%,15.3%,14.1%);fill-opacity:1.0;font-family:Helvetica;font-size:12px;opacity:1.0;stroke:rgb(16.1%,15.3%,14.1%);stroke-opacity:1.0;stroke-width:1.0\" viewBox=\"0 0 600 600\" width=\"600px\" xmlns=\"http://www.w3.org/2000/svg\" xmlns:toyplot=\"http://www.sandia.gov/toyplot\" xmlns:xlink=\"http://www.w3.org/1999/xlink\"><g class=\"toyplot-coordinates-Numberline\" id=\"t50ca92d10e2c41e3a5ff114435381f96\"><clipPath id=\"t66f2f02f8d71459ba7cb11b76ad276e6\"><rect height=\"20.0\" width=\"480.0\" x=\"0\" y=\"-10.0\"></rect></clipPath><g clip-path=\"url(#t66f2f02f8d71459ba7cb11b76ad276e6)\" transform=\"translate(300.0,540.0)rotate(-90.0)\"><g class=\"toyplot-color-Map\" id=\"t5d7872df068644cebeb4ca4e399eeb6e\"><defs><linearGradient gradientUnits=\"userSpaceOnUse\" id=\"t40ca52c5ac534f58ad4e01dfb07a059d\" x1=\"0.0\" x2=\"480.0\" y1=\"0\" y2=\"0\"><stop offset=\"0.0\" stop-color=\"rgb(1.96%,18.8%,38%)\" stop-opacity=\"1.0\"></stop><stop offset=\"0.015873015873\" stop-color=\"rgb(3.7%,22.2%,42.7%)\" stop-opacity=\"1.0\"></stop><stop offset=\"0.031746031746\" stop-color=\"rgb(5.45%,25.5%,47.4%)\" stop-opacity=\"1.0\"></stop><stop offset=\"0.047619047619\" stop-color=\"rgb(7.19%,28.9%,52%)\" stop-opacity=\"1.0\"></stop><stop offset=\"0.0634920634921\" stop-color=\"rgb(8.93%,32.3%,56.7%)\" stop-opacity=\"1.0\"></stop><stop offset=\"0.0793650793651\" stop-color=\"rgb(10.7%,35.6%,61.4%)\" stop-opacity=\"1.0\"></stop><stop offset=\"0.0952380952381\" stop-color=\"rgb(12.4%,39%,66.1%)\" stop-opacity=\"1.0\"></stop><stop offset=\"0.111111111111\" stop-color=\"rgb(14.4%,42%,68.5%)\" stop-opacity=\"1.0\"></stop><stop offset=\"0.126984126984\" stop-color=\"rgb(16.5%,44.8%,69.9%)\" stop-opacity=\"1.0\"></stop><stop offset=\"0.142857142857\" stop-color=\"rgb(18.7%,47.6%,71.3%)\" stop-opacity=\"1.0\"></stop><stop offset=\"0.15873015873\" stop-color=\"rgb(20.8%,50.4%,72.7%)\" stop-opacity=\"1.0\"></stop><stop offset=\"0.174603174603\" stop-color=\"rgb(22.9%,53.2%,74.2%)\" stop-opacity=\"1.0\"></stop><stop offset=\"0.190476190476\" stop-color=\"rgb(25%,56%,75.6%)\" stop-opacity=\"1.0\"></stop><stop offset=\"0.206349206349\" stop-color=\"rgb(28.2%,58.9%,77.1%)\" stop-opacity=\"1.0\"></stop><stop offset=\"0.222222222222\" stop-color=\"rgb(33.2%,62%,78.8%)\" stop-opacity=\"1.0\"></stop><stop offset=\"0.238095238095\" stop-color=\"rgb(38.1%,65.1%,80.5%)\" stop-opacity=\"1.0\"></stop><stop offset=\"0.253968253968\" stop-color=\"rgb(43%,68.2%,82.2%)\" stop-opacity=\"1.0\"></stop><stop offset=\"0.269841269841\" stop-color=\"rgb(47.9%,71.3%,83.9%)\" stop-opacity=\"1.0\"></stop><stop offset=\"0.285714285714\" stop-color=\"rgb(52.8%,74.5%,85.5%)\" stop-opacity=\"1.0\"></stop><stop offset=\"0.301587301587\" stop-color=\"rgb(57.6%,77.5%,87.2%)\" stop-opacity=\"1.0\"></stop><stop offset=\"0.31746031746\" stop-color=\"rgb(61.6%,79.4%,88.3%)\" stop-opacity=\"1.0\"></stop><stop offset=\"0.333333333333\" stop-color=\"rgb(65.5%,81.4%,89.4%)\" stop-opacity=\"1.0\"></stop><stop offset=\"0.349206349206\" stop-color=\"rgb(69.4%,83.4%,90.5%)\" stop-opacity=\"1.0\"></stop><stop offset=\"0.365079365079\" stop-color=\"rgb(73.3%,85.4%,91.7%)\" stop-opacity=\"1.0\"></stop><stop offset=\"0.380952380952\" stop-color=\"rgb(77.3%,87.4%,92.8%)\" stop-opacity=\"1.0\"></stop><stop offset=\"0.396825396825\" stop-color=\"rgb(81.2%,89.4%,93.9%)\" stop-opacity=\"1.0\"></stop><stop offset=\"0.412698412698\" stop-color=\"rgb(83.9%,90.7%,94.5%)\" stop-opacity=\"1.0\"></stop><stop offset=\"0.428571428571\" stop-color=\"rgb(86.2%,91.8%,94.9%)\" stop-opacity=\"1.0\"></stop><stop offset=\"0.444444444444\" stop-color=\"rgb(88.6%,92.9%,95.3%)\" stop-opacity=\"1.0\"></stop><stop offset=\"0.460317460317\" stop-color=\"rgb(90.9%,94.1%,95.8%)\" stop-opacity=\"1.0\"></stop><stop offset=\"0.47619047619\" stop-color=\"rgb(93.3%,95.2%,96.2%)\" stop-opacity=\"1.0\"></stop><stop offset=\"0.492063492063\" stop-color=\"rgb(95.7%,96.3%,96.6%)\" stop-opacity=\"1.0\"></stop><stop offset=\"0.507936507937\" stop-color=\"rgb(97%,96%,95.4%)\" stop-opacity=\"1.0\"></stop><stop offset=\"0.52380952381\" stop-color=\"rgb(97.4%,94.2%,92.4%)\" stop-opacity=\"1.0\"></stop><stop offset=\"0.539682539683\" stop-color=\"rgb(97.8%,92.5%,89.4%)\" stop-opacity=\"1.0\"></stop><stop offset=\"0.555555555556\" stop-color=\"rgb(98.2%,90.8%,86.4%)\" stop-opacity=\"1.0\"></stop><stop offset=\"0.571428571429\" stop-color=\"rgb(98.5%,89%,83.4%)\" stop-opacity=\"1.0\"></stop><stop offset=\"0.587301587302\" stop-color=\"rgb(98.9%,87.3%,80.4%)\" stop-opacity=\"1.0\"></stop><stop offset=\"0.603174603175\" stop-color=\"rgb(99.1%,85.2%,77.2%)\" stop-opacity=\"1.0\"></stop><stop offset=\"0.619047619048\" stop-color=\"rgb(98.5%,81.8%,72.9%)\" stop-opacity=\"1.0\"></stop><stop offset=\"0.634920634921\" stop-color=\"rgb(98%,78.5%,68.6%)\" stop-opacity=\"1.0\"></stop><stop offset=\"0.650793650794\" stop-color=\"rgb(97.4%,75.1%,64.3%)\" stop-opacity=\"1.0\"></stop><stop offset=\"0.666666666667\" stop-color=\"rgb(96.9%,71.8%,60%)\" stop-opacity=\"1.0\"></stop><stop offset=\"0.68253968254\" stop-color=\"rgb(96.3%,68.4%,55.7%)\" stop-opacity=\"1.0\"></stop><stop offset=\"0.698412698413\" stop-color=\"rgb(95.7%,65%,51.4%)\" stop-opacity=\"1.0\"></stop><stop offset=\"0.714285714286\" stop-color=\"rgb(94%,60.8%,48%)\" stop-opacity=\"1.0\"></stop><stop offset=\"0.730158730159\" stop-color=\"rgb(92.1%,56.5%,44.7%)\" stop-opacity=\"1.0\"></stop><stop offset=\"0.746031746032\" stop-color=\"rgb(90.3%,52.3%,41.4%)\" stop-opacity=\"1.0\"></stop><stop offset=\"0.761904761905\" stop-color=\"rgb(88.4%,48%,38.1%)\" stop-opacity=\"1.0\"></stop><stop offset=\"0.777777777778\" stop-color=\"rgb(86.5%,43.7%,34.8%)\" stop-opacity=\"1.0\"></stop><stop offset=\"0.793650793651\" stop-color=\"rgb(84.7%,39.4%,31.5%)\" stop-opacity=\"1.0\"></stop><stop offset=\"0.809523809524\" stop-color=\"rgb(82.6%,35%,28.9%)\" stop-opacity=\"1.0\"></stop><stop offset=\"0.825396825397\" stop-color=\"rgb(80.3%,30.5%,26.8%)\" stop-opacity=\"1.0\"></stop><stop offset=\"0.84126984127\" stop-color=\"rgb(78.1%,26%,24.7%)\" stop-opacity=\"1.0\"></stop><stop offset=\"0.857142857143\" stop-color=\"rgb(75.9%,21.5%,22.6%)\" stop-opacity=\"1.0\"></stop><stop offset=\"0.873015873016\" stop-color=\"rgb(73.6%,17%,20.5%)\" stop-opacity=\"1.0\"></stop><stop offset=\"0.888888888889\" stop-color=\"rgb(71.4%,12.5%,18.3%)\" stop-opacity=\"1.0\"></stop><stop offset=\"0.904761904762\" stop-color=\"rgb(68.4%,8.96%,16.6%)\" stop-opacity=\"1.0\"></stop><stop offset=\"0.920634920635\" stop-color=\"rgb(63.7%,7.47%,15.9%)\" stop-opacity=\"1.0\"></stop><stop offset=\"0.936507936508\" stop-color=\"rgb(59.1%,5.98%,15.1%)\" stop-opacity=\"1.0\"></stop><stop offset=\"0.952380952381\" stop-color=\"rgb(54.4%,4.48%,14.4%)\" stop-opacity=\"1.0\"></stop><stop offset=\"0.968253968254\" stop-color=\"rgb(49.7%,2.99%,13.7%)\" stop-opacity=\"1.0\"></stop><stop offset=\"0.984126984127\" stop-color=\"rgb(45.1%,1.49%,12.9%)\" stop-opacity=\"1.0\"></stop><stop offset=\"1.0\" stop-color=\"rgb(40.4%,0%,12.2%)\" stop-opacity=\"1.0\"></stop></linearGradient></defs><rect height=\"10\" style=\"fill:url(#t40ca52c5ac534f58ad4e01dfb07a059d);stroke:none;stroke-width:1.0\" width=\"480.0\" x=\"0.0\" y=\"-5.0\"></rect></g></g><g class=\"toyplot-coordinates-Axis\" id=\"tdeb453592cb248149034e20f1d028962\" transform=\"translate(300.0,540.0)rotate(-90.0)translate(0,10.0)\"><line style=\"\" x1=\"0\" x2=\"480.0\" y1=\"0\" y2=\"0\"></line><g><line style=\"\" x1=\"0.0\" x2=\"0.0\" y1=\"3\" y2=\"-3\"></line><line style=\"\" x1=\"160.0\" x2=\"160.0\" y1=\"3\" y2=\"-3\"></line><line style=\"\" x1=\"320.0\" x2=\"320.0\" y1=\"3\" y2=\"-3\"></line><line style=\"\" x1=\"480.0\" x2=\"480.0\" y1=\"3\" y2=\"-3\"></line></g><g><text style=\"font-size:16px;font-weight:normal;stroke:none;text-anchor:start\" transform=\"translate(0.0,6)rotate(90)translate(0,6.0)\"><tspan style=\"font-size:16.0px\">0.0000</tspan><tspan dy=\"19.2\" style=\"font-size:12.8px\" x=\"0\">(0.02, 0.19, 0.38)</tspan></text><text style=\"font-size:16px;font-weight:normal;stroke:none;text-anchor:start\" transform=\"translate(160.0,6)rotate(90)translate(0,6.0)\"><tspan style=\"font-size:16.0px\">0.3333</tspan><tspan dy=\"19.2\" style=\"font-size:12.8px\" x=\"0\">(0.65, 0.81, 0.89)</tspan></text><text style=\"font-size:16px;font-weight:normal;stroke:none;text-anchor:start\" transform=\"translate(320.0,6)rotate(90)translate(0,6.0)\"><tspan style=\"font-size:16.0px\">0.6667</tspan><tspan dy=\"19.2\" style=\"font-size:12.8px\" x=\"0\">(0.97, 0.72, 0.60)</tspan></text><text style=\"font-size:16px;font-weight:normal;stroke:none;text-anchor:start\" transform=\"translate(480.0,6)rotate(90)translate(0,6.0)\"><tspan style=\"font-size:16.0px\">1.0000</tspan><tspan dy=\"19.2\" style=\"font-size:12.8px\" x=\"0\">(0.40, 0.00, 0.12)</tspan></text></g><g class=\"toyplot-coordinates-Axis-coordinates\" style=\"visibility:hidden\" transform=\"\"><line style=\"stroke:rgb(43.9%,50.2%,56.5%);stroke-opacity:1.0;stroke-width:1.0\" x1=\"0\" x2=\"0\" y1=\"-3.0\" y2=\"4.5\"></line><text style=\"alignment-baseline:alphabetic;fill:rgb(43.9%,50.2%,56.5%);fill-opacity:1.0;font-size:10px;font-weight:normal;stroke:none;text-anchor:middle\" x=\"0\" y=\"-6\"></text></g></g></g></svg><div class=\"toyplot-interactive\"><script>\n",
       "        (function()\n",
       "        {\n",
       "            function _sign(x)\n",
       "            {\n",
       "                return x < 0 ? -1 : x > 0 ? 1 : 0;\n",
       "            }\n",
       "\n",
       "            function _mix(a, b, amount)\n",
       "            {\n",
       "                return ((1.0 - amount) * a) + (amount * b);\n",
       "            }\n",
       "\n",
       "            function _log(x, base)\n",
       "            {\n",
       "                return Math.log(Math.abs(x)) / Math.log(base);\n",
       "            }\n",
       "\n",
       "            function _in_range(a, x, b)\n",
       "            {\n",
       "                var left = Math.min(a, b);\n",
       "                var right = Math.max(a, b);\n",
       "                return left <= x && x <= right;\n",
       "            }\n",
       "\n",
       "            function inside(range, projection)\n",
       "            {\n",
       "                for(var i = 0; i != projection.length; ++i)\n",
       "                {\n",
       "                    var segment = projection[i];\n",
       "                    if(_in_range(segment.range.min, range, segment.range.max))\n",
       "                        return true;\n",
       "                }\n",
       "                return false;\n",
       "            }\n",
       "\n",
       "            function to_domain(range, projection)\n",
       "            {\n",
       "                for(var i = 0; i != projection.length; ++i)\n",
       "                {\n",
       "                    var segment = projection[i];\n",
       "                    if(_in_range(segment.range.bounds.min, range, segment.range.bounds.max))\n",
       "                    {\n",
       "                        if(segment.scale == \"linear\")\n",
       "                        {\n",
       "                            var amount = (range - segment.range.min) / (segment.range.max - segment.range.min);\n",
       "                            return _mix(segment.domain.min, segment.domain.max, amount)\n",
       "                        }\n",
       "                        else if(segment.scale[0] == \"log\")\n",
       "                        {\n",
       "                            var amount = (range - segment.range.min) / (segment.range.max - segment.range.min);\n",
       "                            var base = segment.scale[1];\n",
       "                            return _sign(segment.domain.min) * Math.pow(base, _mix(_log(segment.domain.min, base), _log(segment.domain.max, base), amount));\n",
       "                        }\n",
       "                    }\n",
       "                }\n",
       "            }\n",
       "\n",
       "            function display_coordinates(e)\n",
       "            {\n",
       "                var current = svg.createSVGPoint();\n",
       "                current.x = e.clientX;\n",
       "                current.y = e.clientY;\n",
       "\n",
       "                for(var axis_id in axes)\n",
       "                {\n",
       "                    var axis = document.querySelector(\"#\" + axis_id);\n",
       "                    var coordinates = axis.querySelector(\".toyplot-coordinates-Axis-coordinates\");\n",
       "                    if(coordinates)\n",
       "                    {\n",
       "                        var projection = axes[axis_id];\n",
       "                        var local = current.matrixTransform(axis.getScreenCTM().inverse());\n",
       "                        if(inside(local.x, projection))\n",
       "                        {\n",
       "                            var domain = to_domain(local.x, projection);\n",
       "                            coordinates.style.visibility = \"visible\";\n",
       "                            coordinates.setAttribute(\"transform\", \"translate(\" + local.x + \")\");\n",
       "                            var text = coordinates.querySelector(\"text\");\n",
       "                            text.textContent = domain.toFixed(2);\n",
       "                        }\n",
       "                        else\n",
       "                        {\n",
       "                            coordinates.style.visibility= \"hidden\";\n",
       "                        }\n",
       "                    }\n",
       "                }\n",
       "            }\n",
       "\n",
       "            var root_id = \"t7edd1791df81485ab8205d4b0aef3019\";\n",
       "            var axes = {\"tdeb453592cb248149034e20f1d028962\": [{\"domain\": {\"bounds\": {\"max\": Infinity, \"min\": -Infinity}, \"max\": 1.0, \"min\": 0.0}, \"range\": {\"bounds\": {\"max\": Infinity, \"min\": -Infinity}, \"max\": 480.0, \"min\": 0.0}, \"scale\": \"linear\"}]};\n",
       "\n",
       "            var svg = document.querySelector(\"#\" + root_id + \" svg\");\n",
       "            svg.addEventListener(\"click\", display_coordinates);\n",
       "        })();\n",
       "        </script></div></div>"
      ]
     },
     "metadata": {},
     "output_type": "display_data"
    }
   ],
   "source": [
    "canvas = toyplot.Canvas()\n",
    "numberline = canvas.color_scale(x1=\"50%\", x2=\"50%\", y1=\"-10%\", y2=\"10%\", colormap=colormap)\n",
    "numberline.axis.ticks.show = True\n",
    "numberline.axis.ticks.labels.angle=-90\n",
    "\n",
    "numberline.axis.ticks.locator = locator\n",
    "numberline.axis.ticks.labels.style = {\"font-size\":\"16px\"}"
   ]
  },
  {
   "cell_type": "markdown",
   "metadata": {},
   "source": [
    "We might choose to center the labels horizontally and vertically, overriding the defaults:"
   ]
  },
  {
   "cell_type": "code",
   "execution_count": 21,
   "metadata": {
    "collapsed": false
   },
   "outputs": [
    {
     "name": "stderr",
     "output_type": "stream",
     "text": [
      "DEBUG:toyplot:{'attrib': {'style': {'font-size': '16.0px'}, 'dy': 0}, 'tag': 'root', 'type': 'start'}\n",
      "DEBUG:toyplot:{'text': '0.0000', 'type': 'text'}\n",
      "DEBUG:toyplot:{'attrib': {'style': {'font-size': '16.0px'}, 'dy': 0}, 'tag': 'br', 'type': 'start'}\n",
      "DEBUG:toyplot:{'tag': 'br', 'type': 'end'}\n",
      "DEBUG:toyplot:{'attrib': {'style': {'font-size': '12.8px'}, 'dy': 0}, 'tag': 'small', 'type': 'start'}\n",
      "DEBUG:toyplot:{'text': '(0.02, 0.19, 0.38)', 'type': 'text'}\n",
      "DEBUG:toyplot:{'tag': 'small', 'type': 'end'}\n",
      "DEBUG:toyplot:{'tag': 'root', 'type': 'end'}\n",
      "DEBUG:toyplot:{'attrib': {'style': {'font-size': '16.0px'}, 'dy': 0}, 'tag': 'root', 'type': 'start'}\n",
      "DEBUG:toyplot:{'text': '0.3333', 'type': 'text'}\n",
      "DEBUG:toyplot:{'attrib': {'style': {'font-size': '16.0px'}, 'dy': 0}, 'tag': 'br', 'type': 'start'}\n",
      "DEBUG:toyplot:{'tag': 'br', 'type': 'end'}\n",
      "DEBUG:toyplot:{'attrib': {'style': {'font-size': '12.8px'}, 'dy': 0}, 'tag': 'small', 'type': 'start'}\n",
      "DEBUG:toyplot:{'text': '(0.65, 0.81, 0.89)', 'type': 'text'}\n",
      "DEBUG:toyplot:{'tag': 'small', 'type': 'end'}\n",
      "DEBUG:toyplot:{'tag': 'root', 'type': 'end'}\n",
      "DEBUG:toyplot:{'attrib': {'style': {'font-size': '16.0px'}, 'dy': 0}, 'tag': 'root', 'type': 'start'}\n",
      "DEBUG:toyplot:{'text': '0.6667', 'type': 'text'}\n",
      "DEBUG:toyplot:{'attrib': {'style': {'font-size': '16.0px'}, 'dy': 0}, 'tag': 'br', 'type': 'start'}\n",
      "DEBUG:toyplot:{'tag': 'br', 'type': 'end'}\n",
      "DEBUG:toyplot:{'attrib': {'style': {'font-size': '12.8px'}, 'dy': 0}, 'tag': 'small', 'type': 'start'}\n",
      "DEBUG:toyplot:{'text': '(0.97, 0.72, 0.60)', 'type': 'text'}\n",
      "DEBUG:toyplot:{'tag': 'small', 'type': 'end'}\n",
      "DEBUG:toyplot:{'tag': 'root', 'type': 'end'}\n",
      "DEBUG:toyplot:{'attrib': {'style': {'font-size': '16.0px'}, 'dy': 0}, 'tag': 'root', 'type': 'start'}\n",
      "DEBUG:toyplot:{'text': '1.0000', 'type': 'text'}\n",
      "DEBUG:toyplot:{'attrib': {'style': {'font-size': '16.0px'}, 'dy': 0}, 'tag': 'br', 'type': 'start'}\n",
      "DEBUG:toyplot:{'tag': 'br', 'type': 'end'}\n",
      "DEBUG:toyplot:{'attrib': {'style': {'font-size': '12.8px'}, 'dy': 0}, 'tag': 'small', 'type': 'start'}\n",
      "DEBUG:toyplot:{'text': '(0.40, 0.00, 0.12)', 'type': 'text'}\n",
      "DEBUG:toyplot:{'tag': 'small', 'type': 'end'}\n",
      "DEBUG:toyplot:{'tag': 'root', 'type': 'end'}\n"
     ]
    },
    {
     "data": {
      "text/html": [
       "<div align=\"center\" class=\"toyplot\" id=\"td858d088c60e4716b18dc5126570d105\"><svg class=\"toyplot-canvas-Canvas\" height=\"600px\" id=\"t2f4b192d397b40dbac87b5cb2cb42bb4\" preserveAspectRatio=\"xMidYMid meet\" style=\"background-color:transparent;fill:rgb(16.1%,15.3%,14.1%);fill-opacity:1.0;font-family:Helvetica;font-size:12px;opacity:1.0;stroke:rgb(16.1%,15.3%,14.1%);stroke-opacity:1.0;stroke-width:1.0\" viewBox=\"0 0 600 600\" width=\"600px\" xmlns=\"http://www.w3.org/2000/svg\" xmlns:toyplot=\"http://www.sandia.gov/toyplot\" xmlns:xlink=\"http://www.w3.org/1999/xlink\"><g class=\"toyplot-coordinates-Numberline\" id=\"tdea0e08593024e8ba055476828e2f579\"><clipPath id=\"td3547d4f28a940f1898ae5f3d889487a\"><rect height=\"20.0\" width=\"480.0\" x=\"0\" y=\"-10.0\"></rect></clipPath><g clip-path=\"url(#td3547d4f28a940f1898ae5f3d889487a)\" transform=\"translate(300.0,540.0)rotate(-90.0)\"><g class=\"toyplot-color-Map\" id=\"t4bfd5867e40e4cd781dce5dcb8ffc7ca\"><defs><linearGradient gradientUnits=\"userSpaceOnUse\" id=\"t76d12e5233e64af2bbf623f562c559f2\" x1=\"0.0\" x2=\"480.0\" y1=\"0\" y2=\"0\"><stop offset=\"0.0\" stop-color=\"rgb(1.96%,18.8%,38%)\" stop-opacity=\"1.0\"></stop><stop offset=\"0.015873015873\" stop-color=\"rgb(3.7%,22.2%,42.7%)\" stop-opacity=\"1.0\"></stop><stop offset=\"0.031746031746\" stop-color=\"rgb(5.45%,25.5%,47.4%)\" stop-opacity=\"1.0\"></stop><stop offset=\"0.047619047619\" stop-color=\"rgb(7.19%,28.9%,52%)\" stop-opacity=\"1.0\"></stop><stop offset=\"0.0634920634921\" stop-color=\"rgb(8.93%,32.3%,56.7%)\" stop-opacity=\"1.0\"></stop><stop offset=\"0.0793650793651\" stop-color=\"rgb(10.7%,35.6%,61.4%)\" stop-opacity=\"1.0\"></stop><stop offset=\"0.0952380952381\" stop-color=\"rgb(12.4%,39%,66.1%)\" stop-opacity=\"1.0\"></stop><stop offset=\"0.111111111111\" stop-color=\"rgb(14.4%,42%,68.5%)\" stop-opacity=\"1.0\"></stop><stop offset=\"0.126984126984\" stop-color=\"rgb(16.5%,44.8%,69.9%)\" stop-opacity=\"1.0\"></stop><stop offset=\"0.142857142857\" stop-color=\"rgb(18.7%,47.6%,71.3%)\" stop-opacity=\"1.0\"></stop><stop offset=\"0.15873015873\" stop-color=\"rgb(20.8%,50.4%,72.7%)\" stop-opacity=\"1.0\"></stop><stop offset=\"0.174603174603\" stop-color=\"rgb(22.9%,53.2%,74.2%)\" stop-opacity=\"1.0\"></stop><stop offset=\"0.190476190476\" stop-color=\"rgb(25%,56%,75.6%)\" stop-opacity=\"1.0\"></stop><stop offset=\"0.206349206349\" stop-color=\"rgb(28.2%,58.9%,77.1%)\" stop-opacity=\"1.0\"></stop><stop offset=\"0.222222222222\" stop-color=\"rgb(33.2%,62%,78.8%)\" stop-opacity=\"1.0\"></stop><stop offset=\"0.238095238095\" stop-color=\"rgb(38.1%,65.1%,80.5%)\" stop-opacity=\"1.0\"></stop><stop offset=\"0.253968253968\" stop-color=\"rgb(43%,68.2%,82.2%)\" stop-opacity=\"1.0\"></stop><stop offset=\"0.269841269841\" stop-color=\"rgb(47.9%,71.3%,83.9%)\" stop-opacity=\"1.0\"></stop><stop offset=\"0.285714285714\" stop-color=\"rgb(52.8%,74.5%,85.5%)\" stop-opacity=\"1.0\"></stop><stop offset=\"0.301587301587\" stop-color=\"rgb(57.6%,77.5%,87.2%)\" stop-opacity=\"1.0\"></stop><stop offset=\"0.31746031746\" stop-color=\"rgb(61.6%,79.4%,88.3%)\" stop-opacity=\"1.0\"></stop><stop offset=\"0.333333333333\" stop-color=\"rgb(65.5%,81.4%,89.4%)\" stop-opacity=\"1.0\"></stop><stop offset=\"0.349206349206\" stop-color=\"rgb(69.4%,83.4%,90.5%)\" stop-opacity=\"1.0\"></stop><stop offset=\"0.365079365079\" stop-color=\"rgb(73.3%,85.4%,91.7%)\" stop-opacity=\"1.0\"></stop><stop offset=\"0.380952380952\" stop-color=\"rgb(77.3%,87.4%,92.8%)\" stop-opacity=\"1.0\"></stop><stop offset=\"0.396825396825\" stop-color=\"rgb(81.2%,89.4%,93.9%)\" stop-opacity=\"1.0\"></stop><stop offset=\"0.412698412698\" stop-color=\"rgb(83.9%,90.7%,94.5%)\" stop-opacity=\"1.0\"></stop><stop offset=\"0.428571428571\" stop-color=\"rgb(86.2%,91.8%,94.9%)\" stop-opacity=\"1.0\"></stop><stop offset=\"0.444444444444\" stop-color=\"rgb(88.6%,92.9%,95.3%)\" stop-opacity=\"1.0\"></stop><stop offset=\"0.460317460317\" stop-color=\"rgb(90.9%,94.1%,95.8%)\" stop-opacity=\"1.0\"></stop><stop offset=\"0.47619047619\" stop-color=\"rgb(93.3%,95.2%,96.2%)\" stop-opacity=\"1.0\"></stop><stop offset=\"0.492063492063\" stop-color=\"rgb(95.7%,96.3%,96.6%)\" stop-opacity=\"1.0\"></stop><stop offset=\"0.507936507937\" stop-color=\"rgb(97%,96%,95.4%)\" stop-opacity=\"1.0\"></stop><stop offset=\"0.52380952381\" stop-color=\"rgb(97.4%,94.2%,92.4%)\" stop-opacity=\"1.0\"></stop><stop offset=\"0.539682539683\" stop-color=\"rgb(97.8%,92.5%,89.4%)\" stop-opacity=\"1.0\"></stop><stop offset=\"0.555555555556\" stop-color=\"rgb(98.2%,90.8%,86.4%)\" stop-opacity=\"1.0\"></stop><stop offset=\"0.571428571429\" stop-color=\"rgb(98.5%,89%,83.4%)\" stop-opacity=\"1.0\"></stop><stop offset=\"0.587301587302\" stop-color=\"rgb(98.9%,87.3%,80.4%)\" stop-opacity=\"1.0\"></stop><stop offset=\"0.603174603175\" stop-color=\"rgb(99.1%,85.2%,77.2%)\" stop-opacity=\"1.0\"></stop><stop offset=\"0.619047619048\" stop-color=\"rgb(98.5%,81.8%,72.9%)\" stop-opacity=\"1.0\"></stop><stop offset=\"0.634920634921\" stop-color=\"rgb(98%,78.5%,68.6%)\" stop-opacity=\"1.0\"></stop><stop offset=\"0.650793650794\" stop-color=\"rgb(97.4%,75.1%,64.3%)\" stop-opacity=\"1.0\"></stop><stop offset=\"0.666666666667\" stop-color=\"rgb(96.9%,71.8%,60%)\" stop-opacity=\"1.0\"></stop><stop offset=\"0.68253968254\" stop-color=\"rgb(96.3%,68.4%,55.7%)\" stop-opacity=\"1.0\"></stop><stop offset=\"0.698412698413\" stop-color=\"rgb(95.7%,65%,51.4%)\" stop-opacity=\"1.0\"></stop><stop offset=\"0.714285714286\" stop-color=\"rgb(94%,60.8%,48%)\" stop-opacity=\"1.0\"></stop><stop offset=\"0.730158730159\" stop-color=\"rgb(92.1%,56.5%,44.7%)\" stop-opacity=\"1.0\"></stop><stop offset=\"0.746031746032\" stop-color=\"rgb(90.3%,52.3%,41.4%)\" stop-opacity=\"1.0\"></stop><stop offset=\"0.761904761905\" stop-color=\"rgb(88.4%,48%,38.1%)\" stop-opacity=\"1.0\"></stop><stop offset=\"0.777777777778\" stop-color=\"rgb(86.5%,43.7%,34.8%)\" stop-opacity=\"1.0\"></stop><stop offset=\"0.793650793651\" stop-color=\"rgb(84.7%,39.4%,31.5%)\" stop-opacity=\"1.0\"></stop><stop offset=\"0.809523809524\" stop-color=\"rgb(82.6%,35%,28.9%)\" stop-opacity=\"1.0\"></stop><stop offset=\"0.825396825397\" stop-color=\"rgb(80.3%,30.5%,26.8%)\" stop-opacity=\"1.0\"></stop><stop offset=\"0.84126984127\" stop-color=\"rgb(78.1%,26%,24.7%)\" stop-opacity=\"1.0\"></stop><stop offset=\"0.857142857143\" stop-color=\"rgb(75.9%,21.5%,22.6%)\" stop-opacity=\"1.0\"></stop><stop offset=\"0.873015873016\" stop-color=\"rgb(73.6%,17%,20.5%)\" stop-opacity=\"1.0\"></stop><stop offset=\"0.888888888889\" stop-color=\"rgb(71.4%,12.5%,18.3%)\" stop-opacity=\"1.0\"></stop><stop offset=\"0.904761904762\" stop-color=\"rgb(68.4%,8.96%,16.6%)\" stop-opacity=\"1.0\"></stop><stop offset=\"0.920634920635\" stop-color=\"rgb(63.7%,7.47%,15.9%)\" stop-opacity=\"1.0\"></stop><stop offset=\"0.936507936508\" stop-color=\"rgb(59.1%,5.98%,15.1%)\" stop-opacity=\"1.0\"></stop><stop offset=\"0.952380952381\" stop-color=\"rgb(54.4%,4.48%,14.4%)\" stop-opacity=\"1.0\"></stop><stop offset=\"0.968253968254\" stop-color=\"rgb(49.7%,2.99%,13.7%)\" stop-opacity=\"1.0\"></stop><stop offset=\"0.984126984127\" stop-color=\"rgb(45.1%,1.49%,12.9%)\" stop-opacity=\"1.0\"></stop><stop offset=\"1.0\" stop-color=\"rgb(40.4%,0%,12.2%)\" stop-opacity=\"1.0\"></stop></linearGradient></defs><rect height=\"10\" style=\"fill:url(#t76d12e5233e64af2bbf623f562c559f2);stroke:none;stroke-width:1.0\" width=\"480.0\" x=\"0.0\" y=\"-5.0\"></rect></g></g><g class=\"toyplot-coordinates-Axis\" id=\"t3ffb8dceb1be47d6a822ebc4618f594f\" transform=\"translate(300.0,540.0)rotate(-90.0)translate(0,10.0)\"><line style=\"\" x1=\"0\" x2=\"480.0\" y1=\"0\" y2=\"0\"></line><g><line style=\"\" x1=\"0.0\" x2=\"0.0\" y1=\"3\" y2=\"-3\"></line><line style=\"\" x1=\"160.0\" x2=\"160.0\" y1=\"3\" y2=\"-3\"></line><line style=\"\" x1=\"320.0\" x2=\"320.0\" y1=\"3\" y2=\"-3\"></line><line style=\"\" x1=\"480.0\" x2=\"480.0\" y1=\"3\" y2=\"-3\"></line></g><g><text style=\"font-size:16px;font-weight:normal;stroke:none;text-anchor:middle\" transform=\"translate(0.0,60.0)rotate(90)translate(0,-4.0)\"><tspan style=\"font-size:16.0px\">0.0000</tspan><tspan dy=\"19.2\" style=\"font-size:12.8px\" x=\"0\">(0.02, 0.19, 0.38)</tspan></text><text style=\"font-size:16px;font-weight:normal;stroke:none;text-anchor:middle\" transform=\"translate(160.0,60.0)rotate(90)translate(0,-4.0)\"><tspan style=\"font-size:16.0px\">0.3333</tspan><tspan dy=\"19.2\" style=\"font-size:12.8px\" x=\"0\">(0.65, 0.81, 0.89)</tspan></text><text style=\"font-size:16px;font-weight:normal;stroke:none;text-anchor:middle\" transform=\"translate(320.0,60.0)rotate(90)translate(0,-4.0)\"><tspan style=\"font-size:16.0px\">0.6667</tspan><tspan dy=\"19.2\" style=\"font-size:12.8px\" x=\"0\">(0.97, 0.72, 0.60)</tspan></text><text style=\"font-size:16px;font-weight:normal;stroke:none;text-anchor:middle\" transform=\"translate(480.0,60.0)rotate(90)translate(0,-4.0)\"><tspan style=\"font-size:16.0px\">1.0000</tspan><tspan dy=\"19.2\" style=\"font-size:12.8px\" x=\"0\">(0.40, 0.00, 0.12)</tspan></text></g><g class=\"toyplot-coordinates-Axis-coordinates\" style=\"visibility:hidden\" transform=\"\"><line style=\"stroke:rgb(43.9%,50.2%,56.5%);stroke-opacity:1.0;stroke-width:1.0\" x1=\"0\" x2=\"0\" y1=\"-30.0\" y2=\"45.0\"></line><text style=\"alignment-baseline:alphabetic;fill:rgb(43.9%,50.2%,56.5%);fill-opacity:1.0;font-size:10px;font-weight:normal;stroke:none;text-anchor:middle\" x=\"0\" y=\"-60.0\"></text></g></g></g></svg><div class=\"toyplot-interactive\"><script>\n",
       "        (function()\n",
       "        {\n",
       "            function _sign(x)\n",
       "            {\n",
       "                return x < 0 ? -1 : x > 0 ? 1 : 0;\n",
       "            }\n",
       "\n",
       "            function _mix(a, b, amount)\n",
       "            {\n",
       "                return ((1.0 - amount) * a) + (amount * b);\n",
       "            }\n",
       "\n",
       "            function _log(x, base)\n",
       "            {\n",
       "                return Math.log(Math.abs(x)) / Math.log(base);\n",
       "            }\n",
       "\n",
       "            function _in_range(a, x, b)\n",
       "            {\n",
       "                var left = Math.min(a, b);\n",
       "                var right = Math.max(a, b);\n",
       "                return left <= x && x <= right;\n",
       "            }\n",
       "\n",
       "            function inside(range, projection)\n",
       "            {\n",
       "                for(var i = 0; i != projection.length; ++i)\n",
       "                {\n",
       "                    var segment = projection[i];\n",
       "                    if(_in_range(segment.range.min, range, segment.range.max))\n",
       "                        return true;\n",
       "                }\n",
       "                return false;\n",
       "            }\n",
       "\n",
       "            function to_domain(range, projection)\n",
       "            {\n",
       "                for(var i = 0; i != projection.length; ++i)\n",
       "                {\n",
       "                    var segment = projection[i];\n",
       "                    if(_in_range(segment.range.bounds.min, range, segment.range.bounds.max))\n",
       "                    {\n",
       "                        if(segment.scale == \"linear\")\n",
       "                        {\n",
       "                            var amount = (range - segment.range.min) / (segment.range.max - segment.range.min);\n",
       "                            return _mix(segment.domain.min, segment.domain.max, amount)\n",
       "                        }\n",
       "                        else if(segment.scale[0] == \"log\")\n",
       "                        {\n",
       "                            var amount = (range - segment.range.min) / (segment.range.max - segment.range.min);\n",
       "                            var base = segment.scale[1];\n",
       "                            return _sign(segment.domain.min) * Math.pow(base, _mix(_log(segment.domain.min, base), _log(segment.domain.max, base), amount));\n",
       "                        }\n",
       "                    }\n",
       "                }\n",
       "            }\n",
       "\n",
       "            function display_coordinates(e)\n",
       "            {\n",
       "                var current = svg.createSVGPoint();\n",
       "                current.x = e.clientX;\n",
       "                current.y = e.clientY;\n",
       "\n",
       "                for(var axis_id in axes)\n",
       "                {\n",
       "                    var axis = document.querySelector(\"#\" + axis_id);\n",
       "                    var coordinates = axis.querySelector(\".toyplot-coordinates-Axis-coordinates\");\n",
       "                    if(coordinates)\n",
       "                    {\n",
       "                        var projection = axes[axis_id];\n",
       "                        var local = current.matrixTransform(axis.getScreenCTM().inverse());\n",
       "                        if(inside(local.x, projection))\n",
       "                        {\n",
       "                            var domain = to_domain(local.x, projection);\n",
       "                            coordinates.style.visibility = \"visible\";\n",
       "                            coordinates.setAttribute(\"transform\", \"translate(\" + local.x + \")\");\n",
       "                            var text = coordinates.querySelector(\"text\");\n",
       "                            text.textContent = domain.toFixed(2);\n",
       "                        }\n",
       "                        else\n",
       "                        {\n",
       "                            coordinates.style.visibility= \"hidden\";\n",
       "                        }\n",
       "                    }\n",
       "                }\n",
       "            }\n",
       "\n",
       "            var root_id = \"td858d088c60e4716b18dc5126570d105\";\n",
       "            var axes = {\"t3ffb8dceb1be47d6a822ebc4618f594f\": [{\"domain\": {\"bounds\": {\"max\": Infinity, \"min\": -Infinity}, \"max\": 1.0, \"min\": 0.0}, \"range\": {\"bounds\": {\"max\": Infinity, \"min\": -Infinity}, \"max\": 480.0, \"min\": 0.0}, \"scale\": \"linear\"}]};\n",
       "\n",
       "            var svg = document.querySelector(\"#\" + root_id + \" svg\");\n",
       "            svg.addEventListener(\"click\", display_coordinates);\n",
       "        })();\n",
       "        </script></div></div>"
      ]
     },
     "metadata": {},
     "output_type": "display_data"
    }
   ],
   "source": [
    "canvas = toyplot.Canvas()\n",
    "numberline = canvas.color_scale(x1=\"50%\", x2=\"50%\", y1=\"-10%\", y2=\"10%\", colormap=colormap)\n",
    "numberline.axis.ticks.labels.angle=-90\n",
    "numberline.axis.ticks.show = True\n",
    "numberline.axis.ticks.locator = locator\n",
    "numberline.axis.ticks.labels.style = {\"font-size\":\"16px\"}\n",
    "\n",
    "numberline.axis.ticks.labels.style = {\"baseline-shift\":\"10px\"}\n",
    "numberline.axis.ticks.labels.style = {\"text-anchor\":\"middle\"}\n",
    "numberline.axis.ticks.labels.offset = 60"
   ]
  }
 ],
 "metadata": {
  "kernelspec": {
   "display_name": "Python 2",
   "language": "python",
   "name": "python2"
  },
  "language_info": {
   "codemirror_mode": {
    "name": "ipython",
    "version": 2
   },
   "file_extension": ".py",
   "mimetype": "text/x-python",
   "name": "python",
   "nbconvert_exporter": "python",
   "pygments_lexer": "ipython2",
   "version": "2.7.11"
  }
 },
 "nbformat": 4,
 "nbformat_minor": 0
}

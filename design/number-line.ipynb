{
 "cells": [
  {
   "cell_type": "code",
   "execution_count": 1,
   "metadata": {
    "collapsed": false
   },
   "outputs": [],
   "source": [
    "import numpy\n",
    "import toyplot"
   ]
  },
  {
   "cell_type": "code",
   "execution_count": 2,
   "metadata": {
    "collapsed": false
   },
   "outputs": [
    {
     "data": {
      "text/html": [
       "<div align=\"center\" class=\"toyplot\" id=\"t3bfa6843b0b04161bcc1dc8f4ff1678f\"><svg height=\"100.0px\" id=\"t2a47ed3df8b14a88bf874fc97d002c00\" preserveAspectRatio=\"xMidYMid meet\" style=\"background-color:transparent;fill:rgb(16.1%,15.3%,14.1%);fill-opacity:1.0;font-family:Helvetica;font-size:12px;opacity:1.0;stroke:rgb(16.1%,15.3%,14.1%);stroke-opacity:1.0;stroke-width:1.0\" viewBox=\"0 0 400.0 100.0\" width=\"400.0px\" xmlns=\"http://www.w3.org/2000/svg\" xmlns:toyplot=\"http://www.sandia.gov/toyplot\"><g class=\"toyplot-axes-NumberLine\" id=\"t3c6375c5a2b24f6788cf676614bbf7b7\"><g class=\"toyplot-coordinate-events\"></g><g class=\"toyplot-axes-Axis\" id=\"t50ab508adf874516a4336ce62c0a9def\" transform=\"translate(50.0,50.0) rotate(0.0) translate(0,5)\"><line style=\"\" x1=\"0\" x2=\"299.96523905807857\" y1=\"0\" y2=\"0\"></line><g><line style=\"\" x1=\"0.0\" x2=\"0.0\" y1=\"-3\" y2=\"3\"></line><line style=\"\" x1=\"60.0\" x2=\"60.0\" y1=\"-3\" y2=\"3\"></line><line style=\"\" x1=\"140.0\" x2=\"140.0\" y1=\"-3\" y2=\"3\"></line><line style=\"\" x1=\"220.0\" x2=\"220.0\" y1=\"-3\" y2=\"3\"></line><line style=\"\" x1=\"300.0\" x2=\"300.0\" y1=\"-3\" y2=\"3\"></line></g><g><text style=\"alignment-baseline:middle;baseline-shift:-100%;font-size:10px;font-weight:normal;stroke:none;text-anchor:middle\" transform=\"translate(0.0,0) rotate(0)\" x=\"0\" y=\"0\">0</text><text style=\"alignment-baseline:middle;baseline-shift:-100%;font-size:10px;font-weight:normal;stroke:none;text-anchor:middle\" transform=\"translate(60.0,0) rotate(0)\" x=\"0\" y=\"0\">10 ⁰</text><text style=\"alignment-baseline:middle;baseline-shift:-100%;font-size:10px;font-weight:normal;stroke:none;text-anchor:middle\" transform=\"translate(140.0,0) rotate(0)\" x=\"0\" y=\"0\">10 ¹</text><text style=\"alignment-baseline:middle;baseline-shift:-100%;font-size:10px;font-weight:normal;stroke:none;text-anchor:middle\" transform=\"translate(220.0,0) rotate(0)\" x=\"0\" y=\"0\">10 ²</text><text style=\"alignment-baseline:middle;baseline-shift:-100%;font-size:10px;font-weight:normal;stroke:none;text-anchor:middle\" transform=\"translate(300.0,0) rotate(0)\" x=\"0\" y=\"0\">10 ³</text></g><text style=\"alignment-baseline:middle;baseline-shift:-200%;font-weight:bold;stroke:none;text-anchor:middle\" x=\"150.0\" y=\"0\">Numberline</text></g></g></svg><div class=\"toyplot-controls\"><ul class=\"toyplot-mark-popup\" onmouseleave=\"this.style.visibility='hidden'\" style=\"background:rgba(0%,0%,0%,0.75);border:0;border-radius:6px;color:white;cursor:default;list-style:none;margin:0;padding:5px;position:fixed;visibility:hidden\"><li class=\"toyplot-mark-popup-title\" style=\"color:lightgray;cursor:default;padding:5px;list-style:none;margin:0;\"></li><li class=\"toyplot-mark-popup-save-csv\" onmouseout=\"this.style.color='white';this.style.background='steelblue'\" onmouseover=\"this.style.color='steelblue';this.style.background='white'\" style=\"border-radius:3px;padding:5px;list-style:none;margin:0;\">Save as .csv</li></ul><script>\n",
       "(function()\n",
       "{\n",
       "  if(window.CSS !== undefined && window.CSS.supports !== undefined)\n",
       "  {\n",
       "    if(!window.CSS.supports(\"alignment-baseline\", \"middle\"))\n",
       "    {\n",
       "      var re = /\\s*alignment-baseline\\s*:\\s*([^;\\s]*)\\s*/;\n",
       "      var text = document.querySelectorAll(\"#t3bfa6843b0b04161bcc1dc8f4ff1678f text\");\n",
       "      for(var i = 0; i != text.length; ++i)\n",
       "      {\n",
       "        var match = re.exec(text[i].attributes.style.value);\n",
       "        if(match)\n",
       "        {\n",
       "          if(match[1] == \"middle\")\n",
       "          {\n",
       "            var style = getComputedStyle(text[i]);\n",
       "            var font_size = style.fontSize.substr(0, style.fontSize.length - 2);\n",
       "            var dy = text[i].dy.baseVal.length ? text[i].dy.baseVal[0].value : 0;\n",
       "            dy += 0.4 * font_size;\n",
       "            text[i].setAttribute(\"dy\", dy);\n",
       "          }\n",
       "        }\n",
       "      }\n",
       "    }\n",
       "    if(!window.CSS.supports(\"baseline-shift\", \"0\"))\n",
       "    {\n",
       "      var re = /\\s*baseline-shift\\s*:\\s*([^;\\s]*)\\s*/;\n",
       "      var text = document.querySelectorAll(\"#t3bfa6843b0b04161bcc1dc8f4ff1678f text\");\n",
       "      for(var i = 0; i != text.length; ++i)\n",
       "      {\n",
       "        var match = re.exec(text[i].attributes.style.value);\n",
       "        if(match)\n",
       "        {\n",
       "          var style = getComputedStyle(text[i]);\n",
       "          var font_size = style.fontSize.substr(0, style.fontSize.length - 2);\n",
       "          var percent = 0.01 * match[1].substr(0, match[1].length-1);\n",
       "          var dy = text[i].dy.baseVal.length ? text[i].dy.baseVal[0].value : 0;\n",
       "          dy -= percent * font_size\n",
       "          text[i].setAttribute(\"dy\", dy);\n",
       "        }\n",
       "      }\n",
       "    }\n",
       "  }\n",
       "})();\n",
       "</script></div></div>"
      ],
      "text/plain": [
       "<toyplot.canvas.Canvas at 0x105fa3d50>"
      ]
     },
     "metadata": {},
     "output_type": "display_data"
    }
   ],
   "source": [
    "canvas = toyplot.Canvas(width=400, height=100)\n",
    "axis = canvas.number_line(label=\"Numberline\", scale=\"log\")\n",
    "axis.axis.ticks.show = True\n",
    "axis.update_domain(numpy.arange(0, 1000))"
   ]
  },
  {
   "cell_type": "code",
   "execution_count": 3,
   "metadata": {
    "collapsed": false
   },
   "outputs": [
    {
     "data": {
      "text/plain": [
       "<toyplot.mark.Scatterplot at 0x10733a150>"
      ]
     },
     "execution_count": 3,
     "metadata": {},
     "output_type": "execute_result"
    },
    {
     "data": {
      "text/html": [
       "<div align=\"center\" class=\"toyplot\" id=\"t9828b1e03bd04e8cbd4de83931d47cbf\"><svg height=\"400.0px\" id=\"te45bb24ffbf049258bfcc42c6cb4e89d\" preserveAspectRatio=\"xMidYMid meet\" style=\"background-color:transparent;border:1px solid lightgray;fill:rgb(16.1%,15.3%,14.1%);fill-opacity:1.0;font-family:Helvetica;font-size:12px;opacity:1.0;stroke:rgb(16.1%,15.3%,14.1%);stroke-opacity:1.0;stroke-width:1.0\" viewBox=\"0 0 400.0 400.0\" width=\"400.0px\" xmlns=\"http://www.w3.org/2000/svg\" xmlns:toyplot=\"http://www.sandia.gov/toyplot\"><g class=\"toyplot-axes-NumberLine\" id=\"t3df2f79bab3142cbbe8cb483163ff15c\"><g class=\"toyplot-coordinate-events\"><g class=\"toyplot-mark-Scatterplot\" id=\"t6501a370950a4f82a3a6c4e52314b275\" style=\"stroke:none\" transform=\"translate(100.0,50.0) rotate(90.0) translate(0,0)\"><g class=\"toyplot-Series\"><g class=\"toyplot-Datum\" style=\"fill:rgb(40%,76.1%,64.7%);fill-opacity:1.0;opacity:1.0;stroke:rgb(40%,76.1%,64.7%);stroke-opacity:1.0;stroke-width:2\"><line transform=\"rotate(0, 0.0, 0)\" x1=\"0.0\" x2=\"0.0\" y1=\"-5.0\" y2=\"5.0\"></line></g><g class=\"toyplot-Datum\" style=\"fill:rgb(40%,76.1%,64.7%);fill-opacity:1.0;opacity:1.0;stroke:rgb(40%,76.1%,64.7%);stroke-opacity:1.0;stroke-width:2\"><line transform=\"rotate(0, 30.0, 0)\" x1=\"30.0\" x2=\"30.0\" y1=\"-5.0\" y2=\"5.0\"></line></g><g class=\"toyplot-Datum\" style=\"fill:rgb(40%,76.1%,64.7%);fill-opacity:1.0;opacity:1.0;stroke:rgb(40%,76.1%,64.7%);stroke-opacity:1.0;stroke-width:2\"><line transform=\"rotate(0, 60.0, 0)\" x1=\"60.0\" x2=\"60.0\" y1=\"-5.0\" y2=\"5.0\"></line></g><g class=\"toyplot-Datum\" style=\"fill:rgb(40%,76.1%,64.7%);fill-opacity:1.0;opacity:1.0;stroke:rgb(40%,76.1%,64.7%);stroke-opacity:1.0;stroke-width:2\"><line transform=\"rotate(0, 90.000000000000014, 0)\" x1=\"90.000000000000014\" x2=\"90.000000000000014\" y1=\"-5.0\" y2=\"5.0\"></line></g><g class=\"toyplot-Datum\" style=\"fill:rgb(40%,76.1%,64.7%);fill-opacity:1.0;opacity:1.0;stroke:rgb(40%,76.1%,64.7%);stroke-opacity:1.0;stroke-width:2\"><line transform=\"rotate(0, 120.0, 0)\" x1=\"120.0\" x2=\"120.0\" y1=\"-5.0\" y2=\"5.0\"></line></g><g class=\"toyplot-Datum\" style=\"fill:rgb(40%,76.1%,64.7%);fill-opacity:1.0;opacity:1.0;stroke:rgb(40%,76.1%,64.7%);stroke-opacity:1.0;stroke-width:2\"><line transform=\"rotate(0, 150.0, 0)\" x1=\"150.0\" x2=\"150.0\" y1=\"-5.0\" y2=\"5.0\"></line></g><g class=\"toyplot-Datum\" style=\"fill:rgb(40%,76.1%,64.7%);fill-opacity:1.0;opacity:1.0;stroke:rgb(40%,76.1%,64.7%);stroke-opacity:1.0;stroke-width:2\"><line transform=\"rotate(0, 180.00000000000003, 0)\" x1=\"180.00000000000003\" x2=\"180.00000000000003\" y1=\"-5.0\" y2=\"5.0\"></line></g><g class=\"toyplot-Datum\" style=\"fill:rgb(40%,76.1%,64.7%);fill-opacity:1.0;opacity:1.0;stroke:rgb(40%,76.1%,64.7%);stroke-opacity:1.0;stroke-width:2\"><line transform=\"rotate(0, 210.00000000000003, 0)\" x1=\"210.00000000000003\" x2=\"210.00000000000003\" y1=\"-5.0\" y2=\"5.0\"></line></g><g class=\"toyplot-Datum\" style=\"fill:rgb(40%,76.1%,64.7%);fill-opacity:1.0;opacity:1.0;stroke:rgb(40%,76.1%,64.7%);stroke-opacity:1.0;stroke-width:2\"><line transform=\"rotate(0, 240.0, 0)\" x1=\"240.0\" x2=\"240.0\" y1=\"-5.0\" y2=\"5.0\"></line></g><g class=\"toyplot-Datum\" style=\"fill:rgb(40%,76.1%,64.7%);fill-opacity:1.0;opacity:1.0;stroke:rgb(40%,76.1%,64.7%);stroke-opacity:1.0;stroke-width:2\"><line transform=\"rotate(0, 270.0, 0)\" x1=\"270.0\" x2=\"270.0\" y1=\"-5.0\" y2=\"5.0\"></line></g><g class=\"toyplot-Datum\" style=\"fill:rgb(40%,76.1%,64.7%);fill-opacity:1.0;opacity:1.0;stroke:rgb(40%,76.1%,64.7%);stroke-opacity:1.0;stroke-width:2\"><line transform=\"rotate(0, 300.0, 0)\" x1=\"300.0\" x2=\"300.0\" y1=\"-5.0\" y2=\"5.0\"></line></g></g></g><g class=\"toyplot-mark-Scatterplot\" id=\"t7692bded24a84d6bb38d03b61b1696fb\" style=\"stroke:none\" transform=\"translate(100.0,50.0) rotate(90.0) translate(0,-20)\"><g class=\"toyplot-Series\"><g class=\"toyplot-Datum\" style=\"fill:rgb(98.8%,55.3%,38.4%);fill-opacity:1.0;opacity:1.0;stroke:rgb(98.8%,55.3%,38.4%);stroke-opacity:1.0;stroke-width:2\"><line transform=\"rotate(0, 0.0, 0)\" x1=\"0.0\" x2=\"0.0\" y1=\"-5.0\" y2=\"5.0\"></line></g><g class=\"toyplot-Datum\" style=\"fill:rgb(98.8%,55.3%,38.4%);fill-opacity:1.0;opacity:1.0;stroke:rgb(98.8%,55.3%,38.4%);stroke-opacity:1.0;stroke-width:2\"><line transform=\"rotate(0, 3.0000000000000004, 0)\" x1=\"3.0000000000000004\" x2=\"3.0000000000000004\" y1=\"-5.0\" y2=\"5.0\"></line></g><g class=\"toyplot-Datum\" style=\"fill:rgb(98.8%,55.3%,38.4%);fill-opacity:1.0;opacity:1.0;stroke:rgb(98.8%,55.3%,38.4%);stroke-opacity:1.0;stroke-width:2\"><line transform=\"rotate(0, 12.000000000000002, 0)\" x1=\"12.000000000000002\" x2=\"12.000000000000002\" y1=\"-5.0\" y2=\"5.0\"></line></g><g class=\"toyplot-Datum\" style=\"fill:rgb(98.8%,55.3%,38.4%);fill-opacity:1.0;opacity:1.0;stroke:rgb(98.8%,55.3%,38.4%);stroke-opacity:1.0;stroke-width:2\"><line transform=\"rotate(0, 27.000000000000007, 0)\" x1=\"27.000000000000007\" x2=\"27.000000000000007\" y1=\"-5.0\" y2=\"5.0\"></line></g><g class=\"toyplot-Datum\" style=\"fill:rgb(98.8%,55.3%,38.4%);fill-opacity:1.0;opacity:1.0;stroke:rgb(98.8%,55.3%,38.4%);stroke-opacity:1.0;stroke-width:2\"><line transform=\"rotate(0, 48.000000000000007, 0)\" x1=\"48.000000000000007\" x2=\"48.000000000000007\" y1=\"-5.0\" y2=\"5.0\"></line></g><g class=\"toyplot-Datum\" style=\"fill:rgb(98.8%,55.3%,38.4%);fill-opacity:1.0;opacity:1.0;stroke:rgb(98.8%,55.3%,38.4%);stroke-opacity:1.0;stroke-width:2\"><line transform=\"rotate(0, 75.0, 0)\" x1=\"75.0\" x2=\"75.0\" y1=\"-5.0\" y2=\"5.0\"></line></g><g class=\"toyplot-Datum\" style=\"fill:rgb(98.8%,55.3%,38.4%);fill-opacity:1.0;opacity:1.0;stroke:rgb(98.8%,55.3%,38.4%);stroke-opacity:1.0;stroke-width:2\"><line transform=\"rotate(0, 108.00000000000003, 0)\" x1=\"108.00000000000003\" x2=\"108.00000000000003\" y1=\"-5.0\" y2=\"5.0\"></line></g><g class=\"toyplot-Datum\" style=\"fill:rgb(98.8%,55.3%,38.4%);fill-opacity:1.0;opacity:1.0;stroke:rgb(98.8%,55.3%,38.4%);stroke-opacity:1.0;stroke-width:2\"><line transform=\"rotate(0, 147.00000000000003, 0)\" x1=\"147.00000000000003\" x2=\"147.00000000000003\" y1=\"-5.0\" y2=\"5.0\"></line></g><g class=\"toyplot-Datum\" style=\"fill:rgb(98.8%,55.3%,38.4%);fill-opacity:1.0;opacity:1.0;stroke:rgb(98.8%,55.3%,38.4%);stroke-opacity:1.0;stroke-width:2\"><line transform=\"rotate(0, 192.00000000000003, 0)\" x1=\"192.00000000000003\" x2=\"192.00000000000003\" y1=\"-5.0\" y2=\"5.0\"></line></g><g class=\"toyplot-Datum\" style=\"fill:rgb(98.8%,55.3%,38.4%);fill-opacity:1.0;opacity:1.0;stroke:rgb(98.8%,55.3%,38.4%);stroke-opacity:1.0;stroke-width:2\"><line transform=\"rotate(0, 243.00000000000003, 0)\" x1=\"243.00000000000003\" x2=\"243.00000000000003\" y1=\"-5.0\" y2=\"5.0\"></line></g><g class=\"toyplot-Datum\" style=\"fill:rgb(98.8%,55.3%,38.4%);fill-opacity:1.0;opacity:1.0;stroke:rgb(98.8%,55.3%,38.4%);stroke-opacity:1.0;stroke-width:2\"><line transform=\"rotate(0, 300.0, 0)\" x1=\"300.0\" x2=\"300.0\" y1=\"-5.0\" y2=\"5.0\"></line></g></g></g><g class=\"toyplot-mark-Scatterplot\" id=\"t6afa55cc799f40329bf62b1b00e1bba9\" style=\"stroke:none\" transform=\"translate(100.0,50.0) rotate(90.0) translate(0,-40)\"><g class=\"toyplot-Series\"><g class=\"toyplot-Datum\" style=\"fill:rgb(55.3%,62.7%,79.6%);fill-opacity:1.0;opacity:1.0;stroke:rgb(55.3%,62.7%,79.6%);stroke-opacity:1.0;stroke-width:2\"><line transform=\"rotate(0, 0.0, 0)\" x1=\"0.0\" x2=\"0.0\" y1=\"-5.0\" y2=\"5.0\"></line></g><g class=\"toyplot-Datum\" style=\"fill:rgb(55.3%,62.7%,79.6%);fill-opacity:1.0;opacity:1.0;stroke:rgb(55.3%,62.7%,79.6%);stroke-opacity:1.0;stroke-width:2\"><line transform=\"rotate(0, 0.30000000000000004, 0)\" x1=\"0.30000000000000004\" x2=\"0.30000000000000004\" y1=\"-5.0\" y2=\"5.0\"></line></g><g class=\"toyplot-Datum\" style=\"fill:rgb(55.3%,62.7%,79.6%);fill-opacity:1.0;opacity:1.0;stroke:rgb(55.3%,62.7%,79.6%);stroke-opacity:1.0;stroke-width:2\"><line transform=\"rotate(0, 2.4000000000000004, 0)\" x1=\"2.4000000000000004\" x2=\"2.4000000000000004\" y1=\"-5.0\" y2=\"5.0\"></line></g><g class=\"toyplot-Datum\" style=\"fill:rgb(55.3%,62.7%,79.6%);fill-opacity:1.0;opacity:1.0;stroke:rgb(55.3%,62.7%,79.6%);stroke-opacity:1.0;stroke-width:2\"><line transform=\"rotate(0, 8.1000000000000032, 0)\" x1=\"8.1000000000000032\" x2=\"8.1000000000000032\" y1=\"-5.0\" y2=\"5.0\"></line></g><g class=\"toyplot-Datum\" style=\"fill:rgb(55.3%,62.7%,79.6%);fill-opacity:1.0;opacity:1.0;stroke:rgb(55.3%,62.7%,79.6%);stroke-opacity:1.0;stroke-width:2\"><line transform=\"rotate(0, 19.200000000000003, 0)\" x1=\"19.200000000000003\" x2=\"19.200000000000003\" y1=\"-5.0\" y2=\"5.0\"></line></g><g class=\"toyplot-Datum\" style=\"fill:rgb(55.3%,62.7%,79.6%);fill-opacity:1.0;opacity:1.0;stroke:rgb(55.3%,62.7%,79.6%);stroke-opacity:1.0;stroke-width:2\"><line transform=\"rotate(0, 37.5, 0)\" x1=\"37.5\" x2=\"37.5\" y1=\"-5.0\" y2=\"5.0\"></line></g><g class=\"toyplot-Datum\" style=\"fill:rgb(55.3%,62.7%,79.6%);fill-opacity:1.0;opacity:1.0;stroke:rgb(55.3%,62.7%,79.6%);stroke-opacity:1.0;stroke-width:2\"><line transform=\"rotate(0, 64.800000000000026, 0)\" x1=\"64.800000000000026\" x2=\"64.800000000000026\" y1=\"-5.0\" y2=\"5.0\"></line></g><g class=\"toyplot-Datum\" style=\"fill:rgb(55.3%,62.7%,79.6%);fill-opacity:1.0;opacity:1.0;stroke:rgb(55.3%,62.7%,79.6%);stroke-opacity:1.0;stroke-width:2\"><line transform=\"rotate(0, 102.90000000000002, 0)\" x1=\"102.90000000000002\" x2=\"102.90000000000002\" y1=\"-5.0\" y2=\"5.0\"></line></g><g class=\"toyplot-Datum\" style=\"fill:rgb(55.3%,62.7%,79.6%);fill-opacity:1.0;opacity:1.0;stroke:rgb(55.3%,62.7%,79.6%);stroke-opacity:1.0;stroke-width:2\"><line transform=\"rotate(0, 153.60000000000002, 0)\" x1=\"153.60000000000002\" x2=\"153.60000000000002\" y1=\"-5.0\" y2=\"5.0\"></line></g><g class=\"toyplot-Datum\" style=\"fill:rgb(55.3%,62.7%,79.6%);fill-opacity:1.0;opacity:1.0;stroke:rgb(55.3%,62.7%,79.6%);stroke-opacity:1.0;stroke-width:2\"><line transform=\"rotate(0, 218.70000000000002, 0)\" x1=\"218.70000000000002\" x2=\"218.70000000000002\" y1=\"-5.0\" y2=\"5.0\"></line></g><g class=\"toyplot-Datum\" style=\"fill:rgb(55.3%,62.7%,79.6%);fill-opacity:1.0;opacity:1.0;stroke:rgb(55.3%,62.7%,79.6%);stroke-opacity:1.0;stroke-width:2\"><line transform=\"rotate(0, 300.0, 0)\" x1=\"300.0\" x2=\"300.0\" y1=\"-5.0\" y2=\"5.0\"></line></g></g></g><g class=\"toyplot-mark-Scatterplot\" id=\"t3131d5f395df47e992bd445f84567c42\" style=\"stroke:none\" transform=\"translate(100.0,50.0) rotate(90.0) translate(0,0)\"><g class=\"toyplot-Series\"><g class=\"toyplot-Datum\" style=\"fill:rgb(0%,0%,0%);fill-opacity:1.0;opacity:1.0;stroke:rgb(0%,0%,0%);stroke-opacity:1.0\"><circle cx=\"0.0\" cy=\"0\" r=\"1.5811388300841898\"></circle></g><g class=\"toyplot-Datum\" style=\"fill:rgb(0%,0%,0%);fill-opacity:1.0;opacity:1.0;stroke:rgb(0%,0%,0%);stroke-opacity:1.0\"><circle cx=\"30.0\" cy=\"0\" r=\"1.5811388300841898\"></circle></g><g class=\"toyplot-Datum\" style=\"fill:rgb(0%,0%,0%);fill-opacity:1.0;opacity:1.0;stroke:rgb(0%,0%,0%);stroke-opacity:1.0\"><circle cx=\"60.0\" cy=\"0\" r=\"1.5811388300841898\"></circle></g><g class=\"toyplot-Datum\" style=\"fill:rgb(0%,0%,0%);fill-opacity:1.0;opacity:1.0;stroke:rgb(0%,0%,0%);stroke-opacity:1.0\"><circle cx=\"90.000000000000014\" cy=\"0\" r=\"1.5811388300841898\"></circle></g><g class=\"toyplot-Datum\" style=\"fill:rgb(0%,0%,0%);fill-opacity:1.0;opacity:1.0;stroke:rgb(0%,0%,0%);stroke-opacity:1.0\"><circle cx=\"120.0\" cy=\"0\" r=\"1.5811388300841898\"></circle></g><g class=\"toyplot-Datum\" style=\"fill:rgb(0%,0%,0%);fill-opacity:1.0;opacity:1.0;stroke:rgb(0%,0%,0%);stroke-opacity:1.0\"><circle cx=\"150.0\" cy=\"0\" r=\"1.5811388300841898\"></circle></g><g class=\"toyplot-Datum\" style=\"fill:rgb(0%,0%,0%);fill-opacity:1.0;opacity:1.0;stroke:rgb(0%,0%,0%);stroke-opacity:1.0\"><circle cx=\"180.00000000000003\" cy=\"0\" r=\"1.5811388300841898\"></circle></g><g class=\"toyplot-Datum\" style=\"fill:rgb(0%,0%,0%);fill-opacity:1.0;opacity:1.0;stroke:rgb(0%,0%,0%);stroke-opacity:1.0\"><circle cx=\"210.00000000000003\" cy=\"0\" r=\"1.5811388300841898\"></circle></g><g class=\"toyplot-Datum\" style=\"fill:rgb(0%,0%,0%);fill-opacity:1.0;opacity:1.0;stroke:rgb(0%,0%,0%);stroke-opacity:1.0\"><circle cx=\"240.0\" cy=\"0\" r=\"1.5811388300841898\"></circle></g><g class=\"toyplot-Datum\" style=\"fill:rgb(0%,0%,0%);fill-opacity:1.0;opacity:1.0;stroke:rgb(0%,0%,0%);stroke-opacity:1.0\"><circle cx=\"270.0\" cy=\"0\" r=\"1.5811388300841898\"></circle></g><g class=\"toyplot-Datum\" style=\"fill:rgb(0%,0%,0%);fill-opacity:1.0;opacity:1.0;stroke:rgb(0%,0%,0%);stroke-opacity:1.0\"><circle cx=\"300.0\" cy=\"0\" r=\"1.5811388300841898\"></circle></g></g></g></g><g class=\"toyplot-axes-Axis\" id=\"t26a2f8d3a51e461faaaf8899d3964ff9\" transform=\"translate(100.0,50.0) rotate(90.0) translate(0,10.0)\"><line style=\"\" x1=\"0\" x2=\"300.0\" y1=\"0\" y2=\"0\"></line><g><text style=\"alignment-baseline:middle;baseline-shift:-100%;font-size:10px;font-weight:normal;stroke:none;text-anchor:middle\" transform=\"translate(0.0,0) rotate(0)\" x=\"0\" y=\"0\">0.0</text><text style=\"alignment-baseline:middle;baseline-shift:-100%;font-size:10px;font-weight:normal;stroke:none;text-anchor:middle\" transform=\"translate(150.0,0) rotate(0)\" x=\"0\" y=\"0\">0.5</text><text style=\"alignment-baseline:middle;baseline-shift:-100%;font-size:10px;font-weight:normal;stroke:none;text-anchor:middle\" transform=\"translate(300.0,0) rotate(0)\" x=\"0\" y=\"0\">1.0</text></g><text style=\"alignment-baseline:middle;baseline-shift:-200%;font-weight:bold;stroke:none;text-anchor:middle\" x=\"150.0\" y=\"0\">Numberline</text></g></g></svg><div class=\"toyplot-controls\"><ul class=\"toyplot-mark-popup\" onmouseleave=\"this.style.visibility='hidden'\" style=\"background:rgba(0%,0%,0%,0.75);border:0;border-radius:6px;color:white;cursor:default;list-style:none;margin:0;padding:5px;position:fixed;visibility:hidden\"><li class=\"toyplot-mark-popup-title\" style=\"color:lightgray;cursor:default;padding:5px;list-style:none;margin:0;\"></li><li class=\"toyplot-mark-popup-save-csv\" onmouseout=\"this.style.color='white';this.style.background='steelblue'\" onmouseover=\"this.style.color='steelblue';this.style.background='white'\" style=\"border-radius:3px;padding:5px;list-style:none;margin:0;\">Save as .csv</li></ul><script>\n",
       "(function()\n",
       "{\n",
       "  if(window.CSS !== undefined && window.CSS.supports !== undefined)\n",
       "  {\n",
       "    if(!window.CSS.supports(\"alignment-baseline\", \"middle\"))\n",
       "    {\n",
       "      var re = /\\s*alignment-baseline\\s*:\\s*([^;\\s]*)\\s*/;\n",
       "      var text = document.querySelectorAll(\"#t9828b1e03bd04e8cbd4de83931d47cbf text\");\n",
       "      for(var i = 0; i != text.length; ++i)\n",
       "      {\n",
       "        var match = re.exec(text[i].attributes.style.value);\n",
       "        if(match)\n",
       "        {\n",
       "          if(match[1] == \"middle\")\n",
       "          {\n",
       "            var style = getComputedStyle(text[i]);\n",
       "            var font_size = style.fontSize.substr(0, style.fontSize.length - 2);\n",
       "            var dy = text[i].dy.baseVal.length ? text[i].dy.baseVal[0].value : 0;\n",
       "            dy += 0.4 * font_size;\n",
       "            text[i].setAttribute(\"dy\", dy);\n",
       "          }\n",
       "        }\n",
       "      }\n",
       "    }\n",
       "    if(!window.CSS.supports(\"baseline-shift\", \"0\"))\n",
       "    {\n",
       "      var re = /\\s*baseline-shift\\s*:\\s*([^;\\s]*)\\s*/;\n",
       "      var text = document.querySelectorAll(\"#t9828b1e03bd04e8cbd4de83931d47cbf text\");\n",
       "      for(var i = 0; i != text.length; ++i)\n",
       "      {\n",
       "        var match = re.exec(text[i].attributes.style.value);\n",
       "        if(match)\n",
       "        {\n",
       "          var style = getComputedStyle(text[i]);\n",
       "          var font_size = style.fontSize.substr(0, style.fontSize.length - 2);\n",
       "          var percent = 0.01 * match[1].substr(0, match[1].length-1);\n",
       "          var dy = text[i].dy.baseVal.length ? text[i].dy.baseVal[0].value : 0;\n",
       "          dy -= percent * font_size\n",
       "          text[i].setAttribute(\"dy\", dy);\n",
       "        }\n",
       "      }\n",
       "    }\n",
       "  }\n",
       "})();\n",
       "</script><script>\n",
       "(function()\n",
       "{\n",
       "  var data_tables = [{\"data\": [[0.0, 0.1, 0.2, 0.30000000000000004, 0.4, 0.5, 0.6000000000000001, 0.7000000000000001, 0.8, 0.9, 1.0]], \"title\": \"Scatterplot Data\", \"names\": [\"x0\"], \"id\": \"t6501a370950a4f82a3a6c4e52314b275\", \"filename\": \"toyplot\"}, {\"data\": [[0.0, 0.010000000000000002, 0.04000000000000001, 0.09000000000000002, 0.16000000000000003, 0.25, 0.3600000000000001, 0.4900000000000001, 0.6400000000000001, 0.81, 1.0]], \"title\": \"Scatterplot Data\", \"names\": [\"x0\"], \"id\": \"t7692bded24a84d6bb38d03b61b1696fb\", \"filename\": \"toyplot\"}, {\"data\": [[0.0, 0.0010000000000000002, 0.008000000000000002, 0.027000000000000014, 0.06400000000000002, 0.125, 0.2160000000000001, 0.3430000000000001, 0.5120000000000001, 0.7290000000000001, 1.0]], \"title\": \"Scatterplot Data\", \"names\": [\"x0\"], \"id\": \"t6afa55cc799f40329bf62b1b00e1bba9\", \"filename\": \"toyplot\"}, {\"data\": [[0.0, 0.1, 0.2, 0.30000000000000004, 0.4, 0.5, 0.6000000000000001, 0.7000000000000001, 0.8, 0.9, 1.0]], \"title\": \"Scatterplot Data\", \"names\": [\"x0\"], \"id\": \"t3131d5f395df47e992bd445f84567c42\", \"filename\": \"toyplot\"}];\n",
       "\n",
       "  function save_csv(data_table)\n",
       "  {\n",
       "    var uri = \"data:text/csv;charset=utf-8,\";\n",
       "    uri += data_table.names.join(\",\") + \"\\n\";\n",
       "    for(var i = 0; i != data_table.data[0].length; ++i)\n",
       "    {\n",
       "      for(var j = 0; j != data_table.data.length; ++j)\n",
       "      {\n",
       "        if(j)\n",
       "          uri += \",\";\n",
       "        uri += data_table.data[j][i];\n",
       "      }\n",
       "      uri += \"\\n\";\n",
       "    }\n",
       "    uri = encodeURI(uri);\n",
       "\n",
       "    var link = document.createElement(\"a\");\n",
       "    if(typeof link.download != \"undefined\")\n",
       "    {\n",
       "      link.href = uri;\n",
       "      link.style = \"visibility:hidden\";\n",
       "      link.download = data_table.filename + \".csv\";\n",
       "\n",
       "      document.body.appendChild(link);\n",
       "      link.click();\n",
       "      document.body.removeChild(link);\n",
       "    }\n",
       "    else\n",
       "    {\n",
       "      window.open(uri);\n",
       "    }\n",
       "  }\n",
       "\n",
       "  function open_popup(data_table)\n",
       "  {\n",
       "    return function(e)\n",
       "    {\n",
       "      var popup = document.querySelector(\"#t9828b1e03bd04e8cbd4de83931d47cbf .toyplot-mark-popup\");\n",
       "      popup.querySelector(\".toyplot-mark-popup-title\").innerHTML = data_table.title;\n",
       "      popup.querySelector(\".toyplot-mark-popup-save-csv\").onclick = function() { popup.style.visibility = \"hidden\"; save_csv(data_table); }\n",
       "      popup.style.left = (e.clientX - 50) + \"px\";\n",
       "      popup.style.top = (e.clientY - 20) + \"px\";\n",
       "      popup.style.visibility = \"visible\";\n",
       "      e.stopPropagation();\n",
       "      e.preventDefault();\n",
       "    }\n",
       "\n",
       "  }\n",
       "\n",
       "  for(var i = 0; i != data_tables.length; ++i)\n",
       "  {\n",
       "    var data_table = data_tables[i];\n",
       "    var event_target = document.querySelector(\"#\" + data_table.id);\n",
       "    event_target.oncontextmenu = open_popup(data_table);\n",
       "  }\n",
       "})();\n",
       "</script></div></div>"
      ],
      "text/plain": [
       "<toyplot.canvas.Canvas at 0x107325c90>"
      ]
     },
     "metadata": {},
     "output_type": "display_data"
    }
   ],
   "source": [
    "canvas = toyplot.Canvas(width=400, style={\"border\":\"1px solid lightgray\"})\n",
    "axis = canvas.number_line(x1=100, x2=100, y1=50, y2=-50, label=\"Numberline\")\n",
    "axis.scatterplot(numpy.linspace(0, 1, 11), marker=\"|\", size=100, mstyle={\"stroke-width\":2})\n",
    "axis.scatterplot(numpy.linspace(0, 1, 11) ** 2, offset=20, marker=\"|\", size=100, mstyle={\"stroke-width\":2})\n",
    "axis.scatterplot(numpy.linspace(0, 1, 11) ** 3, offset=40, marker=\"|\", size=100, mstyle={\"stroke-width\":2})\n",
    "axis.padding = 10\n",
    "axis.scatterplot(numpy.linspace(0, 1, 11), offset=0, color=\"black\", size=10)"
   ]
  },
  {
   "cell_type": "code",
   "execution_count": null,
   "metadata": {
    "collapsed": true
   },
   "outputs": [],
   "source": []
  }
 ],
 "metadata": {
  "kernelspec": {
   "display_name": "Python 2",
   "language": "python",
   "name": "python2"
  },
  "language_info": {
   "codemirror_mode": {
    "name": "ipython",
    "version": 2
   },
   "file_extension": ".py",
   "mimetype": "text/x-python",
   "name": "python",
   "nbconvert_exporter": "python",
   "pygments_lexer": "ipython2",
   "version": "2.7.10"
  }
 },
 "nbformat": 4,
 "nbformat_minor": 0
}

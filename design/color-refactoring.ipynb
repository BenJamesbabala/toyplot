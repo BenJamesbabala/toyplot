{
 "cells": [
  {
   "cell_type": "markdown",
   "metadata": {},
   "source": [
    "# Overview\n",
    "\n",
    "We need to refine the way users specify colors, to simplify the public API and eliminate inconsistencies.  The challenge is to handle all of the ways in which a user might want to specify per-series / per-datum colors, while avoiding potential ambiguities."
   ]
  },
  {
   "cell_type": "markdown",
   "metadata": {},
   "source": [
    "**Use-cases**\n",
    "\n",
    "* Specify one explicit color for everything.\n",
    "        toyplot.plot(x, y, color=\"red\")\n",
    "* Specify an explicit color per series.\n",
    "        toyplot.plot(x, y, color=[\"red\", \"cinnamon\", \"cardinal\"])\n",
    "* Specify a palette for the series.\n",
    "        toyplot.plot(x, y, color=toyplot.color.brewer(\"reds\"))\n",
    "* Specify a colormap for the series.\n",
    "        toyplot.plot(x, y, color=toyplot.color.LinearMap(toyplot.color.brewer(\"reds\")))\n",
    "* Specify per-datum scalar values and have them mapped.\n",
    "        toyplot.plot(x, y, color=temperature)\n",
    "* Specify per-datum scalar values and have them mapped, but override a few \"special\" values.\n",
    "        colors = toyplot.color.broadcast(temperature)\n",
    "        colors[numpy.argsort(temperature)[0]] = \"blue\"\n",
    "        colors[numpy.argsort(temperature)[-1]] = \"red\"\n",
    "        toyplot.plot(x, y, color=colors)\n",
    "* Specify explicit per-datum color values for everything (i.e. map them yourself).\n",
    "        toyplot.plot(x, y, color=mycolors)"
   ]
  },
  {
   "cell_type": "markdown",
   "metadata": {},
   "source": [
    "**Mark Parameters**\n",
    "\n",
    "* &#x2713; bars -> color, opacity\n",
    "    * TODO: title\n",
    "* &#x2713; fill -> color, opacity\n",
    "    * TODO: title\n",
    "* graph -> vcolor, ecolor\n",
    "    * TODO: vfill, vstroke, vlfill, vlstroke, elfill, elstroke\n",
    "* &#x2713; hlines -> color, opacity\n",
    "    * TODO: title\n",
    "* &#x2713; plot -> color, opacity, mfill\n",
    "    * TODO: title, width, mopacity, mstroke, mtitle, mlfill, mlstroke\n",
    "* &#x2713; rects -> color, opacity\n",
    "    * TODO: title, stroke\n",
    "* &#x2713; scatterplot -> color\n",
    "    * TODO: opacity, title, mstroke, mlfill, mlstroke\n",
    "* &#x2713; text -> color, opacity\n",
    "    * TODO: title, stroke\n",
    "* &#x2713; vlines -> color, opacity\n",
    "    * TODO: title"
   ]
  },
  {
   "cell_type": "code",
   "execution_count": 1,
   "metadata": {
    "collapsed": true
   },
   "outputs": [],
   "source": [
    "import numpy\n",
    "import toyplot"
   ]
  }
 ],
 "metadata": {
  "kernelspec": {
   "display_name": "Python 2",
   "language": "python",
   "name": "python2"
  },
  "language_info": {
   "codemirror_mode": {
    "name": "ipython",
    "version": 2
   },
   "file_extension": ".py",
   "mimetype": "text/x-python",
   "name": "python",
   "nbconvert_exporter": "python",
   "pygments_lexer": "ipython2",
   "version": "2.7.10"
  }
 },
 "nbformat": 4,
 "nbformat_minor": 0
}

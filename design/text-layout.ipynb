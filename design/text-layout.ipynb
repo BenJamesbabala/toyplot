{
 "cells": [
  {
   "cell_type": "code",
   "execution_count": 1,
   "metadata": {
    "collapsed": false
   },
   "outputs": [],
   "source": [
    "from PIL import Image, ImageDraw\n",
    "\n",
    "import toyplot.font\n",
    "import toyplot.text\n",
    "\n",
    "import IPython.display\n",
    "\n",
    "import xml.etree.ElementTree as xml\n",
    "import sys\n",
    "import logging\n",
    "logging.basicConfig(level=logging.DEBUG)\n",
    "toyplot.log.setLevel(logging.DEBUG)"
   ]
  },
  {
   "cell_type": "code",
   "execution_count": 2,
   "metadata": {
    "collapsed": false
   },
   "outputs": [],
   "source": [
    "#text = \"\"\"<span>This is <i>italic</i>, <b>bold</b>,<br/><code>monospace</code>, <small>small</small>, <span style=\"font-size:24px\">large</span>,<br/><sup>superscript</sup> and <sub>subscript</sub> text<br/>for your amusement!</span>\"\"\"\n",
    "text = \"\"\"<span style=\"alignment-baseline:hanging\">Hanging</span><span style=\"alignment-baseline:central\">Central</span><span style=\"alignment-baseline:middle\">Middle</span><span style=\"alignment-baseline:alphabetic\">Alpha</span>\"\"\"\n",
    "#text = \"\"\"Hello, <small>World!</small>\"\"\"\n",
    "style = {\"font-family\":\"helvetica\", \"font-size\":\"16px\", \"text-anchor\":\"start\"}\n",
    "fonts = toyplot.font.ReportlabLibrary()\n",
    "\n",
    "layout = toyplot.text.layout(text=text, style=style, fonts=fonts)"
   ]
  },
  {
   "cell_type": "code",
   "execution_count": 3,
   "metadata": {
    "collapsed": false,
    "scrolled": false
   },
   "outputs": [
    {
     "name": "stdout",
     "output_type": "stream",
     "text": [
      "toyplot.text.Layout\n",
      "  height: 30.688\n",
      "  width: 199.184\n",
      "\n",
      "  toyplot.text.LineBox\n",
      "    ascent: 13.688\n",
      "    baseline: 0.0\n",
      "    descent: -17.0\n",
      "    height: 30.688\n",
      "    left: 0\n",
      "    right: 199.184\n",
      "    width: 199.184\n",
      "\n",
      "    toyplot.text.TextBox\n",
      "      ascent: 2.2\n",
      "      baseline: 11.488\n",
      "      descent: -17.0\n",
      "      left: 0\n",
      "      right: 59.584\n",
      "      style:\n",
      "        font-size: 16.0\n",
      "        vertical-align: baseline\n",
      "        font-family: helvetica\n",
      "        line-height: 19.2\n",
      "      text: 'Hanging'\n",
      "      width: 59.584\n",
      "\n",
      "    toyplot.text.TextBox\n",
      "      ascent: 7.944\n",
      "      baseline: 5.744\n",
      "      descent: -11.256\n",
      "      left: 59.584\n",
      "      right: 111.152\n",
      "      style:\n",
      "        font-size: 16.0\n",
      "        vertical-align: baseline\n",
      "        font-family: helvetica\n",
      "        line-height: 19.2\n",
      "      text: 'Central'\n",
      "      width: 51.568\n",
      "\n",
      "    toyplot.text.TextBox\n",
      "      ascent: 9.6672\n",
      "      baseline: 4.0208\n",
      "      descent: -9.5328\n",
      "      left: 111.152\n",
      "      right: 158.272\n",
      "      style:\n",
      "        font-size: 16.0\n",
      "        vertical-align: baseline\n",
      "        font-family: helvetica\n",
      "        line-height: 19.2\n",
      "      text: 'Middle'\n",
      "      width: 47.12\n",
      "\n",
      "    toyplot.text.TextBox\n",
      "      ascent: 13.688\n",
      "      baseline: 0.0\n",
      "      descent: -5.512\n",
      "      left: 158.272\n",
      "      right: 199.184\n",
      "      style:\n",
      "        font-size: 16.0\n",
      "        vertical-align: baseline\n",
      "        font-family: helvetica\n",
      "        line-height: 19.2\n",
      "      text: 'Alpha'\n",
      "      width: 40.912\n",
      "\n"
     ]
    }
   ],
   "source": [
    "toyplot.text.dump(layout)"
   ]
  },
  {
   "cell_type": "code",
   "execution_count": 4,
   "metadata": {
    "collapsed": false
   },
   "outputs": [
    {
     "data": {
      "image/svg+xml": [
       "<svg height=\"92\" style=\"border: 1px solid #f0f0f0\" width=\"597\"><g transform=\"translate(204.184 35.688)\"><circle cx=\"0\" cy=\"0\" fill=\"none\" r=\"5\" stroke=\"seagreen\"/><line stroke=\"royalblue\" x1=\"0\" x2=\"199.184\" y1=\"0.0\" y2=\"0.0\"/><line stroke=\"crimson\" x1=\"0\" x2=\"59.584\" y1=\"11.488\" y2=\"11.488\"/><text fill=\"black\" stroke=\"none\" style=\"font-family:helvetica;font-size:16.0;line-height:19.2;vertical-align:baseline;white-space:pre\" x=\"0\" y=\"11.488\">Hanging</text><line stroke=\"crimson\" x1=\"59.584\" x2=\"111.152\" y1=\"5.744\" y2=\"5.744\"/><text fill=\"black\" stroke=\"none\" style=\"font-family:helvetica;font-size:16.0;line-height:19.2;vertical-align:baseline;white-space:pre\" x=\"59.584\" y=\"5.744\">Central</text><line stroke=\"crimson\" x1=\"111.152\" x2=\"158.272\" y1=\"4.0208\" y2=\"4.0208\"/><text fill=\"black\" stroke=\"none\" style=\"font-family:helvetica;font-size:16.0;line-height:19.2;vertical-align:baseline;white-space:pre\" x=\"111.152\" y=\"4.0208\">Middle</text><line stroke=\"crimson\" x1=\"158.272\" x2=\"199.184\" y1=\"0.0\" y2=\"0.0\"/><text fill=\"black\" stroke=\"none\" style=\"font-family:helvetica;font-size:16.0;line-height:19.2;vertical-align:baseline;white-space:pre\" x=\"158.272\" y=\"0.0\">Alpha</text></g></svg>"
      ],
      "text/plain": [
       "<IPython.core.display.SVG object>"
      ]
     },
     "execution_count": 4,
     "metadata": {},
     "output_type": "execute_result"
    }
   ],
   "source": [
    "def draw(box, image, show_anchor=True, show_line_baseline=True, show_text_baseline=True):\n",
    "    if isinstance(box, toyplot.text.Layout):\n",
    "        if show_anchor:\n",
    "            xml.SubElement(\n",
    "                image,\n",
    "                \"circle\",\n",
    "                cx=\"0\",\n",
    "                cy=\"0\",\n",
    "                r=\"5\",\n",
    "                fill=\"none\",\n",
    "                stroke=\"seagreen\",\n",
    "            )\n",
    "\n",
    "    if isinstance(box, toyplot.text.LineBox):\n",
    "        if show_line_baseline:\n",
    "            xml.SubElement(\n",
    "                image,\n",
    "                \"line\",\n",
    "                x1=str(box.left),\n",
    "                y1=str(box.baseline),\n",
    "                x2=str(box.right),\n",
    "                y2=str(box.baseline),\n",
    "                stroke=\"royalblue\")\n",
    "\n",
    "            \n",
    "        \n",
    "    if isinstance(box, toyplot.text.TextBox):\n",
    "        if show_text_baseline:\n",
    "            xml.SubElement(\n",
    "                image,\n",
    "                \"line\",\n",
    "                x1=str(box.left),\n",
    "                y1=str(box.baseline),\n",
    "                x2=str(box.right),\n",
    "                y2=str(box.baseline),\n",
    "                stroke=\"crimson\")\n",
    "        \n",
    "        style = toyplot.style.combine(\n",
    "            box.style,\n",
    "            {\"white-space\":\"pre\"},\n",
    "        )\n",
    "       \n",
    "        xml.SubElement(\n",
    "            image,\n",
    "            \"text\",\n",
    "            x=str(box.left),\n",
    "            y=str(box.baseline),\n",
    "            fill=\"black\",\n",
    "            stroke=\"none\",\n",
    "            style=toyplot.style.to_css(style),\n",
    "        ).text = box.text\n",
    "        \n",
    "    for child in box.children:\n",
    "        draw(child, image)\n",
    "\n",
    "image = xml.Element(\n",
    "    \"svg\",\n",
    "    width=str(int(layout.width*3)),\n",
    "    height=str(int(layout.height*3)),\n",
    "    style=\"border: 1px solid #f0f0f0\",\n",
    ")\n",
    "group = xml.SubElement(\n",
    "    image,\n",
    "    \"g\",\n",
    "    transform=\"translate(%s %s)\" % (layout.width + 5, layout.height + 5),\n",
    ")\n",
    "\n",
    "draw(layout, group)\n",
    "IPython.display.SVG(xml.tostring(image))"
   ]
  },
  {
   "cell_type": "code",
   "execution_count": 5,
   "metadata": {
    "collapsed": false
   },
   "outputs": [
    {
     "data": {
      "text/html": [
       "<span style='text-anchor: middle; font-family: helvetica; font-size: 16px'><span style=\"alignment-baseline:hanging\">Hanging</span><span style=\"alignment-baseline:central\">Central</span><span style=\"alignment-baseline:middle\">Middle</span><span style=\"alignment-baseline:alphabetic\">Alpha</span></span>"
      ],
      "text/plain": [
       "<IPython.core.display.HTML object>"
      ]
     },
     "execution_count": 5,
     "metadata": {},
     "output_type": "execute_result"
    }
   ],
   "source": [
    "IPython.display.HTML(\"<span style='text-anchor: middle; font-family: helvetica; font-size: 16px'>%s</span>\" % text)"
   ]
  }
 ],
 "metadata": {
  "anaconda-cloud": {},
  "kernelspec": {
   "display_name": "Python [default]",
   "language": "python",
   "name": "python2"
  },
  "language_info": {
   "codemirror_mode": {
    "name": "ipython",
    "version": 2
   },
   "file_extension": ".py",
   "mimetype": "text/x-python",
   "name": "python",
   "nbconvert_exporter": "python",
   "pygments_lexer": "ipython2",
   "version": "2.7.12"
  }
 },
 "nbformat": 4,
 "nbformat_minor": 1
}

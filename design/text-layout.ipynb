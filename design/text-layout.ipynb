{
 "cells": [
  {
   "cell_type": "code",
   "execution_count": 1,
   "metadata": {
    "collapsed": true
   },
   "outputs": [],
   "source": [
    "from PIL import Image, ImageDraw\n",
    "\n",
    "import toyplot.font\n",
    "import toyplot.text\n",
    "\n",
    "import IPython.display\n",
    "\n",
    "import xml.etree.ElementTree as xml\n",
    "import sys\n",
    "import logging\n",
    "logging.basicConfig(level=logging.DEBUG)\n",
    "toyplot.log.setLevel(logging.DEBUG)"
   ]
  },
  {
   "cell_type": "code",
   "execution_count": 2,
   "metadata": {
    "collapsed": false
   },
   "outputs": [
    {
     "name": "stderr",
     "output_type": "stream",
     "text": [
      "DEBUG:toyplot:body {'font-size': '16px', 'font-family': 'helvetica', 'line-height': 'normal'} 'This is ' None\n",
      "DEBUG:toyplot:span {'font-size': '120%', 'font-family': 'helvetica', 'line-height': 'normal'} 'special' ' text!'\n",
      "DEBUG:toyplot:body {'font-size': 16.0, 'font-family': 'helvetica', 'line-height': 19.2} 'This is ' None\n",
      "DEBUG:toyplot:span {'font-size': 19.2, 'font-family': 'helvetica', 'line-height': 23.04} 'special' ' text!'\n"
     ]
    }
   ],
   "source": [
    "text = \"This is <span style='font-size:120%'>special</span> text!\"\n",
    "style = {\"font-family\":\"helvetica\", \"font-size\":\"16px\"}\n",
    "fonts = toyplot.font.ReportlabLibrary()\n",
    "\n",
    "layout = toyplot.text.layout(text=text, style=style, fonts=fonts)"
   ]
  },
  {
   "cell_type": "code",
   "execution_count": 3,
   "metadata": {
    "collapsed": false
   },
   "outputs": [
    {
     "name": "stdout",
     "output_type": "stream",
     "text": [
      "<toyplot.text.BlockBox {'font-size': 16.0, 'font-family': 'helvetica', 'line-height': 19.2} (0,0) 145.1104x23.04>\n",
      "  <toyplot.text.TextBox {'font-size': 16.0, 'font-family': 'helvetica', 'line-height': 19.2} (0,0) 50.672x19.2 'This is '>\n",
      "  <toyplot.text.InlineBox {'font-size': 19.2, 'font-family': 'helvetica', 'line-height': 23.04} (50.672,0) 59.7504x23.04>\n",
      "    <toyplot.text.TextBox {'font-size': 19.2, 'font-family': 'helvetica', 'line-height': 23.04} (50.672,0) 59.7504x23.04 'special'>\n",
      "  <toyplot.text.TextBox {'font-size': 16.0, 'font-family': 'helvetica', 'line-height': 19.2} (110.4224,0) 34.688x19.2 ' text!'>\n"
     ]
    }
   ],
   "source": [
    "toyplot.text.dump(layout)"
   ]
  },
  {
   "cell_type": "code",
   "execution_count": 5,
   "metadata": {
    "collapsed": false
   },
   "outputs": [
    {
     "name": "stdout",
     "output_type": "stream",
     "text": [
      "<toyplot.text.TextBox {'font-size': 16.0, 'font-family': 'helvetica', 'line-height': 19.2} (0,0) 50.672x19.2 'This is '>\n",
      "2.2\n",
      "<toyplot.text.TextBox {'font-size': 19.2, 'font-family': 'helvetica', 'line-height': 23.04} (50.672,0) 59.7504x23.04 'special'>\n",
      "2.64\n",
      "<toyplot.text.TextBox {'font-size': 16.0, 'font-family': 'helvetica', 'line-height': 19.2} (110.4224,0) 34.688x19.2 ' text!'>\n",
      "2.2\n"
     ]
    },
    {
     "data": {
      "image/svg+xml": [
       "<svg height=\"33\" style=\"background: #f0f0f0\" width=\"155\"><rect fill=\"none\" height=\"19.2\" opacity=\"0.2\" stroke=\"black\" width=\"50.672\" x=\"0\" y=\"0\"/><text fill=\"black\" stroke=\"none\" style=\"font-family:helvetica;font-size:16.0;line-height:19.2;white-space:pre\" x=\"0\" y=\"17.0\">This is </text><rect fill=\"none\" height=\"23.04\" opacity=\"0.2\" stroke=\"black\" width=\"59.7504\" x=\"50.672\" y=\"0\"/><text fill=\"black\" stroke=\"none\" style=\"font-family:helvetica;font-size:19.2;line-height:23.04;white-space:pre\" x=\"50.672\" y=\"20.4\">special</text><rect fill=\"none\" height=\"19.2\" opacity=\"0.2\" stroke=\"black\" width=\"34.688\" x=\"110.4224\" y=\"0\"/><text fill=\"black\" stroke=\"none\" style=\"font-family:helvetica;font-size:16.0;line-height:19.2;white-space:pre\" x=\"110.4224\" y=\"17.0\"> text!</text></svg>"
      ],
      "text/plain": [
       "<IPython.core.display.SVG object>"
      ]
     },
     "execution_count": 5,
     "metadata": {},
     "output_type": "execute_result"
    }
   ],
   "source": [
    "def draw(box, image):\n",
    "    if isinstance(box, toyplot.text.TextBox):\n",
    "        print box\n",
    "        xml.SubElement(\n",
    "            image,\n",
    "            \"rect\",\n",
    "            x=str(box.left),\n",
    "            y=str(box.top),\n",
    "            width=str(box.content_width),\n",
    "            height=str(box.content_height),\n",
    "            fill=\"none\",\n",
    "            stroke=\"black\",\n",
    "            opacity=\"0.2\",\n",
    "        )\n",
    "        \n",
    "        baseline_offset = (box.style[\"line-height\"] - box.text_height) * 0.5\n",
    "        print baseline_offset\n",
    "        #baseline_offset=0\n",
    "        \n",
    "        style = toyplot.style.combine(\n",
    "            box.style,\n",
    "            {\"white-space\":\"pre\"},\n",
    "        )\n",
    "        \n",
    "        xml.SubElement(\n",
    "            image,\n",
    "            \"text\",\n",
    "            x=str(box.left),\n",
    "            y=str(box.bottom - baseline_offset),\n",
    "            fill=\"black\",\n",
    "            stroke=\"none\",\n",
    "            style=toyplot.style.to_css(style),\n",
    "        ).text = box.text\n",
    "        \n",
    "    for child in box.children:\n",
    "        draw(child, image)\n",
    "\n",
    "image = xml.Element(\n",
    "    \"svg\",\n",
    "    width=str(int(layout.content_width+10)),\n",
    "    height=str(int(layout.content_height+10)),\n",
    "    style=\"background: #f0f0f0\",\n",
    ")\n",
    "draw(layout, image)\n",
    "IPython.display.SVG(xml.tostring(image))"
   ]
  },
  {
   "cell_type": "code",
   "execution_count": null,
   "metadata": {
    "collapsed": true
   },
   "outputs": [],
   "source": []
  }
 ],
 "metadata": {
  "anaconda-cloud": {},
  "kernelspec": {
   "display_name": "Python [default]",
   "language": "python",
   "name": "python2"
  },
  "language_info": {
   "codemirror_mode": {
    "name": "ipython",
    "version": 2
   },
   "file_extension": ".py",
   "mimetype": "text/x-python",
   "name": "python",
   "nbconvert_exporter": "python",
   "pygments_lexer": "ipython2",
   "version": "2.7.12"
  }
 },
 "nbformat": 4,
 "nbformat_minor": 1
}

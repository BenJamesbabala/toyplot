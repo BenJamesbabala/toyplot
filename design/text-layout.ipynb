{
 "cells": [
  {
   "cell_type": "markdown",
   "metadata": {},
   "source": [
    "### Design Decisions:\n",
    "\n",
    "The following behavior derives from Adobe Illustrator, because I can understand what it's doing ...\n",
    "\n",
    "* Text baselines are aligned within a line, regardless of font size.\n",
    "* Line height is based on the maximum font size.\n",
    "* Text can be shifted relative to its baseline, using baseline-shift, but this doesn't affect line height.\n",
    "* <strike>Text superscript / subscript does not nest.</strike>"
   ]
  },
  {
   "cell_type": "code",
   "execution_count": 8,
   "metadata": {
    "collapsed": false
   },
   "outputs": [],
   "source": [
    "from PIL import Image, ImageDraw\n",
    "\n",
    "import toyplot.font\n",
    "import toyplot.text\n",
    "\n",
    "import IPython.display\n",
    "\n",
    "import xml.etree.ElementTree as xml\n",
    "import sys\n",
    "import logging\n",
    "logging.basicConfig(level=logging.DEBUG)\n",
    "toyplot.log.setLevel(logging.DEBUG)"
   ]
  },
  {
   "cell_type": "code",
   "execution_count": 9,
   "metadata": {
    "collapsed": false
   },
   "outputs": [],
   "source": [
    "#text = \"\"\"<span style=\"\">Alpha</span><span style=\"font-size:120%;alignment-baseline:hanging;\">Beta</span><br/>Gamma\"\"\"\n",
    "text = \"\"\"<span style=\"\">Alpha</span><span style=\"font-size:120%\">Beta</span><br/>Gamma\"\"\"\n",
    "\n",
    "#text = \"\"\"Great<sup>Awesome<sup>Stupendous</sup><sub>Not so good</sub></sup>Fair\"\"\"\n",
    "style = {\"font-size\": \"48px\", \"-toyplot-text-baseline\": \"visible\"}\n",
    "fonts = toyplot.font.ReportlabLibrary()\n",
    "\n",
    "layout = toyplot.text.layout(text=text, style=style, fonts=fonts)"
   ]
  },
  {
   "cell_type": "code",
   "execution_count": 10,
   "metadata": {
    "collapsed": false,
    "scrolled": false
   },
   "outputs": [
    {
     "name": "stdout",
     "output_type": "stream",
     "text": [
      "toyplot.text.Layout\n",
      "  bottom: 97.68\n",
      "  height: 97.68\n",
      "  left: -120.6096\n",
      "  right: 120.6096\n",
      "  top: 0\n",
      "  width: 241.2192\n",
      "\n",
      "  toyplot.text.LineBox\n",
      "    baseline: 0\n",
      "    bottom: 26.39808\n",
      "    height: 53.28\n",
      "    left: -120.6096\n",
      "    right: 120.6096\n",
      "    top: -26.88192\n",
      "    width: 241.2192\n",
      "\n",
      "    toyplot.text.TextBox\n",
      "      baseline: 12.0624\n",
      "      bottom: 21.9984\n",
      "      height: 44.4\n",
      "      left: -120.6096\n",
      "      right: 2.1264\n",
      "      style:\n",
      "        font-size: 48.0\n",
      "        -toyplot-text-baseline: visible\n",
      "        white-space: pre\n",
      "        vertical-align: baseline\n",
      "        font-family: helvetica\n",
      "        line-height: 57.6\n",
      "      text: 'Alpha'\n",
      "      top: -22.4016\n",
      "      width: 122.736\n",
      "\n",
      "    toyplot.text.TextBox\n",
      "      baseline: 14.47488\n",
      "      bottom: 26.39808\n",
      "      height: 53.28\n",
      "      left: 2.1264\n",
      "      right: 120.6096\n",
      "      style:\n",
      "        font-size: 57.6\n",
      "        -toyplot-text-baseline: visible\n",
      "        white-space: pre\n",
      "        vertical-align: baseline\n",
      "        font-family: helvetica\n",
      "        line-height: 69.12\n",
      "      text: 'Beta'\n",
      "      top: -26.88192\n",
      "      width: 118.4832\n",
      "\n",
      "  toyplot.text.LineBox\n",
      "    baseline: 53.28\n",
      "    bottom: 75.2784\n",
      "    height: 44.4\n",
      "    left: -85.344\n",
      "    right: 85.344\n",
      "    top: 30.8784\n",
      "    width: 170.688\n",
      "\n",
      "    toyplot.text.TextBox\n",
      "      baseline: 65.3424\n",
      "      bottom: 75.2784\n",
      "      height: 44.4\n",
      "      left: -85.344\n",
      "      right: 85.344\n",
      "      style:\n",
      "        font-size: 48.0\n",
      "        -toyplot-text-baseline: visible\n",
      "        white-space: pre\n",
      "        vertical-align: baseline\n",
      "        font-family: helvetica\n",
      "        line-height: 57.6\n",
      "      text: 'Gamma'\n",
      "      top: 30.8784\n",
      "      width: 170.688\n",
      "\n"
     ]
    }
   ],
   "source": [
    "toyplot.text.dump(layout)"
   ]
  },
  {
   "cell_type": "code",
   "execution_count": 11,
   "metadata": {
    "collapsed": false
   },
   "outputs": [
    {
     "data": {
      "text/html": [
       "<div align=\"center\" class=\"toyplot\" id=\"te6ee5eae96a64380b4b51375c427b22a\"><svg class=\"toyplot-canvas-Canvas\" height=\"480.0px\" id=\"t722bb6638f9d4b94aa56a3085999d3be\" preserveAspectRatio=\"xMidYMid meet\" style=\"background-color:transparent;fill:rgb(16.1%,15.3%,14.1%);fill-opacity:1.0;font-family:Helvetica;font-size:12px;opacity:1.0;stroke:rgb(16.1%,15.3%,14.1%);stroke-opacity:1.0;stroke-width:1.0\" viewBox=\"0 0 480.0 480.0\" width=\"480.0px\" xmlns=\"http://www.w3.org/2000/svg\" xmlns:toyplot=\"http://www.sandia.gov/toyplot\" xmlns:xlink=\"http://www.w3.org/1999/xlink\"><g class=\"toyplot-coordinates-Cartesian\" id=\"t17aad83cb71e46ec94f6d0aa95032c48\"><clipPath id=\"t02735db2325145ba9526b5a68c0379f9\"><rect height=\"400.0\" width=\"400.0\" x=\"40.0\" y=\"40.0\"></rect></clipPath><g clip-path=\"url(#t02735db2325145ba9526b5a68c0379f9)\"><g class=\"toyplot-mark-Scatterplot\" id=\"tb875f69c7dab4d39b62824cd24a7b11d\" style=\"\"><g class=\"toyplot-Series\"><g class=\"toyplot-Datum\" style=\"fill:rgb(0%,0%,0%);fill-opacity:1.0;opacity:1.0;stroke:rgb(0%,0%,0%);stroke-opacity:1.0\"><circle cx=\"240.0\" cy=\"240.0\" r=\"1.5\"></circle></g></g></g><g class=\"toyplot-mark-Text\" id=\"t2912ee02d6dc49d58475d80a689f05e5\"><g class=\"toyplot-Series\"><g class=\"toyplot-Datum\" transform=\"translate(240.0,240.0)\"><rect fill=\"none\" height=\"53.28\" opacity=\"0.5\" stroke=\"blue\" width=\"241.2192\" x=\"-120.6096\" y=\"-26.88192\"></rect><line fill=\"none\" opacity=\"0.5\" stroke=\"blue\" x1=\"-120.6096\" x2=\"120.6096\" y1=\"0\" y2=\"0\"></line><rect fill=\"none\" height=\"44.4\" opacity=\"0.5\" stroke=\"black\" width=\"122.736\" x=\"-120.6096\" y=\"-22.4016\"></rect><line fill=\"none\" opacity=\"0.5\" stroke=\"black\" x1=\"-120.6096\" x2=\"2.1264\" y1=\"12.0624\" y2=\"12.0624\"></line><text style=\"-toyplot-text-baseline:visible;fill:rgb(40%,76.1%,64.7%);fill-opacity:1.0;font-family:helvetica;font-size:48.0;font-weight:normal;line-height:57.6;opacity:1.0;stroke:none;vertical-align:baseline;white-space:pre\" x=\"-120.6096\" y=\"12.0624\">Alpha</text><rect fill=\"none\" height=\"53.28\" opacity=\"0.5\" stroke=\"black\" width=\"118.4832\" x=\"2.1264\" y=\"-26.88192\"></rect><line fill=\"none\" opacity=\"0.5\" stroke=\"black\" x1=\"2.1264\" x2=\"120.6096\" y1=\"14.47488\" y2=\"14.47488\"></line><text style=\"-toyplot-text-baseline:visible;fill:rgb(40%,76.1%,64.7%);fill-opacity:1.0;font-family:helvetica;font-size:57.6;font-weight:normal;line-height:69.12;opacity:1.0;stroke:none;vertical-align:baseline;white-space:pre\" x=\"2.1264\" y=\"14.47488\">Beta</text><rect fill=\"none\" height=\"44.4\" opacity=\"0.5\" stroke=\"blue\" width=\"170.688\" x=\"-85.344\" y=\"30.8784\"></rect><line fill=\"none\" opacity=\"0.5\" stroke=\"blue\" x1=\"-85.344\" x2=\"85.344\" y1=\"53.28\" y2=\"53.28\"></line><rect fill=\"none\" height=\"44.4\" opacity=\"0.5\" stroke=\"black\" width=\"170.688\" x=\"-85.344\" y=\"30.8784\"></rect><line fill=\"none\" opacity=\"0.5\" stroke=\"black\" x1=\"-85.344\" x2=\"85.344\" y1=\"65.3424\" y2=\"65.3424\"></line><text style=\"-toyplot-text-baseline:visible;fill:rgb(40%,76.1%,64.7%);fill-opacity:1.0;font-family:helvetica;font-size:48.0;font-weight:normal;line-height:57.6;opacity:1.0;stroke:none;vertical-align:baseline;white-space:pre\" x=\"-85.344\" y=\"65.3424\">Gamma</text></g></g></g></g></g></svg><div class=\"toyplot-interactive\"><ul class=\"toyplot-mark-popup\" onmouseleave=\"this.style.visibility='hidden'\" style=\"background:rgba(0%,0%,0%,0.75);border:0;border-radius:6px;color:white;cursor:default;list-style:none;margin:0;padding:5px;position:fixed;visibility:hidden\">\n",
       "            <li class=\"toyplot-mark-popup-title\" style=\"color:lightgray;cursor:default;padding:5px;list-style:none;margin:0\"></li>\n",
       "            <li class=\"toyplot-mark-popup-save-csv\" onmouseout=\"this.style.color='white';this.style.background='steelblue'\" onmouseover=\"this.style.color='steelblue';this.style.background='white'\" style=\"border-radius:3px;padding:5px;list-style:none;margin:0\">\n",
       "                Save as .csv\n",
       "            </li>\n",
       "        </ul><script>\n",
       "        (function()\n",
       "        {\n",
       "          var data_tables = [{\"title\": \"Scatterplot Data\", \"names\": [\"x\", \"y0\"], \"id\": \"tb875f69c7dab4d39b62824cd24a7b11d\", \"columns\": [[0.0], [0.0]], \"filename\": \"toyplot\"}];\n",
       "\n",
       "          function save_csv(data_table)\n",
       "          {\n",
       "            var uri = \"data:text/csv;charset=utf-8,\";\n",
       "            uri += data_table.names.join(\",\") + \"\\n\";\n",
       "            for(var i = 0; i != data_table.columns[0].length; ++i)\n",
       "            {\n",
       "              for(var j = 0; j != data_table.columns.length; ++j)\n",
       "              {\n",
       "                if(j)\n",
       "                  uri += \",\";\n",
       "                uri += data_table.columns[j][i];\n",
       "              }\n",
       "              uri += \"\\n\";\n",
       "            }\n",
       "            uri = encodeURI(uri);\n",
       "\n",
       "            var link = document.createElement(\"a\");\n",
       "            if(typeof link.download != \"undefined\")\n",
       "            {\n",
       "              link.href = uri;\n",
       "              link.style = \"visibility:hidden\";\n",
       "              link.download = data_table.filename + \".csv\";\n",
       "\n",
       "              document.body.appendChild(link);\n",
       "              link.click();\n",
       "              document.body.removeChild(link);\n",
       "            }\n",
       "            else\n",
       "            {\n",
       "              window.open(uri);\n",
       "            }\n",
       "          }\n",
       "\n",
       "          function open_popup(data_table)\n",
       "          {\n",
       "            return function(e)\n",
       "            {\n",
       "              var popup = document.querySelector(\"#te6ee5eae96a64380b4b51375c427b22a .toyplot-mark-popup\");\n",
       "              popup.querySelector(\".toyplot-mark-popup-title\").innerHTML = data_table.title;\n",
       "              popup.querySelector(\".toyplot-mark-popup-save-csv\").onclick = function() { popup.style.visibility = \"hidden\"; save_csv(data_table); }\n",
       "              popup.style.left = (e.clientX - 50) + \"px\";\n",
       "              popup.style.top = (e.clientY - 20) + \"px\";\n",
       "              popup.style.visibility = \"visible\";\n",
       "              e.stopPropagation();\n",
       "              e.preventDefault();\n",
       "            }\n",
       "\n",
       "          }\n",
       "\n",
       "          for(var i = 0; i != data_tables.length; ++i)\n",
       "          {\n",
       "            var data_table = data_tables[i];\n",
       "            var event_target = document.querySelector(\"#\" + data_table.id);\n",
       "            event_target.oncontextmenu = open_popup(data_table);\n",
       "          }\n",
       "        })();\n",
       "        </script></div></div>"
      ]
     },
     "metadata": {},
     "output_type": "display_data"
    }
   ],
   "source": [
    "canvas = toyplot.Canvas(width=\"5in\", height=\"5in\")\n",
    "axes = canvas.cartesian(show=False)\n",
    "axes.scatterplot(0, 0, color=\"black\", size=3)\n",
    "axes.text(0, 0, text=text, style=style);"
   ]
  },
  {
   "cell_type": "raw",
   "metadata": {
    "collapsed": false
   },
   "source": [
    "import toyplot.pdf\n",
    "toyplot.pdf.render(canvas, \"test.pdf\")"
   ]
  },
  {
   "cell_type": "code",
   "execution_count": null,
   "metadata": {
    "collapsed": true
   },
   "outputs": [],
   "source": []
  }
 ],
 "metadata": {
  "anaconda-cloud": {},
  "kernelspec": {
   "display_name": "Python [default]",
   "language": "python",
   "name": "python2"
  },
  "language_info": {
   "codemirror_mode": {
    "name": "ipython",
    "version": 2
   },
   "file_extension": ".py",
   "mimetype": "text/x-python",
   "name": "python",
   "nbconvert_exporter": "python",
   "pygments_lexer": "ipython2",
   "version": "2.7.12"
  }
 },
 "nbformat": 4,
 "nbformat_minor": 1
}

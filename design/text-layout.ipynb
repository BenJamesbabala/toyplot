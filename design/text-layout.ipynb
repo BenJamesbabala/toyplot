{
 "cells": [
  {
   "cell_type": "markdown",
   "metadata": {},
   "source": [
    "### TODO:\n",
    "\n",
    "* Different font size baselines don't line-up within a line.\n",
    "* Need to sync PDF rendering with new HTML markup."
   ]
  },
  {
   "cell_type": "code",
   "execution_count": 1,
   "metadata": {
    "collapsed": false
   },
   "outputs": [],
   "source": [
    "from PIL import Image, ImageDraw\n",
    "\n",
    "import toyplot.font\n",
    "import toyplot.text\n",
    "\n",
    "import IPython.display\n",
    "\n",
    "import xml.etree.ElementTree as xml\n",
    "import sys\n",
    "import logging\n",
    "logging.basicConfig(level=logging.DEBUG)\n",
    "toyplot.log.setLevel(logging.DEBUG)"
   ]
  },
  {
   "cell_type": "code",
   "execution_count": 2,
   "metadata": {
    "collapsed": false
   },
   "outputs": [],
   "source": [
    "#text = \"\"\"This is <i>italic</i>, <b>bold</b>,<br/><code>monospace</code>, <small>small</small>, <span style=\"font-size:24px\">large</span>,<br/><sup>superscript</sup> and <sub>subscript</sub> text<br/>for your <span style=\"fill:red\">amusement!</span>\"\"\"\n",
    "#text = \"\"\"<span style=\"alignment-baseline:hanging\">Hanging</span><span style=\"alignment-baseline:central\">Central</span><span style=\"alignment-baseline:middle\">Middle</span><span style=\"alignment-baseline:alphabetic\">Alpha</span>\"\"\"\n",
    "text = \"\"\"Hello, <small>World!</small>\"\"\"\n",
    "style = {\"font-size\":\"24px\", \"-toyplot-text-baseline\":\"visible\"}\n",
    "fonts = toyplot.font.ReportlabLibrary()\n",
    "\n",
    "layout = toyplot.text.layout(text=text, style=style, fonts=fonts)"
   ]
  },
  {
   "cell_type": "code",
   "execution_count": 3,
   "metadata": {
    "collapsed": false,
    "scrolled": false
   },
   "outputs": [
    {
     "name": "stdout",
     "output_type": "stream",
     "text": [
      "toyplot.text.Layout\n",
      "  bottom: 14.2992\n",
      "  height: 28.8\n",
      "  left: -61.7424\n",
      "  right: 61.7424\n",
      "  top: -14.5008\n",
      "  width: 123.4848\n",
      "\n",
      "  toyplot.text.LineBox\n",
      "    baseline: 0.0\n",
      "    bottom: 14.2992\n",
      "    height: 28.8\n",
      "    left: -61.7424\n",
      "    right: 61.7424\n",
      "    top: -14.5008\n",
      "    width: 123.4848\n",
      "\n",
      "    toyplot.text.TextBox\n",
      "      baseline: 6.0312\n",
      "      bottom: 20.3304\n",
      "      left: -61.7424\n",
      "      right: 6.2736\n",
      "      style:\n",
      "        font-size: 24.0\n",
      "        -toyplot-text-baseline: visible\n",
      "        white-space: pre\n",
      "        vertical-align: baseline\n",
      "        font-family: helvetica\n",
      "        line-height: 28.8\n",
      "      text: 'Hello, '\n",
      "      top: -8.4696\n",
      "      width: 68.016\n",
      "\n",
      "    toyplot.text.TextBox\n",
      "      baseline: 4.82496\n",
      "      bottom: 16.26432\n",
      "      left: 6.2736\n",
      "      right: 61.7424\n",
      "      style:\n",
      "        font-size: 19.2\n",
      "        -toyplot-text-baseline: visible\n",
      "        white-space: pre\n",
      "        vertical-align: baseline\n",
      "        font-family: helvetica\n",
      "        line-height: 23.04\n",
      "      text: 'World!'\n",
      "      top: -6.77568\n",
      "      width: 55.4688\n",
      "\n"
     ]
    }
   ],
   "source": [
    "toyplot.text.dump(layout)"
   ]
  },
  {
   "cell_type": "code",
   "execution_count": 4,
   "metadata": {
    "collapsed": false
   },
   "outputs": [
    {
     "data": {
      "text/html": [
       "<div align=\"center\" class=\"toyplot\" id=\"t10a2fe4de1f34af7a3205b95faf99991\"><svg class=\"toyplot-canvas-Canvas\" height=\"192.0px\" id=\"tddde04eff06f46859747b91121f25076\" preserveAspectRatio=\"xMidYMid meet\" style=\"background-color:transparent;fill:rgb(16.1%,15.3%,14.1%);fill-opacity:1.0;font-family:Helvetica;font-size:12px;opacity:1.0;stroke:rgb(16.1%,15.3%,14.1%);stroke-opacity:1.0;stroke-width:1.0\" viewBox=\"0 0 480.0 192.0\" width=\"480.0px\" xmlns=\"http://www.w3.org/2000/svg\" xmlns:toyplot=\"http://www.sandia.gov/toyplot\" xmlns:xlink=\"http://www.w3.org/1999/xlink\"><g class=\"toyplot-coordinates-Cartesian\" id=\"t2db65fd2cd5a4122815b1b2613d13a34\"><clipPath id=\"tf00be6087bf34ad289f8fe24fa9dcf5b\"><rect height=\"112.0\" width=\"400.0\" x=\"40.0\" y=\"40.0\"></rect></clipPath><g clip-path=\"url(#tf00be6087bf34ad289f8fe24fa9dcf5b)\"><g class=\"toyplot-mark-Text\" id=\"t280bdb9267bd46d488da928e1d41ebd0\"><g class=\"toyplot-Series\"><g class=\"toyplot-Datum\" transform=\"translate(240.0,96.0)\"><line fill=\"none\" opacity=\"0.5\" stroke=\"black\" x1=\"-61.7424\" x2=\"6.2736\" y1=\"6.0312\" y2=\"6.0312\"></line><text style=\"-toyplot-text-baseline:visible;fill:rgb(40%,76.1%,64.7%);fill-opacity:1.0;font-family:helvetica;font-size:24.0;font-weight:normal;line-height:28.8;opacity:1.0;stroke:none;vertical-align:baseline;white-space:pre\" x=\"-61.7424\" y=\"6.0312\">Hello, </text><line fill=\"none\" opacity=\"0.5\" stroke=\"black\" x1=\"6.2736\" x2=\"61.7424\" y1=\"4.82496\" y2=\"4.82496\"></line><text style=\"-toyplot-text-baseline:visible;fill:rgb(40%,76.1%,64.7%);fill-opacity:1.0;font-family:helvetica;font-size:19.2;font-weight:normal;line-height:23.04;opacity:1.0;stroke:none;vertical-align:baseline;white-space:pre\" x=\"6.2736\" y=\"4.82496\">World!</text></g></g></g><g class=\"toyplot-mark-Scatterplot\" id=\"t1d62487009c84b9db6aab04e0334dc06\" style=\"\"><g class=\"toyplot-Series\"><g class=\"toyplot-Datum\" style=\"fill:rgb(0%,0%,0%);fill-opacity:1.0;opacity:1.0;stroke:rgb(0%,0%,0%);stroke-opacity:1.0\"><circle cx=\"240.0\" cy=\"96.0\" r=\"1.5\"></circle></g></g></g></g></g></svg><div class=\"toyplot-interactive\"><ul class=\"toyplot-mark-popup\" onmouseleave=\"this.style.visibility='hidden'\" style=\"background:rgba(0%,0%,0%,0.75);border:0;border-radius:6px;color:white;cursor:default;list-style:none;margin:0;padding:5px;position:fixed;visibility:hidden\">\n",
       "            <li class=\"toyplot-mark-popup-title\" style=\"color:lightgray;cursor:default;padding:5px;list-style:none;margin:0\"></li>\n",
       "            <li class=\"toyplot-mark-popup-save-csv\" onmouseout=\"this.style.color='white';this.style.background='steelblue'\" onmouseover=\"this.style.color='steelblue';this.style.background='white'\" style=\"border-radius:3px;padding:5px;list-style:none;margin:0\">\n",
       "                Save as .csv\n",
       "            </li>\n",
       "        </ul><script>\n",
       "        (function()\n",
       "        {\n",
       "          var data_tables = [{\"title\": \"Scatterplot Data\", \"names\": [\"x\", \"y0\"], \"id\": \"t1d62487009c84b9db6aab04e0334dc06\", \"columns\": [[0.0], [0.0]], \"filename\": \"toyplot\"}];\n",
       "\n",
       "          function save_csv(data_table)\n",
       "          {\n",
       "            var uri = \"data:text/csv;charset=utf-8,\";\n",
       "            uri += data_table.names.join(\",\") + \"\\n\";\n",
       "            for(var i = 0; i != data_table.columns[0].length; ++i)\n",
       "            {\n",
       "              for(var j = 0; j != data_table.columns.length; ++j)\n",
       "              {\n",
       "                if(j)\n",
       "                  uri += \",\";\n",
       "                uri += data_table.columns[j][i];\n",
       "              }\n",
       "              uri += \"\\n\";\n",
       "            }\n",
       "            uri = encodeURI(uri);\n",
       "\n",
       "            var link = document.createElement(\"a\");\n",
       "            if(typeof link.download != \"undefined\")\n",
       "            {\n",
       "              link.href = uri;\n",
       "              link.style = \"visibility:hidden\";\n",
       "              link.download = data_table.filename + \".csv\";\n",
       "\n",
       "              document.body.appendChild(link);\n",
       "              link.click();\n",
       "              document.body.removeChild(link);\n",
       "            }\n",
       "            else\n",
       "            {\n",
       "              window.open(uri);\n",
       "            }\n",
       "          }\n",
       "\n",
       "          function open_popup(data_table)\n",
       "          {\n",
       "            return function(e)\n",
       "            {\n",
       "              var popup = document.querySelector(\"#t10a2fe4de1f34af7a3205b95faf99991 .toyplot-mark-popup\");\n",
       "              popup.querySelector(\".toyplot-mark-popup-title\").innerHTML = data_table.title;\n",
       "              popup.querySelector(\".toyplot-mark-popup-save-csv\").onclick = function() { popup.style.visibility = \"hidden\"; save_csv(data_table); }\n",
       "              popup.style.left = (e.clientX - 50) + \"px\";\n",
       "              popup.style.top = (e.clientY - 20) + \"px\";\n",
       "              popup.style.visibility = \"visible\";\n",
       "              e.stopPropagation();\n",
       "              e.preventDefault();\n",
       "            }\n",
       "\n",
       "          }\n",
       "\n",
       "          for(var i = 0; i != data_tables.length; ++i)\n",
       "          {\n",
       "            var data_table = data_tables[i];\n",
       "            var event_target = document.querySelector(\"#\" + data_table.id);\n",
       "            event_target.oncontextmenu = open_popup(data_table);\n",
       "          }\n",
       "        })();\n",
       "        </script></div></div>"
      ]
     },
     "metadata": {},
     "output_type": "display_data"
    }
   ],
   "source": [
    "canvas = toyplot.Canvas(width=\"5in\", height=\"2in\")\n",
    "axes = canvas.cartesian(show=False)\n",
    "axes.text(0, 0, text=text, style=style)\n",
    "axes.scatterplot(0, 0, color=\"black\", size=3);"
   ]
  },
  {
   "cell_type": "code",
   "execution_count": 5,
   "metadata": {
    "collapsed": false
   },
   "outputs": [],
   "source": [
    "import toyplot.pdf\n",
    "toyplot.pdf.render(canvas, \"test.pdf\")"
   ]
  },
  {
   "cell_type": "code",
   "execution_count": null,
   "metadata": {
    "collapsed": true
   },
   "outputs": [],
   "source": []
  }
 ],
 "metadata": {
  "anaconda-cloud": {},
  "kernelspec": {
   "display_name": "Python [default]",
   "language": "python",
   "name": "python2"
  },
  "language_info": {
   "codemirror_mode": {
    "name": "ipython",
    "version": 2
   },
   "file_extension": ".py",
   "mimetype": "text/x-python",
   "name": "python",
   "nbconvert_exporter": "python",
   "pygments_lexer": "ipython2",
   "version": "2.7.13"
  }
 },
 "nbformat": 4,
 "nbformat_minor": 1
}

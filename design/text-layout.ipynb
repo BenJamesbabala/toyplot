{
 "cells": [
  {
   "cell_type": "code",
   "execution_count": 1,
   "metadata": {
    "collapsed": false
   },
   "outputs": [],
   "source": [
    "from PIL import Image, ImageDraw\n",
    "\n",
    "import toyplot.font\n",
    "import toyplot.text\n",
    "\n",
    "import IPython.display\n",
    "\n",
    "import xml.etree.ElementTree as xml\n",
    "import sys\n",
    "import logging\n",
    "logging.basicConfig(level=logging.DEBUG)\n",
    "toyplot.log.setLevel(logging.DEBUG)"
   ]
  },
  {
   "cell_type": "code",
   "execution_count": 2,
   "metadata": {
    "collapsed": false
   },
   "outputs": [
    {
     "name": "stderr",
     "output_type": "stream",
     "text": [
      "DEBUG:toyplot:build formatting model: <Element 'body' at 0x10fa55f50>\n",
      "DEBUG:toyplot:build formatting model: <Element 'br' at 0x10fa55f90>\n",
      "DEBUG:toyplot:compute size: <toyplot.text.Page object at 0x1046380d0>\n",
      "DEBUG:toyplot:compute size: <toyplot.text.Line object at 0x1020e72d0>\n",
      "DEBUG:toyplot:compute size: <toyplot.text.TextBox object at 0x1020e7350>\n",
      "DEBUG:toyplot:compute size: <toyplot.text.Newline object at 0x102011d10>\n",
      "DEBUG:toyplot:compute size: <toyplot.text.TextBox object at 0x10fa55dd0>\n"
     ]
    }
   ],
   "source": [
    "text = \"This is very<br/>special text!\"\n",
    "style = {\"font-family\":\"helvetica\", \"font-size\":\"16px\"}\n",
    "fonts = toyplot.font.ReportlabLibrary()\n",
    "\n",
    "layout = toyplot.text.layout(text=text, style=style, fonts=fonts)"
   ]
  },
  {
   "cell_type": "code",
   "execution_count": 3,
   "metadata": {
    "collapsed": false
   },
   "outputs": [
    {
     "name": "stdout",
     "output_type": "stream",
     "text": [
      "toyplot.text.Page 165.376x19.2\n",
      "  toyplot.text.Line 165.376x19.2\n",
      "    toyplot.text.TextBox 'This is very' 80.896x19.2\n",
      "    toyplot.text.Newline 0x0\n",
      "    toyplot.text.TextBox 'special text!' 84.48x19.2\n"
     ]
    }
   ],
   "source": [
    "toyplot.text.dump(layout, size=True)"
   ]
  },
  {
   "cell_type": "code",
   "execution_count": 4,
   "metadata": {
    "collapsed": false
   },
   "outputs": [
    {
     "name": "stdout",
     "output_type": "stream",
     "text": [
      "<toyplot.text.TextBox object at 0x1020e7350>\n",
      "<toyplot.text.TextBox object at 0x10fa55dd0>\n"
     ]
    },
    {
     "data": {
      "image/svg+xml": [
       "<svg height=\"29\" style=\"border: 1px solid #f0f0f0\" width=\"175\"><rect fill=\"lightgray\" height=\"19.2\" stroke=\"gray\" width=\"80.896\" x=\"0\" y=\"0\"/><text fill=\"black\" stroke=\"none\" style=\"font-family:helvetica;font-size:16.0;line-height:19.2;vertical-align:baseline;white-space:pre\" x=\"0\" y=\"17.0\">This is very</text><rect fill=\"lightgray\" height=\"19.2\" stroke=\"gray\" width=\"84.48\" x=\"80.896\" y=\"0\"/><text fill=\"black\" stroke=\"none\" style=\"font-family:helvetica;font-size:16.0;line-height:19.2;vertical-align:baseline;white-space:pre\" x=\"80.896\" y=\"17.0\">special text!</text></svg>"
      ],
      "text/plain": [
       "<IPython.core.display.SVG object>"
      ]
     },
     "execution_count": 4,
     "metadata": {},
     "output_type": "execute_result"
    }
   ],
   "source": [
    "def draw(box, image):\n",
    "    if isinstance(box, toyplot.text.TextBox):\n",
    "        print box\n",
    "        xml.SubElement(\n",
    "            image,\n",
    "            \"rect\",\n",
    "            x=str(box.left),\n",
    "            y=str(box.top),\n",
    "            width=str(box.content_width),\n",
    "            height=str(box.content_height),\n",
    "            fill=\"lightgray\",\n",
    "            stroke=\"gray\",\n",
    "        )\n",
    "        \n",
    "        baseline_offset = (box.style[\"line-height\"] - box.text_height) * 0.5\n",
    "        #print baseline_offset\n",
    "        #baseline_offset=0\n",
    "        \n",
    "        style = toyplot.style.combine(\n",
    "            box.style,\n",
    "            {\"white-space\":\"pre\"},\n",
    "        )\n",
    "        \n",
    "        xml.SubElement(\n",
    "            image,\n",
    "            \"text\",\n",
    "            x=str(box.left),\n",
    "            y=str(box.bottom - baseline_offset),\n",
    "            fill=\"black\",\n",
    "            stroke=\"none\",\n",
    "            style=toyplot.style.to_css(style),\n",
    "        ).text = box.text\n",
    "        \n",
    "    for child in box.children:\n",
    "        draw(child, image)\n",
    "\n",
    "image = xml.Element(\n",
    "    \"svg\",\n",
    "    width=str(int(layout.content_width+10)),\n",
    "    height=str(int(layout.content_height+10)),\n",
    "    style=\"border: 1px solid #f0f0f0\",\n",
    ")\n",
    "draw(layout, image)\n",
    "IPython.display.SVG(xml.tostring(image))"
   ]
  },
  {
   "cell_type": "code",
   "execution_count": 5,
   "metadata": {
    "collapsed": false
   },
   "outputs": [
    {
     "data": {
      "text/html": [
       "<span style='font-family: helvetica; font-size: 16px'><span style='background: lightgray; vertical-align: baseline'>This is </span><span style='background: lightgray; vertical-align: baseline; font-size: 120%; font-weight:bold'>very<br/>special</span><span style='background: lightgray; vertical-align: baseline'> text!</span><span>"
      ],
      "text/plain": [
       "<IPython.core.display.HTML object>"
      ]
     },
     "execution_count": 5,
     "metadata": {},
     "output_type": "execute_result"
    }
   ],
   "source": [
    "reference = \"<span style='font-family: helvetica; font-size: 16px'><span style='background: lightgray; vertical-align: baseline'>This is </span><span style='background: lightgray; vertical-align: baseline; font-size: 120%; font-weight:bold'>very<br/>special</span><span style='background: lightgray; vertical-align: baseline'> text!</span><span>\"\n",
    "IPython.display.HTML(reference)"
   ]
  },
  {
   "cell_type": "code",
   "execution_count": null,
   "metadata": {
    "collapsed": true
   },
   "outputs": [],
   "source": []
  }
 ],
 "metadata": {
  "anaconda-cloud": {},
  "kernelspec": {
   "display_name": "Python [default]",
   "language": "python",
   "name": "python2"
  },
  "language_info": {
   "codemirror_mode": {
    "name": "ipython",
    "version": 2
   },
   "file_extension": ".py",
   "mimetype": "text/x-python",
   "name": "python",
   "nbconvert_exporter": "python",
   "pygments_lexer": "ipython2",
   "version": "2.7.12"
  }
 },
 "nbformat": 4,
 "nbformat_minor": 1
}

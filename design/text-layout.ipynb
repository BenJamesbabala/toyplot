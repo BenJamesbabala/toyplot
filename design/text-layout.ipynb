{
 "cells": [
  {
   "cell_type": "code",
   "execution_count": 1,
   "metadata": {
    "collapsed": false
   },
   "outputs": [],
   "source": [
    "from PIL import Image, ImageDraw\n",
    "\n",
    "import toyplot.font\n",
    "import toyplot.text\n",
    "\n",
    "import IPython.display\n",
    "\n",
    "import xml.etree.ElementTree as xml\n",
    "import sys\n",
    "import logging\n",
    "logging.basicConfig(level=logging.DEBUG)\n",
    "toyplot.log.setLevel(logging.DEBUG)"
   ]
  },
  {
   "cell_type": "code",
   "execution_count": 2,
   "metadata": {
    "collapsed": false
   },
   "outputs": [],
   "source": [
    "text = \"<span style=''>This is <i>italic</i>, <b>bold</b>,<br/><code>monospace</code>, <small>small</small>,<br/><sup>superscript</sup> and <sub>subscript</sub> text<br/>for your amusement!</span>\"\n",
    "style = {\"font-family\":\"helvetica\", \"font-size\":\"16px\"}\n",
    "fonts = toyplot.font.ReportlabLibrary()\n",
    "\n",
    "layout = toyplot.text.layout(text=text, style=style, fonts=fonts)"
   ]
  },
  {
   "cell_type": "code",
   "execution_count": 3,
   "metadata": {
    "collapsed": false
   },
   "outputs": [
    {
     "name": "stdout",
     "output_type": "stream",
     "text": [
      "toyplot.text.Layout 165.4032x76.8\n",
      "  toyplot.text.LineBox 129.792x19.2\n",
      "    toyplot.text.TextBox 'This is ' {'font-size': 16.0, 'font-family': 'helvetica', 'vertical-align': 'baseline', 'line-height': 19.2} 50.672x19.2\n",
      "    toyplot.text.TextBox 'italic' {'font-size': 16.0, 'vertical-align': 'baseline', 'font-style': 'italic', 'font-family': 'helvetica', 'line-height': 19.2} 32.0x19.2\n",
      "    toyplot.text.TextBox ', ' {'font-size': 16.0, 'font-family': 'helvetica', 'vertical-align': 'baseline', 'line-height': 19.2} 8.896x19.2\n",
      "    toyplot.text.TextBox 'bold' {'font-size': 16.0, 'font-family': 'helvetica', 'vertical-align': 'baseline', 'font-weight': 'bold', 'line-height': 19.2} 33.776x19.2\n",
      "    toyplot.text.TextBox ',' {'font-size': 16.0, 'font-family': 'helvetica', 'vertical-align': 'baseline', 'line-height': 19.2} 4.448x19.2\n",
      "  toyplot.text.LineBox 129.6064x19.2\n",
      "    toyplot.text.TextBox 'monospace' {'vertical-align': 'baseline', 'font-size': 16.0, 'font-family': 'monospace', 'line-height': 19.2} 86.4x19.2\n",
      "    toyplot.text.TextBox ', ' {'font-size': 16.0, 'font-family': 'helvetica', 'vertical-align': 'baseline', 'line-height': 19.2} 8.896x19.2\n",
      "    toyplot.text.TextBox 'small' {'font-size': 12.8, 'font-family': 'helvetica', 'vertical-align': 'baseline', 'line-height': 15.36} 29.8624x15.36\n",
      "    toyplot.text.TextBox ',' {'font-size': 16.0, 'font-family': 'helvetica', 'vertical-align': 'baseline', 'line-height': 19.2} 4.448x19.2\n",
      "  toyplot.text.LineBox 165.4032x19.2\n",
      "    toyplot.text.TextBox 'superscript' {'font-size': 11.2, 'font-family': 'helvetica', 'vertical-align': 'baseline', 'line-height': 13.44} 54.768x13.44\n",
      "    toyplot.text.TextBox ' and ' {'font-size': 16.0, 'font-family': 'helvetica', 'vertical-align': 'baseline', 'line-height': 19.2} 35.584x19.2\n",
      "    toyplot.text.TextBox 'subscript' {'font-size': 11.2, 'font-family': 'helvetica', 'vertical-align': 'baseline', 'line-height': 13.44} 44.8112x13.44\n",
      "    toyplot.text.TextBox ' text' {'font-size': 16.0, 'font-family': 'helvetica', 'vertical-align': 'baseline', 'line-height': 19.2} 30.24x19.2\n",
      "  toyplot.text.LineBox 146.72x19.2\n",
      "    toyplot.text.TextBox 'for your amusement!' {'font-size': 16.0, 'font-family': 'helvetica', 'vertical-align': 'baseline', 'line-height': 19.2} 146.72x19.2\n"
     ]
    }
   ],
   "source": [
    "toyplot.text.dump(layout, style=True)"
   ]
  },
  {
   "cell_type": "code",
   "execution_count": 8,
   "metadata": {
    "collapsed": false
   },
   "outputs": [
    {
     "data": {
      "image/svg+xml": [
       "<svg height=\"81\" style=\"border: 1px solid #f0f0f0\" width=\"170\"><rect fill=\"none\" height=\"19.2\" width=\"50.672\" x=\"0\" y=\"0\"/><text fill=\"black\" stroke=\"none\" style=\"font-family:helvetica;font-size:16.0;line-height:19.2;vertical-align:baseline;white-space:pre\" x=\"0\" y=\"17.0\">This is </text><rect fill=\"none\" height=\"19.2\" width=\"32.0\" x=\"50.672\" y=\"0\"/><text fill=\"black\" stroke=\"none\" style=\"font-family:helvetica;font-size:16.0;font-style:italic;line-height:19.2;vertical-align:baseline;white-space:pre\" x=\"50.672\" y=\"17.0\">italic</text><rect fill=\"none\" height=\"19.2\" width=\"8.896\" x=\"82.672\" y=\"0\"/><text fill=\"black\" stroke=\"none\" style=\"font-family:helvetica;font-size:16.0;line-height:19.2;vertical-align:baseline;white-space:pre\" x=\"82.672\" y=\"17.0\">, </text><rect fill=\"none\" height=\"19.2\" width=\"33.776\" x=\"91.568\" y=\"0\"/><text fill=\"black\" stroke=\"none\" style=\"font-family:helvetica;font-size:16.0;font-weight:bold;line-height:19.2;vertical-align:baseline;white-space:pre\" x=\"91.568\" y=\"17.0\">bold</text><rect fill=\"none\" height=\"19.2\" width=\"4.448\" x=\"125.344\" y=\"0\"/><text fill=\"black\" stroke=\"none\" style=\"font-family:helvetica;font-size:16.0;line-height:19.2;vertical-align:baseline;white-space:pre\" x=\"125.344\" y=\"17.0\">,</text><rect fill=\"none\" height=\"19.2\" width=\"86.4\" x=\"0\" y=\"19.2\"/><text fill=\"black\" stroke=\"none\" style=\"font-family:monospace;font-size:16.0;line-height:19.2;vertical-align:baseline;white-space:pre\" x=\"0\" y=\"36.64\">monospace</text><rect fill=\"none\" height=\"19.2\" width=\"8.896\" x=\"86.4\" y=\"19.2\"/><text fill=\"black\" stroke=\"none\" style=\"font-family:helvetica;font-size:16.0;line-height:19.2;vertical-align:baseline;white-space:pre\" x=\"86.4\" y=\"36.64\">, </text><rect fill=\"none\" height=\"15.36\" width=\"29.8624\" x=\"95.296\" y=\"19.2\"/><text fill=\"black\" stroke=\"none\" style=\"font-family:helvetica;font-size:12.8;line-height:15.36;vertical-align:baseline;white-space:pre\" x=\"95.296\" y=\"36.64\">small</text><rect fill=\"none\" height=\"19.2\" width=\"4.448\" x=\"125.1584\" y=\"19.2\"/><text fill=\"black\" stroke=\"none\" style=\"font-family:helvetica;font-size:16.0;line-height:19.2;vertical-align:baseline;white-space:pre\" x=\"125.1584\" y=\"36.64\">,</text><rect fill=\"none\" height=\"13.44\" width=\"54.768\" x=\"0\" y=\"38.4\"/><text fill=\"black\" stroke=\"none\" style=\"font-family:helvetica;font-size:11.2;line-height:13.44;vertical-align:baseline;white-space:pre\" x=\"0\" y=\"52.7\">superscript</text><rect fill=\"none\" height=\"19.2\" width=\"35.584\" x=\"54.768\" y=\"38.4\"/><text fill=\"black\" stroke=\"none\" style=\"font-family:helvetica;font-size:16.0;line-height:19.2;vertical-align:baseline;white-space:pre\" x=\"54.768\" y=\"56.06\"> and </text><rect fill=\"none\" height=\"13.44\" width=\"44.8112\" x=\"90.352\" y=\"38.4\"/><text fill=\"black\" stroke=\"none\" style=\"font-family:helvetica;font-size:11.2;line-height:13.44;vertical-align:baseline;white-space:pre\" x=\"90.352\" y=\"58.3\">subscript</text><rect fill=\"none\" height=\"19.2\" width=\"30.24\" x=\"135.1632\" y=\"38.4\"/><text fill=\"black\" stroke=\"none\" style=\"font-family:helvetica;font-size:16.0;line-height:19.2;vertical-align:baseline;white-space:pre\" x=\"135.1632\" y=\"56.06\"> text</text><rect fill=\"none\" height=\"19.2\" width=\"146.72\" x=\"0\" y=\"57.6\"/><text fill=\"black\" stroke=\"none\" style=\"font-family:helvetica;font-size:16.0;line-height:19.2;vertical-align:baseline;white-space:pre\" x=\"0\" y=\"74.6\">for your amusement!</text></svg>"
      ],
      "text/plain": [
       "<IPython.core.display.SVG object>"
      ]
     },
     "execution_count": 8,
     "metadata": {},
     "output_type": "execute_result"
    }
   ],
   "source": [
    "def draw(box, image):\n",
    "#    if isinstance(box, toyplot.text.LineBox):\n",
    "#        xml.SubElement(\n",
    "#            image,\n",
    "#            \"rect\",\n",
    "#            x=str(box.left),\n",
    "#            y=str(box.top),\n",
    "#            width=str(box.width),\n",
    "#            height=str(box.height),\n",
    "#            fill=\"ivory\",\n",
    "#            stroke=\"lightgray\",\n",
    "#        )\n",
    "        \n",
    "    if isinstance(box, toyplot.text.TextBox):\n",
    "        xml.SubElement(\n",
    "            image,\n",
    "            \"rect\",\n",
    "            x=str(box.left),\n",
    "            y=str(box.top),\n",
    "            width=str(box.width),\n",
    "            height=str(box.height),\n",
    "            fill=\"none\",\n",
    "#            stroke=\"lightgray\",\n",
    "        )\n",
    "        \n",
    "        baseline_offset = box.baseline\n",
    "        \n",
    "#        xml.SubElement(\n",
    "#            image,\n",
    "#            \"line\",\n",
    "#            x1=str(box.left),\n",
    "#            y1=str(box.bottom - baseline_offset),\n",
    "#            x2=str(box.right),\n",
    "#            y2=str(box.bottom - baseline_offset),\n",
    "#            stroke=\"gray\")\n",
    "        \n",
    "        style = toyplot.style.combine(\n",
    "            box.style,\n",
    "            {\"white-space\":\"pre\"},\n",
    "        )\n",
    "        \n",
    "        xml.SubElement(\n",
    "            image,\n",
    "            \"text\",\n",
    "            x=str(box.left),\n",
    "            y=str(box.bottom - baseline_offset),\n",
    "            fill=\"black\",\n",
    "            stroke=\"none\",\n",
    "            style=toyplot.style.to_css(style),\n",
    "        ).text = box.text\n",
    "        \n",
    "    for child in box.children:\n",
    "        draw(child, image)\n",
    "\n",
    "image = xml.Element(\n",
    "    \"svg\",\n",
    "    width=str(int(layout.width+5)),\n",
    "    height=str(int(layout.height+5)),\n",
    "    style=\"border: 1px solid #f0f0f0\",\n",
    ")\n",
    "draw(layout, image)\n",
    "IPython.display.SVG(xml.tostring(image))"
   ]
  },
  {
   "cell_type": "code",
   "execution_count": 5,
   "metadata": {
    "collapsed": false
   },
   "outputs": [
    {
     "data": {
      "text/html": [
       "<span style='font-family: helvetica; font-size: 16px'><span style=''>This is <i>italic</i>, <b>bold</b>,<br/><code>monospace</code>, <small>small</small>,<br/><sup>superscript</sup> and <sub>subscript</sub> text<br/>for your amusement!</span></span>"
      ],
      "text/plain": [
       "<IPython.core.display.HTML object>"
      ]
     },
     "execution_count": 5,
     "metadata": {},
     "output_type": "execute_result"
    }
   ],
   "source": [
    "IPython.display.HTML(\"<span style='font-family: helvetica; font-size: 16px'>%s</span>\" % text)"
   ]
  },
  {
   "cell_type": "code",
   "execution_count": null,
   "metadata": {
    "collapsed": true
   },
   "outputs": [],
   "source": []
  }
 ],
 "metadata": {
  "anaconda-cloud": {},
  "kernelspec": {
   "display_name": "Python [default]",
   "language": "python",
   "name": "python2"
  },
  "language_info": {
   "codemirror_mode": {
    "name": "ipython",
    "version": 2
   },
   "file_extension": ".py",
   "mimetype": "text/x-python",
   "name": "python",
   "nbconvert_exporter": "python",
   "pygments_lexer": "ipython2",
   "version": "2.7.12"
  }
 },
 "nbformat": 4,
 "nbformat_minor": 1
}

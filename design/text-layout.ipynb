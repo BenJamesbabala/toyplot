{
 "cells": [
  {
   "cell_type": "code",
   "execution_count": 1,
   "metadata": {
    "collapsed": false
   },
   "outputs": [],
   "source": [
    "from PIL import Image, ImageDraw\n",
    "\n",
    "import toyplot.font\n",
    "import toyplot.text\n",
    "\n",
    "import IPython.display\n",
    "\n",
    "import xml.etree.ElementTree as xml\n",
    "import sys\n",
    "import logging\n",
    "logging.basicConfig(level=logging.DEBUG)\n",
    "toyplot.log.setLevel(logging.DEBUG)"
   ]
  },
  {
   "cell_type": "code",
   "execution_count": 2,
   "metadata": {
    "collapsed": false
   },
   "outputs": [
    {
     "name": "stderr",
     "output_type": "stream",
     "text": [
      "DEBUG:toyplot:build formatting model: <Element 'body' at 0x10cae2b10>\n",
      "DEBUG:toyplot:build formatting model: <Element 'i' at 0x10cae2b50>\n",
      "DEBUG:toyplot:build formatting model: <Element 'b' at 0x10cae2b90>\n",
      "DEBUG:toyplot:build formatting model: <Element 'br' at 0x10cae2bd0>\n",
      "DEBUG:toyplot:build formatting model: <Element 'code' at 0x10cae2c10>\n",
      "DEBUG:toyplot:create lines\n",
      "DEBUG:toyplot:compute size: <toyplot.text.Layout object at 0x1030304d0>\n",
      "DEBUG:toyplot:compute size: <toyplot.text.LineBox object at 0x105749990>\n",
      "DEBUG:toyplot:compute size: <toyplot.text.TextBox object at 0x10a771910>\n",
      "DEBUG:toyplot:compute size: <toyplot.text.TextBox object at 0x10cae2dd0>\n",
      "DEBUG:toyplot:compute size: <toyplot.text.TextBox object at 0x10cae2e10>\n",
      "DEBUG:toyplot:compute size: <toyplot.text.TextBox object at 0x10cae2e90>\n",
      "DEBUG:toyplot:compute size: <toyplot.text.TextBox object at 0x10cae2ed0>\n",
      "DEBUG:toyplot:compute size: <toyplot.text.LineBox object at 0x10ca7d0d0>\n",
      "DEBUG:toyplot:compute size: <toyplot.text.TextBox object at 0x10cae2f90>\n",
      "DEBUG:toyplot:compute size: <toyplot.text.TextBox object at 0x10cae2f10>\n",
      "DEBUG:toyplot:compute size: <toyplot.text.TextBox object at 0x10ca7d050>\n"
     ]
    }
   ],
   "source": [
    "text = \"This is <i>italic</i>, <b>bold</b>,<br/>and <code>preformatted</code> text!\"\n",
    "style = {\"font-family\":\"helvetica\", \"font-size\":\"16px\"}\n",
    "fonts = toyplot.font.ReportlabLibrary()\n",
    "\n",
    "layout = toyplot.text.layout(text=text, style=style, fonts=fonts)"
   ]
  },
  {
   "cell_type": "code",
   "execution_count": 3,
   "metadata": {
    "collapsed": false
   },
   "outputs": [
    {
     "name": "stdout",
     "output_type": "stream",
     "text": [
      "toyplot.text.Layout 156.528x38.4\n",
      "  toyplot.text.LineBox 126.256x19.2\n",
      "    toyplot.text.TextBox 'This is ' 50.672x19.2\n",
      "    toyplot.text.TextBox 'italic' 32.0x19.2\n",
      "    toyplot.text.TextBox ', ' 8.896x19.2\n",
      "    toyplot.text.TextBox 'bold' 30.24x19.2\n",
      "    toyplot.text.TextBox ',' 4.448x19.2\n",
      "  toyplot.text.LineBox 156.528x19.2\n",
      "    toyplot.text.TextBox 'and ' 31.136x19.2\n",
      "    toyplot.text.TextBox 'preformatted' 90.704x19.2\n",
      "    toyplot.text.TextBox ' text!' 34.688x19.2\n"
     ]
    }
   ],
   "source": [
    "toyplot.text.dump(layout, size=True, style=False)"
   ]
  },
  {
   "cell_type": "code",
   "execution_count": 4,
   "metadata": {
    "collapsed": false
   },
   "outputs": [
    {
     "name": "stdout",
     "output_type": "stream",
     "text": [
      "<toyplot.text.TextBox object at 0x10a771910>\n",
      "<toyplot.text.TextBox object at 0x10cae2dd0>\n",
      "<toyplot.text.TextBox object at 0x10cae2e10>\n",
      "<toyplot.text.TextBox object at 0x10cae2e90>\n",
      "<toyplot.text.TextBox object at 0x10cae2ed0>\n",
      "<toyplot.text.TextBox object at 0x10cae2f90>\n",
      "<toyplot.text.TextBox object at 0x10cae2f10>\n",
      "<toyplot.text.TextBox object at 0x10ca7d050>\n"
     ]
    },
    {
     "data": {
      "image/svg+xml": [
       "<svg height=\"48\" style=\"border: 1px solid #f0f0f0\" width=\"166\"><rect fill=\"lightgray\" height=\"19.2\" stroke=\"gray\" width=\"50.672\" x=\"0\" y=\"0\"/><text fill=\"black\" stroke=\"none\" style=\"font-family:helvetica;font-size:16.0;line-height:19.2;vertical-align:baseline;white-space:pre\" x=\"0\" y=\"17.0\">This is </text><rect fill=\"lightgray\" height=\"19.2\" stroke=\"gray\" width=\"32.0\" x=\"50.672\" y=\"0\"/><text fill=\"black\" stroke=\"none\" style=\"font-family:helvetica;font-size:16.0;line-height:19.2;vertical-align:baseline;white-space:pre\" x=\"50.672\" y=\"17.0\">italic</text><rect fill=\"lightgray\" height=\"19.2\" stroke=\"gray\" width=\"8.896\" x=\"82.672\" y=\"0\"/><text fill=\"black\" stroke=\"none\" style=\"font-family:helvetica;font-size:16.0;line-height:19.2;vertical-align:baseline;white-space:pre\" x=\"82.672\" y=\"17.0\">, </text><rect fill=\"lightgray\" height=\"19.2\" stroke=\"gray\" width=\"30.24\" x=\"91.568\" y=\"0\"/><text fill=\"black\" stroke=\"none\" style=\"font-family:helvetica;font-size:16.0;line-height:19.2;vertical-align:baseline;white-space:pre\" x=\"91.568\" y=\"17.0\">bold</text><rect fill=\"lightgray\" height=\"19.2\" stroke=\"gray\" width=\"4.448\" x=\"121.808\" y=\"0\"/><text fill=\"black\" stroke=\"none\" style=\"font-family:helvetica;font-size:16.0;line-height:19.2;vertical-align:baseline;white-space:pre\" x=\"121.808\" y=\"17.0\">,</text><rect fill=\"lightgray\" height=\"19.2\" stroke=\"gray\" width=\"31.136\" x=\"0\" y=\"19.2\"/><text fill=\"black\" stroke=\"none\" style=\"font-family:helvetica;font-size:16.0;line-height:19.2;vertical-align:baseline;white-space:pre\" x=\"0\" y=\"36.2\">and </text><rect fill=\"lightgray\" height=\"19.2\" stroke=\"gray\" width=\"90.704\" x=\"31.136\" y=\"19.2\"/><text fill=\"black\" stroke=\"none\" style=\"font-family:helvetica;font-size:16.0;line-height:19.2;vertical-align:baseline;white-space:pre\" x=\"31.136\" y=\"36.2\">preformatted</text><rect fill=\"lightgray\" height=\"19.2\" stroke=\"gray\" width=\"34.688\" x=\"121.84\" y=\"19.2\"/><text fill=\"black\" stroke=\"none\" style=\"font-family:helvetica;font-size:16.0;line-height:19.2;vertical-align:baseline;white-space:pre\" x=\"121.84\" y=\"36.2\"> text!</text></svg>"
      ],
      "text/plain": [
       "<IPython.core.display.SVG object>"
      ]
     },
     "execution_count": 4,
     "metadata": {},
     "output_type": "execute_result"
    }
   ],
   "source": [
    "def draw(box, image):\n",
    "    if isinstance(box, toyplot.text.TextBox):\n",
    "        print box\n",
    "        xml.SubElement(\n",
    "            image,\n",
    "            \"rect\",\n",
    "            x=str(box.left),\n",
    "            y=str(box.top),\n",
    "            width=str(box.content_width),\n",
    "            height=str(box.content_height),\n",
    "            fill=\"lightgray\",\n",
    "            stroke=\"gray\",\n",
    "        )\n",
    "        \n",
    "        baseline_offset = (box.style[\"line-height\"] - box.text_height) * 0.5\n",
    "        #print baseline_offset\n",
    "        #baseline_offset=0\n",
    "        \n",
    "        style = toyplot.style.combine(\n",
    "            box.style,\n",
    "            {\"white-space\":\"pre\"},\n",
    "        )\n",
    "        \n",
    "        xml.SubElement(\n",
    "            image,\n",
    "            \"text\",\n",
    "            x=str(box.left),\n",
    "            y=str(box.bottom - baseline_offset),\n",
    "            fill=\"black\",\n",
    "            stroke=\"none\",\n",
    "            style=toyplot.style.to_css(style),\n",
    "        ).text = box.text\n",
    "        \n",
    "    for child in box.children:\n",
    "        draw(child, image)\n",
    "\n",
    "image = xml.Element(\n",
    "    \"svg\",\n",
    "    width=str(int(layout.content_width+10)),\n",
    "    height=str(int(layout.content_height+10)),\n",
    "    style=\"border: 1px solid #f0f0f0\",\n",
    ")\n",
    "draw(layout, image)\n",
    "IPython.display.SVG(xml.tostring(image))"
   ]
  },
  {
   "cell_type": "code",
   "execution_count": 6,
   "metadata": {
    "collapsed": false
   },
   "outputs": [
    {
     "data": {
      "text/html": [
       "This is <i>italic</i>, <b>bold</b>,<br/>and <code>preformatted</code> text!"
      ],
      "text/plain": [
       "<IPython.core.display.HTML object>"
      ]
     },
     "execution_count": 6,
     "metadata": {},
     "output_type": "execute_result"
    }
   ],
   "source": [
    "IPython.display.HTML(text)"
   ]
  },
  {
   "cell_type": "code",
   "execution_count": null,
   "metadata": {
    "collapsed": true
   },
   "outputs": [],
   "source": []
  }
 ],
 "metadata": {
  "anaconda-cloud": {},
  "kernelspec": {
   "display_name": "Python [default]",
   "language": "python",
   "name": "python2"
  },
  "language_info": {
   "codemirror_mode": {
    "name": "ipython",
    "version": 2
   },
   "file_extension": ".py",
   "mimetype": "text/x-python",
   "name": "python",
   "nbconvert_exporter": "python",
   "pygments_lexer": "ipython2",
   "version": "2.7.12"
  }
 },
 "nbformat": 4,
 "nbformat_minor": 1
}

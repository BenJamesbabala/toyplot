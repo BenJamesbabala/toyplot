{
 "cells": [
  {
   "cell_type": "markdown",
   "metadata": {},
   "source": [
    "Needs to be implemented:\n",
    "\n",
    "* baseline\n",
    "* -toyplot-text-anchor-shift\n",
    "* vertically center on first line of text?"
   ]
  },
  {
   "cell_type": "code",
   "execution_count": 6,
   "metadata": {
    "collapsed": false
   },
   "outputs": [],
   "source": [
    "from PIL import Image, ImageDraw\n",
    "\n",
    "import toyplot.font\n",
    "import toyplot.text\n",
    "\n",
    "import IPython.display\n",
    "\n",
    "import xml.etree.ElementTree as xml\n",
    "import sys\n",
    "import logging\n",
    "logging.basicConfig(level=logging.DEBUG)\n",
    "toyplot.log.setLevel(logging.DEBUG)"
   ]
  },
  {
   "cell_type": "code",
   "execution_count": 7,
   "metadata": {
    "collapsed": false
   },
   "outputs": [],
   "source": [
    "#text = \"<span>This is <i>italic</i>, <b>bold</b>,<br/><code>monospace</code>, <small>small</small>,<br/><sup>superscript</sup> and <sub>subscript</sub> text<br/>for your amusement!</span>\"\n",
    "text = \"Hello\"\n",
    "style = {\"font-family\":\"helvetica\", \"font-size\":\"16px\"}\n",
    "fonts = toyplot.font.ReportlabLibrary()\n",
    "\n",
    "layout = toyplot.text.layout(text=text, style=style, fonts=fonts)"
   ]
  },
  {
   "cell_type": "code",
   "execution_count": 8,
   "metadata": {
    "collapsed": false,
    "scrolled": false
   },
   "outputs": [
    {
     "name": "stdout",
     "output_type": "stream",
     "text": [
      "toyplot.text.Layout\n",
      "    size: 36.448 x 19.2\n",
      "  toyplot.text.LineBox\n",
      "    location: -18.224, -9.6\n",
      "    size: 36.448 x 19.2\n",
      "    toyplot.text.TextBox\n",
      "      location: -18.224, -9.6\n",
      "      size: 36.448 x 19.2\n",
      "      text: 'Hello'\n",
      "      style:\n",
      "        font-size: 16.0\n",
      "        vertical-align: baseline\n",
      "        font-family: helvetica\n",
      "        line-height: 19.2\n"
     ]
    }
   ],
   "source": [
    "toyplot.text.dump(layout, size=False, style=True)"
   ]
  },
  {
   "cell_type": "code",
   "execution_count": 9,
   "metadata": {
    "collapsed": false
   },
   "outputs": [
    {
     "data": {
      "image/svg+xml": [
       "<svg height=\"48\" style=\"border: 1px solid #f0f0f0\" width=\"82\"><g transform=\"translate(41.448 24.2)\"><circle cx=\"0\" cy=\"0\" fill=\"black\" r=\"2\" stroke=\"none\"/><text fill=\"black\" stroke=\"none\" style=\"font-family:helvetica;font-size:16.0;line-height:19.2;vertical-align:baseline;white-space:pre\" x=\"-18.224\" y=\"7.4\">Hello</text></g></svg>"
      ],
      "text/plain": [
       "<IPython.core.display.SVG object>"
      ]
     },
     "execution_count": 9,
     "metadata": {},
     "output_type": "execute_result"
    }
   ],
   "source": [
    "def draw(box, image):\n",
    "#    if isinstance(box, toyplot.text.LineBox):\n",
    "#        xml.SubElement(\n",
    "#            image,\n",
    "#            \"rect\",\n",
    "#            x=str(box.left),\n",
    "#            y=str(box.top),\n",
    "#            width=str(box.width),\n",
    "#            height=str(box.height),\n",
    "#            fill=\"ivory\",\n",
    "#            stroke=\"lightgray\",\n",
    "#        )\n",
    "        \n",
    "    if isinstance(box, toyplot.text.TextBox):\n",
    "#        xml.SubElement(\n",
    "#            image,\n",
    "#            \"rect\",\n",
    "#            x=str(box.left),\n",
    "#            y=str(box.top),\n",
    "#            width=str(box.width),\n",
    "#            height=str(box.height),\n",
    "#            fill=\"none\",\n",
    "#            stroke=\"lightgray\",\n",
    "#        )\n",
    "        \n",
    "        baseline_offset = box.baseline\n",
    "        \n",
    "#        xml.SubElement(\n",
    "#            image,\n",
    "#            \"line\",\n",
    "#            x1=str(box.left),\n",
    "#            y1=str(box.bottom - baseline_offset),\n",
    "#            x2=str(box.right),\n",
    "#            y2=str(box.bottom - baseline_offset),\n",
    "#            stroke=\"gray\")\n",
    "        \n",
    "        style = toyplot.style.combine(\n",
    "            box.style,\n",
    "            {\"white-space\":\"pre\"},\n",
    "        )\n",
    "       \n",
    "#        print \"%r %r\" % (box, box.style)\n",
    "    \n",
    "        xml.SubElement(\n",
    "            image,\n",
    "            \"text\",\n",
    "            x=str(box.left),\n",
    "            y=str(box.bottom - baseline_offset),\n",
    "            fill=\"black\",\n",
    "            stroke=\"none\",\n",
    "            style=toyplot.style.to_css(style),\n",
    "        ).text = box.text\n",
    "        \n",
    "    for child in box.children:\n",
    "        draw(child, image)\n",
    "\n",
    "image = xml.Element(\n",
    "    \"svg\",\n",
    "    width=str(int(layout.width*2 + 10)),\n",
    "    height=str(int(layout.height*2 + 10)),\n",
    "    style=\"border: 1px solid #f0f0f0\",\n",
    ")\n",
    "group = xml.SubElement(\n",
    "    image,\n",
    "    \"g\",\n",
    "    transform=\"translate(%s %s)\" % (layout.width + 5, layout.height + 5),\n",
    ")\n",
    "xml.SubElement(\n",
    "    group,\n",
    "    \"circle\",\n",
    "    cx=\"0\",\n",
    "    cy=\"0\",\n",
    "    r=\"2\",\n",
    "    fill=\"black\",\n",
    "    stroke=\"none\",\n",
    ")\n",
    "draw(layout, group)\n",
    "IPython.display.SVG(xml.tostring(image))"
   ]
  },
  {
   "cell_type": "code",
   "execution_count": 10,
   "metadata": {
    "collapsed": false
   },
   "outputs": [
    {
     "data": {
      "text/html": [
       "<span style='text-anchor: middle; font-family: helvetica; font-size: 16px'>Hello</span>"
      ],
      "text/plain": [
       "<IPython.core.display.HTML object>"
      ]
     },
     "execution_count": 10,
     "metadata": {},
     "output_type": "execute_result"
    }
   ],
   "source": [
    "IPython.display.HTML(\"<span style='text-anchor: middle; font-family: helvetica; font-size: 16px'>%s</span>\" % text)"
   ]
  }
 ],
 "metadata": {
  "anaconda-cloud": {},
  "kernelspec": {
   "display_name": "Python [default]",
   "language": "python",
   "name": "python2"
  },
  "language_info": {
   "codemirror_mode": {
    "name": "ipython",
    "version": 2
   },
   "file_extension": ".py",
   "mimetype": "text/x-python",
   "name": "python",
   "nbconvert_exporter": "python",
   "pygments_lexer": "ipython2",
   "version": "2.7.12"
  }
 },
 "nbformat": 4,
 "nbformat_minor": 1
}

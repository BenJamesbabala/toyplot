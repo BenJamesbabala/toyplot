{
 "cells": [
  {
   "cell_type": "code",
   "execution_count": 1,
   "metadata": {
    "collapsed": true
   },
   "outputs": [],
   "source": [
    "from PIL import Image, ImageDraw\n",
    "\n",
    "import toyplot.font\n",
    "import toyplot.text\n",
    "\n",
    "import IPython.display\n",
    "\n",
    "import xml.etree.ElementTree as xml"
   ]
  },
  {
   "cell_type": "code",
   "execution_count": 2,
   "metadata": {
    "collapsed": false
   },
   "outputs": [
    {
     "name": "stdout",
     "output_type": "stream",
     "text": [
      "<toyplot.text.BlockBox {'font-size': 16.0, 'font-family': 'helvetica'} (0,0) 80.048x14.8>\n",
      "  <toyplot.text.TextBox {'font-size': 16.0, 'font-family': 'helvetica'} (0,0) 26.688x14.8 'foo '>\n",
      "  <toyplot.text.InlineBox {'font-size': 16.0, 'font-family': 'helvetica'} (26.688,0) 23.12x14.8>\n",
      "    <toyplot.text.TextBox {'font-size': 16.0, 'font-family': 'helvetica'} (26.688,0) 23.12x14.8 'bar'>\n",
      "  <toyplot.text.TextBox {'font-size': 16.0, 'font-family': 'helvetica'} (49.808,0) 30.24x14.8 ' baz'>\n"
     ]
    }
   ],
   "source": [
    "text = \"foo <span>bar</span> baz\"\n",
    "style = {\"font-family\":\"helvetica\", \"font-size\":16}\n",
    "fonts = toyplot.font.ReportlabLibrary()\n",
    "\n",
    "layout = toyplot.text.layout(text=text, style=style, fonts=fonts)\n",
    "toyplot.text.dump(layout)"
   ]
  },
  {
   "cell_type": "code",
   "execution_count": 3,
   "metadata": {
    "collapsed": false
   },
   "outputs": [
    {
     "name": "stdout",
     "output_type": "stream",
     "text": [
      "<toyplot.text.TextBox {'font-size': 16.0, 'font-family': 'helvetica'} (0,0) 26.688x14.8 'foo '>\n",
      "<toyplot.text.TextBox {'font-size': 16.0, 'font-family': 'helvetica'} (26.688,0) 23.12x14.8 'bar'>\n",
      "<toyplot.text.TextBox {'font-size': 16.0, 'font-family': 'helvetica'} (49.808,0) 30.24x14.8 ' baz'>\n"
     ]
    },
    {
     "data": {
      "image/svg+xml": [
       "<svg height=\"15.8\" style=\"background: #f0f0f0\" width=\"81.048\"><rect fill=\"none\" height=\"14.8\" stroke=\"black\" width=\"26.688\" x=\"0\" y=\"0\"/><text fill=\"black\" stroke=\"none\" x=\"0\" y=\"14.8\">foo </text><rect fill=\"none\" height=\"14.8\" stroke=\"black\" width=\"23.12\" x=\"26.688\" y=\"0\"/><text fill=\"black\" stroke=\"none\" x=\"26.688\" y=\"14.8\">bar</text><rect fill=\"none\" height=\"14.8\" stroke=\"black\" width=\"30.24\" x=\"49.808\" y=\"0\"/><text fill=\"black\" stroke=\"none\" x=\"49.808\" y=\"14.8\"> baz</text></svg>"
      ],
      "text/plain": [
       "<IPython.core.display.SVG object>"
      ]
     },
     "execution_count": 3,
     "metadata": {},
     "output_type": "execute_result"
    }
   ],
   "source": [
    "def draw(box, image):\n",
    "    if isinstance(box, toyplot.text.TextBox):\n",
    "        print box\n",
    "        xml.SubElement(\n",
    "            image,\n",
    "            \"rect\",\n",
    "            x=str(box.left),\n",
    "            y=str(box.top),\n",
    "            width=str(box.content_width),\n",
    "            height=str(box.content_height),\n",
    "            fill=\"none\",\n",
    "            stroke=\"black\",\n",
    "        )\n",
    "        xml.SubElement(\n",
    "            image,\n",
    "            \"text\",\n",
    "            x=str(box.left),\n",
    "            y=str(box.bottom),\n",
    "            fill=\"black\",\n",
    "            stroke=\"none\",\n",
    "        ).text = box.text\n",
    "        \n",
    "    for child in box.children:\n",
    "        draw(child, image)\n",
    "\n",
    "image = xml.Element(\n",
    "    \"svg\",\n",
    "    width=str(layout.content_width+1),\n",
    "    height=str(layout.content_height+1),\n",
    "    style=\"background: #f0f0f0\",\n",
    ")\n",
    "draw(layout, image)\n",
    "IPython.display.SVG(xml.tostring(image))"
   ]
  }
 ],
 "metadata": {
  "anaconda-cloud": {},
  "kernelspec": {
   "display_name": "Python [default]",
   "language": "python",
   "name": "python2"
  },
  "language_info": {
   "codemirror_mode": {
    "name": "ipython",
    "version": 2
   },
   "file_extension": ".py",
   "mimetype": "text/x-python",
   "name": "python",
   "nbconvert_exporter": "python",
   "pygments_lexer": "ipython2",
   "version": "2.7.12"
  }
 },
 "nbformat": 4,
 "nbformat_minor": 1
}

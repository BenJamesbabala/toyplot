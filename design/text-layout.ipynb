{
 "cells": [
  {
   "cell_type": "markdown",
   "metadata": {},
   "source": [
    "Needs to be implemented:\n",
    "\n",
    "* baseline\n",
    "* baseline-shift\n",
    "* text-anchor\n",
    "* -toyplot-text-anchor-shift"
   ]
  },
  {
   "cell_type": "code",
   "execution_count": 1,
   "metadata": {
    "collapsed": false
   },
   "outputs": [],
   "source": [
    "from PIL import Image, ImageDraw\n",
    "\n",
    "import toyplot.font\n",
    "import toyplot.text\n",
    "\n",
    "import IPython.display\n",
    "\n",
    "import xml.etree.ElementTree as xml\n",
    "import sys\n",
    "import logging\n",
    "logging.basicConfig(level=logging.DEBUG)\n",
    "toyplot.log.setLevel(logging.DEBUG)"
   ]
  },
  {
   "cell_type": "code",
   "execution_count": 2,
   "metadata": {
    "collapsed": false
   },
   "outputs": [],
   "source": [
    "text = \"<span style=''>This is <i>italic</i>, <b>bold</b>,<br/><code>monospace</code>, <small>small</small>,<br/><sup>superscript</sup> and <sub>subscript</sub> text<br/>for your amusement!</span>\"\n",
    "style = {\"font-family\":\"helvetica\", \"font-size\":\"16px\"}\n",
    "fonts = toyplot.font.ReportlabLibrary()\n",
    "\n",
    "layout = toyplot.text.layout(text=text, style=style, fonts=fonts)"
   ]
  },
  {
   "cell_type": "code",
   "execution_count": 3,
   "metadata": {
    "collapsed": false,
    "scrolled": false
   },
   "outputs": [
    {
     "name": "stdout",
     "output_type": "stream",
     "text": [
      "toyplot.text.Layout\n",
      "  location: 0, 0\n",
      "  size: 165.4032 x 76.8\n",
      "  toyplot.text.LineBox\n",
      "    location: 0, 0\n",
      "    size: 129.792 x 19.2\n",
      "    toyplot.text.TextBox\n",
      "      location: 0, 0\n",
      "      size: 50.672 x 19.2\n",
      "      text: 'This is '\n",
      "      style:\n",
      "        font-size: 16.0\n",
      "        font-family: helvetica\n",
      "        vertical-align: baseline\n",
      "        line-height: 19.2\n",
      "    toyplot.text.TextBox\n",
      "      location: 50.672, 0\n",
      "      size: 32.0 x 19.2\n",
      "      text: 'italic'\n",
      "      style:\n",
      "        font-size: 16.0\n",
      "        vertical-align: baseline\n",
      "        font-style: italic\n",
      "        font-family: helvetica\n",
      "        line-height: 19.2\n",
      "    toyplot.text.TextBox\n",
      "      location: 82.672, 0\n",
      "      size: 8.896 x 19.2\n",
      "      text: ', '\n",
      "      style:\n",
      "        font-size: 16.0\n",
      "        font-family: helvetica\n",
      "        vertical-align: baseline\n",
      "        line-height: 19.2\n",
      "    toyplot.text.TextBox\n",
      "      location: 91.568, 0\n",
      "      size: 33.776 x 19.2\n",
      "      text: 'bold'\n",
      "      style:\n",
      "        font-size: 16.0\n",
      "        font-family: helvetica\n",
      "        vertical-align: baseline\n",
      "        font-weight: bold\n",
      "        line-height: 19.2\n",
      "    toyplot.text.TextBox\n",
      "      location: 125.344, 0\n",
      "      size: 4.448 x 19.2\n",
      "      text: ','\n",
      "      style:\n",
      "        font-size: 16.0\n",
      "        font-family: helvetica\n",
      "        vertical-align: baseline\n",
      "        line-height: 19.2\n",
      "  toyplot.text.LineBox\n",
      "    location: 0, 19.2\n",
      "    size: 129.6064 x 19.2\n",
      "    toyplot.text.TextBox\n",
      "      location: 0, 19.2\n",
      "      size: 86.4 x 19.2\n",
      "      text: 'monospace'\n",
      "      style:\n",
      "        vertical-align: baseline\n",
      "        font-size: 16.0\n",
      "        font-family: monospace\n",
      "        line-height: 19.2\n",
      "    toyplot.text.TextBox\n",
      "      location: 86.4, 19.2\n",
      "      size: 8.896 x 19.2\n",
      "      text: ', '\n",
      "      style:\n",
      "        font-size: 16.0\n",
      "        font-family: helvetica\n",
      "        vertical-align: baseline\n",
      "        line-height: 19.2\n",
      "    toyplot.text.TextBox\n",
      "      location: 95.296, 19.2\n",
      "      size: 29.8624 x 15.36\n",
      "      text: 'small'\n",
      "      style:\n",
      "        font-size: 12.8\n",
      "        font-family: helvetica\n",
      "        vertical-align: baseline\n",
      "        line-height: 15.36\n",
      "    toyplot.text.TextBox\n",
      "      location: 125.1584, 19.2\n",
      "      size: 4.448 x 19.2\n",
      "      text: ','\n",
      "      style:\n",
      "        font-size: 16.0\n",
      "        font-family: helvetica\n",
      "        vertical-align: baseline\n",
      "        line-height: 19.2\n",
      "  toyplot.text.LineBox\n",
      "    location: 0, 38.4\n",
      "    size: 165.4032 x 19.2\n",
      "    toyplot.text.TextBox\n",
      "      location: 0, 38.4\n",
      "      size: 54.768 x 13.44\n",
      "      text: 'superscript'\n",
      "      style:\n",
      "        font-size: 11.2\n",
      "        font-family: helvetica\n",
      "        vertical-align: baseline\n",
      "        line-height: 13.44\n",
      "    toyplot.text.TextBox\n",
      "      location: 54.768, 38.4\n",
      "      size: 35.584 x 19.2\n",
      "      text: ' and '\n",
      "      style:\n",
      "        font-size: 16.0\n",
      "        font-family: helvetica\n",
      "        vertical-align: baseline\n",
      "        line-height: 19.2\n",
      "    toyplot.text.TextBox\n",
      "      location: 90.352, 38.4\n",
      "      size: 44.8112 x 13.44\n",
      "      text: 'subscript'\n",
      "      style:\n",
      "        font-size: 11.2\n",
      "        font-family: helvetica\n",
      "        vertical-align: baseline\n",
      "        line-height: 13.44\n",
      "    toyplot.text.TextBox\n",
      "      location: 135.1632, 38.4\n",
      "      size: 30.24 x 19.2\n",
      "      text: ' text'\n",
      "      style:\n",
      "        font-size: 16.0\n",
      "        font-family: helvetica\n",
      "        vertical-align: baseline\n",
      "        line-height: 19.2\n",
      "  toyplot.text.LineBox\n",
      "    location: 0, 57.6\n",
      "    size: 146.72 x 19.2\n",
      "    toyplot.text.TextBox\n",
      "      location: 0, 57.6\n",
      "      size: 146.72 x 19.2\n",
      "      text: 'for your amusement!'\n",
      "      style:\n",
      "        font-size: 16.0\n",
      "        font-family: helvetica\n",
      "        vertical-align: baseline\n",
      "        line-height: 19.2\n"
     ]
    }
   ],
   "source": [
    "toyplot.text.dump(layout, size=False, style=True)"
   ]
  },
  {
   "cell_type": "code",
   "execution_count": 4,
   "metadata": {
    "collapsed": false
   },
   "outputs": [
    {
     "data": {
      "image/svg+xml": [
       "<svg height=\"81\" style=\"border: 1px solid #f0f0f0\" width=\"170\"><text fill=\"black\" stroke=\"none\" style=\"font-family:helvetica;font-size:16.0;line-height:19.2;vertical-align:baseline;white-space:pre\" x=\"0\" y=\"17.0\">This is </text><text fill=\"black\" stroke=\"none\" style=\"font-family:helvetica;font-size:16.0;font-style:italic;line-height:19.2;vertical-align:baseline;white-space:pre\" x=\"50.672\" y=\"17.0\">italic</text><text fill=\"black\" stroke=\"none\" style=\"font-family:helvetica;font-size:16.0;line-height:19.2;vertical-align:baseline;white-space:pre\" x=\"82.672\" y=\"17.0\">, </text><text fill=\"black\" stroke=\"none\" style=\"font-family:helvetica;font-size:16.0;font-weight:bold;line-height:19.2;vertical-align:baseline;white-space:pre\" x=\"91.568\" y=\"17.0\">bold</text><text fill=\"black\" stroke=\"none\" style=\"font-family:helvetica;font-size:16.0;line-height:19.2;vertical-align:baseline;white-space:pre\" x=\"125.344\" y=\"17.0\">,</text><text fill=\"black\" stroke=\"none\" style=\"font-family:monospace;font-size:16.0;line-height:19.2;vertical-align:baseline;white-space:pre\" x=\"0\" y=\"36.64\">monospace</text><text fill=\"black\" stroke=\"none\" style=\"font-family:helvetica;font-size:16.0;line-height:19.2;vertical-align:baseline;white-space:pre\" x=\"86.4\" y=\"36.64\">, </text><text fill=\"black\" stroke=\"none\" style=\"font-family:helvetica;font-size:12.8;line-height:15.36;vertical-align:baseline;white-space:pre\" x=\"95.296\" y=\"36.64\">small</text><text fill=\"black\" stroke=\"none\" style=\"font-family:helvetica;font-size:16.0;line-height:19.2;vertical-align:baseline;white-space:pre\" x=\"125.1584\" y=\"36.64\">,</text><text fill=\"black\" stroke=\"none\" style=\"font-family:helvetica;font-size:11.2;line-height:13.44;vertical-align:baseline;white-space:pre\" x=\"0\" y=\"52.7\">superscript</text><text fill=\"black\" stroke=\"none\" style=\"font-family:helvetica;font-size:16.0;line-height:19.2;vertical-align:baseline;white-space:pre\" x=\"54.768\" y=\"56.06\"> and </text><text fill=\"black\" stroke=\"none\" style=\"font-family:helvetica;font-size:11.2;line-height:13.44;vertical-align:baseline;white-space:pre\" x=\"90.352\" y=\"58.3\">subscript</text><text fill=\"black\" stroke=\"none\" style=\"font-family:helvetica;font-size:16.0;line-height:19.2;vertical-align:baseline;white-space:pre\" x=\"135.1632\" y=\"56.06\"> text</text><text fill=\"black\" stroke=\"none\" style=\"font-family:helvetica;font-size:16.0;line-height:19.2;vertical-align:baseline;white-space:pre\" x=\"0\" y=\"74.6\">for your amusement!</text></svg>"
      ],
      "text/plain": [
       "<IPython.core.display.SVG object>"
      ]
     },
     "execution_count": 4,
     "metadata": {},
     "output_type": "execute_result"
    }
   ],
   "source": [
    "def draw(box, image):\n",
    "#    if isinstance(box, toyplot.text.LineBox):\n",
    "#        xml.SubElement(\n",
    "#            image,\n",
    "#            \"rect\",\n",
    "#            x=str(box.left),\n",
    "#            y=str(box.top),\n",
    "#            width=str(box.width),\n",
    "#            height=str(box.height),\n",
    "#            fill=\"ivory\",\n",
    "#            stroke=\"lightgray\",\n",
    "#        )\n",
    "        \n",
    "    if isinstance(box, toyplot.text.TextBox):\n",
    "#        xml.SubElement(\n",
    "#            image,\n",
    "#            \"rect\",\n",
    "#            x=str(box.left),\n",
    "#            y=str(box.top),\n",
    "#            width=str(box.width),\n",
    "#            height=str(box.height),\n",
    "#            fill=\"none\",\n",
    "#            stroke=\"lightgray\",\n",
    "#        )\n",
    "        \n",
    "        baseline_offset = box.baseline\n",
    "        \n",
    "#        xml.SubElement(\n",
    "#            image,\n",
    "#            \"line\",\n",
    "#            x1=str(box.left),\n",
    "#            y1=str(box.bottom - baseline_offset),\n",
    "#            x2=str(box.right),\n",
    "#            y2=str(box.bottom - baseline_offset),\n",
    "#            stroke=\"gray\")\n",
    "        \n",
    "        style = toyplot.style.combine(\n",
    "            box.style,\n",
    "            {\"white-space\":\"pre\"},\n",
    "        )\n",
    "       \n",
    "#        print \"%r %r\" % (box, box.style)\n",
    "    \n",
    "        xml.SubElement(\n",
    "            image,\n",
    "            \"text\",\n",
    "            x=str(box.left),\n",
    "            y=str(box.bottom - baseline_offset),\n",
    "            fill=\"black\",\n",
    "            stroke=\"none\",\n",
    "            style=toyplot.style.to_css(style),\n",
    "        ).text = box.text\n",
    "        \n",
    "    for child in box.children:\n",
    "        draw(child, image)\n",
    "\n",
    "image = xml.Element(\n",
    "    \"svg\",\n",
    "    width=str(int(layout.width+5)),\n",
    "    height=str(int(layout.height+5)),\n",
    "    style=\"border: 1px solid #f0f0f0\",\n",
    ")\n",
    "draw(layout, image)\n",
    "IPython.display.SVG(xml.tostring(image))"
   ]
  },
  {
   "cell_type": "code",
   "execution_count": 5,
   "metadata": {
    "collapsed": false
   },
   "outputs": [
    {
     "data": {
      "text/html": [
       "<span style='text-anchor: middle; font-family: helvetica; font-size: 16px'><span style=''>This is <i>italic</i>, <b>bold</b>,<br/><code>monospace</code>, <small>small</small>,<br/><sup>superscript</sup> and <sub>subscript</sub> text<br/>for your amusement!</span></span>"
      ],
      "text/plain": [
       "<IPython.core.display.HTML object>"
      ]
     },
     "execution_count": 5,
     "metadata": {},
     "output_type": "execute_result"
    }
   ],
   "source": [
    "IPython.display.HTML(\"<span style='text-anchor: middle; font-family: helvetica; font-size: 16px'>%s</span>\" % text)"
   ]
  }
 ],
 "metadata": {
  "anaconda-cloud": {},
  "kernelspec": {
   "display_name": "Python [default]",
   "language": "python",
   "name": "python2"
  },
  "language_info": {
   "codemirror_mode": {
    "name": "ipython",
    "version": 2
   },
   "file_extension": ".py",
   "mimetype": "text/x-python",
   "name": "python",
   "nbconvert_exporter": "python",
   "pygments_lexer": "ipython2",
   "version": "2.7.12"
  }
 },
 "nbformat": 4,
 "nbformat_minor": 1
}

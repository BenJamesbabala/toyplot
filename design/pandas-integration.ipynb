{
 "cells": [
  {
   "cell_type": "code",
   "execution_count": 13,
   "metadata": {
    "collapsed": false
   },
   "outputs": [
    {
     "data": {
      "text/html": [
       "<table class=\"toyplot-data-Table\" style=\"border-collapse:collapse; border:none; color: #292724\"><tr style=\"border:none;border-bottom:1px solid #292724\"><th style=\"text-align:left;border:none;padding-right:1em;\">STATION</th><th style=\"text-align:left;border:none;padding-right:1em;\">STATION_NAME</th><th style=\"text-align:left;border:none;padding-right:1em;\">DATE</th><th style=\"text-align:left;border:none;padding-right:1em;\">TMAX</th><th style=\"text-align:left;border:none;padding-right:1em;\">TMIN</th><th style=\"text-align:left;border:none;padding-right:1em;\">TOBS</th></tr><tr style=\"border:none\"><td style=\"border:none;padding-right:1em;\">GHCND:USC00294366</td><td style=\"border:none;padding-right:1em;\">JEMEZ DAM NM US</td><td style=\"border:none;padding-right:1em;\">20130101</td><td style=\"border:none;padding-right:1em;\">39</td><td style=\"border:none;padding-right:1em;\">-72</td><td style=\"border:none;padding-right:1em;\">-67</td></tr><tr style=\"border:none\"><td style=\"border:none;padding-right:1em;\">GHCND:USC00294366</td><td style=\"border:none;padding-right:1em;\">JEMEZ DAM NM US</td><td style=\"border:none;padding-right:1em;\">20130102</td><td style=\"border:none;padding-right:1em;\">0</td><td style=\"border:none;padding-right:1em;\">-133</td><td style=\"border:none;padding-right:1em;\">-133</td></tr><tr style=\"border:none\"><td style=\"border:none;padding-right:1em;\">GHCND:USC00294366</td><td style=\"border:none;padding-right:1em;\">JEMEZ DAM NM US</td><td style=\"border:none;padding-right:1em;\">20130103</td><td style=\"border:none;padding-right:1em;\">11</td><td style=\"border:none;padding-right:1em;\">-139</td><td style=\"border:none;padding-right:1em;\">-89</td></tr><tr style=\"border:none\"><td style=\"border:none;padding-right:1em;\">GHCND:USC00294366</td><td style=\"border:none;padding-right:1em;\">JEMEZ DAM NM US</td><td style=\"border:none;padding-right:1em;\">20130104</td><td style=\"border:none;padding-right:1em;\">11</td><td style=\"border:none;padding-right:1em;\">-139</td><td style=\"border:none;padding-right:1em;\">-89</td></tr><tr style=\"border:none\"><td style=\"border:none;padding-right:1em;\">GHCND:USC00294366</td><td style=\"border:none;padding-right:1em;\">JEMEZ DAM NM US</td><td style=\"border:none;padding-right:1em;\">20130105</td><td style=\"border:none;padding-right:1em;\">22</td><td style=\"border:none;padding-right:1em;\">-144</td><td style=\"border:none;padding-right:1em;\">-111</td></tr></table>"
      ],
      "text/plain": [
       "<toyplot.data.Table at 0x10a0f2310>"
      ]
     },
     "execution_count": 13,
     "metadata": {},
     "output_type": "execute_result"
    }
   ],
   "source": [
    "import pandas\n",
    "df = pandas.read_csv(\"../docs/temperatures.csv\")\n",
    "\n",
    "import toyplot.data\n",
    "toyplot.data.Table(df)[0:5]"
   ]
  },
  {
   "cell_type": "code",
   "execution_count": 14,
   "metadata": {
    "collapsed": false
   },
   "outputs": [
    {
     "data": {
      "text/plain": [
       "1"
      ]
     },
     "execution_count": 14,
     "metadata": {},
     "output_type": "execute_result"
    }
   ],
   "source": [
    "df.index.nlevels"
   ]
  },
  {
   "cell_type": "code",
   "execution_count": 17,
   "metadata": {
    "collapsed": false
   },
   "outputs": [
    {
     "data": {
      "text/plain": [
       "array([  0,   1,   2,   3,   4,   5,   6,   7,   8,   9,  10,  11,  12,\n",
       "        13,  14,  15,  16,  17,  18,  19,  20,  21,  22,  23,  24,  25,\n",
       "        26,  27,  28,  29,  30,  31,  32,  33,  34,  35,  36,  37,  38,\n",
       "        39,  40,  41,  42,  43,  44,  45,  46,  47,  48,  49,  50,  51,\n",
       "        52,  53,  54,  55,  56,  57,  58,  59,  60,  61,  62,  63,  64,\n",
       "        65,  66,  67,  68,  69,  70,  71,  72,  73,  74,  75,  76,  77,\n",
       "        78,  79,  80,  81,  82,  83,  84,  85,  86,  87,  88,  89,  90,\n",
       "        91,  92,  93,  94,  95,  96,  97,  98,  99, 100, 101, 102, 103,\n",
       "       104, 105, 106, 107, 108, 109, 110, 111, 112, 113, 114, 115, 116,\n",
       "       117, 118, 119, 120, 121, 122, 123, 124, 125, 126, 127, 128, 129,\n",
       "       130, 131, 132, 133, 134, 135, 136, 137, 138, 139, 140, 141, 142,\n",
       "       143, 144, 145, 146, 147, 148, 149, 150, 151, 152, 153, 154, 155,\n",
       "       156, 157, 158, 159, 160, 161, 162, 163, 164, 165, 166, 167, 168,\n",
       "       169, 170, 171, 172, 173, 174, 175, 176, 177, 178, 179, 180, 181,\n",
       "       182, 183, 184, 185, 186, 187, 188, 189, 190, 191, 192, 193, 194,\n",
       "       195, 196, 197, 198, 199, 200, 201, 202, 203, 204, 205, 206, 207,\n",
       "       208, 209, 210, 211, 212, 213, 214, 215, 216, 217, 218, 219, 220,\n",
       "       221, 222, 223, 224, 225, 226, 227, 228, 229, 230, 231, 232, 233,\n",
       "       234, 235, 236, 237, 238, 239, 240, 241, 242, 243, 244, 245, 246,\n",
       "       247, 248, 249, 250, 251, 252, 253, 254, 255, 256, 257, 258, 259,\n",
       "       260, 261, 262, 263, 264, 265, 266, 267, 268, 269, 270, 271, 272,\n",
       "       273, 274, 275, 276, 277, 278, 279, 280, 281, 282, 283, 284, 285,\n",
       "       286, 287, 288, 289, 290, 291, 292, 293, 294, 295, 296, 297, 298,\n",
       "       299, 300, 301, 302, 303, 304, 305, 306, 307, 308, 309, 310, 311,\n",
       "       312, 313, 314, 315, 316, 317, 318, 319, 320, 321, 322, 323, 324,\n",
       "       325, 326, 327, 328, 329, 330, 331, 332, 333, 334, 335, 336, 337,\n",
       "       338, 339, 340, 341, 342, 343, 344, 345, 346, 347, 348, 349, 350,\n",
       "       351, 352, 353, 354, 355, 356, 357, 358, 359, 360, 361])"
      ]
     },
     "execution_count": 17,
     "metadata": {},
     "output_type": "execute_result"
    }
   ],
   "source": [
    "df.index.values"
   ]
  },
  {
   "cell_type": "code",
   "execution_count": 18,
   "metadata": {
    "collapsed": false
   },
   "outputs": [],
   "source": [
    "import numpy\n",
    "arrays = [numpy.array([\"foo\", \"foo\", \"bar\", \"bar\"]), numpy.array([\"one\", \"two\", \"one\", \"two\"])]"
   ]
  },
  {
   "cell_type": "code",
   "execution_count": 19,
   "metadata": {
    "collapsed": false
   },
   "outputs": [],
   "source": [
    "df = pandas.DataFrame(numpy.random.randn(4, 4), index=arrays)"
   ]
  },
  {
   "cell_type": "code",
   "execution_count": 20,
   "metadata": {
    "collapsed": false
   },
   "outputs": [
    {
     "data": {
      "text/html": [
       "<div>\n",
       "<table border=\"1\" class=\"dataframe\">\n",
       "  <thead>\n",
       "    <tr style=\"text-align: right;\">\n",
       "      <th></th>\n",
       "      <th></th>\n",
       "      <th>0</th>\n",
       "      <th>1</th>\n",
       "      <th>2</th>\n",
       "      <th>3</th>\n",
       "    </tr>\n",
       "  </thead>\n",
       "  <tbody>\n",
       "    <tr>\n",
       "      <th rowspan=\"2\" valign=\"top\">foo</th>\n",
       "      <th>one</th>\n",
       "      <td>-0.609509</td>\n",
       "      <td>-0.168482</td>\n",
       "      <td>0.699341</td>\n",
       "      <td>-0.117500</td>\n",
       "    </tr>\n",
       "    <tr>\n",
       "      <th>two</th>\n",
       "      <td>0.093364</td>\n",
       "      <td>1.578350</td>\n",
       "      <td>0.851568</td>\n",
       "      <td>-0.547220</td>\n",
       "    </tr>\n",
       "    <tr>\n",
       "      <th rowspan=\"2\" valign=\"top\">bar</th>\n",
       "      <th>one</th>\n",
       "      <td>-0.915367</td>\n",
       "      <td>-2.044669</td>\n",
       "      <td>-0.133032</td>\n",
       "      <td>-0.003998</td>\n",
       "    </tr>\n",
       "    <tr>\n",
       "      <th>two</th>\n",
       "      <td>0.396832</td>\n",
       "      <td>0.123982</td>\n",
       "      <td>-0.421118</td>\n",
       "      <td>-0.787139</td>\n",
       "    </tr>\n",
       "  </tbody>\n",
       "</table>\n",
       "</div>"
      ],
      "text/plain": [
       "                0         1         2         3\n",
       "foo one -0.609509 -0.168482  0.699341 -0.117500\n",
       "    two  0.093364  1.578350  0.851568 -0.547220\n",
       "bar one -0.915367 -2.044669 -0.133032 -0.003998\n",
       "    two  0.396832  0.123982 -0.421118 -0.787139"
      ]
     },
     "execution_count": 20,
     "metadata": {},
     "output_type": "execute_result"
    }
   ],
   "source": [
    "df"
   ]
  },
  {
   "cell_type": "code",
   "execution_count": 21,
   "metadata": {
    "collapsed": false
   },
   "outputs": [
    {
     "data": {
      "text/plain": [
       "MultiIndex(levels=[[u'bar', u'foo'], [u'one', u'two']],\n",
       "           labels=[[1, 1, 0, 0], [0, 1, 0, 1]])"
      ]
     },
     "execution_count": 21,
     "metadata": {},
     "output_type": "execute_result"
    }
   ],
   "source": [
    "df.index"
   ]
  },
  {
   "cell_type": "code",
   "execution_count": 22,
   "metadata": {
    "collapsed": false
   },
   "outputs": [
    {
     "data": {
      "text/plain": [
       "2"
      ]
     },
     "execution_count": 22,
     "metadata": {},
     "output_type": "execute_result"
    }
   ],
   "source": [
    "df.index.nlevels"
   ]
  },
  {
   "cell_type": "code",
   "execution_count": 23,
   "metadata": {
    "collapsed": false
   },
   "outputs": [
    {
     "data": {
      "text/plain": [
       "array([('foo', 'one'), ('foo', 'two'), ('bar', 'one'), ('bar', 'two')], dtype=object)"
      ]
     },
     "execution_count": 23,
     "metadata": {},
     "output_type": "execute_result"
    }
   ],
   "source": [
    "df.index.values"
   ]
  },
  {
   "cell_type": "code",
   "execution_count": 26,
   "metadata": {
    "collapsed": false
   },
   "outputs": [
    {
     "data": {
      "text/plain": [
       "array(['one', 'two', 'one', 'two'], dtype=object)"
      ]
     },
     "execution_count": 26,
     "metadata": {},
     "output_type": "execute_result"
    }
   ],
   "source": [
    "numpy.array(df.index.get_level_values(1))"
   ]
  },
  {
   "cell_type": "code",
   "execution_count": null,
   "metadata": {
    "collapsed": true
   },
   "outputs": [],
   "source": []
  }
 ],
 "metadata": {
  "kernelspec": {
   "display_name": "Python 2",
   "language": "python",
   "name": "python2"
  },
  "language_info": {
   "codemirror_mode": {
    "name": "ipython",
    "version": 2
   },
   "file_extension": ".py",
   "mimetype": "text/x-python",
   "name": "python",
   "nbconvert_exporter": "python",
   "pygments_lexer": "ipython2",
   "version": "2.7.11"
  }
 },
 "nbformat": 4,
 "nbformat_minor": 0
}

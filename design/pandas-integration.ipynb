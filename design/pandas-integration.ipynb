{
 "cells": [
  {
   "cell_type": "code",
   "execution_count": 1,
   "metadata": {
    "collapsed": false
   },
   "outputs": [
    {
     "data": {
      "text/html": [
       "<table class=\"toyplot-data-Table\" style=\"border-collapse:collapse; border:none; color: #292724\"><tr style=\"border:none;border-bottom:1px solid #292724\"><th style=\"text-align:left;border:none;padding-right:1em;\">STATION</th><th style=\"text-align:left;border:none;padding-right:1em;\">STATION_NAME</th><th style=\"text-align:left;border:none;padding-right:1em;\">DATE</th><th style=\"text-align:left;border:none;padding-right:1em;\">TMAX</th><th style=\"text-align:left;border:none;padding-right:1em;\">TMIN</th><th style=\"text-align:left;border:none;padding-right:1em;\">TOBS</th></tr><tr style=\"border:none\"><td style=\"border:none;padding-right:1em;\">GHCND:USC00294366</td><td style=\"border:none;padding-right:1em;\">JEMEZ DAM NM US</td><td style=\"border:none;padding-right:1em;\">20130101</td><td style=\"border:none;padding-right:1em;\">39</td><td style=\"border:none;padding-right:1em;\">-72</td><td style=\"border:none;padding-right:1em;\">-67</td></tr><tr style=\"border:none\"><td style=\"border:none;padding-right:1em;\">GHCND:USC00294366</td><td style=\"border:none;padding-right:1em;\">JEMEZ DAM NM US</td><td style=\"border:none;padding-right:1em;\">20130102</td><td style=\"border:none;padding-right:1em;\">0</td><td style=\"border:none;padding-right:1em;\">-133</td><td style=\"border:none;padding-right:1em;\">-133</td></tr><tr style=\"border:none\"><td style=\"border:none;padding-right:1em;\">GHCND:USC00294366</td><td style=\"border:none;padding-right:1em;\">JEMEZ DAM NM US</td><td style=\"border:none;padding-right:1em;\">20130103</td><td style=\"border:none;padding-right:1em;\">11</td><td style=\"border:none;padding-right:1em;\">-139</td><td style=\"border:none;padding-right:1em;\">-89</td></tr><tr style=\"border:none\"><td style=\"border:none;padding-right:1em;\">GHCND:USC00294366</td><td style=\"border:none;padding-right:1em;\">JEMEZ DAM NM US</td><td style=\"border:none;padding-right:1em;\">20130104</td><td style=\"border:none;padding-right:1em;\">11</td><td style=\"border:none;padding-right:1em;\">-139</td><td style=\"border:none;padding-right:1em;\">-89</td></tr><tr style=\"border:none\"><td style=\"border:none;padding-right:1em;\">GHCND:USC00294366</td><td style=\"border:none;padding-right:1em;\">JEMEZ DAM NM US</td><td style=\"border:none;padding-right:1em;\">20130105</td><td style=\"border:none;padding-right:1em;\">22</td><td style=\"border:none;padding-right:1em;\">-144</td><td style=\"border:none;padding-right:1em;\">-111</td></tr></table>"
      ],
      "text/plain": [
       "<toyplot.data.Table at 0x10a18a910>"
      ]
     },
     "execution_count": 1,
     "metadata": {},
     "output_type": "execute_result"
    }
   ],
   "source": [
    "import pandas\n",
    "df = pandas.read_csv(\"../docs/temperatures.csv\")\n",
    "\n",
    "import toyplot.data\n",
    "toyplot.data.Table(df)[:5]"
   ]
  },
  {
   "cell_type": "code",
   "execution_count": 2,
   "metadata": {
    "collapsed": false,
    "scrolled": true
   },
   "outputs": [
    {
     "name": "stderr",
     "output_type": "stream",
     "text": [
      "WARNING:toyplot:Altering duplicate column names to make them unique.\n"
     ]
    },
    {
     "data": {
      "text/html": [
       "<table class=\"toyplot-data-Table\" style=\"border-collapse:collapse; border:none; color: #292724\"><tr style=\"border:none;border-bottom:1px solid #292724\"><th style=\"text-align:left;border:none;padding-right:1em;\">STATION</th><th style=\"text-align:left;border:none;padding-right:1em;\">DATE</th><th style=\"text-align:left;border:none;padding-right:1em;\">STATION-1</th><th style=\"text-align:left;border:none;padding-right:1em;\">DATE-1</th><th style=\"text-align:left;border:none;padding-right:1em;\">DATE-2</th></tr><tr style=\"border:none\"><td style=\"border:none;padding-right:1em;\">GHCND:USC00294366</td><td style=\"border:none;padding-right:1em;\">20130101</td><td style=\"border:none;padding-right:1em;\">GHCND:USC00294366</td><td style=\"border:none;padding-right:1em;\">20130101</td><td style=\"border:none;padding-right:1em;\">20130101</td></tr><tr style=\"border:none\"><td style=\"border:none;padding-right:1em;\">GHCND:USC00294366</td><td style=\"border:none;padding-right:1em;\">20130102</td><td style=\"border:none;padding-right:1em;\">GHCND:USC00294366</td><td style=\"border:none;padding-right:1em;\">20130102</td><td style=\"border:none;padding-right:1em;\">20130102</td></tr><tr style=\"border:none\"><td style=\"border:none;padding-right:1em;\">GHCND:USC00294366</td><td style=\"border:none;padding-right:1em;\">20130103</td><td style=\"border:none;padding-right:1em;\">GHCND:USC00294366</td><td style=\"border:none;padding-right:1em;\">20130103</td><td style=\"border:none;padding-right:1em;\">20130103</td></tr><tr style=\"border:none\"><td style=\"border:none;padding-right:1em;\">GHCND:USC00294366</td><td style=\"border:none;padding-right:1em;\">20130104</td><td style=\"border:none;padding-right:1em;\">GHCND:USC00294366</td><td style=\"border:none;padding-right:1em;\">20130104</td><td style=\"border:none;padding-right:1em;\">20130104</td></tr><tr style=\"border:none\"><td style=\"border:none;padding-right:1em;\">GHCND:USC00294366</td><td style=\"border:none;padding-right:1em;\">20130105</td><td style=\"border:none;padding-right:1em;\">GHCND:USC00294366</td><td style=\"border:none;padding-right:1em;\">20130105</td><td style=\"border:none;padding-right:1em;\">20130105</td></tr></table>"
      ],
      "text/plain": [
       "<toyplot.data.Table at 0x10a7aae10>"
      ]
     },
     "execution_count": 2,
     "metadata": {},
     "output_type": "execute_result"
    }
   ],
   "source": [
    "toyplot.data.Table(df[[\"STATION\", \"DATE\", \"STATION\", \"DATE\", \"DATE\"]])[:5]"
   ]
  },
  {
   "cell_type": "code",
   "execution_count": 3,
   "metadata": {
    "collapsed": false
   },
   "outputs": [
    {
     "data": {
      "text/html": [
       "<div>\n",
       "<table border=\"1\" class=\"dataframe\">\n",
       "  <thead>\n",
       "    <tr style=\"text-align: right;\">\n",
       "      <th></th>\n",
       "      <th></th>\n",
       "      <th>0</th>\n",
       "      <th>1</th>\n",
       "      <th>2</th>\n",
       "      <th>3</th>\n",
       "    </tr>\n",
       "  </thead>\n",
       "  <tbody>\n",
       "    <tr>\n",
       "      <th rowspan=\"2\" valign=\"top\">foo</th>\n",
       "      <th>one</th>\n",
       "      <td>1.381016</td>\n",
       "      <td>-0.240378</td>\n",
       "      <td>0.351849</td>\n",
       "      <td>1.097984</td>\n",
       "    </tr>\n",
       "    <tr>\n",
       "      <th>two</th>\n",
       "      <td>-1.377057</td>\n",
       "      <td>1.521618</td>\n",
       "      <td>-0.731718</td>\n",
       "      <td>-0.605692</td>\n",
       "    </tr>\n",
       "    <tr>\n",
       "      <th rowspan=\"2\" valign=\"top\">bar</th>\n",
       "      <th>one</th>\n",
       "      <td>0.789869</td>\n",
       "      <td>0.091809</td>\n",
       "      <td>0.306897</td>\n",
       "      <td>-1.811817</td>\n",
       "    </tr>\n",
       "    <tr>\n",
       "      <th>two</th>\n",
       "      <td>-1.091064</td>\n",
       "      <td>-1.015775</td>\n",
       "      <td>1.326394</td>\n",
       "      <td>0.512121</td>\n",
       "    </tr>\n",
       "  </tbody>\n",
       "</table>\n",
       "</div>"
      ],
      "text/plain": [
       "                0         1         2         3\n",
       "foo one  1.381016 -0.240378  0.351849  1.097984\n",
       "    two -1.377057  1.521618 -0.731718 -0.605692\n",
       "bar one  0.789869  0.091809  0.306897 -1.811817\n",
       "    two -1.091064 -1.015775  1.326394  0.512121"
      ]
     },
     "execution_count": 3,
     "metadata": {},
     "output_type": "execute_result"
    }
   ],
   "source": [
    "import numpy\n",
    "arrays = [numpy.array([\"foo\", \"foo\", \"bar\", \"bar\"]), numpy.array([\"one\", \"two\", \"one\", \"two\"])]\n",
    "\n",
    "df = pandas.DataFrame(numpy.random.randn(4, 4), index=arrays)\n",
    "df"
   ]
  },
  {
   "cell_type": "code",
   "execution_count": 4,
   "metadata": {
    "collapsed": false
   },
   "outputs": [
    {
     "data": {
      "text/plain": [
       "MultiIndex(levels=[[u'bar', u'foo'], [u'one', u'two']],\n",
       "           labels=[[1, 1, 0, 0], [0, 1, 0, 1]])"
      ]
     },
     "execution_count": 4,
     "metadata": {},
     "output_type": "execute_result"
    }
   ],
   "source": [
    "df.index"
   ]
  },
  {
   "cell_type": "code",
   "execution_count": 5,
   "metadata": {
    "collapsed": false
   },
   "outputs": [
    {
     "data": {
      "text/plain": [
       "2"
      ]
     },
     "execution_count": 5,
     "metadata": {},
     "output_type": "execute_result"
    }
   ],
   "source": [
    "df.index.nlevels"
   ]
  },
  {
   "cell_type": "code",
   "execution_count": 6,
   "metadata": {
    "collapsed": false
   },
   "outputs": [
    {
     "data": {
      "text/plain": [
       "array([('foo', 'one'), ('foo', 'two'), ('bar', 'one'), ('bar', 'two')], dtype=object)"
      ]
     },
     "execution_count": 6,
     "metadata": {},
     "output_type": "execute_result"
    }
   ],
   "source": [
    "df.index.values"
   ]
  },
  {
   "cell_type": "code",
   "execution_count": 7,
   "metadata": {
    "collapsed": false
   },
   "outputs": [
    {
     "data": {
      "text/plain": [
       "array(['one', 'two', 'one', 'two'], dtype=object)"
      ]
     },
     "execution_count": 7,
     "metadata": {},
     "output_type": "execute_result"
    }
   ],
   "source": [
    "numpy.array(df.index.get_level_values(1))"
   ]
  },
  {
   "cell_type": "code",
   "execution_count": 8,
   "metadata": {
    "collapsed": false
   },
   "outputs": [
    {
     "data": {
      "text/html": [
       "<table class=\"toyplot-data-Table\" style=\"border-collapse:collapse; border:none; color: #292724\"><tr style=\"border:none;border-bottom:1px solid #292724\"><th style=\"text-align:left;border:none;padding-right:1em;\">index0</th><th style=\"text-align:left;border:none;padding-right:1em;\">index1</th><th style=\"text-align:left;border:none;padding-right:1em;\">0</th><th style=\"text-align:left;border:none;padding-right:1em;\">1</th><th style=\"text-align:left;border:none;padding-right:1em;\">2</th><th style=\"text-align:left;border:none;padding-right:1em;\">3</th></tr><tr style=\"border:none\"><td style=\"border:none;padding-right:1em;\">foo</td><td style=\"border:none;padding-right:1em;\">one</td><td style=\"border:none;padding-right:1em;\">1.38101617804</td><td style=\"border:none;padding-right:1em;\">-0.240378409412</td><td style=\"border:none;padding-right:1em;\">0.35184892048</td><td style=\"border:none;padding-right:1em;\">1.09798373914</td></tr><tr style=\"border:none\"><td style=\"border:none;padding-right:1em;\">foo</td><td style=\"border:none;padding-right:1em;\">two</td><td style=\"border:none;padding-right:1em;\">-1.37705698303</td><td style=\"border:none;padding-right:1em;\">1.5216180372</td><td style=\"border:none;padding-right:1em;\">-0.731718415075</td><td style=\"border:none;padding-right:1em;\">-0.605691664175</td></tr><tr style=\"border:none\"><td style=\"border:none;padding-right:1em;\">bar</td><td style=\"border:none;padding-right:1em;\">one</td><td style=\"border:none;padding-right:1em;\">0.78986851376</td><td style=\"border:none;padding-right:1em;\">0.0918086711016</td><td style=\"border:none;padding-right:1em;\">0.306897188825</td><td style=\"border:none;padding-right:1em;\">-1.81181729093</td></tr><tr style=\"border:none\"><td style=\"border:none;padding-right:1em;\">bar</td><td style=\"border:none;padding-right:1em;\">two</td><td style=\"border:none;padding-right:1em;\">-1.09106373533</td><td style=\"border:none;padding-right:1em;\">-1.01577545643</td><td style=\"border:none;padding-right:1em;\">1.32639352599</td><td style=\"border:none;padding-right:1em;\">0.512121289867</td></tr></table>"
      ],
      "text/plain": [
       "<toyplot.data.Table at 0x10a7aa2d0>"
      ]
     },
     "execution_count": 8,
     "metadata": {},
     "output_type": "execute_result"
    }
   ],
   "source": [
    "toyplot.data.Table(df, index=True)"
   ]
  },
  {
   "cell_type": "code",
   "execution_count": null,
   "metadata": {
    "collapsed": true
   },
   "outputs": [],
   "source": []
  }
 ],
 "metadata": {
  "kernelspec": {
   "display_name": "Python 2",
   "language": "python",
   "name": "python2"
  },
  "language_info": {
   "codemirror_mode": {
    "name": "ipython",
    "version": 2
   },
   "file_extension": ".py",
   "mimetype": "text/x-python",
   "name": "python",
   "nbconvert_exporter": "python",
   "pygments_lexer": "ipython2",
   "version": "2.7.11"
  }
 },
 "nbformat": 4,
 "nbformat_minor": 0
}

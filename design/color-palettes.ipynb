{
 "metadata": {
  "name": "",
  "signature": "sha256:3581b00c2756b373551f86348918feb4eda15d376acbd51101ddf148a17ebab3"
 },
 "nbformat": 3,
 "nbformat_minor": 0,
 "worksheets": [
  {
   "cells": [
    {
     "cell_type": "code",
     "collapsed": false,
     "input": [
      "import IPython.display\n",
      "import toyplot.color"
     ],
     "language": "python",
     "metadata": {},
     "outputs": [],
     "prompt_number": 1
    },
    {
     "cell_type": "code",
     "collapsed": false,
     "input": [
      "palettes = [(name, toyplot.color.brewer(name)) for name in toyplot.color.brewer.names() if toyplot.color.brewer.category(name) == \"sequential\"]\n",
      "palettes += [(name, toyplot.color.brewer(name)) for name in toyplot.color.brewer.names() if toyplot.color.brewer.category(name) == \"diverging\"]\n",
      "palettes += [(name, toyplot.color.brewer(name)) for name in toyplot.color.brewer.names() if toyplot.color.brewer.category(name) == \"qualitative\"]"
     ],
     "language": "python",
     "metadata": {},
     "outputs": [],
     "prompt_number": 2
    },
    {
     "cell_type": "code",
     "collapsed": false,
     "input": [
      "for name, palette in palettes:\n",
      "    IPython.display.display_html(IPython.display.HTML(\"<b>%s</b>\" % name))\n",
      "    IPython.display.display(palette)"
     ],
     "language": "python",
     "metadata": {},
     "outputs": [
      {
       "html": [
        "<b>Blues</b>"
       ],
       "metadata": {},
       "output_type": "display_data"
      },
      {
       "html": [
        "<div class=\"toyplot-color-Palette\" style=\"overflow:hidden; height:auto\"><div style=\"float:left;width:20px;height:20px;background-color:rgba(3.14%,18.8%,42%,1)\"></div><div style=\"float:left;width:20px;height:20px;background-color:rgba(3.14%,31.8%,61.2%,1)\"></div><div style=\"float:left;width:20px;height:20px;background-color:rgba(12.9%,44.3%,71%,1)\"></div><div style=\"float:left;width:20px;height:20px;background-color:rgba(25.9%,57.3%,77.6%,1)\"></div><div style=\"float:left;width:20px;height:20px;background-color:rgba(42%,68.2%,83.9%,1)\"></div><div style=\"float:left;width:20px;height:20px;background-color:rgba(62%,79.2%,88.2%,1)\"></div><div style=\"float:left;width:20px;height:20px;background-color:rgba(77.6%,85.9%,93.7%,1)\"></div><div style=\"float:left;width:20px;height:20px;background-color:rgba(87.1%,92.2%,96.9%,1)\"></div><div style=\"float:left;width:20px;height:20px;background-color:rgba(96.9%,98.4%,100%,1)\"></div></div>"
       ],
       "metadata": {},
       "output_type": "display_data",
       "text": [
        "<toyplot.color.Palette at 0x104236910>"
       ]
      },
      {
       "html": [
        "<b>BrOrYl</b>"
       ],
       "metadata": {},
       "output_type": "display_data"
      },
      {
       "html": [
        "<div class=\"toyplot-color-Palette\" style=\"overflow:hidden; height:auto\"><div style=\"float:left;width:20px;height:20px;background-color:rgba(40%,14.5%,2.35%,1)\"></div><div style=\"float:left;width:20px;height:20px;background-color:rgba(60%,20.4%,1.57%,1)\"></div><div style=\"float:left;width:20px;height:20px;background-color:rgba(80%,29.8%,0.784%,1)\"></div><div style=\"float:left;width:20px;height:20px;background-color:rgba(92.5%,43.9%,7.84%,1)\"></div><div style=\"float:left;width:20px;height:20px;background-color:rgba(99.6%,60%,16.1%,1)\"></div><div style=\"float:left;width:20px;height:20px;background-color:rgba(99.6%,76.9%,31%,1)\"></div><div style=\"float:left;width:20px;height:20px;background-color:rgba(99.6%,89%,56.9%,1)\"></div><div style=\"float:left;width:20px;height:20px;background-color:rgba(100%,96.9%,73.7%,1)\"></div><div style=\"float:left;width:20px;height:20px;background-color:rgba(100%,100%,89.8%,1)\"></div></div>"
       ],
       "metadata": {},
       "output_type": "display_data",
       "text": [
        "<toyplot.color.Palette at 0x104236950>"
       ]
      },
      {
       "html": [
        "<b>BuGn</b>"
       ],
       "metadata": {},
       "output_type": "display_data"
      },
      {
       "html": [
        "<div class=\"toyplot-color-Palette\" style=\"overflow:hidden; height:auto\"><div style=\"float:left;width:20px;height:20px;background-color:rgba(3.14%,25.1%,50.6%,1)\"></div><div style=\"float:left;width:20px;height:20px;background-color:rgba(3.14%,40.8%,67.5%,1)\"></div><div style=\"float:left;width:20px;height:20px;background-color:rgba(16.9%,54.9%,74.5%,1)\"></div><div style=\"float:left;width:20px;height:20px;background-color:rgba(30.6%,70.2%,82.7%,1)\"></div><div style=\"float:left;width:20px;height:20px;background-color:rgba(48.2%,80%,76.9%,1)\"></div><div style=\"float:left;width:20px;height:20px;background-color:rgba(65.9%,86.7%,71%,1)\"></div><div style=\"float:left;width:20px;height:20px;background-color:rgba(80%,92.2%,77.3%,1)\"></div><div style=\"float:left;width:20px;height:20px;background-color:rgba(87.8%,95.3%,85.9%,1)\"></div><div style=\"float:left;width:20px;height:20px;background-color:rgba(96.9%,98.8%,94.1%,1)\"></div></div>"
       ],
       "metadata": {},
       "output_type": "display_data",
       "text": [
        "<toyplot.color.Palette at 0x104236990>"
       ]
      },
      {
       "html": [
        "<b>BuGnYl</b>"
       ],
       "metadata": {},
       "output_type": "display_data"
      },
      {
       "html": [
        "<div class=\"toyplot-color-Palette\" style=\"overflow:hidden; height:auto\"><div style=\"float:left;width:20px;height:20px;background-color:rgba(3.14%,11.4%,34.5%,1)\"></div><div style=\"float:left;width:20px;height:20px;background-color:rgba(14.5%,20.4%,58%,1)\"></div><div style=\"float:left;width:20px;height:20px;background-color:rgba(13.3%,36.9%,65.9%,1)\"></div><div style=\"float:left;width:20px;height:20px;background-color:rgba(11.4%,56.9%,75.3%,1)\"></div><div style=\"float:left;width:20px;height:20px;background-color:rgba(25.5%,71.4%,76.9%,1)\"></div><div style=\"float:left;width:20px;height:20px;background-color:rgba(49.8%,80.4%,73.3%,1)\"></div><div style=\"float:left;width:20px;height:20px;background-color:rgba(78%,91.4%,70.6%,1)\"></div><div style=\"float:left;width:20px;height:20px;background-color:rgba(92.9%,97.3%,69.4%,1)\"></div><div style=\"float:left;width:20px;height:20px;background-color:rgba(100%,100%,85.1%,1)\"></div></div>"
       ],
       "metadata": {},
       "output_type": "display_data",
       "text": [
        "<toyplot.color.Palette at 0x1042369d0>"
       ]
      },
      {
       "html": [
        "<b>BuPu</b>"
       ],
       "metadata": {},
       "output_type": "display_data"
      },
      {
       "html": [
        "<div class=\"toyplot-color-Palette\" style=\"overflow:hidden; height:auto\"><div style=\"float:left;width:20px;height:20px;background-color:rgba(0.784%,22%,34.5%,1)\"></div><div style=\"float:left;width:20px;height:20px;background-color:rgba(1.57%,35.3%,55.3%,1)\"></div><div style=\"float:left;width:20px;height:20px;background-color:rgba(1.96%,43.9%,69%,1)\"></div><div style=\"float:left;width:20px;height:20px;background-color:rgba(21.2%,56.5%,75.3%,1)\"></div><div style=\"float:left;width:20px;height:20px;background-color:rgba(45.5%,66.3%,81.2%,1)\"></div><div style=\"float:left;width:20px;height:20px;background-color:rgba(65.1%,74.1%,85.9%,1)\"></div><div style=\"float:left;width:20px;height:20px;background-color:rgba(81.6%,82%,90.2%,1)\"></div><div style=\"float:left;width:20px;height:20px;background-color:rgba(92.5%,90.6%,94.9%,1)\"></div><div style=\"float:left;width:20px;height:20px;background-color:rgba(100%,96.9%,98.4%,1)\"></div></div>"
       ],
       "metadata": {},
       "output_type": "display_data",
       "text": [
        "<toyplot.color.Palette at 0x104236a10>"
       ]
      },
      {
       "html": [
        "<b>GnBu</b>"
       ],
       "metadata": {},
       "output_type": "display_data"
      },
      {
       "html": [
        "<div class=\"toyplot-color-Palette\" style=\"overflow:hidden; height:auto\"><div style=\"float:left;width:20px;height:20px;background-color:rgba(0%,26.7%,10.6%,1)\"></div><div style=\"float:left;width:20px;height:20px;background-color:rgba(0%,42.7%,17.3%,1)\"></div><div style=\"float:left;width:20px;height:20px;background-color:rgba(13.7%,54.5%,27.1%,1)\"></div><div style=\"float:left;width:20px;height:20px;background-color:rgba(25.5%,68.2%,46.3%,1)\"></div><div style=\"float:left;width:20px;height:20px;background-color:rgba(40%,76.1%,64.3%,1)\"></div><div style=\"float:left;width:20px;height:20px;background-color:rgba(60%,84.7%,78.8%,1)\"></div><div style=\"float:left;width:20px;height:20px;background-color:rgba(80%,92.5%,90.2%,1)\"></div><div style=\"float:left;width:20px;height:20px;background-color:rgba(89.8%,96.1%,97.6%,1)\"></div><div style=\"float:left;width:20px;height:20px;background-color:rgba(96.9%,98.8%,99.2%,1)\"></div></div>"
       ],
       "metadata": {},
       "output_type": "display_data",
       "text": [
        "<toyplot.color.Palette at 0x104236a50>"
       ]
      },
      {
       "html": [
        "<b>GnBuPu</b>"
       ],
       "metadata": {},
       "output_type": "display_data"
      },
      {
       "html": [
        "<div class=\"toyplot-color-Palette\" style=\"overflow:hidden; height:auto\"><div style=\"float:left;width:20px;height:20px;background-color:rgba(0.392%,27.5%,21.2%,1)\"></div><div style=\"float:left;width:20px;height:20px;background-color:rgba(0.392%,42.4%,34.9%,1)\"></div><div style=\"float:left;width:20px;height:20px;background-color:rgba(0.784%,50.6%,54.1%,1)\"></div><div style=\"float:left;width:20px;height:20px;background-color:rgba(21.2%,56.5%,75.3%,1)\"></div><div style=\"float:left;width:20px;height:20px;background-color:rgba(40.4%,66.3%,81.2%,1)\"></div><div style=\"float:left;width:20px;height:20px;background-color:rgba(65.1%,74.1%,85.9%,1)\"></div><div style=\"float:left;width:20px;height:20px;background-color:rgba(81.6%,82%,90.2%,1)\"></div><div style=\"float:left;width:20px;height:20px;background-color:rgba(92.5%,88.6%,94.1%,1)\"></div><div style=\"float:left;width:20px;height:20px;background-color:rgba(100%,96.9%,98.4%,1)\"></div></div>"
       ],
       "metadata": {},
       "output_type": "display_data",
       "text": [
        "<toyplot.color.Palette at 0x104236a90>"
       ]
      },
      {
       "html": [
        "<b>GnYl</b>"
       ],
       "metadata": {},
       "output_type": "display_data"
      },
      {
       "html": [
        "<div class=\"toyplot-color-Palette\" style=\"overflow:hidden; height:auto\"><div style=\"float:left;width:20px;height:20px;background-color:rgba(0%,27.1%,16.1%,1)\"></div><div style=\"float:left;width:20px;height:20px;background-color:rgba(0%,40.8%,21.6%,1)\"></div><div style=\"float:left;width:20px;height:20px;background-color:rgba(13.7%,51.8%,26.3%,1)\"></div><div style=\"float:left;width:20px;height:20px;background-color:rgba(25.5%,67.1%,36.5%,1)\"></div><div style=\"float:left;width:20px;height:20px;background-color:rgba(47.1%,77.6%,47.5%,1)\"></div><div style=\"float:left;width:20px;height:20px;background-color:rgba(67.8%,86.7%,55.7%,1)\"></div><div style=\"float:left;width:20px;height:20px;background-color:rgba(85.1%,94.1%,63.9%,1)\"></div><div style=\"float:left;width:20px;height:20px;background-color:rgba(96.9%,98.8%,72.5%,1)\"></div><div style=\"float:left;width:20px;height:20px;background-color:rgba(100%,100%,89.8%,1)\"></div></div>"
       ],
       "metadata": {},
       "output_type": "display_data",
       "text": [
        "<toyplot.color.Palette at 0x104236ad0>"
       ]
      },
      {
       "html": [
        "<b>Greens</b>"
       ],
       "metadata": {},
       "output_type": "display_data"
      },
      {
       "html": [
        "<div class=\"toyplot-color-Palette\" style=\"overflow:hidden; height:auto\"><div style=\"float:left;width:20px;height:20px;background-color:rgba(0%,26.7%,10.6%,1)\"></div><div style=\"float:left;width:20px;height:20px;background-color:rgba(0%,42.7%,17.3%,1)\"></div><div style=\"float:left;width:20px;height:20px;background-color:rgba(13.7%,54.5%,27.1%,1)\"></div><div style=\"float:left;width:20px;height:20px;background-color:rgba(25.5%,67.1%,36.5%,1)\"></div><div style=\"float:left;width:20px;height:20px;background-color:rgba(45.5%,76.9%,46.3%,1)\"></div><div style=\"float:left;width:20px;height:20px;background-color:rgba(63.1%,85.1%,60.8%,1)\"></div><div style=\"float:left;width:20px;height:20px;background-color:rgba(78%,91.4%,75.3%,1)\"></div><div style=\"float:left;width:20px;height:20px;background-color:rgba(89.8%,96.1%,87.8%,1)\"></div><div style=\"float:left;width:20px;height:20px;background-color:rgba(96.9%,98.8%,96.1%,1)\"></div></div>"
       ],
       "metadata": {},
       "output_type": "display_data",
       "text": [
        "<toyplot.color.Palette at 0x104236b10>"
       ]
      },
      {
       "html": [
        "<b>Greys</b>"
       ],
       "metadata": {},
       "output_type": "display_data"
      },
      {
       "html": [
        "<div class=\"toyplot-color-Palette\" style=\"overflow:hidden; height:auto\"><div style=\"float:left;width:20px;height:20px;background-color:rgba(0%,0%,0%,1)\"></div><div style=\"float:left;width:20px;height:20px;background-color:rgba(14.5%,14.5%,14.5%,1)\"></div><div style=\"float:left;width:20px;height:20px;background-color:rgba(32.2%,32.2%,32.2%,1)\"></div><div style=\"float:left;width:20px;height:20px;background-color:rgba(45.1%,45.1%,45.1%,1)\"></div><div style=\"float:left;width:20px;height:20px;background-color:rgba(58.8%,58.8%,58.8%,1)\"></div><div style=\"float:left;width:20px;height:20px;background-color:rgba(74.1%,74.1%,74.1%,1)\"></div><div style=\"float:left;width:20px;height:20px;background-color:rgba(85.1%,85.1%,85.1%,1)\"></div><div style=\"float:left;width:20px;height:20px;background-color:rgba(94.1%,94.1%,94.1%,1)\"></div><div style=\"float:left;width:20px;height:20px;background-color:rgba(100%,100%,100%,1)\"></div></div>"
       ],
       "metadata": {},
       "output_type": "display_data",
       "text": [
        "<toyplot.color.Palette at 0x104236b50>"
       ]
      },
      {
       "html": [
        "<b>Oranges</b>"
       ],
       "metadata": {},
       "output_type": "display_data"
      },
      {
       "html": [
        "<div class=\"toyplot-color-Palette\" style=\"overflow:hidden; height:auto\"><div style=\"float:left;width:20px;height:20px;background-color:rgba(49.8%,15.3%,1.57%,1)\"></div><div style=\"float:left;width:20px;height:20px;background-color:rgba(65.1%,21.2%,1.18%,1)\"></div><div style=\"float:left;width:20px;height:20px;background-color:rgba(85.1%,28.2%,0.392%,1)\"></div><div style=\"float:left;width:20px;height:20px;background-color:rgba(94.5%,41.2%,7.45%,1)\"></div><div style=\"float:left;width:20px;height:20px;background-color:rgba(99.2%,55.3%,23.5%,1)\"></div><div style=\"float:left;width:20px;height:20px;background-color:rgba(99.2%,68.2%,42%,1)\"></div><div style=\"float:left;width:20px;height:20px;background-color:rgba(99.2%,81.6%,63.5%,1)\"></div><div style=\"float:left;width:20px;height:20px;background-color:rgba(99.6%,90.2%,80.8%,1)\"></div><div style=\"float:left;width:20px;height:20px;background-color:rgba(100%,96.1%,92.2%,1)\"></div></div>"
       ],
       "metadata": {},
       "output_type": "display_data",
       "text": [
        "<toyplot.color.Palette at 0x104236b90>"
       ]
      },
      {
       "html": [
        "<b>PuBu</b>"
       ],
       "metadata": {},
       "output_type": "display_data"
      },
      {
       "html": [
        "<div class=\"toyplot-color-Palette\" style=\"overflow:hidden; height:auto\"><div style=\"float:left;width:20px;height:20px;background-color:rgba(30.2%,0%,29.4%,1)\"></div><div style=\"float:left;width:20px;height:20px;background-color:rgba(50.6%,5.88%,48.6%,1)\"></div><div style=\"float:left;width:20px;height:20px;background-color:rgba(53.3%,25.5%,61.6%,1)\"></div><div style=\"float:left;width:20px;height:20px;background-color:rgba(54.9%,42%,69.4%,1)\"></div><div style=\"float:left;width:20px;height:20px;background-color:rgba(54.9%,58.8%,77.6%,1)\"></div><div style=\"float:left;width:20px;height:20px;background-color:rgba(62%,73.7%,85.5%,1)\"></div><div style=\"float:left;width:20px;height:20px;background-color:rgba(74.9%,82.7%,90.2%,1)\"></div><div style=\"float:left;width:20px;height:20px;background-color:rgba(87.8%,92.5%,95.7%,1)\"></div><div style=\"float:left;width:20px;height:20px;background-color:rgba(96.9%,98.8%,99.2%,1)\"></div></div>"
       ],
       "metadata": {},
       "output_type": "display_data",
       "text": [
        "<toyplot.color.Palette at 0x104236bd0>"
       ]
      },
      {
       "html": [
        "<b>PuRd</b>"
       ],
       "metadata": {},
       "output_type": "display_data"
      },
      {
       "html": [
        "<div class=\"toyplot-color-Palette\" style=\"overflow:hidden; height:auto\"><div style=\"float:left;width:20px;height:20px;background-color:rgba(28.6%,0%,41.6%,1)\"></div><div style=\"float:left;width:20px;height:20px;background-color:rgba(47.8%,0.392%,46.7%,1)\"></div><div style=\"float:left;width:20px;height:20px;background-color:rgba(68.2%,0.392%,49.4%,1)\"></div><div style=\"float:left;width:20px;height:20px;background-color:rgba(86.7%,20.4%,59.2%,1)\"></div><div style=\"float:left;width:20px;height:20px;background-color:rgba(96.9%,40.8%,63.1%,1)\"></div><div style=\"float:left;width:20px;height:20px;background-color:rgba(98%,62.4%,71%,1)\"></div><div style=\"float:left;width:20px;height:20px;background-color:rgba(98.8%,77.3%,75.3%,1)\"></div><div style=\"float:left;width:20px;height:20px;background-color:rgba(99.2%,87.8%,86.7%,1)\"></div><div style=\"float:left;width:20px;height:20px;background-color:rgba(100%,96.9%,95.3%,1)\"></div></div>"
       ],
       "metadata": {},
       "output_type": "display_data",
       "text": [
        "<toyplot.color.Palette at 0x104236c10>"
       ]
      },
      {
       "html": [
        "<b>Purples</b>"
       ],
       "metadata": {},
       "output_type": "display_data"
      },
      {
       "html": [
        "<div class=\"toyplot-color-Palette\" style=\"overflow:hidden; height:auto\"><div style=\"float:left;width:20px;height:20px;background-color:rgba(24.7%,0%,49%,1)\"></div><div style=\"float:left;width:20px;height:20px;background-color:rgba(32.9%,15.3%,56.1%,1)\"></div><div style=\"float:left;width:20px;height:20px;background-color:rgba(41.6%,31.8%,63.9%,1)\"></div><div style=\"float:left;width:20px;height:20px;background-color:rgba(50.2%,49%,72.9%,1)\"></div><div style=\"float:left;width:20px;height:20px;background-color:rgba(62%,60.4%,78.4%,1)\"></div><div style=\"float:left;width:20px;height:20px;background-color:rgba(73.7%,74.1%,86.3%,1)\"></div><div style=\"float:left;width:20px;height:20px;background-color:rgba(85.5%,85.5%,92.2%,1)\"></div><div style=\"float:left;width:20px;height:20px;background-color:rgba(93.7%,92.9%,96.1%,1)\"></div><div style=\"float:left;width:20px;height:20px;background-color:rgba(98.8%,98.4%,99.2%,1)\"></div></div>"
       ],
       "metadata": {},
       "output_type": "display_data",
       "text": [
        "<toyplot.color.Palette at 0x104236c50>"
       ]
      },
      {
       "html": [
        "<b>RdOr</b>"
       ],
       "metadata": {},
       "output_type": "display_data"
      },
      {
       "html": [
        "<div class=\"toyplot-color-Palette\" style=\"overflow:hidden; height:auto\"><div style=\"float:left;width:20px;height:20px;background-color:rgba(49.8%,0%,0%,1)\"></div><div style=\"float:left;width:20px;height:20px;background-color:rgba(70.2%,0%,0%,1)\"></div><div style=\"float:left;width:20px;height:20px;background-color:rgba(84.3%,18.8%,12.2%,1)\"></div><div style=\"float:left;width:20px;height:20px;background-color:rgba(93.7%,39.6%,28.2%,1)\"></div><div style=\"float:left;width:20px;height:20px;background-color:rgba(98.8%,55.3%,34.9%,1)\"></div><div style=\"float:left;width:20px;height:20px;background-color:rgba(99.2%,73.3%,51.8%,1)\"></div><div style=\"float:left;width:20px;height:20px;background-color:rgba(99.2%,83.1%,62%,1)\"></div><div style=\"float:left;width:20px;height:20px;background-color:rgba(99.6%,91%,78.4%,1)\"></div><div style=\"float:left;width:20px;height:20px;background-color:rgba(100%,96.9%,92.5%,1)\"></div></div>"
       ],
       "metadata": {},
       "output_type": "display_data",
       "text": [
        "<toyplot.color.Palette at 0x104236c90>"
       ]
      },
      {
       "html": [
        "<b>RdOrYl</b>"
       ],
       "metadata": {},
       "output_type": "display_data"
      },
      {
       "html": [
        "<div class=\"toyplot-color-Palette\" style=\"overflow:hidden; height:auto\"><div style=\"float:left;width:20px;height:20px;background-color:rgba(69.4%,0%,14.9%,1)\"></div><div style=\"float:left;width:20px;height:20px;background-color:rgba(89%,10.2%,11%,1)\"></div><div style=\"float:left;width:20px;height:20px;background-color:rgba(98.8%,30.6%,16.5%,1)\"></div><div style=\"float:left;width:20px;height:20px;background-color:rgba(99.2%,55.3%,23.5%,1)\"></div><div style=\"float:left;width:20px;height:20px;background-color:rgba(99.6%,69.8%,29.8%,1)\"></div><div style=\"float:left;width:20px;height:20px;background-color:rgba(99.6%,85.1%,46.3%,1)\"></div><div style=\"float:left;width:20px;height:20px;background-color:rgba(100%,92.9%,62.7%,1)\"></div><div style=\"float:left;width:20px;height:20px;background-color:rgba(100%,100%,80%,1)\"></div></div>"
       ],
       "metadata": {},
       "output_type": "display_data",
       "text": [
        "<toyplot.color.Palette at 0x104236cd0>"
       ]
      },
      {
       "html": [
        "<b>RdPu</b>"
       ],
       "metadata": {},
       "output_type": "display_data"
      },
      {
       "html": [
        "<div class=\"toyplot-color-Palette\" style=\"overflow:hidden; height:auto\"><div style=\"float:left;width:20px;height:20px;background-color:rgba(40.4%,0%,12.2%,1)\"></div><div style=\"float:left;width:20px;height:20px;background-color:rgba(59.6%,0%,26.3%,1)\"></div><div style=\"float:left;width:20px;height:20px;background-color:rgba(80.8%,7.06%,33.7%,1)\"></div><div style=\"float:left;width:20px;height:20px;background-color:rgba(90.6%,16.1%,54.1%,1)\"></div><div style=\"float:left;width:20px;height:20px;background-color:rgba(87.5%,39.6%,69%,1)\"></div><div style=\"float:left;width:20px;height:20px;background-color:rgba(78.8%,58%,78%,1)\"></div><div style=\"float:left;width:20px;height:20px;background-color:rgba(83.1%,72.5%,85.5%,1)\"></div><div style=\"float:left;width:20px;height:20px;background-color:rgba(90.6%,88.2%,93.7%,1)\"></div><div style=\"float:left;width:20px;height:20px;background-color:rgba(96.9%,95.7%,97.6%,1)\"></div></div>"
       ],
       "metadata": {},
       "output_type": "display_data",
       "text": [
        "<toyplot.color.Palette at 0x104236d10>"
       ]
      },
      {
       "html": [
        "<b>Reds</b>"
       ],
       "metadata": {},
       "output_type": "display_data"
      },
      {
       "html": [
        "<div class=\"toyplot-color-Palette\" style=\"overflow:hidden; height:auto\"><div style=\"float:left;width:20px;height:20px;background-color:rgba(40.4%,0%,5.1%,1)\"></div><div style=\"float:left;width:20px;height:20px;background-color:rgba(64.7%,5.88%,8.24%,1)\"></div><div style=\"float:left;width:20px;height:20px;background-color:rgba(79.6%,9.41%,11.4%,1)\"></div><div style=\"float:left;width:20px;height:20px;background-color:rgba(93.7%,23.1%,17.3%,1)\"></div><div style=\"float:left;width:20px;height:20px;background-color:rgba(98.4%,41.6%,29%,1)\"></div><div style=\"float:left;width:20px;height:20px;background-color:rgba(98.8%,57.3%,44.7%,1)\"></div><div style=\"float:left;width:20px;height:20px;background-color:rgba(98.8%,73.3%,63.1%,1)\"></div><div style=\"float:left;width:20px;height:20px;background-color:rgba(99.6%,87.8%,82.4%,1)\"></div><div style=\"float:left;width:20px;height:20px;background-color:rgba(100%,96.1%,94.1%,1)\"></div></div>"
       ],
       "metadata": {},
       "output_type": "display_data",
       "text": [
        "<toyplot.color.Palette at 0x104236d50>"
       ]
      },
      {
       "html": [
        "<b>BrBG</b>"
       ],
       "metadata": {},
       "output_type": "display_data"
      },
      {
       "html": [
        "<div class=\"toyplot-color-Palette\" style=\"overflow:hidden; height:auto\"><div style=\"float:left;width:20px;height:20px;background-color:rgba(32.9%,18.8%,1.96%,1)\"></div><div style=\"float:left;width:20px;height:20px;background-color:rgba(54.9%,31.8%,3.92%,1)\"></div><div style=\"float:left;width:20px;height:20px;background-color:rgba(74.9%,50.6%,17.6%,1)\"></div><div style=\"float:left;width:20px;height:20px;background-color:rgba(87.5%,76.1%,49%,1)\"></div><div style=\"float:left;width:20px;height:20px;background-color:rgba(96.5%,91%,76.5%,1)\"></div><div style=\"float:left;width:20px;height:20px;background-color:rgba(96.1%,96.1%,96.1%,1)\"></div><div style=\"float:left;width:20px;height:20px;background-color:rgba(78%,91.8%,89.8%,1)\"></div><div style=\"float:left;width:20px;height:20px;background-color:rgba(50.2%,80.4%,75.7%,1)\"></div><div style=\"float:left;width:20px;height:20px;background-color:rgba(20.8%,59.2%,56.1%,1)\"></div><div style=\"float:left;width:20px;height:20px;background-color:rgba(0.392%,40%,36.9%,1)\"></div><div style=\"float:left;width:20px;height:20px;background-color:rgba(0%,23.5%,18.8%,1)\"></div></div>"
       ],
       "metadata": {},
       "output_type": "display_data",
       "text": [
        "<toyplot.color.Palette at 0x104236d90>"
       ]
      },
      {
       "html": [
        "<b>PiYG</b>"
       ],
       "metadata": {},
       "output_type": "display_data"
      },
      {
       "html": [
        "<div class=\"toyplot-color-Palette\" style=\"overflow:hidden; height:auto\"><div style=\"float:left;width:20px;height:20px;background-color:rgba(55.7%,0.392%,32.2%,1)\"></div><div style=\"float:left;width:20px;height:20px;background-color:rgba(77.3%,10.6%,49%,1)\"></div><div style=\"float:left;width:20px;height:20px;background-color:rgba(87.1%,46.7%,68.2%,1)\"></div><div style=\"float:left;width:20px;height:20px;background-color:rgba(94.5%,71.4%,85.5%,1)\"></div><div style=\"float:left;width:20px;height:20px;background-color:rgba(99.2%,87.8%,93.7%,1)\"></div><div style=\"float:left;width:20px;height:20px;background-color:rgba(96.9%,96.9%,96.9%,1)\"></div><div style=\"float:left;width:20px;height:20px;background-color:rgba(90.2%,96.1%,81.6%,1)\"></div><div style=\"float:left;width:20px;height:20px;background-color:rgba(72.2%,88.2%,52.5%,1)\"></div><div style=\"float:left;width:20px;height:20px;background-color:rgba(49.8%,73.7%,25.5%,1)\"></div><div style=\"float:left;width:20px;height:20px;background-color:rgba(30.2%,57.3%,12.9%,1)\"></div><div style=\"float:left;width:20px;height:20px;background-color:rgba(15.3%,39.2%,9.8%,1)\"></div></div>"
       ],
       "metadata": {},
       "output_type": "display_data",
       "text": [
        "<toyplot.color.Palette at 0x104236dd0>"
       ]
      },
      {
       "html": [
        "<b>PuGn</b>"
       ],
       "metadata": {},
       "output_type": "display_data"
      },
      {
       "html": [
        "<div class=\"toyplot-color-Palette\" style=\"overflow:hidden; height:auto\"><div style=\"float:left;width:20px;height:20px;background-color:rgba(25.1%,0%,29.4%,1)\"></div><div style=\"float:left;width:20px;height:20px;background-color:rgba(46.3%,16.5%,51.4%,1)\"></div><div style=\"float:left;width:20px;height:20px;background-color:rgba(60%,43.9%,67.1%,1)\"></div><div style=\"float:left;width:20px;height:20px;background-color:rgba(76.1%,64.7%,81.2%,1)\"></div><div style=\"float:left;width:20px;height:20px;background-color:rgba(90.6%,83.1%,91%,1)\"></div><div style=\"float:left;width:20px;height:20px;background-color:rgba(96.9%,96.9%,96.9%,1)\"></div><div style=\"float:left;width:20px;height:20px;background-color:rgba(85.1%,94.1%,82.7%,1)\"></div><div style=\"float:left;width:20px;height:20px;background-color:rgba(65.1%,85.9%,62.7%,1)\"></div><div style=\"float:left;width:20px;height:20px;background-color:rgba(35.3%,68.2%,38%,1)\"></div><div style=\"float:left;width:20px;height:20px;background-color:rgba(10.6%,47.1%,21.6%,1)\"></div><div style=\"float:left;width:20px;height:20px;background-color:rgba(0%,26.7%,10.6%,1)\"></div></div>"
       ],
       "metadata": {},
       "output_type": "display_data",
       "text": [
        "<toyplot.color.Palette at 0x104236e10>"
       ]
      },
      {
       "html": [
        "<b>PuOr</b>"
       ],
       "metadata": {},
       "output_type": "display_data"
      },
      {
       "html": [
        "<div class=\"toyplot-color-Palette\" style=\"overflow:hidden; height:auto\"><div style=\"float:left;width:20px;height:20px;background-color:rgba(49.8%,23.1%,3.14%,1)\"></div><div style=\"float:left;width:20px;height:20px;background-color:rgba(70.2%,34.5%,2.35%,1)\"></div><div style=\"float:left;width:20px;height:20px;background-color:rgba(87.8%,51%,7.84%,1)\"></div><div style=\"float:left;width:20px;height:20px;background-color:rgba(99.2%,72.2%,38.8%,1)\"></div><div style=\"float:left;width:20px;height:20px;background-color:rgba(99.6%,87.8%,71.4%,1)\"></div><div style=\"float:left;width:20px;height:20px;background-color:rgba(96.9%,96.9%,96.9%,1)\"></div><div style=\"float:left;width:20px;height:20px;background-color:rgba(84.7%,85.5%,92.2%,1)\"></div><div style=\"float:left;width:20px;height:20px;background-color:rgba(69.8%,67.1%,82.4%,1)\"></div><div style=\"float:left;width:20px;height:20px;background-color:rgba(50.2%,45.1%,67.5%,1)\"></div><div style=\"float:left;width:20px;height:20px;background-color:rgba(32.9%,15.3%,53.3%,1)\"></div><div style=\"float:left;width:20px;height:20px;background-color:rgba(17.6%,0%,29.4%,1)\"></div></div>"
       ],
       "metadata": {},
       "output_type": "display_data",
       "text": [
        "<toyplot.color.Palette at 0x104236e50>"
       ]
      },
      {
       "html": [
        "<b>RdBu</b>"
       ],
       "metadata": {},
       "output_type": "display_data"
      },
      {
       "html": [
        "<div class=\"toyplot-color-Palette\" style=\"overflow:hidden; height:auto\"><div style=\"float:left;width:20px;height:20px;background-color:rgba(40.4%,0%,12.2%,1)\"></div><div style=\"float:left;width:20px;height:20px;background-color:rgba(69.8%,9.41%,16.9%,1)\"></div><div style=\"float:left;width:20px;height:20px;background-color:rgba(83.9%,37.6%,30.2%,1)\"></div><div style=\"float:left;width:20px;height:20px;background-color:rgba(95.7%,64.7%,51%,1)\"></div><div style=\"float:left;width:20px;height:20px;background-color:rgba(99.2%,85.9%,78%,1)\"></div><div style=\"float:left;width:20px;height:20px;background-color:rgba(96.9%,96.9%,96.9%,1)\"></div><div style=\"float:left;width:20px;height:20px;background-color:rgba(82%,89.8%,94.1%,1)\"></div><div style=\"float:left;width:20px;height:20px;background-color:rgba(57.3%,77.3%,87.1%,1)\"></div><div style=\"float:left;width:20px;height:20px;background-color:rgba(26.3%,57.6%,76.5%,1)\"></div><div style=\"float:left;width:20px;height:20px;background-color:rgba(12.9%,40%,67.5%,1)\"></div><div style=\"float:left;width:20px;height:20px;background-color:rgba(1.96%,18.8%,38%,1)\"></div></div>"
       ],
       "metadata": {},
       "output_type": "display_data",
       "text": [
        "<toyplot.color.Palette at 0x104236e90>"
       ]
      },
      {
       "html": [
        "<b>RdGy</b>"
       ],
       "metadata": {},
       "output_type": "display_data"
      },
      {
       "html": [
        "<div class=\"toyplot-color-Palette\" style=\"overflow:hidden; height:auto\"><div style=\"float:left;width:20px;height:20px;background-color:rgba(40.4%,0%,12.2%,1)\"></div><div style=\"float:left;width:20px;height:20px;background-color:rgba(69.8%,9.41%,16.9%,1)\"></div><div style=\"float:left;width:20px;height:20px;background-color:rgba(83.9%,37.6%,30.2%,1)\"></div><div style=\"float:left;width:20px;height:20px;background-color:rgba(95.7%,64.7%,51%,1)\"></div><div style=\"float:left;width:20px;height:20px;background-color:rgba(99.2%,85.9%,78%,1)\"></div><div style=\"float:left;width:20px;height:20px;background-color:rgba(100%,100%,100%,1)\"></div><div style=\"float:left;width:20px;height:20px;background-color:rgba(87.8%,87.8%,87.8%,1)\"></div><div style=\"float:left;width:20px;height:20px;background-color:rgba(72.9%,72.9%,72.9%,1)\"></div><div style=\"float:left;width:20px;height:20px;background-color:rgba(52.9%,52.9%,52.9%,1)\"></div><div style=\"float:left;width:20px;height:20px;background-color:rgba(30.2%,30.2%,30.2%,1)\"></div><div style=\"float:left;width:20px;height:20px;background-color:rgba(10.2%,10.2%,10.2%,1)\"></div></div>"
       ],
       "metadata": {},
       "output_type": "display_data",
       "text": [
        "<toyplot.color.Palette at 0x104236ed0>"
       ]
      },
      {
       "html": [
        "<b>RdYlBu</b>"
       ],
       "metadata": {},
       "output_type": "display_data"
      },
      {
       "html": [
        "<div class=\"toyplot-color-Palette\" style=\"overflow:hidden; height:auto\"><div style=\"float:left;width:20px;height:20px;background-color:rgba(64.7%,0%,14.9%,1)\"></div><div style=\"float:left;width:20px;height:20px;background-color:rgba(84.3%,18.8%,15.3%,1)\"></div><div style=\"float:left;width:20px;height:20px;background-color:rgba(95.7%,42.7%,26.3%,1)\"></div><div style=\"float:left;width:20px;height:20px;background-color:rgba(99.2%,68.2%,38%,1)\"></div><div style=\"float:left;width:20px;height:20px;background-color:rgba(99.6%,87.8%,56.5%,1)\"></div><div style=\"float:left;width:20px;height:20px;background-color:rgba(100%,100%,74.9%,1)\"></div><div style=\"float:left;width:20px;height:20px;background-color:rgba(87.8%,95.3%,97.3%,1)\"></div><div style=\"float:left;width:20px;height:20px;background-color:rgba(67.1%,85.1%,91.4%,1)\"></div><div style=\"float:left;width:20px;height:20px;background-color:rgba(45.5%,67.8%,82%,1)\"></div><div style=\"float:left;width:20px;height:20px;background-color:rgba(27.1%,45.9%,70.6%,1)\"></div><div style=\"float:left;width:20px;height:20px;background-color:rgba(19.2%,21.2%,58.4%,1)\"></div></div>"
       ],
       "metadata": {},
       "output_type": "display_data",
       "text": [
        "<toyplot.color.Palette at 0x104236f10>"
       ]
      },
      {
       "html": [
        "<b>RdYlGn</b>"
       ],
       "metadata": {},
       "output_type": "display_data"
      },
      {
       "html": [
        "<div class=\"toyplot-color-Palette\" style=\"overflow:hidden; height:auto\"><div style=\"float:left;width:20px;height:20px;background-color:rgba(64.7%,0%,14.9%,1)\"></div><div style=\"float:left;width:20px;height:20px;background-color:rgba(84.3%,18.8%,15.3%,1)\"></div><div style=\"float:left;width:20px;height:20px;background-color:rgba(95.7%,42.7%,26.3%,1)\"></div><div style=\"float:left;width:20px;height:20px;background-color:rgba(99.2%,68.2%,38%,1)\"></div><div style=\"float:left;width:20px;height:20px;background-color:rgba(99.6%,87.8%,54.5%,1)\"></div><div style=\"float:left;width:20px;height:20px;background-color:rgba(100%,100%,74.9%,1)\"></div><div style=\"float:left;width:20px;height:20px;background-color:rgba(85.1%,93.7%,54.5%,1)\"></div><div style=\"float:left;width:20px;height:20px;background-color:rgba(65.1%,85.1%,41.6%,1)\"></div><div style=\"float:left;width:20px;height:20px;background-color:rgba(40%,74.1%,38.8%,1)\"></div><div style=\"float:left;width:20px;height:20px;background-color:rgba(10.2%,59.6%,31.4%,1)\"></div><div style=\"float:left;width:20px;height:20px;background-color:rgba(0%,40.8%,21.6%,1)\"></div></div>"
       ],
       "metadata": {},
       "output_type": "display_data",
       "text": [
        "<toyplot.color.Palette at 0x104236f50>"
       ]
      },
      {
       "html": [
        "<b>Spectral</b>"
       ],
       "metadata": {},
       "output_type": "display_data"
      },
      {
       "html": [
        "<div class=\"toyplot-color-Palette\" style=\"overflow:hidden; height:auto\"><div style=\"float:left;width:20px;height:20px;background-color:rgba(62%,0.392%,25.9%,1)\"></div><div style=\"float:left;width:20px;height:20px;background-color:rgba(83.5%,24.3%,31%,1)\"></div><div style=\"float:left;width:20px;height:20px;background-color:rgba(95.7%,42.7%,26.3%,1)\"></div><div style=\"float:left;width:20px;height:20px;background-color:rgba(99.2%,68.2%,38%,1)\"></div><div style=\"float:left;width:20px;height:20px;background-color:rgba(99.6%,87.8%,54.5%,1)\"></div><div style=\"float:left;width:20px;height:20px;background-color:rgba(100%,100%,74.9%,1)\"></div><div style=\"float:left;width:20px;height:20px;background-color:rgba(90.2%,96.1%,59.6%,1)\"></div><div style=\"float:left;width:20px;height:20px;background-color:rgba(67.1%,86.7%,64.3%,1)\"></div><div style=\"float:left;width:20px;height:20px;background-color:rgba(40%,76.1%,64.7%,1)\"></div><div style=\"float:left;width:20px;height:20px;background-color:rgba(19.6%,53.3%,74.1%,1)\"></div><div style=\"float:left;width:20px;height:20px;background-color:rgba(36.9%,31%,63.5%,1)\"></div></div>"
       ],
       "metadata": {},
       "output_type": "display_data",
       "text": [
        "<toyplot.color.Palette at 0x104236f90>"
       ]
      },
      {
       "html": [
        "<b>Accent</b>"
       ],
       "metadata": {},
       "output_type": "display_data"
      },
      {
       "html": [
        "<div class=\"toyplot-color-Palette\" style=\"overflow:hidden; height:auto\"><div style=\"float:left;width:20px;height:20px;background-color:rgba(49.8%,78.8%,49.8%,1)\"></div><div style=\"float:left;width:20px;height:20px;background-color:rgba(74.5%,68.2%,83.1%,1)\"></div><div style=\"float:left;width:20px;height:20px;background-color:rgba(99.2%,75.3%,52.5%,1)\"></div><div style=\"float:left;width:20px;height:20px;background-color:rgba(100%,100%,60%,1)\"></div><div style=\"float:left;width:20px;height:20px;background-color:rgba(22%,42.4%,69%,1)\"></div><div style=\"float:left;width:20px;height:20px;background-color:rgba(94.1%,0.784%,49.8%,1)\"></div><div style=\"float:left;width:20px;height:20px;background-color:rgba(74.9%,35.7%,9.02%,1)\"></div><div style=\"float:left;width:20px;height:20px;background-color:rgba(40%,40%,40%,1)\"></div></div>"
       ],
       "metadata": {},
       "output_type": "display_data",
       "text": [
        "<toyplot.color.Palette at 0x104236fd0>"
       ]
      },
      {
       "html": [
        "<b>Dark2</b>"
       ],
       "metadata": {},
       "output_type": "display_data"
      },
      {
       "html": [
        "<div class=\"toyplot-color-Palette\" style=\"overflow:hidden; height:auto\"><div style=\"float:left;width:20px;height:20px;background-color:rgba(10.6%,62%,46.7%,1)\"></div><div style=\"float:left;width:20px;height:20px;background-color:rgba(85.1%,37.3%,0.784%,1)\"></div><div style=\"float:left;width:20px;height:20px;background-color:rgba(45.9%,43.9%,70.2%,1)\"></div><div style=\"float:left;width:20px;height:20px;background-color:rgba(90.6%,16.1%,54.1%,1)\"></div><div style=\"float:left;width:20px;height:20px;background-color:rgba(40%,65.1%,11.8%,1)\"></div><div style=\"float:left;width:20px;height:20px;background-color:rgba(90.2%,67.1%,0.784%,1)\"></div><div style=\"float:left;width:20px;height:20px;background-color:rgba(65.1%,46.3%,11.4%,1)\"></div><div style=\"float:left;width:20px;height:20px;background-color:rgba(40%,40%,40%,1)\"></div></div>"
       ],
       "metadata": {},
       "output_type": "display_data",
       "text": [
        "<toyplot.color.Palette at 0x10423d050>"
       ]
      },
      {
       "html": [
        "<b>Paired</b>"
       ],
       "metadata": {},
       "output_type": "display_data"
      },
      {
       "html": [
        "<div class=\"toyplot-color-Palette\" style=\"overflow:hidden; height:auto\"><div style=\"float:left;width:20px;height:20px;background-color:rgba(65.1%,80.8%,89%,1)\"></div><div style=\"float:left;width:20px;height:20px;background-color:rgba(12.2%,47.1%,70.6%,1)\"></div><div style=\"float:left;width:20px;height:20px;background-color:rgba(69.8%,87.5%,54.1%,1)\"></div><div style=\"float:left;width:20px;height:20px;background-color:rgba(20%,62.7%,17.3%,1)\"></div><div style=\"float:left;width:20px;height:20px;background-color:rgba(98.4%,60.4%,60%,1)\"></div><div style=\"float:left;width:20px;height:20px;background-color:rgba(89%,10.2%,11%,1)\"></div><div style=\"float:left;width:20px;height:20px;background-color:rgba(99.2%,74.9%,43.5%,1)\"></div><div style=\"float:left;width:20px;height:20px;background-color:rgba(100%,49.8%,0%,1)\"></div><div style=\"float:left;width:20px;height:20px;background-color:rgba(79.2%,69.8%,83.9%,1)\"></div><div style=\"float:left;width:20px;height:20px;background-color:rgba(41.6%,23.9%,60.4%,1)\"></div><div style=\"float:left;width:20px;height:20px;background-color:rgba(100%,100%,60%,1)\"></div><div style=\"float:left;width:20px;height:20px;background-color:rgba(69.4%,34.9%,15.7%,1)\"></div></div>"
       ],
       "metadata": {},
       "output_type": "display_data",
       "text": [
        "<toyplot.color.Palette at 0x10423d090>"
       ]
      },
      {
       "html": [
        "<b>Pastel1</b>"
       ],
       "metadata": {},
       "output_type": "display_data"
      },
      {
       "html": [
        "<div class=\"toyplot-color-Palette\" style=\"overflow:hidden; height:auto\"><div style=\"float:left;width:20px;height:20px;background-color:rgba(98.4%,70.6%,68.2%,1)\"></div><div style=\"float:left;width:20px;height:20px;background-color:rgba(70.2%,80.4%,89%,1)\"></div><div style=\"float:left;width:20px;height:20px;background-color:rgba(80%,92.2%,77.3%,1)\"></div><div style=\"float:left;width:20px;height:20px;background-color:rgba(87.1%,79.6%,89.4%,1)\"></div><div style=\"float:left;width:20px;height:20px;background-color:rgba(99.6%,85.1%,65.1%,1)\"></div><div style=\"float:left;width:20px;height:20px;background-color:rgba(100%,100%,80%,1)\"></div><div style=\"float:left;width:20px;height:20px;background-color:rgba(89.8%,84.7%,74.1%,1)\"></div><div style=\"float:left;width:20px;height:20px;background-color:rgba(99.2%,85.5%,92.5%,1)\"></div><div style=\"float:left;width:20px;height:20px;background-color:rgba(94.9%,94.9%,94.9%,1)\"></div></div>"
       ],
       "metadata": {},
       "output_type": "display_data",
       "text": [
        "<toyplot.color.Palette at 0x10423d0d0>"
       ]
      },
      {
       "html": [
        "<b>Pastel2</b>"
       ],
       "metadata": {},
       "output_type": "display_data"
      },
      {
       "html": [
        "<div class=\"toyplot-color-Palette\" style=\"overflow:hidden; height:auto\"><div style=\"float:left;width:20px;height:20px;background-color:rgba(70.2%,88.6%,80.4%,1)\"></div><div style=\"float:left;width:20px;height:20px;background-color:rgba(99.2%,80.4%,67.5%,1)\"></div><div style=\"float:left;width:20px;height:20px;background-color:rgba(79.6%,83.5%,91%,1)\"></div><div style=\"float:left;width:20px;height:20px;background-color:rgba(95.7%,79.2%,89.4%,1)\"></div><div style=\"float:left;width:20px;height:20px;background-color:rgba(90.2%,96.1%,78.8%,1)\"></div><div style=\"float:left;width:20px;height:20px;background-color:rgba(100%,94.9%,68.2%,1)\"></div><div style=\"float:left;width:20px;height:20px;background-color:rgba(94.5%,88.6%,80%,1)\"></div><div style=\"float:left;width:20px;height:20px;background-color:rgba(80%,80%,80%,1)\"></div></div>"
       ],
       "metadata": {},
       "output_type": "display_data",
       "text": [
        "<toyplot.color.Palette at 0x10423d110>"
       ]
      },
      {
       "html": [
        "<b>Set1</b>"
       ],
       "metadata": {},
       "output_type": "display_data"
      },
      {
       "html": [
        "<div class=\"toyplot-color-Palette\" style=\"overflow:hidden; height:auto\"><div style=\"float:left;width:20px;height:20px;background-color:rgba(89.4%,10.2%,11%,1)\"></div><div style=\"float:left;width:20px;height:20px;background-color:rgba(21.6%,49.4%,72.2%,1)\"></div><div style=\"float:left;width:20px;height:20px;background-color:rgba(30.2%,68.6%,29%,1)\"></div><div style=\"float:left;width:20px;height:20px;background-color:rgba(59.6%,30.6%,63.9%,1)\"></div><div style=\"float:left;width:20px;height:20px;background-color:rgba(100%,49.8%,0%,1)\"></div><div style=\"float:left;width:20px;height:20px;background-color:rgba(100%,100%,20%,1)\"></div><div style=\"float:left;width:20px;height:20px;background-color:rgba(65.1%,33.7%,15.7%,1)\"></div><div style=\"float:left;width:20px;height:20px;background-color:rgba(96.9%,50.6%,74.9%,1)\"></div><div style=\"float:left;width:20px;height:20px;background-color:rgba(60%,60%,60%,1)\"></div></div>"
       ],
       "metadata": {},
       "output_type": "display_data",
       "text": [
        "<toyplot.color.Palette at 0x10423d150>"
       ]
      },
      {
       "html": [
        "<b>Set2</b>"
       ],
       "metadata": {},
       "output_type": "display_data"
      },
      {
       "html": [
        "<div class=\"toyplot-color-Palette\" style=\"overflow:hidden; height:auto\"><div style=\"float:left;width:20px;height:20px;background-color:rgba(40%,76.1%,64.7%,1)\"></div><div style=\"float:left;width:20px;height:20px;background-color:rgba(98.8%,55.3%,38.4%,1)\"></div><div style=\"float:left;width:20px;height:20px;background-color:rgba(55.3%,62.7%,79.6%,1)\"></div><div style=\"float:left;width:20px;height:20px;background-color:rgba(90.6%,54.1%,76.5%,1)\"></div><div style=\"float:left;width:20px;height:20px;background-color:rgba(65.1%,84.7%,32.9%,1)\"></div><div style=\"float:left;width:20px;height:20px;background-color:rgba(100%,85.1%,18.4%,1)\"></div><div style=\"float:left;width:20px;height:20px;background-color:rgba(89.8%,76.9%,58%,1)\"></div><div style=\"float:left;width:20px;height:20px;background-color:rgba(70.2%,70.2%,70.2%,1)\"></div></div>"
       ],
       "metadata": {},
       "output_type": "display_data",
       "text": [
        "<toyplot.color.Palette at 0x10423d190>"
       ]
      },
      {
       "html": [
        "<b>Set3</b>"
       ],
       "metadata": {},
       "output_type": "display_data"
      },
      {
       "html": [
        "<div class=\"toyplot-color-Palette\" style=\"overflow:hidden; height:auto\"><div style=\"float:left;width:20px;height:20px;background-color:rgba(55.3%,82.7%,78%,1)\"></div><div style=\"float:left;width:20px;height:20px;background-color:rgba(100%,100%,70.2%,1)\"></div><div style=\"float:left;width:20px;height:20px;background-color:rgba(74.5%,72.9%,85.5%,1)\"></div><div style=\"float:left;width:20px;height:20px;background-color:rgba(98.4%,50.2%,44.7%,1)\"></div><div style=\"float:left;width:20px;height:20px;background-color:rgba(50.2%,69.4%,82.7%,1)\"></div><div style=\"float:left;width:20px;height:20px;background-color:rgba(99.2%,70.6%,38.4%,1)\"></div><div style=\"float:left;width:20px;height:20px;background-color:rgba(70.2%,87.1%,41.2%,1)\"></div><div style=\"float:left;width:20px;height:20px;background-color:rgba(98.8%,80.4%,89.8%,1)\"></div><div style=\"float:left;width:20px;height:20px;background-color:rgba(85.1%,85.1%,85.1%,1)\"></div><div style=\"float:left;width:20px;height:20px;background-color:rgba(73.7%,50.2%,74.1%,1)\"></div><div style=\"float:left;width:20px;height:20px;background-color:rgba(80%,92.2%,77.3%,1)\"></div><div style=\"float:left;width:20px;height:20px;background-color:rgba(100%,92.9%,43.5%,1)\"></div></div>"
       ],
       "metadata": {},
       "output_type": "display_data",
       "text": [
        "<toyplot.color.Palette at 0x10423d1d0>"
       ]
      }
     ],
     "prompt_number": 3
    },
    {
     "cell_type": "code",
     "collapsed": false,
     "input": [],
     "language": "python",
     "metadata": {},
     "outputs": [],
     "prompt_number": 3
    }
   ],
   "metadata": {}
  }
 ]
}
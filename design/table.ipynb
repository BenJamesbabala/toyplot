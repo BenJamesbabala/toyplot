{
 "metadata": {
  "name": "",
  "signature": "sha256:c69b6e42526cf909c60f827a58781fa24d791c8002fce92a71521e0aba93b49f"
 },
 "nbformat": 3,
 "nbformat_minor": 0,
 "worksheets": [
  {
   "cells": [
    {
     "cell_type": "code",
     "collapsed": false,
     "input": [
      "import numpy\n",
      "import toyplot.data"
     ],
     "language": "python",
     "metadata": {},
     "outputs": [],
     "prompt_number": 1
    },
    {
     "cell_type": "code",
     "collapsed": false,
     "input": [
      "table = toyplot.data.Table()\n",
      "table[\"foo\"] = numpy.arange(10)\n",
      "table[\"bar\"] = numpy.random.random(10)\n",
      "table"
     ],
     "language": "python",
     "metadata": {},
     "outputs": [
      {
       "html": [
        "<table style=\"border-collapse:collapse; border:none; color: #292724\"><tr style=\"border:none;border-bottom:1px solid #292724\"><th style=\"text-align:center;border:none\">foo</th><th style=\"text-align:center;border:none\">bar</th></tr><tr style=\"border:none\"><td style=\"border:none\">0</td><td style=\"border:none\">0.0239727108314</td></tr><tr style=\"border:none\"><td style=\"border:none\">1</td><td style=\"border:none\">0.939924296172</td></tr><tr style=\"border:none\"><td style=\"border:none\">2</td><td style=\"border:none\">0.972065162398</td></tr><tr style=\"border:none\"><td style=\"border:none\">3</td><td style=\"border:none\">0.0165816422218</td></tr><tr style=\"border:none\"><td style=\"border:none\">4</td><td style=\"border:none\">0.958172967445</td></tr><tr style=\"border:none\"><td style=\"border:none\">5</td><td style=\"border:none\">0.63093379359</td></tr><tr style=\"border:none\"><td style=\"border:none\">6</td><td style=\"border:none\">0.711905986886</td></tr><tr style=\"border:none\"><td style=\"border:none\">7</td><td style=\"border:none\">0.90909117947</td></tr><tr style=\"border:none\"><td style=\"border:none\">8</td><td style=\"border:none\">0.990812673072</td></tr><tr style=\"border:none\"><td style=\"border:none\">9</td><td style=\"border:none\">0.110144805292</td></tr></table>"
       ],
       "metadata": {},
       "output_type": "pyout",
       "prompt_number": 2,
       "text": [
        "<toyplot.data.Table at 0x10d7f0790>"
       ]
      }
     ],
     "prompt_number": 2
    },
    {
     "cell_type": "code",
     "collapsed": false,
     "input": [
      "table[numpy.argsort(table[\"bar\"])]"
     ],
     "language": "python",
     "metadata": {},
     "outputs": [
      {
       "html": [
        "<table style=\"border-collapse:collapse; border:none; color: #292724\"><tr style=\"border:none;border-bottom:1px solid #292724\"><th style=\"text-align:center;border:none\">foo</th><th style=\"text-align:center;border:none\">bar</th></tr><tr style=\"border:none\"><td style=\"border:none\">3</td><td style=\"border:none\">0.0165816422218</td></tr><tr style=\"border:none\"><td style=\"border:none\">0</td><td style=\"border:none\">0.0239727108314</td></tr><tr style=\"border:none\"><td style=\"border:none\">9</td><td style=\"border:none\">0.110144805292</td></tr><tr style=\"border:none\"><td style=\"border:none\">5</td><td style=\"border:none\">0.63093379359</td></tr><tr style=\"border:none\"><td style=\"border:none\">6</td><td style=\"border:none\">0.711905986886</td></tr><tr style=\"border:none\"><td style=\"border:none\">7</td><td style=\"border:none\">0.90909117947</td></tr><tr style=\"border:none\"><td style=\"border:none\">1</td><td style=\"border:none\">0.939924296172</td></tr><tr style=\"border:none\"><td style=\"border:none\">4</td><td style=\"border:none\">0.958172967445</td></tr><tr style=\"border:none\"><td style=\"border:none\">2</td><td style=\"border:none\">0.972065162398</td></tr><tr style=\"border:none\"><td style=\"border:none\">8</td><td style=\"border:none\">0.990812673072</td></tr></table>"
       ],
       "metadata": {},
       "output_type": "pyout",
       "prompt_number": 3,
       "text": [
        "<toyplot.data.Table at 0x10d3daad0>"
       ]
      }
     ],
     "prompt_number": 3
    },
    {
     "cell_type": "code",
     "collapsed": false,
     "input": [
      "table[0:6:2]"
     ],
     "language": "python",
     "metadata": {},
     "outputs": [
      {
       "html": [
        "<table style=\"border-collapse:collapse; border:none; color: #292724\"><tr style=\"border:none;border-bottom:1px solid #292724\"><th style=\"text-align:center;border:none\">foo</th><th style=\"text-align:center;border:none\">bar</th></tr><tr style=\"border:none\"><td style=\"border:none\">0</td><td style=\"border:none\">0.0239727108314</td></tr><tr style=\"border:none\"><td style=\"border:none\">2</td><td style=\"border:none\">0.972065162398</td></tr><tr style=\"border:none\"><td style=\"border:none\">4</td><td style=\"border:none\">0.958172967445</td></tr></table>"
       ],
       "metadata": {},
       "output_type": "pyout",
       "prompt_number": 4,
       "text": [
        "<toyplot.data.Table at 0x10d7f03d0>"
       ]
      }
     ],
     "prompt_number": 4
    },
    {
     "cell_type": "code",
     "collapsed": false,
     "input": [
      "table[8]"
     ],
     "language": "python",
     "metadata": {},
     "outputs": [
      {
       "html": [
        "<table style=\"border-collapse:collapse; border:none; color: #292724\"><tr style=\"border:none;border-bottom:1px solid #292724\"><th style=\"text-align:center;border:none\">foo</th><th style=\"text-align:center;border:none\">bar</th></tr><tr style=\"border:none\"><td style=\"border:none\">8</td><td style=\"border:none\">0.990812673072</td></tr></table>"
       ],
       "metadata": {},
       "output_type": "pyout",
       "prompt_number": 5,
       "text": [
        "<toyplot.data.Table at 0x10d7f0210>"
       ]
      }
     ],
     "prompt_number": 5
    },
    {
     "cell_type": "code",
     "collapsed": false,
     "input": [
      "table[\"foo\"]"
     ],
     "language": "python",
     "metadata": {},
     "outputs": [
      {
       "metadata": {},
       "output_type": "pyout",
       "prompt_number": 6,
       "text": [
        "masked_array(data = [0 1 2 3 4 5 6 7 8 9],\n",
        "             mask = False,\n",
        "       fill_value = 999999)"
       ]
      }
     ],
     "prompt_number": 6
    }
   ],
   "metadata": {}
  }
 ]
}
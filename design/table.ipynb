{
 "metadata": {
  "name": "",
  "signature": "sha256:9aa27f84360778e2a724901ef263bca00f313b8e8f1da32eab8c6b34dc94eaa8"
 },
 "nbformat": 3,
 "nbformat_minor": 0,
 "worksheets": [
  {
   "cells": [
    {
     "cell_type": "code",
     "collapsed": false,
     "input": [
      "import numpy\n",
      "import toyplot.data"
     ],
     "language": "python",
     "metadata": {},
     "outputs": [],
     "prompt_number": 1
    },
    {
     "cell_type": "code",
     "collapsed": false,
     "input": [
      "table = toyplot.data.Table()\n",
      "table[\"foo\"] = numpy.arange(10)\n",
      "table[\"bar\"] = numpy.random.random(10)\n",
      "table"
     ],
     "language": "python",
     "metadata": {},
     "outputs": [
      {
       "html": [
        "<table style=\"border-collapse:collapse; border:none\"><tr style=\"border:none;border-bottom:1px solid black\"><th style=\"text-align:center;border:none\">foo</th><th style=\"text-align:center;border:none\">bar</th></tr><tr style=\"border:none\"><td style=\"border:none\">0</td><td style=\"border:none\">0.360201466537</td></tr><tr style=\"border:none\"><td style=\"border:none\">1</td><td style=\"border:none\">0.173861168497</td></tr><tr style=\"border:none\"><td style=\"border:none\">2</td><td style=\"border:none\">0.304692676045</td></tr><tr style=\"border:none\"><td style=\"border:none\">3</td><td style=\"border:none\">0.324508751</td></tr><tr style=\"border:none\"><td style=\"border:none\">4</td><td style=\"border:none\">0.82439639472</td></tr><tr style=\"border:none\"><td style=\"border:none\">5</td><td style=\"border:none\">0.373196424107</td></tr><tr style=\"border:none\"><td style=\"border:none\">6</td><td style=\"border:none\">0.171790953809</td></tr><tr style=\"border:none\"><td style=\"border:none\">7</td><td style=\"border:none\">0.253574979474</td></tr><tr style=\"border:none\"><td style=\"border:none\">8</td><td style=\"border:none\">0.293039318049</td></tr><tr style=\"border:none\"><td style=\"border:none\">9</td><td style=\"border:none\">0.297527282951</td></tr></table>"
       ],
       "metadata": {},
       "output_type": "pyout",
       "prompt_number": 2,
       "text": [
        "<toyplot.data.Table at 0x10b461350>"
       ]
      }
     ],
     "prompt_number": 2
    },
    {
     "cell_type": "code",
     "collapsed": false,
     "input": [
      "table[numpy.argsort(table[\"bar\"])]"
     ],
     "language": "python",
     "metadata": {},
     "outputs": [
      {
       "html": [
        "<table style=\"border-collapse:collapse; border:none\"><tr style=\"border:none;border-bottom:1px solid black\"><th style=\"text-align:center;border:none\">foo</th><th style=\"text-align:center;border:none\">bar</th></tr><tr style=\"border:none\"><td style=\"border:none\">6</td><td style=\"border:none\">0.171790953809</td></tr><tr style=\"border:none\"><td style=\"border:none\">1</td><td style=\"border:none\">0.173861168497</td></tr><tr style=\"border:none\"><td style=\"border:none\">7</td><td style=\"border:none\">0.253574979474</td></tr><tr style=\"border:none\"><td style=\"border:none\">8</td><td style=\"border:none\">0.293039318049</td></tr><tr style=\"border:none\"><td style=\"border:none\">9</td><td style=\"border:none\">0.297527282951</td></tr><tr style=\"border:none\"><td style=\"border:none\">2</td><td style=\"border:none\">0.304692676045</td></tr><tr style=\"border:none\"><td style=\"border:none\">3</td><td style=\"border:none\">0.324508751</td></tr><tr style=\"border:none\"><td style=\"border:none\">0</td><td style=\"border:none\">0.360201466537</td></tr><tr style=\"border:none\"><td style=\"border:none\">5</td><td style=\"border:none\">0.373196424107</td></tr><tr style=\"border:none\"><td style=\"border:none\">4</td><td style=\"border:none\">0.82439639472</td></tr></table>"
       ],
       "metadata": {},
       "output_type": "pyout",
       "prompt_number": 3,
       "text": [
        "<toyplot.data.Table at 0x109a3e750>"
       ]
      }
     ],
     "prompt_number": 3
    },
    {
     "cell_type": "code",
     "collapsed": false,
     "input": [
      "table[0:6:2]"
     ],
     "language": "python",
     "metadata": {},
     "outputs": [
      {
       "html": [
        "<table style=\"border-collapse:collapse; border:none\"><tr style=\"border:none;border-bottom:1px solid black\"><th style=\"text-align:center;border:none\">foo</th><th style=\"text-align:center;border:none\">bar</th></tr><tr style=\"border:none\"><td style=\"border:none\">0</td><td style=\"border:none\">0.360201466537</td></tr><tr style=\"border:none\"><td style=\"border:none\">2</td><td style=\"border:none\">0.304692676045</td></tr><tr style=\"border:none\"><td style=\"border:none\">4</td><td style=\"border:none\">0.82439639472</td></tr></table>"
       ],
       "metadata": {},
       "output_type": "pyout",
       "prompt_number": 4,
       "text": [
        "<toyplot.data.Table at 0x10b3049d0>"
       ]
      }
     ],
     "prompt_number": 4
    },
    {
     "cell_type": "code",
     "collapsed": false,
     "input": [
      "table[8]"
     ],
     "language": "python",
     "metadata": {},
     "outputs": [
      {
       "html": [
        "<table style=\"border-collapse:collapse; border:none\"><tr style=\"border:none;border-bottom:1px solid black\"><th style=\"text-align:center;border:none\">foo</th><th style=\"text-align:center;border:none\">bar</th></tr><tr style=\"border:none\"><td style=\"border:none\">8</td><td style=\"border:none\">0.293039318049</td></tr></table>"
       ],
       "metadata": {},
       "output_type": "pyout",
       "prompt_number": 5,
       "text": [
        "<toyplot.data.Table at 0x10b304a10>"
       ]
      }
     ],
     "prompt_number": 5
    },
    {
     "cell_type": "code",
     "collapsed": false,
     "input": [
      "table[\"foo\"]"
     ],
     "language": "python",
     "metadata": {},
     "outputs": [
      {
       "metadata": {},
       "output_type": "pyout",
       "prompt_number": 6,
       "text": [
        "array([0, 1, 2, 3, 4, 5, 6, 7, 8, 9])"
       ]
      }
     ],
     "prompt_number": 6
    }
   ],
   "metadata": {}
  }
 ]
}
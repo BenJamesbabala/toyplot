{
 "metadata": {
  "name": "",
  "signature": "sha256:037e92ccbe4da3cb9a0c9cc9646fd311b060d38946ac59f43b330cf3f4f94d72"
 },
 "nbformat": 3,
 "nbformat_minor": 0,
 "worksheets": [
  {
   "cells": [
    {
     "cell_type": "code",
     "collapsed": false,
     "input": [
      "import numpy\n",
      "import toyplot.data"
     ],
     "language": "python",
     "metadata": {},
     "outputs": [],
     "prompt_number": 1
    },
    {
     "cell_type": "code",
     "collapsed": false,
     "input": [
      "table = toyplot.data.Table()\n",
      "table[\"foo\"] = numpy.arange(10)\n",
      "table[\"bar\"] = numpy.random.random(10)\n",
      "table"
     ],
     "language": "python",
     "metadata": {},
     "outputs": [
      {
       "html": [
        "<table style=\"border-collapse:collapse; border:none; color: #292724\"><tr style=\"border:none;border-bottom:1px solid #292724\"><th style=\"text-align:left;border:none\">foo</th><th style=\"text-align:left;border:none\">bar</th></tr><tr style=\"border:none\"><td style=\"border:none\">0</td><td style=\"border:none\">0.821620500681</td></tr><tr style=\"border:none\"><td style=\"border:none\">1</td><td style=\"border:none\">0.373541052956</td></tr><tr style=\"border:none\"><td style=\"border:none\">2</td><td style=\"border:none\">0.342568500389</td></tr><tr style=\"border:none\"><td style=\"border:none\">3</td><td style=\"border:none\">0.0729123792035</td></tr><tr style=\"border:none\"><td style=\"border:none\">4</td><td style=\"border:none\">0.153257454921</td></tr><tr style=\"border:none\"><td style=\"border:none\">5</td><td style=\"border:none\">0.0642510697329</td></tr><tr style=\"border:none\"><td style=\"border:none\">6</td><td style=\"border:none\">0.371625284805</td></tr><tr style=\"border:none\"><td style=\"border:none\">7</td><td style=\"border:none\">0.208229224717</td></tr><tr style=\"border:none\"><td style=\"border:none\">8</td><td style=\"border:none\">0.869374183453</td></tr><tr style=\"border:none\"><td style=\"border:none\">9</td><td style=\"border:none\">0.691329892052</td></tr></table>"
       ],
       "metadata": {},
       "output_type": "pyout",
       "prompt_number": 2,
       "text": [
        "<toyplot.data.Table at 0x1053fc450>"
       ]
      }
     ],
     "prompt_number": 2
    },
    {
     "cell_type": "code",
     "collapsed": false,
     "input": [
      "table[numpy.argsort(table[\"bar\"])]"
     ],
     "language": "python",
     "metadata": {},
     "outputs": [
      {
       "html": [
        "<table style=\"border-collapse:collapse; border:none; color: #292724\"><tr style=\"border:none;border-bottom:1px solid #292724\"><th style=\"text-align:left;border:none\">foo</th><th style=\"text-align:left;border:none\">bar</th></tr><tr style=\"border:none\"><td style=\"border:none\">5</td><td style=\"border:none\">0.0642510697329</td></tr><tr style=\"border:none\"><td style=\"border:none\">3</td><td style=\"border:none\">0.0729123792035</td></tr><tr style=\"border:none\"><td style=\"border:none\">4</td><td style=\"border:none\">0.153257454921</td></tr><tr style=\"border:none\"><td style=\"border:none\">7</td><td style=\"border:none\">0.208229224717</td></tr><tr style=\"border:none\"><td style=\"border:none\">2</td><td style=\"border:none\">0.342568500389</td></tr><tr style=\"border:none\"><td style=\"border:none\">6</td><td style=\"border:none\">0.371625284805</td></tr><tr style=\"border:none\"><td style=\"border:none\">1</td><td style=\"border:none\">0.373541052956</td></tr><tr style=\"border:none\"><td style=\"border:none\">9</td><td style=\"border:none\">0.691329892052</td></tr><tr style=\"border:none\"><td style=\"border:none\">0</td><td style=\"border:none\">0.821620500681</td></tr><tr style=\"border:none\"><td style=\"border:none\">8</td><td style=\"border:none\">0.869374183453</td></tr></table>"
       ],
       "metadata": {},
       "output_type": "pyout",
       "prompt_number": 3,
       "text": [
        "<toyplot.data.Table at 0x10505aa10>"
       ]
      }
     ],
     "prompt_number": 3
    },
    {
     "cell_type": "code",
     "collapsed": false,
     "input": [
      "table[0:6:2]"
     ],
     "language": "python",
     "metadata": {},
     "outputs": [
      {
       "html": [
        "<table style=\"border-collapse:collapse; border:none; color: #292724\"><tr style=\"border:none;border-bottom:1px solid #292724\"><th style=\"text-align:left;border:none\">foo</th><th style=\"text-align:left;border:none\">bar</th></tr><tr style=\"border:none\"><td style=\"border:none\">0</td><td style=\"border:none\">0.821620500681</td></tr><tr style=\"border:none\"><td style=\"border:none\">2</td><td style=\"border:none\">0.342568500389</td></tr><tr style=\"border:none\"><td style=\"border:none\">4</td><td style=\"border:none\">0.153257454921</td></tr></table>"
       ],
       "metadata": {},
       "output_type": "pyout",
       "prompt_number": 4,
       "text": [
        "<toyplot.data.Table at 0x1056a5f50>"
       ]
      }
     ],
     "prompt_number": 4
    },
    {
     "cell_type": "code",
     "collapsed": false,
     "input": [
      "table[8]"
     ],
     "language": "python",
     "metadata": {},
     "outputs": [
      {
       "html": [
        "<table style=\"border-collapse:collapse; border:none; color: #292724\"><tr style=\"border:none;border-bottom:1px solid #292724\"><th style=\"text-align:left;border:none\">foo</th><th style=\"text-align:left;border:none\">bar</th></tr><tr style=\"border:none\"><td style=\"border:none\">8</td><td style=\"border:none\">0.869374183453</td></tr></table>"
       ],
       "metadata": {},
       "output_type": "pyout",
       "prompt_number": 5,
       "text": [
        "<toyplot.data.Table at 0x104935490>"
       ]
      }
     ],
     "prompt_number": 5
    },
    {
     "cell_type": "code",
     "collapsed": false,
     "input": [
      "table[\"foo\"]"
     ],
     "language": "python",
     "metadata": {},
     "outputs": [
      {
       "metadata": {},
       "output_type": "pyout",
       "prompt_number": 6,
       "text": [
        "masked_array(data = [0 1 2 3 4 5 6 7 8 9],\n",
        "             mask = False,\n",
        "       fill_value = 999999)"
       ]
      }
     ],
     "prompt_number": 6
    }
   ],
   "metadata": {}
  }
 ]
}
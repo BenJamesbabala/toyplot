{
 "metadata": {
  "name": "",
  "signature": "sha256:a2a8426432992c3af2aac08be0faf8cc25243b7ca9b9a72814ec92517b4216fa"
 },
 "nbformat": 3,
 "nbformat_minor": 0,
 "worksheets": [
  {
   "cells": [
    {
     "cell_type": "code",
     "collapsed": false,
     "input": [
      "import numpy\n",
      "import toyplot.data"
     ],
     "language": "python",
     "metadata": {},
     "outputs": [],
     "prompt_number": 2
    },
    {
     "cell_type": "code",
     "collapsed": false,
     "input": [
      "table = toyplot.data.Table()\n",
      "table[\"foo\"] = numpy.arange(10)\n",
      "table[\"bar\"] = numpy.random.random(10)\n",
      "table"
     ],
     "language": "python",
     "metadata": {},
     "outputs": [
      {
       "html": [
        "<table style=\"border-collapse:collapse; border:none\"><tr style=\"border:none;border-bottom:1px solid black\"><th style=\"text-align:center;border:none\">foo</th><th style=\"text-align:center;border:none\">bar</th></tr><tr style=\"border:none\"><td style=\"border:none\">0</td><td style=\"border:none\">0.809399942945</td></tr><tr style=\"border:none\"><td style=\"border:none\">1</td><td style=\"border:none\">0.48415509606</td></tr><tr style=\"border:none\"><td style=\"border:none\">2</td><td style=\"border:none\">0.723484251925</td></tr><tr style=\"border:none\"><td style=\"border:none\">3</td><td style=\"border:none\">0.137050425433</td></tr><tr style=\"border:none\"><td style=\"border:none\">4</td><td style=\"border:none\">0.0962018948046</td></tr><tr style=\"border:none\"><td style=\"border:none\">5</td><td style=\"border:none\">0.736560385619</td></tr><tr style=\"border:none\"><td style=\"border:none\">6</td><td style=\"border:none\">0.518523326564</td></tr><tr style=\"border:none\"><td style=\"border:none\">7</td><td style=\"border:none\">0.0179588572305</td></tr><tr style=\"border:none\"><td style=\"border:none\">8</td><td style=\"border:none\">0.866695144376</td></tr><tr style=\"border:none\"><td style=\"border:none\">9</td><td style=\"border:none\">0.287327613174</td></tr></table>"
       ],
       "metadata": {},
       "output_type": "pyout",
       "prompt_number": 3,
       "text": [
        "<toyplot.data.Table at 0x1093569d0>"
       ]
      }
     ],
     "prompt_number": 3
    },
    {
     "cell_type": "code",
     "collapsed": false,
     "input": [
      "table[numpy.argsort(table[\"bar\"])]"
     ],
     "language": "python",
     "metadata": {},
     "outputs": [
      {
       "html": [
        "<table style=\"border-collapse:collapse; border:none\"><tr style=\"border:none;border-bottom:1px solid black\"><th style=\"text-align:center;border:none\">foo</th><th style=\"text-align:center;border:none\">bar</th></tr><tr style=\"border:none\"><td style=\"border:none\">7</td><td style=\"border:none\">0.0179588572305</td></tr><tr style=\"border:none\"><td style=\"border:none\">4</td><td style=\"border:none\">0.0962018948046</td></tr><tr style=\"border:none\"><td style=\"border:none\">3</td><td style=\"border:none\">0.137050425433</td></tr><tr style=\"border:none\"><td style=\"border:none\">9</td><td style=\"border:none\">0.287327613174</td></tr><tr style=\"border:none\"><td style=\"border:none\">1</td><td style=\"border:none\">0.48415509606</td></tr><tr style=\"border:none\"><td style=\"border:none\">6</td><td style=\"border:none\">0.518523326564</td></tr><tr style=\"border:none\"><td style=\"border:none\">2</td><td style=\"border:none\">0.723484251925</td></tr><tr style=\"border:none\"><td style=\"border:none\">5</td><td style=\"border:none\">0.736560385619</td></tr><tr style=\"border:none\"><td style=\"border:none\">0</td><td style=\"border:none\">0.809399942945</td></tr><tr style=\"border:none\"><td style=\"border:none\">8</td><td style=\"border:none\">0.866695144376</td></tr></table>"
       ],
       "metadata": {},
       "output_type": "pyout",
       "prompt_number": 4,
       "text": [
        "<toyplot.data.Table at 0x1078cdbd0>"
       ]
      }
     ],
     "prompt_number": 4
    },
    {
     "cell_type": "code",
     "collapsed": false,
     "input": [
      "table[0:6:2]"
     ],
     "language": "python",
     "metadata": {},
     "outputs": [
      {
       "html": [
        "<table style=\"border-collapse:collapse; border:none\"><tr style=\"border:none;border-bottom:1px solid black\"><th style=\"text-align:center;border:none\">foo</th><th style=\"text-align:center;border:none\">bar</th></tr><tr style=\"border:none\"><td style=\"border:none\">0</td><td style=\"border:none\">0.809399942945</td></tr><tr style=\"border:none\"><td style=\"border:none\">2</td><td style=\"border:none\">0.723484251925</td></tr><tr style=\"border:none\"><td style=\"border:none\">4</td><td style=\"border:none\">0.0962018948046</td></tr></table>"
       ],
       "metadata": {},
       "output_type": "pyout",
       "prompt_number": 5,
       "text": [
        "<toyplot.data.Table at 0x106bc1d90>"
       ]
      }
     ],
     "prompt_number": 5
    },
    {
     "cell_type": "code",
     "collapsed": false,
     "input": [
      "table[8]"
     ],
     "language": "python",
     "metadata": {},
     "outputs": [
      {
       "html": [
        "<table style=\"border-collapse:collapse; border:none\"><tr style=\"border:none;border-bottom:1px solid black\"><th style=\"text-align:center;border:none\">foo</th><th style=\"text-align:center;border:none\">bar</th></tr><tr style=\"border:none\"><td style=\"border:none\">8</td><td style=\"border:none\">0.866695144376</td></tr></table>"
       ],
       "metadata": {},
       "output_type": "pyout",
       "prompt_number": 6,
       "text": [
        "<toyplot.data.Table at 0x1092011d0>"
       ]
      }
     ],
     "prompt_number": 6
    },
    {
     "cell_type": "code",
     "collapsed": false,
     "input": [
      "table[\"foo\"]"
     ],
     "language": "python",
     "metadata": {},
     "outputs": [
      {
       "metadata": {},
       "output_type": "pyout",
       "prompt_number": 7,
       "text": [
        "array([0, 1, 2, 3, 4, 5, 6, 7, 8, 9])"
       ]
      }
     ],
     "prompt_number": 7
    }
   ],
   "metadata": {}
  }
 ]
}
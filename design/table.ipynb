{
 "metadata": {
  "name": "",
  "signature": "sha256:20696565cc53ce452e28bd4c0ac3488ec03483a1c46fd3a7f262a9c8f047b872"
 },
 "nbformat": 3,
 "nbformat_minor": 0,
 "worksheets": [
  {
   "cells": [
    {
     "cell_type": "code",
     "collapsed": false,
     "input": [
      "import numpy\n",
      "import toyplot.data"
     ],
     "language": "python",
     "metadata": {},
     "outputs": [],
     "prompt_number": 1
    },
    {
     "cell_type": "code",
     "collapsed": false,
     "input": [
      "table = toyplot.data.Table()\n",
      "table[\"foo\"] = numpy.arange(10)\n",
      "table[\"bar\"] = numpy.random.random(10)\n",
      "table"
     ],
     "language": "python",
     "metadata": {},
     "outputs": [
      {
       "html": [
        "<table style=\"border-collapse:collapse; border:none; color: #292724\"><tr style=\"border:none;border-bottom:1px solid #292724\"><th style=\"text-align:center;border:none\">foo</th><th style=\"text-align:center;border:none\">bar</th></tr><tr style=\"border:none\"><td style=\"border:none\">0</td><td style=\"border:none\">0.606015561701</td></tr><tr style=\"border:none\"><td style=\"border:none\">1</td><td style=\"border:none\">0.326837636077</td></tr><tr style=\"border:none\"><td style=\"border:none\">2</td><td style=\"border:none\">0.097302336568</td></tr><tr style=\"border:none\"><td style=\"border:none\">3</td><td style=\"border:none\">0.178032514959</td></tr><tr style=\"border:none\"><td style=\"border:none\">4</td><td style=\"border:none\">0.650426705472</td></tr><tr style=\"border:none\"><td style=\"border:none\">5</td><td style=\"border:none\">0.769532639475</td></tr><tr style=\"border:none\"><td style=\"border:none\">6</td><td style=\"border:none\">0.301223509699</td></tr><tr style=\"border:none\"><td style=\"border:none\">7</td><td style=\"border:none\">0.49683532377</td></tr><tr style=\"border:none\"><td style=\"border:none\">8</td><td style=\"border:none\">0.287260437562</td></tr><tr style=\"border:none\"><td style=\"border:none\">9</td><td style=\"border:none\">0.426344633404</td></tr></table>"
       ],
       "metadata": {},
       "output_type": "pyout",
       "prompt_number": 2,
       "text": [
        "<toyplot.data.Table at 0x10e345550>"
       ]
      }
     ],
     "prompt_number": 2
    },
    {
     "cell_type": "code",
     "collapsed": false,
     "input": [
      "table[numpy.argsort(table[\"bar\"])]"
     ],
     "language": "python",
     "metadata": {},
     "outputs": [
      {
       "html": [
        "<table style=\"border-collapse:collapse; border:none; color: #292724\"><tr style=\"border:none;border-bottom:1px solid #292724\"><th style=\"text-align:center;border:none\">foo</th><th style=\"text-align:center;border:none\">bar</th></tr><tr style=\"border:none\"><td style=\"border:none\">2</td><td style=\"border:none\">0.097302336568</td></tr><tr style=\"border:none\"><td style=\"border:none\">3</td><td style=\"border:none\">0.178032514959</td></tr><tr style=\"border:none\"><td style=\"border:none\">8</td><td style=\"border:none\">0.287260437562</td></tr><tr style=\"border:none\"><td style=\"border:none\">6</td><td style=\"border:none\">0.301223509699</td></tr><tr style=\"border:none\"><td style=\"border:none\">1</td><td style=\"border:none\">0.326837636077</td></tr><tr style=\"border:none\"><td style=\"border:none\">9</td><td style=\"border:none\">0.426344633404</td></tr><tr style=\"border:none\"><td style=\"border:none\">7</td><td style=\"border:none\">0.49683532377</td></tr><tr style=\"border:none\"><td style=\"border:none\">0</td><td style=\"border:none\">0.606015561701</td></tr><tr style=\"border:none\"><td style=\"border:none\">4</td><td style=\"border:none\">0.650426705472</td></tr><tr style=\"border:none\"><td style=\"border:none\">5</td><td style=\"border:none\">0.769532639475</td></tr></table>"
       ],
       "metadata": {},
       "output_type": "pyout",
       "prompt_number": 3,
       "text": [
        "<toyplot.data.Table at 0x10e345350>"
       ]
      }
     ],
     "prompt_number": 3
    },
    {
     "cell_type": "code",
     "collapsed": false,
     "input": [
      "table[0:6:2]"
     ],
     "language": "python",
     "metadata": {},
     "outputs": [
      {
       "html": [
        "<table style=\"border-collapse:collapse; border:none; color: #292724\"><tr style=\"border:none;border-bottom:1px solid #292724\"><th style=\"text-align:center;border:none\">foo</th><th style=\"text-align:center;border:none\">bar</th></tr><tr style=\"border:none\"><td style=\"border:none\">0</td><td style=\"border:none\">0.606015561701</td></tr><tr style=\"border:none\"><td style=\"border:none\">2</td><td style=\"border:none\">0.097302336568</td></tr><tr style=\"border:none\"><td style=\"border:none\">4</td><td style=\"border:none\">0.650426705472</td></tr></table>"
       ],
       "metadata": {},
       "output_type": "pyout",
       "prompt_number": 4,
       "text": [
        "<toyplot.data.Table at 0x10e345110>"
       ]
      }
     ],
     "prompt_number": 4
    },
    {
     "cell_type": "code",
     "collapsed": false,
     "input": [
      "table[8]"
     ],
     "language": "python",
     "metadata": {},
     "outputs": [
      {
       "html": [
        "<table style=\"border-collapse:collapse; border:none; color: #292724\"><tr style=\"border:none;border-bottom:1px solid #292724\"><th style=\"text-align:center;border:none\">foo</th><th style=\"text-align:center;border:none\">bar</th></tr><tr style=\"border:none\"><td style=\"border:none\">8</td><td style=\"border:none\">0.287260437562</td></tr></table>"
       ],
       "metadata": {},
       "output_type": "pyout",
       "prompt_number": 5,
       "text": [
        "<toyplot.data.Table at 0x10d808310>"
       ]
      }
     ],
     "prompt_number": 5
    },
    {
     "cell_type": "code",
     "collapsed": false,
     "input": [
      "table[\"foo\"]"
     ],
     "language": "python",
     "metadata": {},
     "outputs": [
      {
       "metadata": {},
       "output_type": "pyout",
       "prompt_number": 6,
       "text": [
        "masked_array(data = [0 1 2 3 4 5 6 7 8 9],\n",
        "             mask = False,\n",
        "       fill_value = 999999)"
       ]
      }
     ],
     "prompt_number": 6
    }
   ],
   "metadata": {}
  }
 ]
}
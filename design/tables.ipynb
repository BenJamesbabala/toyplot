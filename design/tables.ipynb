{
 "metadata": {
  "name": "",
  "signature": "sha256:d365f77329fdfa3ed008586783cd2413297a4d53a2aaf7bcbfd2b6a2e36e574c"
 },
 "nbformat": 3,
 "nbformat_minor": 0,
 "worksheets": [
  {
   "cells": [
    {
     "cell_type": "code",
     "collapsed": false,
     "input": [
      "import numpy\n",
      "import scipy\n",
      "import toyplot.data"
     ],
     "language": "python",
     "metadata": {},
     "outputs": [],
     "prompt_number": 1
    },
    {
     "cell_type": "code",
     "collapsed": false,
     "input": [
      "array = numpy.recarray(10, dtype=[(\"a\", \"f\"), (\"b\", \"f\"), (\"c\", \"f\"), (\"d\", \"f\")])\n",
      "array[\"a\"] = numpy.arange(10)\n",
      "array[\"b\"] = array[\"a\"] ** 2\n",
      "array[\"c\"] = array[\"a\"] ** 3\n",
      "array[\"d\"] = array[\"a\"] ** 4\n",
      "toyplot.data.Table(array, format=\"{:.0f}\")"
     ],
     "language": "python",
     "metadata": {},
     "outputs": [
      {
       "html": [
        "<table style=\"border-collapse:collapse; border:none\"><tr style=\"border:none;border-bottom:1px solid black\"><th style=\"text-align:center;border:none\">a</th><th style=\"text-align:center;border:none\">b</th><th style=\"text-align:center;border:none\">c</th><th style=\"text-align:center;border:none\">d</th></tr><tr style=\"border:none\"><td style=\"border:none\">0</td><td style=\"border:none\">0</td><td style=\"border:none\">0</td><td style=\"border:none\">0</td></tr><tr style=\"border:none\"><td style=\"border:none\">1</td><td style=\"border:none\">1</td><td style=\"border:none\">1</td><td style=\"border:none\">1</td></tr><tr style=\"border:none\"><td style=\"border:none\">2</td><td style=\"border:none\">4</td><td style=\"border:none\">8</td><td style=\"border:none\">16</td></tr><tr style=\"border:none\"><td style=\"border:none\">3</td><td style=\"border:none\">9</td><td style=\"border:none\">27</td><td style=\"border:none\">81</td></tr><tr style=\"border:none\"><td style=\"border:none\">4</td><td style=\"border:none\">16</td><td style=\"border:none\">64</td><td style=\"border:none\">256</td></tr><tr style=\"border:none\"><td style=\"border:none\">5</td><td style=\"border:none\">25</td><td style=\"border:none\">125</td><td style=\"border:none\">625</td></tr><tr style=\"border:none\"><td style=\"border:none\">6</td><td style=\"border:none\">36</td><td style=\"border:none\">216</td><td style=\"border:none\">1296</td></tr><tr style=\"border:none\"><td style=\"border:none\">7</td><td style=\"border:none\">49</td><td style=\"border:none\">343</td><td style=\"border:none\">2401</td></tr><tr style=\"border:none\"><td style=\"border:none\">8</td><td style=\"border:none\">64</td><td style=\"border:none\">512</td><td style=\"border:none\">4096</td></tr><tr style=\"border:none\"><td style=\"border:none\">9</td><td style=\"border:none\">81</td><td style=\"border:none\">729</td><td style=\"border:none\">6561</td></tr></table>"
       ],
       "metadata": {},
       "output_type": "pyout",
       "prompt_number": 2,
       "text": [
        "<toyplot.data.Table instance at 0x10feae050>"
       ]
      }
     ],
     "prompt_number": 2
    },
    {
     "cell_type": "code",
     "collapsed": false,
     "input": [
      "array = numpy.random.random((10, 5))\n",
      "toyplot.data.Table(array, format=\"{:.3f}\")"
     ],
     "language": "python",
     "metadata": {},
     "outputs": [
      {
       "html": [
        "<table style=\"border-collapse:collapse; border:none\"><tr style=\"border:none\"><td style=\"border:none\">0.142</td><td style=\"border:none\">0.571</td><td style=\"border:none\">0.189</td><td style=\"border:none\">0.129</td><td style=\"border:none\">0.959</td></tr><tr style=\"border:none\"><td style=\"border:none\">0.561</td><td style=\"border:none\">0.910</td><td style=\"border:none\">0.767</td><td style=\"border:none\">0.756</td><td style=\"border:none\">0.333</td></tr><tr style=\"border:none\"><td style=\"border:none\">0.089</td><td style=\"border:none\">0.152</td><td style=\"border:none\">0.745</td><td style=\"border:none\">0.592</td><td style=\"border:none\">0.562</td></tr><tr style=\"border:none\"><td style=\"border:none\">0.535</td><td style=\"border:none\">0.377</td><td style=\"border:none\">0.079</td><td style=\"border:none\">0.484</td><td style=\"border:none\">0.905</td></tr><tr style=\"border:none\"><td style=\"border:none\">0.032</td><td style=\"border:none\">0.966</td><td style=\"border:none\">0.631</td><td style=\"border:none\">0.451</td><td style=\"border:none\">0.853</td></tr><tr style=\"border:none\"><td style=\"border:none\">0.747</td><td style=\"border:none\">0.669</td><td style=\"border:none\">0.050</td><td style=\"border:none\">0.404</td><td style=\"border:none\">0.992</td></tr><tr style=\"border:none\"><td style=\"border:none\">0.535</td><td style=\"border:none\">0.503</td><td style=\"border:none\">0.472</td><td style=\"border:none\">0.584</td><td style=\"border:none\">0.498</td></tr><tr style=\"border:none\"><td style=\"border:none\">0.629</td><td style=\"border:none\">0.754</td><td style=\"border:none\">0.008</td><td style=\"border:none\">0.629</td><td style=\"border:none\">0.248</td></tr><tr style=\"border:none\"><td style=\"border:none\">0.469</td><td style=\"border:none\">0.436</td><td style=\"border:none\">0.922</td><td style=\"border:none\">0.184</td><td style=\"border:none\">0.688</td></tr><tr style=\"border:none\"><td style=\"border:none\">0.121</td><td style=\"border:none\">0.570</td><td style=\"border:none\">0.964</td><td style=\"border:none\">0.533</td><td style=\"border:none\">0.504</td></tr></table>"
       ],
       "metadata": {},
       "output_type": "pyout",
       "prompt_number": 3,
       "text": [
        "<toyplot.data.Table instance at 0x10d8a1bd8>"
       ]
      }
     ],
     "prompt_number": 3
    },
    {
     "cell_type": "code",
     "collapsed": false,
     "input": [
      "i = []\n",
      "j = []\n",
      "data = []\n",
      "for a in [2, 4, 8, 16, 32, 64, 128, 256, 512, 1024]:\n",
      "    for b in [10, 100, 1000, 10000, 100000, 1000000]:\n",
      "        if b < a:\n",
      "            continue\n",
      "        i.append(b)\n",
      "        j.append(a)\n",
      "        data.append(numpy.random.normal())\n",
      "array = scipy.sparse.coo_matrix((data, (i, j)))\n",
      "toyplot.data.Table(array, format=\"{:.4f}\")"
     ],
     "language": "python",
     "metadata": {},
     "outputs": [
      {
       "html": [
        "<table style=\"border-collapse:collapse; border:none\"><tr style=\"border:none;border-bottom:1px solid black\"><th style=\"border:none\"></th><th style=\"text-align:center;border:none\">2</th><th style=\"text-align:center;border:none\">4</th><th style=\"text-align:center;border:none\">8</th><th style=\"text-align:center;border:none\">16</th><th style=\"text-align:center;border:none\">32</th><th style=\"text-align:center;border:none\">64</th><th style=\"text-align:center;border:none\">128</th><th style=\"text-align:center;border:none\">256</th><th style=\"text-align:center;border:none\">512</th><th style=\"text-align:center;border:none\">1024</th></tr><tr style=\"border:none\"><th style=\"border:none\">10</th><td style=\"border:none\">-0.1505</td><td style=\"border:none\">1.3057</td><td style=\"border:none\">0.4932</td><td style=\"border:none\"></td><td style=\"border:none\"></td><td style=\"border:none\"></td><td style=\"border:none\"></td><td style=\"border:none\"></td><td style=\"border:none\"></td><td style=\"border:none\"></td></tr><tr style=\"border:none\"><th style=\"border:none\">100</th><td style=\"border:none\">-0.1489</td><td style=\"border:none\">-0.0532</td><td style=\"border:none\">-0.9510</td><td style=\"border:none\">-0.5413</td><td style=\"border:none\">-0.0199</td><td style=\"border:none\">-1.8882</td><td style=\"border:none\"></td><td style=\"border:none\"></td><td style=\"border:none\"></td><td style=\"border:none\"></td></tr><tr style=\"border:none\"><th style=\"border:none\">1000</th><td style=\"border:none\">-0.3466</td><td style=\"border:none\">-2.0078</td><td style=\"border:none\">-2.4524</td><td style=\"border:none\">0.0627</td><td style=\"border:none\">0.3679</td><td style=\"border:none\">-0.5170</td><td style=\"border:none\">1.1178</td><td style=\"border:none\">-0.1038</td><td style=\"border:none\">-0.6558</td><td style=\"border:none\"></td></tr><tr style=\"border:none\"><th style=\"border:none\">10000</th><td style=\"border:none\">-1.6453</td><td style=\"border:none\">0.3659</td><td style=\"border:none\">0.6178</td><td style=\"border:none\">-0.9827</td><td style=\"border:none\">-0.9144</td><td style=\"border:none\">-0.5432</td><td style=\"border:none\">1.0917</td><td style=\"border:none\">-0.2567</td><td style=\"border:none\">-2.0277</td><td style=\"border:none\">0.7653</td></tr><tr style=\"border:none\"><th style=\"border:none\">100000</th><td style=\"border:none\">0.4244</td><td style=\"border:none\">1.0750</td><td style=\"border:none\">-1.2353</td><td style=\"border:none\">-1.4899</td><td style=\"border:none\">-1.3713</td><td style=\"border:none\">-1.2084</td><td style=\"border:none\">0.0558</td><td style=\"border:none\">1.0976</td><td style=\"border:none\">0.7204</td><td style=\"border:none\">-0.1926</td></tr><tr style=\"border:none\"><th style=\"border:none\">1000000</th><td style=\"border:none\">-1.0562</td><td style=\"border:none\">-0.4460</td><td style=\"border:none\">1.8182</td><td style=\"border:none\">-0.2162</td><td style=\"border:none\">0.2417</td><td style=\"border:none\">-1.5174</td><td style=\"border:none\">0.3141</td><td style=\"border:none\">-0.3436</td><td style=\"border:none\">-1.0108</td><td style=\"border:none\">-0.5921</td></tr></table>"
       ],
       "metadata": {},
       "output_type": "pyout",
       "prompt_number": 10,
       "text": [
        "<toyplot.data.Table instance at 0x10feae950>"
       ]
      }
     ],
     "prompt_number": 10
    },
    {
     "cell_type": "code",
     "collapsed": false,
     "input": [],
     "language": "python",
     "metadata": {},
     "outputs": []
    }
   ],
   "metadata": {}
  }
 ]
}
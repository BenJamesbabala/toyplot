{
 "cells": [
  {
   "cell_type": "code",
   "execution_count": 1,
   "metadata": {
    "collapsed": true
   },
   "outputs": [],
   "source": [
    "import toyplot.pdf"
   ]
  },
  {
   "cell_type": "code",
   "execution_count": 2,
   "metadata": {
    "collapsed": false
   },
   "outputs": [
    {
     "data": {
      "text/html": [
       "<div align=\"center\" class=\"toyplot\" id=\"taec69a0de00f476a9722f77fe7a83b39\"><svg height=\"200.0px\" id=\"tcaf7f1b1337243cc9ece849ce3b69ace\" preserveAspectRatio=\"xMidYMid meet\" style=\"background-color:transparent;fill:rgb(16.1%,15.3%,14.1%);fill-opacity:1.0;font-family:Helvetica;font-size:12px;opacity:1.0;stroke:rgb(16.1%,15.3%,14.1%);stroke-opacity:1.0;stroke-width:1.0\" viewBox=\"0 0 600.0 200.0\" width=\"600.0px\" xmlns=\"http://www.w3.org/2000/svg\" xmlns:toyplot=\"http://www.sandia.gov/toyplot\"><g class=\"toyplot-axes-NumberLine\" id=\"t633d7206b6e947d1a302233f28ac036b\"><g class=\"toyplot-coordinate-events\"></g><g class=\"toyplot-axes-Axis\" id=\"tf0d560f24c564955840432d7ab4a6283\" transform=\"translate(50.0,100.0) rotate(0.0) translate(0,20.0)\"><line style=\"\" x1=\"0\" x2=\"500.0\" y1=\"0\" y2=\"0\"></line><g><line style=\"\" x1=\"0.0\" x2=\"0.0\" y1=\"-3\" y2=\"3\"></line><line style=\"\" x1=\"250.0\" x2=\"250.0\" y1=\"-3\" y2=\"3\"></line><line style=\"\" x1=\"500.0\" x2=\"500.0\" y1=\"-3\" y2=\"3\"></line></g><g><text style=\"dominant-baseline:hanging;font-size:16px;font-weight:normal;stroke:none;text-anchor:start\" transform=\"translate(0.0,5)rotate(30)\"><tspan style=\"dominant-baseline:inherit\">-0.5</tspan></text><text style=\"dominant-baseline:hanging;font-size:16px;font-weight:normal;stroke:none;text-anchor:start\" transform=\"translate(250.0,5)rotate(30)\"><tspan style=\"dominant-baseline:inherit\">0.0</tspan></text><text style=\"dominant-baseline:hanging;font-size:16px;font-weight:normal;stroke:none;text-anchor:start\" transform=\"translate(500.0,5)rotate(30)\"><tspan style=\"dominant-baseline:inherit\">0.5</tspan></text></g></g></g></svg><div class=\"toyplot-controls\"><ul class=\"toyplot-mark-popup\" onmouseleave=\"this.style.visibility='hidden'\" style=\"background:rgba(0%,0%,0%,0.75);border:0;border-radius:6px;color:white;cursor:default;list-style:none;margin:0;padding:5px;position:fixed;visibility:hidden\"><li class=\"toyplot-mark-popup-title\" style=\"color:lightgray;cursor:default;padding:5px;list-style:none;margin:0;\"></li><li class=\"toyplot-mark-popup-save-csv\" onmouseout=\"this.style.color='white';this.style.background='steelblue'\" onmouseover=\"this.style.color='steelblue';this.style.background='white'\" style=\"border-radius:3px;padding:5px;list-style:none;margin:0;\">Save as .csv</li></ul></div></div>"
      ]
     },
     "metadata": {},
     "output_type": "display_data"
    }
   ],
   "source": [
    "canvas = toyplot.Canvas(width=600, height=200)\n",
    "numberline = canvas.numberline()\n",
    "numberline.axis.ticks.labels.style = {\"font-size\":\"16px\"}\n",
    "numberline.axis.ticks.labels.angle = -30\n",
    "numberline.axis.ticks.show = True"
   ]
  },
  {
   "cell_type": "code",
   "execution_count": 3,
   "metadata": {
    "collapsed": false
   },
   "outputs": [
    {
     "ename": "AttributeError",
     "evalue": "'_RenderContext' object has no attribute 'ticks_labels_text_anchor'",
     "output_type": "error",
     "traceback": [
      "\u001b[0;31m---------------------------------------------------------------------------\u001b[0m",
      "\u001b[0;31mAttributeError\u001b[0m                            Traceback (most recent call last)",
      "\u001b[0;32m/Users/tshead/miniconda/lib/python2.7/site-packages/IPython/core/formatters.pyc\u001b[0m in \u001b[0;36m__call__\u001b[0;34m(self, obj)\u001b[0m\n\u001b[1;32m    339\u001b[0m             \u001b[0mmethod\u001b[0m \u001b[0;34m=\u001b[0m \u001b[0m_safe_get_formatter_method\u001b[0m\u001b[0;34m(\u001b[0m\u001b[0mobj\u001b[0m\u001b[0;34m,\u001b[0m \u001b[0mself\u001b[0m\u001b[0;34m.\u001b[0m\u001b[0mprint_method\u001b[0m\u001b[0;34m)\u001b[0m\u001b[0;34m\u001b[0m\u001b[0m\n\u001b[1;32m    340\u001b[0m             \u001b[0;32mif\u001b[0m \u001b[0mmethod\u001b[0m \u001b[0;32mis\u001b[0m \u001b[0;32mnot\u001b[0m \u001b[0mNone\u001b[0m\u001b[0;34m:\u001b[0m\u001b[0;34m\u001b[0m\u001b[0m\n\u001b[0;32m--> 341\u001b[0;31m                 \u001b[0;32mreturn\u001b[0m \u001b[0mmethod\u001b[0m\u001b[0;34m(\u001b[0m\u001b[0;34m)\u001b[0m\u001b[0;34m\u001b[0m\u001b[0m\n\u001b[0m\u001b[1;32m    342\u001b[0m             \u001b[0;32mreturn\u001b[0m \u001b[0mNone\u001b[0m\u001b[0;34m\u001b[0m\u001b[0m\n\u001b[1;32m    343\u001b[0m         \u001b[0;32melse\u001b[0m\u001b[0;34m:\u001b[0m\u001b[0;34m\u001b[0m\u001b[0m\n",
      "\u001b[0;32m/Users/tshead/src/toyplot/toyplot/canvas.pyc\u001b[0m in \u001b[0;36m_repr_html_\u001b[0;34m(self)\u001b[0m\n\u001b[1;32m    160\u001b[0m         return toyplot.compatibility.unicode_type(\n\u001b[1;32m    161\u001b[0m             xml.tostring(\n\u001b[0;32m--> 162\u001b[0;31m                 \u001b[0mtoyplot\u001b[0m\u001b[0;34m.\u001b[0m\u001b[0mhtml\u001b[0m\u001b[0;34m.\u001b[0m\u001b[0mrender\u001b[0m\u001b[0;34m(\u001b[0m\u001b[0mself\u001b[0m\u001b[0;34m)\u001b[0m\u001b[0;34m,\u001b[0m\u001b[0;34m\u001b[0m\u001b[0m\n\u001b[0m\u001b[1;32m    163\u001b[0m                 \u001b[0mencoding\u001b[0m\u001b[0;34m=\u001b[0m\u001b[0;34m\"utf-8\"\u001b[0m\u001b[0;34m,\u001b[0m\u001b[0;34m\u001b[0m\u001b[0m\n\u001b[1;32m    164\u001b[0m                 method=\"html\"),\n",
      "\u001b[0;32m/Users/tshead/src/toyplot/toyplot/html.py\u001b[0m in \u001b[0;36mrender\u001b[0;34m(canvas, fobj, animation)\u001b[0m\n\u001b[1;32m    465\u001b[0m         id=context.get_id(canvas))\n\u001b[1;32m    466\u001b[0m     \u001b[0;32mfor\u001b[0m \u001b[0mchild\u001b[0m \u001b[0;32min\u001b[0m \u001b[0mcanvas\u001b[0m\u001b[0;34m.\u001b[0m\u001b[0m_children\u001b[0m\u001b[0;34m:\u001b[0m\u001b[0;34m\u001b[0m\u001b[0m\n\u001b[0;32m--> 467\u001b[0;31m         \u001b[0m_render\u001b[0m\u001b[0;34m(\u001b[0m\u001b[0mcanvas\u001b[0m\u001b[0;34m,\u001b[0m \u001b[0mchild\u001b[0m\u001b[0;34m,\u001b[0m \u001b[0mcontext\u001b[0m\u001b[0;34m.\u001b[0m\u001b[0mcopy\u001b[0m\u001b[0;34m(\u001b[0m\u001b[0mroot\u001b[0m\u001b[0;34m=\u001b[0m\u001b[0msvg\u001b[0m\u001b[0;34m)\u001b[0m\u001b[0;34m)\u001b[0m\u001b[0;34m\u001b[0m\u001b[0m\n\u001b[0m\u001b[1;32m    468\u001b[0m \u001b[0;34m\u001b[0m\u001b[0m\n\u001b[1;32m    469\u001b[0m     \u001b[0;31m# Collect animation data.\u001b[0m\u001b[0;34m\u001b[0m\u001b[0;34m\u001b[0m\u001b[0m\n",
      "\u001b[0;32m/Users/tshead/miniconda/lib/python2.7/site-packages/multipledispatch/dispatcher.pyc\u001b[0m in \u001b[0;36m__call__\u001b[0;34m(self, *args, **kwargs)\u001b[0m\n\u001b[1;32m    162\u001b[0m             \u001b[0mself\u001b[0m\u001b[0;34m.\u001b[0m\u001b[0m_cache\u001b[0m\u001b[0;34m[\u001b[0m\u001b[0mtypes\u001b[0m\u001b[0;34m]\u001b[0m \u001b[0;34m=\u001b[0m \u001b[0mfunc\u001b[0m\u001b[0;34m\u001b[0m\u001b[0m\n\u001b[1;32m    163\u001b[0m         \u001b[0;32mtry\u001b[0m\u001b[0;34m:\u001b[0m\u001b[0;34m\u001b[0m\u001b[0m\n\u001b[0;32m--> 164\u001b[0;31m             \u001b[0;32mreturn\u001b[0m \u001b[0mfunc\u001b[0m\u001b[0;34m(\u001b[0m\u001b[0;34m*\u001b[0m\u001b[0margs\u001b[0m\u001b[0;34m,\u001b[0m \u001b[0;34m**\u001b[0m\u001b[0mkwargs\u001b[0m\u001b[0;34m)\u001b[0m\u001b[0;34m\u001b[0m\u001b[0m\n\u001b[0m\u001b[1;32m    165\u001b[0m \u001b[0;34m\u001b[0m\u001b[0m\n\u001b[1;32m    166\u001b[0m         \u001b[0;32mexcept\u001b[0m \u001b[0mMDNotImplementedError\u001b[0m\u001b[0;34m:\u001b[0m\u001b[0;34m\u001b[0m\u001b[0m\n",
      "\u001b[0;32m/Users/tshead/src/toyplot/toyplot/html.py\u001b[0m in \u001b[0;36m_render\u001b[0;34m(canvas, axes, context)\u001b[0m\n\u001b[1;32m   1550\u001b[0m             \u001b[0mticks_labels_offset\u001b[0m\u001b[0;34m=\u001b[0m\u001b[0mx_ticks_labels_offset\u001b[0m\u001b[0;34m,\u001b[0m\u001b[0;34m\u001b[0m\u001b[0m\n\u001b[1;32m   1551\u001b[0m             \u001b[0mticks_labels_alignment_baseline\u001b[0m \u001b[0;34m=\u001b[0m \u001b[0mx_ticks_labels_alignment_baseline\u001b[0m\u001b[0;34m,\u001b[0m\u001b[0;34m\u001b[0m\u001b[0m\n\u001b[0;32m-> 1552\u001b[0;31m             \u001b[0mlabel_baseline_shift\u001b[0m\u001b[0;34m=\u001b[0m\u001b[0mx_label_baseline_shift\u001b[0m\u001b[0;34m,\u001b[0m\u001b[0;34m\u001b[0m\u001b[0m\n\u001b[0m\u001b[1;32m   1553\u001b[0m             ))\n\u001b[1;32m   1554\u001b[0m \u001b[0;34m\u001b[0m\u001b[0m\n",
      "\u001b[0;32m/Users/tshead/miniconda/lib/python2.7/site-packages/multipledispatch/dispatcher.pyc\u001b[0m in \u001b[0;36m__call__\u001b[0;34m(self, *args, **kwargs)\u001b[0m\n\u001b[1;32m    162\u001b[0m             \u001b[0mself\u001b[0m\u001b[0;34m.\u001b[0m\u001b[0m_cache\u001b[0m\u001b[0;34m[\u001b[0m\u001b[0mtypes\u001b[0m\u001b[0;34m]\u001b[0m \u001b[0;34m=\u001b[0m \u001b[0mfunc\u001b[0m\u001b[0;34m\u001b[0m\u001b[0m\n\u001b[1;32m    163\u001b[0m         \u001b[0;32mtry\u001b[0m\u001b[0;34m:\u001b[0m\u001b[0;34m\u001b[0m\u001b[0m\n\u001b[0;32m--> 164\u001b[0;31m             \u001b[0;32mreturn\u001b[0m \u001b[0mfunc\u001b[0m\u001b[0;34m(\u001b[0m\u001b[0;34m*\u001b[0m\u001b[0margs\u001b[0m\u001b[0;34m,\u001b[0m \u001b[0;34m**\u001b[0m\u001b[0mkwargs\u001b[0m\u001b[0;34m)\u001b[0m\u001b[0;34m\u001b[0m\u001b[0m\n\u001b[0m\u001b[1;32m    165\u001b[0m \u001b[0;34m\u001b[0m\u001b[0m\n\u001b[1;32m    166\u001b[0m         \u001b[0;32mexcept\u001b[0m \u001b[0mMDNotImplementedError\u001b[0m\u001b[0;34m:\u001b[0m\u001b[0;34m\u001b[0m\u001b[0m\n",
      "\u001b[0;32m/Users/tshead/src/toyplot/toyplot/html.py\u001b[0m in \u001b[0;36m_render\u001b[0;34m(canvas, axis, context)\u001b[0m\n\u001b[1;32m   1183\u001b[0m                     {\n\u001b[1;32m   1184\u001b[0m                         \u001b[0;34m\"alignment-baseline\"\u001b[0m\u001b[0;34m:\u001b[0m \u001b[0mcontext\u001b[0m\u001b[0;34m.\u001b[0m\u001b[0mticks_labels_alignment_baseline\u001b[0m\u001b[0;34m,\u001b[0m\u001b[0;34m\u001b[0m\u001b[0m\n\u001b[0;32m-> 1185\u001b[0;31m                         \u001b[0;34m\"text-anchor\"\u001b[0m\u001b[0;34m:\u001b[0m \u001b[0mcontext\u001b[0m\u001b[0;34m.\u001b[0m\u001b[0mticks_labels_text_anchor\u001b[0m\u001b[0;34m,\u001b[0m\u001b[0;34m\u001b[0m\u001b[0m\n\u001b[0m\u001b[1;32m   1186\u001b[0m                     },\n\u001b[1;32m   1187\u001b[0m                     \u001b[0maxis\u001b[0m\u001b[0;34m.\u001b[0m\u001b[0mticks\u001b[0m\u001b[0;34m.\u001b[0m\u001b[0mlabels\u001b[0m\u001b[0;34m.\u001b[0m\u001b[0mstyle\u001b[0m\u001b[0;34m,\u001b[0m\u001b[0;34m\u001b[0m\u001b[0m\n",
      "\u001b[0;31mAttributeError\u001b[0m: '_RenderContext' object has no attribute 'ticks_labels_text_anchor'"
     ]
    }
   ],
   "source": [
    "canvas = toyplot.Canvas()\n",
    "axes = canvas.axes(xmin=-1000, xmax=1000, ymin=-1000, ymax=1000, padding=20)\n",
    "axes.x.ticks.show = True\n",
    "axes.y.ticks.show = True"
   ]
  },
  {
   "cell_type": "code",
   "execution_count": null,
   "metadata": {
    "collapsed": false
   },
   "outputs": [],
   "source": [
    "canvas = toyplot.Canvas()\n",
    "axes = canvas.axes(xmin=-1000, xmax=1000, ymin=-1000, ymax=1000, padding=20)\n",
    "axes.x.ticks.show = True\n",
    "axes.x.ticks.labels.style = {\"font-size\":\"18px\"}\n",
    "axes.y.ticks.show = True\n",
    "axes.y.ticks.labels.style = {\"font-size\":\"18px\"}"
   ]
  },
  {
   "cell_type": "code",
   "execution_count": null,
   "metadata": {
    "collapsed": false
   },
   "outputs": [],
   "source": [
    "canvas = toyplot.Canvas()\n",
    "axes = canvas.axes(xmin=-1000, xmax=1000, ymin=-1000, ymax=1000, gutter=100, padding=20)\n",
    "axes.x.ticks.show = True\n",
    "axes.x.ticks.labels.angle = 90\n",
    "axes.x.ticks.labels.style = {\"font-size\":\"18px\", \"text-anchor\":\"end\", \"-toyplot-anchor-shift\":\"-10px\", \"baseline-shift\":0}\n",
    "axes.y.ticks.show = True\n",
    "axes.y.ticks.labels.angle = -90\n",
    "axes.y.ticks.labels.style = {\"font-size\":\"18px\", \"text-anchor\":\"end\", \"-toyplot-anchor-shift\":\"-10px\", \"baseline-shift\":0}"
   ]
  },
  {
   "cell_type": "code",
   "execution_count": null,
   "metadata": {
    "collapsed": false
   },
   "outputs": [],
   "source": [
    "canvas = toyplot.Canvas()\n",
    "axes = canvas.axes(xmin=-1000, xmax=1000, ymin=-1000, ymax=1000, gutter=100, padding=20)\n",
    "axes.x.ticks.show = True\n",
    "axes.x.ticks.labels.angle = 45\n",
    "axes.x.ticks.labels.style = {\"font-size\":\"18px\", \"text-anchor\":\"end\", \"-toyplot-anchor-shift\":\"-12px\", \"baseline-shift\":0}\n",
    "axes.y.ticks.show = True\n",
    "axes.y.ticks.labels.angle = -45\n",
    "axes.y.ticks.labels.style = {\"font-size\":\"18px\", \"text-anchor\":\"end\", \"-toyplot-anchor-shift\":\"-12px\", \"baseline-shift\":0}"
   ]
  },
  {
   "cell_type": "code",
   "execution_count": null,
   "metadata": {
    "collapsed": false
   },
   "outputs": [],
   "source": [
    "canvas = toyplot.Canvas()\n",
    "axes = canvas.axes(xmin=-1000, xmax=1000, ymin=-1000, ymax=1000, gutter=100, padding=20)\n",
    "axes.x.ticks.show = True\n",
    "axes.x.ticks.labels.angle = 45\n",
    "axes.x.ticks.labels.offset = \"12px\"\n",
    "axes.x.ticks.labels.style = {\"font-size\":\"18px\", \"text-anchor\":\"end\", \"baseline-shift\":0}\n",
    "axes.y.ticks.show = True\n",
    "axes.y.ticks.labels.angle = -45\n",
    "axes.y.ticks.labels.offset = \"-12px\"\n",
    "axes.y.ticks.labels.style = {\"font-size\":\"18px\", \"text-anchor\":\"end\", \"baseline-shift\":0}"
   ]
  }
 ],
 "metadata": {
  "kernelspec": {
   "display_name": "Python 2",
   "language": "python",
   "name": "python2"
  },
  "language_info": {
   "codemirror_mode": {
    "name": "ipython",
    "version": 2
   },
   "file_extension": ".py",
   "mimetype": "text/x-python",
   "name": "python",
   "nbconvert_exporter": "python",
   "pygments_lexer": "ipython2",
   "version": "2.7.10"
  }
 },
 "nbformat": 4,
 "nbformat_minor": 0
}

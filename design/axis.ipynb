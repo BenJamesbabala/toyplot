{
 "cells": [
  {
   "cell_type": "code",
   "execution_count": 1,
   "metadata": {
    "collapsed": false
   },
   "outputs": [],
   "source": [
    "import numpy\n",
    "import toyplot"
   ]
  },
  {
   "cell_type": "code",
   "execution_count": 2,
   "metadata": {
    "collapsed": false
   },
   "outputs": [
    {
     "data": {
      "text/html": [
       "<div align=\"center\" class=\"toyplot\" id=\"t7b25526e10ec497d92900de2fb7791b0\"><svg height=\"100.0px\" id=\"t932b0f68929e4f2bb8da8109deb67b52\" preserveAspectRatio=\"xMidYMid meet\" style=\"background-color:transparent;border:1px solid #dedede;fill:rgb(16.1%,15.3%,14.1%);fill-opacity:1.0;font-family:Helvetica;font-size:12px;opacity:1.0;stroke:rgb(16.1%,15.3%,14.1%);stroke-opacity:1.0;stroke-width:1.0\" viewBox=\"0 0 400.0 100.0\" width=\"400.0px\" xmlns=\"http://www.w3.org/2000/svg\" xmlns:toyplot=\"http://www.sandia.gov/toyplot\"><g class=\"toyplot-axes-NumberLine\" id=\"tf77a94dbd11645f0bdc724e4a2594e05\"><g class=\"toyplot-coordinate-events\"></g><g class=\"toyplot-axes-Axis\" id=\"t045bf409ac154c519806c5812f73c76d\" transform=\"translate(50.0,50.0) rotate(0.0) translate(0,5)\"><line style=\"\" x1=\"0\" x2=\"299.96523905807857\" y1=\"0\" y2=\"0\"></line><g><line style=\"\" x1=\"0.0\" x2=\"0.0\" y1=\"-3\" y2=\"3\"></line><line style=\"\" x1=\"60.0\" x2=\"60.0\" y1=\"-3\" y2=\"3\"></line><line style=\"\" x1=\"140.0\" x2=\"140.0\" y1=\"-3\" y2=\"3\"></line><line style=\"\" x1=\"220.0\" x2=\"220.0\" y1=\"-3\" y2=\"3\"></line><line style=\"\" x1=\"300.0\" x2=\"300.0\" y1=\"-3\" y2=\"3\"></line></g><g><text style=\"alignment-baseline:middle;baseline-shift:-100%;font-size:10px;font-weight:normal;stroke:none;text-anchor:middle\" transform=\"translate(0.0,0) rotate(0)\" x=\"0\" y=\"0\">0</text><text style=\"alignment-baseline:middle;baseline-shift:-100%;font-size:10px;font-weight:normal;stroke:none;text-anchor:middle\" transform=\"translate(60.0,0) rotate(0)\" x=\"0\" y=\"0\">10 ⁰</text><text style=\"alignment-baseline:middle;baseline-shift:-100%;font-size:10px;font-weight:normal;stroke:none;text-anchor:middle\" transform=\"translate(140.0,0) rotate(0)\" x=\"0\" y=\"0\">10 ¹</text><text style=\"alignment-baseline:middle;baseline-shift:-100%;font-size:10px;font-weight:normal;stroke:none;text-anchor:middle\" transform=\"translate(220.0,0) rotate(0)\" x=\"0\" y=\"0\">10 ²</text><text style=\"alignment-baseline:middle;baseline-shift:-100%;font-size:10px;font-weight:normal;stroke:none;text-anchor:middle\" transform=\"translate(300.0,0) rotate(0)\" x=\"0\" y=\"0\">10 ³</text></g><text style=\"alignment-baseline:middle;baseline-shift:-200%;font-weight:bold;stroke:none;text-anchor:middle\" x=\"150.0\" y=\"0\">Numberline</text></g></g></svg><div class=\"toyplot-controls\"><ul class=\"toyplot-mark-popup\" onmouseleave=\"this.style.visibility='hidden'\" style=\"background:rgba(0%,0%,0%,0.75);border:0;border-radius:6px;color:white;cursor:default;list-style:none;margin:0;padding:5px;position:fixed;visibility:hidden\"><li class=\"toyplot-mark-popup-title\" style=\"color:lightgray;cursor:default;padding:5px;list-style:none;margin:0;\"></li><li class=\"toyplot-mark-popup-save-csv\" onmouseout=\"this.style.color='white';this.style.background='steelblue'\" onmouseover=\"this.style.color='steelblue';this.style.background='white'\" style=\"border-radius:3px;padding:5px;list-style:none;margin:0;\">Save as .csv</li></ul><script>\n",
       "(function()\n",
       "{\n",
       "  if(window.CSS !== undefined && window.CSS.supports !== undefined)\n",
       "  {\n",
       "    if(!window.CSS.supports(\"alignment-baseline\", \"middle\"))\n",
       "    {\n",
       "      var re = /\\s*alignment-baseline\\s*:\\s*([^;\\s]*)\\s*/;\n",
       "      var text = document.querySelectorAll(\"#t7b25526e10ec497d92900de2fb7791b0 text\");\n",
       "      for(var i = 0; i != text.length; ++i)\n",
       "      {\n",
       "        var match = re.exec(text[i].attributes.style.value);\n",
       "        if(match)\n",
       "        {\n",
       "          if(match[1] == \"middle\")\n",
       "          {\n",
       "            var style = getComputedStyle(text[i]);\n",
       "            var font_size = style.fontSize.substr(0, style.fontSize.length - 2);\n",
       "            var dy = text[i].dy.baseVal.length ? text[i].dy.baseVal[0].value : 0;\n",
       "            dy += 0.4 * font_size;\n",
       "            text[i].setAttribute(\"dy\", dy);\n",
       "          }\n",
       "        }\n",
       "      }\n",
       "    }\n",
       "    if(!window.CSS.supports(\"baseline-shift\", \"0\"))\n",
       "    {\n",
       "      var re = /\\s*baseline-shift\\s*:\\s*([^;\\s]*)\\s*/;\n",
       "      var text = document.querySelectorAll(\"#t7b25526e10ec497d92900de2fb7791b0 text\");\n",
       "      for(var i = 0; i != text.length; ++i)\n",
       "      {\n",
       "        var match = re.exec(text[i].attributes.style.value);\n",
       "        if(match)\n",
       "        {\n",
       "          var style = getComputedStyle(text[i]);\n",
       "          var font_size = style.fontSize.substr(0, style.fontSize.length - 2);\n",
       "          var percent = 0.01 * match[1].substr(0, match[1].length-1);\n",
       "          var dy = text[i].dy.baseVal.length ? text[i].dy.baseVal[0].value : 0;\n",
       "          dy -= percent * font_size\n",
       "          text[i].setAttribute(\"dy\", dy);\n",
       "        }\n",
       "      }\n",
       "    }\n",
       "  }\n",
       "})();\n",
       "</script></div></div>"
      ],
      "text/plain": [
       "<toyplot.canvas.Canvas at 0x10691cd10>"
      ]
     },
     "metadata": {},
     "output_type": "display_data"
    }
   ],
   "source": [
    "canvas = toyplot.Canvas(width=400, height=100, style={\"border\":\"1px solid #dedede\"})\n",
    "axis = canvas.number_line(label=\"Numberline\", scale=\"log\")\n",
    "axis.axis.ticks.show = True\n",
    "axis.update_domain(numpy.arange(0, 1000))"
   ]
  },
  {
   "cell_type": "code",
   "execution_count": 3,
   "metadata": {
    "collapsed": false
   },
   "outputs": [
    {
     "data": {
      "text/html": [
       "<div align=\"center\" class=\"toyplot\" id=\"t563627b592ea46e9af21780294574607\"><svg height=\"100.0px\" id=\"tec7f33622ed94d598a685e4ee0d071ac\" preserveAspectRatio=\"xMidYMid meet\" style=\"background-color:transparent;border:1px solid #dedede;fill:rgb(16.1%,15.3%,14.1%);fill-opacity:1.0;font-family:Helvetica;font-size:12px;opacity:1.0;stroke:rgb(16.1%,15.3%,14.1%);stroke-opacity:1.0;stroke-width:1.0\" viewBox=\"0 0 400.0 100.0\" width=\"400.0px\" xmlns=\"http://www.w3.org/2000/svg\" xmlns:toyplot=\"http://www.sandia.gov/toyplot\"><g class=\"toyplot-axes-NumberLine\" id=\"tdc382a3d88d343ff934445ff731f1c16\"><g class=\"toyplot-coordinate-events\"><g class=\"toyplot-color-Map\" id=\"t588034e374a14a89adf8a4dfbf5535ef\" transform=\"translate(50.0,50.0) rotate(0.0)\"><defs><linearGradient gradientUnits=\"userSpaceOnUse\" id=\"t1b090713f8f040c2a088db121e95c6d5\" x1=\"0\" x2=\"300.0\" y1=\"0\" y2=\"0\"><stop offset=\"0.0\" stop-color=\"rgb(40%,76.1%,64.7%)\" stop-opacity=\"1.0\"></stop><stop offset=\"0.015873015873\" stop-color=\"rgb(46.5%,73.8%,61.8%)\" stop-opacity=\"1.0\"></stop><stop offset=\"0.031746031746\" stop-color=\"rgb(53.1%,71.5%,58.9%)\" stop-opacity=\"1.0\"></stop><stop offset=\"0.047619047619\" stop-color=\"rgb(59.6%,69.2%,55.9%)\" stop-opacity=\"1.0\"></stop><stop offset=\"0.0634920634921\" stop-color=\"rgb(66.1%,66.8%,53%)\" stop-opacity=\"1.0\"></stop><stop offset=\"0.0793650793651\" stop-color=\"rgb(72.7%,64.5%,50.1%)\" stop-opacity=\"1.0\"></stop><stop offset=\"0.0952380952381\" stop-color=\"rgb(79.2%,62.2%,47.2%)\" stop-opacity=\"1.0\"></stop><stop offset=\"0.111111111111\" stop-color=\"rgb(85.8%,59.9%,44.3%)\" stop-opacity=\"1.0\"></stop><stop offset=\"0.126984126984\" stop-color=\"rgb(92.3%,57.6%,41.4%)\" stop-opacity=\"1.0\"></stop><stop offset=\"0.142857142857\" stop-color=\"rgb(98.8%,55.3%,38.4%)\" stop-opacity=\"1.0\"></stop><stop offset=\"0.15873015873\" stop-color=\"rgb(94%,56.1%,43%)\" stop-opacity=\"1.0\"></stop><stop offset=\"0.174603174603\" stop-color=\"rgb(89.2%,56.9%,47.6%)\" stop-opacity=\"1.0\"></stop><stop offset=\"0.190476190476\" stop-color=\"rgb(84.3%,57.8%,52.2%)\" stop-opacity=\"1.0\"></stop><stop offset=\"0.206349206349\" stop-color=\"rgb(79.5%,58.6%,56.7%)\" stop-opacity=\"1.0\"></stop><stop offset=\"0.222222222222\" stop-color=\"rgb(74.6%,59.4%,61.3%)\" stop-opacity=\"1.0\"></stop><stop offset=\"0.238095238095\" stop-color=\"rgb(69.8%,60.3%,65.9%)\" stop-opacity=\"1.0\"></stop><stop offset=\"0.253968253968\" stop-color=\"rgb(65%,61.1%,70.5%)\" stop-opacity=\"1.0\"></stop><stop offset=\"0.269841269841\" stop-color=\"rgb(60.1%,61.9%,75%)\" stop-opacity=\"1.0\"></stop><stop offset=\"0.285714285714\" stop-color=\"rgb(55.3%,62.7%,79.6%)\" stop-opacity=\"1.0\"></stop><stop offset=\"0.301587301587\" stop-color=\"rgb(59.2%,61.8%,79.3%)\" stop-opacity=\"1.0\"></stop><stop offset=\"0.31746031746\" stop-color=\"rgb(63.1%,60.8%,78.9%)\" stop-opacity=\"1.0\"></stop><stop offset=\"0.333333333333\" stop-color=\"rgb(67.1%,59.9%,78.6%)\" stop-opacity=\"1.0\"></stop><stop offset=\"0.349206349206\" stop-color=\"rgb(71%,58.9%,78.2%)\" stop-opacity=\"1.0\"></stop><stop offset=\"0.365079365079\" stop-color=\"rgb(74.9%,58%,77.9%)\" stop-opacity=\"1.0\"></stop><stop offset=\"0.380952380952\" stop-color=\"rgb(78.8%,57%,77.5%)\" stop-opacity=\"1.0\"></stop><stop offset=\"0.396825396825\" stop-color=\"rgb(82.7%,56%,77.2%)\" stop-opacity=\"1.0\"></stop><stop offset=\"0.412698412698\" stop-color=\"rgb(86.7%,55.1%,76.8%)\" stop-opacity=\"1.0\"></stop><stop offset=\"0.428571428571\" stop-color=\"rgb(90.6%,54.1%,76.5%)\" stop-opacity=\"1.0\"></stop><stop offset=\"0.444444444444\" stop-color=\"rgb(87.8%,57.5%,71.6%)\" stop-opacity=\"1.0\"></stop><stop offset=\"0.460317460317\" stop-color=\"rgb(84.9%,60.9%,66.8%)\" stop-opacity=\"1.0\"></stop><stop offset=\"0.47619047619\" stop-color=\"rgb(82.1%,64.3%,62%)\" stop-opacity=\"1.0\"></stop><stop offset=\"0.492063492063\" stop-color=\"rgb(79.3%,67.7%,57.1%)\" stop-opacity=\"1.0\"></stop><stop offset=\"0.507936507937\" stop-color=\"rgb(76.4%,71.1%,52.3%)\" stop-opacity=\"1.0\"></stop><stop offset=\"0.52380952381\" stop-color=\"rgb(73.6%,74.5%,47.5%)\" stop-opacity=\"1.0\"></stop><stop offset=\"0.539682539683\" stop-color=\"rgb(70.8%,77.9%,42.6%)\" stop-opacity=\"1.0\"></stop><stop offset=\"0.555555555556\" stop-color=\"rgb(67.9%,81.3%,37.8%)\" stop-opacity=\"1.0\"></stop><stop offset=\"0.571428571429\" stop-color=\"rgb(65.1%,84.7%,32.9%)\" stop-opacity=\"1.0\"></stop><stop offset=\"0.587301587302\" stop-color=\"rgb(69%,84.7%,31.3%)\" stop-opacity=\"1.0\"></stop><stop offset=\"0.603174603175\" stop-color=\"rgb(72.9%,84.8%,29.7%)\" stop-opacity=\"1.0\"></stop><stop offset=\"0.619047619048\" stop-color=\"rgb(76.7%,84.8%,28.1%)\" stop-opacity=\"1.0\"></stop><stop offset=\"0.634920634921\" stop-color=\"rgb(80.6%,84.9%,26.5%)\" stop-opacity=\"1.0\"></stop><stop offset=\"0.650793650794\" stop-color=\"rgb(84.5%,84.9%,24.9%)\" stop-opacity=\"1.0\"></stop><stop offset=\"0.666666666667\" stop-color=\"rgb(88.4%,85%,23.3%)\" stop-opacity=\"1.0\"></stop><stop offset=\"0.68253968254\" stop-color=\"rgb(92.2%,85%,21.7%)\" stop-opacity=\"1.0\"></stop><stop offset=\"0.698412698413\" stop-color=\"rgb(96.1%,85.1%,20%)\" stop-opacity=\"1.0\"></stop><stop offset=\"0.714285714286\" stop-color=\"rgb(100%,85.1%,18.4%)\" stop-opacity=\"1.0\"></stop><stop offset=\"0.730158730159\" stop-color=\"rgb(98.9%,84.2%,22.8%)\" stop-opacity=\"1.0\"></stop><stop offset=\"0.746031746032\" stop-color=\"rgb(97.7%,83.3%,27.2%)\" stop-opacity=\"1.0\"></stop><stop offset=\"0.761904761905\" stop-color=\"rgb(96.6%,82.4%,31.6%)\" stop-opacity=\"1.0\"></stop><stop offset=\"0.777777777778\" stop-color=\"rgb(95.5%,81.4%,36%)\" stop-opacity=\"1.0\"></stop><stop offset=\"0.793650793651\" stop-color=\"rgb(94.3%,80.5%,40.4%)\" stop-opacity=\"1.0\"></stop><stop offset=\"0.809523809524\" stop-color=\"rgb(93.2%,79.6%,44.8%)\" stop-opacity=\"1.0\"></stop><stop offset=\"0.825396825397\" stop-color=\"rgb(92.1%,78.7%,49.2%)\" stop-opacity=\"1.0\"></stop><stop offset=\"0.84126984127\" stop-color=\"rgb(90.9%,77.8%,53.6%)\" stop-opacity=\"1.0\"></stop><stop offset=\"0.857142857143\" stop-color=\"rgb(89.8%,76.9%,58%)\" stop-opacity=\"1.0\"></stop><stop offset=\"0.873015873016\" stop-color=\"rgb(87.6%,76.1%,59.4%)\" stop-opacity=\"1.0\"></stop><stop offset=\"0.888888888889\" stop-color=\"rgb(85.4%,75.4%,60.7%)\" stop-opacity=\"1.0\"></stop><stop offset=\"0.904761904762\" stop-color=\"rgb(83.3%,74.6%,62.1%)\" stop-opacity=\"1.0\"></stop><stop offset=\"0.920634920635\" stop-color=\"rgb(81.1%,73.9%,63.4%)\" stop-opacity=\"1.0\"></stop><stop offset=\"0.936507936508\" stop-color=\"rgb(78.9%,73.2%,64.8%)\" stop-opacity=\"1.0\"></stop><stop offset=\"0.952380952381\" stop-color=\"rgb(76.7%,72.4%,66.1%)\" stop-opacity=\"1.0\"></stop><stop offset=\"0.968253968254\" stop-color=\"rgb(74.6%,71.7%,67.5%)\" stop-opacity=\"1.0\"></stop><stop offset=\"0.984126984127\" stop-color=\"rgb(72.4%,70.9%,68.8%)\" stop-opacity=\"1.0\"></stop><stop offset=\"1.0\" stop-color=\"rgb(70.2%,70.2%,70.2%)\" stop-opacity=\"1.0\"></stop></linearGradient></defs><rect height=\"10\" style=\"fill:url(#t1b090713f8f040c2a088db121e95c6d5);stroke:none\" width=\"300.0\" x=\"0.0\" y=\"-10\"></rect></g></g><g class=\"toyplot-axes-Axis\" id=\"t4af1b8534c864e349d074ea9a9862aa8\" transform=\"translate(50.0,50.0) rotate(0.0) translate(0,5)\"><line style=\"\" x1=\"0\" x2=\"300.0\" y1=\"0\" y2=\"0\"></line><g><text style=\"alignment-baseline:middle;baseline-shift:-100%;font-size:10px;font-weight:normal;stroke:none;text-anchor:middle\" transform=\"translate(0.0,0) rotate(0)\" x=\"0\" y=\"0\">0.0</text><text style=\"alignment-baseline:middle;baseline-shift:-100%;font-size:10px;font-weight:normal;stroke:none;text-anchor:middle\" transform=\"translate(150.0,0) rotate(0)\" x=\"0\" y=\"0\">0.5</text><text style=\"alignment-baseline:middle;baseline-shift:-100%;font-size:10px;font-weight:normal;stroke:none;text-anchor:middle\" transform=\"translate(300.0,0) rotate(0)\" x=\"0\" y=\"0\">1.0</text></g><text style=\"alignment-baseline:middle;baseline-shift:-200%;font-weight:bold;stroke:none;text-anchor:middle\" x=\"150.0\" y=\"0\">Color Scale</text></g></g></svg><div class=\"toyplot-controls\"><ul class=\"toyplot-mark-popup\" onmouseleave=\"this.style.visibility='hidden'\" style=\"background:rgba(0%,0%,0%,0.75);border:0;border-radius:6px;color:white;cursor:default;list-style:none;margin:0;padding:5px;position:fixed;visibility:hidden\"><li class=\"toyplot-mark-popup-title\" style=\"color:lightgray;cursor:default;padding:5px;list-style:none;margin:0;\"></li><li class=\"toyplot-mark-popup-save-csv\" onmouseout=\"this.style.color='white';this.style.background='steelblue'\" onmouseover=\"this.style.color='steelblue';this.style.background='white'\" style=\"border-radius:3px;padding:5px;list-style:none;margin:0;\">Save as .csv</li></ul><script>\n",
       "(function()\n",
       "{\n",
       "  if(window.CSS !== undefined && window.CSS.supports !== undefined)\n",
       "  {\n",
       "    if(!window.CSS.supports(\"alignment-baseline\", \"middle\"))\n",
       "    {\n",
       "      var re = /\\s*alignment-baseline\\s*:\\s*([^;\\s]*)\\s*/;\n",
       "      var text = document.querySelectorAll(\"#t563627b592ea46e9af21780294574607 text\");\n",
       "      for(var i = 0; i != text.length; ++i)\n",
       "      {\n",
       "        var match = re.exec(text[i].attributes.style.value);\n",
       "        if(match)\n",
       "        {\n",
       "          if(match[1] == \"middle\")\n",
       "          {\n",
       "            var style = getComputedStyle(text[i]);\n",
       "            var font_size = style.fontSize.substr(0, style.fontSize.length - 2);\n",
       "            var dy = text[i].dy.baseVal.length ? text[i].dy.baseVal[0].value : 0;\n",
       "            dy += 0.4 * font_size;\n",
       "            text[i].setAttribute(\"dy\", dy);\n",
       "          }\n",
       "        }\n",
       "      }\n",
       "    }\n",
       "    if(!window.CSS.supports(\"baseline-shift\", \"0\"))\n",
       "    {\n",
       "      var re = /\\s*baseline-shift\\s*:\\s*([^;\\s]*)\\s*/;\n",
       "      var text = document.querySelectorAll(\"#t563627b592ea46e9af21780294574607 text\");\n",
       "      for(var i = 0; i != text.length; ++i)\n",
       "      {\n",
       "        var match = re.exec(text[i].attributes.style.value);\n",
       "        if(match)\n",
       "        {\n",
       "          var style = getComputedStyle(text[i]);\n",
       "          var font_size = style.fontSize.substr(0, style.fontSize.length - 2);\n",
       "          var percent = 0.01 * match[1].substr(0, match[1].length-1);\n",
       "          var dy = text[i].dy.baseVal.length ? text[i].dy.baseVal[0].value : 0;\n",
       "          dy -= percent * font_size\n",
       "          text[i].setAttribute(\"dy\", dy);\n",
       "        }\n",
       "      }\n",
       "    }\n",
       "  }\n",
       "})();\n",
       "</script></div></div>"
      ],
      "text/plain": [
       "<toyplot.canvas.Canvas at 0x106964990>"
      ]
     },
     "metadata": {},
     "output_type": "display_data"
    }
   ],
   "source": [
    "colormap = toyplot.color.LinearMap(toyplot.color.Palette(), domain_min=0, domain_max=1)\n",
    "canvas = toyplot.Canvas(width=400, height=100, style={\"border\":\"1px solid #dedede\"})\n",
    "axis = canvas.color_scale(colormap, label=\"Color Scale\", scale=\"linear\")"
   ]
  },
  {
   "cell_type": "code",
   "execution_count": 4,
   "metadata": {
    "collapsed": false
   },
   "outputs": [
    {
     "data": {
      "text/html": [
       "<div align=\"center\" class=\"toyplot\" id=\"t188f3e93f53e48b8a3c941780356927d\"><svg height=\"100.0px\" id=\"t52f74e263b034cfa92cc6429ca2d5e05\" preserveAspectRatio=\"xMidYMid meet\" style=\"background-color:transparent;border:1px solid #dedede;fill:rgb(16.1%,15.3%,14.1%);fill-opacity:1.0;font-family:Helvetica;font-size:12px;opacity:1.0;stroke:rgb(16.1%,15.3%,14.1%);stroke-opacity:1.0;stroke-width:1.0\" viewBox=\"0 0 400.0 100.0\" width=\"400.0px\" xmlns=\"http://www.w3.org/2000/svg\" xmlns:toyplot=\"http://www.sandia.gov/toyplot\"><g class=\"toyplot-axes-NumberLine\" id=\"t7e731e7a9ae6494488896fb34052f877\"><g class=\"toyplot-coordinate-events\"><g class=\"toyplot-color-CategoricalMap\" id=\"t5d6d00ef7c174c85b0a38e42a2310063\" transform=\"translate(50.0,50.0) rotate(0.0)\"><rect height=\"10\" style=\"fill:rgb(40%,76.1%,64.7%);fill-opacity:1.0;stroke:none\" width=\"42.857142857142854\" x=\"0.0\" y=\"-10\"></rect><rect height=\"10\" style=\"fill:rgb(98.8%,55.3%,38.4%);fill-opacity:1.0;stroke:none\" width=\"42.857142857142854\" x=\"42.857142857142854\" y=\"-10\"></rect><rect height=\"10\" style=\"fill:rgb(55.3%,62.7%,79.6%);fill-opacity:1.0;stroke:none\" width=\"42.857142857142847\" x=\"85.714285714285708\" y=\"-10\"></rect><rect height=\"10\" style=\"fill:rgb(90.6%,54.1%,76.5%);fill-opacity:1.0;stroke:none\" width=\"42.857142857142861\" x=\"128.57142857142856\" y=\"-10\"></rect><rect height=\"10\" style=\"fill:rgb(65.1%,84.7%,32.9%);fill-opacity:1.0;stroke:none\" width=\"42.857142857142833\" x=\"171.42857142857142\" y=\"-10\"></rect><rect height=\"10\" style=\"fill:rgb(100%,85.1%,18.4%);fill-opacity:1.0;stroke:none\" width=\"42.857142857142861\" x=\"214.28571428571425\" y=\"-10\"></rect><rect height=\"10\" style=\"fill:rgb(89.8%,76.9%,58%);fill-opacity:1.0;stroke:none\" width=\"42.85714285714289\" x=\"257.14285714285711\" y=\"-10\"></rect></g></g><g class=\"toyplot-axes-Axis\" id=\"tc99775893b9a42dfb78415f41644c957\" transform=\"translate(50.0,50.0) rotate(0.0) translate(0,5)\"><line style=\"\" x1=\"0\" x2=\"300.0\" y1=\"0\" y2=\"0\"></line><g><text style=\"alignment-baseline:middle;baseline-shift:-100%;font-size:10px;font-weight:normal;stroke:none;text-anchor:middle\" transform=\"translate(0.0,0) rotate(0)\" x=\"0\" y=\"0\">0</text><text style=\"alignment-baseline:middle;baseline-shift:-100%;font-size:10px;font-weight:normal;stroke:none;text-anchor:middle\" transform=\"translate(93.75,0) rotate(0)\" x=\"0\" y=\"0\">2</text><text style=\"alignment-baseline:middle;baseline-shift:-100%;font-size:10px;font-weight:normal;stroke:none;text-anchor:middle\" transform=\"translate(187.5,0) rotate(0)\" x=\"0\" y=\"0\">5</text><text style=\"alignment-baseline:middle;baseline-shift:-100%;font-size:10px;font-weight:normal;stroke:none;text-anchor:middle\" transform=\"translate(281.25,0) rotate(0)\" x=\"0\" y=\"0\">8</text></g><text style=\"alignment-baseline:middle;baseline-shift:-200%;font-weight:bold;stroke:none;text-anchor:middle\" x=\"150.0\" y=\"0\">Color Scale</text></g></g></svg><div class=\"toyplot-controls\"><ul class=\"toyplot-mark-popup\" onmouseleave=\"this.style.visibility='hidden'\" style=\"background:rgba(0%,0%,0%,0.75);border:0;border-radius:6px;color:white;cursor:default;list-style:none;margin:0;padding:5px;position:fixed;visibility:hidden\"><li class=\"toyplot-mark-popup-title\" style=\"color:lightgray;cursor:default;padding:5px;list-style:none;margin:0;\"></li><li class=\"toyplot-mark-popup-save-csv\" onmouseout=\"this.style.color='white';this.style.background='steelblue'\" onmouseover=\"this.style.color='steelblue';this.style.background='white'\" style=\"border-radius:3px;padding:5px;list-style:none;margin:0;\">Save as .csv</li></ul><script>\n",
       "(function()\n",
       "{\n",
       "  if(window.CSS !== undefined && window.CSS.supports !== undefined)\n",
       "  {\n",
       "    if(!window.CSS.supports(\"alignment-baseline\", \"middle\"))\n",
       "    {\n",
       "      var re = /\\s*alignment-baseline\\s*:\\s*([^;\\s]*)\\s*/;\n",
       "      var text = document.querySelectorAll(\"#t188f3e93f53e48b8a3c941780356927d text\");\n",
       "      for(var i = 0; i != text.length; ++i)\n",
       "      {\n",
       "        var match = re.exec(text[i].attributes.style.value);\n",
       "        if(match)\n",
       "        {\n",
       "          if(match[1] == \"middle\")\n",
       "          {\n",
       "            var style = getComputedStyle(text[i]);\n",
       "            var font_size = style.fontSize.substr(0, style.fontSize.length - 2);\n",
       "            var dy = text[i].dy.baseVal.length ? text[i].dy.baseVal[0].value : 0;\n",
       "            dy += 0.4 * font_size;\n",
       "            text[i].setAttribute(\"dy\", dy);\n",
       "          }\n",
       "        }\n",
       "      }\n",
       "    }\n",
       "    if(!window.CSS.supports(\"baseline-shift\", \"0\"))\n",
       "    {\n",
       "      var re = /\\s*baseline-shift\\s*:\\s*([^;\\s]*)\\s*/;\n",
       "      var text = document.querySelectorAll(\"#t188f3e93f53e48b8a3c941780356927d text\");\n",
       "      for(var i = 0; i != text.length; ++i)\n",
       "      {\n",
       "        var match = re.exec(text[i].attributes.style.value);\n",
       "        if(match)\n",
       "        {\n",
       "          var style = getComputedStyle(text[i]);\n",
       "          var font_size = style.fontSize.substr(0, style.fontSize.length - 2);\n",
       "          var percent = 0.01 * match[1].substr(0, match[1].length-1);\n",
       "          var dy = text[i].dy.baseVal.length ? text[i].dy.baseVal[0].value : 0;\n",
       "          dy -= percent * font_size\n",
       "          text[i].setAttribute(\"dy\", dy);\n",
       "        }\n",
       "      }\n",
       "    }\n",
       "  }\n",
       "})();\n",
       "</script></div></div>"
      ],
      "text/plain": [
       "<toyplot.canvas.Canvas at 0x1069683d0>"
      ]
     },
     "metadata": {},
     "output_type": "display_data"
    }
   ],
   "source": [
    "palette = toyplot.color.Palette()\n",
    "colormap = toyplot.color.CategoricalMap(palette)\n",
    "canvas = toyplot.Canvas(width=400, height=100, style={\"border\":\"1px solid #dedede\"})\n",
    "axis = canvas.color_scale(colormap, label=\"Color Scale\", scale=\"linear\")"
   ]
  },
  {
   "cell_type": "code",
   "execution_count": 5,
   "metadata": {
    "collapsed": false
   },
   "outputs": [
    {
     "data": {
      "text/html": [
       "<div align=\"center\" class=\"toyplot\" id=\"te7a3db44fd284b02ba8d5c812d0a1cc6\"><svg height=\"100.0px\" id=\"t938032772218410f8d34ed807ce7fb4d\" preserveAspectRatio=\"xMidYMid meet\" style=\"background-color:transparent;border:1px solid #dedede;fill:rgb(16.1%,15.3%,14.1%);fill-opacity:1.0;font-family:Helvetica;font-size:12px;opacity:1.0;stroke:rgb(16.1%,15.3%,14.1%);stroke-opacity:1.0;stroke-width:1.0\" viewBox=\"0 0 400.0 100.0\" width=\"400.0px\" xmlns=\"http://www.w3.org/2000/svg\" xmlns:toyplot=\"http://www.sandia.gov/toyplot\"><g class=\"toyplot-axes-NumberLine\" id=\"t55908de9279848ce8e01432df20f19c3\"><g class=\"toyplot-coordinate-events\"><g class=\"toyplot-color-Map\" id=\"t10f3687fc2914d99bf6f9be0dbb16168\" transform=\"translate(50.0,50.0) rotate(0.0)\"><defs><linearGradient gradientUnits=\"userSpaceOnUse\" id=\"t15172add7e9a406b8c972771f68181cd\" x1=\"0\" x2=\"300.0\" y1=\"0\" y2=\"0\"><stop offset=\"0.0\" stop-color=\"rgb(40%,76.1%,64.7%)\" stop-opacity=\"1.0\"></stop><stop offset=\"0.015873015873\" stop-color=\"rgb(46.5%,73.8%,61.8%)\" stop-opacity=\"1.0\"></stop><stop offset=\"0.031746031746\" stop-color=\"rgb(53.1%,71.5%,58.9%)\" stop-opacity=\"1.0\"></stop><stop offset=\"0.047619047619\" stop-color=\"rgb(59.6%,69.2%,55.9%)\" stop-opacity=\"1.0\"></stop><stop offset=\"0.0634920634921\" stop-color=\"rgb(66.1%,66.8%,53%)\" stop-opacity=\"1.0\"></stop><stop offset=\"0.0793650793651\" stop-color=\"rgb(72.7%,64.5%,50.1%)\" stop-opacity=\"1.0\"></stop><stop offset=\"0.0952380952381\" stop-color=\"rgb(79.2%,62.2%,47.2%)\" stop-opacity=\"1.0\"></stop><stop offset=\"0.111111111111\" stop-color=\"rgb(85.8%,59.9%,44.3%)\" stop-opacity=\"1.0\"></stop><stop offset=\"0.126984126984\" stop-color=\"rgb(92.3%,57.6%,41.4%)\" stop-opacity=\"1.0\"></stop><stop offset=\"0.142857142857\" stop-color=\"rgb(98.8%,55.3%,38.4%)\" stop-opacity=\"1.0\"></stop><stop offset=\"0.15873015873\" stop-color=\"rgb(94%,56.1%,43%)\" stop-opacity=\"1.0\"></stop><stop offset=\"0.174603174603\" stop-color=\"rgb(89.2%,56.9%,47.6%)\" stop-opacity=\"1.0\"></stop><stop offset=\"0.190476190476\" stop-color=\"rgb(84.3%,57.8%,52.2%)\" stop-opacity=\"1.0\"></stop><stop offset=\"0.206349206349\" stop-color=\"rgb(79.5%,58.6%,56.7%)\" stop-opacity=\"1.0\"></stop><stop offset=\"0.222222222222\" stop-color=\"rgb(74.6%,59.4%,61.3%)\" stop-opacity=\"1.0\"></stop><stop offset=\"0.238095238095\" stop-color=\"rgb(69.8%,60.3%,65.9%)\" stop-opacity=\"1.0\"></stop><stop offset=\"0.253968253968\" stop-color=\"rgb(65%,61.1%,70.5%)\" stop-opacity=\"1.0\"></stop><stop offset=\"0.269841269841\" stop-color=\"rgb(60.1%,61.9%,75%)\" stop-opacity=\"1.0\"></stop><stop offset=\"0.285714285714\" stop-color=\"rgb(55.3%,62.7%,79.6%)\" stop-opacity=\"1.0\"></stop><stop offset=\"0.301587301587\" stop-color=\"rgb(59.2%,61.8%,79.3%)\" stop-opacity=\"1.0\"></stop><stop offset=\"0.31746031746\" stop-color=\"rgb(63.1%,60.8%,78.9%)\" stop-opacity=\"1.0\"></stop><stop offset=\"0.333333333333\" stop-color=\"rgb(67.1%,59.9%,78.6%)\" stop-opacity=\"1.0\"></stop><stop offset=\"0.349206349206\" stop-color=\"rgb(71%,58.9%,78.2%)\" stop-opacity=\"1.0\"></stop><stop offset=\"0.365079365079\" stop-color=\"rgb(74.9%,58%,77.9%)\" stop-opacity=\"1.0\"></stop><stop offset=\"0.380952380952\" stop-color=\"rgb(78.8%,57%,77.5%)\" stop-opacity=\"1.0\"></stop><stop offset=\"0.396825396825\" stop-color=\"rgb(82.7%,56%,77.2%)\" stop-opacity=\"1.0\"></stop><stop offset=\"0.412698412698\" stop-color=\"rgb(86.7%,55.1%,76.8%)\" stop-opacity=\"1.0\"></stop><stop offset=\"0.428571428571\" stop-color=\"rgb(90.6%,54.1%,76.5%)\" stop-opacity=\"1.0\"></stop><stop offset=\"0.444444444444\" stop-color=\"rgb(87.8%,57.5%,71.6%)\" stop-opacity=\"1.0\"></stop><stop offset=\"0.460317460317\" stop-color=\"rgb(84.9%,60.9%,66.8%)\" stop-opacity=\"1.0\"></stop><stop offset=\"0.47619047619\" stop-color=\"rgb(82.1%,64.3%,62%)\" stop-opacity=\"1.0\"></stop><stop offset=\"0.492063492063\" stop-color=\"rgb(79.3%,67.7%,57.1%)\" stop-opacity=\"1.0\"></stop><stop offset=\"0.507936507937\" stop-color=\"rgb(76.4%,71.1%,52.3%)\" stop-opacity=\"1.0\"></stop><stop offset=\"0.52380952381\" stop-color=\"rgb(73.6%,74.5%,47.5%)\" stop-opacity=\"1.0\"></stop><stop offset=\"0.539682539683\" stop-color=\"rgb(70.8%,77.9%,42.6%)\" stop-opacity=\"1.0\"></stop><stop offset=\"0.555555555556\" stop-color=\"rgb(67.9%,81.3%,37.8%)\" stop-opacity=\"1.0\"></stop><stop offset=\"0.571428571429\" stop-color=\"rgb(65.1%,84.7%,32.9%)\" stop-opacity=\"1.0\"></stop><stop offset=\"0.587301587302\" stop-color=\"rgb(69%,84.7%,31.3%)\" stop-opacity=\"1.0\"></stop><stop offset=\"0.603174603175\" stop-color=\"rgb(72.9%,84.8%,29.7%)\" stop-opacity=\"1.0\"></stop><stop offset=\"0.619047619048\" stop-color=\"rgb(76.7%,84.8%,28.1%)\" stop-opacity=\"1.0\"></stop><stop offset=\"0.634920634921\" stop-color=\"rgb(80.6%,84.9%,26.5%)\" stop-opacity=\"1.0\"></stop><stop offset=\"0.650793650794\" stop-color=\"rgb(84.5%,84.9%,24.9%)\" stop-opacity=\"1.0\"></stop><stop offset=\"0.666666666667\" stop-color=\"rgb(88.4%,85%,23.3%)\" stop-opacity=\"1.0\"></stop><stop offset=\"0.68253968254\" stop-color=\"rgb(92.2%,85%,21.7%)\" stop-opacity=\"1.0\"></stop><stop offset=\"0.698412698413\" stop-color=\"rgb(96.1%,85.1%,20%)\" stop-opacity=\"1.0\"></stop><stop offset=\"0.714285714286\" stop-color=\"rgb(100%,85.1%,18.4%)\" stop-opacity=\"1.0\"></stop><stop offset=\"0.730158730159\" stop-color=\"rgb(98.9%,84.2%,22.8%)\" stop-opacity=\"1.0\"></stop><stop offset=\"0.746031746032\" stop-color=\"rgb(97.7%,83.3%,27.2%)\" stop-opacity=\"1.0\"></stop><stop offset=\"0.761904761905\" stop-color=\"rgb(96.6%,82.4%,31.6%)\" stop-opacity=\"1.0\"></stop><stop offset=\"0.777777777778\" stop-color=\"rgb(95.5%,81.4%,36%)\" stop-opacity=\"1.0\"></stop><stop offset=\"0.793650793651\" stop-color=\"rgb(94.3%,80.5%,40.4%)\" stop-opacity=\"1.0\"></stop><stop offset=\"0.809523809524\" stop-color=\"rgb(93.2%,79.6%,44.8%)\" stop-opacity=\"1.0\"></stop><stop offset=\"0.825396825397\" stop-color=\"rgb(92.1%,78.7%,49.2%)\" stop-opacity=\"1.0\"></stop><stop offset=\"0.84126984127\" stop-color=\"rgb(90.9%,77.8%,53.6%)\" stop-opacity=\"1.0\"></stop><stop offset=\"0.857142857143\" stop-color=\"rgb(89.8%,76.9%,58%)\" stop-opacity=\"1.0\"></stop><stop offset=\"0.873015873016\" stop-color=\"rgb(87.6%,76.1%,59.4%)\" stop-opacity=\"1.0\"></stop><stop offset=\"0.888888888889\" stop-color=\"rgb(85.4%,75.4%,60.7%)\" stop-opacity=\"1.0\"></stop><stop offset=\"0.904761904762\" stop-color=\"rgb(83.3%,74.6%,62.1%)\" stop-opacity=\"1.0\"></stop><stop offset=\"0.920634920635\" stop-color=\"rgb(81.1%,73.9%,63.4%)\" stop-opacity=\"1.0\"></stop><stop offset=\"0.936507936508\" stop-color=\"rgb(78.9%,73.2%,64.8%)\" stop-opacity=\"1.0\"></stop><stop offset=\"0.952380952381\" stop-color=\"rgb(76.7%,72.4%,66.1%)\" stop-opacity=\"1.0\"></stop><stop offset=\"0.968253968254\" stop-color=\"rgb(74.6%,71.7%,67.5%)\" stop-opacity=\"1.0\"></stop><stop offset=\"0.984126984127\" stop-color=\"rgb(72.4%,70.9%,68.8%)\" stop-opacity=\"1.0\"></stop><stop offset=\"1.0\" stop-color=\"rgb(70.2%,70.2%,70.2%)\" stop-opacity=\"1.0\"></stop></linearGradient></defs><rect height=\"10\" style=\"fill:url(#t15172add7e9a406b8c972771f68181cd);stroke:none\" width=\"200.0\" x=\"100.0\" y=\"-10\"></rect></g></g><g class=\"toyplot-axes-Axis\" id=\"tfa674e687fe845a9a37be709eb1739fd\" transform=\"translate(50.0,50.0) rotate(0.0) translate(0,5)\"><line style=\"\" x1=\"0\" x2=\"300.0\" y1=\"0\" y2=\"0\"></line><g><text style=\"alignment-baseline:middle;baseline-shift:-100%;font-size:10px;font-weight:normal;stroke:none;text-anchor:middle\" transform=\"translate(0.0,0) rotate(0)\" x=\"0\" y=\"0\">-0.5</text><text style=\"alignment-baseline:middle;baseline-shift:-100%;font-size:10px;font-weight:normal;stroke:none;text-anchor:middle\" transform=\"translate(100.0,0) rotate(0)\" x=\"0\" y=\"0\">0.0</text><text style=\"alignment-baseline:middle;baseline-shift:-100%;font-size:10px;font-weight:normal;stroke:none;text-anchor:middle\" transform=\"translate(200.0,0) rotate(0)\" x=\"0\" y=\"0\">0.5</text><text style=\"alignment-baseline:middle;baseline-shift:-100%;font-size:10px;font-weight:normal;stroke:none;text-anchor:middle\" transform=\"translate(300.0,0) rotate(0)\" x=\"0\" y=\"0\">1.0</text></g><text style=\"alignment-baseline:middle;baseline-shift:-200%;font-weight:bold;stroke:none;text-anchor:middle\" x=\"150.0\" y=\"0\">Color Scale</text></g></g></svg><div class=\"toyplot-controls\"><ul class=\"toyplot-mark-popup\" onmouseleave=\"this.style.visibility='hidden'\" style=\"background:rgba(0%,0%,0%,0.75);border:0;border-radius:6px;color:white;cursor:default;list-style:none;margin:0;padding:5px;position:fixed;visibility:hidden\"><li class=\"toyplot-mark-popup-title\" style=\"color:lightgray;cursor:default;padding:5px;list-style:none;margin:0;\"></li><li class=\"toyplot-mark-popup-save-csv\" onmouseout=\"this.style.color='white';this.style.background='steelblue'\" onmouseover=\"this.style.color='steelblue';this.style.background='white'\" style=\"border-radius:3px;padding:5px;list-style:none;margin:0;\">Save as .csv</li></ul><script>\n",
       "(function()\n",
       "{\n",
       "  if(window.CSS !== undefined && window.CSS.supports !== undefined)\n",
       "  {\n",
       "    if(!window.CSS.supports(\"alignment-baseline\", \"middle\"))\n",
       "    {\n",
       "      var re = /\\s*alignment-baseline\\s*:\\s*([^;\\s]*)\\s*/;\n",
       "      var text = document.querySelectorAll(\"#te7a3db44fd284b02ba8d5c812d0a1cc6 text\");\n",
       "      for(var i = 0; i != text.length; ++i)\n",
       "      {\n",
       "        var match = re.exec(text[i].attributes.style.value);\n",
       "        if(match)\n",
       "        {\n",
       "          if(match[1] == \"middle\")\n",
       "          {\n",
       "            var style = getComputedStyle(text[i]);\n",
       "            var font_size = style.fontSize.substr(0, style.fontSize.length - 2);\n",
       "            var dy = text[i].dy.baseVal.length ? text[i].dy.baseVal[0].value : 0;\n",
       "            dy += 0.4 * font_size;\n",
       "            text[i].setAttribute(\"dy\", dy);\n",
       "          }\n",
       "        }\n",
       "      }\n",
       "    }\n",
       "    if(!window.CSS.supports(\"baseline-shift\", \"0\"))\n",
       "    {\n",
       "      var re = /\\s*baseline-shift\\s*:\\s*([^;\\s]*)\\s*/;\n",
       "      var text = document.querySelectorAll(\"#te7a3db44fd284b02ba8d5c812d0a1cc6 text\");\n",
       "      for(var i = 0; i != text.length; ++i)\n",
       "      {\n",
       "        var match = re.exec(text[i].attributes.style.value);\n",
       "        if(match)\n",
       "        {\n",
       "          var style = getComputedStyle(text[i]);\n",
       "          var font_size = style.fontSize.substr(0, style.fontSize.length - 2);\n",
       "          var percent = 0.01 * match[1].substr(0, match[1].length-1);\n",
       "          var dy = text[i].dy.baseVal.length ? text[i].dy.baseVal[0].value : 0;\n",
       "          dy -= percent * font_size\n",
       "          text[i].setAttribute(\"dy\", dy);\n",
       "        }\n",
       "      }\n",
       "    }\n",
       "  }\n",
       "})();\n",
       "</script></div></div>"
      ],
      "text/plain": [
       "<toyplot.canvas.Canvas at 0x106968690>"
      ]
     },
     "metadata": {},
     "output_type": "display_data"
    }
   ],
   "source": [
    "colormap = toyplot.color.LinearMap(toyplot.color.Palette(), domain_min=0, domain_max=1)\n",
    "canvas = toyplot.Canvas(width=400, height=100, style={\"border\":\"1px solid #dedede\"})\n",
    "axis = canvas.color_scale(colormap, label=\"Color Scale\", scale=\"linear\")\n",
    "axis.axis.domain.min = -0.5"
   ]
  },
  {
   "cell_type": "code",
   "execution_count": 6,
   "metadata": {
    "collapsed": false
   },
   "outputs": [
    {
     "data": {
      "text/html": [
       "<div align=\"center\" class=\"toyplot\" id=\"t7555bc6cbeb449e99748ed14aff195ad\"><svg height=\"400.0px\" id=\"t5bfe3c0a6d2d4d10bab77ab3f35ae98e\" preserveAspectRatio=\"xMidYMid meet\" style=\"background-color:transparent;border:1px solid #dedede;fill:rgb(16.1%,15.3%,14.1%);fill-opacity:1.0;font-family:Helvetica;font-size:12px;opacity:1.0;stroke:rgb(16.1%,15.3%,14.1%);stroke-opacity:1.0;stroke-width:1.0\" viewBox=\"0 0 400.0 400.0\" width=\"400.0px\" xmlns=\"http://www.w3.org/2000/svg\" xmlns:toyplot=\"http://www.sandia.gov/toyplot\"><g class=\"toyplot-axes-NumberLine\" id=\"t410fe00e222b49a2bb84e1a5b97dbfee\"><g class=\"toyplot-coordinate-events\"><g class=\"toyplot-color-Map\" id=\"t109ae3cdf13247df9f979d0066ad9385\" transform=\"translate(100.0,300.0) rotate(-45.0)\"><defs><linearGradient gradientUnits=\"userSpaceOnUse\" id=\"tba5e2d26b3534ed3822f622f62212bc1\" x1=\"0\" x2=\"282.84271247461902\" y1=\"0\" y2=\"0\"><stop offset=\"0.0\" stop-color=\"rgb(40%,76.1%,64.7%)\" stop-opacity=\"1.0\"></stop><stop offset=\"0.015873015873\" stop-color=\"rgb(46.5%,73.8%,61.8%)\" stop-opacity=\"1.0\"></stop><stop offset=\"0.031746031746\" stop-color=\"rgb(53.1%,71.5%,58.9%)\" stop-opacity=\"1.0\"></stop><stop offset=\"0.047619047619\" stop-color=\"rgb(59.6%,69.2%,55.9%)\" stop-opacity=\"1.0\"></stop><stop offset=\"0.0634920634921\" stop-color=\"rgb(66.1%,66.8%,53%)\" stop-opacity=\"1.0\"></stop><stop offset=\"0.0793650793651\" stop-color=\"rgb(72.7%,64.5%,50.1%)\" stop-opacity=\"1.0\"></stop><stop offset=\"0.0952380952381\" stop-color=\"rgb(79.2%,62.2%,47.2%)\" stop-opacity=\"1.0\"></stop><stop offset=\"0.111111111111\" stop-color=\"rgb(85.8%,59.9%,44.3%)\" stop-opacity=\"1.0\"></stop><stop offset=\"0.126984126984\" stop-color=\"rgb(92.3%,57.6%,41.4%)\" stop-opacity=\"1.0\"></stop><stop offset=\"0.142857142857\" stop-color=\"rgb(98.8%,55.3%,38.4%)\" stop-opacity=\"1.0\"></stop><stop offset=\"0.15873015873\" stop-color=\"rgb(94%,56.1%,43%)\" stop-opacity=\"1.0\"></stop><stop offset=\"0.174603174603\" stop-color=\"rgb(89.2%,56.9%,47.6%)\" stop-opacity=\"1.0\"></stop><stop offset=\"0.190476190476\" stop-color=\"rgb(84.3%,57.8%,52.2%)\" stop-opacity=\"1.0\"></stop><stop offset=\"0.206349206349\" stop-color=\"rgb(79.5%,58.6%,56.7%)\" stop-opacity=\"1.0\"></stop><stop offset=\"0.222222222222\" stop-color=\"rgb(74.6%,59.4%,61.3%)\" stop-opacity=\"1.0\"></stop><stop offset=\"0.238095238095\" stop-color=\"rgb(69.8%,60.3%,65.9%)\" stop-opacity=\"1.0\"></stop><stop offset=\"0.253968253968\" stop-color=\"rgb(65%,61.1%,70.5%)\" stop-opacity=\"1.0\"></stop><stop offset=\"0.269841269841\" stop-color=\"rgb(60.1%,61.9%,75%)\" stop-opacity=\"1.0\"></stop><stop offset=\"0.285714285714\" stop-color=\"rgb(55.3%,62.7%,79.6%)\" stop-opacity=\"1.0\"></stop><stop offset=\"0.301587301587\" stop-color=\"rgb(59.2%,61.8%,79.3%)\" stop-opacity=\"1.0\"></stop><stop offset=\"0.31746031746\" stop-color=\"rgb(63.1%,60.8%,78.9%)\" stop-opacity=\"1.0\"></stop><stop offset=\"0.333333333333\" stop-color=\"rgb(67.1%,59.9%,78.6%)\" stop-opacity=\"1.0\"></stop><stop offset=\"0.349206349206\" stop-color=\"rgb(71%,58.9%,78.2%)\" stop-opacity=\"1.0\"></stop><stop offset=\"0.365079365079\" stop-color=\"rgb(74.9%,58%,77.9%)\" stop-opacity=\"1.0\"></stop><stop offset=\"0.380952380952\" stop-color=\"rgb(78.8%,57%,77.5%)\" stop-opacity=\"1.0\"></stop><stop offset=\"0.396825396825\" stop-color=\"rgb(82.7%,56%,77.2%)\" stop-opacity=\"1.0\"></stop><stop offset=\"0.412698412698\" stop-color=\"rgb(86.7%,55.1%,76.8%)\" stop-opacity=\"1.0\"></stop><stop offset=\"0.428571428571\" stop-color=\"rgb(90.6%,54.1%,76.5%)\" stop-opacity=\"1.0\"></stop><stop offset=\"0.444444444444\" stop-color=\"rgb(87.8%,57.5%,71.6%)\" stop-opacity=\"1.0\"></stop><stop offset=\"0.460317460317\" stop-color=\"rgb(84.9%,60.9%,66.8%)\" stop-opacity=\"1.0\"></stop><stop offset=\"0.47619047619\" stop-color=\"rgb(82.1%,64.3%,62%)\" stop-opacity=\"1.0\"></stop><stop offset=\"0.492063492063\" stop-color=\"rgb(79.3%,67.7%,57.1%)\" stop-opacity=\"1.0\"></stop><stop offset=\"0.507936507937\" stop-color=\"rgb(76.4%,71.1%,52.3%)\" stop-opacity=\"1.0\"></stop><stop offset=\"0.52380952381\" stop-color=\"rgb(73.6%,74.5%,47.5%)\" stop-opacity=\"1.0\"></stop><stop offset=\"0.539682539683\" stop-color=\"rgb(70.8%,77.9%,42.6%)\" stop-opacity=\"1.0\"></stop><stop offset=\"0.555555555556\" stop-color=\"rgb(67.9%,81.3%,37.8%)\" stop-opacity=\"1.0\"></stop><stop offset=\"0.571428571429\" stop-color=\"rgb(65.1%,84.7%,32.9%)\" stop-opacity=\"1.0\"></stop><stop offset=\"0.587301587302\" stop-color=\"rgb(69%,84.7%,31.3%)\" stop-opacity=\"1.0\"></stop><stop offset=\"0.603174603175\" stop-color=\"rgb(72.9%,84.8%,29.7%)\" stop-opacity=\"1.0\"></stop><stop offset=\"0.619047619048\" stop-color=\"rgb(76.7%,84.8%,28.1%)\" stop-opacity=\"1.0\"></stop><stop offset=\"0.634920634921\" stop-color=\"rgb(80.6%,84.9%,26.5%)\" stop-opacity=\"1.0\"></stop><stop offset=\"0.650793650794\" stop-color=\"rgb(84.5%,84.9%,24.9%)\" stop-opacity=\"1.0\"></stop><stop offset=\"0.666666666667\" stop-color=\"rgb(88.4%,85%,23.3%)\" stop-opacity=\"1.0\"></stop><stop offset=\"0.68253968254\" stop-color=\"rgb(92.2%,85%,21.7%)\" stop-opacity=\"1.0\"></stop><stop offset=\"0.698412698413\" stop-color=\"rgb(96.1%,85.1%,20%)\" stop-opacity=\"1.0\"></stop><stop offset=\"0.714285714286\" stop-color=\"rgb(100%,85.1%,18.4%)\" stop-opacity=\"1.0\"></stop><stop offset=\"0.730158730159\" stop-color=\"rgb(98.9%,84.2%,22.8%)\" stop-opacity=\"1.0\"></stop><stop offset=\"0.746031746032\" stop-color=\"rgb(97.7%,83.3%,27.2%)\" stop-opacity=\"1.0\"></stop><stop offset=\"0.761904761905\" stop-color=\"rgb(96.6%,82.4%,31.6%)\" stop-opacity=\"1.0\"></stop><stop offset=\"0.777777777778\" stop-color=\"rgb(95.5%,81.4%,36%)\" stop-opacity=\"1.0\"></stop><stop offset=\"0.793650793651\" stop-color=\"rgb(94.3%,80.5%,40.4%)\" stop-opacity=\"1.0\"></stop><stop offset=\"0.809523809524\" stop-color=\"rgb(93.2%,79.6%,44.8%)\" stop-opacity=\"1.0\"></stop><stop offset=\"0.825396825397\" stop-color=\"rgb(92.1%,78.7%,49.2%)\" stop-opacity=\"1.0\"></stop><stop offset=\"0.84126984127\" stop-color=\"rgb(90.9%,77.8%,53.6%)\" stop-opacity=\"1.0\"></stop><stop offset=\"0.857142857143\" stop-color=\"rgb(89.8%,76.9%,58%)\" stop-opacity=\"1.0\"></stop><stop offset=\"0.873015873016\" stop-color=\"rgb(87.6%,76.1%,59.4%)\" stop-opacity=\"1.0\"></stop><stop offset=\"0.888888888889\" stop-color=\"rgb(85.4%,75.4%,60.7%)\" stop-opacity=\"1.0\"></stop><stop offset=\"0.904761904762\" stop-color=\"rgb(83.3%,74.6%,62.1%)\" stop-opacity=\"1.0\"></stop><stop offset=\"0.920634920635\" stop-color=\"rgb(81.1%,73.9%,63.4%)\" stop-opacity=\"1.0\"></stop><stop offset=\"0.936507936508\" stop-color=\"rgb(78.9%,73.2%,64.8%)\" stop-opacity=\"1.0\"></stop><stop offset=\"0.952380952381\" stop-color=\"rgb(76.7%,72.4%,66.1%)\" stop-opacity=\"1.0\"></stop><stop offset=\"0.968253968254\" stop-color=\"rgb(74.6%,71.7%,67.5%)\" stop-opacity=\"1.0\"></stop><stop offset=\"0.984126984127\" stop-color=\"rgb(72.4%,70.9%,68.8%)\" stop-opacity=\"1.0\"></stop><stop offset=\"1.0\" stop-color=\"rgb(70.2%,70.2%,70.2%)\" stop-opacity=\"1.0\"></stop></linearGradient></defs><rect height=\"10\" style=\"fill:url(#tba5e2d26b3534ed3822f622f62212bc1);stroke:none\" width=\"282.84271247461902\" x=\"0.0\" y=\"-10\"></rect></g></g><g class=\"toyplot-axes-Axis\" id=\"tef5bb25a2c254887adee3bc38c7f7364\" transform=\"translate(100.0,300.0) rotate(-45.0) translate(0,5)\"><line style=\"\" x1=\"0\" x2=\"282.84271247461902\" y1=\"0\" y2=\"0\"></line><g><line style=\"\" x1=\"0.0\" x2=\"0.0\" y1=\"-3\" y2=\"3\"></line><line style=\"\" x1=\"141.4213562373095\" x2=\"141.4213562373095\" y1=\"-3\" y2=\"3\"></line><line style=\"\" x1=\"282.842712474619\" x2=\"282.842712474619\" y1=\"-3\" y2=\"3\"></line></g><g><text style=\"alignment-baseline:middle;baseline-shift:-100%;font-size:10px;font-weight:normal;stroke:none;text-anchor:middle\" transform=\"translate(0.0,0) rotate(0)\" x=\"0\" y=\"0\">0.0</text><text style=\"alignment-baseline:middle;baseline-shift:-100%;font-size:10px;font-weight:normal;stroke:none;text-anchor:middle\" transform=\"translate(141.4213562373095,0) rotate(0)\" x=\"0\" y=\"0\">0.5</text><text style=\"alignment-baseline:middle;baseline-shift:-100%;font-size:10px;font-weight:normal;stroke:none;text-anchor:middle\" transform=\"translate(282.842712474619,0) rotate(0)\" x=\"0\" y=\"0\">1.0</text></g><text style=\"alignment-baseline:middle;baseline-shift:-200%;font-weight:bold;stroke:none;text-anchor:middle\" x=\"141.42135623730951\" y=\"0\">Color Scale</text></g></g></svg><div class=\"toyplot-controls\"><ul class=\"toyplot-mark-popup\" onmouseleave=\"this.style.visibility='hidden'\" style=\"background:rgba(0%,0%,0%,0.75);border:0;border-radius:6px;color:white;cursor:default;list-style:none;margin:0;padding:5px;position:fixed;visibility:hidden\"><li class=\"toyplot-mark-popup-title\" style=\"color:lightgray;cursor:default;padding:5px;list-style:none;margin:0;\"></li><li class=\"toyplot-mark-popup-save-csv\" onmouseout=\"this.style.color='white';this.style.background='steelblue'\" onmouseover=\"this.style.color='steelblue';this.style.background='white'\" style=\"border-radius:3px;padding:5px;list-style:none;margin:0;\">Save as .csv</li></ul><script>\n",
       "(function()\n",
       "{\n",
       "  if(window.CSS !== undefined && window.CSS.supports !== undefined)\n",
       "  {\n",
       "    if(!window.CSS.supports(\"alignment-baseline\", \"middle\"))\n",
       "    {\n",
       "      var re = /\\s*alignment-baseline\\s*:\\s*([^;\\s]*)\\s*/;\n",
       "      var text = document.querySelectorAll(\"#t7555bc6cbeb449e99748ed14aff195ad text\");\n",
       "      for(var i = 0; i != text.length; ++i)\n",
       "      {\n",
       "        var match = re.exec(text[i].attributes.style.value);\n",
       "        if(match)\n",
       "        {\n",
       "          if(match[1] == \"middle\")\n",
       "          {\n",
       "            var style = getComputedStyle(text[i]);\n",
       "            var font_size = style.fontSize.substr(0, style.fontSize.length - 2);\n",
       "            var dy = text[i].dy.baseVal.length ? text[i].dy.baseVal[0].value : 0;\n",
       "            dy += 0.4 * font_size;\n",
       "            text[i].setAttribute(\"dy\", dy);\n",
       "          }\n",
       "        }\n",
       "      }\n",
       "    }\n",
       "    if(!window.CSS.supports(\"baseline-shift\", \"0\"))\n",
       "    {\n",
       "      var re = /\\s*baseline-shift\\s*:\\s*([^;\\s]*)\\s*/;\n",
       "      var text = document.querySelectorAll(\"#t7555bc6cbeb449e99748ed14aff195ad text\");\n",
       "      for(var i = 0; i != text.length; ++i)\n",
       "      {\n",
       "        var match = re.exec(text[i].attributes.style.value);\n",
       "        if(match)\n",
       "        {\n",
       "          var style = getComputedStyle(text[i]);\n",
       "          var font_size = style.fontSize.substr(0, style.fontSize.length - 2);\n",
       "          var percent = 0.01 * match[1].substr(0, match[1].length-1);\n",
       "          var dy = text[i].dy.baseVal.length ? text[i].dy.baseVal[0].value : 0;\n",
       "          dy -= percent * font_size\n",
       "          text[i].setAttribute(\"dy\", dy);\n",
       "        }\n",
       "      }\n",
       "    }\n",
       "  }\n",
       "})();\n",
       "</script></div></div>"
      ],
      "text/plain": [
       "<toyplot.canvas.Canvas at 0x106964510>"
      ]
     },
     "metadata": {},
     "output_type": "display_data"
    }
   ],
   "source": [
    "colormap = toyplot.color.LinearMap(toyplot.color.Palette(), domain_min=0, domain_max=1)\n",
    "canvas = toyplot.Canvas(width=400, style={\"border\":\"1px solid #dedede\"})\n",
    "axis = canvas.color_scale(colormap, x1=100, y1=300, x2=300, y2=100, label=\"Color Scale\", scale=\"linear\")\n",
    "axis.axis.ticks.show = True"
   ]
  },
  {
   "cell_type": "code",
   "execution_count": 7,
   "metadata": {
    "collapsed": false
   },
   "outputs": [
    {
     "data": {
      "text/plain": [
       "<toyplot.axes.NumberLine at 0x10691cd50>"
      ]
     },
     "execution_count": 7,
     "metadata": {},
     "output_type": "execute_result"
    },
    {
     "data": {
      "text/html": [
       "<div align=\"center\" class=\"toyplot\" id=\"ta464e12a285d4d93b5771842a1440986\"><svg height=\"400.0px\" id=\"te11ff73f99ca4c68a035eda7a72035c3\" preserveAspectRatio=\"xMidYMid meet\" style=\"background-color:transparent;border:1px solid #dedede;fill:rgb(16.1%,15.3%,14.1%);fill-opacity:1.0;font-family:Helvetica;font-size:12px;opacity:1.0;stroke:rgb(16.1%,15.3%,14.1%);stroke-opacity:1.0;stroke-width:1.0\" viewBox=\"0 0 400.0 400.0\" width=\"400.0px\" xmlns=\"http://www.w3.org/2000/svg\" xmlns:toyplot=\"http://www.sandia.gov/toyplot\"><g class=\"toyplot-axes-Cartesian\" id=\"t40b1c6fdcaad4f01b596c4f7707a7689\"><clipPath id=\"t3adaca75cff346e4a3a425041b9bcc4a\"><rect height=\"280.0\" width=\"280.0\" x=\"60.0\" y=\"60.0\"></rect></clipPath><g class=\"toyplot-coordinate-events\" clip-path=\"url(#t3adaca75cff346e4a3a425041b9bcc4a)\" style=\"cursor:crosshair\"><rect height=\"280.0\" style=\"pointer-events:all;visibility:hidden\" width=\"280.0\" x=\"60.0\" y=\"60.0\"></rect></g><g class=\"toyplot-coordinates\" style=\"visibility:hidden\"><rect height=\"14.0\" style=\"fill:rgb(100%,100%,100%);fill-opacity:1.0;opacity:0.75;stroke:none\" width=\"90.0\" x=\"230.0\" y=\"80.0\"></rect><text style=\"alignment-baseline:middle;font-size:10px;font-weight:normal;stroke:none;text-anchor:middle\" x=\"275.0\" y=\"87.0\"></text></g><g class=\"toyplot-axes-Axis\" id=\"t72820b2551414166b54b82ca84b4b469\" transform=\"translate(70.0,330.0) rotate(0.0) translate(0,10.0)\"><line style=\"\" x1=\"0\" x2=\"260.0\" y1=\"0\" y2=\"0\"></line><g><text style=\"alignment-baseline:middle;baseline-shift:-80%;font-size:10px;font-weight:normal;stroke:none;text-anchor:middle\" transform=\"translate(0.0,0) rotate(0)\" x=\"0\" y=\"0\">-0.5</text><text style=\"alignment-baseline:middle;baseline-shift:-80%;font-size:10px;font-weight:normal;stroke:none;text-anchor:middle\" transform=\"translate(130.0,0) rotate(0)\" x=\"0\" y=\"0\">0.0</text><text style=\"alignment-baseline:middle;baseline-shift:-80%;font-size:10px;font-weight:normal;stroke:none;text-anchor:middle\" transform=\"translate(260.0,0) rotate(0)\" x=\"0\" y=\"0\">0.5</text></g></g><g class=\"toyplot-axes-Axis\" id=\"t9b4e1ebe71aa40109450697064dd7376\" transform=\"translate(70.0,330.0) rotate(-90.0) translate(0,-10.0)\"><line style=\"\" x1=\"0\" x2=\"260.0\" y1=\"0\" y2=\"0\"></line><g><text style=\"alignment-baseline:middle;baseline-shift:80%;font-size:10px;font-weight:normal;stroke:none;text-anchor:middle\" transform=\"translate(0.0,0) rotate(0)\" x=\"0\" y=\"0\">-0.5</text><text style=\"alignment-baseline:middle;baseline-shift:80%;font-size:10px;font-weight:normal;stroke:none;text-anchor:middle\" transform=\"translate(130.0,0) rotate(0)\" x=\"0\" y=\"0\">0.0</text><text style=\"alignment-baseline:middle;baseline-shift:80%;font-size:10px;font-weight:normal;stroke:none;text-anchor:middle\" transform=\"translate(260.0,0) rotate(0)\" x=\"0\" y=\"0\">0.5</text></g></g></g><g class=\"toyplot-axes-NumberLine\" id=\"t56f35d47fec24890987451be4dbd05dc\"><g class=\"toyplot-coordinate-events\"><g class=\"toyplot-color-Map\" id=\"tb865c312046f4685a46f97fd17f7af1b\" transform=\"translate(350.0,330.0) rotate(-90.0)\"><defs><linearGradient gradientUnits=\"userSpaceOnUse\" id=\"t19b2a73a04f84551a19a7741a28b6e6a\" x1=\"0\" x2=\"260.0\" y1=\"0\" y2=\"0\"><stop offset=\"0.0\" stop-color=\"rgb(33.5%,28.3%,75.6%)\" stop-opacity=\"1.0\"></stop><stop offset=\"0.015873015873\" stop-color=\"rgb(35.2%,31.2%,78.1%)\" stop-opacity=\"1.0\"></stop><stop offset=\"0.031746031746\" stop-color=\"rgb(36.9%,34%,80.5%)\" stop-opacity=\"1.0\"></stop><stop offset=\"0.047619047619\" stop-color=\"rgb(38.6%,36.8%,82.8%)\" stop-opacity=\"1.0\"></stop><stop offset=\"0.0634920634921\" stop-color=\"rgb(40.3%,39.6%,84.9%)\" stop-opacity=\"1.0\"></stop><stop offset=\"0.0793650793651\" stop-color=\"rgb(42%,42.3%,86.9%)\" stop-opacity=\"1.0\"></stop><stop offset=\"0.0952380952381\" stop-color=\"rgb(43.8%,45%,88.8%)\" stop-opacity=\"1.0\"></stop><stop offset=\"0.111111111111\" stop-color=\"rgb(45.5%,47.6%,90.6%)\" stop-opacity=\"1.0\"></stop><stop offset=\"0.126984126984\" stop-color=\"rgb(47.3%,50.2%,92.2%)\" stop-opacity=\"1.0\"></stop><stop offset=\"0.142857142857\" stop-color=\"rgb(49%,52.8%,93.7%)\" stop-opacity=\"1.0\"></stop><stop offset=\"0.15873015873\" stop-color=\"rgb(50.8%,55.3%,95%)\" stop-opacity=\"1.0\"></stop><stop offset=\"0.174603174603\" stop-color=\"rgb(52.6%,57.7%,96.2%)\" stop-opacity=\"1.0\"></stop><stop offset=\"0.190476190476\" stop-color=\"rgb(54.3%,60.1%,97.2%)\" stop-opacity=\"1.0\"></stop><stop offset=\"0.206349206349\" stop-color=\"rgb(56.1%,62.4%,98.1%)\" stop-opacity=\"1.0\"></stop><stop offset=\"0.222222222222\" stop-color=\"rgb(57.9%,64.6%,98.8%)\" stop-opacity=\"1.0\"></stop><stop offset=\"0.238095238095\" stop-color=\"rgb(59.7%,66.7%,99.4%)\" stop-opacity=\"1.0\"></stop><stop offset=\"0.253968253968\" stop-color=\"rgb(61.5%,68.8%,99.8%)\" stop-opacity=\"1.0\"></stop><stop offset=\"0.269841269841\" stop-color=\"rgb(63.3%,70.7%,100%)\" stop-opacity=\"1.0\"></stop><stop offset=\"0.285714285714\" stop-color=\"rgb(65.1%,72.6%,100%)\" stop-opacity=\"1.0\"></stop><stop offset=\"0.301587301587\" stop-color=\"rgb(66.8%,74.3%,100%)\" stop-opacity=\"1.0\"></stop><stop offset=\"0.31746031746\" stop-color=\"rgb(68.6%,76%,99.9%)\" stop-opacity=\"1.0\"></stop><stop offset=\"0.333333333333\" stop-color=\"rgb(70.3%,77.6%,99.5%)\" stop-opacity=\"1.0\"></stop><stop offset=\"0.349206349206\" stop-color=\"rgb(72.1%,79%,99%)\" stop-opacity=\"1.0\"></stop><stop offset=\"0.365079365079\" stop-color=\"rgb(73.8%,80.3%,98.3%)\" stop-opacity=\"1.0\"></stop><stop offset=\"0.380952380952\" stop-color=\"rgb(75.4%,81.5%,97.4%)\" stop-opacity=\"1.0\"></stop><stop offset=\"0.396825396825\" stop-color=\"rgb(77.1%,82.6%,96.4%)\" stop-opacity=\"1.0\"></stop><stop offset=\"0.412698412698\" stop-color=\"rgb(78.7%,83.6%,95.3%)\" stop-opacity=\"1.0\"></stop><stop offset=\"0.428571428571\" stop-color=\"rgb(80.2%,84.4%,94%)\" stop-opacity=\"1.0\"></stop><stop offset=\"0.444444444444\" stop-color=\"rgb(81.7%,85.1%,92.6%)\" stop-opacity=\"1.0\"></stop><stop offset=\"0.460317460317\" stop-color=\"rgb(83.2%,85.7%,91%)\" stop-opacity=\"1.0\"></stop><stop offset=\"0.47619047619\" stop-color=\"rgb(84.6%,86.1%,89.3%)\" stop-opacity=\"1.0\"></stop><stop offset=\"0.492063492063\" stop-color=\"rgb(85.9%,86.4%,87.5%)\" stop-opacity=\"1.0\"></stop><stop offset=\"0.507936507937\" stop-color=\"rgb(87.3%,86.2%,85.4%)\" stop-opacity=\"1.0\"></stop><stop offset=\"0.52380952381\" stop-color=\"rgb(88.7%,85.4%,83.2%)\" stop-opacity=\"1.0\"></stop><stop offset=\"0.539682539683\" stop-color=\"rgb(90%,84.4%,80.8%)\" stop-opacity=\"1.0\"></stop><stop offset=\"0.555555555556\" stop-color=\"rgb(91.1%,83.3%,78.5%)\" stop-opacity=\"1.0\"></stop><stop offset=\"0.571428571429\" stop-color=\"rgb(92.2%,82.1%,76.1%)\" stop-opacity=\"1.0\"></stop><stop offset=\"0.587301587302\" stop-color=\"rgb(93%,80.8%,73.6%)\" stop-opacity=\"1.0\"></stop><stop offset=\"0.603174603175\" stop-color=\"rgb(93.8%,79.3%,71.2%)\" stop-opacity=\"1.0\"></stop><stop offset=\"0.619047619048\" stop-color=\"rgb(94.4%,77.7%,68.7%)\" stop-opacity=\"1.0\"></stop><stop offset=\"0.634920634921\" stop-color=\"rgb(94.8%,76%,66.2%)\" stop-opacity=\"1.0\"></stop><stop offset=\"0.650793650794\" stop-color=\"rgb(95.2%,74.2%,63.7%)\" stop-opacity=\"1.0\"></stop><stop offset=\"0.666666666667\" stop-color=\"rgb(95.4%,72.3%,61.2%)\" stop-opacity=\"1.0\"></stop><stop offset=\"0.68253968254\" stop-color=\"rgb(95.4%,70.2%,58.7%)\" stop-opacity=\"1.0\"></stop><stop offset=\"0.698412698413\" stop-color=\"rgb(95.3%,68.1%,56.2%)\" stop-opacity=\"1.0\"></stop><stop offset=\"0.714285714286\" stop-color=\"rgb(95.1%,65.8%,53.7%)\" stop-opacity=\"1.0\"></stop><stop offset=\"0.730158730159\" stop-color=\"rgb(94.8%,63.5%,51.3%)\" stop-opacity=\"1.0\"></stop><stop offset=\"0.746031746032\" stop-color=\"rgb(94.3%,61%,48.8%)\" stop-opacity=\"1.0\"></stop><stop offset=\"0.761904761905\" stop-color=\"rgb(93.6%,58.5%,46.4%)\" stop-opacity=\"1.0\"></stop><stop offset=\"0.777777777778\" stop-color=\"rgb(92.9%,55.9%,44%)\" stop-opacity=\"1.0\"></stop><stop offset=\"0.793650793651\" stop-color=\"rgb(92%,53.1%,41.6%)\" stop-opacity=\"1.0\"></stop><stop offset=\"0.809523809524\" stop-color=\"rgb(91%,50.3%,39.3%)\" stop-opacity=\"1.0\"></stop><stop offset=\"0.825396825397\" stop-color=\"rgb(89.8%,47.4%,37%)\" stop-opacity=\"1.0\"></stop><stop offset=\"0.84126984127\" stop-color=\"rgb(88.5%,44.5%,34.8%)\" stop-opacity=\"1.0\"></stop><stop offset=\"0.857142857143\" stop-color=\"rgb(87.1%,41.4%,32.6%)\" stop-opacity=\"1.0\"></stop><stop offset=\"0.873015873016\" stop-color=\"rgb(85.6%,38.2%,30.5%)\" stop-opacity=\"1.0\"></stop><stop offset=\"0.888888888889\" stop-color=\"rgb(84%,34.9%,28.4%)\" stop-opacity=\"1.0\"></stop><stop offset=\"0.904761904762\" stop-color=\"rgb(82.2%,31.5%,26.3%)\" stop-opacity=\"1.0\"></stop><stop offset=\"0.920634920635\" stop-color=\"rgb(80.3%,28%,24.4%)\" stop-opacity=\"1.0\"></stop><stop offset=\"0.936507936508\" stop-color=\"rgb(78.4%,24.2%,22.5%)\" stop-opacity=\"1.0\"></stop><stop offset=\"0.952380952381\" stop-color=\"rgb(76.3%,20.1%,20.6%)\" stop-opacity=\"1.0\"></stop><stop offset=\"0.968253968254\" stop-color=\"rgb(74.1%,15.5%,18.8%)\" stop-opacity=\"1.0\"></stop><stop offset=\"0.984126984127\" stop-color=\"rgb(71.8%,9.83%,17.1%)\" stop-opacity=\"1.0\"></stop><stop offset=\"1.0\" stop-color=\"rgb(69.5%,0.296%,15.5%)\" stop-opacity=\"1.0\"></stop></linearGradient></defs><rect height=\"10\" style=\"fill:url(#t19b2a73a04f84551a19a7741a28b6e6a);stroke:none\" width=\"260.0\" x=\"0.0\" y=\"-10\"></rect></g></g><g class=\"toyplot-axes-Axis\" id=\"t985afc0d6f5b494583d499d73d687102\" transform=\"translate(350.0,330.0) rotate(-90.0) translate(0,5)\"><line style=\"\" x1=\"0\" x2=\"260.0\" y1=\"0\" y2=\"0\"></line><g><text style=\"alignment-baseline:middle;baseline-shift:-100%;font-size:10px;font-weight:normal;stroke:none;text-anchor:middle\" transform=\"translate(0.0,0) rotate(0)\" x=\"0\" y=\"0\">-0.5</text><text style=\"alignment-baseline:middle;baseline-shift:-100%;font-size:10px;font-weight:normal;stroke:none;text-anchor:middle\" transform=\"translate(130.0,0) rotate(0)\" x=\"0\" y=\"0\">0.0</text><text style=\"alignment-baseline:middle;baseline-shift:-100%;font-size:10px;font-weight:normal;stroke:none;text-anchor:middle\" transform=\"translate(260.0,0) rotate(0)\" x=\"0\" y=\"0\">0.5</text></g><text style=\"alignment-baseline:middle;baseline-shift:-200%;font-weight:bold;stroke:none;text-anchor:middle\" x=\"130.0\" y=\"0\">Color Scale</text></g></g></svg><div class=\"toyplot-controls\"><ul class=\"toyplot-mark-popup\" onmouseleave=\"this.style.visibility='hidden'\" style=\"background:rgba(0%,0%,0%,0.75);border:0;border-radius:6px;color:white;cursor:default;list-style:none;margin:0;padding:5px;position:fixed;visibility:hidden\"><li class=\"toyplot-mark-popup-title\" style=\"color:lightgray;cursor:default;padding:5px;list-style:none;margin:0;\"></li><li class=\"toyplot-mark-popup-save-csv\" onmouseout=\"this.style.color='white';this.style.background='steelblue'\" onmouseover=\"this.style.color='steelblue';this.style.background='white'\" style=\"border-radius:3px;padding:5px;list-style:none;margin:0;\">Save as .csv</li></ul><script>\n",
       "(function()\n",
       "{\n",
       "  if(window.CSS !== undefined && window.CSS.supports !== undefined)\n",
       "  {\n",
       "    if(!window.CSS.supports(\"alignment-baseline\", \"middle\"))\n",
       "    {\n",
       "      var re = /\\s*alignment-baseline\\s*:\\s*([^;\\s]*)\\s*/;\n",
       "      var text = document.querySelectorAll(\"#ta464e12a285d4d93b5771842a1440986 text\");\n",
       "      for(var i = 0; i != text.length; ++i)\n",
       "      {\n",
       "        var match = re.exec(text[i].attributes.style.value);\n",
       "        if(match)\n",
       "        {\n",
       "          if(match[1] == \"middle\")\n",
       "          {\n",
       "            var style = getComputedStyle(text[i]);\n",
       "            var font_size = style.fontSize.substr(0, style.fontSize.length - 2);\n",
       "            var dy = text[i].dy.baseVal.length ? text[i].dy.baseVal[0].value : 0;\n",
       "            dy += 0.4 * font_size;\n",
       "            text[i].setAttribute(\"dy\", dy);\n",
       "          }\n",
       "        }\n",
       "      }\n",
       "    }\n",
       "    if(!window.CSS.supports(\"baseline-shift\", \"0\"))\n",
       "    {\n",
       "      var re = /\\s*baseline-shift\\s*:\\s*([^;\\s]*)\\s*/;\n",
       "      var text = document.querySelectorAll(\"#ta464e12a285d4d93b5771842a1440986 text\");\n",
       "      for(var i = 0; i != text.length; ++i)\n",
       "      {\n",
       "        var match = re.exec(text[i].attributes.style.value);\n",
       "        if(match)\n",
       "        {\n",
       "          var style = getComputedStyle(text[i]);\n",
       "          var font_size = style.fontSize.substr(0, style.fontSize.length - 2);\n",
       "          var percent = 0.01 * match[1].substr(0, match[1].length-1);\n",
       "          var dy = text[i].dy.baseVal.length ? text[i].dy.baseVal[0].value : 0;\n",
       "          dy -= percent * font_size\n",
       "          text[i].setAttribute(\"dy\", dy);\n",
       "        }\n",
       "      }\n",
       "    }\n",
       "  }\n",
       "})();\n",
       "</script><script>\n",
       "(function()\n",
       "{\n",
       "  var axes = {\"t40b1c6fdcaad4f01b596c4f7707a7689\": {\"x\": [{\"domain\": {\"bounds\": {\"max\": Infinity, \"min\": -Infinity}, \"max\": 0.5, \"min\": -0.5}, \"range\": {\"bounds\": {\"max\": Infinity, \"min\": -Infinity}, \"max\": 330.0, \"min\": 70.0}, \"scale\": \"linear\"}], \"y\": [{\"domain\": {\"bounds\": {\"max\": Infinity, \"min\": -Infinity}, \"max\": 0.5, \"min\": -0.5}, \"range\": {\"bounds\": {\"max\": -Infinity, \"min\": Infinity}, \"max\": 70.0, \"min\": 330.0}, \"scale\": \"linear\"}]}};\n",
       "\n",
       "  function sign(x)\n",
       "  {\n",
       "    return x < 0 ? -1 : x > 0 ? 1 : 0;\n",
       "  }\n",
       "\n",
       "  function _mix(a, b, amount)\n",
       "  {\n",
       "    return ((1.0 - amount) * a) + (amount * b);\n",
       "  }\n",
       "\n",
       "  function _log(x, base)\n",
       "  {\n",
       "    return Math.log(Math.abs(x)) / Math.log(base);\n",
       "  }\n",
       "\n",
       "  function _in_range(a, x, b)\n",
       "  {\n",
       "    var left = Math.min(a, b);\n",
       "    var right = Math.max(a, b);\n",
       "    return left <= x && x <= right;\n",
       "  }\n",
       "\n",
       "  function to_domain(projection, range)\n",
       "  {\n",
       "    for(var i = 0; i != projection.length; ++i)\n",
       "    {\n",
       "      var segment = projection[i];\n",
       "      if(_in_range(segment.range.bounds.min, range, segment.range.bounds.max))\n",
       "      {\n",
       "        if(segment.scale == \"linear\")\n",
       "        {\n",
       "          var amount = (range - segment.range.min) / (segment.range.max - segment.range.min);\n",
       "          return _mix(segment.domain.min, segment.domain.max, amount)\n",
       "        }\n",
       "        else if(segment.scale[0] == \"log\")\n",
       "        {\n",
       "          var amount = (range - segment.range.min) / (segment.range.max - segment.range.min);\n",
       "          var base = segment.scale[1];\n",
       "          return sign(segment.domain.min) * Math.pow(base, _mix(_log(segment.domain.min, base), _log(segment.domain.max, base), amount));\n",
       "        }\n",
       "      }\n",
       "    }\n",
       "  }\n",
       "\n",
       "  // Compute mouse coordinates relative to a DOM object, with thanks to d3js.org, where this code originated.\n",
       "  function d3_mousePoint(container, e)\n",
       "  {\n",
       "    if (e.changedTouches) e = e.changedTouches[0];\n",
       "    var svg = container.ownerSVGElement || container;\n",
       "    if (svg.createSVGPoint) {\n",
       "      var point = svg.createSVGPoint();\n",
       "      point.x = e.clientX, point.y = e.clientY;\n",
       "      point = point.matrixTransform(container.getScreenCTM().inverse());\n",
       "      return [point.x, point.y];\n",
       "    }\n",
       "    var rect = container.getBoundingClientRect();\n",
       "    return [e.clientX - rect.left - container.clientLeft, e.clientY - rect.top - container.clientTop];\n",
       "  };\n",
       "\n",
       "  function display_coordinates(e)\n",
       "  {\n",
       "    var dom_axes = e.currentTarget.parentElement;\n",
       "    var data = axes[dom_axes.id];\n",
       "\n",
       "    point = d3_mousePoint(e.target, e);\n",
       "    var x = Number(to_domain(data[\"x\"], point[0])).toFixed(2);\n",
       "    var y = Number(to_domain(data[\"y\"], point[1])).toFixed(2);\n",
       "\n",
       "    var coordinates = dom_axes.querySelectorAll(\".toyplot-coordinates\");\n",
       "    for(var i = 0; i != coordinates.length; ++i)\n",
       "    {\n",
       "      coordinates[i].style.visibility = \"visible\";\n",
       "      coordinates[i].querySelector(\"text\").textContent = \"x=\" + x + \" y=\" + y;\n",
       "    }\n",
       "  }\n",
       "\n",
       "  function clear_coordinates(e)\n",
       "  {\n",
       "    var dom_axes = e.currentTarget.parentElement;\n",
       "    var coordinates = dom_axes.querySelectorAll(\".toyplot-coordinates\");\n",
       "    for(var i = 0; i != coordinates.length; ++i)\n",
       "      coordinates[i].style.visibility = \"hidden\";\n",
       "  }\n",
       "\n",
       "  for(var axes_id in axes)\n",
       "  {\n",
       "    var event_target = document.querySelector(\"#\" + axes_id + \" .toyplot-coordinate-events\");\n",
       "    event_target.onmousemove = display_coordinates;\n",
       "    event_target.onmouseout = clear_coordinates;\n",
       "  }\n",
       "})();\n",
       "</script></div></div>"
      ],
      "text/plain": [
       "<toyplot.canvas.Canvas at 0x106945810>"
      ]
     },
     "metadata": {},
     "output_type": "display_data"
    }
   ],
   "source": [
    "colormap = toyplot.color.diverging(\"BlueRed\", domain_min=-0.5, domain_max=0.5)\n",
    "canvas = toyplot.Canvas(width=400, style={\"border\":\"1px solid #dedede\"})\n",
    "axes = canvas.axes(gutter=70)\n",
    "axes.color_scale(colormap, label=\"Color Scale\")"
   ]
  },
  {
   "cell_type": "code",
   "execution_count": 8,
   "metadata": {
    "collapsed": false
   },
   "outputs": [
    {
     "data": {
      "text/plain": [
       "<toyplot.axes.Table at 0x1094a23d0>"
      ]
     },
     "execution_count": 8,
     "metadata": {},
     "output_type": "execute_result"
    },
    {
     "data": {
      "text/html": [
       "<div align=\"center\" class=\"toyplot\" id=\"tdcdab55ab9634c238e7749dafb36a6c9\"><svg height=\"400.0px\" id=\"tc7ae7d0a180e437c94aed3e49f9f351b\" preserveAspectRatio=\"xMidYMid meet\" style=\"background-color:transparent;border:1px solid #dedede;fill:rgb(16.1%,15.3%,14.1%);fill-opacity:1.0;font-family:Helvetica;font-size:12px;opacity:1.0;stroke:rgb(16.1%,15.3%,14.1%);stroke-opacity:1.0;stroke-width:1.0\" viewBox=\"0 0 400.0 400.0\" width=\"400.0px\" xmlns=\"http://www.w3.org/2000/svg\" xmlns:toyplot=\"http://www.sandia.gov/toyplot\"><g class=\"toyplot-axes-Table\" id=\"t3f23404d9641451d99d109fb73ce048f\"><text style=\"alignment-baseline:middle;fill:rgb(16.1%,15.3%,14.1%);fill-opacity:1.0;font-size:12px;font-weight:bold;stroke:none;text-anchor:middle\" transform=\"rotate(0,101.0,80.0)\" x=\"101.0\" y=\"80.0\">0</text><text style=\"alignment-baseline:middle;fill:rgb(16.1%,15.3%,14.1%);fill-opacity:1.0;font-size:12px;font-weight:bold;stroke:none;text-anchor:middle\" transform=\"rotate(0,123.0,80.0)\" x=\"123.0\" y=\"80.0\">1</text><text style=\"alignment-baseline:middle;fill:rgb(16.1%,15.3%,14.1%);fill-opacity:1.0;font-size:12px;font-weight:bold;stroke:none;text-anchor:middle\" transform=\"rotate(0,145.0,80.0)\" x=\"145.0\" y=\"80.0\">2</text><text style=\"alignment-baseline:middle;fill:rgb(16.1%,15.3%,14.1%);fill-opacity:1.0;font-size:12px;font-weight:bold;stroke:none;text-anchor:middle\" transform=\"rotate(0,167.0,80.0)\" x=\"167.0\" y=\"80.0\">3</text><text style=\"alignment-baseline:middle;fill:rgb(16.1%,15.3%,14.1%);fill-opacity:1.0;font-size:12px;font-weight:bold;stroke:none;text-anchor:middle\" transform=\"rotate(0,189.0,80.0)\" x=\"189.0\" y=\"80.0\">4</text><text style=\"alignment-baseline:middle;fill:rgb(16.1%,15.3%,14.1%);fill-opacity:1.0;font-size:12px;font-weight:bold;stroke:none;text-anchor:middle\" transform=\"rotate(0,211.0,80.0)\" x=\"211.0\" y=\"80.0\">5</text><text style=\"alignment-baseline:middle;fill:rgb(16.1%,15.3%,14.1%);fill-opacity:1.0;font-size:12px;font-weight:bold;stroke:none;text-anchor:middle\" transform=\"rotate(0,233.0,80.0)\" x=\"233.0\" y=\"80.0\">6</text><text style=\"alignment-baseline:middle;fill:rgb(16.1%,15.3%,14.1%);fill-opacity:1.0;font-size:12px;font-weight:bold;stroke:none;text-anchor:middle\" transform=\"rotate(0,255.0,80.0)\" x=\"255.0\" y=\"80.0\">7</text><text style=\"alignment-baseline:middle;fill:rgb(16.1%,15.3%,14.1%);fill-opacity:1.0;font-size:12px;font-weight:bold;stroke:none;text-anchor:middle\" transform=\"rotate(0,277.0,80.0)\" x=\"277.0\" y=\"80.0\">8</text><text style=\"alignment-baseline:middle;fill:rgb(16.1%,15.3%,14.1%);fill-opacity:1.0;font-size:12px;font-weight:bold;stroke:none;text-anchor:middle\" transform=\"rotate(0,299.0,80.0)\" x=\"299.0\" y=\"80.0\">9</text><text style=\"alignment-baseline:middle;fill:rgb(16.1%,15.3%,14.1%);fill-opacity:1.0;font-size:12px;font-weight:bold;stroke:none;text-anchor:end\" x=\"85.0\" y=\"101.0\">0</text><rect height=\"22.0\" style=\"fill:rgb(25.5%,56.6%,75.9%);fill-opacity:1.0;stroke:none\" width=\"22.0\" x=\"90.0\" y=\"90.0\"><title>-1.27751535138</title></rect><rect height=\"22.0\" style=\"fill:rgb(70.6%,84%,90.9%);fill-opacity:1.0;stroke:none\" width=\"22.0\" x=\"112.0\" y=\"90.0\"><title>-0.532770381254</title></rect><rect height=\"22.0\" style=\"fill:rgb(77.4%,24.6%,24%);fill-opacity:1.0;stroke:none\" width=\"22.0\" x=\"134.0\" y=\"90.0\"><title>1.75787159516</title></rect><rect height=\"22.0\" style=\"fill:rgb(66.8%,8.46%,16.4%);fill-opacity:1.0;stroke:none\" width=\"22.0\" x=\"156.0\" y=\"90.0\"><title>2.05585838941</title></rect><rect height=\"22.0\" style=\"fill:rgb(97.7%,92.9%,90.1%);fill-opacity:1.0;stroke:none\" width=\"22.0\" x=\"178.0\" y=\"90.0\"><title>0.31447393015</title></rect><rect height=\"22.0\" style=\"fill:rgb(84.3%,90.9%,94.5%);fill-opacity:1.0;stroke:none\" width=\"22.0\" x=\"200.0\" y=\"90.0\"><title>-0.247051305485</title></rect><rect height=\"22.0\" style=\"fill:rgb(83.5%,90.6%,94.4%);fill-opacity:1.0;stroke:none\" width=\"22.0\" x=\"222.0\" y=\"90.0\"><title>-0.269342609076</title></rect><rect height=\"22.0\" style=\"fill:rgb(82.9%,90.2%,94.3%);fill-opacity:1.0;stroke:none\" width=\"22.0\" x=\"244.0\" y=\"90.0\"><title>-0.290668454609</title></rect><rect height=\"22.0\" style=\"fill:rgb(4.23%,23.2%,44.1%);fill-opacity:1.0;stroke:none\" width=\"22.0\" x=\"266.0\" y=\"90.0\"><title>-2.08410415001</title></rect><rect height=\"22.0\" style=\"fill:rgb(97.6%,93.6%,91.2%);fill-opacity:1.0;stroke:none\" width=\"22.0\" x=\"288.0\" y=\"90.0\"><title>0.286735726596</title></rect><text style=\"alignment-baseline:middle;fill:rgb(16.1%,15.3%,14.1%);fill-opacity:1.0;font-size:12px;font-weight:bold;stroke:none;text-anchor:end\" x=\"85.0\" y=\"123.0\">1</text><rect height=\"22.0\" style=\"fill:rgb(50.3%,72.9%,84.7%);fill-opacity:1.0;stroke:none\" width=\"22.0\" x=\"90.0\" y=\"112.0\"><title>-0.887915291801</title></rect><rect height=\"22.0\" style=\"fill:rgb(40.4%,0%,12.2%);fill-opacity:1.0;stroke:none\" width=\"22.0\" x=\"112.0\" y=\"112.0\"><title>2.47416832975</title></rect><rect height=\"22.0\" style=\"fill:rgb(97.7%,76.9%,66.6%);fill-opacity:1.0;stroke:none\" width=\"22.0\" x=\"134.0\" y=\"112.0\"><title>0.808858885309</title></rect><rect height=\"22.0\" style=\"fill:rgb(96.3%,96.6%,96.8%);fill-opacity:1.0;stroke:none\" width=\"22.0\" x=\"156.0\" y=\"112.0\"><title>0.128458270919</title></rect><rect height=\"22.0\" style=\"fill:rgb(65.1%,81.2%,89.3%);fill-opacity:1.0;stroke:none\" width=\"22.0\" x=\"178.0\" y=\"112.0\"><title>-0.636551144632</title></rect><rect height=\"22.0\" style=\"fill:rgb(65.1%,81.3%,89.3%);fill-opacity:1.0;stroke:none\" width=\"22.0\" x=\"200.0\" y=\"112.0\"><title>-0.635641332598</title></rect><rect height=\"22.0\" style=\"fill:rgb(98.5%,89.4%,84.1%);fill-opacity:1.0;stroke:none\" width=\"22.0\" x=\"222.0\" y=\"112.0\"><title>0.463299302471</title></rect><rect height=\"22.0\" style=\"fill:rgb(25.8%,57%,76.1%);fill-opacity:1.0;stroke:none\" width=\"22.0\" x=\"244.0\" y=\"112.0\"><title>-1.26711578468</title></rect><rect height=\"22.0\" style=\"fill:rgb(97.2%,95.3%,94.1%);fill-opacity:1.0;stroke:none\" width=\"22.0\" x=\"266.0\" y=\"112.0\"><title>0.21468497403</title></rect><rect height=\"22.0\" style=\"fill:rgb(67.6%,82.5%,90%);fill-opacity:1.0;stroke:none\" width=\"22.0\" x=\"288.0\" y=\"112.0\"><title>-0.589612542545</title></rect><text style=\"alignment-baseline:middle;fill:rgb(16.1%,15.3%,14.1%);fill-opacity:1.0;font-size:12px;font-weight:bold;stroke:none;text-anchor:end\" x=\"85.0\" y=\"145.0\">2</text><rect height=\"22.0\" style=\"fill:rgb(26%,57.3%,76.3%);fill-opacity:1.0;stroke:none\" width=\"22.0\" x=\"90.0\" y=\"134.0\"><title>-1.2579796213</title></rect><rect height=\"22.0\" style=\"fill:rgb(60.9%,79.1%,88.1%);fill-opacity:1.0;stroke:none\" width=\"22.0\" x=\"112.0\" y=\"134.0\"><title>-0.715079821638</title></rect><rect height=\"22.0\" style=\"fill:rgb(97.3%,74.6%,63.6%);fill-opacity:1.0;stroke:none\" width=\"22.0\" x=\"134.0\" y=\"134.0\"><title>0.860799486254</title></rect><rect height=\"22.0\" style=\"fill:rgb(65%,81.2%,89.3%);fill-opacity:1.0;stroke:none\" width=\"22.0\" x=\"156.0\" y=\"134.0\"><title>-0.637692578316</title></rect><rect height=\"22.0\" style=\"fill:rgb(97.7%,77%,66.7%);fill-opacity:1.0;stroke:none\" width=\"22.0\" x=\"178.0\" y=\"134.0\"><title>0.807894849394</title></rect><rect height=\"22.0\" style=\"fill:rgb(25.2%,56.2%,75.7%);fill-opacity:1.0;stroke:none\" width=\"22.0\" x=\"200.0\" y=\"134.0\"><title>-1.28869948188</title></rect><rect height=\"22.0\" style=\"fill:rgb(58.3%,77.8%,87.4%);fill-opacity:1.0;stroke:none\" width=\"22.0\" x=\"222.0\" y=\"134.0\"><title>-0.763490943017</title></rect><rect height=\"22.0\" style=\"fill:rgb(71.6%,84.5%,91.2%);fill-opacity:1.0;stroke:none\" width=\"22.0\" x=\"244.0\" y=\"134.0\"><title>-0.513830912518</title></rect><rect height=\"22.0\" style=\"fill:rgb(97.6%,93.5%,91.1%);fill-opacity:1.0;stroke:none\" width=\"22.0\" x=\"266.0\" y=\"134.0\"><title>0.289807912455</title></rect><rect height=\"22.0\" style=\"fill:rgb(98%,91.8%,88.1%);fill-opacity:1.0;stroke:none\" width=\"22.0\" x=\"288.0\" y=\"134.0\"><title>0.362778900703</title></rect><text style=\"alignment-baseline:middle;fill:rgb(16.1%,15.3%,14.1%);fill-opacity:1.0;font-size:12px;font-weight:bold;stroke:none;text-anchor:end\" x=\"85.0\" y=\"167.0\">3</text><rect height=\"22.0\" style=\"fill:rgb(69.1%,83.2%,90.4%);fill-opacity:1.0;stroke:none\" width=\"22.0\" x=\"90.0\" y=\"156.0\"><title>-0.561701991074</title></rect><rect height=\"22.0\" style=\"fill:rgb(99.1%,85.2%,77.2%);fill-opacity:1.0;stroke:none\" width=\"22.0\" x=\"112.0\" y=\"156.0\"><title>0.626634700838</title></rect><rect height=\"22.0\" style=\"fill:rgb(97.9%,92%,88.6%);fill-opacity:1.0;stroke:none\" width=\"22.0\" x=\"134.0\" y=\"156.0\"><title>0.352071150575</title></rect><rect height=\"22.0\" style=\"fill:rgb(26.7%,57.9%,76.6%);fill-opacity:1.0;stroke:none\" width=\"22.0\" x=\"156.0\" y=\"156.0\"><title>-1.24237086874</title></rect><rect height=\"22.0\" style=\"fill:rgb(77.1%,87.3%,92.7%);fill-opacity:1.0;stroke:none\" width=\"22.0\" x=\"178.0\" y=\"156.0\"><title>-0.410129623885</title></rect><rect height=\"22.0\" style=\"fill:rgb(85.5%,41.2%,32.9%);fill-opacity:1.0;stroke:none\" width=\"22.0\" x=\"200.0\" y=\"156.0\"><title>1.48241398857</title></rect><rect height=\"22.0\" style=\"fill:rgb(96.3%,68.2%,55.5%);fill-opacity:1.0;stroke:none\" width=\"22.0\" x=\"222.0\" y=\"156.0\"><title>1.00074193548</title></rect><rect height=\"22.0\" style=\"fill:rgb(20.6%,50.2%,72.7%);fill-opacity:1.0;stroke:none\" width=\"22.0\" x=\"244.0\" y=\"156.0\"><title>-1.44620455476</title></rect><rect height=\"22.0\" style=\"fill:rgb(67.6%,82.5%,90%);fill-opacity:1.0;stroke:none\" width=\"22.0\" x=\"266.0\" y=\"156.0\"><title>-0.589005362356</title></rect><rect height=\"22.0\" style=\"fill:rgb(97.2%,73.7%,62.5%);fill-opacity:1.0;stroke:none\" width=\"22.0\" x=\"288.0\" y=\"156.0\"><title>0.879310397931</title></rect><text style=\"alignment-baseline:middle;fill:rgb(16.1%,15.3%,14.1%);fill-opacity:1.0;font-size:12px;font-weight:bold;stroke:none;text-anchor:end\" x=\"85.0\" y=\"189.0\">4</text><rect height=\"22.0\" style=\"fill:rgb(92.1%,56.5%,44.7%);fill-opacity:1.0;stroke:none\" width=\"22.0\" x=\"90.0\" y=\"178.0\"><title>1.21877015227</title></rect><rect height=\"22.0\" style=\"fill:rgb(97.2%,95.2%,94.1%);fill-opacity:1.0;stroke:none\" width=\"22.0\" x=\"112.0\" y=\"178.0\"><title>0.216347596421</title></rect><rect height=\"22.0\" style=\"fill:rgb(97.2%,95.2%,94%);fill-opacity:1.0;stroke:none\" width=\"22.0\" x=\"134.0\" y=\"178.0\"><title>0.218212161796</title></rect><rect height=\"22.0\" style=\"fill:rgb(98.4%,80.7%,71.4%);fill-opacity:1.0;stroke:none\" width=\"22.0\" x=\"156.0\" y=\"178.0\"><title>0.725807327853</title></rect><rect height=\"22.0\" style=\"fill:rgb(79.5%,88.6%,93.4%);fill-opacity:1.0;stroke:none\" width=\"22.0\" x=\"178.0\" y=\"178.0\"><title>-0.364176968344</title></rect><rect height=\"22.0\" style=\"fill:rgb(84.5%,91%,94.6%);fill-opacity:1.0;stroke:none\" width=\"22.0\" x=\"200.0\" y=\"178.0\"><title>-0.240091083001</title></rect><rect height=\"22.0\" style=\"fill:rgb(98.1%,90.9%,86.6%);fill-opacity:1.0;stroke:none\" width=\"22.0\" x=\"222.0\" y=\"178.0\"><title>0.401069510891</title></rect><rect height=\"22.0\" style=\"fill:rgb(39.8%,66.2%,81.1%);fill-opacity:1.0;stroke:none\" width=\"22.0\" x=\"244.0\" y=\"178.0\"><title>-1.0459873436</title></rect><rect height=\"22.0\" style=\"fill:rgb(75.4%,86.5%,92.3%);fill-opacity:1.0;stroke:none\" width=\"22.0\" x=\"266.0\" y=\"178.0\"><title>-0.441288931232</title></rect><rect height=\"22.0\" style=\"fill:rgb(36%,63.8%,79.8%);fill-opacity:1.0;stroke:none\" width=\"22.0\" x=\"288.0\" y=\"178.0\"><title>-1.10274558706</title></rect><text style=\"alignment-baseline:middle;fill:rgb(16.1%,15.3%,14.1%);fill-opacity:1.0;font-size:12px;font-weight:bold;stroke:none;text-anchor:end\" x=\"85.0\" y=\"211.0\">5</text><rect height=\"22.0\" style=\"fill:rgb(96.3%,68.3%,55.6%);fill-opacity:1.0;stroke:none\" width=\"22.0\" x=\"90.0\" y=\"200.0\"><title>0.998629200626</title></rect><rect height=\"22.0\" style=\"fill:rgb(56.3%,76.6%,86.7%);fill-opacity:1.0;stroke:none\" width=\"22.0\" x=\"112.0\" y=\"200.0\"><title>-0.798912511053</title></rect><rect height=\"22.0\" style=\"fill:rgb(97.6%,93.6%,91.3%);fill-opacity:1.0;stroke:none\" width=\"22.0\" x=\"134.0\" y=\"200.0\"><title>0.285407016617</title></rect><rect height=\"22.0\" style=\"fill:rgb(90.3%,52.4%,41.6%);fill-opacity:1.0;stroke:none\" width=\"22.0\" x=\"156.0\" y=\"200.0\"><title>1.28891868039</title></rect><rect height=\"22.0\" style=\"fill:rgb(97.6%,93.3%,90.7%);fill-opacity:1.0;stroke:none\" width=\"22.0\" x=\"178.0\" y=\"200.0\"><title>0.298108812434</title></rect><rect height=\"22.0\" style=\"fill:rgb(71.5%,12.8%,18.5%);fill-opacity:1.0;stroke:none\" width=\"22.0\" x=\"200.0\" y=\"200.0\"><title>1.95222358876</title></rect><rect height=\"22.0\" style=\"fill:rgb(97.6%,93.5%,91.1%);fill-opacity:1.0;stroke:none\" width=\"22.0\" x=\"222.0\" y=\"200.0\"><title>0.288499636149</title></rect><rect height=\"22.0\" style=\"fill:rgb(80%,88.8%,93.6%);fill-opacity:1.0;stroke:none\" width=\"22.0\" x=\"244.0\" y=\"200.0\"><title>-0.355179398264</title></rect><rect height=\"22.0\" style=\"fill:rgb(97.7%,92.9%,90%);fill-opacity:1.0;stroke:none\" width=\"22.0\" x=\"266.0\" y=\"200.0\"><title>0.31653294999</title></rect><rect height=\"22.0\" style=\"fill:rgb(62.2%,79.8%,88.5%);fill-opacity:1.0;stroke:none\" width=\"22.0\" x=\"288.0\" y=\"200.0\"><title>-0.690612848646</title></rect><text style=\"alignment-baseline:middle;fill:rgb(16.1%,15.3%,14.1%);fill-opacity:1.0;font-size:12px;font-weight:bold;stroke:none;text-anchor:end\" x=\"85.0\" y=\"233.0\">6</text><rect height=\"22.0\" style=\"fill:rgb(97.3%,74.1%,63%);fill-opacity:1.0;stroke:none\" width=\"22.0\" x=\"90.0\" y=\"222.0\"><title>0.870786306049</title></rect><rect height=\"22.0\" style=\"fill:rgb(80.7%,89.2%,93.8%);fill-opacity:1.0;stroke:none\" width=\"22.0\" x=\"112.0\" y=\"222.0\"><title>-0.342444390975</title></rect><rect height=\"22.0\" style=\"fill:rgb(98.5%,81.5%,72.5%);fill-opacity:1.0;stroke:none\" width=\"22.0\" x=\"134.0\" y=\"222.0\"><title>0.708020114603</title></rect><rect height=\"22.0\" style=\"fill:rgb(88.8%,93.1%,95.4%);fill-opacity:1.0;stroke:none\" width=\"22.0\" x=\"156.0\" y=\"222.0\"><title>-0.104506093767</title></rect><rect height=\"22.0\" style=\"fill:rgb(62.6%,79.9%,88.6%);fill-opacity:1.0;stroke:none\" width=\"22.0\" x=\"178.0\" y=\"222.0\"><title>-0.684131654535</title></rect><rect height=\"22.0\" style=\"fill:rgb(21.7%,51.6%,73.4%);fill-opacity:1.0;stroke:none\" width=\"22.0\" x=\"200.0\" y=\"222.0\"><title>-1.40801826202</title></rect><rect height=\"22.0\" style=\"fill:rgb(86.9%,44.4%,35.4%);fill-opacity:1.0;stroke:none\" width=\"22.0\" x=\"222.0\" y=\"222.0\"><title>1.4269425021</title></rect><rect height=\"22.0\" style=\"fill:rgb(76.4%,87%,92.5%);fill-opacity:1.0;stroke:none\" width=\"22.0\" x=\"244.0\" y=\"222.0\"><title>-0.422411577265</title></rect><rect height=\"22.0\" style=\"fill:rgb(34.2%,62.7%,79.2%);fill-opacity:1.0;stroke:none\" width=\"22.0\" x=\"266.0\" y=\"222.0\"><title>-1.13003525738</title></rect><rect height=\"22.0\" style=\"fill:rgb(88.8%,93%,95.4%);fill-opacity:1.0;stroke:none\" width=\"22.0\" x=\"288.0\" y=\"222.0\"><title>-0.105009138371</title></rect><text style=\"alignment-baseline:middle;fill:rgb(16.1%,15.3%,14.1%);fill-opacity:1.0;font-size:12px;font-weight:bold;stroke:none;text-anchor:end\" x=\"85.0\" y=\"255.0\">7</text><rect height=\"22.0\" style=\"fill:rgb(98%,91.6%,87.9%);fill-opacity:1.0;stroke:none\" width=\"22.0\" x=\"90.0\" y=\"244.0\"><title>0.367930168386</title></rect><rect height=\"22.0\" style=\"fill:rgb(1.96%,18.8%,38%);fill-opacity:1.0;stroke:none\" width=\"22.0\" x=\"112.0\" y=\"244.0\"><title>-2.1804208884</title></rect><rect height=\"22.0\" style=\"fill:rgb(43.9%,68.8%,82.5%);fill-opacity:1.0;stroke:none\" width=\"22.0\" x=\"134.0\" y=\"244.0\"><title>-0.985155365968</title></rect><rect height=\"22.0\" style=\"fill:rgb(91.7%,94.4%,95.9%);fill-opacity:1.0;stroke:none\" width=\"22.0\" x=\"156.0\" y=\"244.0\"><title>-0.0148517117818</title></rect><rect height=\"22.0\" style=\"fill:rgb(15.9%,44%,69.5%);fill-opacity:1.0;stroke:none\" width=\"22.0\" x=\"178.0\" y=\"244.0\"><title>-1.61000895564</title></rect><rect height=\"22.0\" style=\"fill:rgb(96%,66.8%,53.7%);fill-opacity:1.0;stroke:none\" width=\"22.0\" x=\"200.0\" y=\"244.0\"><title>1.03170579673</title></rect><rect height=\"22.0\" style=\"fill:rgb(93.7%,95.3%,96.3%);fill-opacity:1.0;stroke:none\" width=\"22.0\" x=\"222.0\" y=\"244.0\"><title>0.047024905819</title></rect><rect height=\"22.0\" style=\"fill:rgb(67.6%,82.5%,90%);fill-opacity:1.0;stroke:none\" width=\"22.0\" x=\"244.0\" y=\"244.0\"><title>-0.588525655907</title></rect><rect height=\"22.0\" style=\"fill:rgb(52.4%,74.2%,85.4%);fill-opacity:1.0;stroke:none\" width=\"22.0\" x=\"266.0\" y=\"244.0\"><title>-0.856823801504</title></rect><rect height=\"22.0\" style=\"fill:rgb(82.8%,35.4%,29.1%);fill-opacity:1.0;stroke:none\" width=\"22.0\" x=\"288.0\" y=\"244.0\"><title>1.58082513931</title></rect><text style=\"alignment-baseline:middle;fill:rgb(16.1%,15.3%,14.1%);fill-opacity:1.0;font-size:12px;font-weight:bold;stroke:none;text-anchor:end\" x=\"85.0\" y=\"277.0\">8</text><rect height=\"22.0\" style=\"fill:rgb(99%,86.8%,79.6%);fill-opacity:1.0;stroke:none\" width=\"22.0\" x=\"90.0\" y=\"266.0\"><title>0.574249437692</title></rect><rect height=\"22.0\" style=\"fill:rgb(97.1%,95.6%,94.7%);fill-opacity:1.0;stroke:none\" width=\"22.0\" x=\"112.0\" y=\"266.0\"><title>0.201566307576</title></rect><rect height=\"22.0\" style=\"fill:rgb(98.2%,90.7%,86.2%);fill-opacity:1.0;stroke:none\" width=\"22.0\" x=\"134.0\" y=\"266.0\"><title>0.410145875286</title></rect><rect height=\"22.0\" style=\"fill:rgb(97.2%,95.5%,94.5%);fill-opacity:1.0;stroke:none\" width=\"22.0\" x=\"156.0\" y=\"266.0\"><title>0.204936856501</title></rect><rect height=\"22.0\" style=\"fill:rgb(98%,91.4%,87.5%);fill-opacity:1.0;stroke:none\" width=\"22.0\" x=\"178.0\" y=\"266.0\"><title>0.379230152535</title></rect><rect height=\"22.0\" style=\"fill:rgb(79.7%,29.3%,26.2%);fill-opacity:1.0;stroke:none\" width=\"22.0\" x=\"200.0\" y=\"266.0\"><title>1.68109028007</title></rect><rect height=\"22.0\" style=\"fill:rgb(33.9%,62.5%,79.1%);fill-opacity:1.0;stroke:none\" width=\"22.0\" x=\"222.0\" y=\"266.0\"><title>-1.1348252468</title></rect><rect height=\"22.0\" style=\"fill:rgb(98.6%,82.4%,73.6%);fill-opacity:1.0;stroke:none\" width=\"22.0\" x=\"244.0\" y=\"266.0\"><title>0.688790024957</title></rect><rect height=\"22.0\" style=\"fill:rgb(84%,90.8%,94.5%);fill-opacity:1.0;stroke:none\" width=\"22.0\" x=\"266.0\" y=\"266.0\"><title>-0.255269051501</title></rect><rect height=\"22.0\" style=\"fill:rgb(24.3%,55%,75.1%);fill-opacity:1.0;stroke:none\" width=\"22.0\" x=\"288.0\" y=\"266.0\"><title>-1.31829932867</title></rect><text style=\"alignment-baseline:middle;fill:rgb(16.1%,15.3%,14.1%);fill-opacity:1.0;font-size:12px;font-weight:bold;stroke:none;text-anchor:end\" x=\"85.0\" y=\"299.0\">9</text><rect height=\"22.0\" style=\"fill:rgb(96.4%,69%,56.5%);fill-opacity:1.0;stroke:none\" width=\"22.0\" x=\"90.0\" y=\"288.0\"><title>0.982555020877</title></rect><rect height=\"22.0\" style=\"fill:rgb(98%,78.6%,68.7%);fill-opacity:1.0;stroke:none\" width=\"22.0\" x=\"112.0\" y=\"288.0\"><title>0.773405247218</title></rect><rect height=\"22.0\" style=\"fill:rgb(98.3%,80.2%,70.8%);fill-opacity:1.0;stroke:none\" width=\"22.0\" x=\"134.0\" y=\"288.0\"><title>0.737298525548</title></rect><rect height=\"22.0\" style=\"fill:rgb(97.9%,92.1%,88.7%);fill-opacity:1.0;stroke:none\" width=\"22.0\" x=\"156.0\" y=\"288.0\"><title>0.348196325021</title></rect><rect height=\"22.0\" style=\"fill:rgb(87.9%,46.8%,37.2%);fill-opacity:1.0;stroke:none\" width=\"22.0\" x=\"178.0\" y=\"288.0\"><title>1.38573645644</title></rect><rect height=\"22.0\" style=\"fill:rgb(96.7%,70.8%,58.8%);fill-opacity:1.0;stroke:none\" width=\"22.0\" x=\"200.0\" y=\"288.0\"><title>0.94358426236</title></rect><rect height=\"22.0\" style=\"fill:rgb(95.1%,63.2%,49.9%);fill-opacity:1.0;stroke:none\" width=\"22.0\" x=\"222.0\" y=\"288.0\"><title>1.10285586547</title></rect><rect height=\"22.0\" style=\"fill:rgb(18%,46.7%,70.9%);fill-opacity:1.0;stroke:none\" width=\"22.0\" x=\"244.0\" y=\"288.0\"><title>-1.53751496817</title></rect><rect height=\"22.0\" style=\"fill:rgb(86.9%,92.1%,95%);fill-opacity:1.0;stroke:none\" width=\"22.0\" x=\"266.0\" y=\"288.0\"><title>-0.164874246511</title></rect><rect height=\"22.0\" style=\"fill:rgb(93%,95%,96.2%);fill-opacity:1.0;stroke:none\" width=\"22.0\" x=\"288.0\" y=\"288.0\"><title>0.0261904030991</title></rect></g><g class=\"toyplot-axes-NumberLine\" id=\"tad7c92382a944353958a9793124bec27\"><g class=\"toyplot-coordinate-events\"><g class=\"toyplot-color-Map\" id=\"ta9ac9fcf1cbc4928b71d7dbaa4e2730f\" transform=\"translate(350.0,350.0) rotate(-90.0)\"><defs><linearGradient gradientUnits=\"userSpaceOnUse\" id=\"te67d7242b6434f2e80bbb624f2ba239a\" x1=\"0\" x2=\"300.0\" y1=\"0\" y2=\"0\"><stop offset=\"0.0\" stop-color=\"rgb(1.96%,18.8%,38%)\" stop-opacity=\"1.0\"></stop><stop offset=\"0.015873015873\" stop-color=\"rgb(3.7%,22.2%,42.7%)\" stop-opacity=\"1.0\"></stop><stop offset=\"0.031746031746\" stop-color=\"rgb(5.45%,25.5%,47.4%)\" stop-opacity=\"1.0\"></stop><stop offset=\"0.047619047619\" stop-color=\"rgb(7.19%,28.9%,52%)\" stop-opacity=\"1.0\"></stop><stop offset=\"0.0634920634921\" stop-color=\"rgb(8.93%,32.3%,56.7%)\" stop-opacity=\"1.0\"></stop><stop offset=\"0.0793650793651\" stop-color=\"rgb(10.7%,35.6%,61.4%)\" stop-opacity=\"1.0\"></stop><stop offset=\"0.0952380952381\" stop-color=\"rgb(12.4%,39%,66.1%)\" stop-opacity=\"1.0\"></stop><stop offset=\"0.111111111111\" stop-color=\"rgb(14.4%,42%,68.5%)\" stop-opacity=\"1.0\"></stop><stop offset=\"0.126984126984\" stop-color=\"rgb(16.5%,44.8%,69.9%)\" stop-opacity=\"1.0\"></stop><stop offset=\"0.142857142857\" stop-color=\"rgb(18.7%,47.6%,71.3%)\" stop-opacity=\"1.0\"></stop><stop offset=\"0.15873015873\" stop-color=\"rgb(20.8%,50.4%,72.7%)\" stop-opacity=\"1.0\"></stop><stop offset=\"0.174603174603\" stop-color=\"rgb(22.9%,53.2%,74.2%)\" stop-opacity=\"1.0\"></stop><stop offset=\"0.190476190476\" stop-color=\"rgb(25%,56%,75.6%)\" stop-opacity=\"1.0\"></stop><stop offset=\"0.206349206349\" stop-color=\"rgb(28.2%,58.9%,77.1%)\" stop-opacity=\"1.0\"></stop><stop offset=\"0.222222222222\" stop-color=\"rgb(33.2%,62%,78.8%)\" stop-opacity=\"1.0\"></stop><stop offset=\"0.238095238095\" stop-color=\"rgb(38.1%,65.1%,80.5%)\" stop-opacity=\"1.0\"></stop><stop offset=\"0.253968253968\" stop-color=\"rgb(43%,68.2%,82.2%)\" stop-opacity=\"1.0\"></stop><stop offset=\"0.269841269841\" stop-color=\"rgb(47.9%,71.3%,83.9%)\" stop-opacity=\"1.0\"></stop><stop offset=\"0.285714285714\" stop-color=\"rgb(52.8%,74.5%,85.5%)\" stop-opacity=\"1.0\"></stop><stop offset=\"0.301587301587\" stop-color=\"rgb(57.6%,77.5%,87.2%)\" stop-opacity=\"1.0\"></stop><stop offset=\"0.31746031746\" stop-color=\"rgb(61.6%,79.4%,88.3%)\" stop-opacity=\"1.0\"></stop><stop offset=\"0.333333333333\" stop-color=\"rgb(65.5%,81.4%,89.4%)\" stop-opacity=\"1.0\"></stop><stop offset=\"0.349206349206\" stop-color=\"rgb(69.4%,83.4%,90.5%)\" stop-opacity=\"1.0\"></stop><stop offset=\"0.365079365079\" stop-color=\"rgb(73.3%,85.4%,91.7%)\" stop-opacity=\"1.0\"></stop><stop offset=\"0.380952380952\" stop-color=\"rgb(77.3%,87.4%,92.8%)\" stop-opacity=\"1.0\"></stop><stop offset=\"0.396825396825\" stop-color=\"rgb(81.2%,89.4%,93.9%)\" stop-opacity=\"1.0\"></stop><stop offset=\"0.412698412698\" stop-color=\"rgb(83.9%,90.7%,94.5%)\" stop-opacity=\"1.0\"></stop><stop offset=\"0.428571428571\" stop-color=\"rgb(86.2%,91.8%,94.9%)\" stop-opacity=\"1.0\"></stop><stop offset=\"0.444444444444\" stop-color=\"rgb(88.6%,92.9%,95.3%)\" stop-opacity=\"1.0\"></stop><stop offset=\"0.460317460317\" stop-color=\"rgb(90.9%,94.1%,95.8%)\" stop-opacity=\"1.0\"></stop><stop offset=\"0.47619047619\" stop-color=\"rgb(93.3%,95.2%,96.2%)\" stop-opacity=\"1.0\"></stop><stop offset=\"0.492063492063\" stop-color=\"rgb(95.7%,96.3%,96.6%)\" stop-opacity=\"1.0\"></stop><stop offset=\"0.507936507937\" stop-color=\"rgb(97%,96%,95.4%)\" stop-opacity=\"1.0\"></stop><stop offset=\"0.52380952381\" stop-color=\"rgb(97.4%,94.2%,92.4%)\" stop-opacity=\"1.0\"></stop><stop offset=\"0.539682539683\" stop-color=\"rgb(97.8%,92.5%,89.4%)\" stop-opacity=\"1.0\"></stop><stop offset=\"0.555555555556\" stop-color=\"rgb(98.2%,90.8%,86.4%)\" stop-opacity=\"1.0\"></stop><stop offset=\"0.571428571429\" stop-color=\"rgb(98.5%,89%,83.4%)\" stop-opacity=\"1.0\"></stop><stop offset=\"0.587301587302\" stop-color=\"rgb(98.9%,87.3%,80.4%)\" stop-opacity=\"1.0\"></stop><stop offset=\"0.603174603175\" stop-color=\"rgb(99.1%,85.2%,77.2%)\" stop-opacity=\"1.0\"></stop><stop offset=\"0.619047619048\" stop-color=\"rgb(98.5%,81.8%,72.9%)\" stop-opacity=\"1.0\"></stop><stop offset=\"0.634920634921\" stop-color=\"rgb(98%,78.5%,68.6%)\" stop-opacity=\"1.0\"></stop><stop offset=\"0.650793650794\" stop-color=\"rgb(97.4%,75.1%,64.3%)\" stop-opacity=\"1.0\"></stop><stop offset=\"0.666666666667\" stop-color=\"rgb(96.9%,71.8%,60%)\" stop-opacity=\"1.0\"></stop><stop offset=\"0.68253968254\" stop-color=\"rgb(96.3%,68.4%,55.7%)\" stop-opacity=\"1.0\"></stop><stop offset=\"0.698412698413\" stop-color=\"rgb(95.7%,65%,51.4%)\" stop-opacity=\"1.0\"></stop><stop offset=\"0.714285714286\" stop-color=\"rgb(94%,60.8%,48%)\" stop-opacity=\"1.0\"></stop><stop offset=\"0.730158730159\" stop-color=\"rgb(92.1%,56.5%,44.7%)\" stop-opacity=\"1.0\"></stop><stop offset=\"0.746031746032\" stop-color=\"rgb(90.3%,52.3%,41.4%)\" stop-opacity=\"1.0\"></stop><stop offset=\"0.761904761905\" stop-color=\"rgb(88.4%,48%,38.1%)\" stop-opacity=\"1.0\"></stop><stop offset=\"0.777777777778\" stop-color=\"rgb(86.5%,43.7%,34.8%)\" stop-opacity=\"1.0\"></stop><stop offset=\"0.793650793651\" stop-color=\"rgb(84.7%,39.4%,31.5%)\" stop-opacity=\"1.0\"></stop><stop offset=\"0.809523809524\" stop-color=\"rgb(82.6%,35%,28.9%)\" stop-opacity=\"1.0\"></stop><stop offset=\"0.825396825397\" stop-color=\"rgb(80.3%,30.5%,26.8%)\" stop-opacity=\"1.0\"></stop><stop offset=\"0.84126984127\" stop-color=\"rgb(78.1%,26%,24.7%)\" stop-opacity=\"1.0\"></stop><stop offset=\"0.857142857143\" stop-color=\"rgb(75.9%,21.5%,22.6%)\" stop-opacity=\"1.0\"></stop><stop offset=\"0.873015873016\" stop-color=\"rgb(73.6%,17%,20.5%)\" stop-opacity=\"1.0\"></stop><stop offset=\"0.888888888889\" stop-color=\"rgb(71.4%,12.5%,18.3%)\" stop-opacity=\"1.0\"></stop><stop offset=\"0.904761904762\" stop-color=\"rgb(68.4%,8.96%,16.6%)\" stop-opacity=\"1.0\"></stop><stop offset=\"0.920634920635\" stop-color=\"rgb(63.7%,7.47%,15.9%)\" stop-opacity=\"1.0\"></stop><stop offset=\"0.936507936508\" stop-color=\"rgb(59.1%,5.98%,15.1%)\" stop-opacity=\"1.0\"></stop><stop offset=\"0.952380952381\" stop-color=\"rgb(54.4%,4.48%,14.4%)\" stop-opacity=\"1.0\"></stop><stop offset=\"0.968253968254\" stop-color=\"rgb(49.7%,2.99%,13.7%)\" stop-opacity=\"1.0\"></stop><stop offset=\"0.984126984127\" stop-color=\"rgb(45.1%,1.49%,12.9%)\" stop-opacity=\"1.0\"></stop><stop offset=\"1.0\" stop-color=\"rgb(40.4%,0%,12.2%)\" stop-opacity=\"1.0\"></stop></linearGradient></defs><rect height=\"10\" style=\"fill:url(#te67d7242b6434f2e80bbb624f2ba239a);stroke:none\" width=\"300.0\" x=\"0.0\" y=\"-10\"></rect></g></g><g class=\"toyplot-axes-Axis\" id=\"t85ef162f47744e1faf40869abd637575\" transform=\"translate(350.0,350.0) rotate(-90.0) translate(0,5)\"><line style=\"\" x1=\"0\" x2=\"300.0\" y1=\"0\" y2=\"0\"></line><g><text style=\"alignment-baseline:middle;baseline-shift:-100%;font-size:10px;font-weight:normal;stroke:none;text-anchor:middle\" transform=\"translate(11.628580736535879,0) rotate(0)\" x=\"0\" y=\"0\">-2</text><text style=\"alignment-baseline:middle;baseline-shift:-100%;font-size:10px;font-weight:normal;stroke:none;text-anchor:middle\" transform=\"translate(140.53361872803208,0) rotate(0)\" x=\"0\" y=\"0\">0</text><text style=\"alignment-baseline:middle;baseline-shift:-100%;font-size:10px;font-weight:normal;stroke:none;text-anchor:middle\" transform=\"translate(269.4386567195283,0) rotate(0)\" x=\"0\" y=\"0\">2</text></g><text style=\"alignment-baseline:middle;baseline-shift:-200%;font-weight:bold;stroke:none;text-anchor:middle\" x=\"150.0\" y=\"0\"></text></g></g></svg><div class=\"toyplot-controls\"><ul class=\"toyplot-mark-popup\" onmouseleave=\"this.style.visibility='hidden'\" style=\"background:rgba(0%,0%,0%,0.75);border:0;border-radius:6px;color:white;cursor:default;list-style:none;margin:0;padding:5px;position:fixed;visibility:hidden\"><li class=\"toyplot-mark-popup-title\" style=\"color:lightgray;cursor:default;padding:5px;list-style:none;margin:0;\"></li><li class=\"toyplot-mark-popup-save-csv\" onmouseout=\"this.style.color='white';this.style.background='steelblue'\" onmouseover=\"this.style.color='steelblue';this.style.background='white'\" style=\"border-radius:3px;padding:5px;list-style:none;margin:0;\">Save as .csv</li></ul><script>\n",
       "(function()\n",
       "{\n",
       "  if(window.CSS !== undefined && window.CSS.supports !== undefined)\n",
       "  {\n",
       "    if(!window.CSS.supports(\"alignment-baseline\", \"middle\"))\n",
       "    {\n",
       "      var re = /\\s*alignment-baseline\\s*:\\s*([^;\\s]*)\\s*/;\n",
       "      var text = document.querySelectorAll(\"#tdcdab55ab9634c238e7749dafb36a6c9 text\");\n",
       "      for(var i = 0; i != text.length; ++i)\n",
       "      {\n",
       "        var match = re.exec(text[i].attributes.style.value);\n",
       "        if(match)\n",
       "        {\n",
       "          if(match[1] == \"middle\")\n",
       "          {\n",
       "            var style = getComputedStyle(text[i]);\n",
       "            var font_size = style.fontSize.substr(0, style.fontSize.length - 2);\n",
       "            var dy = text[i].dy.baseVal.length ? text[i].dy.baseVal[0].value : 0;\n",
       "            dy += 0.4 * font_size;\n",
       "            text[i].setAttribute(\"dy\", dy);\n",
       "          }\n",
       "        }\n",
       "      }\n",
       "    }\n",
       "    if(!window.CSS.supports(\"baseline-shift\", \"0\"))\n",
       "    {\n",
       "      var re = /\\s*baseline-shift\\s*:\\s*([^;\\s]*)\\s*/;\n",
       "      var text = document.querySelectorAll(\"#tdcdab55ab9634c238e7749dafb36a6c9 text\");\n",
       "      for(var i = 0; i != text.length; ++i)\n",
       "      {\n",
       "        var match = re.exec(text[i].attributes.style.value);\n",
       "        if(match)\n",
       "        {\n",
       "          var style = getComputedStyle(text[i]);\n",
       "          var font_size = style.fontSize.substr(0, style.fontSize.length - 2);\n",
       "          var percent = 0.01 * match[1].substr(0, match[1].length-1);\n",
       "          var dy = text[i].dy.baseVal.length ? text[i].dy.baseVal[0].value : 0;\n",
       "          dy -= percent * font_size\n",
       "          text[i].setAttribute(\"dy\", dy);\n",
       "        }\n",
       "      }\n",
       "    }\n",
       "  }\n",
       "})();\n",
       "</script></div></div>"
      ],
      "text/plain": [
       "<toyplot.canvas.Canvas at 0x106945610>"
      ]
     },
     "metadata": {},
     "output_type": "display_data"
    }
   ],
   "source": [
    "canvas = toyplot.Canvas(width=400, style={\"border\":\"1px solid #dedede\"})\n",
    "canvas.matrix(numpy.random.normal(size=(10, 10)), scale=True)"
   ]
  },
  {
   "cell_type": "code",
   "execution_count": 9,
   "metadata": {
    "collapsed": false
   },
   "outputs": [
    {
     "data": {
      "text/plain": [
       "<toyplot.axes.Table at 0x1094c0990>"
      ]
     },
     "execution_count": 9,
     "metadata": {},
     "output_type": "execute_result"
    },
    {
     "data": {
      "text/html": [
       "<div align=\"center\" class=\"toyplot\" id=\"t448397275b674143ae30f7f31f95a5b8\"><svg height=\"400.0px\" id=\"tfedc23049a5c4e99b76cf9040968c0a8\" preserveAspectRatio=\"xMidYMid meet\" style=\"background-color:transparent;border:1px solid #dedede;fill:rgb(16.1%,15.3%,14.1%);fill-opacity:1.0;font-family:Helvetica;font-size:12px;opacity:1.0;stroke:rgb(16.1%,15.3%,14.1%);stroke-opacity:1.0;stroke-width:1.0\" viewBox=\"0 0 400.0 400.0\" width=\"400.0px\" xmlns=\"http://www.w3.org/2000/svg\" xmlns:toyplot=\"http://www.sandia.gov/toyplot\"><g class=\"toyplot-axes-Table\" id=\"t9d2f08be97404d4f94ef1eb2db62d9ff\"><text style=\"alignment-baseline:middle;fill:rgb(16.1%,15.3%,14.1%);fill-opacity:1.0;font-size:12px;font-weight:bold;stroke:none;text-anchor:middle\" transform=\"rotate(0,101.0,80.0)\" x=\"101.0\" y=\"80.0\">0</text><text style=\"alignment-baseline:middle;fill:rgb(16.1%,15.3%,14.1%);fill-opacity:1.0;font-size:12px;font-weight:bold;stroke:none;text-anchor:middle\" transform=\"rotate(0,123.0,80.0)\" x=\"123.0\" y=\"80.0\">1</text><text style=\"alignment-baseline:middle;fill:rgb(16.1%,15.3%,14.1%);fill-opacity:1.0;font-size:12px;font-weight:bold;stroke:none;text-anchor:middle\" transform=\"rotate(0,145.0,80.0)\" x=\"145.0\" y=\"80.0\">2</text><text style=\"alignment-baseline:middle;fill:rgb(16.1%,15.3%,14.1%);fill-opacity:1.0;font-size:12px;font-weight:bold;stroke:none;text-anchor:middle\" transform=\"rotate(0,167.0,80.0)\" x=\"167.0\" y=\"80.0\">3</text><text style=\"alignment-baseline:middle;fill:rgb(16.1%,15.3%,14.1%);fill-opacity:1.0;font-size:12px;font-weight:bold;stroke:none;text-anchor:middle\" transform=\"rotate(0,189.0,80.0)\" x=\"189.0\" y=\"80.0\">4</text><text style=\"alignment-baseline:middle;fill:rgb(16.1%,15.3%,14.1%);fill-opacity:1.0;font-size:12px;font-weight:bold;stroke:none;text-anchor:middle\" transform=\"rotate(0,211.0,80.0)\" x=\"211.0\" y=\"80.0\">5</text><text style=\"alignment-baseline:middle;fill:rgb(16.1%,15.3%,14.1%);fill-opacity:1.0;font-size:12px;font-weight:bold;stroke:none;text-anchor:middle\" transform=\"rotate(0,233.0,80.0)\" x=\"233.0\" y=\"80.0\">6</text><text style=\"alignment-baseline:middle;fill:rgb(16.1%,15.3%,14.1%);fill-opacity:1.0;font-size:12px;font-weight:bold;stroke:none;text-anchor:middle\" transform=\"rotate(0,255.0,80.0)\" x=\"255.0\" y=\"80.0\">7</text><text style=\"alignment-baseline:middle;fill:rgb(16.1%,15.3%,14.1%);fill-opacity:1.0;font-size:12px;font-weight:bold;stroke:none;text-anchor:middle\" transform=\"rotate(0,277.0,80.0)\" x=\"277.0\" y=\"80.0\">8</text><text style=\"alignment-baseline:middle;fill:rgb(16.1%,15.3%,14.1%);fill-opacity:1.0;font-size:12px;font-weight:bold;stroke:none;text-anchor:middle\" transform=\"rotate(0,299.0,80.0)\" x=\"299.0\" y=\"80.0\">9</text><text style=\"alignment-baseline:middle;fill:rgb(16.1%,15.3%,14.1%);fill-opacity:1.0;font-size:12px;font-weight:bold;stroke:none;text-anchor:end\" x=\"85.0\" y=\"101.0\">0</text><rect height=\"22.0\" style=\"fill:rgb(98.8%,55.3%,38.4%);fill-opacity:1.0;stroke:none\" width=\"22.0\" x=\"90.0\" y=\"90.0\"><title>1.0</title></rect><rect height=\"22.0\" style=\"fill:rgb(55.3%,62.7%,79.6%);fill-opacity:1.0;stroke:none\" width=\"22.0\" x=\"112.0\" y=\"90.0\"><title>2.0</title></rect><rect height=\"22.0\" style=\"fill:rgb(98.8%,55.3%,38.4%);fill-opacity:1.0;stroke:none\" width=\"22.0\" x=\"134.0\" y=\"90.0\"><title>1.0</title></rect><rect height=\"22.0\" style=\"fill:rgb(98.8%,55.3%,38.4%);fill-opacity:1.0;stroke:none\" width=\"22.0\" x=\"156.0\" y=\"90.0\"><title>1.0</title></rect><rect height=\"22.0\" style=\"fill:rgb(55.3%,62.7%,79.6%);fill-opacity:1.0;stroke:none\" width=\"22.0\" x=\"178.0\" y=\"90.0\"><title>2.0</title></rect><rect height=\"22.0\" style=\"fill:rgb(98.8%,55.3%,38.4%);fill-opacity:1.0;stroke:none\" width=\"22.0\" x=\"200.0\" y=\"90.0\"><title>1.0</title></rect><rect height=\"22.0\" style=\"fill:rgb(98.8%,55.3%,38.4%);fill-opacity:1.0;stroke:none\" width=\"22.0\" x=\"222.0\" y=\"90.0\"><title>1.0</title></rect><rect height=\"22.0\" style=\"fill:rgb(40%,76.1%,64.7%);fill-opacity:1.0;stroke:none\" width=\"22.0\" x=\"244.0\" y=\"90.0\"><title>0.0</title></rect><rect height=\"22.0\" style=\"fill:rgb(98.8%,55.3%,38.4%);fill-opacity:1.0;stroke:none\" width=\"22.0\" x=\"266.0\" y=\"90.0\"><title>1.0</title></rect><rect height=\"22.0\" style=\"fill:rgb(40%,76.1%,64.7%);fill-opacity:1.0;stroke:none\" width=\"22.0\" x=\"288.0\" y=\"90.0\"><title>0.0</title></rect><text style=\"alignment-baseline:middle;fill:rgb(16.1%,15.3%,14.1%);fill-opacity:1.0;font-size:12px;font-weight:bold;stroke:none;text-anchor:end\" x=\"85.0\" y=\"123.0\">1</text><rect height=\"22.0\" style=\"fill:rgb(40%,76.1%,64.7%);fill-opacity:1.0;stroke:none\" width=\"22.0\" x=\"90.0\" y=\"112.0\"><title>0.0</title></rect><rect height=\"22.0\" style=\"fill:rgb(40%,76.1%,64.7%);fill-opacity:1.0;stroke:none\" width=\"22.0\" x=\"112.0\" y=\"112.0\"><title>0.0</title></rect><rect height=\"22.0\" style=\"fill:rgb(55.3%,62.7%,79.6%);fill-opacity:1.0;stroke:none\" width=\"22.0\" x=\"134.0\" y=\"112.0\"><title>2.0</title></rect><rect height=\"22.0\" style=\"fill:rgb(55.3%,62.7%,79.6%);fill-opacity:1.0;stroke:none\" width=\"22.0\" x=\"156.0\" y=\"112.0\"><title>2.0</title></rect><rect height=\"22.0\" style=\"fill:rgb(40%,76.1%,64.7%);fill-opacity:1.0;stroke:none\" width=\"22.0\" x=\"178.0\" y=\"112.0\"><title>0.0</title></rect><rect height=\"22.0\" style=\"fill:rgb(40%,76.1%,64.7%);fill-opacity:1.0;stroke:none\" width=\"22.0\" x=\"200.0\" y=\"112.0\"><title>0.0</title></rect><rect height=\"22.0\" style=\"fill:rgb(98.8%,55.3%,38.4%);fill-opacity:1.0;stroke:none\" width=\"22.0\" x=\"222.0\" y=\"112.0\"><title>1.0</title></rect><rect height=\"22.0\" style=\"fill:rgb(40%,76.1%,64.7%);fill-opacity:1.0;stroke:none\" width=\"22.0\" x=\"244.0\" y=\"112.0\"><title>0.0</title></rect><rect height=\"22.0\" style=\"fill:rgb(40%,76.1%,64.7%);fill-opacity:1.0;stroke:none\" width=\"22.0\" x=\"266.0\" y=\"112.0\"><title>0.0</title></rect><rect height=\"22.0\" style=\"fill:rgb(55.3%,62.7%,79.6%);fill-opacity:1.0;stroke:none\" width=\"22.0\" x=\"288.0\" y=\"112.0\"><title>2.0</title></rect><text style=\"alignment-baseline:middle;fill:rgb(16.1%,15.3%,14.1%);fill-opacity:1.0;font-size:12px;font-weight:bold;stroke:none;text-anchor:end\" x=\"85.0\" y=\"145.0\">2</text><rect height=\"22.0\" style=\"fill:rgb(40%,76.1%,64.7%);fill-opacity:1.0;stroke:none\" width=\"22.0\" x=\"90.0\" y=\"134.0\"><title>0.0</title></rect><rect height=\"22.0\" style=\"fill:rgb(55.3%,62.7%,79.6%);fill-opacity:1.0;stroke:none\" width=\"22.0\" x=\"112.0\" y=\"134.0\"><title>2.0</title></rect><rect height=\"22.0\" style=\"fill:rgb(40%,76.1%,64.7%);fill-opacity:1.0;stroke:none\" width=\"22.0\" x=\"134.0\" y=\"134.0\"><title>0.0</title></rect><rect height=\"22.0\" style=\"fill:rgb(55.3%,62.7%,79.6%);fill-opacity:1.0;stroke:none\" width=\"22.0\" x=\"156.0\" y=\"134.0\"><title>2.0</title></rect><rect height=\"22.0\" style=\"fill:rgb(55.3%,62.7%,79.6%);fill-opacity:1.0;stroke:none\" width=\"22.0\" x=\"178.0\" y=\"134.0\"><title>2.0</title></rect><rect height=\"22.0\" style=\"fill:rgb(40%,76.1%,64.7%);fill-opacity:1.0;stroke:none\" width=\"22.0\" x=\"200.0\" y=\"134.0\"><title>0.0</title></rect><rect height=\"22.0\" style=\"fill:rgb(40%,76.1%,64.7%);fill-opacity:1.0;stroke:none\" width=\"22.0\" x=\"222.0\" y=\"134.0\"><title>0.0</title></rect><rect height=\"22.0\" style=\"fill:rgb(55.3%,62.7%,79.6%);fill-opacity:1.0;stroke:none\" width=\"22.0\" x=\"244.0\" y=\"134.0\"><title>2.0</title></rect><rect height=\"22.0\" style=\"fill:rgb(98.8%,55.3%,38.4%);fill-opacity:1.0;stroke:none\" width=\"22.0\" x=\"266.0\" y=\"134.0\"><title>1.0</title></rect><rect height=\"22.0\" style=\"fill:rgb(98.8%,55.3%,38.4%);fill-opacity:1.0;stroke:none\" width=\"22.0\" x=\"288.0\" y=\"134.0\"><title>1.0</title></rect><text style=\"alignment-baseline:middle;fill:rgb(16.1%,15.3%,14.1%);fill-opacity:1.0;font-size:12px;font-weight:bold;stroke:none;text-anchor:end\" x=\"85.0\" y=\"167.0\">3</text><rect height=\"22.0\" style=\"fill:rgb(98.8%,55.3%,38.4%);fill-opacity:1.0;stroke:none\" width=\"22.0\" x=\"90.0\" y=\"156.0\"><title>1.0</title></rect><rect height=\"22.0\" style=\"fill:rgb(40%,76.1%,64.7%);fill-opacity:1.0;stroke:none\" width=\"22.0\" x=\"112.0\" y=\"156.0\"><title>0.0</title></rect><rect height=\"22.0\" style=\"fill:rgb(40%,76.1%,64.7%);fill-opacity:1.0;stroke:none\" width=\"22.0\" x=\"134.0\" y=\"156.0\"><title>0.0</title></rect><rect height=\"22.0\" style=\"fill:rgb(55.3%,62.7%,79.6%);fill-opacity:1.0;stroke:none\" width=\"22.0\" x=\"156.0\" y=\"156.0\"><title>2.0</title></rect><rect height=\"22.0\" style=\"fill:rgb(98.8%,55.3%,38.4%);fill-opacity:1.0;stroke:none\" width=\"22.0\" x=\"178.0\" y=\"156.0\"><title>1.0</title></rect><rect height=\"22.0\" style=\"fill:rgb(98.8%,55.3%,38.4%);fill-opacity:1.0;stroke:none\" width=\"22.0\" x=\"200.0\" y=\"156.0\"><title>1.0</title></rect><rect height=\"22.0\" style=\"fill:rgb(40%,76.1%,64.7%);fill-opacity:1.0;stroke:none\" width=\"22.0\" x=\"222.0\" y=\"156.0\"><title>0.0</title></rect><rect height=\"22.0\" style=\"fill:rgb(98.8%,55.3%,38.4%);fill-opacity:1.0;stroke:none\" width=\"22.0\" x=\"244.0\" y=\"156.0\"><title>1.0</title></rect><rect height=\"22.0\" style=\"fill:rgb(40%,76.1%,64.7%);fill-opacity:1.0;stroke:none\" width=\"22.0\" x=\"266.0\" y=\"156.0\"><title>0.0</title></rect><rect height=\"22.0\" style=\"fill:rgb(98.8%,55.3%,38.4%);fill-opacity:1.0;stroke:none\" width=\"22.0\" x=\"288.0\" y=\"156.0\"><title>1.0</title></rect><text style=\"alignment-baseline:middle;fill:rgb(16.1%,15.3%,14.1%);fill-opacity:1.0;font-size:12px;font-weight:bold;stroke:none;text-anchor:end\" x=\"85.0\" y=\"189.0\">4</text><rect height=\"22.0\" style=\"fill:rgb(55.3%,62.7%,79.6%);fill-opacity:1.0;stroke:none\" width=\"22.0\" x=\"90.0\" y=\"178.0\"><title>2.0</title></rect><rect height=\"22.0\" style=\"fill:rgb(98.8%,55.3%,38.4%);fill-opacity:1.0;stroke:none\" width=\"22.0\" x=\"112.0\" y=\"178.0\"><title>1.0</title></rect><rect height=\"22.0\" style=\"fill:rgb(55.3%,62.7%,79.6%);fill-opacity:1.0;stroke:none\" width=\"22.0\" x=\"134.0\" y=\"178.0\"><title>2.0</title></rect><rect height=\"22.0\" style=\"fill:rgb(40%,76.1%,64.7%);fill-opacity:1.0;stroke:none\" width=\"22.0\" x=\"156.0\" y=\"178.0\"><title>0.0</title></rect><rect height=\"22.0\" style=\"fill:rgb(98.8%,55.3%,38.4%);fill-opacity:1.0;stroke:none\" width=\"22.0\" x=\"178.0\" y=\"178.0\"><title>1.0</title></rect><rect height=\"22.0\" style=\"fill:rgb(55.3%,62.7%,79.6%);fill-opacity:1.0;stroke:none\" width=\"22.0\" x=\"200.0\" y=\"178.0\"><title>2.0</title></rect><rect height=\"22.0\" style=\"fill:rgb(55.3%,62.7%,79.6%);fill-opacity:1.0;stroke:none\" width=\"22.0\" x=\"222.0\" y=\"178.0\"><title>2.0</title></rect><rect height=\"22.0\" style=\"fill:rgb(98.8%,55.3%,38.4%);fill-opacity:1.0;stroke:none\" width=\"22.0\" x=\"244.0\" y=\"178.0\"><title>1.0</title></rect><rect height=\"22.0\" style=\"fill:rgb(98.8%,55.3%,38.4%);fill-opacity:1.0;stroke:none\" width=\"22.0\" x=\"266.0\" y=\"178.0\"><title>1.0</title></rect><rect height=\"22.0\" style=\"fill:rgb(55.3%,62.7%,79.6%);fill-opacity:1.0;stroke:none\" width=\"22.0\" x=\"288.0\" y=\"178.0\"><title>2.0</title></rect><text style=\"alignment-baseline:middle;fill:rgb(16.1%,15.3%,14.1%);fill-opacity:1.0;font-size:12px;font-weight:bold;stroke:none;text-anchor:end\" x=\"85.0\" y=\"211.0\">5</text><rect height=\"22.0\" style=\"fill:rgb(55.3%,62.7%,79.6%);fill-opacity:1.0;stroke:none\" width=\"22.0\" x=\"90.0\" y=\"200.0\"><title>2.0</title></rect><rect height=\"22.0\" style=\"fill:rgb(98.8%,55.3%,38.4%);fill-opacity:1.0;stroke:none\" width=\"22.0\" x=\"112.0\" y=\"200.0\"><title>1.0</title></rect><rect height=\"22.0\" style=\"fill:rgb(40%,76.1%,64.7%);fill-opacity:1.0;stroke:none\" width=\"22.0\" x=\"134.0\" y=\"200.0\"><title>0.0</title></rect><rect height=\"22.0\" style=\"fill:rgb(40%,76.1%,64.7%);fill-opacity:1.0;stroke:none\" width=\"22.0\" x=\"156.0\" y=\"200.0\"><title>0.0</title></rect><rect height=\"22.0\" style=\"fill:rgb(40%,76.1%,64.7%);fill-opacity:1.0;stroke:none\" width=\"22.0\" x=\"178.0\" y=\"200.0\"><title>0.0</title></rect><rect height=\"22.0\" style=\"fill:rgb(98.8%,55.3%,38.4%);fill-opacity:1.0;stroke:none\" width=\"22.0\" x=\"200.0\" y=\"200.0\"><title>1.0</title></rect><rect height=\"22.0\" style=\"fill:rgb(98.8%,55.3%,38.4%);fill-opacity:1.0;stroke:none\" width=\"22.0\" x=\"222.0\" y=\"200.0\"><title>1.0</title></rect><rect height=\"22.0\" style=\"fill:rgb(98.8%,55.3%,38.4%);fill-opacity:1.0;stroke:none\" width=\"22.0\" x=\"244.0\" y=\"200.0\"><title>1.0</title></rect><rect height=\"22.0\" style=\"fill:rgb(40%,76.1%,64.7%);fill-opacity:1.0;stroke:none\" width=\"22.0\" x=\"266.0\" y=\"200.0\"><title>0.0</title></rect><rect height=\"22.0\" style=\"fill:rgb(55.3%,62.7%,79.6%);fill-opacity:1.0;stroke:none\" width=\"22.0\" x=\"288.0\" y=\"200.0\"><title>2.0</title></rect><text style=\"alignment-baseline:middle;fill:rgb(16.1%,15.3%,14.1%);fill-opacity:1.0;font-size:12px;font-weight:bold;stroke:none;text-anchor:end\" x=\"85.0\" y=\"233.0\">6</text><rect height=\"22.0\" style=\"fill:rgb(98.8%,55.3%,38.4%);fill-opacity:1.0;stroke:none\" width=\"22.0\" x=\"90.0\" y=\"222.0\"><title>1.0</title></rect><rect height=\"22.0\" style=\"fill:rgb(55.3%,62.7%,79.6%);fill-opacity:1.0;stroke:none\" width=\"22.0\" x=\"112.0\" y=\"222.0\"><title>2.0</title></rect><rect height=\"22.0\" style=\"fill:rgb(40%,76.1%,64.7%);fill-opacity:1.0;stroke:none\" width=\"22.0\" x=\"134.0\" y=\"222.0\"><title>0.0</title></rect><rect height=\"22.0\" style=\"fill:rgb(98.8%,55.3%,38.4%);fill-opacity:1.0;stroke:none\" width=\"22.0\" x=\"156.0\" y=\"222.0\"><title>1.0</title></rect><rect height=\"22.0\" style=\"fill:rgb(40%,76.1%,64.7%);fill-opacity:1.0;stroke:none\" width=\"22.0\" x=\"178.0\" y=\"222.0\"><title>0.0</title></rect><rect height=\"22.0\" style=\"fill:rgb(55.3%,62.7%,79.6%);fill-opacity:1.0;stroke:none\" width=\"22.0\" x=\"200.0\" y=\"222.0\"><title>2.0</title></rect><rect height=\"22.0\" style=\"fill:rgb(55.3%,62.7%,79.6%);fill-opacity:1.0;stroke:none\" width=\"22.0\" x=\"222.0\" y=\"222.0\"><title>2.0</title></rect><rect height=\"22.0\" style=\"fill:rgb(40%,76.1%,64.7%);fill-opacity:1.0;stroke:none\" width=\"22.0\" x=\"244.0\" y=\"222.0\"><title>0.0</title></rect><rect height=\"22.0\" style=\"fill:rgb(98.8%,55.3%,38.4%);fill-opacity:1.0;stroke:none\" width=\"22.0\" x=\"266.0\" y=\"222.0\"><title>1.0</title></rect><rect height=\"22.0\" style=\"fill:rgb(40%,76.1%,64.7%);fill-opacity:1.0;stroke:none\" width=\"22.0\" x=\"288.0\" y=\"222.0\"><title>0.0</title></rect><text style=\"alignment-baseline:middle;fill:rgb(16.1%,15.3%,14.1%);fill-opacity:1.0;font-size:12px;font-weight:bold;stroke:none;text-anchor:end\" x=\"85.0\" y=\"255.0\">7</text><rect height=\"22.0\" style=\"fill:rgb(55.3%,62.7%,79.6%);fill-opacity:1.0;stroke:none\" width=\"22.0\" x=\"90.0\" y=\"244.0\"><title>2.0</title></rect><rect height=\"22.0\" style=\"fill:rgb(40%,76.1%,64.7%);fill-opacity:1.0;stroke:none\" width=\"22.0\" x=\"112.0\" y=\"244.0\"><title>0.0</title></rect><rect height=\"22.0\" style=\"fill:rgb(55.3%,62.7%,79.6%);fill-opacity:1.0;stroke:none\" width=\"22.0\" x=\"134.0\" y=\"244.0\"><title>2.0</title></rect><rect height=\"22.0\" style=\"fill:rgb(40%,76.1%,64.7%);fill-opacity:1.0;stroke:none\" width=\"22.0\" x=\"156.0\" y=\"244.0\"><title>0.0</title></rect><rect height=\"22.0\" style=\"fill:rgb(98.8%,55.3%,38.4%);fill-opacity:1.0;stroke:none\" width=\"22.0\" x=\"178.0\" y=\"244.0\"><title>1.0</title></rect><rect height=\"22.0\" style=\"fill:rgb(40%,76.1%,64.7%);fill-opacity:1.0;stroke:none\" width=\"22.0\" x=\"200.0\" y=\"244.0\"><title>0.0</title></rect><rect height=\"22.0\" style=\"fill:rgb(40%,76.1%,64.7%);fill-opacity:1.0;stroke:none\" width=\"22.0\" x=\"222.0\" y=\"244.0\"><title>0.0</title></rect><rect height=\"22.0\" style=\"fill:rgb(40%,76.1%,64.7%);fill-opacity:1.0;stroke:none\" width=\"22.0\" x=\"244.0\" y=\"244.0\"><title>0.0</title></rect><rect height=\"22.0\" style=\"fill:rgb(55.3%,62.7%,79.6%);fill-opacity:1.0;stroke:none\" width=\"22.0\" x=\"266.0\" y=\"244.0\"><title>2.0</title></rect><rect height=\"22.0\" style=\"fill:rgb(40%,76.1%,64.7%);fill-opacity:1.0;stroke:none\" width=\"22.0\" x=\"288.0\" y=\"244.0\"><title>0.0</title></rect><text style=\"alignment-baseline:middle;fill:rgb(16.1%,15.3%,14.1%);fill-opacity:1.0;font-size:12px;font-weight:bold;stroke:none;text-anchor:end\" x=\"85.0\" y=\"277.0\">8</text><rect height=\"22.0\" style=\"fill:rgb(55.3%,62.7%,79.6%);fill-opacity:1.0;stroke:none\" width=\"22.0\" x=\"90.0\" y=\"266.0\"><title>2.0</title></rect><rect height=\"22.0\" style=\"fill:rgb(55.3%,62.7%,79.6%);fill-opacity:1.0;stroke:none\" width=\"22.0\" x=\"112.0\" y=\"266.0\"><title>2.0</title></rect><rect height=\"22.0\" style=\"fill:rgb(40%,76.1%,64.7%);fill-opacity:1.0;stroke:none\" width=\"22.0\" x=\"134.0\" y=\"266.0\"><title>0.0</title></rect><rect height=\"22.0\" style=\"fill:rgb(55.3%,62.7%,79.6%);fill-opacity:1.0;stroke:none\" width=\"22.0\" x=\"156.0\" y=\"266.0\"><title>2.0</title></rect><rect height=\"22.0\" style=\"fill:rgb(40%,76.1%,64.7%);fill-opacity:1.0;stroke:none\" width=\"22.0\" x=\"178.0\" y=\"266.0\"><title>0.0</title></rect><rect height=\"22.0\" style=\"fill:rgb(55.3%,62.7%,79.6%);fill-opacity:1.0;stroke:none\" width=\"22.0\" x=\"200.0\" y=\"266.0\"><title>2.0</title></rect><rect height=\"22.0\" style=\"fill:rgb(98.8%,55.3%,38.4%);fill-opacity:1.0;stroke:none\" width=\"22.0\" x=\"222.0\" y=\"266.0\"><title>1.0</title></rect><rect height=\"22.0\" style=\"fill:rgb(40%,76.1%,64.7%);fill-opacity:1.0;stroke:none\" width=\"22.0\" x=\"244.0\" y=\"266.0\"><title>0.0</title></rect><rect height=\"22.0\" style=\"fill:rgb(98.8%,55.3%,38.4%);fill-opacity:1.0;stroke:none\" width=\"22.0\" x=\"266.0\" y=\"266.0\"><title>1.0</title></rect><rect height=\"22.0\" style=\"fill:rgb(98.8%,55.3%,38.4%);fill-opacity:1.0;stroke:none\" width=\"22.0\" x=\"288.0\" y=\"266.0\"><title>1.0</title></rect><text style=\"alignment-baseline:middle;fill:rgb(16.1%,15.3%,14.1%);fill-opacity:1.0;font-size:12px;font-weight:bold;stroke:none;text-anchor:end\" x=\"85.0\" y=\"299.0\">9</text><rect height=\"22.0\" style=\"fill:rgb(40%,76.1%,64.7%);fill-opacity:1.0;stroke:none\" width=\"22.0\" x=\"90.0\" y=\"288.0\"><title>0.0</title></rect><rect height=\"22.0\" style=\"fill:rgb(98.8%,55.3%,38.4%);fill-opacity:1.0;stroke:none\" width=\"22.0\" x=\"112.0\" y=\"288.0\"><title>1.0</title></rect><rect height=\"22.0\" style=\"fill:rgb(55.3%,62.7%,79.6%);fill-opacity:1.0;stroke:none\" width=\"22.0\" x=\"134.0\" y=\"288.0\"><title>2.0</title></rect><rect height=\"22.0\" style=\"fill:rgb(55.3%,62.7%,79.6%);fill-opacity:1.0;stroke:none\" width=\"22.0\" x=\"156.0\" y=\"288.0\"><title>2.0</title></rect><rect height=\"22.0\" style=\"fill:rgb(98.8%,55.3%,38.4%);fill-opacity:1.0;stroke:none\" width=\"22.0\" x=\"178.0\" y=\"288.0\"><title>1.0</title></rect><rect height=\"22.0\" style=\"fill:rgb(98.8%,55.3%,38.4%);fill-opacity:1.0;stroke:none\" width=\"22.0\" x=\"200.0\" y=\"288.0\"><title>1.0</title></rect><rect height=\"22.0\" style=\"fill:rgb(98.8%,55.3%,38.4%);fill-opacity:1.0;stroke:none\" width=\"22.0\" x=\"222.0\" y=\"288.0\"><title>1.0</title></rect><rect height=\"22.0\" style=\"fill:rgb(98.8%,55.3%,38.4%);fill-opacity:1.0;stroke:none\" width=\"22.0\" x=\"244.0\" y=\"288.0\"><title>1.0</title></rect><rect height=\"22.0\" style=\"fill:rgb(98.8%,55.3%,38.4%);fill-opacity:1.0;stroke:none\" width=\"22.0\" x=\"266.0\" y=\"288.0\"><title>1.0</title></rect><rect height=\"22.0\" style=\"fill:rgb(40%,76.1%,64.7%);fill-opacity:1.0;stroke:none\" width=\"22.0\" x=\"288.0\" y=\"288.0\"><title>0.0</title></rect></g><g class=\"toyplot-axes-NumberLine\" id=\"t4b6b0ea0a7704bec8484fdde4de1bc08\"><g class=\"toyplot-coordinate-events\"><g class=\"toyplot-color-CategoricalMap\" id=\"td4fcbbd7276f4eb2b3712c02c58cba30\" transform=\"translate(350.0,350.0) rotate(-90.0)\"><rect height=\"10\" style=\"fill:rgb(40%,76.1%,64.7%);fill-opacity:1.0;stroke:none\" width=\"42.857142857142854\" x=\"0.0\" y=\"-10\"></rect><rect height=\"10\" style=\"fill:rgb(98.8%,55.3%,38.4%);fill-opacity:1.0;stroke:none\" width=\"42.857142857142854\" x=\"42.857142857142854\" y=\"-10\"></rect><rect height=\"10\" style=\"fill:rgb(55.3%,62.7%,79.6%);fill-opacity:1.0;stroke:none\" width=\"42.857142857142847\" x=\"85.714285714285708\" y=\"-10\"></rect><rect height=\"10\" style=\"fill:rgb(90.6%,54.1%,76.5%);fill-opacity:1.0;stroke:none\" width=\"42.857142857142861\" x=\"128.57142857142856\" y=\"-10\"></rect><rect height=\"10\" style=\"fill:rgb(65.1%,84.7%,32.9%);fill-opacity:1.0;stroke:none\" width=\"42.857142857142833\" x=\"171.42857142857142\" y=\"-10\"></rect><rect height=\"10\" style=\"fill:rgb(100%,85.1%,18.4%);fill-opacity:1.0;stroke:none\" width=\"42.857142857142861\" x=\"214.28571428571425\" y=\"-10\"></rect><rect height=\"10\" style=\"fill:rgb(89.8%,76.9%,58%);fill-opacity:1.0;stroke:none\" width=\"42.85714285714289\" x=\"257.14285714285711\" y=\"-10\"></rect></g></g><g class=\"toyplot-axes-Axis\" id=\"t4ddabf42785640ecaea8f3b9386ad47c\" transform=\"translate(350.0,350.0) rotate(-90.0) translate(0,5)\"><line style=\"\" x1=\"0\" x2=\"300.0\" y1=\"0\" y2=\"0\"></line><g><text style=\"alignment-baseline:middle;baseline-shift:-100%;font-size:10px;font-weight:normal;stroke:none;text-anchor:middle\" transform=\"translate(0.0,0) rotate(0)\" x=\"0\" y=\"0\">0</text><text style=\"alignment-baseline:middle;baseline-shift:-100%;font-size:10px;font-weight:normal;stroke:none;text-anchor:middle\" transform=\"translate(93.75,0) rotate(0)\" x=\"0\" y=\"0\">2</text><text style=\"alignment-baseline:middle;baseline-shift:-100%;font-size:10px;font-weight:normal;stroke:none;text-anchor:middle\" transform=\"translate(187.5,0) rotate(0)\" x=\"0\" y=\"0\">5</text><text style=\"alignment-baseline:middle;baseline-shift:-100%;font-size:10px;font-weight:normal;stroke:none;text-anchor:middle\" transform=\"translate(281.25,0) rotate(0)\" x=\"0\" y=\"0\">8</text></g><text style=\"alignment-baseline:middle;baseline-shift:-200%;font-weight:bold;stroke:none;text-anchor:middle\" x=\"150.0\" y=\"0\"></text></g></g></svg><div class=\"toyplot-controls\"><ul class=\"toyplot-mark-popup\" onmouseleave=\"this.style.visibility='hidden'\" style=\"background:rgba(0%,0%,0%,0.75);border:0;border-radius:6px;color:white;cursor:default;list-style:none;margin:0;padding:5px;position:fixed;visibility:hidden\"><li class=\"toyplot-mark-popup-title\" style=\"color:lightgray;cursor:default;padding:5px;list-style:none;margin:0;\"></li><li class=\"toyplot-mark-popup-save-csv\" onmouseout=\"this.style.color='white';this.style.background='steelblue'\" onmouseover=\"this.style.color='steelblue';this.style.background='white'\" style=\"border-radius:3px;padding:5px;list-style:none;margin:0;\">Save as .csv</li></ul><script>\n",
       "(function()\n",
       "{\n",
       "  if(window.CSS !== undefined && window.CSS.supports !== undefined)\n",
       "  {\n",
       "    if(!window.CSS.supports(\"alignment-baseline\", \"middle\"))\n",
       "    {\n",
       "      var re = /\\s*alignment-baseline\\s*:\\s*([^;\\s]*)\\s*/;\n",
       "      var text = document.querySelectorAll(\"#t448397275b674143ae30f7f31f95a5b8 text\");\n",
       "      for(var i = 0; i != text.length; ++i)\n",
       "      {\n",
       "        var match = re.exec(text[i].attributes.style.value);\n",
       "        if(match)\n",
       "        {\n",
       "          if(match[1] == \"middle\")\n",
       "          {\n",
       "            var style = getComputedStyle(text[i]);\n",
       "            var font_size = style.fontSize.substr(0, style.fontSize.length - 2);\n",
       "            var dy = text[i].dy.baseVal.length ? text[i].dy.baseVal[0].value : 0;\n",
       "            dy += 0.4 * font_size;\n",
       "            text[i].setAttribute(\"dy\", dy);\n",
       "          }\n",
       "        }\n",
       "      }\n",
       "    }\n",
       "    if(!window.CSS.supports(\"baseline-shift\", \"0\"))\n",
       "    {\n",
       "      var re = /\\s*baseline-shift\\s*:\\s*([^;\\s]*)\\s*/;\n",
       "      var text = document.querySelectorAll(\"#t448397275b674143ae30f7f31f95a5b8 text\");\n",
       "      for(var i = 0; i != text.length; ++i)\n",
       "      {\n",
       "        var match = re.exec(text[i].attributes.style.value);\n",
       "        if(match)\n",
       "        {\n",
       "          var style = getComputedStyle(text[i]);\n",
       "          var font_size = style.fontSize.substr(0, style.fontSize.length - 2);\n",
       "          var percent = 0.01 * match[1].substr(0, match[1].length-1);\n",
       "          var dy = text[i].dy.baseVal.length ? text[i].dy.baseVal[0].value : 0;\n",
       "          dy -= percent * font_size\n",
       "          text[i].setAttribute(\"dy\", dy);\n",
       "        }\n",
       "      }\n",
       "    }\n",
       "  }\n",
       "})();\n",
       "</script></div></div>"
      ],
      "text/plain": [
       "<toyplot.canvas.Canvas at 0x109609f90>"
      ]
     },
     "metadata": {},
     "output_type": "display_data"
    }
   ],
   "source": [
    "values = numpy.random.choice(3, size=(10, 10))\n",
    "colormap = toyplot.color.CategoricalMap()\n",
    "canvas = toyplot.Canvas(width=400, style={\"border\":\"1px solid #dedede\"})\n",
    "canvas.matrix((values, colormap), scale=True)"
   ]
  }
 ],
 "metadata": {
  "kernelspec": {
   "display_name": "Python 2",
   "language": "python",
   "name": "python2"
  },
  "language_info": {
   "codemirror_mode": {
    "name": "ipython",
    "version": 2
   },
   "file_extension": ".py",
   "mimetype": "text/x-python",
   "name": "python",
   "nbconvert_exporter": "python",
   "pygments_lexer": "ipython2",
   "version": "2.7.10"
  }
 },
 "nbformat": 4,
 "nbformat_minor": 0
}

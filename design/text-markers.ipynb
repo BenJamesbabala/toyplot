{
 "cells": [
  {
   "cell_type": "code",
   "execution_count": 1,
   "metadata": {},
   "outputs": [],
   "source": [
    "import toyplot.font\n",
    "import toyplot.marker\n",
    "import toyplot.text\n",
    "\n",
    "import logging\n",
    "logging.basicConfig(level=logging.DEBUG)\n",
    "toyplot.log.setLevel(logging.DEBUG)"
   ]
  },
  {
   "cell_type": "code",
   "execution_count": 2,
   "metadata": {},
   "outputs": [
    {
     "name": "stdout",
     "output_type": "stream",
     "text": [
      "This: <marker shape=\"o\" label='A' mstyle=\"fill:none\" lstyle=\"\"/> is a marker.<br/>So is this: <marker shape=\"*\" mstyle=\"\" lstyle=\"\"/>\n"
     ]
    }
   ],
   "source": [
    "marker_a = toyplot.marker.Marker(shape=\"o\", label=\"A\", mstyle={\"fill\":\"none\"})\n",
    "marker_b = toyplot.marker.Marker(shape=\"*\")\n",
    "\n",
    "text = \"This: \" + marker_a + \" is a marker.<br/>So is this: \" + marker_b\n",
    "\n",
    "print text\n",
    "\n",
    "style = {\"font-size\": \"18px\", \"text-anchor\":\"start\", \"-toyplot-text-layout-box-visibility\": \"hidden\"}\n",
    "fonts = toyplot.font.ReportlabLibrary()\n",
    "layout = toyplot.text.layout(text=text, style=style, fonts=fonts)"
   ]
  },
  {
   "cell_type": "code",
   "execution_count": 3,
   "metadata": {
    "scrolled": false
   },
   "outputs": [
    {
     "name": "stdout",
     "output_type": "stream",
     "text": [
      "toyplot.text.Layout\n",
      "  bottom: 21.6\n",
      "  height: 43.2\n",
      "  left: 0\n",
      "  right: 159.678\n",
      "  style:\n",
      "    -toyplot-text-layout-box-visibility: hidden\n",
      "    fill: #292724\n",
      "    font-family: helvetica\n",
      "    font-size: 18.0\n",
      "    font-weight: normal\n",
      "    stroke: none\n",
      "    vertical-align: baseline\n",
      "    white-space: pre\n",
      "  top: -21.6\n",
      "  width: 159.678\n",
      "\n",
      "  toyplot.text.LineBox\n",
      "    baseline: -6.201\n",
      "    bottom: 0.0\n",
      "    height: 21.6\n",
      "    left: 0\n",
      "    right: 159.678\n",
      "    style:\n",
      "      -toyplot-text-layout-box-visibility: hidden\n",
      "      fill: #292724\n",
      "      font-family: helvetica\n",
      "      font-size: 18.0\n",
      "      font-weight: normal\n",
      "      stroke: none\n",
      "      vertical-align: baseline\n",
      "      white-space: pre\n",
      "    top: -21.6\n",
      "    width: 159.678\n",
      "\n",
      "    toyplot.text.TextBox\n",
      "      baseline: -6.201\n",
      "      bottom: -2.475\n",
      "      height: 16.65\n",
      "      left: 0\n",
      "      right: 44.01\n",
      "      style:\n",
      "        -toyplot-text-layout-box-visibility: hidden\n",
      "        fill: #292724\n",
      "        font-family: helvetica\n",
      "        font-size: 18.0\n",
      "        font-weight: normal\n",
      "        stroke: none\n",
      "        vertical-align: baseline\n",
      "        white-space: pre\n",
      "      text: 'This: '\n",
      "      top: -19.125\n",
      "      width: 44.01\n",
      "\n",
      "    toyplot.text.MarkerBox\n",
      "      baseline: -6.201\n",
      "      bottom: -2.475\n",
      "      height: 16.65\n",
      "      left: 44.01\n",
      "      marker: <marker shape=\"o\" label='A' mstyle=\"fill:none\" lstyle=\"\"/>\n",
      "      right: 60.66\n",
      "      style:\n",
      "        -toyplot-text-layout-box-visibility: hidden\n",
      "        fill: #292724\n",
      "        font-family: helvetica\n",
      "        font-size: 18.0\n",
      "        font-weight: normal\n",
      "        stroke: none\n",
      "        vertical-align: baseline\n",
      "        white-space: pre\n",
      "      top: -19.125\n",
      "      width: 16.65\n",
      "\n",
      "    toyplot.text.TextBox\n",
      "      baseline: -6.201\n",
      "      bottom: -2.475\n",
      "      height: 16.65\n",
      "      left: 60.66\n",
      "      right: 159.678\n",
      "      style:\n",
      "        -toyplot-text-layout-box-visibility: hidden\n",
      "        fill: #292724\n",
      "        font-family: helvetica\n",
      "        font-size: 18.0\n",
      "        font-weight: normal\n",
      "        stroke: none\n",
      "        vertical-align: baseline\n",
      "        white-space: pre\n",
      "      text: ' is a marker.'\n",
      "      top: -19.125\n",
      "      width: 99.018\n",
      "\n",
      "  toyplot.text.LineBox\n",
      "    baseline: 15.399\n",
      "    bottom: 21.6\n",
      "    height: 21.6\n",
      "    left: 0\n",
      "    right: 99.684\n",
      "    style:\n",
      "      -toyplot-text-layout-box-visibility: hidden\n",
      "      fill: #292724\n",
      "      font-family: helvetica\n",
      "      font-size: 18.0\n",
      "      font-weight: normal\n",
      "      stroke: none\n",
      "      vertical-align: baseline\n",
      "      white-space: pre\n",
      "    top: 0.0\n",
      "    width: 99.684\n",
      "\n",
      "    toyplot.text.TextBox\n",
      "      baseline: 15.399\n",
      "      bottom: 19.125\n",
      "      height: 16.65\n",
      "      left: 0\n",
      "      right: 83.034\n",
      "      style:\n",
      "        -toyplot-text-layout-box-visibility: hidden\n",
      "        fill: #292724\n",
      "        font-family: helvetica\n",
      "        font-size: 18.0\n",
      "        font-weight: normal\n",
      "        stroke: none\n",
      "        vertical-align: baseline\n",
      "        white-space: pre\n",
      "      text: 'So is this: '\n",
      "      top: 2.475\n",
      "      width: 83.034\n",
      "\n",
      "    toyplot.text.MarkerBox\n",
      "      baseline: 15.399\n",
      "      bottom: 19.125\n",
      "      height: 16.65\n",
      "      left: 83.034\n",
      "      marker: <marker shape=\"*\" mstyle=\"\" lstyle=\"\"/>\n",
      "      right: 99.684\n",
      "      style:\n",
      "        -toyplot-text-layout-box-visibility: hidden\n",
      "        fill: #292724\n",
      "        font-family: helvetica\n",
      "        font-size: 18.0\n",
      "        font-weight: normal\n",
      "        stroke: none\n",
      "        vertical-align: baseline\n",
      "        white-space: pre\n",
      "      top: 2.475\n",
      "      width: 16.65\n",
      "\n"
     ]
    }
   ],
   "source": [
    "toyplot.text.dump(layout)"
   ]
  },
  {
   "cell_type": "code",
   "execution_count": 4,
   "metadata": {},
   "outputs": [
    {
     "data": {
      "text/html": [
       "<div align=\"center\" class=\"toyplot\" id=\"t9ef91eb073aa4c2fb37583d780af7af9\"><svg class=\"toyplot-canvas-Canvas\" height=\"192.0px\" id=\"t6ceaf158ee204b6bb0516a40d3ade04b\" preserveAspectRatio=\"xMidYMid meet\" style=\"background-color:transparent;fill:rgb(16.1%,15.3%,14.1%);fill-opacity:1.0;font-family:Helvetica;font-size:12px;opacity:1.0;stroke:rgb(16.1%,15.3%,14.1%);stroke-opacity:1.0;stroke-width:1.0\" viewBox=\"0 0 480.0 192.0\" width=\"480.0px\" xmlns=\"http://www.w3.org/2000/svg\" xmlns:toyplot=\"http://www.sandia.gov/toyplot\" xmlns:xlink=\"http://www.w3.org/1999/xlink\"><g class=\"toyplot-coordinates-Cartesian\" id=\"tabecf63c7b884aafb7795275501772a5\"><clipPath id=\"t4d78708726914961bcccb6e91efea547\"><rect height=\"112.0\" width=\"400.0\" x=\"40.0\" y=\"40.0\"></rect></clipPath><g clip-path=\"url(#t4d78708726914961bcccb6e91efea547)\"><g class=\"toyplot-mark-Text\" id=\"t5081ce89510e473883918bcf547acd10\"><g class=\"toyplot-Series\"><g class=\"toyplot-Datum\" transform=\"translate(240.0,96.0)\"><text style=\"-toyplot-text-layout-box-visibility:hidden;fill:rgb(40%,76.1%,64.7%);fill-opacity:1.0;font-family:helvetica;font-size:18.0;font-weight:normal;opacity:1.0;stroke:none;vertical-align:baseline;white-space:pre\" x=\"0\" y=\"-6.201\">This: </text><g style=\"fill:none\"><circle cx=\"52.334999999999994\" cy=\"-10.799999999999999\" r=\"8.325\"></circle><g transform=\"translate(52.334999999999994,-10.799999999999999)\"><text style=\"fill:rgb(16.1%,15.3%,14.1%);fill-opacity:1.0;font-family:helvetica;font-size:12.4875;font-weight:normal;stroke:none;vertical-align:baseline;white-space:pre\" x=\"-4.16458125\" y=\"3.19055625\">A</text></g></g><text style=\"-toyplot-text-layout-box-visibility:hidden;fill:rgb(40%,76.1%,64.7%);fill-opacity:1.0;font-family:helvetica;font-size:18.0;font-weight:normal;opacity:1.0;stroke:none;vertical-align:baseline;white-space:pre\" x=\"60.66\" y=\"-6.201\"> is a marker.</text><text style=\"-toyplot-text-layout-box-visibility:hidden;fill:rgb(40%,76.1%,64.7%);fill-opacity:1.0;font-family:helvetica;font-size:18.0;font-weight:normal;opacity:1.0;stroke:none;vertical-align:baseline;white-space:pre\" x=\"0\" y=\"15.399\">So is this: </text><g><line transform=\"rotate(0, 91.35900000000001, 10.800000000000001)\" x1=\"91.35900000000001\" x2=\"91.35900000000001\" y1=\"2.4750000000000014\" y2=\"19.125\"></line><line transform=\"rotate(60, 91.35900000000001, 10.800000000000001)\" x1=\"91.35900000000001\" x2=\"91.35900000000001\" y1=\"2.4750000000000014\" y2=\"19.125\"></line><line transform=\"rotate(-60, 91.35900000000001, 10.800000000000001)\" x1=\"91.35900000000001\" x2=\"91.35900000000001\" y1=\"2.4750000000000014\" y2=\"19.125\"></line></g></g></g></g></g></g></svg><div class=\"toyplot-interactive\"></div></div>"
      ]
     },
     "metadata": {},
     "output_type": "display_data"
    }
   ],
   "source": [
    "canvas = toyplot.Canvas(width=\"5in\", height=\"2in\")\n",
    "axes = canvas.cartesian(show=False)\n",
    "axes.text(0, 0, text=text, style=style);"
   ]
  },
  {
   "cell_type": "code",
   "execution_count": 5,
   "metadata": {},
   "outputs": [],
   "source": [
    "import toyplot.pdf\n",
    "toyplot.pdf.render(canvas, \"test.pdf\")"
   ]
  },
  {
   "cell_type": "code",
   "execution_count": null,
   "metadata": {
    "collapsed": true
   },
   "outputs": [],
   "source": []
  }
 ],
 "metadata": {
  "anaconda-cloud": {},
  "kernelspec": {
   "display_name": "Python 2",
   "language": "python",
   "name": "python2"
  },
  "language_info": {
   "codemirror_mode": {
    "name": "ipython",
    "version": 2
   },
   "file_extension": ".py",
   "mimetype": "text/x-python",
   "name": "python",
   "nbconvert_exporter": "python",
   "pygments_lexer": "ipython2",
   "version": "2.7.13"
  }
 },
 "nbformat": 4,
 "nbformat_minor": 1
}

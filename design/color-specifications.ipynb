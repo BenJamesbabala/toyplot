{
 "cells": [
  {
   "cell_type": "markdown",
   "metadata": {},
   "source": [
    "# Overview\n",
    "\n",
    "We need to refine the way users specify colors, to simplify the public API and eliminate inconsistencies.  The challenge is to handle all of the ways in which a user might want to specify per-series / per-datum colors, while avoiding potential ambiguities.\n",
    "\n",
    "**Use-cases**\n",
    "\n",
    "* Specify one explicit color for everything.\n",
    "* Specify an explicit color per series.\n",
    "* Specify a colormap for the series.\n",
    "* Specify a palette for the series.\n",
    "* Specify per-datum scalar values and have them mapped.\n",
    "* Specify per-datum scalar values and have them mapped, but override a few \"special\" values.\n",
    "* Specify explicit per-datum color values for everything (i.e. map them yourself).\n",
    "\n",
    "**API**\n",
    "\n",
    "* (values) - map the values with the default colormap.\n",
    "* (colormap) - map values in the range $[0, N)$ with the given colormap.\n",
    "* (palette) - map values in the range $[0, N)$ with a linear colormap and the given palette.\n",
    "* (values, colormap) - map values with the given colormap.\n",
    "* (values, palette) - map values with a linear colormap and the given palette.\n",
    "\n",
    "**Values**\n",
    "\n",
    "* \"value\" - a single CSS color value.\n",
    "* (r, g, b) - a single RGB color value.\n",
    "* (r, g, b, a) - a single RGBA color value.\n",
    "* [value1, value2, ...] - 1D heterogeneous collection of CSS and tuple color values.\n",
    "    * We don't allow scalar values in this case, because their domain would be ambiguous.\n",
    "    * Have to be careful with the implementation here - we don't want a list of nothing-but-tuples to be misinterpreted as a 2D numpy array of scalars.\n",
    "* numpy numeric array with shape $M$ - 1D collection of scalar values for mapping.\n",
    "* numpy numeric array with shape $M \\times N$ - 2D collection of scalar values for mapping.\n",
    "* numpy string array with shape $M$ - 1D collection of CSS color values.\n",
    "* numpy string array with shape $M \\times N$ - 2D collection of CSS color values.\n",
    "* numpy object array with shape $M$ - 1D collection of heterogeneous CSS and tuple color values.\n",
    "    * We don't allow scalar values in this case, because their domain would be ambiguous.\n",
    "* numpy object array with shape $M \\times N$ - 2D collection of heterogeneous CSS and tuple color values.\n",
    "    * We don't allow scalar values in this case, because their domain would be ambiguous.\n",
    "* numpy numeric array with shape $M \\times N \\times 3$ - 2D collection of RGB colors.\n",
    "* numpy numeric array with shape $M \\times N \\times 4$ - 2D collection of RGBA colors."
   ]
  },
  {
   "cell_type": "code",
   "execution_count": null,
   "metadata": {
    "collapsed": true
   },
   "outputs": [],
   "source": []
  }
 ],
 "metadata": {
  "kernelspec": {
   "display_name": "Python 2",
   "language": "python",
   "name": "python2"
  },
  "language_info": {
   "codemirror_mode": {
    "name": "ipython",
    "version": 2
   },
   "file_extension": ".py",
   "mimetype": "text/x-python",
   "name": "python",
   "nbconvert_exporter": "python",
   "pygments_lexer": "ipython2",
   "version": "2.7.10"
  }
 },
 "nbformat": 4,
 "nbformat_minor": 0
}

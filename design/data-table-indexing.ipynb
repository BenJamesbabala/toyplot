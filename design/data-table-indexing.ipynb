{
 "cells": [
  {
   "cell_type": "code",
   "execution_count": 1,
   "metadata": {
    "collapsed": false
   },
   "outputs": [
    {
     "data": {
      "text/html": [
       "<table class=\"toyplot-data-Table\" style=\"border-collapse:collapse; border:none; color: #292724\"><tr style=\"border:none;border-bottom:1px solid #292724\"><th style=\"text-align:left;border:none;padding-right:1em;\">a</th><th style=\"text-align:left;border:none;padding-right:1em;\">b</th><th style=\"text-align:left;border:none;padding-right:1em;\">c</th></tr><tr style=\"border:none\"><td style=\"border:none;padding-right:1em;\">0</td><td style=\"border:none;padding-right:1em;\">0</td><td style=\"border:none;padding-right:1em;\">0.0</td></tr><tr style=\"border:none\"><td style=\"border:none;padding-right:1em;\">1</td><td style=\"border:none;padding-right:1em;\">1</td><td style=\"border:none;padding-right:1em;\">0.111111111111</td></tr><tr style=\"border:none\"><td style=\"border:none;padding-right:1em;\">2</td><td style=\"border:none;padding-right:1em;\">4</td><td style=\"border:none;padding-right:1em;\">0.222222222222</td></tr><tr style=\"border:none\"><td style=\"border:none;padding-right:1em;\">3</td><td style=\"border:none;padding-right:1em;\">9</td><td style=\"border:none;padding-right:1em;\">0.333333333333</td></tr><tr style=\"border:none\"><td style=\"border:none;padding-right:1em;\">4</td><td style=\"border:none;padding-right:1em;\">16</td><td style=\"border:none;padding-right:1em;\">0.444444444444</td></tr><tr style=\"border:none\"><td style=\"border:none;padding-right:1em;\">5</td><td style=\"border:none;padding-right:1em;\">25</td><td style=\"border:none;padding-right:1em;\">0.555555555556</td></tr><tr style=\"border:none\"><td style=\"border:none;padding-right:1em;\">6</td><td style=\"border:none;padding-right:1em;\">36</td><td style=\"border:none;padding-right:1em;\">0.666666666667</td></tr><tr style=\"border:none\"><td style=\"border:none;padding-right:1em;\">7</td><td style=\"border:none;padding-right:1em;\">49</td><td style=\"border:none;padding-right:1em;\">0.777777777778</td></tr><tr style=\"border:none\"><td style=\"border:none;padding-right:1em;\">8</td><td style=\"border:none;padding-right:1em;\">64</td><td style=\"border:none;padding-right:1em;\">0.888888888889</td></tr><tr style=\"border:none\"><td style=\"border:none;padding-right:1em;\">9</td><td style=\"border:none;padding-right:1em;\">81</td><td style=\"border:none;padding-right:1em;\">1.0</td></tr></table>"
      ],
      "text/plain": [
       "<toyplot.data.Table at 0x106394450>"
      ]
     },
     "execution_count": 1,
     "metadata": {},
     "output_type": "execute_result"
    }
   ],
   "source": [
    "import numpy\n",
    "import toyplot.data\n",
    "\n",
    "numpy.random.seed(1234)\n",
    "\n",
    "t = toyplot.data.Table()\n",
    "t[\"a\"] = numpy.arange(10)\n",
    "t[\"b\"] = numpy.arange(10) ** 2\n",
    "t[\"c\"] = numpy.linspace(0, 1, 10)\n",
    "t"
   ]
  },
  {
   "cell_type": "markdown",
   "metadata": {},
   "source": [
    "**Returns a Column**"
   ]
  },
  {
   "cell_type": "code",
   "execution_count": 2,
   "metadata": {
    "collapsed": false
   },
   "outputs": [
    {
     "data": {
      "text/plain": [
       "masked_array(data = [0 1 2 3 4 5 6 7 8 9],\n",
       "             mask = False,\n",
       "       fill_value = 999999)"
      ]
     },
     "execution_count": 2,
     "metadata": {},
     "output_type": "execute_result"
    }
   ],
   "source": [
    "t[\"a\"]"
   ]
  },
  {
   "cell_type": "code",
   "execution_count": 3,
   "metadata": {
    "collapsed": false
   },
   "outputs": [
    {
     "data": {
      "text/plain": [
       "masked_array(data = [5],\n",
       "             mask = False,\n",
       "       fill_value = 999999)"
      ]
     },
     "execution_count": 3,
     "metadata": {},
     "output_type": "execute_result"
    }
   ],
   "source": [
    "t[\"a\", 5]"
   ]
  },
  {
   "cell_type": "code",
   "execution_count": 4,
   "metadata": {
    "collapsed": false
   },
   "outputs": [
    {
     "data": {
      "text/plain": [
       "masked_array(data = [5 6 7 8 9],\n",
       "             mask = False,\n",
       "       fill_value = 999999)"
      ]
     },
     "execution_count": 4,
     "metadata": {},
     "output_type": "execute_result"
    }
   ],
   "source": [
    "t[\"a\", 5:10]"
   ]
  },
  {
   "cell_type": "code",
   "execution_count": 5,
   "metadata": {
    "collapsed": false
   },
   "outputs": [
    {
     "data": {
      "text/plain": [
       "masked_array(data = [0 1 2 3 4 5 6 7 8 9],\n",
       "             mask = False,\n",
       "       fill_value = 999999)"
      ]
     },
     "execution_count": 5,
     "metadata": {},
     "output_type": "execute_result"
    }
   ],
   "source": [
    "t[\"a\", :]"
   ]
  },
  {
   "cell_type": "code",
   "execution_count": 6,
   "metadata": {
    "collapsed": false
   },
   "outputs": [
    {
     "data": {
      "text/plain": [
       "masked_array(data = [1 3 4],\n",
       "             mask = False,\n",
       "       fill_value = 999999)"
      ]
     },
     "execution_count": 6,
     "metadata": {},
     "output_type": "execute_result"
    }
   ],
   "source": [
    "t[\"a\", [1, 3, 4]]"
   ]
  },
  {
   "cell_type": "markdown",
   "metadata": {},
   "source": [
    "**Returns a Table**"
   ]
  },
  {
   "cell_type": "code",
   "execution_count": 7,
   "metadata": {
    "collapsed": false
   },
   "outputs": [
    {
     "data": {
      "text/html": [
       "<table class=\"toyplot-data-Table\" style=\"border-collapse:collapse; border:none; color: #292724\"><tr style=\"border:none;border-bottom:1px solid #292724\"><th style=\"text-align:left;border:none;padding-right:1em;\">c</th><th style=\"text-align:left;border:none;padding-right:1em;\">a</th><th style=\"text-align:left;border:none;padding-right:1em;\">b</th></tr><tr style=\"border:none\"><td style=\"border:none;padding-right:1em;\">0.0</td><td style=\"border:none;padding-right:1em;\">0</td><td style=\"border:none;padding-right:1em;\">0</td></tr><tr style=\"border:none\"><td style=\"border:none;padding-right:1em;\">0.111111111111</td><td style=\"border:none;padding-right:1em;\">1</td><td style=\"border:none;padding-right:1em;\">1</td></tr><tr style=\"border:none\"><td style=\"border:none;padding-right:1em;\">0.222222222222</td><td style=\"border:none;padding-right:1em;\">2</td><td style=\"border:none;padding-right:1em;\">4</td></tr><tr style=\"border:none\"><td style=\"border:none;padding-right:1em;\">0.333333333333</td><td style=\"border:none;padding-right:1em;\">3</td><td style=\"border:none;padding-right:1em;\">9</td></tr><tr style=\"border:none\"><td style=\"border:none;padding-right:1em;\">0.444444444444</td><td style=\"border:none;padding-right:1em;\">4</td><td style=\"border:none;padding-right:1em;\">16</td></tr><tr style=\"border:none\"><td style=\"border:none;padding-right:1em;\">0.555555555556</td><td style=\"border:none;padding-right:1em;\">5</td><td style=\"border:none;padding-right:1em;\">25</td></tr><tr style=\"border:none\"><td style=\"border:none;padding-right:1em;\">0.666666666667</td><td style=\"border:none;padding-right:1em;\">6</td><td style=\"border:none;padding-right:1em;\">36</td></tr><tr style=\"border:none\"><td style=\"border:none;padding-right:1em;\">0.777777777778</td><td style=\"border:none;padding-right:1em;\">7</td><td style=\"border:none;padding-right:1em;\">49</td></tr><tr style=\"border:none\"><td style=\"border:none;padding-right:1em;\">0.888888888889</td><td style=\"border:none;padding-right:1em;\">8</td><td style=\"border:none;padding-right:1em;\">64</td></tr><tr style=\"border:none\"><td style=\"border:none;padding-right:1em;\">1.0</td><td style=\"border:none;padding-right:1em;\">9</td><td style=\"border:none;padding-right:1em;\">81</td></tr></table>"
      ],
      "text/plain": [
       "<toyplot.data.Table at 0x105943d50>"
      ]
     },
     "execution_count": 7,
     "metadata": {},
     "output_type": "execute_result"
    }
   ],
   "source": [
    "t[[\"c\", \"a\", \"b\"]]"
   ]
  },
  {
   "cell_type": "code",
   "execution_count": 8,
   "metadata": {
    "collapsed": false
   },
   "outputs": [
    {
     "data": {
      "text/html": [
       "<table class=\"toyplot-data-Table\" style=\"border-collapse:collapse; border:none; color: #292724\"><tr style=\"border:none;border-bottom:1px solid #292724\"><th style=\"text-align:left;border:none;padding-right:1em;\">a</th><th style=\"text-align:left;border:none;padding-right:1em;\">b</th><th style=\"text-align:left;border:none;padding-right:1em;\">c</th></tr><tr style=\"border:none\"><td style=\"border:none;padding-right:1em;\">5</td><td style=\"border:none;padding-right:1em;\">25</td><td style=\"border:none;padding-right:1em;\">0.555555555556</td></tr></table>"
      ],
      "text/plain": [
       "<toyplot.data.Table at 0x105943990>"
      ]
     },
     "execution_count": 8,
     "metadata": {},
     "output_type": "execute_result"
    }
   ],
   "source": [
    "t[5]"
   ]
  },
  {
   "cell_type": "code",
   "execution_count": 9,
   "metadata": {
    "collapsed": false
   },
   "outputs": [
    {
     "data": {
      "text/html": [
       "<table class=\"toyplot-data-Table\" style=\"border-collapse:collapse; border:none; color: #292724\"><tr style=\"border:none;border-bottom:1px solid #292724\"><th style=\"text-align:left;border:none;padding-right:1em;\">a</th><th style=\"text-align:left;border:none;padding-right:1em;\">b</th><th style=\"text-align:left;border:none;padding-right:1em;\">c</th></tr><tr style=\"border:none\"><td style=\"border:none;padding-right:1em;\">5</td><td style=\"border:none;padding-right:1em;\">25</td><td style=\"border:none;padding-right:1em;\">0.555555555556</td></tr><tr style=\"border:none\"><td style=\"border:none;padding-right:1em;\">6</td><td style=\"border:none;padding-right:1em;\">36</td><td style=\"border:none;padding-right:1em;\">0.666666666667</td></tr><tr style=\"border:none\"><td style=\"border:none;padding-right:1em;\">7</td><td style=\"border:none;padding-right:1em;\">49</td><td style=\"border:none;padding-right:1em;\">0.777777777778</td></tr><tr style=\"border:none\"><td style=\"border:none;padding-right:1em;\">8</td><td style=\"border:none;padding-right:1em;\">64</td><td style=\"border:none;padding-right:1em;\">0.888888888889</td></tr><tr style=\"border:none\"><td style=\"border:none;padding-right:1em;\">9</td><td style=\"border:none;padding-right:1em;\">81</td><td style=\"border:none;padding-right:1em;\">1.0</td></tr></table>"
      ],
      "text/plain": [
       "<toyplot.data.Table at 0x105943f90>"
      ]
     },
     "execution_count": 9,
     "metadata": {},
     "output_type": "execute_result"
    }
   ],
   "source": [
    "t[5:10]"
   ]
  },
  {
   "cell_type": "code",
   "execution_count": 10,
   "metadata": {
    "collapsed": false
   },
   "outputs": [
    {
     "data": {
      "text/html": [
       "<table class=\"toyplot-data-Table\" style=\"border-collapse:collapse; border:none; color: #292724\"><tr style=\"border:none;border-bottom:1px solid #292724\"><th style=\"text-align:left;border:none;padding-right:1em;\">a</th></tr><tr style=\"border:none\"><td style=\"border:none;padding-right:1em;\">5</td></tr></table>"
      ],
      "text/plain": [
       "<toyplot.data.Table at 0x105943c10>"
      ]
     },
     "execution_count": 10,
     "metadata": {},
     "output_type": "execute_result"
    }
   ],
   "source": [
    "t[5, \"a\"]"
   ]
  },
  {
   "cell_type": "code",
   "execution_count": 11,
   "metadata": {
    "collapsed": false
   },
   "outputs": [
    {
     "data": {
      "text/html": [
       "<table class=\"toyplot-data-Table\" style=\"border-collapse:collapse; border:none; color: #292724\"><tr style=\"border:none;border-bottom:1px solid #292724\"><th style=\"text-align:left;border:none;padding-right:1em;\">a</th><th style=\"text-align:left;border:none;padding-right:1em;\">b</th><th style=\"text-align:left;border:none;padding-right:1em;\">c</th></tr><tr style=\"border:none\"><td style=\"border:none;padding-right:1em;\">1</td><td style=\"border:none;padding-right:1em;\">1</td><td style=\"border:none;padding-right:1em;\">0.111111111111</td></tr><tr style=\"border:none\"><td style=\"border:none;padding-right:1em;\">3</td><td style=\"border:none;padding-right:1em;\">9</td><td style=\"border:none;padding-right:1em;\">0.333333333333</td></tr><tr style=\"border:none\"><td style=\"border:none;padding-right:1em;\">4</td><td style=\"border:none;padding-right:1em;\">16</td><td style=\"border:none;padding-right:1em;\">0.444444444444</td></tr></table>"
      ],
      "text/plain": [
       "<toyplot.data.Table at 0x105943e90>"
      ]
     },
     "execution_count": 11,
     "metadata": {},
     "output_type": "execute_result"
    }
   ],
   "source": [
    "t[[1, 3, 4]]"
   ]
  },
  {
   "cell_type": "code",
   "execution_count": 12,
   "metadata": {
    "collapsed": false
   },
   "outputs": [
    {
     "data": {
      "text/html": [
       "<table class=\"toyplot-data-Table\" style=\"border-collapse:collapse; border:none; color: #292724\"><tr style=\"border:none;border-bottom:1px solid #292724\"><th style=\"text-align:left;border:none;padding-right:1em;\">a</th></tr><tr style=\"border:none\"><td style=\"border:none;padding-right:1em;\">1</td></tr><tr style=\"border:none\"><td style=\"border:none;padding-right:1em;\">3</td></tr><tr style=\"border:none\"><td style=\"border:none;padding-right:1em;\">4</td></tr></table>"
      ],
      "text/plain": [
       "<toyplot.data.Table at 0x1059439d0>"
      ]
     },
     "execution_count": 12,
     "metadata": {},
     "output_type": "execute_result"
    }
   ],
   "source": [
    "t[[1, 3, 4], \"a\"]"
   ]
  },
  {
   "cell_type": "code",
   "execution_count": 13,
   "metadata": {
    "collapsed": false
   },
   "outputs": [
    {
     "data": {
      "text/html": [
       "<table class=\"toyplot-data-Table\" style=\"border-collapse:collapse; border:none; color: #292724\"><tr style=\"border:none;border-bottom:1px solid #292724\"><th style=\"text-align:left;border:none;padding-right:1em;\">c</th><th style=\"text-align:left;border:none;padding-right:1em;\">a</th><th style=\"text-align:left;border:none;padding-right:1em;\">b</th></tr><tr style=\"border:none\"><td style=\"border:none;padding-right:1em;\">0.111111111111</td><td style=\"border:none;padding-right:1em;\">1</td><td style=\"border:none;padding-right:1em;\">1</td></tr><tr style=\"border:none\"><td style=\"border:none;padding-right:1em;\">0.333333333333</td><td style=\"border:none;padding-right:1em;\">3</td><td style=\"border:none;padding-right:1em;\">9</td></tr><tr style=\"border:none\"><td style=\"border:none;padding-right:1em;\">0.444444444444</td><td style=\"border:none;padding-right:1em;\">4</td><td style=\"border:none;padding-right:1em;\">16</td></tr></table>"
      ],
      "text/plain": [
       "<toyplot.data.Table at 0x105953510>"
      ]
     },
     "execution_count": 13,
     "metadata": {},
     "output_type": "execute_result"
    }
   ],
   "source": [
    "t[[1, 3, 4], [\"c\", \"a\", \"b\"]]"
   ]
  },
  {
   "cell_type": "code",
   "execution_count": 14,
   "metadata": {
    "collapsed": false
   },
   "outputs": [
    {
     "name": "stderr",
     "output_type": "stream",
     "text": [
      "WARNING:toyplot:toyplot.data.Table.columns() is deprecated, use the [] operator instead.\n"
     ]
    },
    {
     "data": {
      "text/html": [
       "<table class=\"toyplot-data-Table\" style=\"border-collapse:collapse; border:none; color: #292724\"><tr style=\"border:none;border-bottom:1px solid #292724\"><th style=\"text-align:left;border:none;padding-right:1em;\">a</th></tr><tr style=\"border:none\"><td style=\"border:none;padding-right:1em;\">0</td></tr><tr style=\"border:none\"><td style=\"border:none;padding-right:1em;\">1</td></tr><tr style=\"border:none\"><td style=\"border:none;padding-right:1em;\">2</td></tr><tr style=\"border:none\"><td style=\"border:none;padding-right:1em;\">3</td></tr><tr style=\"border:none\"><td style=\"border:none;padding-right:1em;\">4</td></tr><tr style=\"border:none\"><td style=\"border:none;padding-right:1em;\">5</td></tr><tr style=\"border:none\"><td style=\"border:none;padding-right:1em;\">6</td></tr><tr style=\"border:none\"><td style=\"border:none;padding-right:1em;\">7</td></tr><tr style=\"border:none\"><td style=\"border:none;padding-right:1em;\">8</td></tr><tr style=\"border:none\"><td style=\"border:none;padding-right:1em;\">9</td></tr></table>"
      ],
      "text/plain": [
       "<toyplot.data.Table at 0x105943d10>"
      ]
     },
     "execution_count": 14,
     "metadata": {},
     "output_type": "execute_result"
    }
   ],
   "source": [
    "t.columns(\"a\")"
   ]
  },
  {
   "cell_type": "code",
   "execution_count": 15,
   "metadata": {
    "collapsed": false
   },
   "outputs": [
    {
     "name": "stderr",
     "output_type": "stream",
     "text": [
      "WARNING:toyplot:toyplot.data.Table.rows() is deprecated, use the [] operator instead.\n"
     ]
    },
    {
     "data": {
      "text/html": [
       "<table class=\"toyplot-data-Table\" style=\"border-collapse:collapse; border:none; color: #292724\"><tr style=\"border:none;border-bottom:1px solid #292724\"><th style=\"text-align:left;border:none;padding-right:1em;\">a</th><th style=\"text-align:left;border:none;padding-right:1em;\">b</th><th style=\"text-align:left;border:none;padding-right:1em;\">c</th></tr><tr style=\"border:none\"><td style=\"border:none;padding-right:1em;\">3</td><td style=\"border:none;padding-right:1em;\">9</td><td style=\"border:none;padding-right:1em;\">0.333333333333</td></tr></table>"
      ],
      "text/plain": [
       "<toyplot.data.Table at 0x105943a10>"
      ]
     },
     "execution_count": 15,
     "metadata": {},
     "output_type": "execute_result"
    }
   ],
   "source": [
    "t.rows(3)"
   ]
  },
  {
   "cell_type": "code",
   "execution_count": null,
   "metadata": {
    "collapsed": true
   },
   "outputs": [],
   "source": []
  }
 ],
 "metadata": {
  "kernelspec": {
   "display_name": "Python 2",
   "language": "python",
   "name": "python2"
  },
  "language_info": {
   "codemirror_mode": {
    "name": "ipython",
    "version": 2
   },
   "file_extension": ".py",
   "mimetype": "text/x-python",
   "name": "python",
   "nbconvert_exporter": "python",
   "pygments_lexer": "ipython2",
   "version": "2.7.10"
  }
 },
 "nbformat": 4,
 "nbformat_minor": 0
}

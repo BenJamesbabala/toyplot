{
 "cells": [
  {
   "cell_type": "code",
   "execution_count": 12,
   "metadata": {
    "collapsed": false,
    "scrolled": false
   },
   "outputs": [
    {
     "data": {
      "text/html": [
       "<div align=\"center\" class=\"toyplot\" id=\"ta0e4daabdf604776bb945de158a7bac2\"><svg class=\"toyplot-canvas-Canvas\" height=\"600px\" id=\"t90a829a8eae44cc6a9bca02dcbaf7034\" preserveAspectRatio=\"xMidYMid meet\" style=\"background-color:transparent;fill:rgb(16.1%,15.3%,14.1%);fill-opacity:1.0;font-family:Helvetica;font-size:12px;opacity:1.0;stroke:rgb(16.1%,15.3%,14.1%);stroke-opacity:1.0;stroke-width:1.0\" viewBox=\"0 0 600 600\" width=\"600px\" xmlns=\"http://www.w3.org/2000/svg\" xmlns:toyplot=\"http://www.sandia.gov/toyplot\" xmlns:xlink=\"http://www.w3.org/1999/xlink\"><g class=\"toyplot-coordinates-Cartesian\" id=\"t0ed54023bfe141fc8e542c241477b929\"><clipPath id=\"te3170e4a2f544ba4ae2701e2b3035893\"><rect height=\"520.0\" width=\"520.0\" x=\"40.0\" y=\"40.0\"></rect></clipPath><g clip-path=\"url(#te3170e4a2f544ba4ae2701e2b3035893)\"><g class=\"toyplot-mark-Text\" id=\"td206d51cc8ab4eafb17bbcc427f23dc5\"><g class=\"toyplot-Series\"><g class=\"toyplot-Datum\" transform=\"translate(300.0,300.0)\"><rect fill=\"none\" height=\"117.022\" opacity=\"0.5\" stroke=\"red\" width=\"423.52\" x=\"-211.76\" y=\"-25.11\"></rect><circle fill=\"red\" opacity=\"0.5\" r=\"3\" stroke=\"none\" x=\"0\" y=\"0\"></circle><rect fill=\"none\" height=\"40.0\" opacity=\"0.5\" stroke=\"green\" width=\"334.58\" x=\"-167.29\" y=\"-25.11\"></rect><line fill=\"none\" opacity=\"0.5\" stroke=\"green\" x1=\"-167.29\" x2=\"167.29\" y1=\"0\" y2=\"0\"></line><text style=\"-toyplot-text-layout-box-visibility:hidden;-toyplot-text-layout-line-visibility:visible;-toyplot-text-layout-visibility:visible;-toyplot-vertical-align:baseline;fill:rgb(40%,76.1%,64.7%);fill-opacity:1.0;font-family:helvetica;font-size:20.0;font-weight:normal;opacity:1.0;stroke:none;vertical-align:baseline;white-space:pre\" x=\"-167.29\" y=\"0\">The brown fox jumped over the </text><text style=\"-toyplot-text-layout-box-visibility:hidden;-toyplot-text-layout-line-visibility:visible;-toyplot-text-layout-visibility:visible;-toyplot-vertical-align:baseline;fill:rgb(40%,76.1%,64.7%);fill-opacity:1.0;font-family:helvetica;font-size:20.0;font-weight:bold;opacity:1.0;stroke:none;vertical-align:baseline;white-space:pre\" x=\"113.95\" y=\"0\">dogs.</text><rect fill=\"none\" height=\"40.0\" opacity=\"0.5\" stroke=\"green\" width=\"423.52\" x=\"-211.76\" y=\"14.89\"></rect><line fill=\"none\" opacity=\"0.5\" stroke=\"green\" x1=\"-211.76\" x2=\"211.76\" y1=\"40.0\" y2=\"40.0\"></line><text style=\"-toyplot-text-layout-box-visibility:hidden;-toyplot-text-layout-line-visibility:visible;-toyplot-text-layout-visibility:visible;-toyplot-vertical-align:baseline;fill:rgb(40%,76.1%,64.7%);fill-opacity:1.0;font-family:helvetica;font-size:20.0;font-weight:normal;opacity:1.0;stroke:none;vertical-align:baseline;white-space:pre\" x=\"-211.76\" y=\"40.0\">The quick brown fox jumped over the lazy dogs.</text><rect fill=\"none\" height=\"32.0\" opacity=\"0.5\" stroke=\"green\" width=\"338.816\" x=\"-169.408\" y=\"59.912\"></rect><line fill=\"none\" opacity=\"0.5\" stroke=\"green\" x1=\"-169.408\" x2=\"169.408\" y1=\"80.0\" y2=\"80.0\"></line><text style=\"-toyplot-text-layout-box-visibility:hidden;-toyplot-text-layout-line-visibility:visible;-toyplot-text-layout-visibility:visible;-toyplot-vertical-align:baseline;fill:rgb(40%,76.1%,64.7%);fill-opacity:1.0;font-family:helvetica;font-size:16.0;font-weight:normal;opacity:1.0;stroke:none;vertical-align:baseline;white-space:pre\" x=\"-169.408\" y=\"80.0\">The quick brown fox jumped over the lazy dogs.</text></g></g></g></g><g class=\"toyplot-coordinates-Axis\" id=\"t09b744c297b647858fe67867134242f3\" transform=\"translate(50.0,550.0)translate(0,10.0)\"><line style=\"\" x1=\"0\" x2=\"500.0\" y1=\"0\" y2=\"0\"></line><g><g transform=\"translate(0.0,6)\"><text style=\"font-family:helvetica;font-size:10.0;font-weight:normal;stroke:none;vertical-align:baseline;white-space:pre\" x=\"-8.615\" y=\"2.555\">-0.5</text></g><g transform=\"translate(250.0,6)\"><text style=\"font-family:helvetica;font-size:10.0;font-weight:normal;stroke:none;vertical-align:baseline;white-space:pre\" x=\"-6.95\" y=\"2.555\">0.0</text></g><g transform=\"translate(500.0,6)\"><text style=\"font-family:helvetica;font-size:10.0;font-weight:normal;stroke:none;vertical-align:baseline;white-space:pre\" x=\"-6.95\" y=\"2.555\">0.5</text></g></g><g class=\"toyplot-coordinates-Axis-coordinates\" style=\"visibility:hidden\" transform=\"\"><line style=\"stroke:rgb(43.9%,50.2%,56.5%);stroke-opacity:1.0;stroke-width:1.0\" x1=\"0\" x2=\"0\" y1=\"-3.0\" y2=\"4.5\"></line><text style=\"alignment-baseline:alphabetic;fill:rgb(43.9%,50.2%,56.5%);fill-opacity:1.0;font-size:10px;font-weight:normal;stroke:none;text-anchor:middle\" x=\"0\" y=\"-6\"></text></g></g><g class=\"toyplot-coordinates-Axis\" id=\"t834bf2f70925478eb554df106518c79f\" transform=\"translate(50.0,550.0)rotate(-90.0)translate(0,-10.0)\"><line style=\"\" x1=\"0\" x2=\"500.0\" y1=\"0\" y2=\"0\"></line><g><g transform=\"translate(0.0,-6)\"><text style=\"font-family:helvetica;font-size:10.0;font-weight:normal;stroke:none;vertical-align:baseline;white-space:pre\" x=\"-8.615\" y=\"2.555\">-0.5</text></g><g transform=\"translate(250.0,-6)\"><text style=\"font-family:helvetica;font-size:10.0;font-weight:normal;stroke:none;vertical-align:baseline;white-space:pre\" x=\"-6.95\" y=\"2.555\">0.0</text></g><g transform=\"translate(500.0,-6)\"><text style=\"font-family:helvetica;font-size:10.0;font-weight:normal;stroke:none;vertical-align:baseline;white-space:pre\" x=\"-6.95\" y=\"2.555\">0.5</text></g></g><g class=\"toyplot-coordinates-Axis-coordinates\" style=\"visibility:hidden\" transform=\"\"><line style=\"stroke:rgb(43.9%,50.2%,56.5%);stroke-opacity:1.0;stroke-width:1.0\" x1=\"0\" x2=\"0\" y1=\"3.0\" y2=\"-4.5\"></line><text style=\"alignment-baseline:hanging;fill:rgb(43.9%,50.2%,56.5%);fill-opacity:1.0;font-size:10px;font-weight:normal;stroke:none;text-anchor:middle\" x=\"0\" y=\"6\"></text></g></g></g></svg><div class=\"toyplot-interactive\"><script>\n",
       "        (function()\n",
       "        {\n",
       "            function _sign(x)\n",
       "            {\n",
       "                return x < 0 ? -1 : x > 0 ? 1 : 0;\n",
       "            }\n",
       "\n",
       "            function _mix(a, b, amount)\n",
       "            {\n",
       "                return ((1.0 - amount) * a) + (amount * b);\n",
       "            }\n",
       "\n",
       "            function _log(x, base)\n",
       "            {\n",
       "                return Math.log(Math.abs(x)) / Math.log(base);\n",
       "            }\n",
       "\n",
       "            function _in_range(a, x, b)\n",
       "            {\n",
       "                var left = Math.min(a, b);\n",
       "                var right = Math.max(a, b);\n",
       "                return left <= x && x <= right;\n",
       "            }\n",
       "\n",
       "            function inside(range, projection)\n",
       "            {\n",
       "                for(var i = 0; i != projection.length; ++i)\n",
       "                {\n",
       "                    var segment = projection[i];\n",
       "                    if(_in_range(segment.range.min, range, segment.range.max))\n",
       "                        return true;\n",
       "                }\n",
       "                return false;\n",
       "            }\n",
       "\n",
       "            function to_domain(range, projection)\n",
       "            {\n",
       "                for(var i = 0; i != projection.length; ++i)\n",
       "                {\n",
       "                    var segment = projection[i];\n",
       "                    if(_in_range(segment.range.bounds.min, range, segment.range.bounds.max))\n",
       "                    {\n",
       "                        if(segment.scale == \"linear\")\n",
       "                        {\n",
       "                            var amount = (range - segment.range.min) / (segment.range.max - segment.range.min);\n",
       "                            return _mix(segment.domain.min, segment.domain.max, amount)\n",
       "                        }\n",
       "                        else if(segment.scale[0] == \"log\")\n",
       "                        {\n",
       "                            var amount = (range - segment.range.min) / (segment.range.max - segment.range.min);\n",
       "                            var base = segment.scale[1];\n",
       "                            return _sign(segment.domain.min) * Math.pow(base, _mix(_log(segment.domain.min, base), _log(segment.domain.max, base), amount));\n",
       "                        }\n",
       "                    }\n",
       "                }\n",
       "            }\n",
       "\n",
       "            function display_coordinates(e)\n",
       "            {\n",
       "                var current = svg.createSVGPoint();\n",
       "                current.x = e.clientX;\n",
       "                current.y = e.clientY;\n",
       "\n",
       "                for(var axis_id in axes)\n",
       "                {\n",
       "                    var axis = document.querySelector(\"#\" + axis_id);\n",
       "                    var coordinates = axis.querySelector(\".toyplot-coordinates-Axis-coordinates\");\n",
       "                    if(coordinates)\n",
       "                    {\n",
       "                        var projection = axes[axis_id];\n",
       "                        var local = current.matrixTransform(axis.getScreenCTM().inverse());\n",
       "                        if(inside(local.x, projection))\n",
       "                        {\n",
       "                            var domain = to_domain(local.x, projection);\n",
       "                            coordinates.style.visibility = \"visible\";\n",
       "                            coordinates.setAttribute(\"transform\", \"translate(\" + local.x + \")\");\n",
       "                            var text = coordinates.querySelector(\"text\");\n",
       "                            text.textContent = domain.toFixed(2);\n",
       "                        }\n",
       "                        else\n",
       "                        {\n",
       "                            coordinates.style.visibility= \"hidden\";\n",
       "                        }\n",
       "                    }\n",
       "                }\n",
       "            }\n",
       "\n",
       "            var root_id = \"ta0e4daabdf604776bb945de158a7bac2\";\n",
       "            var axes = {\"t09b744c297b647858fe67867134242f3\": [{\"domain\": {\"bounds\": {\"max\": Infinity, \"min\": -Infinity}, \"max\": 0.5, \"min\": -0.5}, \"range\": {\"bounds\": {\"max\": Infinity, \"min\": -Infinity}, \"max\": 500.0, \"min\": 0.0}, \"scale\": \"linear\"}], \"t834bf2f70925478eb554df106518c79f\": [{\"domain\": {\"bounds\": {\"max\": Infinity, \"min\": -Infinity}, \"max\": 0.5, \"min\": -0.5}, \"range\": {\"bounds\": {\"max\": Infinity, \"min\": -Infinity}, \"max\": 500.0, \"min\": 0.0}, \"scale\": \"linear\"}]};\n",
       "\n",
       "            var svg = document.querySelector(\"#\" + root_id + \" svg\");\n",
       "            svg.addEventListener(\"click\", display_coordinates);\n",
       "        })();\n",
       "        </script></div></div>"
      ]
     },
     "metadata": {},
     "output_type": "display_data"
    }
   ],
   "source": [
    "import toyplot.font\n",
    "import toyplot.text\n",
    "\n",
    "text = \"\"\"The brown fox jumped over the <span style=\"font-weight: bold\">dogs.</span>\"\"\"\n",
    "text += \"\"\"<br/>The quick brown fox jumped over the lazy dogs.\"\"\"\n",
    "text += \"\"\"<br/><small>The quick brown fox jumped over the lazy dogs.</small>\"\"\"\n",
    "style = {\n",
    "    \"alignment-baseline\": \"alphabetic\",\n",
    "    \"font-size\": \"20px\",\n",
    "    \"line-height\": \"200%\",\n",
    "    \"text-anchor\": \"middle\",\n",
    "    \"-toyplot-vertical-align\": \"baseline\",\n",
    "    \"-toyplot-text-layout-visibility\": \"visible\",\n",
    "    \"-toyplot-text-layout-line-visibility\": \"visible\",\n",
    "    \"-toyplot-text-layout-box-visibility\": \"hidden\",\n",
    "}\n",
    "\n",
    "fonts = toyplot.font.ReportlabLibrary()\n",
    "layout = toyplot.text.layout(text, style, fonts)\n",
    "\n",
    "canvas = toyplot.Canvas()\n",
    "axes = canvas.cartesian()\n",
    "axes.text(0, 0, text, style=style);"
   ]
  },
  {
   "cell_type": "code",
   "execution_count": null,
   "metadata": {
    "collapsed": false,
    "scrolled": false
   },
   "outputs": [],
   "source": [
    "toyplot.text.dump(layout)"
   ]
  },
  {
   "cell_type": "code",
   "execution_count": null,
   "metadata": {
    "collapsed": true
   },
   "outputs": [],
   "source": []
  }
 ],
 "metadata": {
  "kernelspec": {
   "display_name": "Python [default]",
   "language": "python",
   "name": "python2"
  },
  "language_info": {
   "codemirror_mode": {
    "name": "ipython",
    "version": 2
   },
   "file_extension": ".py",
   "mimetype": "text/x-python",
   "name": "python",
   "nbconvert_exporter": "python",
   "pygments_lexer": "ipython2",
   "version": "2.7.13"
  }
 },
 "nbformat": 4,
 "nbformat_minor": 2
}

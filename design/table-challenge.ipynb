{
 "cells": [
  {
   "cell_type": "code",
   "execution_count": 1,
   "metadata": {
    "collapsed": false
   },
   "outputs": [
    {
     "data": {
      "text/html": [
       "<table class=\"toyplot-data-Table\" style=\"border-collapse:collapse; border:none; color: #292724\"><tr style=\"border:none;border-bottom:1px solid #292724\"><th style=\"text-align:left;border:none;padding-right:1em;\">a</th><th style=\"text-align:left;border:none;padding-right:1em;\">b</th></tr><tr style=\"border:none\"><td style=\"border:none;padding-right:1em;\">Foo-BAZ-46</td><td style=\"border:none;padding-right:1em;\">0.381</td></tr><tr style=\"border:none\"><td style=\"border:none;padding-right:1em;\">Bar-BAZ-46</td><td style=\"border:none;padding-right:1em;\">0.142</td></tr><tr style=\"border:none\"><td style=\"border:none;padding-right:1em;\">Foo-BAZ-23</td><td style=\"border:none;padding-right:1em;\">0.473</td></tr><tr style=\"border:none\"><td style=\"border:none;padding-right:1em;\">Bar-BAZ-23</td><td style=\"border:none;padding-right:1em;\">0.234</td></tr><tr style=\"border:none\"><td style=\"border:none;padding-right:1em;\">Foo-BLAH</td><td style=\"border:none;padding-right:1em;\">0.165</td></tr><tr style=\"border:none\"><td style=\"border:none;padding-right:1em;\">Bar-BLAH</td><td style=\"border:none;padding-right:1em;\">0.186</td></tr></table>"
      ],
      "text/plain": [
       "<toyplot.data.Table at 0x10ca640d0>"
      ]
     },
     "execution_count": 1,
     "metadata": {},
     "output_type": "execute_result"
    }
   ],
   "source": [
    "import numpy\n",
    "import toyplot.data\n",
    "\n",
    "data = toyplot.data.Table()\n",
    "data[\"a\"] = numpy.array([\"Foo-BAZ-46\", \"Bar-BAZ-46\", \"Foo-BAZ-23\", \"Bar-BAZ-23\", \"Foo-BLAH\", \"Bar-BLAH\"])\n",
    "data[\"b\"] = numpy.array([0.381, 0.142, 0.473, 0.234, 0.165, 0.186])\n",
    "data"
   ]
  },
  {
   "cell_type": "markdown",
   "metadata": {},
   "source": [
    "# Option 1: Table with a single set of bars"
   ]
  },
  {
   "cell_type": "code",
   "execution_count": 2,
   "metadata": {
    "collapsed": false
   },
   "outputs": [
    {
     "data": {
      "text/html": [
       "<div align=\"center\" class=\"toyplot\" id=\"taf4122491e4244a48a83d37d8c01c47a\"><svg height=\"250px\" id=\"tcd9dd7949dcf4b6789ca9ce38094356e\" style=\"background-color:transparent;fill:#292724;fill-opacity:1.0;font-family:helvetica;font-size:12px;opacity:1.0;stroke:#292724;stroke-opacity:1.0;stroke-width:1.0\" width=\"600px\" xmlns=\"http://www.w3.org/2000/svg\" xmlns:toyplot=\"http://www.sandia.gov/toyplot\"><g class=\"toyplot-axes-Table\" id=\"ta9348872f6d7418fbcecac67a39dad2b\"><text style=\"alignment-baseline:middle;baseline-shift:100%;font-size:14px;font-weight:bold;stroke:none;text-anchor:middle\" x=\"300.0\" y=\"50\">Quarterly Report</text><g class=\"toyplot-axes-Cartesian\" id=\"t93deded3198a41dfaa04f9087e940261\"><toyplot:axes>{\"x\": [{\"domain\": {\"max\": 0.5, \"min\": 0.0}, \"range\": {\"max\": 495.0, \"min\": 190.0}, \"scale\": \"linear\"}], \"y\": [{\"domain\": {\"max\": 5.5, \"min\": -0.5}, \"range\": {\"max\": 200.0, \"min\": 50.0}, \"scale\": \"linear\"}]}</toyplot:axes><clipPath id=\"t73ea6e3a44f24c0495a41210be4e4896\"><rect height=\"150.0\" width=\"305.0\" x=\"190.0\" y=\"50.0\"></rect></clipPath><g class=\"toyplot-coordinate-events\" clip-path=\"url(#t73ea6e3a44f24c0495a41210be4e4896)\" style=\"cursor:crosshair\"><rect height=\"150.0\" style=\"pointer-events:all;visibility:hidden\" width=\"305.0\" x=\"190.0\" y=\"50.0\"></rect><g class=\"toyplot-mark-BarMagnitudes\" id=\"tbf02173a677a4d15a4d7870cadc30fd0\" style=\"stroke:white;stroke-width:8\"><toyplot:data-table title=\"Bar Data\">{\"data\": [[-0.5, 0.5, 1.5, 2.5, 3.5, 4.5], [0.5, 1.5, 2.5, 3.5, 4.5, 5.5], [0.0, 0.0, 0.0, 0.0, 0.0, 0.0], [0.186, 0.165, 0.234, 0.473, 0.142, 0.381], [0.9882352941176471, 0.4, 0.9882352941176471, 0.4, 0.9882352941176471, 0.4], [0.5529411764705883, 0.7607843137254902, 0.5529411764705883, 0.7607843137254902, 0.5529411764705883, 0.7607843137254902], [0.3843137254901961, 0.6470588235294118, 0.3843137254901961, 0.6470588235294118, 0.3843137254901961, 0.6470588235294118], [1.0, 1.0, 1.0, 1.0, 1.0, 1.0], [1.0, 1.0, 1.0, 1.0, 1.0, 1.0], [null, null, null, null, null, null]], \"names\": [\"left\", \"right\", \"baseline\", \"magnitude0\", \"fill0:red\", \"fill0:green\", \"fill0:blue\", \"fill0:alpha\", \"opacity0\", \"title0\"]}</toyplot:data-table><g class=\"toyplot-Series\"><rect class=\"toyplot-Datum\" height=\"25.0\" style=\"fill:rgba(98.8%,55.3%,38.4%,1);opacity:1.0;stroke:white;stroke-width:8\" width=\"113.45999999999998\" x=\"190.0\" y=\"175.0\"></rect><rect class=\"toyplot-Datum\" height=\"25.0\" style=\"fill:rgba(40%,76.1%,64.7%,1);opacity:1.0;stroke:white;stroke-width:8\" width=\"100.64999999999998\" x=\"190.0\" y=\"150.0\"></rect><rect class=\"toyplot-Datum\" height=\"25.0\" style=\"fill:rgba(98.8%,55.3%,38.4%,1);opacity:1.0;stroke:white;stroke-width:8\" width=\"142.74000000000001\" x=\"190.0\" y=\"125.0\"></rect><rect class=\"toyplot-Datum\" height=\"25.0\" style=\"fill:rgba(40%,76.1%,64.7%,1);opacity:1.0;stroke:white;stroke-width:8\" width=\"288.52999999999997\" x=\"190.0\" y=\"100.0\"></rect><rect class=\"toyplot-Datum\" height=\"25.0\" style=\"fill:rgba(98.8%,55.3%,38.4%,1);opacity:1.0;stroke:white;stroke-width:8\" width=\"86.620000000000005\" x=\"190.0\" y=\"75.0\"></rect><rect class=\"toyplot-Datum\" height=\"25.0\" style=\"fill:rgba(40%,76.1%,64.7%,1);opacity:1.0;stroke:white;stroke-width:8\" width=\"232.40999999999997\" x=\"190.0\" y=\"50.0\"></rect></g></g></g><g><text style=\"alignment-baseline:middle;baseline-shift:-80%;font-size:10px;font-weight:normal;stroke:none;text-anchor:middle\" x=\"190.0\" y=\"200.0\">0.0</text><text style=\"alignment-baseline:middle;baseline-shift:-80%;font-size:10px;font-weight:normal;stroke:none;text-anchor:middle\" x=\"251.0\" y=\"200.0\">0.1</text><text style=\"alignment-baseline:middle;baseline-shift:-80%;font-size:10px;font-weight:normal;stroke:none;text-anchor:middle\" x=\"312.0\" y=\"200.0\">0.2</text><text style=\"alignment-baseline:middle;baseline-shift:-80%;font-size:10px;font-weight:normal;stroke:none;text-anchor:middle\" x=\"373.0\" y=\"200.0\">0.3</text><text style=\"alignment-baseline:middle;baseline-shift:-80%;font-size:10px;font-weight:normal;stroke:none;text-anchor:middle\" x=\"434.0\" y=\"200.0\">0.4</text><text style=\"alignment-baseline:middle;baseline-shift:-80%;font-size:10px;font-weight:normal;stroke:none;text-anchor:middle\" x=\"495.0\" y=\"200.0\">0.5</text></g><text style=\"alignment-baseline:middle;baseline-shift:-200%;font-weight:bold;stroke:none;text-anchor:middle\" x=\"342.5\" y=\"200.0\">Seconds</text></g><text style=\"alignment-baseline:middle;fill:#292724;font-size:12px;stroke:none;text-anchor:begin\" x=\"105.0\" y=\"62.5\">Foo-BAZ-46</text><text style=\"alignment-baseline:middle;fill:#292724;font-size:12px;stroke:none;text-anchor:begin\" x=\"500.0\" y=\"62.5\">0.38s</text><text style=\"alignment-baseline:middle;fill:#292724;font-size:12px;stroke:none;text-anchor:begin\" x=\"105.0\" y=\"87.5\">Bar-BAZ-46</text><text style=\"alignment-baseline:middle;fill:#292724;font-size:12px;stroke:none;text-anchor:begin\" x=\"500.0\" y=\"87.5\">0.14s</text><text style=\"alignment-baseline:middle;fill:#292724;font-size:12px;stroke:none;text-anchor:begin\" x=\"105.0\" y=\"112.5\">Foo-BAZ-23</text><text style=\"alignment-baseline:middle;fill:#292724;font-size:12px;stroke:none;text-anchor:begin\" x=\"500.0\" y=\"112.5\">0.47s</text><text style=\"alignment-baseline:middle;fill:#292724;font-size:12px;stroke:none;text-anchor:begin\" x=\"105.0\" y=\"137.5\">Bar-BAZ-23</text><text style=\"alignment-baseline:middle;fill:#292724;font-size:12px;stroke:none;text-anchor:begin\" x=\"500.0\" y=\"137.5\">0.23s</text><text style=\"alignment-baseline:middle;fill:#292724;font-size:12px;stroke:none;text-anchor:begin\" x=\"105.0\" y=\"162.5\">Foo-BLAH</text><text style=\"alignment-baseline:middle;fill:#292724;font-size:12px;stroke:none;text-anchor:begin\" x=\"500.0\" y=\"162.5\">0.17s</text><text style=\"alignment-baseline:middle;fill:#292724;font-size:12px;stroke:none;text-anchor:begin\" x=\"105.0\" y=\"187.5\">Bar-BLAH</text><text style=\"alignment-baseline:middle;fill:#292724;font-size:12px;stroke:none;text-anchor:begin\" x=\"500.0\" y=\"187.5\">0.19s</text><text style=\"alignment-baseline:middle;fill:#292724;font-size:12px;stroke:none;text-anchor:begin\" x=\"55.0\" y=\"75.0\">Red</text><text style=\"alignment-baseline:middle;fill:#292724;font-size:12px;stroke:none;text-anchor:begin\" x=\"55.0\" y=\"125.0\">Green</text><text style=\"alignment-baseline:middle;fill:#292724;font-size:12px;stroke:none;text-anchor:begin\" x=\"55.0\" y=\"175.0\">Blue</text></g></svg><div class=\"toyplot-controls\"><ul class=\"toyplot-mark-popup\" onmouseleave=\"this.style.visibility='hidden'\" style=\"background:rgba(0%,0%,0%,0.75);border:0;border-radius:6px;color:white;cursor:default;list-style:none;margin:0;padding:5px;position:fixed;visibility:hidden\"><li class=\"toyplot-mark-popup-title\" style=\"color:lightgray;cursor:default;padding:5px;list-style:none;margin:0;\"></li><li class=\"toyplot-mark-popup-save-csv\" onmouseout=\"this.style.color='white';this.style.background='steelblue'\" onmouseover=\"this.style.color='steelblue';this.style.background='white'\" style=\"border-radius:3px;padding:5px;list-style:none;margin:0;\">Save as .csv</li></ul><script>\n",
       "    (function()\n",
       "    {\n",
       "      // Workaround for browsers that don't support alignment-baseline\n",
       "      if(window.CSS !== undefined && window.CSS.supports !== undefined)\n",
       "      {\n",
       "        if(!window.CSS.supports(\"alignment-baseline\", \"middle\"))\n",
       "        {\n",
       "          var re = /\\s*alignment-baseline\\s*:\\s*([^;\\s]*)\\s*/;\n",
       "          var text = document.querySelectorAll(\"#taf4122491e4244a48a83d37d8c01c47a text\");\n",
       "          for(var i = 0; i != text.length; ++i)\n",
       "          {\n",
       "            var match = re.exec(text[i].attributes.style.value);\n",
       "            if(match)\n",
       "            {\n",
       "              if(match[1] == \"middle\")\n",
       "              {\n",
       "                var style = getComputedStyle(text[i]);\n",
       "                var font_size = style.fontSize.substr(0, style.fontSize.length - 2);\n",
       "                var dy = text[i].dy.baseVal.length ? text[i].dy.baseVal[0].value : 0;\n",
       "                dy += 0.4 * font_size;\n",
       "                text[i].setAttribute(\"dy\", dy);\n",
       "              }\n",
       "            }\n",
       "          }\n",
       "        }\n",
       "        if(!window.CSS.supports(\"baseline-shift\", \"0\"))\n",
       "        {\n",
       "          var re = /\\s*baseline-shift\\s*:\\s*([^;\\s]*)\\s*/;\n",
       "          var text = document.querySelectorAll(\"#taf4122491e4244a48a83d37d8c01c47a text\");\n",
       "          for(var i = 0; i != text.length; ++i)\n",
       "          {\n",
       "            var match = re.exec(text[i].attributes.style.value);\n",
       "            if(match)\n",
       "            {\n",
       "              var style = getComputedStyle(text[i]);\n",
       "              var font_size = style.fontSize.substr(0, style.fontSize.length - 2);\n",
       "              var percent = 0.01 * match[1].substr(0, match[1].length-1);\n",
       "              var dy = text[i].dy.baseVal.length ? text[i].dy.baseVal[0].value : 0;\n",
       "              dy -= percent * font_size\n",
       "              text[i].setAttribute(\"dy\", dy);\n",
       "            }\n",
       "          }\n",
       "        }\n",
       "      }\n",
       "    })();\n",
       "    </script><script>\n",
       "    // Allow users to extract embedded raw data\n",
       "    (function()\n",
       "    {\n",
       "      var root_id=\"taf4122491e4244a48a83d37d8c01c47a\";\n",
       "\n",
       "      function save_csv(dataset)\n",
       "      {\n",
       "        uri = \"data:text/csv;charset=utf-8,\";\n",
       "        data = JSON.parse(dataset.textContent);\n",
       "        uri += data.names.join(\",\") + \"\\n\";\n",
       "        for(var i = 0; i != data.data[0].length; ++i)\n",
       "        {\n",
       "          for(var j = 0; j != data.data.length; ++j)\n",
       "          {\n",
       "            if(j)\n",
       "              uri += \",\";\n",
       "            uri += data.data[j][i];\n",
       "          }\n",
       "          uri += \"\\n\";\n",
       "        }\n",
       "\n",
       "        uri = encodeURI(uri);\n",
       "        window.open(uri);\n",
       "      }\n",
       "\n",
       "      function open_popup(dataset)\n",
       "      {\n",
       "        return function(e)\n",
       "        {\n",
       "          var popup = document.querySelector(\"#\" + root_id + \" .toyplot-mark-popup\");\n",
       "          popup.querySelector(\".toyplot-mark-popup-title\").innerHTML = dataset.getAttribute(\"title\");\n",
       "          popup.querySelector(\".toyplot-mark-popup-save-csv\").onclick = function() { popup.style.visibility = \"hidden\"; save_csv(dataset); }\n",
       "          popup.style.left = (e.clientX - 50) + \"px\";\n",
       "          popup.style.top = (e.clientY - 20) + \"px\";\n",
       "          popup.style.visibility = \"visible\";\n",
       "          e.stopPropagation();\n",
       "          e.preventDefault();\n",
       "        }\n",
       "\n",
       "      }\n",
       "\n",
       "      var datasets = document.querySelectorAll(\"#\" + root_id + \" toyplot\\\\:data-table\");\n",
       "      for(var i = 0; i != datasets.length; ++i)\n",
       "      {\n",
       "        var dataset = datasets[i];\n",
       "        var mark = dataset.parentElement;\n",
       "        mark.oncontextmenu = open_popup(dataset);\n",
       "      }\n",
       "    })();\n",
       "    </script></div></div>"
      ],
      "text/plain": [
       "<toyplot.canvas.Canvas at 0x10cb3d190>"
      ]
     },
     "metadata": {},
     "output_type": "display_data"
    }
   ],
   "source": [
    "colormap = toyplot.color.CategoricalMap()\n",
    "\n",
    "canvas = toyplot.Canvas(width=600, height=250)\n",
    "table = canvas.table(rows=6, columns=4, title=\"Quarterly Report\")\n",
    "table.column(0).width = 50\n",
    "table.column(1).data = data[\"a\"]\n",
    "table.column(1).width = 90\n",
    "table.column(3).data = data[\"b\"]\n",
    "table.column(3).width = 55\n",
    "table.column(3).format = toyplot.format.FloatFormatter(format=\"{:.2f}s\")\n",
    "table.cell(0,0,rowspan=2).merge().data = \"Red\"\n",
    "table.cell(2,0,rowspan=2).merge().data = \"Green\"\n",
    "table.cell(4,0,rowspan=2).merge().data = \"Blue\"\n",
    "axes = table.cell(0, 2, rowspan=6).axes(show=True, yshow=False, padding=0, xlabel=\"Seconds\")\n",
    "axes.x.spine.show = False\n",
    "axes.bars(data[\"b\"][::-1], along=\"y\", style={\"stroke-width\":8}, fill=numpy.array([0,1,0,1,0,1])[::-1], colormap=colormap);\n"
   ]
  },
  {
   "cell_type": "markdown",
   "metadata": {},
   "source": [
    "# Option 2: Table with per-cell bars"
   ]
  },
  {
   "cell_type": "code",
   "execution_count": 3,
   "metadata": {
    "collapsed": false
   },
   "outputs": [
    {
     "data": {
      "text/html": [
       "<div align=\"center\" class=\"toyplot\" id=\"t756599f465bc4cbe951c5db780db4867\"><svg height=\"250px\" id=\"t553ecb05adf94064bbb3d8f881203208\" style=\"background-color:transparent;fill:#292724;fill-opacity:1.0;font-family:helvetica;font-size:12px;opacity:1.0;stroke:#292724;stroke-opacity:1.0;stroke-width:1.0\" width=\"600px\" xmlns=\"http://www.w3.org/2000/svg\" xmlns:toyplot=\"http://www.sandia.gov/toyplot\"><g class=\"toyplot-axes-Table\" id=\"t77078089cf4a421e91d35eb219558890\"><text style=\"alignment-baseline:middle;baseline-shift:100%;font-size:14px;font-weight:bold;stroke:none;text-anchor:middle\" x=\"300.0\" y=\"50\">Quarterly Report</text><g class=\"toyplot-axes-Cartesian\" id=\"t655ef4a830f74818bb15159185907462\"><toyplot:axes>{\"x\": [{\"domain\": {\"max\": 0.47299999999999998, \"min\": 0}, \"range\": {\"max\": 490.0, \"min\": 195.0}, \"scale\": \"linear\"}], \"y\": [{\"domain\": {\"max\": 0.5, \"min\": -0.5}, \"range\": {\"max\": 70.0, \"min\": 55.0}, \"scale\": \"linear\"}]}</toyplot:axes><clipPath id=\"t7dbee25d92eb49ffa0d6681aed4aa511\"><rect height=\"25.0\" width=\"305.0\" x=\"190.0\" y=\"50.0\"></rect></clipPath><g class=\"toyplot-coordinate-events\" clip-path=\"url(#t7dbee25d92eb49ffa0d6681aed4aa511)\" style=\"cursor:crosshair\"><rect height=\"25.0\" style=\"pointer-events:all;visibility:hidden\" width=\"305.0\" x=\"190.0\" y=\"50.0\"></rect><g class=\"toyplot-mark-BarMagnitudes\" id=\"tf8282e2dd14446fab86d6fd054de2c53\" style=\"stroke:white;stroke-width:1.0\"><toyplot:data-table title=\"Bar Data\">{\"data\": [[-0.5], [0.5], [0.0], [0.381], [0.4], [0.7607843137254902], [0.6470588235294118], [1.0], [1.0], [null]], \"names\": [\"left\", \"right\", \"baseline\", \"magnitude0\", \"fill0:red\", \"fill0:green\", \"fill0:blue\", \"fill0:alpha\", \"opacity0\", \"title0\"]}</toyplot:data-table><g class=\"toyplot-Series\"><rect class=\"toyplot-Datum\" height=\"15.0\" style=\"fill:rgba(40%,76.1%,64.7%,1);opacity:1.0;stroke:white;stroke-width:1.0\" width=\"237.62156448202961\" x=\"195.0\" y=\"55.0\"></rect></g></g></g></g><g class=\"toyplot-axes-Cartesian\" id=\"tb7b04c959fac4972a885b8789faf59b3\"><toyplot:axes>{\"x\": [{\"domain\": {\"max\": 0.47299999999999998, \"min\": 0}, \"range\": {\"max\": 490.0, \"min\": 195.0}, \"scale\": \"linear\"}], \"y\": [{\"domain\": {\"max\": 0.5, \"min\": -0.5}, \"range\": {\"max\": 95.0, \"min\": 80.0}, \"scale\": \"linear\"}]}</toyplot:axes><clipPath id=\"ta3cd4a47eaf8478291fcfccf3ce871b7\"><rect height=\"25.0\" width=\"305.0\" x=\"190.0\" y=\"75.0\"></rect></clipPath><g class=\"toyplot-coordinate-events\" clip-path=\"url(#ta3cd4a47eaf8478291fcfccf3ce871b7)\" style=\"cursor:crosshair\"><rect height=\"25.0\" style=\"pointer-events:all;visibility:hidden\" width=\"305.0\" x=\"190.0\" y=\"75.0\"></rect><g class=\"toyplot-mark-BarMagnitudes\" id=\"t4f1401cd27424835882684bc90766738\" style=\"stroke:white;stroke-width:1.0\"><toyplot:data-table title=\"Bar Data\">{\"data\": [[-0.5], [0.5], [0.0], [0.142], [0.9882352941176471], [0.5529411764705883], [0.3843137254901961], [1.0], [1.0], [null]], \"names\": [\"left\", \"right\", \"baseline\", \"magnitude0\", \"fill0:red\", \"fill0:green\", \"fill0:blue\", \"fill0:alpha\", \"opacity0\", \"title0\"]}</toyplot:data-table><g class=\"toyplot-Series\"><rect class=\"toyplot-Datum\" height=\"15.0\" style=\"fill:rgba(98.8%,55.3%,38.4%,1);opacity:1.0;stroke:white;stroke-width:1.0\" width=\"88.562367864693442\" x=\"195.0\" y=\"80.0\"></rect></g></g></g></g><g class=\"toyplot-axes-Cartesian\" id=\"t6de4e43207dd4115b3d659988a0b30dd\"><toyplot:axes>{\"x\": [{\"domain\": {\"max\": 0.47299999999999998, \"min\": 0}, \"range\": {\"max\": 490.0, \"min\": 195.0}, \"scale\": \"linear\"}], \"y\": [{\"domain\": {\"max\": 0.5, \"min\": -0.5}, \"range\": {\"max\": 120.0, \"min\": 105.0}, \"scale\": \"linear\"}]}</toyplot:axes><clipPath id=\"t429bd3e787a14a64ac30c5089fff53cf\"><rect height=\"25.0\" width=\"305.0\" x=\"190.0\" y=\"100.0\"></rect></clipPath><g class=\"toyplot-coordinate-events\" clip-path=\"url(#t429bd3e787a14a64ac30c5089fff53cf)\" style=\"cursor:crosshair\"><rect height=\"25.0\" style=\"pointer-events:all;visibility:hidden\" width=\"305.0\" x=\"190.0\" y=\"100.0\"></rect><g class=\"toyplot-mark-BarMagnitudes\" id=\"t33fae73624074dceb312c7c82fa84352\" style=\"stroke:white;stroke-width:1.0\"><toyplot:data-table title=\"Bar Data\">{\"data\": [[-0.5], [0.5], [0.0], [0.473], [0.4], [0.7607843137254902], [0.6470588235294118], [1.0], [1.0], [null]], \"names\": [\"left\", \"right\", \"baseline\", \"magnitude0\", \"fill0:red\", \"fill0:green\", \"fill0:blue\", \"fill0:alpha\", \"opacity0\", \"title0\"]}</toyplot:data-table><g class=\"toyplot-Series\"><rect class=\"toyplot-Datum\" height=\"15.0\" style=\"fill:rgba(40%,76.1%,64.7%,1);opacity:1.0;stroke:white;stroke-width:1.0\" width=\"295.0\" x=\"195.0\" y=\"105.0\"></rect></g></g></g></g><g class=\"toyplot-axes-Cartesian\" id=\"t8d84df0f81ad40cdbb2b2b588a61530e\"><toyplot:axes>{\"x\": [{\"domain\": {\"max\": 0.47299999999999998, \"min\": 0}, \"range\": {\"max\": 490.0, \"min\": 195.0}, \"scale\": \"linear\"}], \"y\": [{\"domain\": {\"max\": 0.5, \"min\": -0.5}, \"range\": {\"max\": 145.0, \"min\": 130.0}, \"scale\": \"linear\"}]}</toyplot:axes><clipPath id=\"t9d607217d20a411a967b12f2d672f73d\"><rect height=\"25.0\" width=\"305.0\" x=\"190.0\" y=\"125.0\"></rect></clipPath><g class=\"toyplot-coordinate-events\" clip-path=\"url(#t9d607217d20a411a967b12f2d672f73d)\" style=\"cursor:crosshair\"><rect height=\"25.0\" style=\"pointer-events:all;visibility:hidden\" width=\"305.0\" x=\"190.0\" y=\"125.0\"></rect><g class=\"toyplot-mark-BarMagnitudes\" id=\"tf9936f1bd8af429e86d341efbe4d83a4\" style=\"stroke:white;stroke-width:1.0\"><toyplot:data-table title=\"Bar Data\">{\"data\": [[-0.5], [0.5], [0.0], [0.234], [0.9882352941176471], [0.5529411764705883], [0.3843137254901961], [1.0], [1.0], [null]], \"names\": [\"left\", \"right\", \"baseline\", \"magnitude0\", \"fill0:red\", \"fill0:green\", \"fill0:blue\", \"fill0:alpha\", \"opacity0\", \"title0\"]}</toyplot:data-table><g class=\"toyplot-Series\"><rect class=\"toyplot-Datum\" height=\"15.0\" style=\"fill:rgba(98.8%,55.3%,38.4%,1);opacity:1.0;stroke:white;stroke-width:1.0\" width=\"145.94080338266383\" x=\"195.0\" y=\"130.0\"></rect></g></g></g></g><g class=\"toyplot-axes-Cartesian\" id=\"td495c5df9ac54a22a809cb3369caf903\"><toyplot:axes>{\"x\": [{\"domain\": {\"max\": 0.47299999999999998, \"min\": 0}, \"range\": {\"max\": 490.0, \"min\": 195.0}, \"scale\": \"linear\"}], \"y\": [{\"domain\": {\"max\": 0.5, \"min\": -0.5}, \"range\": {\"max\": 170.0, \"min\": 155.0}, \"scale\": \"linear\"}]}</toyplot:axes><clipPath id=\"tb3a26b3a9ffb49ccae044ad1bdd41f3d\"><rect height=\"25.0\" width=\"305.0\" x=\"190.0\" y=\"150.0\"></rect></clipPath><g class=\"toyplot-coordinate-events\" clip-path=\"url(#tb3a26b3a9ffb49ccae044ad1bdd41f3d)\" style=\"cursor:crosshair\"><rect height=\"25.0\" style=\"pointer-events:all;visibility:hidden\" width=\"305.0\" x=\"190.0\" y=\"150.0\"></rect><g class=\"toyplot-mark-BarMagnitudes\" id=\"t121aa6ffef1c4217928947dc095d38c2\" style=\"stroke:white;stroke-width:1.0\"><toyplot:data-table title=\"Bar Data\">{\"data\": [[-0.5], [0.5], [0.0], [0.165], [0.4], [0.7607843137254902], [0.6470588235294118], [1.0], [1.0], [null]], \"names\": [\"left\", \"right\", \"baseline\", \"magnitude0\", \"fill0:red\", \"fill0:green\", \"fill0:blue\", \"fill0:alpha\", \"opacity0\", \"title0\"]}</toyplot:data-table><g class=\"toyplot-Series\"><rect class=\"toyplot-Datum\" height=\"15.0\" style=\"fill:rgba(40%,76.1%,64.7%,1);opacity:1.0;stroke:white;stroke-width:1.0\" width=\"102.90697674418607\" x=\"195.0\" y=\"155.0\"></rect></g></g></g></g><g class=\"toyplot-axes-Cartesian\" id=\"t463eed39c5e84ee3939b0647bf26f93a\"><toyplot:axes>{\"x\": [{\"domain\": {\"max\": 0.5, \"min\": 0}, \"range\": {\"max\": 490.0, \"min\": 195.0}, \"scale\": \"linear\"}], \"y\": [{\"domain\": {\"max\": 0.5, \"min\": -0.5}, \"range\": {\"max\": 195.0, \"min\": 180.0}, \"scale\": \"linear\"}]}</toyplot:axes><clipPath id=\"t3ba38c3bb79e4b7b8ea5dae80c419339\"><rect height=\"25.0\" width=\"305.0\" x=\"190.0\" y=\"175.0\"></rect></clipPath><g class=\"toyplot-coordinate-events\" clip-path=\"url(#t3ba38c3bb79e4b7b8ea5dae80c419339)\" style=\"cursor:crosshair\"><rect height=\"25.0\" style=\"pointer-events:all;visibility:hidden\" width=\"305.0\" x=\"190.0\" y=\"175.0\"></rect><g class=\"toyplot-mark-BarMagnitudes\" id=\"t6ecbf45b65854ea19ccf29d83944892a\" style=\"stroke:white;stroke-width:1.0\"><toyplot:data-table title=\"Bar Data\">{\"data\": [[-0.5], [0.5], [0.0], [0.186], [0.9882352941176471], [0.5529411764705883], [0.3843137254901961], [1.0], [1.0], [null]], \"names\": [\"left\", \"right\", \"baseline\", \"magnitude0\", \"fill0:red\", \"fill0:green\", \"fill0:blue\", \"fill0:alpha\", \"opacity0\", \"title0\"]}</toyplot:data-table><g class=\"toyplot-Series\"><rect class=\"toyplot-Datum\" height=\"15.0\" style=\"fill:rgba(98.8%,55.3%,38.4%,1);opacity:1.0;stroke:white;stroke-width:1.0\" width=\"109.74000000000001\" x=\"195.0\" y=\"180.0\"></rect></g></g></g><g><text style=\"alignment-baseline:middle;baseline-shift:-80%;font-size:10px;font-weight:normal;stroke:none;text-anchor:middle\" x=\"195.0\" y=\"200.0\">0.0</text><text style=\"alignment-baseline:middle;baseline-shift:-80%;font-size:10px;font-weight:normal;stroke:none;text-anchor:middle\" x=\"254.0\" y=\"200.0\">0.1</text><text style=\"alignment-baseline:middle;baseline-shift:-80%;font-size:10px;font-weight:normal;stroke:none;text-anchor:middle\" x=\"313.0\" y=\"200.0\">0.2</text><text style=\"alignment-baseline:middle;baseline-shift:-80%;font-size:10px;font-weight:normal;stroke:none;text-anchor:middle\" x=\"372.0\" y=\"200.0\">0.3</text><text style=\"alignment-baseline:middle;baseline-shift:-80%;font-size:10px;font-weight:normal;stroke:none;text-anchor:middle\" x=\"431.0\" y=\"200.0\">0.4</text><text style=\"alignment-baseline:middle;baseline-shift:-80%;font-size:10px;font-weight:normal;stroke:none;text-anchor:middle\" x=\"490.0\" y=\"200.0\">0.5</text></g><text style=\"alignment-baseline:middle;baseline-shift:-200%;font-weight:bold;stroke:none;text-anchor:middle\" x=\"342.5\" y=\"200.0\">Seconds</text></g><text style=\"alignment-baseline:middle;fill:#292724;font-size:12px;stroke:none;text-anchor:begin\" x=\"105.0\" y=\"62.5\">Foo-BAZ-46</text><text style=\"alignment-baseline:middle;fill:#292724;font-size:12px;stroke:none;text-anchor:begin\" x=\"105.0\" y=\"87.5\">Bar-BAZ-46</text><text style=\"alignment-baseline:middle;fill:#292724;font-size:12px;stroke:none;text-anchor:begin\" x=\"105.0\" y=\"112.5\">Foo-BAZ-23</text><text style=\"alignment-baseline:middle;fill:#292724;font-size:12px;stroke:none;text-anchor:begin\" x=\"105.0\" y=\"137.5\">Bar-BAZ-23</text><text style=\"alignment-baseline:middle;fill:#292724;font-size:12px;stroke:none;text-anchor:begin\" x=\"105.0\" y=\"162.5\">Foo-BLAH</text><text style=\"alignment-baseline:middle;fill:#292724;font-size:12px;stroke:none;text-anchor:begin\" x=\"105.0\" y=\"187.5\">Bar-BLAH</text><text style=\"alignment-baseline:middle;fill:#292724;font-size:12px;stroke:none;text-anchor:begin\" x=\"55.0\" y=\"75.0\">Red</text><text style=\"alignment-baseline:middle;fill:#292724;font-size:12px;stroke:none;text-anchor:begin\" x=\"55.0\" y=\"125.0\">Green</text><text style=\"alignment-baseline:middle;fill:#292724;font-size:12px;stroke:none;text-anchor:begin\" x=\"55.0\" y=\"175.0\">Blue</text></g></svg><div class=\"toyplot-controls\"><ul class=\"toyplot-mark-popup\" onmouseleave=\"this.style.visibility='hidden'\" style=\"background:rgba(0%,0%,0%,0.75);border:0;border-radius:6px;color:white;cursor:default;list-style:none;margin:0;padding:5px;position:fixed;visibility:hidden\"><li class=\"toyplot-mark-popup-title\" style=\"color:lightgray;cursor:default;padding:5px;list-style:none;margin:0;\"></li><li class=\"toyplot-mark-popup-save-csv\" onmouseout=\"this.style.color='white';this.style.background='steelblue'\" onmouseover=\"this.style.color='steelblue';this.style.background='white'\" style=\"border-radius:3px;padding:5px;list-style:none;margin:0;\">Save as .csv</li></ul><script>\n",
       "    (function()\n",
       "    {\n",
       "      // Workaround for browsers that don't support alignment-baseline\n",
       "      if(window.CSS !== undefined && window.CSS.supports !== undefined)\n",
       "      {\n",
       "        if(!window.CSS.supports(\"alignment-baseline\", \"middle\"))\n",
       "        {\n",
       "          var re = /\\s*alignment-baseline\\s*:\\s*([^;\\s]*)\\s*/;\n",
       "          var text = document.querySelectorAll(\"#t756599f465bc4cbe951c5db780db4867 text\");\n",
       "          for(var i = 0; i != text.length; ++i)\n",
       "          {\n",
       "            var match = re.exec(text[i].attributes.style.value);\n",
       "            if(match)\n",
       "            {\n",
       "              if(match[1] == \"middle\")\n",
       "              {\n",
       "                var style = getComputedStyle(text[i]);\n",
       "                var font_size = style.fontSize.substr(0, style.fontSize.length - 2);\n",
       "                var dy = text[i].dy.baseVal.length ? text[i].dy.baseVal[0].value : 0;\n",
       "                dy += 0.4 * font_size;\n",
       "                text[i].setAttribute(\"dy\", dy);\n",
       "              }\n",
       "            }\n",
       "          }\n",
       "        }\n",
       "        if(!window.CSS.supports(\"baseline-shift\", \"0\"))\n",
       "        {\n",
       "          var re = /\\s*baseline-shift\\s*:\\s*([^;\\s]*)\\s*/;\n",
       "          var text = document.querySelectorAll(\"#t756599f465bc4cbe951c5db780db4867 text\");\n",
       "          for(var i = 0; i != text.length; ++i)\n",
       "          {\n",
       "            var match = re.exec(text[i].attributes.style.value);\n",
       "            if(match)\n",
       "            {\n",
       "              var style = getComputedStyle(text[i]);\n",
       "              var font_size = style.fontSize.substr(0, style.fontSize.length - 2);\n",
       "              var percent = 0.01 * match[1].substr(0, match[1].length-1);\n",
       "              var dy = text[i].dy.baseVal.length ? text[i].dy.baseVal[0].value : 0;\n",
       "              dy -= percent * font_size\n",
       "              text[i].setAttribute(\"dy\", dy);\n",
       "            }\n",
       "          }\n",
       "        }\n",
       "      }\n",
       "    })();\n",
       "    </script><script>\n",
       "    // Allow users to extract embedded raw data\n",
       "    (function()\n",
       "    {\n",
       "      var root_id=\"t756599f465bc4cbe951c5db780db4867\";\n",
       "\n",
       "      function save_csv(dataset)\n",
       "      {\n",
       "        uri = \"data:text/csv;charset=utf-8,\";\n",
       "        data = JSON.parse(dataset.textContent);\n",
       "        uri += data.names.join(\",\") + \"\\n\";\n",
       "        for(var i = 0; i != data.data[0].length; ++i)\n",
       "        {\n",
       "          for(var j = 0; j != data.data.length; ++j)\n",
       "          {\n",
       "            if(j)\n",
       "              uri += \",\";\n",
       "            uri += data.data[j][i];\n",
       "          }\n",
       "          uri += \"\\n\";\n",
       "        }\n",
       "\n",
       "        uri = encodeURI(uri);\n",
       "        window.open(uri);\n",
       "      }\n",
       "\n",
       "      function open_popup(dataset)\n",
       "      {\n",
       "        return function(e)\n",
       "        {\n",
       "          var popup = document.querySelector(\"#\" + root_id + \" .toyplot-mark-popup\");\n",
       "          popup.querySelector(\".toyplot-mark-popup-title\").innerHTML = dataset.getAttribute(\"title\");\n",
       "          popup.querySelector(\".toyplot-mark-popup-save-csv\").onclick = function() { popup.style.visibility = \"hidden\"; save_csv(dataset); }\n",
       "          popup.style.left = (e.clientX - 50) + \"px\";\n",
       "          popup.style.top = (e.clientY - 20) + \"px\";\n",
       "          popup.style.visibility = \"visible\";\n",
       "          e.stopPropagation();\n",
       "          e.preventDefault();\n",
       "        }\n",
       "\n",
       "      }\n",
       "\n",
       "      var datasets = document.querySelectorAll(\"#\" + root_id + \" toyplot\\\\:data-table\");\n",
       "      for(var i = 0; i != datasets.length; ++i)\n",
       "      {\n",
       "        var dataset = datasets[i];\n",
       "        var mark = dataset.parentElement;\n",
       "        mark.oncontextmenu = open_popup(dataset);\n",
       "      }\n",
       "    })();\n",
       "    </script></div></div>"
      ],
      "text/plain": [
       "<toyplot.canvas.Canvas at 0x10be84d50>"
      ]
     },
     "metadata": {},
     "output_type": "display_data"
    }
   ],
   "source": [
    "canvas = toyplot.Canvas(width=600, height=250)\n",
    "table = canvas.table(rows=6, columns=4, title=\"Quarterly Report\")\n",
    "table.column(0).width = 50\n",
    "table.column(1).data = data[\"a\"]\n",
    "table.column(1).width = 90\n",
    "table.column(3).width = 55\n",
    "table.column(3).format = toyplot.format.FloatFormatter(format=\"{:.2f}s\")\n",
    "table.cell(0,0,rowspan=2).merge().data = \"Red\"\n",
    "table.cell(2,0,rowspan=2).merge().data = \"Green\"\n",
    "table.cell(4,0,rowspan=2).merge().data = \"Blue\"\n",
    "for index, value in enumerate(data[\"b\"]):\n",
    "    axes = table.cell(index, 2).axes(padding=5, xmin=0, xmax=data[\"b\"].max(), xlabel=\"Seconds\", yshow=False)\n",
    "    axes.bars([value], along=\"y\", fill=colormap.color(index % 2))\n",
    "    axes.show = index == 5\n",
    "    axes.x.spine.show = False"
   ]
  },
  {
   "cell_type": "code",
   "execution_count": null,
   "metadata": {
    "collapsed": false
   },
   "outputs": [],
   "source": []
  }
 ],
 "metadata": {
  "kernelspec": {
   "display_name": "Python 2",
   "language": "python",
   "name": "python2"
  },
  "language_info": {
   "codemirror_mode": {
    "name": "ipython",
    "version": 2
   },
   "file_extension": ".py",
   "mimetype": "text/x-python",
   "name": "python",
   "nbconvert_exporter": "python",
   "pygments_lexer": "ipython2",
   "version": "2.7.9"
  }
 },
 "nbformat": 4,
 "nbformat_minor": 0
}

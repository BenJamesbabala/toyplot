{
 "cells": [
  {
   "cell_type": "markdown",
   "metadata": {},
   "source": [
    "Regardless of the kinds of inputs supported by the graph API, the mark itself should have the following characteristics:\n",
    "\n",
    "* Doesn't care about directionality in the internal representation - it renders every edge it receives, regardless of direction, parallel edges, etc.\n",
    "* Vertices support all of the styles / attributes of a scatterplot - color, size, marker, etc.\n",
    "* Edges support color, opacity, stroke width attributes.\n",
    "* Edges support start / end markers for directionality.\n",
    "* Supports multiple layout algorithms.\n",
    "* Are graphs added to Cartesian axes?  Or are they a type of axis, like table axes?"
   ]
  },
  {
   "cell_type": "code",
   "execution_count": 1,
   "metadata": {
    "collapsed": true
   },
   "outputs": [],
   "source": [
    "import numpy\n",
    "import toyplot"
   ]
  },
  {
   "cell_type": "code",
   "execution_count": 2,
   "metadata": {
    "collapsed": true
   },
   "outputs": [],
   "source": [
    "import igraph\n",
    "numpy.random.seed(1234)\n",
    "graph = igraph.Graph.GRG(20, 0.3)\n",
    "graph.summary()\n",
    "coords = numpy.array(graph.layout(\"auto\").coords)\n",
    "x = coords[:, 0]\n",
    "y = coords[:, 1]\n",
    "source = [edge.source for edge in graph.es]\n",
    "target = [edge.target for edge in graph.es]"
   ]
  },
  {
   "cell_type": "code",
   "execution_count": 3,
   "metadata": {
    "collapsed": false
   },
   "outputs": [
    {
     "data": {
      "text/plain": [
       "<toyplot.mark.Graph at 0x103ec9750>"
      ]
     },
     "execution_count": 3,
     "metadata": {},
     "output_type": "execute_result"
    },
    {
     "data": {
      "text/html": [
       "<div align=\"center\" class=\"toyplot\" id=\"t0bf27e7648a8415db997532a634ccd8f\"><svg height=\"600px\" id=\"tf720c341fcf34729b2f6f4ff32269851\" style=\"background-color:#888;fill:#292724;fill-opacity:1.0;font-family:helvetica;font-size:12px;opacity:1.0;stroke:#292724;stroke-opacity:1.0;stroke-width:1.0\" width=\"600px\" xmlns=\"http://www.w3.org/2000/svg\" xmlns:toyplot=\"http://www.sandia.gov/toyplot\"><g class=\"toyplot-axes-Cartesian\" id=\"td5e8cb3fc87d451b8d4f8e8fff741bd0\"><clipPath id=\"tb2db16c30e9b4237adffcc4e52ae06a8\"><rect height=\"500.0\" width=\"500.0\" x=\"50.0\" y=\"50.0\"></rect></clipPath><g class=\"toyplot-coordinate-events\" clip-path=\"url(#tb2db16c30e9b4237adffcc4e52ae06a8)\" style=\"cursor:crosshair\"><rect height=\"500.0\" style=\"pointer-events:all;visibility:hidden\" width=\"500.0\" x=\"50.0\" y=\"50.0\"></rect><g class=\"toyplot-mark-Graph\" id=\"t42b7a0e8cf8d461582955ea603e5817e\"><g class=\"toyplot-Edges\"><line style=\"stroke:rgba(100%,100%,100%,1);stroke-opacity:1.0;stroke-width:0.562947703643\" x1=\"60.0\" x2=\"78.500622521426521\" y1=\"486.87779331582351\" y2=\"395.44668192384444\"></line><line style=\"stroke:rgba(100%,100%,97%,1);stroke-opacity:1.0;stroke-width:0.181123296139\" x1=\"60.0\" x2=\"123.7056783133325\" y1=\"486.87779331582351\" y2=\"529.92838474718826\"></line><line style=\"stroke:rgba(100%,100%,94%,1);stroke-opacity:1.0;stroke-width:0.304605345751\" x1=\"78.500622521426521\" x2=\"123.7056783133325\" y1=\"395.44668192384444\" y2=\"529.92838474718826\"></line><line style=\"stroke:rgba(100%,100%,91%,1);stroke-opacity:1.0;stroke-width:0.0943480016611\" x1=\"118.63991375742694\" x2=\"179.77590757755917\" y1=\"60.0\" y2=\"154.19880902825713\"></line><line style=\"stroke:rgba(100%,100%,88%,1);stroke-opacity:1.0;stroke-width:0.0969674256067\" x1=\"179.77590757755917\" x2=\"244.62645609125735\" y1=\"154.19880902825713\" y2=\"244.31482088667667\"></line><line style=\"stroke:rgba(100%,100%,85%,1);stroke-opacity:1.0;stroke-width:0.457828014115\" x1=\"179.77590757755917\" x2=\"287.96895209356427\" y1=\"154.19880902825713\" y2=\"116.14145897719152\"></line><line style=\"stroke:rgba(100%,100%,82%,1);stroke-opacity:1.0;stroke-width:0.453471978851\" x1=\"179.77590757755917\" x2=\"329.02520134712307\" y1=\"154.19880902825713\" y2=\"130.72466796688636\"></line><line style=\"stroke:rgba(100%,100%,79%,1);stroke-opacity:1.0;stroke-width:0.0864006064279\" x1=\"235.67549237610262\" x2=\"239.75904986585093\" y1=\"341.64284742950105\" y2=\"388.74836173797553\"></line><line style=\"stroke:rgba(100%,100%,76%,1);stroke-opacity:1.0;stroke-width:0.0170318837436\" x1=\"235.67549237610262\" x2=\"244.62645609125735\" y1=\"341.64284742950105\" y2=\"244.31482088667667\"></line><line style=\"stroke:rgba(100%,100%,73%,1);stroke-opacity:1.0;stroke-width:0.0522907037814\" x1=\"235.67549237610262\" x2=\"320.30140165819006\" y1=\"341.64284742950105\" y2=\"372.99011998503295\"></line><line style=\"stroke:rgba(100%,100%,70%,1);stroke-opacity:1.0;stroke-width:0.371595644817\" x1=\"239.75904986585093\" x2=\"244.62645609125735\" y1=\"388.74836173797553\" y2=\"244.31482088667667\"></line><line style=\"stroke:rgba(100%,100%,67%,1);stroke-opacity:1.0;stroke-width:0.258206378816\" x1=\"239.75904986585093\" x2=\"320.30140165819006\" y1=\"388.74836173797553\" y2=\"372.99011998503295\"></line><line style=\"stroke:rgba(100%,100%,64%,1);stroke-opacity:1.0;stroke-width:0.146583653061\" x1=\"244.62645609125735\" x2=\"287.96895209356427\" y1=\"244.31482088667667\" y2=\"116.14145897719152\"></line><line style=\"stroke:rgba(100%,100%,61%,1);stroke-opacity:1.0;stroke-width:0.130990131637\" x1=\"244.62645609125735\" x2=\"320.30140165819006\" y1=\"244.31482088667667\" y2=\"372.99011998503295\"></line><line style=\"stroke:rgba(100%,100%,58%,1);stroke-opacity:1.0;stroke-width:0.360432933554\" x1=\"244.62645609125735\" x2=\"329.02520134712307\" y1=\"244.31482088667667\" y2=\"130.72466796688636\"></line><line style=\"stroke:rgba(100%,100%,55%,1);stroke-opacity:1.0;stroke-width:0.218224685076\" x1=\"287.96895209356427\" x2=\"329.02520134712307\" y1=\"116.14145897719152\" y2=\"130.72466796688636\"></line><line style=\"stroke:rgba(100%,100%,52%,1);stroke-opacity:1.0;stroke-width:0.2567569091\" x1=\"287.96895209356427\" x2=\"421.49609964528014\" y1=\"116.14145897719152\" y2=\"182.32719330822181\"></line><line style=\"stroke:rgba(100%,100%,49%,1);stroke-opacity:1.0;stroke-width:1.15119680929\" x1=\"287.96895209356427\" x2=\"437.81585881579161\" y1=\"116.14145897719152\" y2=\"117.96126314094694\"></line><line style=\"stroke:rgba(100%,100%,46%,1);stroke-opacity:1.0;stroke-width:0.100468891196\" x1=\"320.30140165819006\" x2=\"390.73384538991007\" y1=\"372.99011998503295\" y2=\"474.91555083891797\"></line><line style=\"stroke:rgba(100%,100%,43%,1);stroke-opacity:1.0;stroke-width:0.0493163949311\" x1=\"320.30140165819006\" x2=\"399.21888153288734\" y1=\"372.99011998503295\" y2=\"391.82585061630994\"></line><line style=\"stroke:rgba(40%,40%,40%,1);stroke-opacity:1.0;stroke-width:0.365212034638\" x1=\"320.30140165819006\" x2=\"431.1058878694339\" y1=\"372.99011998503295\" y2=\"303.70938382238819\"></line><line style=\"stroke:rgba(40%,40%,40%,1);stroke-opacity:1.0;stroke-width:0.185065506447\" x1=\"329.02520134712307\" x2=\"421.49609964528014\" y1=\"130.72466796688636\" y2=\"182.32719330822181\"></line><line style=\"stroke:rgba(40%,40%,40%,1);stroke-opacity:1.0;stroke-width:0.807433369729\" x1=\"329.02520134712307\" x2=\"437.81585881579161\" y1=\"130.72466796688636\" y2=\"117.96126314094694\"></line><line style=\"stroke:rgba(40%,40%,40%,1);stroke-opacity:1.0;stroke-width:0.361698489042\" x1=\"358.6134836826206\" x2=\"390.73384538991007\" y1=\"540.0\" y2=\"474.91555083891797\"></line><line style=\"stroke:rgba(40%,40%,40%,1);stroke-opacity:1.0;stroke-width:0.0274893060233\" x1=\"358.6134836826206\" x2=\"399.21888153288734\" y1=\"540.0\" y2=\"391.82585061630994\"></line><line style=\"stroke:rgba(40%,40%,40%,1);stroke-opacity:1.0;stroke-width:0.16432145488\" x1=\"390.73384538991007\" x2=\"399.21888153288734\" y1=\"474.91555083891797\" y2=\"391.82585061630994\"></line><line style=\"stroke:rgba(40%,40%,40%,1);stroke-opacity:1.0;stroke-width:0.337229130761\" x1=\"399.21888153288734\" x2=\"431.1058878694339\" y1=\"391.82585061630994\" y2=\"303.70938382238819\"></line><line style=\"stroke:rgba(40%,40%,40%,1);stroke-opacity:1.0;stroke-width:0.0927146041393\" x1=\"399.21888153288734\" x2=\"484.01193129512166\" y1=\"391.82585061630994\" y2=\"290.35340399561113\"></line><line style=\"stroke:rgba(40%,40%,40%,1);stroke-opacity:1.0;stroke-width:0.41073275175\" x1=\"421.49609964528014\" x2=\"431.1058878694339\" y1=\"182.32719330822181\" y2=\"303.70938382238819\"></line><line style=\"stroke:rgba(40%,40%,40%,1);stroke-opacity:1.0;stroke-width:0.213863080211\" x1=\"421.49609964528014\" x2=\"437.81585881579161\" y1=\"182.32719330822181\" y2=\"117.96126314094694\"></line><line style=\"stroke:rgba(40%,40%,40%,1);stroke-opacity:1.0;stroke-width:0.0553265589845\" x1=\"421.49609964528014\" x2=\"484.01193129512166\" y1=\"182.32719330822181\" y2=\"290.35340399561113\"></line><line style=\"stroke:rgba(40%,40%,40%,1);stroke-opacity:1.0;stroke-width:0.305811085374\" x1=\"421.49609964528014\" x2=\"515.75632313040012\" y1=\"182.32719330822181\" y2=\"80.831417550977122\"></line><line style=\"stroke:rgba(40%,40%,40%,1);stroke-opacity:1.0;stroke-width:0.0862691499731\" x1=\"421.49609964528014\" x2=\"540.0\" y1=\"182.32719330822181\" y2=\"176.43746545572552\"></line><line style=\"stroke:rgba(40%,40%,40%,1);stroke-opacity:1.0;stroke-width:0.643056604043\" x1=\"431.1058878694339\" x2=\"484.01193129512166\" y1=\"303.70938382238819\" y2=\"290.35340399561113\"></line><line style=\"stroke:rgba(40%,40%,40%,1);stroke-opacity:1.0;stroke-width:0.135438468355\" x1=\"437.81585881579161\" x2=\"515.75632313040012\" y1=\"117.96126314094694\" y2=\"80.831417550977122\"></line><line style=\"stroke:rgba(40%,40%,40%,1);stroke-opacity:1.0;stroke-width:0.135268877944\" x1=\"437.81585881579161\" x2=\"540.0\" y1=\"117.96126314094694\" y2=\"176.43746545572552\"></line><line style=\"stroke:rgba(40%,40%,40%,1);stroke-opacity:1.0;stroke-width:0.524170030506\" x1=\"484.01193129512166\" x2=\"540.0\" y1=\"290.35340399561113\" y2=\"176.43746545572552\"></line><line style=\"stroke:rgba(40%,40%,40%,1);stroke-opacity:1.0;stroke-width:0.030999114499\" x1=\"515.75632313040012\" x2=\"540.0\" y1=\"80.831417550977122\" y2=\"176.43746545572552\"></line></g><g class=\"toyplot-Vertices\"><g class=\"toyplot-Datum\" style=\"fill:rgba(40%,40%,40%,1);opacity:1.0;stroke:rgba(40%,40%,40%,1)\"><circle cx=\"60.0\" cy=\"486.87779331582351\" r=\"2.2360679774997898\"></circle></g><g class=\"toyplot-Datum\" style=\"fill:rgba(40%,40%,40%,1);opacity:1.0;stroke:rgba(40%,40%,40%,1)\"><circle cx=\"78.500622521426521\" cy=\"395.44668192384444\" r=\"2.2360679774997898\"></circle></g><g class=\"toyplot-Datum\" style=\"fill:rgba(40%,40%,40%,1);opacity:1.0;stroke:rgba(40%,40%,40%,1)\"><circle cx=\"118.63991375742694\" cy=\"60.0\" r=\"2.2360679774997898\"></circle></g><g class=\"toyplot-Datum\" style=\"fill:rgba(40%,40%,40%,1);opacity:1.0;stroke:rgba(40%,40%,40%,1)\"><circle cx=\"123.7056783133325\" cy=\"529.92838474718826\" r=\"2.2360679774997898\"></circle></g><g class=\"toyplot-Datum\" style=\"fill:rgba(40%,40%,40%,1);opacity:1.0;stroke:rgba(40%,40%,40%,1)\"><circle cx=\"179.77590757755917\" cy=\"154.19880902825713\" r=\"2.2360679774997898\"></circle></g><g class=\"toyplot-Datum\" style=\"fill:rgba(40%,40%,40%,1);opacity:1.0;stroke:rgba(40%,40%,40%,1)\"><circle cx=\"235.67549237610262\" cy=\"341.64284742950105\" r=\"2.2360679774997898\"></circle></g><g class=\"toyplot-Datum\" style=\"fill:rgba(40%,40%,40%,1);opacity:1.0;stroke:rgba(40%,40%,40%,1)\"><circle cx=\"239.75904986585093\" cy=\"388.74836173797553\" r=\"2.2360679774997898\"></circle></g><g class=\"toyplot-Datum\" style=\"fill:rgba(40%,40%,40%,1);opacity:1.0;stroke:rgba(40%,40%,40%,1)\"><circle cx=\"244.62645609125735\" cy=\"244.31482088667667\" r=\"2.2360679774997898\"></circle></g><g class=\"toyplot-Datum\" style=\"fill:rgba(40%,40%,40%,1);opacity:1.0;stroke:rgba(40%,40%,40%,1)\"><circle cx=\"287.96895209356427\" cy=\"116.14145897719152\" r=\"2.2360679774997898\"></circle></g><g class=\"toyplot-Datum\" style=\"fill:rgba(40%,40%,40%,1);opacity:1.0;stroke:rgba(40%,40%,40%,1)\"><circle cx=\"320.30140165819006\" cy=\"372.99011998503295\" r=\"2.2360679774997898\"></circle></g><g class=\"toyplot-Datum\" style=\"fill:rgba(40%,40%,40%,1);opacity:1.0;stroke:rgba(40%,40%,40%,1)\"><circle cx=\"329.02520134712307\" cy=\"130.72466796688636\" r=\"2.2360679774997898\"></circle></g><g class=\"toyplot-Datum\" style=\"fill:rgba(40%,40%,40%,1);opacity:1.0;stroke:rgba(40%,40%,40%,1)\"><circle cx=\"358.6134836826206\" cy=\"540.0\" r=\"2.2360679774997898\"></circle></g><g class=\"toyplot-Datum\" style=\"fill:rgba(40%,40%,40%,1);opacity:1.0;stroke:rgba(40%,40%,40%,1)\"><circle cx=\"390.73384538991007\" cy=\"474.91555083891797\" r=\"2.2360679774997898\"></circle></g><g class=\"toyplot-Datum\" style=\"fill:rgba(40%,40%,40%,1);opacity:1.0;stroke:rgba(40%,40%,40%,1)\"><circle cx=\"399.21888153288734\" cy=\"391.82585061630994\" r=\"2.2360679774997898\"></circle></g><g class=\"toyplot-Datum\" style=\"fill:rgba(40%,40%,40%,1);opacity:1.0;stroke:rgba(40%,40%,40%,1)\"><circle cx=\"421.49609964528014\" cy=\"182.32719330822181\" r=\"2.2360679774997898\"></circle></g><g class=\"toyplot-Datum\" style=\"fill:rgba(40%,40%,40%,1);opacity:1.0;stroke:rgba(40%,40%,40%,1)\"><circle cx=\"431.1058878694339\" cy=\"303.70938382238819\" r=\"2.2360679774997898\"></circle></g><g class=\"toyplot-Datum\" style=\"fill:rgba(40%,40%,40%,1);opacity:1.0;stroke:rgba(40%,40%,40%,1)\"><circle cx=\"437.81585881579161\" cy=\"117.96126314094694\" r=\"2.2360679774997898\"></circle></g><g class=\"toyplot-Datum\" style=\"fill:rgba(40%,40%,40%,1);opacity:1.0;stroke:rgba(40%,40%,40%,1)\"><circle cx=\"484.01193129512166\" cy=\"290.35340399561113\" r=\"2.2360679774997898\"></circle></g><g class=\"toyplot-Datum\" style=\"fill:rgba(40%,40%,40%,1);opacity:1.0;stroke:rgba(40%,40%,40%,1)\"><circle cx=\"515.75632313040012\" cy=\"80.831417550977122\" r=\"2.2360679774997898\"></circle></g><g class=\"toyplot-Datum\" style=\"fill:rgba(40%,40%,40%,1);opacity:1.0;stroke:rgba(40%,40%,40%,1)\"><circle cx=\"540.0\" cy=\"176.43746545572552\" r=\"2.2360679774997898\"></circle></g><title>[u'title']</title></g></g></g><g class=\"toyplot-coordinates\" style=\"visibility:hidden\"><rect height=\"14.0\" style=\"fill:white;opacity:0.75;stroke:none\" width=\"90.0\" x=\"450.0\" y=\"60.0\"></rect><text style=\"alignment-baseline:middle;font-size:10px;font-weight:normal;stroke:none;text-anchor:middle\" x=\"495.0\" y=\"67.0\"></text></g></g></svg><div class=\"toyplot-controls\"><ul class=\"toyplot-mark-popup\" onmouseleave=\"this.style.visibility='hidden'\" style=\"background:rgba(0%,0%,0%,0.75);border:0;border-radius:6px;color:white;cursor:default;list-style:none;margin:0;padding:5px;position:fixed;visibility:hidden\"><li class=\"toyplot-mark-popup-title\" style=\"color:lightgray;cursor:default;padding:5px;list-style:none;margin:0;\"></li><li class=\"toyplot-mark-popup-save-csv\" onmouseout=\"this.style.color='white';this.style.background='steelblue'\" onmouseover=\"this.style.color='steelblue';this.style.background='white'\" style=\"border-radius:3px;padding:5px;list-style:none;margin:0;\">Save as .csv</li></ul><script>\n",
       "(function()\n",
       "{\n",
       "  if(window.CSS !== undefined && window.CSS.supports !== undefined)\n",
       "  {\n",
       "    if(!window.CSS.supports(\"alignment-baseline\", \"middle\"))\n",
       "    {\n",
       "      var re = /\\s*alignment-baseline\\s*:\\s*([^;\\s]*)\\s*/;\n",
       "      var text = document.querySelectorAll(\"#t0bf27e7648a8415db997532a634ccd8f text\");\n",
       "      for(var i = 0; i != text.length; ++i)\n",
       "      {\n",
       "        var match = re.exec(text[i].attributes.style.value);\n",
       "        if(match)\n",
       "        {\n",
       "          if(match[1] == \"middle\")\n",
       "          {\n",
       "            var style = getComputedStyle(text[i]);\n",
       "            var font_size = style.fontSize.substr(0, style.fontSize.length - 2);\n",
       "            var dy = text[i].dy.baseVal.length ? text[i].dy.baseVal[0].value : 0;\n",
       "            dy += 0.4 * font_size;\n",
       "            text[i].setAttribute(\"dy\", dy);\n",
       "          }\n",
       "        }\n",
       "      }\n",
       "    }\n",
       "    if(!window.CSS.supports(\"baseline-shift\", \"0\"))\n",
       "    {\n",
       "      var re = /\\s*baseline-shift\\s*:\\s*([^;\\s]*)\\s*/;\n",
       "      var text = document.querySelectorAll(\"#t0bf27e7648a8415db997532a634ccd8f text\");\n",
       "      for(var i = 0; i != text.length; ++i)\n",
       "      {\n",
       "        var match = re.exec(text[i].attributes.style.value);\n",
       "        if(match)\n",
       "        {\n",
       "          var style = getComputedStyle(text[i]);\n",
       "          var font_size = style.fontSize.substr(0, style.fontSize.length - 2);\n",
       "          var percent = 0.01 * match[1].substr(0, match[1].length-1);\n",
       "          var dy = text[i].dy.baseVal.length ? text[i].dy.baseVal[0].value : 0;\n",
       "          dy -= percent * font_size\n",
       "          text[i].setAttribute(\"dy\", dy);\n",
       "        }\n",
       "      }\n",
       "    }\n",
       "  }\n",
       "})();\n",
       "</script><script>\n",
       "(function()\n",
       "{\n",
       "  var axes = {\"td5e8cb3fc87d451b8d4f8e8fff741bd0\": {\"x\": [{\"domain\": {\"bounds\": {\"max\": Infinity, \"min\": -Infinity}, \"max\": 0.92150070715839594, \"min\": 0.015627124238676848}, \"range\": {\"bounds\": {\"max\": Infinity, \"min\": -Infinity}, \"max\": 540.0, \"min\": 60.0}, \"scale\": \"linear\"}], \"y\": [{\"domain\": {\"bounds\": {\"max\": Infinity, \"min\": -Infinity}, \"max\": 0.95887462931487044, \"min\": 0.065488407047299746}, \"range\": {\"bounds\": {\"max\": -Infinity, \"min\": Infinity}, \"max\": 60.0, \"min\": 540.0}, \"scale\": \"linear\"}]}};\n",
       "\n",
       "  function sign(x)\n",
       "  {\n",
       "    return x < 0 ? -1 : x > 0 ? 1 : 0;\n",
       "  }\n",
       "\n",
       "  function _mix(a, b, amount)\n",
       "  {\n",
       "    return ((1.0 - amount) * a) + (amount * b);\n",
       "  }\n",
       "\n",
       "  function _log(x, base)\n",
       "  {\n",
       "    return Math.log(Math.abs(x)) / Math.log(base);\n",
       "  }\n",
       "\n",
       "  function _in_range(a, x, b)\n",
       "  {\n",
       "    var left = Math.min(a, b);\n",
       "    var right = Math.max(a, b);\n",
       "    return left <= x && x <= right;\n",
       "  }\n",
       "\n",
       "  function to_domain(projection, range)\n",
       "  {\n",
       "    for(var i = 0; i != projection.length; ++i)\n",
       "    {\n",
       "      var segment = projection[i];\n",
       "      if(_in_range(segment.range.bounds.min, range, segment.range.bounds.max))\n",
       "      {\n",
       "        if(segment.scale == \"linear\")\n",
       "        {\n",
       "          var amount = (range - segment.range.min) / (segment.range.max - segment.range.min);\n",
       "          return _mix(segment.domain.min, segment.domain.max, amount)\n",
       "        }\n",
       "        else if(segment.scale[0] == \"log\")\n",
       "        {\n",
       "          var amount = (range - segment.range.min) / (segment.range.max - segment.range.min);\n",
       "          var base = segment.scale[1];\n",
       "          return sign(segment.domain.min) * Math.pow(base, _mix(_log(segment.domain.min, base), _log(segment.domain.max, base), amount));\n",
       "        }\n",
       "      }\n",
       "    }\n",
       "  }\n",
       "\n",
       "  // Compute mouse coordinates relative to a DOM object, with thanks to d3js.org, where this code originated.\n",
       "  function d3_mousePoint(container, e)\n",
       "  {\n",
       "    if (e.changedTouches) e = e.changedTouches[0];\n",
       "    var svg = container.ownerSVGElement || container;\n",
       "    if (svg.createSVGPoint) {\n",
       "      var point = svg.createSVGPoint();\n",
       "      point.x = e.clientX, point.y = e.clientY;\n",
       "      point = point.matrixTransform(container.getScreenCTM().inverse());\n",
       "      return [point.x, point.y];\n",
       "    }\n",
       "    var rect = container.getBoundingClientRect();\n",
       "    return [e.clientX - rect.left - container.clientLeft, e.clientY - rect.top - container.clientTop];\n",
       "  };\n",
       "\n",
       "  function display_coordinates(e)\n",
       "  {\n",
       "    var dom_axes = e.currentTarget.parentElement;\n",
       "    var data = axes[dom_axes.id];\n",
       "\n",
       "    point = d3_mousePoint(e.target, e);\n",
       "    var x = Number(to_domain(data[\"x\"], point[0])).toFixed(2);\n",
       "    var y = Number(to_domain(data[\"y\"], point[1])).toFixed(2);\n",
       "\n",
       "    var coordinates = dom_axes.querySelectorAll(\".toyplot-coordinates\");\n",
       "    for(var i = 0; i != coordinates.length; ++i)\n",
       "    {\n",
       "      coordinates[i].style.visibility = \"visible\";\n",
       "      coordinates[i].querySelector(\"text\").textContent = \"x=\" + x + \" y=\" + y;\n",
       "    }\n",
       "  }\n",
       "\n",
       "  function clear_coordinates(e)\n",
       "  {\n",
       "    var dom_axes = e.currentTarget.parentElement;\n",
       "    var coordinates = dom_axes.querySelectorAll(\".toyplot-coordinates\");\n",
       "    for(var i = 0; i != coordinates.length; ++i)\n",
       "      coordinates[i].style.visibility = \"hidden\";\n",
       "  }\n",
       "\n",
       "  for(var axes_id in axes)\n",
       "  {\n",
       "    var event_target = document.querySelector(\"#\" + axes_id + \" .toyplot-coordinate-events\");\n",
       "    event_target.onmousemove = display_coordinates;\n",
       "    event_target.onmouseout = clear_coordinates;\n",
       "  }\n",
       "})();\n",
       "</script></div></div>"
      ],
      "text/plain": [
       "<toyplot.canvas.Canvas at 0x103ecead0>"
      ]
     },
     "metadata": {},
     "output_type": "display_data"
    }
   ],
   "source": [
    "color_map = toyplot.color.LinearMap(toyplot.color.Palette([\"white\", \"yellow\", \"orange\", \"red\"]))\n",
    "\n",
    "weight = (1 - numpy.random.power(5, size=len(graph.es))) * 2\n",
    "#ecolor = numpy.random.uniform(size=len(graph.es))\n",
    "vcolor = numpy.random.uniform(size=len(graph.vs))\n",
    "ecolor = [\"#666\"] * len(graph.es)\n",
    "for i in numpy.arange(len(graph.vs)):\n",
    "    ecolor[i] = color_map.css(i, domain_min=0, domain_max=100)\n",
    "\n",
    "canvas = toyplot.Canvas(style={\"background-color\":\"#888\"})\n",
    "axes = canvas.axes(show=False)\n",
    "axes.graph(x, y, source, target, edge_color=ecolor, edge_opacity=1, vertex_color=\"#666\", edge_width=weight)"
   ]
  },
  {
   "cell_type": "code",
   "execution_count": null,
   "metadata": {
    "collapsed": true
   },
   "outputs": [],
   "source": []
  }
 ],
 "metadata": {
  "kernelspec": {
   "display_name": "Python 2",
   "language": "python",
   "name": "python2"
  },
  "language_info": {
   "codemirror_mode": {
    "name": "ipython",
    "version": 2
   },
   "file_extension": ".py",
   "mimetype": "text/x-python",
   "name": "python",
   "nbconvert_exporter": "python",
   "pygments_lexer": "ipython2",
   "version": "2.7.10"
  }
 },
 "nbformat": 4,
 "nbformat_minor": 0
}

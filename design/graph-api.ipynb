{
 "cells": [
  {
   "cell_type": "markdown",
   "metadata": {},
   "source": [
    "Regardless of the kinds of inputs supported by the graph API, the mark itself should have the following characteristics:\n",
    "\n",
    "* Doesn't care about directionality in the internal representation - it renders every edge it receives, regardless of direction, parallel edges, etc.\n",
    "* Vertices support all of the styles / attributes of a scatterplot - color, size, marker, etc.\n",
    "* Edges support color, opacity, stroke width attributes.\n",
    "* Edges support start / end markers for directionality.\n",
    "* Supports multiple layout algorithms.\n",
    "* Are graphs added to Cartesian axes?  Or are they a type of axis, like table axes?"
   ]
  },
  {
   "cell_type": "code",
   "execution_count": 1,
   "metadata": {
    "collapsed": true
   },
   "outputs": [],
   "source": [
    "import numpy\n",
    "import toyplot"
   ]
  },
  {
   "cell_type": "code",
   "execution_count": 2,
   "metadata": {
    "collapsed": false
   },
   "outputs": [],
   "source": [
    "import igraph\n",
    "numpy.random.seed(1234)\n",
    "graph = igraph.Graph.GRG(20, 0.5)\n",
    "graph.summary()\n",
    "coords = numpy.array(graph.layout(\"auto\").coords)\n",
    "x = coords[:, 0]\n",
    "y = coords[:, 1]\n",
    "source = [edge.source for edge in graph.es]\n",
    "target = [edge.target for edge in graph.es]"
   ]
  },
  {
   "cell_type": "code",
   "execution_count": 3,
   "metadata": {
    "collapsed": false
   },
   "outputs": [
    {
     "data": {
      "text/plain": [
       "<toyplot.mark.Graph at 0x10972f790>"
      ]
     },
     "execution_count": 3,
     "metadata": {},
     "output_type": "execute_result"
    },
    {
     "data": {
      "text/html": [
       "<div align=\"center\" class=\"toyplot\" id=\"t085a6e53a60e46b6a680e7bd4989453c\"><svg height=\"600px\" id=\"t68d0ecbac088480687c39a197b91ef8e\" preserveAspectRatio=\"xMidyMid meet\" style=\"background-color:#bbb;fill:rgb(16.1%,15.3%,14.1%);fill-opacity:1.0;font-family:helvetica;font-size:12px;opacity:1.0;stroke:rgb(16.1%,15.3%,14.1%);stroke-opacity:1.0;stroke-width:1.0\" viewBox=\"0 0 600 600\" width=\"600px\" xmlns=\"http://www.w3.org/2000/svg\" xmlns:toyplot=\"http://www.sandia.gov/toyplot\"><g class=\"toyplot-axes-Cartesian\" id=\"t90c9caac00c64888b740a7cd9741ca24\"><clipPath id=\"tdd0d8b2fce134972bc79737042be1bba\"><rect height=\"500.0\" width=\"500.0\" x=\"50.0\" y=\"50.0\"></rect></clipPath><g class=\"toyplot-coordinate-events\" clip-path=\"url(#tdd0d8b2fce134972bc79737042be1bba)\" style=\"cursor:crosshair\"><rect height=\"500.0\" style=\"pointer-events:all;visibility:hidden\" width=\"500.0\" x=\"50.0\" y=\"50.0\"></rect><g class=\"toyplot-mark-Graph\" id=\"t09e2022042834106bf94212347a7f7bf\"><g class=\"toyplot-Edges\"><line style=\"stroke:rgb(0%,0%,0%);stroke-opacity:0.2;stroke-width:1.0\" x1=\"60.0\" x2=\"85.661996503645682\" y1=\"456.7459078597488\" y2=\"397.70137281212169\"></line><line style=\"stroke:rgb(0%,0%,0%);stroke-opacity:0.2;stroke-width:1.0\" x1=\"60.0\" x2=\"147.75898104910263\" y1=\"456.7459078597488\" y2=\"466.80196297486236\"></line><line style=\"stroke:rgb(0%,0%,0%);stroke-opacity:0.2;stroke-width:1.0\" x1=\"60.0\" x2=\"159.44494270113557\" y1=\"456.7459078597488\" y2=\"287.69714116301338\"></line><line style=\"stroke:rgb(0%,0%,0%);stroke-opacity:0.2;stroke-width:1.0\" x1=\"60.0\" x2=\"286.95640652506216\" y1=\"456.7459078597488\" y2=\"535.00038109159391\"></line><line style=\"stroke:rgb(0%,0%,0%);stroke-opacity:0.2;stroke-width:1.0\" x1=\"85.661996503645682\" x2=\"86.848248354533979\" y1=\"397.70137281212169\" y2=\"185.88019921322888\"></line><line style=\"stroke:rgb(0%,0%,0%);stroke-opacity:0.2;stroke-width:1.0\" x1=\"85.661996503645682\" x2=\"147.75898104910263\" y1=\"397.70137281212169\" y2=\"466.80196297486236\"></line><line style=\"stroke:rgb(0%,0%,0%);stroke-opacity:0.2;stroke-width:1.0\" x1=\"85.661996503645682\" x2=\"159.44494270113557\" y1=\"397.70137281212169\" y2=\"287.69714116301338\"></line><line style=\"stroke:rgb(0%,0%,0%);stroke-opacity:0.2;stroke-width:1.0\" x1=\"85.661996503645682\" x2=\"286.95640652506216\" y1=\"397.70137281212169\" y2=\"535.00038109159391\"></line><line style=\"stroke:rgb(0%,0%,0%);stroke-opacity:0.2;stroke-width:1.0\" x1=\"86.848248354533979\" x2=\"159.44494270113557\" y1=\"185.88019921322888\" y2=\"287.69714116301338\"></line><line style=\"stroke:rgb(0%,0%,0%);stroke-opacity:0.2;stroke-width:1.0\" x1=\"86.848248354533979\" x2=\"161.37820277775904\" y1=\"185.88019921322888\" y2=\"120.79026608406406\"></line><line style=\"stroke:rgb(0%,0%,0%);stroke-opacity:0.2;stroke-width:1.0\" x1=\"86.848248354533979\" x2=\"185.20672449737006\" y1=\"185.88019921322888\" y2=\"70.623465528300244\"></line><line style=\"stroke:rgb(0%,0%,0%);stroke-opacity:0.2;stroke-width:1.0\" x1=\"86.848248354533979\" x2=\"200.5660580991437\" y1=\"185.88019921322888\" y2=\"132.29059427914729\"></line><line style=\"stroke:rgb(0%,0%,0%);stroke-opacity:0.2;stroke-width:1.0\" x1=\"86.848248354533979\" x2=\"201.06851965809244\" y1=\"185.88019921322888\" y2=\"104.8856352431492\"></line><line style=\"stroke:rgb(0%,0%,0%);stroke-opacity:0.2;stroke-width:1.0\" x1=\"86.848248354533979\" x2=\"257.65661031486172\" y1=\"185.88019921322888\" y2=\"215.11709389028388\"></line><line style=\"stroke:rgb(0%,0%,0%);stroke-opacity:0.2;stroke-width:1.0\" x1=\"86.848248354533979\" x2=\"267.53773242557264\" y1=\"185.88019921322888\" y2=\"84.422370435142426\"></line><line style=\"stroke:rgb(0%,0%,0%);stroke-opacity:0.2;stroke-width:1.0\" x1=\"147.75898104910263\" x2=\"159.44494270113557\" y1=\"466.80196297486236\" y2=\"287.69714116301338\"></line><line style=\"stroke:rgb(0%,0%,0%);stroke-opacity:0.2;stroke-width:1.0\" x1=\"147.75898104910263\" x2=\"286.95640652506216\" y1=\"466.80196297486236\" y2=\"535.00038109159391\"></line><line style=\"stroke:rgb(0%,0%,0%);stroke-opacity:0.2;stroke-width:1.0\" x1=\"147.75898104910263\" x2=\"322.7513262890343\" y1=\"466.80196297486236\" y2=\"540.0\"></line><line style=\"stroke:rgb(0%,0%,0%);stroke-opacity:0.2;stroke-width:1.0\" x1=\"159.44494270113557\" x2=\"161.37820277775904\" y1=\"287.69714116301338\" y2=\"120.79026608406406\"></line><line style=\"stroke:rgb(0%,0%,0%);stroke-opacity:0.2;stroke-width:1.0\" x1=\"159.44494270113557\" x2=\"185.20672449737006\" y1=\"287.69714116301338\" y2=\"70.623465528300244\"></line><line style=\"stroke:rgb(0%,0%,0%);stroke-opacity:0.2;stroke-width:1.0\" x1=\"159.44494270113557\" x2=\"200.5660580991437\" y1=\"287.69714116301338\" y2=\"132.29059427914729\"></line><line style=\"stroke:rgb(0%,0%,0%);stroke-opacity:0.2;stroke-width:1.0\" x1=\"159.44494270113557\" x2=\"201.06851965809244\" y1=\"287.69714116301338\" y2=\"104.8856352431492\"></line><line style=\"stroke:rgb(0%,0%,0%);stroke-opacity:0.2;stroke-width:1.0\" x1=\"159.44494270113557\" x2=\"257.65661031486172\" y1=\"287.69714116301338\" y2=\"215.11709389028388\"></line><line style=\"stroke:rgb(0%,0%,0%);stroke-opacity:0.2;stroke-width:1.0\" x1=\"159.44494270113557\" x2=\"267.53773242557264\" y1=\"287.69714116301338\" y2=\"84.422370435142426\"></line><line style=\"stroke:rgb(0%,0%,0%);stroke-opacity:0.2;stroke-width:1.0\" x1=\"161.37820277775904\" x2=\"185.20672449737006\" y1=\"120.79026608406406\" y2=\"70.623465528300244\"></line><line style=\"stroke:rgb(0%,0%,0%);stroke-opacity:0.2;stroke-width:1.0\" x1=\"161.37820277775904\" x2=\"200.5660580991437\" y1=\"120.79026608406406\" y2=\"132.29059427914729\"></line><line style=\"stroke:rgb(0%,0%,0%);stroke-opacity:0.2;stroke-width:1.0\" x1=\"161.37820277775904\" x2=\"201.06851965809244\" y1=\"120.79026608406406\" y2=\"104.8856352431492\"></line><line style=\"stroke:rgb(0%,0%,0%);stroke-opacity:0.2;stroke-width:1.0\" x1=\"161.37820277775904\" x2=\"257.65661031486172\" y1=\"120.79026608406406\" y2=\"215.11709389028388\"></line><line style=\"stroke:rgb(0%,0%,0%);stroke-opacity:0.2;stroke-width:1.0\" x1=\"161.37820277775904\" x2=\"267.53773242557264\" y1=\"120.79026608406406\" y2=\"84.422370435142426\"></line><line style=\"stroke:rgb(0%,0%,0%);stroke-opacity:0.2;stroke-width:1.0\" x1=\"161.37820277775904\" x2=\"388.26763585230248\" y1=\"120.79026608406406\" y2=\"60.0\"></line><line style=\"stroke:rgb(0%,0%,0%);stroke-opacity:0.2;stroke-width:1.0\" x1=\"185.20672449737006\" x2=\"200.5660580991437\" y1=\"70.623465528300244\" y2=\"132.29059427914729\"></line><line style=\"stroke:rgb(0%,0%,0%);stroke-opacity:0.2;stroke-width:1.0\" x1=\"185.20672449737006\" x2=\"201.06851965809244\" y1=\"70.623465528300244\" y2=\"104.8856352431492\"></line><line style=\"stroke:rgb(0%,0%,0%);stroke-opacity:0.2;stroke-width:1.0\" x1=\"185.20672449737006\" x2=\"257.65661031486172\" y1=\"70.623465528300244\" y2=\"215.11709389028388\"></line><line style=\"stroke:rgb(0%,0%,0%);stroke-opacity:0.2;stroke-width:1.0\" x1=\"185.20672449737006\" x2=\"267.53773242557264\" y1=\"70.623465528300244\" y2=\"84.422370435142426\"></line><line style=\"stroke:rgb(0%,0%,0%);stroke-opacity:0.2;stroke-width:1.0\" x1=\"185.20672449737006\" x2=\"388.26763585230248\" y1=\"70.623465528300244\" y2=\"60.0\"></line><line style=\"stroke:rgb(0%,0%,0%);stroke-opacity:0.2;stroke-width:1.0\" x1=\"200.5660580991437\" x2=\"201.06851965809244\" y1=\"132.29059427914729\" y2=\"104.8856352431492\"></line><line style=\"stroke:rgb(0%,0%,0%);stroke-opacity:0.2;stroke-width:1.0\" x1=\"200.5660580991437\" x2=\"257.65661031486172\" y1=\"132.29059427914729\" y2=\"215.11709389028388\"></line><line style=\"stroke:rgb(0%,0%,0%);stroke-opacity:0.2;stroke-width:1.0\" x1=\"200.5660580991437\" x2=\"267.53773242557264\" y1=\"132.29059427914729\" y2=\"84.422370435142426\"></line><line style=\"stroke:rgb(0%,0%,0%);stroke-opacity:0.2;stroke-width:1.0\" x1=\"200.5660580991437\" x2=\"388.26763585230248\" y1=\"132.29059427914729\" y2=\"60.0\"></line><line style=\"stroke:rgb(0%,0%,0%);stroke-opacity:0.2;stroke-width:1.0\" x1=\"201.06851965809244\" x2=\"257.65661031486172\" y1=\"104.8856352431492\" y2=\"215.11709389028388\"></line><line style=\"stroke:rgb(0%,0%,0%);stroke-opacity:0.2;stroke-width:1.0\" x1=\"201.06851965809244\" x2=\"267.53773242557264\" y1=\"104.8856352431492\" y2=\"84.422370435142426\"></line><line style=\"stroke:rgb(0%,0%,0%);stroke-opacity:0.2;stroke-width:1.0\" x1=\"201.06851965809244\" x2=\"388.26763585230248\" y1=\"104.8856352431492\" y2=\"60.0\"></line><line style=\"stroke:rgb(0%,0%,0%);stroke-opacity:0.2;stroke-width:1.0\" x1=\"257.65661031486172\" x2=\"267.53773242557264\" y1=\"215.11709389028388\" y2=\"84.422370435142426\"></line><line style=\"stroke:rgb(0%,0%,0%);stroke-opacity:0.2;stroke-width:1.0\" x1=\"257.65661031486172\" x2=\"388.26763585230248\" y1=\"215.11709389028388\" y2=\"60.0\"></line><line style=\"stroke:rgb(0%,0%,0%);stroke-opacity:0.2;stroke-width:1.0\" x1=\"257.65661031486172\" x2=\"485.69670785602938\" y1=\"215.11709389028388\" y2=\"198.40243664724508\"></line><line style=\"stroke:rgb(0%,0%,0%);stroke-opacity:0.2;stroke-width:1.0\" x1=\"257.65661031486172\" x2=\"491.90716176860087\" y1=\"215.11709389028388\" y2=\"122.33173142647715\"></line><line style=\"stroke:rgb(0%,0%,0%);stroke-opacity:0.2;stroke-width:1.0\" x1=\"267.53773242557264\" x2=\"388.26763585230248\" y1=\"84.422370435142426\" y2=\"60.0\"></line><line style=\"stroke:rgb(0%,0%,0%);stroke-opacity:0.2;stroke-width:1.0\" x1=\"267.53773242557264\" x2=\"485.69670785602938\" y1=\"84.422370435142426\" y2=\"198.40243664724508\"></line><line style=\"stroke:rgb(0%,0%,0%);stroke-opacity:0.2;stroke-width:1.0\" x1=\"267.53773242557264\" x2=\"491.90716176860087\" y1=\"84.422370435142426\" y2=\"122.33173142647715\"></line><line style=\"stroke:rgb(0%,0%,0%);stroke-opacity:0.2;stroke-width:1.0\" x1=\"286.95640652506216\" x2=\"322.7513262890343\" y1=\"535.00038109159391\" y2=\"540.0\"></line><line style=\"stroke:rgb(0%,0%,0%);stroke-opacity:0.2;stroke-width:1.0\" x1=\"286.95640652506216\" x2=\"445.98445584865971\" y1=\"535.00038109159391\" y2=\"441.61388898694054\"></line><line style=\"stroke:rgb(0%,0%,0%);stroke-opacity:0.2;stroke-width:1.0\" x1=\"286.95640652506216\" x2=\"513.75459217982461\" y1=\"535.00038109159391\" y2=\"498.68141315287471\"></line><line style=\"stroke:rgb(0%,0%,0%);stroke-opacity:0.2;stroke-width:1.0\" x1=\"322.7513262890343\" x2=\"445.98445584865971\" y1=\"540.0\" y2=\"441.61388898694054\"></line><line style=\"stroke:rgb(0%,0%,0%);stroke-opacity:0.2;stroke-width:1.0\" x1=\"322.7513262890343\" x2=\"513.75459217982461\" y1=\"540.0\" y2=\"498.68141315287471\"></line><line style=\"stroke:rgb(0%,0%,0%);stroke-opacity:0.2;stroke-width:1.0\" x1=\"388.26763585230248\" x2=\"485.69670785602938\" y1=\"60.0\" y2=\"198.40243664724508\"></line><line style=\"stroke:rgb(0%,0%,0%);stroke-opacity:0.2;stroke-width:1.0\" x1=\"388.26763585230248\" x2=\"491.90716176860087\" y1=\"60.0\" y2=\"122.33173142647715\"></line><line style=\"stroke:rgb(0%,0%,0%);stroke-opacity:0.2;stroke-width:1.0\" x1=\"445.98445584865971\" x2=\"495.7129768058121\" y1=\"441.61388898694054\" y2=\"328.34029616353911\"></line><line style=\"stroke:rgb(0%,0%,0%);stroke-opacity:0.2;stroke-width:1.0\" x1=\"445.98445584865971\" x2=\"513.75459217982461\" y1=\"441.61388898694054\" y2=\"498.68141315287471\"></line><line style=\"stroke:rgb(0%,0%,0%);stroke-opacity:0.2;stroke-width:1.0\" x1=\"445.98445584865971\" x2=\"540.0\" y1=\"441.61388898694054\" y2=\"402.87725455590885\"></line><line style=\"stroke:rgb(0%,0%,0%);stroke-opacity:0.2;stroke-width:1.0\" x1=\"485.69670785602938\" x2=\"491.90716176860087\" y1=\"198.40243664724508\" y2=\"122.33173142647715\"></line><line style=\"stroke:rgb(0%,0%,0%);stroke-opacity:0.2;stroke-width:1.0\" x1=\"485.69670785602938\" x2=\"495.7129768058121\" y1=\"198.40243664724508\" y2=\"328.34029616353911\"></line><line style=\"stroke:rgb(0%,0%,0%);stroke-opacity:0.2;stroke-width:1.0\" x1=\"485.69670785602938\" x2=\"540.0\" y1=\"198.40243664724508\" y2=\"402.87725455590885\"></line><line style=\"stroke:rgb(0%,0%,0%);stroke-opacity:0.2;stroke-width:1.0\" x1=\"491.90716176860087\" x2=\"495.7129768058121\" y1=\"122.33173142647715\" y2=\"328.34029616353911\"></line><line style=\"stroke:rgb(0%,0%,0%);stroke-opacity:0.2;stroke-width:1.0\" x1=\"495.7129768058121\" x2=\"513.75459217982461\" y1=\"328.34029616353911\" y2=\"498.68141315287471\"></line><line style=\"stroke:rgb(0%,0%,0%);stroke-opacity:0.2;stroke-width:1.0\" x1=\"495.7129768058121\" x2=\"540.0\" y1=\"328.34029616353911\" y2=\"402.87725455590885\"></line><line style=\"stroke:rgb(0%,0%,0%);stroke-opacity:0.2;stroke-width:1.0\" x1=\"513.75459217982461\" x2=\"540.0\" y1=\"498.68141315287471\" y2=\"402.87725455590885\"></line></g><g class=\"toyplot-Vertices\"><g class=\"toyplot-Datum\" style=\"fill:rgb(100%,100%,100%);fill-opacity:1.0;opacity:1.0;stroke:rgb(0%,0%,0%);stroke-opacity:1.0\"><title>0.451648408261</title><circle cx=\"60.0\" cy=\"456.7459078597488\" r=\"5.0\"></circle></g><g class=\"toyplot-Datum\" style=\"fill:rgb(100%,100%,84.2%);fill-opacity:1.0;opacity:1.0;stroke:rgb(0%,0%,0%);stroke-opacity:1.0\"><title>0.982004741522</title><circle cx=\"85.661996503645682\" cy=\"397.70137281212169\" r=\"5.0\"></circle></g><g class=\"toyplot-Datum\" style=\"fill:rgb(100%,100%,68.4%);fill-opacity:1.0;opacity:1.0;stroke:rgb(0%,0%,0%);stroke-opacity:1.0\"><title>0.123942700487</title><circle cx=\"86.848248354533979\" cy=\"185.88019921322888\" r=\"5.0\"></circle></g><g class=\"toyplot-Datum\" style=\"fill:rgb(100%,100%,52.6%);fill-opacity:1.0;opacity:1.0;stroke:rgb(0%,0%,0%);stroke-opacity:1.0\"><title>0.119380897926</title><circle cx=\"147.75898104910263\" cy=\"466.80196297486236\" r=\"5.0\"></circle></g><g class=\"toyplot-Datum\" style=\"fill:rgb(100%,100%,36.8%);fill-opacity:1.0;opacity:1.0;stroke:rgb(0%,0%,0%);stroke-opacity:1.0\"><title>0.738523056143</title><circle cx=\"159.44494270113557\" cy=\"287.69714116301338\" r=\"5.0\"></circle></g><g class=\"toyplot-Datum\" style=\"fill:rgb(100%,100%,21.1%);fill-opacity:1.0;opacity:1.0;stroke:rgb(0%,0%,0%);stroke-opacity:1.0\"><title>0.587303633464</title><circle cx=\"161.37820277775904\" cy=\"120.79026608406406\" r=\"5.0\"></circle></g><g class=\"toyplot-Datum\" style=\"fill:rgb(100%,100%,5.26%);fill-opacity:1.0;opacity:1.0;stroke:rgb(0%,0%,0%);stroke-opacity:1.0\"><title>0.47163253432</title><circle cx=\"185.20672449737006\" cy=\"70.623465528300244\" r=\"5.0\"></circle></g><g class=\"toyplot-Datum\" style=\"fill:rgb(100%,96.3%,0%);fill-opacity:1.0;opacity:1.0;stroke:rgb(0%,0%,0%);stroke-opacity:1.0\"><title>0.107126817194</title><circle cx=\"200.5660580991437\" cy=\"132.29059427914729\" r=\"5.0\"></circle></g><g class=\"toyplot-Datum\" style=\"fill:rgb(100%,90.7%,0%);fill-opacity:1.0;opacity:1.0;stroke:rgb(0%,0%,0%);stroke-opacity:1.0\"><title>0.229218565461</title><circle cx=\"201.06851965809244\" cy=\"104.8856352431492\" r=\"5.0\"></circle></g><g class=\"toyplot-Datum\" style=\"fill:rgb(100%,85.1%,0%);fill-opacity:1.0;opacity:1.0;stroke:rgb(0%,0%,0%);stroke-opacity:1.0\"><title>0.899965194837</title><circle cx=\"257.65661031486172\" cy=\"215.11709389028388\" r=\"5.0\"></circle></g><g class=\"toyplot-Datum\" style=\"fill:rgb(100%,79.6%,0%);fill-opacity:1.0;opacity:1.0;stroke:rgb(0%,0%,0%);stroke-opacity:1.0\"><title>0.416753537803</title><circle cx=\"267.53773242557264\" cy=\"84.422370435142426\" r=\"5.0\"></circle></g><g class=\"toyplot-Datum\" style=\"fill:rgb(100%,74%,0%);fill-opacity:1.0;opacity:1.0;stroke:rgb(0%,0%,0%);stroke-opacity:1.0\"><title>0.535851662532</title><circle cx=\"286.95640652506216\" cy=\"535.00038109159391\" r=\"5.0\"></circle></g><g class=\"toyplot-Datum\" style=\"fill:rgb(100%,68.4%,0%);fill-opacity:1.0;opacity:1.0;stroke:rgb(0%,0%,0%);stroke-opacity:1.0\"><title>0.00620851658713</title><circle cx=\"322.7513262890343\" cy=\"540.0\" r=\"5.0\"></circle></g><g class=\"toyplot-Datum\" style=\"fill:rgb(100%,61.3%,0%);fill-opacity:1.0;opacity:1.0;stroke:rgb(0%,0%,0%);stroke-opacity:1.0\"><title>0.30064170577</title><circle cx=\"388.26763585230248\" cy=\"60.0\" r=\"5.0\"></circle></g><g class=\"toyplot-Datum\" style=\"fill:rgb(100%,51.1%,0%);fill-opacity:1.0;opacity:1.0;stroke:rgb(0%,0%,0%);stroke-opacity:1.0\"><title>0.436893172176</title><circle cx=\"445.98445584865971\" cy=\"441.61388898694054\" r=\"5.0\"></circle></g><g class=\"toyplot-Datum\" style=\"fill:rgb(100%,40.9%,0%);fill-opacity:1.0;opacity:1.0;stroke:rgb(0%,0%,0%);stroke-opacity:1.0\"><title>0.612148997066</title><circle cx=\"485.69670785602938\" cy=\"198.40243664724508\" r=\"5.0\"></circle></g><g class=\"toyplot-Datum\" style=\"fill:rgb(100%,30.7%,0%);fill-opacity:1.0;opacity:1.0;stroke:rgb(0%,0%,0%);stroke-opacity:1.0\"><title>0.918198075381</title><circle cx=\"491.90716176860087\" cy=\"122.33173142647715\" r=\"5.0\"></circle></g><g class=\"toyplot-Datum\" style=\"fill:rgb(100%,20.4%,0%);fill-opacity:1.0;opacity:1.0;stroke:rgb(0%,0%,0%);stroke-opacity:1.0\"><title>0.625736669963</title><circle cx=\"495.7129768058121\" cy=\"328.34029616353911\" r=\"5.0\"></circle></g><g class=\"toyplot-Datum\" style=\"fill:rgb(100%,10.2%,0%);fill-opacity:1.0;opacity:1.0;stroke:rgb(0%,0%,0%);stroke-opacity:1.0\"><title>0.705997565082</title><circle cx=\"513.75459217982461\" cy=\"498.68141315287471\" r=\"5.0\"></circle></g><g class=\"toyplot-Datum\" style=\"fill:rgb(100%,0%,0%);fill-opacity:1.0;opacity:1.0;stroke:rgb(0%,0%,0%);stroke-opacity:1.0\"><title>0.14983371599</title><circle cx=\"540.0\" cy=\"402.87725455590885\" r=\"5.0\"></circle></g></g></g></g><g class=\"toyplot-coordinates\" style=\"visibility:hidden\"><rect height=\"14.0\" style=\"fill:rgb(100%,100%,100%);fill-opacity:1.0;opacity:0.75;stroke:none\" width=\"90.0\" x=\"450.0\" y=\"60.0\"></rect><text style=\"alignment-baseline:middle;font-size:10px;font-weight:normal;stroke:none;text-anchor:middle\" x=\"495.0\" y=\"67.0\"></text></g></g></svg><div class=\"toyplot-controls\"><ul class=\"toyplot-mark-popup\" onmouseleave=\"this.style.visibility='hidden'\" style=\"background:rgba(0%,0%,0%,0.75);border:0;border-radius:6px;color:white;cursor:default;list-style:none;margin:0;padding:5px;position:fixed;visibility:hidden\"><li class=\"toyplot-mark-popup-title\" style=\"color:lightgray;cursor:default;padding:5px;list-style:none;margin:0;\"></li><li class=\"toyplot-mark-popup-save-csv\" onmouseout=\"this.style.color='white';this.style.background='steelblue'\" onmouseover=\"this.style.color='steelblue';this.style.background='white'\" style=\"border-radius:3px;padding:5px;list-style:none;margin:0;\">Save as .csv</li></ul><script>\n",
       "(function()\n",
       "{\n",
       "  if(window.CSS !== undefined && window.CSS.supports !== undefined)\n",
       "  {\n",
       "    if(!window.CSS.supports(\"alignment-baseline\", \"middle\"))\n",
       "    {\n",
       "      var re = /\\s*alignment-baseline\\s*:\\s*([^;\\s]*)\\s*/;\n",
       "      var text = document.querySelectorAll(\"#t085a6e53a60e46b6a680e7bd4989453c text\");\n",
       "      for(var i = 0; i != text.length; ++i)\n",
       "      {\n",
       "        var match = re.exec(text[i].attributes.style.value);\n",
       "        if(match)\n",
       "        {\n",
       "          if(match[1] == \"middle\")\n",
       "          {\n",
       "            var style = getComputedStyle(text[i]);\n",
       "            var font_size = style.fontSize.substr(0, style.fontSize.length - 2);\n",
       "            var dy = text[i].dy.baseVal.length ? text[i].dy.baseVal[0].value : 0;\n",
       "            dy += 0.4 * font_size;\n",
       "            text[i].setAttribute(\"dy\", dy);\n",
       "          }\n",
       "        }\n",
       "      }\n",
       "    }\n",
       "    if(!window.CSS.supports(\"baseline-shift\", \"0\"))\n",
       "    {\n",
       "      var re = /\\s*baseline-shift\\s*:\\s*([^;\\s]*)\\s*/;\n",
       "      var text = document.querySelectorAll(\"#t085a6e53a60e46b6a680e7bd4989453c text\");\n",
       "      for(var i = 0; i != text.length; ++i)\n",
       "      {\n",
       "        var match = re.exec(text[i].attributes.style.value);\n",
       "        if(match)\n",
       "        {\n",
       "          var style = getComputedStyle(text[i]);\n",
       "          var font_size = style.fontSize.substr(0, style.fontSize.length - 2);\n",
       "          var percent = 0.01 * match[1].substr(0, match[1].length-1);\n",
       "          var dy = text[i].dy.baseVal.length ? text[i].dy.baseVal[0].value : 0;\n",
       "          dy -= percent * font_size\n",
       "          text[i].setAttribute(\"dy\", dy);\n",
       "        }\n",
       "      }\n",
       "    }\n",
       "  }\n",
       "})();\n",
       "</script><script>\n",
       "(function()\n",
       "{\n",
       "  var axes = {\"t90c9caac00c64888b740a7cd9741ca24\": {\"x\": [{\"domain\": {\"bounds\": {\"max\": Infinity, \"min\": -Infinity}, \"max\": 0.9648090328594654, \"min\": 0.050204105198311089}, \"range\": {\"bounds\": {\"max\": Infinity, \"min\": -Infinity}, \"max\": 540.0, \"min\": 60.0}, \"scale\": \"linear\"}], \"y\": [{\"domain\": {\"bounds\": {\"max\": Infinity, \"min\": -Infinity}, \"max\": 0.99880316293408433, \"min\": 0.0038908005345575924}, \"range\": {\"bounds\": {\"max\": -Infinity, \"min\": Infinity}, \"max\": 60.0, \"min\": 540.0}, \"scale\": \"linear\"}]}};\n",
       "\n",
       "  function sign(x)\n",
       "  {\n",
       "    return x < 0 ? -1 : x > 0 ? 1 : 0;\n",
       "  }\n",
       "\n",
       "  function _mix(a, b, amount)\n",
       "  {\n",
       "    return ((1.0 - amount) * a) + (amount * b);\n",
       "  }\n",
       "\n",
       "  function _log(x, base)\n",
       "  {\n",
       "    return Math.log(Math.abs(x)) / Math.log(base);\n",
       "  }\n",
       "\n",
       "  function _in_range(a, x, b)\n",
       "  {\n",
       "    var left = Math.min(a, b);\n",
       "    var right = Math.max(a, b);\n",
       "    return left <= x && x <= right;\n",
       "  }\n",
       "\n",
       "  function to_domain(projection, range)\n",
       "  {\n",
       "    for(var i = 0; i != projection.length; ++i)\n",
       "    {\n",
       "      var segment = projection[i];\n",
       "      if(_in_range(segment.range.bounds.min, range, segment.range.bounds.max))\n",
       "      {\n",
       "        if(segment.scale == \"linear\")\n",
       "        {\n",
       "          var amount = (range - segment.range.min) / (segment.range.max - segment.range.min);\n",
       "          return _mix(segment.domain.min, segment.domain.max, amount)\n",
       "        }\n",
       "        else if(segment.scale[0] == \"log\")\n",
       "        {\n",
       "          var amount = (range - segment.range.min) / (segment.range.max - segment.range.min);\n",
       "          var base = segment.scale[1];\n",
       "          return sign(segment.domain.min) * Math.pow(base, _mix(_log(segment.domain.min, base), _log(segment.domain.max, base), amount));\n",
       "        }\n",
       "      }\n",
       "    }\n",
       "  }\n",
       "\n",
       "  // Compute mouse coordinates relative to a DOM object, with thanks to d3js.org, where this code originated.\n",
       "  function d3_mousePoint(container, e)\n",
       "  {\n",
       "    if (e.changedTouches) e = e.changedTouches[0];\n",
       "    var svg = container.ownerSVGElement || container;\n",
       "    if (svg.createSVGPoint) {\n",
       "      var point = svg.createSVGPoint();\n",
       "      point.x = e.clientX, point.y = e.clientY;\n",
       "      point = point.matrixTransform(container.getScreenCTM().inverse());\n",
       "      return [point.x, point.y];\n",
       "    }\n",
       "    var rect = container.getBoundingClientRect();\n",
       "    return [e.clientX - rect.left - container.clientLeft, e.clientY - rect.top - container.clientTop];\n",
       "  };\n",
       "\n",
       "  function display_coordinates(e)\n",
       "  {\n",
       "    var dom_axes = e.currentTarget.parentElement;\n",
       "    var data = axes[dom_axes.id];\n",
       "\n",
       "    point = d3_mousePoint(e.target, e);\n",
       "    var x = Number(to_domain(data[\"x\"], point[0])).toFixed(2);\n",
       "    var y = Number(to_domain(data[\"y\"], point[1])).toFixed(2);\n",
       "\n",
       "    var coordinates = dom_axes.querySelectorAll(\".toyplot-coordinates\");\n",
       "    for(var i = 0; i != coordinates.length; ++i)\n",
       "    {\n",
       "      coordinates[i].style.visibility = \"visible\";\n",
       "      coordinates[i].querySelector(\"text\").textContent = \"x=\" + x + \" y=\" + y;\n",
       "    }\n",
       "  }\n",
       "\n",
       "  function clear_coordinates(e)\n",
       "  {\n",
       "    var dom_axes = e.currentTarget.parentElement;\n",
       "    var coordinates = dom_axes.querySelectorAll(\".toyplot-coordinates\");\n",
       "    for(var i = 0; i != coordinates.length; ++i)\n",
       "      coordinates[i].style.visibility = \"hidden\";\n",
       "  }\n",
       "\n",
       "  for(var axes_id in axes)\n",
       "  {\n",
       "    var event_target = document.querySelector(\"#\" + axes_id + \" .toyplot-coordinate-events\");\n",
       "    event_target.onmousemove = display_coordinates;\n",
       "    event_target.onmouseout = clear_coordinates;\n",
       "  }\n",
       "})();\n",
       "</script></div></div>"
      ],
      "text/plain": [
       "<toyplot.canvas.Canvas at 0x1094fced0>"
      ]
     },
     "metadata": {},
     "output_type": "display_data"
    }
   ],
   "source": [
    "colormap = toyplot.color.LinearMap(toyplot.color.Palette([\"white\", \"yellow\", \"orange\", \"red\"]))\n",
    "\n",
    "ecolor = numpy.random.uniform(size=len(graph.es))\n",
    "vcolor = numpy.random.uniform(size=len(graph.vs))\n",
    "\n",
    "canvas = toyplot.Canvas(style={\"background-color\":\"#bbb\"})\n",
    "axes = canvas.axes(show=False)\n",
    "axes.graph(\n",
    "    x,\n",
    "    y,\n",
    "    source,\n",
    "    target,\n",
    "    vcolor=colormap,\n",
    "    vmarker=\"o\",\n",
    "    vsize=100,\n",
    "    vopacity=1,\n",
    "    vtitle=vcolor,\n",
    "    vstyle={\"stroke\":\"black\"},\n",
    "    ecolor=\"black\",\n",
    "    eopacity=0.2,\n",
    "    estyle={},\n",
    ")"
   ]
  },
  {
   "cell_type": "code",
   "execution_count": null,
   "metadata": {
    "collapsed": true
   },
   "outputs": [],
   "source": []
  }
 ],
 "metadata": {
  "kernelspec": {
   "display_name": "Python 2",
   "language": "python",
   "name": "python2"
  },
  "language_info": {
   "codemirror_mode": {
    "name": "ipython",
    "version": 2
   },
   "file_extension": ".py",
   "mimetype": "text/x-python",
   "name": "python",
   "nbconvert_exporter": "python",
   "pygments_lexer": "ipython2",
   "version": "2.7.10"
  }
 },
 "nbformat": 4,
 "nbformat_minor": 0
}

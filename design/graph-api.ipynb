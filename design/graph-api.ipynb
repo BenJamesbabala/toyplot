{
 "cells": [
  {
   "cell_type": "markdown",
   "metadata": {},
   "source": [
    "Allowed input formats:\n",
    "\n",
    "```python\n",
    "toyplot.graph(edges) # Induce vertices from edges\n",
    "toyplot.graph(edges, vcount) # In case there are unconnected vertices\n",
    "toyplot.graph(sources, targets) # Induce vertices from edges\n",
    "toyplot.graph(sources, targets, vcount) # In case there are unconnected vertices\n",
    "```"
   ]
  },
  {
   "cell_type": "code",
   "execution_count": 1,
   "metadata": {
    "collapsed": false
   },
   "outputs": [],
   "source": [
    "import numpy\n",
    "import toyplot.color\n",
    "import toyplot.generate"
   ]
  },
  {
   "cell_type": "code",
   "execution_count": 2,
   "metadata": {
    "collapsed": true
   },
   "outputs": [],
   "source": [
    "numpy.random.seed(1234)"
   ]
  },
  {
   "cell_type": "code",
   "execution_count": 3,
   "metadata": {
    "collapsed": false
   },
   "outputs": [],
   "source": [
    "# Random graph\n",
    "#vertices = [\"a\", \"b\", \"c\", \"d\", \"e\", \"f\", \"g\", \"h\", \"i\", \"j\"]\n",
    "#edges = numpy.random.choice(vertices, (40, 2))\n",
    "\n",
    "# Random tree\n",
    "#edges = toyplot.generate.prufer_tree(numpy.random.choice(4, 12))\n",
    "#edges = toyplot.generate.prufer_tree([1,1])\n",
    "\n",
    "reingold_a = numpy.array([[0,1],[0,2],[1,3],[1,4],[2,5],[2,6],[3,7],[3,8],[4,9],[4,10],[6,11],[9,12],[9,13],[10,14],[10,15],[12,16],[14,17]])\n",
    "reingold_b = numpy.array([[0,1],[0,2],[0,3],[0,4],[0,5],[0,6],[1,7],[1,8],[1,9],[1,10],[1,11],[1,12],[1,13],[4,14],[6,15],[13,16],[15,17],[15,18],[15,19],[15,20],[15,21],[15,22],[15,23]])\n",
    "reingold_c = numpy.array([[0,1],[0,2],[1,3],[2,4],[2,5],[3,6],[4,7],[5,8],[5,9],[6,10],[7,11],[9,12],[10,13],[12,14]])\n",
    "# Ring graph\n",
    "#source = numpy.arange(6)\n",
    "#target = (source + 1) % 6\n",
    "#edges = numpy.column_stack((source, target))\n",
    "                          \n",
    "edges = reingold_c"
   ]
  },
  {
   "cell_type": "code",
   "execution_count": 7,
   "metadata": {
    "collapsed": false,
    "scrolled": false
   },
   "outputs": [
    {
     "name": "stderr",
     "output_type": "stream",
     "text": [
      "INFO:toyplot:Graph layout time: 0.674962997437 ms\n"
     ]
    },
    {
     "name": "stdout",
     "output_type": "stream",
     "text": [
      "CPU times: user 5.04 ms, sys: 1.59 ms, total: 6.63 ms\n",
      "Wall time: 5.3 ms\n"
     ]
    },
    {
     "data": {
      "text/html": [
       "<div align=\"center\" class=\"toyplot\" id=\"t68731f99a1924ac5af87a39dba0528a9\"><svg height=\"600px\" id=\"ta4ab44713dfc404cbb21d9a7c2382971\" preserveAspectRatio=\"xMidyMid meet\" style=\"background-color:transparent;fill:rgb(16.1%,15.3%,14.1%);fill-opacity:1.0;font-family:helvetica;font-size:12px;opacity:1.0;stroke:rgb(16.1%,15.3%,14.1%);stroke-opacity:1.0;stroke-width:1.0\" viewBox=\"0 0 600 600\" width=\"600px\" xmlns=\"http://www.w3.org/2000/svg\" xmlns:toyplot=\"http://www.sandia.gov/toyplot\"><g class=\"toyplot-axes-Cartesian\" id=\"tf901fa412f0f48ed91a8609c102e8b63\"><clipPath id=\"tb28dfb55a6364cb287e7c919656b3346\"><rect height=\"500.0\" width=\"500.0\" x=\"50.0\" y=\"50.0\"></rect></clipPath><g class=\"toyplot-coordinate-events\" clip-path=\"url(#tb28dfb55a6364cb287e7c919656b3346)\" style=\"cursor:crosshair\"><rect height=\"500.0\" style=\"pointer-events:all;visibility:hidden\" width=\"500.0\" x=\"50.0\" y=\"50.0\"></rect><g class=\"toyplot-mark-Graph\" id=\"t3b2720370e8d4dcf8aa2856169b870f8\"><g class=\"toyplot-Edges\"><path d=\"M 255.0 150.0 L 165.0 210.0\" style=\"fill:none;stroke:rgb(0%,0%,0%);stroke-opacity:0.2;stroke-width:1.0\"></path><path d=\"M 255.0 150.0 L 345.0 210.0\" style=\"fill:none;stroke:rgb(0%,0%,0%);stroke-opacity:0.2;stroke-width:1.0\"></path><path d=\"M 165.0 210.0 L 165.0 270.0\" style=\"fill:none;stroke:rgb(0%,0%,0%);stroke-opacity:0.2;stroke-width:1.0\"></path><path d=\"M 345.0 210.0 L 285.0 270.0\" style=\"fill:none;stroke:rgb(0%,0%,0%);stroke-opacity:0.2;stroke-width:1.0\"></path><path d=\"M 345.0 210.0 L 405.0 270.0\" style=\"fill:none;stroke:rgb(0%,0%,0%);stroke-opacity:0.2;stroke-width:1.0\"></path><path d=\"M 165.0 270.0 L 165.0 330.0\" style=\"fill:none;stroke:rgb(0%,0%,0%);stroke-opacity:0.2;stroke-width:1.0\"></path><path d=\"M 285.0 270.0 L 285.0 330.0\" style=\"fill:none;stroke:rgb(0%,0%,0%);stroke-opacity:0.2;stroke-width:1.0\"></path><path d=\"M 405.0 270.0 L 375.0 330.0\" style=\"fill:none;stroke:rgb(0%,0%,0%);stroke-opacity:0.2;stroke-width:1.0\"></path><path d=\"M 405.0 270.0 L 435.0 330.0\" style=\"fill:none;stroke:rgb(0%,0%,0%);stroke-opacity:0.2;stroke-width:1.0\"></path><path d=\"M 165.0 330.0 L 165.0 390.0\" style=\"fill:none;stroke:rgb(0%,0%,0%);stroke-opacity:0.2;stroke-width:1.0\"></path><path d=\"M 285.0 330.0 L 285.0 390.0\" style=\"fill:none;stroke:rgb(0%,0%,0%);stroke-opacity:0.2;stroke-width:1.0\"></path><path d=\"M 435.0 330.0 L 435.0 390.0\" style=\"fill:none;stroke:rgb(0%,0%,0%);stroke-opacity:0.2;stroke-width:1.0\"></path><path d=\"M 165.0 390.0 L 165.0 450.0\" style=\"fill:none;stroke:rgb(0%,0%,0%);stroke-opacity:0.2;stroke-width:1.0\"></path><path d=\"M 435.0 390.0 L 435.0 450.0\" style=\"fill:none;stroke:rgb(0%,0%,0%);stroke-opacity:0.2;stroke-width:1.0\"></path></g><g class=\"toyplot-Vertices\"><g class=\"toyplot-Datum\" style=\"fill:rgb(100%,100%,100%);fill-opacity:1.0;opacity:1.0;stroke:rgb(0%,0%,0%);stroke-opacity:1.0\"><circle cx=\"255.0\" cy=\"150.0\" r=\"20.0\"></circle></g><g class=\"toyplot-Datum\" style=\"fill:rgb(100%,100%,78.6%);fill-opacity:1.0;opacity:1.0;stroke:rgb(0%,0%,0%);stroke-opacity:1.0\"><circle cx=\"165.0\" cy=\"210.0\" r=\"20.0\"></circle></g><g class=\"toyplot-Datum\" style=\"fill:rgb(100%,100%,57.1%);fill-opacity:1.0;opacity:1.0;stroke:rgb(0%,0%,0%);stroke-opacity:1.0\"><circle cx=\"345.0\" cy=\"210.0\" r=\"20.0\"></circle></g><g class=\"toyplot-Datum\" style=\"fill:rgb(100%,100%,35.7%);fill-opacity:1.0;opacity:1.0;stroke:rgb(0%,0%,0%);stroke-opacity:1.0\"><circle cx=\"165.0\" cy=\"270.0\" r=\"20.0\"></circle></g><g class=\"toyplot-Datum\" style=\"fill:rgb(100%,100%,14.3%);fill-opacity:1.0;opacity:1.0;stroke:rgb(0%,0%,0%);stroke-opacity:1.0\"><circle cx=\"285.0\" cy=\"270.0\" r=\"20.0\"></circle></g><g class=\"toyplot-Datum\" style=\"fill:rgb(100%,97.5%,0%);fill-opacity:1.0;opacity:1.0;stroke:rgb(0%,0%,0%);stroke-opacity:1.0\"><circle cx=\"405.0\" cy=\"270.0\" r=\"20.0\"></circle></g><g class=\"toyplot-Datum\" style=\"fill:rgb(100%,89.9%,0%);fill-opacity:1.0;opacity:1.0;stroke:rgb(0%,0%,0%);stroke-opacity:1.0\"><circle cx=\"165.0\" cy=\"330.0\" r=\"20.0\"></circle></g><g class=\"toyplot-Datum\" style=\"fill:rgb(100%,82.4%,0%);fill-opacity:1.0;opacity:1.0;stroke:rgb(0%,0%,0%);stroke-opacity:1.0\"><circle cx=\"285.0\" cy=\"330.0\" r=\"20.0\"></circle></g><g class=\"toyplot-Datum\" style=\"fill:rgb(100%,74.8%,0%);fill-opacity:1.0;opacity:1.0;stroke:rgb(0%,0%,0%);stroke-opacity:1.0\"><circle cx=\"375.0\" cy=\"330.0\" r=\"20.0\"></circle></g><g class=\"toyplot-Datum\" style=\"fill:rgb(100%,67.2%,0%);fill-opacity:1.0;opacity:1.0;stroke:rgb(0%,0%,0%);stroke-opacity:1.0\"><circle cx=\"435.0\" cy=\"330.0\" r=\"20.0\"></circle></g><g class=\"toyplot-Datum\" style=\"fill:rgb(100%,55.5%,0%);fill-opacity:1.0;opacity:1.0;stroke:rgb(0%,0%,0%);stroke-opacity:1.0\"><circle cx=\"165.0\" cy=\"390.0\" r=\"20.0\"></circle></g><g class=\"toyplot-Datum\" style=\"fill:rgb(100%,41.6%,0%);fill-opacity:1.0;opacity:1.0;stroke:rgb(0%,0%,0%);stroke-opacity:1.0\"><circle cx=\"285.0\" cy=\"390.0\" r=\"20.0\"></circle></g><g class=\"toyplot-Datum\" style=\"fill:rgb(100%,27.7%,0%);fill-opacity:1.0;opacity:1.0;stroke:rgb(0%,0%,0%);stroke-opacity:1.0\"><circle cx=\"435.0\" cy=\"390.0\" r=\"20.0\"></circle></g><g class=\"toyplot-Datum\" style=\"fill:rgb(100%,13.9%,0%);fill-opacity:1.0;opacity:1.0;stroke:rgb(0%,0%,0%);stroke-opacity:1.0\"><circle cx=\"165.0\" cy=\"450.0\" r=\"20.0\"></circle></g><g class=\"toyplot-Datum\" style=\"fill:rgb(100%,0%,0%);fill-opacity:1.0;opacity:1.0;stroke:rgb(0%,0%,0%);stroke-opacity:1.0\"><circle cx=\"435.0\" cy=\"450.0\" r=\"20.0\"></circle></g></g></g></g><g class=\"toyplot-coordinates\" style=\"visibility:hidden\"><rect height=\"14.0\" style=\"fill:rgb(100%,100%,100%);fill-opacity:1.0;opacity:0.75;stroke:none\" width=\"90.0\" x=\"450.0\" y=\"60.0\"></rect><text style=\"alignment-baseline:middle;font-size:10px;font-weight:normal;stroke:none;text-anchor:middle\" x=\"495.0\" y=\"67.0\"></text></g></g></svg><div class=\"toyplot-controls\"><ul class=\"toyplot-mark-popup\" onmouseleave=\"this.style.visibility='hidden'\" style=\"background:rgba(0%,0%,0%,0.75);border:0;border-radius:6px;color:white;cursor:default;list-style:none;margin:0;padding:5px;position:fixed;visibility:hidden\"><li class=\"toyplot-mark-popup-title\" style=\"color:lightgray;cursor:default;padding:5px;list-style:none;margin:0;\"></li><li class=\"toyplot-mark-popup-save-csv\" onmouseout=\"this.style.color='white';this.style.background='steelblue'\" onmouseover=\"this.style.color='steelblue';this.style.background='white'\" style=\"border-radius:3px;padding:5px;list-style:none;margin:0;\">Save as .csv</li></ul><script>\n",
       "(function()\n",
       "{\n",
       "  if(window.CSS !== undefined && window.CSS.supports !== undefined)\n",
       "  {\n",
       "    if(!window.CSS.supports(\"alignment-baseline\", \"middle\"))\n",
       "    {\n",
       "      var re = /\\s*alignment-baseline\\s*:\\s*([^;\\s]*)\\s*/;\n",
       "      var text = document.querySelectorAll(\"#t68731f99a1924ac5af87a39dba0528a9 text\");\n",
       "      for(var i = 0; i != text.length; ++i)\n",
       "      {\n",
       "        var match = re.exec(text[i].attributes.style.value);\n",
       "        if(match)\n",
       "        {\n",
       "          if(match[1] == \"middle\")\n",
       "          {\n",
       "            var style = getComputedStyle(text[i]);\n",
       "            var font_size = style.fontSize.substr(0, style.fontSize.length - 2);\n",
       "            var dy = text[i].dy.baseVal.length ? text[i].dy.baseVal[0].value : 0;\n",
       "            dy += 0.4 * font_size;\n",
       "            text[i].setAttribute(\"dy\", dy);\n",
       "          }\n",
       "        }\n",
       "      }\n",
       "    }\n",
       "    if(!window.CSS.supports(\"baseline-shift\", \"0\"))\n",
       "    {\n",
       "      var re = /\\s*baseline-shift\\s*:\\s*([^;\\s]*)\\s*/;\n",
       "      var text = document.querySelectorAll(\"#t68731f99a1924ac5af87a39dba0528a9 text\");\n",
       "      for(var i = 0; i != text.length; ++i)\n",
       "      {\n",
       "        var match = re.exec(text[i].attributes.style.value);\n",
       "        if(match)\n",
       "        {\n",
       "          var style = getComputedStyle(text[i]);\n",
       "          var font_size = style.fontSize.substr(0, style.fontSize.length - 2);\n",
       "          var percent = 0.01 * match[1].substr(0, match[1].length-1);\n",
       "          var dy = text[i].dy.baseVal.length ? text[i].dy.baseVal[0].value : 0;\n",
       "          dy -= percent * font_size\n",
       "          text[i].setAttribute(\"dy\", dy);\n",
       "        }\n",
       "      }\n",
       "    }\n",
       "  }\n",
       "})();\n",
       "</script><script>\n",
       "(function()\n",
       "{\n",
       "  var axes = {\"tf901fa412f0f48ed91a8609c102e8b63\": {\"x\": [{\"domain\": {\"bounds\": {\"max\": Infinity, \"min\": -Infinity}, \"max\": 3.25, \"min\": -1.75}, \"range\": {\"bounds\": {\"max\": Infinity, \"min\": -Infinity}, \"max\": 450.0, \"min\": 150.0}, \"scale\": \"linear\"}], \"y\": [{\"domain\": {\"bounds\": {\"max\": Infinity, \"min\": -Infinity}, \"max\": 0.0, \"min\": -5.0}, \"range\": {\"bounds\": {\"max\": -Infinity, \"min\": Infinity}, \"max\": 150.0, \"min\": 450.0}, \"scale\": \"linear\"}]}};\n",
       "\n",
       "  function sign(x)\n",
       "  {\n",
       "    return x < 0 ? -1 : x > 0 ? 1 : 0;\n",
       "  }\n",
       "\n",
       "  function _mix(a, b, amount)\n",
       "  {\n",
       "    return ((1.0 - amount) * a) + (amount * b);\n",
       "  }\n",
       "\n",
       "  function _log(x, base)\n",
       "  {\n",
       "    return Math.log(Math.abs(x)) / Math.log(base);\n",
       "  }\n",
       "\n",
       "  function _in_range(a, x, b)\n",
       "  {\n",
       "    var left = Math.min(a, b);\n",
       "    var right = Math.max(a, b);\n",
       "    return left <= x && x <= right;\n",
       "  }\n",
       "\n",
       "  function to_domain(projection, range)\n",
       "  {\n",
       "    for(var i = 0; i != projection.length; ++i)\n",
       "    {\n",
       "      var segment = projection[i];\n",
       "      if(_in_range(segment.range.bounds.min, range, segment.range.bounds.max))\n",
       "      {\n",
       "        if(segment.scale == \"linear\")\n",
       "        {\n",
       "          var amount = (range - segment.range.min) / (segment.range.max - segment.range.min);\n",
       "          return _mix(segment.domain.min, segment.domain.max, amount)\n",
       "        }\n",
       "        else if(segment.scale[0] == \"log\")\n",
       "        {\n",
       "          var amount = (range - segment.range.min) / (segment.range.max - segment.range.min);\n",
       "          var base = segment.scale[1];\n",
       "          return sign(segment.domain.min) * Math.pow(base, _mix(_log(segment.domain.min, base), _log(segment.domain.max, base), amount));\n",
       "        }\n",
       "      }\n",
       "    }\n",
       "  }\n",
       "\n",
       "  // Compute mouse coordinates relative to a DOM object, with thanks to d3js.org, where this code originated.\n",
       "  function d3_mousePoint(container, e)\n",
       "  {\n",
       "    if (e.changedTouches) e = e.changedTouches[0];\n",
       "    var svg = container.ownerSVGElement || container;\n",
       "    if (svg.createSVGPoint) {\n",
       "      var point = svg.createSVGPoint();\n",
       "      point.x = e.clientX, point.y = e.clientY;\n",
       "      point = point.matrixTransform(container.getScreenCTM().inverse());\n",
       "      return [point.x, point.y];\n",
       "    }\n",
       "    var rect = container.getBoundingClientRect();\n",
       "    return [e.clientX - rect.left - container.clientLeft, e.clientY - rect.top - container.clientTop];\n",
       "  };\n",
       "\n",
       "  function display_coordinates(e)\n",
       "  {\n",
       "    var dom_axes = e.currentTarget.parentElement;\n",
       "    var data = axes[dom_axes.id];\n",
       "\n",
       "    point = d3_mousePoint(e.target, e);\n",
       "    var x = Number(to_domain(data[\"x\"], point[0])).toFixed(2);\n",
       "    var y = Number(to_domain(data[\"y\"], point[1])).toFixed(2);\n",
       "\n",
       "    var coordinates = dom_axes.querySelectorAll(\".toyplot-coordinates\");\n",
       "    for(var i = 0; i != coordinates.length; ++i)\n",
       "    {\n",
       "      coordinates[i].style.visibility = \"visible\";\n",
       "      coordinates[i].querySelector(\"text\").textContent = \"x=\" + x + \" y=\" + y;\n",
       "    }\n",
       "  }\n",
       "\n",
       "  function clear_coordinates(e)\n",
       "  {\n",
       "    var dom_axes = e.currentTarget.parentElement;\n",
       "    var coordinates = dom_axes.querySelectorAll(\".toyplot-coordinates\");\n",
       "    for(var i = 0; i != coordinates.length; ++i)\n",
       "      coordinates[i].style.visibility = \"hidden\";\n",
       "  }\n",
       "\n",
       "  for(var axes_id in axes)\n",
       "  {\n",
       "    var event_target = document.querySelector(\"#\" + axes_id + \" .toyplot-coordinate-events\");\n",
       "    event_target.onmousemove = display_coordinates;\n",
       "    event_target.onmouseout = clear_coordinates;\n",
       "  }\n",
       "})();\n",
       "</script></div></div>"
      ],
      "text/plain": [
       "<toyplot.canvas.Canvas at 0x1086146d0>"
      ]
     },
     "metadata": {},
     "output_type": "display_data"
    }
   ],
   "source": [
    "%%time\n",
    "\n",
    "colormap = toyplot.color.LinearMap(toyplot.color.Palette([\"white\", \"yellow\", \"orange\", \"red\"]))\n",
    "\n",
    "canvas, axes, mark = toyplot.graph(\n",
    "    edges,\n",
    "    #layout=toyplot.layout.FruchtermanReingold(),\n",
    "    layout=toyplot.layout.Buchheim(),\n",
    "    vcolor=colormap,\n",
    "    vmarker=\"o\",\n",
    "    #varea=40,\n",
    "    vsize=40,\n",
    "    vopacity=1,\n",
    "    vstyle={\"stroke\":\"black\"},\n",
    "    ecolor=\"black\",\n",
    "    eopacity=0.2,\n",
    "    estyle={},\n",
    ");\n",
    "axes.show = False\n",
    "axes.padding = 100"
   ]
  },
  {
   "cell_type": "code",
   "execution_count": null,
   "metadata": {
    "collapsed": true
   },
   "outputs": [],
   "source": []
  }
 ],
 "metadata": {
  "kernelspec": {
   "display_name": "Python 2",
   "language": "python",
   "name": "python2"
  },
  "language_info": {
   "codemirror_mode": {
    "name": "ipython",
    "version": 2
   },
   "file_extension": ".py",
   "mimetype": "text/x-python",
   "name": "python",
   "nbconvert_exporter": "python",
   "pygments_lexer": "ipython2",
   "version": "2.7.10"
  }
 },
 "nbformat": 4,
 "nbformat_minor": 0
}

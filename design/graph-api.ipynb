{
 "cells": [
  {
   "cell_type": "markdown",
   "metadata": {},
   "source": [
    "Regardless of the kinds of inputs supported by the graph API, the mark itself should have the following characteristics:\n",
    "\n",
    "* Doesn't care about directionality in the internal representation - it renders every edge it receives, regardless of direction, parallel edges, etc.\n",
    "* Vertices support all of the styles / attributes of a scatterplot - color, size, marker, etc.\n",
    "* Edges support color, opacity, stroke width attributes.\n",
    "* Edges support start / end markers for directionality.\n",
    "* Supports multiple layout algorithms.\n",
    "* Are graphs added to Cartesian axes?  Or are they a type of axis, like table axes?"
   ]
  },
  {
   "cell_type": "code",
   "execution_count": 1,
   "metadata": {
    "collapsed": true
   },
   "outputs": [],
   "source": [
    "import numpy\n",
    "import toyplot"
   ]
  },
  {
   "cell_type": "code",
   "execution_count": 2,
   "metadata": {
    "collapsed": true
   },
   "outputs": [],
   "source": [
    "import igraph\n",
    "numpy.random.seed(1234)\n",
    "graph = igraph.Graph.GRG(20, 0.5)\n",
    "graph.summary()\n",
    "coords = numpy.array(graph.layout(\"auto\").coords)\n",
    "x = coords[:, 0]\n",
    "y = coords[:, 1]\n",
    "source = [edge.source for edge in graph.es]\n",
    "target = [edge.target for edge in graph.es]"
   ]
  },
  {
   "cell_type": "code",
   "execution_count": 3,
   "metadata": {
    "collapsed": false
   },
   "outputs": [
    {
     "data": {
      "text/plain": [
       "<toyplot.mark.Graph at 0x10d8b8c50>"
      ]
     },
     "execution_count": 3,
     "metadata": {},
     "output_type": "execute_result"
    },
    {
     "data": {
      "text/html": [
       "<div align=\"center\" class=\"toyplot\" id=\"t3619f54d2649470aa9e1b9b41eaf44e7\"><svg height=\"600px\" id=\"t1f23cd7346e6489dbf606812afec4c22\" style=\"background-color:#bbb;fill:#292724;fill-opacity:1.0;font-family:helvetica;font-size:12px;opacity:1.0;stroke:#292724;stroke-opacity:1.0;stroke-width:1.0\" width=\"600px\" xmlns=\"http://www.w3.org/2000/svg\" xmlns:toyplot=\"http://www.sandia.gov/toyplot\"><g class=\"toyplot-axes-Cartesian\" id=\"t8c9e5cdbccfa4c15ae088d0ba4752938\"><clipPath id=\"t24fff94418494843b3a07cd6c27b617c\"><rect height=\"500.0\" width=\"500.0\" x=\"50.0\" y=\"50.0\"></rect></clipPath><g class=\"toyplot-coordinate-events\" clip-path=\"url(#t24fff94418494843b3a07cd6c27b617c)\" style=\"cursor:crosshair\"><rect height=\"500.0\" style=\"pointer-events:all;visibility:hidden\" width=\"500.0\" x=\"50.0\" y=\"50.0\"></rect><g class=\"toyplot-mark-Graph\" id=\"t610ad28acf1749cbb3824b394fd9b341\"><g class=\"toyplot-Edges\"><line style=\"stroke:rgba(100%,100%,43.7%,1);stroke-opacity:1.0;stroke-width:1.0\" x1=\"60.0\" x2=\"77.086545611200563\" y1=\"431.04532157629933\" y2=\"376.09201849279793\"></line><line style=\"stroke:rgba(100%,69.2%,0%,1);stroke-opacity:1.0;stroke-width:1.0\" x1=\"60.0\" x2=\"97.870026467517292\" y1=\"431.04532157629933\" y2=\"268.14692966933893\"></line><line style=\"stroke:rgba(100%,89%,0%,1);stroke-opacity:1.0;stroke-width:1.0\" x1=\"60.0\" x2=\"103.82666097855241\" y1=\"431.04532157629933\" y2=\"356.52264841264309\"></line><line style=\"stroke:rgba(100%,40.7%,0%,1);stroke-opacity:1.0;stroke-width:1.0\" x1=\"60.0\" x2=\"126.3257592956648\" y1=\"431.04532157629933\" y2=\"283.59792905148549\"></line><line style=\"stroke:rgba(100%,41.8%,0%,1);stroke-opacity:1.0;stroke-width:1.0\" x1=\"60.0\" x2=\"195.89934911018969\" y1=\"431.04532157629933\" y2=\"297.18842210026503\"></line><line style=\"stroke:rgba(100%,100%,19.1%,1);stroke-opacity:1.0;stroke-width:1.0\" x1=\"60.0\" x2=\"228.09041675333316\" y1=\"431.04532157629933\" y2=\"283.16472910865787\"></line><line style=\"stroke:rgba(100%,100%,17.9%,1);stroke-opacity:1.0;stroke-width:1.0\" x1=\"60.0\" x2=\"262.06707047222289\" y1=\"431.04532157629933\" y2=\"463.21715248299751\"></line><line style=\"stroke:rgba(100%,37.5%,0%,1);stroke-opacity:1.0;stroke-width:1.0\" x1=\"77.086545611200563\" x2=\"97.870026467517292\" y1=\"376.09201849279793\" y2=\"268.14692966933893\"></line><line style=\"stroke:rgba(100%,6.69%,0%,1);stroke-opacity:1.0;stroke-width:1.0\" x1=\"77.086545611200563\" x2=\"103.82666097855241\" y1=\"376.09201849279793\" y2=\"356.52264841264309\"></line><line style=\"stroke:rgba(100%,22.9%,0%,1);stroke-opacity:1.0;stroke-width:1.0\" x1=\"77.086545611200563\" x2=\"126.3257592956648\" y1=\"376.09201849279793\" y2=\"283.59792905148549\"></line><line style=\"stroke:rgba(100%,97.6%,0%,1);stroke-opacity:1.0;stroke-width:1.0\" x1=\"77.086545611200563\" x2=\"146.59038985394486\" y1=\"376.09201849279793\" y2=\"174.22862343178878\"></line><line style=\"stroke:rgba(100%,82.2%,0%,1);stroke-opacity:1.0;stroke-width:1.0\" x1=\"77.086545611200563\" x2=\"195.89934911018969\" y1=\"376.09201849279793\" y2=\"297.18842210026503\"></line><line style=\"stroke:rgba(100%,60.8%,0%,1);stroke-opacity:1.0;stroke-width:1.0\" x1=\"77.086545611200563\" x2=\"228.09041675333316\" y1=\"376.09201849279793\" y2=\"283.16472910865787\"></line><line style=\"stroke:rgba(100%,55%,0%,1);stroke-opacity:1.0;stroke-width:1.0\" x1=\"77.086545611200563\" x2=\"262.06707047222289\" y1=\"376.09201849279793\" y2=\"463.21715248299751\"></line><line style=\"stroke:rgba(100%,96.2%,0%,1);stroke-opacity:1.0;stroke-width:1.0\" x1=\"77.086545611200563\" x2=\"299.56143483052995\" y1=\"376.09201849279793\" y2=\"294.40464662943396\"></line><line style=\"stroke:rgba(100%,75.7%,0%,1);stroke-opacity:1.0;stroke-width:1.0\" x1=\"97.870026467517292\" x2=\"103.82666097855241\" y1=\"268.14692966933893\" y2=\"356.52264841264309\"></line><line style=\"stroke:rgba(100%,82%,0%,1);stroke-opacity:1.0;stroke-width:1.0\" x1=\"97.870026467517292\" x2=\"126.3257592956648\" y1=\"268.14692966933893\" y2=\"283.59792905148549\"></line><line style=\"stroke:rgba(100%,100%,97.9%,1);stroke-opacity:1.0;stroke-width:1.0\" x1=\"97.870026467517292\" x2=\"146.59038985394486\" y1=\"268.14692966933893\" y2=\"174.22862343178878\"></line><line style=\"stroke:rgba(100%,43.2%,0%,1);stroke-opacity:1.0;stroke-width:1.0\" x1=\"97.870026467517292\" x2=\"195.89934911018969\" y1=\"268.14692966933893\" y2=\"297.18842210026503\"></line><line style=\"stroke:rgba(100%,21.6%,0%,1);stroke-opacity:1.0;stroke-width:1.0\" x1=\"97.870026467517292\" x2=\"217.82239890539978\" y1=\"268.14692966933893\" y2=\"60.0\"></line><line style=\"stroke:rgba(100%,96.8%,0%,1);stroke-opacity:1.0;stroke-width:1.0\" x1=\"97.870026467517292\" x2=\"228.09041675333316\" y1=\"268.14692966933893\" y2=\"283.16472910865787\"></line><line style=\"stroke:rgba(100%,69.9%,0%,1);stroke-opacity:1.0;stroke-width:1.0\" x1=\"97.870026467517292\" x2=\"243.08870903469955\" y1=\"268.14692966933893\" y2=\"143.65616401336061\"></line><line style=\"stroke:rgba(100%,100%,79.1%,1);stroke-opacity:1.0;stroke-width:1.0\" x1=\"97.870026467517292\" x2=\"299.56143483052995\" y1=\"268.14692966933893\" y2=\"294.40464662943396\"></line><line style=\"stroke:rgba(100%,96.4%,0%,1);stroke-opacity:1.0;stroke-width:1.0\" x1=\"103.82666097855241\" x2=\"126.3257592956648\" y1=\"356.52264841264309\" y2=\"283.59792905148549\"></line><line style=\"stroke:rgba(100%,11.6%,0%,1);stroke-opacity:1.0;stroke-width:1.0\" x1=\"103.82666097855241\" x2=\"146.59038985394486\" y1=\"356.52264841264309\" y2=\"174.22862343178878\"></line><line style=\"stroke:rgba(100%,66%,0%,1);stroke-opacity:1.0;stroke-width:1.0\" x1=\"103.82666097855241\" x2=\"195.89934911018969\" y1=\"356.52264841264309\" y2=\"297.18842210026503\"></line><line style=\"stroke:rgba(100%,93.3%,0%,1);stroke-opacity:1.0;stroke-width:1.0\" x1=\"103.82666097855241\" x2=\"228.09041675333316\" y1=\"356.52264841264309\" y2=\"283.16472910865787\"></line><line style=\"stroke:rgba(100%,40.1%,0%,1);stroke-opacity:1.0;stroke-width:1.0\" x1=\"103.82666097855241\" x2=\"262.06707047222289\" y1=\"356.52264841264309\" y2=\"463.21715248299751\"></line><line style=\"stroke:rgba(100%,100%,5.59%,1);stroke-opacity:1.0;stroke-width:1.0\" x1=\"103.82666097855241\" x2=\"299.56143483052995\" y1=\"356.52264841264309\" y2=\"294.40464662943396\"></line><line style=\"stroke:rgba(100%,75%,0%,1);stroke-opacity:1.0;stroke-width:1.0\" x1=\"126.3257592956648\" x2=\"146.59038985394486\" y1=\"283.59792905148549\" y2=\"174.22862343178878\"></line><line style=\"stroke:rgba(100%,24.2%,0%,1);stroke-opacity:1.0;stroke-width:1.0\" x1=\"126.3257592956648\" x2=\"195.89934911018969\" y1=\"283.59792905148549\" y2=\"297.18842210026503\"></line><line style=\"stroke:rgba(100%,89.1%,0%,1);stroke-opacity:1.0;stroke-width:1.0\" x1=\"126.3257592956648\" x2=\"217.82239890539978\" y1=\"283.59792905148549\" y2=\"60.0\"></line><line style=\"stroke:rgba(100%,37.4%,0%,1);stroke-opacity:1.0;stroke-width:1.0\" x1=\"126.3257592956648\" x2=\"228.09041675333316\" y1=\"283.59792905148549\" y2=\"283.16472910865787\"></line><line style=\"stroke:rgba(100%,100%,58.3%,1);stroke-opacity:1.0;stroke-width:1.0\" x1=\"126.3257592956648\" x2=\"243.08870903469955\" y1=\"283.59792905148549\" y2=\"143.65616401336061\"></line><line style=\"stroke:rgba(100%,56.7%,0%,1);stroke-opacity:1.0;stroke-width:1.0\" x1=\"126.3257592956648\" x2=\"262.06707047222289\" y1=\"283.59792905148549\" y2=\"463.21715248299751\"></line><line style=\"stroke:rgba(100%,56.6%,0%,1);stroke-opacity:1.0;stroke-width:1.0\" x1=\"126.3257592956648\" x2=\"299.56143483052995\" y1=\"283.59792905148549\" y2=\"294.40464662943396\"></line><line style=\"stroke:rgba(100%,100%,35.4%,1);stroke-opacity:1.0;stroke-width:1.0\" x1=\"146.59038985394486\" x2=\"195.89934911018969\" y1=\"174.22862343178878\" y2=\"297.18842210026503\"></line><line style=\"stroke:rgba(100%,13.2%,0%,1);stroke-opacity:1.0;stroke-width:1.0\" x1=\"146.59038985394486\" x2=\"217.82239890539978\" y1=\"174.22862343178878\" y2=\"60.0\"></line><line style=\"stroke:rgba(100%,88.5%,0%,1);stroke-opacity:1.0;stroke-width:1.0\" x1=\"146.59038985394486\" x2=\"228.09041675333316\" y1=\"174.22862343178878\" y2=\"283.16472910865787\"></line><line style=\"stroke:rgba(100%,16.3%,0%,1);stroke-opacity:1.0;stroke-width:1.0\" x1=\"146.59038985394486\" x2=\"243.08870903469955\" y1=\"174.22862343178878\" y2=\"143.65616401336061\"></line><line style=\"stroke:rgba(100%,100%,83.8%,1);stroke-opacity:1.0;stroke-width:1.0\" x1=\"146.59038985394486\" x2=\"299.56143483052995\" y1=\"174.22862343178878\" y2=\"294.40464662943396\"></line><line style=\"stroke:rgba(100%,100%,45.9%,1);stroke-opacity:1.0;stroke-width:1.0\" x1=\"195.89934911018969\" x2=\"217.82239890539978\" y1=\"297.18842210026503\" y2=\"60.0\"></line><line style=\"stroke:rgba(100%,100%,87.6%,1);stroke-opacity:1.0;stroke-width:1.0\" x1=\"195.89934911018969\" x2=\"228.09041675333316\" y1=\"297.18842210026503\" y2=\"283.16472910865787\"></line><line style=\"stroke:rgba(100%,62.5%,0%,1);stroke-opacity:1.0;stroke-width:1.0\" x1=\"195.89934911018969\" x2=\"243.08870903469955\" y1=\"297.18842210026503\" y2=\"143.65616401336061\"></line><line style=\"stroke:rgba(100%,72.1%,0%,1);stroke-opacity:1.0;stroke-width:1.0\" x1=\"195.89934911018969\" x2=\"262.06707047222289\" y1=\"297.18842210026503\" y2=\"463.21715248299751\"></line><line style=\"stroke:rgba(100%,78.7%,0%,1);stroke-opacity:1.0;stroke-width:1.0\" x1=\"195.89934911018969\" x2=\"299.56143483052995\" y1=\"297.18842210026503\" y2=\"294.40464662943396\"></line><line style=\"stroke:rgba(100%,100%,88.9%,1);stroke-opacity:1.0;stroke-width:1.0\" x1=\"217.82239890539978\" x2=\"228.09041675333316\" y1=\"60.0\" y2=\"283.16472910865787\"></line><line style=\"stroke:rgba(100%,75.7%,0%,1);stroke-opacity:1.0;stroke-width:1.0\" x1=\"217.82239890539978\" x2=\"243.08870903469955\" y1=\"60.0\" y2=\"143.65616401336061\"></line><line style=\"stroke:rgba(100%,100%,1.69%,1);stroke-opacity:1.0;stroke-width:1.0\" x1=\"217.82239890539978\" x2=\"299.56143483052995\" y1=\"60.0\" y2=\"294.40464662943396\"></line><line style=\"stroke:rgba(100%,82%,0%,1);stroke-opacity:1.0;stroke-width:1.0\" x1=\"228.09041675333316\" x2=\"243.08870903469955\" y1=\"283.16472910865787\" y2=\"143.65616401336061\"></line><line style=\"stroke:rgba(100%,100%,68%,1);stroke-opacity:1.0;stroke-width:1.0\" x1=\"228.09041675333316\" x2=\"262.06707047222289\" y1=\"283.16472910865787\" y2=\"463.21715248299751\"></line><line style=\"stroke:rgba(100%,70.8%,0%,1);stroke-opacity:1.0;stroke-width:1.0\" x1=\"228.09041675333316\" x2=\"299.56143483052995\" y1=\"283.16472910865787\" y2=\"294.40464662943396\"></line><line style=\"stroke:rgba(100%,75.2%,0%,1);stroke-opacity:1.0;stroke-width:1.0\" x1=\"243.08870903469955\" x2=\"299.56143483052995\" y1=\"143.65616401336061\" y2=\"294.40464662943396\"></line><line style=\"stroke:rgba(100%,100%,100%,1);stroke-opacity:1.0;stroke-width:1.0\" x1=\"243.08870903469955\" x2=\"492.15047474832971\" y1=\"143.65616401336061\" y2=\"157.57472522398621\"></line><line style=\"stroke:rgba(100%,69.7%,0%,1);stroke-opacity:1.0;stroke-width:1.0\" x1=\"262.06707047222289\" x2=\"299.56143483052995\" y1=\"463.21715248299751\" y2=\"294.40464662943396\"></line><line style=\"stroke:rgba(100%,15.8%,0%,1);stroke-opacity:1.0;stroke-width:1.0\" x1=\"262.06707047222289\" x2=\"438.98414991662111\" y1=\"463.21715248299751\" y2=\"516.89761309903088\"></line><line style=\"stroke:rgba(100%,39.7%,0%,1);stroke-opacity:1.0;stroke-width:1.0\" x1=\"262.06707047222289\" x2=\"444.74425983225473\" y1=\"463.21715248299751\" y2=\"540.0\"></line><line style=\"stroke:rgba(100%,0%,0%,1);stroke-opacity:1.0;stroke-width:1.0\" x1=\"262.06707047222289\" x2=\"450.84054106630043\" y1=\"463.21715248299751\" y2=\"531.1597226532848\"></line><line style=\"stroke:rgba(100%,6.56%,0%,1);stroke-opacity:1.0;stroke-width:1.0\" x1=\"299.56143483052995\" x2=\"492.15047474832971\" y1=\"294.40464662943396\" y2=\"157.57472522398621\"></line><line style=\"stroke:rgba(100%,39.4%,0%,1);stroke-opacity:1.0;stroke-width:1.0\" x1=\"299.56143483052995\" x2=\"506.67019629951517\" y1=\"294.40464662943396\" y2=\"210.02180500672631\"></line><line style=\"stroke:rgba(100%,100%,15.2%,1);stroke-opacity:1.0;stroke-width:1.0\" x1=\"299.56143483052995\" x2=\"507.2034215669031\" y1=\"294.40464662943396\" y2=\"247.08111213050142\"></line><line style=\"stroke:rgba(100%,68.9%,0%,1);stroke-opacity:1.0;stroke-width:1.0\" x1=\"438.98414991662111\" x2=\"444.74425983225473\" y1=\"516.89761309903088\" y2=\"540.0\"></line><line style=\"stroke:rgba(100%,84.6%,0%,1);stroke-opacity:1.0;stroke-width:1.0\" x1=\"438.98414991662111\" x2=\"450.84054106630043\" y1=\"516.89761309903088\" y2=\"531.1597226532848\"></line><line style=\"stroke:rgba(100%,100%,42.5%,1);stroke-opacity:1.0;stroke-width:1.0\" x1=\"438.98414991662111\" x2=\"528.22345794742455\" y1=\"516.89761309903088\" y2=\"418.10481788337665\"></line><line style=\"stroke:rgba(100%,94.9%,0%,1);stroke-opacity:1.0;stroke-width:1.0\" x1=\"438.98414991662111\" x2=\"540.0\" y1=\"516.89761309903088\" y2=\"460.23512753196951\"></line><line style=\"stroke:rgba(100%,100%,85.7%,1);stroke-opacity:1.0;stroke-width:1.0\" x1=\"444.74425983225473\" x2=\"450.84054106630043\" y1=\"540.0\" y2=\"531.1597226532848\"></line><line style=\"stroke:rgba(100%,87.5%,0%,1);stroke-opacity:1.0;stroke-width:1.0\" x1=\"444.74425983225473\" x2=\"528.22345794742455\" y1=\"540.0\" y2=\"418.10481788337665\"></line><line style=\"stroke:rgba(100%,1.99%,0%,1);stroke-opacity:1.0;stroke-width:1.0\" x1=\"444.74425983225473\" x2=\"540.0\" y1=\"540.0\" y2=\"460.23512753196951\"></line><line style=\"stroke:rgba(100%,100%,64.3%,1);stroke-opacity:1.0;stroke-width:1.0\" x1=\"450.84054106630043\" x2=\"528.22345794742455\" y1=\"531.1597226532848\" y2=\"418.10481788337665\"></line><line style=\"stroke:rgba(100%,100%,65.7%,1);stroke-opacity:1.0;stroke-width:1.0\" x1=\"450.84054106630043\" x2=\"540.0\" y1=\"531.1597226532848\" y2=\"460.23512753196951\"></line><line style=\"stroke:rgba(100%,50%,0%,1);stroke-opacity:1.0;stroke-width:1.0\" x1=\"492.15047474832971\" x2=\"506.67019629951517\" y1=\"157.57472522398621\" y2=\"210.02180500672631\"></line><line style=\"stroke:rgba(100%,72.9%,0%,1);stroke-opacity:1.0;stroke-width:1.0\" x1=\"492.15047474832971\" x2=\"507.2034215669031\" y1=\"157.57472522398621\" y2=\"247.08111213050142\"></line><line style=\"stroke:rgba(100%,85.3%,0%,1);stroke-opacity:1.0;stroke-width:1.0\" x1=\"506.67019629951517\" x2=\"507.2034215669031\" y1=\"210.02180500672631\" y2=\"247.08111213050142\"></line><line style=\"stroke:rgba(100%,100%,69.4%,1);stroke-opacity:1.0;stroke-width:1.0\" x1=\"506.67019629951517\" x2=\"528.22345794742455\" y1=\"210.02180500672631\" y2=\"418.10481788337665\"></line><line style=\"stroke:rgba(100%,100%,32.3%,1);stroke-opacity:1.0;stroke-width:1.0\" x1=\"507.2034215669031\" x2=\"528.22345794742455\" y1=\"247.08111213050142\" y2=\"418.10481788337665\"></line><line style=\"stroke:rgba(100%,18.1%,0%,1);stroke-opacity:1.0;stroke-width:1.0\" x1=\"507.2034215669031\" x2=\"540.0\" y1=\"247.08111213050142\" y2=\"460.23512753196951\"></line><line style=\"stroke:rgba(100%,91.2%,0%,1);stroke-opacity:1.0;stroke-width:1.0\" x1=\"528.22345794742455\" x2=\"540.0\" y1=\"418.10481788337665\" y2=\"460.23512753196951\"></line></g><g class=\"toyplot-Vertices\"><g class=\"toyplot-Datum\" style=\"fill:rgba(100%,76%,0%,1);opacity:1.0;stroke:black\"><circle cx=\"60.0\" cy=\"431.04532157629933\" r=\"5.0\"></circle></g><g class=\"toyplot-Datum\" style=\"fill:rgba(100%,100%,100%,1);opacity:1.0;stroke:black\"><circle cx=\"77.086545611200563\" cy=\"376.09201849279793\" r=\"5.0\"></circle></g><g class=\"toyplot-Datum\" style=\"fill:rgba(100%,100%,6.55%,1);opacity:1.0;stroke:black\"><circle cx=\"97.870026467517292\" cy=\"268.14692966933893\" r=\"5.0\"></circle></g><g class=\"toyplot-Datum\" style=\"fill:rgba(100%,87%,0%,1);opacity:1.0;stroke:black\"><circle cx=\"103.82666097855241\" cy=\"356.52264841264309\" r=\"5.0\"></circle></g><g class=\"toyplot-Datum\" style=\"fill:rgba(100%,67.4%,0%,1);opacity:1.0;stroke:black\"><circle cx=\"126.3257592956648\" cy=\"283.59792905148549\" r=\"5.0\"></circle></g><g class=\"toyplot-Datum\" style=\"fill:rgba(100%,6.82%,0%,1);opacity:1.0;stroke:black\"><circle cx=\"146.59038985394486\" cy=\"174.22862343178878\" r=\"5.0\"></circle></g><g class=\"toyplot-Datum\" style=\"fill:rgba(100%,65.9%,0%,1);opacity:1.0;stroke:black\"><circle cx=\"195.89934911018969\" cy=\"297.18842210026503\" r=\"5.0\"></circle></g><g class=\"toyplot-Datum\" style=\"fill:rgba(100%,50.4%,0%,1);opacity:1.0;stroke:black\"><circle cx=\"217.82239890539978\" cy=\"60.0\" r=\"5.0\"></circle></g><g class=\"toyplot-Datum\" style=\"fill:rgba(100%,100%,54.4%,1);opacity:1.0;stroke:black\"><circle cx=\"228.09041675333316\" cy=\"283.16472910865787\" r=\"5.0\"></circle></g><g class=\"toyplot-Datum\" style=\"fill:rgba(100%,42.2%,0%,1);opacity:1.0;stroke:black\"><circle cx=\"243.08870903469955\" cy=\"143.65616401336061\" r=\"5.0\"></circle></g><g class=\"toyplot-Datum\" style=\"fill:rgba(100%,24.7%,0%,1);opacity:1.0;stroke:black\"><circle cx=\"262.06707047222289\" cy=\"463.21715248299751\" r=\"5.0\"></circle></g><g class=\"toyplot-Datum\" style=\"fill:rgba(100%,65%,0%,1);opacity:1.0;stroke:black\"><circle cx=\"299.56143483052995\" cy=\"294.40464662943396\" r=\"5.0\"></circle></g><g class=\"toyplot-Datum\" style=\"fill:rgba(100%,86.9%,0%,1);opacity:1.0;stroke:black\"><circle cx=\"438.98414991662111\" cy=\"516.89761309903088\" r=\"5.0\"></circle></g><g class=\"toyplot-Datum\" style=\"fill:rgba(100%,100%,53.5%,1);opacity:1.0;stroke:black\"><circle cx=\"444.74425983225473\" cy=\"540.0\" r=\"5.0\"></circle></g><g class=\"toyplot-Datum\" style=\"fill:rgba(100%,72.3%,0%,1);opacity:1.0;stroke:black\"><circle cx=\"450.84054106630043\" cy=\"531.1597226532848\" r=\"5.0\"></circle></g><g class=\"toyplot-Datum\" style=\"fill:rgba(100%,76.8%,0%,1);opacity:1.0;stroke:black\"><circle cx=\"492.15047474832971\" cy=\"157.57472522398621\" r=\"5.0\"></circle></g><g class=\"toyplot-Datum\" style=\"fill:rgba(100%,0%,0%,1);opacity:1.0;stroke:black\"><circle cx=\"506.67019629951517\" cy=\"210.02180500672631\" r=\"5.0\"></circle></g><g class=\"toyplot-Datum\" style=\"fill:rgba(100%,82.2%,0%,1);opacity:1.0;stroke:black\"><circle cx=\"507.2034215669031\" cy=\"247.08111213050142\" r=\"5.0\"></circle></g><g class=\"toyplot-Datum\" style=\"fill:rgba(100%,79.7%,0%,1);opacity:1.0;stroke:black\"><circle cx=\"528.22345794742455\" cy=\"418.10481788337665\" r=\"5.0\"></circle></g><g class=\"toyplot-Datum\" style=\"fill:rgba(100%,75.8%,0%,1);opacity:1.0;stroke:black\"><circle cx=\"540.0\" cy=\"460.23512753196951\" r=\"5.0\"></circle></g><title>[u'title']</title></g></g></g><g class=\"toyplot-coordinates\" style=\"visibility:hidden\"><rect height=\"14.0\" style=\"fill:white;opacity:0.75;stroke:none\" width=\"90.0\" x=\"450.0\" y=\"60.0\"></rect><text style=\"alignment-baseline:middle;font-size:10px;font-weight:normal;stroke:none;text-anchor:middle\" x=\"495.0\" y=\"67.0\"></text></g></g></svg><div class=\"toyplot-controls\"><ul class=\"toyplot-mark-popup\" onmouseleave=\"this.style.visibility='hidden'\" style=\"background:rgba(0%,0%,0%,0.75);border:0;border-radius:6px;color:white;cursor:default;list-style:none;margin:0;padding:5px;position:fixed;visibility:hidden\"><li class=\"toyplot-mark-popup-title\" style=\"color:lightgray;cursor:default;padding:5px;list-style:none;margin:0;\"></li><li class=\"toyplot-mark-popup-save-csv\" onmouseout=\"this.style.color='white';this.style.background='steelblue'\" onmouseover=\"this.style.color='steelblue';this.style.background='white'\" style=\"border-radius:3px;padding:5px;list-style:none;margin:0;\">Save as .csv</li></ul><script>\n",
       "(function()\n",
       "{\n",
       "  if(window.CSS !== undefined && window.CSS.supports !== undefined)\n",
       "  {\n",
       "    if(!window.CSS.supports(\"alignment-baseline\", \"middle\"))\n",
       "    {\n",
       "      var re = /\\s*alignment-baseline\\s*:\\s*([^;\\s]*)\\s*/;\n",
       "      var text = document.querySelectorAll(\"#t3619f54d2649470aa9e1b9b41eaf44e7 text\");\n",
       "      for(var i = 0; i != text.length; ++i)\n",
       "      {\n",
       "        var match = re.exec(text[i].attributes.style.value);\n",
       "        if(match)\n",
       "        {\n",
       "          if(match[1] == \"middle\")\n",
       "          {\n",
       "            var style = getComputedStyle(text[i]);\n",
       "            var font_size = style.fontSize.substr(0, style.fontSize.length - 2);\n",
       "            var dy = text[i].dy.baseVal.length ? text[i].dy.baseVal[0].value : 0;\n",
       "            dy += 0.4 * font_size;\n",
       "            text[i].setAttribute(\"dy\", dy);\n",
       "          }\n",
       "        }\n",
       "      }\n",
       "    }\n",
       "    if(!window.CSS.supports(\"baseline-shift\", \"0\"))\n",
       "    {\n",
       "      var re = /\\s*baseline-shift\\s*:\\s*([^;\\s]*)\\s*/;\n",
       "      var text = document.querySelectorAll(\"#t3619f54d2649470aa9e1b9b41eaf44e7 text\");\n",
       "      for(var i = 0; i != text.length; ++i)\n",
       "      {\n",
       "        var match = re.exec(text[i].attributes.style.value);\n",
       "        if(match)\n",
       "        {\n",
       "          var style = getComputedStyle(text[i]);\n",
       "          var font_size = style.fontSize.substr(0, style.fontSize.length - 2);\n",
       "          var percent = 0.01 * match[1].substr(0, match[1].length-1);\n",
       "          var dy = text[i].dy.baseVal.length ? text[i].dy.baseVal[0].value : 0;\n",
       "          dy -= percent * font_size\n",
       "          text[i].setAttribute(\"dy\", dy);\n",
       "        }\n",
       "      }\n",
       "    }\n",
       "  }\n",
       "})();\n",
       "</script><script>\n",
       "(function()\n",
       "{\n",
       "  var axes = {\"t8c9e5cdbccfa4c15ae088d0ba4752938\": {\"x\": [{\"domain\": {\"bounds\": {\"max\": Infinity, \"min\": -Infinity}, \"max\": 0.96566050309098628, \"min\": 0.018506233650076087}, \"range\": {\"bounds\": {\"max\": Infinity, \"min\": -Infinity}, \"max\": 540.0, \"min\": 60.0}, \"scale\": \"linear\"}], \"y\": [{\"domain\": {\"bounds\": {\"max\": Infinity, \"min\": -Infinity}, \"max\": 0.99311534264284274, \"min\": 0.028049559739248719}, \"range\": {\"bounds\": {\"max\": -Infinity, \"min\": Infinity}, \"max\": 60.0, \"min\": 540.0}, \"scale\": \"linear\"}]}};\n",
       "\n",
       "  function sign(x)\n",
       "  {\n",
       "    return x < 0 ? -1 : x > 0 ? 1 : 0;\n",
       "  }\n",
       "\n",
       "  function _mix(a, b, amount)\n",
       "  {\n",
       "    return ((1.0 - amount) * a) + (amount * b);\n",
       "  }\n",
       "\n",
       "  function _log(x, base)\n",
       "  {\n",
       "    return Math.log(Math.abs(x)) / Math.log(base);\n",
       "  }\n",
       "\n",
       "  function _in_range(a, x, b)\n",
       "  {\n",
       "    var left = Math.min(a, b);\n",
       "    var right = Math.max(a, b);\n",
       "    return left <= x && x <= right;\n",
       "  }\n",
       "\n",
       "  function to_domain(projection, range)\n",
       "  {\n",
       "    for(var i = 0; i != projection.length; ++i)\n",
       "    {\n",
       "      var segment = projection[i];\n",
       "      if(_in_range(segment.range.bounds.min, range, segment.range.bounds.max))\n",
       "      {\n",
       "        if(segment.scale == \"linear\")\n",
       "        {\n",
       "          var amount = (range - segment.range.min) / (segment.range.max - segment.range.min);\n",
       "          return _mix(segment.domain.min, segment.domain.max, amount)\n",
       "        }\n",
       "        else if(segment.scale[0] == \"log\")\n",
       "        {\n",
       "          var amount = (range - segment.range.min) / (segment.range.max - segment.range.min);\n",
       "          var base = segment.scale[1];\n",
       "          return sign(segment.domain.min) * Math.pow(base, _mix(_log(segment.domain.min, base), _log(segment.domain.max, base), amount));\n",
       "        }\n",
       "      }\n",
       "    }\n",
       "  }\n",
       "\n",
       "  // Compute mouse coordinates relative to a DOM object, with thanks to d3js.org, where this code originated.\n",
       "  function d3_mousePoint(container, e)\n",
       "  {\n",
       "    if (e.changedTouches) e = e.changedTouches[0];\n",
       "    var svg = container.ownerSVGElement || container;\n",
       "    if (svg.createSVGPoint) {\n",
       "      var point = svg.createSVGPoint();\n",
       "      point.x = e.clientX, point.y = e.clientY;\n",
       "      point = point.matrixTransform(container.getScreenCTM().inverse());\n",
       "      return [point.x, point.y];\n",
       "    }\n",
       "    var rect = container.getBoundingClientRect();\n",
       "    return [e.clientX - rect.left - container.clientLeft, e.clientY - rect.top - container.clientTop];\n",
       "  };\n",
       "\n",
       "  function display_coordinates(e)\n",
       "  {\n",
       "    var dom_axes = e.currentTarget.parentElement;\n",
       "    var data = axes[dom_axes.id];\n",
       "\n",
       "    point = d3_mousePoint(e.target, e);\n",
       "    var x = Number(to_domain(data[\"x\"], point[0])).toFixed(2);\n",
       "    var y = Number(to_domain(data[\"y\"], point[1])).toFixed(2);\n",
       "\n",
       "    var coordinates = dom_axes.querySelectorAll(\".toyplot-coordinates\");\n",
       "    for(var i = 0; i != coordinates.length; ++i)\n",
       "    {\n",
       "      coordinates[i].style.visibility = \"visible\";\n",
       "      coordinates[i].querySelector(\"text\").textContent = \"x=\" + x + \" y=\" + y;\n",
       "    }\n",
       "  }\n",
       "\n",
       "  function clear_coordinates(e)\n",
       "  {\n",
       "    var dom_axes = e.currentTarget.parentElement;\n",
       "    var coordinates = dom_axes.querySelectorAll(\".toyplot-coordinates\");\n",
       "    for(var i = 0; i != coordinates.length; ++i)\n",
       "      coordinates[i].style.visibility = \"hidden\";\n",
       "  }\n",
       "\n",
       "  for(var axes_id in axes)\n",
       "  {\n",
       "    var event_target = document.querySelector(\"#\" + axes_id + \" .toyplot-coordinate-events\");\n",
       "    event_target.onmousemove = display_coordinates;\n",
       "    event_target.onmouseout = clear_coordinates;\n",
       "  }\n",
       "})();\n",
       "</script></div></div>"
      ],
      "text/plain": [
       "<toyplot.canvas.Canvas at 0x10d8b85d0>"
      ]
     },
     "metadata": {},
     "output_type": "display_data"
    }
   ],
   "source": [
    "colormap = toyplot.color.LinearMap(toyplot.color.Palette([\"white\", \"yellow\", \"orange\", \"red\"]))\n",
    "\n",
    "ecolor = numpy.random.uniform(size=len(graph.es))\n",
    "vcolor = numpy.random.uniform(size=len(graph.vs))\n",
    "\n",
    "canvas = toyplot.Canvas(style={\"background-color\":\"#bbb\"})\n",
    "axes = canvas.axes(show=False)\n",
    "axes.graph(x, y, source, target, edge_color=(ecolor, colormap), edge_opacity=1, vertex_color=(vcolor, colormap), size=100, mstyle={\"stroke\":\"black\"})"
   ]
  },
  {
   "cell_type": "code",
   "execution_count": null,
   "metadata": {
    "collapsed": true
   },
   "outputs": [],
   "source": []
  }
 ],
 "metadata": {
  "kernelspec": {
   "display_name": "Python 2",
   "language": "python",
   "name": "python2"
  },
  "language_info": {
   "codemirror_mode": {
    "name": "ipython",
    "version": 2
   },
   "file_extension": ".py",
   "mimetype": "text/x-python",
   "name": "python",
   "nbconvert_exporter": "python",
   "pygments_lexer": "ipython2",
   "version": "2.7.10"
  }
 },
 "nbformat": 4,
 "nbformat_minor": 0
}

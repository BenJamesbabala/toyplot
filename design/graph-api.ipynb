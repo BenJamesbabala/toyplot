{
 "cells": [
  {
   "cell_type": "markdown",
   "metadata": {},
   "source": [
    "Some design decisions, in no particular order:\n",
    "\n",
    "* There won't be any toyplot.data.Graph data structure or similar.\n",
    "* The graph mark doesn't care about directionality in the internal representation - it renders every edge it receives, regardless of direction, parallel edges, etc.\n",
    "* It should be possible to render a graph with just a collection of edges as input.\n",
    "* It should be possible to specify edges using any data type, not just integer indices."
   ]
  },
  {
   "cell_type": "markdown",
   "metadata": {},
   "source": [
    "Allowed input formats:\n",
    "\n",
    "```python\n",
    "toyplot.graph(sources, targets) # Induce vertices from edges\n",
    "toyplot.graph(sources, targets, vcount) # In case there are unconnected vertices\n",
    "```"
   ]
  },
  {
   "cell_type": "code",
   "execution_count": 1,
   "metadata": {
    "collapsed": false
   },
   "outputs": [],
   "source": [
    "import numpy\n",
    "import toyplot"
   ]
  },
  {
   "cell_type": "code",
   "execution_count": 2,
   "metadata": {
    "collapsed": true
   },
   "outputs": [],
   "source": [
    "numpy.random.seed(1234)"
   ]
  },
  {
   "cell_type": "code",
   "execution_count": 3,
   "metadata": {
    "collapsed": true
   },
   "outputs": [],
   "source": [
    "# Random graph\n",
    "source = numpy.random.choice(10, 20)\n",
    "target = numpy.random.choice(10, len(source))\n",
    "\n",
    "# Ring graph\n",
    "#source = numpy.arange(6)\n",
    "#target = (source + 1) % 6"
   ]
  },
  {
   "cell_type": "code",
   "execution_count": 4,
   "metadata": {
    "collapsed": false
   },
   "outputs": [
    {
     "name": "stderr",
     "output_type": "stream",
     "text": [
      "INFO:toyplot:Graph layout time: 59.0071678162 ms\n"
     ]
    },
    {
     "name": "stdout",
     "output_type": "stream",
     "text": [
      "CPU times: user 62.5 ms, sys: 3.63 ms, total: 66.1 ms\n",
      "Wall time: 63.8 ms\n"
     ]
    },
    {
     "data": {
      "text/html": [
       "<div align=\"center\" class=\"toyplot\" id=\"t624efa49df4d4833b15ad0d390454b3d\"><svg height=\"600px\" id=\"te14631d0223a4cd194be8a7c8c8f1b2b\" preserveAspectRatio=\"xMidyMid meet\" style=\"background-color:transparent;fill:rgb(16.1%,15.3%,14.1%);fill-opacity:1.0;font-family:helvetica;font-size:12px;opacity:1.0;stroke:rgb(16.1%,15.3%,14.1%);stroke-opacity:1.0;stroke-width:1.0\" viewBox=\"0 0 600 600\" width=\"600px\" xmlns=\"http://www.w3.org/2000/svg\" xmlns:toyplot=\"http://www.sandia.gov/toyplot\"><g class=\"toyplot-axes-Cartesian\" id=\"tf141b7c6cbcb4696bd793f9ccc38323f\"><clipPath id=\"t3a897e85c8a04495b56852a5181462d3\"><rect height=\"500.0\" width=\"500.0\" x=\"50.0\" y=\"50.0\"></rect></clipPath><g class=\"toyplot-coordinate-events\" clip-path=\"url(#t3a897e85c8a04495b56852a5181462d3)\" style=\"cursor:crosshair\"><rect height=\"500.0\" style=\"pointer-events:all;visibility:hidden\" width=\"500.0\" x=\"50.0\" y=\"50.0\"></rect><g class=\"toyplot-mark-Graph\" id=\"t238b0e40d8c14d3ca8caad0d7ffc5261\"><g class=\"toyplot-Edges\"><path d=\"M 259.208395014 467.357126995 Q 335.624374406 442.338473187 419.940482218 449.682939907\" style=\"fill:none;stroke:rgb(0%,0%,0%);stroke-opacity:0.2;stroke-width:1.0\"></path><path d=\"M 419.940482218 449.682939907 Q 343.524502826 474.701593715 259.208395014 467.357126995\" style=\"fill:none;stroke:rgb(0%,0%,0%);stroke-opacity:0.2;stroke-width:1.0\"></path><path d=\"M 60.0 370.469276648 Q 165.7386748 303.030932943 309.326100174 285.793957062\" style=\"fill:none;stroke:rgb(0%,0%,0%);stroke-opacity:0.2;stroke-width:1.0\"></path><path d=\"M 524.162549222 60.0 Q 466.678042294 142.918162711 350.680289471 190.905980278\" style=\"fill:none;stroke:rgb(0%,0%,0%);stroke-opacity:0.2;stroke-width:1.0\"></path><path d=\"M 98.2928369259 540.0 Q 121.333741443 443.068364457 220.069105922 370.656164577\" style=\"fill:none;stroke:rgb(0%,0%,0%);stroke-opacity:0.2;stroke-width:1.0\"></path><path d=\"M 220.069105922 370.656164577 Q 245.201717397 267.631907413 350.680289471 190.905980278\" style=\"fill:none;stroke:rgb(0%,0%,0%);stroke-opacity:0.2;stroke-width:1.0\"></path><path d=\"M 429.646038597 336.915703103 Q 373.580014465 419.29507359 259.208395014 467.357126995\" style=\"fill:none;stroke:rgb(0%,0%,0%);stroke-opacity:0.2;stroke-width:1.0\"></path><path d=\"M 309.326100174 285.793957062 Q 405.223542034 219.080950762 540.0 198.813724844\" style=\"fill:none;stroke:rgb(0%,0%,0%);stroke-opacity:0.2;stroke-width:1.0\"></path><path d=\"M 220.069105922 370.656164577 Q 261.250777589 415.066332584 259.208395014 467.357126995\" style=\"fill:none;stroke:rgb(0%,0%,0%);stroke-opacity:0.2;stroke-width:1.0\"></path><path d=\"M 419.940482218 449.682939907 Q 399.590526957 392.322223228 429.646038597 336.915703103\" style=\"fill:none;stroke:rgb(0%,0%,0%);stroke-opacity:0.2;stroke-width:1.0\"></path><path d=\"M 98.2928369259 540.0 Q 162.51541311 487.478532465 259.208395014 467.357126995\" style=\"fill:none;stroke:rgb(0%,0%,0%);stroke-opacity:0.2;stroke-width:1.0\"></path><path d=\"M 350.680289471 190.905980278 Q 422.795373794 255.961034963 429.646038597 336.915703103\" style=\"fill:none;stroke:rgb(0%,0%,0%);stroke-opacity:0.2;stroke-width:1.0\"></path><path d=\"M 60.0 370.469276648 Q 181.257992847 398.858073408 259.208395014 467.357126995\" style=\"fill:none;stroke:rgb(0%,0%,0%);stroke-opacity:0.2;stroke-width:1.0\"></path><path d=\"M 350.680289471 190.905980278 Q 351.210031616 242.513264984 309.326100174 285.793957062\" style=\"fill:none;stroke:rgb(0%,0%,0%);stroke-opacity:0.2;stroke-width:1.0\"></path><path d=\"M 220.069105922 370.656164577 Q 317.316801721 332.686962098 429.646038597 336.915703103\" style=\"fill:none;stroke:rgb(0%,0%,0%);stroke-opacity:0.2;stroke-width:1.0\"></path><path d=\"M 419.940482218 449.682939907 Q 328.005184778 378.87445325 309.326100174 285.793957062\" style=\"fill:none;stroke:rgb(0%,0%,0%);stroke-opacity:0.2;stroke-width:1.0\"></path><path d=\"M 540.0 198.813724844 Q 501.057322924 131.001283727 524.162549222 60.0\" style=\"fill:none;stroke:rgb(0%,0%,0%);stroke-opacity:0.2;stroke-width:1.0\"></path><path d=\"M 350.680289471 190.905980278 Q 350.680289471 190.905980278 350.680289471 190.905980278\" style=\"fill:none;stroke:rgb(0%,0%,0%);stroke-opacity:0.2;stroke-width:1.0\"></path><path d=\"M 60.0 370.469276648 Q 60.0 370.469276648 60.0 370.469276648\" style=\"fill:none;stroke:rgb(0%,0%,0%);stroke-opacity:0.2;stroke-width:1.0\"></path><path d=\"M 540.0 198.813724844 Q 515.687900319 278.974501122 429.646038597 336.915703103\" style=\"fill:none;stroke:rgb(0%,0%,0%);stroke-opacity:0.2;stroke-width:1.0\"></path></g><g class=\"toyplot-Vertices\"><g class=\"toyplot-Datum\" style=\"fill:rgb(100%,100%,100%);fill-opacity:1.0;opacity:1.0;stroke:rgb(0%,0%,0%);stroke-opacity:1.0\"><circle cx=\"350.68028947077505\" cy=\"190.90598027837672\" r=\"5.0\"></circle></g><g class=\"toyplot-Datum\" style=\"fill:rgb(100%,100%,66.7%);fill-opacity:1.0;opacity:1.0;stroke:rgb(0%,0%,0%);stroke-opacity:1.0\"><circle cx=\"429.64603859677283\" cy=\"336.91570310335226\" r=\"5.0\"></circle></g><g class=\"toyplot-Datum\" style=\"fill:rgb(100%,100%,33.3%);fill-opacity:1.0;opacity:1.0;stroke:rgb(0%,0%,0%);stroke-opacity:1.0\"><circle cx=\"540.0\" cy=\"198.81372484403261\" r=\"5.0\"></circle></g><g class=\"toyplot-Datum\" style=\"fill:rgb(100%,100%,0%);fill-opacity:1.0;opacity:1.0;stroke:rgb(0%,0%,0%);stroke-opacity:1.0\"><circle cx=\"259.20839501382062\" cy=\"467.35712699478404\" r=\"5.0\"></circle></g><g class=\"toyplot-Datum\" style=\"fill:rgb(100%,88.2%,0%);fill-opacity:1.0;opacity:1.0;stroke:rgb(0%,0%,0%);stroke-opacity:1.0\"><circle cx=\"524.1625492219332\" cy=\"60.0\" r=\"5.0\"></circle></g><g class=\"toyplot-Datum\" style=\"fill:rgb(100%,76.5%,0%);fill-opacity:1.0;opacity:1.0;stroke:rgb(0%,0%,0%);stroke-opacity:1.0\"><circle cx=\"60.0\" cy=\"370.46927664799364\" r=\"5.0\"></circle></g><g class=\"toyplot-Datum\" style=\"fill:rgb(100%,64.7%,0%);fill-opacity:1.0;opacity:1.0;stroke:rgb(0%,0%,0%);stroke-opacity:1.0\"><circle cx=\"419.94048221830252\" cy=\"449.68293990723777\" r=\"5.0\"></circle></g><g class=\"toyplot-Datum\" style=\"fill:rgb(100%,43.1%,0%);fill-opacity:1.0;opacity:1.0;stroke:rgb(0%,0%,0%);stroke-opacity:1.0\"><circle cx=\"309.32610017423167\" cy=\"285.79395706164098\" r=\"5.0\"></circle></g><g class=\"toyplot-Datum\" style=\"fill:rgb(100%,21.6%,0%);fill-opacity:1.0;opacity:1.0;stroke:rgb(0%,0%,0%);stroke-opacity:1.0\"><circle cx=\"98.292836925877936\" cy=\"540.0\" r=\"5.0\"></circle></g><g class=\"toyplot-Datum\" style=\"fill:rgb(100%,0%,0%);fill-opacity:1.0;opacity:1.0;stroke:rgb(0%,0%,0%);stroke-opacity:1.0\"><circle cx=\"220.06910592200603\" cy=\"370.65616457666948\" r=\"5.0\"></circle></g></g></g></g><g class=\"toyplot-coordinates\" style=\"visibility:hidden\"><rect height=\"14.0\" style=\"fill:rgb(100%,100%,100%);fill-opacity:1.0;opacity:0.75;stroke:none\" width=\"90.0\" x=\"450.0\" y=\"60.0\"></rect><text style=\"alignment-baseline:middle;font-size:10px;font-weight:normal;stroke:none;text-anchor:middle\" x=\"495.0\" y=\"67.0\"></text></g></g></svg><div class=\"toyplot-controls\"><ul class=\"toyplot-mark-popup\" onmouseleave=\"this.style.visibility='hidden'\" style=\"background:rgba(0%,0%,0%,0.75);border:0;border-radius:6px;color:white;cursor:default;list-style:none;margin:0;padding:5px;position:fixed;visibility:hidden\"><li class=\"toyplot-mark-popup-title\" style=\"color:lightgray;cursor:default;padding:5px;list-style:none;margin:0;\"></li><li class=\"toyplot-mark-popup-save-csv\" onmouseout=\"this.style.color='white';this.style.background='steelblue'\" onmouseover=\"this.style.color='steelblue';this.style.background='white'\" style=\"border-radius:3px;padding:5px;list-style:none;margin:0;\">Save as .csv</li></ul><script>\n",
       "(function()\n",
       "{\n",
       "  if(window.CSS !== undefined && window.CSS.supports !== undefined)\n",
       "  {\n",
       "    if(!window.CSS.supports(\"alignment-baseline\", \"middle\"))\n",
       "    {\n",
       "      var re = /\\s*alignment-baseline\\s*:\\s*([^;\\s]*)\\s*/;\n",
       "      var text = document.querySelectorAll(\"#t624efa49df4d4833b15ad0d390454b3d text\");\n",
       "      for(var i = 0; i != text.length; ++i)\n",
       "      {\n",
       "        var match = re.exec(text[i].attributes.style.value);\n",
       "        if(match)\n",
       "        {\n",
       "          if(match[1] == \"middle\")\n",
       "          {\n",
       "            var style = getComputedStyle(text[i]);\n",
       "            var font_size = style.fontSize.substr(0, style.fontSize.length - 2);\n",
       "            var dy = text[i].dy.baseVal.length ? text[i].dy.baseVal[0].value : 0;\n",
       "            dy += 0.4 * font_size;\n",
       "            text[i].setAttribute(\"dy\", dy);\n",
       "          }\n",
       "        }\n",
       "      }\n",
       "    }\n",
       "    if(!window.CSS.supports(\"baseline-shift\", \"0\"))\n",
       "    {\n",
       "      var re = /\\s*baseline-shift\\s*:\\s*([^;\\s]*)\\s*/;\n",
       "      var text = document.querySelectorAll(\"#t624efa49df4d4833b15ad0d390454b3d text\");\n",
       "      for(var i = 0; i != text.length; ++i)\n",
       "      {\n",
       "        var match = re.exec(text[i].attributes.style.value);\n",
       "        if(match)\n",
       "        {\n",
       "          var style = getComputedStyle(text[i]);\n",
       "          var font_size = style.fontSize.substr(0, style.fontSize.length - 2);\n",
       "          var percent = 0.01 * match[1].substr(0, match[1].length-1);\n",
       "          var dy = text[i].dy.baseVal.length ? text[i].dy.baseVal[0].value : 0;\n",
       "          dy -= percent * font_size\n",
       "          text[i].setAttribute(\"dy\", dy);\n",
       "        }\n",
       "      }\n",
       "    }\n",
       "  }\n",
       "})();\n",
       "</script><script>\n",
       "(function()\n",
       "{\n",
       "  var axes = {\"tf141b7c6cbcb4696bd793f9ccc38323f\": {\"x\": [{\"domain\": {\"bounds\": {\"max\": Infinity, \"min\": -Infinity}, \"max\": 0.93478237287326771, \"min\": 0.05390797955088187}, \"range\": {\"bounds\": {\"max\": Infinity, \"min\": -Infinity}, \"max\": 540.0, \"min\": 60.0}, \"scale\": \"linear\"}], \"y\": [{\"domain\": {\"bounds\": {\"max\": Infinity, \"min\": -Infinity}, \"max\": 1.3331375884306429, \"min\": 0.020673485834507933}, \"range\": {\"bounds\": {\"max\": -Infinity, \"min\": Infinity}, \"max\": 60.0, \"min\": 540.0}, \"scale\": \"linear\"}]}};\n",
       "\n",
       "  function sign(x)\n",
       "  {\n",
       "    return x < 0 ? -1 : x > 0 ? 1 : 0;\n",
       "  }\n",
       "\n",
       "  function _mix(a, b, amount)\n",
       "  {\n",
       "    return ((1.0 - amount) * a) + (amount * b);\n",
       "  }\n",
       "\n",
       "  function _log(x, base)\n",
       "  {\n",
       "    return Math.log(Math.abs(x)) / Math.log(base);\n",
       "  }\n",
       "\n",
       "  function _in_range(a, x, b)\n",
       "  {\n",
       "    var left = Math.min(a, b);\n",
       "    var right = Math.max(a, b);\n",
       "    return left <= x && x <= right;\n",
       "  }\n",
       "\n",
       "  function to_domain(projection, range)\n",
       "  {\n",
       "    for(var i = 0; i != projection.length; ++i)\n",
       "    {\n",
       "      var segment = projection[i];\n",
       "      if(_in_range(segment.range.bounds.min, range, segment.range.bounds.max))\n",
       "      {\n",
       "        if(segment.scale == \"linear\")\n",
       "        {\n",
       "          var amount = (range - segment.range.min) / (segment.range.max - segment.range.min);\n",
       "          return _mix(segment.domain.min, segment.domain.max, amount)\n",
       "        }\n",
       "        else if(segment.scale[0] == \"log\")\n",
       "        {\n",
       "          var amount = (range - segment.range.min) / (segment.range.max - segment.range.min);\n",
       "          var base = segment.scale[1];\n",
       "          return sign(segment.domain.min) * Math.pow(base, _mix(_log(segment.domain.min, base), _log(segment.domain.max, base), amount));\n",
       "        }\n",
       "      }\n",
       "    }\n",
       "  }\n",
       "\n",
       "  // Compute mouse coordinates relative to a DOM object, with thanks to d3js.org, where this code originated.\n",
       "  function d3_mousePoint(container, e)\n",
       "  {\n",
       "    if (e.changedTouches) e = e.changedTouches[0];\n",
       "    var svg = container.ownerSVGElement || container;\n",
       "    if (svg.createSVGPoint) {\n",
       "      var point = svg.createSVGPoint();\n",
       "      point.x = e.clientX, point.y = e.clientY;\n",
       "      point = point.matrixTransform(container.getScreenCTM().inverse());\n",
       "      return [point.x, point.y];\n",
       "    }\n",
       "    var rect = container.getBoundingClientRect();\n",
       "    return [e.clientX - rect.left - container.clientLeft, e.clientY - rect.top - container.clientTop];\n",
       "  };\n",
       "\n",
       "  function display_coordinates(e)\n",
       "  {\n",
       "    var dom_axes = e.currentTarget.parentElement;\n",
       "    var data = axes[dom_axes.id];\n",
       "\n",
       "    point = d3_mousePoint(e.target, e);\n",
       "    var x = Number(to_domain(data[\"x\"], point[0])).toFixed(2);\n",
       "    var y = Number(to_domain(data[\"y\"], point[1])).toFixed(2);\n",
       "\n",
       "    var coordinates = dom_axes.querySelectorAll(\".toyplot-coordinates\");\n",
       "    for(var i = 0; i != coordinates.length; ++i)\n",
       "    {\n",
       "      coordinates[i].style.visibility = \"visible\";\n",
       "      coordinates[i].querySelector(\"text\").textContent = \"x=\" + x + \" y=\" + y;\n",
       "    }\n",
       "  }\n",
       "\n",
       "  function clear_coordinates(e)\n",
       "  {\n",
       "    var dom_axes = e.currentTarget.parentElement;\n",
       "    var coordinates = dom_axes.querySelectorAll(\".toyplot-coordinates\");\n",
       "    for(var i = 0; i != coordinates.length; ++i)\n",
       "      coordinates[i].style.visibility = \"hidden\";\n",
       "  }\n",
       "\n",
       "  for(var axes_id in axes)\n",
       "  {\n",
       "    var event_target = document.querySelector(\"#\" + axes_id + \" .toyplot-coordinate-events\");\n",
       "    event_target.onmousemove = display_coordinates;\n",
       "    event_target.onmouseout = clear_coordinates;\n",
       "  }\n",
       "})();\n",
       "</script></div></div>"
      ],
      "text/plain": [
       "<toyplot.canvas.Canvas at 0x106361e10>"
      ]
     },
     "metadata": {},
     "output_type": "display_data"
    }
   ],
   "source": [
    "%%time\n",
    "\n",
    "colormap = toyplot.color.LinearMap(toyplot.color.Palette([\"white\", \"yellow\", \"orange\", \"red\"]))\n",
    "\n",
    "canvas, axes, mark = toyplot.graph(\n",
    "    source,\n",
    "    target,\n",
    "    layout=toyplot.layout.FruchtermanReingold(edges=toyplot.layout.CurvedEdges()),\n",
    "    vcolor=colormap,\n",
    "    vmarker=\"o\",\n",
    "    vsize=100,\n",
    "    vopacity=1,\n",
    "    vstyle={\"stroke\":\"black\"},\n",
    "    ecolor=\"black\",\n",
    "    eopacity=0.2,\n",
    "    estyle={},\n",
    ");"
   ]
  },
  {
   "cell_type": "code",
   "execution_count": null,
   "metadata": {
    "collapsed": true
   },
   "outputs": [],
   "source": []
  }
 ],
 "metadata": {
  "kernelspec": {
   "display_name": "Python 2",
   "language": "python",
   "name": "python2"
  },
  "language_info": {
   "codemirror_mode": {
    "name": "ipython",
    "version": 2
   },
   "file_extension": ".py",
   "mimetype": "text/x-python",
   "name": "python",
   "nbconvert_exporter": "python",
   "pygments_lexer": "ipython2",
   "version": "2.7.10"
  }
 },
 "nbformat": 4,
 "nbformat_minor": 0
}

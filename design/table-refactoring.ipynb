{
 "cells": [
  {
   "cell_type": "markdown",
   "metadata": {},
   "source": [
    "## Overview\n",
    "\n",
    "It's time to revisit the way table coordinates work.  In particular, the new design should support the following:\n",
    "\n",
    "* Columns and rows can be inserted into table coordinates.\n",
    "    * Implies that embedded coordinate system ranges can be altered after construction.\n",
    "* Table data is exportable.\n",
    "    * We will store data as a heteregenous matrix of values.  The values in merged cells will be repeated.\n",
    "* Better table coordinate cell access.\n",
    "    * Allow regular data-table-like cell indexing.\n",
    "        * This will make it easier to do alternating row colors, grouped styles, etc.\n",
    "    * We might-or-might-not get rid of cell(), row(), and column() methods.\n",
    "* Table-aware plot embedding.\n",
    "    * It should be possible to embed a bar plot or a line plot simply by assigning a special \"formatter\" to a row / column.\n",
    "    * The layout of the embedded plot would be affected by cell spacing, gaps, padding, etc.\n",
    "    * The tricky part will be handling formatters that get overridden / are discontiguous.\n",
    "* Efficiency.\n",
    "    * Currently, we store a heavyweight `Cell` data structure for every cell in the table, with lots of redundant information.\n",
    "        * This is inefficient for visualizations that don't need to control every little thing, like `matrix` vis.\n",
    "        * Store cell properties using homogeneous matrix data structures.\n",
    "        * We can store the row heights and column widths globally.\n",
    "    * Merged cells are stored using extra `Cell` data structures that have pointers to their \"parent\" cells, but it's undefined what happens when merging merged cells.\n",
    "        * Handle merging using \"merge groups\" instead.\n",
    "        * Allow merged cells to be split apart by subsequent merges."
   ]
  },
  {
   "cell_type": "code",
   "execution_count": 1,
   "metadata": {
    "collapsed": true
   },
   "outputs": [],
   "source": [
    "import numpy\n",
    "import toyplot.data"
   ]
  },
  {
   "cell_type": "code",
   "execution_count": 2,
   "metadata": {
    "collapsed": false
   },
   "outputs": [],
   "source": [
    "data = toyplot.data.Table()\n",
    "data[\"a\"] = numpy.array([\"Foo-BAZ-46\", \"Bar-BAZ-46\", \"Foo-BAZ-23\", \"Bar-BAZ-23\", \"Foo-BLAH\", \"Bar-BLAH\"])\n",
    "data[\"b\"] = numpy.array([0.381, 0.142, 0.473, 0.234, 0.165, 0.186])"
   ]
  },
  {
   "cell_type": "code",
   "execution_count": 3,
   "metadata": {
    "collapsed": false
   },
   "outputs": [
    {
     "data": {
      "text/html": [
       "<div align=\"center\" class=\"toyplot\" id=\"ta843d1f68b4844d1ab3d09e88954e319\"><svg class=\"toyplot-canvas-Canvas\" height=\"250.0px\" id=\"t1bcfe59781024e91924ef548049f621a\" preserveAspectRatio=\"xMidYMid meet\" style=\"background-color:transparent;fill:rgb(16.1%,15.3%,14.1%);fill-opacity:1.0;font-family:Helvetica;font-size:12px;opacity:1.0;stroke:rgb(16.1%,15.3%,14.1%);stroke-opacity:1.0;stroke-width:1.0\" viewBox=\"0 0 600.0 250.0\" width=\"600.0px\" xmlns=\"http://www.w3.org/2000/svg\" xmlns:toyplot=\"http://www.sandia.gov/toyplot\" xmlns:xlink=\"http://www.w3.org/1999/xlink\"><g class=\"toyplot-coordinates-Table\" id=\"t3e43b3b3303b40bc859742ed5b9a51a4\"><text style=\"dominant-baseline:middle;fill:rgb(16.1%,15.3%,14.1%);fill-opacity:1.0;font-size:12px;font-weight:bold;stroke:none;text-anchor:begin\" transform=\"translate(55.0,60.714285714285715)\"><tspan style=\"dominant-baseline:inherit\">a</tspan></text><text style=\"dominant-baseline:middle;fill:rgb(16.1%,15.3%,14.1%);fill-opacity:1.0;font-size:12px;font-weight:bold;stroke:none;text-anchor:middle\" transform=\"translate(425.0,60.714285714285715)\"><tspan style=\"dominant-baseline:inherit\">b</tspan></text><text style=\"dominant-baseline:middle;fill:rgb(16.1%,15.3%,14.1%);fill-opacity:1.0;font-size:12px;stroke:none;text-anchor:begin\" transform=\"translate(55.0,82.142857142857139)\"><tspan style=\"dominant-baseline:inherit\">Foo-BAZ-46</tspan></text><text style=\"dominant-baseline:middle;fill:rgb(16.1%,15.3%,14.1%);fill-opacity:1.0;font-size:12px;stroke:none;text-anchor:end\" transform=\"translate(423.0,82.142857142857139)\"><tspan style=\"dominant-baseline:inherit\">0</tspan></text><text style=\"dominant-baseline:middle;fill:rgb(16.1%,15.3%,14.1%);fill-opacity:1.0;font-size:12px;stroke:none;text-anchor:middle\" transform=\"translate(425.0,82.142857142857139)\"><tspan style=\"dominant-baseline:inherit\">.</tspan></text><text style=\"dominant-baseline:middle;fill:rgb(16.1%,15.3%,14.1%);fill-opacity:1.0;font-size:12px;stroke:none;text-anchor:begin\" transform=\"translate(427.0,82.142857142857139)\"><tspan style=\"dominant-baseline:inherit\">381</tspan></text><text style=\"dominant-baseline:middle;fill:rgb(16.1%,15.3%,14.1%);fill-opacity:1.0;font-size:12px;stroke:none;text-anchor:begin\" transform=\"translate(55.0,103.57142857142858)\"><tspan style=\"dominant-baseline:inherit\">Bar-BAZ-46</tspan></text><text style=\"dominant-baseline:middle;fill:rgb(16.1%,15.3%,14.1%);fill-opacity:1.0;font-size:12px;stroke:none;text-anchor:end\" transform=\"translate(423.0,103.57142857142858)\"><tspan style=\"dominant-baseline:inherit\">0</tspan></text><text style=\"dominant-baseline:middle;fill:rgb(16.1%,15.3%,14.1%);fill-opacity:1.0;font-size:12px;stroke:none;text-anchor:middle\" transform=\"translate(425.0,103.57142857142858)\"><tspan style=\"dominant-baseline:inherit\">.</tspan></text><text style=\"dominant-baseline:middle;fill:rgb(16.1%,15.3%,14.1%);fill-opacity:1.0;font-size:12px;stroke:none;text-anchor:begin\" transform=\"translate(427.0,103.57142857142858)\"><tspan style=\"dominant-baseline:inherit\">142</tspan></text><text style=\"dominant-baseline:middle;fill:rgb(16.1%,15.3%,14.1%);fill-opacity:1.0;font-size:12px;stroke:none;text-anchor:begin\" transform=\"translate(55.0,125.0)\"><tspan style=\"dominant-baseline:inherit\">Foo-BAZ-23</tspan></text><text style=\"dominant-baseline:middle;fill:rgb(16.1%,15.3%,14.1%);fill-opacity:1.0;font-size:12px;stroke:none;text-anchor:end\" transform=\"translate(423.0,125.0)\"><tspan style=\"dominant-baseline:inherit\">0</tspan></text><text style=\"dominant-baseline:middle;fill:rgb(16.1%,15.3%,14.1%);fill-opacity:1.0;font-size:12px;stroke:none;text-anchor:middle\" transform=\"translate(425.0,125.0)\"><tspan style=\"dominant-baseline:inherit\">.</tspan></text><text style=\"dominant-baseline:middle;fill:rgb(16.1%,15.3%,14.1%);fill-opacity:1.0;font-size:12px;stroke:none;text-anchor:begin\" transform=\"translate(427.0,125.0)\"><tspan style=\"dominant-baseline:inherit\">473</tspan></text><text style=\"dominant-baseline:middle;fill:rgb(16.1%,15.3%,14.1%);fill-opacity:1.0;font-size:12px;stroke:none;text-anchor:begin\" transform=\"translate(55.0,146.42857142857144)\"><tspan style=\"dominant-baseline:inherit\">Bar-BAZ-23</tspan></text><text style=\"dominant-baseline:middle;fill:rgb(16.1%,15.3%,14.1%);fill-opacity:1.0;font-size:12px;stroke:none;text-anchor:end\" transform=\"translate(423.0,146.42857142857144)\"><tspan style=\"dominant-baseline:inherit\">0</tspan></text><text style=\"dominant-baseline:middle;fill:rgb(16.1%,15.3%,14.1%);fill-opacity:1.0;font-size:12px;stroke:none;text-anchor:middle\" transform=\"translate(425.0,146.42857142857144)\"><tspan style=\"dominant-baseline:inherit\">.</tspan></text><text style=\"dominant-baseline:middle;fill:rgb(16.1%,15.3%,14.1%);fill-opacity:1.0;font-size:12px;stroke:none;text-anchor:begin\" transform=\"translate(427.0,146.42857142857144)\"><tspan style=\"dominant-baseline:inherit\">234</tspan></text><text style=\"dominant-baseline:middle;fill:rgb(16.1%,15.3%,14.1%);fill-opacity:1.0;font-size:12px;stroke:none;text-anchor:begin\" transform=\"translate(55.0,167.85714285714283)\"><tspan style=\"dominant-baseline:inherit\">Foo-BLAH</tspan></text><text style=\"dominant-baseline:middle;fill:rgb(16.1%,15.3%,14.1%);fill-opacity:1.0;font-size:12px;stroke:none;text-anchor:end\" transform=\"translate(423.0,167.85714285714283)\"><tspan style=\"dominant-baseline:inherit\">0</tspan></text><text style=\"dominant-baseline:middle;fill:rgb(16.1%,15.3%,14.1%);fill-opacity:1.0;font-size:12px;stroke:none;text-anchor:middle\" transform=\"translate(425.0,167.85714285714283)\"><tspan style=\"dominant-baseline:inherit\">.</tspan></text><text style=\"dominant-baseline:middle;fill:rgb(16.1%,15.3%,14.1%);fill-opacity:1.0;font-size:12px;stroke:none;text-anchor:begin\" transform=\"translate(427.0,167.85714285714283)\"><tspan style=\"dominant-baseline:inherit\">165</tspan></text><text style=\"dominant-baseline:middle;fill:rgb(16.1%,15.3%,14.1%);fill-opacity:1.0;font-size:12px;stroke:none;text-anchor:begin\" transform=\"translate(55.0,189.28571428571428)\"><tspan style=\"dominant-baseline:inherit\">Bar-BLAH</tspan></text><text style=\"dominant-baseline:middle;fill:rgb(16.1%,15.3%,14.1%);fill-opacity:1.0;font-size:12px;stroke:none;text-anchor:end\" transform=\"translate(423.0,189.28571428571428)\"><tspan style=\"dominant-baseline:inherit\">0</tspan></text><text style=\"dominant-baseline:middle;fill:rgb(16.1%,15.3%,14.1%);fill-opacity:1.0;font-size:12px;stroke:none;text-anchor:middle\" transform=\"translate(425.0,189.28571428571428)\"><tspan style=\"dominant-baseline:inherit\">.</tspan></text><text style=\"dominant-baseline:middle;fill:rgb(16.1%,15.3%,14.1%);fill-opacity:1.0;font-size:12px;stroke:none;text-anchor:begin\" transform=\"translate(427.0,189.28571428571428)\"><tspan style=\"dominant-baseline:inherit\">186</tspan></text><line style=\"stroke:rgb(16.1%,15.3%,14.1%);stroke-opacity:1.0;stroke-width:0.5\" x1=\"50.0\" x2=\"550.0\" y1=\"71.428571428571431\" y2=\"71.428571428571431\"></line></g></svg><div class=\"toyplot-interactive\"></div></div>"
      ]
     },
     "metadata": {},
     "output_type": "display_data"
    }
   ],
   "source": [
    "canvas, table = toyplot.table(data, width=600, height=250)"
   ]
  },
  {
   "cell_type": "code",
   "execution_count": 4,
   "metadata": {
    "collapsed": false
   },
   "outputs": [
    {
     "ename": "AttributeError",
     "evalue": "'CellReference' object has no attribute 'merge'",
     "output_type": "error",
     "traceback": [
      "\u001b[0;31m---------------------------------------------------------------------------\u001b[0m",
      "\u001b[0;31mAttributeError\u001b[0m                            Traceback (most recent call last)",
      "\u001b[0;32m<ipython-input-4-9a99064a8939>\u001b[0m in \u001b[0;36m<module>\u001b[0;34m()\u001b[0m\n\u001b[1;32m     11\u001b[0m \u001b[0mtable\u001b[0m\u001b[0;34m.\u001b[0m\u001b[0mcells\u001b[0m\u001b[0;34m.\u001b[0m\u001b[0mcolumn\u001b[0m\u001b[0;34m(\u001b[0m\u001b[0;36m3\u001b[0m\u001b[0;34m)\u001b[0m\u001b[0;34m.\u001b[0m\u001b[0mwidth\u001b[0m \u001b[0;34m=\u001b[0m \u001b[0;36m55\u001b[0m\u001b[0;34m\u001b[0m\u001b[0m\n\u001b[1;32m     12\u001b[0m \u001b[0mtable\u001b[0m\u001b[0;34m.\u001b[0m\u001b[0mcells\u001b[0m\u001b[0;34m.\u001b[0m\u001b[0mcolumn\u001b[0m\u001b[0;34m(\u001b[0m\u001b[0;36m3\u001b[0m\u001b[0;34m)\u001b[0m\u001b[0;34m.\u001b[0m\u001b[0mformat\u001b[0m \u001b[0;34m=\u001b[0m \u001b[0mtoyplot\u001b[0m\u001b[0;34m.\u001b[0m\u001b[0mformat\u001b[0m\u001b[0;34m.\u001b[0m\u001b[0mFloatFormatter\u001b[0m\u001b[0;34m(\u001b[0m\u001b[0mformat\u001b[0m\u001b[0;34m=\u001b[0m\u001b[0;34m\"{:.2f}s\"\u001b[0m\u001b[0;34m)\u001b[0m\u001b[0;34m\u001b[0m\u001b[0m\n\u001b[0;32m---> 13\u001b[0;31m \u001b[0mtable\u001b[0m\u001b[0;34m.\u001b[0m\u001b[0mcells\u001b[0m\u001b[0;34m.\u001b[0m\u001b[0mcell\u001b[0m\u001b[0;34m(\u001b[0m\u001b[0;36m0\u001b[0m\u001b[0;34m,\u001b[0m\u001b[0;36m0\u001b[0m\u001b[0;34m,\u001b[0m\u001b[0mrowspan\u001b[0m\u001b[0;34m=\u001b[0m\u001b[0;36m2\u001b[0m\u001b[0;34m)\u001b[0m\u001b[0;34m.\u001b[0m\u001b[0mmerge\u001b[0m\u001b[0;34m(\u001b[0m\u001b[0;34m)\u001b[0m\u001b[0;34m.\u001b[0m\u001b[0mdata\u001b[0m \u001b[0;34m=\u001b[0m \u001b[0;34m\"Red\"\u001b[0m\u001b[0;34m\u001b[0m\u001b[0m\n\u001b[0m\u001b[1;32m     14\u001b[0m \u001b[0mtable\u001b[0m\u001b[0;34m.\u001b[0m\u001b[0mcells\u001b[0m\u001b[0;34m.\u001b[0m\u001b[0mcell\u001b[0m\u001b[0;34m(\u001b[0m\u001b[0;36m2\u001b[0m\u001b[0;34m,\u001b[0m\u001b[0;36m0\u001b[0m\u001b[0;34m,\u001b[0m\u001b[0mrowspan\u001b[0m\u001b[0;34m=\u001b[0m\u001b[0;36m2\u001b[0m\u001b[0;34m)\u001b[0m\u001b[0;34m.\u001b[0m\u001b[0mmerge\u001b[0m\u001b[0;34m(\u001b[0m\u001b[0;34m)\u001b[0m\u001b[0;34m.\u001b[0m\u001b[0mdata\u001b[0m \u001b[0;34m=\u001b[0m \u001b[0;34m\"Green\"\u001b[0m\u001b[0;34m\u001b[0m\u001b[0m\n\u001b[1;32m     15\u001b[0m \u001b[0mtable\u001b[0m\u001b[0;34m.\u001b[0m\u001b[0mcells\u001b[0m\u001b[0;34m.\u001b[0m\u001b[0mcell\u001b[0m\u001b[0;34m(\u001b[0m\u001b[0;36m4\u001b[0m\u001b[0;34m,\u001b[0m\u001b[0;36m0\u001b[0m\u001b[0;34m,\u001b[0m\u001b[0mrowspan\u001b[0m\u001b[0;34m=\u001b[0m\u001b[0;36m2\u001b[0m\u001b[0;34m)\u001b[0m\u001b[0;34m.\u001b[0m\u001b[0mmerge\u001b[0m\u001b[0;34m(\u001b[0m\u001b[0;34m)\u001b[0m\u001b[0;34m.\u001b[0m\u001b[0mdata\u001b[0m \u001b[0;34m=\u001b[0m \u001b[0;34m\"Blue\"\u001b[0m\u001b[0;34m\u001b[0m\u001b[0m\n",
      "\u001b[0;31mAttributeError\u001b[0m: 'CellReference' object has no attribute 'merge'"
     ]
    },
    {
     "data": {
      "text/html": [
       "<div align=\"center\" class=\"toyplot\" id=\"t352f54e28201459fab6b1d62641b0365\"><svg class=\"toyplot-canvas-Canvas\" height=\"250.0px\" id=\"t7f02115e0f294361ab336648095eda02\" preserveAspectRatio=\"xMidYMid meet\" style=\"background-color:transparent;fill:rgb(16.1%,15.3%,14.1%);fill-opacity:1.0;font-family:Helvetica;font-size:12px;opacity:1.0;stroke:rgb(16.1%,15.3%,14.1%);stroke-opacity:1.0;stroke-width:1.0\" viewBox=\"0 0 600.0 250.0\" width=\"600.0px\" xmlns=\"http://www.w3.org/2000/svg\" xmlns:toyplot=\"http://www.sandia.gov/toyplot\" xmlns:xlink=\"http://www.w3.org/1999/xlink\"><g class=\"toyplot-coordinates-Table\" id=\"t0d54e77690c1495abd05d4ecc99329c1\"><text style=\"dominant-baseline:middle;fill:rgb(16.1%,15.3%,14.1%);fill-opacity:1.0;font-size:12px;stroke:none;text-anchor:begin\" transform=\"translate(105.0,62.5)\"><tspan style=\"dominant-baseline:inherit\">Foo-BAZ-46</tspan></text><text style=\"dominant-baseline:middle;fill:rgb(16.1%,15.3%,14.1%);fill-opacity:1.0;font-size:12px;stroke:none;text-anchor:begin\" transform=\"translate(500.0,62.5)\"><tspan style=\"dominant-baseline:inherit\">0.381</tspan></text><text style=\"dominant-baseline:middle;fill:rgb(16.1%,15.3%,14.1%);fill-opacity:1.0;font-size:12px;stroke:none;text-anchor:begin\" transform=\"translate(105.0,87.5)\"><tspan style=\"dominant-baseline:inherit\">Bar-BAZ-46</tspan></text><text style=\"dominant-baseline:middle;fill:rgb(16.1%,15.3%,14.1%);fill-opacity:1.0;font-size:12px;stroke:none;text-anchor:begin\" transform=\"translate(500.0,87.5)\"><tspan style=\"dominant-baseline:inherit\">0.142</tspan></text><text style=\"dominant-baseline:middle;fill:rgb(16.1%,15.3%,14.1%);fill-opacity:1.0;font-size:12px;stroke:none;text-anchor:begin\" transform=\"translate(105.0,112.5)\"><tspan style=\"dominant-baseline:inherit\">Foo-BAZ-23</tspan></text><text style=\"dominant-baseline:middle;fill:rgb(16.1%,15.3%,14.1%);fill-opacity:1.0;font-size:12px;stroke:none;text-anchor:begin\" transform=\"translate(500.0,112.5)\"><tspan style=\"dominant-baseline:inherit\">0.473</tspan></text><text style=\"dominant-baseline:middle;fill:rgb(16.1%,15.3%,14.1%);fill-opacity:1.0;font-size:12px;stroke:none;text-anchor:begin\" transform=\"translate(105.0,137.5)\"><tspan style=\"dominant-baseline:inherit\">Bar-BAZ-23</tspan></text><text style=\"dominant-baseline:middle;fill:rgb(16.1%,15.3%,14.1%);fill-opacity:1.0;font-size:12px;stroke:none;text-anchor:begin\" transform=\"translate(500.0,137.5)\"><tspan style=\"dominant-baseline:inherit\">0.234</tspan></text><text style=\"dominant-baseline:middle;fill:rgb(16.1%,15.3%,14.1%);fill-opacity:1.0;font-size:12px;stroke:none;text-anchor:begin\" transform=\"translate(105.0,162.5)\"><tspan style=\"dominant-baseline:inherit\">Foo-BLAH</tspan></text><text style=\"dominant-baseline:middle;fill:rgb(16.1%,15.3%,14.1%);fill-opacity:1.0;font-size:12px;stroke:none;text-anchor:begin\" transform=\"translate(500.0,162.5)\"><tspan style=\"dominant-baseline:inherit\">0.165</tspan></text><text style=\"dominant-baseline:middle;fill:rgb(16.1%,15.3%,14.1%);fill-opacity:1.0;font-size:12px;stroke:none;text-anchor:begin\" transform=\"translate(105.0,187.5)\"><tspan style=\"dominant-baseline:inherit\">Bar-BLAH</tspan></text><text style=\"dominant-baseline:middle;fill:rgb(16.1%,15.3%,14.1%);fill-opacity:1.0;font-size:12px;stroke:none;text-anchor:begin\" transform=\"translate(500.0,187.5)\"><tspan style=\"dominant-baseline:inherit\">0.186</tspan></text><line style=\"stroke:rgb(16.1%,15.3%,14.1%);stroke-opacity:1.0;stroke-width:0.5\" x1=\"50.0\" x2=\"550.0\" y1=\"50.0\" y2=\"50.0\"></line><line style=\"stroke:rgb(16.1%,15.3%,14.1%);stroke-opacity:1.0;stroke-width:0.5\" x1=\"50.0\" x2=\"550.0\" y1=\"75.0\" y2=\"75.0\"></line><line style=\"stroke:rgb(16.1%,15.3%,14.1%);stroke-opacity:1.0;stroke-width:0.5\" x1=\"50.0\" x2=\"550.0\" y1=\"100.0\" y2=\"100.0\"></line><line style=\"stroke:rgb(16.1%,15.3%,14.1%);stroke-opacity:1.0;stroke-width:0.5\" x1=\"50.0\" x2=\"550.0\" y1=\"125.0\" y2=\"125.0\"></line><line style=\"stroke:rgb(16.1%,15.3%,14.1%);stroke-opacity:1.0;stroke-width:0.5\" x1=\"50.0\" x2=\"550.0\" y1=\"150.0\" y2=\"150.0\"></line><line style=\"stroke:rgb(16.1%,15.3%,14.1%);stroke-opacity:1.0;stroke-width:0.5\" x1=\"50.0\" x2=\"550.0\" y1=\"175.0\" y2=\"175.0\"></line><line style=\"stroke:rgb(16.1%,15.3%,14.1%);stroke-opacity:1.0;stroke-width:0.5\" x1=\"50.0\" x2=\"550.0\" y1=\"200.0\" y2=\"200.0\"></line><line style=\"stroke:rgb(16.1%,15.3%,14.1%);stroke-opacity:1.0;stroke-width:0.5\" x1=\"50.0\" x2=\"50.0\" y1=\"50.0\" y2=\"200.0\"></line><line style=\"stroke:rgb(16.1%,15.3%,14.1%);stroke-opacity:1.0;stroke-width:0.5\" x1=\"100.0\" x2=\"100.0\" y1=\"50.0\" y2=\"200.0\"></line><line style=\"stroke:rgb(16.1%,15.3%,14.1%);stroke-opacity:1.0;stroke-width:0.5\" x1=\"190.0\" x2=\"190.0\" y1=\"50.0\" y2=\"200.0\"></line><line style=\"stroke:rgb(16.1%,15.3%,14.1%);stroke-opacity:1.0;stroke-width:0.5\" x1=\"495.0\" x2=\"495.0\" y1=\"50.0\" y2=\"200.0\"></line><line style=\"stroke:rgb(16.1%,15.3%,14.1%);stroke-opacity:1.0;stroke-width:0.5\" x1=\"550.0\" x2=\"550.0\" y1=\"50.0\" y2=\"200.0\"></line><text style=\"dominant-baseline:middle;font-size:14px;font-weight:bold;stroke:none;text-anchor:middle\" transform=\"translate(300.0,50.0)translate(0,-14.0)\"><tspan style=\"dominant-baseline:inherit\">Quarterly Report</tspan></text></g></svg><div class=\"toyplot-interactive\"></div></div>"
      ]
     },
     "metadata": {},
     "output_type": "display_data"
    }
   ],
   "source": [
    "colormap = toyplot.color.CategoricalMap()\n",
    "\n",
    "canvas = toyplot.Canvas(width=600, height=250)\n",
    "table = canvas.table(rows=6, columns=4, label=\"Quarterly Report\")\n",
    "table.grid.hlines[...] = \"single\"\n",
    "table.grid.vlines[...] = \"single\"\n",
    "table.cells.column(0).width = 50\n",
    "table.cells.column(1).data = data[\"a\"]\n",
    "table.cells.column(1).width = 90\n",
    "table.cells.column(3).data = data[\"b\"]\n",
    "table.cells.column(3).width = 55\n",
    "table.cells.column(3).format = toyplot.format.FloatFormatter(format=\"{:.2f}s\")\n",
    "table.cells.cell(0,0,rowspan=2).merge().data = \"Red\"\n",
    "table.cells.cell(2,0,rowspan=2).merge().data = \"Green\"\n",
    "table.cells.cell(4,0,rowspan=2).merge().data = \"Blue\"\n",
    "#axes = table.cell(0, 2, rowspan=6).axes(show=True, yshow=False, padding=0, xlabel=\"Seconds\")\n",
    "#axes.x.spine.show = False\n",
    "#axes.bars(data[\"b\"][::-1], along=\"y\", style={\"stroke-width\":8}, color=(numpy.array([0,1,0,1,0,1])[::-1], colormap));"
   ]
  },
  {
   "cell_type": "raw",
   "metadata": {},
   "source": [
    "canvas = toyplot.Canvas(width=600, height=250)\n",
    "table = canvas.table(rows=6, columns=4, label=\"Quarterly Report\")\n",
    "table.column(0).width = 50\n",
    "table.column(1).data = data[\"a\"]\n",
    "table.column(1).width = 90\n",
    "table.column(3).width = 55\n",
    "table.column(3).format = toyplot.format.FloatFormatter(format=\"{:.2f}s\")\n",
    "table.cell(0,0,rowspan=2).merge().data = \"Red\"\n",
    "table.cell(2,0,rowspan=2).merge().data = \"Green\"\n",
    "table.cell(4,0,rowspan=2).merge().data = \"Blue\"\n",
    "for index, value in enumerate(data[\"b\"]):\n",
    "    axes = table.cell(index, 2).axes(padding=5, xmin=0, xmax=data[\"b\"].max(), xlabel=\"Seconds\", yshow=False)\n",
    "    axes.bars([value], along=\"y\", color=colormap.color(index % 2))\n",
    "    axes.show = index == 5\n",
    "    axes.x.spine.show = False"
   ]
  },
  {
   "cell_type": "code",
   "execution_count": null,
   "metadata": {
    "collapsed": true
   },
   "outputs": [],
   "source": []
  }
 ],
 "metadata": {
  "kernelspec": {
   "display_name": "Python 2",
   "language": "python",
   "name": "python2"
  },
  "language_info": {
   "codemirror_mode": {
    "name": "ipython",
    "version": 2
   },
   "file_extension": ".py",
   "mimetype": "text/x-python",
   "name": "python",
   "nbconvert_exporter": "python",
   "pygments_lexer": "ipython2",
   "version": "2.7.11"
  }
 },
 "nbformat": 4,
 "nbformat_minor": 0
}

{
 "cells": [
  {
   "cell_type": "markdown",
   "metadata": {},
   "source": [
    "## Overview\n",
    "\n",
    "It's time to revisit the way table coordinates work.  In particular, the new design should support the following:\n",
    "\n",
    "* The current API is inconsistent, and prevents numpy advanced indexing.\n",
    "\n",
    "        table.column(0).width = 100\n",
    "        table.column[0].width = 100\n",
    "        table.column(0:3).width = 100\n",
    "        table.column[0:3].width = 100\n",
    "        table.width[:,0:3] = 100\n",
    "        \n",
    "        table.cell(0, 3).width = 100\n",
    "        table.cell[0, 3].width = 100\n",
    "\n",
    "* CellReferences:\n",
    "\n",
    "        region.column[]\n",
    "        region.row[]\n",
    "        region.cell[]\n",
    "        region.all?\n",
    "        region.cells?\n",
    "\n",
    "* Regions:\n",
    "    * These are the well-defined regions:\n",
    "\n",
    "            table.top.left\n",
    "            table.top\n",
    "            table.top.right\n",
    "            table.left\n",
    "            table.body\n",
    "            table.right\n",
    "            table.bottom.left\n",
    "            table.bottom\n",
    "            table.bottom.right\n",
    "        \n",
    "    * This is the special \"catchall\" region that accesses everything. We're holding on to it because it's useful for things like setting the alignment of every cell in a column, including the header.\n",
    "        \n",
    "            table.cells\n",
    "\n",
    "    * These are aliases.  They should be deprecated to avoid confusion.\n",
    "\n",
    "            table.header\n",
    "            table.footer\n",
    "\n",
    "* Columns and rows can be inserted into table coordinates.\n",
    "\n",
    "* Table-aware plot embedding.\n",
    "    * It should be possible to embed a bar plot or a line plot simply by assigning a special \"formatter\" to a row / column.\n",
    "    * The layout of the embedded plot would be affected by cell spacing, gaps, padding, etc.\n",
    "    * The tricky part will be handling formatters that get overridden / are discontiguous.\n",
    "        \n",
    "**TODO**\n",
    "\n",
    "* When merging cells, merge their contents.\n",
    "* Redesign indexing API.\n",
    "* Add column / row insertion API.\n",
    "* Restore the `axes(cell_padding)` attribute - or should there be separate top-right-bottom-left padding for every cell?\n",
    "* Should row_offset and column_offset be handled with label styles?\n",
    "* Implement data export."
   ]
  },
  {
   "cell_type": "code",
   "execution_count": 1,
   "metadata": {
    "collapsed": true
   },
   "outputs": [],
   "source": [
    "import numpy\n",
    "import toyplot.data"
   ]
  },
  {
   "cell_type": "code",
   "execution_count": 2,
   "metadata": {
    "collapsed": false
   },
   "outputs": [],
   "source": [
    "data = toyplot.data.Table()\n",
    "data[\"a\"] = numpy.array([\"Foo-BAZ-46\", \"Bar-BAZ-46\", \"Foo-BAZ-23\", \"Bar-BAZ-23\", \"Foo-BLAH\", \"Bar-BLAH\"])\n",
    "data[\"b\"] = numpy.array([0.381, 0.142, 0.473, 0.234, 0.165, 0.186])"
   ]
  },
  {
   "cell_type": "code",
   "execution_count": 3,
   "metadata": {
    "collapsed": false
   },
   "outputs": [
    {
     "ename": "TypeError",
     "evalue": "'instancemethod' object has no attribute '__getitem__'",
     "output_type": "error",
     "traceback": [
      "\u001b[0;31m---------------------------------------------------------------------------\u001b[0m",
      "\u001b[0;31mTypeError\u001b[0m                                 Traceback (most recent call last)",
      "\u001b[0;32m<ipython-input-3-944adaaff8e7>\u001b[0m in \u001b[0;36m<module>\u001b[0;34m()\u001b[0m\n\u001b[1;32m      3\u001b[0m \u001b[0mtable\u001b[0m\u001b[0;34m.\u001b[0m\u001b[0mgrid\u001b[0m\u001b[0;34m.\u001b[0m\u001b[0mvlines\u001b[0m\u001b[0;34m[\u001b[0m\u001b[0;34m.\u001b[0m\u001b[0;34m.\u001b[0m\u001b[0;34m.\u001b[0m\u001b[0;34m]\u001b[0m \u001b[0;34m=\u001b[0m \u001b[0;34m\"single\"\u001b[0m\u001b[0;34m\u001b[0m\u001b[0m\n\u001b[1;32m      4\u001b[0m \u001b[0;31m#table.cells.column[0].lstyle = {\"-toyplot-anchor-shift\":\"0.75in\"}\u001b[0m\u001b[0;34m\u001b[0m\u001b[0;34m\u001b[0m\u001b[0m\n\u001b[0;32m----> 5\u001b[0;31m \u001b[0mtable\u001b[0m\u001b[0;34m.\u001b[0m\u001b[0mcells\u001b[0m\u001b[0;34m.\u001b[0m\u001b[0mcolumn\u001b[0m\u001b[0;34m[\u001b[0m\u001b[0;36m0\u001b[0m\u001b[0;34m]\u001b[0m\u001b[0;34m.\u001b[0m\u001b[0malign\u001b[0m \u001b[0;34m=\u001b[0m \u001b[0;34m\"center\"\u001b[0m\u001b[0;34m\u001b[0m\u001b[0m\n\u001b[0m",
      "\u001b[0;31mTypeError\u001b[0m: 'instancemethod' object has no attribute '__getitem__'"
     ]
    },
    {
     "data": {
      "text/html": [
       "<div align=\"center\" class=\"toyplot\" id=\"t65c2b81e6d934e77869474d9594d6572\"><svg class=\"toyplot-canvas-Canvas\" height=\"250.0px\" id=\"tdf88707ce94d416ebcebe809bd533a89\" preserveAspectRatio=\"xMidYMid meet\" style=\"background-color:transparent;fill:rgb(16.1%,15.3%,14.1%);fill-opacity:1.0;font-family:Helvetica;font-size:12px;opacity:1.0;stroke:rgb(16.1%,15.3%,14.1%);stroke-opacity:1.0;stroke-width:1.0\" viewBox=\"0 0 600.0 250.0\" width=\"600.0px\" xmlns=\"http://www.w3.org/2000/svg\" xmlns:toyplot=\"http://www.sandia.gov/toyplot\" xmlns:xlink=\"http://www.w3.org/1999/xlink\"><g class=\"toyplot-coordinates-Table\" id=\"t46865347223e42b09e0acb04ac9995e0\"><text style=\"dominant-baseline:middle;fill:rgb(16.1%,15.3%,14.1%);fill-opacity:1.0;font-size:12px;font-weight:bold;stroke:none;text-anchor:begin\" transform=\"translate(55.0,60.714285714285715)\"><tspan style=\"dominant-baseline:inherit\">a</tspan></text><text style=\"dominant-baseline:middle;fill:rgb(16.1%,15.3%,14.1%);fill-opacity:1.0;font-size:12px;font-weight:bold;stroke:none;text-anchor:middle\" transform=\"translate(425.0,60.714285714285715)\"><tspan style=\"dominant-baseline:inherit\">b</tspan></text><text style=\"dominant-baseline:middle;fill:rgb(16.1%,15.3%,14.1%);fill-opacity:1.0;font-size:12px;stroke:none;text-anchor:begin\" transform=\"translate(55.0,82.142857142857139)\"><tspan style=\"dominant-baseline:inherit\">Foo-BAZ-46</tspan></text><text style=\"dominant-baseline:middle;fill:rgb(16.1%,15.3%,14.1%);fill-opacity:1.0;font-size:12px;stroke:none;text-anchor:end\" transform=\"translate(423.0,82.142857142857139)\"><tspan style=\"dominant-baseline:inherit\">0</tspan></text><text style=\"dominant-baseline:middle;fill:rgb(16.1%,15.3%,14.1%);fill-opacity:1.0;font-size:12px;stroke:none;text-anchor:middle\" transform=\"translate(425.0,82.142857142857139)\"><tspan style=\"dominant-baseline:inherit\">.</tspan></text><text style=\"dominant-baseline:middle;fill:rgb(16.1%,15.3%,14.1%);fill-opacity:1.0;font-size:12px;stroke:none;text-anchor:begin\" transform=\"translate(427.0,82.142857142857139)\"><tspan style=\"dominant-baseline:inherit\">381</tspan></text><text style=\"dominant-baseline:middle;fill:rgb(16.1%,15.3%,14.1%);fill-opacity:1.0;font-size:12px;stroke:none;text-anchor:begin\" transform=\"translate(55.0,103.57142857142857)\"><tspan style=\"dominant-baseline:inherit\">Bar-BAZ-46</tspan></text><text style=\"dominant-baseline:middle;fill:rgb(16.1%,15.3%,14.1%);fill-opacity:1.0;font-size:12px;stroke:none;text-anchor:end\" transform=\"translate(423.0,103.57142857142857)\"><tspan style=\"dominant-baseline:inherit\">0</tspan></text><text style=\"dominant-baseline:middle;fill:rgb(16.1%,15.3%,14.1%);fill-opacity:1.0;font-size:12px;stroke:none;text-anchor:middle\" transform=\"translate(425.0,103.57142857142857)\"><tspan style=\"dominant-baseline:inherit\">.</tspan></text><text style=\"dominant-baseline:middle;fill:rgb(16.1%,15.3%,14.1%);fill-opacity:1.0;font-size:12px;stroke:none;text-anchor:begin\" transform=\"translate(427.0,103.57142857142857)\"><tspan style=\"dominant-baseline:inherit\">142</tspan></text><text style=\"dominant-baseline:middle;fill:rgb(16.1%,15.3%,14.1%);fill-opacity:1.0;font-size:12px;stroke:none;text-anchor:begin\" transform=\"translate(55.0,125.0)\"><tspan style=\"dominant-baseline:inherit\">Foo-BAZ-23</tspan></text><text style=\"dominant-baseline:middle;fill:rgb(16.1%,15.3%,14.1%);fill-opacity:1.0;font-size:12px;stroke:none;text-anchor:end\" transform=\"translate(423.0,125.0)\"><tspan style=\"dominant-baseline:inherit\">0</tspan></text><text style=\"dominant-baseline:middle;fill:rgb(16.1%,15.3%,14.1%);fill-opacity:1.0;font-size:12px;stroke:none;text-anchor:middle\" transform=\"translate(425.0,125.0)\"><tspan style=\"dominant-baseline:inherit\">.</tspan></text><text style=\"dominant-baseline:middle;fill:rgb(16.1%,15.3%,14.1%);fill-opacity:1.0;font-size:12px;stroke:none;text-anchor:begin\" transform=\"translate(427.0,125.0)\"><tspan style=\"dominant-baseline:inherit\">473</tspan></text><text style=\"dominant-baseline:middle;fill:rgb(16.1%,15.3%,14.1%);fill-opacity:1.0;font-size:12px;stroke:none;text-anchor:begin\" transform=\"translate(55.0,146.42857142857144)\"><tspan style=\"dominant-baseline:inherit\">Bar-BAZ-23</tspan></text><text style=\"dominant-baseline:middle;fill:rgb(16.1%,15.3%,14.1%);fill-opacity:1.0;font-size:12px;stroke:none;text-anchor:end\" transform=\"translate(423.0,146.42857142857144)\"><tspan style=\"dominant-baseline:inherit\">0</tspan></text><text style=\"dominant-baseline:middle;fill:rgb(16.1%,15.3%,14.1%);fill-opacity:1.0;font-size:12px;stroke:none;text-anchor:middle\" transform=\"translate(425.0,146.42857142857144)\"><tspan style=\"dominant-baseline:inherit\">.</tspan></text><text style=\"dominant-baseline:middle;fill:rgb(16.1%,15.3%,14.1%);fill-opacity:1.0;font-size:12px;stroke:none;text-anchor:begin\" transform=\"translate(427.0,146.42857142857144)\"><tspan style=\"dominant-baseline:inherit\">234</tspan></text><text style=\"dominant-baseline:middle;fill:rgb(16.1%,15.3%,14.1%);fill-opacity:1.0;font-size:12px;stroke:none;text-anchor:begin\" transform=\"translate(55.0,167.85714285714283)\"><tspan style=\"dominant-baseline:inherit\">Foo-BLAH</tspan></text><text style=\"dominant-baseline:middle;fill:rgb(16.1%,15.3%,14.1%);fill-opacity:1.0;font-size:12px;stroke:none;text-anchor:end\" transform=\"translate(423.0,167.85714285714283)\"><tspan style=\"dominant-baseline:inherit\">0</tspan></text><text style=\"dominant-baseline:middle;fill:rgb(16.1%,15.3%,14.1%);fill-opacity:1.0;font-size:12px;stroke:none;text-anchor:middle\" transform=\"translate(425.0,167.85714285714283)\"><tspan style=\"dominant-baseline:inherit\">.</tspan></text><text style=\"dominant-baseline:middle;fill:rgb(16.1%,15.3%,14.1%);fill-opacity:1.0;font-size:12px;stroke:none;text-anchor:begin\" transform=\"translate(427.0,167.85714285714283)\"><tspan style=\"dominant-baseline:inherit\">165</tspan></text><text style=\"dominant-baseline:middle;fill:rgb(16.1%,15.3%,14.1%);fill-opacity:1.0;font-size:12px;stroke:none;text-anchor:begin\" transform=\"translate(55.0,189.28571428571428)\"><tspan style=\"dominant-baseline:inherit\">Bar-BLAH</tspan></text><text style=\"dominant-baseline:middle;fill:rgb(16.1%,15.3%,14.1%);fill-opacity:1.0;font-size:12px;stroke:none;text-anchor:end\" transform=\"translate(423.0,189.28571428571428)\"><tspan style=\"dominant-baseline:inherit\">0</tspan></text><text style=\"dominant-baseline:middle;fill:rgb(16.1%,15.3%,14.1%);fill-opacity:1.0;font-size:12px;stroke:none;text-anchor:middle\" transform=\"translate(425.0,189.28571428571428)\"><tspan style=\"dominant-baseline:inherit\">.</tspan></text><text style=\"dominant-baseline:middle;fill:rgb(16.1%,15.3%,14.1%);fill-opacity:1.0;font-size:12px;stroke:none;text-anchor:begin\" transform=\"translate(427.0,189.28571428571428)\"><tspan style=\"dominant-baseline:inherit\">186</tspan></text><line style=\"stroke:rgb(16.1%,15.3%,14.1%);stroke-opacity:1.0;stroke-width:0.5\" x1=\"50.0\" x2=\"550.0\" y1=\"50.0\" y2=\"50.0\"></line><line style=\"stroke:rgb(16.1%,15.3%,14.1%);stroke-opacity:1.0;stroke-width:0.5\" x1=\"50.0\" x2=\"550.0\" y1=\"71.428571428571431\" y2=\"71.428571428571431\"></line><line style=\"stroke:rgb(16.1%,15.3%,14.1%);stroke-opacity:1.0;stroke-width:0.5\" x1=\"50.0\" x2=\"550.0\" y1=\"92.857142857142861\" y2=\"92.857142857142861\"></line><line style=\"stroke:rgb(16.1%,15.3%,14.1%);stroke-opacity:1.0;stroke-width:0.5\" x1=\"50.0\" x2=\"550.0\" y1=\"114.28571428571428\" y2=\"114.28571428571428\"></line><line style=\"stroke:rgb(16.1%,15.3%,14.1%);stroke-opacity:1.0;stroke-width:0.5\" x1=\"50.0\" x2=\"550.0\" y1=\"135.71428571428572\" y2=\"135.71428571428572\"></line><line style=\"stroke:rgb(16.1%,15.3%,14.1%);stroke-opacity:1.0;stroke-width:0.5\" x1=\"50.0\" x2=\"550.0\" y1=\"157.14285714285714\" y2=\"157.14285714285714\"></line><line style=\"stroke:rgb(16.1%,15.3%,14.1%);stroke-opacity:1.0;stroke-width:0.5\" x1=\"50.0\" x2=\"550.0\" y1=\"178.57142857142856\" y2=\"178.57142857142856\"></line><line style=\"stroke:rgb(16.1%,15.3%,14.1%);stroke-opacity:1.0;stroke-width:0.5\" x1=\"50.0\" x2=\"550.0\" y1=\"199.99999999999997\" y2=\"199.99999999999997\"></line><line style=\"stroke:rgb(16.1%,15.3%,14.1%);stroke-opacity:1.0;stroke-width:0.5\" x1=\"50.0\" x2=\"50.0\" y1=\"50.0\" y2=\"199.99999999999997\"></line><line style=\"stroke:rgb(16.1%,15.3%,14.1%);stroke-opacity:1.0;stroke-width:0.5\" x1=\"300.0\" x2=\"300.0\" y1=\"50.0\" y2=\"199.99999999999997\"></line><line style=\"stroke:rgb(16.1%,15.3%,14.1%);stroke-opacity:1.0;stroke-width:0.5\" x1=\"550.0\" x2=\"550.0\" y1=\"50.0\" y2=\"199.99999999999997\"></line></g></svg><div class=\"toyplot-interactive\"></div></div>"
      ]
     },
     "metadata": {},
     "output_type": "display_data"
    }
   ],
   "source": [
    "canvas, table = toyplot.table(data, width=600, height=250)\n",
    "table.grid.hlines[...] = \"single\"\n",
    "table.grid.vlines[...] = \"single\"\n",
    "#table.cells.column[0].lstyle = {\"-toyplot-anchor-shift\":\"0.75in\"}\n",
    "table.cells.column[0].align = \"center\""
   ]
  },
  {
   "cell_type": "code",
   "execution_count": null,
   "metadata": {
    "collapsed": false
   },
   "outputs": [],
   "source": [
    "colormap = toyplot.color.CategoricalMap()\n",
    "\n",
    "canvas = toyplot.Canvas(width=600, height=250)\n",
    "table = canvas.table(rows=6, columns=4, label=\"Quarterly Report\")\n",
    "table.grid.hlines[...] = \"single\"\n",
    "table.grid.vlines[...] = \"single\"\n",
    "table.cells.column[0].width = 50\n",
    "table.cells.column[1].data = data[\"a\"]\n",
    "table.cells.column[1].width = 90\n",
    "table.cells.column[3].data = data[\"b\"]\n",
    "table.cells.column[3].width = 55\n",
    "table.cells.column[3].format = toyplot.format.FloatFormatter(format=\"{:.2f}s\")\n",
    "table.cells.cell(0,0,rowspan=2).merge().data = \"Red\"\n",
    "table.cells.cell(2,0,rowspan=2).merge().data = \"Green\"\n",
    "table.cells.cell(4,0,rowspan=2).merge().data = \"Blue\"\n",
    "axes = table.cells.cell(0, 2, rowspan=6).axes(show=True, yshow=False, padding=0, xlabel=\"Seconds\")\n",
    "axes.x.spine.show = False\n",
    "axes.bars(data[\"b\"][::-1], along=\"y\", style={\"stroke-width\":8}, color=(numpy.array([0,1,0,1,0,1])[::-1], colormap));"
   ]
  },
  {
   "cell_type": "code",
   "execution_count": null,
   "metadata": {
    "collapsed": false
   },
   "outputs": [],
   "source": [
    "canvas = toyplot.Canvas(width=600, height=250)\n",
    "table = canvas.table(rows=6, columns=4, label=\"Quarterly Report\")\n",
    "table.cells.column[0].width = 50\n",
    "table.cells.column[1].data = data[\"a\"]\n",
    "table.cells.column[1].width = 90\n",
    "table.cells.column[3].width = 55\n",
    "table.cells.column[3].format = toyplot.format.FloatFormatter(format=\"{:.2f}s\")\n",
    "table.cells.cell(0,0,rowspan=2).merge().data = \"Red\"\n",
    "table.cells.cell(2,0,rowspan=2).merge().data = \"Green\"\n",
    "table.cells.cell(4,0,rowspan=2).merge().data = \"Blue\"\n",
    "for index, value in enumerate(data[\"b\"]):\n",
    "    axes = table.cells.cell(index, 2).axes(padding=5, xmin=0, xmax=data[\"b\"].max(), xlabel=\"Seconds\", yshow=False)\n",
    "    axes.bars([value], along=\"y\", color=colormap.color(index % 2))\n",
    "    axes.show = index == 5\n",
    "    axes.x.spine.show = False"
   ]
  },
  {
   "cell_type": "code",
   "execution_count": null,
   "metadata": {
    "collapsed": true
   },
   "outputs": [],
   "source": []
  }
 ],
 "metadata": {
  "kernelspec": {
   "display_name": "Python 2",
   "language": "python",
   "name": "python2"
  },
  "language_info": {
   "codemirror_mode": {
    "name": "ipython",
    "version": 2
   },
   "file_extension": ".py",
   "mimetype": "text/x-python",
   "name": "python",
   "nbconvert_exporter": "python",
   "pygments_lexer": "ipython2",
   "version": "2.7.11"
  }
 },
 "nbformat": 4,
 "nbformat_minor": 0
}

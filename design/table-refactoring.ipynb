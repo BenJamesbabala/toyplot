{
 "cells": [
  {
   "cell_type": "markdown",
   "metadata": {},
   "source": [
    "## Overview\n",
    "\n",
    "It's time to revisit the way table coordinates work.  In particular, the new design should support the following:\n",
    "\n",
    "* Columns and rows can be inserted into table coordinates.\n",
    "    * Implies that embedded coordinate system ranges can be altered after construction.\n",
    "* Table data is exportable.\n",
    "    * We will store data as a heteregenous matrix of values.  The values in merged cells will be repeated.\n",
    "* Better table coordinate cell access.\n",
    "    * Allow regular data-table-like cell indexing.\n",
    "        * This will make it easier to do alternating row colors, grouped styles, etc.\n",
    "    * We might-or-might-not get rid of cell(), row(), and column() methods.\n",
    "* Table-aware plot embedding.\n",
    "    * It should be possible to embed a bar plot or a line plot simply by assigning a special \"formatter\" to a row / column.\n",
    "    * The layout of the embedded plot would be affected by cell spacing, gaps, padding, etc.\n",
    "    * The tricky part will be handling formatters that get overridden / are discontiguous.\n",
    "* Efficiency.\n",
    "    * Currently, we store a heavyweight `Cell` data structure for every cell in the table, with lots of redundant information.\n",
    "        * This is inefficient for visualizations that don't need to control every little thing, like `matrix` vis.\n",
    "        * Store cell properties using homogeneous matrix data structures.\n",
    "        * We can store the row heights and column widths globally.\n",
    "    * Merged cells are stored using extra `Cell` data structures that have pointers to their \"parent\" cells, but it's undefined what happens when merging merged cells.\n",
    "        * Handle merging using \"merge groups\" instead.\n",
    "        * Allow merged cells to be split apart by subsequent merges."
   ]
  },
  {
   "cell_type": "code",
   "execution_count": null,
   "metadata": {
    "collapsed": true
   },
   "outputs": [],
   "source": []
  }
 ],
 "metadata": {
  "kernelspec": {
   "display_name": "Python 2",
   "language": "python",
   "name": "python2"
  },
  "language_info": {
   "codemirror_mode": {
    "name": "ipython",
    "version": 2
   },
   "file_extension": ".py",
   "mimetype": "text/x-python",
   "name": "python",
   "nbconvert_exporter": "python",
   "pygments_lexer": "ipython2",
   "version": "2.7.11"
  }
 },
 "nbformat": 4,
 "nbformat_minor": 0
}

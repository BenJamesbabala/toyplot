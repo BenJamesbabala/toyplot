{
 "metadata": {
  "name": "",
  "signature": "sha256:ad19c0b29971b33d4ce035e389f59c09d993dcecd621b3efab490b1304f46a26"
 },
 "nbformat": 3,
 "nbformat_minor": 0,
 "worksheets": [
  {
   "cells": [
    {
     "cell_type": "code",
     "collapsed": false,
     "input": [
      "import toyplot.data\n",
      "import numpy"
     ],
     "language": "python",
     "metadata": {},
     "outputs": [],
     "prompt_number": 38
    },
    {
     "cell_type": "code",
     "collapsed": false,
     "input": [
      "data = toyplot.data.Table()\n",
      "data[\"a\"] = numpy.array([0.1, 1.11, 2, 33.12345678])\n",
      "data[\"b\"] = numpy.array([1234, 12345, 123456, 1234567], dtype=\"float64\")"
     ],
     "language": "python",
     "metadata": {},
     "outputs": [],
     "prompt_number": 43
    },
    {
     "cell_type": "code",
     "collapsed": false,
     "input": [
      "canvas = toyplot.Canvas(width=400, height=200)\n",
      "table = canvas.table(data)\n",
      "table.column(\"b\").format = toyplot.format.FloatFormatter(format=\"%.3e\")\n",
      "table.grid.vlines[...] = \"single\""
     ],
     "language": "python",
     "metadata": {},
     "outputs": [
      {
       "html": [
        "<div align=\"center\" class=\"toyplot\" id=\"t8a499351fba74cf09231892182ff2532\"><svg height=\"200px\" id=\"tdd33f8ef0f5e4676b95b60085c24fafa\" style=\"background-color:transparent;fill:#292724;fill-opacity:1.0;font-family:helvetica;font-size:12px;opacity:1.0;stroke:#292724;stroke-opacity:1.0;stroke-width:1.0\" width=\"400px\" xmlns=\"http://www.w3.org/2000/svg\" xmlns:toyplot=\"http://www.sandia.gov/toyplot\"><g class=\"toyplot-axes-Table\" id=\"tb76e92d0d40e44bebeb08a4d32dea95b\"><text style=\"alignment-baseline:middle;fill:#292724;font-size:12px;font-weight:bold;stroke:none;text-anchor:middle\" x=\"125.0\" y=\"60.0\">a</text><text style=\"alignment-baseline:middle;fill:#292724;font-size:12px;font-weight:bold;stroke:none;text-anchor:middle\" x=\"275.0\" y=\"60.0\">b</text><text style=\"alignment-baseline:middle;fill:#292724;font-size:12px;stroke:none;text-anchor:end\" x=\"123.0\" y=\"80.0\">0</text><text style=\"alignment-baseline:middle;fill:#292724;font-size:12px;stroke:none;text-anchor:middle\" x=\"125.0\" y=\"80.0\">.</text><text style=\"alignment-baseline:middle;fill:#292724;font-size:12px;stroke:none;text-anchor:begin\" x=\"127.0\" y=\"80.0\">1</text><text style=\"alignment-baseline:middle;fill:#292724;font-size:12px;stroke:none;text-anchor:end\" x=\"123.0\" y=\"100.0\">1</text><text style=\"alignment-baseline:middle;fill:#292724;font-size:12px;stroke:none;text-anchor:middle\" x=\"125.0\" y=\"100.0\">.</text><text style=\"alignment-baseline:middle;fill:#292724;font-size:12px;stroke:none;text-anchor:begin\" x=\"127.0\" y=\"100.0\">11</text><text style=\"alignment-baseline:middle;fill:#292724;font-size:12px;stroke:none;text-anchor:end\" x=\"123.0\" y=\"120.0\">2</text><text style=\"alignment-baseline:middle;fill:#292724;font-size:12px;stroke:none;text-anchor:middle\" x=\"125.0\" y=\"120.0\"></text><text style=\"alignment-baseline:middle;fill:#292724;font-size:12px;stroke:none;text-anchor:begin\" x=\"127.0\" y=\"120.0\"></text><text style=\"alignment-baseline:middle;fill:#292724;font-size:12px;stroke:none;text-anchor:end\" x=\"123.0\" y=\"140.0\">33</text><text style=\"alignment-baseline:middle;fill:#292724;font-size:12px;stroke:none;text-anchor:middle\" x=\"125.0\" y=\"140.0\">.</text><text style=\"alignment-baseline:middle;fill:#292724;font-size:12px;stroke:none;text-anchor:begin\" x=\"127.0\" y=\"140.0\">1235</text><text style=\"alignment-baseline:middle;fill:#292724;font-size:12px;stroke:none;text-anchor:end\" x=\"273.0\" y=\"80.0\">1</text><text style=\"alignment-baseline:middle;fill:#292724;font-size:12px;stroke:none;text-anchor:middle\" x=\"275.0\" y=\"80.0\">.</text><text style=\"alignment-baseline:middle;fill:#292724;font-size:12px;stroke:none;text-anchor:begin\" x=\"277.0\" y=\"80.0\">234e+03</text><text style=\"alignment-baseline:middle;fill:#292724;font-size:12px;stroke:none;text-anchor:end\" x=\"273.0\" y=\"100.0\">1</text><text style=\"alignment-baseline:middle;fill:#292724;font-size:12px;stroke:none;text-anchor:middle\" x=\"275.0\" y=\"100.0\">.</text><text style=\"alignment-baseline:middle;fill:#292724;font-size:12px;stroke:none;text-anchor:begin\" x=\"277.0\" y=\"100.0\">234e+04</text><text style=\"alignment-baseline:middle;fill:#292724;font-size:12px;stroke:none;text-anchor:end\" x=\"273.0\" y=\"120.0\">1</text><text style=\"alignment-baseline:middle;fill:#292724;font-size:12px;stroke:none;text-anchor:middle\" x=\"275.0\" y=\"120.0\">.</text><text style=\"alignment-baseline:middle;fill:#292724;font-size:12px;stroke:none;text-anchor:begin\" x=\"277.0\" y=\"120.0\">235e+05</text><text style=\"alignment-baseline:middle;fill:#292724;font-size:12px;stroke:none;text-anchor:end\" x=\"273.0\" y=\"140.0\">1</text><text style=\"alignment-baseline:middle;fill:#292724;font-size:12px;stroke:none;text-anchor:middle\" x=\"275.0\" y=\"140.0\">.</text><text style=\"alignment-baseline:middle;fill:#292724;font-size:12px;stroke:none;text-anchor:begin\" x=\"277.0\" y=\"140.0\">235e+06</text><line style=\"stroke:#292724;stroke-width:0.5\" x1=\"50.0\" x2=\"350.0\" y1=\"70.0\" y2=\"70.0\"></line><line style=\"stroke:#292724;stroke-width:0.5\" x1=\"50.0\" x2=\"50.0\" y1=\"50.0\" y2=\"150.0\"></line><line style=\"stroke:#292724;stroke-width:0.5\" x1=\"200.0\" x2=\"200.0\" y1=\"50.0\" y2=\"150.0\"></line><line style=\"stroke:#292724;stroke-width:0.5\" x1=\"350.0\" x2=\"350.0\" y1=\"50.0\" y2=\"150.0\"></line></g></svg><div class=\"toyplot-controls\"><ul class=\"toyplot-mark-popup\" onmouseleave=\"this.style.visibility='hidden'\" style=\"background:rgba(0%,0%,0%,0.75);border:0;border-radius:6px;color:white;cursor:default;list-style:none;margin:0;padding:5px;position:fixed;visibility:hidden\"><li class=\"toyplot-mark-popup-title\" style=\"color:lightgray;cursor:default;padding:5px;list-style:none;margin:0;\"></li><li class=\"toyplot-mark-popup-save-csv\" onmouseout=\"this.style.color='white';this.style.background='steelblue'\" onmouseover=\"this.style.color='steelblue';this.style.background='white'\" style=\"border-radius:3px;padding:5px;list-style:none;margin:0;\">Save as .csv</li></ul><script>\n",
        "    (function()\n",
        "    {\n",
        "      // Workaround for browsers that don't support alignment-baseline\n",
        "      if(window.CSS !== undefined && window.CSS.supports !== undefined)\n",
        "      {\n",
        "        if(!window.CSS.supports(\"alignment-baseline\", \"middle\"))\n",
        "        {\n",
        "          var re = /\\s*alignment-baseline\\s*:\\s*([^;\\s]*)\\s*/;\n",
        "          var text = document.querySelectorAll(\"#t8a499351fba74cf09231892182ff2532 text\");\n",
        "          for(var i = 0; i != text.length; ++i)\n",
        "          {\n",
        "            var match = re.exec(text[i].attributes.style.value);\n",
        "            if(match)\n",
        "            {\n",
        "              if(match[1] == \"middle\")\n",
        "              {\n",
        "                var style = getComputedStyle(text[i]);\n",
        "                var font_size = style.fontSize.substr(0, style.fontSize.length - 2);\n",
        "                var dy = text[i].dy.baseVal.length ? text[i].dy.baseVal[0].value : 0;\n",
        "                dy += 0.4 * font_size;\n",
        "                text[i].setAttribute(\"dy\", dy);\n",
        "              }\n",
        "            }\n",
        "          }\n",
        "        }\n",
        "        if(!window.CSS.supports(\"baseline-shift\", \"0\"))\n",
        "        {\n",
        "          var re = /\\s*baseline-shift\\s*:\\s*([^;\\s]*)\\s*/;\n",
        "          var text = document.querySelectorAll(\"#t8a499351fba74cf09231892182ff2532 text\");\n",
        "          for(var i = 0; i != text.length; ++i)\n",
        "          {\n",
        "            var match = re.exec(text[i].attributes.style.value);\n",
        "            if(match)\n",
        "            {\n",
        "              var style = getComputedStyle(text[i]);\n",
        "              var font_size = style.fontSize.substr(0, style.fontSize.length - 2);\n",
        "              var percent = 0.01 * match[1].substr(0, match[1].length-1);\n",
        "              var dy = text[i].dy.baseVal.length ? text[i].dy.baseVal[0].value : 0;\n",
        "              dy -= percent * font_size\n",
        "              text[i].setAttribute(\"dy\", dy);\n",
        "            }\n",
        "          }\n",
        "        }\n",
        "      }\n",
        "    })();\n",
        "    </script></div></div>"
       ],
       "metadata": {},
       "output_type": "display_data",
       "text": [
        "<toyplot.canvas.Canvas at 0x109a16ed0>"
       ]
      }
     ],
     "prompt_number": 50
    },
    {
     "cell_type": "code",
     "collapsed": false,
     "input": [],
     "language": "python",
     "metadata": {},
     "outputs": []
    }
   ],
   "metadata": {}
  }
 ]
}
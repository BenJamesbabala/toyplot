{
 "cells": [
  {
   "cell_type": "markdown",
   "metadata": {},
   "source": [
    "### Displays\n",
    "\n",
    "* toyplot.browser.show()\n",
    "* toyplot.qt.show()\n",
    "\n",
    "### Backends\n",
    "\n",
    "* toyplot.cairo.render()\n",
    "* toyplot.cairo.eps.render()\n",
    "* toyplot.cairo.pdf.render()\n",
    "* toyplot.cairo.png.render()\n",
    "* toyplot.cairo.png.frames()\n",
    "\n",
    "\n",
    "* toyplot.qt.pdf.render()\n",
    "* toyplot.qt.png.render()\n",
    "* toyplot.qt.png.frames()\n",
    "\n",
    "\n",
    "* toyplot.html.render()\n",
    "* toyplot.pdf.render()\n",
    "* toyplot.png.render()\n",
    "* toyplot.png.frames()\n",
    "* toyplot.mp4.render()\n",
    "* toyplot.svg.render()\n",
    "* toyplot.webm.render()"
   ]
  }
 ],
 "metadata": {
  "kernelspec": {
   "display_name": "Python 2",
   "language": "python",
   "name": "python2"
  },
  "language_info": {
   "codemirror_mode": {
    "name": "ipython",
    "version": 2
   },
   "file_extension": ".py",
   "mimetype": "text/x-python",
   "name": "python",
   "nbconvert_exporter": "python",
   "pygments_lexer": "ipython2",
   "version": "2.7.10"
  }
 },
 "nbformat": 4,
 "nbformat_minor": 0
}

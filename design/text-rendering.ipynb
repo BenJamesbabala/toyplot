{
 "cells": [
  {
   "cell_type": "markdown",
   "metadata": {},
   "source": [
    ".. _text:\n",
    "\n",
    "# Text"
   ]
  },
  {
   "cell_type": "markdown",
   "metadata": {},
   "source": [
    "## Alignment\n",
    "\n",
    "By default, text in Toyplot is centered vertically and horizontally around its *anchor*.  To illustrate this, the following figures display the anchor as a small black dot:"
   ]
  },
  {
   "cell_type": "code",
   "execution_count": 1,
   "metadata": {
    "collapsed": false
   },
   "outputs": [
    {
     "name": "stderr",
     "output_type": "stream",
     "text": [
      "DEBUG:root:debug\n"
     ]
    },
    {
     "data": {
      "text/html": [
       "<div align=\"center\" class=\"toyplot\" id=\"tfff406f522ae44f1b5e2d4634492d1e2\"><svg class=\"toyplot-canvas-Canvas\" height=\"150.0px\" id=\"tbed2459817d1463088fcac1c5477d62f\" preserveAspectRatio=\"xMidYMid meet\" style=\"background-color:transparent;fill:rgb(16.1%,15.3%,14.1%);fill-opacity:1.0;font-family:Helvetica;font-size:12px;opacity:1.0;stroke:rgb(16.1%,15.3%,14.1%);stroke-opacity:1.0;stroke-width:1.0\" viewBox=\"0 0 500.0 150.0\" width=\"500.0px\" xmlns=\"http://www.w3.org/2000/svg\" xmlns:toyplot=\"http://www.sandia.gov/toyplot\" xmlns:xlink=\"http://www.w3.org/1999/xlink\"><g class=\"toyplot-coordinates-Cartesian\" id=\"t2935d726c3d544428edaa089adc774d0\"><clipPath id=\"tde7645ab33ac48859eff541dfa855bd7\"><rect height=\"70.0\" width=\"420.0\" x=\"40.0\" y=\"40.0\"></rect></clipPath><g clip-path=\"url(#tde7645ab33ac48859eff541dfa855bd7)\"><g class=\"toyplot-mark-Text\" id=\"t66218731654c4fd5ae4d7dc0148a4d26\" style=\"alignment-baseline:middle;font-size:24px;font-weight:normal;stroke:none;text-anchor:middle\"><g class=\"toyplot-Series\"><text class=\"toyplot-Datum\" style=\"fill:rgb(40%,76.1%,64.7%);fill-opacity:1.0;font-weight:normal;opacity:1.0;stroke:none;text-anchor:middle\" transform=\"translate(250.0,75.0)translate(0,6.75)\"><tspan style=\"font-size:24.0px\" x=\"0\" y=\"0\">Text!</tspan></text></g></g><g class=\"toyplot-mark-Scatterplot\" id=\"tdc7df37e4ade40e681984957fabcc4d2\" style=\"\"><g class=\"toyplot-Series\"><g class=\"toyplot-Datum\" style=\"fill:rgb(0%,0%,0%);fill-opacity:1.0;opacity:1.0;stroke:rgb(0%,0%,0%);stroke-opacity:1.0\"><circle cx=\"250.0\" cy=\"75.0\" r=\"1.5\"></circle></g></g></g></g></g></svg><div class=\"toyplot-interactive\"><ul class=\"toyplot-mark-popup\" onmouseleave=\"this.style.visibility='hidden'\" style=\"background:rgba(0%,0%,0%,0.75);border:0;border-radius:6px;color:white;cursor:default;list-style:none;margin:0;padding:5px;position:fixed;visibility:hidden\">\n",
       "            <li class=\"toyplot-mark-popup-title\" style=\"color:lightgray;cursor:default;padding:5px;list-style:none;margin:0\"></li>\n",
       "            <li class=\"toyplot-mark-popup-save-csv\" onmouseout=\"this.style.color='white';this.style.background='steelblue'\" onmouseover=\"this.style.color='steelblue';this.style.background='white'\" style=\"border-radius:3px;padding:5px;list-style:none;margin:0\">\n",
       "                Save as .csv\n",
       "            </li>\n",
       "        </ul><script>\n",
       "        (function()\n",
       "        {\n",
       "          var data_tables = [{\"title\": \"Scatterplot Data\", \"names\": [\"x\", \"y0\"], \"id\": \"tdc7df37e4ade40e681984957fabcc4d2\", \"columns\": [[0.0], [0.0]], \"filename\": \"toyplot\"}];\n",
       "\n",
       "          function save_csv(data_table)\n",
       "          {\n",
       "            var uri = \"data:text/csv;charset=utf-8,\";\n",
       "            uri += data_table.names.join(\",\") + \"\\n\";\n",
       "            for(var i = 0; i != data_table.columns[0].length; ++i)\n",
       "            {\n",
       "              for(var j = 0; j != data_table.columns.length; ++j)\n",
       "              {\n",
       "                if(j)\n",
       "                  uri += \",\";\n",
       "                uri += data_table.columns[j][i];\n",
       "              }\n",
       "              uri += \"\\n\";\n",
       "            }\n",
       "            uri = encodeURI(uri);\n",
       "\n",
       "            var link = document.createElement(\"a\");\n",
       "            if(typeof link.download != \"undefined\")\n",
       "            {\n",
       "              link.href = uri;\n",
       "              link.style = \"visibility:hidden\";\n",
       "              link.download = data_table.filename + \".csv\";\n",
       "\n",
       "              document.body.appendChild(link);\n",
       "              link.click();\n",
       "              document.body.removeChild(link);\n",
       "            }\n",
       "            else\n",
       "            {\n",
       "              window.open(uri);\n",
       "            }\n",
       "          }\n",
       "\n",
       "          function open_popup(data_table)\n",
       "          {\n",
       "            return function(e)\n",
       "            {\n",
       "              var popup = document.querySelector(\"#tfff406f522ae44f1b5e2d4634492d1e2 .toyplot-mark-popup\");\n",
       "              popup.querySelector(\".toyplot-mark-popup-title\").innerHTML = data_table.title;\n",
       "              popup.querySelector(\".toyplot-mark-popup-save-csv\").onclick = function() { popup.style.visibility = \"hidden\"; save_csv(data_table); }\n",
       "              popup.style.left = (e.clientX - 50) + \"px\";\n",
       "              popup.style.top = (e.clientY - 20) + \"px\";\n",
       "              popup.style.visibility = \"visible\";\n",
       "              e.stopPropagation();\n",
       "              e.preventDefault();\n",
       "            }\n",
       "\n",
       "          }\n",
       "\n",
       "          for(var i = 0; i != data_tables.length; ++i)\n",
       "          {\n",
       "            var data_table = data_tables[i];\n",
       "            var event_target = document.querySelector(\"#\" + data_table.id);\n",
       "            event_target.oncontextmenu = open_popup(data_table);\n",
       "          }\n",
       "        })();\n",
       "        </script></div></div>"
      ]
     },
     "metadata": {},
     "output_type": "display_data"
    }
   ],
   "source": [
    "import logging\n",
    "logging.getLogger().setLevel(logging.DEBUG)\n",
    "logging.debug(\"debug\")\n",
    "\n",
    "import toyplot\n",
    "toyplot.log.setLevel(logging.DEBUG)\n",
    "\n",
    "canvas = toyplot.Canvas(width=500, height=150)\n",
    "axes = canvas.cartesian(show=False)\n",
    "axes.text(0, 0, \"Text!\", style={\"font-size\":\"24px\"})\n",
    "axes.scatterplot(0, 0, color=\"black\", size=3);"
   ]
  },
  {
   "cell_type": "markdown",
   "metadata": {},
   "source": [
    "To control horizontal alignment, use the CSS `text-anchor` attribute to change the position of the text along its baseline, relative to the anchor:"
   ]
  },
  {
   "cell_type": "code",
   "execution_count": 2,
   "metadata": {
    "collapsed": false
   },
   "outputs": [
    {
     "data": {
      "text/html": [
       "<div align=\"center\" class=\"toyplot\" id=\"t89e074cace154ee2a56f979086bb0ab0\"><svg class=\"toyplot-canvas-Canvas\" height=\"300.0px\" id=\"t2e146c0a3812449783b9c79b99f34104\" preserveAspectRatio=\"xMidYMid meet\" style=\"background-color:transparent;fill:rgb(16.1%,15.3%,14.1%);fill-opacity:1.0;font-family:Helvetica;font-size:12px;opacity:1.0;stroke:rgb(16.1%,15.3%,14.1%);stroke-opacity:1.0;stroke-width:1.0\" viewBox=\"0 0 500.0 300.0\" width=\"500.0px\" xmlns=\"http://www.w3.org/2000/svg\" xmlns:toyplot=\"http://www.sandia.gov/toyplot\" xmlns:xlink=\"http://www.w3.org/1999/xlink\"><g class=\"toyplot-coordinates-Cartesian\" id=\"t35c99272a7ab453f865cef40accc71dc\"><clipPath id=\"t85c383714b7e4828b3e21570f21fa750\"><rect height=\"220.0\" width=\"420.0\" x=\"40.0\" y=\"40.0\"></rect></clipPath><g clip-path=\"url(#t85c383714b7e4828b3e21570f21fa750)\"><g class=\"toyplot-mark-AxisLines\" id=\"t0a51fe31ab3e4b128efe298b8532c0b8\" style=\"\"><g class=\"toyplot-Series\"><line class=\"toyplot-Datum\" style=\"opacity:1.0;stroke:rgb(82.7%,82.7%,82.7%);stroke-opacity:1.0\" x1=\"256.89655172413791\" x2=\"256.89655172413791\" y1=\"50.0\" y2=\"250.0\"></line></g></g><g class=\"toyplot-mark-Text\" id=\"tbe71ec201eab4558aa056d35f5077c24\" style=\"alignment-baseline:middle;font-size:24px;font-weight:normal;stroke:none;text-anchor:middle\"><g class=\"toyplot-Series\"><text class=\"toyplot-Datum\" style=\"fill:rgb(40%,76.1%,64.7%);fill-opacity:1.0;font-weight:normal;opacity:1.0;stroke:none;text-anchor:middle\" transform=\"translate(256.89655172413791,83.333333333333329)translate(0,6.75)\"><tspan style=\"font-size:24.0px\" x=\"0\" y=\"0\">Centered</tspan></text></g></g><g class=\"toyplot-mark-Scatterplot\" id=\"tfcd086af45c34b20bc6665e8a1fd9a5a\" style=\"\"><g class=\"toyplot-Series\"><g class=\"toyplot-Datum\" style=\"fill:rgb(0%,0%,0%);fill-opacity:1.0;opacity:1.0;stroke:rgb(0%,0%,0%);stroke-opacity:1.0\"><circle cx=\"256.89655172413791\" cy=\"83.333333333333329\" r=\"1.5\"></circle></g></g></g><g class=\"toyplot-mark-Text\" id=\"tdd54b53180364158a9f1b73aafc2677a\" style=\"alignment-baseline:middle;font-size:24px;font-weight:normal;stroke:none;text-anchor:start\"><g class=\"toyplot-Series\"><text class=\"toyplot-Datum\" style=\"fill:rgb(98.8%,55.3%,38.4%);fill-opacity:1.0;font-weight:normal;opacity:1.0;stroke:none;text-anchor:start\" transform=\"translate(256.89655172413791,150.0)translate(0,6.75)\"><tspan style=\"font-size:24.0px\" x=\"0\" y=\"0\">Left Justified</tspan></text></g></g><g class=\"toyplot-mark-Scatterplot\" id=\"t213e27a97e30440589acd6a0af7cabd1\" style=\"\"><g class=\"toyplot-Series\"><g class=\"toyplot-Datum\" style=\"fill:rgb(0%,0%,0%);fill-opacity:1.0;opacity:1.0;stroke:rgb(0%,0%,0%);stroke-opacity:1.0\"><circle cx=\"256.89655172413791\" cy=\"150.0\" r=\"1.5\"></circle></g></g></g><g class=\"toyplot-mark-Text\" id=\"t3ae97b7867f4407bb2274580a5f6a3b9\" style=\"alignment-baseline:middle;font-size:24px;font-weight:normal;stroke:none;text-anchor:end\"><g class=\"toyplot-Series\"><text class=\"toyplot-Datum\" style=\"fill:rgb(55.3%,62.7%,79.6%);fill-opacity:1.0;font-weight:normal;opacity:1.0;stroke:none;text-anchor:end\" transform=\"translate(256.89655172413791,216.66666666666669)translate(0,6.75)\"><tspan style=\"font-size:24.0px\" x=\"0\" y=\"0\">Right Justified</tspan></text></g></g><g class=\"toyplot-mark-Scatterplot\" id=\"t7feecd624f8a4c37974cee6d1be08db6\" style=\"\"><g class=\"toyplot-Series\"><g class=\"toyplot-Datum\" style=\"fill:rgb(0%,0%,0%);fill-opacity:1.0;opacity:1.0;stroke:rgb(0%,0%,0%);stroke-opacity:1.0\"><circle cx=\"256.89655172413791\" cy=\"216.66666666666669\" r=\"1.5\"></circle></g></g></g></g></g></svg><div class=\"toyplot-interactive\"><ul class=\"toyplot-mark-popup\" onmouseleave=\"this.style.visibility='hidden'\" style=\"background:rgba(0%,0%,0%,0.75);border:0;border-radius:6px;color:white;cursor:default;list-style:none;margin:0;padding:5px;position:fixed;visibility:hidden\">\n",
       "            <li class=\"toyplot-mark-popup-title\" style=\"color:lightgray;cursor:default;padding:5px;list-style:none;margin:0\"></li>\n",
       "            <li class=\"toyplot-mark-popup-save-csv\" onmouseout=\"this.style.color='white';this.style.background='steelblue'\" onmouseover=\"this.style.color='steelblue';this.style.background='white'\" style=\"border-radius:3px;padding:5px;list-style:none;margin:0\">\n",
       "                Save as .csv\n",
       "            </li>\n",
       "        </ul><script>\n",
       "        (function()\n",
       "        {\n",
       "          var data_tables = [{\"title\": \"Scatterplot Data\", \"names\": [\"x\", \"y0\"], \"id\": \"tfcd086af45c34b20bc6665e8a1fd9a5a\", \"columns\": [[0.0], [1.0]], \"filename\": \"toyplot\"}, {\"title\": \"Scatterplot Data\", \"names\": [\"x\", \"y0\"], \"id\": \"t213e27a97e30440589acd6a0af7cabd1\", \"columns\": [[0.0], [0.0]], \"filename\": \"toyplot\"}, {\"title\": \"Scatterplot Data\", \"names\": [\"x\", \"y0\"], \"id\": \"t7feecd624f8a4c37974cee6d1be08db6\", \"columns\": [[0.0], [-1.0]], \"filename\": \"toyplot\"}];\n",
       "\n",
       "          function save_csv(data_table)\n",
       "          {\n",
       "            var uri = \"data:text/csv;charset=utf-8,\";\n",
       "            uri += data_table.names.join(\",\") + \"\\n\";\n",
       "            for(var i = 0; i != data_table.columns[0].length; ++i)\n",
       "            {\n",
       "              for(var j = 0; j != data_table.columns.length; ++j)\n",
       "              {\n",
       "                if(j)\n",
       "                  uri += \",\";\n",
       "                uri += data_table.columns[j][i];\n",
       "              }\n",
       "              uri += \"\\n\";\n",
       "            }\n",
       "            uri = encodeURI(uri);\n",
       "\n",
       "            var link = document.createElement(\"a\");\n",
       "            if(typeof link.download != \"undefined\")\n",
       "            {\n",
       "              link.href = uri;\n",
       "              link.style = \"visibility:hidden\";\n",
       "              link.download = data_table.filename + \".csv\";\n",
       "\n",
       "              document.body.appendChild(link);\n",
       "              link.click();\n",
       "              document.body.removeChild(link);\n",
       "            }\n",
       "            else\n",
       "            {\n",
       "              window.open(uri);\n",
       "            }\n",
       "          }\n",
       "\n",
       "          function open_popup(data_table)\n",
       "          {\n",
       "            return function(e)\n",
       "            {\n",
       "              var popup = document.querySelector(\"#t89e074cace154ee2a56f979086bb0ab0 .toyplot-mark-popup\");\n",
       "              popup.querySelector(\".toyplot-mark-popup-title\").innerHTML = data_table.title;\n",
       "              popup.querySelector(\".toyplot-mark-popup-save-csv\").onclick = function() { popup.style.visibility = \"hidden\"; save_csv(data_table); }\n",
       "              popup.style.left = (e.clientX - 50) + \"px\";\n",
       "              popup.style.top = (e.clientY - 20) + \"px\";\n",
       "              popup.style.visibility = \"visible\";\n",
       "              e.stopPropagation();\n",
       "              e.preventDefault();\n",
       "            }\n",
       "\n",
       "          }\n",
       "\n",
       "          for(var i = 0; i != data_tables.length; ++i)\n",
       "          {\n",
       "            var data_table = data_tables[i];\n",
       "            var event_target = document.querySelector(\"#\" + data_table.id);\n",
       "            event_target.oncontextmenu = open_popup(data_table);\n",
       "          }\n",
       "        })();\n",
       "        </script></div></div>"
      ]
     },
     "metadata": {},
     "output_type": "display_data"
    }
   ],
   "source": [
    "canvas = toyplot.Canvas(width=500, height=300)\n",
    "axes = canvas.cartesian(show=False, ymin=-1.5, ymax=1.5)\n",
    "\n",
    "axes.vlines(0, color=\"lightgray\")\n",
    "\n",
    "axes.text(0, 1, \"Centered\", style={\"text-anchor\":\"middle\", \"font-size\":\"24px\"})\n",
    "axes.scatterplot(0, 1, color=\"black\", size=3)\n",
    "\n",
    "axes.text(0, 0, \"Left Justified\", style={\"text-anchor\":\"start\", \"font-size\":\"24px\"})\n",
    "axes.scatterplot(0, 0, color=\"black\", size=3)\n",
    "\n",
    "axes.text(0, -1, \"Right Justified\", style={\"text-anchor\":\"end\", \"font-size\":\"24px\"})\n",
    "axes.scatterplot(0, -1, color=\"black\", size=3);"
   ]
  },
  {
   "cell_type": "markdown",
   "metadata": {},
   "source": [
    "In addition, the text can be shifted along its baseline in arbitrary amounts, using the `-toyplot-anchor-shift` attribute (note that this is non-standard CSS, provided by Toyplot for symmetry with the standard `baseline-shift` attribute which we will explore below):"
   ]
  },
  {
   "cell_type": "code",
   "execution_count": 3,
   "metadata": {
    "collapsed": false
   },
   "outputs": [
    {
     "data": {
      "text/html": [
       "<div align=\"center\" class=\"toyplot\" id=\"t6b87420d76c44a1eab1a26534dc40148\"><svg class=\"toyplot-canvas-Canvas\" height=\"300.0px\" id=\"tbf05085ca51f4c17b51c3f574fb8afbb\" preserveAspectRatio=\"xMidYMid meet\" style=\"background-color:transparent;fill:rgb(16.1%,15.3%,14.1%);fill-opacity:1.0;font-family:Helvetica;font-size:12px;opacity:1.0;stroke:rgb(16.1%,15.3%,14.1%);stroke-opacity:1.0;stroke-width:1.0\" viewBox=\"0 0 500.0 300.0\" width=\"500.0px\" xmlns=\"http://www.w3.org/2000/svg\" xmlns:toyplot=\"http://www.sandia.gov/toyplot\" xmlns:xlink=\"http://www.w3.org/1999/xlink\"><g class=\"toyplot-coordinates-Cartesian\" id=\"t36e2646cfa7e414ebad8e3284402bc12\"><clipPath id=\"t7ab47a6840054edca73cb3c3b0985c79\"><rect height=\"220.0\" width=\"420.0\" x=\"40.0\" y=\"40.0\"></rect></clipPath><g clip-path=\"url(#t7ab47a6840054edca73cb3c3b0985c79)\"><g class=\"toyplot-mark-AxisLines\" id=\"tba5818a9954c4fd5957330262991b06a\" style=\"\"><g class=\"toyplot-Series\"><line class=\"toyplot-Datum\" style=\"opacity:1.0;stroke:rgb(82.7%,82.7%,82.7%);stroke-opacity:1.0\" x1=\"194.92753623188409\" x2=\"194.92753623188409\" y1=\"50.0\" y2=\"250.0\"></line></g></g><g class=\"toyplot-mark-Text\" id=\"t1db61e7dd6e94cba91eb1d9ae77b2286\" style=\"-toyplot-anchor-shift:0;alignment-baseline:middle;font-size:24px;font-weight:normal;stroke:none;text-anchor:start\"><g class=\"toyplot-Series\"><text class=\"toyplot-Datum\" style=\"fill:rgb(40%,76.1%,64.7%);fill-opacity:1.0;font-weight:normal;opacity:1.0;stroke:none;text-anchor:start\" transform=\"translate(194.92753623188409,75.0)translate(0,6.75)\"><tspan style=\"font-size:24.0px\" x=\"0\" y=\"0\">Shifted +0px</tspan></text></g></g><g class=\"toyplot-mark-Scatterplot\" id=\"ta8de33961137435da315c05cfc68a393\" style=\"\"><g class=\"toyplot-Series\"><g class=\"toyplot-Datum\" style=\"fill:rgb(0%,0%,0%);fill-opacity:1.0;opacity:1.0;stroke:rgb(0%,0%,0%);stroke-opacity:1.0\"><circle cx=\"194.92753623188409\" cy=\"75.0\" r=\"1.5\"></circle></g></g></g><g class=\"toyplot-mark-Text\" id=\"tae8bf0029610434ea9030ce03a799fdc\" style=\"-toyplot-anchor-shift:20px;alignment-baseline:middle;font-size:24px;font-weight:normal;stroke:none;text-anchor:start\"><g class=\"toyplot-Series\"><text class=\"toyplot-Datum\" style=\"fill:rgb(98.8%,55.3%,38.4%);fill-opacity:1.0;font-weight:normal;opacity:1.0;stroke:none;text-anchor:start\" transform=\"translate(194.92753623188409,125.0)translate(20.0,6.75)\"><tspan style=\"font-size:24.0px\" x=\"0\" y=\"0\">Shifted +20px</tspan></text></g></g><g class=\"toyplot-mark-Scatterplot\" id=\"t9d1662701a55427e85c46906cd318925\" style=\"\"><g class=\"toyplot-Series\"><g class=\"toyplot-Datum\" style=\"fill:rgb(0%,0%,0%);fill-opacity:1.0;opacity:1.0;stroke:rgb(0%,0%,0%);stroke-opacity:1.0\"><circle cx=\"194.92753623188409\" cy=\"125.0\" r=\"1.5\"></circle></g></g></g><g class=\"toyplot-mark-Text\" id=\"t05972803689c434e8ba3d1f2d4223b31\" style=\"-toyplot-anchor-shift:40px;alignment-baseline:middle;font-size:24px;font-weight:normal;stroke:none;text-anchor:start\"><g class=\"toyplot-Series\"><text class=\"toyplot-Datum\" style=\"fill:rgb(55.3%,62.7%,79.6%);fill-opacity:1.0;font-weight:normal;opacity:1.0;stroke:none;text-anchor:start\" transform=\"translate(194.92753623188409,175.0)translate(40.0,6.75)\"><tspan style=\"font-size:24.0px\" x=\"0\" y=\"0\">Shifted +40px</tspan></text></g></g><g class=\"toyplot-mark-Scatterplot\" id=\"t7f3e19c092244250b7faf9a9588d5cc4\" style=\"\"><g class=\"toyplot-Series\"><g class=\"toyplot-Datum\" style=\"fill:rgb(0%,0%,0%);fill-opacity:1.0;opacity:1.0;stroke:rgb(0%,0%,0%);stroke-opacity:1.0\"><circle cx=\"194.92753623188409\" cy=\"175.0\" r=\"1.5\"></circle></g></g></g><g class=\"toyplot-mark-Text\" id=\"t72f85111715b455c939b4cbb4d9d17ba\" style=\"-toyplot-anchor-shift:-20px;alignment-baseline:middle;font-size:24px;font-weight:normal;stroke:none;text-anchor:start\"><g class=\"toyplot-Series\"><text class=\"toyplot-Datum\" style=\"fill:rgb(90.6%,54.1%,76.5%);fill-opacity:1.0;font-weight:normal;opacity:1.0;stroke:none;text-anchor:start\" transform=\"translate(194.92753623188409,225.0)translate(-20.0,6.75)\"><tspan style=\"font-size:24.0px\" x=\"0\" y=\"0\">Shifted -20px</tspan></text></g></g><g class=\"toyplot-mark-Scatterplot\" id=\"tf48862c6805d4a5abde1d55bc5a8d05f\" style=\"\"><g class=\"toyplot-Series\"><g class=\"toyplot-Datum\" style=\"fill:rgb(0%,0%,0%);fill-opacity:1.0;opacity:1.0;stroke:rgb(0%,0%,0%);stroke-opacity:1.0\"><circle cx=\"194.92753623188409\" cy=\"225.0\" r=\"1.5\"></circle></g></g></g></g></g></svg><div class=\"toyplot-interactive\"><ul class=\"toyplot-mark-popup\" onmouseleave=\"this.style.visibility='hidden'\" style=\"background:rgba(0%,0%,0%,0.75);border:0;border-radius:6px;color:white;cursor:default;list-style:none;margin:0;padding:5px;position:fixed;visibility:hidden\">\n",
       "            <li class=\"toyplot-mark-popup-title\" style=\"color:lightgray;cursor:default;padding:5px;list-style:none;margin:0\"></li>\n",
       "            <li class=\"toyplot-mark-popup-save-csv\" onmouseout=\"this.style.color='white';this.style.background='steelblue'\" onmouseover=\"this.style.color='steelblue';this.style.background='white'\" style=\"border-radius:3px;padding:5px;list-style:none;margin:0\">\n",
       "                Save as .csv\n",
       "            </li>\n",
       "        </ul><script>\n",
       "        (function()\n",
       "        {\n",
       "          var data_tables = [{\"title\": \"Scatterplot Data\", \"names\": [\"x\", \"y0\"], \"id\": \"ta8de33961137435da315c05cfc68a393\", \"columns\": [[0.0], [1.0]], \"filename\": \"toyplot\"}, {\"title\": \"Scatterplot Data\", \"names\": [\"x\", \"y0\"], \"id\": \"t9d1662701a55427e85c46906cd318925\", \"columns\": [[0.0], [0.0]], \"filename\": \"toyplot\"}, {\"title\": \"Scatterplot Data\", \"names\": [\"x\", \"y0\"], \"id\": \"t7f3e19c092244250b7faf9a9588d5cc4\", \"columns\": [[0.0], [-1.0]], \"filename\": \"toyplot\"}, {\"title\": \"Scatterplot Data\", \"names\": [\"x\", \"y0\"], \"id\": \"tf48862c6805d4a5abde1d55bc5a8d05f\", \"columns\": [[0.0], [-2.0]], \"filename\": \"toyplot\"}];\n",
       "\n",
       "          function save_csv(data_table)\n",
       "          {\n",
       "            var uri = \"data:text/csv;charset=utf-8,\";\n",
       "            uri += data_table.names.join(\",\") + \"\\n\";\n",
       "            for(var i = 0; i != data_table.columns[0].length; ++i)\n",
       "            {\n",
       "              for(var j = 0; j != data_table.columns.length; ++j)\n",
       "              {\n",
       "                if(j)\n",
       "                  uri += \",\";\n",
       "                uri += data_table.columns[j][i];\n",
       "              }\n",
       "              uri += \"\\n\";\n",
       "            }\n",
       "            uri = encodeURI(uri);\n",
       "\n",
       "            var link = document.createElement(\"a\");\n",
       "            if(typeof link.download != \"undefined\")\n",
       "            {\n",
       "              link.href = uri;\n",
       "              link.style = \"visibility:hidden\";\n",
       "              link.download = data_table.filename + \".csv\";\n",
       "\n",
       "              document.body.appendChild(link);\n",
       "              link.click();\n",
       "              document.body.removeChild(link);\n",
       "            }\n",
       "            else\n",
       "            {\n",
       "              window.open(uri);\n",
       "            }\n",
       "          }\n",
       "\n",
       "          function open_popup(data_table)\n",
       "          {\n",
       "            return function(e)\n",
       "            {\n",
       "              var popup = document.querySelector(\"#t6b87420d76c44a1eab1a26534dc40148 .toyplot-mark-popup\");\n",
       "              popup.querySelector(\".toyplot-mark-popup-title\").innerHTML = data_table.title;\n",
       "              popup.querySelector(\".toyplot-mark-popup-save-csv\").onclick = function() { popup.style.visibility = \"hidden\"; save_csv(data_table); }\n",
       "              popup.style.left = (e.clientX - 50) + \"px\";\n",
       "              popup.style.top = (e.clientY - 20) + \"px\";\n",
       "              popup.style.visibility = \"visible\";\n",
       "              e.stopPropagation();\n",
       "              e.preventDefault();\n",
       "            }\n",
       "\n",
       "          }\n",
       "\n",
       "          for(var i = 0; i != data_tables.length; ++i)\n",
       "          {\n",
       "            var data_table = data_tables[i];\n",
       "            var event_target = document.querySelector(\"#\" + data_table.id);\n",
       "            event_target.oncontextmenu = open_popup(data_table);\n",
       "          }\n",
       "        })();\n",
       "        </script></div></div>"
      ]
     },
     "metadata": {},
     "output_type": "display_data"
    }
   ],
   "source": [
    "canvas = toyplot.Canvas(width=500, height=300)\n",
    "axes = canvas.cartesian(show=False, ymin=-2.5, ymax=1.5)\n",
    "\n",
    "axes.vlines(0, color=\"lightgray\")\n",
    "\n",
    "axes.text(0, 1, \"Shifted +0px\", style={\"-toyplot-anchor-shift\":\"0\", \"text-anchor\":\"start\", \"font-size\":\"24px\"})\n",
    "axes.scatterplot(0, 1, color=\"black\", size=3)\n",
    "\n",
    "axes.text(0, 0, \"Shifted +20px\", style={\"-toyplot-anchor-shift\":\"20px\", \"text-anchor\":\"start\", \"font-size\":\"24px\"})\n",
    "axes.scatterplot(0, 0, color=\"black\", size=3)\n",
    "\n",
    "axes.text(0, -1, \"Shifted +40px\", style={\"-toyplot-anchor-shift\":\"40px\", \"text-anchor\":\"start\", \"font-size\":\"24px\"})\n",
    "axes.scatterplot(0, -1, color=\"black\", size=3);\n",
    "\n",
    "axes.text(0, -2, \"Shifted -20px\", style={\"-toyplot-anchor-shift\":\"-20px\", \"text-anchor\":\"start\", \"font-size\":\"24px\"})\n",
    "axes.scatterplot(0, -2, color=\"black\", size=3);\n"
   ]
  },
  {
   "cell_type": "markdown",
   "metadata": {},
   "source": [
    "Vertically, the text baseline always passes through its anchor point - so to alter the vertical alongment of text, you change the baseline using the CSS `alignment-baseline` attribute.  Note that CSS typography is a complex topic and there are many different types of baseline to accomodate different writing modes and fonts.  The following baselines are the most useful for Western scripts.  Note the subtle difference between the \"central\" and \"middle\" baselines - the former centers upper-case letters in Western scripts while the latter centers lower-case letters, and is the Toyplot default:"
   ]
  },
  {
   "cell_type": "code",
   "execution_count": 4,
   "metadata": {
    "collapsed": false
   },
   "outputs": [
    {
     "data": {
      "text/html": [
       "<div align=\"center\" class=\"toyplot\" id=\"t06e5dc626eb244359114eb7b63e41d0c\"><svg class=\"toyplot-canvas-Canvas\" height=\"300.0px\" id=\"tafe91a66082a46bba5311cfa3f8d9dac\" preserveAspectRatio=\"xMidYMid meet\" style=\"background-color:transparent;fill:rgb(16.1%,15.3%,14.1%);fill-opacity:1.0;font-family:Helvetica;font-size:12px;opacity:1.0;stroke:rgb(16.1%,15.3%,14.1%);stroke-opacity:1.0;stroke-width:1.0\" viewBox=\"0 0 600.0 300.0\" width=\"600.0px\" xmlns=\"http://www.w3.org/2000/svg\" xmlns:toyplot=\"http://www.sandia.gov/toyplot\" xmlns:xlink=\"http://www.w3.org/1999/xlink\"><g class=\"toyplot-coordinates-Cartesian\" id=\"tc6242346e80f4f9db02fa527b484d762\"><clipPath id=\"tbd5a7a35a1304b9c8124b80a38217c71\"><rect height=\"220.0\" width=\"520.0\" x=\"40.0\" y=\"40.0\"></rect></clipPath><g clip-path=\"url(#tbd5a7a35a1304b9c8124b80a38217c71)\"><g class=\"toyplot-mark-AxisLines\" id=\"t8b6218ed52e14d7cb7b88ef8beb71794\" style=\"\"><g class=\"toyplot-Series\"><line class=\"toyplot-Datum\" style=\"opacity:1.0;stroke:rgb(82.7%,82.7%,82.7%);stroke-opacity:1.0\" x1=\"50.0\" x2=\"550.0\" y1=\"150.0\" y2=\"150.0\"></line></g></g><g class=\"toyplot-mark-Text\" id=\"tea4ca39dbfd044f382fad0819fe7bf0c\" style=\"alignment-baseline:hanging;font-size:24px;font-weight:normal;stroke:none;text-anchor:middle\"><g class=\"toyplot-Series\"><text class=\"toyplot-Datum\" style=\"fill:rgb(40%,76.1%,64.7%);fill-opacity:1.0;font-weight:normal;opacity:1.0;stroke:none;text-anchor:middle\" transform=\"translate(115.21739130434783,150.0)translate(0,18.0)\"><tspan style=\"font-size:24.0px\" x=\"0\" y=\"0\">Hanging</tspan></text></g></g><g class=\"toyplot-mark-Scatterplot\" id=\"tb7fbd18c3bc243e8885ede03c55f07de\" style=\"\"><g class=\"toyplot-Series\"><g class=\"toyplot-Datum\" style=\"fill:rgb(0%,0%,0%);fill-opacity:1.0;opacity:1.0;stroke:rgb(0%,0%,0%);stroke-opacity:1.0\"><circle cx=\"115.21739130434783\" cy=\"150.0\" r=\"1.5\"></circle></g></g></g><g class=\"toyplot-mark-Text\" id=\"t93135040e7ba4ec7989ad59a874a9924\" style=\"alignment-baseline:central;font-size:24px;font-weight:normal;stroke:none;text-anchor:middle\"><g class=\"toyplot-Series\"><text class=\"toyplot-Datum\" style=\"fill:rgb(98.8%,55.3%,38.4%);fill-opacity:1.0;font-weight:normal;opacity:1.0;stroke:none;text-anchor:middle\" transform=\"translate(244.61697722567285,150.0)translate(0,9.0)\"><tspan style=\"font-size:24.0px\" x=\"0\" y=\"0\">Central</tspan></text></g></g><g class=\"toyplot-mark-Scatterplot\" id=\"t86210b07c80e46c2898b035b69e7989c\" style=\"\"><g class=\"toyplot-Series\"><g class=\"toyplot-Datum\" style=\"fill:rgb(0%,0%,0%);fill-opacity:1.0;opacity:1.0;stroke:rgb(0%,0%,0%);stroke-opacity:1.0\"><circle cx=\"244.61697722567285\" cy=\"150.0\" r=\"1.5\"></circle></g></g></g><g class=\"toyplot-mark-Text\" id=\"te44386cce5c74f618d3461741b1cc900\" style=\"alignment-baseline:middle;font-size:24px;font-weight:normal;stroke:none;text-anchor:middle\"><g class=\"toyplot-Series\"><text class=\"toyplot-Datum\" style=\"fill:rgb(55.3%,62.7%,79.6%);fill-opacity:1.0;font-weight:normal;opacity:1.0;stroke:none;text-anchor:middle\" transform=\"translate(374.0165631469979,150.0)translate(0,6.75)\"><tspan style=\"font-size:24.0px\" x=\"0\" y=\"0\">Middle</tspan></text></g></g><g class=\"toyplot-mark-Scatterplot\" id=\"tf5ea7f3421fd49e9bb59fa903d216e73\" style=\"\"><g class=\"toyplot-Series\"><g class=\"toyplot-Datum\" style=\"fill:rgb(0%,0%,0%);fill-opacity:1.0;opacity:1.0;stroke:rgb(0%,0%,0%);stroke-opacity:1.0\"><circle cx=\"374.0165631469979\" cy=\"150.0\" r=\"1.5\"></circle></g></g></g><g class=\"toyplot-mark-Text\" id=\"t50b69a2dc47443239792b60091a150b7\" style=\"alignment-baseline:alphabetic;font-size:24px;font-weight:normal;stroke:none;text-anchor:middle\"><g class=\"toyplot-Series\"><text class=\"toyplot-Datum\" style=\"fill:rgb(90.6%,54.1%,76.5%);fill-opacity:1.0;font-weight:normal;opacity:1.0;stroke:none;text-anchor:middle\" transform=\"translate(503.41614906832291,150.0)\"><tspan style=\"font-size:24.0px\" x=\"0\" y=\"0\">Alpha</tspan></text></g></g><g class=\"toyplot-mark-Scatterplot\" id=\"tcd44e77c9f074caf8f0068e24c04110e\" style=\"\"><g class=\"toyplot-Series\"><g class=\"toyplot-Datum\" style=\"fill:rgb(0%,0%,0%);fill-opacity:1.0;opacity:1.0;stroke:rgb(0%,0%,0%);stroke-opacity:1.0\"><circle cx=\"503.41614906832291\" cy=\"150.0\" r=\"1.5\"></circle></g></g></g></g></g></svg><div class=\"toyplot-interactive\"><ul class=\"toyplot-mark-popup\" onmouseleave=\"this.style.visibility='hidden'\" style=\"background:rgba(0%,0%,0%,0.75);border:0;border-radius:6px;color:white;cursor:default;list-style:none;margin:0;padding:5px;position:fixed;visibility:hidden\">\n",
       "            <li class=\"toyplot-mark-popup-title\" style=\"color:lightgray;cursor:default;padding:5px;list-style:none;margin:0\"></li>\n",
       "            <li class=\"toyplot-mark-popup-save-csv\" onmouseout=\"this.style.color='white';this.style.background='steelblue'\" onmouseover=\"this.style.color='steelblue';this.style.background='white'\" style=\"border-radius:3px;padding:5px;list-style:none;margin:0\">\n",
       "                Save as .csv\n",
       "            </li>\n",
       "        </ul><script>\n",
       "        (function()\n",
       "        {\n",
       "          var data_tables = [{\"title\": \"Scatterplot Data\", \"names\": [\"x\", \"y0\"], \"id\": \"tb7fbd18c3bc243e8885ede03c55f07de\", \"columns\": [[-1.0], [0.0]], \"filename\": \"toyplot\"}, {\"title\": \"Scatterplot Data\", \"names\": [\"x\", \"y0\"], \"id\": \"t86210b07c80e46c2898b035b69e7989c\", \"columns\": [[0.0], [0.0]], \"filename\": \"toyplot\"}, {\"title\": \"Scatterplot Data\", \"names\": [\"x\", \"y0\"], \"id\": \"tf5ea7f3421fd49e9bb59fa903d216e73\", \"columns\": [[1.0], [0.0]], \"filename\": \"toyplot\"}, {\"title\": \"Scatterplot Data\", \"names\": [\"x\", \"y0\"], \"id\": \"tcd44e77c9f074caf8f0068e24c04110e\", \"columns\": [[2.0], [0.0]], \"filename\": \"toyplot\"}];\n",
       "\n",
       "          function save_csv(data_table)\n",
       "          {\n",
       "            var uri = \"data:text/csv;charset=utf-8,\";\n",
       "            uri += data_table.names.join(\",\") + \"\\n\";\n",
       "            for(var i = 0; i != data_table.columns[0].length; ++i)\n",
       "            {\n",
       "              for(var j = 0; j != data_table.columns.length; ++j)\n",
       "              {\n",
       "                if(j)\n",
       "                  uri += \",\";\n",
       "                uri += data_table.columns[j][i];\n",
       "              }\n",
       "              uri += \"\\n\";\n",
       "            }\n",
       "            uri = encodeURI(uri);\n",
       "\n",
       "            var link = document.createElement(\"a\");\n",
       "            if(typeof link.download != \"undefined\")\n",
       "            {\n",
       "              link.href = uri;\n",
       "              link.style = \"visibility:hidden\";\n",
       "              link.download = data_table.filename + \".csv\";\n",
       "\n",
       "              document.body.appendChild(link);\n",
       "              link.click();\n",
       "              document.body.removeChild(link);\n",
       "            }\n",
       "            else\n",
       "            {\n",
       "              window.open(uri);\n",
       "            }\n",
       "          }\n",
       "\n",
       "          function open_popup(data_table)\n",
       "          {\n",
       "            return function(e)\n",
       "            {\n",
       "              var popup = document.querySelector(\"#t06e5dc626eb244359114eb7b63e41d0c .toyplot-mark-popup\");\n",
       "              popup.querySelector(\".toyplot-mark-popup-title\").innerHTML = data_table.title;\n",
       "              popup.querySelector(\".toyplot-mark-popup-save-csv\").onclick = function() { popup.style.visibility = \"hidden\"; save_csv(data_table); }\n",
       "              popup.style.left = (e.clientX - 50) + \"px\";\n",
       "              popup.style.top = (e.clientY - 20) + \"px\";\n",
       "              popup.style.visibility = \"visible\";\n",
       "              e.stopPropagation();\n",
       "              e.preventDefault();\n",
       "            }\n",
       "\n",
       "          }\n",
       "\n",
       "          for(var i = 0; i != data_tables.length; ++i)\n",
       "          {\n",
       "            var data_table = data_tables[i];\n",
       "            var event_target = document.querySelector(\"#\" + data_table.id);\n",
       "            event_target.oncontextmenu = open_popup(data_table);\n",
       "          }\n",
       "        })();\n",
       "        </script></div></div>"
      ]
     },
     "metadata": {},
     "output_type": "display_data"
    }
   ],
   "source": [
    "canvas = toyplot.Canvas(width=600, height=300)\n",
    "axes = canvas.cartesian(show=False)\n",
    "\n",
    "axes.hlines(0, color=\"lightgray\")\n",
    "\n",
    "axes.text(-1, 0, \"Hanging\", style={\"alignment-baseline\":\"hanging\", \"font-size\":\"24px\"})\n",
    "axes.scatterplot(-1, 0, color=\"black\", size=3)\n",
    "\n",
    "axes.text(0, 0, \"Central\", style={\"alignment-baseline\":\"central\", \"font-size\":\"24px\"})\n",
    "axes.scatterplot(0, 0, color=\"black\", size=3)\n",
    "\n",
    "axes.text(1, 0, \"Middle\", style={\"alignment-baseline\":\"middle\", \"font-size\":\"24px\"})\n",
    "axes.scatterplot(1, 0, color=\"black\", size=3)\n",
    "\n",
    "axes.text(2, 0, \"Alpha\", style={\"alignment-baseline\":\"alphabetic\", \"font-size\":\"24px\"})\n",
    "axes.scatterplot(2, 0, color=\"black\", size=3);\n"
   ]
  },
  {
   "cell_type": "markdown",
   "metadata": {},
   "source": [
    "As you might expect, you can also shift text perpendicular to its baseline by arbitrary amounts, using `baseline-shift`.  While you are free to use any of Toyplot's supported CSS length units for the shift, percentages are especially useful, because they represent a distance relative to the font height:"
   ]
  },
  {
   "cell_type": "code",
   "execution_count": 5,
   "metadata": {
    "collapsed": false
   },
   "outputs": [
    {
     "data": {
      "text/html": [
       "<div align=\"center\" class=\"toyplot\" id=\"t9e503fa0dccf4cbe83a854294c5a3fa7\"><svg class=\"toyplot-canvas-Canvas\" height=\"300.0px\" id=\"t9ec95d20ec1140288f1a6a9c0acde2c7\" preserveAspectRatio=\"xMidYMid meet\" style=\"background-color:transparent;fill:rgb(16.1%,15.3%,14.1%);fill-opacity:1.0;font-family:Helvetica;font-size:12px;opacity:1.0;stroke:rgb(16.1%,15.3%,14.1%);stroke-opacity:1.0;stroke-width:1.0\" viewBox=\"0 0 700.0 300.0\" width=\"700.0px\" xmlns=\"http://www.w3.org/2000/svg\" xmlns:toyplot=\"http://www.sandia.gov/toyplot\" xmlns:xlink=\"http://www.w3.org/1999/xlink\"><g class=\"toyplot-coordinates-Cartesian\" id=\"tbe3d97ec72b74e36bda3334dc977451e\"><clipPath id=\"t1c5c0a30e3414f74a61357d7ed4bfa77\"><rect height=\"220.0\" width=\"620.0\" x=\"40.0\" y=\"40.0\"></rect></clipPath><g clip-path=\"url(#t1c5c0a30e3414f74a61357d7ed4bfa77)\"><g class=\"toyplot-mark-AxisLines\" id=\"t1081c5d68d134dcbb576bcae5ee576ef\" style=\"\"><g class=\"toyplot-Series\"><line class=\"toyplot-Datum\" style=\"opacity:1.0;stroke:rgb(82.7%,82.7%,82.7%);stroke-opacity:1.0\" x1=\"50.0\" x2=\"650.0\" y1=\"150.0\" y2=\"150.0\"></line></g></g><g class=\"toyplot-mark-Text\" id=\"t0c7eecdbf10d4db49a1403dc3f484d84\" style=\"alignment-baseline:middle;baseline-shift:-100%;font-size:24px;font-weight:normal;stroke:none;text-anchor:middle\"><g class=\"toyplot-Series\"><text class=\"toyplot-Datum\" style=\"fill:rgb(40%,76.1%,64.7%);fill-opacity:1.0;font-weight:normal;opacity:1.0;stroke:none;text-anchor:middle\" transform=\"translate(142.95774647887322,150.0)translate(0,30.75)\"><tspan style=\"font-size:24.0px\" x=\"0\" y=\"0\">Shift -100%</tspan></text></g></g><g class=\"toyplot-mark-Scatterplot\" id=\"tc9be565707164d779121144be2054a2f\" style=\"\"><g class=\"toyplot-Series\"><g class=\"toyplot-Datum\" style=\"fill:rgb(0%,0%,0%);fill-opacity:1.0;opacity:1.0;stroke:rgb(0%,0%,0%);stroke-opacity:1.0\"><circle cx=\"142.95774647887322\" cy=\"150.0\" r=\"1.5\"></circle></g></g></g><g class=\"toyplot-mark-Text\" id=\"tb97847d9035d419bac140d07da5f93d0\" style=\"alignment-baseline:middle;baseline-shift:0;font-size:24px;font-weight:normal;stroke:none;text-anchor:middle\"><g class=\"toyplot-Series\"><text class=\"toyplot-Datum\" style=\"fill:rgb(98.8%,55.3%,38.4%);fill-opacity:1.0;font-weight:normal;opacity:1.0;stroke:none;text-anchor:middle\" transform=\"translate(283.80281690140845,150.0)translate(0,6.75)\"><tspan style=\"font-size:24.0px\" x=\"0\" y=\"0\">Shift 0%</tspan></text></g></g><g class=\"toyplot-mark-Scatterplot\" id=\"t395e336f52274b28acd0a84102fa7ada\" style=\"\"><g class=\"toyplot-Series\"><g class=\"toyplot-Datum\" style=\"fill:rgb(0%,0%,0%);fill-opacity:1.0;opacity:1.0;stroke:rgb(0%,0%,0%);stroke-opacity:1.0\"><circle cx=\"283.80281690140845\" cy=\"150.0\" r=\"1.5\"></circle></g></g></g><g class=\"toyplot-mark-Text\" id=\"te984b9fe96734be6a387f311784f4e88\" style=\"alignment-baseline:middle;baseline-shift:66%;font-size:24px;font-weight:normal;stroke:none;text-anchor:middle\"><g class=\"toyplot-Series\"><text class=\"toyplot-Datum\" style=\"fill:rgb(55.3%,62.7%,79.6%);fill-opacity:1.0;font-weight:normal;opacity:1.0;stroke:none;text-anchor:middle\" transform=\"translate(424.64788732394368,150.0)translate(0,-9.09)\"><tspan style=\"font-size:24.0px\" x=\"0\" y=\"0\">Shift 66%</tspan></text></g></g><g class=\"toyplot-mark-Scatterplot\" id=\"t52efc77b442f483fb3e70c85f103ed25\" style=\"\"><g class=\"toyplot-Series\"><g class=\"toyplot-Datum\" style=\"fill:rgb(0%,0%,0%);fill-opacity:1.0;opacity:1.0;stroke:rgb(0%,0%,0%);stroke-opacity:1.0\"><circle cx=\"424.64788732394368\" cy=\"150.0\" r=\"1.5\"></circle></g></g></g><g class=\"toyplot-mark-Text\" id=\"t9ee9e23c9aa74cd0bd3120554b0723cf\" style=\"alignment-baseline:middle;baseline-shift:100%;font-size:24px;font-weight:normal;stroke:none;text-anchor:middle\"><g class=\"toyplot-Series\"><text class=\"toyplot-Datum\" style=\"fill:rgb(90.6%,54.1%,76.5%);fill-opacity:1.0;font-weight:normal;opacity:1.0;stroke:none;text-anchor:middle\" transform=\"translate(565.49295774647896,150.0)translate(0,-17.25)\"><tspan style=\"font-size:24.0px\" x=\"0\" y=\"0\">Shift 100%</tspan></text></g></g><g class=\"toyplot-mark-Scatterplot\" id=\"t11c5754945d0446598e1ca0c369d81e1\" style=\"\"><g class=\"toyplot-Series\"><g class=\"toyplot-Datum\" style=\"fill:rgb(0%,0%,0%);fill-opacity:1.0;opacity:1.0;stroke:rgb(0%,0%,0%);stroke-opacity:1.0\"><circle cx=\"565.49295774647896\" cy=\"150.0\" r=\"1.5\"></circle></g></g></g></g></g></svg><div class=\"toyplot-interactive\"><ul class=\"toyplot-mark-popup\" onmouseleave=\"this.style.visibility='hidden'\" style=\"background:rgba(0%,0%,0%,0.75);border:0;border-radius:6px;color:white;cursor:default;list-style:none;margin:0;padding:5px;position:fixed;visibility:hidden\">\n",
       "            <li class=\"toyplot-mark-popup-title\" style=\"color:lightgray;cursor:default;padding:5px;list-style:none;margin:0\"></li>\n",
       "            <li class=\"toyplot-mark-popup-save-csv\" onmouseout=\"this.style.color='white';this.style.background='steelblue'\" onmouseover=\"this.style.color='steelblue';this.style.background='white'\" style=\"border-radius:3px;padding:5px;list-style:none;margin:0\">\n",
       "                Save as .csv\n",
       "            </li>\n",
       "        </ul><script>\n",
       "        (function()\n",
       "        {\n",
       "          var data_tables = [{\"title\": \"Scatterplot Data\", \"names\": [\"x\", \"y0\"], \"id\": \"tc9be565707164d779121144be2054a2f\", \"columns\": [[-1.0], [0.0]], \"filename\": \"toyplot\"}, {\"title\": \"Scatterplot Data\", \"names\": [\"x\", \"y0\"], \"id\": \"t395e336f52274b28acd0a84102fa7ada\", \"columns\": [[0.0], [0.0]], \"filename\": \"toyplot\"}, {\"title\": \"Scatterplot Data\", \"names\": [\"x\", \"y0\"], \"id\": \"t52efc77b442f483fb3e70c85f103ed25\", \"columns\": [[1.0], [0.0]], \"filename\": \"toyplot\"}, {\"title\": \"Scatterplot Data\", \"names\": [\"x\", \"y0\"], \"id\": \"t11c5754945d0446598e1ca0c369d81e1\", \"columns\": [[2.0], [0.0]], \"filename\": \"toyplot\"}];\n",
       "\n",
       "          function save_csv(data_table)\n",
       "          {\n",
       "            var uri = \"data:text/csv;charset=utf-8,\";\n",
       "            uri += data_table.names.join(\",\") + \"\\n\";\n",
       "            for(var i = 0; i != data_table.columns[0].length; ++i)\n",
       "            {\n",
       "              for(var j = 0; j != data_table.columns.length; ++j)\n",
       "              {\n",
       "                if(j)\n",
       "                  uri += \",\";\n",
       "                uri += data_table.columns[j][i];\n",
       "              }\n",
       "              uri += \"\\n\";\n",
       "            }\n",
       "            uri = encodeURI(uri);\n",
       "\n",
       "            var link = document.createElement(\"a\");\n",
       "            if(typeof link.download != \"undefined\")\n",
       "            {\n",
       "              link.href = uri;\n",
       "              link.style = \"visibility:hidden\";\n",
       "              link.download = data_table.filename + \".csv\";\n",
       "\n",
       "              document.body.appendChild(link);\n",
       "              link.click();\n",
       "              document.body.removeChild(link);\n",
       "            }\n",
       "            else\n",
       "            {\n",
       "              window.open(uri);\n",
       "            }\n",
       "          }\n",
       "\n",
       "          function open_popup(data_table)\n",
       "          {\n",
       "            return function(e)\n",
       "            {\n",
       "              var popup = document.querySelector(\"#t9e503fa0dccf4cbe83a854294c5a3fa7 .toyplot-mark-popup\");\n",
       "              popup.querySelector(\".toyplot-mark-popup-title\").innerHTML = data_table.title;\n",
       "              popup.querySelector(\".toyplot-mark-popup-save-csv\").onclick = function() { popup.style.visibility = \"hidden\"; save_csv(data_table); }\n",
       "              popup.style.left = (e.clientX - 50) + \"px\";\n",
       "              popup.style.top = (e.clientY - 20) + \"px\";\n",
       "              popup.style.visibility = \"visible\";\n",
       "              e.stopPropagation();\n",
       "              e.preventDefault();\n",
       "            }\n",
       "\n",
       "          }\n",
       "\n",
       "          for(var i = 0; i != data_tables.length; ++i)\n",
       "          {\n",
       "            var data_table = data_tables[i];\n",
       "            var event_target = document.querySelector(\"#\" + data_table.id);\n",
       "            event_target.oncontextmenu = open_popup(data_table);\n",
       "          }\n",
       "        })();\n",
       "        </script></div></div>"
      ]
     },
     "metadata": {},
     "output_type": "display_data"
    }
   ],
   "source": [
    "canvas = toyplot.Canvas(width=700, height=300)\n",
    "axes = canvas.cartesian(show=False)\n",
    "\n",
    "axes.hlines(0, color=\"lightgray\")\n",
    "\n",
    "axes.text(-1, 0, \"Shift -100%\", style={\"baseline-shift\":\"-100%\", \"font-size\":\"24px\"})\n",
    "axes.scatterplot(-1, 0, color=\"black\", size=3)\n",
    "\n",
    "axes.text(0, 0, \"Shift 0%\", style={\"baseline-shift\":\"0\", \"font-size\":\"24px\"})\n",
    "axes.scatterplot(0, 0, color=\"black\", size=3)\n",
    "\n",
    "axes.text(1, 0, \"Shift 66%\", style={\"baseline-shift\":\"66%\", \"font-size\":\"24px\"})\n",
    "axes.scatterplot(1, 0, color=\"black\", size=3)\n",
    "\n",
    "axes.text(2, 0, \"Shift 100%\", style={\"baseline-shift\":\"100%\", \"font-size\":\"24px\"})\n",
    "axes.scatterplot(2, 0, color=\"black\", size=3);\n"
   ]
  },
  {
   "cell_type": "markdown",
   "metadata": {},
   "source": [
    "Of course, you're free to combine all four styles in any way that you like.\n",
    "\n",
    "One final thing to keep in mind is that `-toyplot-anchor-shift` and `baseline-shift` move the text relative to its baseline, not the canvas.  This is important because it affects their behavior when text is rotated.  In the following example, look carefully and note that the text with `-toyplot-anchor-shift` is shifted *along its rotated baseline*, not simply moved left or right on the canvas.  Similarly, the `baseline-shift` text is shifted *perpendicular to its rotated baseline*, not merely up or down:"
   ]
  },
  {
   "cell_type": "code",
   "execution_count": 6,
   "metadata": {
    "collapsed": false
   },
   "outputs": [
    {
     "data": {
      "text/html": [
       "<div align=\"center\" class=\"toyplot\" id=\"t7c3ab9c764fc4395b3c5671f8baf8ea1\"><svg class=\"toyplot-canvas-Canvas\" height=\"300.0px\" id=\"te3503eff21ad42ed802ffa7b353a0c44\" preserveAspectRatio=\"xMidYMid meet\" style=\"background-color:transparent;fill:rgb(16.1%,15.3%,14.1%);fill-opacity:1.0;font-family:Helvetica;font-size:12px;opacity:1.0;stroke:rgb(16.1%,15.3%,14.1%);stroke-opacity:1.0;stroke-width:1.0\" viewBox=\"0 0 500.0 300.0\" width=\"500.0px\" xmlns=\"http://www.w3.org/2000/svg\" xmlns:toyplot=\"http://www.sandia.gov/toyplot\" xmlns:xlink=\"http://www.w3.org/1999/xlink\"><g class=\"toyplot-coordinates-Cartesian\" id=\"tdf2cb20784a4478fb3e5fdd424c844fe\"><clipPath id=\"tcd1107b88be745e3829b939104792f96\"><rect height=\"220.0\" width=\"86.66666666666666\" x=\"40.0\" y=\"40.0\"></rect></clipPath><g clip-path=\"url(#tcd1107b88be745e3829b939104792f96)\"><g class=\"toyplot-mark-AxisLines\" id=\"tceab3193483c4cc2a12b2796d258161a\" style=\"\"><g class=\"toyplot-Series\"><line class=\"toyplot-Datum\" style=\"opacity:1.0;stroke:rgb(82.7%,82.7%,82.7%);stroke-opacity:1.0\" x1=\"83.333333333333329\" x2=\"83.333333333333329\" y1=\"50.0\" y2=\"250.0\"></line></g></g><g class=\"toyplot-mark-Text\" id=\"t782824c341ff41058874011fde758f08\" style=\"alignment-baseline:middle;font-size:24px;font-weight:normal;stroke:none;text-anchor:middle\"><g class=\"toyplot-Series\"><text class=\"toyplot-Datum\" style=\"fill:rgb(40%,76.1%,64.7%);fill-opacity:1.0;font-weight:normal;opacity:1.0;stroke:none;text-anchor:middle\" transform=\"translate(83.333333333333329,150.0)rotate(-45.0)translate(0,6.75)\"><tspan style=\"font-size:24.0px\" x=\"0\" y=\"0\">a + b</tspan></text></g></g><g class=\"toyplot-mark-Scatterplot\" id=\"t3765ad7324f4417d9b4d592d9c88a1a7\" style=\"\"><g class=\"toyplot-Series\"><g class=\"toyplot-Datum\" style=\"fill:rgb(0%,0%,0%);fill-opacity:1.0;opacity:1.0;stroke:rgb(0%,0%,0%);stroke-opacity:1.0\"><circle cx=\"83.333333333333329\" cy=\"150.0\" r=\"1.5\"></circle></g></g></g></g><text style=\"font-weight:bold;stroke:none;text-anchor:middle\" transform=\"translate(83.33333333333333,50.0)translate(0,-10.0625)\"><tspan style=\"font-size:14.0px\" x=\"0\" y=\"0\">default</tspan></text></g><g class=\"toyplot-coordinates-Cartesian\" id=\"t5e9cf620097b4628943a12d541fea298\"><clipPath id=\"t0b53123ea3e0404cbd6c18f7876f523b\"><rect height=\"220.0\" width=\"86.66666666666666\" x=\"206.66666666666666\" y=\"40.0\"></rect></clipPath><g clip-path=\"url(#t0b53123ea3e0404cbd6c18f7876f523b)\"><g class=\"toyplot-mark-AxisLines\" id=\"t3e993b27f0f64657a9b1c7d4cc141d23\" style=\"\"><g class=\"toyplot-Series\"><line class=\"toyplot-Datum\" style=\"opacity:1.0;stroke:rgb(82.7%,82.7%,82.7%);stroke-opacity:1.0\" x1=\"240.7407407407407\" x2=\"240.7407407407407\" y1=\"50.0\" y2=\"250.0\"></line></g></g><g class=\"toyplot-mark-Text\" id=\"t6c012cbfddc549cfbaa025f85db6db8d\" style=\"-toyplot-anchor-shift:20px;alignment-baseline:middle;font-size:24px;font-weight:normal;stroke:none;text-anchor:middle\"><g class=\"toyplot-Series\"><text class=\"toyplot-Datum\" style=\"fill:rgb(40%,76.1%,64.7%);fill-opacity:1.0;font-weight:normal;opacity:1.0;stroke:none;text-anchor:middle\" transform=\"translate(240.7407407407407,150.0)rotate(-45.0)translate(20.0,6.75)\"><tspan style=\"font-size:24.0px\" x=\"0\" y=\"0\">a + b</tspan></text></g></g><g class=\"toyplot-mark-Scatterplot\" id=\"ta5244f9363dd45e8a11b7106af3dbf15\" style=\"\"><g class=\"toyplot-Series\"><g class=\"toyplot-Datum\" style=\"fill:rgb(0%,0%,0%);fill-opacity:1.0;opacity:1.0;stroke:rgb(0%,0%,0%);stroke-opacity:1.0\"><circle cx=\"240.7407407407407\" cy=\"150.0\" r=\"1.5\"></circle></g></g></g></g><text style=\"font-weight:bold;stroke:none;text-anchor:middle\" transform=\"translate(250.0,50.0)translate(0,-10.0625)\"><tspan style=\"font-size:14.0px\" x=\"0\" y=\"0\">-toyplot-anchor-shift</tspan></text></g><g class=\"toyplot-coordinates-Cartesian\" id=\"t081bb2e86b9d455cbf418c8bd4a9040b\"><clipPath id=\"t55a4de71628a424a8a9314e140bd0ff0\"><rect height=\"220.0\" width=\"86.66666666666669\" x=\"373.3333333333333\" y=\"40.0\"></rect></clipPath><g clip-path=\"url(#t55a4de71628a424a8a9314e140bd0ff0)\"><g class=\"toyplot-mark-AxisLines\" id=\"tbed95f2f7a064e0b9c784f44d842a3b6\" style=\"\"><g class=\"toyplot-Series\"><line class=\"toyplot-Datum\" style=\"opacity:1.0;stroke:rgb(82.7%,82.7%,82.7%);stroke-opacity:1.0\" x1=\"407.40740740740739\" x2=\"407.40740740740739\" y1=\"50.0\" y2=\"250.0\"></line></g></g><g class=\"toyplot-mark-Text\" id=\"tb5dd6577462f4fda9fa22dac1b260fd2\" style=\"alignment-baseline:middle;baseline-shift:-20px;font-size:24px;font-weight:normal;stroke:none;text-anchor:middle\"><g class=\"toyplot-Series\"><text class=\"toyplot-Datum\" style=\"fill:rgb(40%,76.1%,64.7%);fill-opacity:1.0;font-weight:normal;opacity:1.0;stroke:none;text-anchor:middle\" transform=\"translate(407.40740740740739,150.0)rotate(-45.0)translate(0,26.75)\"><tspan style=\"font-size:24.0px\" x=\"0\" y=\"0\">a + b</tspan></text></g></g><g class=\"toyplot-mark-Scatterplot\" id=\"t3b30e5bfd07b4f85bfb19c1f96930288\" style=\"\"><g class=\"toyplot-Series\"><g class=\"toyplot-Datum\" style=\"fill:rgb(0%,0%,0%);fill-opacity:1.0;opacity:1.0;stroke:rgb(0%,0%,0%);stroke-opacity:1.0\"><circle cx=\"407.40740740740739\" cy=\"150.0\" r=\"1.5\"></circle></g></g></g></g><text style=\"font-weight:bold;stroke:none;text-anchor:middle\" transform=\"translate(416.66666666666663,50.0)translate(0,-10.0625)\"><tspan style=\"font-size:14.0px\" x=\"0\" y=\"0\">baseline-shift</tspan></text></g></svg><div class=\"toyplot-interactive\"><ul class=\"toyplot-mark-popup\" onmouseleave=\"this.style.visibility='hidden'\" style=\"background:rgba(0%,0%,0%,0.75);border:0;border-radius:6px;color:white;cursor:default;list-style:none;margin:0;padding:5px;position:fixed;visibility:hidden\">\n",
       "            <li class=\"toyplot-mark-popup-title\" style=\"color:lightgray;cursor:default;padding:5px;list-style:none;margin:0\"></li>\n",
       "            <li class=\"toyplot-mark-popup-save-csv\" onmouseout=\"this.style.color='white';this.style.background='steelblue'\" onmouseover=\"this.style.color='steelblue';this.style.background='white'\" style=\"border-radius:3px;padding:5px;list-style:none;margin:0\">\n",
       "                Save as .csv\n",
       "            </li>\n",
       "        </ul><script>\n",
       "        (function()\n",
       "        {\n",
       "          var data_tables = [{\"title\": \"Scatterplot Data\", \"names\": [\"x\", \"y0\"], \"id\": \"t3765ad7324f4417d9b4d592d9c88a1a7\", \"columns\": [[0.0], [0.0]], \"filename\": \"toyplot\"}, {\"title\": \"Scatterplot Data\", \"names\": [\"x\", \"y0\"], \"id\": \"ta5244f9363dd45e8a11b7106af3dbf15\", \"columns\": [[0.0], [0.0]], \"filename\": \"toyplot\"}, {\"title\": \"Scatterplot Data\", \"names\": [\"x\", \"y0\"], \"id\": \"t3b30e5bfd07b4f85bfb19c1f96930288\", \"columns\": [[0.0], [0.0]], \"filename\": \"toyplot\"}];\n",
       "\n",
       "          function save_csv(data_table)\n",
       "          {\n",
       "            var uri = \"data:text/csv;charset=utf-8,\";\n",
       "            uri += data_table.names.join(\",\") + \"\\n\";\n",
       "            for(var i = 0; i != data_table.columns[0].length; ++i)\n",
       "            {\n",
       "              for(var j = 0; j != data_table.columns.length; ++j)\n",
       "              {\n",
       "                if(j)\n",
       "                  uri += \",\";\n",
       "                uri += data_table.columns[j][i];\n",
       "              }\n",
       "              uri += \"\\n\";\n",
       "            }\n",
       "            uri = encodeURI(uri);\n",
       "\n",
       "            var link = document.createElement(\"a\");\n",
       "            if(typeof link.download != \"undefined\")\n",
       "            {\n",
       "              link.href = uri;\n",
       "              link.style = \"visibility:hidden\";\n",
       "              link.download = data_table.filename + \".csv\";\n",
       "\n",
       "              document.body.appendChild(link);\n",
       "              link.click();\n",
       "              document.body.removeChild(link);\n",
       "            }\n",
       "            else\n",
       "            {\n",
       "              window.open(uri);\n",
       "            }\n",
       "          }\n",
       "\n",
       "          function open_popup(data_table)\n",
       "          {\n",
       "            return function(e)\n",
       "            {\n",
       "              var popup = document.querySelector(\"#t7c3ab9c764fc4395b3c5671f8baf8ea1 .toyplot-mark-popup\");\n",
       "              popup.querySelector(\".toyplot-mark-popup-title\").innerHTML = data_table.title;\n",
       "              popup.querySelector(\".toyplot-mark-popup-save-csv\").onclick = function() { popup.style.visibility = \"hidden\"; save_csv(data_table); }\n",
       "              popup.style.left = (e.clientX - 50) + \"px\";\n",
       "              popup.style.top = (e.clientY - 20) + \"px\";\n",
       "              popup.style.visibility = \"visible\";\n",
       "              e.stopPropagation();\n",
       "              e.preventDefault();\n",
       "            }\n",
       "\n",
       "          }\n",
       "\n",
       "          for(var i = 0; i != data_tables.length; ++i)\n",
       "          {\n",
       "            var data_table = data_tables[i];\n",
       "            var event_target = document.querySelector(\"#\" + data_table.id);\n",
       "            event_target.oncontextmenu = open_popup(data_table);\n",
       "          }\n",
       "        })();\n",
       "        </script></div></div>"
      ]
     },
     "metadata": {},
     "output_type": "display_data"
    }
   ],
   "source": [
    "canvas = toyplot.Canvas(width=500, height=300)\n",
    "\n",
    "axes = canvas.cartesian(grid=(1,3,0), xshow=False, yshow=False, label=\"default\")\n",
    "axes.vlines(0, color=\"lightgray\")\n",
    "axes.text(0, 0, \"a + b\", angle=45, style={\"font-size\":\"24px\"})\n",
    "axes.scatterplot(0, 0, color=\"black\", size=3)\n",
    "\n",
    "axes = canvas.cartesian(grid=(1,3,1), xshow=False, yshow=False, label=\"-toyplot-anchor-shift\")\n",
    "axes.vlines(0, color=\"lightgray\")\n",
    "axes.text(0, 0, \"a + b\", angle=45, style={\"-toyplot-anchor-shift\":\"20px\", \"font-size\":\"24px\"})\n",
    "axes.scatterplot(0, 0, color=\"black\", size=3)\n",
    "\n",
    "axes = canvas.cartesian(grid=(1,3,2), xshow=False, yshow=False, label=\"baseline-shift\")\n",
    "axes.vlines(0, color=\"lightgray\")\n",
    "axes.text(0, 0, \"a + b\", angle=45, style={\"baseline-shift\":\"-20px\", \"font-size\":\"24px\"})\n",
    "axes.scatterplot(0, 0, color=\"black\", size=3);\n"
   ]
  },
  {
   "cell_type": "markdown",
   "metadata": {},
   "source": [
    "## Rich Text\n",
    "\n",
    "In addition to positioning text using styles, you can use (a limited subset of) HTML markup to format your text.  For example, you can create text with superscripts and subscripts: "
   ]
  },
  {
   "cell_type": "code",
   "execution_count": 7,
   "metadata": {
    "collapsed": false
   },
   "outputs": [
    {
     "data": {
      "text/html": [
       "<div align=\"center\" class=\"toyplot\" id=\"t7af41d9327b24bf7a876a681f46190cb\"><svg class=\"toyplot-canvas-Canvas\" height=\"150.0px\" id=\"t6528bdb449f542dfb4b25e0f7c078f75\" preserveAspectRatio=\"xMidYMid meet\" style=\"background-color:transparent;fill:rgb(16.1%,15.3%,14.1%);fill-opacity:1.0;font-family:Helvetica;font-size:12px;opacity:1.0;stroke:rgb(16.1%,15.3%,14.1%);stroke-opacity:1.0;stroke-width:1.0\" viewBox=\"0 0 600.0 150.0\" width=\"600.0px\" xmlns=\"http://www.w3.org/2000/svg\" xmlns:toyplot=\"http://www.sandia.gov/toyplot\" xmlns:xlink=\"http://www.w3.org/1999/xlink\"><g class=\"toyplot-mark-Text\" id=\"td3adf49bcdb5426ab28f1af540a0c786\" style=\"alignment-baseline:middle;font-size:32px;font-weight:normal;stroke:none;text-anchor:middle\"><g class=\"toyplot-Series\"><text class=\"toyplot-Datum\" style=\"fill:rgb(16.1%,15.3%,14.1%);fill-opacity:1.0;font-weight:normal;opacity:1.0;stroke:none;text-anchor:middle\" transform=\"translate(300.0,100.0)translate(0,9.0)\"><tspan style=\"font-size:32.0px\" x=\"0\" y=\"0\">100</tspan><tspan style=\"font-size:22.4px\" x=\"53.376\" y=\"-9.6\">-53</tspan></text></g></g></svg><div class=\"toyplot-interactive\"></div></div>"
      ]
     },
     "metadata": {},
     "output_type": "display_data"
    }
   ],
   "source": [
    "canvas = toyplot.Canvas(width=600, height=150)\n",
    "canvas.text(300, 100, \"100<sup>-53</sup>\", style={\"font-size\":\"32px\"});"
   ]
  },
  {
   "cell_type": "code",
   "execution_count": 8,
   "metadata": {
    "collapsed": false
   },
   "outputs": [
    {
     "data": {
      "text/html": [
       "<div align=\"center\" class=\"toyplot\" id=\"t3666540fda0c4ae18f925a16b2cd3ca4\"><svg class=\"toyplot-canvas-Canvas\" height=\"150.0px\" id=\"t47e3ad264cf6407ea56659b23cdaaf47\" preserveAspectRatio=\"xMidYMid meet\" style=\"background-color:transparent;fill:rgb(16.1%,15.3%,14.1%);fill-opacity:1.0;font-family:Helvetica;font-size:12px;opacity:1.0;stroke:rgb(16.1%,15.3%,14.1%);stroke-opacity:1.0;stroke-width:1.0\" viewBox=\"0 0 600.0 150.0\" width=\"600.0px\" xmlns=\"http://www.w3.org/2000/svg\" xmlns:toyplot=\"http://www.sandia.gov/toyplot\" xmlns:xlink=\"http://www.w3.org/1999/xlink\"><g class=\"toyplot-mark-Text\" id=\"tb21137fc55924946847717d26683298e\" style=\"alignment-baseline:middle;font-size:32px;font-weight:normal;stroke:none;text-anchor:middle\"><g class=\"toyplot-Series\"><text class=\"toyplot-Datum\" style=\"fill:rgb(16.1%,15.3%,14.1%);fill-opacity:1.0;font-weight:normal;opacity:1.0;stroke:none;text-anchor:middle\" transform=\"translate(300.0,100.0)translate(0,9.0)\"><tspan style=\"font-size:32.0px\" x=\"0\" y=\"0\">H</tspan><tspan style=\"font-size:22.4px\" x=\"23.104\" y=\"6.4\">2</tspan><tspan style=\"font-size:32.0px\" x=\"35.5584\" y=\"0\">O</tspan></text></g></g></svg><div class=\"toyplot-interactive\"></div></div>"
      ]
     },
     "metadata": {},
     "output_type": "display_data"
    }
   ],
   "source": [
    "canvas = toyplot.Canvas(width=600, height=150)\n",
    "canvas.text(300, 100, \"H<sub>2</sub>O\", style={\"font-size\":\"32px\"});"
   ]
  },
  {
   "cell_type": "markdown",
   "metadata": {},
   "source": [
    "Note that you are free to nest superscripts and subscripts:"
   ]
  },
  {
   "cell_type": "code",
   "execution_count": 9,
   "metadata": {
    "collapsed": false
   },
   "outputs": [
    {
     "data": {
      "text/html": [
       "<div align=\"center\" class=\"toyplot\" id=\"t91876c91603f4ae3a9eb8caa901a11fc\"><svg class=\"toyplot-canvas-Canvas\" height=\"150.0px\" id=\"t39b65d0bbcae474289797611b81ff7c0\" preserveAspectRatio=\"xMidYMid meet\" style=\"background-color:transparent;fill:rgb(16.1%,15.3%,14.1%);fill-opacity:1.0;font-family:Helvetica;font-size:12px;opacity:1.0;stroke:rgb(16.1%,15.3%,14.1%);stroke-opacity:1.0;stroke-width:1.0\" viewBox=\"0 0 600.0 150.0\" width=\"600.0px\" xmlns=\"http://www.w3.org/2000/svg\" xmlns:toyplot=\"http://www.sandia.gov/toyplot\" xmlns:xlink=\"http://www.w3.org/1999/xlink\"><g class=\"toyplot-mark-Text\" id=\"t58d1a3e32fb545b49551e04ab5656c6f\" style=\"alignment-baseline:middle;font-size:32px;font-weight:normal;stroke:none;text-anchor:middle\"><g class=\"toyplot-Series\"><text class=\"toyplot-Datum\" style=\"fill:rgb(16.1%,15.3%,14.1%);fill-opacity:1.0;font-weight:normal;opacity:1.0;stroke:none;text-anchor:middle\" transform=\"translate(300.0,100.0)translate(0,9.0)\"><tspan style=\"font-size:32.0px\" x=\"0\" y=\"0\">W</tspan><tspan style=\"font-size:22.4px\" x=\"30.208\" y=\"-9.6\">X</tspan><tspan style=\"font-size:15.68px\" x=\"45.1488\" y=\"-5.12\">Y</tspan><tspan style=\"font-size:15.68px\" x=\"55.60736\" y=\"-16.32\">Z</tspan></text></g></g></svg><div class=\"toyplot-interactive\"></div></div>"
      ]
     },
     "metadata": {},
     "output_type": "display_data"
    }
   ],
   "source": [
    "canvas = toyplot.Canvas(width=600, height=150)\n",
    "canvas.text(300, 100, \"W<sup>X<sub>Y</sub><sup>Z</sup></sup>\", style={\"font-size\":\"32px\"});"
   ]
  },
  {
   "cell_type": "markdown",
   "metadata": {},
   "source": [
    "There are a variety of tags to alter the inline appearance of text:"
   ]
  },
  {
   "cell_type": "code",
   "execution_count": 10,
   "metadata": {
    "collapsed": false
   },
   "outputs": [
    {
     "data": {
      "text/html": [
       "<div align=\"center\" class=\"toyplot\" id=\"tb8131b152a39466da6b9ddb621596e9b\"><svg class=\"toyplot-canvas-Canvas\" height=\"150.0px\" id=\"tef1b0ff13e2c4b38a3a70ac349c37b70\" preserveAspectRatio=\"xMidYMid meet\" style=\"background-color:transparent;fill:rgb(16.1%,15.3%,14.1%);fill-opacity:1.0;font-family:Helvetica;font-size:12px;opacity:1.0;stroke:rgb(16.1%,15.3%,14.1%);stroke-opacity:1.0;stroke-width:1.0\" viewBox=\"0 0 600.0 150.0\" width=\"600.0px\" xmlns=\"http://www.w3.org/2000/svg\" xmlns:toyplot=\"http://www.sandia.gov/toyplot\" xmlns:xlink=\"http://www.w3.org/1999/xlink\"><g class=\"toyplot-mark-Text\" id=\"t19dbc7dea6c7474e97f5f70275b8ad9b\" style=\"alignment-baseline:middle;font-size:24px;font-weight:normal;stroke:none;text-anchor:start\"><g class=\"toyplot-Series\"><text class=\"toyplot-Datum\" style=\"fill:rgb(16.1%,15.3%,14.1%);fill-opacity:1.0;font-weight:normal;opacity:1.0;stroke:none;text-anchor:start\" transform=\"translate(300.0,100.0)translate(0,6.75)\"><tspan style=\"font-size:24.0px\" x=\"0\" y=\"0\">normal </tspan><tspan style=\"font-size:24.0px;font-weight:bold\" x=\"80.016\" y=\"0\">bold</tspan><tspan style=\"font-size:24.0px\" x=\"125.376\" y=\"0\"> </tspan><tspan style=\"font-size:24.0px;font-style:italic\" x=\"132.048\" y=\"0\">italic</tspan><tspan style=\"font-size:24.0px\" x=\"180.048\" y=\"0\"> </tspan><tspan style=\"font-size:24.0px;font-weight:bold\" x=\"186.72\" y=\"0\">strong</tspan><tspan style=\"font-size:24.0px\" x=\"253.416\" y=\"0\"> </tspan><tspan style=\"font-size:24.0px;font-style:italic\" x=\"260.088\" y=\"0\">emphasis</tspan><tspan style=\"font-size:24.0px\" x=\"362.784\" y=\"0\"> </tspan><tspan style=\"font-size:19.2px\" x=\"369.456\" y=\"0\">small</tspan><tspan style=\"font-size:24.0px\" x=\"414.2496\" y=\"0\"> </tspan><tspan style=\"font-family:monospace;font-size:24.0px\" x=\"419.5872\" y=\"0\">code</tspan></text></g></g></svg><div class=\"toyplot-interactive\"></div></div>"
      ]
     },
     "metadata": {},
     "output_type": "display_data"
    }
   ],
   "source": [
    "canvas = toyplot.Canvas(width=600, height=150)\n",
    "canvas.text(\n",
    "    300,\n",
    "    100,\n",
    "    \"normal <b>bold</b> <i>italic</i> <strong>strong</strong> <em>emphasis</em> <small>small</small> <code>code</code>\",\n",
    "    style={\"text-anchor\":\"start\", \"font-size\":\"24px\"});"
   ]
  },
  {
   "cell_type": "markdown",
   "metadata": {},
   "source": [
    "And these tags can be nested as well:"
   ]
  },
  {
   "cell_type": "code",
   "execution_count": 11,
   "metadata": {
    "collapsed": false
   },
   "outputs": [
    {
     "data": {
      "text/html": [
       "<div align=\"center\" class=\"toyplot\" id=\"t17377bdf562a4511a893cb435320dc32\"><svg class=\"toyplot-canvas-Canvas\" height=\"150.0px\" id=\"tf59762e15d4a4bb2a90d207c6fa9c04d\" preserveAspectRatio=\"xMidYMid meet\" style=\"background-color:transparent;fill:rgb(16.1%,15.3%,14.1%);fill-opacity:1.0;font-family:Helvetica;font-size:12px;opacity:1.0;stroke:rgb(16.1%,15.3%,14.1%);stroke-opacity:1.0;stroke-width:1.0\" viewBox=\"0 0 600.0 150.0\" width=\"600.0px\" xmlns=\"http://www.w3.org/2000/svg\" xmlns:toyplot=\"http://www.sandia.gov/toyplot\" xmlns:xlink=\"http://www.w3.org/1999/xlink\"><g class=\"toyplot-mark-Text\" id=\"tce5984b2ba314a7d82bc5bdaafe1cd7a\" style=\"alignment-baseline:middle;font-size:32px;font-weight:normal;stroke:none;text-anchor:start\"><g class=\"toyplot-Series\"><text class=\"toyplot-Datum\" style=\"fill:rgb(16.1%,15.3%,14.1%);fill-opacity:1.0;font-weight:normal;opacity:1.0;stroke:none;text-anchor:start\" transform=\"translate(300.0,100.0)translate(0,9.0)\"><tspan style=\"font-size:32.0px\" x=\"0\" y=\"0\">foo </tspan><tspan style=\"font-size:32.0px;font-weight:bold\" x=\"53.376\" y=\"0\">bar </tspan><tspan style=\"font-size:32.0px;font-style:italic;font-weight:bold\" x=\"108.512\" y=\"0\">baz </tspan><tspan style=\"font-family:monospace;font-size:32.0px;font-style:italic;font-weight:bold\" x=\"168.992\" y=\"0\">blah</tspan></text></g></g></svg><div class=\"toyplot-interactive\"></div></div>"
      ]
     },
     "metadata": {},
     "output_type": "display_data"
    }
   ],
   "source": [
    "canvas = toyplot.Canvas(width=600, height=150)\n",
    "canvas.text(300, 100, \"foo <b>bar <i>baz <code>blah</code></i></b>\", style={\"text-anchor\":\"start\", \"font-size\":\"32px\"});"
   ]
  },
  {
   "cell_type": "markdown",
   "metadata": {},
   "source": [
    "Finally, you can insert line breaks into your text using the &lt;br/&gt; tag:"
   ]
  },
  {
   "cell_type": "code",
   "execution_count": 12,
   "metadata": {
    "collapsed": false
   },
   "outputs": [
    {
     "data": {
      "text/html": [
       "<div align=\"center\" class=\"toyplot\" id=\"t02a5b084a9e3473b809c5d2529264b57\"><svg class=\"toyplot-canvas-Canvas\" height=\"200.0px\" id=\"t7cae4494f5724274831ee635711b2ecf\" preserveAspectRatio=\"xMidYMid meet\" style=\"background-color:transparent;fill:rgb(16.1%,15.3%,14.1%);fill-opacity:1.0;font-family:Helvetica;font-size:12px;opacity:1.0;stroke:rgb(16.1%,15.3%,14.1%);stroke-opacity:1.0;stroke-width:1.0\" viewBox=\"0 0 600.0 200.0\" width=\"600.0px\" xmlns=\"http://www.w3.org/2000/svg\" xmlns:toyplot=\"http://www.sandia.gov/toyplot\" xmlns:xlink=\"http://www.w3.org/1999/xlink\"><g class=\"toyplot-mark-Text\" id=\"t43dc18ce2b834b7c83ee0065c4a611c0\" style=\"alignment-baseline:middle;font-size:16px;font-weight:normal;stroke:none;text-anchor:middle\"><g class=\"toyplot-Series\"><text class=\"toyplot-Datum\" style=\"fill:rgb(16.1%,15.3%,14.1%);fill-opacity:1.0;font-weight:normal;opacity:1.0;stroke:none;text-anchor:middle\" transform=\"translate(300.0,100.0)translate(0,4.5)\"><tspan style=\"font-size:16.0px\" x=\"0\" y=\"0\">0.567832</tspan><tspan style=\"font-size:12.8px\" x=\"0\" y=\"19.2\">(243, 128, 19)</tspan></text></g></g></svg><div class=\"toyplot-interactive\"></div></div>"
      ]
     },
     "metadata": {},
     "output_type": "display_data"
    }
   ],
   "source": [
    "canvas = toyplot.Canvas(width=600, height=200)\n",
    "canvas.text(300, 100, \"0.567832<br/><small>(243, 128, 19)</small>\", style={\"font-size\":\"16px\"});"
   ]
  },
  {
   "cell_type": "code",
   "execution_count": 13,
   "metadata": {
    "collapsed": false
   },
   "outputs": [
    {
     "data": {
      "text/html": [
       "<div align=\"center\" class=\"toyplot\" id=\"te4da6c4ac86a48f2bada37315fe386fb\"><svg class=\"toyplot-canvas-Canvas\" height=\"200.0px\" id=\"t222666ca9fce44f4aba21dfe56bf46cf\" preserveAspectRatio=\"xMidYMid meet\" style=\"background-color:transparent;fill:rgb(16.1%,15.3%,14.1%);fill-opacity:1.0;font-family:Helvetica;font-size:12px;opacity:1.0;stroke:rgb(16.1%,15.3%,14.1%);stroke-opacity:1.0;stroke-width:1.0\" viewBox=\"0 0 600.0 200.0\" width=\"600.0px\" xmlns=\"http://www.w3.org/2000/svg\" xmlns:toyplot=\"http://www.sandia.gov/toyplot\" xmlns:xlink=\"http://www.w3.org/1999/xlink\"><g class=\"toyplot-mark-Text\" id=\"tcff39895a2e44cc9a721c969975b8590\" style=\"alignment-baseline:middle;font-size:16px;font-weight:normal;stroke:none;text-anchor:start\"><g class=\"toyplot-Series\"><text class=\"toyplot-Datum\" style=\"fill:rgb(16.1%,15.3%,14.1%);fill-opacity:1.0;font-weight:normal;opacity:1.0;stroke:none;text-anchor:start\" transform=\"translate(300.0,100.0)translate(0,4.5)\"><tspan style=\"font-size:16.0px\" x=\"0\" y=\"0\">This is a </tspan><tspan style=\"fill:rgb(100%,0%,0%);fill-opacity:1.0;font-family:times;font-size:24.0px;font-weight:bold\" x=\"64.016\" y=\"0\">special</tspan><tspan style=\"font-size:16.0px\" x=\"130.664\" y=\"0\"> word.</tspan></text></g></g></svg><div class=\"toyplot-interactive\"></div></div>"
      ]
     },
     "metadata": {},
     "output_type": "display_data"
    }
   ],
   "source": [
    "canvas = toyplot.Canvas(width=600, height=200)\n",
    "canvas.text(300, 100, \"This is a <span style='fill:red;font-size:150%;font-weight:bold;font-family:times'>special</span> word.\", style={\"text-anchor\":\"start\", \"font-size\":\"16px\"});"
   ]
  },
  {
   "cell_type": "code",
   "execution_count": 14,
   "metadata": {
    "collapsed": false
   },
   "outputs": [],
   "source": [
    "import toyplot.pdf\n",
    "toyplot.pdf.render(canvas, \"test.pdf\")"
   ]
  },
  {
   "cell_type": "markdown",
   "metadata": {},
   "source": [
    "Note that additional tags and style attributes currently aren't allowed in rich-text.  We expect that the set of tags and attributes will expand in the future."
   ]
  },
  {
   "cell_type": "markdown",
   "metadata": {},
   "source": [
    "Keep in mind that you can use rich text formatting anywhere that text is displayed, including table cells, axis labels and tick labels.  You can also use rich text in format strings for tick locators - as an example, the :class:`toyplot.locator.Log` locator uses superscript tags to format tick labels for :ref:`log-scales`."
   ]
  },
  {
   "cell_type": "markdown",
   "metadata": {
    "collapsed": true
   },
   "source": [
    "## Coordinate System Text\n",
    "\n",
    "In addition to all the above, :ref:`cartesian-coordinates` and :ref:`numberline-coordinates` provide additional parameters that affect text layout and alignment.\n",
    "\n",
    "First, ticks and labels have a parameter `location` that controls whether they appear above or below an axis:"
   ]
  },
  {
   "cell_type": "code",
   "execution_count": 15,
   "metadata": {
    "collapsed": false
   },
   "outputs": [
    {
     "data": {
      "text/html": [
       "<div align=\"center\" class=\"toyplot\" id=\"tbca86b9f488a4376927e038c02d1cd5c\"><svg class=\"toyplot-canvas-Canvas\" height=\"200.0px\" id=\"t5094df02349e433394b180ee5516843f\" preserveAspectRatio=\"xMidYMid meet\" style=\"background-color:transparent;fill:rgb(16.1%,15.3%,14.1%);fill-opacity:1.0;font-family:Helvetica;font-size:12px;opacity:1.0;stroke:rgb(16.1%,15.3%,14.1%);stroke-opacity:1.0;stroke-width:1.0\" viewBox=\"0 0 600.0 200.0\" width=\"600.0px\" xmlns=\"http://www.w3.org/2000/svg\" xmlns:toyplot=\"http://www.sandia.gov/toyplot\" xmlns:xlink=\"http://www.w3.org/1999/xlink\"><g class=\"toyplot-coordinates-Numberline\" id=\"te4e29957c4234cd5a4584af6b356b6f9\"><clipPath id=\"t52b53e0bba70459c954c649b8a2ef25b\"><rect height=\"40.0\" width=\"500.0\" x=\"0\" y=\"-20.0\"></rect></clipPath><g clip-path=\"url(#t52b53e0bba70459c954c649b8a2ef25b)\" transform=\"translate(50.0,50.0)\"></g><g class=\"toyplot-coordinates-Axis\" id=\"t0dfbec7e9754437ea145172b825cdf58\" transform=\"translate(50.0,50.0)translate(0,20.0)\"><line style=\"\" x1=\"0\" x2=\"500.0\" y1=\"0\" y2=\"0\"></line><g><text style=\"font-weight:normal;stroke:none;text-anchor:middle\" transform=\"translate(0.0,-6)\"><tspan style=\"font-size:10.0px\" x=\"0\" y=\"0\">-0.5</tspan></text><text style=\"font-weight:normal;stroke:none;text-anchor:middle\" transform=\"translate(250.0,-6)\"><tspan style=\"font-size:10.0px\" x=\"0\" y=\"0\">0.0</tspan></text><text style=\"font-weight:normal;stroke:none;text-anchor:middle\" transform=\"translate(500.0,-6)\"><tspan style=\"font-size:10.0px\" x=\"0\" y=\"0\">0.5</tspan></text></g><g class=\"toyplot-coordinates-Axis-coordinates\" style=\"visibility:hidden\" transform=\"\"><line style=\"stroke:rgb(43.9%,50.2%,56.5%);stroke-opacity:1.0;stroke-width:1.0\" x1=\"0\" x2=\"0\" y1=\"3.0\" y2=\"-4.5\"></line><text style=\"alignment-baseline:hanging;fill:rgb(43.9%,50.2%,56.5%);fill-opacity:1.0;font-size:10px;font-weight:normal;stroke:none;text-anchor:middle\" x=\"0\" y=\"6\"></text></g></g></g><g class=\"toyplot-coordinates-Numberline\" id=\"tc41b7263ba1940d0a24460873c9cf636\"><clipPath id=\"t45ef1532b6294cb9b592cb41d2325831\"><rect height=\"40.0\" width=\"500.0\" x=\"0\" y=\"-20.0\"></rect></clipPath><g clip-path=\"url(#t45ef1532b6294cb9b592cb41d2325831)\" transform=\"translate(50.0,150.0)\"></g><g class=\"toyplot-coordinates-Axis\" id=\"t9073a600f7704a3ba92401667f80ce05\" transform=\"translate(50.0,150.0)translate(0,20.0)\"><line style=\"\" x1=\"0\" x2=\"500.0\" y1=\"0\" y2=\"0\"></line><g><text style=\"font-weight:normal;stroke:none;text-anchor:middle\" transform=\"translate(0.0,6)translate(0,7.5)\"><tspan style=\"font-size:10.0px\" x=\"0\" y=\"0\">-0.5</tspan></text><text style=\"font-weight:normal;stroke:none;text-anchor:middle\" transform=\"translate(250.0,6)translate(0,7.5)\"><tspan style=\"font-size:10.0px\" x=\"0\" y=\"0\">0.0</tspan></text><text style=\"font-weight:normal;stroke:none;text-anchor:middle\" transform=\"translate(500.0,6)translate(0,7.5)\"><tspan style=\"font-size:10.0px\" x=\"0\" y=\"0\">0.5</tspan></text></g><g class=\"toyplot-coordinates-Axis-coordinates\" style=\"visibility:hidden\" transform=\"\"><line style=\"stroke:rgb(43.9%,50.2%,56.5%);stroke-opacity:1.0;stroke-width:1.0\" x1=\"0\" x2=\"0\" y1=\"-3.0\" y2=\"4.5\"></line><text style=\"alignment-baseline:alphabetic;fill:rgb(43.9%,50.2%,56.5%);fill-opacity:1.0;font-size:10px;font-weight:normal;stroke:none;text-anchor:middle\" x=\"0\" y=\"-6\"></text></g></g></g></svg><div class=\"toyplot-interactive\"><script>\n",
       "        (function()\n",
       "        {\n",
       "            function _sign(x)\n",
       "            {\n",
       "                return x < 0 ? -1 : x > 0 ? 1 : 0;\n",
       "            }\n",
       "\n",
       "            function _mix(a, b, amount)\n",
       "            {\n",
       "                return ((1.0 - amount) * a) + (amount * b);\n",
       "            }\n",
       "\n",
       "            function _log(x, base)\n",
       "            {\n",
       "                return Math.log(Math.abs(x)) / Math.log(base);\n",
       "            }\n",
       "\n",
       "            function _in_range(a, x, b)\n",
       "            {\n",
       "                var left = Math.min(a, b);\n",
       "                var right = Math.max(a, b);\n",
       "                return left <= x && x <= right;\n",
       "            }\n",
       "\n",
       "            function inside(range, projection)\n",
       "            {\n",
       "                for(var i = 0; i != projection.length; ++i)\n",
       "                {\n",
       "                    var segment = projection[i];\n",
       "                    if(_in_range(segment.range.min, range, segment.range.max))\n",
       "                        return true;\n",
       "                }\n",
       "                return false;\n",
       "            }\n",
       "\n",
       "            function to_domain(range, projection)\n",
       "            {\n",
       "                for(var i = 0; i != projection.length; ++i)\n",
       "                {\n",
       "                    var segment = projection[i];\n",
       "                    if(_in_range(segment.range.bounds.min, range, segment.range.bounds.max))\n",
       "                    {\n",
       "                        if(segment.scale == \"linear\")\n",
       "                        {\n",
       "                            var amount = (range - segment.range.min) / (segment.range.max - segment.range.min);\n",
       "                            return _mix(segment.domain.min, segment.domain.max, amount)\n",
       "                        }\n",
       "                        else if(segment.scale[0] == \"log\")\n",
       "                        {\n",
       "                            var amount = (range - segment.range.min) / (segment.range.max - segment.range.min);\n",
       "                            var base = segment.scale[1];\n",
       "                            return _sign(segment.domain.min) * Math.pow(base, _mix(_log(segment.domain.min, base), _log(segment.domain.max, base), amount));\n",
       "                        }\n",
       "                    }\n",
       "                }\n",
       "            }\n",
       "\n",
       "            function display_coordinates(e)\n",
       "            {\n",
       "                var current = svg.createSVGPoint();\n",
       "                current.x = e.clientX;\n",
       "                current.y = e.clientY;\n",
       "\n",
       "                for(var axis_id in axes)\n",
       "                {\n",
       "                    var axis = document.querySelector(\"#\" + axis_id);\n",
       "                    var coordinates = axis.querySelector(\".toyplot-coordinates-Axis-coordinates\");\n",
       "                    if(coordinates)\n",
       "                    {\n",
       "                        var projection = axes[axis_id];\n",
       "                        var local = current.matrixTransform(axis.getScreenCTM().inverse());\n",
       "                        if(inside(local.x, projection))\n",
       "                        {\n",
       "                            var domain = to_domain(local.x, projection);\n",
       "                            coordinates.style.visibility = \"visible\";\n",
       "                            coordinates.setAttribute(\"transform\", \"translate(\" + local.x + \")\");\n",
       "                            var text = coordinates.querySelector(\"text\");\n",
       "                            text.textContent = domain.toFixed(2);\n",
       "                        }\n",
       "                        else\n",
       "                        {\n",
       "                            coordinates.style.visibility= \"hidden\";\n",
       "                        }\n",
       "                    }\n",
       "                }\n",
       "            }\n",
       "\n",
       "            var root_id = \"tbca86b9f488a4376927e038c02d1cd5c\";\n",
       "            var axes = {\"t0dfbec7e9754437ea145172b825cdf58\": [{\"domain\": {\"bounds\": {\"max\": Infinity, \"min\": -Infinity}, \"max\": 0.5, \"min\": -0.5}, \"range\": {\"bounds\": {\"max\": Infinity, \"min\": -Infinity}, \"max\": 500.0, \"min\": 0.0}, \"scale\": \"linear\"}], \"t9073a600f7704a3ba92401667f80ce05\": [{\"domain\": {\"bounds\": {\"max\": Infinity, \"min\": -Infinity}, \"max\": 0.5, \"min\": -0.5}, \"range\": {\"bounds\": {\"max\": Infinity, \"min\": -Infinity}, \"max\": 500.0, \"min\": 0.0}, \"scale\": \"linear\"}]};\n",
       "\n",
       "            var svg = document.querySelector(\"#\" + root_id + \" svg\");\n",
       "            svg.addEventListener(\"click\", display_coordinates);\n",
       "        })();\n",
       "        </script></div></div>"
      ]
     },
     "metadata": {},
     "output_type": "display_data"
    }
   ],
   "source": [
    "canvas = toyplot.Canvas(width=600, height=200)\n",
    "\n",
    "numberline1 = canvas.numberline(grid=(2, 1, 0))\n",
    "numberline1.axis.ticks.location=\"above\"\n",
    "\n",
    "numberline2 = canvas.numberline(grid=(2, 1, 1))\n",
    "numberline2.axis.ticks.location=\"below\""
   ]
  },
  {
   "cell_type": "markdown",
   "metadata": {},
   "source": [
    "Note that although the location can be specified explicitly, in most cases the defaults should just work ... note how the location of the Y axis ticks and labels automatically changes from \"above\" to \"below\" when the Y axis spine is repositioned in the following example:"
   ]
  },
  {
   "cell_type": "code",
   "execution_count": 16,
   "metadata": {
    "collapsed": false
   },
   "outputs": [
    {
     "data": {
      "text/html": [
       "<div align=\"center\" class=\"toyplot\" id=\"tafee4024d2204069bb6523f924ef98b2\"><svg class=\"toyplot-canvas-Canvas\" height=\"300.0px\" id=\"t47866c04e73b4198a9f6f12ca2153e67\" preserveAspectRatio=\"xMidYMid meet\" style=\"background-color:transparent;fill:rgb(16.1%,15.3%,14.1%);fill-opacity:1.0;font-family:Helvetica;font-size:12px;opacity:1.0;stroke:rgb(16.1%,15.3%,14.1%);stroke-opacity:1.0;stroke-width:1.0\" viewBox=\"0 0 600.0 300.0\" width=\"600.0px\" xmlns=\"http://www.w3.org/2000/svg\" xmlns:toyplot=\"http://www.sandia.gov/toyplot\" xmlns:xlink=\"http://www.w3.org/1999/xlink\"><g class=\"toyplot-coordinates-Cartesian\" id=\"t7737dceb85f9494a94963e9782a1ebaf\"><clipPath id=\"t514e85e313cc4aafb13d2342934e985a\"><rect height=\"220.0\" width=\"220.0\" x=\"40.0\" y=\"40.0\"></rect></clipPath><g clip-path=\"url(#t514e85e313cc4aafb13d2342934e985a)\"></g><g class=\"toyplot-coordinates-Axis\" id=\"t0728a4722726498b85431946ef71020e\" transform=\"translate(50.0,250.0)translate(0,10.0)\"><line style=\"\" x1=\"0\" x2=\"200.0\" y1=\"0\" y2=\"0\"></line><g><text style=\"font-weight:normal;stroke:none;text-anchor:middle\" transform=\"translate(0.0,6)translate(0,7.5)\"><tspan style=\"font-size:10.0px\" x=\"0\" y=\"0\">-0.5</tspan></text><text style=\"font-weight:normal;stroke:none;text-anchor:middle\" transform=\"translate(100.0,6)translate(0,7.5)\"><tspan style=\"font-size:10.0px\" x=\"0\" y=\"0\">0.0</tspan></text><text style=\"font-weight:normal;stroke:none;text-anchor:middle\" transform=\"translate(200.0,6)translate(0,7.5)\"><tspan style=\"font-size:10.0px\" x=\"0\" y=\"0\">0.5</tspan></text></g><g class=\"toyplot-coordinates-Axis-coordinates\" style=\"visibility:hidden\" transform=\"\"><line style=\"stroke:rgb(43.9%,50.2%,56.5%);stroke-opacity:1.0;stroke-width:1.0\" x1=\"0\" x2=\"0\" y1=\"-3.0\" y2=\"4.5\"></line><text style=\"alignment-baseline:alphabetic;fill:rgb(43.9%,50.2%,56.5%);fill-opacity:1.0;font-size:10px;font-weight:normal;stroke:none;text-anchor:middle\" x=\"0\" y=\"-6\"></text></g></g><g class=\"toyplot-coordinates-Axis\" id=\"t284cae08b0ad4e8ba7de6cbd7ceecbcf\" transform=\"translate(50.0,250.0)rotate(-90.0)translate(0,-10.0)\"><line style=\"\" x1=\"0\" x2=\"200.0\" y1=\"0\" y2=\"0\"></line><g><text style=\"font-weight:normal;stroke:none;text-anchor:middle\" transform=\"translate(0.0,-6)\"><tspan style=\"font-size:10.0px\" x=\"0\" y=\"0\">-0.5</tspan></text><text style=\"font-weight:normal;stroke:none;text-anchor:middle\" transform=\"translate(100.0,-6)\"><tspan style=\"font-size:10.0px\" x=\"0\" y=\"0\">0.0</tspan></text><text style=\"font-weight:normal;stroke:none;text-anchor:middle\" transform=\"translate(200.0,-6)\"><tspan style=\"font-size:10.0px\" x=\"0\" y=\"0\">0.5</tspan></text></g><g class=\"toyplot-coordinates-Axis-coordinates\" style=\"visibility:hidden\" transform=\"\"><line style=\"stroke:rgb(43.9%,50.2%,56.5%);stroke-opacity:1.0;stroke-width:1.0\" x1=\"0\" x2=\"0\" y1=\"3.0\" y2=\"-4.5\"></line><text style=\"alignment-baseline:hanging;fill:rgb(43.9%,50.2%,56.5%);fill-opacity:1.0;font-size:10px;font-weight:normal;stroke:none;text-anchor:middle\" x=\"0\" y=\"6\"></text></g></g></g><g class=\"toyplot-coordinates-Cartesian\" id=\"t62721db105514eaa9d8d0e7282af0de1\"><clipPath id=\"t7495c2f97db4461487eeac2aabab1234\"><rect height=\"220.0\" width=\"220.0\" x=\"340.0\" y=\"40.0\"></rect></clipPath><g clip-path=\"url(#t7495c2f97db4461487eeac2aabab1234)\"></g><g class=\"toyplot-coordinates-Axis\" id=\"t91b36b3d007545f19407f54285430079\" transform=\"translate(350.0,250.0)translate(0,10.0)\"><line style=\"\" x1=\"0\" x2=\"200.0\" y1=\"0\" y2=\"0\"></line><g><text style=\"font-weight:normal;stroke:none;text-anchor:middle\" transform=\"translate(0.0,6)translate(0,7.5)\"><tspan style=\"font-size:10.0px\" x=\"0\" y=\"0\">-0.5</tspan></text><text style=\"font-weight:normal;stroke:none;text-anchor:middle\" transform=\"translate(100.0,6)translate(0,7.5)\"><tspan style=\"font-size:10.0px\" x=\"0\" y=\"0\">0.0</tspan></text><text style=\"font-weight:normal;stroke:none;text-anchor:middle\" transform=\"translate(200.0,6)translate(0,7.5)\"><tspan style=\"font-size:10.0px\" x=\"0\" y=\"0\">0.5</tspan></text></g><g class=\"toyplot-coordinates-Axis-coordinates\" style=\"visibility:hidden\" transform=\"\"><line style=\"stroke:rgb(43.9%,50.2%,56.5%);stroke-opacity:1.0;stroke-width:1.0\" x1=\"0\" x2=\"0\" y1=\"-3.0\" y2=\"4.5\"></line><text style=\"alignment-baseline:alphabetic;fill:rgb(43.9%,50.2%,56.5%);fill-opacity:1.0;font-size:10px;font-weight:normal;stroke:none;text-anchor:middle\" x=\"0\" y=\"-6\"></text></g></g><g class=\"toyplot-coordinates-Axis\" id=\"t3d427b7bfb4b40ea98c93437e8cee210\" transform=\"translate(550.0,250.0)rotate(-90.0)translate(0,10.0)\"><line style=\"\" x1=\"0\" x2=\"200.0\" y1=\"0\" y2=\"0\"></line><g><text style=\"font-weight:normal;stroke:none;text-anchor:middle\" transform=\"translate(0.0,6)translate(0,7.5)\"><tspan style=\"font-size:10.0px\" x=\"0\" y=\"0\">-0.5</tspan></text><text style=\"font-weight:normal;stroke:none;text-anchor:middle\" transform=\"translate(100.0,6)translate(0,7.5)\"><tspan style=\"font-size:10.0px\" x=\"0\" y=\"0\">0.0</tspan></text><text style=\"font-weight:normal;stroke:none;text-anchor:middle\" transform=\"translate(200.0,6)translate(0,7.5)\"><tspan style=\"font-size:10.0px\" x=\"0\" y=\"0\">0.5</tspan></text></g><g class=\"toyplot-coordinates-Axis-coordinates\" style=\"visibility:hidden\" transform=\"\"><line style=\"stroke:rgb(43.9%,50.2%,56.5%);stroke-opacity:1.0;stroke-width:1.0\" x1=\"0\" x2=\"0\" y1=\"-3.0\" y2=\"4.5\"></line><text style=\"alignment-baseline:alphabetic;fill:rgb(43.9%,50.2%,56.5%);fill-opacity:1.0;font-size:10px;font-weight:normal;stroke:none;text-anchor:middle\" x=\"0\" y=\"-6\"></text></g></g></g></svg><div class=\"toyplot-interactive\"><script>\n",
       "        (function()\n",
       "        {\n",
       "            function _sign(x)\n",
       "            {\n",
       "                return x < 0 ? -1 : x > 0 ? 1 : 0;\n",
       "            }\n",
       "\n",
       "            function _mix(a, b, amount)\n",
       "            {\n",
       "                return ((1.0 - amount) * a) + (amount * b);\n",
       "            }\n",
       "\n",
       "            function _log(x, base)\n",
       "            {\n",
       "                return Math.log(Math.abs(x)) / Math.log(base);\n",
       "            }\n",
       "\n",
       "            function _in_range(a, x, b)\n",
       "            {\n",
       "                var left = Math.min(a, b);\n",
       "                var right = Math.max(a, b);\n",
       "                return left <= x && x <= right;\n",
       "            }\n",
       "\n",
       "            function inside(range, projection)\n",
       "            {\n",
       "                for(var i = 0; i != projection.length; ++i)\n",
       "                {\n",
       "                    var segment = projection[i];\n",
       "                    if(_in_range(segment.range.min, range, segment.range.max))\n",
       "                        return true;\n",
       "                }\n",
       "                return false;\n",
       "            }\n",
       "\n",
       "            function to_domain(range, projection)\n",
       "            {\n",
       "                for(var i = 0; i != projection.length; ++i)\n",
       "                {\n",
       "                    var segment = projection[i];\n",
       "                    if(_in_range(segment.range.bounds.min, range, segment.range.bounds.max))\n",
       "                    {\n",
       "                        if(segment.scale == \"linear\")\n",
       "                        {\n",
       "                            var amount = (range - segment.range.min) / (segment.range.max - segment.range.min);\n",
       "                            return _mix(segment.domain.min, segment.domain.max, amount)\n",
       "                        }\n",
       "                        else if(segment.scale[0] == \"log\")\n",
       "                        {\n",
       "                            var amount = (range - segment.range.min) / (segment.range.max - segment.range.min);\n",
       "                            var base = segment.scale[1];\n",
       "                            return _sign(segment.domain.min) * Math.pow(base, _mix(_log(segment.domain.min, base), _log(segment.domain.max, base), amount));\n",
       "                        }\n",
       "                    }\n",
       "                }\n",
       "            }\n",
       "\n",
       "            function display_coordinates(e)\n",
       "            {\n",
       "                var current = svg.createSVGPoint();\n",
       "                current.x = e.clientX;\n",
       "                current.y = e.clientY;\n",
       "\n",
       "                for(var axis_id in axes)\n",
       "                {\n",
       "                    var axis = document.querySelector(\"#\" + axis_id);\n",
       "                    var coordinates = axis.querySelector(\".toyplot-coordinates-Axis-coordinates\");\n",
       "                    if(coordinates)\n",
       "                    {\n",
       "                        var projection = axes[axis_id];\n",
       "                        var local = current.matrixTransform(axis.getScreenCTM().inverse());\n",
       "                        if(inside(local.x, projection))\n",
       "                        {\n",
       "                            var domain = to_domain(local.x, projection);\n",
       "                            coordinates.style.visibility = \"visible\";\n",
       "                            coordinates.setAttribute(\"transform\", \"translate(\" + local.x + \")\");\n",
       "                            var text = coordinates.querySelector(\"text\");\n",
       "                            text.textContent = domain.toFixed(2);\n",
       "                        }\n",
       "                        else\n",
       "                        {\n",
       "                            coordinates.style.visibility= \"hidden\";\n",
       "                        }\n",
       "                    }\n",
       "                }\n",
       "            }\n",
       "\n",
       "            var root_id = \"tafee4024d2204069bb6523f924ef98b2\";\n",
       "            var axes = {\"t0728a4722726498b85431946ef71020e\": [{\"domain\": {\"bounds\": {\"max\": Infinity, \"min\": -Infinity}, \"max\": 0.5, \"min\": -0.5}, \"range\": {\"bounds\": {\"max\": Infinity, \"min\": -Infinity}, \"max\": 200.0, \"min\": 0.0}, \"scale\": \"linear\"}], \"t284cae08b0ad4e8ba7de6cbd7ceecbcf\": [{\"domain\": {\"bounds\": {\"max\": Infinity, \"min\": -Infinity}, \"max\": 0.5, \"min\": -0.5}, \"range\": {\"bounds\": {\"max\": Infinity, \"min\": -Infinity}, \"max\": 200.0, \"min\": 0.0}, \"scale\": \"linear\"}], \"t3d427b7bfb4b40ea98c93437e8cee210\": [{\"domain\": {\"bounds\": {\"max\": Infinity, \"min\": -Infinity}, \"max\": 0.5, \"min\": -0.5}, \"range\": {\"bounds\": {\"max\": Infinity, \"min\": -Infinity}, \"max\": 200.0, \"min\": 0.0}, \"scale\": \"linear\"}], \"t91b36b3d007545f19407f54285430079\": [{\"domain\": {\"bounds\": {\"max\": Infinity, \"min\": -Infinity}, \"max\": 0.5, \"min\": -0.5}, \"range\": {\"bounds\": {\"max\": Infinity, \"min\": -Infinity}, \"max\": 200.0, \"min\": 0.0}, \"scale\": \"linear\"}]};\n",
       "\n",
       "            var svg = document.querySelector(\"#\" + root_id + \" svg\");\n",
       "            svg.addEventListener(\"click\", display_coordinates);\n",
       "        })();\n",
       "        </script></div></div>"
      ]
     },
     "metadata": {},
     "output_type": "display_data"
    }
   ],
   "source": [
    "canvas = toyplot.Canvas(width=600, height=300)\n",
    "\n",
    "axis1 = canvas.cartesian(grid=(1, 2, 0))\n",
    "\n",
    "axis2 = canvas.cartesian(grid=(1, 2, 1))\n",
    "axis2.y.spine.position=\"high\""
   ]
  },
  {
   "cell_type": "markdown",
   "metadata": {},
   "source": [
    "In addition to positioning tick labels above or below an axis, you can also adjust their `offset` - the distance from the axis spine to the text anchor.  The `offset` parameter is specified so that increasing values move text further from the axis, whether its location is above or below - in the following example, note that both offsets are positive:  "
   ]
  },
  {
   "cell_type": "code",
   "execution_count": 17,
   "metadata": {
    "collapsed": false
   },
   "outputs": [
    {
     "data": {
      "text/html": [
       "<div align=\"center\" class=\"toyplot\" id=\"t834c05ed60124509b92254d5e5beb807\"><svg class=\"toyplot-canvas-Canvas\" height=\"300.0px\" id=\"tb8a0aaec24f14362817bab45f9c8b8a2\" preserveAspectRatio=\"xMidYMid meet\" style=\"background-color:transparent;fill:rgb(16.1%,15.3%,14.1%);fill-opacity:1.0;font-family:Helvetica;font-size:12px;opacity:1.0;stroke:rgb(16.1%,15.3%,14.1%);stroke-opacity:1.0;stroke-width:1.0\" viewBox=\"0 0 600.0 300.0\" width=\"600.0px\" xmlns=\"http://www.w3.org/2000/svg\" xmlns:toyplot=\"http://www.sandia.gov/toyplot\" xmlns:xlink=\"http://www.w3.org/1999/xlink\"><g class=\"toyplot-coordinates-Cartesian\" id=\"tb11576b031e84b4c97c2f8255ea0bba6\"><clipPath id=\"td5141025431a4c02865adfe2e547406b\"><rect height=\"220.0\" width=\"220.0\" x=\"40.0\" y=\"40.0\"></rect></clipPath><g clip-path=\"url(#td5141025431a4c02865adfe2e547406b)\"></g><g class=\"toyplot-coordinates-Axis\" id=\"t8eeed25a2ac14002bcd313264c878211\" transform=\"translate(50.0,250.0)translate(0,10.0)\"><line style=\"\" x1=\"0\" x2=\"200.0\" y1=\"0\" y2=\"0\"></line><g><text style=\"font-weight:normal;stroke:none;text-anchor:middle\" transform=\"translate(0.0,6)translate(0,7.5)\"><tspan style=\"font-size:10.0px\" x=\"0\" y=\"0\">-0.5</tspan></text><text style=\"font-weight:normal;stroke:none;text-anchor:middle\" transform=\"translate(100.0,6)translate(0,7.5)\"><tspan style=\"font-size:10.0px\" x=\"0\" y=\"0\">0.0</tspan></text><text style=\"font-weight:normal;stroke:none;text-anchor:middle\" transform=\"translate(200.0,6)translate(0,7.5)\"><tspan style=\"font-size:10.0px\" x=\"0\" y=\"0\">0.5</tspan></text></g><g class=\"toyplot-coordinates-Axis-coordinates\" style=\"visibility:hidden\" transform=\"\"><line style=\"stroke:rgb(43.9%,50.2%,56.5%);stroke-opacity:1.0;stroke-width:1.0\" x1=\"0\" x2=\"0\" y1=\"-3.0\" y2=\"4.5\"></line><text style=\"alignment-baseline:alphabetic;fill:rgb(43.9%,50.2%,56.5%);fill-opacity:1.0;font-size:10px;font-weight:normal;stroke:none;text-anchor:middle\" x=\"0\" y=\"-6\"></text></g></g><g class=\"toyplot-coordinates-Axis\" id=\"t45ef5683313a48649a57769bad6eedf8\" transform=\"translate(50.0,250.0)rotate(-90.0)translate(0,-10.0)\"><line style=\"\" x1=\"0\" x2=\"200.0\" y1=\"0\" y2=\"0\"></line><g><text style=\"font-weight:normal;stroke:none;text-anchor:middle\" transform=\"translate(0.0,-30.0)\"><tspan style=\"font-size:10.0px\" x=\"0\" y=\"0\">-0.5</tspan></text><text style=\"font-weight:normal;stroke:none;text-anchor:middle\" transform=\"translate(100.0,-30.0)\"><tspan style=\"font-size:10.0px\" x=\"0\" y=\"0\">0.0</tspan></text><text style=\"font-weight:normal;stroke:none;text-anchor:middle\" transform=\"translate(200.0,-30.0)\"><tspan style=\"font-size:10.0px\" x=\"0\" y=\"0\">0.5</tspan></text></g><g class=\"toyplot-coordinates-Axis-coordinates\" style=\"visibility:hidden\" transform=\"\"><line style=\"stroke:rgb(43.9%,50.2%,56.5%);stroke-opacity:1.0;stroke-width:1.0\" x1=\"0\" x2=\"0\" y1=\"15.0\" y2=\"-22.5\"></line><text style=\"alignment-baseline:hanging;fill:rgb(43.9%,50.2%,56.5%);fill-opacity:1.0;font-size:10px;font-weight:normal;stroke:none;text-anchor:middle\" x=\"0\" y=\"30.0\"></text></g></g></g><g class=\"toyplot-coordinates-Cartesian\" id=\"t7831d8f2e7ac4c53aacdba3b7771a6a1\"><clipPath id=\"t38b89836d18f4047b7324986dca8c10b\"><rect height=\"220.0\" width=\"220.0\" x=\"340.0\" y=\"40.0\"></rect></clipPath><g clip-path=\"url(#t38b89836d18f4047b7324986dca8c10b)\"></g><g class=\"toyplot-coordinates-Axis\" id=\"t3614a5792ae046aa8b14c31678f96fb8\" transform=\"translate(350.0,250.0)translate(0,10.0)\"><line style=\"\" x1=\"0\" x2=\"200.0\" y1=\"0\" y2=\"0\"></line><g><text style=\"font-weight:normal;stroke:none;text-anchor:middle\" transform=\"translate(0.0,6)translate(0,7.5)\"><tspan style=\"font-size:10.0px\" x=\"0\" y=\"0\">-0.5</tspan></text><text style=\"font-weight:normal;stroke:none;text-anchor:middle\" transform=\"translate(100.0,6)translate(0,7.5)\"><tspan style=\"font-size:10.0px\" x=\"0\" y=\"0\">0.0</tspan></text><text style=\"font-weight:normal;stroke:none;text-anchor:middle\" transform=\"translate(200.0,6)translate(0,7.5)\"><tspan style=\"font-size:10.0px\" x=\"0\" y=\"0\">0.5</tspan></text></g><g class=\"toyplot-coordinates-Axis-coordinates\" style=\"visibility:hidden\" transform=\"\"><line style=\"stroke:rgb(43.9%,50.2%,56.5%);stroke-opacity:1.0;stroke-width:1.0\" x1=\"0\" x2=\"0\" y1=\"-3.0\" y2=\"4.5\"></line><text style=\"alignment-baseline:alphabetic;fill:rgb(43.9%,50.2%,56.5%);fill-opacity:1.0;font-size:10px;font-weight:normal;stroke:none;text-anchor:middle\" x=\"0\" y=\"-6\"></text></g></g><g class=\"toyplot-coordinates-Axis\" id=\"t025cbdf594224cc2bf27cf8eadbd1d82\" transform=\"translate(550.0,250.0)rotate(-90.0)translate(0,10.0)\"><line style=\"\" x1=\"0\" x2=\"200.0\" y1=\"0\" y2=\"0\"></line><g><text style=\"font-weight:normal;stroke:none;text-anchor:middle\" transform=\"translate(0.0,30.0)translate(0,7.5)\"><tspan style=\"font-size:10.0px\" x=\"0\" y=\"0\">-0.5</tspan></text><text style=\"font-weight:normal;stroke:none;text-anchor:middle\" transform=\"translate(100.0,30.0)translate(0,7.5)\"><tspan style=\"font-size:10.0px\" x=\"0\" y=\"0\">0.0</tspan></text><text style=\"font-weight:normal;stroke:none;text-anchor:middle\" transform=\"translate(200.0,30.0)translate(0,7.5)\"><tspan style=\"font-size:10.0px\" x=\"0\" y=\"0\">0.5</tspan></text></g><g class=\"toyplot-coordinates-Axis-coordinates\" style=\"visibility:hidden\" transform=\"\"><line style=\"stroke:rgb(43.9%,50.2%,56.5%);stroke-opacity:1.0;stroke-width:1.0\" x1=\"0\" x2=\"0\" y1=\"-15.0\" y2=\"22.5\"></line><text style=\"alignment-baseline:alphabetic;fill:rgb(43.9%,50.2%,56.5%);fill-opacity:1.0;font-size:10px;font-weight:normal;stroke:none;text-anchor:middle\" x=\"0\" y=\"-30.0\"></text></g></g></g></svg><div class=\"toyplot-interactive\"><script>\n",
       "        (function()\n",
       "        {\n",
       "            function _sign(x)\n",
       "            {\n",
       "                return x < 0 ? -1 : x > 0 ? 1 : 0;\n",
       "            }\n",
       "\n",
       "            function _mix(a, b, amount)\n",
       "            {\n",
       "                return ((1.0 - amount) * a) + (amount * b);\n",
       "            }\n",
       "\n",
       "            function _log(x, base)\n",
       "            {\n",
       "                return Math.log(Math.abs(x)) / Math.log(base);\n",
       "            }\n",
       "\n",
       "            function _in_range(a, x, b)\n",
       "            {\n",
       "                var left = Math.min(a, b);\n",
       "                var right = Math.max(a, b);\n",
       "                return left <= x && x <= right;\n",
       "            }\n",
       "\n",
       "            function inside(range, projection)\n",
       "            {\n",
       "                for(var i = 0; i != projection.length; ++i)\n",
       "                {\n",
       "                    var segment = projection[i];\n",
       "                    if(_in_range(segment.range.min, range, segment.range.max))\n",
       "                        return true;\n",
       "                }\n",
       "                return false;\n",
       "            }\n",
       "\n",
       "            function to_domain(range, projection)\n",
       "            {\n",
       "                for(var i = 0; i != projection.length; ++i)\n",
       "                {\n",
       "                    var segment = projection[i];\n",
       "                    if(_in_range(segment.range.bounds.min, range, segment.range.bounds.max))\n",
       "                    {\n",
       "                        if(segment.scale == \"linear\")\n",
       "                        {\n",
       "                            var amount = (range - segment.range.min) / (segment.range.max - segment.range.min);\n",
       "                            return _mix(segment.domain.min, segment.domain.max, amount)\n",
       "                        }\n",
       "                        else if(segment.scale[0] == \"log\")\n",
       "                        {\n",
       "                            var amount = (range - segment.range.min) / (segment.range.max - segment.range.min);\n",
       "                            var base = segment.scale[1];\n",
       "                            return _sign(segment.domain.min) * Math.pow(base, _mix(_log(segment.domain.min, base), _log(segment.domain.max, base), amount));\n",
       "                        }\n",
       "                    }\n",
       "                }\n",
       "            }\n",
       "\n",
       "            function display_coordinates(e)\n",
       "            {\n",
       "                var current = svg.createSVGPoint();\n",
       "                current.x = e.clientX;\n",
       "                current.y = e.clientY;\n",
       "\n",
       "                for(var axis_id in axes)\n",
       "                {\n",
       "                    var axis = document.querySelector(\"#\" + axis_id);\n",
       "                    var coordinates = axis.querySelector(\".toyplot-coordinates-Axis-coordinates\");\n",
       "                    if(coordinates)\n",
       "                    {\n",
       "                        var projection = axes[axis_id];\n",
       "                        var local = current.matrixTransform(axis.getScreenCTM().inverse());\n",
       "                        if(inside(local.x, projection))\n",
       "                        {\n",
       "                            var domain = to_domain(local.x, projection);\n",
       "                            coordinates.style.visibility = \"visible\";\n",
       "                            coordinates.setAttribute(\"transform\", \"translate(\" + local.x + \")\");\n",
       "                            var text = coordinates.querySelector(\"text\");\n",
       "                            text.textContent = domain.toFixed(2);\n",
       "                        }\n",
       "                        else\n",
       "                        {\n",
       "                            coordinates.style.visibility= \"hidden\";\n",
       "                        }\n",
       "                    }\n",
       "                }\n",
       "            }\n",
       "\n",
       "            var root_id = \"t834c05ed60124509b92254d5e5beb807\";\n",
       "            var axes = {\"t025cbdf594224cc2bf27cf8eadbd1d82\": [{\"domain\": {\"bounds\": {\"max\": Infinity, \"min\": -Infinity}, \"max\": 0.5, \"min\": -0.5}, \"range\": {\"bounds\": {\"max\": Infinity, \"min\": -Infinity}, \"max\": 200.0, \"min\": 0.0}, \"scale\": \"linear\"}], \"t3614a5792ae046aa8b14c31678f96fb8\": [{\"domain\": {\"bounds\": {\"max\": Infinity, \"min\": -Infinity}, \"max\": 0.5, \"min\": -0.5}, \"range\": {\"bounds\": {\"max\": Infinity, \"min\": -Infinity}, \"max\": 200.0, \"min\": 0.0}, \"scale\": \"linear\"}], \"t45ef5683313a48649a57769bad6eedf8\": [{\"domain\": {\"bounds\": {\"max\": Infinity, \"min\": -Infinity}, \"max\": 0.5, \"min\": -0.5}, \"range\": {\"bounds\": {\"max\": Infinity, \"min\": -Infinity}, \"max\": 200.0, \"min\": 0.0}, \"scale\": \"linear\"}], \"t8eeed25a2ac14002bcd313264c878211\": [{\"domain\": {\"bounds\": {\"max\": Infinity, \"min\": -Infinity}, \"max\": 0.5, \"min\": -0.5}, \"range\": {\"bounds\": {\"max\": Infinity, \"min\": -Infinity}, \"max\": 200.0, \"min\": 0.0}, \"scale\": \"linear\"}]};\n",
       "\n",
       "            var svg = document.querySelector(\"#\" + root_id + \" svg\");\n",
       "            svg.addEventListener(\"click\", display_coordinates);\n",
       "        })();\n",
       "        </script></div></div>"
      ]
     },
     "metadata": {},
     "output_type": "display_data"
    }
   ],
   "source": [
    "canvas = toyplot.Canvas(width=600, height=300)\n",
    "\n",
    "axis1 = canvas.cartesian(grid=(1, 2, 0))\n",
    "axis1.y.ticks.labels.offset=30\n",
    "\n",
    "axis2 = canvas.cartesian(grid=(1, 2, 1))\n",
    "axis2.y.spine.position=\"high\"\n",
    "axis2.y.ticks.labels.offset=30"
   ]
  },
  {
   "cell_type": "markdown",
   "metadata": {},
   "source": [
    "The default text alignment parameters have been carefully chosen to provide good quality layout even if you change the label font size, and regardless of label location:"
   ]
  },
  {
   "cell_type": "code",
   "execution_count": 18,
   "metadata": {
    "collapsed": false
   },
   "outputs": [
    {
     "data": {
      "text/html": [
       "<div align=\"center\" class=\"toyplot\" id=\"t1793b382955c48929f1b49a8d2dc0f56\"><svg class=\"toyplot-canvas-Canvas\" height=\"400.0px\" id=\"tb9a5a514757b48fea6c765a2cfe3dfd3\" preserveAspectRatio=\"xMidYMid meet\" style=\"background-color:transparent;fill:rgb(16.1%,15.3%,14.1%);fill-opacity:1.0;font-family:Helvetica;font-size:12px;opacity:1.0;stroke:rgb(16.1%,15.3%,14.1%);stroke-opacity:1.0;stroke-width:1.0\" viewBox=\"0 0 600.0 400.0\" width=\"600.0px\" xmlns=\"http://www.w3.org/2000/svg\" xmlns:toyplot=\"http://www.sandia.gov/toyplot\" xmlns:xlink=\"http://www.w3.org/1999/xlink\"><g class=\"toyplot-coordinates-Numberline\" id=\"td2d1ac4c006a46e38c59ab28cd76809d\"><clipPath id=\"tccf8a6957a1645deabdb8a03cf8a12d8\"><rect height=\"40.0\" width=\"500.0\" x=\"0\" y=\"-20.0\"></rect></clipPath><g clip-path=\"url(#tccf8a6957a1645deabdb8a03cf8a12d8)\" transform=\"translate(50.0,50.0)\"></g><g class=\"toyplot-coordinates-Axis\" id=\"ta8f2dee7930249a9b4ee97ffed86ea8c\" transform=\"translate(50.0,50.0)translate(0,20.0)\"><line style=\"\" x1=\"0\" x2=\"500.0\" y1=\"0\" y2=\"0\"></line><g><text style=\"font-weight:normal;stroke:none;text-anchor:middle\" transform=\"translate(0.0,-6)\"><tspan style=\"font-size:10.0px\" x=\"0\" y=\"0\">-0.5</tspan></text><text style=\"font-weight:normal;stroke:none;text-anchor:middle\" transform=\"translate(250.0,-6)\"><tspan style=\"font-size:10.0px\" x=\"0\" y=\"0\">0.0</tspan></text><text style=\"font-weight:normal;stroke:none;text-anchor:middle\" transform=\"translate(500.0,-6)\"><tspan style=\"font-size:10.0px\" x=\"0\" y=\"0\">0.5</tspan></text></g><g class=\"toyplot-coordinates-Axis-coordinates\" style=\"visibility:hidden\" transform=\"\"><line style=\"stroke:rgb(43.9%,50.2%,56.5%);stroke-opacity:1.0;stroke-width:1.0\" x1=\"0\" x2=\"0\" y1=\"3.0\" y2=\"-4.5\"></line><text style=\"alignment-baseline:hanging;fill:rgb(43.9%,50.2%,56.5%);fill-opacity:1.0;font-size:10px;font-weight:normal;stroke:none;text-anchor:middle\" x=\"0\" y=\"6\"></text></g></g></g><g class=\"toyplot-coordinates-Numberline\" id=\"taa6326f46459456bb7e94bef29ace93c\"><clipPath id=\"t3244eccfeebe4af99c5d764f14859805\"><rect height=\"40.0\" width=\"500.0\" x=\"0\" y=\"-20.0\"></rect></clipPath><g clip-path=\"url(#t3244eccfeebe4af99c5d764f14859805)\" transform=\"translate(50.0,150.0)\"></g><g class=\"toyplot-coordinates-Axis\" id=\"t04e0ecb20cc949a4949261250a346ebf\" transform=\"translate(50.0,150.0)translate(0,20.0)\"><line style=\"\" x1=\"0\" x2=\"500.0\" y1=\"0\" y2=\"0\"></line><g><text style=\"font-weight:normal;stroke:none;text-anchor:middle\" transform=\"translate(0.0,-6)\"><tspan style=\"font-size:16.0px\" x=\"0\" y=\"0\">-0.5</tspan></text><text style=\"font-weight:normal;stroke:none;text-anchor:middle\" transform=\"translate(250.0,-6)\"><tspan style=\"font-size:16.0px\" x=\"0\" y=\"0\">0.0</tspan></text><text style=\"font-weight:normal;stroke:none;text-anchor:middle\" transform=\"translate(500.0,-6)\"><tspan style=\"font-size:16.0px\" x=\"0\" y=\"0\">0.5</tspan></text></g><g class=\"toyplot-coordinates-Axis-coordinates\" style=\"visibility:hidden\" transform=\"\"><line style=\"stroke:rgb(43.9%,50.2%,56.5%);stroke-opacity:1.0;stroke-width:1.0\" x1=\"0\" x2=\"0\" y1=\"3.0\" y2=\"-4.5\"></line><text style=\"alignment-baseline:hanging;fill:rgb(43.9%,50.2%,56.5%);fill-opacity:1.0;font-size:10px;font-weight:normal;stroke:none;text-anchor:middle\" x=\"0\" y=\"6\"></text></g></g></g><g class=\"toyplot-coordinates-Numberline\" id=\"tecfa66a275544260b92aaa3ced027290\"><clipPath id=\"tb743ea22ac0a467c953ece6c96c754eb\"><rect height=\"40.0\" width=\"500.0\" x=\"0\" y=\"-20.0\"></rect></clipPath><g clip-path=\"url(#tb743ea22ac0a467c953ece6c96c754eb)\" transform=\"translate(50.0,250.0)\"></g><g class=\"toyplot-coordinates-Axis\" id=\"t5cdf035a0c454a06b5816c7256aef7c7\" transform=\"translate(50.0,250.0)translate(0,20.0)\"><line style=\"\" x1=\"0\" x2=\"500.0\" y1=\"0\" y2=\"0\"></line><g><text style=\"font-weight:normal;stroke:none;text-anchor:middle\" transform=\"translate(0.0,6)translate(0,7.5)\"><tspan style=\"font-size:10.0px\" x=\"0\" y=\"0\">-0.5</tspan></text><text style=\"font-weight:normal;stroke:none;text-anchor:middle\" transform=\"translate(250.0,6)translate(0,7.5)\"><tspan style=\"font-size:10.0px\" x=\"0\" y=\"0\">0.0</tspan></text><text style=\"font-weight:normal;stroke:none;text-anchor:middle\" transform=\"translate(500.0,6)translate(0,7.5)\"><tspan style=\"font-size:10.0px\" x=\"0\" y=\"0\">0.5</tspan></text></g><g class=\"toyplot-coordinates-Axis-coordinates\" style=\"visibility:hidden\" transform=\"\"><line style=\"stroke:rgb(43.9%,50.2%,56.5%);stroke-opacity:1.0;stroke-width:1.0\" x1=\"0\" x2=\"0\" y1=\"-3.0\" y2=\"4.5\"></line><text style=\"alignment-baseline:alphabetic;fill:rgb(43.9%,50.2%,56.5%);fill-opacity:1.0;font-size:10px;font-weight:normal;stroke:none;text-anchor:middle\" x=\"0\" y=\"-6\"></text></g></g></g><g class=\"toyplot-coordinates-Numberline\" id=\"te9a410012f5549c090fd7ea6d4f34bf4\"><clipPath id=\"t74fe53ea335a4491aa2e38812e3374a4\"><rect height=\"40.0\" width=\"500.0\" x=\"0\" y=\"-20.0\"></rect></clipPath><g clip-path=\"url(#t74fe53ea335a4491aa2e38812e3374a4)\" transform=\"translate(50.0,350.0)\"></g><g class=\"toyplot-coordinates-Axis\" id=\"tec2e939502b04cdabf176c41caf764ec\" transform=\"translate(50.0,350.0)translate(0,20.0)\"><line style=\"\" x1=\"0\" x2=\"500.0\" y1=\"0\" y2=\"0\"></line><g><text style=\"font-weight:normal;stroke:none;text-anchor:middle\" transform=\"translate(0.0,6)translate(0,12.0)\"><tspan style=\"font-size:16.0px\" x=\"0\" y=\"0\">-0.5</tspan></text><text style=\"font-weight:normal;stroke:none;text-anchor:middle\" transform=\"translate(250.0,6)translate(0,12.0)\"><tspan style=\"font-size:16.0px\" x=\"0\" y=\"0\">0.0</tspan></text><text style=\"font-weight:normal;stroke:none;text-anchor:middle\" transform=\"translate(500.0,6)translate(0,12.0)\"><tspan style=\"font-size:16.0px\" x=\"0\" y=\"0\">0.5</tspan></text></g><g class=\"toyplot-coordinates-Axis-coordinates\" style=\"visibility:hidden\" transform=\"\"><line style=\"stroke:rgb(43.9%,50.2%,56.5%);stroke-opacity:1.0;stroke-width:1.0\" x1=\"0\" x2=\"0\" y1=\"-3.0\" y2=\"4.5\"></line><text style=\"alignment-baseline:alphabetic;fill:rgb(43.9%,50.2%,56.5%);fill-opacity:1.0;font-size:10px;font-weight:normal;stroke:none;text-anchor:middle\" x=\"0\" y=\"-6\"></text></g></g></g></svg><div class=\"toyplot-interactive\"><script>\n",
       "        (function()\n",
       "        {\n",
       "            function _sign(x)\n",
       "            {\n",
       "                return x < 0 ? -1 : x > 0 ? 1 : 0;\n",
       "            }\n",
       "\n",
       "            function _mix(a, b, amount)\n",
       "            {\n",
       "                return ((1.0 - amount) * a) + (amount * b);\n",
       "            }\n",
       "\n",
       "            function _log(x, base)\n",
       "            {\n",
       "                return Math.log(Math.abs(x)) / Math.log(base);\n",
       "            }\n",
       "\n",
       "            function _in_range(a, x, b)\n",
       "            {\n",
       "                var left = Math.min(a, b);\n",
       "                var right = Math.max(a, b);\n",
       "                return left <= x && x <= right;\n",
       "            }\n",
       "\n",
       "            function inside(range, projection)\n",
       "            {\n",
       "                for(var i = 0; i != projection.length; ++i)\n",
       "                {\n",
       "                    var segment = projection[i];\n",
       "                    if(_in_range(segment.range.min, range, segment.range.max))\n",
       "                        return true;\n",
       "                }\n",
       "                return false;\n",
       "            }\n",
       "\n",
       "            function to_domain(range, projection)\n",
       "            {\n",
       "                for(var i = 0; i != projection.length; ++i)\n",
       "                {\n",
       "                    var segment = projection[i];\n",
       "                    if(_in_range(segment.range.bounds.min, range, segment.range.bounds.max))\n",
       "                    {\n",
       "                        if(segment.scale == \"linear\")\n",
       "                        {\n",
       "                            var amount = (range - segment.range.min) / (segment.range.max - segment.range.min);\n",
       "                            return _mix(segment.domain.min, segment.domain.max, amount)\n",
       "                        }\n",
       "                        else if(segment.scale[0] == \"log\")\n",
       "                        {\n",
       "                            var amount = (range - segment.range.min) / (segment.range.max - segment.range.min);\n",
       "                            var base = segment.scale[1];\n",
       "                            return _sign(segment.domain.min) * Math.pow(base, _mix(_log(segment.domain.min, base), _log(segment.domain.max, base), amount));\n",
       "                        }\n",
       "                    }\n",
       "                }\n",
       "            }\n",
       "\n",
       "            function display_coordinates(e)\n",
       "            {\n",
       "                var current = svg.createSVGPoint();\n",
       "                current.x = e.clientX;\n",
       "                current.y = e.clientY;\n",
       "\n",
       "                for(var axis_id in axes)\n",
       "                {\n",
       "                    var axis = document.querySelector(\"#\" + axis_id);\n",
       "                    var coordinates = axis.querySelector(\".toyplot-coordinates-Axis-coordinates\");\n",
       "                    if(coordinates)\n",
       "                    {\n",
       "                        var projection = axes[axis_id];\n",
       "                        var local = current.matrixTransform(axis.getScreenCTM().inverse());\n",
       "                        if(inside(local.x, projection))\n",
       "                        {\n",
       "                            var domain = to_domain(local.x, projection);\n",
       "                            coordinates.style.visibility = \"visible\";\n",
       "                            coordinates.setAttribute(\"transform\", \"translate(\" + local.x + \")\");\n",
       "                            var text = coordinates.querySelector(\"text\");\n",
       "                            text.textContent = domain.toFixed(2);\n",
       "                        }\n",
       "                        else\n",
       "                        {\n",
       "                            coordinates.style.visibility= \"hidden\";\n",
       "                        }\n",
       "                    }\n",
       "                }\n",
       "            }\n",
       "\n",
       "            var root_id = \"t1793b382955c48929f1b49a8d2dc0f56\";\n",
       "            var axes = {\"t04e0ecb20cc949a4949261250a346ebf\": [{\"domain\": {\"bounds\": {\"max\": Infinity, \"min\": -Infinity}, \"max\": 0.5, \"min\": -0.5}, \"range\": {\"bounds\": {\"max\": Infinity, \"min\": -Infinity}, \"max\": 500.0, \"min\": 0.0}, \"scale\": \"linear\"}], \"t5cdf035a0c454a06b5816c7256aef7c7\": [{\"domain\": {\"bounds\": {\"max\": Infinity, \"min\": -Infinity}, \"max\": 0.5, \"min\": -0.5}, \"range\": {\"bounds\": {\"max\": Infinity, \"min\": -Infinity}, \"max\": 500.0, \"min\": 0.0}, \"scale\": \"linear\"}], \"ta8f2dee7930249a9b4ee97ffed86ea8c\": [{\"domain\": {\"bounds\": {\"max\": Infinity, \"min\": -Infinity}, \"max\": 0.5, \"min\": -0.5}, \"range\": {\"bounds\": {\"max\": Infinity, \"min\": -Infinity}, \"max\": 500.0, \"min\": 0.0}, \"scale\": \"linear\"}], \"tec2e939502b04cdabf176c41caf764ec\": [{\"domain\": {\"bounds\": {\"max\": Infinity, \"min\": -Infinity}, \"max\": 0.5, \"min\": -0.5}, \"range\": {\"bounds\": {\"max\": Infinity, \"min\": -Infinity}, \"max\": 500.0, \"min\": 0.0}, \"scale\": \"linear\"}]};\n",
       "\n",
       "            var svg = document.querySelector(\"#\" + root_id + \" svg\");\n",
       "            svg.addEventListener(\"click\", display_coordinates);\n",
       "        })();\n",
       "        </script></div></div>"
      ]
     },
     "metadata": {},
     "output_type": "display_data"
    }
   ],
   "source": [
    "canvas = toyplot.Canvas(width=600, height=400)\n",
    "\n",
    "numberline1 = canvas.numberline(grid=(4, 1, 0))\n",
    "numberline1.axis.ticks.location=\"above\"\n",
    "\n",
    "numberline2 = canvas.numberline(grid=(4, 1, 1))\n",
    "numberline2.axis.ticks.location=\"above\"\n",
    "numberline2.axis.ticks.labels.style = {\"font-size\":\"16px\"}\n",
    "\n",
    "numberline3 = canvas.numberline(grid=(4, 1, 2))\n",
    "numberline3.axis.ticks.location=\"below\"\n",
    "\n",
    "numberline4 = canvas.numberline(grid=(4, 1, 3))\n",
    "numberline4.axis.ticks.location=\"below\"\n",
    "numberline4.axis.ticks.labels.style = {\"font-size\":\"16px\"}"
   ]
  },
  {
   "cell_type": "markdown",
   "metadata": {},
   "source": [
    "Similarly, alignment parameters are automatically adjusted when you rotate tick labels, adjusting the anchor and baseline to provide good results:"
   ]
  },
  {
   "cell_type": "code",
   "execution_count": 19,
   "metadata": {
    "collapsed": false
   },
   "outputs": [
    {
     "data": {
      "text/html": [
       "<div align=\"center\" class=\"toyplot\" id=\"t79f9037450124c519135d22be2611218\"><svg class=\"toyplot-canvas-Canvas\" height=\"600px\" id=\"tcce8e2d9141d4ac9bdfebc93758a583a\" preserveAspectRatio=\"xMidYMid meet\" style=\"background-color:transparent;fill:rgb(16.1%,15.3%,14.1%);fill-opacity:1.0;font-family:Helvetica;font-size:12px;opacity:1.0;stroke:rgb(16.1%,15.3%,14.1%);stroke-opacity:1.0;stroke-width:1.0\" viewBox=\"0 0 600 600\" width=\"600px\" xmlns=\"http://www.w3.org/2000/svg\" xmlns:toyplot=\"http://www.sandia.gov/toyplot\" xmlns:xlink=\"http://www.w3.org/1999/xlink\"><g class=\"toyplot-coordinates-Numberline\" id=\"t62883c30ebed4b9f8a2622221e9fc9b7\"><clipPath id=\"t1cd2048bb4ff49cc981d1cd0c761b540\"><rect height=\"20.0\" width=\"480.0\" x=\"0\" y=\"-10.0\"></rect></clipPath><g clip-path=\"url(#t1cd2048bb4ff49cc981d1cd0c761b540)\" transform=\"translate(300.0,540.0)rotate(-90.0)\"><g class=\"toyplot-color-Map\" id=\"t304246df17c54942aaa6f3dca2ea911c\"><defs><linearGradient gradientUnits=\"userSpaceOnUse\" id=\"tf9e386d687e64c44b8061391ce18ef50\" x1=\"0.0\" x2=\"480.0\" y1=\"0\" y2=\"0\"><stop offset=\"0.0\" stop-color=\"rgb(1.96%,18.8%,38%)\" stop-opacity=\"1.0\"></stop><stop offset=\"0.015873015873\" stop-color=\"rgb(3.7%,22.2%,42.7%)\" stop-opacity=\"1.0\"></stop><stop offset=\"0.031746031746\" stop-color=\"rgb(5.45%,25.5%,47.4%)\" stop-opacity=\"1.0\"></stop><stop offset=\"0.047619047619\" stop-color=\"rgb(7.19%,28.9%,52%)\" stop-opacity=\"1.0\"></stop><stop offset=\"0.0634920634921\" stop-color=\"rgb(8.93%,32.3%,56.7%)\" stop-opacity=\"1.0\"></stop><stop offset=\"0.0793650793651\" stop-color=\"rgb(10.7%,35.6%,61.4%)\" stop-opacity=\"1.0\"></stop><stop offset=\"0.0952380952381\" stop-color=\"rgb(12.4%,39%,66.1%)\" stop-opacity=\"1.0\"></stop><stop offset=\"0.111111111111\" stop-color=\"rgb(14.4%,42%,68.5%)\" stop-opacity=\"1.0\"></stop><stop offset=\"0.126984126984\" stop-color=\"rgb(16.5%,44.8%,69.9%)\" stop-opacity=\"1.0\"></stop><stop offset=\"0.142857142857\" stop-color=\"rgb(18.7%,47.6%,71.3%)\" stop-opacity=\"1.0\"></stop><stop offset=\"0.15873015873\" stop-color=\"rgb(20.8%,50.4%,72.7%)\" stop-opacity=\"1.0\"></stop><stop offset=\"0.174603174603\" stop-color=\"rgb(22.9%,53.2%,74.2%)\" stop-opacity=\"1.0\"></stop><stop offset=\"0.190476190476\" stop-color=\"rgb(25%,56%,75.6%)\" stop-opacity=\"1.0\"></stop><stop offset=\"0.206349206349\" stop-color=\"rgb(28.2%,58.9%,77.1%)\" stop-opacity=\"1.0\"></stop><stop offset=\"0.222222222222\" stop-color=\"rgb(33.2%,62%,78.8%)\" stop-opacity=\"1.0\"></stop><stop offset=\"0.238095238095\" stop-color=\"rgb(38.1%,65.1%,80.5%)\" stop-opacity=\"1.0\"></stop><stop offset=\"0.253968253968\" stop-color=\"rgb(43%,68.2%,82.2%)\" stop-opacity=\"1.0\"></stop><stop offset=\"0.269841269841\" stop-color=\"rgb(47.9%,71.3%,83.9%)\" stop-opacity=\"1.0\"></stop><stop offset=\"0.285714285714\" stop-color=\"rgb(52.8%,74.5%,85.5%)\" stop-opacity=\"1.0\"></stop><stop offset=\"0.301587301587\" stop-color=\"rgb(57.6%,77.5%,87.2%)\" stop-opacity=\"1.0\"></stop><stop offset=\"0.31746031746\" stop-color=\"rgb(61.6%,79.4%,88.3%)\" stop-opacity=\"1.0\"></stop><stop offset=\"0.333333333333\" stop-color=\"rgb(65.5%,81.4%,89.4%)\" stop-opacity=\"1.0\"></stop><stop offset=\"0.349206349206\" stop-color=\"rgb(69.4%,83.4%,90.5%)\" stop-opacity=\"1.0\"></stop><stop offset=\"0.365079365079\" stop-color=\"rgb(73.3%,85.4%,91.7%)\" stop-opacity=\"1.0\"></stop><stop offset=\"0.380952380952\" stop-color=\"rgb(77.3%,87.4%,92.8%)\" stop-opacity=\"1.0\"></stop><stop offset=\"0.396825396825\" stop-color=\"rgb(81.2%,89.4%,93.9%)\" stop-opacity=\"1.0\"></stop><stop offset=\"0.412698412698\" stop-color=\"rgb(83.9%,90.7%,94.5%)\" stop-opacity=\"1.0\"></stop><stop offset=\"0.428571428571\" stop-color=\"rgb(86.2%,91.8%,94.9%)\" stop-opacity=\"1.0\"></stop><stop offset=\"0.444444444444\" stop-color=\"rgb(88.6%,92.9%,95.3%)\" stop-opacity=\"1.0\"></stop><stop offset=\"0.460317460317\" stop-color=\"rgb(90.9%,94.1%,95.8%)\" stop-opacity=\"1.0\"></stop><stop offset=\"0.47619047619\" stop-color=\"rgb(93.3%,95.2%,96.2%)\" stop-opacity=\"1.0\"></stop><stop offset=\"0.492063492063\" stop-color=\"rgb(95.7%,96.3%,96.6%)\" stop-opacity=\"1.0\"></stop><stop offset=\"0.507936507937\" stop-color=\"rgb(97%,96%,95.4%)\" stop-opacity=\"1.0\"></stop><stop offset=\"0.52380952381\" stop-color=\"rgb(97.4%,94.2%,92.4%)\" stop-opacity=\"1.0\"></stop><stop offset=\"0.539682539683\" stop-color=\"rgb(97.8%,92.5%,89.4%)\" stop-opacity=\"1.0\"></stop><stop offset=\"0.555555555556\" stop-color=\"rgb(98.2%,90.8%,86.4%)\" stop-opacity=\"1.0\"></stop><stop offset=\"0.571428571429\" stop-color=\"rgb(98.5%,89%,83.4%)\" stop-opacity=\"1.0\"></stop><stop offset=\"0.587301587302\" stop-color=\"rgb(98.9%,87.3%,80.4%)\" stop-opacity=\"1.0\"></stop><stop offset=\"0.603174603175\" stop-color=\"rgb(99.1%,85.2%,77.2%)\" stop-opacity=\"1.0\"></stop><stop offset=\"0.619047619048\" stop-color=\"rgb(98.5%,81.8%,72.9%)\" stop-opacity=\"1.0\"></stop><stop offset=\"0.634920634921\" stop-color=\"rgb(98%,78.5%,68.6%)\" stop-opacity=\"1.0\"></stop><stop offset=\"0.650793650794\" stop-color=\"rgb(97.4%,75.1%,64.3%)\" stop-opacity=\"1.0\"></stop><stop offset=\"0.666666666667\" stop-color=\"rgb(96.9%,71.8%,60%)\" stop-opacity=\"1.0\"></stop><stop offset=\"0.68253968254\" stop-color=\"rgb(96.3%,68.4%,55.7%)\" stop-opacity=\"1.0\"></stop><stop offset=\"0.698412698413\" stop-color=\"rgb(95.7%,65%,51.4%)\" stop-opacity=\"1.0\"></stop><stop offset=\"0.714285714286\" stop-color=\"rgb(94%,60.8%,48%)\" stop-opacity=\"1.0\"></stop><stop offset=\"0.730158730159\" stop-color=\"rgb(92.1%,56.5%,44.7%)\" stop-opacity=\"1.0\"></stop><stop offset=\"0.746031746032\" stop-color=\"rgb(90.3%,52.3%,41.4%)\" stop-opacity=\"1.0\"></stop><stop offset=\"0.761904761905\" stop-color=\"rgb(88.4%,48%,38.1%)\" stop-opacity=\"1.0\"></stop><stop offset=\"0.777777777778\" stop-color=\"rgb(86.5%,43.7%,34.8%)\" stop-opacity=\"1.0\"></stop><stop offset=\"0.793650793651\" stop-color=\"rgb(84.7%,39.4%,31.5%)\" stop-opacity=\"1.0\"></stop><stop offset=\"0.809523809524\" stop-color=\"rgb(82.6%,35%,28.9%)\" stop-opacity=\"1.0\"></stop><stop offset=\"0.825396825397\" stop-color=\"rgb(80.3%,30.5%,26.8%)\" stop-opacity=\"1.0\"></stop><stop offset=\"0.84126984127\" stop-color=\"rgb(78.1%,26%,24.7%)\" stop-opacity=\"1.0\"></stop><stop offset=\"0.857142857143\" stop-color=\"rgb(75.9%,21.5%,22.6%)\" stop-opacity=\"1.0\"></stop><stop offset=\"0.873015873016\" stop-color=\"rgb(73.6%,17%,20.5%)\" stop-opacity=\"1.0\"></stop><stop offset=\"0.888888888889\" stop-color=\"rgb(71.4%,12.5%,18.3%)\" stop-opacity=\"1.0\"></stop><stop offset=\"0.904761904762\" stop-color=\"rgb(68.4%,8.96%,16.6%)\" stop-opacity=\"1.0\"></stop><stop offset=\"0.920634920635\" stop-color=\"rgb(63.7%,7.47%,15.9%)\" stop-opacity=\"1.0\"></stop><stop offset=\"0.936507936508\" stop-color=\"rgb(59.1%,5.98%,15.1%)\" stop-opacity=\"1.0\"></stop><stop offset=\"0.952380952381\" stop-color=\"rgb(54.4%,4.48%,14.4%)\" stop-opacity=\"1.0\"></stop><stop offset=\"0.968253968254\" stop-color=\"rgb(49.7%,2.99%,13.7%)\" stop-opacity=\"1.0\"></stop><stop offset=\"0.984126984127\" stop-color=\"rgb(45.1%,1.49%,12.9%)\" stop-opacity=\"1.0\"></stop><stop offset=\"1.0\" stop-color=\"rgb(40.4%,0%,12.2%)\" stop-opacity=\"1.0\"></stop></linearGradient></defs><rect height=\"10\" style=\"fill:url(#tf9e386d687e64c44b8061391ce18ef50);stroke:none;stroke-width:1.0\" width=\"480.0\" x=\"0.0\" y=\"-5.0\"></rect></g></g><g class=\"toyplot-coordinates-Axis\" id=\"tf0fe918b5e3b43faaac0c54dca04a9c8\" transform=\"translate(300.0,540.0)rotate(-90.0)translate(0,10.0)\"><line style=\"\" x1=\"0\" x2=\"480.0\" y1=\"0\" y2=\"0\"></line><g><line style=\"\" x1=\"0.0\" x2=\"0.0\" y1=\"3\" y2=\"-3\"></line><line style=\"\" x1=\"240.0\" x2=\"240.0\" y1=\"3\" y2=\"-3\"></line><line style=\"\" x1=\"480.0\" x2=\"480.0\" y1=\"3\" y2=\"-3\"></line></g><g><text style=\"font-weight:normal;stroke:none;text-anchor:start\" transform=\"translate(0.0,6)rotate(90)translate(0,3.75)\"><tspan style=\"font-size:10.0px\" x=\"0\" y=\"0\">0.0</tspan></text><text style=\"font-weight:normal;stroke:none;text-anchor:start\" transform=\"translate(240.0,6)rotate(90)translate(0,3.75)\"><tspan style=\"font-size:10.0px\" x=\"0\" y=\"0\">0.5</tspan></text><text style=\"font-weight:normal;stroke:none;text-anchor:start\" transform=\"translate(480.0,6)rotate(90)translate(0,3.75)\"><tspan style=\"font-size:10.0px\" x=\"0\" y=\"0\">1.0</tspan></text></g><g class=\"toyplot-coordinates-Axis-coordinates\" style=\"visibility:hidden\" transform=\"\"><line style=\"stroke:rgb(43.9%,50.2%,56.5%);stroke-opacity:1.0;stroke-width:1.0\" x1=\"0\" x2=\"0\" y1=\"-3.0\" y2=\"4.5\"></line><text style=\"alignment-baseline:alphabetic;fill:rgb(43.9%,50.2%,56.5%);fill-opacity:1.0;font-size:10px;font-weight:normal;stroke:none;text-anchor:middle\" x=\"0\" y=\"-6\"></text></g></g></g></svg><div class=\"toyplot-interactive\"><script>\n",
       "        (function()\n",
       "        {\n",
       "            function _sign(x)\n",
       "            {\n",
       "                return x < 0 ? -1 : x > 0 ? 1 : 0;\n",
       "            }\n",
       "\n",
       "            function _mix(a, b, amount)\n",
       "            {\n",
       "                return ((1.0 - amount) * a) + (amount * b);\n",
       "            }\n",
       "\n",
       "            function _log(x, base)\n",
       "            {\n",
       "                return Math.log(Math.abs(x)) / Math.log(base);\n",
       "            }\n",
       "\n",
       "            function _in_range(a, x, b)\n",
       "            {\n",
       "                var left = Math.min(a, b);\n",
       "                var right = Math.max(a, b);\n",
       "                return left <= x && x <= right;\n",
       "            }\n",
       "\n",
       "            function inside(range, projection)\n",
       "            {\n",
       "                for(var i = 0; i != projection.length; ++i)\n",
       "                {\n",
       "                    var segment = projection[i];\n",
       "                    if(_in_range(segment.range.min, range, segment.range.max))\n",
       "                        return true;\n",
       "                }\n",
       "                return false;\n",
       "            }\n",
       "\n",
       "            function to_domain(range, projection)\n",
       "            {\n",
       "                for(var i = 0; i != projection.length; ++i)\n",
       "                {\n",
       "                    var segment = projection[i];\n",
       "                    if(_in_range(segment.range.bounds.min, range, segment.range.bounds.max))\n",
       "                    {\n",
       "                        if(segment.scale == \"linear\")\n",
       "                        {\n",
       "                            var amount = (range - segment.range.min) / (segment.range.max - segment.range.min);\n",
       "                            return _mix(segment.domain.min, segment.domain.max, amount)\n",
       "                        }\n",
       "                        else if(segment.scale[0] == \"log\")\n",
       "                        {\n",
       "                            var amount = (range - segment.range.min) / (segment.range.max - segment.range.min);\n",
       "                            var base = segment.scale[1];\n",
       "                            return _sign(segment.domain.min) * Math.pow(base, _mix(_log(segment.domain.min, base), _log(segment.domain.max, base), amount));\n",
       "                        }\n",
       "                    }\n",
       "                }\n",
       "            }\n",
       "\n",
       "            function display_coordinates(e)\n",
       "            {\n",
       "                var current = svg.createSVGPoint();\n",
       "                current.x = e.clientX;\n",
       "                current.y = e.clientY;\n",
       "\n",
       "                for(var axis_id in axes)\n",
       "                {\n",
       "                    var axis = document.querySelector(\"#\" + axis_id);\n",
       "                    var coordinates = axis.querySelector(\".toyplot-coordinates-Axis-coordinates\");\n",
       "                    if(coordinates)\n",
       "                    {\n",
       "                        var projection = axes[axis_id];\n",
       "                        var local = current.matrixTransform(axis.getScreenCTM().inverse());\n",
       "                        if(inside(local.x, projection))\n",
       "                        {\n",
       "                            var domain = to_domain(local.x, projection);\n",
       "                            coordinates.style.visibility = \"visible\";\n",
       "                            coordinates.setAttribute(\"transform\", \"translate(\" + local.x + \")\");\n",
       "                            var text = coordinates.querySelector(\"text\");\n",
       "                            text.textContent = domain.toFixed(2);\n",
       "                        }\n",
       "                        else\n",
       "                        {\n",
       "                            coordinates.style.visibility= \"hidden\";\n",
       "                        }\n",
       "                    }\n",
       "                }\n",
       "            }\n",
       "\n",
       "            var root_id = \"t79f9037450124c519135d22be2611218\";\n",
       "            var axes = {\"tf0fe918b5e3b43faaac0c54dca04a9c8\": [{\"domain\": {\"bounds\": {\"max\": Infinity, \"min\": -Infinity}, \"max\": 1.0, \"min\": 0.0}, \"range\": {\"bounds\": {\"max\": Infinity, \"min\": -Infinity}, \"max\": 480.0, \"min\": 0.0}, \"scale\": \"linear\"}]};\n",
       "\n",
       "            var svg = document.querySelector(\"#\" + root_id + \" svg\");\n",
       "            svg.addEventListener(\"click\", display_coordinates);\n",
       "        })();\n",
       "        </script></div></div>"
      ]
     },
     "metadata": {},
     "output_type": "display_data"
    }
   ],
   "source": [
    "import numpy\n",
    "\n",
    "colormap = toyplot.color.brewer.map(\"BlueRed\", domain_min=0, domain_max=1)\n",
    "\n",
    "canvas = toyplot.Canvas()\n",
    "numberline = canvas.color_scale(x1=\"50%\", x2=\"50%\", y1=\"-10%\", y2=\"10%\", colormap=colormap)\n",
    "numberline.axis.ticks.show = True\n",
    "numberline.axis.ticks.labels.angle=-90"
   ]
  },
  {
   "cell_type": "markdown",
   "metadata": {},
   "source": [
    "Of-course, you are free to override any of these behaviors.  For example, suppose we use rich text to add multi-line tick labels to the preceding example:"
   ]
  },
  {
   "cell_type": "code",
   "execution_count": 20,
   "metadata": {
    "collapsed": true
   },
   "outputs": [],
   "source": [
    "def format_color(color):\n",
    "    return \"(%.2f, %.2f, %.2f)\" % (color[\"r\"], color[\"g\"], color[\"b\"])\n",
    "\n",
    "values = numpy.linspace(colormap.domain.min, colormap.domain.max, 4)\n",
    "labels = [\"%.4f<br/><small>%s</small>\" % (value, format_color(colormap.color(value))) for value in values]\n",
    "locator = toyplot.locator.Explicit(values, labels)"
   ]
  },
  {
   "cell_type": "code",
   "execution_count": 21,
   "metadata": {
    "collapsed": false
   },
   "outputs": [
    {
     "data": {
      "text/html": [
       "<div align=\"center\" class=\"toyplot\" id=\"tf4fbd0da8c774ed0bb083dbf7ff0e777\"><svg class=\"toyplot-canvas-Canvas\" height=\"600px\" id=\"ta87ca853efea4510a2927f03d7bd7aaf\" preserveAspectRatio=\"xMidYMid meet\" style=\"background-color:transparent;fill:rgb(16.1%,15.3%,14.1%);fill-opacity:1.0;font-family:Helvetica;font-size:12px;opacity:1.0;stroke:rgb(16.1%,15.3%,14.1%);stroke-opacity:1.0;stroke-width:1.0\" viewBox=\"0 0 600 600\" width=\"600px\" xmlns=\"http://www.w3.org/2000/svg\" xmlns:toyplot=\"http://www.sandia.gov/toyplot\" xmlns:xlink=\"http://www.w3.org/1999/xlink\"><g class=\"toyplot-coordinates-Numberline\" id=\"t43ad7d26a1eb4468aed06cb275959c95\"><clipPath id=\"t104cefb26daf4dc9948cb91427132bc7\"><rect height=\"20.0\" width=\"480.0\" x=\"0\" y=\"-10.0\"></rect></clipPath><g clip-path=\"url(#t104cefb26daf4dc9948cb91427132bc7)\" transform=\"translate(300.0,540.0)rotate(-90.0)\"><g class=\"toyplot-color-Map\" id=\"td19de85153dc4e04a4b2a5ac9515d34e\"><defs><linearGradient gradientUnits=\"userSpaceOnUse\" id=\"teff8844e2f5b4bdfb5794f1c6bb51693\" x1=\"0.0\" x2=\"480.0\" y1=\"0\" y2=\"0\"><stop offset=\"0.0\" stop-color=\"rgb(1.96%,18.8%,38%)\" stop-opacity=\"1.0\"></stop><stop offset=\"0.015873015873\" stop-color=\"rgb(3.7%,22.2%,42.7%)\" stop-opacity=\"1.0\"></stop><stop offset=\"0.031746031746\" stop-color=\"rgb(5.45%,25.5%,47.4%)\" stop-opacity=\"1.0\"></stop><stop offset=\"0.047619047619\" stop-color=\"rgb(7.19%,28.9%,52%)\" stop-opacity=\"1.0\"></stop><stop offset=\"0.0634920634921\" stop-color=\"rgb(8.93%,32.3%,56.7%)\" stop-opacity=\"1.0\"></stop><stop offset=\"0.0793650793651\" stop-color=\"rgb(10.7%,35.6%,61.4%)\" stop-opacity=\"1.0\"></stop><stop offset=\"0.0952380952381\" stop-color=\"rgb(12.4%,39%,66.1%)\" stop-opacity=\"1.0\"></stop><stop offset=\"0.111111111111\" stop-color=\"rgb(14.4%,42%,68.5%)\" stop-opacity=\"1.0\"></stop><stop offset=\"0.126984126984\" stop-color=\"rgb(16.5%,44.8%,69.9%)\" stop-opacity=\"1.0\"></stop><stop offset=\"0.142857142857\" stop-color=\"rgb(18.7%,47.6%,71.3%)\" stop-opacity=\"1.0\"></stop><stop offset=\"0.15873015873\" stop-color=\"rgb(20.8%,50.4%,72.7%)\" stop-opacity=\"1.0\"></stop><stop offset=\"0.174603174603\" stop-color=\"rgb(22.9%,53.2%,74.2%)\" stop-opacity=\"1.0\"></stop><stop offset=\"0.190476190476\" stop-color=\"rgb(25%,56%,75.6%)\" stop-opacity=\"1.0\"></stop><stop offset=\"0.206349206349\" stop-color=\"rgb(28.2%,58.9%,77.1%)\" stop-opacity=\"1.0\"></stop><stop offset=\"0.222222222222\" stop-color=\"rgb(33.2%,62%,78.8%)\" stop-opacity=\"1.0\"></stop><stop offset=\"0.238095238095\" stop-color=\"rgb(38.1%,65.1%,80.5%)\" stop-opacity=\"1.0\"></stop><stop offset=\"0.253968253968\" stop-color=\"rgb(43%,68.2%,82.2%)\" stop-opacity=\"1.0\"></stop><stop offset=\"0.269841269841\" stop-color=\"rgb(47.9%,71.3%,83.9%)\" stop-opacity=\"1.0\"></stop><stop offset=\"0.285714285714\" stop-color=\"rgb(52.8%,74.5%,85.5%)\" stop-opacity=\"1.0\"></stop><stop offset=\"0.301587301587\" stop-color=\"rgb(57.6%,77.5%,87.2%)\" stop-opacity=\"1.0\"></stop><stop offset=\"0.31746031746\" stop-color=\"rgb(61.6%,79.4%,88.3%)\" stop-opacity=\"1.0\"></stop><stop offset=\"0.333333333333\" stop-color=\"rgb(65.5%,81.4%,89.4%)\" stop-opacity=\"1.0\"></stop><stop offset=\"0.349206349206\" stop-color=\"rgb(69.4%,83.4%,90.5%)\" stop-opacity=\"1.0\"></stop><stop offset=\"0.365079365079\" stop-color=\"rgb(73.3%,85.4%,91.7%)\" stop-opacity=\"1.0\"></stop><stop offset=\"0.380952380952\" stop-color=\"rgb(77.3%,87.4%,92.8%)\" stop-opacity=\"1.0\"></stop><stop offset=\"0.396825396825\" stop-color=\"rgb(81.2%,89.4%,93.9%)\" stop-opacity=\"1.0\"></stop><stop offset=\"0.412698412698\" stop-color=\"rgb(83.9%,90.7%,94.5%)\" stop-opacity=\"1.0\"></stop><stop offset=\"0.428571428571\" stop-color=\"rgb(86.2%,91.8%,94.9%)\" stop-opacity=\"1.0\"></stop><stop offset=\"0.444444444444\" stop-color=\"rgb(88.6%,92.9%,95.3%)\" stop-opacity=\"1.0\"></stop><stop offset=\"0.460317460317\" stop-color=\"rgb(90.9%,94.1%,95.8%)\" stop-opacity=\"1.0\"></stop><stop offset=\"0.47619047619\" stop-color=\"rgb(93.3%,95.2%,96.2%)\" stop-opacity=\"1.0\"></stop><stop offset=\"0.492063492063\" stop-color=\"rgb(95.7%,96.3%,96.6%)\" stop-opacity=\"1.0\"></stop><stop offset=\"0.507936507937\" stop-color=\"rgb(97%,96%,95.4%)\" stop-opacity=\"1.0\"></stop><stop offset=\"0.52380952381\" stop-color=\"rgb(97.4%,94.2%,92.4%)\" stop-opacity=\"1.0\"></stop><stop offset=\"0.539682539683\" stop-color=\"rgb(97.8%,92.5%,89.4%)\" stop-opacity=\"1.0\"></stop><stop offset=\"0.555555555556\" stop-color=\"rgb(98.2%,90.8%,86.4%)\" stop-opacity=\"1.0\"></stop><stop offset=\"0.571428571429\" stop-color=\"rgb(98.5%,89%,83.4%)\" stop-opacity=\"1.0\"></stop><stop offset=\"0.587301587302\" stop-color=\"rgb(98.9%,87.3%,80.4%)\" stop-opacity=\"1.0\"></stop><stop offset=\"0.603174603175\" stop-color=\"rgb(99.1%,85.2%,77.2%)\" stop-opacity=\"1.0\"></stop><stop offset=\"0.619047619048\" stop-color=\"rgb(98.5%,81.8%,72.9%)\" stop-opacity=\"1.0\"></stop><stop offset=\"0.634920634921\" stop-color=\"rgb(98%,78.5%,68.6%)\" stop-opacity=\"1.0\"></stop><stop offset=\"0.650793650794\" stop-color=\"rgb(97.4%,75.1%,64.3%)\" stop-opacity=\"1.0\"></stop><stop offset=\"0.666666666667\" stop-color=\"rgb(96.9%,71.8%,60%)\" stop-opacity=\"1.0\"></stop><stop offset=\"0.68253968254\" stop-color=\"rgb(96.3%,68.4%,55.7%)\" stop-opacity=\"1.0\"></stop><stop offset=\"0.698412698413\" stop-color=\"rgb(95.7%,65%,51.4%)\" stop-opacity=\"1.0\"></stop><stop offset=\"0.714285714286\" stop-color=\"rgb(94%,60.8%,48%)\" stop-opacity=\"1.0\"></stop><stop offset=\"0.730158730159\" stop-color=\"rgb(92.1%,56.5%,44.7%)\" stop-opacity=\"1.0\"></stop><stop offset=\"0.746031746032\" stop-color=\"rgb(90.3%,52.3%,41.4%)\" stop-opacity=\"1.0\"></stop><stop offset=\"0.761904761905\" stop-color=\"rgb(88.4%,48%,38.1%)\" stop-opacity=\"1.0\"></stop><stop offset=\"0.777777777778\" stop-color=\"rgb(86.5%,43.7%,34.8%)\" stop-opacity=\"1.0\"></stop><stop offset=\"0.793650793651\" stop-color=\"rgb(84.7%,39.4%,31.5%)\" stop-opacity=\"1.0\"></stop><stop offset=\"0.809523809524\" stop-color=\"rgb(82.6%,35%,28.9%)\" stop-opacity=\"1.0\"></stop><stop offset=\"0.825396825397\" stop-color=\"rgb(80.3%,30.5%,26.8%)\" stop-opacity=\"1.0\"></stop><stop offset=\"0.84126984127\" stop-color=\"rgb(78.1%,26%,24.7%)\" stop-opacity=\"1.0\"></stop><stop offset=\"0.857142857143\" stop-color=\"rgb(75.9%,21.5%,22.6%)\" stop-opacity=\"1.0\"></stop><stop offset=\"0.873015873016\" stop-color=\"rgb(73.6%,17%,20.5%)\" stop-opacity=\"1.0\"></stop><stop offset=\"0.888888888889\" stop-color=\"rgb(71.4%,12.5%,18.3%)\" stop-opacity=\"1.0\"></stop><stop offset=\"0.904761904762\" stop-color=\"rgb(68.4%,8.96%,16.6%)\" stop-opacity=\"1.0\"></stop><stop offset=\"0.920634920635\" stop-color=\"rgb(63.7%,7.47%,15.9%)\" stop-opacity=\"1.0\"></stop><stop offset=\"0.936507936508\" stop-color=\"rgb(59.1%,5.98%,15.1%)\" stop-opacity=\"1.0\"></stop><stop offset=\"0.952380952381\" stop-color=\"rgb(54.4%,4.48%,14.4%)\" stop-opacity=\"1.0\"></stop><stop offset=\"0.968253968254\" stop-color=\"rgb(49.7%,2.99%,13.7%)\" stop-opacity=\"1.0\"></stop><stop offset=\"0.984126984127\" stop-color=\"rgb(45.1%,1.49%,12.9%)\" stop-opacity=\"1.0\"></stop><stop offset=\"1.0\" stop-color=\"rgb(40.4%,0%,12.2%)\" stop-opacity=\"1.0\"></stop></linearGradient></defs><rect height=\"10\" style=\"fill:url(#teff8844e2f5b4bdfb5794f1c6bb51693);stroke:none;stroke-width:1.0\" width=\"480.0\" x=\"0.0\" y=\"-5.0\"></rect></g></g><g class=\"toyplot-coordinates-Axis\" id=\"t116d8951bf58410a9b046a4ac42d971c\" transform=\"translate(300.0,540.0)rotate(-90.0)translate(0,10.0)\"><line style=\"\" x1=\"0\" x2=\"480.0\" y1=\"0\" y2=\"0\"></line><g><line style=\"\" x1=\"0.0\" x2=\"0.0\" y1=\"3\" y2=\"-3\"></line><line style=\"\" x1=\"160.0\" x2=\"160.0\" y1=\"3\" y2=\"-3\"></line><line style=\"\" x1=\"320.0\" x2=\"320.0\" y1=\"3\" y2=\"-3\"></line><line style=\"\" x1=\"480.0\" x2=\"480.0\" y1=\"3\" y2=\"-3\"></line></g><g><text style=\"font-weight:normal;stroke:none;text-anchor:start\" transform=\"translate(0.0,6)rotate(90)translate(0,6.0)\"><tspan style=\"font-size:16.0px\" x=\"0\" y=\"0\">0.0000</tspan><tspan style=\"font-size:12.8px\" x=\"0\" y=\"19.2\">(0.02, 0.19, 0.38)</tspan></text><text style=\"font-weight:normal;stroke:none;text-anchor:start\" transform=\"translate(160.0,6)rotate(90)translate(0,6.0)\"><tspan style=\"font-size:16.0px\" x=\"0\" y=\"0\">0.3333</tspan><tspan style=\"font-size:12.8px\" x=\"0\" y=\"19.2\">(0.65, 0.81, 0.89)</tspan></text><text style=\"font-weight:normal;stroke:none;text-anchor:start\" transform=\"translate(320.0,6)rotate(90)translate(0,6.0)\"><tspan style=\"font-size:16.0px\" x=\"0\" y=\"0\">0.6667</tspan><tspan style=\"font-size:12.8px\" x=\"0\" y=\"19.2\">(0.97, 0.72, 0.60)</tspan></text><text style=\"font-weight:normal;stroke:none;text-anchor:start\" transform=\"translate(480.0,6)rotate(90)translate(0,6.0)\"><tspan style=\"font-size:16.0px\" x=\"0\" y=\"0\">1.0000</tspan><tspan style=\"font-size:12.8px\" x=\"0\" y=\"19.2\">(0.40, 0.00, 0.12)</tspan></text></g><g class=\"toyplot-coordinates-Axis-coordinates\" style=\"visibility:hidden\" transform=\"\"><line style=\"stroke:rgb(43.9%,50.2%,56.5%);stroke-opacity:1.0;stroke-width:1.0\" x1=\"0\" x2=\"0\" y1=\"-3.0\" y2=\"4.5\"></line><text style=\"alignment-baseline:alphabetic;fill:rgb(43.9%,50.2%,56.5%);fill-opacity:1.0;font-size:10px;font-weight:normal;stroke:none;text-anchor:middle\" x=\"0\" y=\"-6\"></text></g></g></g></svg><div class=\"toyplot-interactive\"><script>\n",
       "        (function()\n",
       "        {\n",
       "            function _sign(x)\n",
       "            {\n",
       "                return x < 0 ? -1 : x > 0 ? 1 : 0;\n",
       "            }\n",
       "\n",
       "            function _mix(a, b, amount)\n",
       "            {\n",
       "                return ((1.0 - amount) * a) + (amount * b);\n",
       "            }\n",
       "\n",
       "            function _log(x, base)\n",
       "            {\n",
       "                return Math.log(Math.abs(x)) / Math.log(base);\n",
       "            }\n",
       "\n",
       "            function _in_range(a, x, b)\n",
       "            {\n",
       "                var left = Math.min(a, b);\n",
       "                var right = Math.max(a, b);\n",
       "                return left <= x && x <= right;\n",
       "            }\n",
       "\n",
       "            function inside(range, projection)\n",
       "            {\n",
       "                for(var i = 0; i != projection.length; ++i)\n",
       "                {\n",
       "                    var segment = projection[i];\n",
       "                    if(_in_range(segment.range.min, range, segment.range.max))\n",
       "                        return true;\n",
       "                }\n",
       "                return false;\n",
       "            }\n",
       "\n",
       "            function to_domain(range, projection)\n",
       "            {\n",
       "                for(var i = 0; i != projection.length; ++i)\n",
       "                {\n",
       "                    var segment = projection[i];\n",
       "                    if(_in_range(segment.range.bounds.min, range, segment.range.bounds.max))\n",
       "                    {\n",
       "                        if(segment.scale == \"linear\")\n",
       "                        {\n",
       "                            var amount = (range - segment.range.min) / (segment.range.max - segment.range.min);\n",
       "                            return _mix(segment.domain.min, segment.domain.max, amount)\n",
       "                        }\n",
       "                        else if(segment.scale[0] == \"log\")\n",
       "                        {\n",
       "                            var amount = (range - segment.range.min) / (segment.range.max - segment.range.min);\n",
       "                            var base = segment.scale[1];\n",
       "                            return _sign(segment.domain.min) * Math.pow(base, _mix(_log(segment.domain.min, base), _log(segment.domain.max, base), amount));\n",
       "                        }\n",
       "                    }\n",
       "                }\n",
       "            }\n",
       "\n",
       "            function display_coordinates(e)\n",
       "            {\n",
       "                var current = svg.createSVGPoint();\n",
       "                current.x = e.clientX;\n",
       "                current.y = e.clientY;\n",
       "\n",
       "                for(var axis_id in axes)\n",
       "                {\n",
       "                    var axis = document.querySelector(\"#\" + axis_id);\n",
       "                    var coordinates = axis.querySelector(\".toyplot-coordinates-Axis-coordinates\");\n",
       "                    if(coordinates)\n",
       "                    {\n",
       "                        var projection = axes[axis_id];\n",
       "                        var local = current.matrixTransform(axis.getScreenCTM().inverse());\n",
       "                        if(inside(local.x, projection))\n",
       "                        {\n",
       "                            var domain = to_domain(local.x, projection);\n",
       "                            coordinates.style.visibility = \"visible\";\n",
       "                            coordinates.setAttribute(\"transform\", \"translate(\" + local.x + \")\");\n",
       "                            var text = coordinates.querySelector(\"text\");\n",
       "                            text.textContent = domain.toFixed(2);\n",
       "                        }\n",
       "                        else\n",
       "                        {\n",
       "                            coordinates.style.visibility= \"hidden\";\n",
       "                        }\n",
       "                    }\n",
       "                }\n",
       "            }\n",
       "\n",
       "            var root_id = \"tf4fbd0da8c774ed0bb083dbf7ff0e777\";\n",
       "            var axes = {\"t116d8951bf58410a9b046a4ac42d971c\": [{\"domain\": {\"bounds\": {\"max\": Infinity, \"min\": -Infinity}, \"max\": 1.0, \"min\": 0.0}, \"range\": {\"bounds\": {\"max\": Infinity, \"min\": -Infinity}, \"max\": 480.0, \"min\": 0.0}, \"scale\": \"linear\"}]};\n",
       "\n",
       "            var svg = document.querySelector(\"#\" + root_id + \" svg\");\n",
       "            svg.addEventListener(\"click\", display_coordinates);\n",
       "        })();\n",
       "        </script></div></div>"
      ]
     },
     "metadata": {},
     "output_type": "display_data"
    }
   ],
   "source": [
    "canvas = toyplot.Canvas()\n",
    "numberline = canvas.color_scale(x1=\"50%\", x2=\"50%\", y1=\"-10%\", y2=\"10%\", colormap=colormap)\n",
    "numberline.axis.ticks.show = True\n",
    "numberline.axis.ticks.labels.angle=-90\n",
    "\n",
    "numberline.axis.ticks.locator = locator\n",
    "numberline.axis.ticks.labels.style = {\"font-size\":\"16px\"}"
   ]
  },
  {
   "cell_type": "markdown",
   "metadata": {},
   "source": [
    "We might choose to center the labels horizontally and vertically, overriding the defaults:"
   ]
  }
 ],
 "metadata": {
  "anaconda-cloud": {},
  "kernelspec": {
   "display_name": "Python 2",
   "language": "python",
   "name": "python2"
  },
  "language_info": {
   "codemirror_mode": {
    "name": "ipython",
    "version": 2
   },
   "file_extension": ".py",
   "mimetype": "text/x-python",
   "name": "python",
   "nbconvert_exporter": "python",
   "pygments_lexer": "ipython2",
   "version": "2.7.11"
  }
 },
 "nbformat": 4,
 "nbformat_minor": 0
}

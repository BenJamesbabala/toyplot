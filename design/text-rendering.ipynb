{
 "cells": [
  {
   "cell_type": "markdown",
   "metadata": {},
   "source": [
    ".. _text:\n",
    "\n",
    "# Text"
   ]
  },
  {
   "cell_type": "markdown",
   "metadata": {},
   "source": [
    "## Alignment\n",
    "\n",
    "By default, text in Toyplot is centered vertically and horizontally around its *anchor*.  To illustrate this, the following figures display the anchor as a small black dot:"
   ]
  },
  {
   "cell_type": "code",
   "execution_count": 1,
   "metadata": {
    "collapsed": false,
    "scrolled": false
   },
   "outputs": [
    {
     "data": {
      "text/html": [
       "<div align=\"center\" class=\"toyplot\" id=\"t1ddfdacbf6ff45d09716fcca2cab337b\"><svg class=\"toyplot-canvas-Canvas\" height=\"150.0px\" id=\"t3f2f523434b540a19332e3ef663d7fbd\" preserveAspectRatio=\"xMidYMid meet\" style=\"background-color:transparent;fill:rgb(16.1%,15.3%,14.1%);fill-opacity:1.0;font-family:Helvetica;font-size:12px;opacity:1.0;stroke:rgb(16.1%,15.3%,14.1%);stroke-opacity:1.0;stroke-width:1.0\" viewBox=\"0 0 500.0 150.0\" width=\"500.0px\" xmlns=\"http://www.w3.org/2000/svg\" xmlns:toyplot=\"http://www.sandia.gov/toyplot\" xmlns:xlink=\"http://www.w3.org/1999/xlink\"><g class=\"toyplot-coordinates-Cartesian\" id=\"tf6f5fb1ee9324415916ab6dedc29114f\"><clipPath id=\"t63a99da4e5fd4bf99d8432243ee80cb5\"><rect height=\"70.0\" width=\"420.0\" x=\"40.0\" y=\"40.0\"></rect></clipPath><g clip-path=\"url(#t63a99da4e5fd4bf99d8432243ee80cb5)\"><g class=\"toyplot-mark-Text\" id=\"td7b2789387b444958039f20a4b232f26\" style=\"alignment-baseline:middle;font-size:24px;font-weight:normal;stroke:none;text-anchor:middle\"><g class=\"toyplot-Series\"><text class=\"toyplot-Datum\" style=\"fill:rgb(40%,76.1%,64.7%);fill-opacity:1.0;font-weight:normal;opacity:1.0;stroke:none;text-anchor:middle\" transform=\"translate(250.0,75.0)translate(0,6.75)\"><tspan style=\"font-size:24.0px\">Text!</tspan></text></g></g><g class=\"toyplot-mark-Scatterplot\" id=\"td182198d29bf42adb56c2b2b70eb72bb\" style=\"\"><g class=\"toyplot-Series\"><g class=\"toyplot-Datum\" style=\"fill:rgb(0%,0%,0%);fill-opacity:1.0;opacity:1.0;stroke:rgb(0%,0%,0%);stroke-opacity:1.0\"><circle cx=\"250.0\" cy=\"75.0\" r=\"1.5\"></circle></g></g></g></g></g></svg><div class=\"toyplot-interactive\"><ul class=\"toyplot-mark-popup\" onmouseleave=\"this.style.visibility='hidden'\" style=\"background:rgba(0%,0%,0%,0.75);border:0;border-radius:6px;color:white;cursor:default;list-style:none;margin:0;padding:5px;position:fixed;visibility:hidden\">\n",
       "            <li class=\"toyplot-mark-popup-title\" style=\"color:lightgray;cursor:default;padding:5px;list-style:none;margin:0\"></li>\n",
       "            <li class=\"toyplot-mark-popup-save-csv\" onmouseout=\"this.style.color='white';this.style.background='steelblue'\" onmouseover=\"this.style.color='steelblue';this.style.background='white'\" style=\"border-radius:3px;padding:5px;list-style:none;margin:0\">\n",
       "                Save as .csv\n",
       "            </li>\n",
       "        </ul><script>\n",
       "        (function()\n",
       "        {\n",
       "          var data_tables = [{\"title\": \"Scatterplot Data\", \"names\": [\"x\", \"y0\"], \"id\": \"td182198d29bf42adb56c2b2b70eb72bb\", \"columns\": [[0.0], [0.0]], \"filename\": \"toyplot\"}];\n",
       "\n",
       "          function save_csv(data_table)\n",
       "          {\n",
       "            var uri = \"data:text/csv;charset=utf-8,\";\n",
       "            uri += data_table.names.join(\",\") + \"\\n\";\n",
       "            for(var i = 0; i != data_table.columns[0].length; ++i)\n",
       "            {\n",
       "              for(var j = 0; j != data_table.columns.length; ++j)\n",
       "              {\n",
       "                if(j)\n",
       "                  uri += \",\";\n",
       "                uri += data_table.columns[j][i];\n",
       "              }\n",
       "              uri += \"\\n\";\n",
       "            }\n",
       "            uri = encodeURI(uri);\n",
       "\n",
       "            var link = document.createElement(\"a\");\n",
       "            if(typeof link.download != \"undefined\")\n",
       "            {\n",
       "              link.href = uri;\n",
       "              link.style = \"visibility:hidden\";\n",
       "              link.download = data_table.filename + \".csv\";\n",
       "\n",
       "              document.body.appendChild(link);\n",
       "              link.click();\n",
       "              document.body.removeChild(link);\n",
       "            }\n",
       "            else\n",
       "            {\n",
       "              window.open(uri);\n",
       "            }\n",
       "          }\n",
       "\n",
       "          function open_popup(data_table)\n",
       "          {\n",
       "            return function(e)\n",
       "            {\n",
       "              var popup = document.querySelector(\"#t1ddfdacbf6ff45d09716fcca2cab337b .toyplot-mark-popup\");\n",
       "              popup.querySelector(\".toyplot-mark-popup-title\").innerHTML = data_table.title;\n",
       "              popup.querySelector(\".toyplot-mark-popup-save-csv\").onclick = function() { popup.style.visibility = \"hidden\"; save_csv(data_table); }\n",
       "              popup.style.left = (e.clientX - 50) + \"px\";\n",
       "              popup.style.top = (e.clientY - 20) + \"px\";\n",
       "              popup.style.visibility = \"visible\";\n",
       "              e.stopPropagation();\n",
       "              e.preventDefault();\n",
       "            }\n",
       "\n",
       "          }\n",
       "\n",
       "          for(var i = 0; i != data_tables.length; ++i)\n",
       "          {\n",
       "            var data_table = data_tables[i];\n",
       "            var event_target = document.querySelector(\"#\" + data_table.id);\n",
       "            event_target.oncontextmenu = open_popup(data_table);\n",
       "          }\n",
       "        })();\n",
       "        </script></div></div>"
      ]
     },
     "metadata": {},
     "output_type": "display_data"
    }
   ],
   "source": [
    "import logging\n",
    "logging.getLogger().setLevel(logging.DEBUG)\n",
    "\n",
    "import toyplot\n",
    "toyplot.log.setLevel(logging.DEBUG)\n",
    "\n",
    "canvas = toyplot.Canvas(width=500, height=150)\n",
    "axes = canvas.cartesian(show=False)\n",
    "axes.text(0, 0, \"Text!\", style={\"font-size\":\"24px\"})\n",
    "axes.scatterplot(0, 0, color=\"black\", size=3);"
   ]
  },
  {
   "cell_type": "markdown",
   "metadata": {},
   "source": [
    "To control horizontal alignment, use the CSS `text-anchor` attribute to change the position of the text along its baseline, relative to the anchor:"
   ]
  },
  {
   "cell_type": "code",
   "execution_count": 2,
   "metadata": {
    "collapsed": false
   },
   "outputs": [
    {
     "data": {
      "text/html": [
       "<div align=\"center\" class=\"toyplot\" id=\"tcc959e2fe09d4f01ae5dab82476f271f\"><svg class=\"toyplot-canvas-Canvas\" height=\"300.0px\" id=\"tee81bd9e830847ee9918f155300c2ccb\" preserveAspectRatio=\"xMidYMid meet\" style=\"background-color:transparent;fill:rgb(16.1%,15.3%,14.1%);fill-opacity:1.0;font-family:Helvetica;font-size:12px;opacity:1.0;stroke:rgb(16.1%,15.3%,14.1%);stroke-opacity:1.0;stroke-width:1.0\" viewBox=\"0 0 500.0 300.0\" width=\"500.0px\" xmlns=\"http://www.w3.org/2000/svg\" xmlns:toyplot=\"http://www.sandia.gov/toyplot\" xmlns:xlink=\"http://www.w3.org/1999/xlink\"><g class=\"toyplot-coordinates-Cartesian\" id=\"t7829832a463449d28b2606631341d908\"><clipPath id=\"t171ee0a90c7d46e083d77ab40e6ff51e\"><rect height=\"220.0\" width=\"420.0\" x=\"40.0\" y=\"40.0\"></rect></clipPath><g clip-path=\"url(#t171ee0a90c7d46e083d77ab40e6ff51e)\"><g class=\"toyplot-mark-AxisLines\" id=\"tb112d8501a7144ad9b993ffaf226f238\" style=\"\"><g class=\"toyplot-Series\"><line class=\"toyplot-Datum\" style=\"opacity:1.0;stroke:rgb(82.7%,82.7%,82.7%);stroke-opacity:1.0\" x1=\"256.89655172413791\" x2=\"256.89655172413791\" y1=\"50.0\" y2=\"250.0\"></line></g></g><g class=\"toyplot-mark-Text\" id=\"t9cb7b7e4adf5403ebf200765c70daf80\" style=\"alignment-baseline:middle;font-size:24px;font-weight:normal;stroke:none;text-anchor:middle\"><g class=\"toyplot-Series\"><text class=\"toyplot-Datum\" style=\"fill:rgb(40%,76.1%,64.7%);fill-opacity:1.0;font-weight:normal;opacity:1.0;stroke:none;text-anchor:middle\" transform=\"translate(256.89655172413791,83.333333333333329)translate(0,6.75)\"><tspan style=\"font-size:24.0px\">Centered</tspan></text></g></g><g class=\"toyplot-mark-Scatterplot\" id=\"t8a75998875cc405e8fd49f6b07d74884\" style=\"\"><g class=\"toyplot-Series\"><g class=\"toyplot-Datum\" style=\"fill:rgb(0%,0%,0%);fill-opacity:1.0;opacity:1.0;stroke:rgb(0%,0%,0%);stroke-opacity:1.0\"><circle cx=\"256.89655172413791\" cy=\"83.333333333333329\" r=\"1.5\"></circle></g></g></g><g class=\"toyplot-mark-Text\" id=\"t6d1329d9073b41079caa155f4d95609d\" style=\"alignment-baseline:middle;font-size:24px;font-weight:normal;stroke:none;text-anchor:start\"><g class=\"toyplot-Series\"><text class=\"toyplot-Datum\" style=\"fill:rgb(98.8%,55.3%,38.4%);fill-opacity:1.0;font-weight:normal;opacity:1.0;stroke:none;text-anchor:start\" transform=\"translate(256.89655172413791,150.0)translate(0,6.75)\"><tspan style=\"font-size:24.0px\">Left Justified</tspan></text></g></g><g class=\"toyplot-mark-Scatterplot\" id=\"t7496efa4c26540c58ae2d15b4d844a51\" style=\"\"><g class=\"toyplot-Series\"><g class=\"toyplot-Datum\" style=\"fill:rgb(0%,0%,0%);fill-opacity:1.0;opacity:1.0;stroke:rgb(0%,0%,0%);stroke-opacity:1.0\"><circle cx=\"256.89655172413791\" cy=\"150.0\" r=\"1.5\"></circle></g></g></g><g class=\"toyplot-mark-Text\" id=\"t6bda4c330ae34671b956e6806b1e6e87\" style=\"alignment-baseline:middle;font-size:24px;font-weight:normal;stroke:none;text-anchor:end\"><g class=\"toyplot-Series\"><text class=\"toyplot-Datum\" style=\"fill:rgb(55.3%,62.7%,79.6%);fill-opacity:1.0;font-weight:normal;opacity:1.0;stroke:none;text-anchor:end\" transform=\"translate(256.89655172413791,216.66666666666669)translate(0,6.75)\"><tspan style=\"font-size:24.0px\">Right Justified</tspan></text></g></g><g class=\"toyplot-mark-Scatterplot\" id=\"t012daa923a06411ebd1594a32c6df44d\" style=\"\"><g class=\"toyplot-Series\"><g class=\"toyplot-Datum\" style=\"fill:rgb(0%,0%,0%);fill-opacity:1.0;opacity:1.0;stroke:rgb(0%,0%,0%);stroke-opacity:1.0\"><circle cx=\"256.89655172413791\" cy=\"216.66666666666669\" r=\"1.5\"></circle></g></g></g></g></g></svg><div class=\"toyplot-interactive\"><ul class=\"toyplot-mark-popup\" onmouseleave=\"this.style.visibility='hidden'\" style=\"background:rgba(0%,0%,0%,0.75);border:0;border-radius:6px;color:white;cursor:default;list-style:none;margin:0;padding:5px;position:fixed;visibility:hidden\">\n",
       "            <li class=\"toyplot-mark-popup-title\" style=\"color:lightgray;cursor:default;padding:5px;list-style:none;margin:0\"></li>\n",
       "            <li class=\"toyplot-mark-popup-save-csv\" onmouseout=\"this.style.color='white';this.style.background='steelblue'\" onmouseover=\"this.style.color='steelblue';this.style.background='white'\" style=\"border-radius:3px;padding:5px;list-style:none;margin:0\">\n",
       "                Save as .csv\n",
       "            </li>\n",
       "        </ul><script>\n",
       "        (function()\n",
       "        {\n",
       "          var data_tables = [{\"title\": \"Scatterplot Data\", \"names\": [\"x\", \"y0\"], \"id\": \"t8a75998875cc405e8fd49f6b07d74884\", \"columns\": [[0.0], [1.0]], \"filename\": \"toyplot\"}, {\"title\": \"Scatterplot Data\", \"names\": [\"x\", \"y0\"], \"id\": \"t7496efa4c26540c58ae2d15b4d844a51\", \"columns\": [[0.0], [0.0]], \"filename\": \"toyplot\"}, {\"title\": \"Scatterplot Data\", \"names\": [\"x\", \"y0\"], \"id\": \"t012daa923a06411ebd1594a32c6df44d\", \"columns\": [[0.0], [-1.0]], \"filename\": \"toyplot\"}];\n",
       "\n",
       "          function save_csv(data_table)\n",
       "          {\n",
       "            var uri = \"data:text/csv;charset=utf-8,\";\n",
       "            uri += data_table.names.join(\",\") + \"\\n\";\n",
       "            for(var i = 0; i != data_table.columns[0].length; ++i)\n",
       "            {\n",
       "              for(var j = 0; j != data_table.columns.length; ++j)\n",
       "              {\n",
       "                if(j)\n",
       "                  uri += \",\";\n",
       "                uri += data_table.columns[j][i];\n",
       "              }\n",
       "              uri += \"\\n\";\n",
       "            }\n",
       "            uri = encodeURI(uri);\n",
       "\n",
       "            var link = document.createElement(\"a\");\n",
       "            if(typeof link.download != \"undefined\")\n",
       "            {\n",
       "              link.href = uri;\n",
       "              link.style = \"visibility:hidden\";\n",
       "              link.download = data_table.filename + \".csv\";\n",
       "\n",
       "              document.body.appendChild(link);\n",
       "              link.click();\n",
       "              document.body.removeChild(link);\n",
       "            }\n",
       "            else\n",
       "            {\n",
       "              window.open(uri);\n",
       "            }\n",
       "          }\n",
       "\n",
       "          function open_popup(data_table)\n",
       "          {\n",
       "            return function(e)\n",
       "            {\n",
       "              var popup = document.querySelector(\"#tcc959e2fe09d4f01ae5dab82476f271f .toyplot-mark-popup\");\n",
       "              popup.querySelector(\".toyplot-mark-popup-title\").innerHTML = data_table.title;\n",
       "              popup.querySelector(\".toyplot-mark-popup-save-csv\").onclick = function() { popup.style.visibility = \"hidden\"; save_csv(data_table); }\n",
       "              popup.style.left = (e.clientX - 50) + \"px\";\n",
       "              popup.style.top = (e.clientY - 20) + \"px\";\n",
       "              popup.style.visibility = \"visible\";\n",
       "              e.stopPropagation();\n",
       "              e.preventDefault();\n",
       "            }\n",
       "\n",
       "          }\n",
       "\n",
       "          for(var i = 0; i != data_tables.length; ++i)\n",
       "          {\n",
       "            var data_table = data_tables[i];\n",
       "            var event_target = document.querySelector(\"#\" + data_table.id);\n",
       "            event_target.oncontextmenu = open_popup(data_table);\n",
       "          }\n",
       "        })();\n",
       "        </script></div></div>"
      ]
     },
     "metadata": {},
     "output_type": "display_data"
    }
   ],
   "source": [
    "canvas = toyplot.Canvas(width=500, height=300)\n",
    "axes = canvas.cartesian(show=False, ymin=-1.5, ymax=1.5)\n",
    "\n",
    "axes.vlines(0, color=\"lightgray\")\n",
    "\n",
    "axes.text(0, 1, \"Centered\", style={\"text-anchor\":\"middle\", \"font-size\":\"24px\"})\n",
    "axes.scatterplot(0, 1, color=\"black\", size=3)\n",
    "\n",
    "axes.text(0, 0, \"Left Justified\", style={\"text-anchor\":\"start\", \"font-size\":\"24px\"})\n",
    "axes.scatterplot(0, 0, color=\"black\", size=3)\n",
    "\n",
    "axes.text(0, -1, \"Right Justified\", style={\"text-anchor\":\"end\", \"font-size\":\"24px\"})\n",
    "axes.scatterplot(0, -1, color=\"black\", size=3);"
   ]
  },
  {
   "cell_type": "markdown",
   "metadata": {},
   "source": [
    "In addition, the text can be shifted along its baseline in arbitrary amounts, using the `-toyplot-anchor-shift` attribute (note that this is non-standard CSS, provided by Toyplot for symmetry with the standard `baseline-shift` attribute which we will explore below):"
   ]
  },
  {
   "cell_type": "code",
   "execution_count": 3,
   "metadata": {
    "collapsed": false
   },
   "outputs": [
    {
     "data": {
      "text/html": [
       "<div align=\"center\" class=\"toyplot\" id=\"t6016066f7b3c419e82da9d5b9abc1cc7\"><svg class=\"toyplot-canvas-Canvas\" height=\"300.0px\" id=\"t5e91204549f14aad8ba4ecca41bb2eb4\" preserveAspectRatio=\"xMidYMid meet\" style=\"background-color:transparent;fill:rgb(16.1%,15.3%,14.1%);fill-opacity:1.0;font-family:Helvetica;font-size:12px;opacity:1.0;stroke:rgb(16.1%,15.3%,14.1%);stroke-opacity:1.0;stroke-width:1.0\" viewBox=\"0 0 500.0 300.0\" width=\"500.0px\" xmlns=\"http://www.w3.org/2000/svg\" xmlns:toyplot=\"http://www.sandia.gov/toyplot\" xmlns:xlink=\"http://www.w3.org/1999/xlink\"><g class=\"toyplot-coordinates-Cartesian\" id=\"t74288938265249dda274d25442fbc0b2\"><clipPath id=\"t2ea1d30a4dad4e9a957dc3ef0a79e4f4\"><rect height=\"220.0\" width=\"420.0\" x=\"40.0\" y=\"40.0\"></rect></clipPath><g clip-path=\"url(#t2ea1d30a4dad4e9a957dc3ef0a79e4f4)\"><g class=\"toyplot-mark-AxisLines\" id=\"tf1d45e6810fa4eb3a872bcc43cd60044\" style=\"\"><g class=\"toyplot-Series\"><line class=\"toyplot-Datum\" style=\"opacity:1.0;stroke:rgb(82.7%,82.7%,82.7%);stroke-opacity:1.0\" x1=\"194.92753623188409\" x2=\"194.92753623188409\" y1=\"50.0\" y2=\"250.0\"></line></g></g><g class=\"toyplot-mark-Text\" id=\"tcf5724467f3742bcb7316939d255c16e\" style=\"-toyplot-anchor-shift:0;alignment-baseline:middle;font-size:24px;font-weight:normal;stroke:none;text-anchor:start\"><g class=\"toyplot-Series\"><text class=\"toyplot-Datum\" style=\"fill:rgb(40%,76.1%,64.7%);fill-opacity:1.0;font-weight:normal;opacity:1.0;stroke:none;text-anchor:start\" transform=\"translate(194.92753623188409,75.0)translate(0,6.75)\"><tspan style=\"font-size:24.0px\">Shifted +0px</tspan></text></g></g><g class=\"toyplot-mark-Scatterplot\" id=\"tfef5ca082fd143028dd2d02cacc46eb7\" style=\"\"><g class=\"toyplot-Series\"><g class=\"toyplot-Datum\" style=\"fill:rgb(0%,0%,0%);fill-opacity:1.0;opacity:1.0;stroke:rgb(0%,0%,0%);stroke-opacity:1.0\"><circle cx=\"194.92753623188409\" cy=\"75.0\" r=\"1.5\"></circle></g></g></g><g class=\"toyplot-mark-Text\" id=\"t644358777ff94f44a3f3f4b4bdb2f990\" style=\"-toyplot-anchor-shift:20px;alignment-baseline:middle;font-size:24px;font-weight:normal;stroke:none;text-anchor:start\"><g class=\"toyplot-Series\"><text class=\"toyplot-Datum\" style=\"fill:rgb(98.8%,55.3%,38.4%);fill-opacity:1.0;font-weight:normal;opacity:1.0;stroke:none;text-anchor:start\" transform=\"translate(194.92753623188409,125.0)translate(20.0,6.75)\"><tspan style=\"font-size:24.0px\">Shifted +20px</tspan></text></g></g><g class=\"toyplot-mark-Scatterplot\" id=\"t01396b1061ad4bce85dee13c806538b2\" style=\"\"><g class=\"toyplot-Series\"><g class=\"toyplot-Datum\" style=\"fill:rgb(0%,0%,0%);fill-opacity:1.0;opacity:1.0;stroke:rgb(0%,0%,0%);stroke-opacity:1.0\"><circle cx=\"194.92753623188409\" cy=\"125.0\" r=\"1.5\"></circle></g></g></g><g class=\"toyplot-mark-Text\" id=\"t66235f40a15b4be39266eceac6bff972\" style=\"-toyplot-anchor-shift:40px;alignment-baseline:middle;font-size:24px;font-weight:normal;stroke:none;text-anchor:start\"><g class=\"toyplot-Series\"><text class=\"toyplot-Datum\" style=\"fill:rgb(55.3%,62.7%,79.6%);fill-opacity:1.0;font-weight:normal;opacity:1.0;stroke:none;text-anchor:start\" transform=\"translate(194.92753623188409,175.0)translate(40.0,6.75)\"><tspan style=\"font-size:24.0px\">Shifted +40px</tspan></text></g></g><g class=\"toyplot-mark-Scatterplot\" id=\"tf98aa0d0aece4d61baaea3644f3f3e3b\" style=\"\"><g class=\"toyplot-Series\"><g class=\"toyplot-Datum\" style=\"fill:rgb(0%,0%,0%);fill-opacity:1.0;opacity:1.0;stroke:rgb(0%,0%,0%);stroke-opacity:1.0\"><circle cx=\"194.92753623188409\" cy=\"175.0\" r=\"1.5\"></circle></g></g></g><g class=\"toyplot-mark-Text\" id=\"t2d2e6796e80f4d1a9fa50283d1c2e539\" style=\"-toyplot-anchor-shift:-20px;alignment-baseline:middle;font-size:24px;font-weight:normal;stroke:none;text-anchor:start\"><g class=\"toyplot-Series\"><text class=\"toyplot-Datum\" style=\"fill:rgb(90.6%,54.1%,76.5%);fill-opacity:1.0;font-weight:normal;opacity:1.0;stroke:none;text-anchor:start\" transform=\"translate(194.92753623188409,225.0)translate(-20.0,6.75)\"><tspan style=\"font-size:24.0px\">Shifted -20px</tspan></text></g></g><g class=\"toyplot-mark-Scatterplot\" id=\"t7a716c4bf7044d41a79aae01106ff546\" style=\"\"><g class=\"toyplot-Series\"><g class=\"toyplot-Datum\" style=\"fill:rgb(0%,0%,0%);fill-opacity:1.0;opacity:1.0;stroke:rgb(0%,0%,0%);stroke-opacity:1.0\"><circle cx=\"194.92753623188409\" cy=\"225.0\" r=\"1.5\"></circle></g></g></g></g></g></svg><div class=\"toyplot-interactive\"><ul class=\"toyplot-mark-popup\" onmouseleave=\"this.style.visibility='hidden'\" style=\"background:rgba(0%,0%,0%,0.75);border:0;border-radius:6px;color:white;cursor:default;list-style:none;margin:0;padding:5px;position:fixed;visibility:hidden\">\n",
       "            <li class=\"toyplot-mark-popup-title\" style=\"color:lightgray;cursor:default;padding:5px;list-style:none;margin:0\"></li>\n",
       "            <li class=\"toyplot-mark-popup-save-csv\" onmouseout=\"this.style.color='white';this.style.background='steelblue'\" onmouseover=\"this.style.color='steelblue';this.style.background='white'\" style=\"border-radius:3px;padding:5px;list-style:none;margin:0\">\n",
       "                Save as .csv\n",
       "            </li>\n",
       "        </ul><script>\n",
       "        (function()\n",
       "        {\n",
       "          var data_tables = [{\"title\": \"Scatterplot Data\", \"names\": [\"x\", \"y0\"], \"id\": \"tfef5ca082fd143028dd2d02cacc46eb7\", \"columns\": [[0.0], [1.0]], \"filename\": \"toyplot\"}, {\"title\": \"Scatterplot Data\", \"names\": [\"x\", \"y0\"], \"id\": \"t01396b1061ad4bce85dee13c806538b2\", \"columns\": [[0.0], [0.0]], \"filename\": \"toyplot\"}, {\"title\": \"Scatterplot Data\", \"names\": [\"x\", \"y0\"], \"id\": \"tf98aa0d0aece4d61baaea3644f3f3e3b\", \"columns\": [[0.0], [-1.0]], \"filename\": \"toyplot\"}, {\"title\": \"Scatterplot Data\", \"names\": [\"x\", \"y0\"], \"id\": \"t7a716c4bf7044d41a79aae01106ff546\", \"columns\": [[0.0], [-2.0]], \"filename\": \"toyplot\"}];\n",
       "\n",
       "          function save_csv(data_table)\n",
       "          {\n",
       "            var uri = \"data:text/csv;charset=utf-8,\";\n",
       "            uri += data_table.names.join(\",\") + \"\\n\";\n",
       "            for(var i = 0; i != data_table.columns[0].length; ++i)\n",
       "            {\n",
       "              for(var j = 0; j != data_table.columns.length; ++j)\n",
       "              {\n",
       "                if(j)\n",
       "                  uri += \",\";\n",
       "                uri += data_table.columns[j][i];\n",
       "              }\n",
       "              uri += \"\\n\";\n",
       "            }\n",
       "            uri = encodeURI(uri);\n",
       "\n",
       "            var link = document.createElement(\"a\");\n",
       "            if(typeof link.download != \"undefined\")\n",
       "            {\n",
       "              link.href = uri;\n",
       "              link.style = \"visibility:hidden\";\n",
       "              link.download = data_table.filename + \".csv\";\n",
       "\n",
       "              document.body.appendChild(link);\n",
       "              link.click();\n",
       "              document.body.removeChild(link);\n",
       "            }\n",
       "            else\n",
       "            {\n",
       "              window.open(uri);\n",
       "            }\n",
       "          }\n",
       "\n",
       "          function open_popup(data_table)\n",
       "          {\n",
       "            return function(e)\n",
       "            {\n",
       "              var popup = document.querySelector(\"#t6016066f7b3c419e82da9d5b9abc1cc7 .toyplot-mark-popup\");\n",
       "              popup.querySelector(\".toyplot-mark-popup-title\").innerHTML = data_table.title;\n",
       "              popup.querySelector(\".toyplot-mark-popup-save-csv\").onclick = function() { popup.style.visibility = \"hidden\"; save_csv(data_table); }\n",
       "              popup.style.left = (e.clientX - 50) + \"px\";\n",
       "              popup.style.top = (e.clientY - 20) + \"px\";\n",
       "              popup.style.visibility = \"visible\";\n",
       "              e.stopPropagation();\n",
       "              e.preventDefault();\n",
       "            }\n",
       "\n",
       "          }\n",
       "\n",
       "          for(var i = 0; i != data_tables.length; ++i)\n",
       "          {\n",
       "            var data_table = data_tables[i];\n",
       "            var event_target = document.querySelector(\"#\" + data_table.id);\n",
       "            event_target.oncontextmenu = open_popup(data_table);\n",
       "          }\n",
       "        })();\n",
       "        </script></div></div>"
      ]
     },
     "metadata": {},
     "output_type": "display_data"
    }
   ],
   "source": [
    "canvas = toyplot.Canvas(width=500, height=300)\n",
    "axes = canvas.cartesian(show=False, ymin=-2.5, ymax=1.5)\n",
    "\n",
    "axes.vlines(0, color=\"lightgray\")\n",
    "\n",
    "axes.text(0, 1, \"Shifted +0px\", style={\"-toyplot-anchor-shift\":\"0\", \"text-anchor\":\"start\", \"font-size\":\"24px\"})\n",
    "axes.scatterplot(0, 1, color=\"black\", size=3)\n",
    "\n",
    "axes.text(0, 0, \"Shifted +20px\", style={\"-toyplot-anchor-shift\":\"20px\", \"text-anchor\":\"start\", \"font-size\":\"24px\"})\n",
    "axes.scatterplot(0, 0, color=\"black\", size=3)\n",
    "\n",
    "axes.text(0, -1, \"Shifted +40px\", style={\"-toyplot-anchor-shift\":\"40px\", \"text-anchor\":\"start\", \"font-size\":\"24px\"})\n",
    "axes.scatterplot(0, -1, color=\"black\", size=3);\n",
    "\n",
    "axes.text(0, -2, \"Shifted -20px\", style={\"-toyplot-anchor-shift\":\"-20px\", \"text-anchor\":\"start\", \"font-size\":\"24px\"})\n",
    "axes.scatterplot(0, -2, color=\"black\", size=3);\n"
   ]
  },
  {
   "cell_type": "markdown",
   "metadata": {},
   "source": [
    "Vertically, the text baseline always passes through its anchor point - so to alter the vertical alongment of text, you change the baseline using the CSS `alignment-baseline` attribute.  Note that CSS typography is a complex topic and there are many different types of baseline to accomodate different writing modes and fonts.  The following baselines are the most useful for Western scripts.  Note the subtle difference between the \"central\" and \"middle\" baselines - the former centers upper-case letters in Western scripts while the latter centers lower-case letters, and is the Toyplot default:"
   ]
  },
  {
   "cell_type": "code",
   "execution_count": 4,
   "metadata": {
    "collapsed": false
   },
   "outputs": [
    {
     "data": {
      "text/html": [
       "<div align=\"center\" class=\"toyplot\" id=\"tab46603a87e2453c81533aec7019403c\"><svg class=\"toyplot-canvas-Canvas\" height=\"300.0px\" id=\"tc8f66aa69db54b059b91b4576642c908\" preserveAspectRatio=\"xMidYMid meet\" style=\"background-color:transparent;fill:rgb(16.1%,15.3%,14.1%);fill-opacity:1.0;font-family:Helvetica;font-size:12px;opacity:1.0;stroke:rgb(16.1%,15.3%,14.1%);stroke-opacity:1.0;stroke-width:1.0\" viewBox=\"0 0 600.0 300.0\" width=\"600.0px\" xmlns=\"http://www.w3.org/2000/svg\" xmlns:toyplot=\"http://www.sandia.gov/toyplot\" xmlns:xlink=\"http://www.w3.org/1999/xlink\"><g class=\"toyplot-coordinates-Cartesian\" id=\"t6d51ae85731f4deaae33275e6881f778\"><clipPath id=\"tac1c79d4f62c4fffa14b886af32d1ad1\"><rect height=\"220.0\" width=\"520.0\" x=\"40.0\" y=\"40.0\"></rect></clipPath><g clip-path=\"url(#tac1c79d4f62c4fffa14b886af32d1ad1)\"><g class=\"toyplot-mark-AxisLines\" id=\"tcbe70fc3b58f437c939a6e236874faea\" style=\"\"><g class=\"toyplot-Series\"><line class=\"toyplot-Datum\" style=\"opacity:1.0;stroke:rgb(82.7%,82.7%,82.7%);stroke-opacity:1.0\" x1=\"50.0\" x2=\"550.0\" y1=\"150.0\" y2=\"150.0\"></line></g></g><g class=\"toyplot-mark-Text\" id=\"taf18224e9f754bcbb6e845f0246dfebd\" style=\"alignment-baseline:hanging;font-size:24px;font-weight:normal;stroke:none;text-anchor:middle\"><g class=\"toyplot-Series\"><text class=\"toyplot-Datum\" style=\"fill:rgb(40%,76.1%,64.7%);fill-opacity:1.0;font-weight:normal;opacity:1.0;stroke:none;text-anchor:middle\" transform=\"translate(115.21739130434783,150.0)translate(0,18.0)\"><tspan style=\"font-size:24.0px\">Hanging</tspan></text></g></g><g class=\"toyplot-mark-Scatterplot\" id=\"t987a57d979f441c9ae9b04725538cc02\" style=\"\"><g class=\"toyplot-Series\"><g class=\"toyplot-Datum\" style=\"fill:rgb(0%,0%,0%);fill-opacity:1.0;opacity:1.0;stroke:rgb(0%,0%,0%);stroke-opacity:1.0\"><circle cx=\"115.21739130434783\" cy=\"150.0\" r=\"1.5\"></circle></g></g></g><g class=\"toyplot-mark-Text\" id=\"ta3e24cc444da468786750451494c609f\" style=\"alignment-baseline:central;font-size:24px;font-weight:normal;stroke:none;text-anchor:middle\"><g class=\"toyplot-Series\"><text class=\"toyplot-Datum\" style=\"fill:rgb(98.8%,55.3%,38.4%);fill-opacity:1.0;font-weight:normal;opacity:1.0;stroke:none;text-anchor:middle\" transform=\"translate(244.61697722567285,150.0)translate(0,9.0)\"><tspan style=\"font-size:24.0px\">Central</tspan></text></g></g><g class=\"toyplot-mark-Scatterplot\" id=\"ta7763bc39ef94029af4bb5bd9f921727\" style=\"\"><g class=\"toyplot-Series\"><g class=\"toyplot-Datum\" style=\"fill:rgb(0%,0%,0%);fill-opacity:1.0;opacity:1.0;stroke:rgb(0%,0%,0%);stroke-opacity:1.0\"><circle cx=\"244.61697722567285\" cy=\"150.0\" r=\"1.5\"></circle></g></g></g><g class=\"toyplot-mark-Text\" id=\"tfda5d67ae6b24120947b9d02dd48ff31\" style=\"alignment-baseline:middle;font-size:24px;font-weight:normal;stroke:none;text-anchor:middle\"><g class=\"toyplot-Series\"><text class=\"toyplot-Datum\" style=\"fill:rgb(55.3%,62.7%,79.6%);fill-opacity:1.0;font-weight:normal;opacity:1.0;stroke:none;text-anchor:middle\" transform=\"translate(374.0165631469979,150.0)translate(0,6.75)\"><tspan style=\"font-size:24.0px\">Middle</tspan></text></g></g><g class=\"toyplot-mark-Scatterplot\" id=\"t1eb61f14f4ea40de8ad319b1cec96643\" style=\"\"><g class=\"toyplot-Series\"><g class=\"toyplot-Datum\" style=\"fill:rgb(0%,0%,0%);fill-opacity:1.0;opacity:1.0;stroke:rgb(0%,0%,0%);stroke-opacity:1.0\"><circle cx=\"374.0165631469979\" cy=\"150.0\" r=\"1.5\"></circle></g></g></g><g class=\"toyplot-mark-Text\" id=\"t61a5ec67c4e447d8b43e85dd2ce5e5f4\" style=\"alignment-baseline:alphabetic;font-size:24px;font-weight:normal;stroke:none;text-anchor:middle\"><g class=\"toyplot-Series\"><text class=\"toyplot-Datum\" style=\"fill:rgb(90.6%,54.1%,76.5%);fill-opacity:1.0;font-weight:normal;opacity:1.0;stroke:none;text-anchor:middle\" transform=\"translate(503.41614906832291,150.0)\"><tspan style=\"font-size:24.0px\">Alpha</tspan></text></g></g><g class=\"toyplot-mark-Scatterplot\" id=\"t10903c3b1a294bc7bebf5d1c750a673e\" style=\"\"><g class=\"toyplot-Series\"><g class=\"toyplot-Datum\" style=\"fill:rgb(0%,0%,0%);fill-opacity:1.0;opacity:1.0;stroke:rgb(0%,0%,0%);stroke-opacity:1.0\"><circle cx=\"503.41614906832291\" cy=\"150.0\" r=\"1.5\"></circle></g></g></g></g></g></svg><div class=\"toyplot-interactive\"><ul class=\"toyplot-mark-popup\" onmouseleave=\"this.style.visibility='hidden'\" style=\"background:rgba(0%,0%,0%,0.75);border:0;border-radius:6px;color:white;cursor:default;list-style:none;margin:0;padding:5px;position:fixed;visibility:hidden\">\n",
       "            <li class=\"toyplot-mark-popup-title\" style=\"color:lightgray;cursor:default;padding:5px;list-style:none;margin:0\"></li>\n",
       "            <li class=\"toyplot-mark-popup-save-csv\" onmouseout=\"this.style.color='white';this.style.background='steelblue'\" onmouseover=\"this.style.color='steelblue';this.style.background='white'\" style=\"border-radius:3px;padding:5px;list-style:none;margin:0\">\n",
       "                Save as .csv\n",
       "            </li>\n",
       "        </ul><script>\n",
       "        (function()\n",
       "        {\n",
       "          var data_tables = [{\"title\": \"Scatterplot Data\", \"names\": [\"x\", \"y0\"], \"id\": \"t987a57d979f441c9ae9b04725538cc02\", \"columns\": [[-1.0], [0.0]], \"filename\": \"toyplot\"}, {\"title\": \"Scatterplot Data\", \"names\": [\"x\", \"y0\"], \"id\": \"ta7763bc39ef94029af4bb5bd9f921727\", \"columns\": [[0.0], [0.0]], \"filename\": \"toyplot\"}, {\"title\": \"Scatterplot Data\", \"names\": [\"x\", \"y0\"], \"id\": \"t1eb61f14f4ea40de8ad319b1cec96643\", \"columns\": [[1.0], [0.0]], \"filename\": \"toyplot\"}, {\"title\": \"Scatterplot Data\", \"names\": [\"x\", \"y0\"], \"id\": \"t10903c3b1a294bc7bebf5d1c750a673e\", \"columns\": [[2.0], [0.0]], \"filename\": \"toyplot\"}];\n",
       "\n",
       "          function save_csv(data_table)\n",
       "          {\n",
       "            var uri = \"data:text/csv;charset=utf-8,\";\n",
       "            uri += data_table.names.join(\",\") + \"\\n\";\n",
       "            for(var i = 0; i != data_table.columns[0].length; ++i)\n",
       "            {\n",
       "              for(var j = 0; j != data_table.columns.length; ++j)\n",
       "              {\n",
       "                if(j)\n",
       "                  uri += \",\";\n",
       "                uri += data_table.columns[j][i];\n",
       "              }\n",
       "              uri += \"\\n\";\n",
       "            }\n",
       "            uri = encodeURI(uri);\n",
       "\n",
       "            var link = document.createElement(\"a\");\n",
       "            if(typeof link.download != \"undefined\")\n",
       "            {\n",
       "              link.href = uri;\n",
       "              link.style = \"visibility:hidden\";\n",
       "              link.download = data_table.filename + \".csv\";\n",
       "\n",
       "              document.body.appendChild(link);\n",
       "              link.click();\n",
       "              document.body.removeChild(link);\n",
       "            }\n",
       "            else\n",
       "            {\n",
       "              window.open(uri);\n",
       "            }\n",
       "          }\n",
       "\n",
       "          function open_popup(data_table)\n",
       "          {\n",
       "            return function(e)\n",
       "            {\n",
       "              var popup = document.querySelector(\"#tab46603a87e2453c81533aec7019403c .toyplot-mark-popup\");\n",
       "              popup.querySelector(\".toyplot-mark-popup-title\").innerHTML = data_table.title;\n",
       "              popup.querySelector(\".toyplot-mark-popup-save-csv\").onclick = function() { popup.style.visibility = \"hidden\"; save_csv(data_table); }\n",
       "              popup.style.left = (e.clientX - 50) + \"px\";\n",
       "              popup.style.top = (e.clientY - 20) + \"px\";\n",
       "              popup.style.visibility = \"visible\";\n",
       "              e.stopPropagation();\n",
       "              e.preventDefault();\n",
       "            }\n",
       "\n",
       "          }\n",
       "\n",
       "          for(var i = 0; i != data_tables.length; ++i)\n",
       "          {\n",
       "            var data_table = data_tables[i];\n",
       "            var event_target = document.querySelector(\"#\" + data_table.id);\n",
       "            event_target.oncontextmenu = open_popup(data_table);\n",
       "          }\n",
       "        })();\n",
       "        </script></div></div>"
      ]
     },
     "metadata": {},
     "output_type": "display_data"
    }
   ],
   "source": [
    "canvas = toyplot.Canvas(width=600, height=300)\n",
    "axes = canvas.cartesian(show=False)\n",
    "\n",
    "axes.hlines(0, color=\"lightgray\")\n",
    "\n",
    "axes.text(-1, 0, \"Hanging\", style={\"alignment-baseline\":\"hanging\", \"font-size\":\"24px\"})\n",
    "axes.scatterplot(-1, 0, color=\"black\", size=3)\n",
    "\n",
    "axes.text(0, 0, \"Central\", style={\"alignment-baseline\":\"central\", \"font-size\":\"24px\"})\n",
    "axes.scatterplot(0, 0, color=\"black\", size=3)\n",
    "\n",
    "axes.text(1, 0, \"Middle\", style={\"alignment-baseline\":\"middle\", \"font-size\":\"24px\"})\n",
    "axes.scatterplot(1, 0, color=\"black\", size=3)\n",
    "\n",
    "axes.text(2, 0, \"Alpha\", style={\"alignment-baseline\":\"alphabetic\", \"font-size\":\"24px\"})\n",
    "axes.scatterplot(2, 0, color=\"black\", size=3);\n"
   ]
  },
  {
   "cell_type": "markdown",
   "metadata": {},
   "source": [
    "As you might expect, you can also shift text perpendicular to its baseline by arbitrary amounts, using `baseline-shift`.  While you are free to use any of Toyplot's supported CSS length units for the shift, percentages are especially useful, because they represent a distance relative to the font height:"
   ]
  },
  {
   "cell_type": "code",
   "execution_count": 5,
   "metadata": {
    "collapsed": false
   },
   "outputs": [
    {
     "data": {
      "text/html": [
       "<div align=\"center\" class=\"toyplot\" id=\"t6ddf0909ebe74336873c35b4990e8ded\"><svg class=\"toyplot-canvas-Canvas\" height=\"300.0px\" id=\"t3fa7b5c57b814bdbbbfce44e80e2587a\" preserveAspectRatio=\"xMidYMid meet\" style=\"background-color:transparent;fill:rgb(16.1%,15.3%,14.1%);fill-opacity:1.0;font-family:Helvetica;font-size:12px;opacity:1.0;stroke:rgb(16.1%,15.3%,14.1%);stroke-opacity:1.0;stroke-width:1.0\" viewBox=\"0 0 700.0 300.0\" width=\"700.0px\" xmlns=\"http://www.w3.org/2000/svg\" xmlns:toyplot=\"http://www.sandia.gov/toyplot\" xmlns:xlink=\"http://www.w3.org/1999/xlink\"><g class=\"toyplot-coordinates-Cartesian\" id=\"tb2268203547340c08f0a558c49924150\"><clipPath id=\"t9b53fa473c5c4b0f89b8bf94d110315f\"><rect height=\"220.0\" width=\"620.0\" x=\"40.0\" y=\"40.0\"></rect></clipPath><g clip-path=\"url(#t9b53fa473c5c4b0f89b8bf94d110315f)\"><g class=\"toyplot-mark-AxisLines\" id=\"t4fbe8af15c0149d6b8af883372439408\" style=\"\"><g class=\"toyplot-Series\"><line class=\"toyplot-Datum\" style=\"opacity:1.0;stroke:rgb(82.7%,82.7%,82.7%);stroke-opacity:1.0\" x1=\"50.0\" x2=\"650.0\" y1=\"150.0\" y2=\"150.0\"></line></g></g><g class=\"toyplot-mark-Text\" id=\"t2c2cfb75a068408ab7c0c89b1b7234eb\" style=\"alignment-baseline:middle;baseline-shift:-100%;font-size:24px;font-weight:normal;stroke:none;text-anchor:middle\"><g class=\"toyplot-Series\"><text class=\"toyplot-Datum\" style=\"fill:rgb(40%,76.1%,64.7%);fill-opacity:1.0;font-weight:normal;opacity:1.0;stroke:none;text-anchor:middle\" transform=\"translate(142.95774647887322,150.0)translate(0,30.75)\"><tspan style=\"font-size:24.0px\">Shift -100%</tspan></text></g></g><g class=\"toyplot-mark-Scatterplot\" id=\"t57a4fc5a6d7b4cadbc9fe1ecf2965eec\" style=\"\"><g class=\"toyplot-Series\"><g class=\"toyplot-Datum\" style=\"fill:rgb(0%,0%,0%);fill-opacity:1.0;opacity:1.0;stroke:rgb(0%,0%,0%);stroke-opacity:1.0\"><circle cx=\"142.95774647887322\" cy=\"150.0\" r=\"1.5\"></circle></g></g></g><g class=\"toyplot-mark-Text\" id=\"td1c6ee412acc4fda9e97b71fd2551a90\" style=\"alignment-baseline:middle;baseline-shift:0;font-size:24px;font-weight:normal;stroke:none;text-anchor:middle\"><g class=\"toyplot-Series\"><text class=\"toyplot-Datum\" style=\"fill:rgb(98.8%,55.3%,38.4%);fill-opacity:1.0;font-weight:normal;opacity:1.0;stroke:none;text-anchor:middle\" transform=\"translate(283.80281690140845,150.0)translate(0,6.75)\"><tspan style=\"font-size:24.0px\">Shift 0%</tspan></text></g></g><g class=\"toyplot-mark-Scatterplot\" id=\"t63d1a3e591f749c6bb6ad74b937bfab6\" style=\"\"><g class=\"toyplot-Series\"><g class=\"toyplot-Datum\" style=\"fill:rgb(0%,0%,0%);fill-opacity:1.0;opacity:1.0;stroke:rgb(0%,0%,0%);stroke-opacity:1.0\"><circle cx=\"283.80281690140845\" cy=\"150.0\" r=\"1.5\"></circle></g></g></g><g class=\"toyplot-mark-Text\" id=\"t67e85a1db4bf4a70897ac306932cd97e\" style=\"alignment-baseline:middle;baseline-shift:66%;font-size:24px;font-weight:normal;stroke:none;text-anchor:middle\"><g class=\"toyplot-Series\"><text class=\"toyplot-Datum\" style=\"fill:rgb(55.3%,62.7%,79.6%);fill-opacity:1.0;font-weight:normal;opacity:1.0;stroke:none;text-anchor:middle\" transform=\"translate(424.64788732394368,150.0)translate(0,-9.09)\"><tspan style=\"font-size:24.0px\">Shift 66%</tspan></text></g></g><g class=\"toyplot-mark-Scatterplot\" id=\"ta938833f13624b83af1631b93216eefb\" style=\"\"><g class=\"toyplot-Series\"><g class=\"toyplot-Datum\" style=\"fill:rgb(0%,0%,0%);fill-opacity:1.0;opacity:1.0;stroke:rgb(0%,0%,0%);stroke-opacity:1.0\"><circle cx=\"424.64788732394368\" cy=\"150.0\" r=\"1.5\"></circle></g></g></g><g class=\"toyplot-mark-Text\" id=\"te181308a5e024db594b8152f28a3f429\" style=\"alignment-baseline:middle;baseline-shift:100%;font-size:24px;font-weight:normal;stroke:none;text-anchor:middle\"><g class=\"toyplot-Series\"><text class=\"toyplot-Datum\" style=\"fill:rgb(90.6%,54.1%,76.5%);fill-opacity:1.0;font-weight:normal;opacity:1.0;stroke:none;text-anchor:middle\" transform=\"translate(565.49295774647896,150.0)translate(0,-17.25)\"><tspan style=\"font-size:24.0px\">Shift 100%</tspan></text></g></g><g class=\"toyplot-mark-Scatterplot\" id=\"t133caadb3b1e4ed9bfd957b79255b7a2\" style=\"\"><g class=\"toyplot-Series\"><g class=\"toyplot-Datum\" style=\"fill:rgb(0%,0%,0%);fill-opacity:1.0;opacity:1.0;stroke:rgb(0%,0%,0%);stroke-opacity:1.0\"><circle cx=\"565.49295774647896\" cy=\"150.0\" r=\"1.5\"></circle></g></g></g></g></g></svg><div class=\"toyplot-interactive\"><ul class=\"toyplot-mark-popup\" onmouseleave=\"this.style.visibility='hidden'\" style=\"background:rgba(0%,0%,0%,0.75);border:0;border-radius:6px;color:white;cursor:default;list-style:none;margin:0;padding:5px;position:fixed;visibility:hidden\">\n",
       "            <li class=\"toyplot-mark-popup-title\" style=\"color:lightgray;cursor:default;padding:5px;list-style:none;margin:0\"></li>\n",
       "            <li class=\"toyplot-mark-popup-save-csv\" onmouseout=\"this.style.color='white';this.style.background='steelblue'\" onmouseover=\"this.style.color='steelblue';this.style.background='white'\" style=\"border-radius:3px;padding:5px;list-style:none;margin:0\">\n",
       "                Save as .csv\n",
       "            </li>\n",
       "        </ul><script>\n",
       "        (function()\n",
       "        {\n",
       "          var data_tables = [{\"title\": \"Scatterplot Data\", \"names\": [\"x\", \"y0\"], \"id\": \"t57a4fc5a6d7b4cadbc9fe1ecf2965eec\", \"columns\": [[-1.0], [0.0]], \"filename\": \"toyplot\"}, {\"title\": \"Scatterplot Data\", \"names\": [\"x\", \"y0\"], \"id\": \"t63d1a3e591f749c6bb6ad74b937bfab6\", \"columns\": [[0.0], [0.0]], \"filename\": \"toyplot\"}, {\"title\": \"Scatterplot Data\", \"names\": [\"x\", \"y0\"], \"id\": \"ta938833f13624b83af1631b93216eefb\", \"columns\": [[1.0], [0.0]], \"filename\": \"toyplot\"}, {\"title\": \"Scatterplot Data\", \"names\": [\"x\", \"y0\"], \"id\": \"t133caadb3b1e4ed9bfd957b79255b7a2\", \"columns\": [[2.0], [0.0]], \"filename\": \"toyplot\"}];\n",
       "\n",
       "          function save_csv(data_table)\n",
       "          {\n",
       "            var uri = \"data:text/csv;charset=utf-8,\";\n",
       "            uri += data_table.names.join(\",\") + \"\\n\";\n",
       "            for(var i = 0; i != data_table.columns[0].length; ++i)\n",
       "            {\n",
       "              for(var j = 0; j != data_table.columns.length; ++j)\n",
       "              {\n",
       "                if(j)\n",
       "                  uri += \",\";\n",
       "                uri += data_table.columns[j][i];\n",
       "              }\n",
       "              uri += \"\\n\";\n",
       "            }\n",
       "            uri = encodeURI(uri);\n",
       "\n",
       "            var link = document.createElement(\"a\");\n",
       "            if(typeof link.download != \"undefined\")\n",
       "            {\n",
       "              link.href = uri;\n",
       "              link.style = \"visibility:hidden\";\n",
       "              link.download = data_table.filename + \".csv\";\n",
       "\n",
       "              document.body.appendChild(link);\n",
       "              link.click();\n",
       "              document.body.removeChild(link);\n",
       "            }\n",
       "            else\n",
       "            {\n",
       "              window.open(uri);\n",
       "            }\n",
       "          }\n",
       "\n",
       "          function open_popup(data_table)\n",
       "          {\n",
       "            return function(e)\n",
       "            {\n",
       "              var popup = document.querySelector(\"#t6ddf0909ebe74336873c35b4990e8ded .toyplot-mark-popup\");\n",
       "              popup.querySelector(\".toyplot-mark-popup-title\").innerHTML = data_table.title;\n",
       "              popup.querySelector(\".toyplot-mark-popup-save-csv\").onclick = function() { popup.style.visibility = \"hidden\"; save_csv(data_table); }\n",
       "              popup.style.left = (e.clientX - 50) + \"px\";\n",
       "              popup.style.top = (e.clientY - 20) + \"px\";\n",
       "              popup.style.visibility = \"visible\";\n",
       "              e.stopPropagation();\n",
       "              e.preventDefault();\n",
       "            }\n",
       "\n",
       "          }\n",
       "\n",
       "          for(var i = 0; i != data_tables.length; ++i)\n",
       "          {\n",
       "            var data_table = data_tables[i];\n",
       "            var event_target = document.querySelector(\"#\" + data_table.id);\n",
       "            event_target.oncontextmenu = open_popup(data_table);\n",
       "          }\n",
       "        })();\n",
       "        </script></div></div>"
      ]
     },
     "metadata": {},
     "output_type": "display_data"
    }
   ],
   "source": [
    "canvas = toyplot.Canvas(width=700, height=300)\n",
    "axes = canvas.cartesian(show=False)\n",
    "\n",
    "axes.hlines(0, color=\"lightgray\")\n",
    "\n",
    "axes.text(-1, 0, \"Shift -100%\", style={\"baseline-shift\":\"-100%\", \"font-size\":\"24px\"})\n",
    "axes.scatterplot(-1, 0, color=\"black\", size=3)\n",
    "\n",
    "axes.text(0, 0, \"Shift 0%\", style={\"baseline-shift\":\"0\", \"font-size\":\"24px\"})\n",
    "axes.scatterplot(0, 0, color=\"black\", size=3)\n",
    "\n",
    "axes.text(1, 0, \"Shift 66%\", style={\"baseline-shift\":\"66%\", \"font-size\":\"24px\"})\n",
    "axes.scatterplot(1, 0, color=\"black\", size=3)\n",
    "\n",
    "axes.text(2, 0, \"Shift 100%\", style={\"baseline-shift\":\"100%\", \"font-size\":\"24px\"})\n",
    "axes.scatterplot(2, 0, color=\"black\", size=3);\n"
   ]
  },
  {
   "cell_type": "markdown",
   "metadata": {},
   "source": [
    "Of course, you're free to combine all four styles in any way that you like.\n",
    "\n",
    "One final thing to keep in mind is that `-toyplot-anchor-shift` and `baseline-shift` move the text relative to its baseline, not the canvas.  This is important because it affects their behavior when text is rotated.  In the following example, look carefully and note that the text with `-toyplot-anchor-shift` is shifted *along its rotated baseline*, not simply moved left or right on the canvas.  Similarly, the `baseline-shift` text is shifted *perpendicular to its rotated baseline*, not merely up or down:"
   ]
  },
  {
   "cell_type": "code",
   "execution_count": 6,
   "metadata": {
    "collapsed": false
   },
   "outputs": [
    {
     "data": {
      "text/html": [
       "<div align=\"center\" class=\"toyplot\" id=\"tad6141f3f98f4efc8b0d3a66f05146af\"><svg class=\"toyplot-canvas-Canvas\" height=\"300.0px\" id=\"t6196e5e7b3f9445b89956e68ff9bfde6\" preserveAspectRatio=\"xMidYMid meet\" style=\"background-color:transparent;fill:rgb(16.1%,15.3%,14.1%);fill-opacity:1.0;font-family:Helvetica;font-size:12px;opacity:1.0;stroke:rgb(16.1%,15.3%,14.1%);stroke-opacity:1.0;stroke-width:1.0\" viewBox=\"0 0 500.0 300.0\" width=\"500.0px\" xmlns=\"http://www.w3.org/2000/svg\" xmlns:toyplot=\"http://www.sandia.gov/toyplot\" xmlns:xlink=\"http://www.w3.org/1999/xlink\"><g class=\"toyplot-coordinates-Cartesian\" id=\"td78fced00e154fca8801d43930fa39a9\"><clipPath id=\"tace3bb866e5d4d0e860be489dd3705ca\"><rect height=\"220.0\" width=\"86.66666666666666\" x=\"40.0\" y=\"40.0\"></rect></clipPath><g clip-path=\"url(#tace3bb866e5d4d0e860be489dd3705ca)\"><g class=\"toyplot-mark-AxisLines\" id=\"tbdd782b1f771487d96b819e53350316f\" style=\"\"><g class=\"toyplot-Series\"><line class=\"toyplot-Datum\" style=\"opacity:1.0;stroke:rgb(82.7%,82.7%,82.7%);stroke-opacity:1.0\" x1=\"83.333333333333329\" x2=\"83.333333333333329\" y1=\"50.0\" y2=\"250.0\"></line></g></g><g class=\"toyplot-mark-Text\" id=\"t27fe02fdca39472b8017bb913eafe846\" style=\"alignment-baseline:middle;font-size:24px;font-weight:normal;stroke:none;text-anchor:middle\"><g class=\"toyplot-Series\"><text class=\"toyplot-Datum\" style=\"fill:rgb(40%,76.1%,64.7%);fill-opacity:1.0;font-weight:normal;opacity:1.0;stroke:none;text-anchor:middle\" transform=\"translate(83.333333333333329,150.0)rotate(-45.0)translate(0,6.75)\"><tspan style=\"font-size:24.0px\">a + b</tspan></text></g></g><g class=\"toyplot-mark-Scatterplot\" id=\"t31aadab8e48e4558883d2fd4ad63be6a\" style=\"\"><g class=\"toyplot-Series\"><g class=\"toyplot-Datum\" style=\"fill:rgb(0%,0%,0%);fill-opacity:1.0;opacity:1.0;stroke:rgb(0%,0%,0%);stroke-opacity:1.0\"><circle cx=\"83.333333333333329\" cy=\"150.0\" r=\"1.5\"></circle></g></g></g></g><text style=\"font-weight:bold;stroke:none;text-anchor:middle\" transform=\"translate(83.33333333333333,50.0)translate(0,-10.0625)\"><tspan style=\"font-size:14.0px\">default</tspan></text></g><g class=\"toyplot-coordinates-Cartesian\" id=\"ta66971a08b364df0a09f21d2eb3c7515\"><clipPath id=\"tede1c0a20a174f8b9ff49c667e7f3484\"><rect height=\"220.0\" width=\"86.66666666666666\" x=\"206.66666666666666\" y=\"40.0\"></rect></clipPath><g clip-path=\"url(#tede1c0a20a174f8b9ff49c667e7f3484)\"><g class=\"toyplot-mark-AxisLines\" id=\"t2a91424475a04beba4b10fa07ea1526b\" style=\"\"><g class=\"toyplot-Series\"><line class=\"toyplot-Datum\" style=\"opacity:1.0;stroke:rgb(82.7%,82.7%,82.7%);stroke-opacity:1.0\" x1=\"240.7407407407407\" x2=\"240.7407407407407\" y1=\"50.0\" y2=\"250.0\"></line></g></g><g class=\"toyplot-mark-Text\" id=\"t8cf4cfdf11c64864841720c4ba293508\" style=\"-toyplot-anchor-shift:20px;alignment-baseline:middle;font-size:24px;font-weight:normal;stroke:none;text-anchor:middle\"><g class=\"toyplot-Series\"><text class=\"toyplot-Datum\" style=\"fill:rgb(40%,76.1%,64.7%);fill-opacity:1.0;font-weight:normal;opacity:1.0;stroke:none;text-anchor:middle\" transform=\"translate(240.7407407407407,150.0)rotate(-45.0)translate(20.0,6.75)\"><tspan style=\"font-size:24.0px\">a + b</tspan></text></g></g><g class=\"toyplot-mark-Scatterplot\" id=\"t78177cb0e2ea454b9862899795660602\" style=\"\"><g class=\"toyplot-Series\"><g class=\"toyplot-Datum\" style=\"fill:rgb(0%,0%,0%);fill-opacity:1.0;opacity:1.0;stroke:rgb(0%,0%,0%);stroke-opacity:1.0\"><circle cx=\"240.7407407407407\" cy=\"150.0\" r=\"1.5\"></circle></g></g></g></g><text style=\"font-weight:bold;stroke:none;text-anchor:middle\" transform=\"translate(250.0,50.0)translate(0,-10.0625)\"><tspan style=\"font-size:14.0px\">-toyplot-anchor-shift</tspan></text></g><g class=\"toyplot-coordinates-Cartesian\" id=\"t1d7e5cb3d3074e5680f943e786ed3059\"><clipPath id=\"tce0e694a79a34ff480e11bb0b7af4822\"><rect height=\"220.0\" width=\"86.66666666666669\" x=\"373.3333333333333\" y=\"40.0\"></rect></clipPath><g clip-path=\"url(#tce0e694a79a34ff480e11bb0b7af4822)\"><g class=\"toyplot-mark-AxisLines\" id=\"teb7b0a7bbca44666b8fb24e4d3258c00\" style=\"\"><g class=\"toyplot-Series\"><line class=\"toyplot-Datum\" style=\"opacity:1.0;stroke:rgb(82.7%,82.7%,82.7%);stroke-opacity:1.0\" x1=\"407.40740740740739\" x2=\"407.40740740740739\" y1=\"50.0\" y2=\"250.0\"></line></g></g><g class=\"toyplot-mark-Text\" id=\"t888dc5fcf703467b8ec2859a68e11aa4\" style=\"alignment-baseline:middle;baseline-shift:-20px;font-size:24px;font-weight:normal;stroke:none;text-anchor:middle\"><g class=\"toyplot-Series\"><text class=\"toyplot-Datum\" style=\"fill:rgb(40%,76.1%,64.7%);fill-opacity:1.0;font-weight:normal;opacity:1.0;stroke:none;text-anchor:middle\" transform=\"translate(407.40740740740739,150.0)rotate(-45.0)translate(0,26.75)\"><tspan style=\"font-size:24.0px\">a + b</tspan></text></g></g><g class=\"toyplot-mark-Scatterplot\" id=\"ta37adc2f2e00493eb29b197deea2f70a\" style=\"\"><g class=\"toyplot-Series\"><g class=\"toyplot-Datum\" style=\"fill:rgb(0%,0%,0%);fill-opacity:1.0;opacity:1.0;stroke:rgb(0%,0%,0%);stroke-opacity:1.0\"><circle cx=\"407.40740740740739\" cy=\"150.0\" r=\"1.5\"></circle></g></g></g></g><text style=\"font-weight:bold;stroke:none;text-anchor:middle\" transform=\"translate(416.66666666666663,50.0)translate(0,-10.0625)\"><tspan style=\"font-size:14.0px\">baseline-shift</tspan></text></g></svg><div class=\"toyplot-interactive\"><ul class=\"toyplot-mark-popup\" onmouseleave=\"this.style.visibility='hidden'\" style=\"background:rgba(0%,0%,0%,0.75);border:0;border-radius:6px;color:white;cursor:default;list-style:none;margin:0;padding:5px;position:fixed;visibility:hidden\">\n",
       "            <li class=\"toyplot-mark-popup-title\" style=\"color:lightgray;cursor:default;padding:5px;list-style:none;margin:0\"></li>\n",
       "            <li class=\"toyplot-mark-popup-save-csv\" onmouseout=\"this.style.color='white';this.style.background='steelblue'\" onmouseover=\"this.style.color='steelblue';this.style.background='white'\" style=\"border-radius:3px;padding:5px;list-style:none;margin:0\">\n",
       "                Save as .csv\n",
       "            </li>\n",
       "        </ul><script>\n",
       "        (function()\n",
       "        {\n",
       "          var data_tables = [{\"title\": \"Scatterplot Data\", \"names\": [\"x\", \"y0\"], \"id\": \"t31aadab8e48e4558883d2fd4ad63be6a\", \"columns\": [[0.0], [0.0]], \"filename\": \"toyplot\"}, {\"title\": \"Scatterplot Data\", \"names\": [\"x\", \"y0\"], \"id\": \"t78177cb0e2ea454b9862899795660602\", \"columns\": [[0.0], [0.0]], \"filename\": \"toyplot\"}, {\"title\": \"Scatterplot Data\", \"names\": [\"x\", \"y0\"], \"id\": \"ta37adc2f2e00493eb29b197deea2f70a\", \"columns\": [[0.0], [0.0]], \"filename\": \"toyplot\"}];\n",
       "\n",
       "          function save_csv(data_table)\n",
       "          {\n",
       "            var uri = \"data:text/csv;charset=utf-8,\";\n",
       "            uri += data_table.names.join(\",\") + \"\\n\";\n",
       "            for(var i = 0; i != data_table.columns[0].length; ++i)\n",
       "            {\n",
       "              for(var j = 0; j != data_table.columns.length; ++j)\n",
       "              {\n",
       "                if(j)\n",
       "                  uri += \",\";\n",
       "                uri += data_table.columns[j][i];\n",
       "              }\n",
       "              uri += \"\\n\";\n",
       "            }\n",
       "            uri = encodeURI(uri);\n",
       "\n",
       "            var link = document.createElement(\"a\");\n",
       "            if(typeof link.download != \"undefined\")\n",
       "            {\n",
       "              link.href = uri;\n",
       "              link.style = \"visibility:hidden\";\n",
       "              link.download = data_table.filename + \".csv\";\n",
       "\n",
       "              document.body.appendChild(link);\n",
       "              link.click();\n",
       "              document.body.removeChild(link);\n",
       "            }\n",
       "            else\n",
       "            {\n",
       "              window.open(uri);\n",
       "            }\n",
       "          }\n",
       "\n",
       "          function open_popup(data_table)\n",
       "          {\n",
       "            return function(e)\n",
       "            {\n",
       "              var popup = document.querySelector(\"#tad6141f3f98f4efc8b0d3a66f05146af .toyplot-mark-popup\");\n",
       "              popup.querySelector(\".toyplot-mark-popup-title\").innerHTML = data_table.title;\n",
       "              popup.querySelector(\".toyplot-mark-popup-save-csv\").onclick = function() { popup.style.visibility = \"hidden\"; save_csv(data_table); }\n",
       "              popup.style.left = (e.clientX - 50) + \"px\";\n",
       "              popup.style.top = (e.clientY - 20) + \"px\";\n",
       "              popup.style.visibility = \"visible\";\n",
       "              e.stopPropagation();\n",
       "              e.preventDefault();\n",
       "            }\n",
       "\n",
       "          }\n",
       "\n",
       "          for(var i = 0; i != data_tables.length; ++i)\n",
       "          {\n",
       "            var data_table = data_tables[i];\n",
       "            var event_target = document.querySelector(\"#\" + data_table.id);\n",
       "            event_target.oncontextmenu = open_popup(data_table);\n",
       "          }\n",
       "        })();\n",
       "        </script></div></div>"
      ]
     },
     "metadata": {},
     "output_type": "display_data"
    }
   ],
   "source": [
    "canvas = toyplot.Canvas(width=500, height=300)\n",
    "\n",
    "axes = canvas.cartesian(grid=(1,3,0), xshow=False, yshow=False, label=\"default\")\n",
    "axes.vlines(0, color=\"lightgray\")\n",
    "axes.text(0, 0, \"a + b\", angle=45, style={\"font-size\":\"24px\"})\n",
    "axes.scatterplot(0, 0, color=\"black\", size=3)\n",
    "\n",
    "axes = canvas.cartesian(grid=(1,3,1), xshow=False, yshow=False, label=\"-toyplot-anchor-shift\")\n",
    "axes.vlines(0, color=\"lightgray\")\n",
    "axes.text(0, 0, \"a + b\", angle=45, style={\"-toyplot-anchor-shift\":\"20px\", \"font-size\":\"24px\"})\n",
    "axes.scatterplot(0, 0, color=\"black\", size=3)\n",
    "\n",
    "axes = canvas.cartesian(grid=(1,3,2), xshow=False, yshow=False, label=\"baseline-shift\")\n",
    "axes.vlines(0, color=\"lightgray\")\n",
    "axes.text(0, 0, \"a + b\", angle=45, style={\"baseline-shift\":\"-20px\", \"font-size\":\"24px\"})\n",
    "axes.scatterplot(0, 0, color=\"black\", size=3);\n"
   ]
  },
  {
   "cell_type": "markdown",
   "metadata": {},
   "source": [
    "## Rich Text\n",
    "\n",
    "In addition to positioning text using styles, you can use (a limited subset of) HTML markup to format your text.  For example, you can create text with superscripts and subscripts: "
   ]
  },
  {
   "cell_type": "code",
   "execution_count": 7,
   "metadata": {
    "collapsed": false
   },
   "outputs": [
    {
     "data": {
      "text/html": [
       "<div align=\"center\" class=\"toyplot\" id=\"t54a1309812514e8d8db8b5cc31d67922\"><svg class=\"toyplot-canvas-Canvas\" height=\"150.0px\" id=\"t46ed725bb1454d43899a8035a4d5f1dd\" preserveAspectRatio=\"xMidYMid meet\" style=\"background-color:transparent;fill:rgb(16.1%,15.3%,14.1%);fill-opacity:1.0;font-family:Helvetica;font-size:12px;opacity:1.0;stroke:rgb(16.1%,15.3%,14.1%);stroke-opacity:1.0;stroke-width:1.0\" viewBox=\"0 0 600.0 150.0\" width=\"600.0px\" xmlns=\"http://www.w3.org/2000/svg\" xmlns:toyplot=\"http://www.sandia.gov/toyplot\" xmlns:xlink=\"http://www.w3.org/1999/xlink\"><g class=\"toyplot-mark-Text\" id=\"ta94897c5ca954ebc8b6558655a7cd37b\" style=\"alignment-baseline:middle;font-size:32px;font-weight:normal;stroke:none;text-anchor:start\"><g class=\"toyplot-Series\"><text class=\"toyplot-Datum\" style=\"fill:rgb(16.1%,15.3%,14.1%);fill-opacity:1.0;font-weight:normal;opacity:1.0;stroke:none;text-anchor:start\" transform=\"translate(300.0,100.0)translate(0,9.0)\"><tspan style=\"font-size:32.0px\">100</tspan><tspan dy=\"-9.6\" style=\"font-size:22.4px\">-53</tspan></text></g></g></svg><div class=\"toyplot-interactive\"></div></div>"
      ]
     },
     "metadata": {},
     "output_type": "display_data"
    }
   ],
   "source": [
    "canvas = toyplot.Canvas(width=600, height=150)\n",
    "canvas.text(300, 100, \"100<sup>-53</sup>\", style={\"text-anchor\":\"start\", \"font-size\":\"32px\"});"
   ]
  },
  {
   "cell_type": "code",
   "execution_count": 8,
   "metadata": {
    "collapsed": false
   },
   "outputs": [
    {
     "data": {
      "text/html": [
       "<div align=\"center\" class=\"toyplot\" id=\"t6fac94681bcd41ac914a9df1a126e9bc\"><svg class=\"toyplot-canvas-Canvas\" height=\"150.0px\" id=\"t4cc52d866f6147aeb382197e1a1ebb88\" preserveAspectRatio=\"xMidYMid meet\" style=\"background-color:transparent;fill:rgb(16.1%,15.3%,14.1%);fill-opacity:1.0;font-family:Helvetica;font-size:12px;opacity:1.0;stroke:rgb(16.1%,15.3%,14.1%);stroke-opacity:1.0;stroke-width:1.0\" viewBox=\"0 0 600.0 150.0\" width=\"600.0px\" xmlns=\"http://www.w3.org/2000/svg\" xmlns:toyplot=\"http://www.sandia.gov/toyplot\" xmlns:xlink=\"http://www.w3.org/1999/xlink\"><g class=\"toyplot-mark-Text\" id=\"tf1460d3a64894d9b80efd1ab55628ef0\" style=\"alignment-baseline:middle;font-size:32px;font-weight:normal;stroke:none;text-anchor:start\"><g class=\"toyplot-Series\"><text class=\"toyplot-Datum\" style=\"fill:rgb(16.1%,15.3%,14.1%);fill-opacity:1.0;font-weight:normal;opacity:1.0;stroke:none;text-anchor:start\" transform=\"translate(300.0,100.0)translate(0,9.0)\"><tspan style=\"font-size:32.0px\">H</tspan><tspan dy=\"6.4\" style=\"font-size:22.4px\">2</tspan><tspan dy=\"-6.4\" style=\"font-size:32.0px\">O</tspan></text></g></g></svg><div class=\"toyplot-interactive\"></div></div>"
      ]
     },
     "metadata": {},
     "output_type": "display_data"
    }
   ],
   "source": [
    "canvas = toyplot.Canvas(width=600, height=150)\n",
    "canvas.text(300, 100, \"H<sub>2</sub>O\", style={\"text-anchor\":\"start\", \"font-size\":\"32px\"});"
   ]
  },
  {
   "cell_type": "markdown",
   "metadata": {},
   "source": [
    "Note that you are free to nest superscripts and subscripts:"
   ]
  },
  {
   "cell_type": "code",
   "execution_count": 9,
   "metadata": {
    "collapsed": false
   },
   "outputs": [
    {
     "data": {
      "text/html": [
       "<div align=\"center\" class=\"toyplot\" id=\"td50d1e8d352d43148676a397dfe91934\"><svg class=\"toyplot-canvas-Canvas\" height=\"150.0px\" id=\"tc0aa690a69854c2494528986cfb7137f\" preserveAspectRatio=\"xMidYMid meet\" style=\"background-color:transparent;fill:rgb(16.1%,15.3%,14.1%);fill-opacity:1.0;font-family:Helvetica;font-size:12px;opacity:1.0;stroke:rgb(16.1%,15.3%,14.1%);stroke-opacity:1.0;stroke-width:1.0\" viewBox=\"0 0 600.0 150.0\" width=\"600.0px\" xmlns=\"http://www.w3.org/2000/svg\" xmlns:toyplot=\"http://www.sandia.gov/toyplot\" xmlns:xlink=\"http://www.w3.org/1999/xlink\"><g class=\"toyplot-mark-Text\" id=\"t06980cd516be49e38d6f7e7a820d41e4\" style=\"alignment-baseline:middle;font-size:32px;font-weight:normal;stroke:none;text-anchor:start\"><g class=\"toyplot-Series\"><text class=\"toyplot-Datum\" style=\"fill:rgb(16.1%,15.3%,14.1%);fill-opacity:1.0;font-weight:normal;opacity:1.0;stroke:none;text-anchor:start\" transform=\"translate(300.0,100.0)translate(0,9.0)\"><tspan style=\"font-size:32.0px\">W</tspan><tspan dy=\"-9.6\" style=\"font-size:22.4px\">X</tspan><tspan dy=\"4.48\" style=\"font-size:15.68px\">Y</tspan><tspan dy=\"-11.2\" style=\"font-size:15.68px\">Z</tspan></text></g></g></svg><div class=\"toyplot-interactive\"></div></div>"
      ]
     },
     "metadata": {},
     "output_type": "display_data"
    }
   ],
   "source": [
    "canvas = toyplot.Canvas(width=600, height=150)\n",
    "canvas.text(300, 100, \"W<sup>X<sub>Y</sub><sup>Z</sup></sup>\", style={\"text-anchor\":\"start\", \"font-size\":\"32px\"});"
   ]
  },
  {
   "cell_type": "markdown",
   "metadata": {},
   "source": [
    "There are a variety of tags to alter the inline appearance of text:"
   ]
  },
  {
   "cell_type": "code",
   "execution_count": 10,
   "metadata": {
    "collapsed": false
   },
   "outputs": [
    {
     "data": {
      "text/html": [
       "<div align=\"center\" class=\"toyplot\" id=\"t765cba4d166940e58de2c319e9fee721\"><svg class=\"toyplot-canvas-Canvas\" height=\"150.0px\" id=\"te598586b73e24c2a8997b1f127a44aa1\" preserveAspectRatio=\"xMidYMid meet\" style=\"background-color:transparent;fill:rgb(16.1%,15.3%,14.1%);fill-opacity:1.0;font-family:Helvetica;font-size:12px;opacity:1.0;stroke:rgb(16.1%,15.3%,14.1%);stroke-opacity:1.0;stroke-width:1.0\" viewBox=\"0 0 600.0 150.0\" width=\"600.0px\" xmlns=\"http://www.w3.org/2000/svg\" xmlns:toyplot=\"http://www.sandia.gov/toyplot\" xmlns:xlink=\"http://www.w3.org/1999/xlink\"><g class=\"toyplot-mark-Text\" id=\"taed9da8f8d324e2ba8a69139f4bde290\" style=\"alignment-baseline:middle;font-size:24px;font-weight:normal;stroke:none;text-anchor:start\"><g class=\"toyplot-Series\"><text class=\"toyplot-Datum\" style=\"fill:rgb(16.1%,15.3%,14.1%);fill-opacity:1.0;font-weight:normal;opacity:1.0;stroke:none;text-anchor:start\" transform=\"translate(300.0,100.0)translate(0,6.75)\"><tspan style=\"font-size:24.0px\">normal </tspan><tspan style=\"font-size:24.0px;font-weight:bold\">bold</tspan><tspan style=\"font-size:24.0px\"> </tspan><tspan style=\"font-size:24.0px;font-style:italic\">italic</tspan><tspan style=\"font-size:24.0px\"> </tspan><tspan style=\"font-size:24.0px;font-weight:bold\">strong</tspan><tspan style=\"font-size:24.0px\"> </tspan><tspan style=\"font-size:24.0px;font-style:italic\">emphasis</tspan><tspan style=\"font-size:24.0px\"> </tspan><tspan style=\"font-size:19.2px\">small</tspan><tspan style=\"font-size:24.0px\"> </tspan><tspan style=\"font-family:monospace;font-size:24.0px\">code</tspan></text></g></g></svg><div class=\"toyplot-interactive\"></div></div>"
      ]
     },
     "metadata": {},
     "output_type": "display_data"
    }
   ],
   "source": [
    "canvas = toyplot.Canvas(width=600, height=150)\n",
    "canvas.text(\n",
    "    300,\n",
    "    100,\n",
    "    \"normal <b>bold</b> <i>italic</i> <strong>strong</strong> <em>emphasis</em> <small>small</small> <code>code</code>\",\n",
    "    style={\"text-anchor\":\"start\", \"font-size\":\"24px\"});"
   ]
  },
  {
   "cell_type": "markdown",
   "metadata": {},
   "source": [
    "And these tags can be nested as well:"
   ]
  },
  {
   "cell_type": "code",
   "execution_count": 11,
   "metadata": {
    "collapsed": false
   },
   "outputs": [
    {
     "data": {
      "text/html": [
       "<div align=\"center\" class=\"toyplot\" id=\"t3a9a8dafd97e436d919002b5a2aceccd\"><svg class=\"toyplot-canvas-Canvas\" height=\"150.0px\" id=\"tbae4214e8d424043bd98c28c405818b5\" preserveAspectRatio=\"xMidYMid meet\" style=\"background-color:transparent;fill:rgb(16.1%,15.3%,14.1%);fill-opacity:1.0;font-family:Helvetica;font-size:12px;opacity:1.0;stroke:rgb(16.1%,15.3%,14.1%);stroke-opacity:1.0;stroke-width:1.0\" viewBox=\"0 0 600.0 150.0\" width=\"600.0px\" xmlns=\"http://www.w3.org/2000/svg\" xmlns:toyplot=\"http://www.sandia.gov/toyplot\" xmlns:xlink=\"http://www.w3.org/1999/xlink\"><g class=\"toyplot-mark-Text\" id=\"t59cf9043a44d49ac8b191c275c04921f\" style=\"alignment-baseline:middle;font-size:32px;font-weight:normal;stroke:none;text-anchor:start\"><g class=\"toyplot-Series\"><text class=\"toyplot-Datum\" style=\"fill:rgb(16.1%,15.3%,14.1%);fill-opacity:1.0;font-weight:normal;opacity:1.0;stroke:none;text-anchor:start\" transform=\"translate(300.0,100.0)translate(0,9.0)\"><tspan style=\"font-size:32.0px\">foo </tspan><tspan style=\"font-size:32.0px;font-weight:bold\">bar </tspan><tspan style=\"font-size:32.0px;font-style:italic;font-weight:bold\">baz </tspan><tspan style=\"font-family:monospace;font-size:32.0px;font-style:italic;font-weight:bold\">blah</tspan></text></g></g></svg><div class=\"toyplot-interactive\"></div></div>"
      ]
     },
     "metadata": {},
     "output_type": "display_data"
    }
   ],
   "source": [
    "canvas = toyplot.Canvas(width=600, height=150)\n",
    "canvas.text(300, 100, \"foo <b>bar <i>baz <code>blah</code></i></b>\", style={\"text-anchor\":\"start\", \"font-size\":\"32px\"});"
   ]
  },
  {
   "cell_type": "markdown",
   "metadata": {},
   "source": [
    "Finally, you can insert line breaks into your text using the &lt;br/&gt; tag:"
   ]
  },
  {
   "cell_type": "code",
   "execution_count": 12,
   "metadata": {
    "collapsed": false
   },
   "outputs": [
    {
     "data": {
      "text/html": [
       "<div align=\"center\" class=\"toyplot\" id=\"td90a6c94a29343c8b60380cc2192cf9c\"><svg class=\"toyplot-canvas-Canvas\" height=\"200.0px\" id=\"t1466ab8729fc48ee8dc0ad396a3e4241\" preserveAspectRatio=\"xMidYMid meet\" style=\"background-color:transparent;fill:rgb(16.1%,15.3%,14.1%);fill-opacity:1.0;font-family:Helvetica;font-size:12px;opacity:1.0;stroke:rgb(16.1%,15.3%,14.1%);stroke-opacity:1.0;stroke-width:1.0\" viewBox=\"0 0 600.0 200.0\" width=\"600.0px\" xmlns=\"http://www.w3.org/2000/svg\" xmlns:toyplot=\"http://www.sandia.gov/toyplot\" xmlns:xlink=\"http://www.w3.org/1999/xlink\"><g class=\"toyplot-mark-Text\" id=\"tc095bd05fae24b26b0612e729699377d\" style=\"alignment-baseline:middle;font-size:16px;font-weight:normal;stroke:none;text-anchor:middle\"><g class=\"toyplot-Series\"><text class=\"toyplot-Datum\" style=\"fill:rgb(16.1%,15.3%,14.1%);fill-opacity:1.0;font-weight:normal;opacity:1.0;stroke:none;text-anchor:middle\" transform=\"translate(300.0,100.0)translate(0,4.5)\"><tspan style=\"font-size:16.0px\">0.567832</tspan><tspan dy=\"19.2\" style=\"font-size:12.8px\" x=\"0\">(243, 128, 19)</tspan></text></g></g></svg><div class=\"toyplot-interactive\"></div></div>"
      ]
     },
     "metadata": {},
     "output_type": "display_data"
    }
   ],
   "source": [
    "canvas = toyplot.Canvas(width=600, height=200)\n",
    "canvas.text(300, 100, \"0.567832<br/><small>(243, 128, 19)</small>\", style={\"font-size\":\"16px\"});"
   ]
  },
  {
   "cell_type": "code",
   "execution_count": 13,
   "metadata": {
    "collapsed": false
   },
   "outputs": [
    {
     "data": {
      "text/html": [
       "<div align=\"center\" class=\"toyplot\" id=\"t722941bd2ff646d88fdc424312355ccc\"><svg class=\"toyplot-canvas-Canvas\" height=\"200.0px\" id=\"tc4fe24d44fe543248461db2582b178ad\" preserveAspectRatio=\"xMidYMid meet\" style=\"background-color:transparent;fill:rgb(16.1%,15.3%,14.1%);fill-opacity:1.0;font-family:Helvetica;font-size:12px;opacity:1.0;stroke:rgb(16.1%,15.3%,14.1%);stroke-opacity:1.0;stroke-width:1.0\" viewBox=\"0 0 600.0 200.0\" width=\"600.0px\" xmlns=\"http://www.w3.org/2000/svg\" xmlns:toyplot=\"http://www.sandia.gov/toyplot\" xmlns:xlink=\"http://www.w3.org/1999/xlink\"><g class=\"toyplot-mark-Text\" id=\"t3bb59bf2369c49f9b7cffc757bbc4eb7\" style=\"alignment-baseline:middle;font-size:16px;font-weight:normal;stroke:none;text-anchor:start\"><g class=\"toyplot-Series\"><text class=\"toyplot-Datum\" style=\"fill:rgb(16.1%,15.3%,14.1%);fill-opacity:1.0;font-weight:normal;opacity:1.0;stroke:none;text-anchor:start\" transform=\"translate(300.0,100.0)translate(0,4.5)\"><tspan style=\"font-size:16.0px\">This is a </tspan><tspan style=\"fill:rgb(100%,0%,0%);fill-opacity:1.0;font-family:times;font-size:24.0px;font-weight:bold\">special</tspan><tspan style=\"font-size:16.0px\"> word.</tspan></text></g></g></svg><div class=\"toyplot-interactive\"></div></div>"
      ]
     },
     "metadata": {},
     "output_type": "display_data"
    }
   ],
   "source": [
    "canvas = toyplot.Canvas(width=600, height=200)\n",
    "canvas.text(300, 100, \"This is a <span style='fill:red;font-size:150%;font-weight:bold;font-family:times'>special</span> word.\", style={\"text-anchor\":\"start\", \"font-size\":\"16px\"});"
   ]
  },
  {
   "cell_type": "code",
   "execution_count": 14,
   "metadata": {
    "collapsed": false
   },
   "outputs": [],
   "source": [
    "import toyplot.pdf\n",
    "toyplot.pdf.render(canvas, \"test.pdf\")"
   ]
  },
  {
   "cell_type": "markdown",
   "metadata": {},
   "source": [
    "Note that additional tags and style attributes currently aren't allowed in rich-text.  We expect that the set of tags and attributes will expand in the future."
   ]
  },
  {
   "cell_type": "markdown",
   "metadata": {},
   "source": [
    "Keep in mind that you can use rich text formatting anywhere that text is displayed, including table cells, axis labels and tick labels.  You can also use rich text in format strings for tick locators - as an example, the :class:`toyplot.locator.Log` locator uses superscript tags to format tick labels for :ref:`log-scales`."
   ]
  },
  {
   "cell_type": "markdown",
   "metadata": {
    "collapsed": true
   },
   "source": [
    "## Coordinate System Text\n",
    "\n",
    "In addition to all the above, :ref:`cartesian-coordinates` and :ref:`numberline-coordinates` provide additional parameters that affect text layout and alignment.\n",
    "\n",
    "First, ticks and labels have a parameter `location` that controls whether they appear above or below an axis:"
   ]
  },
  {
   "cell_type": "code",
   "execution_count": 15,
   "metadata": {
    "collapsed": false
   },
   "outputs": [
    {
     "data": {
      "text/html": [
       "<div align=\"center\" class=\"toyplot\" id=\"t45759e3cfdd84fd8bd736f1449188a2b\"><svg class=\"toyplot-canvas-Canvas\" height=\"200.0px\" id=\"t6e1a7a91793046a5b54836fb67a2271e\" preserveAspectRatio=\"xMidYMid meet\" style=\"background-color:transparent;fill:rgb(16.1%,15.3%,14.1%);fill-opacity:1.0;font-family:Helvetica;font-size:12px;opacity:1.0;stroke:rgb(16.1%,15.3%,14.1%);stroke-opacity:1.0;stroke-width:1.0\" viewBox=\"0 0 600.0 200.0\" width=\"600.0px\" xmlns=\"http://www.w3.org/2000/svg\" xmlns:toyplot=\"http://www.sandia.gov/toyplot\" xmlns:xlink=\"http://www.w3.org/1999/xlink\"><g class=\"toyplot-coordinates-Numberline\" id=\"t78a167e096534005878c28b1a24bd8da\"><clipPath id=\"tb865bee99147450788a3b7352510fd6a\"><rect height=\"40.0\" width=\"500.0\" x=\"0\" y=\"-20.0\"></rect></clipPath><g clip-path=\"url(#tb865bee99147450788a3b7352510fd6a)\" transform=\"translate(50.0,50.0)\"></g><g class=\"toyplot-coordinates-Axis\" id=\"ta5ae898a08c8468eb2f9d8da32791955\" transform=\"translate(50.0,50.0)translate(0,20.0)\"><line style=\"\" x1=\"0\" x2=\"500.0\" y1=\"0\" y2=\"0\"></line><g><text style=\"font-weight:normal;stroke:none;text-anchor:middle\" transform=\"translate(0.0,-6)\"><tspan style=\"font-size:10.0px\">-0.5</tspan></text><text style=\"font-weight:normal;stroke:none;text-anchor:middle\" transform=\"translate(250.0,-6)\"><tspan style=\"font-size:10.0px\">0.0</tspan></text><text style=\"font-weight:normal;stroke:none;text-anchor:middle\" transform=\"translate(500.0,-6)\"><tspan style=\"font-size:10.0px\">0.5</tspan></text></g><g class=\"toyplot-coordinates-Axis-coordinates\" style=\"visibility:hidden\" transform=\"\"><line style=\"stroke:rgb(43.9%,50.2%,56.5%);stroke-opacity:1.0;stroke-width:1.0\" x1=\"0\" x2=\"0\" y1=\"3.0\" y2=\"-4.5\"></line><text style=\"alignment-baseline:hanging;fill:rgb(43.9%,50.2%,56.5%);fill-opacity:1.0;font-size:10px;font-weight:normal;stroke:none;text-anchor:middle\" x=\"0\" y=\"6\"></text></g></g></g><g class=\"toyplot-coordinates-Numberline\" id=\"t1337f87014b64fba89d1cb4d5402d980\"><clipPath id=\"t7353a7b3e545459888cc0af94cd74f70\"><rect height=\"40.0\" width=\"500.0\" x=\"0\" y=\"-20.0\"></rect></clipPath><g clip-path=\"url(#t7353a7b3e545459888cc0af94cd74f70)\" transform=\"translate(50.0,150.0)\"></g><g class=\"toyplot-coordinates-Axis\" id=\"t0dd0bca6821a49759be5cb4691ac0ee4\" transform=\"translate(50.0,150.0)translate(0,20.0)\"><line style=\"\" x1=\"0\" x2=\"500.0\" y1=\"0\" y2=\"0\"></line><g><text style=\"font-weight:normal;stroke:none;text-anchor:middle\" transform=\"translate(0.0,6)translate(0,7.5)\"><tspan style=\"font-size:10.0px\">-0.5</tspan></text><text style=\"font-weight:normal;stroke:none;text-anchor:middle\" transform=\"translate(250.0,6)translate(0,7.5)\"><tspan style=\"font-size:10.0px\">0.0</tspan></text><text style=\"font-weight:normal;stroke:none;text-anchor:middle\" transform=\"translate(500.0,6)translate(0,7.5)\"><tspan style=\"font-size:10.0px\">0.5</tspan></text></g><g class=\"toyplot-coordinates-Axis-coordinates\" style=\"visibility:hidden\" transform=\"\"><line style=\"stroke:rgb(43.9%,50.2%,56.5%);stroke-opacity:1.0;stroke-width:1.0\" x1=\"0\" x2=\"0\" y1=\"-3.0\" y2=\"4.5\"></line><text style=\"alignment-baseline:alphabetic;fill:rgb(43.9%,50.2%,56.5%);fill-opacity:1.0;font-size:10px;font-weight:normal;stroke:none;text-anchor:middle\" x=\"0\" y=\"-6\"></text></g></g></g></svg><div class=\"toyplot-interactive\"><script>\n",
       "        (function()\n",
       "        {\n",
       "            function _sign(x)\n",
       "            {\n",
       "                return x < 0 ? -1 : x > 0 ? 1 : 0;\n",
       "            }\n",
       "\n",
       "            function _mix(a, b, amount)\n",
       "            {\n",
       "                return ((1.0 - amount) * a) + (amount * b);\n",
       "            }\n",
       "\n",
       "            function _log(x, base)\n",
       "            {\n",
       "                return Math.log(Math.abs(x)) / Math.log(base);\n",
       "            }\n",
       "\n",
       "            function _in_range(a, x, b)\n",
       "            {\n",
       "                var left = Math.min(a, b);\n",
       "                var right = Math.max(a, b);\n",
       "                return left <= x && x <= right;\n",
       "            }\n",
       "\n",
       "            function inside(range, projection)\n",
       "            {\n",
       "                for(var i = 0; i != projection.length; ++i)\n",
       "                {\n",
       "                    var segment = projection[i];\n",
       "                    if(_in_range(segment.range.min, range, segment.range.max))\n",
       "                        return true;\n",
       "                }\n",
       "                return false;\n",
       "            }\n",
       "\n",
       "            function to_domain(range, projection)\n",
       "            {\n",
       "                for(var i = 0; i != projection.length; ++i)\n",
       "                {\n",
       "                    var segment = projection[i];\n",
       "                    if(_in_range(segment.range.bounds.min, range, segment.range.bounds.max))\n",
       "                    {\n",
       "                        if(segment.scale == \"linear\")\n",
       "                        {\n",
       "                            var amount = (range - segment.range.min) / (segment.range.max - segment.range.min);\n",
       "                            return _mix(segment.domain.min, segment.domain.max, amount)\n",
       "                        }\n",
       "                        else if(segment.scale[0] == \"log\")\n",
       "                        {\n",
       "                            var amount = (range - segment.range.min) / (segment.range.max - segment.range.min);\n",
       "                            var base = segment.scale[1];\n",
       "                            return _sign(segment.domain.min) * Math.pow(base, _mix(_log(segment.domain.min, base), _log(segment.domain.max, base), amount));\n",
       "                        }\n",
       "                    }\n",
       "                }\n",
       "            }\n",
       "\n",
       "            function display_coordinates(e)\n",
       "            {\n",
       "                var current = svg.createSVGPoint();\n",
       "                current.x = e.clientX;\n",
       "                current.y = e.clientY;\n",
       "\n",
       "                for(var axis_id in axes)\n",
       "                {\n",
       "                    var axis = document.querySelector(\"#\" + axis_id);\n",
       "                    var coordinates = axis.querySelector(\".toyplot-coordinates-Axis-coordinates\");\n",
       "                    if(coordinates)\n",
       "                    {\n",
       "                        var projection = axes[axis_id];\n",
       "                        var local = current.matrixTransform(axis.getScreenCTM().inverse());\n",
       "                        if(inside(local.x, projection))\n",
       "                        {\n",
       "                            var domain = to_domain(local.x, projection);\n",
       "                            coordinates.style.visibility = \"visible\";\n",
       "                            coordinates.setAttribute(\"transform\", \"translate(\" + local.x + \")\");\n",
       "                            var text = coordinates.querySelector(\"text\");\n",
       "                            text.textContent = domain.toFixed(2);\n",
       "                        }\n",
       "                        else\n",
       "                        {\n",
       "                            coordinates.style.visibility= \"hidden\";\n",
       "                        }\n",
       "                    }\n",
       "                }\n",
       "            }\n",
       "\n",
       "            var root_id = \"t45759e3cfdd84fd8bd736f1449188a2b\";\n",
       "            var axes = {\"t0dd0bca6821a49759be5cb4691ac0ee4\": [{\"domain\": {\"bounds\": {\"max\": Infinity, \"min\": -Infinity}, \"max\": 0.5, \"min\": -0.5}, \"range\": {\"bounds\": {\"max\": Infinity, \"min\": -Infinity}, \"max\": 500.0, \"min\": 0.0}, \"scale\": \"linear\"}], \"ta5ae898a08c8468eb2f9d8da32791955\": [{\"domain\": {\"bounds\": {\"max\": Infinity, \"min\": -Infinity}, \"max\": 0.5, \"min\": -0.5}, \"range\": {\"bounds\": {\"max\": Infinity, \"min\": -Infinity}, \"max\": 500.0, \"min\": 0.0}, \"scale\": \"linear\"}]};\n",
       "\n",
       "            var svg = document.querySelector(\"#\" + root_id + \" svg\");\n",
       "            svg.addEventListener(\"click\", display_coordinates);\n",
       "        })();\n",
       "        </script></div></div>"
      ]
     },
     "metadata": {},
     "output_type": "display_data"
    }
   ],
   "source": [
    "canvas = toyplot.Canvas(width=600, height=200)\n",
    "\n",
    "numberline1 = canvas.numberline(grid=(2, 1, 0))\n",
    "numberline1.axis.ticks.location=\"above\"\n",
    "\n",
    "numberline2 = canvas.numberline(grid=(2, 1, 1))\n",
    "numberline2.axis.ticks.location=\"below\""
   ]
  },
  {
   "cell_type": "markdown",
   "metadata": {},
   "source": [
    "Note that although the location can be specified explicitly, in most cases the defaults should just work ... note how the location of the Y axis ticks and labels automatically changes from \"above\" to \"below\" when the Y axis spine is repositioned in the following example:"
   ]
  },
  {
   "cell_type": "code",
   "execution_count": 16,
   "metadata": {
    "collapsed": false
   },
   "outputs": [
    {
     "data": {
      "text/html": [
       "<div align=\"center\" class=\"toyplot\" id=\"t9aaffd5d7c16480e81fdd516e095ffb1\"><svg class=\"toyplot-canvas-Canvas\" height=\"300.0px\" id=\"t7372299aa8444cfd86595e69e6ee4bae\" preserveAspectRatio=\"xMidYMid meet\" style=\"background-color:transparent;fill:rgb(16.1%,15.3%,14.1%);fill-opacity:1.0;font-family:Helvetica;font-size:12px;opacity:1.0;stroke:rgb(16.1%,15.3%,14.1%);stroke-opacity:1.0;stroke-width:1.0\" viewBox=\"0 0 600.0 300.0\" width=\"600.0px\" xmlns=\"http://www.w3.org/2000/svg\" xmlns:toyplot=\"http://www.sandia.gov/toyplot\" xmlns:xlink=\"http://www.w3.org/1999/xlink\"><g class=\"toyplot-coordinates-Cartesian\" id=\"t3171777104eb421f9c59028f47dd0694\"><clipPath id=\"t8f35e3644f314cd2ab2e59eac40e7be1\"><rect height=\"220.0\" width=\"220.0\" x=\"40.0\" y=\"40.0\"></rect></clipPath><g clip-path=\"url(#t8f35e3644f314cd2ab2e59eac40e7be1)\"></g><g class=\"toyplot-coordinates-Axis\" id=\"ta334374cbb89494fade594d600dd8fa0\" transform=\"translate(50.0,250.0)translate(0,10.0)\"><line style=\"\" x1=\"0\" x2=\"200.0\" y1=\"0\" y2=\"0\"></line><g><text style=\"font-weight:normal;stroke:none;text-anchor:middle\" transform=\"translate(0.0,6)translate(0,7.5)\"><tspan style=\"font-size:10.0px\">-0.5</tspan></text><text style=\"font-weight:normal;stroke:none;text-anchor:middle\" transform=\"translate(100.0,6)translate(0,7.5)\"><tspan style=\"font-size:10.0px\">0.0</tspan></text><text style=\"font-weight:normal;stroke:none;text-anchor:middle\" transform=\"translate(200.0,6)translate(0,7.5)\"><tspan style=\"font-size:10.0px\">0.5</tspan></text></g><g class=\"toyplot-coordinates-Axis-coordinates\" style=\"visibility:hidden\" transform=\"\"><line style=\"stroke:rgb(43.9%,50.2%,56.5%);stroke-opacity:1.0;stroke-width:1.0\" x1=\"0\" x2=\"0\" y1=\"-3.0\" y2=\"4.5\"></line><text style=\"alignment-baseline:alphabetic;fill:rgb(43.9%,50.2%,56.5%);fill-opacity:1.0;font-size:10px;font-weight:normal;stroke:none;text-anchor:middle\" x=\"0\" y=\"-6\"></text></g></g><g class=\"toyplot-coordinates-Axis\" id=\"td665a500f43046fba56776a7e063a32e\" transform=\"translate(50.0,250.0)rotate(-90.0)translate(0,-10.0)\"><line style=\"\" x1=\"0\" x2=\"200.0\" y1=\"0\" y2=\"0\"></line><g><text style=\"font-weight:normal;stroke:none;text-anchor:middle\" transform=\"translate(0.0,-6)\"><tspan style=\"font-size:10.0px\">-0.5</tspan></text><text style=\"font-weight:normal;stroke:none;text-anchor:middle\" transform=\"translate(100.0,-6)\"><tspan style=\"font-size:10.0px\">0.0</tspan></text><text style=\"font-weight:normal;stroke:none;text-anchor:middle\" transform=\"translate(200.0,-6)\"><tspan style=\"font-size:10.0px\">0.5</tspan></text></g><g class=\"toyplot-coordinates-Axis-coordinates\" style=\"visibility:hidden\" transform=\"\"><line style=\"stroke:rgb(43.9%,50.2%,56.5%);stroke-opacity:1.0;stroke-width:1.0\" x1=\"0\" x2=\"0\" y1=\"3.0\" y2=\"-4.5\"></line><text style=\"alignment-baseline:hanging;fill:rgb(43.9%,50.2%,56.5%);fill-opacity:1.0;font-size:10px;font-weight:normal;stroke:none;text-anchor:middle\" x=\"0\" y=\"6\"></text></g></g></g><g class=\"toyplot-coordinates-Cartesian\" id=\"t27591dc8032f4b6486efac815bbb9763\"><clipPath id=\"t6dad42405aa04430bb7478b1209dea18\"><rect height=\"220.0\" width=\"220.0\" x=\"340.0\" y=\"40.0\"></rect></clipPath><g clip-path=\"url(#t6dad42405aa04430bb7478b1209dea18)\"></g><g class=\"toyplot-coordinates-Axis\" id=\"t73a2a3432e9d4535ac43504940a7f3ea\" transform=\"translate(350.0,250.0)translate(0,10.0)\"><line style=\"\" x1=\"0\" x2=\"200.0\" y1=\"0\" y2=\"0\"></line><g><text style=\"font-weight:normal;stroke:none;text-anchor:middle\" transform=\"translate(0.0,6)translate(0,7.5)\"><tspan style=\"font-size:10.0px\">-0.5</tspan></text><text style=\"font-weight:normal;stroke:none;text-anchor:middle\" transform=\"translate(100.0,6)translate(0,7.5)\"><tspan style=\"font-size:10.0px\">0.0</tspan></text><text style=\"font-weight:normal;stroke:none;text-anchor:middle\" transform=\"translate(200.0,6)translate(0,7.5)\"><tspan style=\"font-size:10.0px\">0.5</tspan></text></g><g class=\"toyplot-coordinates-Axis-coordinates\" style=\"visibility:hidden\" transform=\"\"><line style=\"stroke:rgb(43.9%,50.2%,56.5%);stroke-opacity:1.0;stroke-width:1.0\" x1=\"0\" x2=\"0\" y1=\"-3.0\" y2=\"4.5\"></line><text style=\"alignment-baseline:alphabetic;fill:rgb(43.9%,50.2%,56.5%);fill-opacity:1.0;font-size:10px;font-weight:normal;stroke:none;text-anchor:middle\" x=\"0\" y=\"-6\"></text></g></g><g class=\"toyplot-coordinates-Axis\" id=\"t71c940628de24da2a931a90b64cddcc9\" transform=\"translate(550.0,250.0)rotate(-90.0)translate(0,10.0)\"><line style=\"\" x1=\"0\" x2=\"200.0\" y1=\"0\" y2=\"0\"></line><g><text style=\"font-weight:normal;stroke:none;text-anchor:middle\" transform=\"translate(0.0,6)translate(0,7.5)\"><tspan style=\"font-size:10.0px\">-0.5</tspan></text><text style=\"font-weight:normal;stroke:none;text-anchor:middle\" transform=\"translate(100.0,6)translate(0,7.5)\"><tspan style=\"font-size:10.0px\">0.0</tspan></text><text style=\"font-weight:normal;stroke:none;text-anchor:middle\" transform=\"translate(200.0,6)translate(0,7.5)\"><tspan style=\"font-size:10.0px\">0.5</tspan></text></g><g class=\"toyplot-coordinates-Axis-coordinates\" style=\"visibility:hidden\" transform=\"\"><line style=\"stroke:rgb(43.9%,50.2%,56.5%);stroke-opacity:1.0;stroke-width:1.0\" x1=\"0\" x2=\"0\" y1=\"-3.0\" y2=\"4.5\"></line><text style=\"alignment-baseline:alphabetic;fill:rgb(43.9%,50.2%,56.5%);fill-opacity:1.0;font-size:10px;font-weight:normal;stroke:none;text-anchor:middle\" x=\"0\" y=\"-6\"></text></g></g></g></svg><div class=\"toyplot-interactive\"><script>\n",
       "        (function()\n",
       "        {\n",
       "            function _sign(x)\n",
       "            {\n",
       "                return x < 0 ? -1 : x > 0 ? 1 : 0;\n",
       "            }\n",
       "\n",
       "            function _mix(a, b, amount)\n",
       "            {\n",
       "                return ((1.0 - amount) * a) + (amount * b);\n",
       "            }\n",
       "\n",
       "            function _log(x, base)\n",
       "            {\n",
       "                return Math.log(Math.abs(x)) / Math.log(base);\n",
       "            }\n",
       "\n",
       "            function _in_range(a, x, b)\n",
       "            {\n",
       "                var left = Math.min(a, b);\n",
       "                var right = Math.max(a, b);\n",
       "                return left <= x && x <= right;\n",
       "            }\n",
       "\n",
       "            function inside(range, projection)\n",
       "            {\n",
       "                for(var i = 0; i != projection.length; ++i)\n",
       "                {\n",
       "                    var segment = projection[i];\n",
       "                    if(_in_range(segment.range.min, range, segment.range.max))\n",
       "                        return true;\n",
       "                }\n",
       "                return false;\n",
       "            }\n",
       "\n",
       "            function to_domain(range, projection)\n",
       "            {\n",
       "                for(var i = 0; i != projection.length; ++i)\n",
       "                {\n",
       "                    var segment = projection[i];\n",
       "                    if(_in_range(segment.range.bounds.min, range, segment.range.bounds.max))\n",
       "                    {\n",
       "                        if(segment.scale == \"linear\")\n",
       "                        {\n",
       "                            var amount = (range - segment.range.min) / (segment.range.max - segment.range.min);\n",
       "                            return _mix(segment.domain.min, segment.domain.max, amount)\n",
       "                        }\n",
       "                        else if(segment.scale[0] == \"log\")\n",
       "                        {\n",
       "                            var amount = (range - segment.range.min) / (segment.range.max - segment.range.min);\n",
       "                            var base = segment.scale[1];\n",
       "                            return _sign(segment.domain.min) * Math.pow(base, _mix(_log(segment.domain.min, base), _log(segment.domain.max, base), amount));\n",
       "                        }\n",
       "                    }\n",
       "                }\n",
       "            }\n",
       "\n",
       "            function display_coordinates(e)\n",
       "            {\n",
       "                var current = svg.createSVGPoint();\n",
       "                current.x = e.clientX;\n",
       "                current.y = e.clientY;\n",
       "\n",
       "                for(var axis_id in axes)\n",
       "                {\n",
       "                    var axis = document.querySelector(\"#\" + axis_id);\n",
       "                    var coordinates = axis.querySelector(\".toyplot-coordinates-Axis-coordinates\");\n",
       "                    if(coordinates)\n",
       "                    {\n",
       "                        var projection = axes[axis_id];\n",
       "                        var local = current.matrixTransform(axis.getScreenCTM().inverse());\n",
       "                        if(inside(local.x, projection))\n",
       "                        {\n",
       "                            var domain = to_domain(local.x, projection);\n",
       "                            coordinates.style.visibility = \"visible\";\n",
       "                            coordinates.setAttribute(\"transform\", \"translate(\" + local.x + \")\");\n",
       "                            var text = coordinates.querySelector(\"text\");\n",
       "                            text.textContent = domain.toFixed(2);\n",
       "                        }\n",
       "                        else\n",
       "                        {\n",
       "                            coordinates.style.visibility= \"hidden\";\n",
       "                        }\n",
       "                    }\n",
       "                }\n",
       "            }\n",
       "\n",
       "            var root_id = \"t9aaffd5d7c16480e81fdd516e095ffb1\";\n",
       "            var axes = {\"t71c940628de24da2a931a90b64cddcc9\": [{\"domain\": {\"bounds\": {\"max\": Infinity, \"min\": -Infinity}, \"max\": 0.5, \"min\": -0.5}, \"range\": {\"bounds\": {\"max\": Infinity, \"min\": -Infinity}, \"max\": 200.0, \"min\": 0.0}, \"scale\": \"linear\"}], \"t73a2a3432e9d4535ac43504940a7f3ea\": [{\"domain\": {\"bounds\": {\"max\": Infinity, \"min\": -Infinity}, \"max\": 0.5, \"min\": -0.5}, \"range\": {\"bounds\": {\"max\": Infinity, \"min\": -Infinity}, \"max\": 200.0, \"min\": 0.0}, \"scale\": \"linear\"}], \"ta334374cbb89494fade594d600dd8fa0\": [{\"domain\": {\"bounds\": {\"max\": Infinity, \"min\": -Infinity}, \"max\": 0.5, \"min\": -0.5}, \"range\": {\"bounds\": {\"max\": Infinity, \"min\": -Infinity}, \"max\": 200.0, \"min\": 0.0}, \"scale\": \"linear\"}], \"td665a500f43046fba56776a7e063a32e\": [{\"domain\": {\"bounds\": {\"max\": Infinity, \"min\": -Infinity}, \"max\": 0.5, \"min\": -0.5}, \"range\": {\"bounds\": {\"max\": Infinity, \"min\": -Infinity}, \"max\": 200.0, \"min\": 0.0}, \"scale\": \"linear\"}]};\n",
       "\n",
       "            var svg = document.querySelector(\"#\" + root_id + \" svg\");\n",
       "            svg.addEventListener(\"click\", display_coordinates);\n",
       "        })();\n",
       "        </script></div></div>"
      ]
     },
     "metadata": {},
     "output_type": "display_data"
    }
   ],
   "source": [
    "canvas = toyplot.Canvas(width=600, height=300)\n",
    "\n",
    "axis1 = canvas.cartesian(grid=(1, 2, 0))\n",
    "\n",
    "axis2 = canvas.cartesian(grid=(1, 2, 1))\n",
    "axis2.y.spine.position=\"high\""
   ]
  },
  {
   "cell_type": "markdown",
   "metadata": {},
   "source": [
    "In addition to positioning tick labels above or below an axis, you can also adjust their `offset` - the distance from the axis spine to the text anchor.  The `offset` parameter is specified so that increasing values move text further from the axis, whether its location is above or below - in the following example, note that both offsets are positive:  "
   ]
  },
  {
   "cell_type": "code",
   "execution_count": 17,
   "metadata": {
    "collapsed": false
   },
   "outputs": [
    {
     "data": {
      "text/html": [
       "<div align=\"center\" class=\"toyplot\" id=\"t3b89c1d75d7246aa807e26513f8db0e2\"><svg class=\"toyplot-canvas-Canvas\" height=\"300.0px\" id=\"tc030cdbc28f64941bd1acbee44f604f4\" preserveAspectRatio=\"xMidYMid meet\" style=\"background-color:transparent;fill:rgb(16.1%,15.3%,14.1%);fill-opacity:1.0;font-family:Helvetica;font-size:12px;opacity:1.0;stroke:rgb(16.1%,15.3%,14.1%);stroke-opacity:1.0;stroke-width:1.0\" viewBox=\"0 0 600.0 300.0\" width=\"600.0px\" xmlns=\"http://www.w3.org/2000/svg\" xmlns:toyplot=\"http://www.sandia.gov/toyplot\" xmlns:xlink=\"http://www.w3.org/1999/xlink\"><g class=\"toyplot-coordinates-Cartesian\" id=\"td00f28dc15a3416e908fd6b766d62d8a\"><clipPath id=\"t82ff7cd9a2224c2789f2b8d9a81d3041\"><rect height=\"220.0\" width=\"220.0\" x=\"40.0\" y=\"40.0\"></rect></clipPath><g clip-path=\"url(#t82ff7cd9a2224c2789f2b8d9a81d3041)\"></g><g class=\"toyplot-coordinates-Axis\" id=\"t044cdf8bcc4348d980baf11818e11bd8\" transform=\"translate(50.0,250.0)translate(0,10.0)\"><line style=\"\" x1=\"0\" x2=\"200.0\" y1=\"0\" y2=\"0\"></line><g><text style=\"font-weight:normal;stroke:none;text-anchor:middle\" transform=\"translate(0.0,6)translate(0,7.5)\"><tspan style=\"font-size:10.0px\">-0.5</tspan></text><text style=\"font-weight:normal;stroke:none;text-anchor:middle\" transform=\"translate(100.0,6)translate(0,7.5)\"><tspan style=\"font-size:10.0px\">0.0</tspan></text><text style=\"font-weight:normal;stroke:none;text-anchor:middle\" transform=\"translate(200.0,6)translate(0,7.5)\"><tspan style=\"font-size:10.0px\">0.5</tspan></text></g><g class=\"toyplot-coordinates-Axis-coordinates\" style=\"visibility:hidden\" transform=\"\"><line style=\"stroke:rgb(43.9%,50.2%,56.5%);stroke-opacity:1.0;stroke-width:1.0\" x1=\"0\" x2=\"0\" y1=\"-3.0\" y2=\"4.5\"></line><text style=\"alignment-baseline:alphabetic;fill:rgb(43.9%,50.2%,56.5%);fill-opacity:1.0;font-size:10px;font-weight:normal;stroke:none;text-anchor:middle\" x=\"0\" y=\"-6\"></text></g></g><g class=\"toyplot-coordinates-Axis\" id=\"tc90dc55b59ff48ac9abe20ed63522008\" transform=\"translate(50.0,250.0)rotate(-90.0)translate(0,-10.0)\"><line style=\"\" x1=\"0\" x2=\"200.0\" y1=\"0\" y2=\"0\"></line><g><text style=\"font-weight:normal;stroke:none;text-anchor:middle\" transform=\"translate(0.0,-30.0)\"><tspan style=\"font-size:10.0px\">-0.5</tspan></text><text style=\"font-weight:normal;stroke:none;text-anchor:middle\" transform=\"translate(100.0,-30.0)\"><tspan style=\"font-size:10.0px\">0.0</tspan></text><text style=\"font-weight:normal;stroke:none;text-anchor:middle\" transform=\"translate(200.0,-30.0)\"><tspan style=\"font-size:10.0px\">0.5</tspan></text></g><g class=\"toyplot-coordinates-Axis-coordinates\" style=\"visibility:hidden\" transform=\"\"><line style=\"stroke:rgb(43.9%,50.2%,56.5%);stroke-opacity:1.0;stroke-width:1.0\" x1=\"0\" x2=\"0\" y1=\"15.0\" y2=\"-22.5\"></line><text style=\"alignment-baseline:hanging;fill:rgb(43.9%,50.2%,56.5%);fill-opacity:1.0;font-size:10px;font-weight:normal;stroke:none;text-anchor:middle\" x=\"0\" y=\"30.0\"></text></g></g></g><g class=\"toyplot-coordinates-Cartesian\" id=\"t22e4dacee7a746c2aa996ec36d0963d6\"><clipPath id=\"t19bf8bba72ff4071b49bcf037ae6e804\"><rect height=\"220.0\" width=\"220.0\" x=\"340.0\" y=\"40.0\"></rect></clipPath><g clip-path=\"url(#t19bf8bba72ff4071b49bcf037ae6e804)\"></g><g class=\"toyplot-coordinates-Axis\" id=\"t8691602066b34625893c602a61698a39\" transform=\"translate(350.0,250.0)translate(0,10.0)\"><line style=\"\" x1=\"0\" x2=\"200.0\" y1=\"0\" y2=\"0\"></line><g><text style=\"font-weight:normal;stroke:none;text-anchor:middle\" transform=\"translate(0.0,6)translate(0,7.5)\"><tspan style=\"font-size:10.0px\">-0.5</tspan></text><text style=\"font-weight:normal;stroke:none;text-anchor:middle\" transform=\"translate(100.0,6)translate(0,7.5)\"><tspan style=\"font-size:10.0px\">0.0</tspan></text><text style=\"font-weight:normal;stroke:none;text-anchor:middle\" transform=\"translate(200.0,6)translate(0,7.5)\"><tspan style=\"font-size:10.0px\">0.5</tspan></text></g><g class=\"toyplot-coordinates-Axis-coordinates\" style=\"visibility:hidden\" transform=\"\"><line style=\"stroke:rgb(43.9%,50.2%,56.5%);stroke-opacity:1.0;stroke-width:1.0\" x1=\"0\" x2=\"0\" y1=\"-3.0\" y2=\"4.5\"></line><text style=\"alignment-baseline:alphabetic;fill:rgb(43.9%,50.2%,56.5%);fill-opacity:1.0;font-size:10px;font-weight:normal;stroke:none;text-anchor:middle\" x=\"0\" y=\"-6\"></text></g></g><g class=\"toyplot-coordinates-Axis\" id=\"ta93fa98c7b7f44c0b62ea93a3b47ef40\" transform=\"translate(550.0,250.0)rotate(-90.0)translate(0,10.0)\"><line style=\"\" x1=\"0\" x2=\"200.0\" y1=\"0\" y2=\"0\"></line><g><text style=\"font-weight:normal;stroke:none;text-anchor:middle\" transform=\"translate(0.0,30.0)translate(0,7.5)\"><tspan style=\"font-size:10.0px\">-0.5</tspan></text><text style=\"font-weight:normal;stroke:none;text-anchor:middle\" transform=\"translate(100.0,30.0)translate(0,7.5)\"><tspan style=\"font-size:10.0px\">0.0</tspan></text><text style=\"font-weight:normal;stroke:none;text-anchor:middle\" transform=\"translate(200.0,30.0)translate(0,7.5)\"><tspan style=\"font-size:10.0px\">0.5</tspan></text></g><g class=\"toyplot-coordinates-Axis-coordinates\" style=\"visibility:hidden\" transform=\"\"><line style=\"stroke:rgb(43.9%,50.2%,56.5%);stroke-opacity:1.0;stroke-width:1.0\" x1=\"0\" x2=\"0\" y1=\"-15.0\" y2=\"22.5\"></line><text style=\"alignment-baseline:alphabetic;fill:rgb(43.9%,50.2%,56.5%);fill-opacity:1.0;font-size:10px;font-weight:normal;stroke:none;text-anchor:middle\" x=\"0\" y=\"-30.0\"></text></g></g></g></svg><div class=\"toyplot-interactive\"><script>\n",
       "        (function()\n",
       "        {\n",
       "            function _sign(x)\n",
       "            {\n",
       "                return x < 0 ? -1 : x > 0 ? 1 : 0;\n",
       "            }\n",
       "\n",
       "            function _mix(a, b, amount)\n",
       "            {\n",
       "                return ((1.0 - amount) * a) + (amount * b);\n",
       "            }\n",
       "\n",
       "            function _log(x, base)\n",
       "            {\n",
       "                return Math.log(Math.abs(x)) / Math.log(base);\n",
       "            }\n",
       "\n",
       "            function _in_range(a, x, b)\n",
       "            {\n",
       "                var left = Math.min(a, b);\n",
       "                var right = Math.max(a, b);\n",
       "                return left <= x && x <= right;\n",
       "            }\n",
       "\n",
       "            function inside(range, projection)\n",
       "            {\n",
       "                for(var i = 0; i != projection.length; ++i)\n",
       "                {\n",
       "                    var segment = projection[i];\n",
       "                    if(_in_range(segment.range.min, range, segment.range.max))\n",
       "                        return true;\n",
       "                }\n",
       "                return false;\n",
       "            }\n",
       "\n",
       "            function to_domain(range, projection)\n",
       "            {\n",
       "                for(var i = 0; i != projection.length; ++i)\n",
       "                {\n",
       "                    var segment = projection[i];\n",
       "                    if(_in_range(segment.range.bounds.min, range, segment.range.bounds.max))\n",
       "                    {\n",
       "                        if(segment.scale == \"linear\")\n",
       "                        {\n",
       "                            var amount = (range - segment.range.min) / (segment.range.max - segment.range.min);\n",
       "                            return _mix(segment.domain.min, segment.domain.max, amount)\n",
       "                        }\n",
       "                        else if(segment.scale[0] == \"log\")\n",
       "                        {\n",
       "                            var amount = (range - segment.range.min) / (segment.range.max - segment.range.min);\n",
       "                            var base = segment.scale[1];\n",
       "                            return _sign(segment.domain.min) * Math.pow(base, _mix(_log(segment.domain.min, base), _log(segment.domain.max, base), amount));\n",
       "                        }\n",
       "                    }\n",
       "                }\n",
       "            }\n",
       "\n",
       "            function display_coordinates(e)\n",
       "            {\n",
       "                var current = svg.createSVGPoint();\n",
       "                current.x = e.clientX;\n",
       "                current.y = e.clientY;\n",
       "\n",
       "                for(var axis_id in axes)\n",
       "                {\n",
       "                    var axis = document.querySelector(\"#\" + axis_id);\n",
       "                    var coordinates = axis.querySelector(\".toyplot-coordinates-Axis-coordinates\");\n",
       "                    if(coordinates)\n",
       "                    {\n",
       "                        var projection = axes[axis_id];\n",
       "                        var local = current.matrixTransform(axis.getScreenCTM().inverse());\n",
       "                        if(inside(local.x, projection))\n",
       "                        {\n",
       "                            var domain = to_domain(local.x, projection);\n",
       "                            coordinates.style.visibility = \"visible\";\n",
       "                            coordinates.setAttribute(\"transform\", \"translate(\" + local.x + \")\");\n",
       "                            var text = coordinates.querySelector(\"text\");\n",
       "                            text.textContent = domain.toFixed(2);\n",
       "                        }\n",
       "                        else\n",
       "                        {\n",
       "                            coordinates.style.visibility= \"hidden\";\n",
       "                        }\n",
       "                    }\n",
       "                }\n",
       "            }\n",
       "\n",
       "            var root_id = \"t3b89c1d75d7246aa807e26513f8db0e2\";\n",
       "            var axes = {\"t044cdf8bcc4348d980baf11818e11bd8\": [{\"domain\": {\"bounds\": {\"max\": Infinity, \"min\": -Infinity}, \"max\": 0.5, \"min\": -0.5}, \"range\": {\"bounds\": {\"max\": Infinity, \"min\": -Infinity}, \"max\": 200.0, \"min\": 0.0}, \"scale\": \"linear\"}], \"t8691602066b34625893c602a61698a39\": [{\"domain\": {\"bounds\": {\"max\": Infinity, \"min\": -Infinity}, \"max\": 0.5, \"min\": -0.5}, \"range\": {\"bounds\": {\"max\": Infinity, \"min\": -Infinity}, \"max\": 200.0, \"min\": 0.0}, \"scale\": \"linear\"}], \"ta93fa98c7b7f44c0b62ea93a3b47ef40\": [{\"domain\": {\"bounds\": {\"max\": Infinity, \"min\": -Infinity}, \"max\": 0.5, \"min\": -0.5}, \"range\": {\"bounds\": {\"max\": Infinity, \"min\": -Infinity}, \"max\": 200.0, \"min\": 0.0}, \"scale\": \"linear\"}], \"tc90dc55b59ff48ac9abe20ed63522008\": [{\"domain\": {\"bounds\": {\"max\": Infinity, \"min\": -Infinity}, \"max\": 0.5, \"min\": -0.5}, \"range\": {\"bounds\": {\"max\": Infinity, \"min\": -Infinity}, \"max\": 200.0, \"min\": 0.0}, \"scale\": \"linear\"}]};\n",
       "\n",
       "            var svg = document.querySelector(\"#\" + root_id + \" svg\");\n",
       "            svg.addEventListener(\"click\", display_coordinates);\n",
       "        })();\n",
       "        </script></div></div>"
      ]
     },
     "metadata": {},
     "output_type": "display_data"
    }
   ],
   "source": [
    "canvas = toyplot.Canvas(width=600, height=300)\n",
    "\n",
    "axis1 = canvas.cartesian(grid=(1, 2, 0))\n",
    "axis1.y.ticks.labels.offset=30\n",
    "\n",
    "axis2 = canvas.cartesian(grid=(1, 2, 1))\n",
    "axis2.y.spine.position=\"high\"\n",
    "axis2.y.ticks.labels.offset=30"
   ]
  },
  {
   "cell_type": "markdown",
   "metadata": {},
   "source": [
    "The default text alignment parameters have been carefully chosen to provide good quality layout even if you change the label font size, and regardless of label location:"
   ]
  },
  {
   "cell_type": "code",
   "execution_count": 18,
   "metadata": {
    "collapsed": false
   },
   "outputs": [
    {
     "data": {
      "text/html": [
       "<div align=\"center\" class=\"toyplot\" id=\"t10042670ed33409d9cce53b9f9dca8d3\"><svg class=\"toyplot-canvas-Canvas\" height=\"400.0px\" id=\"teae7bb00671e4ef0b41e711463f6436d\" preserveAspectRatio=\"xMidYMid meet\" style=\"background-color:transparent;fill:rgb(16.1%,15.3%,14.1%);fill-opacity:1.0;font-family:Helvetica;font-size:12px;opacity:1.0;stroke:rgb(16.1%,15.3%,14.1%);stroke-opacity:1.0;stroke-width:1.0\" viewBox=\"0 0 600.0 400.0\" width=\"600.0px\" xmlns=\"http://www.w3.org/2000/svg\" xmlns:toyplot=\"http://www.sandia.gov/toyplot\" xmlns:xlink=\"http://www.w3.org/1999/xlink\"><g class=\"toyplot-coordinates-Numberline\" id=\"tf53fd9e36db9410fb44b11e1cf6fcdf8\"><clipPath id=\"t1c16b0ac74e14d6abb7fcbe354f07fc2\"><rect height=\"40.0\" width=\"500.0\" x=\"0\" y=\"-20.0\"></rect></clipPath><g clip-path=\"url(#t1c16b0ac74e14d6abb7fcbe354f07fc2)\" transform=\"translate(50.0,50.0)\"></g><g class=\"toyplot-coordinates-Axis\" id=\"t2c8d2c86a9f34306b675d23cb55f734c\" transform=\"translate(50.0,50.0)translate(0,20.0)\"><line style=\"\" x1=\"0\" x2=\"500.0\" y1=\"0\" y2=\"0\"></line><g><text style=\"font-weight:normal;stroke:none;text-anchor:middle\" transform=\"translate(0.0,-6)\"><tspan style=\"font-size:10.0px\">-0.5</tspan></text><text style=\"font-weight:normal;stroke:none;text-anchor:middle\" transform=\"translate(250.0,-6)\"><tspan style=\"font-size:10.0px\">0.0</tspan></text><text style=\"font-weight:normal;stroke:none;text-anchor:middle\" transform=\"translate(500.0,-6)\"><tspan style=\"font-size:10.0px\">0.5</tspan></text></g><g class=\"toyplot-coordinates-Axis-coordinates\" style=\"visibility:hidden\" transform=\"\"><line style=\"stroke:rgb(43.9%,50.2%,56.5%);stroke-opacity:1.0;stroke-width:1.0\" x1=\"0\" x2=\"0\" y1=\"3.0\" y2=\"-4.5\"></line><text style=\"alignment-baseline:hanging;fill:rgb(43.9%,50.2%,56.5%);fill-opacity:1.0;font-size:10px;font-weight:normal;stroke:none;text-anchor:middle\" x=\"0\" y=\"6\"></text></g></g></g><g class=\"toyplot-coordinates-Numberline\" id=\"tcd88d2e09b374e82af95531372c34d4f\"><clipPath id=\"tf91e625103c041fc9796f6b9b203edda\"><rect height=\"40.0\" width=\"500.0\" x=\"0\" y=\"-20.0\"></rect></clipPath><g clip-path=\"url(#tf91e625103c041fc9796f6b9b203edda)\" transform=\"translate(50.0,150.0)\"></g><g class=\"toyplot-coordinates-Axis\" id=\"ta4a2c62724964d8595d7e88ceb569826\" transform=\"translate(50.0,150.0)translate(0,20.0)\"><line style=\"\" x1=\"0\" x2=\"500.0\" y1=\"0\" y2=\"0\"></line><g><text style=\"font-weight:normal;stroke:none;text-anchor:middle\" transform=\"translate(0.0,-6)\"><tspan style=\"font-size:16.0px\">-0.5</tspan></text><text style=\"font-weight:normal;stroke:none;text-anchor:middle\" transform=\"translate(250.0,-6)\"><tspan style=\"font-size:16.0px\">0.0</tspan></text><text style=\"font-weight:normal;stroke:none;text-anchor:middle\" transform=\"translate(500.0,-6)\"><tspan style=\"font-size:16.0px\">0.5</tspan></text></g><g class=\"toyplot-coordinates-Axis-coordinates\" style=\"visibility:hidden\" transform=\"\"><line style=\"stroke:rgb(43.9%,50.2%,56.5%);stroke-opacity:1.0;stroke-width:1.0\" x1=\"0\" x2=\"0\" y1=\"3.0\" y2=\"-4.5\"></line><text style=\"alignment-baseline:hanging;fill:rgb(43.9%,50.2%,56.5%);fill-opacity:1.0;font-size:10px;font-weight:normal;stroke:none;text-anchor:middle\" x=\"0\" y=\"6\"></text></g></g></g><g class=\"toyplot-coordinates-Numberline\" id=\"tef5548a1e79d435f93ee6ca49b245507\"><clipPath id=\"t1710a44a68e64578a3ae0f21d4fea8cc\"><rect height=\"40.0\" width=\"500.0\" x=\"0\" y=\"-20.0\"></rect></clipPath><g clip-path=\"url(#t1710a44a68e64578a3ae0f21d4fea8cc)\" transform=\"translate(50.0,250.0)\"></g><g class=\"toyplot-coordinates-Axis\" id=\"tf5cda3e653be4b8fbc837639a14514c7\" transform=\"translate(50.0,250.0)translate(0,20.0)\"><line style=\"\" x1=\"0\" x2=\"500.0\" y1=\"0\" y2=\"0\"></line><g><text style=\"font-weight:normal;stroke:none;text-anchor:middle\" transform=\"translate(0.0,6)translate(0,7.5)\"><tspan style=\"font-size:10.0px\">-0.5</tspan></text><text style=\"font-weight:normal;stroke:none;text-anchor:middle\" transform=\"translate(250.0,6)translate(0,7.5)\"><tspan style=\"font-size:10.0px\">0.0</tspan></text><text style=\"font-weight:normal;stroke:none;text-anchor:middle\" transform=\"translate(500.0,6)translate(0,7.5)\"><tspan style=\"font-size:10.0px\">0.5</tspan></text></g><g class=\"toyplot-coordinates-Axis-coordinates\" style=\"visibility:hidden\" transform=\"\"><line style=\"stroke:rgb(43.9%,50.2%,56.5%);stroke-opacity:1.0;stroke-width:1.0\" x1=\"0\" x2=\"0\" y1=\"-3.0\" y2=\"4.5\"></line><text style=\"alignment-baseline:alphabetic;fill:rgb(43.9%,50.2%,56.5%);fill-opacity:1.0;font-size:10px;font-weight:normal;stroke:none;text-anchor:middle\" x=\"0\" y=\"-6\"></text></g></g></g><g class=\"toyplot-coordinates-Numberline\" id=\"t01ea72347ed44a7ca8ff929f321eb9b1\"><clipPath id=\"t94423bf545a9471a8b3ce2b8a4a0b189\"><rect height=\"40.0\" width=\"500.0\" x=\"0\" y=\"-20.0\"></rect></clipPath><g clip-path=\"url(#t94423bf545a9471a8b3ce2b8a4a0b189)\" transform=\"translate(50.0,350.0)\"></g><g class=\"toyplot-coordinates-Axis\" id=\"te6efba34b1544985bf7a5ecdb43b3769\" transform=\"translate(50.0,350.0)translate(0,20.0)\"><line style=\"\" x1=\"0\" x2=\"500.0\" y1=\"0\" y2=\"0\"></line><g><text style=\"font-weight:normal;stroke:none;text-anchor:middle\" transform=\"translate(0.0,6)translate(0,12.0)\"><tspan style=\"font-size:16.0px\">-0.5</tspan></text><text style=\"font-weight:normal;stroke:none;text-anchor:middle\" transform=\"translate(250.0,6)translate(0,12.0)\"><tspan style=\"font-size:16.0px\">0.0</tspan></text><text style=\"font-weight:normal;stroke:none;text-anchor:middle\" transform=\"translate(500.0,6)translate(0,12.0)\"><tspan style=\"font-size:16.0px\">0.5</tspan></text></g><g class=\"toyplot-coordinates-Axis-coordinates\" style=\"visibility:hidden\" transform=\"\"><line style=\"stroke:rgb(43.9%,50.2%,56.5%);stroke-opacity:1.0;stroke-width:1.0\" x1=\"0\" x2=\"0\" y1=\"-3.0\" y2=\"4.5\"></line><text style=\"alignment-baseline:alphabetic;fill:rgb(43.9%,50.2%,56.5%);fill-opacity:1.0;font-size:10px;font-weight:normal;stroke:none;text-anchor:middle\" x=\"0\" y=\"-6\"></text></g></g></g></svg><div class=\"toyplot-interactive\"><script>\n",
       "        (function()\n",
       "        {\n",
       "            function _sign(x)\n",
       "            {\n",
       "                return x < 0 ? -1 : x > 0 ? 1 : 0;\n",
       "            }\n",
       "\n",
       "            function _mix(a, b, amount)\n",
       "            {\n",
       "                return ((1.0 - amount) * a) + (amount * b);\n",
       "            }\n",
       "\n",
       "            function _log(x, base)\n",
       "            {\n",
       "                return Math.log(Math.abs(x)) / Math.log(base);\n",
       "            }\n",
       "\n",
       "            function _in_range(a, x, b)\n",
       "            {\n",
       "                var left = Math.min(a, b);\n",
       "                var right = Math.max(a, b);\n",
       "                return left <= x && x <= right;\n",
       "            }\n",
       "\n",
       "            function inside(range, projection)\n",
       "            {\n",
       "                for(var i = 0; i != projection.length; ++i)\n",
       "                {\n",
       "                    var segment = projection[i];\n",
       "                    if(_in_range(segment.range.min, range, segment.range.max))\n",
       "                        return true;\n",
       "                }\n",
       "                return false;\n",
       "            }\n",
       "\n",
       "            function to_domain(range, projection)\n",
       "            {\n",
       "                for(var i = 0; i != projection.length; ++i)\n",
       "                {\n",
       "                    var segment = projection[i];\n",
       "                    if(_in_range(segment.range.bounds.min, range, segment.range.bounds.max))\n",
       "                    {\n",
       "                        if(segment.scale == \"linear\")\n",
       "                        {\n",
       "                            var amount = (range - segment.range.min) / (segment.range.max - segment.range.min);\n",
       "                            return _mix(segment.domain.min, segment.domain.max, amount)\n",
       "                        }\n",
       "                        else if(segment.scale[0] == \"log\")\n",
       "                        {\n",
       "                            var amount = (range - segment.range.min) / (segment.range.max - segment.range.min);\n",
       "                            var base = segment.scale[1];\n",
       "                            return _sign(segment.domain.min) * Math.pow(base, _mix(_log(segment.domain.min, base), _log(segment.domain.max, base), amount));\n",
       "                        }\n",
       "                    }\n",
       "                }\n",
       "            }\n",
       "\n",
       "            function display_coordinates(e)\n",
       "            {\n",
       "                var current = svg.createSVGPoint();\n",
       "                current.x = e.clientX;\n",
       "                current.y = e.clientY;\n",
       "\n",
       "                for(var axis_id in axes)\n",
       "                {\n",
       "                    var axis = document.querySelector(\"#\" + axis_id);\n",
       "                    var coordinates = axis.querySelector(\".toyplot-coordinates-Axis-coordinates\");\n",
       "                    if(coordinates)\n",
       "                    {\n",
       "                        var projection = axes[axis_id];\n",
       "                        var local = current.matrixTransform(axis.getScreenCTM().inverse());\n",
       "                        if(inside(local.x, projection))\n",
       "                        {\n",
       "                            var domain = to_domain(local.x, projection);\n",
       "                            coordinates.style.visibility = \"visible\";\n",
       "                            coordinates.setAttribute(\"transform\", \"translate(\" + local.x + \")\");\n",
       "                            var text = coordinates.querySelector(\"text\");\n",
       "                            text.textContent = domain.toFixed(2);\n",
       "                        }\n",
       "                        else\n",
       "                        {\n",
       "                            coordinates.style.visibility= \"hidden\";\n",
       "                        }\n",
       "                    }\n",
       "                }\n",
       "            }\n",
       "\n",
       "            var root_id = \"t10042670ed33409d9cce53b9f9dca8d3\";\n",
       "            var axes = {\"t2c8d2c86a9f34306b675d23cb55f734c\": [{\"domain\": {\"bounds\": {\"max\": Infinity, \"min\": -Infinity}, \"max\": 0.5, \"min\": -0.5}, \"range\": {\"bounds\": {\"max\": Infinity, \"min\": -Infinity}, \"max\": 500.0, \"min\": 0.0}, \"scale\": \"linear\"}], \"ta4a2c62724964d8595d7e88ceb569826\": [{\"domain\": {\"bounds\": {\"max\": Infinity, \"min\": -Infinity}, \"max\": 0.5, \"min\": -0.5}, \"range\": {\"bounds\": {\"max\": Infinity, \"min\": -Infinity}, \"max\": 500.0, \"min\": 0.0}, \"scale\": \"linear\"}], \"te6efba34b1544985bf7a5ecdb43b3769\": [{\"domain\": {\"bounds\": {\"max\": Infinity, \"min\": -Infinity}, \"max\": 0.5, \"min\": -0.5}, \"range\": {\"bounds\": {\"max\": Infinity, \"min\": -Infinity}, \"max\": 500.0, \"min\": 0.0}, \"scale\": \"linear\"}], \"tf5cda3e653be4b8fbc837639a14514c7\": [{\"domain\": {\"bounds\": {\"max\": Infinity, \"min\": -Infinity}, \"max\": 0.5, \"min\": -0.5}, \"range\": {\"bounds\": {\"max\": Infinity, \"min\": -Infinity}, \"max\": 500.0, \"min\": 0.0}, \"scale\": \"linear\"}]};\n",
       "\n",
       "            var svg = document.querySelector(\"#\" + root_id + \" svg\");\n",
       "            svg.addEventListener(\"click\", display_coordinates);\n",
       "        })();\n",
       "        </script></div></div>"
      ]
     },
     "metadata": {},
     "output_type": "display_data"
    }
   ],
   "source": [
    "canvas = toyplot.Canvas(width=600, height=400)\n",
    "\n",
    "numberline1 = canvas.numberline(grid=(4, 1, 0))\n",
    "numberline1.axis.ticks.location=\"above\"\n",
    "\n",
    "numberline2 = canvas.numberline(grid=(4, 1, 1))\n",
    "numberline2.axis.ticks.location=\"above\"\n",
    "numberline2.axis.ticks.labels.style = {\"font-size\":\"16px\"}\n",
    "\n",
    "numberline3 = canvas.numberline(grid=(4, 1, 2))\n",
    "numberline3.axis.ticks.location=\"below\"\n",
    "\n",
    "numberline4 = canvas.numberline(grid=(4, 1, 3))\n",
    "numberline4.axis.ticks.location=\"below\"\n",
    "numberline4.axis.ticks.labels.style = {\"font-size\":\"16px\"}"
   ]
  },
  {
   "cell_type": "markdown",
   "metadata": {},
   "source": [
    "Similarly, alignment parameters are automatically adjusted when you rotate tick labels, adjusting the anchor and baseline to provide good results:"
   ]
  },
  {
   "cell_type": "code",
   "execution_count": 19,
   "metadata": {
    "collapsed": false
   },
   "outputs": [
    {
     "data": {
      "text/html": [
       "<div align=\"center\" class=\"toyplot\" id=\"t40e528232fc24c8f836dc914133c871b\"><svg class=\"toyplot-canvas-Canvas\" height=\"600px\" id=\"tbe0b8ba1664b41a79c22f25ec92b0465\" preserveAspectRatio=\"xMidYMid meet\" style=\"background-color:transparent;fill:rgb(16.1%,15.3%,14.1%);fill-opacity:1.0;font-family:Helvetica;font-size:12px;opacity:1.0;stroke:rgb(16.1%,15.3%,14.1%);stroke-opacity:1.0;stroke-width:1.0\" viewBox=\"0 0 600 600\" width=\"600px\" xmlns=\"http://www.w3.org/2000/svg\" xmlns:toyplot=\"http://www.sandia.gov/toyplot\" xmlns:xlink=\"http://www.w3.org/1999/xlink\"><g class=\"toyplot-coordinates-Numberline\" id=\"t520afa66901f4bff93210347b03ad603\"><clipPath id=\"te1636646039d435c85be1c31a741cb2e\"><rect height=\"20.0\" width=\"480.0\" x=\"0\" y=\"-10.0\"></rect></clipPath><g clip-path=\"url(#te1636646039d435c85be1c31a741cb2e)\" transform=\"translate(300.0,540.0)rotate(-90.0)\"><g class=\"toyplot-color-Map\" id=\"taf65795165674ec59a050f7747a71e32\"><defs><linearGradient gradientUnits=\"userSpaceOnUse\" id=\"tb961395015ed4f77944ddd57b71469f3\" x1=\"0.0\" x2=\"480.0\" y1=\"0\" y2=\"0\"><stop offset=\"0.0\" stop-color=\"rgb(1.96%,18.8%,38%)\" stop-opacity=\"1.0\"></stop><stop offset=\"0.015873015873\" stop-color=\"rgb(3.7%,22.2%,42.7%)\" stop-opacity=\"1.0\"></stop><stop offset=\"0.031746031746\" stop-color=\"rgb(5.45%,25.5%,47.4%)\" stop-opacity=\"1.0\"></stop><stop offset=\"0.047619047619\" stop-color=\"rgb(7.19%,28.9%,52%)\" stop-opacity=\"1.0\"></stop><stop offset=\"0.0634920634921\" stop-color=\"rgb(8.93%,32.3%,56.7%)\" stop-opacity=\"1.0\"></stop><stop offset=\"0.0793650793651\" stop-color=\"rgb(10.7%,35.6%,61.4%)\" stop-opacity=\"1.0\"></stop><stop offset=\"0.0952380952381\" stop-color=\"rgb(12.4%,39%,66.1%)\" stop-opacity=\"1.0\"></stop><stop offset=\"0.111111111111\" stop-color=\"rgb(14.4%,42%,68.5%)\" stop-opacity=\"1.0\"></stop><stop offset=\"0.126984126984\" stop-color=\"rgb(16.5%,44.8%,69.9%)\" stop-opacity=\"1.0\"></stop><stop offset=\"0.142857142857\" stop-color=\"rgb(18.7%,47.6%,71.3%)\" stop-opacity=\"1.0\"></stop><stop offset=\"0.15873015873\" stop-color=\"rgb(20.8%,50.4%,72.7%)\" stop-opacity=\"1.0\"></stop><stop offset=\"0.174603174603\" stop-color=\"rgb(22.9%,53.2%,74.2%)\" stop-opacity=\"1.0\"></stop><stop offset=\"0.190476190476\" stop-color=\"rgb(25%,56%,75.6%)\" stop-opacity=\"1.0\"></stop><stop offset=\"0.206349206349\" stop-color=\"rgb(28.2%,58.9%,77.1%)\" stop-opacity=\"1.0\"></stop><stop offset=\"0.222222222222\" stop-color=\"rgb(33.2%,62%,78.8%)\" stop-opacity=\"1.0\"></stop><stop offset=\"0.238095238095\" stop-color=\"rgb(38.1%,65.1%,80.5%)\" stop-opacity=\"1.0\"></stop><stop offset=\"0.253968253968\" stop-color=\"rgb(43%,68.2%,82.2%)\" stop-opacity=\"1.0\"></stop><stop offset=\"0.269841269841\" stop-color=\"rgb(47.9%,71.3%,83.9%)\" stop-opacity=\"1.0\"></stop><stop offset=\"0.285714285714\" stop-color=\"rgb(52.8%,74.5%,85.5%)\" stop-opacity=\"1.0\"></stop><stop offset=\"0.301587301587\" stop-color=\"rgb(57.6%,77.5%,87.2%)\" stop-opacity=\"1.0\"></stop><stop offset=\"0.31746031746\" stop-color=\"rgb(61.6%,79.4%,88.3%)\" stop-opacity=\"1.0\"></stop><stop offset=\"0.333333333333\" stop-color=\"rgb(65.5%,81.4%,89.4%)\" stop-opacity=\"1.0\"></stop><stop offset=\"0.349206349206\" stop-color=\"rgb(69.4%,83.4%,90.5%)\" stop-opacity=\"1.0\"></stop><stop offset=\"0.365079365079\" stop-color=\"rgb(73.3%,85.4%,91.7%)\" stop-opacity=\"1.0\"></stop><stop offset=\"0.380952380952\" stop-color=\"rgb(77.3%,87.4%,92.8%)\" stop-opacity=\"1.0\"></stop><stop offset=\"0.396825396825\" stop-color=\"rgb(81.2%,89.4%,93.9%)\" stop-opacity=\"1.0\"></stop><stop offset=\"0.412698412698\" stop-color=\"rgb(83.9%,90.7%,94.5%)\" stop-opacity=\"1.0\"></stop><stop offset=\"0.428571428571\" stop-color=\"rgb(86.2%,91.8%,94.9%)\" stop-opacity=\"1.0\"></stop><stop offset=\"0.444444444444\" stop-color=\"rgb(88.6%,92.9%,95.3%)\" stop-opacity=\"1.0\"></stop><stop offset=\"0.460317460317\" stop-color=\"rgb(90.9%,94.1%,95.8%)\" stop-opacity=\"1.0\"></stop><stop offset=\"0.47619047619\" stop-color=\"rgb(93.3%,95.2%,96.2%)\" stop-opacity=\"1.0\"></stop><stop offset=\"0.492063492063\" stop-color=\"rgb(95.7%,96.3%,96.6%)\" stop-opacity=\"1.0\"></stop><stop offset=\"0.507936507937\" stop-color=\"rgb(97%,96%,95.4%)\" stop-opacity=\"1.0\"></stop><stop offset=\"0.52380952381\" stop-color=\"rgb(97.4%,94.2%,92.4%)\" stop-opacity=\"1.0\"></stop><stop offset=\"0.539682539683\" stop-color=\"rgb(97.8%,92.5%,89.4%)\" stop-opacity=\"1.0\"></stop><stop offset=\"0.555555555556\" stop-color=\"rgb(98.2%,90.8%,86.4%)\" stop-opacity=\"1.0\"></stop><stop offset=\"0.571428571429\" stop-color=\"rgb(98.5%,89%,83.4%)\" stop-opacity=\"1.0\"></stop><stop offset=\"0.587301587302\" stop-color=\"rgb(98.9%,87.3%,80.4%)\" stop-opacity=\"1.0\"></stop><stop offset=\"0.603174603175\" stop-color=\"rgb(99.1%,85.2%,77.2%)\" stop-opacity=\"1.0\"></stop><stop offset=\"0.619047619048\" stop-color=\"rgb(98.5%,81.8%,72.9%)\" stop-opacity=\"1.0\"></stop><stop offset=\"0.634920634921\" stop-color=\"rgb(98%,78.5%,68.6%)\" stop-opacity=\"1.0\"></stop><stop offset=\"0.650793650794\" stop-color=\"rgb(97.4%,75.1%,64.3%)\" stop-opacity=\"1.0\"></stop><stop offset=\"0.666666666667\" stop-color=\"rgb(96.9%,71.8%,60%)\" stop-opacity=\"1.0\"></stop><stop offset=\"0.68253968254\" stop-color=\"rgb(96.3%,68.4%,55.7%)\" stop-opacity=\"1.0\"></stop><stop offset=\"0.698412698413\" stop-color=\"rgb(95.7%,65%,51.4%)\" stop-opacity=\"1.0\"></stop><stop offset=\"0.714285714286\" stop-color=\"rgb(94%,60.8%,48%)\" stop-opacity=\"1.0\"></stop><stop offset=\"0.730158730159\" stop-color=\"rgb(92.1%,56.5%,44.7%)\" stop-opacity=\"1.0\"></stop><stop offset=\"0.746031746032\" stop-color=\"rgb(90.3%,52.3%,41.4%)\" stop-opacity=\"1.0\"></stop><stop offset=\"0.761904761905\" stop-color=\"rgb(88.4%,48%,38.1%)\" stop-opacity=\"1.0\"></stop><stop offset=\"0.777777777778\" stop-color=\"rgb(86.5%,43.7%,34.8%)\" stop-opacity=\"1.0\"></stop><stop offset=\"0.793650793651\" stop-color=\"rgb(84.7%,39.4%,31.5%)\" stop-opacity=\"1.0\"></stop><stop offset=\"0.809523809524\" stop-color=\"rgb(82.6%,35%,28.9%)\" stop-opacity=\"1.0\"></stop><stop offset=\"0.825396825397\" stop-color=\"rgb(80.3%,30.5%,26.8%)\" stop-opacity=\"1.0\"></stop><stop offset=\"0.84126984127\" stop-color=\"rgb(78.1%,26%,24.7%)\" stop-opacity=\"1.0\"></stop><stop offset=\"0.857142857143\" stop-color=\"rgb(75.9%,21.5%,22.6%)\" stop-opacity=\"1.0\"></stop><stop offset=\"0.873015873016\" stop-color=\"rgb(73.6%,17%,20.5%)\" stop-opacity=\"1.0\"></stop><stop offset=\"0.888888888889\" stop-color=\"rgb(71.4%,12.5%,18.3%)\" stop-opacity=\"1.0\"></stop><stop offset=\"0.904761904762\" stop-color=\"rgb(68.4%,8.96%,16.6%)\" stop-opacity=\"1.0\"></stop><stop offset=\"0.920634920635\" stop-color=\"rgb(63.7%,7.47%,15.9%)\" stop-opacity=\"1.0\"></stop><stop offset=\"0.936507936508\" stop-color=\"rgb(59.1%,5.98%,15.1%)\" stop-opacity=\"1.0\"></stop><stop offset=\"0.952380952381\" stop-color=\"rgb(54.4%,4.48%,14.4%)\" stop-opacity=\"1.0\"></stop><stop offset=\"0.968253968254\" stop-color=\"rgb(49.7%,2.99%,13.7%)\" stop-opacity=\"1.0\"></stop><stop offset=\"0.984126984127\" stop-color=\"rgb(45.1%,1.49%,12.9%)\" stop-opacity=\"1.0\"></stop><stop offset=\"1.0\" stop-color=\"rgb(40.4%,0%,12.2%)\" stop-opacity=\"1.0\"></stop></linearGradient></defs><rect height=\"10\" style=\"fill:url(#tb961395015ed4f77944ddd57b71469f3);stroke:none;stroke-width:1.0\" width=\"480.0\" x=\"0.0\" y=\"-5.0\"></rect></g></g><g class=\"toyplot-coordinates-Axis\" id=\"tba7efa9f052b40cd99e279c7f0bbb307\" transform=\"translate(300.0,540.0)rotate(-90.0)translate(0,10.0)\"><line style=\"\" x1=\"0\" x2=\"480.0\" y1=\"0\" y2=\"0\"></line><g><line style=\"\" x1=\"0.0\" x2=\"0.0\" y1=\"3\" y2=\"-3\"></line><line style=\"\" x1=\"240.0\" x2=\"240.0\" y1=\"3\" y2=\"-3\"></line><line style=\"\" x1=\"480.0\" x2=\"480.0\" y1=\"3\" y2=\"-3\"></line></g><g><text style=\"font-weight:normal;stroke:none;text-anchor:start\" transform=\"translate(0.0,6)rotate(90)translate(0,3.75)\"><tspan style=\"font-size:10.0px\">0.0</tspan></text><text style=\"font-weight:normal;stroke:none;text-anchor:start\" transform=\"translate(240.0,6)rotate(90)translate(0,3.75)\"><tspan style=\"font-size:10.0px\">0.5</tspan></text><text style=\"font-weight:normal;stroke:none;text-anchor:start\" transform=\"translate(480.0,6)rotate(90)translate(0,3.75)\"><tspan style=\"font-size:10.0px\">1.0</tspan></text></g><g class=\"toyplot-coordinates-Axis-coordinates\" style=\"visibility:hidden\" transform=\"\"><line style=\"stroke:rgb(43.9%,50.2%,56.5%);stroke-opacity:1.0;stroke-width:1.0\" x1=\"0\" x2=\"0\" y1=\"-3.0\" y2=\"4.5\"></line><text style=\"alignment-baseline:alphabetic;fill:rgb(43.9%,50.2%,56.5%);fill-opacity:1.0;font-size:10px;font-weight:normal;stroke:none;text-anchor:middle\" x=\"0\" y=\"-6\"></text></g></g></g></svg><div class=\"toyplot-interactive\"><script>\n",
       "        (function()\n",
       "        {\n",
       "            function _sign(x)\n",
       "            {\n",
       "                return x < 0 ? -1 : x > 0 ? 1 : 0;\n",
       "            }\n",
       "\n",
       "            function _mix(a, b, amount)\n",
       "            {\n",
       "                return ((1.0 - amount) * a) + (amount * b);\n",
       "            }\n",
       "\n",
       "            function _log(x, base)\n",
       "            {\n",
       "                return Math.log(Math.abs(x)) / Math.log(base);\n",
       "            }\n",
       "\n",
       "            function _in_range(a, x, b)\n",
       "            {\n",
       "                var left = Math.min(a, b);\n",
       "                var right = Math.max(a, b);\n",
       "                return left <= x && x <= right;\n",
       "            }\n",
       "\n",
       "            function inside(range, projection)\n",
       "            {\n",
       "                for(var i = 0; i != projection.length; ++i)\n",
       "                {\n",
       "                    var segment = projection[i];\n",
       "                    if(_in_range(segment.range.min, range, segment.range.max))\n",
       "                        return true;\n",
       "                }\n",
       "                return false;\n",
       "            }\n",
       "\n",
       "            function to_domain(range, projection)\n",
       "            {\n",
       "                for(var i = 0; i != projection.length; ++i)\n",
       "                {\n",
       "                    var segment = projection[i];\n",
       "                    if(_in_range(segment.range.bounds.min, range, segment.range.bounds.max))\n",
       "                    {\n",
       "                        if(segment.scale == \"linear\")\n",
       "                        {\n",
       "                            var amount = (range - segment.range.min) / (segment.range.max - segment.range.min);\n",
       "                            return _mix(segment.domain.min, segment.domain.max, amount)\n",
       "                        }\n",
       "                        else if(segment.scale[0] == \"log\")\n",
       "                        {\n",
       "                            var amount = (range - segment.range.min) / (segment.range.max - segment.range.min);\n",
       "                            var base = segment.scale[1];\n",
       "                            return _sign(segment.domain.min) * Math.pow(base, _mix(_log(segment.domain.min, base), _log(segment.domain.max, base), amount));\n",
       "                        }\n",
       "                    }\n",
       "                }\n",
       "            }\n",
       "\n",
       "            function display_coordinates(e)\n",
       "            {\n",
       "                var current = svg.createSVGPoint();\n",
       "                current.x = e.clientX;\n",
       "                current.y = e.clientY;\n",
       "\n",
       "                for(var axis_id in axes)\n",
       "                {\n",
       "                    var axis = document.querySelector(\"#\" + axis_id);\n",
       "                    var coordinates = axis.querySelector(\".toyplot-coordinates-Axis-coordinates\");\n",
       "                    if(coordinates)\n",
       "                    {\n",
       "                        var projection = axes[axis_id];\n",
       "                        var local = current.matrixTransform(axis.getScreenCTM().inverse());\n",
       "                        if(inside(local.x, projection))\n",
       "                        {\n",
       "                            var domain = to_domain(local.x, projection);\n",
       "                            coordinates.style.visibility = \"visible\";\n",
       "                            coordinates.setAttribute(\"transform\", \"translate(\" + local.x + \")\");\n",
       "                            var text = coordinates.querySelector(\"text\");\n",
       "                            text.textContent = domain.toFixed(2);\n",
       "                        }\n",
       "                        else\n",
       "                        {\n",
       "                            coordinates.style.visibility= \"hidden\";\n",
       "                        }\n",
       "                    }\n",
       "                }\n",
       "            }\n",
       "\n",
       "            var root_id = \"t40e528232fc24c8f836dc914133c871b\";\n",
       "            var axes = {\"tba7efa9f052b40cd99e279c7f0bbb307\": [{\"domain\": {\"bounds\": {\"max\": Infinity, \"min\": -Infinity}, \"max\": 1.0, \"min\": 0.0}, \"range\": {\"bounds\": {\"max\": Infinity, \"min\": -Infinity}, \"max\": 480.0, \"min\": 0.0}, \"scale\": \"linear\"}]};\n",
       "\n",
       "            var svg = document.querySelector(\"#\" + root_id + \" svg\");\n",
       "            svg.addEventListener(\"click\", display_coordinates);\n",
       "        })();\n",
       "        </script></div></div>"
      ]
     },
     "metadata": {},
     "output_type": "display_data"
    }
   ],
   "source": [
    "import numpy\n",
    "\n",
    "colormap = toyplot.color.brewer.map(\"BlueRed\", domain_min=0, domain_max=1)\n",
    "\n",
    "canvas = toyplot.Canvas()\n",
    "numberline = canvas.color_scale(x1=\"50%\", x2=\"50%\", y1=\"-10%\", y2=\"10%\", colormap=colormap)\n",
    "numberline.axis.ticks.show = True\n",
    "numberline.axis.ticks.labels.angle=-90"
   ]
  },
  {
   "cell_type": "markdown",
   "metadata": {},
   "source": [
    "Of-course, you are free to override any of these behaviors.  For example, suppose we use rich text to add multi-line tick labels to the preceding example:"
   ]
  },
  {
   "cell_type": "code",
   "execution_count": 20,
   "metadata": {
    "collapsed": true
   },
   "outputs": [],
   "source": [
    "def format_color(color):\n",
    "    return \"(%.2f, %.2f, %.2f)\" % (color[\"r\"], color[\"g\"], color[\"b\"])\n",
    "\n",
    "values = numpy.linspace(colormap.domain.min, colormap.domain.max, 4)\n",
    "labels = [\"%.4f<br/><small>%s</small>\" % (value, format_color(colormap.color(value))) for value in values]\n",
    "locator = toyplot.locator.Explicit(values, labels)"
   ]
  },
  {
   "cell_type": "code",
   "execution_count": 21,
   "metadata": {
    "collapsed": false
   },
   "outputs": [
    {
     "data": {
      "text/html": [
       "<div align=\"center\" class=\"toyplot\" id=\"t3e44e89a06a34d50bc8132ead10f1e7a\"><svg class=\"toyplot-canvas-Canvas\" height=\"600px\" id=\"t6eeb8bb314e74543a930eac699d71c1a\" preserveAspectRatio=\"xMidYMid meet\" style=\"background-color:transparent;fill:rgb(16.1%,15.3%,14.1%);fill-opacity:1.0;font-family:Helvetica;font-size:12px;opacity:1.0;stroke:rgb(16.1%,15.3%,14.1%);stroke-opacity:1.0;stroke-width:1.0\" viewBox=\"0 0 600 600\" width=\"600px\" xmlns=\"http://www.w3.org/2000/svg\" xmlns:toyplot=\"http://www.sandia.gov/toyplot\" xmlns:xlink=\"http://www.w3.org/1999/xlink\"><g class=\"toyplot-coordinates-Numberline\" id=\"t9adf1f9ffad9494e96b607507b52661d\"><clipPath id=\"t5c714f40802f439aadefaeb1f1e7abd2\"><rect height=\"20.0\" width=\"480.0\" x=\"0\" y=\"-10.0\"></rect></clipPath><g clip-path=\"url(#t5c714f40802f439aadefaeb1f1e7abd2)\" transform=\"translate(300.0,540.0)rotate(-90.0)\"><g class=\"toyplot-color-Map\" id=\"t43042989791e4d458c2990db6493f447\"><defs><linearGradient gradientUnits=\"userSpaceOnUse\" id=\"t95f26d6ba40b4279b28f7586acaaa98c\" x1=\"0.0\" x2=\"480.0\" y1=\"0\" y2=\"0\"><stop offset=\"0.0\" stop-color=\"rgb(1.96%,18.8%,38%)\" stop-opacity=\"1.0\"></stop><stop offset=\"0.015873015873\" stop-color=\"rgb(3.7%,22.2%,42.7%)\" stop-opacity=\"1.0\"></stop><stop offset=\"0.031746031746\" stop-color=\"rgb(5.45%,25.5%,47.4%)\" stop-opacity=\"1.0\"></stop><stop offset=\"0.047619047619\" stop-color=\"rgb(7.19%,28.9%,52%)\" stop-opacity=\"1.0\"></stop><stop offset=\"0.0634920634921\" stop-color=\"rgb(8.93%,32.3%,56.7%)\" stop-opacity=\"1.0\"></stop><stop offset=\"0.0793650793651\" stop-color=\"rgb(10.7%,35.6%,61.4%)\" stop-opacity=\"1.0\"></stop><stop offset=\"0.0952380952381\" stop-color=\"rgb(12.4%,39%,66.1%)\" stop-opacity=\"1.0\"></stop><stop offset=\"0.111111111111\" stop-color=\"rgb(14.4%,42%,68.5%)\" stop-opacity=\"1.0\"></stop><stop offset=\"0.126984126984\" stop-color=\"rgb(16.5%,44.8%,69.9%)\" stop-opacity=\"1.0\"></stop><stop offset=\"0.142857142857\" stop-color=\"rgb(18.7%,47.6%,71.3%)\" stop-opacity=\"1.0\"></stop><stop offset=\"0.15873015873\" stop-color=\"rgb(20.8%,50.4%,72.7%)\" stop-opacity=\"1.0\"></stop><stop offset=\"0.174603174603\" stop-color=\"rgb(22.9%,53.2%,74.2%)\" stop-opacity=\"1.0\"></stop><stop offset=\"0.190476190476\" stop-color=\"rgb(25%,56%,75.6%)\" stop-opacity=\"1.0\"></stop><stop offset=\"0.206349206349\" stop-color=\"rgb(28.2%,58.9%,77.1%)\" stop-opacity=\"1.0\"></stop><stop offset=\"0.222222222222\" stop-color=\"rgb(33.2%,62%,78.8%)\" stop-opacity=\"1.0\"></stop><stop offset=\"0.238095238095\" stop-color=\"rgb(38.1%,65.1%,80.5%)\" stop-opacity=\"1.0\"></stop><stop offset=\"0.253968253968\" stop-color=\"rgb(43%,68.2%,82.2%)\" stop-opacity=\"1.0\"></stop><stop offset=\"0.269841269841\" stop-color=\"rgb(47.9%,71.3%,83.9%)\" stop-opacity=\"1.0\"></stop><stop offset=\"0.285714285714\" stop-color=\"rgb(52.8%,74.5%,85.5%)\" stop-opacity=\"1.0\"></stop><stop offset=\"0.301587301587\" stop-color=\"rgb(57.6%,77.5%,87.2%)\" stop-opacity=\"1.0\"></stop><stop offset=\"0.31746031746\" stop-color=\"rgb(61.6%,79.4%,88.3%)\" stop-opacity=\"1.0\"></stop><stop offset=\"0.333333333333\" stop-color=\"rgb(65.5%,81.4%,89.4%)\" stop-opacity=\"1.0\"></stop><stop offset=\"0.349206349206\" stop-color=\"rgb(69.4%,83.4%,90.5%)\" stop-opacity=\"1.0\"></stop><stop offset=\"0.365079365079\" stop-color=\"rgb(73.3%,85.4%,91.7%)\" stop-opacity=\"1.0\"></stop><stop offset=\"0.380952380952\" stop-color=\"rgb(77.3%,87.4%,92.8%)\" stop-opacity=\"1.0\"></stop><stop offset=\"0.396825396825\" stop-color=\"rgb(81.2%,89.4%,93.9%)\" stop-opacity=\"1.0\"></stop><stop offset=\"0.412698412698\" stop-color=\"rgb(83.9%,90.7%,94.5%)\" stop-opacity=\"1.0\"></stop><stop offset=\"0.428571428571\" stop-color=\"rgb(86.2%,91.8%,94.9%)\" stop-opacity=\"1.0\"></stop><stop offset=\"0.444444444444\" stop-color=\"rgb(88.6%,92.9%,95.3%)\" stop-opacity=\"1.0\"></stop><stop offset=\"0.460317460317\" stop-color=\"rgb(90.9%,94.1%,95.8%)\" stop-opacity=\"1.0\"></stop><stop offset=\"0.47619047619\" stop-color=\"rgb(93.3%,95.2%,96.2%)\" stop-opacity=\"1.0\"></stop><stop offset=\"0.492063492063\" stop-color=\"rgb(95.7%,96.3%,96.6%)\" stop-opacity=\"1.0\"></stop><stop offset=\"0.507936507937\" stop-color=\"rgb(97%,96%,95.4%)\" stop-opacity=\"1.0\"></stop><stop offset=\"0.52380952381\" stop-color=\"rgb(97.4%,94.2%,92.4%)\" stop-opacity=\"1.0\"></stop><stop offset=\"0.539682539683\" stop-color=\"rgb(97.8%,92.5%,89.4%)\" stop-opacity=\"1.0\"></stop><stop offset=\"0.555555555556\" stop-color=\"rgb(98.2%,90.8%,86.4%)\" stop-opacity=\"1.0\"></stop><stop offset=\"0.571428571429\" stop-color=\"rgb(98.5%,89%,83.4%)\" stop-opacity=\"1.0\"></stop><stop offset=\"0.587301587302\" stop-color=\"rgb(98.9%,87.3%,80.4%)\" stop-opacity=\"1.0\"></stop><stop offset=\"0.603174603175\" stop-color=\"rgb(99.1%,85.2%,77.2%)\" stop-opacity=\"1.0\"></stop><stop offset=\"0.619047619048\" stop-color=\"rgb(98.5%,81.8%,72.9%)\" stop-opacity=\"1.0\"></stop><stop offset=\"0.634920634921\" stop-color=\"rgb(98%,78.5%,68.6%)\" stop-opacity=\"1.0\"></stop><stop offset=\"0.650793650794\" stop-color=\"rgb(97.4%,75.1%,64.3%)\" stop-opacity=\"1.0\"></stop><stop offset=\"0.666666666667\" stop-color=\"rgb(96.9%,71.8%,60%)\" stop-opacity=\"1.0\"></stop><stop offset=\"0.68253968254\" stop-color=\"rgb(96.3%,68.4%,55.7%)\" stop-opacity=\"1.0\"></stop><stop offset=\"0.698412698413\" stop-color=\"rgb(95.7%,65%,51.4%)\" stop-opacity=\"1.0\"></stop><stop offset=\"0.714285714286\" stop-color=\"rgb(94%,60.8%,48%)\" stop-opacity=\"1.0\"></stop><stop offset=\"0.730158730159\" stop-color=\"rgb(92.1%,56.5%,44.7%)\" stop-opacity=\"1.0\"></stop><stop offset=\"0.746031746032\" stop-color=\"rgb(90.3%,52.3%,41.4%)\" stop-opacity=\"1.0\"></stop><stop offset=\"0.761904761905\" stop-color=\"rgb(88.4%,48%,38.1%)\" stop-opacity=\"1.0\"></stop><stop offset=\"0.777777777778\" stop-color=\"rgb(86.5%,43.7%,34.8%)\" stop-opacity=\"1.0\"></stop><stop offset=\"0.793650793651\" stop-color=\"rgb(84.7%,39.4%,31.5%)\" stop-opacity=\"1.0\"></stop><stop offset=\"0.809523809524\" stop-color=\"rgb(82.6%,35%,28.9%)\" stop-opacity=\"1.0\"></stop><stop offset=\"0.825396825397\" stop-color=\"rgb(80.3%,30.5%,26.8%)\" stop-opacity=\"1.0\"></stop><stop offset=\"0.84126984127\" stop-color=\"rgb(78.1%,26%,24.7%)\" stop-opacity=\"1.0\"></stop><stop offset=\"0.857142857143\" stop-color=\"rgb(75.9%,21.5%,22.6%)\" stop-opacity=\"1.0\"></stop><stop offset=\"0.873015873016\" stop-color=\"rgb(73.6%,17%,20.5%)\" stop-opacity=\"1.0\"></stop><stop offset=\"0.888888888889\" stop-color=\"rgb(71.4%,12.5%,18.3%)\" stop-opacity=\"1.0\"></stop><stop offset=\"0.904761904762\" stop-color=\"rgb(68.4%,8.96%,16.6%)\" stop-opacity=\"1.0\"></stop><stop offset=\"0.920634920635\" stop-color=\"rgb(63.7%,7.47%,15.9%)\" stop-opacity=\"1.0\"></stop><stop offset=\"0.936507936508\" stop-color=\"rgb(59.1%,5.98%,15.1%)\" stop-opacity=\"1.0\"></stop><stop offset=\"0.952380952381\" stop-color=\"rgb(54.4%,4.48%,14.4%)\" stop-opacity=\"1.0\"></stop><stop offset=\"0.968253968254\" stop-color=\"rgb(49.7%,2.99%,13.7%)\" stop-opacity=\"1.0\"></stop><stop offset=\"0.984126984127\" stop-color=\"rgb(45.1%,1.49%,12.9%)\" stop-opacity=\"1.0\"></stop><stop offset=\"1.0\" stop-color=\"rgb(40.4%,0%,12.2%)\" stop-opacity=\"1.0\"></stop></linearGradient></defs><rect height=\"10\" style=\"fill:url(#t95f26d6ba40b4279b28f7586acaaa98c);stroke:none;stroke-width:1.0\" width=\"480.0\" x=\"0.0\" y=\"-5.0\"></rect></g></g><g class=\"toyplot-coordinates-Axis\" id=\"t43fd247f2d9e4a74bee0e558860493fd\" transform=\"translate(300.0,540.0)rotate(-90.0)translate(0,10.0)\"><line style=\"\" x1=\"0\" x2=\"480.0\" y1=\"0\" y2=\"0\"></line><g><line style=\"\" x1=\"0.0\" x2=\"0.0\" y1=\"3\" y2=\"-3\"></line><line style=\"\" x1=\"160.0\" x2=\"160.0\" y1=\"3\" y2=\"-3\"></line><line style=\"\" x1=\"320.0\" x2=\"320.0\" y1=\"3\" y2=\"-3\"></line><line style=\"\" x1=\"480.0\" x2=\"480.0\" y1=\"3\" y2=\"-3\"></line></g><g><text style=\"font-weight:normal;stroke:none;text-anchor:start\" transform=\"translate(0.0,6)rotate(90)translate(0,6.0)\"><tspan style=\"font-size:16.0px\">0.0000</tspan><tspan dy=\"19.2\" style=\"font-size:12.8px\" x=\"0\">(0.02, 0.19, 0.38)</tspan></text><text style=\"font-weight:normal;stroke:none;text-anchor:start\" transform=\"translate(160.0,6)rotate(90)translate(0,6.0)\"><tspan style=\"font-size:16.0px\">0.3333</tspan><tspan dy=\"19.2\" style=\"font-size:12.8px\" x=\"0\">(0.65, 0.81, 0.89)</tspan></text><text style=\"font-weight:normal;stroke:none;text-anchor:start\" transform=\"translate(320.0,6)rotate(90)translate(0,6.0)\"><tspan style=\"font-size:16.0px\">0.6667</tspan><tspan dy=\"19.2\" style=\"font-size:12.8px\" x=\"0\">(0.97, 0.72, 0.60)</tspan></text><text style=\"font-weight:normal;stroke:none;text-anchor:start\" transform=\"translate(480.0,6)rotate(90)translate(0,6.0)\"><tspan style=\"font-size:16.0px\">1.0000</tspan><tspan dy=\"19.2\" style=\"font-size:12.8px\" x=\"0\">(0.40, 0.00, 0.12)</tspan></text></g><g class=\"toyplot-coordinates-Axis-coordinates\" style=\"visibility:hidden\" transform=\"\"><line style=\"stroke:rgb(43.9%,50.2%,56.5%);stroke-opacity:1.0;stroke-width:1.0\" x1=\"0\" x2=\"0\" y1=\"-3.0\" y2=\"4.5\"></line><text style=\"alignment-baseline:alphabetic;fill:rgb(43.9%,50.2%,56.5%);fill-opacity:1.0;font-size:10px;font-weight:normal;stroke:none;text-anchor:middle\" x=\"0\" y=\"-6\"></text></g></g></g></svg><div class=\"toyplot-interactive\"><script>\n",
       "        (function()\n",
       "        {\n",
       "            function _sign(x)\n",
       "            {\n",
       "                return x < 0 ? -1 : x > 0 ? 1 : 0;\n",
       "            }\n",
       "\n",
       "            function _mix(a, b, amount)\n",
       "            {\n",
       "                return ((1.0 - amount) * a) + (amount * b);\n",
       "            }\n",
       "\n",
       "            function _log(x, base)\n",
       "            {\n",
       "                return Math.log(Math.abs(x)) / Math.log(base);\n",
       "            }\n",
       "\n",
       "            function _in_range(a, x, b)\n",
       "            {\n",
       "                var left = Math.min(a, b);\n",
       "                var right = Math.max(a, b);\n",
       "                return left <= x && x <= right;\n",
       "            }\n",
       "\n",
       "            function inside(range, projection)\n",
       "            {\n",
       "                for(var i = 0; i != projection.length; ++i)\n",
       "                {\n",
       "                    var segment = projection[i];\n",
       "                    if(_in_range(segment.range.min, range, segment.range.max))\n",
       "                        return true;\n",
       "                }\n",
       "                return false;\n",
       "            }\n",
       "\n",
       "            function to_domain(range, projection)\n",
       "            {\n",
       "                for(var i = 0; i != projection.length; ++i)\n",
       "                {\n",
       "                    var segment = projection[i];\n",
       "                    if(_in_range(segment.range.bounds.min, range, segment.range.bounds.max))\n",
       "                    {\n",
       "                        if(segment.scale == \"linear\")\n",
       "                        {\n",
       "                            var amount = (range - segment.range.min) / (segment.range.max - segment.range.min);\n",
       "                            return _mix(segment.domain.min, segment.domain.max, amount)\n",
       "                        }\n",
       "                        else if(segment.scale[0] == \"log\")\n",
       "                        {\n",
       "                            var amount = (range - segment.range.min) / (segment.range.max - segment.range.min);\n",
       "                            var base = segment.scale[1];\n",
       "                            return _sign(segment.domain.min) * Math.pow(base, _mix(_log(segment.domain.min, base), _log(segment.domain.max, base), amount));\n",
       "                        }\n",
       "                    }\n",
       "                }\n",
       "            }\n",
       "\n",
       "            function display_coordinates(e)\n",
       "            {\n",
       "                var current = svg.createSVGPoint();\n",
       "                current.x = e.clientX;\n",
       "                current.y = e.clientY;\n",
       "\n",
       "                for(var axis_id in axes)\n",
       "                {\n",
       "                    var axis = document.querySelector(\"#\" + axis_id);\n",
       "                    var coordinates = axis.querySelector(\".toyplot-coordinates-Axis-coordinates\");\n",
       "                    if(coordinates)\n",
       "                    {\n",
       "                        var projection = axes[axis_id];\n",
       "                        var local = current.matrixTransform(axis.getScreenCTM().inverse());\n",
       "                        if(inside(local.x, projection))\n",
       "                        {\n",
       "                            var domain = to_domain(local.x, projection);\n",
       "                            coordinates.style.visibility = \"visible\";\n",
       "                            coordinates.setAttribute(\"transform\", \"translate(\" + local.x + \")\");\n",
       "                            var text = coordinates.querySelector(\"text\");\n",
       "                            text.textContent = domain.toFixed(2);\n",
       "                        }\n",
       "                        else\n",
       "                        {\n",
       "                            coordinates.style.visibility= \"hidden\";\n",
       "                        }\n",
       "                    }\n",
       "                }\n",
       "            }\n",
       "\n",
       "            var root_id = \"t3e44e89a06a34d50bc8132ead10f1e7a\";\n",
       "            var axes = {\"t43fd247f2d9e4a74bee0e558860493fd\": [{\"domain\": {\"bounds\": {\"max\": Infinity, \"min\": -Infinity}, \"max\": 1.0, \"min\": 0.0}, \"range\": {\"bounds\": {\"max\": Infinity, \"min\": -Infinity}, \"max\": 480.0, \"min\": 0.0}, \"scale\": \"linear\"}]};\n",
       "\n",
       "            var svg = document.querySelector(\"#\" + root_id + \" svg\");\n",
       "            svg.addEventListener(\"click\", display_coordinates);\n",
       "        })();\n",
       "        </script></div></div>"
      ]
     },
     "metadata": {},
     "output_type": "display_data"
    }
   ],
   "source": [
    "canvas = toyplot.Canvas()\n",
    "numberline = canvas.color_scale(x1=\"50%\", x2=\"50%\", y1=\"-10%\", y2=\"10%\", colormap=colormap)\n",
    "numberline.axis.ticks.show = True\n",
    "numberline.axis.ticks.labels.angle=-90\n",
    "\n",
    "numberline.axis.ticks.locator = locator\n",
    "numberline.axis.ticks.labels.style = {\"font-size\":\"16px\"}"
   ]
  },
  {
   "cell_type": "markdown",
   "metadata": {},
   "source": [
    "We might choose to center the labels horizontally and vertically, overriding the defaults:"
   ]
  }
 ],
 "metadata": {
  "anaconda-cloud": {},
  "kernelspec": {
   "display_name": "Python [default]",
   "language": "python",
   "name": "python2"
  },
  "language_info": {
   "codemirror_mode": {
    "name": "ipython",
    "version": 2
   },
   "file_extension": ".py",
   "mimetype": "text/x-python",
   "name": "python",
   "nbconvert_exporter": "python",
   "pygments_lexer": "ipython2",
   "version": "2.7.12"
  }
 },
 "nbformat": 4,
 "nbformat_minor": 0
}

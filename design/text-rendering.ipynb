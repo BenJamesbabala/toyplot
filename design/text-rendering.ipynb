{
 "cells": [
  {
   "cell_type": "markdown",
   "metadata": {},
   "source": [
    ".. _text:\n",
    "\n",
    "# Text"
   ]
  },
  {
   "cell_type": "markdown",
   "metadata": {},
   "source": [
    "## Alignment\n",
    "\n",
    "By default, text in Toyplot is centered vertically and horizontally around its *anchor*.  To illustrate this, the following figures display the anchor as a small black dot:"
   ]
  },
  {
   "cell_type": "code",
   "execution_count": 1,
   "metadata": {
    "collapsed": false
   },
   "outputs": [
    {
     "name": "stderr",
     "output_type": "stream",
     "text": [
      "DEBUG:root:debug\n"
     ]
    },
    {
     "data": {
      "text/html": [
       "<div align=\"center\" class=\"toyplot\" id=\"td491e6eee0114b5999364308853d7cca\"><svg class=\"toyplot-canvas-Canvas\" height=\"150.0px\" id=\"t50e21d79ff7d4ebd81ada60223f1c2d7\" preserveAspectRatio=\"xMidYMid meet\" style=\"background-color:transparent;fill:rgb(16.1%,15.3%,14.1%);fill-opacity:1.0;font-family:Helvetica;font-size:12px;opacity:1.0;stroke:rgb(16.1%,15.3%,14.1%);stroke-opacity:1.0;stroke-width:1.0\" viewBox=\"0 0 500.0 150.0\" width=\"500.0px\" xmlns=\"http://www.w3.org/2000/svg\" xmlns:toyplot=\"http://www.sandia.gov/toyplot\" xmlns:xlink=\"http://www.w3.org/1999/xlink\"><g class=\"toyplot-coordinates-Cartesian\" id=\"t820d62f36ed64faf8050c8704d59d525\"><clipPath id=\"t489d414129164f5684b08e06b2335cb9\"><rect height=\"70.0\" width=\"420.0\" x=\"40.0\" y=\"40.0\"></rect></clipPath><g clip-path=\"url(#t489d414129164f5684b08e06b2335cb9)\"><g class=\"toyplot-mark-Text\" id=\"te9b246a841a04c59b7ea2874ccf608ed\" style=\"alignment-baseline:middle;font-size:24px;font-weight:normal;stroke:none;text-anchor:middle\"><g class=\"toyplot-Series\"><text class=\"toyplot-Datum\" style=\"fill:rgb(40%,76.1%,64.7%);fill-opacity:1.0;font-weight:normal;opacity:1.0;stroke:none;text-anchor:middle\" transform=\"translate(250.0,75.0)translate(0,6.75)\"><tspan style=\"font-size:24.0px\">Text!</tspan></text></g></g><g class=\"toyplot-mark-Scatterplot\" id=\"t2759d2508538463d8d601bdaca85f6fc\" style=\"\"><g class=\"toyplot-Series\"><g class=\"toyplot-Datum\" style=\"fill:rgb(0%,0%,0%);fill-opacity:1.0;opacity:1.0;stroke:rgb(0%,0%,0%);stroke-opacity:1.0\"><circle cx=\"250.0\" cy=\"75.0\" r=\"1.5\"></circle></g></g></g></g></g></svg><div class=\"toyplot-interactive\"><ul class=\"toyplot-mark-popup\" onmouseleave=\"this.style.visibility='hidden'\" style=\"background:rgba(0%,0%,0%,0.75);border:0;border-radius:6px;color:white;cursor:default;list-style:none;margin:0;padding:5px;position:fixed;visibility:hidden\">\n",
       "            <li class=\"toyplot-mark-popup-title\" style=\"color:lightgray;cursor:default;padding:5px;list-style:none;margin:0\"></li>\n",
       "            <li class=\"toyplot-mark-popup-save-csv\" onmouseout=\"this.style.color='white';this.style.background='steelblue'\" onmouseover=\"this.style.color='steelblue';this.style.background='white'\" style=\"border-radius:3px;padding:5px;list-style:none;margin:0\">\n",
       "                Save as .csv\n",
       "            </li>\n",
       "        </ul><script>\n",
       "        (function()\n",
       "        {\n",
       "          var data_tables = [{\"title\": \"Scatterplot Data\", \"names\": [\"x\", \"y0\"], \"id\": \"t2759d2508538463d8d601bdaca85f6fc\", \"columns\": [[0.0], [0.0]], \"filename\": \"toyplot\"}];\n",
       "\n",
       "          function save_csv(data_table)\n",
       "          {\n",
       "            var uri = \"data:text/csv;charset=utf-8,\";\n",
       "            uri += data_table.names.join(\",\") + \"\\n\";\n",
       "            for(var i = 0; i != data_table.columns[0].length; ++i)\n",
       "            {\n",
       "              for(var j = 0; j != data_table.columns.length; ++j)\n",
       "              {\n",
       "                if(j)\n",
       "                  uri += \",\";\n",
       "                uri += data_table.columns[j][i];\n",
       "              }\n",
       "              uri += \"\\n\";\n",
       "            }\n",
       "            uri = encodeURI(uri);\n",
       "\n",
       "            var link = document.createElement(\"a\");\n",
       "            if(typeof link.download != \"undefined\")\n",
       "            {\n",
       "              link.href = uri;\n",
       "              link.style = \"visibility:hidden\";\n",
       "              link.download = data_table.filename + \".csv\";\n",
       "\n",
       "              document.body.appendChild(link);\n",
       "              link.click();\n",
       "              document.body.removeChild(link);\n",
       "            }\n",
       "            else\n",
       "            {\n",
       "              window.open(uri);\n",
       "            }\n",
       "          }\n",
       "\n",
       "          function open_popup(data_table)\n",
       "          {\n",
       "            return function(e)\n",
       "            {\n",
       "              var popup = document.querySelector(\"#td491e6eee0114b5999364308853d7cca .toyplot-mark-popup\");\n",
       "              popup.querySelector(\".toyplot-mark-popup-title\").innerHTML = data_table.title;\n",
       "              popup.querySelector(\".toyplot-mark-popup-save-csv\").onclick = function() { popup.style.visibility = \"hidden\"; save_csv(data_table); }\n",
       "              popup.style.left = (e.clientX - 50) + \"px\";\n",
       "              popup.style.top = (e.clientY - 20) + \"px\";\n",
       "              popup.style.visibility = \"visible\";\n",
       "              e.stopPropagation();\n",
       "              e.preventDefault();\n",
       "            }\n",
       "\n",
       "          }\n",
       "\n",
       "          for(var i = 0; i != data_tables.length; ++i)\n",
       "          {\n",
       "            var data_table = data_tables[i];\n",
       "            var event_target = document.querySelector(\"#\" + data_table.id);\n",
       "            event_target.oncontextmenu = open_popup(data_table);\n",
       "          }\n",
       "        })();\n",
       "        </script></div></div>"
      ]
     },
     "metadata": {},
     "output_type": "display_data"
    }
   ],
   "source": [
    "import logging\n",
    "logging.getLogger().setLevel(logging.DEBUG)\n",
    "logging.debug(\"debug\")\n",
    "\n",
    "import toyplot\n",
    "toyplot.log.setLevel(logging.DEBUG)\n",
    "\n",
    "canvas = toyplot.Canvas(width=500, height=150)\n",
    "axes = canvas.cartesian(show=False)\n",
    "axes.text(0, 0, \"Text!\", style={\"font-size\":\"24px\"})\n",
    "axes.scatterplot(0, 0, color=\"black\", size=3);"
   ]
  },
  {
   "cell_type": "markdown",
   "metadata": {},
   "source": [
    "To control horizontal alignment, use the CSS `text-anchor` attribute to change the position of the text along its baseline, relative to the anchor:"
   ]
  },
  {
   "cell_type": "code",
   "execution_count": 2,
   "metadata": {
    "collapsed": false
   },
   "outputs": [
    {
     "data": {
      "text/html": [
       "<div align=\"center\" class=\"toyplot\" id=\"ta27127e944fc4e99b3e99e24d1b7c141\"><svg class=\"toyplot-canvas-Canvas\" height=\"300.0px\" id=\"t4df5212eea2d4b0e8a19efacc9fe400f\" preserveAspectRatio=\"xMidYMid meet\" style=\"background-color:transparent;fill:rgb(16.1%,15.3%,14.1%);fill-opacity:1.0;font-family:Helvetica;font-size:12px;opacity:1.0;stroke:rgb(16.1%,15.3%,14.1%);stroke-opacity:1.0;stroke-width:1.0\" viewBox=\"0 0 500.0 300.0\" width=\"500.0px\" xmlns=\"http://www.w3.org/2000/svg\" xmlns:toyplot=\"http://www.sandia.gov/toyplot\" xmlns:xlink=\"http://www.w3.org/1999/xlink\"><g class=\"toyplot-coordinates-Cartesian\" id=\"tdf610abf0c7448b0997d059e2dc9fb29\"><clipPath id=\"t1c4c9b718dc24f93bab1d996ab157b80\"><rect height=\"220.0\" width=\"420.0\" x=\"40.0\" y=\"40.0\"></rect></clipPath><g clip-path=\"url(#t1c4c9b718dc24f93bab1d996ab157b80)\"><g class=\"toyplot-mark-AxisLines\" id=\"t3a16a85da6ff4a9fb33b8c11ee28c83d\" style=\"\"><g class=\"toyplot-Series\"><line class=\"toyplot-Datum\" style=\"opacity:1.0;stroke:rgb(82.7%,82.7%,82.7%);stroke-opacity:1.0\" x1=\"256.89655172413791\" x2=\"256.89655172413791\" y1=\"50.0\" y2=\"250.0\"></line></g></g><g class=\"toyplot-mark-Text\" id=\"t91793a5bb0e94da7b96b25b12d572cac\" style=\"alignment-baseline:middle;font-size:24px;font-weight:normal;stroke:none;text-anchor:middle\"><g class=\"toyplot-Series\"><text class=\"toyplot-Datum\" style=\"fill:rgb(40%,76.1%,64.7%);fill-opacity:1.0;font-weight:normal;opacity:1.0;stroke:none;text-anchor:middle\" transform=\"translate(256.89655172413791,83.333333333333329)translate(0,6.75)\"><tspan style=\"font-size:24.0px\">Centered</tspan></text></g></g><g class=\"toyplot-mark-Scatterplot\" id=\"t092ae8c8c4fe4f9b82148b766ad5ad07\" style=\"\"><g class=\"toyplot-Series\"><g class=\"toyplot-Datum\" style=\"fill:rgb(0%,0%,0%);fill-opacity:1.0;opacity:1.0;stroke:rgb(0%,0%,0%);stroke-opacity:1.0\"><circle cx=\"256.89655172413791\" cy=\"83.333333333333329\" r=\"1.5\"></circle></g></g></g><g class=\"toyplot-mark-Text\" id=\"te02ebc0393f348afa72d84e1b3c95a00\" style=\"alignment-baseline:middle;font-size:24px;font-weight:normal;stroke:none;text-anchor:start\"><g class=\"toyplot-Series\"><text class=\"toyplot-Datum\" style=\"fill:rgb(98.8%,55.3%,38.4%);fill-opacity:1.0;font-weight:normal;opacity:1.0;stroke:none;text-anchor:start\" transform=\"translate(256.89655172413791,150.0)translate(0,6.75)\"><tspan style=\"font-size:24.0px\">Left Justified</tspan></text></g></g><g class=\"toyplot-mark-Scatterplot\" id=\"t8b5df61d209747eea6d312b0d8cf350e\" style=\"\"><g class=\"toyplot-Series\"><g class=\"toyplot-Datum\" style=\"fill:rgb(0%,0%,0%);fill-opacity:1.0;opacity:1.0;stroke:rgb(0%,0%,0%);stroke-opacity:1.0\"><circle cx=\"256.89655172413791\" cy=\"150.0\" r=\"1.5\"></circle></g></g></g><g class=\"toyplot-mark-Text\" id=\"t6dcfef785151480ab708db3959ad58a3\" style=\"alignment-baseline:middle;font-size:24px;font-weight:normal;stroke:none;text-anchor:end\"><g class=\"toyplot-Series\"><text class=\"toyplot-Datum\" style=\"fill:rgb(55.3%,62.7%,79.6%);fill-opacity:1.0;font-weight:normal;opacity:1.0;stroke:none;text-anchor:end\" transform=\"translate(256.89655172413791,216.66666666666669)translate(0,6.75)\"><tspan style=\"font-size:24.0px\">Right Justified</tspan></text></g></g><g class=\"toyplot-mark-Scatterplot\" id=\"t2eaea0b7926b4488ae1e8299877c73af\" style=\"\"><g class=\"toyplot-Series\"><g class=\"toyplot-Datum\" style=\"fill:rgb(0%,0%,0%);fill-opacity:1.0;opacity:1.0;stroke:rgb(0%,0%,0%);stroke-opacity:1.0\"><circle cx=\"256.89655172413791\" cy=\"216.66666666666669\" r=\"1.5\"></circle></g></g></g></g></g></svg><div class=\"toyplot-interactive\"><ul class=\"toyplot-mark-popup\" onmouseleave=\"this.style.visibility='hidden'\" style=\"background:rgba(0%,0%,0%,0.75);border:0;border-radius:6px;color:white;cursor:default;list-style:none;margin:0;padding:5px;position:fixed;visibility:hidden\">\n",
       "            <li class=\"toyplot-mark-popup-title\" style=\"color:lightgray;cursor:default;padding:5px;list-style:none;margin:0\"></li>\n",
       "            <li class=\"toyplot-mark-popup-save-csv\" onmouseout=\"this.style.color='white';this.style.background='steelblue'\" onmouseover=\"this.style.color='steelblue';this.style.background='white'\" style=\"border-radius:3px;padding:5px;list-style:none;margin:0\">\n",
       "                Save as .csv\n",
       "            </li>\n",
       "        </ul><script>\n",
       "        (function()\n",
       "        {\n",
       "          var data_tables = [{\"title\": \"Scatterplot Data\", \"names\": [\"x\", \"y0\"], \"id\": \"t092ae8c8c4fe4f9b82148b766ad5ad07\", \"columns\": [[0.0], [1.0]], \"filename\": \"toyplot\"}, {\"title\": \"Scatterplot Data\", \"names\": [\"x\", \"y0\"], \"id\": \"t8b5df61d209747eea6d312b0d8cf350e\", \"columns\": [[0.0], [0.0]], \"filename\": \"toyplot\"}, {\"title\": \"Scatterplot Data\", \"names\": [\"x\", \"y0\"], \"id\": \"t2eaea0b7926b4488ae1e8299877c73af\", \"columns\": [[0.0], [-1.0]], \"filename\": \"toyplot\"}];\n",
       "\n",
       "          function save_csv(data_table)\n",
       "          {\n",
       "            var uri = \"data:text/csv;charset=utf-8,\";\n",
       "            uri += data_table.names.join(\",\") + \"\\n\";\n",
       "            for(var i = 0; i != data_table.columns[0].length; ++i)\n",
       "            {\n",
       "              for(var j = 0; j != data_table.columns.length; ++j)\n",
       "              {\n",
       "                if(j)\n",
       "                  uri += \",\";\n",
       "                uri += data_table.columns[j][i];\n",
       "              }\n",
       "              uri += \"\\n\";\n",
       "            }\n",
       "            uri = encodeURI(uri);\n",
       "\n",
       "            var link = document.createElement(\"a\");\n",
       "            if(typeof link.download != \"undefined\")\n",
       "            {\n",
       "              link.href = uri;\n",
       "              link.style = \"visibility:hidden\";\n",
       "              link.download = data_table.filename + \".csv\";\n",
       "\n",
       "              document.body.appendChild(link);\n",
       "              link.click();\n",
       "              document.body.removeChild(link);\n",
       "            }\n",
       "            else\n",
       "            {\n",
       "              window.open(uri);\n",
       "            }\n",
       "          }\n",
       "\n",
       "          function open_popup(data_table)\n",
       "          {\n",
       "            return function(e)\n",
       "            {\n",
       "              var popup = document.querySelector(\"#ta27127e944fc4e99b3e99e24d1b7c141 .toyplot-mark-popup\");\n",
       "              popup.querySelector(\".toyplot-mark-popup-title\").innerHTML = data_table.title;\n",
       "              popup.querySelector(\".toyplot-mark-popup-save-csv\").onclick = function() { popup.style.visibility = \"hidden\"; save_csv(data_table); }\n",
       "              popup.style.left = (e.clientX - 50) + \"px\";\n",
       "              popup.style.top = (e.clientY - 20) + \"px\";\n",
       "              popup.style.visibility = \"visible\";\n",
       "              e.stopPropagation();\n",
       "              e.preventDefault();\n",
       "            }\n",
       "\n",
       "          }\n",
       "\n",
       "          for(var i = 0; i != data_tables.length; ++i)\n",
       "          {\n",
       "            var data_table = data_tables[i];\n",
       "            var event_target = document.querySelector(\"#\" + data_table.id);\n",
       "            event_target.oncontextmenu = open_popup(data_table);\n",
       "          }\n",
       "        })();\n",
       "        </script></div></div>"
      ]
     },
     "metadata": {},
     "output_type": "display_data"
    }
   ],
   "source": [
    "canvas = toyplot.Canvas(width=500, height=300)\n",
    "axes = canvas.cartesian(show=False, ymin=-1.5, ymax=1.5)\n",
    "\n",
    "axes.vlines(0, color=\"lightgray\")\n",
    "\n",
    "axes.text(0, 1, \"Centered\", style={\"text-anchor\":\"middle\", \"font-size\":\"24px\"})\n",
    "axes.scatterplot(0, 1, color=\"black\", size=3)\n",
    "\n",
    "axes.text(0, 0, \"Left Justified\", style={\"text-anchor\":\"start\", \"font-size\":\"24px\"})\n",
    "axes.scatterplot(0, 0, color=\"black\", size=3)\n",
    "\n",
    "axes.text(0, -1, \"Right Justified\", style={\"text-anchor\":\"end\", \"font-size\":\"24px\"})\n",
    "axes.scatterplot(0, -1, color=\"black\", size=3);"
   ]
  },
  {
   "cell_type": "markdown",
   "metadata": {},
   "source": [
    "In addition, the text can be shifted along its baseline in arbitrary amounts, using the `-toyplot-anchor-shift` attribute (note that this is non-standard CSS, provided by Toyplot for symmetry with the standard `baseline-shift` attribute which we will explore below):"
   ]
  },
  {
   "cell_type": "code",
   "execution_count": 3,
   "metadata": {
    "collapsed": false
   },
   "outputs": [
    {
     "data": {
      "text/html": [
       "<div align=\"center\" class=\"toyplot\" id=\"tef3ff5bb1a6b4df1a4548c1e620dd4b4\"><svg class=\"toyplot-canvas-Canvas\" height=\"300.0px\" id=\"t77946176bee64cc995dd6b415d0646a1\" preserveAspectRatio=\"xMidYMid meet\" style=\"background-color:transparent;fill:rgb(16.1%,15.3%,14.1%);fill-opacity:1.0;font-family:Helvetica;font-size:12px;opacity:1.0;stroke:rgb(16.1%,15.3%,14.1%);stroke-opacity:1.0;stroke-width:1.0\" viewBox=\"0 0 500.0 300.0\" width=\"500.0px\" xmlns=\"http://www.w3.org/2000/svg\" xmlns:toyplot=\"http://www.sandia.gov/toyplot\" xmlns:xlink=\"http://www.w3.org/1999/xlink\"><g class=\"toyplot-coordinates-Cartesian\" id=\"t4d5a5f94218d46ed8de557dd77c7dc63\"><clipPath id=\"t7c4ff7d43d3e446ba97955f1f04dc849\"><rect height=\"220.0\" width=\"420.0\" x=\"40.0\" y=\"40.0\"></rect></clipPath><g clip-path=\"url(#t7c4ff7d43d3e446ba97955f1f04dc849)\"><g class=\"toyplot-mark-AxisLines\" id=\"t3c842e02b75a4328b19797f3ea1eab66\" style=\"\"><g class=\"toyplot-Series\"><line class=\"toyplot-Datum\" style=\"opacity:1.0;stroke:rgb(82.7%,82.7%,82.7%);stroke-opacity:1.0\" x1=\"194.92753623188409\" x2=\"194.92753623188409\" y1=\"50.0\" y2=\"250.0\"></line></g></g><g class=\"toyplot-mark-Text\" id=\"t4ee210b4b8e04865909bc7853ae11aa9\" style=\"-toyplot-anchor-shift:0;alignment-baseline:middle;font-size:24px;font-weight:normal;stroke:none;text-anchor:start\"><g class=\"toyplot-Series\"><text class=\"toyplot-Datum\" style=\"fill:rgb(40%,76.1%,64.7%);fill-opacity:1.0;font-weight:normal;opacity:1.0;stroke:none;text-anchor:start\" transform=\"translate(194.92753623188409,75.0)translate(0,6.75)\"><tspan style=\"font-size:24.0px\">Shifted +0px</tspan></text></g></g><g class=\"toyplot-mark-Scatterplot\" id=\"t8919926b03eb4033916421bd84bc7ab4\" style=\"\"><g class=\"toyplot-Series\"><g class=\"toyplot-Datum\" style=\"fill:rgb(0%,0%,0%);fill-opacity:1.0;opacity:1.0;stroke:rgb(0%,0%,0%);stroke-opacity:1.0\"><circle cx=\"194.92753623188409\" cy=\"75.0\" r=\"1.5\"></circle></g></g></g><g class=\"toyplot-mark-Text\" id=\"tc02b776f5f424672aa8efb43705fcd04\" style=\"-toyplot-anchor-shift:20px;alignment-baseline:middle;font-size:24px;font-weight:normal;stroke:none;text-anchor:start\"><g class=\"toyplot-Series\"><text class=\"toyplot-Datum\" style=\"fill:rgb(98.8%,55.3%,38.4%);fill-opacity:1.0;font-weight:normal;opacity:1.0;stroke:none;text-anchor:start\" transform=\"translate(194.92753623188409,125.0)translate(20.0,6.75)\"><tspan style=\"font-size:24.0px\">Shifted +20px</tspan></text></g></g><g class=\"toyplot-mark-Scatterplot\" id=\"t68843bb963b64a9aab6a62df7952a69c\" style=\"\"><g class=\"toyplot-Series\"><g class=\"toyplot-Datum\" style=\"fill:rgb(0%,0%,0%);fill-opacity:1.0;opacity:1.0;stroke:rgb(0%,0%,0%);stroke-opacity:1.0\"><circle cx=\"194.92753623188409\" cy=\"125.0\" r=\"1.5\"></circle></g></g></g><g class=\"toyplot-mark-Text\" id=\"tc16bb551624a425faf901bec48ba96d0\" style=\"-toyplot-anchor-shift:40px;alignment-baseline:middle;font-size:24px;font-weight:normal;stroke:none;text-anchor:start\"><g class=\"toyplot-Series\"><text class=\"toyplot-Datum\" style=\"fill:rgb(55.3%,62.7%,79.6%);fill-opacity:1.0;font-weight:normal;opacity:1.0;stroke:none;text-anchor:start\" transform=\"translate(194.92753623188409,175.0)translate(40.0,6.75)\"><tspan style=\"font-size:24.0px\">Shifted +40px</tspan></text></g></g><g class=\"toyplot-mark-Scatterplot\" id=\"t4e6a2cf6ca8645158411d2020fdd8f39\" style=\"\"><g class=\"toyplot-Series\"><g class=\"toyplot-Datum\" style=\"fill:rgb(0%,0%,0%);fill-opacity:1.0;opacity:1.0;stroke:rgb(0%,0%,0%);stroke-opacity:1.0\"><circle cx=\"194.92753623188409\" cy=\"175.0\" r=\"1.5\"></circle></g></g></g><g class=\"toyplot-mark-Text\" id=\"tf9f211aa0d344279b62145e549711bae\" style=\"-toyplot-anchor-shift:-20px;alignment-baseline:middle;font-size:24px;font-weight:normal;stroke:none;text-anchor:start\"><g class=\"toyplot-Series\"><text class=\"toyplot-Datum\" style=\"fill:rgb(90.6%,54.1%,76.5%);fill-opacity:1.0;font-weight:normal;opacity:1.0;stroke:none;text-anchor:start\" transform=\"translate(194.92753623188409,225.0)translate(-20.0,6.75)\"><tspan style=\"font-size:24.0px\">Shifted -20px</tspan></text></g></g><g class=\"toyplot-mark-Scatterplot\" id=\"t067b3f2df9ab4e87ba41878e557ea297\" style=\"\"><g class=\"toyplot-Series\"><g class=\"toyplot-Datum\" style=\"fill:rgb(0%,0%,0%);fill-opacity:1.0;opacity:1.0;stroke:rgb(0%,0%,0%);stroke-opacity:1.0\"><circle cx=\"194.92753623188409\" cy=\"225.0\" r=\"1.5\"></circle></g></g></g></g></g></svg><div class=\"toyplot-interactive\"><ul class=\"toyplot-mark-popup\" onmouseleave=\"this.style.visibility='hidden'\" style=\"background:rgba(0%,0%,0%,0.75);border:0;border-radius:6px;color:white;cursor:default;list-style:none;margin:0;padding:5px;position:fixed;visibility:hidden\">\n",
       "            <li class=\"toyplot-mark-popup-title\" style=\"color:lightgray;cursor:default;padding:5px;list-style:none;margin:0\"></li>\n",
       "            <li class=\"toyplot-mark-popup-save-csv\" onmouseout=\"this.style.color='white';this.style.background='steelblue'\" onmouseover=\"this.style.color='steelblue';this.style.background='white'\" style=\"border-radius:3px;padding:5px;list-style:none;margin:0\">\n",
       "                Save as .csv\n",
       "            </li>\n",
       "        </ul><script>\n",
       "        (function()\n",
       "        {\n",
       "          var data_tables = [{\"title\": \"Scatterplot Data\", \"names\": [\"x\", \"y0\"], \"id\": \"t8919926b03eb4033916421bd84bc7ab4\", \"columns\": [[0.0], [1.0]], \"filename\": \"toyplot\"}, {\"title\": \"Scatterplot Data\", \"names\": [\"x\", \"y0\"], \"id\": \"t68843bb963b64a9aab6a62df7952a69c\", \"columns\": [[0.0], [0.0]], \"filename\": \"toyplot\"}, {\"title\": \"Scatterplot Data\", \"names\": [\"x\", \"y0\"], \"id\": \"t4e6a2cf6ca8645158411d2020fdd8f39\", \"columns\": [[0.0], [-1.0]], \"filename\": \"toyplot\"}, {\"title\": \"Scatterplot Data\", \"names\": [\"x\", \"y0\"], \"id\": \"t067b3f2df9ab4e87ba41878e557ea297\", \"columns\": [[0.0], [-2.0]], \"filename\": \"toyplot\"}];\n",
       "\n",
       "          function save_csv(data_table)\n",
       "          {\n",
       "            var uri = \"data:text/csv;charset=utf-8,\";\n",
       "            uri += data_table.names.join(\",\") + \"\\n\";\n",
       "            for(var i = 0; i != data_table.columns[0].length; ++i)\n",
       "            {\n",
       "              for(var j = 0; j != data_table.columns.length; ++j)\n",
       "              {\n",
       "                if(j)\n",
       "                  uri += \",\";\n",
       "                uri += data_table.columns[j][i];\n",
       "              }\n",
       "              uri += \"\\n\";\n",
       "            }\n",
       "            uri = encodeURI(uri);\n",
       "\n",
       "            var link = document.createElement(\"a\");\n",
       "            if(typeof link.download != \"undefined\")\n",
       "            {\n",
       "              link.href = uri;\n",
       "              link.style = \"visibility:hidden\";\n",
       "              link.download = data_table.filename + \".csv\";\n",
       "\n",
       "              document.body.appendChild(link);\n",
       "              link.click();\n",
       "              document.body.removeChild(link);\n",
       "            }\n",
       "            else\n",
       "            {\n",
       "              window.open(uri);\n",
       "            }\n",
       "          }\n",
       "\n",
       "          function open_popup(data_table)\n",
       "          {\n",
       "            return function(e)\n",
       "            {\n",
       "              var popup = document.querySelector(\"#tef3ff5bb1a6b4df1a4548c1e620dd4b4 .toyplot-mark-popup\");\n",
       "              popup.querySelector(\".toyplot-mark-popup-title\").innerHTML = data_table.title;\n",
       "              popup.querySelector(\".toyplot-mark-popup-save-csv\").onclick = function() { popup.style.visibility = \"hidden\"; save_csv(data_table); }\n",
       "              popup.style.left = (e.clientX - 50) + \"px\";\n",
       "              popup.style.top = (e.clientY - 20) + \"px\";\n",
       "              popup.style.visibility = \"visible\";\n",
       "              e.stopPropagation();\n",
       "              e.preventDefault();\n",
       "            }\n",
       "\n",
       "          }\n",
       "\n",
       "          for(var i = 0; i != data_tables.length; ++i)\n",
       "          {\n",
       "            var data_table = data_tables[i];\n",
       "            var event_target = document.querySelector(\"#\" + data_table.id);\n",
       "            event_target.oncontextmenu = open_popup(data_table);\n",
       "          }\n",
       "        })();\n",
       "        </script></div></div>"
      ]
     },
     "metadata": {},
     "output_type": "display_data"
    }
   ],
   "source": [
    "canvas = toyplot.Canvas(width=500, height=300)\n",
    "axes = canvas.cartesian(show=False, ymin=-2.5, ymax=1.5)\n",
    "\n",
    "axes.vlines(0, color=\"lightgray\")\n",
    "\n",
    "axes.text(0, 1, \"Shifted +0px\", style={\"-toyplot-anchor-shift\":\"0\", \"text-anchor\":\"start\", \"font-size\":\"24px\"})\n",
    "axes.scatterplot(0, 1, color=\"black\", size=3)\n",
    "\n",
    "axes.text(0, 0, \"Shifted +20px\", style={\"-toyplot-anchor-shift\":\"20px\", \"text-anchor\":\"start\", \"font-size\":\"24px\"})\n",
    "axes.scatterplot(0, 0, color=\"black\", size=3)\n",
    "\n",
    "axes.text(0, -1, \"Shifted +40px\", style={\"-toyplot-anchor-shift\":\"40px\", \"text-anchor\":\"start\", \"font-size\":\"24px\"})\n",
    "axes.scatterplot(0, -1, color=\"black\", size=3);\n",
    "\n",
    "axes.text(0, -2, \"Shifted -20px\", style={\"-toyplot-anchor-shift\":\"-20px\", \"text-anchor\":\"start\", \"font-size\":\"24px\"})\n",
    "axes.scatterplot(0, -2, color=\"black\", size=3);\n"
   ]
  },
  {
   "cell_type": "markdown",
   "metadata": {},
   "source": [
    "Vertically, the text baseline always passes through its anchor point - so to alter the vertical alongment of text, you change the baseline using the CSS `alignment-baseline` attribute.  Note that CSS typography is a complex topic and there are many different types of baseline to accomodate different writing modes and fonts.  The following baselines are the most useful for Western scripts.  Note the subtle difference between the \"central\" and \"middle\" baselines - the former centers upper-case letters in Western scripts while the latter centers lower-case letters, and is the Toyplot default:"
   ]
  },
  {
   "cell_type": "code",
   "execution_count": 4,
   "metadata": {
    "collapsed": false
   },
   "outputs": [
    {
     "data": {
      "text/html": [
       "<div align=\"center\" class=\"toyplot\" id=\"t4f3bbfda6b84429da9a2674b1ee23e08\"><svg class=\"toyplot-canvas-Canvas\" height=\"300.0px\" id=\"t55c1922dd7134ebcbf9f2f4269030b4c\" preserveAspectRatio=\"xMidYMid meet\" style=\"background-color:transparent;fill:rgb(16.1%,15.3%,14.1%);fill-opacity:1.0;font-family:Helvetica;font-size:12px;opacity:1.0;stroke:rgb(16.1%,15.3%,14.1%);stroke-opacity:1.0;stroke-width:1.0\" viewBox=\"0 0 600.0 300.0\" width=\"600.0px\" xmlns=\"http://www.w3.org/2000/svg\" xmlns:toyplot=\"http://www.sandia.gov/toyplot\" xmlns:xlink=\"http://www.w3.org/1999/xlink\"><g class=\"toyplot-coordinates-Cartesian\" id=\"tc23404aef1e9412cb6a4194da4c403c0\"><clipPath id=\"tdba090c2468346bdae75a42c461835c7\"><rect height=\"220.0\" width=\"520.0\" x=\"40.0\" y=\"40.0\"></rect></clipPath><g clip-path=\"url(#tdba090c2468346bdae75a42c461835c7)\"><g class=\"toyplot-mark-AxisLines\" id=\"t14e1cc9166a44499ae88b5cba4344f98\" style=\"\"><g class=\"toyplot-Series\"><line class=\"toyplot-Datum\" style=\"opacity:1.0;stroke:rgb(82.7%,82.7%,82.7%);stroke-opacity:1.0\" x1=\"50.0\" x2=\"550.0\" y1=\"150.0\" y2=\"150.0\"></line></g></g><g class=\"toyplot-mark-Text\" id=\"t5644d291aab74331a423cd163a2c2247\" style=\"alignment-baseline:hanging;font-size:24px;font-weight:normal;stroke:none;text-anchor:middle\"><g class=\"toyplot-Series\"><text class=\"toyplot-Datum\" style=\"fill:rgb(40%,76.1%,64.7%);fill-opacity:1.0;font-weight:normal;opacity:1.0;stroke:none;text-anchor:middle\" transform=\"translate(115.21739130434783,150.0)translate(0,18.0)\"><tspan style=\"font-size:24.0px\">Hanging</tspan></text></g></g><g class=\"toyplot-mark-Scatterplot\" id=\"t2e6753c0d06848f79bbe75e3220f6470\" style=\"\"><g class=\"toyplot-Series\"><g class=\"toyplot-Datum\" style=\"fill:rgb(0%,0%,0%);fill-opacity:1.0;opacity:1.0;stroke:rgb(0%,0%,0%);stroke-opacity:1.0\"><circle cx=\"115.21739130434783\" cy=\"150.0\" r=\"1.5\"></circle></g></g></g><g class=\"toyplot-mark-Text\" id=\"t98649068845f46f3b7950cc112b595ae\" style=\"alignment-baseline:central;font-size:24px;font-weight:normal;stroke:none;text-anchor:middle\"><g class=\"toyplot-Series\"><text class=\"toyplot-Datum\" style=\"fill:rgb(98.8%,55.3%,38.4%);fill-opacity:1.0;font-weight:normal;opacity:1.0;stroke:none;text-anchor:middle\" transform=\"translate(244.61697722567285,150.0)translate(0,9.0)\"><tspan style=\"font-size:24.0px\">Central</tspan></text></g></g><g class=\"toyplot-mark-Scatterplot\" id=\"tc0b26ae0194a4154aeb7b0915c16f3c8\" style=\"\"><g class=\"toyplot-Series\"><g class=\"toyplot-Datum\" style=\"fill:rgb(0%,0%,0%);fill-opacity:1.0;opacity:1.0;stroke:rgb(0%,0%,0%);stroke-opacity:1.0\"><circle cx=\"244.61697722567285\" cy=\"150.0\" r=\"1.5\"></circle></g></g></g><g class=\"toyplot-mark-Text\" id=\"t4aa4dc8fc0ca4c74a290cf2c786766f0\" style=\"alignment-baseline:middle;font-size:24px;font-weight:normal;stroke:none;text-anchor:middle\"><g class=\"toyplot-Series\"><text class=\"toyplot-Datum\" style=\"fill:rgb(55.3%,62.7%,79.6%);fill-opacity:1.0;font-weight:normal;opacity:1.0;stroke:none;text-anchor:middle\" transform=\"translate(374.0165631469979,150.0)translate(0,6.75)\"><tspan style=\"font-size:24.0px\">Middle</tspan></text></g></g><g class=\"toyplot-mark-Scatterplot\" id=\"t9d6f35fd2bff4fc7b65c5228eacf0329\" style=\"\"><g class=\"toyplot-Series\"><g class=\"toyplot-Datum\" style=\"fill:rgb(0%,0%,0%);fill-opacity:1.0;opacity:1.0;stroke:rgb(0%,0%,0%);stroke-opacity:1.0\"><circle cx=\"374.0165631469979\" cy=\"150.0\" r=\"1.5\"></circle></g></g></g><g class=\"toyplot-mark-Text\" id=\"t103b61702f8242b4abcb4d53ea1ce641\" style=\"alignment-baseline:alphabetic;font-size:24px;font-weight:normal;stroke:none;text-anchor:middle\"><g class=\"toyplot-Series\"><text class=\"toyplot-Datum\" style=\"fill:rgb(90.6%,54.1%,76.5%);fill-opacity:1.0;font-weight:normal;opacity:1.0;stroke:none;text-anchor:middle\" transform=\"translate(503.41614906832291,150.0)\"><tspan style=\"font-size:24.0px\">Alpha</tspan></text></g></g><g class=\"toyplot-mark-Scatterplot\" id=\"td089d196cae94a6b9acfbc36938992bd\" style=\"\"><g class=\"toyplot-Series\"><g class=\"toyplot-Datum\" style=\"fill:rgb(0%,0%,0%);fill-opacity:1.0;opacity:1.0;stroke:rgb(0%,0%,0%);stroke-opacity:1.0\"><circle cx=\"503.41614906832291\" cy=\"150.0\" r=\"1.5\"></circle></g></g></g></g></g></svg><div class=\"toyplot-interactive\"><ul class=\"toyplot-mark-popup\" onmouseleave=\"this.style.visibility='hidden'\" style=\"background:rgba(0%,0%,0%,0.75);border:0;border-radius:6px;color:white;cursor:default;list-style:none;margin:0;padding:5px;position:fixed;visibility:hidden\">\n",
       "            <li class=\"toyplot-mark-popup-title\" style=\"color:lightgray;cursor:default;padding:5px;list-style:none;margin:0\"></li>\n",
       "            <li class=\"toyplot-mark-popup-save-csv\" onmouseout=\"this.style.color='white';this.style.background='steelblue'\" onmouseover=\"this.style.color='steelblue';this.style.background='white'\" style=\"border-radius:3px;padding:5px;list-style:none;margin:0\">\n",
       "                Save as .csv\n",
       "            </li>\n",
       "        </ul><script>\n",
       "        (function()\n",
       "        {\n",
       "          var data_tables = [{\"title\": \"Scatterplot Data\", \"names\": [\"x\", \"y0\"], \"id\": \"t2e6753c0d06848f79bbe75e3220f6470\", \"columns\": [[-1.0], [0.0]], \"filename\": \"toyplot\"}, {\"title\": \"Scatterplot Data\", \"names\": [\"x\", \"y0\"], \"id\": \"tc0b26ae0194a4154aeb7b0915c16f3c8\", \"columns\": [[0.0], [0.0]], \"filename\": \"toyplot\"}, {\"title\": \"Scatterplot Data\", \"names\": [\"x\", \"y0\"], \"id\": \"t9d6f35fd2bff4fc7b65c5228eacf0329\", \"columns\": [[1.0], [0.0]], \"filename\": \"toyplot\"}, {\"title\": \"Scatterplot Data\", \"names\": [\"x\", \"y0\"], \"id\": \"td089d196cae94a6b9acfbc36938992bd\", \"columns\": [[2.0], [0.0]], \"filename\": \"toyplot\"}];\n",
       "\n",
       "          function save_csv(data_table)\n",
       "          {\n",
       "            var uri = \"data:text/csv;charset=utf-8,\";\n",
       "            uri += data_table.names.join(\",\") + \"\\n\";\n",
       "            for(var i = 0; i != data_table.columns[0].length; ++i)\n",
       "            {\n",
       "              for(var j = 0; j != data_table.columns.length; ++j)\n",
       "              {\n",
       "                if(j)\n",
       "                  uri += \",\";\n",
       "                uri += data_table.columns[j][i];\n",
       "              }\n",
       "              uri += \"\\n\";\n",
       "            }\n",
       "            uri = encodeURI(uri);\n",
       "\n",
       "            var link = document.createElement(\"a\");\n",
       "            if(typeof link.download != \"undefined\")\n",
       "            {\n",
       "              link.href = uri;\n",
       "              link.style = \"visibility:hidden\";\n",
       "              link.download = data_table.filename + \".csv\";\n",
       "\n",
       "              document.body.appendChild(link);\n",
       "              link.click();\n",
       "              document.body.removeChild(link);\n",
       "            }\n",
       "            else\n",
       "            {\n",
       "              window.open(uri);\n",
       "            }\n",
       "          }\n",
       "\n",
       "          function open_popup(data_table)\n",
       "          {\n",
       "            return function(e)\n",
       "            {\n",
       "              var popup = document.querySelector(\"#t4f3bbfda6b84429da9a2674b1ee23e08 .toyplot-mark-popup\");\n",
       "              popup.querySelector(\".toyplot-mark-popup-title\").innerHTML = data_table.title;\n",
       "              popup.querySelector(\".toyplot-mark-popup-save-csv\").onclick = function() { popup.style.visibility = \"hidden\"; save_csv(data_table); }\n",
       "              popup.style.left = (e.clientX - 50) + \"px\";\n",
       "              popup.style.top = (e.clientY - 20) + \"px\";\n",
       "              popup.style.visibility = \"visible\";\n",
       "              e.stopPropagation();\n",
       "              e.preventDefault();\n",
       "            }\n",
       "\n",
       "          }\n",
       "\n",
       "          for(var i = 0; i != data_tables.length; ++i)\n",
       "          {\n",
       "            var data_table = data_tables[i];\n",
       "            var event_target = document.querySelector(\"#\" + data_table.id);\n",
       "            event_target.oncontextmenu = open_popup(data_table);\n",
       "          }\n",
       "        })();\n",
       "        </script></div></div>"
      ]
     },
     "metadata": {},
     "output_type": "display_data"
    }
   ],
   "source": [
    "canvas = toyplot.Canvas(width=600, height=300)\n",
    "axes = canvas.cartesian(show=False)\n",
    "\n",
    "axes.hlines(0, color=\"lightgray\")\n",
    "\n",
    "axes.text(-1, 0, \"Hanging\", style={\"alignment-baseline\":\"hanging\", \"font-size\":\"24px\"})\n",
    "axes.scatterplot(-1, 0, color=\"black\", size=3)\n",
    "\n",
    "axes.text(0, 0, \"Central\", style={\"alignment-baseline\":\"central\", \"font-size\":\"24px\"})\n",
    "axes.scatterplot(0, 0, color=\"black\", size=3)\n",
    "\n",
    "axes.text(1, 0, \"Middle\", style={\"alignment-baseline\":\"middle\", \"font-size\":\"24px\"})\n",
    "axes.scatterplot(1, 0, color=\"black\", size=3)\n",
    "\n",
    "axes.text(2, 0, \"Alpha\", style={\"alignment-baseline\":\"alphabetic\", \"font-size\":\"24px\"})\n",
    "axes.scatterplot(2, 0, color=\"black\", size=3);\n"
   ]
  },
  {
   "cell_type": "markdown",
   "metadata": {},
   "source": [
    "As you might expect, you can also shift text perpendicular to its baseline by arbitrary amounts, using `baseline-shift`.  While you are free to use any of Toyplot's supported CSS length units for the shift, percentages are especially useful, because they represent a distance relative to the font height:"
   ]
  },
  {
   "cell_type": "code",
   "execution_count": 5,
   "metadata": {
    "collapsed": false
   },
   "outputs": [
    {
     "data": {
      "text/html": [
       "<div align=\"center\" class=\"toyplot\" id=\"ta73a53bc65f1472fa0512a1c02d2a304\"><svg class=\"toyplot-canvas-Canvas\" height=\"300.0px\" id=\"t138532546ab845a193c82ca6e1c69f17\" preserveAspectRatio=\"xMidYMid meet\" style=\"background-color:transparent;fill:rgb(16.1%,15.3%,14.1%);fill-opacity:1.0;font-family:Helvetica;font-size:12px;opacity:1.0;stroke:rgb(16.1%,15.3%,14.1%);stroke-opacity:1.0;stroke-width:1.0\" viewBox=\"0 0 700.0 300.0\" width=\"700.0px\" xmlns=\"http://www.w3.org/2000/svg\" xmlns:toyplot=\"http://www.sandia.gov/toyplot\" xmlns:xlink=\"http://www.w3.org/1999/xlink\"><g class=\"toyplot-coordinates-Cartesian\" id=\"te8f8af7d828e451cae8cd7a09109638f\"><clipPath id=\"t2064c9a948084669a7b85f380696e429\"><rect height=\"220.0\" width=\"620.0\" x=\"40.0\" y=\"40.0\"></rect></clipPath><g clip-path=\"url(#t2064c9a948084669a7b85f380696e429)\"><g class=\"toyplot-mark-AxisLines\" id=\"t8a10df56e9de456dbe262979c837cb7c\" style=\"\"><g class=\"toyplot-Series\"><line class=\"toyplot-Datum\" style=\"opacity:1.0;stroke:rgb(82.7%,82.7%,82.7%);stroke-opacity:1.0\" x1=\"50.0\" x2=\"650.0\" y1=\"150.0\" y2=\"150.0\"></line></g></g><g class=\"toyplot-mark-Text\" id=\"t8d57b9086bac4b11ac0e478b50eeafe3\" style=\"alignment-baseline:middle;baseline-shift:-100%;font-size:24px;font-weight:normal;stroke:none;text-anchor:middle\"><g class=\"toyplot-Series\"><text class=\"toyplot-Datum\" style=\"fill:rgb(40%,76.1%,64.7%);fill-opacity:1.0;font-weight:normal;opacity:1.0;stroke:none;text-anchor:middle\" transform=\"translate(142.95774647887322,150.0)translate(0,30.75)\"><tspan style=\"font-size:24.0px\">Shift -100%</tspan></text></g></g><g class=\"toyplot-mark-Scatterplot\" id=\"t6abd32f911eb428e8fa7dbf59a6a9331\" style=\"\"><g class=\"toyplot-Series\"><g class=\"toyplot-Datum\" style=\"fill:rgb(0%,0%,0%);fill-opacity:1.0;opacity:1.0;stroke:rgb(0%,0%,0%);stroke-opacity:1.0\"><circle cx=\"142.95774647887322\" cy=\"150.0\" r=\"1.5\"></circle></g></g></g><g class=\"toyplot-mark-Text\" id=\"t9a203227d2d8471883c7f5f2453a463a\" style=\"alignment-baseline:middle;baseline-shift:0;font-size:24px;font-weight:normal;stroke:none;text-anchor:middle\"><g class=\"toyplot-Series\"><text class=\"toyplot-Datum\" style=\"fill:rgb(98.8%,55.3%,38.4%);fill-opacity:1.0;font-weight:normal;opacity:1.0;stroke:none;text-anchor:middle\" transform=\"translate(283.80281690140845,150.0)translate(0,6.75)\"><tspan style=\"font-size:24.0px\">Shift 0%</tspan></text></g></g><g class=\"toyplot-mark-Scatterplot\" id=\"tecb564222de547dc87a62fcbb25e2183\" style=\"\"><g class=\"toyplot-Series\"><g class=\"toyplot-Datum\" style=\"fill:rgb(0%,0%,0%);fill-opacity:1.0;opacity:1.0;stroke:rgb(0%,0%,0%);stroke-opacity:1.0\"><circle cx=\"283.80281690140845\" cy=\"150.0\" r=\"1.5\"></circle></g></g></g><g class=\"toyplot-mark-Text\" id=\"t767279e2a4d242548b7d3f63dba56b42\" style=\"alignment-baseline:middle;baseline-shift:66%;font-size:24px;font-weight:normal;stroke:none;text-anchor:middle\"><g class=\"toyplot-Series\"><text class=\"toyplot-Datum\" style=\"fill:rgb(55.3%,62.7%,79.6%);fill-opacity:1.0;font-weight:normal;opacity:1.0;stroke:none;text-anchor:middle\" transform=\"translate(424.64788732394368,150.0)translate(0,-9.09)\"><tspan style=\"font-size:24.0px\">Shift 66%</tspan></text></g></g><g class=\"toyplot-mark-Scatterplot\" id=\"t367d674f6a5048aa8a6c5d7de5a6bc85\" style=\"\"><g class=\"toyplot-Series\"><g class=\"toyplot-Datum\" style=\"fill:rgb(0%,0%,0%);fill-opacity:1.0;opacity:1.0;stroke:rgb(0%,0%,0%);stroke-opacity:1.0\"><circle cx=\"424.64788732394368\" cy=\"150.0\" r=\"1.5\"></circle></g></g></g><g class=\"toyplot-mark-Text\" id=\"t38feed28978440fcacc2770a8021cab2\" style=\"alignment-baseline:middle;baseline-shift:100%;font-size:24px;font-weight:normal;stroke:none;text-anchor:middle\"><g class=\"toyplot-Series\"><text class=\"toyplot-Datum\" style=\"fill:rgb(90.6%,54.1%,76.5%);fill-opacity:1.0;font-weight:normal;opacity:1.0;stroke:none;text-anchor:middle\" transform=\"translate(565.49295774647896,150.0)translate(0,-17.25)\"><tspan style=\"font-size:24.0px\">Shift 100%</tspan></text></g></g><g class=\"toyplot-mark-Scatterplot\" id=\"tff8b22b1ab0d43a58c2be708f4fde85e\" style=\"\"><g class=\"toyplot-Series\"><g class=\"toyplot-Datum\" style=\"fill:rgb(0%,0%,0%);fill-opacity:1.0;opacity:1.0;stroke:rgb(0%,0%,0%);stroke-opacity:1.0\"><circle cx=\"565.49295774647896\" cy=\"150.0\" r=\"1.5\"></circle></g></g></g></g></g></svg><div class=\"toyplot-interactive\"><ul class=\"toyplot-mark-popup\" onmouseleave=\"this.style.visibility='hidden'\" style=\"background:rgba(0%,0%,0%,0.75);border:0;border-radius:6px;color:white;cursor:default;list-style:none;margin:0;padding:5px;position:fixed;visibility:hidden\">\n",
       "            <li class=\"toyplot-mark-popup-title\" style=\"color:lightgray;cursor:default;padding:5px;list-style:none;margin:0\"></li>\n",
       "            <li class=\"toyplot-mark-popup-save-csv\" onmouseout=\"this.style.color='white';this.style.background='steelblue'\" onmouseover=\"this.style.color='steelblue';this.style.background='white'\" style=\"border-radius:3px;padding:5px;list-style:none;margin:0\">\n",
       "                Save as .csv\n",
       "            </li>\n",
       "        </ul><script>\n",
       "        (function()\n",
       "        {\n",
       "          var data_tables = [{\"title\": \"Scatterplot Data\", \"names\": [\"x\", \"y0\"], \"id\": \"t6abd32f911eb428e8fa7dbf59a6a9331\", \"columns\": [[-1.0], [0.0]], \"filename\": \"toyplot\"}, {\"title\": \"Scatterplot Data\", \"names\": [\"x\", \"y0\"], \"id\": \"tecb564222de547dc87a62fcbb25e2183\", \"columns\": [[0.0], [0.0]], \"filename\": \"toyplot\"}, {\"title\": \"Scatterplot Data\", \"names\": [\"x\", \"y0\"], \"id\": \"t367d674f6a5048aa8a6c5d7de5a6bc85\", \"columns\": [[1.0], [0.0]], \"filename\": \"toyplot\"}, {\"title\": \"Scatterplot Data\", \"names\": [\"x\", \"y0\"], \"id\": \"tff8b22b1ab0d43a58c2be708f4fde85e\", \"columns\": [[2.0], [0.0]], \"filename\": \"toyplot\"}];\n",
       "\n",
       "          function save_csv(data_table)\n",
       "          {\n",
       "            var uri = \"data:text/csv;charset=utf-8,\";\n",
       "            uri += data_table.names.join(\",\") + \"\\n\";\n",
       "            for(var i = 0; i != data_table.columns[0].length; ++i)\n",
       "            {\n",
       "              for(var j = 0; j != data_table.columns.length; ++j)\n",
       "              {\n",
       "                if(j)\n",
       "                  uri += \",\";\n",
       "                uri += data_table.columns[j][i];\n",
       "              }\n",
       "              uri += \"\\n\";\n",
       "            }\n",
       "            uri = encodeURI(uri);\n",
       "\n",
       "            var link = document.createElement(\"a\");\n",
       "            if(typeof link.download != \"undefined\")\n",
       "            {\n",
       "              link.href = uri;\n",
       "              link.style = \"visibility:hidden\";\n",
       "              link.download = data_table.filename + \".csv\";\n",
       "\n",
       "              document.body.appendChild(link);\n",
       "              link.click();\n",
       "              document.body.removeChild(link);\n",
       "            }\n",
       "            else\n",
       "            {\n",
       "              window.open(uri);\n",
       "            }\n",
       "          }\n",
       "\n",
       "          function open_popup(data_table)\n",
       "          {\n",
       "            return function(e)\n",
       "            {\n",
       "              var popup = document.querySelector(\"#ta73a53bc65f1472fa0512a1c02d2a304 .toyplot-mark-popup\");\n",
       "              popup.querySelector(\".toyplot-mark-popup-title\").innerHTML = data_table.title;\n",
       "              popup.querySelector(\".toyplot-mark-popup-save-csv\").onclick = function() { popup.style.visibility = \"hidden\"; save_csv(data_table); }\n",
       "              popup.style.left = (e.clientX - 50) + \"px\";\n",
       "              popup.style.top = (e.clientY - 20) + \"px\";\n",
       "              popup.style.visibility = \"visible\";\n",
       "              e.stopPropagation();\n",
       "              e.preventDefault();\n",
       "            }\n",
       "\n",
       "          }\n",
       "\n",
       "          for(var i = 0; i != data_tables.length; ++i)\n",
       "          {\n",
       "            var data_table = data_tables[i];\n",
       "            var event_target = document.querySelector(\"#\" + data_table.id);\n",
       "            event_target.oncontextmenu = open_popup(data_table);\n",
       "          }\n",
       "        })();\n",
       "        </script></div></div>"
      ]
     },
     "metadata": {},
     "output_type": "display_data"
    }
   ],
   "source": [
    "canvas = toyplot.Canvas(width=700, height=300)\n",
    "axes = canvas.cartesian(show=False)\n",
    "\n",
    "axes.hlines(0, color=\"lightgray\")\n",
    "\n",
    "axes.text(-1, 0, \"Shift -100%\", style={\"baseline-shift\":\"-100%\", \"font-size\":\"24px\"})\n",
    "axes.scatterplot(-1, 0, color=\"black\", size=3)\n",
    "\n",
    "axes.text(0, 0, \"Shift 0%\", style={\"baseline-shift\":\"0\", \"font-size\":\"24px\"})\n",
    "axes.scatterplot(0, 0, color=\"black\", size=3)\n",
    "\n",
    "axes.text(1, 0, \"Shift 66%\", style={\"baseline-shift\":\"66%\", \"font-size\":\"24px\"})\n",
    "axes.scatterplot(1, 0, color=\"black\", size=3)\n",
    "\n",
    "axes.text(2, 0, \"Shift 100%\", style={\"baseline-shift\":\"100%\", \"font-size\":\"24px\"})\n",
    "axes.scatterplot(2, 0, color=\"black\", size=3);\n"
   ]
  },
  {
   "cell_type": "markdown",
   "metadata": {},
   "source": [
    "Of course, you're free to combine all four styles in any way that you like.\n",
    "\n",
    "One final thing to keep in mind is that `-toyplot-anchor-shift` and `baseline-shift` move the text relative to its baseline, not the canvas.  This is important because it affects their behavior when text is rotated.  In the following example, look carefully and note that the text with `-toyplot-anchor-shift` is shifted *along its rotated baseline*, not simply moved left or right on the canvas.  Similarly, the `baseline-shift` text is shifted *perpendicular to its rotated baseline*, not merely up or down:"
   ]
  },
  {
   "cell_type": "code",
   "execution_count": 6,
   "metadata": {
    "collapsed": false
   },
   "outputs": [
    {
     "data": {
      "text/html": [
       "<div align=\"center\" class=\"toyplot\" id=\"t4950b16925244c0fbc0866c3314d6666\"><svg class=\"toyplot-canvas-Canvas\" height=\"300.0px\" id=\"ta0a7cf4e05b546d8aea3673ca2881de5\" preserveAspectRatio=\"xMidYMid meet\" style=\"background-color:transparent;fill:rgb(16.1%,15.3%,14.1%);fill-opacity:1.0;font-family:Helvetica;font-size:12px;opacity:1.0;stroke:rgb(16.1%,15.3%,14.1%);stroke-opacity:1.0;stroke-width:1.0\" viewBox=\"0 0 500.0 300.0\" width=\"500.0px\" xmlns=\"http://www.w3.org/2000/svg\" xmlns:toyplot=\"http://www.sandia.gov/toyplot\" xmlns:xlink=\"http://www.w3.org/1999/xlink\"><g class=\"toyplot-coordinates-Cartesian\" id=\"t87cca4d26031431ca8250e2dffdfed60\"><clipPath id=\"td823f4db8f7e4fa5b72d9e8ec5ca3a3f\"><rect height=\"220.0\" width=\"86.66666666666666\" x=\"40.0\" y=\"40.0\"></rect></clipPath><g clip-path=\"url(#td823f4db8f7e4fa5b72d9e8ec5ca3a3f)\"><g class=\"toyplot-mark-AxisLines\" id=\"t5181bc06cefd4894bbbfe11a5322ae74\" style=\"\"><g class=\"toyplot-Series\"><line class=\"toyplot-Datum\" style=\"opacity:1.0;stroke:rgb(82.7%,82.7%,82.7%);stroke-opacity:1.0\" x1=\"83.333333333333329\" x2=\"83.333333333333329\" y1=\"50.0\" y2=\"250.0\"></line></g></g><g class=\"toyplot-mark-Text\" id=\"t8c575cd8dbf144ed9a69087394012e6e\" style=\"alignment-baseline:middle;font-size:24px;font-weight:normal;stroke:none;text-anchor:middle\"><g class=\"toyplot-Series\"><text class=\"toyplot-Datum\" style=\"fill:rgb(40%,76.1%,64.7%);fill-opacity:1.0;font-weight:normal;opacity:1.0;stroke:none;text-anchor:middle\" transform=\"translate(83.333333333333329,150.0)rotate(-45.0)translate(0,6.75)\"><tspan style=\"font-size:24.0px\">a + b</tspan></text></g></g><g class=\"toyplot-mark-Scatterplot\" id=\"te944ae9735b54c9aa226c0b61a81c5fe\" style=\"\"><g class=\"toyplot-Series\"><g class=\"toyplot-Datum\" style=\"fill:rgb(0%,0%,0%);fill-opacity:1.0;opacity:1.0;stroke:rgb(0%,0%,0%);stroke-opacity:1.0\"><circle cx=\"83.333333333333329\" cy=\"150.0\" r=\"1.5\"></circle></g></g></g></g><text style=\"font-weight:bold;stroke:none;text-anchor:middle\" transform=\"translate(83.33333333333333,50.0)translate(0,-10.0625)\"><tspan style=\"font-size:14.0px\">default</tspan></text></g><g class=\"toyplot-coordinates-Cartesian\" id=\"t369fa55bccf14c3f88c9225df2e259ef\"><clipPath id=\"t3ab95cedf9b849df93daca550ae9df5e\"><rect height=\"220.0\" width=\"86.66666666666666\" x=\"206.66666666666666\" y=\"40.0\"></rect></clipPath><g clip-path=\"url(#t3ab95cedf9b849df93daca550ae9df5e)\"><g class=\"toyplot-mark-AxisLines\" id=\"ta9e465efd46646d293674c4ba72bd54c\" style=\"\"><g class=\"toyplot-Series\"><line class=\"toyplot-Datum\" style=\"opacity:1.0;stroke:rgb(82.7%,82.7%,82.7%);stroke-opacity:1.0\" x1=\"240.7407407407407\" x2=\"240.7407407407407\" y1=\"50.0\" y2=\"250.0\"></line></g></g><g class=\"toyplot-mark-Text\" id=\"t710cc07524034b4f8fdc8bd7190b9591\" style=\"-toyplot-anchor-shift:20px;alignment-baseline:middle;font-size:24px;font-weight:normal;stroke:none;text-anchor:middle\"><g class=\"toyplot-Series\"><text class=\"toyplot-Datum\" style=\"fill:rgb(40%,76.1%,64.7%);fill-opacity:1.0;font-weight:normal;opacity:1.0;stroke:none;text-anchor:middle\" transform=\"translate(240.7407407407407,150.0)rotate(-45.0)translate(20.0,6.75)\"><tspan style=\"font-size:24.0px\">a + b</tspan></text></g></g><g class=\"toyplot-mark-Scatterplot\" id=\"tf2a3551d4f404b57877fd7c386f41a3a\" style=\"\"><g class=\"toyplot-Series\"><g class=\"toyplot-Datum\" style=\"fill:rgb(0%,0%,0%);fill-opacity:1.0;opacity:1.0;stroke:rgb(0%,0%,0%);stroke-opacity:1.0\"><circle cx=\"240.7407407407407\" cy=\"150.0\" r=\"1.5\"></circle></g></g></g></g><text style=\"font-weight:bold;stroke:none;text-anchor:middle\" transform=\"translate(250.0,50.0)translate(0,-10.0625)\"><tspan style=\"font-size:14.0px\">-toyplot-anchor-shift</tspan></text></g><g class=\"toyplot-coordinates-Cartesian\" id=\"tbd6355bd8d154bbd8dcf9adeb4dc1b00\"><clipPath id=\"t7e99281e21d5448ab7c5abad391ab588\"><rect height=\"220.0\" width=\"86.66666666666669\" x=\"373.3333333333333\" y=\"40.0\"></rect></clipPath><g clip-path=\"url(#t7e99281e21d5448ab7c5abad391ab588)\"><g class=\"toyplot-mark-AxisLines\" id=\"tab66764030f74904a65bd0416e41387e\" style=\"\"><g class=\"toyplot-Series\"><line class=\"toyplot-Datum\" style=\"opacity:1.0;stroke:rgb(82.7%,82.7%,82.7%);stroke-opacity:1.0\" x1=\"407.40740740740739\" x2=\"407.40740740740739\" y1=\"50.0\" y2=\"250.0\"></line></g></g><g class=\"toyplot-mark-Text\" id=\"ta2d32b6b937547a6874dab8f058be942\" style=\"alignment-baseline:middle;baseline-shift:-20px;font-size:24px;font-weight:normal;stroke:none;text-anchor:middle\"><g class=\"toyplot-Series\"><text class=\"toyplot-Datum\" style=\"fill:rgb(40%,76.1%,64.7%);fill-opacity:1.0;font-weight:normal;opacity:1.0;stroke:none;text-anchor:middle\" transform=\"translate(407.40740740740739,150.0)rotate(-45.0)translate(0,26.75)\"><tspan style=\"font-size:24.0px\">a + b</tspan></text></g></g><g class=\"toyplot-mark-Scatterplot\" id=\"t455503a5d227460a8473c37aa4c29956\" style=\"\"><g class=\"toyplot-Series\"><g class=\"toyplot-Datum\" style=\"fill:rgb(0%,0%,0%);fill-opacity:1.0;opacity:1.0;stroke:rgb(0%,0%,0%);stroke-opacity:1.0\"><circle cx=\"407.40740740740739\" cy=\"150.0\" r=\"1.5\"></circle></g></g></g></g><text style=\"font-weight:bold;stroke:none;text-anchor:middle\" transform=\"translate(416.66666666666663,50.0)translate(0,-10.0625)\"><tspan style=\"font-size:14.0px\">baseline-shift</tspan></text></g></svg><div class=\"toyplot-interactive\"><ul class=\"toyplot-mark-popup\" onmouseleave=\"this.style.visibility='hidden'\" style=\"background:rgba(0%,0%,0%,0.75);border:0;border-radius:6px;color:white;cursor:default;list-style:none;margin:0;padding:5px;position:fixed;visibility:hidden\">\n",
       "            <li class=\"toyplot-mark-popup-title\" style=\"color:lightgray;cursor:default;padding:5px;list-style:none;margin:0\"></li>\n",
       "            <li class=\"toyplot-mark-popup-save-csv\" onmouseout=\"this.style.color='white';this.style.background='steelblue'\" onmouseover=\"this.style.color='steelblue';this.style.background='white'\" style=\"border-radius:3px;padding:5px;list-style:none;margin:0\">\n",
       "                Save as .csv\n",
       "            </li>\n",
       "        </ul><script>\n",
       "        (function()\n",
       "        {\n",
       "          var data_tables = [{\"title\": \"Scatterplot Data\", \"names\": [\"x\", \"y0\"], \"id\": \"te944ae9735b54c9aa226c0b61a81c5fe\", \"columns\": [[0.0], [0.0]], \"filename\": \"toyplot\"}, {\"title\": \"Scatterplot Data\", \"names\": [\"x\", \"y0\"], \"id\": \"tf2a3551d4f404b57877fd7c386f41a3a\", \"columns\": [[0.0], [0.0]], \"filename\": \"toyplot\"}, {\"title\": \"Scatterplot Data\", \"names\": [\"x\", \"y0\"], \"id\": \"t455503a5d227460a8473c37aa4c29956\", \"columns\": [[0.0], [0.0]], \"filename\": \"toyplot\"}];\n",
       "\n",
       "          function save_csv(data_table)\n",
       "          {\n",
       "            var uri = \"data:text/csv;charset=utf-8,\";\n",
       "            uri += data_table.names.join(\",\") + \"\\n\";\n",
       "            for(var i = 0; i != data_table.columns[0].length; ++i)\n",
       "            {\n",
       "              for(var j = 0; j != data_table.columns.length; ++j)\n",
       "              {\n",
       "                if(j)\n",
       "                  uri += \",\";\n",
       "                uri += data_table.columns[j][i];\n",
       "              }\n",
       "              uri += \"\\n\";\n",
       "            }\n",
       "            uri = encodeURI(uri);\n",
       "\n",
       "            var link = document.createElement(\"a\");\n",
       "            if(typeof link.download != \"undefined\")\n",
       "            {\n",
       "              link.href = uri;\n",
       "              link.style = \"visibility:hidden\";\n",
       "              link.download = data_table.filename + \".csv\";\n",
       "\n",
       "              document.body.appendChild(link);\n",
       "              link.click();\n",
       "              document.body.removeChild(link);\n",
       "            }\n",
       "            else\n",
       "            {\n",
       "              window.open(uri);\n",
       "            }\n",
       "          }\n",
       "\n",
       "          function open_popup(data_table)\n",
       "          {\n",
       "            return function(e)\n",
       "            {\n",
       "              var popup = document.querySelector(\"#t4950b16925244c0fbc0866c3314d6666 .toyplot-mark-popup\");\n",
       "              popup.querySelector(\".toyplot-mark-popup-title\").innerHTML = data_table.title;\n",
       "              popup.querySelector(\".toyplot-mark-popup-save-csv\").onclick = function() { popup.style.visibility = \"hidden\"; save_csv(data_table); }\n",
       "              popup.style.left = (e.clientX - 50) + \"px\";\n",
       "              popup.style.top = (e.clientY - 20) + \"px\";\n",
       "              popup.style.visibility = \"visible\";\n",
       "              e.stopPropagation();\n",
       "              e.preventDefault();\n",
       "            }\n",
       "\n",
       "          }\n",
       "\n",
       "          for(var i = 0; i != data_tables.length; ++i)\n",
       "          {\n",
       "            var data_table = data_tables[i];\n",
       "            var event_target = document.querySelector(\"#\" + data_table.id);\n",
       "            event_target.oncontextmenu = open_popup(data_table);\n",
       "          }\n",
       "        })();\n",
       "        </script></div></div>"
      ]
     },
     "metadata": {},
     "output_type": "display_data"
    }
   ],
   "source": [
    "canvas = toyplot.Canvas(width=500, height=300)\n",
    "\n",
    "axes = canvas.cartesian(grid=(1,3,0), xshow=False, yshow=False, label=\"default\")\n",
    "axes.vlines(0, color=\"lightgray\")\n",
    "axes.text(0, 0, \"a + b\", angle=45, style={\"font-size\":\"24px\"})\n",
    "axes.scatterplot(0, 0, color=\"black\", size=3)\n",
    "\n",
    "axes = canvas.cartesian(grid=(1,3,1), xshow=False, yshow=False, label=\"-toyplot-anchor-shift\")\n",
    "axes.vlines(0, color=\"lightgray\")\n",
    "axes.text(0, 0, \"a + b\", angle=45, style={\"-toyplot-anchor-shift\":\"20px\", \"font-size\":\"24px\"})\n",
    "axes.scatterplot(0, 0, color=\"black\", size=3)\n",
    "\n",
    "axes = canvas.cartesian(grid=(1,3,2), xshow=False, yshow=False, label=\"baseline-shift\")\n",
    "axes.vlines(0, color=\"lightgray\")\n",
    "axes.text(0, 0, \"a + b\", angle=45, style={\"baseline-shift\":\"-20px\", \"font-size\":\"24px\"})\n",
    "axes.scatterplot(0, 0, color=\"black\", size=3);\n"
   ]
  },
  {
   "cell_type": "markdown",
   "metadata": {},
   "source": [
    "## Rich Text\n",
    "\n",
    "In addition to positioning text using styles, you can use (a limited subset of) HTML markup to format your text.  For example, you can create text with superscripts and subscripts: "
   ]
  },
  {
   "cell_type": "code",
   "execution_count": 7,
   "metadata": {
    "collapsed": false
   },
   "outputs": [
    {
     "data": {
      "text/html": [
       "<div align=\"center\" class=\"toyplot\" id=\"t715dd7b82bc144c7a810ff3280068b18\"><svg class=\"toyplot-canvas-Canvas\" height=\"150.0px\" id=\"t4115dd5b602542a38c2ab496b41d1a53\" preserveAspectRatio=\"xMidYMid meet\" style=\"background-color:transparent;fill:rgb(16.1%,15.3%,14.1%);fill-opacity:1.0;font-family:Helvetica;font-size:12px;opacity:1.0;stroke:rgb(16.1%,15.3%,14.1%);stroke-opacity:1.0;stroke-width:1.0\" viewBox=\"0 0 600.0 150.0\" width=\"600.0px\" xmlns=\"http://www.w3.org/2000/svg\" xmlns:toyplot=\"http://www.sandia.gov/toyplot\" xmlns:xlink=\"http://www.w3.org/1999/xlink\"><g class=\"toyplot-mark-Text\" id=\"ta6eeb604044b4b40838a2471aac3592f\" style=\"alignment-baseline:middle;font-size:32px;font-weight:normal;stroke:none;text-anchor:middle\"><g class=\"toyplot-Series\"><text class=\"toyplot-Datum\" style=\"fill:rgb(16.1%,15.3%,14.1%);fill-opacity:1.0;font-weight:normal;opacity:1.0;stroke:none;text-anchor:middle\" transform=\"translate(300.0,100.0)translate(0,9.0)\"><tspan style=\"font-size:32.0px\">100</tspan><tspan dy=\"-9.6\" style=\"font-size:22.4px\">-53</tspan></text></g></g></svg><div class=\"toyplot-interactive\"></div></div>"
      ]
     },
     "metadata": {},
     "output_type": "display_data"
    }
   ],
   "source": [
    "canvas = toyplot.Canvas(width=600, height=150)\n",
    "canvas.text(300, 100, \"100<sup>-53</sup>\", style={\"font-size\":\"32px\"});"
   ]
  },
  {
   "cell_type": "code",
   "execution_count": 8,
   "metadata": {
    "collapsed": false
   },
   "outputs": [
    {
     "data": {
      "text/html": [
       "<div align=\"center\" class=\"toyplot\" id=\"t929f7ba39ffc496fa84f9f6663eb1809\"><svg class=\"toyplot-canvas-Canvas\" height=\"150.0px\" id=\"ta30d95380eed4948b5792ec90ecc844a\" preserveAspectRatio=\"xMidYMid meet\" style=\"background-color:transparent;fill:rgb(16.1%,15.3%,14.1%);fill-opacity:1.0;font-family:Helvetica;font-size:12px;opacity:1.0;stroke:rgb(16.1%,15.3%,14.1%);stroke-opacity:1.0;stroke-width:1.0\" viewBox=\"0 0 600.0 150.0\" width=\"600.0px\" xmlns=\"http://www.w3.org/2000/svg\" xmlns:toyplot=\"http://www.sandia.gov/toyplot\" xmlns:xlink=\"http://www.w3.org/1999/xlink\"><g class=\"toyplot-mark-Text\" id=\"t96850642cc07497baf40ecb3894cc734\" style=\"alignment-baseline:middle;font-size:32px;font-weight:normal;stroke:none;text-anchor:middle\"><g class=\"toyplot-Series\"><text class=\"toyplot-Datum\" style=\"fill:rgb(16.1%,15.3%,14.1%);fill-opacity:1.0;font-weight:normal;opacity:1.0;stroke:none;text-anchor:middle\" transform=\"translate(300.0,100.0)translate(0,9.0)\"><tspan style=\"font-size:32.0px\">H</tspan><tspan dy=\"6.4\" style=\"font-size:22.4px\">2</tspan><tspan dy=\"-6.4\" style=\"font-size:32.0px\">O</tspan></text></g></g></svg><div class=\"toyplot-interactive\"></div></div>"
      ]
     },
     "metadata": {},
     "output_type": "display_data"
    }
   ],
   "source": [
    "canvas = toyplot.Canvas(width=600, height=150)\n",
    "canvas.text(300, 100, \"H<sub>2</sub>O\", style={\"font-size\":\"32px\"});"
   ]
  },
  {
   "cell_type": "markdown",
   "metadata": {},
   "source": [
    "Note that you are free to nest superscripts and subscripts:"
   ]
  },
  {
   "cell_type": "code",
   "execution_count": 9,
   "metadata": {
    "collapsed": false
   },
   "outputs": [
    {
     "data": {
      "text/html": [
       "<div align=\"center\" class=\"toyplot\" id=\"t5aa5003cd7f6459490fd80620d4e4814\"><svg class=\"toyplot-canvas-Canvas\" height=\"150.0px\" id=\"t51383ec3e3424efc94ac1b2ee15d5298\" preserveAspectRatio=\"xMidYMid meet\" style=\"background-color:transparent;fill:rgb(16.1%,15.3%,14.1%);fill-opacity:1.0;font-family:Helvetica;font-size:12px;opacity:1.0;stroke:rgb(16.1%,15.3%,14.1%);stroke-opacity:1.0;stroke-width:1.0\" viewBox=\"0 0 600.0 150.0\" width=\"600.0px\" xmlns=\"http://www.w3.org/2000/svg\" xmlns:toyplot=\"http://www.sandia.gov/toyplot\" xmlns:xlink=\"http://www.w3.org/1999/xlink\"><g class=\"toyplot-mark-Text\" id=\"t0a066aeb2fb2413788fe0a1530d9c70c\" style=\"alignment-baseline:middle;font-size:32px;font-weight:normal;stroke:none;text-anchor:middle\"><g class=\"toyplot-Series\"><text class=\"toyplot-Datum\" style=\"fill:rgb(16.1%,15.3%,14.1%);fill-opacity:1.0;font-weight:normal;opacity:1.0;stroke:none;text-anchor:middle\" transform=\"translate(300.0,100.0)translate(0,9.0)\"><tspan style=\"font-size:32.0px\">W</tspan><tspan dy=\"-9.6\" style=\"font-size:22.4px\">X</tspan><tspan dy=\"4.48\" style=\"font-size:15.68px\">Y</tspan><tspan dy=\"-11.2\" style=\"font-size:15.68px\">Z</tspan></text></g></g></svg><div class=\"toyplot-interactive\"></div></div>"
      ]
     },
     "metadata": {},
     "output_type": "display_data"
    }
   ],
   "source": [
    "canvas = toyplot.Canvas(width=600, height=150)\n",
    "canvas.text(300, 100, \"W<sup>X<sub>Y</sub><sup>Z</sup></sup>\", style={\"font-size\":\"32px\"});"
   ]
  },
  {
   "cell_type": "markdown",
   "metadata": {},
   "source": [
    "There are a variety of tags to alter the inline appearance of text:"
   ]
  },
  {
   "cell_type": "code",
   "execution_count": 10,
   "metadata": {
    "collapsed": false
   },
   "outputs": [
    {
     "data": {
      "text/html": [
       "<div align=\"center\" class=\"toyplot\" id=\"t1dedec98eec24886bcf5f1d8b600ea08\"><svg class=\"toyplot-canvas-Canvas\" height=\"150.0px\" id=\"t95296ce214ce48f893a754a50ccca8bb\" preserveAspectRatio=\"xMidYMid meet\" style=\"background-color:transparent;fill:rgb(16.1%,15.3%,14.1%);fill-opacity:1.0;font-family:Helvetica;font-size:12px;opacity:1.0;stroke:rgb(16.1%,15.3%,14.1%);stroke-opacity:1.0;stroke-width:1.0\" viewBox=\"0 0 600.0 150.0\" width=\"600.0px\" xmlns=\"http://www.w3.org/2000/svg\" xmlns:toyplot=\"http://www.sandia.gov/toyplot\" xmlns:xlink=\"http://www.w3.org/1999/xlink\"><g class=\"toyplot-mark-Text\" id=\"t6b8f0dc7f0b848109f61c89cfcb7ab3e\" style=\"alignment-baseline:middle;font-size:24px;font-weight:normal;stroke:none;text-anchor:middle\"><g class=\"toyplot-Series\"><text class=\"toyplot-Datum\" style=\"fill:rgb(16.1%,15.3%,14.1%);fill-opacity:1.0;font-weight:normal;opacity:1.0;stroke:none;text-anchor:middle\" transform=\"translate(300.0,100.0)translate(0,6.75)\"><tspan style=\"font-size:24.0px\">normal </tspan><tspan style=\"font-size:24.0px;font-weight:bold\">bold</tspan><tspan style=\"font-size:24.0px\"> </tspan><tspan style=\"font-size:24.0px;font-style:italic\">italic</tspan><tspan style=\"font-size:24.0px\"> </tspan><tspan style=\"font-size:24.0px;font-weight:bold\">strong</tspan><tspan style=\"font-size:24.0px\"> </tspan><tspan style=\"font-size:24.0px;font-style:italic\">emphasis</tspan><tspan style=\"font-size:24.0px\"> </tspan><tspan style=\"font-size:19.2px\">small</tspan><tspan style=\"font-size:24.0px\"> </tspan><tspan style=\"font-family:monospace;font-size:24.0px\">code</tspan></text></g></g></svg><div class=\"toyplot-interactive\"></div></div>"
      ]
     },
     "metadata": {},
     "output_type": "display_data"
    }
   ],
   "source": [
    "canvas = toyplot.Canvas(width=600, height=150)\n",
    "canvas.text(\n",
    "    300,\n",
    "    100,\n",
    "    \"normal <b>bold</b> <i>italic</i> <strong>strong</strong> <em>emphasis</em> <small>small</small> <code>code</code>\",\n",
    "    style={\"font-size\":\"24px\"});"
   ]
  },
  {
   "cell_type": "markdown",
   "metadata": {},
   "source": [
    "And these tags can be nested as well:"
   ]
  },
  {
   "cell_type": "code",
   "execution_count": 11,
   "metadata": {
    "collapsed": false
   },
   "outputs": [
    {
     "data": {
      "text/html": [
       "<div align=\"center\" class=\"toyplot\" id=\"t27d2d7371faa40e59b2feda7cc4a23ef\"><svg class=\"toyplot-canvas-Canvas\" height=\"150.0px\" id=\"tc7aec657a6f24d15a53be4dddd6ebf73\" preserveAspectRatio=\"xMidYMid meet\" style=\"background-color:transparent;fill:rgb(16.1%,15.3%,14.1%);fill-opacity:1.0;font-family:Helvetica;font-size:12px;opacity:1.0;stroke:rgb(16.1%,15.3%,14.1%);stroke-opacity:1.0;stroke-width:1.0\" viewBox=\"0 0 600.0 150.0\" width=\"600.0px\" xmlns=\"http://www.w3.org/2000/svg\" xmlns:toyplot=\"http://www.sandia.gov/toyplot\" xmlns:xlink=\"http://www.w3.org/1999/xlink\"><g class=\"toyplot-mark-Text\" id=\"t8f2c0c0b00f645ec9360568a2f2c31cf\" style=\"alignment-baseline:middle;font-size:32px;font-weight:normal;stroke:none;text-anchor:middle\"><g class=\"toyplot-Series\"><text class=\"toyplot-Datum\" style=\"fill:rgb(16.1%,15.3%,14.1%);fill-opacity:1.0;font-weight:normal;opacity:1.0;stroke:none;text-anchor:middle\" transform=\"translate(300.0,100.0)translate(0,9.0)\"><tspan style=\"font-size:32.0px\">foo </tspan><tspan style=\"font-size:32.0px;font-weight:bold\">bar </tspan><tspan style=\"font-size:32.0px;font-style:italic;font-weight:bold\">baz </tspan><tspan style=\"font-family:monospace;font-size:32.0px;font-style:italic;font-weight:bold\">blah</tspan></text></g></g></svg><div class=\"toyplot-interactive\"></div></div>"
      ]
     },
     "metadata": {},
     "output_type": "display_data"
    }
   ],
   "source": [
    "canvas = toyplot.Canvas(width=600, height=150)\n",
    "canvas.text(300, 100, \"foo <b>bar <i>baz <code>blah</code></i></b>\", style={\"font-size\":\"32px\"});"
   ]
  },
  {
   "cell_type": "markdown",
   "metadata": {},
   "source": [
    "Finally, you can insert line breaks into your text using the &lt;br/&gt; tag:"
   ]
  },
  {
   "cell_type": "code",
   "execution_count": 12,
   "metadata": {
    "collapsed": false
   },
   "outputs": [
    {
     "data": {
      "text/html": [
       "<div align=\"center\" class=\"toyplot\" id=\"t79b895983d054ddbad2033152a314f08\"><svg class=\"toyplot-canvas-Canvas\" height=\"200.0px\" id=\"te20571e24d634c309a4cb40fa7f62e85\" preserveAspectRatio=\"xMidYMid meet\" style=\"background-color:transparent;fill:rgb(16.1%,15.3%,14.1%);fill-opacity:1.0;font-family:Helvetica;font-size:12px;opacity:1.0;stroke:rgb(16.1%,15.3%,14.1%);stroke-opacity:1.0;stroke-width:1.0\" viewBox=\"0 0 600.0 200.0\" width=\"600.0px\" xmlns=\"http://www.w3.org/2000/svg\" xmlns:toyplot=\"http://www.sandia.gov/toyplot\" xmlns:xlink=\"http://www.w3.org/1999/xlink\"><g class=\"toyplot-mark-Text\" id=\"t479ba072b18049fdb53d76f6916d9ef4\" style=\"alignment-baseline:middle;font-size:16px;font-weight:normal;stroke:none;text-anchor:middle\"><g class=\"toyplot-Series\"><text class=\"toyplot-Datum\" style=\"fill:rgb(16.1%,15.3%,14.1%);fill-opacity:1.0;font-weight:normal;opacity:1.0;stroke:none;text-anchor:middle\" transform=\"translate(300.0,100.0)translate(0,4.5)\"><tspan style=\"font-size:16.0px\">0.567832</tspan><tspan dy=\"19.2\" style=\"font-size:12.8px\" x=\"0\">(243, 128, 19)</tspan></text></g></g></svg><div class=\"toyplot-interactive\"></div></div>"
      ]
     },
     "metadata": {},
     "output_type": "display_data"
    }
   ],
   "source": [
    "canvas = toyplot.Canvas(width=600, height=200)\n",
    "canvas.text(300, 100, \"0.567832<br/><small>(243, 128, 19)</small>\", style={\"font-size\":\"16px\"});"
   ]
  },
  {
   "cell_type": "code",
   "execution_count": 13,
   "metadata": {
    "collapsed": false
   },
   "outputs": [
    {
     "data": {
      "text/html": [
       "<div align=\"center\" class=\"toyplot\" id=\"t79bc0b18d9644307b8ccd03854c19eca\"><svg class=\"toyplot-canvas-Canvas\" height=\"200.0px\" id=\"t91e508b6aba34e499cc42005851906f7\" preserveAspectRatio=\"xMidYMid meet\" style=\"background-color:transparent;fill:rgb(16.1%,15.3%,14.1%);fill-opacity:1.0;font-family:Helvetica;font-size:12px;opacity:1.0;stroke:rgb(16.1%,15.3%,14.1%);stroke-opacity:1.0;stroke-width:1.0\" viewBox=\"0 0 600.0 200.0\" width=\"600.0px\" xmlns=\"http://www.w3.org/2000/svg\" xmlns:toyplot=\"http://www.sandia.gov/toyplot\" xmlns:xlink=\"http://www.w3.org/1999/xlink\"><g class=\"toyplot-mark-Text\" id=\"t22f436b9b2d24065b36f85bf44267308\" style=\"alignment-baseline:middle;font-size:16px;font-weight:normal;stroke:none;text-anchor:middle\"><g class=\"toyplot-Series\"><text class=\"toyplot-Datum\" style=\"fill:rgb(16.1%,15.3%,14.1%);fill-opacity:1.0;font-weight:normal;opacity:1.0;stroke:none;text-anchor:middle\" transform=\"translate(300.0,100.0)translate(0,4.5)\"><tspan style=\"font-size:16.0px\">This is a </tspan><tspan style=\"fill:rgb(100%,0%,0%);fill-opacity:1.0;font-family:times;font-size:24.0px;font-weight:bold\">special</tspan><tspan style=\"font-size:16.0px\"> word.</tspan></text></g></g></svg><div class=\"toyplot-interactive\"></div></div>"
      ]
     },
     "metadata": {},
     "output_type": "display_data"
    }
   ],
   "source": [
    "canvas = toyplot.Canvas(width=600, height=200)\n",
    "canvas.text(300, 100, \"This is a <span style='fill:red;font-size:150%;font-weight:bold;font-family:times'>special</span> word.\", style={\"font-size\":\"16px\"});"
   ]
  },
  {
   "cell_type": "code",
   "execution_count": 14,
   "metadata": {
    "collapsed": false
   },
   "outputs": [],
   "source": [
    "import toyplot.pdf\n",
    "toyplot.pdf.render(canvas, \"test.pdf\")"
   ]
  },
  {
   "cell_type": "markdown",
   "metadata": {},
   "source": [
    "Note that additional tags and style attributes currently aren't allowed in rich-text.  We expect that the set of tags and attributes will expand in the future."
   ]
  },
  {
   "cell_type": "markdown",
   "metadata": {},
   "source": [
    "Keep in mind that you can use rich text formatting anywhere that text is displayed, including table cells, axis labels and tick labels.  You can also use rich text in format strings for tick locators - as an example, the :class:`toyplot.locator.Log` locator uses superscript tags to format tick labels for :ref:`log-scales`."
   ]
  },
  {
   "cell_type": "markdown",
   "metadata": {
    "collapsed": true
   },
   "source": [
    "## Coordinate System Text\n",
    "\n",
    "In addition to all the above, :ref:`cartesian-coordinates` and :ref:`numberline-coordinates` provide additional parameters that affect text layout and alignment.\n",
    "\n",
    "First, ticks and labels have a parameter `location` that controls whether they appear above or below an axis:"
   ]
  },
  {
   "cell_type": "code",
   "execution_count": 15,
   "metadata": {
    "collapsed": false
   },
   "outputs": [
    {
     "data": {
      "text/html": [
       "<div align=\"center\" class=\"toyplot\" id=\"t51ad9ca55095475d965d2e640f1b6ec6\"><svg class=\"toyplot-canvas-Canvas\" height=\"200.0px\" id=\"tf1960121308b472abb146acb925ffe3b\" preserveAspectRatio=\"xMidYMid meet\" style=\"background-color:transparent;fill:rgb(16.1%,15.3%,14.1%);fill-opacity:1.0;font-family:Helvetica;font-size:12px;opacity:1.0;stroke:rgb(16.1%,15.3%,14.1%);stroke-opacity:1.0;stroke-width:1.0\" viewBox=\"0 0 600.0 200.0\" width=\"600.0px\" xmlns=\"http://www.w3.org/2000/svg\" xmlns:toyplot=\"http://www.sandia.gov/toyplot\" xmlns:xlink=\"http://www.w3.org/1999/xlink\"><g class=\"toyplot-coordinates-Numberline\" id=\"t875ff56ff2cb483fa41fee39b3c43ec5\"><clipPath id=\"t82a146d47fd840df941108a6b3c71cdf\"><rect height=\"40.0\" width=\"500.0\" x=\"0\" y=\"-20.0\"></rect></clipPath><g clip-path=\"url(#t82a146d47fd840df941108a6b3c71cdf)\" transform=\"translate(50.0,50.0)\"></g><g class=\"toyplot-coordinates-Axis\" id=\"t183d09868a4d4ec28ca21ea768da6f38\" transform=\"translate(50.0,50.0)translate(0,20.0)\"><line style=\"\" x1=\"0\" x2=\"500.0\" y1=\"0\" y2=\"0\"></line><g><text style=\"font-weight:normal;stroke:none;text-anchor:middle\" transform=\"translate(0.0,-6)\"><tspan style=\"font-size:10.0px\">-0.5</tspan></text><text style=\"font-weight:normal;stroke:none;text-anchor:middle\" transform=\"translate(250.0,-6)\"><tspan style=\"font-size:10.0px\">0.0</tspan></text><text style=\"font-weight:normal;stroke:none;text-anchor:middle\" transform=\"translate(500.0,-6)\"><tspan style=\"font-size:10.0px\">0.5</tspan></text></g><g class=\"toyplot-coordinates-Axis-coordinates\" style=\"visibility:hidden\" transform=\"\"><line style=\"stroke:rgb(43.9%,50.2%,56.5%);stroke-opacity:1.0;stroke-width:1.0\" x1=\"0\" x2=\"0\" y1=\"3.0\" y2=\"-4.5\"></line><text style=\"alignment-baseline:hanging;fill:rgb(43.9%,50.2%,56.5%);fill-opacity:1.0;font-size:10px;font-weight:normal;stroke:none;text-anchor:middle\" x=\"0\" y=\"6\"></text></g></g></g><g class=\"toyplot-coordinates-Numberline\" id=\"t6d7e71eb522244dbb8d0c71acaa9050e\"><clipPath id=\"t6964bdd6ec64408282d9e660a20b7da0\"><rect height=\"40.0\" width=\"500.0\" x=\"0\" y=\"-20.0\"></rect></clipPath><g clip-path=\"url(#t6964bdd6ec64408282d9e660a20b7da0)\" transform=\"translate(50.0,150.0)\"></g><g class=\"toyplot-coordinates-Axis\" id=\"t45a5b7060a024645bed8b88dae00b387\" transform=\"translate(50.0,150.0)translate(0,20.0)\"><line style=\"\" x1=\"0\" x2=\"500.0\" y1=\"0\" y2=\"0\"></line><g><text style=\"font-weight:normal;stroke:none;text-anchor:middle\" transform=\"translate(0.0,6)translate(0,7.5)\"><tspan style=\"font-size:10.0px\">-0.5</tspan></text><text style=\"font-weight:normal;stroke:none;text-anchor:middle\" transform=\"translate(250.0,6)translate(0,7.5)\"><tspan style=\"font-size:10.0px\">0.0</tspan></text><text style=\"font-weight:normal;stroke:none;text-anchor:middle\" transform=\"translate(500.0,6)translate(0,7.5)\"><tspan style=\"font-size:10.0px\">0.5</tspan></text></g><g class=\"toyplot-coordinates-Axis-coordinates\" style=\"visibility:hidden\" transform=\"\"><line style=\"stroke:rgb(43.9%,50.2%,56.5%);stroke-opacity:1.0;stroke-width:1.0\" x1=\"0\" x2=\"0\" y1=\"-3.0\" y2=\"4.5\"></line><text style=\"alignment-baseline:alphabetic;fill:rgb(43.9%,50.2%,56.5%);fill-opacity:1.0;font-size:10px;font-weight:normal;stroke:none;text-anchor:middle\" x=\"0\" y=\"-6\"></text></g></g></g></svg><div class=\"toyplot-interactive\"><script>\n",
       "        (function()\n",
       "        {\n",
       "            function _sign(x)\n",
       "            {\n",
       "                return x < 0 ? -1 : x > 0 ? 1 : 0;\n",
       "            }\n",
       "\n",
       "            function _mix(a, b, amount)\n",
       "            {\n",
       "                return ((1.0 - amount) * a) + (amount * b);\n",
       "            }\n",
       "\n",
       "            function _log(x, base)\n",
       "            {\n",
       "                return Math.log(Math.abs(x)) / Math.log(base);\n",
       "            }\n",
       "\n",
       "            function _in_range(a, x, b)\n",
       "            {\n",
       "                var left = Math.min(a, b);\n",
       "                var right = Math.max(a, b);\n",
       "                return left <= x && x <= right;\n",
       "            }\n",
       "\n",
       "            function inside(range, projection)\n",
       "            {\n",
       "                for(var i = 0; i != projection.length; ++i)\n",
       "                {\n",
       "                    var segment = projection[i];\n",
       "                    if(_in_range(segment.range.min, range, segment.range.max))\n",
       "                        return true;\n",
       "                }\n",
       "                return false;\n",
       "            }\n",
       "\n",
       "            function to_domain(range, projection)\n",
       "            {\n",
       "                for(var i = 0; i != projection.length; ++i)\n",
       "                {\n",
       "                    var segment = projection[i];\n",
       "                    if(_in_range(segment.range.bounds.min, range, segment.range.bounds.max))\n",
       "                    {\n",
       "                        if(segment.scale == \"linear\")\n",
       "                        {\n",
       "                            var amount = (range - segment.range.min) / (segment.range.max - segment.range.min);\n",
       "                            return _mix(segment.domain.min, segment.domain.max, amount)\n",
       "                        }\n",
       "                        else if(segment.scale[0] == \"log\")\n",
       "                        {\n",
       "                            var amount = (range - segment.range.min) / (segment.range.max - segment.range.min);\n",
       "                            var base = segment.scale[1];\n",
       "                            return _sign(segment.domain.min) * Math.pow(base, _mix(_log(segment.domain.min, base), _log(segment.domain.max, base), amount));\n",
       "                        }\n",
       "                    }\n",
       "                }\n",
       "            }\n",
       "\n",
       "            function display_coordinates(e)\n",
       "            {\n",
       "                var current = svg.createSVGPoint();\n",
       "                current.x = e.clientX;\n",
       "                current.y = e.clientY;\n",
       "\n",
       "                for(var axis_id in axes)\n",
       "                {\n",
       "                    var axis = document.querySelector(\"#\" + axis_id);\n",
       "                    var coordinates = axis.querySelector(\".toyplot-coordinates-Axis-coordinates\");\n",
       "                    if(coordinates)\n",
       "                    {\n",
       "                        var projection = axes[axis_id];\n",
       "                        var local = current.matrixTransform(axis.getScreenCTM().inverse());\n",
       "                        if(inside(local.x, projection))\n",
       "                        {\n",
       "                            var domain = to_domain(local.x, projection);\n",
       "                            coordinates.style.visibility = \"visible\";\n",
       "                            coordinates.setAttribute(\"transform\", \"translate(\" + local.x + \")\");\n",
       "                            var text = coordinates.querySelector(\"text\");\n",
       "                            text.textContent = domain.toFixed(2);\n",
       "                        }\n",
       "                        else\n",
       "                        {\n",
       "                            coordinates.style.visibility= \"hidden\";\n",
       "                        }\n",
       "                    }\n",
       "                }\n",
       "            }\n",
       "\n",
       "            var root_id = \"t51ad9ca55095475d965d2e640f1b6ec6\";\n",
       "            var axes = {\"t183d09868a4d4ec28ca21ea768da6f38\": [{\"domain\": {\"bounds\": {\"max\": Infinity, \"min\": -Infinity}, \"max\": 0.5, \"min\": -0.5}, \"range\": {\"bounds\": {\"max\": Infinity, \"min\": -Infinity}, \"max\": 500.0, \"min\": 0.0}, \"scale\": \"linear\"}], \"t45a5b7060a024645bed8b88dae00b387\": [{\"domain\": {\"bounds\": {\"max\": Infinity, \"min\": -Infinity}, \"max\": 0.5, \"min\": -0.5}, \"range\": {\"bounds\": {\"max\": Infinity, \"min\": -Infinity}, \"max\": 500.0, \"min\": 0.0}, \"scale\": \"linear\"}]};\n",
       "\n",
       "            var svg = document.querySelector(\"#\" + root_id + \" svg\");\n",
       "            svg.addEventListener(\"click\", display_coordinates);\n",
       "        })();\n",
       "        </script></div></div>"
      ]
     },
     "metadata": {},
     "output_type": "display_data"
    }
   ],
   "source": [
    "canvas = toyplot.Canvas(width=600, height=200)\n",
    "\n",
    "numberline1 = canvas.numberline(grid=(2, 1, 0))\n",
    "numberline1.axis.ticks.location=\"above\"\n",
    "\n",
    "numberline2 = canvas.numberline(grid=(2, 1, 1))\n",
    "numberline2.axis.ticks.location=\"below\""
   ]
  },
  {
   "cell_type": "markdown",
   "metadata": {},
   "source": [
    "Note that although the location can be specified explicitly, in most cases the defaults should just work ... note how the location of the Y axis ticks and labels automatically changes from \"above\" to \"below\" when the Y axis spine is repositioned in the following example:"
   ]
  },
  {
   "cell_type": "code",
   "execution_count": 16,
   "metadata": {
    "collapsed": false
   },
   "outputs": [
    {
     "data": {
      "text/html": [
       "<div align=\"center\" class=\"toyplot\" id=\"tfdba8c590ece441582ddc0971e7e08c9\"><svg class=\"toyplot-canvas-Canvas\" height=\"300.0px\" id=\"tb8cd7a0d92d747a9b7b76de238042804\" preserveAspectRatio=\"xMidYMid meet\" style=\"background-color:transparent;fill:rgb(16.1%,15.3%,14.1%);fill-opacity:1.0;font-family:Helvetica;font-size:12px;opacity:1.0;stroke:rgb(16.1%,15.3%,14.1%);stroke-opacity:1.0;stroke-width:1.0\" viewBox=\"0 0 600.0 300.0\" width=\"600.0px\" xmlns=\"http://www.w3.org/2000/svg\" xmlns:toyplot=\"http://www.sandia.gov/toyplot\" xmlns:xlink=\"http://www.w3.org/1999/xlink\"><g class=\"toyplot-coordinates-Cartesian\" id=\"t398c65baefdd47d7b5f4c43b484aa440\"><clipPath id=\"t198f7b4e77054e89b76d0b5da431ce4f\"><rect height=\"220.0\" width=\"220.0\" x=\"40.0\" y=\"40.0\"></rect></clipPath><g clip-path=\"url(#t198f7b4e77054e89b76d0b5da431ce4f)\"></g><g class=\"toyplot-coordinates-Axis\" id=\"tad72b8c680334fdc8c50e83e324afe7e\" transform=\"translate(50.0,250.0)translate(0,10.0)\"><line style=\"\" x1=\"0\" x2=\"200.0\" y1=\"0\" y2=\"0\"></line><g><text style=\"font-weight:normal;stroke:none;text-anchor:middle\" transform=\"translate(0.0,6)translate(0,7.5)\"><tspan style=\"font-size:10.0px\">-0.5</tspan></text><text style=\"font-weight:normal;stroke:none;text-anchor:middle\" transform=\"translate(100.0,6)translate(0,7.5)\"><tspan style=\"font-size:10.0px\">0.0</tspan></text><text style=\"font-weight:normal;stroke:none;text-anchor:middle\" transform=\"translate(200.0,6)translate(0,7.5)\"><tspan style=\"font-size:10.0px\">0.5</tspan></text></g><g class=\"toyplot-coordinates-Axis-coordinates\" style=\"visibility:hidden\" transform=\"\"><line style=\"stroke:rgb(43.9%,50.2%,56.5%);stroke-opacity:1.0;stroke-width:1.0\" x1=\"0\" x2=\"0\" y1=\"-3.0\" y2=\"4.5\"></line><text style=\"alignment-baseline:alphabetic;fill:rgb(43.9%,50.2%,56.5%);fill-opacity:1.0;font-size:10px;font-weight:normal;stroke:none;text-anchor:middle\" x=\"0\" y=\"-6\"></text></g></g><g class=\"toyplot-coordinates-Axis\" id=\"t27390af1b94e4d1380ee447f0cab341e\" transform=\"translate(50.0,250.0)rotate(-90.0)translate(0,-10.0)\"><line style=\"\" x1=\"0\" x2=\"200.0\" y1=\"0\" y2=\"0\"></line><g><text style=\"font-weight:normal;stroke:none;text-anchor:middle\" transform=\"translate(0.0,-6)\"><tspan style=\"font-size:10.0px\">-0.5</tspan></text><text style=\"font-weight:normal;stroke:none;text-anchor:middle\" transform=\"translate(100.0,-6)\"><tspan style=\"font-size:10.0px\">0.0</tspan></text><text style=\"font-weight:normal;stroke:none;text-anchor:middle\" transform=\"translate(200.0,-6)\"><tspan style=\"font-size:10.0px\">0.5</tspan></text></g><g class=\"toyplot-coordinates-Axis-coordinates\" style=\"visibility:hidden\" transform=\"\"><line style=\"stroke:rgb(43.9%,50.2%,56.5%);stroke-opacity:1.0;stroke-width:1.0\" x1=\"0\" x2=\"0\" y1=\"3.0\" y2=\"-4.5\"></line><text style=\"alignment-baseline:hanging;fill:rgb(43.9%,50.2%,56.5%);fill-opacity:1.0;font-size:10px;font-weight:normal;stroke:none;text-anchor:middle\" x=\"0\" y=\"6\"></text></g></g></g><g class=\"toyplot-coordinates-Cartesian\" id=\"tc7151dabcfbb4e0f80b56b30db851b90\"><clipPath id=\"t0307acd6b8764c8a8bcc0881d0192f87\"><rect height=\"220.0\" width=\"220.0\" x=\"340.0\" y=\"40.0\"></rect></clipPath><g clip-path=\"url(#t0307acd6b8764c8a8bcc0881d0192f87)\"></g><g class=\"toyplot-coordinates-Axis\" id=\"t932f7458265240a798e6dd4e09777ab5\" transform=\"translate(350.0,250.0)translate(0,10.0)\"><line style=\"\" x1=\"0\" x2=\"200.0\" y1=\"0\" y2=\"0\"></line><g><text style=\"font-weight:normal;stroke:none;text-anchor:middle\" transform=\"translate(0.0,6)translate(0,7.5)\"><tspan style=\"font-size:10.0px\">-0.5</tspan></text><text style=\"font-weight:normal;stroke:none;text-anchor:middle\" transform=\"translate(100.0,6)translate(0,7.5)\"><tspan style=\"font-size:10.0px\">0.0</tspan></text><text style=\"font-weight:normal;stroke:none;text-anchor:middle\" transform=\"translate(200.0,6)translate(0,7.5)\"><tspan style=\"font-size:10.0px\">0.5</tspan></text></g><g class=\"toyplot-coordinates-Axis-coordinates\" style=\"visibility:hidden\" transform=\"\"><line style=\"stroke:rgb(43.9%,50.2%,56.5%);stroke-opacity:1.0;stroke-width:1.0\" x1=\"0\" x2=\"0\" y1=\"-3.0\" y2=\"4.5\"></line><text style=\"alignment-baseline:alphabetic;fill:rgb(43.9%,50.2%,56.5%);fill-opacity:1.0;font-size:10px;font-weight:normal;stroke:none;text-anchor:middle\" x=\"0\" y=\"-6\"></text></g></g><g class=\"toyplot-coordinates-Axis\" id=\"tc819d372408a4457ac53b526b398103b\" transform=\"translate(550.0,250.0)rotate(-90.0)translate(0,10.0)\"><line style=\"\" x1=\"0\" x2=\"200.0\" y1=\"0\" y2=\"0\"></line><g><text style=\"font-weight:normal;stroke:none;text-anchor:middle\" transform=\"translate(0.0,6)translate(0,7.5)\"><tspan style=\"font-size:10.0px\">-0.5</tspan></text><text style=\"font-weight:normal;stroke:none;text-anchor:middle\" transform=\"translate(100.0,6)translate(0,7.5)\"><tspan style=\"font-size:10.0px\">0.0</tspan></text><text style=\"font-weight:normal;stroke:none;text-anchor:middle\" transform=\"translate(200.0,6)translate(0,7.5)\"><tspan style=\"font-size:10.0px\">0.5</tspan></text></g><g class=\"toyplot-coordinates-Axis-coordinates\" style=\"visibility:hidden\" transform=\"\"><line style=\"stroke:rgb(43.9%,50.2%,56.5%);stroke-opacity:1.0;stroke-width:1.0\" x1=\"0\" x2=\"0\" y1=\"-3.0\" y2=\"4.5\"></line><text style=\"alignment-baseline:alphabetic;fill:rgb(43.9%,50.2%,56.5%);fill-opacity:1.0;font-size:10px;font-weight:normal;stroke:none;text-anchor:middle\" x=\"0\" y=\"-6\"></text></g></g></g></svg><div class=\"toyplot-interactive\"><script>\n",
       "        (function()\n",
       "        {\n",
       "            function _sign(x)\n",
       "            {\n",
       "                return x < 0 ? -1 : x > 0 ? 1 : 0;\n",
       "            }\n",
       "\n",
       "            function _mix(a, b, amount)\n",
       "            {\n",
       "                return ((1.0 - amount) * a) + (amount * b);\n",
       "            }\n",
       "\n",
       "            function _log(x, base)\n",
       "            {\n",
       "                return Math.log(Math.abs(x)) / Math.log(base);\n",
       "            }\n",
       "\n",
       "            function _in_range(a, x, b)\n",
       "            {\n",
       "                var left = Math.min(a, b);\n",
       "                var right = Math.max(a, b);\n",
       "                return left <= x && x <= right;\n",
       "            }\n",
       "\n",
       "            function inside(range, projection)\n",
       "            {\n",
       "                for(var i = 0; i != projection.length; ++i)\n",
       "                {\n",
       "                    var segment = projection[i];\n",
       "                    if(_in_range(segment.range.min, range, segment.range.max))\n",
       "                        return true;\n",
       "                }\n",
       "                return false;\n",
       "            }\n",
       "\n",
       "            function to_domain(range, projection)\n",
       "            {\n",
       "                for(var i = 0; i != projection.length; ++i)\n",
       "                {\n",
       "                    var segment = projection[i];\n",
       "                    if(_in_range(segment.range.bounds.min, range, segment.range.bounds.max))\n",
       "                    {\n",
       "                        if(segment.scale == \"linear\")\n",
       "                        {\n",
       "                            var amount = (range - segment.range.min) / (segment.range.max - segment.range.min);\n",
       "                            return _mix(segment.domain.min, segment.domain.max, amount)\n",
       "                        }\n",
       "                        else if(segment.scale[0] == \"log\")\n",
       "                        {\n",
       "                            var amount = (range - segment.range.min) / (segment.range.max - segment.range.min);\n",
       "                            var base = segment.scale[1];\n",
       "                            return _sign(segment.domain.min) * Math.pow(base, _mix(_log(segment.domain.min, base), _log(segment.domain.max, base), amount));\n",
       "                        }\n",
       "                    }\n",
       "                }\n",
       "            }\n",
       "\n",
       "            function display_coordinates(e)\n",
       "            {\n",
       "                var current = svg.createSVGPoint();\n",
       "                current.x = e.clientX;\n",
       "                current.y = e.clientY;\n",
       "\n",
       "                for(var axis_id in axes)\n",
       "                {\n",
       "                    var axis = document.querySelector(\"#\" + axis_id);\n",
       "                    var coordinates = axis.querySelector(\".toyplot-coordinates-Axis-coordinates\");\n",
       "                    if(coordinates)\n",
       "                    {\n",
       "                        var projection = axes[axis_id];\n",
       "                        var local = current.matrixTransform(axis.getScreenCTM().inverse());\n",
       "                        if(inside(local.x, projection))\n",
       "                        {\n",
       "                            var domain = to_domain(local.x, projection);\n",
       "                            coordinates.style.visibility = \"visible\";\n",
       "                            coordinates.setAttribute(\"transform\", \"translate(\" + local.x + \")\");\n",
       "                            var text = coordinates.querySelector(\"text\");\n",
       "                            text.textContent = domain.toFixed(2);\n",
       "                        }\n",
       "                        else\n",
       "                        {\n",
       "                            coordinates.style.visibility= \"hidden\";\n",
       "                        }\n",
       "                    }\n",
       "                }\n",
       "            }\n",
       "\n",
       "            var root_id = \"tfdba8c590ece441582ddc0971e7e08c9\";\n",
       "            var axes = {\"t27390af1b94e4d1380ee447f0cab341e\": [{\"domain\": {\"bounds\": {\"max\": Infinity, \"min\": -Infinity}, \"max\": 0.5, \"min\": -0.5}, \"range\": {\"bounds\": {\"max\": Infinity, \"min\": -Infinity}, \"max\": 200.0, \"min\": 0.0}, \"scale\": \"linear\"}], \"t932f7458265240a798e6dd4e09777ab5\": [{\"domain\": {\"bounds\": {\"max\": Infinity, \"min\": -Infinity}, \"max\": 0.5, \"min\": -0.5}, \"range\": {\"bounds\": {\"max\": Infinity, \"min\": -Infinity}, \"max\": 200.0, \"min\": 0.0}, \"scale\": \"linear\"}], \"tad72b8c680334fdc8c50e83e324afe7e\": [{\"domain\": {\"bounds\": {\"max\": Infinity, \"min\": -Infinity}, \"max\": 0.5, \"min\": -0.5}, \"range\": {\"bounds\": {\"max\": Infinity, \"min\": -Infinity}, \"max\": 200.0, \"min\": 0.0}, \"scale\": \"linear\"}], \"tc819d372408a4457ac53b526b398103b\": [{\"domain\": {\"bounds\": {\"max\": Infinity, \"min\": -Infinity}, \"max\": 0.5, \"min\": -0.5}, \"range\": {\"bounds\": {\"max\": Infinity, \"min\": -Infinity}, \"max\": 200.0, \"min\": 0.0}, \"scale\": \"linear\"}]};\n",
       "\n",
       "            var svg = document.querySelector(\"#\" + root_id + \" svg\");\n",
       "            svg.addEventListener(\"click\", display_coordinates);\n",
       "        })();\n",
       "        </script></div></div>"
      ]
     },
     "metadata": {},
     "output_type": "display_data"
    }
   ],
   "source": [
    "canvas = toyplot.Canvas(width=600, height=300)\n",
    "\n",
    "axis1 = canvas.cartesian(grid=(1, 2, 0))\n",
    "\n",
    "axis2 = canvas.cartesian(grid=(1, 2, 1))\n",
    "axis2.y.spine.position=\"high\""
   ]
  },
  {
   "cell_type": "markdown",
   "metadata": {},
   "source": [
    "In addition to positioning tick labels above or below an axis, you can also adjust their `offset` - the distance from the axis spine to the text anchor.  The `offset` parameter is specified so that increasing values move text further from the axis, whether its location is above or below - in the following example, note that both offsets are positive:  "
   ]
  },
  {
   "cell_type": "code",
   "execution_count": 17,
   "metadata": {
    "collapsed": false
   },
   "outputs": [
    {
     "data": {
      "text/html": [
       "<div align=\"center\" class=\"toyplot\" id=\"t95a6fdac4e9c4e63bc05b43a356224b0\"><svg class=\"toyplot-canvas-Canvas\" height=\"300.0px\" id=\"tfb2cd513cc474990b58bd36d87415ca4\" preserveAspectRatio=\"xMidYMid meet\" style=\"background-color:transparent;fill:rgb(16.1%,15.3%,14.1%);fill-opacity:1.0;font-family:Helvetica;font-size:12px;opacity:1.0;stroke:rgb(16.1%,15.3%,14.1%);stroke-opacity:1.0;stroke-width:1.0\" viewBox=\"0 0 600.0 300.0\" width=\"600.0px\" xmlns=\"http://www.w3.org/2000/svg\" xmlns:toyplot=\"http://www.sandia.gov/toyplot\" xmlns:xlink=\"http://www.w3.org/1999/xlink\"><g class=\"toyplot-coordinates-Cartesian\" id=\"t88d9f71c69304996b93447020732302c\"><clipPath id=\"tf571397bda434ab6bf3428c59c3241bd\"><rect height=\"220.0\" width=\"220.0\" x=\"40.0\" y=\"40.0\"></rect></clipPath><g clip-path=\"url(#tf571397bda434ab6bf3428c59c3241bd)\"></g><g class=\"toyplot-coordinates-Axis\" id=\"t8f59de5621944ed9ba454a03ac4ccc9d\" transform=\"translate(50.0,250.0)translate(0,10.0)\"><line style=\"\" x1=\"0\" x2=\"200.0\" y1=\"0\" y2=\"0\"></line><g><text style=\"font-weight:normal;stroke:none;text-anchor:middle\" transform=\"translate(0.0,6)translate(0,7.5)\"><tspan style=\"font-size:10.0px\">-0.5</tspan></text><text style=\"font-weight:normal;stroke:none;text-anchor:middle\" transform=\"translate(100.0,6)translate(0,7.5)\"><tspan style=\"font-size:10.0px\">0.0</tspan></text><text style=\"font-weight:normal;stroke:none;text-anchor:middle\" transform=\"translate(200.0,6)translate(0,7.5)\"><tspan style=\"font-size:10.0px\">0.5</tspan></text></g><g class=\"toyplot-coordinates-Axis-coordinates\" style=\"visibility:hidden\" transform=\"\"><line style=\"stroke:rgb(43.9%,50.2%,56.5%);stroke-opacity:1.0;stroke-width:1.0\" x1=\"0\" x2=\"0\" y1=\"-3.0\" y2=\"4.5\"></line><text style=\"alignment-baseline:alphabetic;fill:rgb(43.9%,50.2%,56.5%);fill-opacity:1.0;font-size:10px;font-weight:normal;stroke:none;text-anchor:middle\" x=\"0\" y=\"-6\"></text></g></g><g class=\"toyplot-coordinates-Axis\" id=\"td7f2cdc2707f47f2adae67d060f9d865\" transform=\"translate(50.0,250.0)rotate(-90.0)translate(0,-10.0)\"><line style=\"\" x1=\"0\" x2=\"200.0\" y1=\"0\" y2=\"0\"></line><g><text style=\"font-weight:normal;stroke:none;text-anchor:middle\" transform=\"translate(0.0,-30.0)\"><tspan style=\"font-size:10.0px\">-0.5</tspan></text><text style=\"font-weight:normal;stroke:none;text-anchor:middle\" transform=\"translate(100.0,-30.0)\"><tspan style=\"font-size:10.0px\">0.0</tspan></text><text style=\"font-weight:normal;stroke:none;text-anchor:middle\" transform=\"translate(200.0,-30.0)\"><tspan style=\"font-size:10.0px\">0.5</tspan></text></g><g class=\"toyplot-coordinates-Axis-coordinates\" style=\"visibility:hidden\" transform=\"\"><line style=\"stroke:rgb(43.9%,50.2%,56.5%);stroke-opacity:1.0;stroke-width:1.0\" x1=\"0\" x2=\"0\" y1=\"15.0\" y2=\"-22.5\"></line><text style=\"alignment-baseline:hanging;fill:rgb(43.9%,50.2%,56.5%);fill-opacity:1.0;font-size:10px;font-weight:normal;stroke:none;text-anchor:middle\" x=\"0\" y=\"30.0\"></text></g></g></g><g class=\"toyplot-coordinates-Cartesian\" id=\"te0599c83783741b583830f02faddbd33\"><clipPath id=\"t8d9a29b1961b44f2a891a682beb26b4d\"><rect height=\"220.0\" width=\"220.0\" x=\"340.0\" y=\"40.0\"></rect></clipPath><g clip-path=\"url(#t8d9a29b1961b44f2a891a682beb26b4d)\"></g><g class=\"toyplot-coordinates-Axis\" id=\"t0fd6a9e1c15e4a1883d2e300697a4832\" transform=\"translate(350.0,250.0)translate(0,10.0)\"><line style=\"\" x1=\"0\" x2=\"200.0\" y1=\"0\" y2=\"0\"></line><g><text style=\"font-weight:normal;stroke:none;text-anchor:middle\" transform=\"translate(0.0,6)translate(0,7.5)\"><tspan style=\"font-size:10.0px\">-0.5</tspan></text><text style=\"font-weight:normal;stroke:none;text-anchor:middle\" transform=\"translate(100.0,6)translate(0,7.5)\"><tspan style=\"font-size:10.0px\">0.0</tspan></text><text style=\"font-weight:normal;stroke:none;text-anchor:middle\" transform=\"translate(200.0,6)translate(0,7.5)\"><tspan style=\"font-size:10.0px\">0.5</tspan></text></g><g class=\"toyplot-coordinates-Axis-coordinates\" style=\"visibility:hidden\" transform=\"\"><line style=\"stroke:rgb(43.9%,50.2%,56.5%);stroke-opacity:1.0;stroke-width:1.0\" x1=\"0\" x2=\"0\" y1=\"-3.0\" y2=\"4.5\"></line><text style=\"alignment-baseline:alphabetic;fill:rgb(43.9%,50.2%,56.5%);fill-opacity:1.0;font-size:10px;font-weight:normal;stroke:none;text-anchor:middle\" x=\"0\" y=\"-6\"></text></g></g><g class=\"toyplot-coordinates-Axis\" id=\"tf202a82656db4ccbb6f678a292fddf5f\" transform=\"translate(550.0,250.0)rotate(-90.0)translate(0,10.0)\"><line style=\"\" x1=\"0\" x2=\"200.0\" y1=\"0\" y2=\"0\"></line><g><text style=\"font-weight:normal;stroke:none;text-anchor:middle\" transform=\"translate(0.0,30.0)translate(0,7.5)\"><tspan style=\"font-size:10.0px\">-0.5</tspan></text><text style=\"font-weight:normal;stroke:none;text-anchor:middle\" transform=\"translate(100.0,30.0)translate(0,7.5)\"><tspan style=\"font-size:10.0px\">0.0</tspan></text><text style=\"font-weight:normal;stroke:none;text-anchor:middle\" transform=\"translate(200.0,30.0)translate(0,7.5)\"><tspan style=\"font-size:10.0px\">0.5</tspan></text></g><g class=\"toyplot-coordinates-Axis-coordinates\" style=\"visibility:hidden\" transform=\"\"><line style=\"stroke:rgb(43.9%,50.2%,56.5%);stroke-opacity:1.0;stroke-width:1.0\" x1=\"0\" x2=\"0\" y1=\"-15.0\" y2=\"22.5\"></line><text style=\"alignment-baseline:alphabetic;fill:rgb(43.9%,50.2%,56.5%);fill-opacity:1.0;font-size:10px;font-weight:normal;stroke:none;text-anchor:middle\" x=\"0\" y=\"-30.0\"></text></g></g></g></svg><div class=\"toyplot-interactive\"><script>\n",
       "        (function()\n",
       "        {\n",
       "            function _sign(x)\n",
       "            {\n",
       "                return x < 0 ? -1 : x > 0 ? 1 : 0;\n",
       "            }\n",
       "\n",
       "            function _mix(a, b, amount)\n",
       "            {\n",
       "                return ((1.0 - amount) * a) + (amount * b);\n",
       "            }\n",
       "\n",
       "            function _log(x, base)\n",
       "            {\n",
       "                return Math.log(Math.abs(x)) / Math.log(base);\n",
       "            }\n",
       "\n",
       "            function _in_range(a, x, b)\n",
       "            {\n",
       "                var left = Math.min(a, b);\n",
       "                var right = Math.max(a, b);\n",
       "                return left <= x && x <= right;\n",
       "            }\n",
       "\n",
       "            function inside(range, projection)\n",
       "            {\n",
       "                for(var i = 0; i != projection.length; ++i)\n",
       "                {\n",
       "                    var segment = projection[i];\n",
       "                    if(_in_range(segment.range.min, range, segment.range.max))\n",
       "                        return true;\n",
       "                }\n",
       "                return false;\n",
       "            }\n",
       "\n",
       "            function to_domain(range, projection)\n",
       "            {\n",
       "                for(var i = 0; i != projection.length; ++i)\n",
       "                {\n",
       "                    var segment = projection[i];\n",
       "                    if(_in_range(segment.range.bounds.min, range, segment.range.bounds.max))\n",
       "                    {\n",
       "                        if(segment.scale == \"linear\")\n",
       "                        {\n",
       "                            var amount = (range - segment.range.min) / (segment.range.max - segment.range.min);\n",
       "                            return _mix(segment.domain.min, segment.domain.max, amount)\n",
       "                        }\n",
       "                        else if(segment.scale[0] == \"log\")\n",
       "                        {\n",
       "                            var amount = (range - segment.range.min) / (segment.range.max - segment.range.min);\n",
       "                            var base = segment.scale[1];\n",
       "                            return _sign(segment.domain.min) * Math.pow(base, _mix(_log(segment.domain.min, base), _log(segment.domain.max, base), amount));\n",
       "                        }\n",
       "                    }\n",
       "                }\n",
       "            }\n",
       "\n",
       "            function display_coordinates(e)\n",
       "            {\n",
       "                var current = svg.createSVGPoint();\n",
       "                current.x = e.clientX;\n",
       "                current.y = e.clientY;\n",
       "\n",
       "                for(var axis_id in axes)\n",
       "                {\n",
       "                    var axis = document.querySelector(\"#\" + axis_id);\n",
       "                    var coordinates = axis.querySelector(\".toyplot-coordinates-Axis-coordinates\");\n",
       "                    if(coordinates)\n",
       "                    {\n",
       "                        var projection = axes[axis_id];\n",
       "                        var local = current.matrixTransform(axis.getScreenCTM().inverse());\n",
       "                        if(inside(local.x, projection))\n",
       "                        {\n",
       "                            var domain = to_domain(local.x, projection);\n",
       "                            coordinates.style.visibility = \"visible\";\n",
       "                            coordinates.setAttribute(\"transform\", \"translate(\" + local.x + \")\");\n",
       "                            var text = coordinates.querySelector(\"text\");\n",
       "                            text.textContent = domain.toFixed(2);\n",
       "                        }\n",
       "                        else\n",
       "                        {\n",
       "                            coordinates.style.visibility= \"hidden\";\n",
       "                        }\n",
       "                    }\n",
       "                }\n",
       "            }\n",
       "\n",
       "            var root_id = \"t95a6fdac4e9c4e63bc05b43a356224b0\";\n",
       "            var axes = {\"t0fd6a9e1c15e4a1883d2e300697a4832\": [{\"domain\": {\"bounds\": {\"max\": Infinity, \"min\": -Infinity}, \"max\": 0.5, \"min\": -0.5}, \"range\": {\"bounds\": {\"max\": Infinity, \"min\": -Infinity}, \"max\": 200.0, \"min\": 0.0}, \"scale\": \"linear\"}], \"t8f59de5621944ed9ba454a03ac4ccc9d\": [{\"domain\": {\"bounds\": {\"max\": Infinity, \"min\": -Infinity}, \"max\": 0.5, \"min\": -0.5}, \"range\": {\"bounds\": {\"max\": Infinity, \"min\": -Infinity}, \"max\": 200.0, \"min\": 0.0}, \"scale\": \"linear\"}], \"td7f2cdc2707f47f2adae67d060f9d865\": [{\"domain\": {\"bounds\": {\"max\": Infinity, \"min\": -Infinity}, \"max\": 0.5, \"min\": -0.5}, \"range\": {\"bounds\": {\"max\": Infinity, \"min\": -Infinity}, \"max\": 200.0, \"min\": 0.0}, \"scale\": \"linear\"}], \"tf202a82656db4ccbb6f678a292fddf5f\": [{\"domain\": {\"bounds\": {\"max\": Infinity, \"min\": -Infinity}, \"max\": 0.5, \"min\": -0.5}, \"range\": {\"bounds\": {\"max\": Infinity, \"min\": -Infinity}, \"max\": 200.0, \"min\": 0.0}, \"scale\": \"linear\"}]};\n",
       "\n",
       "            var svg = document.querySelector(\"#\" + root_id + \" svg\");\n",
       "            svg.addEventListener(\"click\", display_coordinates);\n",
       "        })();\n",
       "        </script></div></div>"
      ]
     },
     "metadata": {},
     "output_type": "display_data"
    }
   ],
   "source": [
    "canvas = toyplot.Canvas(width=600, height=300)\n",
    "\n",
    "axis1 = canvas.cartesian(grid=(1, 2, 0))\n",
    "axis1.y.ticks.labels.offset=30\n",
    "\n",
    "axis2 = canvas.cartesian(grid=(1, 2, 1))\n",
    "axis2.y.spine.position=\"high\"\n",
    "axis2.y.ticks.labels.offset=30"
   ]
  },
  {
   "cell_type": "markdown",
   "metadata": {},
   "source": [
    "The default text alignment parameters have been carefully chosen to provide good quality layout even if you change the label font size, and regardless of label location:"
   ]
  },
  {
   "cell_type": "code",
   "execution_count": 18,
   "metadata": {
    "collapsed": false
   },
   "outputs": [
    {
     "data": {
      "text/html": [
       "<div align=\"center\" class=\"toyplot\" id=\"t425ba778f1234eb3a4b6917edc513596\"><svg class=\"toyplot-canvas-Canvas\" height=\"400.0px\" id=\"tb0c72d9a44d84d42bf6ba0de0e3f4d8b\" preserveAspectRatio=\"xMidYMid meet\" style=\"background-color:transparent;fill:rgb(16.1%,15.3%,14.1%);fill-opacity:1.0;font-family:Helvetica;font-size:12px;opacity:1.0;stroke:rgb(16.1%,15.3%,14.1%);stroke-opacity:1.0;stroke-width:1.0\" viewBox=\"0 0 600.0 400.0\" width=\"600.0px\" xmlns=\"http://www.w3.org/2000/svg\" xmlns:toyplot=\"http://www.sandia.gov/toyplot\" xmlns:xlink=\"http://www.w3.org/1999/xlink\"><g class=\"toyplot-coordinates-Numberline\" id=\"t6ecbcfb68c5e475cacf14933e11f54b4\"><clipPath id=\"t44f50d4c10fc45ccbc255247176d9eee\"><rect height=\"40.0\" width=\"500.0\" x=\"0\" y=\"-20.0\"></rect></clipPath><g clip-path=\"url(#t44f50d4c10fc45ccbc255247176d9eee)\" transform=\"translate(50.0,50.0)\"></g><g class=\"toyplot-coordinates-Axis\" id=\"t8db96147a6a54b688095194eae86e46d\" transform=\"translate(50.0,50.0)translate(0,20.0)\"><line style=\"\" x1=\"0\" x2=\"500.0\" y1=\"0\" y2=\"0\"></line><g><text style=\"font-weight:normal;stroke:none;text-anchor:middle\" transform=\"translate(0.0,-6)\"><tspan style=\"font-size:10.0px\">-0.5</tspan></text><text style=\"font-weight:normal;stroke:none;text-anchor:middle\" transform=\"translate(250.0,-6)\"><tspan style=\"font-size:10.0px\">0.0</tspan></text><text style=\"font-weight:normal;stroke:none;text-anchor:middle\" transform=\"translate(500.0,-6)\"><tspan style=\"font-size:10.0px\">0.5</tspan></text></g><g class=\"toyplot-coordinates-Axis-coordinates\" style=\"visibility:hidden\" transform=\"\"><line style=\"stroke:rgb(43.9%,50.2%,56.5%);stroke-opacity:1.0;stroke-width:1.0\" x1=\"0\" x2=\"0\" y1=\"3.0\" y2=\"-4.5\"></line><text style=\"alignment-baseline:hanging;fill:rgb(43.9%,50.2%,56.5%);fill-opacity:1.0;font-size:10px;font-weight:normal;stroke:none;text-anchor:middle\" x=\"0\" y=\"6\"></text></g></g></g><g class=\"toyplot-coordinates-Numberline\" id=\"t0993a9b334174af5bf37517bbebdbb7a\"><clipPath id=\"t4a9dd9525cce493b91e843ae8cca8a29\"><rect height=\"40.0\" width=\"500.0\" x=\"0\" y=\"-20.0\"></rect></clipPath><g clip-path=\"url(#t4a9dd9525cce493b91e843ae8cca8a29)\" transform=\"translate(50.0,150.0)\"></g><g class=\"toyplot-coordinates-Axis\" id=\"t69f026d216684416b9ebb474d8445ffc\" transform=\"translate(50.0,150.0)translate(0,20.0)\"><line style=\"\" x1=\"0\" x2=\"500.0\" y1=\"0\" y2=\"0\"></line><g><text style=\"font-weight:normal;stroke:none;text-anchor:middle\" transform=\"translate(0.0,-6)\"><tspan style=\"font-size:16.0px\">-0.5</tspan></text><text style=\"font-weight:normal;stroke:none;text-anchor:middle\" transform=\"translate(250.0,-6)\"><tspan style=\"font-size:16.0px\">0.0</tspan></text><text style=\"font-weight:normal;stroke:none;text-anchor:middle\" transform=\"translate(500.0,-6)\"><tspan style=\"font-size:16.0px\">0.5</tspan></text></g><g class=\"toyplot-coordinates-Axis-coordinates\" style=\"visibility:hidden\" transform=\"\"><line style=\"stroke:rgb(43.9%,50.2%,56.5%);stroke-opacity:1.0;stroke-width:1.0\" x1=\"0\" x2=\"0\" y1=\"3.0\" y2=\"-4.5\"></line><text style=\"alignment-baseline:hanging;fill:rgb(43.9%,50.2%,56.5%);fill-opacity:1.0;font-size:10px;font-weight:normal;stroke:none;text-anchor:middle\" x=\"0\" y=\"6\"></text></g></g></g><g class=\"toyplot-coordinates-Numberline\" id=\"t042c70692f234bfabd62d5cf6431bdd3\"><clipPath id=\"tdbc94c12ce134a3c9db322f050042434\"><rect height=\"40.0\" width=\"500.0\" x=\"0\" y=\"-20.0\"></rect></clipPath><g clip-path=\"url(#tdbc94c12ce134a3c9db322f050042434)\" transform=\"translate(50.0,250.0)\"></g><g class=\"toyplot-coordinates-Axis\" id=\"tfae20df6243f429fa8422c6dc1cd0912\" transform=\"translate(50.0,250.0)translate(0,20.0)\"><line style=\"\" x1=\"0\" x2=\"500.0\" y1=\"0\" y2=\"0\"></line><g><text style=\"font-weight:normal;stroke:none;text-anchor:middle\" transform=\"translate(0.0,6)translate(0,7.5)\"><tspan style=\"font-size:10.0px\">-0.5</tspan></text><text style=\"font-weight:normal;stroke:none;text-anchor:middle\" transform=\"translate(250.0,6)translate(0,7.5)\"><tspan style=\"font-size:10.0px\">0.0</tspan></text><text style=\"font-weight:normal;stroke:none;text-anchor:middle\" transform=\"translate(500.0,6)translate(0,7.5)\"><tspan style=\"font-size:10.0px\">0.5</tspan></text></g><g class=\"toyplot-coordinates-Axis-coordinates\" style=\"visibility:hidden\" transform=\"\"><line style=\"stroke:rgb(43.9%,50.2%,56.5%);stroke-opacity:1.0;stroke-width:1.0\" x1=\"0\" x2=\"0\" y1=\"-3.0\" y2=\"4.5\"></line><text style=\"alignment-baseline:alphabetic;fill:rgb(43.9%,50.2%,56.5%);fill-opacity:1.0;font-size:10px;font-weight:normal;stroke:none;text-anchor:middle\" x=\"0\" y=\"-6\"></text></g></g></g><g class=\"toyplot-coordinates-Numberline\" id=\"ta2733a537c5d43d3adf01d769c416688\"><clipPath id=\"t476557422e84410fae2056b459656e08\"><rect height=\"40.0\" width=\"500.0\" x=\"0\" y=\"-20.0\"></rect></clipPath><g clip-path=\"url(#t476557422e84410fae2056b459656e08)\" transform=\"translate(50.0,350.0)\"></g><g class=\"toyplot-coordinates-Axis\" id=\"t44762562a91a4bc6a454495790979467\" transform=\"translate(50.0,350.0)translate(0,20.0)\"><line style=\"\" x1=\"0\" x2=\"500.0\" y1=\"0\" y2=\"0\"></line><g><text style=\"font-weight:normal;stroke:none;text-anchor:middle\" transform=\"translate(0.0,6)translate(0,12.0)\"><tspan style=\"font-size:16.0px\">-0.5</tspan></text><text style=\"font-weight:normal;stroke:none;text-anchor:middle\" transform=\"translate(250.0,6)translate(0,12.0)\"><tspan style=\"font-size:16.0px\">0.0</tspan></text><text style=\"font-weight:normal;stroke:none;text-anchor:middle\" transform=\"translate(500.0,6)translate(0,12.0)\"><tspan style=\"font-size:16.0px\">0.5</tspan></text></g><g class=\"toyplot-coordinates-Axis-coordinates\" style=\"visibility:hidden\" transform=\"\"><line style=\"stroke:rgb(43.9%,50.2%,56.5%);stroke-opacity:1.0;stroke-width:1.0\" x1=\"0\" x2=\"0\" y1=\"-3.0\" y2=\"4.5\"></line><text style=\"alignment-baseline:alphabetic;fill:rgb(43.9%,50.2%,56.5%);fill-opacity:1.0;font-size:10px;font-weight:normal;stroke:none;text-anchor:middle\" x=\"0\" y=\"-6\"></text></g></g></g></svg><div class=\"toyplot-interactive\"><script>\n",
       "        (function()\n",
       "        {\n",
       "            function _sign(x)\n",
       "            {\n",
       "                return x < 0 ? -1 : x > 0 ? 1 : 0;\n",
       "            }\n",
       "\n",
       "            function _mix(a, b, amount)\n",
       "            {\n",
       "                return ((1.0 - amount) * a) + (amount * b);\n",
       "            }\n",
       "\n",
       "            function _log(x, base)\n",
       "            {\n",
       "                return Math.log(Math.abs(x)) / Math.log(base);\n",
       "            }\n",
       "\n",
       "            function _in_range(a, x, b)\n",
       "            {\n",
       "                var left = Math.min(a, b);\n",
       "                var right = Math.max(a, b);\n",
       "                return left <= x && x <= right;\n",
       "            }\n",
       "\n",
       "            function inside(range, projection)\n",
       "            {\n",
       "                for(var i = 0; i != projection.length; ++i)\n",
       "                {\n",
       "                    var segment = projection[i];\n",
       "                    if(_in_range(segment.range.min, range, segment.range.max))\n",
       "                        return true;\n",
       "                }\n",
       "                return false;\n",
       "            }\n",
       "\n",
       "            function to_domain(range, projection)\n",
       "            {\n",
       "                for(var i = 0; i != projection.length; ++i)\n",
       "                {\n",
       "                    var segment = projection[i];\n",
       "                    if(_in_range(segment.range.bounds.min, range, segment.range.bounds.max))\n",
       "                    {\n",
       "                        if(segment.scale == \"linear\")\n",
       "                        {\n",
       "                            var amount = (range - segment.range.min) / (segment.range.max - segment.range.min);\n",
       "                            return _mix(segment.domain.min, segment.domain.max, amount)\n",
       "                        }\n",
       "                        else if(segment.scale[0] == \"log\")\n",
       "                        {\n",
       "                            var amount = (range - segment.range.min) / (segment.range.max - segment.range.min);\n",
       "                            var base = segment.scale[1];\n",
       "                            return _sign(segment.domain.min) * Math.pow(base, _mix(_log(segment.domain.min, base), _log(segment.domain.max, base), amount));\n",
       "                        }\n",
       "                    }\n",
       "                }\n",
       "            }\n",
       "\n",
       "            function display_coordinates(e)\n",
       "            {\n",
       "                var current = svg.createSVGPoint();\n",
       "                current.x = e.clientX;\n",
       "                current.y = e.clientY;\n",
       "\n",
       "                for(var axis_id in axes)\n",
       "                {\n",
       "                    var axis = document.querySelector(\"#\" + axis_id);\n",
       "                    var coordinates = axis.querySelector(\".toyplot-coordinates-Axis-coordinates\");\n",
       "                    if(coordinates)\n",
       "                    {\n",
       "                        var projection = axes[axis_id];\n",
       "                        var local = current.matrixTransform(axis.getScreenCTM().inverse());\n",
       "                        if(inside(local.x, projection))\n",
       "                        {\n",
       "                            var domain = to_domain(local.x, projection);\n",
       "                            coordinates.style.visibility = \"visible\";\n",
       "                            coordinates.setAttribute(\"transform\", \"translate(\" + local.x + \")\");\n",
       "                            var text = coordinates.querySelector(\"text\");\n",
       "                            text.textContent = domain.toFixed(2);\n",
       "                        }\n",
       "                        else\n",
       "                        {\n",
       "                            coordinates.style.visibility= \"hidden\";\n",
       "                        }\n",
       "                    }\n",
       "                }\n",
       "            }\n",
       "\n",
       "            var root_id = \"t425ba778f1234eb3a4b6917edc513596\";\n",
       "            var axes = {\"t44762562a91a4bc6a454495790979467\": [{\"domain\": {\"bounds\": {\"max\": Infinity, \"min\": -Infinity}, \"max\": 0.5, \"min\": -0.5}, \"range\": {\"bounds\": {\"max\": Infinity, \"min\": -Infinity}, \"max\": 500.0, \"min\": 0.0}, \"scale\": \"linear\"}], \"t69f026d216684416b9ebb474d8445ffc\": [{\"domain\": {\"bounds\": {\"max\": Infinity, \"min\": -Infinity}, \"max\": 0.5, \"min\": -0.5}, \"range\": {\"bounds\": {\"max\": Infinity, \"min\": -Infinity}, \"max\": 500.0, \"min\": 0.0}, \"scale\": \"linear\"}], \"t8db96147a6a54b688095194eae86e46d\": [{\"domain\": {\"bounds\": {\"max\": Infinity, \"min\": -Infinity}, \"max\": 0.5, \"min\": -0.5}, \"range\": {\"bounds\": {\"max\": Infinity, \"min\": -Infinity}, \"max\": 500.0, \"min\": 0.0}, \"scale\": \"linear\"}], \"tfae20df6243f429fa8422c6dc1cd0912\": [{\"domain\": {\"bounds\": {\"max\": Infinity, \"min\": -Infinity}, \"max\": 0.5, \"min\": -0.5}, \"range\": {\"bounds\": {\"max\": Infinity, \"min\": -Infinity}, \"max\": 500.0, \"min\": 0.0}, \"scale\": \"linear\"}]};\n",
       "\n",
       "            var svg = document.querySelector(\"#\" + root_id + \" svg\");\n",
       "            svg.addEventListener(\"click\", display_coordinates);\n",
       "        })();\n",
       "        </script></div></div>"
      ]
     },
     "metadata": {},
     "output_type": "display_data"
    }
   ],
   "source": [
    "canvas = toyplot.Canvas(width=600, height=400)\n",
    "\n",
    "numberline1 = canvas.numberline(grid=(4, 1, 0))\n",
    "numberline1.axis.ticks.location=\"above\"\n",
    "\n",
    "numberline2 = canvas.numberline(grid=(4, 1, 1))\n",
    "numberline2.axis.ticks.location=\"above\"\n",
    "numberline2.axis.ticks.labels.style = {\"font-size\":\"16px\"}\n",
    "\n",
    "numberline3 = canvas.numberline(grid=(4, 1, 2))\n",
    "numberline3.axis.ticks.location=\"below\"\n",
    "\n",
    "numberline4 = canvas.numberline(grid=(4, 1, 3))\n",
    "numberline4.axis.ticks.location=\"below\"\n",
    "numberline4.axis.ticks.labels.style = {\"font-size\":\"16px\"}"
   ]
  },
  {
   "cell_type": "markdown",
   "metadata": {},
   "source": [
    "Similarly, alignment parameters are automatically adjusted when you rotate tick labels, adjusting the anchor and baseline to provide good results:"
   ]
  },
  {
   "cell_type": "code",
   "execution_count": 19,
   "metadata": {
    "collapsed": false
   },
   "outputs": [
    {
     "data": {
      "text/html": [
       "<div align=\"center\" class=\"toyplot\" id=\"t2d511db663f84e0b999c24b1ec3e6381\"><svg class=\"toyplot-canvas-Canvas\" height=\"600px\" id=\"t98eb8ff0b74d42c682e5d95ab8d54f51\" preserveAspectRatio=\"xMidYMid meet\" style=\"background-color:transparent;fill:rgb(16.1%,15.3%,14.1%);fill-opacity:1.0;font-family:Helvetica;font-size:12px;opacity:1.0;stroke:rgb(16.1%,15.3%,14.1%);stroke-opacity:1.0;stroke-width:1.0\" viewBox=\"0 0 600 600\" width=\"600px\" xmlns=\"http://www.w3.org/2000/svg\" xmlns:toyplot=\"http://www.sandia.gov/toyplot\" xmlns:xlink=\"http://www.w3.org/1999/xlink\"><g class=\"toyplot-coordinates-Numberline\" id=\"t2fe10e0a4b9b4d1da28e570c4c7e283a\"><clipPath id=\"t6cba6e34909a4515b82b06d94cb14652\"><rect height=\"20.0\" width=\"480.0\" x=\"0\" y=\"-10.0\"></rect></clipPath><g clip-path=\"url(#t6cba6e34909a4515b82b06d94cb14652)\" transform=\"translate(300.0,540.0)rotate(-90.0)\"><g class=\"toyplot-color-Map\" id=\"t225799e0f1174388bd272ccf79a99349\"><defs><linearGradient gradientUnits=\"userSpaceOnUse\" id=\"t332f4dcff61a4dde9cc5cc264219170c\" x1=\"0.0\" x2=\"480.0\" y1=\"0\" y2=\"0\"><stop offset=\"0.0\" stop-color=\"rgb(1.96%,18.8%,38%)\" stop-opacity=\"1.0\"></stop><stop offset=\"0.015873015873\" stop-color=\"rgb(3.7%,22.2%,42.7%)\" stop-opacity=\"1.0\"></stop><stop offset=\"0.031746031746\" stop-color=\"rgb(5.45%,25.5%,47.4%)\" stop-opacity=\"1.0\"></stop><stop offset=\"0.047619047619\" stop-color=\"rgb(7.19%,28.9%,52%)\" stop-opacity=\"1.0\"></stop><stop offset=\"0.0634920634921\" stop-color=\"rgb(8.93%,32.3%,56.7%)\" stop-opacity=\"1.0\"></stop><stop offset=\"0.0793650793651\" stop-color=\"rgb(10.7%,35.6%,61.4%)\" stop-opacity=\"1.0\"></stop><stop offset=\"0.0952380952381\" stop-color=\"rgb(12.4%,39%,66.1%)\" stop-opacity=\"1.0\"></stop><stop offset=\"0.111111111111\" stop-color=\"rgb(14.4%,42%,68.5%)\" stop-opacity=\"1.0\"></stop><stop offset=\"0.126984126984\" stop-color=\"rgb(16.5%,44.8%,69.9%)\" stop-opacity=\"1.0\"></stop><stop offset=\"0.142857142857\" stop-color=\"rgb(18.7%,47.6%,71.3%)\" stop-opacity=\"1.0\"></stop><stop offset=\"0.15873015873\" stop-color=\"rgb(20.8%,50.4%,72.7%)\" stop-opacity=\"1.0\"></stop><stop offset=\"0.174603174603\" stop-color=\"rgb(22.9%,53.2%,74.2%)\" stop-opacity=\"1.0\"></stop><stop offset=\"0.190476190476\" stop-color=\"rgb(25%,56%,75.6%)\" stop-opacity=\"1.0\"></stop><stop offset=\"0.206349206349\" stop-color=\"rgb(28.2%,58.9%,77.1%)\" stop-opacity=\"1.0\"></stop><stop offset=\"0.222222222222\" stop-color=\"rgb(33.2%,62%,78.8%)\" stop-opacity=\"1.0\"></stop><stop offset=\"0.238095238095\" stop-color=\"rgb(38.1%,65.1%,80.5%)\" stop-opacity=\"1.0\"></stop><stop offset=\"0.253968253968\" stop-color=\"rgb(43%,68.2%,82.2%)\" stop-opacity=\"1.0\"></stop><stop offset=\"0.269841269841\" stop-color=\"rgb(47.9%,71.3%,83.9%)\" stop-opacity=\"1.0\"></stop><stop offset=\"0.285714285714\" stop-color=\"rgb(52.8%,74.5%,85.5%)\" stop-opacity=\"1.0\"></stop><stop offset=\"0.301587301587\" stop-color=\"rgb(57.6%,77.5%,87.2%)\" stop-opacity=\"1.0\"></stop><stop offset=\"0.31746031746\" stop-color=\"rgb(61.6%,79.4%,88.3%)\" stop-opacity=\"1.0\"></stop><stop offset=\"0.333333333333\" stop-color=\"rgb(65.5%,81.4%,89.4%)\" stop-opacity=\"1.0\"></stop><stop offset=\"0.349206349206\" stop-color=\"rgb(69.4%,83.4%,90.5%)\" stop-opacity=\"1.0\"></stop><stop offset=\"0.365079365079\" stop-color=\"rgb(73.3%,85.4%,91.7%)\" stop-opacity=\"1.0\"></stop><stop offset=\"0.380952380952\" stop-color=\"rgb(77.3%,87.4%,92.8%)\" stop-opacity=\"1.0\"></stop><stop offset=\"0.396825396825\" stop-color=\"rgb(81.2%,89.4%,93.9%)\" stop-opacity=\"1.0\"></stop><stop offset=\"0.412698412698\" stop-color=\"rgb(83.9%,90.7%,94.5%)\" stop-opacity=\"1.0\"></stop><stop offset=\"0.428571428571\" stop-color=\"rgb(86.2%,91.8%,94.9%)\" stop-opacity=\"1.0\"></stop><stop offset=\"0.444444444444\" stop-color=\"rgb(88.6%,92.9%,95.3%)\" stop-opacity=\"1.0\"></stop><stop offset=\"0.460317460317\" stop-color=\"rgb(90.9%,94.1%,95.8%)\" stop-opacity=\"1.0\"></stop><stop offset=\"0.47619047619\" stop-color=\"rgb(93.3%,95.2%,96.2%)\" stop-opacity=\"1.0\"></stop><stop offset=\"0.492063492063\" stop-color=\"rgb(95.7%,96.3%,96.6%)\" stop-opacity=\"1.0\"></stop><stop offset=\"0.507936507937\" stop-color=\"rgb(97%,96%,95.4%)\" stop-opacity=\"1.0\"></stop><stop offset=\"0.52380952381\" stop-color=\"rgb(97.4%,94.2%,92.4%)\" stop-opacity=\"1.0\"></stop><stop offset=\"0.539682539683\" stop-color=\"rgb(97.8%,92.5%,89.4%)\" stop-opacity=\"1.0\"></stop><stop offset=\"0.555555555556\" stop-color=\"rgb(98.2%,90.8%,86.4%)\" stop-opacity=\"1.0\"></stop><stop offset=\"0.571428571429\" stop-color=\"rgb(98.5%,89%,83.4%)\" stop-opacity=\"1.0\"></stop><stop offset=\"0.587301587302\" stop-color=\"rgb(98.9%,87.3%,80.4%)\" stop-opacity=\"1.0\"></stop><stop offset=\"0.603174603175\" stop-color=\"rgb(99.1%,85.2%,77.2%)\" stop-opacity=\"1.0\"></stop><stop offset=\"0.619047619048\" stop-color=\"rgb(98.5%,81.8%,72.9%)\" stop-opacity=\"1.0\"></stop><stop offset=\"0.634920634921\" stop-color=\"rgb(98%,78.5%,68.6%)\" stop-opacity=\"1.0\"></stop><stop offset=\"0.650793650794\" stop-color=\"rgb(97.4%,75.1%,64.3%)\" stop-opacity=\"1.0\"></stop><stop offset=\"0.666666666667\" stop-color=\"rgb(96.9%,71.8%,60%)\" stop-opacity=\"1.0\"></stop><stop offset=\"0.68253968254\" stop-color=\"rgb(96.3%,68.4%,55.7%)\" stop-opacity=\"1.0\"></stop><stop offset=\"0.698412698413\" stop-color=\"rgb(95.7%,65%,51.4%)\" stop-opacity=\"1.0\"></stop><stop offset=\"0.714285714286\" stop-color=\"rgb(94%,60.8%,48%)\" stop-opacity=\"1.0\"></stop><stop offset=\"0.730158730159\" stop-color=\"rgb(92.1%,56.5%,44.7%)\" stop-opacity=\"1.0\"></stop><stop offset=\"0.746031746032\" stop-color=\"rgb(90.3%,52.3%,41.4%)\" stop-opacity=\"1.0\"></stop><stop offset=\"0.761904761905\" stop-color=\"rgb(88.4%,48%,38.1%)\" stop-opacity=\"1.0\"></stop><stop offset=\"0.777777777778\" stop-color=\"rgb(86.5%,43.7%,34.8%)\" stop-opacity=\"1.0\"></stop><stop offset=\"0.793650793651\" stop-color=\"rgb(84.7%,39.4%,31.5%)\" stop-opacity=\"1.0\"></stop><stop offset=\"0.809523809524\" stop-color=\"rgb(82.6%,35%,28.9%)\" stop-opacity=\"1.0\"></stop><stop offset=\"0.825396825397\" stop-color=\"rgb(80.3%,30.5%,26.8%)\" stop-opacity=\"1.0\"></stop><stop offset=\"0.84126984127\" stop-color=\"rgb(78.1%,26%,24.7%)\" stop-opacity=\"1.0\"></stop><stop offset=\"0.857142857143\" stop-color=\"rgb(75.9%,21.5%,22.6%)\" stop-opacity=\"1.0\"></stop><stop offset=\"0.873015873016\" stop-color=\"rgb(73.6%,17%,20.5%)\" stop-opacity=\"1.0\"></stop><stop offset=\"0.888888888889\" stop-color=\"rgb(71.4%,12.5%,18.3%)\" stop-opacity=\"1.0\"></stop><stop offset=\"0.904761904762\" stop-color=\"rgb(68.4%,8.96%,16.6%)\" stop-opacity=\"1.0\"></stop><stop offset=\"0.920634920635\" stop-color=\"rgb(63.7%,7.47%,15.9%)\" stop-opacity=\"1.0\"></stop><stop offset=\"0.936507936508\" stop-color=\"rgb(59.1%,5.98%,15.1%)\" stop-opacity=\"1.0\"></stop><stop offset=\"0.952380952381\" stop-color=\"rgb(54.4%,4.48%,14.4%)\" stop-opacity=\"1.0\"></stop><stop offset=\"0.968253968254\" stop-color=\"rgb(49.7%,2.99%,13.7%)\" stop-opacity=\"1.0\"></stop><stop offset=\"0.984126984127\" stop-color=\"rgb(45.1%,1.49%,12.9%)\" stop-opacity=\"1.0\"></stop><stop offset=\"1.0\" stop-color=\"rgb(40.4%,0%,12.2%)\" stop-opacity=\"1.0\"></stop></linearGradient></defs><rect height=\"10\" style=\"fill:url(#t332f4dcff61a4dde9cc5cc264219170c);stroke:none;stroke-width:1.0\" width=\"480.0\" x=\"0.0\" y=\"-5.0\"></rect></g></g><g class=\"toyplot-coordinates-Axis\" id=\"t674a6b0c3761488590aa801395a3c3b4\" transform=\"translate(300.0,540.0)rotate(-90.0)translate(0,10.0)\"><line style=\"\" x1=\"0\" x2=\"480.0\" y1=\"0\" y2=\"0\"></line><g><line style=\"\" x1=\"0.0\" x2=\"0.0\" y1=\"3\" y2=\"-3\"></line><line style=\"\" x1=\"240.0\" x2=\"240.0\" y1=\"3\" y2=\"-3\"></line><line style=\"\" x1=\"480.0\" x2=\"480.0\" y1=\"3\" y2=\"-3\"></line></g><g><text style=\"font-weight:normal;stroke:none;text-anchor:start\" transform=\"translate(0.0,6)rotate(90)translate(0,3.75)\"><tspan style=\"font-size:10.0px\">0.0</tspan></text><text style=\"font-weight:normal;stroke:none;text-anchor:start\" transform=\"translate(240.0,6)rotate(90)translate(0,3.75)\"><tspan style=\"font-size:10.0px\">0.5</tspan></text><text style=\"font-weight:normal;stroke:none;text-anchor:start\" transform=\"translate(480.0,6)rotate(90)translate(0,3.75)\"><tspan style=\"font-size:10.0px\">1.0</tspan></text></g><g class=\"toyplot-coordinates-Axis-coordinates\" style=\"visibility:hidden\" transform=\"\"><line style=\"stroke:rgb(43.9%,50.2%,56.5%);stroke-opacity:1.0;stroke-width:1.0\" x1=\"0\" x2=\"0\" y1=\"-3.0\" y2=\"4.5\"></line><text style=\"alignment-baseline:alphabetic;fill:rgb(43.9%,50.2%,56.5%);fill-opacity:1.0;font-size:10px;font-weight:normal;stroke:none;text-anchor:middle\" x=\"0\" y=\"-6\"></text></g></g></g></svg><div class=\"toyplot-interactive\"><script>\n",
       "        (function()\n",
       "        {\n",
       "            function _sign(x)\n",
       "            {\n",
       "                return x < 0 ? -1 : x > 0 ? 1 : 0;\n",
       "            }\n",
       "\n",
       "            function _mix(a, b, amount)\n",
       "            {\n",
       "                return ((1.0 - amount) * a) + (amount * b);\n",
       "            }\n",
       "\n",
       "            function _log(x, base)\n",
       "            {\n",
       "                return Math.log(Math.abs(x)) / Math.log(base);\n",
       "            }\n",
       "\n",
       "            function _in_range(a, x, b)\n",
       "            {\n",
       "                var left = Math.min(a, b);\n",
       "                var right = Math.max(a, b);\n",
       "                return left <= x && x <= right;\n",
       "            }\n",
       "\n",
       "            function inside(range, projection)\n",
       "            {\n",
       "                for(var i = 0; i != projection.length; ++i)\n",
       "                {\n",
       "                    var segment = projection[i];\n",
       "                    if(_in_range(segment.range.min, range, segment.range.max))\n",
       "                        return true;\n",
       "                }\n",
       "                return false;\n",
       "            }\n",
       "\n",
       "            function to_domain(range, projection)\n",
       "            {\n",
       "                for(var i = 0; i != projection.length; ++i)\n",
       "                {\n",
       "                    var segment = projection[i];\n",
       "                    if(_in_range(segment.range.bounds.min, range, segment.range.bounds.max))\n",
       "                    {\n",
       "                        if(segment.scale == \"linear\")\n",
       "                        {\n",
       "                            var amount = (range - segment.range.min) / (segment.range.max - segment.range.min);\n",
       "                            return _mix(segment.domain.min, segment.domain.max, amount)\n",
       "                        }\n",
       "                        else if(segment.scale[0] == \"log\")\n",
       "                        {\n",
       "                            var amount = (range - segment.range.min) / (segment.range.max - segment.range.min);\n",
       "                            var base = segment.scale[1];\n",
       "                            return _sign(segment.domain.min) * Math.pow(base, _mix(_log(segment.domain.min, base), _log(segment.domain.max, base), amount));\n",
       "                        }\n",
       "                    }\n",
       "                }\n",
       "            }\n",
       "\n",
       "            function display_coordinates(e)\n",
       "            {\n",
       "                var current = svg.createSVGPoint();\n",
       "                current.x = e.clientX;\n",
       "                current.y = e.clientY;\n",
       "\n",
       "                for(var axis_id in axes)\n",
       "                {\n",
       "                    var axis = document.querySelector(\"#\" + axis_id);\n",
       "                    var coordinates = axis.querySelector(\".toyplot-coordinates-Axis-coordinates\");\n",
       "                    if(coordinates)\n",
       "                    {\n",
       "                        var projection = axes[axis_id];\n",
       "                        var local = current.matrixTransform(axis.getScreenCTM().inverse());\n",
       "                        if(inside(local.x, projection))\n",
       "                        {\n",
       "                            var domain = to_domain(local.x, projection);\n",
       "                            coordinates.style.visibility = \"visible\";\n",
       "                            coordinates.setAttribute(\"transform\", \"translate(\" + local.x + \")\");\n",
       "                            var text = coordinates.querySelector(\"text\");\n",
       "                            text.textContent = domain.toFixed(2);\n",
       "                        }\n",
       "                        else\n",
       "                        {\n",
       "                            coordinates.style.visibility= \"hidden\";\n",
       "                        }\n",
       "                    }\n",
       "                }\n",
       "            }\n",
       "\n",
       "            var root_id = \"t2d511db663f84e0b999c24b1ec3e6381\";\n",
       "            var axes = {\"t674a6b0c3761488590aa801395a3c3b4\": [{\"domain\": {\"bounds\": {\"max\": Infinity, \"min\": -Infinity}, \"max\": 1.0, \"min\": 0.0}, \"range\": {\"bounds\": {\"max\": Infinity, \"min\": -Infinity}, \"max\": 480.0, \"min\": 0.0}, \"scale\": \"linear\"}]};\n",
       "\n",
       "            var svg = document.querySelector(\"#\" + root_id + \" svg\");\n",
       "            svg.addEventListener(\"click\", display_coordinates);\n",
       "        })();\n",
       "        </script></div></div>"
      ]
     },
     "metadata": {},
     "output_type": "display_data"
    }
   ],
   "source": [
    "import numpy\n",
    "\n",
    "colormap = toyplot.color.brewer.map(\"BlueRed\", domain_min=0, domain_max=1)\n",
    "\n",
    "canvas = toyplot.Canvas()\n",
    "numberline = canvas.color_scale(x1=\"50%\", x2=\"50%\", y1=\"-10%\", y2=\"10%\", colormap=colormap)\n",
    "numberline.axis.ticks.show = True\n",
    "numberline.axis.ticks.labels.angle=-90"
   ]
  },
  {
   "cell_type": "markdown",
   "metadata": {},
   "source": [
    "Of-course, you are free to override any of these behaviors.  For example, suppose we use rich text to add multi-line tick labels to the preceding example:"
   ]
  },
  {
   "cell_type": "code",
   "execution_count": 20,
   "metadata": {
    "collapsed": true
   },
   "outputs": [],
   "source": [
    "def format_color(color):\n",
    "    return \"(%.2f, %.2f, %.2f)\" % (color[\"r\"], color[\"g\"], color[\"b\"])\n",
    "\n",
    "values = numpy.linspace(colormap.domain.min, colormap.domain.max, 4)\n",
    "labels = [\"%.4f<br/><small>%s</small>\" % (value, format_color(colormap.color(value))) for value in values]\n",
    "locator = toyplot.locator.Explicit(values, labels)"
   ]
  },
  {
   "cell_type": "code",
   "execution_count": 21,
   "metadata": {
    "collapsed": false
   },
   "outputs": [
    {
     "data": {
      "text/html": [
       "<div align=\"center\" class=\"toyplot\" id=\"t8735e5ae7aa3492c92d040ed037b0427\"><svg class=\"toyplot-canvas-Canvas\" height=\"600px\" id=\"t8b7b06a4371a4cceb62131fd49f5b35d\" preserveAspectRatio=\"xMidYMid meet\" style=\"background-color:transparent;fill:rgb(16.1%,15.3%,14.1%);fill-opacity:1.0;font-family:Helvetica;font-size:12px;opacity:1.0;stroke:rgb(16.1%,15.3%,14.1%);stroke-opacity:1.0;stroke-width:1.0\" viewBox=\"0 0 600 600\" width=\"600px\" xmlns=\"http://www.w3.org/2000/svg\" xmlns:toyplot=\"http://www.sandia.gov/toyplot\" xmlns:xlink=\"http://www.w3.org/1999/xlink\"><g class=\"toyplot-coordinates-Numberline\" id=\"tc91898578c97438e88e82969bacc4f22\"><clipPath id=\"t6d2cc3401ca94fdeaf69360c36c283f4\"><rect height=\"20.0\" width=\"480.0\" x=\"0\" y=\"-10.0\"></rect></clipPath><g clip-path=\"url(#t6d2cc3401ca94fdeaf69360c36c283f4)\" transform=\"translate(300.0,540.0)rotate(-90.0)\"><g class=\"toyplot-color-Map\" id=\"taf330deb1a3f4f3a92bf96d0ac521984\"><defs><linearGradient gradientUnits=\"userSpaceOnUse\" id=\"t2c74ad9ca1df4b2d852a4be1886e3e6b\" x1=\"0.0\" x2=\"480.0\" y1=\"0\" y2=\"0\"><stop offset=\"0.0\" stop-color=\"rgb(1.96%,18.8%,38%)\" stop-opacity=\"1.0\"></stop><stop offset=\"0.015873015873\" stop-color=\"rgb(3.7%,22.2%,42.7%)\" stop-opacity=\"1.0\"></stop><stop offset=\"0.031746031746\" stop-color=\"rgb(5.45%,25.5%,47.4%)\" stop-opacity=\"1.0\"></stop><stop offset=\"0.047619047619\" stop-color=\"rgb(7.19%,28.9%,52%)\" stop-opacity=\"1.0\"></stop><stop offset=\"0.0634920634921\" stop-color=\"rgb(8.93%,32.3%,56.7%)\" stop-opacity=\"1.0\"></stop><stop offset=\"0.0793650793651\" stop-color=\"rgb(10.7%,35.6%,61.4%)\" stop-opacity=\"1.0\"></stop><stop offset=\"0.0952380952381\" stop-color=\"rgb(12.4%,39%,66.1%)\" stop-opacity=\"1.0\"></stop><stop offset=\"0.111111111111\" stop-color=\"rgb(14.4%,42%,68.5%)\" stop-opacity=\"1.0\"></stop><stop offset=\"0.126984126984\" stop-color=\"rgb(16.5%,44.8%,69.9%)\" stop-opacity=\"1.0\"></stop><stop offset=\"0.142857142857\" stop-color=\"rgb(18.7%,47.6%,71.3%)\" stop-opacity=\"1.0\"></stop><stop offset=\"0.15873015873\" stop-color=\"rgb(20.8%,50.4%,72.7%)\" stop-opacity=\"1.0\"></stop><stop offset=\"0.174603174603\" stop-color=\"rgb(22.9%,53.2%,74.2%)\" stop-opacity=\"1.0\"></stop><stop offset=\"0.190476190476\" stop-color=\"rgb(25%,56%,75.6%)\" stop-opacity=\"1.0\"></stop><stop offset=\"0.206349206349\" stop-color=\"rgb(28.2%,58.9%,77.1%)\" stop-opacity=\"1.0\"></stop><stop offset=\"0.222222222222\" stop-color=\"rgb(33.2%,62%,78.8%)\" stop-opacity=\"1.0\"></stop><stop offset=\"0.238095238095\" stop-color=\"rgb(38.1%,65.1%,80.5%)\" stop-opacity=\"1.0\"></stop><stop offset=\"0.253968253968\" stop-color=\"rgb(43%,68.2%,82.2%)\" stop-opacity=\"1.0\"></stop><stop offset=\"0.269841269841\" stop-color=\"rgb(47.9%,71.3%,83.9%)\" stop-opacity=\"1.0\"></stop><stop offset=\"0.285714285714\" stop-color=\"rgb(52.8%,74.5%,85.5%)\" stop-opacity=\"1.0\"></stop><stop offset=\"0.301587301587\" stop-color=\"rgb(57.6%,77.5%,87.2%)\" stop-opacity=\"1.0\"></stop><stop offset=\"0.31746031746\" stop-color=\"rgb(61.6%,79.4%,88.3%)\" stop-opacity=\"1.0\"></stop><stop offset=\"0.333333333333\" stop-color=\"rgb(65.5%,81.4%,89.4%)\" stop-opacity=\"1.0\"></stop><stop offset=\"0.349206349206\" stop-color=\"rgb(69.4%,83.4%,90.5%)\" stop-opacity=\"1.0\"></stop><stop offset=\"0.365079365079\" stop-color=\"rgb(73.3%,85.4%,91.7%)\" stop-opacity=\"1.0\"></stop><stop offset=\"0.380952380952\" stop-color=\"rgb(77.3%,87.4%,92.8%)\" stop-opacity=\"1.0\"></stop><stop offset=\"0.396825396825\" stop-color=\"rgb(81.2%,89.4%,93.9%)\" stop-opacity=\"1.0\"></stop><stop offset=\"0.412698412698\" stop-color=\"rgb(83.9%,90.7%,94.5%)\" stop-opacity=\"1.0\"></stop><stop offset=\"0.428571428571\" stop-color=\"rgb(86.2%,91.8%,94.9%)\" stop-opacity=\"1.0\"></stop><stop offset=\"0.444444444444\" stop-color=\"rgb(88.6%,92.9%,95.3%)\" stop-opacity=\"1.0\"></stop><stop offset=\"0.460317460317\" stop-color=\"rgb(90.9%,94.1%,95.8%)\" stop-opacity=\"1.0\"></stop><stop offset=\"0.47619047619\" stop-color=\"rgb(93.3%,95.2%,96.2%)\" stop-opacity=\"1.0\"></stop><stop offset=\"0.492063492063\" stop-color=\"rgb(95.7%,96.3%,96.6%)\" stop-opacity=\"1.0\"></stop><stop offset=\"0.507936507937\" stop-color=\"rgb(97%,96%,95.4%)\" stop-opacity=\"1.0\"></stop><stop offset=\"0.52380952381\" stop-color=\"rgb(97.4%,94.2%,92.4%)\" stop-opacity=\"1.0\"></stop><stop offset=\"0.539682539683\" stop-color=\"rgb(97.8%,92.5%,89.4%)\" stop-opacity=\"1.0\"></stop><stop offset=\"0.555555555556\" stop-color=\"rgb(98.2%,90.8%,86.4%)\" stop-opacity=\"1.0\"></stop><stop offset=\"0.571428571429\" stop-color=\"rgb(98.5%,89%,83.4%)\" stop-opacity=\"1.0\"></stop><stop offset=\"0.587301587302\" stop-color=\"rgb(98.9%,87.3%,80.4%)\" stop-opacity=\"1.0\"></stop><stop offset=\"0.603174603175\" stop-color=\"rgb(99.1%,85.2%,77.2%)\" stop-opacity=\"1.0\"></stop><stop offset=\"0.619047619048\" stop-color=\"rgb(98.5%,81.8%,72.9%)\" stop-opacity=\"1.0\"></stop><stop offset=\"0.634920634921\" stop-color=\"rgb(98%,78.5%,68.6%)\" stop-opacity=\"1.0\"></stop><stop offset=\"0.650793650794\" stop-color=\"rgb(97.4%,75.1%,64.3%)\" stop-opacity=\"1.0\"></stop><stop offset=\"0.666666666667\" stop-color=\"rgb(96.9%,71.8%,60%)\" stop-opacity=\"1.0\"></stop><stop offset=\"0.68253968254\" stop-color=\"rgb(96.3%,68.4%,55.7%)\" stop-opacity=\"1.0\"></stop><stop offset=\"0.698412698413\" stop-color=\"rgb(95.7%,65%,51.4%)\" stop-opacity=\"1.0\"></stop><stop offset=\"0.714285714286\" stop-color=\"rgb(94%,60.8%,48%)\" stop-opacity=\"1.0\"></stop><stop offset=\"0.730158730159\" stop-color=\"rgb(92.1%,56.5%,44.7%)\" stop-opacity=\"1.0\"></stop><stop offset=\"0.746031746032\" stop-color=\"rgb(90.3%,52.3%,41.4%)\" stop-opacity=\"1.0\"></stop><stop offset=\"0.761904761905\" stop-color=\"rgb(88.4%,48%,38.1%)\" stop-opacity=\"1.0\"></stop><stop offset=\"0.777777777778\" stop-color=\"rgb(86.5%,43.7%,34.8%)\" stop-opacity=\"1.0\"></stop><stop offset=\"0.793650793651\" stop-color=\"rgb(84.7%,39.4%,31.5%)\" stop-opacity=\"1.0\"></stop><stop offset=\"0.809523809524\" stop-color=\"rgb(82.6%,35%,28.9%)\" stop-opacity=\"1.0\"></stop><stop offset=\"0.825396825397\" stop-color=\"rgb(80.3%,30.5%,26.8%)\" stop-opacity=\"1.0\"></stop><stop offset=\"0.84126984127\" stop-color=\"rgb(78.1%,26%,24.7%)\" stop-opacity=\"1.0\"></stop><stop offset=\"0.857142857143\" stop-color=\"rgb(75.9%,21.5%,22.6%)\" stop-opacity=\"1.0\"></stop><stop offset=\"0.873015873016\" stop-color=\"rgb(73.6%,17%,20.5%)\" stop-opacity=\"1.0\"></stop><stop offset=\"0.888888888889\" stop-color=\"rgb(71.4%,12.5%,18.3%)\" stop-opacity=\"1.0\"></stop><stop offset=\"0.904761904762\" stop-color=\"rgb(68.4%,8.96%,16.6%)\" stop-opacity=\"1.0\"></stop><stop offset=\"0.920634920635\" stop-color=\"rgb(63.7%,7.47%,15.9%)\" stop-opacity=\"1.0\"></stop><stop offset=\"0.936507936508\" stop-color=\"rgb(59.1%,5.98%,15.1%)\" stop-opacity=\"1.0\"></stop><stop offset=\"0.952380952381\" stop-color=\"rgb(54.4%,4.48%,14.4%)\" stop-opacity=\"1.0\"></stop><stop offset=\"0.968253968254\" stop-color=\"rgb(49.7%,2.99%,13.7%)\" stop-opacity=\"1.0\"></stop><stop offset=\"0.984126984127\" stop-color=\"rgb(45.1%,1.49%,12.9%)\" stop-opacity=\"1.0\"></stop><stop offset=\"1.0\" stop-color=\"rgb(40.4%,0%,12.2%)\" stop-opacity=\"1.0\"></stop></linearGradient></defs><rect height=\"10\" style=\"fill:url(#t2c74ad9ca1df4b2d852a4be1886e3e6b);stroke:none;stroke-width:1.0\" width=\"480.0\" x=\"0.0\" y=\"-5.0\"></rect></g></g><g class=\"toyplot-coordinates-Axis\" id=\"te55b25b228eb455da7cbb56fc64d4d67\" transform=\"translate(300.0,540.0)rotate(-90.0)translate(0,10.0)\"><line style=\"\" x1=\"0\" x2=\"480.0\" y1=\"0\" y2=\"0\"></line><g><line style=\"\" x1=\"0.0\" x2=\"0.0\" y1=\"3\" y2=\"-3\"></line><line style=\"\" x1=\"160.0\" x2=\"160.0\" y1=\"3\" y2=\"-3\"></line><line style=\"\" x1=\"320.0\" x2=\"320.0\" y1=\"3\" y2=\"-3\"></line><line style=\"\" x1=\"480.0\" x2=\"480.0\" y1=\"3\" y2=\"-3\"></line></g><g><text style=\"font-weight:normal;stroke:none;text-anchor:start\" transform=\"translate(0.0,6)rotate(90)translate(0,6.0)\"><tspan style=\"font-size:16.0px\">0.0000</tspan><tspan dy=\"19.2\" style=\"font-size:12.8px\" x=\"0\">(0.02, 0.19, 0.38)</tspan></text><text style=\"font-weight:normal;stroke:none;text-anchor:start\" transform=\"translate(160.0,6)rotate(90)translate(0,6.0)\"><tspan style=\"font-size:16.0px\">0.3333</tspan><tspan dy=\"19.2\" style=\"font-size:12.8px\" x=\"0\">(0.65, 0.81, 0.89)</tspan></text><text style=\"font-weight:normal;stroke:none;text-anchor:start\" transform=\"translate(320.0,6)rotate(90)translate(0,6.0)\"><tspan style=\"font-size:16.0px\">0.6667</tspan><tspan dy=\"19.2\" style=\"font-size:12.8px\" x=\"0\">(0.97, 0.72, 0.60)</tspan></text><text style=\"font-weight:normal;stroke:none;text-anchor:start\" transform=\"translate(480.0,6)rotate(90)translate(0,6.0)\"><tspan style=\"font-size:16.0px\">1.0000</tspan><tspan dy=\"19.2\" style=\"font-size:12.8px\" x=\"0\">(0.40, 0.00, 0.12)</tspan></text></g><g class=\"toyplot-coordinates-Axis-coordinates\" style=\"visibility:hidden\" transform=\"\"><line style=\"stroke:rgb(43.9%,50.2%,56.5%);stroke-opacity:1.0;stroke-width:1.0\" x1=\"0\" x2=\"0\" y1=\"-3.0\" y2=\"4.5\"></line><text style=\"alignment-baseline:alphabetic;fill:rgb(43.9%,50.2%,56.5%);fill-opacity:1.0;font-size:10px;font-weight:normal;stroke:none;text-anchor:middle\" x=\"0\" y=\"-6\"></text></g></g></g></svg><div class=\"toyplot-interactive\"><script>\n",
       "        (function()\n",
       "        {\n",
       "            function _sign(x)\n",
       "            {\n",
       "                return x < 0 ? -1 : x > 0 ? 1 : 0;\n",
       "            }\n",
       "\n",
       "            function _mix(a, b, amount)\n",
       "            {\n",
       "                return ((1.0 - amount) * a) + (amount * b);\n",
       "            }\n",
       "\n",
       "            function _log(x, base)\n",
       "            {\n",
       "                return Math.log(Math.abs(x)) / Math.log(base);\n",
       "            }\n",
       "\n",
       "            function _in_range(a, x, b)\n",
       "            {\n",
       "                var left = Math.min(a, b);\n",
       "                var right = Math.max(a, b);\n",
       "                return left <= x && x <= right;\n",
       "            }\n",
       "\n",
       "            function inside(range, projection)\n",
       "            {\n",
       "                for(var i = 0; i != projection.length; ++i)\n",
       "                {\n",
       "                    var segment = projection[i];\n",
       "                    if(_in_range(segment.range.min, range, segment.range.max))\n",
       "                        return true;\n",
       "                }\n",
       "                return false;\n",
       "            }\n",
       "\n",
       "            function to_domain(range, projection)\n",
       "            {\n",
       "                for(var i = 0; i != projection.length; ++i)\n",
       "                {\n",
       "                    var segment = projection[i];\n",
       "                    if(_in_range(segment.range.bounds.min, range, segment.range.bounds.max))\n",
       "                    {\n",
       "                        if(segment.scale == \"linear\")\n",
       "                        {\n",
       "                            var amount = (range - segment.range.min) / (segment.range.max - segment.range.min);\n",
       "                            return _mix(segment.domain.min, segment.domain.max, amount)\n",
       "                        }\n",
       "                        else if(segment.scale[0] == \"log\")\n",
       "                        {\n",
       "                            var amount = (range - segment.range.min) / (segment.range.max - segment.range.min);\n",
       "                            var base = segment.scale[1];\n",
       "                            return _sign(segment.domain.min) * Math.pow(base, _mix(_log(segment.domain.min, base), _log(segment.domain.max, base), amount));\n",
       "                        }\n",
       "                    }\n",
       "                }\n",
       "            }\n",
       "\n",
       "            function display_coordinates(e)\n",
       "            {\n",
       "                var current = svg.createSVGPoint();\n",
       "                current.x = e.clientX;\n",
       "                current.y = e.clientY;\n",
       "\n",
       "                for(var axis_id in axes)\n",
       "                {\n",
       "                    var axis = document.querySelector(\"#\" + axis_id);\n",
       "                    var coordinates = axis.querySelector(\".toyplot-coordinates-Axis-coordinates\");\n",
       "                    if(coordinates)\n",
       "                    {\n",
       "                        var projection = axes[axis_id];\n",
       "                        var local = current.matrixTransform(axis.getScreenCTM().inverse());\n",
       "                        if(inside(local.x, projection))\n",
       "                        {\n",
       "                            var domain = to_domain(local.x, projection);\n",
       "                            coordinates.style.visibility = \"visible\";\n",
       "                            coordinates.setAttribute(\"transform\", \"translate(\" + local.x + \")\");\n",
       "                            var text = coordinates.querySelector(\"text\");\n",
       "                            text.textContent = domain.toFixed(2);\n",
       "                        }\n",
       "                        else\n",
       "                        {\n",
       "                            coordinates.style.visibility= \"hidden\";\n",
       "                        }\n",
       "                    }\n",
       "                }\n",
       "            }\n",
       "\n",
       "            var root_id = \"t8735e5ae7aa3492c92d040ed037b0427\";\n",
       "            var axes = {\"te55b25b228eb455da7cbb56fc64d4d67\": [{\"domain\": {\"bounds\": {\"max\": Infinity, \"min\": -Infinity}, \"max\": 1.0, \"min\": 0.0}, \"range\": {\"bounds\": {\"max\": Infinity, \"min\": -Infinity}, \"max\": 480.0, \"min\": 0.0}, \"scale\": \"linear\"}]};\n",
       "\n",
       "            var svg = document.querySelector(\"#\" + root_id + \" svg\");\n",
       "            svg.addEventListener(\"click\", display_coordinates);\n",
       "        })();\n",
       "        </script></div></div>"
      ]
     },
     "metadata": {},
     "output_type": "display_data"
    }
   ],
   "source": [
    "canvas = toyplot.Canvas()\n",
    "numberline = canvas.color_scale(x1=\"50%\", x2=\"50%\", y1=\"-10%\", y2=\"10%\", colormap=colormap)\n",
    "numberline.axis.ticks.show = True\n",
    "numberline.axis.ticks.labels.angle=-90\n",
    "\n",
    "numberline.axis.ticks.locator = locator\n",
    "numberline.axis.ticks.labels.style = {\"font-size\":\"16px\"}"
   ]
  },
  {
   "cell_type": "markdown",
   "metadata": {},
   "source": [
    "We might choose to center the labels horizontally and vertically, overriding the defaults:"
   ]
  },
  {
   "cell_type": "code",
   "execution_count": 22,
   "metadata": {
    "collapsed": false
   },
   "outputs": [
    {
     "data": {
      "text/html": [
       "<div align=\"center\" class=\"toyplot\" id=\"t29478b032d2b4b5eac297efa3b1ce0e0\"><svg class=\"toyplot-canvas-Canvas\" height=\"600px\" id=\"td8721f4306174b78a6b77b5480965675\" preserveAspectRatio=\"xMidYMid meet\" style=\"background-color:transparent;fill:rgb(16.1%,15.3%,14.1%);fill-opacity:1.0;font-family:Helvetica;font-size:12px;opacity:1.0;stroke:rgb(16.1%,15.3%,14.1%);stroke-opacity:1.0;stroke-width:1.0\" viewBox=\"0 0 600 600\" width=\"600px\" xmlns=\"http://www.w3.org/2000/svg\" xmlns:toyplot=\"http://www.sandia.gov/toyplot\" xmlns:xlink=\"http://www.w3.org/1999/xlink\"><g class=\"toyplot-coordinates-Numberline\" id=\"t0ac18e5f8d694ccca1a5bcb4d99df924\"><clipPath id=\"t70e53fbd489449b897febffe876ea28b\"><rect height=\"20.0\" width=\"480.0\" x=\"0\" y=\"-10.0\"></rect></clipPath><g clip-path=\"url(#t70e53fbd489449b897febffe876ea28b)\" transform=\"translate(300.0,540.0)rotate(-90.0)\"><g class=\"toyplot-color-Map\" id=\"tc02fcafb0be648a0b3bd1b63588c5885\"><defs><linearGradient gradientUnits=\"userSpaceOnUse\" id=\"tc4cda0611a6f4ba3a109d1e965ba02c6\" x1=\"0.0\" x2=\"480.0\" y1=\"0\" y2=\"0\"><stop offset=\"0.0\" stop-color=\"rgb(1.96%,18.8%,38%)\" stop-opacity=\"1.0\"></stop><stop offset=\"0.015873015873\" stop-color=\"rgb(3.7%,22.2%,42.7%)\" stop-opacity=\"1.0\"></stop><stop offset=\"0.031746031746\" stop-color=\"rgb(5.45%,25.5%,47.4%)\" stop-opacity=\"1.0\"></stop><stop offset=\"0.047619047619\" stop-color=\"rgb(7.19%,28.9%,52%)\" stop-opacity=\"1.0\"></stop><stop offset=\"0.0634920634921\" stop-color=\"rgb(8.93%,32.3%,56.7%)\" stop-opacity=\"1.0\"></stop><stop offset=\"0.0793650793651\" stop-color=\"rgb(10.7%,35.6%,61.4%)\" stop-opacity=\"1.0\"></stop><stop offset=\"0.0952380952381\" stop-color=\"rgb(12.4%,39%,66.1%)\" stop-opacity=\"1.0\"></stop><stop offset=\"0.111111111111\" stop-color=\"rgb(14.4%,42%,68.5%)\" stop-opacity=\"1.0\"></stop><stop offset=\"0.126984126984\" stop-color=\"rgb(16.5%,44.8%,69.9%)\" stop-opacity=\"1.0\"></stop><stop offset=\"0.142857142857\" stop-color=\"rgb(18.7%,47.6%,71.3%)\" stop-opacity=\"1.0\"></stop><stop offset=\"0.15873015873\" stop-color=\"rgb(20.8%,50.4%,72.7%)\" stop-opacity=\"1.0\"></stop><stop offset=\"0.174603174603\" stop-color=\"rgb(22.9%,53.2%,74.2%)\" stop-opacity=\"1.0\"></stop><stop offset=\"0.190476190476\" stop-color=\"rgb(25%,56%,75.6%)\" stop-opacity=\"1.0\"></stop><stop offset=\"0.206349206349\" stop-color=\"rgb(28.2%,58.9%,77.1%)\" stop-opacity=\"1.0\"></stop><stop offset=\"0.222222222222\" stop-color=\"rgb(33.2%,62%,78.8%)\" stop-opacity=\"1.0\"></stop><stop offset=\"0.238095238095\" stop-color=\"rgb(38.1%,65.1%,80.5%)\" stop-opacity=\"1.0\"></stop><stop offset=\"0.253968253968\" stop-color=\"rgb(43%,68.2%,82.2%)\" stop-opacity=\"1.0\"></stop><stop offset=\"0.269841269841\" stop-color=\"rgb(47.9%,71.3%,83.9%)\" stop-opacity=\"1.0\"></stop><stop offset=\"0.285714285714\" stop-color=\"rgb(52.8%,74.5%,85.5%)\" stop-opacity=\"1.0\"></stop><stop offset=\"0.301587301587\" stop-color=\"rgb(57.6%,77.5%,87.2%)\" stop-opacity=\"1.0\"></stop><stop offset=\"0.31746031746\" stop-color=\"rgb(61.6%,79.4%,88.3%)\" stop-opacity=\"1.0\"></stop><stop offset=\"0.333333333333\" stop-color=\"rgb(65.5%,81.4%,89.4%)\" stop-opacity=\"1.0\"></stop><stop offset=\"0.349206349206\" stop-color=\"rgb(69.4%,83.4%,90.5%)\" stop-opacity=\"1.0\"></stop><stop offset=\"0.365079365079\" stop-color=\"rgb(73.3%,85.4%,91.7%)\" stop-opacity=\"1.0\"></stop><stop offset=\"0.380952380952\" stop-color=\"rgb(77.3%,87.4%,92.8%)\" stop-opacity=\"1.0\"></stop><stop offset=\"0.396825396825\" stop-color=\"rgb(81.2%,89.4%,93.9%)\" stop-opacity=\"1.0\"></stop><stop offset=\"0.412698412698\" stop-color=\"rgb(83.9%,90.7%,94.5%)\" stop-opacity=\"1.0\"></stop><stop offset=\"0.428571428571\" stop-color=\"rgb(86.2%,91.8%,94.9%)\" stop-opacity=\"1.0\"></stop><stop offset=\"0.444444444444\" stop-color=\"rgb(88.6%,92.9%,95.3%)\" stop-opacity=\"1.0\"></stop><stop offset=\"0.460317460317\" stop-color=\"rgb(90.9%,94.1%,95.8%)\" stop-opacity=\"1.0\"></stop><stop offset=\"0.47619047619\" stop-color=\"rgb(93.3%,95.2%,96.2%)\" stop-opacity=\"1.0\"></stop><stop offset=\"0.492063492063\" stop-color=\"rgb(95.7%,96.3%,96.6%)\" stop-opacity=\"1.0\"></stop><stop offset=\"0.507936507937\" stop-color=\"rgb(97%,96%,95.4%)\" stop-opacity=\"1.0\"></stop><stop offset=\"0.52380952381\" stop-color=\"rgb(97.4%,94.2%,92.4%)\" stop-opacity=\"1.0\"></stop><stop offset=\"0.539682539683\" stop-color=\"rgb(97.8%,92.5%,89.4%)\" stop-opacity=\"1.0\"></stop><stop offset=\"0.555555555556\" stop-color=\"rgb(98.2%,90.8%,86.4%)\" stop-opacity=\"1.0\"></stop><stop offset=\"0.571428571429\" stop-color=\"rgb(98.5%,89%,83.4%)\" stop-opacity=\"1.0\"></stop><stop offset=\"0.587301587302\" stop-color=\"rgb(98.9%,87.3%,80.4%)\" stop-opacity=\"1.0\"></stop><stop offset=\"0.603174603175\" stop-color=\"rgb(99.1%,85.2%,77.2%)\" stop-opacity=\"1.0\"></stop><stop offset=\"0.619047619048\" stop-color=\"rgb(98.5%,81.8%,72.9%)\" stop-opacity=\"1.0\"></stop><stop offset=\"0.634920634921\" stop-color=\"rgb(98%,78.5%,68.6%)\" stop-opacity=\"1.0\"></stop><stop offset=\"0.650793650794\" stop-color=\"rgb(97.4%,75.1%,64.3%)\" stop-opacity=\"1.0\"></stop><stop offset=\"0.666666666667\" stop-color=\"rgb(96.9%,71.8%,60%)\" stop-opacity=\"1.0\"></stop><stop offset=\"0.68253968254\" stop-color=\"rgb(96.3%,68.4%,55.7%)\" stop-opacity=\"1.0\"></stop><stop offset=\"0.698412698413\" stop-color=\"rgb(95.7%,65%,51.4%)\" stop-opacity=\"1.0\"></stop><stop offset=\"0.714285714286\" stop-color=\"rgb(94%,60.8%,48%)\" stop-opacity=\"1.0\"></stop><stop offset=\"0.730158730159\" stop-color=\"rgb(92.1%,56.5%,44.7%)\" stop-opacity=\"1.0\"></stop><stop offset=\"0.746031746032\" stop-color=\"rgb(90.3%,52.3%,41.4%)\" stop-opacity=\"1.0\"></stop><stop offset=\"0.761904761905\" stop-color=\"rgb(88.4%,48%,38.1%)\" stop-opacity=\"1.0\"></stop><stop offset=\"0.777777777778\" stop-color=\"rgb(86.5%,43.7%,34.8%)\" stop-opacity=\"1.0\"></stop><stop offset=\"0.793650793651\" stop-color=\"rgb(84.7%,39.4%,31.5%)\" stop-opacity=\"1.0\"></stop><stop offset=\"0.809523809524\" stop-color=\"rgb(82.6%,35%,28.9%)\" stop-opacity=\"1.0\"></stop><stop offset=\"0.825396825397\" stop-color=\"rgb(80.3%,30.5%,26.8%)\" stop-opacity=\"1.0\"></stop><stop offset=\"0.84126984127\" stop-color=\"rgb(78.1%,26%,24.7%)\" stop-opacity=\"1.0\"></stop><stop offset=\"0.857142857143\" stop-color=\"rgb(75.9%,21.5%,22.6%)\" stop-opacity=\"1.0\"></stop><stop offset=\"0.873015873016\" stop-color=\"rgb(73.6%,17%,20.5%)\" stop-opacity=\"1.0\"></stop><stop offset=\"0.888888888889\" stop-color=\"rgb(71.4%,12.5%,18.3%)\" stop-opacity=\"1.0\"></stop><stop offset=\"0.904761904762\" stop-color=\"rgb(68.4%,8.96%,16.6%)\" stop-opacity=\"1.0\"></stop><stop offset=\"0.920634920635\" stop-color=\"rgb(63.7%,7.47%,15.9%)\" stop-opacity=\"1.0\"></stop><stop offset=\"0.936507936508\" stop-color=\"rgb(59.1%,5.98%,15.1%)\" stop-opacity=\"1.0\"></stop><stop offset=\"0.952380952381\" stop-color=\"rgb(54.4%,4.48%,14.4%)\" stop-opacity=\"1.0\"></stop><stop offset=\"0.968253968254\" stop-color=\"rgb(49.7%,2.99%,13.7%)\" stop-opacity=\"1.0\"></stop><stop offset=\"0.984126984127\" stop-color=\"rgb(45.1%,1.49%,12.9%)\" stop-opacity=\"1.0\"></stop><stop offset=\"1.0\" stop-color=\"rgb(40.4%,0%,12.2%)\" stop-opacity=\"1.0\"></stop></linearGradient></defs><rect height=\"10\" style=\"fill:url(#tc4cda0611a6f4ba3a109d1e965ba02c6);stroke:none;stroke-width:1.0\" width=\"480.0\" x=\"0.0\" y=\"-5.0\"></rect></g></g><g class=\"toyplot-coordinates-Axis\" id=\"t367b0e08b1684f16ba71173721f53a4f\" transform=\"translate(300.0,540.0)rotate(-90.0)translate(0,10.0)\"><line style=\"\" x1=\"0\" x2=\"480.0\" y1=\"0\" y2=\"0\"></line><g><line style=\"\" x1=\"0.0\" x2=\"0.0\" y1=\"3\" y2=\"-3\"></line><line style=\"\" x1=\"160.0\" x2=\"160.0\" y1=\"3\" y2=\"-3\"></line><line style=\"\" x1=\"320.0\" x2=\"320.0\" y1=\"3\" y2=\"-3\"></line><line style=\"\" x1=\"480.0\" x2=\"480.0\" y1=\"3\" y2=\"-3\"></line></g><g><text style=\"font-weight:normal;stroke:none;text-anchor:middle\" transform=\"translate(0.0,60.0)rotate(90)translate(0,-4.0)\"><tspan style=\"font-size:16.0px\">0.0000</tspan><tspan dy=\"19.2\" style=\"font-size:12.8px\" x=\"0\">(0.02, 0.19, 0.38)</tspan></text><text style=\"font-weight:normal;stroke:none;text-anchor:middle\" transform=\"translate(160.0,60.0)rotate(90)translate(0,-4.0)\"><tspan style=\"font-size:16.0px\">0.3333</tspan><tspan dy=\"19.2\" style=\"font-size:12.8px\" x=\"0\">(0.65, 0.81, 0.89)</tspan></text><text style=\"font-weight:normal;stroke:none;text-anchor:middle\" transform=\"translate(320.0,60.0)rotate(90)translate(0,-4.0)\"><tspan style=\"font-size:16.0px\">0.6667</tspan><tspan dy=\"19.2\" style=\"font-size:12.8px\" x=\"0\">(0.97, 0.72, 0.60)</tspan></text><text style=\"font-weight:normal;stroke:none;text-anchor:middle\" transform=\"translate(480.0,60.0)rotate(90)translate(0,-4.0)\"><tspan style=\"font-size:16.0px\">1.0000</tspan><tspan dy=\"19.2\" style=\"font-size:12.8px\" x=\"0\">(0.40, 0.00, 0.12)</tspan></text></g><g class=\"toyplot-coordinates-Axis-coordinates\" style=\"visibility:hidden\" transform=\"\"><line style=\"stroke:rgb(43.9%,50.2%,56.5%);stroke-opacity:1.0;stroke-width:1.0\" x1=\"0\" x2=\"0\" y1=\"-30.0\" y2=\"45.0\"></line><text style=\"alignment-baseline:alphabetic;fill:rgb(43.9%,50.2%,56.5%);fill-opacity:1.0;font-size:10px;font-weight:normal;stroke:none;text-anchor:middle\" x=\"0\" y=\"-60.0\"></text></g></g></g></svg><div class=\"toyplot-interactive\"><script>\n",
       "        (function()\n",
       "        {\n",
       "            function _sign(x)\n",
       "            {\n",
       "                return x < 0 ? -1 : x > 0 ? 1 : 0;\n",
       "            }\n",
       "\n",
       "            function _mix(a, b, amount)\n",
       "            {\n",
       "                return ((1.0 - amount) * a) + (amount * b);\n",
       "            }\n",
       "\n",
       "            function _log(x, base)\n",
       "            {\n",
       "                return Math.log(Math.abs(x)) / Math.log(base);\n",
       "            }\n",
       "\n",
       "            function _in_range(a, x, b)\n",
       "            {\n",
       "                var left = Math.min(a, b);\n",
       "                var right = Math.max(a, b);\n",
       "                return left <= x && x <= right;\n",
       "            }\n",
       "\n",
       "            function inside(range, projection)\n",
       "            {\n",
       "                for(var i = 0; i != projection.length; ++i)\n",
       "                {\n",
       "                    var segment = projection[i];\n",
       "                    if(_in_range(segment.range.min, range, segment.range.max))\n",
       "                        return true;\n",
       "                }\n",
       "                return false;\n",
       "            }\n",
       "\n",
       "            function to_domain(range, projection)\n",
       "            {\n",
       "                for(var i = 0; i != projection.length; ++i)\n",
       "                {\n",
       "                    var segment = projection[i];\n",
       "                    if(_in_range(segment.range.bounds.min, range, segment.range.bounds.max))\n",
       "                    {\n",
       "                        if(segment.scale == \"linear\")\n",
       "                        {\n",
       "                            var amount = (range - segment.range.min) / (segment.range.max - segment.range.min);\n",
       "                            return _mix(segment.domain.min, segment.domain.max, amount)\n",
       "                        }\n",
       "                        else if(segment.scale[0] == \"log\")\n",
       "                        {\n",
       "                            var amount = (range - segment.range.min) / (segment.range.max - segment.range.min);\n",
       "                            var base = segment.scale[1];\n",
       "                            return _sign(segment.domain.min) * Math.pow(base, _mix(_log(segment.domain.min, base), _log(segment.domain.max, base), amount));\n",
       "                        }\n",
       "                    }\n",
       "                }\n",
       "            }\n",
       "\n",
       "            function display_coordinates(e)\n",
       "            {\n",
       "                var current = svg.createSVGPoint();\n",
       "                current.x = e.clientX;\n",
       "                current.y = e.clientY;\n",
       "\n",
       "                for(var axis_id in axes)\n",
       "                {\n",
       "                    var axis = document.querySelector(\"#\" + axis_id);\n",
       "                    var coordinates = axis.querySelector(\".toyplot-coordinates-Axis-coordinates\");\n",
       "                    if(coordinates)\n",
       "                    {\n",
       "                        var projection = axes[axis_id];\n",
       "                        var local = current.matrixTransform(axis.getScreenCTM().inverse());\n",
       "                        if(inside(local.x, projection))\n",
       "                        {\n",
       "                            var domain = to_domain(local.x, projection);\n",
       "                            coordinates.style.visibility = \"visible\";\n",
       "                            coordinates.setAttribute(\"transform\", \"translate(\" + local.x + \")\");\n",
       "                            var text = coordinates.querySelector(\"text\");\n",
       "                            text.textContent = domain.toFixed(2);\n",
       "                        }\n",
       "                        else\n",
       "                        {\n",
       "                            coordinates.style.visibility= \"hidden\";\n",
       "                        }\n",
       "                    }\n",
       "                }\n",
       "            }\n",
       "\n",
       "            var root_id = \"t29478b032d2b4b5eac297efa3b1ce0e0\";\n",
       "            var axes = {\"t367b0e08b1684f16ba71173721f53a4f\": [{\"domain\": {\"bounds\": {\"max\": Infinity, \"min\": -Infinity}, \"max\": 1.0, \"min\": 0.0}, \"range\": {\"bounds\": {\"max\": Infinity, \"min\": -Infinity}, \"max\": 480.0, \"min\": 0.0}, \"scale\": \"linear\"}]};\n",
       "\n",
       "            var svg = document.querySelector(\"#\" + root_id + \" svg\");\n",
       "            svg.addEventListener(\"click\", display_coordinates);\n",
       "        })();\n",
       "        </script></div></div>"
      ]
     },
     "metadata": {},
     "output_type": "display_data"
    }
   ],
   "source": [
    "canvas = toyplot.Canvas()\n",
    "numberline = canvas.color_scale(x1=\"50%\", x2=\"50%\", y1=\"-10%\", y2=\"10%\", colormap=colormap)\n",
    "numberline.axis.ticks.labels.angle=-90\n",
    "numberline.axis.ticks.show = True\n",
    "numberline.axis.ticks.locator = locator\n",
    "numberline.axis.ticks.labels.style = {\"font-size\":\"16px\"}\n",
    "\n",
    "numberline.axis.ticks.labels.style = {\"baseline-shift\":\"10px\"}\n",
    "numberline.axis.ticks.labels.style = {\"text-anchor\":\"middle\"}\n",
    "numberline.axis.ticks.labels.offset = 60"
   ]
  }
 ],
 "metadata": {
  "anaconda-cloud": {},
  "kernelspec": {
   "display_name": "Python [default]",
   "language": "python",
   "name": "python2"
  },
  "language_info": {
   "codemirror_mode": {
    "name": "ipython",
    "version": 2
   },
   "file_extension": ".py",
   "mimetype": "text/x-python",
   "name": "python",
   "nbconvert_exporter": "python",
   "pygments_lexer": "ipython2",
   "version": "2.7.12"
  }
 },
 "nbformat": 4,
 "nbformat_minor": 0
}
